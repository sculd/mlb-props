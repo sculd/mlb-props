{
 "cells": [
  {
   "cell_type": "markdown",
   "metadata": {
    "id": "X1V_SUC4p-YQ"
   },
   "source": [
    "**Import Packages**"
   ]
  },
  {
   "cell_type": "code",
   "execution_count": 6,
   "metadata": {
    "colab": {
     "base_uri": "https://localhost:8080/"
    },
    "execution": {
     "iopub.execute_input": "2023-07-08T04:06:43.869490Z",
     "iopub.status.busy": "2023-07-08T04:06:43.869289Z",
     "iopub.status.idle": "2023-07-08T04:06:43.874151Z",
     "shell.execute_reply": "2023-07-08T04:06:43.872758Z",
     "shell.execute_reply.started": "2023-07-08T04:06:43.869477Z"
    },
    "id": "IGZCa25_p5QY",
    "outputId": "d9e7f9d8-21e8-49dd-d344-173324ba79a5",
    "tags": []
   },
   "outputs": [],
   "source": [
    "import pycaret\n",
    "import pandas as pd\n",
    "import numpy as np\n",
    "import sqlalchemy\n",
    "import mysql.connector\n",
    "\n",
    "from pycaret import classification\n",
    "from pycaret.classification import plot_model\n",
    "from datetime import datetime\n",
    "import importlib\n",
    "import model.common"
   ]
  },
  {
   "cell_type": "code",
   "execution_count": 7,
   "metadata": {
    "execution": {
     "iopub.execute_input": "2023-07-08T04:06:43.877522Z",
     "iopub.status.busy": "2023-07-08T04:06:43.877285Z",
     "iopub.status.idle": "2023-07-08T04:06:43.891423Z",
     "shell.execute_reply": "2023-07-08T04:06:43.890700Z",
     "shell.execute_reply.started": "2023-07-08T04:06:43.877507Z"
    }
   },
   "outputs": [],
   "source": [
    "from static_data.load_static_data import *"
   ]
  },
  {
   "cell_type": "markdown",
   "metadata": {
    "id": "jqde2RQfqchC"
   },
   "source": [
    "**Load Data**"
   ]
  },
  {
   "cell_type": "code",
   "execution_count": 8,
   "metadata": {
    "execution": {
     "iopub.execute_input": "2023-07-08T04:06:43.892498Z",
     "iopub.status.busy": "2023-07-08T04:06:43.892178Z",
     "iopub.status.idle": "2023-07-08T04:06:44.661891Z",
     "shell.execute_reply": "2023-07-08T04:06:44.660074Z",
     "shell.execute_reply.started": "2023-07-08T04:06:43.892480Z"
    }
   },
   "outputs": [
    {
     "name": "stdout",
     "output_type": "stream",
     "text": [
      "325647\n"
     ]
    }
   ],
   "source": [
    "collect_data_Base_dir = 'collect_data'\n",
    "df_game_matchup_total = pd.read_pickle(f'{collect_data_Base_dir}/df_game_matchup_total.pkl')\n",
    "print(len(df_game_matchup_total))"
   ]
  },
  {
   "cell_type": "markdown",
   "metadata": {
    "id": "VkSM5TOeule8"
   },
   "source": [
    "**Choose Columns**"
   ]
  },
  {
   "cell_type": "code",
   "execution_count": 9,
   "metadata": {
    "execution": {
     "iopub.execute_input": "2023-07-08T04:06:44.664398Z",
     "iopub.status.busy": "2023-07-08T04:06:44.663766Z",
     "iopub.status.idle": "2023-07-08T04:06:44.678947Z",
     "shell.execute_reply": "2023-07-08T04:06:44.677133Z",
     "shell.execute_reply.started": "2023-07-08T04:06:44.664333Z"
    }
   },
   "outputs": [
    {
     "data": {
      "text/plain": [
       "<module 'model.common' from '/home/junlim/projects/mlb-props/model/common.py'>"
      ]
     },
     "execution_count": 9,
     "metadata": {},
     "output_type": "execute_result"
    }
   ],
   "source": [
    "importlib.reload(model.common)"
   ]
  },
  {
   "cell_type": "code",
   "execution_count": 10,
   "metadata": {
    "execution": {
     "iopub.execute_input": "2023-07-08T04:06:44.685180Z",
     "iopub.status.busy": "2023-07-08T04:06:44.683550Z",
     "iopub.status.idle": "2023-07-08T04:06:44.705947Z",
     "shell.execute_reply": "2023-07-08T04:06:44.704791Z",
     "shell.execute_reply.started": "2023-07-08T04:06:44.685106Z"
    }
   },
   "outputs": [],
   "source": [
    "feature_columns, target_column, model_file_name = model.common.features_1homeruns_recorded, model.common.target_1homeruns_recorded, model.common.model_1homeruns_file_name"
   ]
  },
  {
   "cell_type": "code",
   "execution_count": 11,
   "metadata": {
    "execution": {
     "iopub.execute_input": "2023-07-08T04:06:44.708334Z",
     "iopub.status.busy": "2023-07-08T04:06:44.707895Z",
     "iopub.status.idle": "2023-07-08T04:06:45.425971Z",
     "shell.execute_reply": "2023-07-08T04:06:45.423505Z",
     "shell.execute_reply.started": "2023-07-08T04:06:44.708302Z"
    }
   },
   "outputs": [],
   "source": [
    "train_data = df_game_matchup_total[(df_game_matchup_total.game_date > \"2012-04-01\") & (df_game_matchup_total.game_date < \"2022-12-01\")][feature_columns]\n",
    "test_data = df_game_matchup_total[(df_game_matchup_total.game_date > \"2022-12-01\")][feature_columns]"
   ]
  },
  {
   "cell_type": "code",
   "execution_count": null,
   "metadata": {},
   "outputs": [],
   "source": []
  },
  {
   "cell_type": "markdown",
   "metadata": {
    "id": "Qxoqal-SvwXp"
   },
   "source": [
    "**Build/Train Model**"
   ]
  },
  {
   "cell_type": "code",
   "execution_count": 12,
   "metadata": {
    "execution": {
     "iopub.execute_input": "2023-07-08T04:06:45.428081Z",
     "iopub.status.busy": "2023-07-08T04:06:45.427347Z",
     "iopub.status.idle": "2023-07-08T04:14:24.954311Z",
     "shell.execute_reply": "2023-07-08T04:14:24.953207Z",
     "shell.execute_reply.started": "2023-07-08T04:06:45.428024Z"
    },
    "scrolled": true
   },
   "outputs": [
    {
     "data": {
      "text/html": [
       "<style type=\"text/css\">\n",
       "#T_65740_row11_col1 {\n",
       "  background-color: lightgreen;\n",
       "}\n",
       "</style>\n",
       "<table id=\"T_65740\">\n",
       "  <thead>\n",
       "    <tr>\n",
       "      <th class=\"blank level0\" >&nbsp;</th>\n",
       "      <th id=\"T_65740_level0_col0\" class=\"col_heading level0 col0\" >Description</th>\n",
       "      <th id=\"T_65740_level0_col1\" class=\"col_heading level0 col1\" >Value</th>\n",
       "    </tr>\n",
       "  </thead>\n",
       "  <tbody>\n",
       "    <tr>\n",
       "      <th id=\"T_65740_level0_row0\" class=\"row_heading level0 row0\" >0</th>\n",
       "      <td id=\"T_65740_row0_col0\" class=\"data row0 col0\" >Session id</td>\n",
       "      <td id=\"T_65740_row0_col1\" class=\"data row0 col1\" >5437</td>\n",
       "    </tr>\n",
       "    <tr>\n",
       "      <th id=\"T_65740_level0_row1\" class=\"row_heading level0 row1\" >1</th>\n",
       "      <td id=\"T_65740_row1_col0\" class=\"data row1 col0\" >Target</td>\n",
       "      <td id=\"T_65740_row1_col1\" class=\"data row1 col1\" >batting_1homeRuns_recorded</td>\n",
       "    </tr>\n",
       "    <tr>\n",
       "      <th id=\"T_65740_level0_row2\" class=\"row_heading level0 row2\" >2</th>\n",
       "      <td id=\"T_65740_row2_col0\" class=\"data row2 col0\" >Target type</td>\n",
       "      <td id=\"T_65740_row2_col1\" class=\"data row2 col1\" >Binary</td>\n",
       "    </tr>\n",
       "    <tr>\n",
       "      <th id=\"T_65740_level0_row3\" class=\"row_heading level0 row3\" >3</th>\n",
       "      <td id=\"T_65740_row3_col0\" class=\"data row3 col0\" >Original data shape</td>\n",
       "      <td id=\"T_65740_row3_col1\" class=\"data row3 col1\" >(285090, 21)</td>\n",
       "    </tr>\n",
       "    <tr>\n",
       "      <th id=\"T_65740_level0_row4\" class=\"row_heading level0 row4\" >4</th>\n",
       "      <td id=\"T_65740_row4_col0\" class=\"data row4 col0\" >Transformed data shape</td>\n",
       "      <td id=\"T_65740_row4_col1\" class=\"data row4 col1\" >(285090, 15)</td>\n",
       "    </tr>\n",
       "    <tr>\n",
       "      <th id=\"T_65740_level0_row5\" class=\"row_heading level0 row5\" >5</th>\n",
       "      <td id=\"T_65740_row5_col0\" class=\"data row5 col0\" >Transformed train set shape</td>\n",
       "      <td id=\"T_65740_row5_col1\" class=\"data row5 col1\" >(199563, 15)</td>\n",
       "    </tr>\n",
       "    <tr>\n",
       "      <th id=\"T_65740_level0_row6\" class=\"row_heading level0 row6\" >6</th>\n",
       "      <td id=\"T_65740_row6_col0\" class=\"data row6 col0\" >Transformed test set shape</td>\n",
       "      <td id=\"T_65740_row6_col1\" class=\"data row6 col1\" >(85527, 15)</td>\n",
       "    </tr>\n",
       "    <tr>\n",
       "      <th id=\"T_65740_level0_row7\" class=\"row_heading level0 row7\" >7</th>\n",
       "      <td id=\"T_65740_row7_col0\" class=\"data row7 col0\" >Ignore features</td>\n",
       "      <td id=\"T_65740_row7_col1\" class=\"data row7 col1\" >6</td>\n",
       "    </tr>\n",
       "    <tr>\n",
       "      <th id=\"T_65740_level0_row8\" class=\"row_heading level0 row8\" >8</th>\n",
       "      <td id=\"T_65740_row8_col0\" class=\"data row8 col0\" >Numeric features</td>\n",
       "      <td id=\"T_65740_row8_col1\" class=\"data row8 col1\" >13</td>\n",
       "    </tr>\n",
       "    <tr>\n",
       "      <th id=\"T_65740_level0_row9\" class=\"row_heading level0 row9\" >9</th>\n",
       "      <td id=\"T_65740_row9_col0\" class=\"data row9 col0\" >Categorical features</td>\n",
       "      <td id=\"T_65740_row9_col1\" class=\"data row9 col1\" >1</td>\n",
       "    </tr>\n",
       "    <tr>\n",
       "      <th id=\"T_65740_level0_row10\" class=\"row_heading level0 row10\" >10</th>\n",
       "      <td id=\"T_65740_row10_col0\" class=\"data row10 col0\" >Rows with missing values</td>\n",
       "      <td id=\"T_65740_row10_col1\" class=\"data row10 col1\" >0.0%</td>\n",
       "    </tr>\n",
       "    <tr>\n",
       "      <th id=\"T_65740_level0_row11\" class=\"row_heading level0 row11\" >11</th>\n",
       "      <td id=\"T_65740_row11_col0\" class=\"data row11 col0\" >Preprocess</td>\n",
       "      <td id=\"T_65740_row11_col1\" class=\"data row11 col1\" >True</td>\n",
       "    </tr>\n",
       "    <tr>\n",
       "      <th id=\"T_65740_level0_row12\" class=\"row_heading level0 row12\" >12</th>\n",
       "      <td id=\"T_65740_row12_col0\" class=\"data row12 col0\" >Imputation type</td>\n",
       "      <td id=\"T_65740_row12_col1\" class=\"data row12 col1\" >simple</td>\n",
       "    </tr>\n",
       "    <tr>\n",
       "      <th id=\"T_65740_level0_row13\" class=\"row_heading level0 row13\" >13</th>\n",
       "      <td id=\"T_65740_row13_col0\" class=\"data row13 col0\" >Numeric imputation</td>\n",
       "      <td id=\"T_65740_row13_col1\" class=\"data row13 col1\" >mean</td>\n",
       "    </tr>\n",
       "    <tr>\n",
       "      <th id=\"T_65740_level0_row14\" class=\"row_heading level0 row14\" >14</th>\n",
       "      <td id=\"T_65740_row14_col0\" class=\"data row14 col0\" >Categorical imputation</td>\n",
       "      <td id=\"T_65740_row14_col1\" class=\"data row14 col1\" >mode</td>\n",
       "    </tr>\n",
       "    <tr>\n",
       "      <th id=\"T_65740_level0_row15\" class=\"row_heading level0 row15\" >15</th>\n",
       "      <td id=\"T_65740_row15_col0\" class=\"data row15 col0\" >Maximum one-hot encoding</td>\n",
       "      <td id=\"T_65740_row15_col1\" class=\"data row15 col1\" >25</td>\n",
       "    </tr>\n",
       "    <tr>\n",
       "      <th id=\"T_65740_level0_row16\" class=\"row_heading level0 row16\" >16</th>\n",
       "      <td id=\"T_65740_row16_col0\" class=\"data row16 col0\" >Encoding method</td>\n",
       "      <td id=\"T_65740_row16_col1\" class=\"data row16 col1\" >None</td>\n",
       "    </tr>\n",
       "    <tr>\n",
       "      <th id=\"T_65740_level0_row17\" class=\"row_heading level0 row17\" >17</th>\n",
       "      <td id=\"T_65740_row17_col0\" class=\"data row17 col0\" >Fold Generator</td>\n",
       "      <td id=\"T_65740_row17_col1\" class=\"data row17 col1\" >StratifiedKFold</td>\n",
       "    </tr>\n",
       "    <tr>\n",
       "      <th id=\"T_65740_level0_row18\" class=\"row_heading level0 row18\" >18</th>\n",
       "      <td id=\"T_65740_row18_col0\" class=\"data row18 col0\" >Fold Number</td>\n",
       "      <td id=\"T_65740_row18_col1\" class=\"data row18 col1\" >10</td>\n",
       "    </tr>\n",
       "    <tr>\n",
       "      <th id=\"T_65740_level0_row19\" class=\"row_heading level0 row19\" >19</th>\n",
       "      <td id=\"T_65740_row19_col0\" class=\"data row19 col0\" >CPU Jobs</td>\n",
       "      <td id=\"T_65740_row19_col1\" class=\"data row19 col1\" >-1</td>\n",
       "    </tr>\n",
       "    <tr>\n",
       "      <th id=\"T_65740_level0_row20\" class=\"row_heading level0 row20\" >20</th>\n",
       "      <td id=\"T_65740_row20_col0\" class=\"data row20 col0\" >Use GPU</td>\n",
       "      <td id=\"T_65740_row20_col1\" class=\"data row20 col1\" >False</td>\n",
       "    </tr>\n",
       "    <tr>\n",
       "      <th id=\"T_65740_level0_row21\" class=\"row_heading level0 row21\" >21</th>\n",
       "      <td id=\"T_65740_row21_col0\" class=\"data row21 col0\" >Log Experiment</td>\n",
       "      <td id=\"T_65740_row21_col1\" class=\"data row21 col1\" >False</td>\n",
       "    </tr>\n",
       "    <tr>\n",
       "      <th id=\"T_65740_level0_row22\" class=\"row_heading level0 row22\" >22</th>\n",
       "      <td id=\"T_65740_row22_col0\" class=\"data row22 col0\" >Experiment Name</td>\n",
       "      <td id=\"T_65740_row22_col1\" class=\"data row22 col1\" >clf-default-name</td>\n",
       "    </tr>\n",
       "    <tr>\n",
       "      <th id=\"T_65740_level0_row23\" class=\"row_heading level0 row23\" >23</th>\n",
       "      <td id=\"T_65740_row23_col0\" class=\"data row23 col0\" >USI</td>\n",
       "      <td id=\"T_65740_row23_col1\" class=\"data row23 col1\" >cb1d</td>\n",
       "    </tr>\n",
       "  </tbody>\n",
       "</table>\n"
      ],
      "text/plain": [
       "<pandas.io.formats.style.Styler at 0x7f8c004a4250>"
      ]
     },
     "metadata": {},
     "output_type": "display_data"
    },
    {
     "data": {
      "text/html": [],
      "text/plain": [
       "<IPython.core.display.HTML object>"
      ]
     },
     "metadata": {},
     "output_type": "display_data"
    },
    {
     "data": {
      "text/html": [
       "<style type=\"text/css\">\n",
       "#T_a87b8_row10_col0, #T_a87b8_row10_col1, #T_a87b8_row10_col2, #T_a87b8_row10_col3, #T_a87b8_row10_col4, #T_a87b8_row10_col5, #T_a87b8_row10_col6 {\n",
       "  background: yellow;\n",
       "}\n",
       "</style>\n",
       "<table id=\"T_a87b8\">\n",
       "  <thead>\n",
       "    <tr>\n",
       "      <th class=\"blank level0\" >&nbsp;</th>\n",
       "      <th id=\"T_a87b8_level0_col0\" class=\"col_heading level0 col0\" >Accuracy</th>\n",
       "      <th id=\"T_a87b8_level0_col1\" class=\"col_heading level0 col1\" >AUC</th>\n",
       "      <th id=\"T_a87b8_level0_col2\" class=\"col_heading level0 col2\" >Recall</th>\n",
       "      <th id=\"T_a87b8_level0_col3\" class=\"col_heading level0 col3\" >Prec.</th>\n",
       "      <th id=\"T_a87b8_level0_col4\" class=\"col_heading level0 col4\" >F1</th>\n",
       "      <th id=\"T_a87b8_level0_col5\" class=\"col_heading level0 col5\" >Kappa</th>\n",
       "      <th id=\"T_a87b8_level0_col6\" class=\"col_heading level0 col6\" >MCC</th>\n",
       "    </tr>\n",
       "    <tr>\n",
       "      <th class=\"index_name level0\" >Fold</th>\n",
       "      <th class=\"blank col0\" >&nbsp;</th>\n",
       "      <th class=\"blank col1\" >&nbsp;</th>\n",
       "      <th class=\"blank col2\" >&nbsp;</th>\n",
       "      <th class=\"blank col3\" >&nbsp;</th>\n",
       "      <th class=\"blank col4\" >&nbsp;</th>\n",
       "      <th class=\"blank col5\" >&nbsp;</th>\n",
       "      <th class=\"blank col6\" >&nbsp;</th>\n",
       "    </tr>\n",
       "  </thead>\n",
       "  <tbody>\n",
       "    <tr>\n",
       "      <th id=\"T_a87b8_level0_row0\" class=\"row_heading level0 row0\" >0</th>\n",
       "      <td id=\"T_a87b8_row0_col0\" class=\"data row0 col0\" >0.8930</td>\n",
       "      <td id=\"T_a87b8_row0_col1\" class=\"data row0 col1\" >0.6510</td>\n",
       "      <td id=\"T_a87b8_row0_col2\" class=\"data row0 col2\" >0.0000</td>\n",
       "      <td id=\"T_a87b8_row0_col3\" class=\"data row0 col3\" >0.0000</td>\n",
       "      <td id=\"T_a87b8_row0_col4\" class=\"data row0 col4\" >0.0000</td>\n",
       "      <td id=\"T_a87b8_row0_col5\" class=\"data row0 col5\" >0.0000</td>\n",
       "      <td id=\"T_a87b8_row0_col6\" class=\"data row0 col6\" >0.0000</td>\n",
       "    </tr>\n",
       "    <tr>\n",
       "      <th id=\"T_a87b8_level0_row1\" class=\"row_heading level0 row1\" >1</th>\n",
       "      <td id=\"T_a87b8_row1_col0\" class=\"data row1 col0\" >0.8930</td>\n",
       "      <td id=\"T_a87b8_row1_col1\" class=\"data row1 col1\" >0.6488</td>\n",
       "      <td id=\"T_a87b8_row1_col2\" class=\"data row1 col2\" >0.0000</td>\n",
       "      <td id=\"T_a87b8_row1_col3\" class=\"data row1 col3\" >0.0000</td>\n",
       "      <td id=\"T_a87b8_row1_col4\" class=\"data row1 col4\" >0.0000</td>\n",
       "      <td id=\"T_a87b8_row1_col5\" class=\"data row1 col5\" >0.0000</td>\n",
       "      <td id=\"T_a87b8_row1_col6\" class=\"data row1 col6\" >0.0000</td>\n",
       "    </tr>\n",
       "    <tr>\n",
       "      <th id=\"T_a87b8_level0_row2\" class=\"row_heading level0 row2\" >2</th>\n",
       "      <td id=\"T_a87b8_row2_col0\" class=\"data row2 col0\" >0.8930</td>\n",
       "      <td id=\"T_a87b8_row2_col1\" class=\"data row2 col1\" >0.6416</td>\n",
       "      <td id=\"T_a87b8_row2_col2\" class=\"data row2 col2\" >0.0000</td>\n",
       "      <td id=\"T_a87b8_row2_col3\" class=\"data row2 col3\" >0.0000</td>\n",
       "      <td id=\"T_a87b8_row2_col4\" class=\"data row2 col4\" >0.0000</td>\n",
       "      <td id=\"T_a87b8_row2_col5\" class=\"data row2 col5\" >0.0000</td>\n",
       "      <td id=\"T_a87b8_row2_col6\" class=\"data row2 col6\" >0.0000</td>\n",
       "    </tr>\n",
       "    <tr>\n",
       "      <th id=\"T_a87b8_level0_row3\" class=\"row_heading level0 row3\" >3</th>\n",
       "      <td id=\"T_a87b8_row3_col0\" class=\"data row3 col0\" >0.8930</td>\n",
       "      <td id=\"T_a87b8_row3_col1\" class=\"data row3 col1\" >0.6420</td>\n",
       "      <td id=\"T_a87b8_row3_col2\" class=\"data row3 col2\" >0.0000</td>\n",
       "      <td id=\"T_a87b8_row3_col3\" class=\"data row3 col3\" >0.0000</td>\n",
       "      <td id=\"T_a87b8_row3_col4\" class=\"data row3 col4\" >0.0000</td>\n",
       "      <td id=\"T_a87b8_row3_col5\" class=\"data row3 col5\" >-0.0001</td>\n",
       "      <td id=\"T_a87b8_row3_col6\" class=\"data row3 col6\" >-0.0025</td>\n",
       "    </tr>\n",
       "    <tr>\n",
       "      <th id=\"T_a87b8_level0_row4\" class=\"row_heading level0 row4\" >4</th>\n",
       "      <td id=\"T_a87b8_row4_col0\" class=\"data row4 col0\" >0.8930</td>\n",
       "      <td id=\"T_a87b8_row4_col1\" class=\"data row4 col1\" >0.6573</td>\n",
       "      <td id=\"T_a87b8_row4_col2\" class=\"data row4 col2\" >0.0000</td>\n",
       "      <td id=\"T_a87b8_row4_col3\" class=\"data row4 col3\" >0.0000</td>\n",
       "      <td id=\"T_a87b8_row4_col4\" class=\"data row4 col4\" >0.0000</td>\n",
       "      <td id=\"T_a87b8_row4_col5\" class=\"data row4 col5\" >0.0000</td>\n",
       "      <td id=\"T_a87b8_row4_col6\" class=\"data row4 col6\" >0.0000</td>\n",
       "    </tr>\n",
       "    <tr>\n",
       "      <th id=\"T_a87b8_level0_row5\" class=\"row_heading level0 row5\" >5</th>\n",
       "      <td id=\"T_a87b8_row5_col0\" class=\"data row5 col0\" >0.8930</td>\n",
       "      <td id=\"T_a87b8_row5_col1\" class=\"data row5 col1\" >0.6537</td>\n",
       "      <td id=\"T_a87b8_row5_col2\" class=\"data row5 col2\" >0.0000</td>\n",
       "      <td id=\"T_a87b8_row5_col3\" class=\"data row5 col3\" >0.0000</td>\n",
       "      <td id=\"T_a87b8_row5_col4\" class=\"data row5 col4\" >0.0000</td>\n",
       "      <td id=\"T_a87b8_row5_col5\" class=\"data row5 col5\" >0.0000</td>\n",
       "      <td id=\"T_a87b8_row5_col6\" class=\"data row5 col6\" >0.0000</td>\n",
       "    </tr>\n",
       "    <tr>\n",
       "      <th id=\"T_a87b8_level0_row6\" class=\"row_heading level0 row6\" >6</th>\n",
       "      <td id=\"T_a87b8_row6_col0\" class=\"data row6 col0\" >0.8930</td>\n",
       "      <td id=\"T_a87b8_row6_col1\" class=\"data row6 col1\" >0.6452</td>\n",
       "      <td id=\"T_a87b8_row6_col2\" class=\"data row6 col2\" >0.0000</td>\n",
       "      <td id=\"T_a87b8_row6_col3\" class=\"data row6 col3\" >0.0000</td>\n",
       "      <td id=\"T_a87b8_row6_col4\" class=\"data row6 col4\" >0.0000</td>\n",
       "      <td id=\"T_a87b8_row6_col5\" class=\"data row6 col5\" >0.0000</td>\n",
       "      <td id=\"T_a87b8_row6_col6\" class=\"data row6 col6\" >0.0000</td>\n",
       "    </tr>\n",
       "    <tr>\n",
       "      <th id=\"T_a87b8_level0_row7\" class=\"row_heading level0 row7\" >7</th>\n",
       "      <td id=\"T_a87b8_row7_col0\" class=\"data row7 col0\" >0.8930</td>\n",
       "      <td id=\"T_a87b8_row7_col1\" class=\"data row7 col1\" >0.6400</td>\n",
       "      <td id=\"T_a87b8_row7_col2\" class=\"data row7 col2\" >0.0000</td>\n",
       "      <td id=\"T_a87b8_row7_col3\" class=\"data row7 col3\" >0.0000</td>\n",
       "      <td id=\"T_a87b8_row7_col4\" class=\"data row7 col4\" >0.0000</td>\n",
       "      <td id=\"T_a87b8_row7_col5\" class=\"data row7 col5\" >0.0000</td>\n",
       "      <td id=\"T_a87b8_row7_col6\" class=\"data row7 col6\" >0.0000</td>\n",
       "    </tr>\n",
       "    <tr>\n",
       "      <th id=\"T_a87b8_level0_row8\" class=\"row_heading level0 row8\" >8</th>\n",
       "      <td id=\"T_a87b8_row8_col0\" class=\"data row8 col0\" >0.8930</td>\n",
       "      <td id=\"T_a87b8_row8_col1\" class=\"data row8 col1\" >0.6528</td>\n",
       "      <td id=\"T_a87b8_row8_col2\" class=\"data row8 col2\" >0.0000</td>\n",
       "      <td id=\"T_a87b8_row8_col3\" class=\"data row8 col3\" >0.0000</td>\n",
       "      <td id=\"T_a87b8_row8_col4\" class=\"data row8 col4\" >0.0000</td>\n",
       "      <td id=\"T_a87b8_row8_col5\" class=\"data row8 col5\" >0.0000</td>\n",
       "      <td id=\"T_a87b8_row8_col6\" class=\"data row8 col6\" >0.0000</td>\n",
       "    </tr>\n",
       "    <tr>\n",
       "      <th id=\"T_a87b8_level0_row9\" class=\"row_heading level0 row9\" >9</th>\n",
       "      <td id=\"T_a87b8_row9_col0\" class=\"data row9 col0\" >0.8930</td>\n",
       "      <td id=\"T_a87b8_row9_col1\" class=\"data row9 col1\" >0.6419</td>\n",
       "      <td id=\"T_a87b8_row9_col2\" class=\"data row9 col2\" >0.0000</td>\n",
       "      <td id=\"T_a87b8_row9_col3\" class=\"data row9 col3\" >0.0000</td>\n",
       "      <td id=\"T_a87b8_row9_col4\" class=\"data row9 col4\" >0.0000</td>\n",
       "      <td id=\"T_a87b8_row9_col5\" class=\"data row9 col5\" >0.0000</td>\n",
       "      <td id=\"T_a87b8_row9_col6\" class=\"data row9 col6\" >0.0000</td>\n",
       "    </tr>\n",
       "    <tr>\n",
       "      <th id=\"T_a87b8_level0_row10\" class=\"row_heading level0 row10\" >Mean</th>\n",
       "      <td id=\"T_a87b8_row10_col0\" class=\"data row10 col0\" >0.8930</td>\n",
       "      <td id=\"T_a87b8_row10_col1\" class=\"data row10 col1\" >0.6474</td>\n",
       "      <td id=\"T_a87b8_row10_col2\" class=\"data row10 col2\" >0.0000</td>\n",
       "      <td id=\"T_a87b8_row10_col3\" class=\"data row10 col3\" >0.0000</td>\n",
       "      <td id=\"T_a87b8_row10_col4\" class=\"data row10 col4\" >0.0000</td>\n",
       "      <td id=\"T_a87b8_row10_col5\" class=\"data row10 col5\" >-0.0000</td>\n",
       "      <td id=\"T_a87b8_row10_col6\" class=\"data row10 col6\" >-0.0002</td>\n",
       "    </tr>\n",
       "    <tr>\n",
       "      <th id=\"T_a87b8_level0_row11\" class=\"row_heading level0 row11\" >Std</th>\n",
       "      <td id=\"T_a87b8_row11_col0\" class=\"data row11 col0\" >0.0000</td>\n",
       "      <td id=\"T_a87b8_row11_col1\" class=\"data row11 col1\" >0.0058</td>\n",
       "      <td id=\"T_a87b8_row11_col2\" class=\"data row11 col2\" >0.0000</td>\n",
       "      <td id=\"T_a87b8_row11_col3\" class=\"data row11 col3\" >0.0000</td>\n",
       "      <td id=\"T_a87b8_row11_col4\" class=\"data row11 col4\" >0.0000</td>\n",
       "      <td id=\"T_a87b8_row11_col5\" class=\"data row11 col5\" >0.0000</td>\n",
       "      <td id=\"T_a87b8_row11_col6\" class=\"data row11 col6\" >0.0007</td>\n",
       "    </tr>\n",
       "  </tbody>\n",
       "</table>\n"
      ],
      "text/plain": [
       "<pandas.io.formats.style.Styler at 0x7f8c00402c50>"
      ]
     },
     "metadata": {},
     "output_type": "display_data"
    },
    {
     "data": {
      "text/html": [],
      "text/plain": [
       "<IPython.core.display.HTML object>"
      ]
     },
     "metadata": {},
     "output_type": "display_data"
    },
    {
     "data": {
      "text/html": [],
      "text/plain": [
       "<IPython.core.display.HTML object>"
      ]
     },
     "metadata": {},
     "output_type": "display_data"
    },
    {
     "data": {
      "image/png": "[encoded data removed]",
      "text/plain": [
       "<Figure size 480x330 with 1 Axes>"
      ]
     },
     "metadata": {},
     "output_type": "display_data"
    },
    {
     "data": {
      "text/html": [],
      "text/plain": [
       "<IPython.core.display.HTML object>"
      ]
     },
     "metadata": {},
     "output_type": "display_data"
    },
    {
     "data": {
      "text/html": [
       "<style type=\"text/css\">\n",
       "#T_3dded_row10_col0, #T_3dded_row10_col1, #T_3dded_row10_col2, #T_3dded_row10_col3, #T_3dded_row10_col4, #T_3dded_row10_col5, #T_3dded_row10_col6 {\n",
       "  background: yellow;\n",
       "}\n",
       "</style>\n",
       "<table id=\"T_3dded\">\n",
       "  <thead>\n",
       "    <tr>\n",
       "      <th class=\"blank level0\" >&nbsp;</th>\n",
       "      <th id=\"T_3dded_level0_col0\" class=\"col_heading level0 col0\" >Accuracy</th>\n",
       "      <th id=\"T_3dded_level0_col1\" class=\"col_heading level0 col1\" >AUC</th>\n",
       "      <th id=\"T_3dded_level0_col2\" class=\"col_heading level0 col2\" >Recall</th>\n",
       "      <th id=\"T_3dded_level0_col3\" class=\"col_heading level0 col3\" >Prec.</th>\n",
       "      <th id=\"T_3dded_level0_col4\" class=\"col_heading level0 col4\" >F1</th>\n",
       "      <th id=\"T_3dded_level0_col5\" class=\"col_heading level0 col5\" >Kappa</th>\n",
       "      <th id=\"T_3dded_level0_col6\" class=\"col_heading level0 col6\" >MCC</th>\n",
       "    </tr>\n",
       "    <tr>\n",
       "      <th class=\"index_name level0\" >Fold</th>\n",
       "      <th class=\"blank col0\" >&nbsp;</th>\n",
       "      <th class=\"blank col1\" >&nbsp;</th>\n",
       "      <th class=\"blank col2\" >&nbsp;</th>\n",
       "      <th class=\"blank col3\" >&nbsp;</th>\n",
       "      <th class=\"blank col4\" >&nbsp;</th>\n",
       "      <th class=\"blank col5\" >&nbsp;</th>\n",
       "      <th class=\"blank col6\" >&nbsp;</th>\n",
       "    </tr>\n",
       "  </thead>\n",
       "  <tbody>\n",
       "    <tr>\n",
       "      <th id=\"T_3dded_level0_row0\" class=\"row_heading level0 row0\" >0</th>\n",
       "      <td id=\"T_3dded_row0_col0\" class=\"data row0 col0\" >0.8930</td>\n",
       "      <td id=\"T_3dded_row0_col1\" class=\"data row0 col1\" >0.6609</td>\n",
       "      <td id=\"T_3dded_row0_col2\" class=\"data row0 col2\" >0.0005</td>\n",
       "      <td id=\"T_3dded_row0_col3\" class=\"data row0 col3\" >0.5000</td>\n",
       "      <td id=\"T_3dded_row0_col4\" class=\"data row0 col4\" >0.0009</td>\n",
       "      <td id=\"T_3dded_row0_col5\" class=\"data row0 col5\" >0.0007</td>\n",
       "      <td id=\"T_3dded_row0_col6\" class=\"data row0 col6\" >0.0127</td>\n",
       "    </tr>\n",
       "    <tr>\n",
       "      <th id=\"T_3dded_level0_row1\" class=\"row_heading level0 row1\" >1</th>\n",
       "      <td id=\"T_3dded_row1_col0\" class=\"data row1 col0\" >0.8929</td>\n",
       "      <td id=\"T_3dded_row1_col1\" class=\"data row1 col1\" >0.6541</td>\n",
       "      <td id=\"T_3dded_row1_col2\" class=\"data row1 col2\" >0.0000</td>\n",
       "      <td id=\"T_3dded_row1_col3\" class=\"data row1 col3\" >0.0000</td>\n",
       "      <td id=\"T_3dded_row1_col4\" class=\"data row1 col4\" >0.0000</td>\n",
       "      <td id=\"T_3dded_row1_col5\" class=\"data row1 col5\" >-0.0001</td>\n",
       "      <td id=\"T_3dded_row1_col6\" class=\"data row1 col6\" >-0.0025</td>\n",
       "    </tr>\n",
       "    <tr>\n",
       "      <th id=\"T_3dded_level0_row2\" class=\"row_heading level0 row2\" >2</th>\n",
       "      <td id=\"T_3dded_row2_col0\" class=\"data row2 col0\" >0.8930</td>\n",
       "      <td id=\"T_3dded_row2_col1\" class=\"data row2 col1\" >0.6508</td>\n",
       "      <td id=\"T_3dded_row2_col2\" class=\"data row2 col2\" >0.0009</td>\n",
       "      <td id=\"T_3dded_row2_col3\" class=\"data row2 col3\" >0.5000</td>\n",
       "      <td id=\"T_3dded_row2_col4\" class=\"data row2 col4\" >0.0019</td>\n",
       "      <td id=\"T_3dded_row2_col5\" class=\"data row2 col5\" >0.0015</td>\n",
       "      <td id=\"T_3dded_row2_col6\" class=\"data row2 col6\" >0.0180</td>\n",
       "    </tr>\n",
       "    <tr>\n",
       "      <th id=\"T_3dded_level0_row3\" class=\"row_heading level0 row3\" >3</th>\n",
       "      <td id=\"T_3dded_row3_col0\" class=\"data row3 col0\" >0.8930</td>\n",
       "      <td id=\"T_3dded_row3_col1\" class=\"data row3 col1\" >0.6475</td>\n",
       "      <td id=\"T_3dded_row3_col2\" class=\"data row3 col2\" >0.0009</td>\n",
       "      <td id=\"T_3dded_row3_col3\" class=\"data row3 col3\" >0.5000</td>\n",
       "      <td id=\"T_3dded_row3_col4\" class=\"data row3 col4\" >0.0019</td>\n",
       "      <td id=\"T_3dded_row3_col5\" class=\"data row3 col5\" >0.0015</td>\n",
       "      <td id=\"T_3dded_row3_col6\" class=\"data row3 col6\" >0.0180</td>\n",
       "    </tr>\n",
       "    <tr>\n",
       "      <th id=\"T_3dded_level0_row4\" class=\"row_heading level0 row4\" >4</th>\n",
       "      <td id=\"T_3dded_row4_col0\" class=\"data row4 col0\" >0.8931</td>\n",
       "      <td id=\"T_3dded_row4_col1\" class=\"data row4 col1\" >0.6589</td>\n",
       "      <td id=\"T_3dded_row4_col2\" class=\"data row4 col2\" >0.0014</td>\n",
       "      <td id=\"T_3dded_row4_col3\" class=\"data row4 col3\" >0.6000</td>\n",
       "      <td id=\"T_3dded_row4_col4\" class=\"data row4 col4\" >0.0028</td>\n",
       "      <td id=\"T_3dded_row4_col5\" class=\"data row4 col5\" >0.0023</td>\n",
       "      <td id=\"T_3dded_row4_col6\" class=\"data row4 col6\" >0.0253</td>\n",
       "    </tr>\n",
       "    <tr>\n",
       "      <th id=\"T_3dded_level0_row5\" class=\"row_heading level0 row5\" >5</th>\n",
       "      <td id=\"T_3dded_row5_col0\" class=\"data row5 col0\" >0.8930</td>\n",
       "      <td id=\"T_3dded_row5_col1\" class=\"data row5 col1\" >0.6604</td>\n",
       "      <td id=\"T_3dded_row5_col2\" class=\"data row5 col2\" >0.0009</td>\n",
       "      <td id=\"T_3dded_row5_col3\" class=\"data row5 col3\" >0.5000</td>\n",
       "      <td id=\"T_3dded_row5_col4\" class=\"data row5 col4\" >0.0019</td>\n",
       "      <td id=\"T_3dded_row5_col5\" class=\"data row5 col5\" >0.0015</td>\n",
       "      <td id=\"T_3dded_row5_col6\" class=\"data row5 col6\" >0.0180</td>\n",
       "    </tr>\n",
       "    <tr>\n",
       "      <th id=\"T_3dded_level0_row6\" class=\"row_heading level0 row6\" >6</th>\n",
       "      <td id=\"T_3dded_row6_col0\" class=\"data row6 col0\" >0.8930</td>\n",
       "      <td id=\"T_3dded_row6_col1\" class=\"data row6 col1\" >0.6534</td>\n",
       "      <td id=\"T_3dded_row6_col2\" class=\"data row6 col2\" >0.0000</td>\n",
       "      <td id=\"T_3dded_row6_col3\" class=\"data row6 col3\" >0.0000</td>\n",
       "      <td id=\"T_3dded_row6_col4\" class=\"data row6 col4\" >0.0000</td>\n",
       "      <td id=\"T_3dded_row6_col5\" class=\"data row6 col5\" >0.0000</td>\n",
       "      <td id=\"T_3dded_row6_col6\" class=\"data row6 col6\" >0.0000</td>\n",
       "    </tr>\n",
       "    <tr>\n",
       "      <th id=\"T_3dded_level0_row7\" class=\"row_heading level0 row7\" >7</th>\n",
       "      <td id=\"T_3dded_row7_col0\" class=\"data row7 col0\" >0.8930</td>\n",
       "      <td id=\"T_3dded_row7_col1\" class=\"data row7 col1\" >0.6475</td>\n",
       "      <td id=\"T_3dded_row7_col2\" class=\"data row7 col2\" >0.0005</td>\n",
       "      <td id=\"T_3dded_row7_col3\" class=\"data row7 col3\" >0.5000</td>\n",
       "      <td id=\"T_3dded_row7_col4\" class=\"data row7 col4\" >0.0009</td>\n",
       "      <td id=\"T_3dded_row7_col5\" class=\"data row7 col5\" >0.0007</td>\n",
       "      <td id=\"T_3dded_row7_col6\" class=\"data row7 col6\" >0.0127</td>\n",
       "    </tr>\n",
       "    <tr>\n",
       "      <th id=\"T_3dded_level0_row8\" class=\"row_heading level0 row8\" >8</th>\n",
       "      <td id=\"T_3dded_row8_col0\" class=\"data row8 col0\" >0.8930</td>\n",
       "      <td id=\"T_3dded_row8_col1\" class=\"data row8 col1\" >0.6631</td>\n",
       "      <td id=\"T_3dded_row8_col2\" class=\"data row8 col2\" >0.0009</td>\n",
       "      <td id=\"T_3dded_row8_col3\" class=\"data row8 col3\" >0.5000</td>\n",
       "      <td id=\"T_3dded_row8_col4\" class=\"data row8 col4\" >0.0019</td>\n",
       "      <td id=\"T_3dded_row8_col5\" class=\"data row8 col5\" >0.0015</td>\n",
       "      <td id=\"T_3dded_row8_col6\" class=\"data row8 col6\" >0.0180</td>\n",
       "    </tr>\n",
       "    <tr>\n",
       "      <th id=\"T_3dded_level0_row9\" class=\"row_heading level0 row9\" >9</th>\n",
       "      <td id=\"T_3dded_row9_col0\" class=\"data row9 col0\" >0.8931</td>\n",
       "      <td id=\"T_3dded_row9_col1\" class=\"data row9 col1\" >0.6487</td>\n",
       "      <td id=\"T_3dded_row9_col2\" class=\"data row9 col2\" >0.0014</td>\n",
       "      <td id=\"T_3dded_row9_col3\" class=\"data row9 col3\" >0.7500</td>\n",
       "      <td id=\"T_3dded_row9_col4\" class=\"data row9 col4\" >0.0028</td>\n",
       "      <td id=\"T_3dded_row9_col5\" class=\"data row9 col5\" >0.0024</td>\n",
       "      <td id=\"T_3dded_row9_col6\" class=\"data row9 col6\" >0.0294</td>\n",
       "    </tr>\n",
       "    <tr>\n",
       "      <th id=\"T_3dded_level0_row10\" class=\"row_heading level0 row10\" >Mean</th>\n",
       "      <td id=\"T_3dded_row10_col0\" class=\"data row10 col0\" >0.8930</td>\n",
       "      <td id=\"T_3dded_row10_col1\" class=\"data row10 col1\" >0.6545</td>\n",
       "      <td id=\"T_3dded_row10_col2\" class=\"data row10 col2\" >0.0007</td>\n",
       "      <td id=\"T_3dded_row10_col3\" class=\"data row10 col3\" >0.4350</td>\n",
       "      <td id=\"T_3dded_row10_col4\" class=\"data row10 col4\" >0.0015</td>\n",
       "      <td id=\"T_3dded_row10_col5\" class=\"data row10 col5\" >0.0012</td>\n",
       "      <td id=\"T_3dded_row10_col6\" class=\"data row10 col6\" >0.0150</td>\n",
       "    </tr>\n",
       "    <tr>\n",
       "      <th id=\"T_3dded_level0_row11\" class=\"row_heading level0 row11\" >Std</th>\n",
       "      <td id=\"T_3dded_row11_col0\" class=\"data row11 col0\" >0.0000</td>\n",
       "      <td id=\"T_3dded_row11_col1\" class=\"data row11 col1\" >0.0056</td>\n",
       "      <td id=\"T_3dded_row11_col2\" class=\"data row11 col2\" >0.0005</td>\n",
       "      <td id=\"T_3dded_row11_col3\" class=\"data row11 col3\" >0.2303</td>\n",
       "      <td id=\"T_3dded_row11_col4\" class=\"data row11 col4\" >0.0010</td>\n",
       "      <td id=\"T_3dded_row11_col5\" class=\"data row11 col5\" >0.0008</td>\n",
       "      <td id=\"T_3dded_row11_col6\" class=\"data row11 col6\" >0.0094</td>\n",
       "    </tr>\n",
       "  </tbody>\n",
       "</table>\n"
      ],
      "text/plain": [
       "<pandas.io.formats.style.Styler at 0x7f8c0058d870>"
      ]
     },
     "metadata": {},
     "output_type": "display_data"
    },
    {
     "data": {
      "text/html": [],
      "text/plain": [
       "<IPython.core.display.HTML object>"
      ]
     },
     "metadata": {},
     "output_type": "display_data"
    },
    {
     "data": {
      "text/html": [],
      "text/plain": [
       "<IPython.core.display.HTML object>"
      ]
     },
     "metadata": {},
     "output_type": "display_data"
    },
    {
     "data": {
      "image/png": "[encoded data removed]",
      "text/plain": [
       "<Figure size 480x330 with 1 Axes>"
      ]
     },
     "metadata": {},
     "output_type": "display_data"
    },
    {
     "data": {
      "text/html": [],
      "text/plain": [
       "<IPython.core.display.HTML object>"
      ]
     },
     "metadata": {},
     "output_type": "display_data"
    },
    {
     "data": {
      "text/html": [
       "<style type=\"text/css\">\n",
       "#T_b9e27_row10_col0, #T_b9e27_row10_col1, #T_b9e27_row10_col2, #T_b9e27_row10_col3, #T_b9e27_row10_col4, #T_b9e27_row10_col5, #T_b9e27_row10_col6 {\n",
       "  background: yellow;\n",
       "}\n",
       "</style>\n",
       "<table id=\"T_b9e27\">\n",
       "  <thead>\n",
       "    <tr>\n",
       "      <th class=\"blank level0\" >&nbsp;</th>\n",
       "      <th id=\"T_b9e27_level0_col0\" class=\"col_heading level0 col0\" >Accuracy</th>\n",
       "      <th id=\"T_b9e27_level0_col1\" class=\"col_heading level0 col1\" >AUC</th>\n",
       "      <th id=\"T_b9e27_level0_col2\" class=\"col_heading level0 col2\" >Recall</th>\n",
       "      <th id=\"T_b9e27_level0_col3\" class=\"col_heading level0 col3\" >Prec.</th>\n",
       "      <th id=\"T_b9e27_level0_col4\" class=\"col_heading level0 col4\" >F1</th>\n",
       "      <th id=\"T_b9e27_level0_col5\" class=\"col_heading level0 col5\" >Kappa</th>\n",
       "      <th id=\"T_b9e27_level0_col6\" class=\"col_heading level0 col6\" >MCC</th>\n",
       "    </tr>\n",
       "    <tr>\n",
       "      <th class=\"index_name level0\" >Fold</th>\n",
       "      <th class=\"blank col0\" >&nbsp;</th>\n",
       "      <th class=\"blank col1\" >&nbsp;</th>\n",
       "      <th class=\"blank col2\" >&nbsp;</th>\n",
       "      <th class=\"blank col3\" >&nbsp;</th>\n",
       "      <th class=\"blank col4\" >&nbsp;</th>\n",
       "      <th class=\"blank col5\" >&nbsp;</th>\n",
       "      <th class=\"blank col6\" >&nbsp;</th>\n",
       "    </tr>\n",
       "  </thead>\n",
       "  <tbody>\n",
       "    <tr>\n",
       "      <th id=\"T_b9e27_level0_row0\" class=\"row_heading level0 row0\" >0</th>\n",
       "      <td id=\"T_b9e27_row0_col0\" class=\"data row0 col0\" >0.8929</td>\n",
       "      <td id=\"T_b9e27_row0_col1\" class=\"data row0 col1\" >0.6589</td>\n",
       "      <td id=\"T_b9e27_row0_col2\" class=\"data row0 col2\" >0.0000</td>\n",
       "      <td id=\"T_b9e27_row0_col3\" class=\"data row0 col3\" >0.0000</td>\n",
       "      <td id=\"T_b9e27_row0_col4\" class=\"data row0 col4\" >0.0000</td>\n",
       "      <td id=\"T_b9e27_row0_col5\" class=\"data row0 col5\" >-0.0001</td>\n",
       "      <td id=\"T_b9e27_row0_col6\" class=\"data row0 col6\" >-0.0025</td>\n",
       "    </tr>\n",
       "    <tr>\n",
       "      <th id=\"T_b9e27_level0_row1\" class=\"row_heading level0 row1\" >1</th>\n",
       "      <td id=\"T_b9e27_row1_col0\" class=\"data row1 col0\" >0.8929</td>\n",
       "      <td id=\"T_b9e27_row1_col1\" class=\"data row1 col1\" >0.6518</td>\n",
       "      <td id=\"T_b9e27_row1_col2\" class=\"data row1 col2\" >0.0000</td>\n",
       "      <td id=\"T_b9e27_row1_col3\" class=\"data row1 col3\" >0.0000</td>\n",
       "      <td id=\"T_b9e27_row1_col4\" class=\"data row1 col4\" >0.0000</td>\n",
       "      <td id=\"T_b9e27_row1_col5\" class=\"data row1 col5\" >-0.0002</td>\n",
       "      <td id=\"T_b9e27_row1_col6\" class=\"data row1 col6\" >-0.0035</td>\n",
       "    </tr>\n",
       "    <tr>\n",
       "      <th id=\"T_b9e27_level0_row2\" class=\"row_heading level0 row2\" >2</th>\n",
       "      <td id=\"T_b9e27_row2_col0\" class=\"data row2 col0\" >0.8930</td>\n",
       "      <td id=\"T_b9e27_row2_col1\" class=\"data row2 col1\" >0.6462</td>\n",
       "      <td id=\"T_b9e27_row2_col2\" class=\"data row2 col2\" >0.0009</td>\n",
       "      <td id=\"T_b9e27_row2_col3\" class=\"data row2 col3\" >0.6667</td>\n",
       "      <td id=\"T_b9e27_row2_col4\" class=\"data row2 col4\" >0.0019</td>\n",
       "      <td id=\"T_b9e27_row2_col5\" class=\"data row2 col5\" >0.0016</td>\n",
       "      <td id=\"T_b9e27_row2_col6\" class=\"data row2 col6\" >0.0222</td>\n",
       "    </tr>\n",
       "    <tr>\n",
       "      <th id=\"T_b9e27_level0_row3\" class=\"row_heading level0 row3\" >3</th>\n",
       "      <td id=\"T_b9e27_row3_col0\" class=\"data row3 col0\" >0.8931</td>\n",
       "      <td id=\"T_b9e27_row3_col1\" class=\"data row3 col1\" >0.6444</td>\n",
       "      <td id=\"T_b9e27_row3_col2\" class=\"data row3 col2\" >0.0005</td>\n",
       "      <td id=\"T_b9e27_row3_col3\" class=\"data row3 col3\" >1.0000</td>\n",
       "      <td id=\"T_b9e27_row3_col4\" class=\"data row3 col4\" >0.0009</td>\n",
       "      <td id=\"T_b9e27_row3_col5\" class=\"data row3 col5\" >0.0008</td>\n",
       "      <td id=\"T_b9e27_row3_col6\" class=\"data row3 col6\" >0.0205</td>\n",
       "    </tr>\n",
       "    <tr>\n",
       "      <th id=\"T_b9e27_level0_row4\" class=\"row_heading level0 row4\" >4</th>\n",
       "      <td id=\"T_b9e27_row4_col0\" class=\"data row4 col0\" >0.8929</td>\n",
       "      <td id=\"T_b9e27_row4_col1\" class=\"data row4 col1\" >0.6628</td>\n",
       "      <td id=\"T_b9e27_row4_col2\" class=\"data row4 col2\" >0.0000</td>\n",
       "      <td id=\"T_b9e27_row4_col3\" class=\"data row4 col3\" >0.0000</td>\n",
       "      <td id=\"T_b9e27_row4_col4\" class=\"data row4 col4\" >0.0000</td>\n",
       "      <td id=\"T_b9e27_row4_col5\" class=\"data row4 col5\" >-0.0002</td>\n",
       "      <td id=\"T_b9e27_row4_col6\" class=\"data row4 col6\" >-0.0035</td>\n",
       "    </tr>\n",
       "    <tr>\n",
       "      <th id=\"T_b9e27_level0_row5\" class=\"row_heading level0 row5\" >5</th>\n",
       "      <td id=\"T_b9e27_row5_col0\" class=\"data row5 col0\" >0.8931</td>\n",
       "      <td id=\"T_b9e27_row5_col1\" class=\"data row5 col1\" >0.6581</td>\n",
       "      <td id=\"T_b9e27_row5_col2\" class=\"data row5 col2\" >0.0009</td>\n",
       "      <td id=\"T_b9e27_row5_col3\" class=\"data row5 col3\" >1.0000</td>\n",
       "      <td id=\"T_b9e27_row5_col4\" class=\"data row5 col4\" >0.0019</td>\n",
       "      <td id=\"T_b9e27_row5_col5\" class=\"data row5 col5\" >0.0017</td>\n",
       "      <td id=\"T_b9e27_row5_col6\" class=\"data row5 col6\" >0.0289</td>\n",
       "    </tr>\n",
       "    <tr>\n",
       "      <th id=\"T_b9e27_level0_row6\" class=\"row_heading level0 row6\" >6</th>\n",
       "      <td id=\"T_b9e27_row6_col0\" class=\"data row6 col0\" >0.8930</td>\n",
       "      <td id=\"T_b9e27_row6_col1\" class=\"data row6 col1\" >0.6470</td>\n",
       "      <td id=\"T_b9e27_row6_col2\" class=\"data row6 col2\" >0.0000</td>\n",
       "      <td id=\"T_b9e27_row6_col3\" class=\"data row6 col3\" >0.0000</td>\n",
       "      <td id=\"T_b9e27_row6_col4\" class=\"data row6 col4\" >0.0000</td>\n",
       "      <td id=\"T_b9e27_row6_col5\" class=\"data row6 col5\" >0.0000</td>\n",
       "      <td id=\"T_b9e27_row6_col6\" class=\"data row6 col6\" >0.0000</td>\n",
       "    </tr>\n",
       "    <tr>\n",
       "      <th id=\"T_b9e27_level0_row7\" class=\"row_heading level0 row7\" >7</th>\n",
       "      <td id=\"T_b9e27_row7_col0\" class=\"data row7 col0\" >0.8930</td>\n",
       "      <td id=\"T_b9e27_row7_col1\" class=\"data row7 col1\" >0.6449</td>\n",
       "      <td id=\"T_b9e27_row7_col2\" class=\"data row7 col2\" >0.0005</td>\n",
       "      <td id=\"T_b9e27_row7_col3\" class=\"data row7 col3\" >0.5000</td>\n",
       "      <td id=\"T_b9e27_row7_col4\" class=\"data row7 col4\" >0.0009</td>\n",
       "      <td id=\"T_b9e27_row7_col5\" class=\"data row7 col5\" >0.0007</td>\n",
       "      <td id=\"T_b9e27_row7_col6\" class=\"data row7 col6\" >0.0127</td>\n",
       "    </tr>\n",
       "    <tr>\n",
       "      <th id=\"T_b9e27_level0_row8\" class=\"row_heading level0 row8\" >8</th>\n",
       "      <td id=\"T_b9e27_row8_col0\" class=\"data row8 col0\" >0.8930</td>\n",
       "      <td id=\"T_b9e27_row8_col1\" class=\"data row8 col1\" >0.6581</td>\n",
       "      <td id=\"T_b9e27_row8_col2\" class=\"data row8 col2\" >0.0009</td>\n",
       "      <td id=\"T_b9e27_row8_col3\" class=\"data row8 col3\" >0.6667</td>\n",
       "      <td id=\"T_b9e27_row8_col4\" class=\"data row8 col4\" >0.0019</td>\n",
       "      <td id=\"T_b9e27_row8_col5\" class=\"data row8 col5\" >0.0016</td>\n",
       "      <td id=\"T_b9e27_row8_col6\" class=\"data row8 col6\" >0.0222</td>\n",
       "    </tr>\n",
       "    <tr>\n",
       "      <th id=\"T_b9e27_level0_row9\" class=\"row_heading level0 row9\" >9</th>\n",
       "      <td id=\"T_b9e27_row9_col0\" class=\"data row9 col0\" >0.8932</td>\n",
       "      <td id=\"T_b9e27_row9_col1\" class=\"data row9 col1\" >0.6490</td>\n",
       "      <td id=\"T_b9e27_row9_col2\" class=\"data row9 col2\" >0.0023</td>\n",
       "      <td id=\"T_b9e27_row9_col3\" class=\"data row9 col3\" >1.0000</td>\n",
       "      <td id=\"T_b9e27_row9_col4\" class=\"data row9 col4\" >0.0047</td>\n",
       "      <td id=\"T_b9e27_row9_col5\" class=\"data row9 col5\" >0.0042</td>\n",
       "      <td id=\"T_b9e27_row9_col6\" class=\"data row9 col6\" >0.0457</td>\n",
       "    </tr>\n",
       "    <tr>\n",
       "      <th id=\"T_b9e27_level0_row10\" class=\"row_heading level0 row10\" >Mean</th>\n",
       "      <td id=\"T_b9e27_row10_col0\" class=\"data row10 col0\" >0.8930</td>\n",
       "      <td id=\"T_b9e27_row10_col1\" class=\"data row10 col1\" >0.6521</td>\n",
       "      <td id=\"T_b9e27_row10_col2\" class=\"data row10 col2\" >0.0006</td>\n",
       "      <td id=\"T_b9e27_row10_col3\" class=\"data row10 col3\" >0.4833</td>\n",
       "      <td id=\"T_b9e27_row10_col4\" class=\"data row10 col4\" >0.0012</td>\n",
       "      <td id=\"T_b9e27_row10_col5\" class=\"data row10 col5\" >0.0010</td>\n",
       "      <td id=\"T_b9e27_row10_col6\" class=\"data row10 col6\" >0.0143</td>\n",
       "    </tr>\n",
       "    <tr>\n",
       "      <th id=\"T_b9e27_level0_row11\" class=\"row_heading level0 row11\" >Std</th>\n",
       "      <td id=\"T_b9e27_row11_col0\" class=\"data row11 col0\" >0.0001</td>\n",
       "      <td id=\"T_b9e27_row11_col1\" class=\"data row11 col1\" >0.0064</td>\n",
       "      <td id=\"T_b9e27_row11_col2\" class=\"data row11 col2\" >0.0007</td>\n",
       "      <td id=\"T_b9e27_row11_col3\" class=\"data row11 col3\" >0.4246</td>\n",
       "      <td id=\"T_b9e27_row11_col4\" class=\"data row11 col4\" >0.0014</td>\n",
       "      <td id=\"T_b9e27_row11_col5\" class=\"data row11 col5\" >0.0013</td>\n",
       "      <td id=\"T_b9e27_row11_col6\" class=\"data row11 col6\" >0.0158</td>\n",
       "    </tr>\n",
       "  </tbody>\n",
       "</table>\n"
      ],
      "text/plain": [
       "<pandas.io.formats.style.Styler at 0x7f8c0035a9b0>"
      ]
     },
     "metadata": {},
     "output_type": "display_data"
    },
    {
     "data": {
      "text/html": [],
      "text/plain": [
       "<IPython.core.display.HTML object>"
      ]
     },
     "metadata": {},
     "output_type": "display_data"
    },
    {
     "data": {
      "text/html": [],
      "text/plain": [
       "<IPython.core.display.HTML object>"
      ]
     },
     "metadata": {},
     "output_type": "display_data"
    },
    {
     "data": {
      "image/png": "[encoded data removed]",
      "text/plain": [
       "<Figure size 480x330 with 1 Axes>"
      ]
     },
     "metadata": {},
     "output_type": "display_data"
    },
    {
     "data": {
      "text/html": [],
      "text/plain": [
       "<IPython.core.display.HTML object>"
      ]
     },
     "metadata": {},
     "output_type": "display_data"
    },
    {
     "data": {
      "text/html": [
       "<style type=\"text/css\">\n",
       "#T_76c81_row10_col0, #T_76c81_row10_col1, #T_76c81_row10_col2, #T_76c81_row10_col3, #T_76c81_row10_col4, #T_76c81_row10_col5, #T_76c81_row10_col6 {\n",
       "  background: yellow;\n",
       "}\n",
       "</style>\n",
       "<table id=\"T_76c81\">\n",
       "  <thead>\n",
       "    <tr>\n",
       "      <th class=\"blank level0\" >&nbsp;</th>\n",
       "      <th id=\"T_76c81_level0_col0\" class=\"col_heading level0 col0\" >Accuracy</th>\n",
       "      <th id=\"T_76c81_level0_col1\" class=\"col_heading level0 col1\" >AUC</th>\n",
       "      <th id=\"T_76c81_level0_col2\" class=\"col_heading level0 col2\" >Recall</th>\n",
       "      <th id=\"T_76c81_level0_col3\" class=\"col_heading level0 col3\" >Prec.</th>\n",
       "      <th id=\"T_76c81_level0_col4\" class=\"col_heading level0 col4\" >F1</th>\n",
       "      <th id=\"T_76c81_level0_col5\" class=\"col_heading level0 col5\" >Kappa</th>\n",
       "      <th id=\"T_76c81_level0_col6\" class=\"col_heading level0 col6\" >MCC</th>\n",
       "    </tr>\n",
       "    <tr>\n",
       "      <th class=\"index_name level0\" >Fold</th>\n",
       "      <th class=\"blank col0\" >&nbsp;</th>\n",
       "      <th class=\"blank col1\" >&nbsp;</th>\n",
       "      <th class=\"blank col2\" >&nbsp;</th>\n",
       "      <th class=\"blank col3\" >&nbsp;</th>\n",
       "      <th class=\"blank col4\" >&nbsp;</th>\n",
       "      <th class=\"blank col5\" >&nbsp;</th>\n",
       "      <th class=\"blank col6\" >&nbsp;</th>\n",
       "    </tr>\n",
       "  </thead>\n",
       "  <tbody>\n",
       "    <tr>\n",
       "      <th id=\"T_76c81_level0_row0\" class=\"row_heading level0 row0\" >0</th>\n",
       "      <td id=\"T_76c81_row0_col0\" class=\"data row0 col0\" >0.8919</td>\n",
       "      <td id=\"T_76c81_row0_col1\" class=\"data row0 col1\" >0.6270</td>\n",
       "      <td id=\"T_76c81_row0_col2\" class=\"data row0 col2\" >0.0014</td>\n",
       "      <td id=\"T_76c81_row0_col3\" class=\"data row0 col3\" >0.1111</td>\n",
       "      <td id=\"T_76c81_row0_col4\" class=\"data row0 col4\" >0.0028</td>\n",
       "      <td id=\"T_76c81_row0_col5\" class=\"data row0 col5\" >0.0001</td>\n",
       "      <td id=\"T_76c81_row0_col6\" class=\"data row0 col6\" >0.0005</td>\n",
       "    </tr>\n",
       "    <tr>\n",
       "      <th id=\"T_76c81_level0_row1\" class=\"row_heading level0 row1\" >1</th>\n",
       "      <td id=\"T_76c81_row1_col0\" class=\"data row1 col0\" >0.8923</td>\n",
       "      <td id=\"T_76c81_row1_col1\" class=\"data row1 col1\" >0.6241</td>\n",
       "      <td id=\"T_76c81_row1_col2\" class=\"data row1 col2\" >0.0023</td>\n",
       "      <td id=\"T_76c81_row1_col3\" class=\"data row1 col3\" >0.2083</td>\n",
       "      <td id=\"T_76c81_row1_col4\" class=\"data row1 col4\" >0.0046</td>\n",
       "      <td id=\"T_76c81_row1_col5\" class=\"data row1 col5\" >0.0023</td>\n",
       "      <td id=\"T_76c81_row1_col6\" class=\"data row1 col6\" >0.0114</td>\n",
       "    </tr>\n",
       "    <tr>\n",
       "      <th id=\"T_76c81_level0_row2\" class=\"row_heading level0 row2\" >2</th>\n",
       "      <td id=\"T_76c81_row2_col0\" class=\"data row2 col0\" >0.8924</td>\n",
       "      <td id=\"T_76c81_row2_col1\" class=\"data row2 col1\" >0.6193</td>\n",
       "      <td id=\"T_76c81_row2_col2\" class=\"data row2 col2\" >0.0019</td>\n",
       "      <td id=\"T_76c81_row2_col3\" class=\"data row2 col3\" >0.2000</td>\n",
       "      <td id=\"T_76c81_row2_col4\" class=\"data row2 col4\" >0.0037</td>\n",
       "      <td id=\"T_76c81_row2_col5\" class=\"data row2 col5\" >0.0017</td>\n",
       "      <td id=\"T_76c81_row2_col6\" class=\"data row2 col6\" >0.0095</td>\n",
       "    </tr>\n",
       "    <tr>\n",
       "      <th id=\"T_76c81_level0_row3\" class=\"row_heading level0 row3\" >3</th>\n",
       "      <td id=\"T_76c81_row3_col0\" class=\"data row3 col0\" >0.8924</td>\n",
       "      <td id=\"T_76c81_row3_col1\" class=\"data row3 col1\" >0.6140</td>\n",
       "      <td id=\"T_76c81_row3_col2\" class=\"data row3 col2\" >0.0023</td>\n",
       "      <td id=\"T_76c81_row3_col3\" class=\"data row3 col3\" >0.2174</td>\n",
       "      <td id=\"T_76c81_row3_col4\" class=\"data row3 col4\" >0.0046</td>\n",
       "      <td id=\"T_76c81_row3_col5\" class=\"data row3 col5\" >0.0024</td>\n",
       "      <td id=\"T_76c81_row3_col6\" class=\"data row3 col6\" >0.0121</td>\n",
       "    </tr>\n",
       "    <tr>\n",
       "      <th id=\"T_76c81_level0_row4\" class=\"row_heading level0 row4\" >4</th>\n",
       "      <td id=\"T_76c81_row4_col0\" class=\"data row4 col0\" >0.8923</td>\n",
       "      <td id=\"T_76c81_row4_col1\" class=\"data row4 col1\" >0.6140</td>\n",
       "      <td id=\"T_76c81_row4_col2\" class=\"data row4 col2\" >0.0009</td>\n",
       "      <td id=\"T_76c81_row4_col3\" class=\"data row4 col3\" >0.1053</td>\n",
       "      <td id=\"T_76c81_row4_col4\" class=\"data row4 col4\" >0.0019</td>\n",
       "      <td id=\"T_76c81_row4_col5\" class=\"data row4 col5\" >-0.0000</td>\n",
       "      <td id=\"T_76c81_row4_col6\" class=\"data row4 col6\" >-0.0002</td>\n",
       "    </tr>\n",
       "    <tr>\n",
       "      <th id=\"T_76c81_level0_row5\" class=\"row_heading level0 row5\" >5</th>\n",
       "      <td id=\"T_76c81_row5_col0\" class=\"data row5 col0\" >0.8924</td>\n",
       "      <td id=\"T_76c81_row5_col1\" class=\"data row5 col1\" >0.6342</td>\n",
       "      <td id=\"T_76c81_row5_col2\" class=\"data row5 col2\" >0.0023</td>\n",
       "      <td id=\"T_76c81_row5_col3\" class=\"data row5 col3\" >0.2174</td>\n",
       "      <td id=\"T_76c81_row5_col4\" class=\"data row5 col4\" >0.0046</td>\n",
       "      <td id=\"T_76c81_row5_col5\" class=\"data row5 col5\" >0.0024</td>\n",
       "      <td id=\"T_76c81_row5_col6\" class=\"data row5 col6\" >0.0121</td>\n",
       "    </tr>\n",
       "    <tr>\n",
       "      <th id=\"T_76c81_level0_row6\" class=\"row_heading level0 row6\" >6</th>\n",
       "      <td id=\"T_76c81_row6_col0\" class=\"data row6 col0\" >0.8923</td>\n",
       "      <td id=\"T_76c81_row6_col1\" class=\"data row6 col1\" >0.6270</td>\n",
       "      <td id=\"T_76c81_row6_col2\" class=\"data row6 col2\" >0.0014</td>\n",
       "      <td id=\"T_76c81_row6_col3\" class=\"data row6 col3\" >0.1500</td>\n",
       "      <td id=\"T_76c81_row6_col4\" class=\"data row6 col4\" >0.0028</td>\n",
       "      <td id=\"T_76c81_row6_col5\" class=\"data row6 col5\" >0.0008</td>\n",
       "      <td id=\"T_76c81_row6_col6\" class=\"data row6 col6\" >0.0044</td>\n",
       "    </tr>\n",
       "    <tr>\n",
       "      <th id=\"T_76c81_level0_row7\" class=\"row_heading level0 row7\" >7</th>\n",
       "      <td id=\"T_76c81_row7_col0\" class=\"data row7 col0\" >0.8925</td>\n",
       "      <td id=\"T_76c81_row7_col1\" class=\"data row7 col1\" >0.6143</td>\n",
       "      <td id=\"T_76c81_row7_col2\" class=\"data row7 col2\" >0.0028</td>\n",
       "      <td id=\"T_76c81_row7_col3\" class=\"data row7 col3\" >0.2727</td>\n",
       "      <td id=\"T_76c81_row7_col4\" class=\"data row7 col4\" >0.0056</td>\n",
       "      <td id=\"T_76c81_row7_col5\" class=\"data row7 col5\" >0.0034</td>\n",
       "      <td id=\"T_76c81_row7_col6\" class=\"data row7 col6\" >0.0178</td>\n",
       "    </tr>\n",
       "    <tr>\n",
       "      <th id=\"T_76c81_level0_row8\" class=\"row_heading level0 row8\" >8</th>\n",
       "      <td id=\"T_76c81_row8_col0\" class=\"data row8 col0\" >0.8926</td>\n",
       "      <td id=\"T_76c81_row8_col1\" class=\"data row8 col1\" >0.6211</td>\n",
       "      <td id=\"T_76c81_row8_col2\" class=\"data row8 col2\" >0.0037</td>\n",
       "      <td id=\"T_76c81_row8_col3\" class=\"data row8 col3\" >0.3333</td>\n",
       "      <td id=\"T_76c81_row8_col4\" class=\"data row8 col4\" >0.0074</td>\n",
       "      <td id=\"T_76c81_row8_col5\" class=\"data row8 col5\" >0.0050</td>\n",
       "      <td id=\"T_76c81_row8_col6\" class=\"data row8 col6\" >0.0254</td>\n",
       "    </tr>\n",
       "    <tr>\n",
       "      <th id=\"T_76c81_level0_row9\" class=\"row_heading level0 row9\" >9</th>\n",
       "      <td id=\"T_76c81_row9_col0\" class=\"data row9 col0\" >0.8924</td>\n",
       "      <td id=\"T_76c81_row9_col1\" class=\"data row9 col1\" >0.6152</td>\n",
       "      <td id=\"T_76c81_row9_col2\" class=\"data row9 col2\" >0.0023</td>\n",
       "      <td id=\"T_76c81_row9_col3\" class=\"data row9 col3\" >0.2273</td>\n",
       "      <td id=\"T_76c81_row9_col4\" class=\"data row9 col4\" >0.0046</td>\n",
       "      <td id=\"T_76c81_row9_col5\" class=\"data row9 col5\" >0.0025</td>\n",
       "      <td id=\"T_76c81_row9_col6\" class=\"data row9 col6\" >0.0129</td>\n",
       "    </tr>\n",
       "    <tr>\n",
       "      <th id=\"T_76c81_level0_row10\" class=\"row_heading level0 row10\" >Mean</th>\n",
       "      <td id=\"T_76c81_row10_col0\" class=\"data row10 col0\" >0.8923</td>\n",
       "      <td id=\"T_76c81_row10_col1\" class=\"data row10 col1\" >0.6210</td>\n",
       "      <td id=\"T_76c81_row10_col2\" class=\"data row10 col2\" >0.0022</td>\n",
       "      <td id=\"T_76c81_row10_col3\" class=\"data row10 col3\" >0.2043</td>\n",
       "      <td id=\"T_76c81_row10_col4\" class=\"data row10 col4\" >0.0043</td>\n",
       "      <td id=\"T_76c81_row10_col5\" class=\"data row10 col5\" >0.0020</td>\n",
       "      <td id=\"T_76c81_row10_col6\" class=\"data row10 col6\" >0.0106</td>\n",
       "    </tr>\n",
       "    <tr>\n",
       "      <th id=\"T_76c81_level0_row11\" class=\"row_heading level0 row11\" >Std</th>\n",
       "      <td id=\"T_76c81_row11_col0\" class=\"data row11 col0\" >0.0002</td>\n",
       "      <td id=\"T_76c81_row11_col1\" class=\"data row11 col1\" >0.0066</td>\n",
       "      <td id=\"T_76c81_row11_col2\" class=\"data row11 col2\" >0.0008</td>\n",
       "      <td id=\"T_76c81_row11_col3\" class=\"data row11 col3\" >0.0661</td>\n",
       "      <td id=\"T_76c81_row11_col4\" class=\"data row11 col4\" >0.0015</td>\n",
       "      <td id=\"T_76c81_row11_col5\" class=\"data row11 col5\" >0.0014</td>\n",
       "      <td id=\"T_76c81_row11_col6\" class=\"data row11 col6\" >0.0073</td>\n",
       "    </tr>\n",
       "  </tbody>\n",
       "</table>\n"
      ],
      "text/plain": [
       "<pandas.io.formats.style.Styler at 0x7f8c00916710>"
      ]
     },
     "metadata": {},
     "output_type": "display_data"
    },
    {
     "data": {
      "text/html": [],
      "text/plain": [
       "<IPython.core.display.HTML object>"
      ]
     },
     "metadata": {},
     "output_type": "display_data"
    },
    {
     "data": {
      "text/html": [],
      "text/plain": [
       "<IPython.core.display.HTML object>"
      ]
     },
     "metadata": {},
     "output_type": "display_data"
    },
    {
     "data": {
      "image/png": "[encoded data removed]",
      "text/plain": [
       "<Figure size 480x330 with 1 Axes>"
      ]
     },
     "metadata": {},
     "output_type": "display_data"
    }
   ],
   "source": [
    "regression_model_ada, regression_model_lightgbm, regression_model_gbc, regression_model_rf = model.common.create_models(train_data, target_column)"
   ]
  },
  {
   "cell_type": "markdown",
   "metadata": {
    "execution": {
     "iopub.execute_input": "2023-06-08T23:08:22.530994Z",
     "iopub.status.busy": "2023-06-08T23:08:22.529719Z",
     "iopub.status.idle": "2023-06-08T23:08:22.542651Z",
     "shell.execute_reply": "2023-06-08T23:08:22.540043Z",
     "shell.execute_reply.started": "2023-06-08T23:08:22.530922Z"
    }
   },
   "source": [
    "**evaluate model**"
   ]
  },
  {
   "cell_type": "markdown",
   "metadata": {},
   "source": [
    "`lightgbm` shows very good AUC of `0.97`, `rf` as well with `1.0` train AUC.\n",
    "\n",
    "`rf` seemed like too overfit with 1.0 train AUC but its test precision as well is the best among others.\n",
    "\n",
    "`ada` shows very low recall thus inpractical.\n"
   ]
  },
  {
   "cell_type": "code",
   "execution_count": 13,
   "metadata": {
    "execution": {
     "iopub.execute_input": "2023-07-08T04:14:24.955504Z",
     "iopub.status.busy": "2023-07-08T04:14:24.955291Z",
     "iopub.status.idle": "2023-07-08T04:14:41.758142Z",
     "shell.execute_reply": "2023-07-08T04:14:41.754896Z",
     "shell.execute_reply.started": "2023-07-08T04:14:24.955485Z"
    }
   },
   "outputs": [
    {
     "data": {
      "text/html": [
       "<style type=\"text/css\">\n",
       "</style>\n",
       "<table id=\"T_a79ad\">\n",
       "  <thead>\n",
       "    <tr>\n",
       "      <th class=\"blank level0\" >&nbsp;</th>\n",
       "      <th id=\"T_a79ad_level0_col0\" class=\"col_heading level0 col0\" >Model</th>\n",
       "      <th id=\"T_a79ad_level0_col1\" class=\"col_heading level0 col1\" >Accuracy</th>\n",
       "      <th id=\"T_a79ad_level0_col2\" class=\"col_heading level0 col2\" >AUC</th>\n",
       "      <th id=\"T_a79ad_level0_col3\" class=\"col_heading level0 col3\" >Recall</th>\n",
       "      <th id=\"T_a79ad_level0_col4\" class=\"col_heading level0 col4\" >Prec.</th>\n",
       "      <th id=\"T_a79ad_level0_col5\" class=\"col_heading level0 col5\" >F1</th>\n",
       "      <th id=\"T_a79ad_level0_col6\" class=\"col_heading level0 col6\" >Kappa</th>\n",
       "      <th id=\"T_a79ad_level0_col7\" class=\"col_heading level0 col7\" >MCC</th>\n",
       "    </tr>\n",
       "  </thead>\n",
       "  <tbody>\n",
       "    <tr>\n",
       "      <th id=\"T_a79ad_level0_row0\" class=\"row_heading level0 row0\" >0</th>\n",
       "      <td id=\"T_a79ad_row0_col0\" class=\"data row0 col0\" >Ada Boost Classifier</td>\n",
       "      <td id=\"T_a79ad_row0_col1\" class=\"data row0 col1\" >0.8930</td>\n",
       "      <td id=\"T_a79ad_row0_col2\" class=\"data row0 col2\" >0.6529</td>\n",
       "      <td id=\"T_a79ad_row0_col3\" class=\"data row0 col3\" >0.0000</td>\n",
       "      <td id=\"T_a79ad_row0_col4\" class=\"data row0 col4\" >0.0000</td>\n",
       "      <td id=\"T_a79ad_row0_col5\" class=\"data row0 col5\" >0.0000</td>\n",
       "      <td id=\"T_a79ad_row0_col6\" class=\"data row0 col6\" >0.0000</td>\n",
       "      <td id=\"T_a79ad_row0_col7\" class=\"data row0 col7\" >0.0000</td>\n",
       "    </tr>\n",
       "  </tbody>\n",
       "</table>\n"
      ],
      "text/plain": [
       "<pandas.io.formats.style.Styler at 0x7f8c003587f0>"
      ]
     },
     "metadata": {},
     "output_type": "display_data"
    },
    {
     "data": {
      "text/html": [
       "<style type=\"text/css\">\n",
       "</style>\n",
       "<table id=\"T_a9e53\">\n",
       "  <thead>\n",
       "    <tr>\n",
       "      <th class=\"blank level0\" >&nbsp;</th>\n",
       "      <th id=\"T_a9e53_level0_col0\" class=\"col_heading level0 col0\" >Model</th>\n",
       "      <th id=\"T_a9e53_level0_col1\" class=\"col_heading level0 col1\" >Accuracy</th>\n",
       "      <th id=\"T_a9e53_level0_col2\" class=\"col_heading level0 col2\" >AUC</th>\n",
       "      <th id=\"T_a9e53_level0_col3\" class=\"col_heading level0 col3\" >Recall</th>\n",
       "      <th id=\"T_a9e53_level0_col4\" class=\"col_heading level0 col4\" >Prec.</th>\n",
       "      <th id=\"T_a9e53_level0_col5\" class=\"col_heading level0 col5\" >F1</th>\n",
       "      <th id=\"T_a9e53_level0_col6\" class=\"col_heading level0 col6\" >Kappa</th>\n",
       "      <th id=\"T_a9e53_level0_col7\" class=\"col_heading level0 col7\" >MCC</th>\n",
       "    </tr>\n",
       "  </thead>\n",
       "  <tbody>\n",
       "    <tr>\n",
       "      <th id=\"T_a9e53_level0_row0\" class=\"row_heading level0 row0\" >0</th>\n",
       "      <td id=\"T_a9e53_row0_col0\" class=\"data row0 col0\" >Gradient Boosting Classifier</td>\n",
       "      <td id=\"T_a9e53_row0_col1\" class=\"data row0 col1\" >0.8930</td>\n",
       "      <td id=\"T_a9e53_row0_col2\" class=\"data row0 col2\" >0.6635</td>\n",
       "      <td id=\"T_a9e53_row0_col3\" class=\"data row0 col3\" >0.0008</td>\n",
       "      <td id=\"T_a9e53_row0_col4\" class=\"data row0 col4\" >0.8065</td>\n",
       "      <td id=\"T_a9e53_row0_col5\" class=\"data row0 col5\" >0.0016</td>\n",
       "      <td id=\"T_a9e53_row0_col6\" class=\"data row0 col6\" >0.0014</td>\n",
       "      <td id=\"T_a9e53_row0_col7\" class=\"data row0 col7\" >0.0236</td>\n",
       "    </tr>\n",
       "  </tbody>\n",
       "</table>\n"
      ],
      "text/plain": [
       "<pandas.io.formats.style.Styler at 0x7f8c0035a680>"
      ]
     },
     "metadata": {},
     "output_type": "display_data"
    },
    {
     "data": {
      "text/html": [
       "<style type=\"text/css\">\n",
       "</style>\n",
       "<table id=\"T_0cc7a\">\n",
       "  <thead>\n",
       "    <tr>\n",
       "      <th class=\"blank level0\" >&nbsp;</th>\n",
       "      <th id=\"T_0cc7a_level0_col0\" class=\"col_heading level0 col0\" >Model</th>\n",
       "      <th id=\"T_0cc7a_level0_col1\" class=\"col_heading level0 col1\" >Accuracy</th>\n",
       "      <th id=\"T_0cc7a_level0_col2\" class=\"col_heading level0 col2\" >AUC</th>\n",
       "      <th id=\"T_0cc7a_level0_col3\" class=\"col_heading level0 col3\" >Recall</th>\n",
       "      <th id=\"T_0cc7a_level0_col4\" class=\"col_heading level0 col4\" >Prec.</th>\n",
       "      <th id=\"T_0cc7a_level0_col5\" class=\"col_heading level0 col5\" >F1</th>\n",
       "      <th id=\"T_0cc7a_level0_col6\" class=\"col_heading level0 col6\" >Kappa</th>\n",
       "      <th id=\"T_0cc7a_level0_col7\" class=\"col_heading level0 col7\" >MCC</th>\n",
       "    </tr>\n",
       "  </thead>\n",
       "  <tbody>\n",
       "    <tr>\n",
       "      <th id=\"T_0cc7a_level0_row0\" class=\"row_heading level0 row0\" >0</th>\n",
       "      <td id=\"T_0cc7a_row0_col0\" class=\"data row0 col0\" >Light Gradient Boosting Machine</td>\n",
       "      <td id=\"T_0cc7a_row0_col1\" class=\"data row0 col1\" >0.8931</td>\n",
       "      <td id=\"T_0cc7a_row0_col2\" class=\"data row0 col2\" >0.7010</td>\n",
       "      <td id=\"T_0cc7a_row0_col3\" class=\"data row0 col3\" >0.0013</td>\n",
       "      <td id=\"T_0cc7a_row0_col4\" class=\"data row0 col4\" >0.7547</td>\n",
       "      <td id=\"T_0cc7a_row0_col5\" class=\"data row0 col5\" >0.0026</td>\n",
       "      <td id=\"T_0cc7a_row0_col6\" class=\"data row0 col6\" >0.0022</td>\n",
       "      <td id=\"T_0cc7a_row0_col7\" class=\"data row0 col7\" >0.0286</td>\n",
       "    </tr>\n",
       "  </tbody>\n",
       "</table>\n"
      ],
      "text/plain": [
       "<pandas.io.formats.style.Styler at 0x7f8c0058fa60>"
      ]
     },
     "metadata": {},
     "output_type": "display_data"
    },
    {
     "data": {
      "text/html": [
       "<style type=\"text/css\">\n",
       "</style>\n",
       "<table id=\"T_99be3\">\n",
       "  <thead>\n",
       "    <tr>\n",
       "      <th class=\"blank level0\" >&nbsp;</th>\n",
       "      <th id=\"T_99be3_level0_col0\" class=\"col_heading level0 col0\" >Model</th>\n",
       "      <th id=\"T_99be3_level0_col1\" class=\"col_heading level0 col1\" >Accuracy</th>\n",
       "      <th id=\"T_99be3_level0_col2\" class=\"col_heading level0 col2\" >AUC</th>\n",
       "      <th id=\"T_99be3_level0_col3\" class=\"col_heading level0 col3\" >Recall</th>\n",
       "      <th id=\"T_99be3_level0_col4\" class=\"col_heading level0 col4\" >Prec.</th>\n",
       "      <th id=\"T_99be3_level0_col5\" class=\"col_heading level0 col5\" >F1</th>\n",
       "      <th id=\"T_99be3_level0_col6\" class=\"col_heading level0 col6\" >Kappa</th>\n",
       "      <th id=\"T_99be3_level0_col7\" class=\"col_heading level0 col7\" >MCC</th>\n",
       "    </tr>\n",
       "  </thead>\n",
       "  <tbody>\n",
       "    <tr>\n",
       "      <th id=\"T_99be3_level0_row0\" class=\"row_heading level0 row0\" >0</th>\n",
       "      <td id=\"T_99be3_row0_col0\" class=\"data row0 col0\" >Random Forest Classifier</td>\n",
       "      <td id=\"T_99be3_row0_col1\" class=\"data row0 col1\" >0.9677</td>\n",
       "      <td id=\"T_99be3_row0_col2\" class=\"data row0 col2\" >0.9489</td>\n",
       "      <td id=\"T_99be3_row0_col3\" class=\"data row0 col3\" >0.7007</td>\n",
       "      <td id=\"T_99be3_row0_col4\" class=\"data row0 col4\" >0.9959</td>\n",
       "      <td id=\"T_99be3_row0_col5\" class=\"data row0 col5\" >0.8226</td>\n",
       "      <td id=\"T_99be3_row0_col6\" class=\"data row0 col6\" >0.8054</td>\n",
       "      <td id=\"T_99be3_row0_col7\" class=\"data row0 col7\" >0.8205</td>\n",
       "    </tr>\n",
       "  </tbody>\n",
       "</table>\n"
      ],
      "text/plain": [
       "<pandas.io.formats.style.Styler at 0x7f8c006bbaf0>"
      ]
     },
     "metadata": {},
     "output_type": "display_data"
    }
   ],
   "source": [
    "train_prediction_ada, train_prediction_gbc, train_prediction_lightgbm, train_prediction_rf = model.common.batch_predict_and_odds(train_data, [regression_model_ada, regression_model_gbc, regression_model_lightgbm, regression_model_rf])"
   ]
  },
  {
   "cell_type": "code",
   "execution_count": 14,
   "metadata": {
    "execution": {
     "iopub.execute_input": "2023-07-08T04:14:41.759258Z",
     "iopub.status.busy": "2023-07-08T04:14:41.759055Z",
     "iopub.status.idle": "2023-07-08T04:14:42.414162Z",
     "shell.execute_reply": "2023-07-08T04:14:42.412663Z",
     "shell.execute_reply.started": "2023-07-08T04:14:41.759239Z"
    }
   },
   "outputs": [
    {
     "data": {
      "text/html": [
       "<table>\n",
       "<tbody>\n",
       "<tr><td>model   </td><td>0.6      </td><td>0.7      </td><td>0.75     </td><td>0.8     </td></tr>\n",
       "<tr><td>ada     </td><td>(0, nan) </td><td>(0, nan) </td><td>(0, nan) </td><td>(0, nan)</td></tr>\n",
       "<tr><td>gbc     </td><td>(1, 0.0) </td><td>(0, nan) </td><td>(0, nan) </td><td>(0, nan)</td></tr>\n",
       "<tr><td>lightgbm</td><td>(0, nan) </td><td>(0, nan) </td><td>(0, nan) </td><td>(0, nan)</td></tr>\n",
       "<tr><td>rf      </td><td>(70, 1.0)</td><td>(38, 1.0)</td><td>(11, 1.0)</td><td>(2, 1.0)</td></tr>\n",
       "</tbody>\n",
       "</table>"
      ],
      "text/plain": [
       "'<table>\\n<tbody>\\n<tr><td>model   </td><td>0.6      </td><td>0.7      </td><td>0.75     </td><td>0.8     </td></tr>\\n<tr><td>ada     </td><td>(0, nan) </td><td>(0, nan) </td><td>(0, nan) </td><td>(0, nan)</td></tr>\\n<tr><td>gbc     </td><td>(1, 0.0) </td><td>(0, nan) </td><td>(0, nan) </td><td>(0, nan)</td></tr>\\n<tr><td>lightgbm</td><td>(0, nan) </td><td>(0, nan) </td><td>(0, nan) </td><td>(0, nan)</td></tr>\\n<tr><td>rf      </td><td>(70, 1.0)</td><td>(38, 1.0)</td><td>(11, 1.0)</td><td>(2, 1.0)</td></tr>\\n</tbody>\\n</table>'"
      ]
     },
     "execution_count": 14,
     "metadata": {},
     "output_type": "execute_result"
    }
   ],
   "source": [
    "model.common.evaluate_predictions([(train_prediction_ada, \"ada\"), (train_prediction_gbc, \"gbc\"), (train_prediction_lightgbm, \"lightgbm\"), (train_prediction_rf, \"rf\")], [0.6, 0.7, 0.75, 0.8], target_column)"
   ]
  },
  {
   "cell_type": "markdown",
   "metadata": {
    "execution": {
     "iopub.execute_input": "2023-06-07T00:40:23.948013Z",
     "iopub.status.busy": "2023-06-07T00:40:23.947407Z",
     "iopub.status.idle": "2023-06-07T00:40:23.953130Z",
     "shell.execute_reply": "2023-06-07T00:40:23.952520Z",
     "shell.execute_reply.started": "2023-06-07T00:40:23.947955Z"
    }
   },
   "source": [
    "**test prediction**"
   ]
  },
  {
   "cell_type": "code",
   "execution_count": 15,
   "metadata": {
    "execution": {
     "iopub.execute_input": "2023-07-08T04:14:42.419397Z",
     "iopub.status.busy": "2023-07-08T04:14:42.418166Z",
     "iopub.status.idle": "2023-07-08T04:14:44.610654Z",
     "shell.execute_reply": "2023-07-08T04:14:44.609544Z",
     "shell.execute_reply.started": "2023-07-08T04:14:42.419349Z"
    }
   },
   "outputs": [
    {
     "data": {
      "text/html": [
       "<style type=\"text/css\">\n",
       "</style>\n",
       "<table id=\"T_1e2a6\">\n",
       "  <thead>\n",
       "    <tr>\n",
       "      <th class=\"blank level0\" >&nbsp;</th>\n",
       "      <th id=\"T_1e2a6_level0_col0\" class=\"col_heading level0 col0\" >Model</th>\n",
       "      <th id=\"T_1e2a6_level0_col1\" class=\"col_heading level0 col1\" >Accuracy</th>\n",
       "      <th id=\"T_1e2a6_level0_col2\" class=\"col_heading level0 col2\" >AUC</th>\n",
       "      <th id=\"T_1e2a6_level0_col3\" class=\"col_heading level0 col3\" >Recall</th>\n",
       "      <th id=\"T_1e2a6_level0_col4\" class=\"col_heading level0 col4\" >Prec.</th>\n",
       "      <th id=\"T_1e2a6_level0_col5\" class=\"col_heading level0 col5\" >F1</th>\n",
       "      <th id=\"T_1e2a6_level0_col6\" class=\"col_heading level0 col6\" >Kappa</th>\n",
       "      <th id=\"T_1e2a6_level0_col7\" class=\"col_heading level0 col7\" >MCC</th>\n",
       "    </tr>\n",
       "  </thead>\n",
       "  <tbody>\n",
       "    <tr>\n",
       "      <th id=\"T_1e2a6_level0_row0\" class=\"row_heading level0 row0\" >0</th>\n",
       "      <td id=\"T_1e2a6_row0_col0\" class=\"data row0 col0\" >Ada Boost Classifier</td>\n",
       "      <td id=\"T_1e2a6_row0_col1\" class=\"data row0 col1\" >0.8918</td>\n",
       "      <td id=\"T_1e2a6_row0_col2\" class=\"data row0 col2\" >0.6356</td>\n",
       "      <td id=\"T_1e2a6_row0_col3\" class=\"data row0 col3\" >0.0000</td>\n",
       "      <td id=\"T_1e2a6_row0_col4\" class=\"data row0 col4\" >0.0000</td>\n",
       "      <td id=\"T_1e2a6_row0_col5\" class=\"data row0 col5\" >0.0000</td>\n",
       "      <td id=\"T_1e2a6_row0_col6\" class=\"data row0 col6\" >0.0000</td>\n",
       "      <td id=\"T_1e2a6_row0_col7\" class=\"data row0 col7\" >0.0000</td>\n",
       "    </tr>\n",
       "  </tbody>\n",
       "</table>\n"
      ],
      "text/plain": [
       "<pandas.io.formats.style.Styler at 0x7f8c00402bf0>"
      ]
     },
     "metadata": {},
     "output_type": "display_data"
    },
    {
     "data": {
      "text/html": [
       "<style type=\"text/css\">\n",
       "</style>\n",
       "<table id=\"T_7ee6c\">\n",
       "  <thead>\n",
       "    <tr>\n",
       "      <th class=\"blank level0\" >&nbsp;</th>\n",
       "      <th id=\"T_7ee6c_level0_col0\" class=\"col_heading level0 col0\" >Model</th>\n",
       "      <th id=\"T_7ee6c_level0_col1\" class=\"col_heading level0 col1\" >Accuracy</th>\n",
       "      <th id=\"T_7ee6c_level0_col2\" class=\"col_heading level0 col2\" >AUC</th>\n",
       "      <th id=\"T_7ee6c_level0_col3\" class=\"col_heading level0 col3\" >Recall</th>\n",
       "      <th id=\"T_7ee6c_level0_col4\" class=\"col_heading level0 col4\" >Prec.</th>\n",
       "      <th id=\"T_7ee6c_level0_col5\" class=\"col_heading level0 col5\" >F1</th>\n",
       "      <th id=\"T_7ee6c_level0_col6\" class=\"col_heading level0 col6\" >Kappa</th>\n",
       "      <th id=\"T_7ee6c_level0_col7\" class=\"col_heading level0 col7\" >MCC</th>\n",
       "    </tr>\n",
       "  </thead>\n",
       "  <tbody>\n",
       "    <tr>\n",
       "      <th id=\"T_7ee6c_level0_row0\" class=\"row_heading level0 row0\" >0</th>\n",
       "      <td id=\"T_7ee6c_row0_col0\" class=\"data row0 col0\" >Gradient Boosting Classifier</td>\n",
       "      <td id=\"T_7ee6c_row0_col1\" class=\"data row0 col1\" >0.8918</td>\n",
       "      <td id=\"T_7ee6c_row0_col2\" class=\"data row0 col2\" >0.6374</td>\n",
       "      <td id=\"T_7ee6c_row0_col3\" class=\"data row0 col3\" >0.0006</td>\n",
       "      <td id=\"T_7ee6c_row0_col4\" class=\"data row0 col4\" >0.5000</td>\n",
       "      <td id=\"T_7ee6c_row0_col5\" class=\"data row0 col5\" >0.0012</td>\n",
       "      <td id=\"T_7ee6c_row0_col6\" class=\"data row0 col6\" >0.0009</td>\n",
       "      <td id=\"T_7ee6c_row0_col7\" class=\"data row0 col7\" >0.0141</td>\n",
       "    </tr>\n",
       "  </tbody>\n",
       "</table>\n"
      ],
      "text/plain": [
       "<pandas.io.formats.style.Styler at 0x7f8c01a90310>"
      ]
     },
     "metadata": {},
     "output_type": "display_data"
    },
    {
     "data": {
      "text/html": [
       "<style type=\"text/css\">\n",
       "</style>\n",
       "<table id=\"T_f8ea5\">\n",
       "  <thead>\n",
       "    <tr>\n",
       "      <th class=\"blank level0\" >&nbsp;</th>\n",
       "      <th id=\"T_f8ea5_level0_col0\" class=\"col_heading level0 col0\" >Model</th>\n",
       "      <th id=\"T_f8ea5_level0_col1\" class=\"col_heading level0 col1\" >Accuracy</th>\n",
       "      <th id=\"T_f8ea5_level0_col2\" class=\"col_heading level0 col2\" >AUC</th>\n",
       "      <th id=\"T_f8ea5_level0_col3\" class=\"col_heading level0 col3\" >Recall</th>\n",
       "      <th id=\"T_f8ea5_level0_col4\" class=\"col_heading level0 col4\" >Prec.</th>\n",
       "      <th id=\"T_f8ea5_level0_col5\" class=\"col_heading level0 col5\" >F1</th>\n",
       "      <th id=\"T_f8ea5_level0_col6\" class=\"col_heading level0 col6\" >Kappa</th>\n",
       "      <th id=\"T_f8ea5_level0_col7\" class=\"col_heading level0 col7\" >MCC</th>\n",
       "    </tr>\n",
       "  </thead>\n",
       "  <tbody>\n",
       "    <tr>\n",
       "      <th id=\"T_f8ea5_level0_row0\" class=\"row_heading level0 row0\" >0</th>\n",
       "      <td id=\"T_f8ea5_row0_col0\" class=\"data row0 col0\" >Light Gradient Boosting Machine</td>\n",
       "      <td id=\"T_f8ea5_row0_col1\" class=\"data row0 col1\" >0.8919</td>\n",
       "      <td id=\"T_f8ea5_row0_col2\" class=\"data row0 col2\" >0.6365</td>\n",
       "      <td id=\"T_f8ea5_row0_col3\" class=\"data row0 col3\" >0.0012</td>\n",
       "      <td id=\"T_f8ea5_row0_col4\" class=\"data row0 col4\" >0.6667</td>\n",
       "      <td id=\"T_f8ea5_row0_col5\" class=\"data row0 col5\" >0.0023</td>\n",
       "      <td id=\"T_f8ea5_row0_col6\" class=\"data row0 col6\" >0.0019</td>\n",
       "      <td id=\"T_f8ea5_row0_col7\" class=\"data row0 col7\" >0.0246</td>\n",
       "    </tr>\n",
       "  </tbody>\n",
       "</table>\n"
      ],
      "text/plain": [
       "<pandas.io.formats.style.Styler at 0x7f8c0041d090>"
      ]
     },
     "metadata": {},
     "output_type": "display_data"
    },
    {
     "data": {
      "text/html": [
       "<style type=\"text/css\">\n",
       "</style>\n",
       "<table id=\"T_19a4a\">\n",
       "  <thead>\n",
       "    <tr>\n",
       "      <th class=\"blank level0\" >&nbsp;</th>\n",
       "      <th id=\"T_19a4a_level0_col0\" class=\"col_heading level0 col0\" >Model</th>\n",
       "      <th id=\"T_19a4a_level0_col1\" class=\"col_heading level0 col1\" >Accuracy</th>\n",
       "      <th id=\"T_19a4a_level0_col2\" class=\"col_heading level0 col2\" >AUC</th>\n",
       "      <th id=\"T_19a4a_level0_col3\" class=\"col_heading level0 col3\" >Recall</th>\n",
       "      <th id=\"T_19a4a_level0_col4\" class=\"col_heading level0 col4\" >Prec.</th>\n",
       "      <th id=\"T_19a4a_level0_col5\" class=\"col_heading level0 col5\" >F1</th>\n",
       "      <th id=\"T_19a4a_level0_col6\" class=\"col_heading level0 col6\" >Kappa</th>\n",
       "      <th id=\"T_19a4a_level0_col7\" class=\"col_heading level0 col7\" >MCC</th>\n",
       "    </tr>\n",
       "  </thead>\n",
       "  <tbody>\n",
       "    <tr>\n",
       "      <th id=\"T_19a4a_level0_row0\" class=\"row_heading level0 row0\" >0</th>\n",
       "      <td id=\"T_19a4a_row0_col0\" class=\"data row0 col0\" >Random Forest Classifier</td>\n",
       "      <td id=\"T_19a4a_row0_col1\" class=\"data row0 col1\" >0.8918</td>\n",
       "      <td id=\"T_19a4a_row0_col2\" class=\"data row0 col2\" >0.6040</td>\n",
       "      <td id=\"T_19a4a_row0_col3\" class=\"data row0 col3\" >0.0000</td>\n",
       "      <td id=\"T_19a4a_row0_col4\" class=\"data row0 col4\" >0.0000</td>\n",
       "      <td id=\"T_19a4a_row0_col5\" class=\"data row0 col5\" >0.0000</td>\n",
       "      <td id=\"T_19a4a_row0_col6\" class=\"data row0 col6\" >0.0000</td>\n",
       "      <td id=\"T_19a4a_row0_col7\" class=\"data row0 col7\" >0.0000</td>\n",
       "    </tr>\n",
       "  </tbody>\n",
       "</table>\n"
      ],
      "text/plain": [
       "<pandas.io.formats.style.Styler at 0x7f8c006ba4d0>"
      ]
     },
     "metadata": {},
     "output_type": "display_data"
    }
   ],
   "source": [
    "test_prediction_ada, test_prediction_gbc, test_prediction_lightgbm, test_prediction_rf = model.common.batch_predict_and_odds(test_data, [regression_model_ada, regression_model_gbc, regression_model_lightgbm, regression_model_rf])"
   ]
  },
  {
   "cell_type": "code",
   "execution_count": 16,
   "metadata": {
    "execution": {
     "iopub.execute_input": "2023-07-08T04:14:44.611963Z",
     "iopub.status.busy": "2023-07-08T04:14:44.611692Z",
     "iopub.status.idle": "2023-07-08T04:14:44.687430Z",
     "shell.execute_reply": "2023-07-08T04:14:44.685794Z",
     "shell.execute_reply.started": "2023-07-08T04:14:44.611936Z"
    }
   },
   "outputs": [
    {
     "data": {
      "text/html": [
       "<table>\n",
       "<tbody>\n",
       "<tr><td>model   </td><td>0.6     </td><td>0.7     </td><td>0.75    </td><td>0.8     </td><td>0.85    </td></tr>\n",
       "<tr><td>ada     </td><td>(0, nan)</td><td>(0, nan)</td><td>(0, nan)</td><td>(0, nan)</td><td>(0, nan)</td></tr>\n",
       "<tr><td>gbc     </td><td>(0, nan)</td><td>(0, nan)</td><td>(0, nan)</td><td>(0, nan)</td><td>(0, nan)</td></tr>\n",
       "<tr><td>lightgbm</td><td>(1, 1.0)</td><td>(0, nan)</td><td>(0, nan)</td><td>(0, nan)</td><td>(0, nan)</td></tr>\n",
       "<tr><td>rf      </td><td>(0, nan)</td><td>(0, nan)</td><td>(0, nan)</td><td>(0, nan)</td><td>(0, nan)</td></tr>\n",
       "</tbody>\n",
       "</table>"
      ],
      "text/plain": [
       "'<table>\\n<tbody>\\n<tr><td>model   </td><td>0.6     </td><td>0.7     </td><td>0.75    </td><td>0.8     </td><td>0.85    </td></tr>\\n<tr><td>ada     </td><td>(0, nan)</td><td>(0, nan)</td><td>(0, nan)</td><td>(0, nan)</td><td>(0, nan)</td></tr>\\n<tr><td>gbc     </td><td>(0, nan)</td><td>(0, nan)</td><td>(0, nan)</td><td>(0, nan)</td><td>(0, nan)</td></tr>\\n<tr><td>lightgbm</td><td>(1, 1.0)</td><td>(0, nan)</td><td>(0, nan)</td><td>(0, nan)</td><td>(0, nan)</td></tr>\\n<tr><td>rf      </td><td>(0, nan)</td><td>(0, nan)</td><td>(0, nan)</td><td>(0, nan)</td><td>(0, nan)</td></tr>\\n</tbody>\\n</table>'"
      ]
     },
     "execution_count": 16,
     "metadata": {},
     "output_type": "execute_result"
    }
   ],
   "source": [
    "model.common.evaluate_predictions([(test_prediction_ada, \"ada\"), (test_prediction_gbc, \"gbc\"), (test_prediction_lightgbm, \"lightgbm\"), (test_prediction_rf, \"rf\")], [0.6, 0.7, 0.75, 0.8, 0.85], target_column)"
   ]
  },
  {
   "cell_type": "markdown",
   "metadata": {
    "id": "sOfz0zBX994h"
   },
   "source": [
    "**Finalize Model**"
   ]
  },
  {
   "cell_type": "code",
   "execution_count": 17,
   "metadata": {
    "colab": {
     "base_uri": "https://localhost:8080/",
     "height": 34
    },
    "execution": {
     "iopub.execute_input": "2023-07-08T04:14:44.691233Z",
     "iopub.status.busy": "2023-07-08T04:14:44.690462Z",
     "iopub.status.idle": "2023-07-08T04:16:24.592698Z",
     "shell.execute_reply": "2023-07-08T04:16:24.591778Z",
     "shell.execute_reply.started": "2023-07-08T04:14:44.691177Z"
    },
    "id": "gutfxdh8-DKy",
    "outputId": "2e862724-33f5-45f0-ed52-aade46f98c7d"
   },
   "outputs": [],
   "source": [
    "# train over the whole dataset without validation split\n",
    "regression_model_finalized_ada = pycaret.classification.finalize_model(regression_model_ada)\n",
    "regression_model_finalized_gbc = pycaret.classification.finalize_model(regression_model_gbc)\n",
    "regression_model_finalized_lightgbm = pycaret.classification.finalize_model(regression_model_lightgbm)\n",
    "regression_model_finalized_rf = pycaret.classification.finalize_model(regression_model_rf)"
   ]
  },
  {
   "cell_type": "code",
   "execution_count": 18,
   "metadata": {
    "execution": {
     "iopub.execute_input": "2023-07-08T04:16:24.594069Z",
     "iopub.status.busy": "2023-07-08T04:16:24.593910Z",
     "iopub.status.idle": "2023-07-08T04:16:25.770954Z",
     "shell.execute_reply": "2023-07-08T04:16:25.770217Z",
     "shell.execute_reply.started": "2023-07-08T04:16:24.594058Z"
    }
   },
   "outputs": [
    {
     "data": {
      "text/html": [
       "<style type=\"text/css\">\n",
       "</style>\n",
       "<table id=\"T_ab654\">\n",
       "  <thead>\n",
       "    <tr>\n",
       "      <th class=\"blank level0\" >&nbsp;</th>\n",
       "      <th id=\"T_ab654_level0_col0\" class=\"col_heading level0 col0\" >Model</th>\n",
       "      <th id=\"T_ab654_level0_col1\" class=\"col_heading level0 col1\" >Accuracy</th>\n",
       "      <th id=\"T_ab654_level0_col2\" class=\"col_heading level0 col2\" >AUC</th>\n",
       "      <th id=\"T_ab654_level0_col3\" class=\"col_heading level0 col3\" >Recall</th>\n",
       "      <th id=\"T_ab654_level0_col4\" class=\"col_heading level0 col4\" >Prec.</th>\n",
       "      <th id=\"T_ab654_level0_col5\" class=\"col_heading level0 col5\" >F1</th>\n",
       "      <th id=\"T_ab654_level0_col6\" class=\"col_heading level0 col6\" >Kappa</th>\n",
       "      <th id=\"T_ab654_level0_col7\" class=\"col_heading level0 col7\" >MCC</th>\n",
       "    </tr>\n",
       "  </thead>\n",
       "  <tbody>\n",
       "    <tr>\n",
       "      <th id=\"T_ab654_level0_row0\" class=\"row_heading level0 row0\" >0</th>\n",
       "      <td id=\"T_ab654_row0_col0\" class=\"data row0 col0\" >Ada Boost Classifier</td>\n",
       "      <td id=\"T_ab654_row0_col1\" class=\"data row0 col1\" >0.8918</td>\n",
       "      <td id=\"T_ab654_row0_col2\" class=\"data row0 col2\" >0.6318</td>\n",
       "      <td id=\"T_ab654_row0_col3\" class=\"data row0 col3\" >0.0000</td>\n",
       "      <td id=\"T_ab654_row0_col4\" class=\"data row0 col4\" >0.0000</td>\n",
       "      <td id=\"T_ab654_row0_col5\" class=\"data row0 col5\" >0.0000</td>\n",
       "      <td id=\"T_ab654_row0_col6\" class=\"data row0 col6\" >0.0000</td>\n",
       "      <td id=\"T_ab654_row0_col7\" class=\"data row0 col7\" >0.0000</td>\n",
       "    </tr>\n",
       "  </tbody>\n",
       "</table>\n"
      ],
      "text/plain": [
       "<pandas.io.formats.style.Styler at 0x7f8bfbfa58a0>"
      ]
     },
     "metadata": {},
     "output_type": "display_data"
    },
    {
     "data": {
      "text/html": [
       "<style type=\"text/css\">\n",
       "</style>\n",
       "<table id=\"T_34c14\">\n",
       "  <thead>\n",
       "    <tr>\n",
       "      <th class=\"blank level0\" >&nbsp;</th>\n",
       "      <th id=\"T_34c14_level0_col0\" class=\"col_heading level0 col0\" >Model</th>\n",
       "      <th id=\"T_34c14_level0_col1\" class=\"col_heading level0 col1\" >Accuracy</th>\n",
       "      <th id=\"T_34c14_level0_col2\" class=\"col_heading level0 col2\" >AUC</th>\n",
       "      <th id=\"T_34c14_level0_col3\" class=\"col_heading level0 col3\" >Recall</th>\n",
       "      <th id=\"T_34c14_level0_col4\" class=\"col_heading level0 col4\" >Prec.</th>\n",
       "      <th id=\"T_34c14_level0_col5\" class=\"col_heading level0 col5\" >F1</th>\n",
       "      <th id=\"T_34c14_level0_col6\" class=\"col_heading level0 col6\" >Kappa</th>\n",
       "      <th id=\"T_34c14_level0_col7\" class=\"col_heading level0 col7\" >MCC</th>\n",
       "    </tr>\n",
       "  </thead>\n",
       "  <tbody>\n",
       "    <tr>\n",
       "      <th id=\"T_34c14_level0_row0\" class=\"row_heading level0 row0\" >0</th>\n",
       "      <td id=\"T_34c14_row0_col0\" class=\"data row0 col0\" >Gradient Boosting Classifier</td>\n",
       "      <td id=\"T_34c14_row0_col1\" class=\"data row0 col1\" >0.8918</td>\n",
       "      <td id=\"T_34c14_row0_col2\" class=\"data row0 col2\" >0.6389</td>\n",
       "      <td id=\"T_34c14_row0_col3\" class=\"data row0 col3\" >0.0000</td>\n",
       "      <td id=\"T_34c14_row0_col4\" class=\"data row0 col4\" >0.0000</td>\n",
       "      <td id=\"T_34c14_row0_col5\" class=\"data row0 col5\" >0.0000</td>\n",
       "      <td id=\"T_34c14_row0_col6\" class=\"data row0 col6\" >-0.0001</td>\n",
       "      <td id=\"T_34c14_row0_col7\" class=\"data row0 col7\" >-0.0028</td>\n",
       "    </tr>\n",
       "  </tbody>\n",
       "</table>\n"
      ],
      "text/plain": [
       "<pandas.io.formats.style.Styler at 0x7f8c006bab90>"
      ]
     },
     "metadata": {},
     "output_type": "display_data"
    },
    {
     "data": {
      "text/html": [
       "<style type=\"text/css\">\n",
       "</style>\n",
       "<table id=\"T_44e43\">\n",
       "  <thead>\n",
       "    <tr>\n",
       "      <th class=\"blank level0\" >&nbsp;</th>\n",
       "      <th id=\"T_44e43_level0_col0\" class=\"col_heading level0 col0\" >Model</th>\n",
       "      <th id=\"T_44e43_level0_col1\" class=\"col_heading level0 col1\" >Accuracy</th>\n",
       "      <th id=\"T_44e43_level0_col2\" class=\"col_heading level0 col2\" >AUC</th>\n",
       "      <th id=\"T_44e43_level0_col3\" class=\"col_heading level0 col3\" >Recall</th>\n",
       "      <th id=\"T_44e43_level0_col4\" class=\"col_heading level0 col4\" >Prec.</th>\n",
       "      <th id=\"T_44e43_level0_col5\" class=\"col_heading level0 col5\" >F1</th>\n",
       "      <th id=\"T_44e43_level0_col6\" class=\"col_heading level0 col6\" >Kappa</th>\n",
       "      <th id=\"T_44e43_level0_col7\" class=\"col_heading level0 col7\" >MCC</th>\n",
       "    </tr>\n",
       "  </thead>\n",
       "  <tbody>\n",
       "    <tr>\n",
       "      <th id=\"T_44e43_level0_row0\" class=\"row_heading level0 row0\" >0</th>\n",
       "      <td id=\"T_44e43_row0_col0\" class=\"data row0 col0\" >Light Gradient Boosting Machine</td>\n",
       "      <td id=\"T_44e43_row0_col1\" class=\"data row0 col1\" >0.8919</td>\n",
       "      <td id=\"T_44e43_row0_col2\" class=\"data row0 col2\" >0.6339</td>\n",
       "      <td id=\"T_44e43_row0_col3\" class=\"data row0 col3\" >0.0012</td>\n",
       "      <td id=\"T_44e43_row0_col4\" class=\"data row0 col4\" >0.6667</td>\n",
       "      <td id=\"T_44e43_row0_col5\" class=\"data row0 col5\" >0.0023</td>\n",
       "      <td id=\"T_44e43_row0_col6\" class=\"data row0 col6\" >0.0019</td>\n",
       "      <td id=\"T_44e43_row0_col7\" class=\"data row0 col7\" >0.0246</td>\n",
       "    </tr>\n",
       "  </tbody>\n",
       "</table>\n"
      ],
      "text/plain": [
       "<pandas.io.formats.style.Styler at 0x7f8c0041d510>"
      ]
     },
     "metadata": {},
     "output_type": "display_data"
    },
    {
     "data": {
      "text/html": [
       "<style type=\"text/css\">\n",
       "</style>\n",
       "<table id=\"T_d5a87\">\n",
       "  <thead>\n",
       "    <tr>\n",
       "      <th class=\"blank level0\" >&nbsp;</th>\n",
       "      <th id=\"T_d5a87_level0_col0\" class=\"col_heading level0 col0\" >Model</th>\n",
       "      <th id=\"T_d5a87_level0_col1\" class=\"col_heading level0 col1\" >Accuracy</th>\n",
       "      <th id=\"T_d5a87_level0_col2\" class=\"col_heading level0 col2\" >AUC</th>\n",
       "      <th id=\"T_d5a87_level0_col3\" class=\"col_heading level0 col3\" >Recall</th>\n",
       "      <th id=\"T_d5a87_level0_col4\" class=\"col_heading level0 col4\" >Prec.</th>\n",
       "      <th id=\"T_d5a87_level0_col5\" class=\"col_heading level0 col5\" >F1</th>\n",
       "      <th id=\"T_d5a87_level0_col6\" class=\"col_heading level0 col6\" >Kappa</th>\n",
       "      <th id=\"T_d5a87_level0_col7\" class=\"col_heading level0 col7\" >MCC</th>\n",
       "    </tr>\n",
       "  </thead>\n",
       "  <tbody>\n",
       "    <tr>\n",
       "      <th id=\"T_d5a87_level0_row0\" class=\"row_heading level0 row0\" >0</th>\n",
       "      <td id=\"T_d5a87_row0_col0\" class=\"data row0 col0\" >Random Forest Classifier</td>\n",
       "      <td id=\"T_d5a87_row0_col1\" class=\"data row0 col1\" >0.8918</td>\n",
       "      <td id=\"T_d5a87_row0_col2\" class=\"data row0 col2\" >0.6040</td>\n",
       "      <td id=\"T_d5a87_row0_col3\" class=\"data row0 col3\" >0.0000</td>\n",
       "      <td id=\"T_d5a87_row0_col4\" class=\"data row0 col4\" >0.0000</td>\n",
       "      <td id=\"T_d5a87_row0_col5\" class=\"data row0 col5\" >0.0000</td>\n",
       "      <td id=\"T_d5a87_row0_col6\" class=\"data row0 col6\" >-0.0001</td>\n",
       "      <td id=\"T_d5a87_row0_col7\" class=\"data row0 col7\" >-0.0028</td>\n",
       "    </tr>\n",
       "  </tbody>\n",
       "</table>\n"
      ],
      "text/plain": [
       "<pandas.io.formats.style.Styler at 0x7f8bfbfe0340>"
      ]
     },
     "metadata": {},
     "output_type": "display_data"
    }
   ],
   "source": [
    "test_finalized_prediction_ada, test_finalized_prediction_gbc, test_finalized_prediction_lightgbm, test_finalized_prediction_rf = model.common.batch_predict_and_odds(\n",
    "    test_data, \n",
    "    [regression_model_finalized_ada, regression_model_finalized_gbc, regression_model_finalized_lightgbm, regression_model_finalized_rf])"
   ]
  },
  {
   "cell_type": "code",
   "execution_count": 19,
   "metadata": {
    "execution": {
     "iopub.execute_input": "2023-07-08T04:16:25.771910Z",
     "iopub.status.busy": "2023-07-08T04:16:25.771721Z",
     "iopub.status.idle": "2023-07-08T04:16:25.833382Z",
     "shell.execute_reply": "2023-07-08T04:16:25.832843Z",
     "shell.execute_reply.started": "2023-07-08T04:16:25.771893Z"
    }
   },
   "outputs": [
    {
     "data": {
      "text/html": [
       "<table>\n",
       "<tbody>\n",
       "<tr><td>model   </td><td>0.6     </td><td>0.7     </td><td>0.75    </td><td>0.8     </td><td>0.85    </td></tr>\n",
       "<tr><td>ada     </td><td>(0, nan)</td><td>(0, nan)</td><td>(0, nan)</td><td>(0, nan)</td><td>(0, nan)</td></tr>\n",
       "<tr><td>gbc     </td><td>(0, nan)</td><td>(0, nan)</td><td>(0, nan)</td><td>(0, nan)</td><td>(0, nan)</td></tr>\n",
       "<tr><td>lightgbm</td><td>(0, nan)</td><td>(0, nan)</td><td>(0, nan)</td><td>(0, nan)</td><td>(0, nan)</td></tr>\n",
       "<tr><td>rf      </td><td>(0, nan)</td><td>(0, nan)</td><td>(0, nan)</td><td>(0, nan)</td><td>(0, nan)</td></tr>\n",
       "</tbody>\n",
       "</table>"
      ],
      "text/plain": [
       "'<table>\\n<tbody>\\n<tr><td>model   </td><td>0.6     </td><td>0.7     </td><td>0.75    </td><td>0.8     </td><td>0.85    </td></tr>\\n<tr><td>ada     </td><td>(0, nan)</td><td>(0, nan)</td><td>(0, nan)</td><td>(0, nan)</td><td>(0, nan)</td></tr>\\n<tr><td>gbc     </td><td>(0, nan)</td><td>(0, nan)</td><td>(0, nan)</td><td>(0, nan)</td><td>(0, nan)</td></tr>\\n<tr><td>lightgbm</td><td>(0, nan)</td><td>(0, nan)</td><td>(0, nan)</td><td>(0, nan)</td><td>(0, nan)</td></tr>\\n<tr><td>rf      </td><td>(0, nan)</td><td>(0, nan)</td><td>(0, nan)</td><td>(0, nan)</td><td>(0, nan)</td></tr>\\n</tbody>\\n</table>'"
      ]
     },
     "execution_count": 19,
     "metadata": {},
     "output_type": "execute_result"
    }
   ],
   "source": [
    "model.common.evaluate_predictions([(test_finalized_prediction_ada, \"ada\"), (test_finalized_prediction_gbc, \"gbc\"), (test_finalized_prediction_lightgbm, \"lightgbm\"), (test_finalized_prediction_rf, \"rf\")], [0.6, 0.7, 0.75, 0.8, 0.85], target_column)"
   ]
  },
  {
   "cell_type": "markdown",
   "metadata": {},
   "source": [
    "**Save Model**"
   ]
  },
  {
   "cell_type": "code",
   "execution_count": 20,
   "metadata": {
    "execution": {
     "iopub.execute_input": "2023-07-08T04:16:25.834215Z",
     "iopub.status.busy": "2023-07-08T04:16:25.834033Z",
     "iopub.status.idle": "2023-07-08T04:16:25.960055Z",
     "shell.execute_reply": "2023-07-08T04:16:25.959437Z",
     "shell.execute_reply.started": "2023-07-08T04:16:25.834200Z"
    }
   },
   "outputs": [
    {
     "name": "stdout",
     "output_type": "stream",
     "text": [
      "Transformation Pipeline and Model Successfully Saved\n"
     ]
    },
    {
     "data": {
      "text/plain": [
       "(Pipeline(memory=FastMemory(location=/tmp/joblib),\n",
       "          steps=[('numerical_imputer',\n",
       "                  TransformerWrapper(exclude=None,\n",
       "                                     include=['pitching_gamesPlayed',\n",
       "                                              'pitching_runs_per_game',\n",
       "                                              'pitching_strikeOuts_per_game',\n",
       "                                              'pitching_hits_per_game',\n",
       "                                              'batting_gamesPlayed',\n",
       "                                              'batting_runs_per_game',\n",
       "                                              'batting_strikeOuts_per_game',\n",
       "                                              'batting_hits_per_game',\n",
       "                                              'batting_rbi',\n",
       "                                              'pitching_cur_...\n",
       "                                                       colsample_bytree=1.0,\n",
       "                                                       importance_type='split',\n",
       "                                                       learning_rate=0.1,\n",
       "                                                       max_depth=-1,\n",
       "                                                       min_child_samples=20,\n",
       "                                                       min_child_weight=0.001,\n",
       "                                                       min_split_gain=0.0,\n",
       "                                                       n_estimators=100,\n",
       "                                                       n_jobs=-1, num_leaves=31,\n",
       "                                                       objective=None,\n",
       "                                                       probability_threshold=0.5,\n",
       "                                                       random_state=5437,\n",
       "                                                       reg_alpha=0.0,\n",
       "                                                       reg_lambda=0.0,\n",
       "                                                       silent='warn',\n",
       "                                                       subsample=1.0,\n",
       "                                                       subsample_for_bin=200000,\n",
       "                                                       subsample_freq=0))],\n",
       "          verbose=False),\n",
       " 'model/batter_1homeruns_regression_model.pkl')"
      ]
     },
     "execution_count": 20,
     "metadata": {},
     "output_type": "execute_result"
    }
   ],
   "source": [
    "pycaret.classification.save_model(regression_model_finalized_lightgbm, model_file_name)"
   ]
  },
  {
   "cell_type": "code",
   "execution_count": null,
   "metadata": {},
   "outputs": [],
   "source": []
  }
 ],
 "metadata": {
  "colab": {
   "provenance": []
  },
  "kernelspec": {
   "display_name": "Python 3 (ipykernel)",
   "language": "python",
   "name": "python3"
  },
  "language_info": {
   "codemirror_mode": {
    "name": "ipython",
    "version": 3
   },
   "file_extension": ".py",
   "mimetype": "text/x-python",
   "name": "python",
   "nbconvert_exporter": "python",
   "pygments_lexer": "ipython3",
   "version": "3.10.6"
  },
  "widgets": {
   "application/vnd.jupyter.widget-state+json": {
    "1ac32fe9102d4f5a9d1511e64a1d5e5d": {
     "model_module": "@jupyter-widgets/base",
     "model_module_version": "1.2.0",
     "model_name": "LayoutModel",
     "state": {
      "_model_module": "@jupyter-widgets/base",
      "_model_module_version": "1.2.0",
      "_model_name": "LayoutModel",
      "_view_count": null,
      "_view_module": "@jupyter-widgets/base",
      "_view_module_version": "1.2.0",
      "_view_name": "LayoutView",
      "align_content": null,
      "align_items": null,
      "align_self": null,
      "border": null,
      "bottom": null,
      "display": null,
      "flex": null,
      "flex_flow": null,
      "grid_area": null,
      "grid_auto_columns": null,
      "grid_auto_flow": null,
      "grid_auto_rows": null,
      "grid_column": null,
      "grid_gap": null,
      "grid_row": null,
      "grid_template_areas": null,
      "grid_template_columns": null,
      "grid_template_rows": null,
      "height": null,
      "justify_content": null,
      "justify_items": null,
      "left": null,
      "margin": null,
      "max_height": null,
      "max_width": null,
      "min_height": null,
      "min_width": null,
      "object_fit": null,
      "object_position": null,
      "order": null,
      "overflow": null,
      "overflow_x": null,
      "overflow_y": null,
      "padding": null,
      "right": null,
      "top": null,
      "visibility": null,
      "width": null
     }
    },
    "40b50c57e470496cb6c94a0693636fd7": {
     "model_module": "@jupyter-widgets/base",
     "model_module_version": "1.2.0",
     "model_name": "LayoutModel",
     "state": {
      "_model_module": "@jupyter-widgets/base",
      "_model_module_version": "1.2.0",
      "_model_name": "LayoutModel",
      "_view_count": null,
      "_view_module": "@jupyter-widgets/base",
      "_view_module_version": "1.2.0",
      "_view_name": "LayoutView",
      "align_content": null,
      "align_items": null,
      "align_self": null,
      "border": null,
      "bottom": null,
      "display": null,
      "flex": null,
      "flex_flow": null,
      "grid_area": null,
      "grid_auto_columns": null,
      "grid_auto_flow": null,
      "grid_auto_rows": null,
      "grid_column": null,
      "grid_gap": null,
      "grid_row": null,
      "grid_template_areas": null,
      "grid_template_columns": null,
      "grid_template_rows": null,
      "height": null,
      "justify_content": null,
      "justify_items": null,
      "left": null,
      "margin": null,
      "max_height": null,
      "max_width": null,
      "min_height": null,
      "min_width": null,
      "object_fit": null,
      "object_position": null,
      "order": null,
      "overflow": null,
      "overflow_x": null,
      "overflow_y": null,
      "padding": null,
      "right": null,
      "top": null,
      "visibility": "hidden",
      "width": null
     }
    },
    "46b9d3b6cd6e4f76a42dd4f216dc1644": {
     "model_module": "@jupyter-widgets/controls",
     "model_module_version": "1.5.0",
     "model_name": "HBoxModel",
     "state": {
      "_dom_classes": [],
      "_model_module": "@jupyter-widgets/controls",
      "_model_module_version": "1.5.0",
      "_model_name": "HBoxModel",
      "_view_count": null,
      "_view_module": "@jupyter-widgets/controls",
      "_view_module_version": "1.5.0",
      "_view_name": "HBoxView",
      "box_style": "",
      "children": [
       "IPY_MODEL_cfce22755aa7471a87151793e633def1",
       "IPY_MODEL_94d7b3dc65544425b2463933c4108fa4",
       "IPY_MODEL_f92582f04a594f87a669f3c1c4d4eabc"
      ],
      "layout": "IPY_MODEL_40b50c57e470496cb6c94a0693636fd7"
     }
    },
    "4efa6d0ab419418ea9e4991c77b1ec42": {
     "model_module": "@jupyter-widgets/controls",
     "model_module_version": "1.5.0",
     "model_name": "ProgressStyleModel",
     "state": {
      "_model_module": "@jupyter-widgets/controls",
      "_model_module_version": "1.5.0",
      "_model_name": "ProgressStyleModel",
      "_view_count": null,
      "_view_module": "@jupyter-widgets/base",
      "_view_module_version": "1.2.0",
      "_view_name": "StyleView",
      "bar_color": null,
      "description_width": ""
     }
    },
    "81feddb738c64cbc8b7dbc7aec2730de": {
     "model_module": "@jupyter-widgets/controls",
     "model_module_version": "1.5.0",
     "model_name": "DescriptionStyleModel",
     "state": {
      "_model_module": "@jupyter-widgets/controls",
      "_model_module_version": "1.5.0",
      "_model_name": "DescriptionStyleModel",
      "_view_count": null,
      "_view_module": "@jupyter-widgets/base",
      "_view_module_version": "1.2.0",
      "_view_name": "StyleView",
      "description_width": ""
     }
    },
    "94d7b3dc65544425b2463933c4108fa4": {
     "model_module": "@jupyter-widgets/controls",
     "model_module_version": "1.5.0",
     "model_name": "FloatProgressModel",
     "state": {
      "_dom_classes": [],
      "_model_module": "@jupyter-widgets/controls",
      "_model_module_version": "1.5.0",
      "_model_name": "FloatProgressModel",
      "_view_count": null,
      "_view_module": "@jupyter-widgets/controls",
      "_view_module_version": "1.5.0",
      "_view_name": "ProgressView",
      "bar_style": "",
      "description": "",
      "description_tooltip": null,
      "layout": "IPY_MODEL_eb74dfbcca4a458eb81d87fbae5bf166",
      "max": 4,
      "min": 0,
      "orientation": "horizontal",
      "style": "IPY_MODEL_4efa6d0ab419418ea9e4991c77b1ec42",
      "value": 4
     }
    },
    "bec03081ad154466a3a0abca5a8462f4": {
     "model_module": "@jupyter-widgets/base",
     "model_module_version": "1.2.0",
     "model_name": "LayoutModel",
     "state": {
      "_model_module": "@jupyter-widgets/base",
      "_model_module_version": "1.2.0",
      "_model_name": "LayoutModel",
      "_view_count": null,
      "_view_module": "@jupyter-widgets/base",
      "_view_module_version": "1.2.0",
      "_view_name": "LayoutView",
      "align_content": null,
      "align_items": null,
      "align_self": null,
      "border": null,
      "bottom": null,
      "display": null,
      "flex": null,
      "flex_flow": null,
      "grid_area": null,
      "grid_auto_columns": null,
      "grid_auto_flow": null,
      "grid_auto_rows": null,
      "grid_column": null,
      "grid_gap": null,
      "grid_row": null,
      "grid_template_areas": null,
      "grid_template_columns": null,
      "grid_template_rows": null,
      "height": null,
      "justify_content": null,
      "justify_items": null,
      "left": null,
      "margin": null,
      "max_height": null,
      "max_width": null,
      "min_height": null,
      "min_width": null,
      "object_fit": null,
      "object_position": null,
      "order": null,
      "overflow": null,
      "overflow_x": null,
      "overflow_y": null,
      "padding": null,
      "right": null,
      "top": null,
      "visibility": null,
      "width": null
     }
    },
    "cfcd697393754f1d93106a2d6e07ea05": {
     "model_module": "@jupyter-widgets/controls",
     "model_module_version": "1.5.0",
     "model_name": "DescriptionStyleModel",
     "state": {
      "_model_module": "@jupyter-widgets/controls",
      "_model_module_version": "1.5.0",
      "_model_name": "DescriptionStyleModel",
      "_view_count": null,
      "_view_module": "@jupyter-widgets/base",
      "_view_module_version": "1.2.0",
      "_view_name": "StyleView",
      "description_width": ""
     }
    },
    "cfce22755aa7471a87151793e633def1": {
     "model_module": "@jupyter-widgets/controls",
     "model_module_version": "1.5.0",
     "model_name": "HTMLModel",
     "state": {
      "_dom_classes": [],
      "_model_module": "@jupyter-widgets/controls",
      "_model_module_version": "1.5.0",
      "_model_name": "HTMLModel",
      "_view_count": null,
      "_view_module": "@jupyter-widgets/controls",
      "_view_module_version": "1.5.0",
      "_view_name": "HTMLView",
      "description": "",
      "description_tooltip": null,
      "layout": "IPY_MODEL_bec03081ad154466a3a0abca5a8462f4",
      "placeholder": "​",
      "style": "IPY_MODEL_81feddb738c64cbc8b7dbc7aec2730de",
      "value": "Processing: 100%"
     }
    },
    "eb74dfbcca4a458eb81d87fbae5bf166": {
     "model_module": "@jupyter-widgets/base",
     "model_module_version": "1.2.0",
     "model_name": "LayoutModel",
     "state": {
      "_model_module": "@jupyter-widgets/base",
      "_model_module_version": "1.2.0",
      "_model_name": "LayoutModel",
      "_view_count": null,
      "_view_module": "@jupyter-widgets/base",
      "_view_module_version": "1.2.0",
      "_view_name": "LayoutView",
      "align_content": null,
      "align_items": null,
      "align_self": null,
      "border": null,
      "bottom": null,
      "display": null,
      "flex": null,
      "flex_flow": null,
      "grid_area": null,
      "grid_auto_columns": null,
      "grid_auto_flow": null,
      "grid_auto_rows": null,
      "grid_column": null,
      "grid_gap": null,
      "grid_row": null,
      "grid_template_areas": null,
      "grid_template_columns": null,
      "grid_template_rows": null,
      "height": null,
      "justify_content": null,
      "justify_items": null,
      "left": null,
      "margin": null,
      "max_height": null,
      "max_width": null,
      "min_height": null,
      "min_width": null,
      "object_fit": null,
      "object_position": null,
      "order": null,
      "overflow": null,
      "overflow_x": null,
      "overflow_y": null,
      "padding": null,
      "right": null,
      "top": null,
      "visibility": null,
      "width": null
     }
    },
    "f92582f04a594f87a669f3c1c4d4eabc": {
     "model_module": "@jupyter-widgets/controls",
     "model_module_version": "1.5.0",
     "model_name": "HTMLModel",
     "state": {
      "_dom_classes": [],
      "_model_module": "@jupyter-widgets/controls",
      "_model_module_version": "1.5.0",
      "_model_name": "HTMLModel",
      "_view_count": null,
      "_view_module": "@jupyter-widgets/controls",
      "_view_module_version": "1.5.0",
      "_view_name": "HTMLView",
      "description": "",
      "description_tooltip": null,
      "layout": "IPY_MODEL_1ac32fe9102d4f5a9d1511e64a1d5e5d",
      "placeholder": "​",
      "style": "IPY_MODEL_cfcd697393754f1d93106a2d6e07ea05",
      "value": " 4/4 [00:10&lt;00:00,  2.34s/it]"
     }
    }
   }
  }
 },
 "nbformat": 4,
 "nbformat_minor": 4
}
