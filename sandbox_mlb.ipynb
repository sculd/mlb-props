{
 "cells": [
  {
   "cell_type": "markdown",
   "id": "50f5fcb2-5a4c-4493-9164-9bec8c97c28d",
   "metadata": {
    "execution": {
     "iopub.execute_input": "2023-05-21T23:07:10.098206Z",
     "iopub.status.busy": "2023-05-21T23:07:10.097352Z",
     "iopub.status.idle": "2023-05-21T23:07:10.556539Z",
     "shell.execute_reply": "2023-05-21T23:07:10.555681Z",
     "shell.execute_reply.started": "2023-05-21T23:07:10.098149Z"
    },
    "jp-MarkdownHeadingCollapsed": true,
    "tags": []
   },
   "source": [
    "## import, read static files"
   ]
  },
  {
   "cell_type": "code",
   "execution_count": 281,
   "id": "a7c45b41-02df-486f-a296-e5cecfcccb3c",
   "metadata": {
    "execution": {
     "iopub.execute_input": "2023-05-24T23:00:30.633513Z",
     "iopub.status.busy": "2023-05-24T23:00:30.633387Z",
     "iopub.status.idle": "2023-05-24T23:00:30.639820Z",
     "shell.execute_reply": "2023-05-24T23:00:30.638667Z",
     "shell.execute_reply.started": "2023-05-24T23:00:30.633502Z"
    }
   },
   "outputs": [],
   "source": [
    "import pandas as pd, numpy as np\n",
    "import statsapi\n",
    "from statsapi import player_stat_data\n",
    "import requests\n",
    "from datetime import datetime, timedelta\n",
    "import numpy as np\n",
    "import math\n",
    "import sqlalchemy\n",
    "import mysql.connector\n",
    "import meteostat\n",
    "import pprint\n",
    "import pickle\n",
    "import threading"
   ]
  },
  {
   "cell_type": "code",
   "execution_count": null,
   "id": "eb7554ca-604d-4eec-8be4-842b56bd5902",
   "metadata": {},
   "outputs": [],
   "source": []
  },
  {
   "cell_type": "code",
   "execution_count": 129,
   "id": "fc0b9596",
   "metadata": {
    "execution": {
     "iopub.execute_input": "2023-05-23T02:42:35.962257Z",
     "iopub.status.busy": "2023-05-23T02:42:35.961872Z",
     "iopub.status.idle": "2023-05-23T02:42:36.017950Z",
     "shell.execute_reply": "2023-05-23T02:42:36.016994Z",
     "shell.execute_reply.started": "2023-05-23T02:42:35.962229Z"
    },
    "tags": []
   },
   "outputs": [],
   "source": [
    "Teams_and_IDs = pd.read_csv(\"Teams_and_IDs.csv\")\n",
    "Player_Positions = pd.read_csv(\"MLB_Player_Positions.csv\")\n",
    "Park_Data = pd.read_csv(\"mlb_parks.csv\")\n",
    "park_venues = set(Park_Data[\"Venue\"])"
   ]
  },
  {
   "cell_type": "code",
   "execution_count": 3,
   "id": "6e6ae697",
   "metadata": {
    "execution": {
     "iopub.execute_input": "2023-05-21T23:07:10.892921Z",
     "iopub.status.busy": "2023-05-21T23:07:10.892380Z",
     "iopub.status.idle": "2023-05-21T23:07:22.990048Z",
     "shell.execute_reply": "2023-05-21T23:07:22.989245Z",
     "shell.execute_reply.started": "2023-05-21T23:07:10.892883Z"
    },
    "tags": []
   },
   "outputs": [],
   "source": [
    "All_Teams_Data = []\n",
    "\n",
    "for team_id in Teams_and_IDs['Team_ID']:\n",
    "    roster_url = f\"https://statsapi.mlb.com/api/v1/teams/{team_id}/roster?rosterType=allTime\"\n",
    "    response = requests.get(roster_url)\n",
    "    roster_data = response.json()['roster']\n",
    "    for player in roster_data:\n",
    "        Player_Name = player['person']['fullName']\n",
    "        Player_ID = player['person']['id']\n",
    "        Player_Dictionary = {\"Team_ID\":team_id,\"Player Name\":Player_Name, \"Player ID\":Player_ID}\n",
    "        All_Teams_Data.append(Player_Dictionary)\n",
    "\n",
    "All_Teams_DataFrame = pd.DataFrame(All_Teams_Data)"
   ]
  },
  {
   "cell_type": "code",
   "execution_count": 4,
   "id": "2c014c75",
   "metadata": {
    "execution": {
     "iopub.execute_input": "2023-05-21T23:07:22.990903Z",
     "iopub.status.busy": "2023-05-21T23:07:22.990795Z",
     "iopub.status.idle": "2023-05-21T23:07:23.000917Z",
     "shell.execute_reply": "2023-05-21T23:07:23.000090Z",
     "shell.execute_reply.started": "2023-05-21T23:07:22.990892Z"
    },
    "tags": []
   },
   "outputs": [],
   "source": [
    "# almost the same could be achieve this way.\n",
    "All_Teams_DataFrame_ = Player_Positions.drop_duplicates(['player_name', 'player_id', 'player_team_id'])[['player_team_id', 'player_name', 'player_id']]"
   ]
  },
  {
   "cell_type": "code",
   "execution_count": 5,
   "id": "7f60f21a",
   "metadata": {
    "execution": {
     "iopub.execute_input": "2023-05-21T23:07:23.003082Z",
     "iopub.status.busy": "2023-05-21T23:07:23.002561Z",
     "iopub.status.idle": "2023-05-21T23:07:23.018793Z",
     "shell.execute_reply": "2023-05-21T23:07:23.018116Z",
     "shell.execute_reply.started": "2023-05-21T23:07:23.003063Z"
    },
    "tags": []
   },
   "outputs": [],
   "source": [
    "def Team_To_ID(team_name):\n",
    "    team_id = Teams_and_IDs[\"Team_ID\"][Teams_and_IDs['Team_Name'] == team_name].iloc[0]\n",
    "    return team_id\n",
    "\n",
    "def ID_To_Team(team_id):\n",
    "    team_name = Teams_and_IDs[\"Team_Name\"][Teams_and_IDs['Team_ID'] == team_id].iloc[0]\n",
    "    return team_name\n",
    "\n",
    "def Player_to_ID(player_name):\n",
    "    player_id = Player_Positions[\"player_id\"][Player_Positions[\"player_name\"] == player_name]\n",
    "    if len(player_id) >= 1:\n",
    "        return player_id.iloc[0]\n",
    "    else:\n",
    "        return \"\"\n",
    "\n",
    "def celsius_to_fahrenheit(celsius):\n",
    "    return ( celsius * (9/5) ) + 32    "
   ]
  },
  {
   "cell_type": "markdown",
   "id": "6aa1a81e",
   "metadata": {
    "jp-MarkdownHeadingCollapsed": true
   },
   "source": [
    "## peep at the api"
   ]
  },
  {
   "cell_type": "code",
   "execution_count": 243,
   "id": "a60f82c8",
   "metadata": {
    "execution": {
     "iopub.execute_input": "2023-05-21T19:19:59.547214Z",
     "iopub.status.busy": "2023-05-21T19:19:59.545997Z",
     "iopub.status.idle": "2023-05-21T19:20:20.078372Z",
     "shell.execute_reply": "2023-05-21T19:20:20.077535Z",
     "shell.execute_reply.started": "2023-05-21T19:19:59.547154Z"
    },
    "tags": []
   },
   "outputs": [
    {
     "name": "stderr",
     "output_type": "stream",
     "text": [
      "Excluding seriesStatus hydration because the MLB API throws an error for 2014-03-11 which is included in the requested date range.\n"
     ]
    }
   ],
   "source": [
    "tomorrow = (datetime.today() + timedelta(days = 1)).strftime(\"%Y-%m-%d\")\n",
    "yesterday = (datetime.today() - timedelta(days = 1)).strftime(\"%Y-%m-%d\")\n",
    "day_before_yesterday = (datetime.today() - timedelta(days = 2)).strftime(\"%Y-%m-%d\")\n",
    "\n",
    "# Schedule = statsapi.schedule(start_date = day_before_yesterday, end_date = yesterday)\n",
    "Schedule = statsapi.schedule(start_date = \"2011-04-01\", end_date = \"2020-03-01\")\n",
    "Schedule_DataFrame = pd.json_normalize(Schedule)\n",
    "\n",
    "game_id_list = list(Schedule_DataFrame[\"game_id\"].drop_duplicates())\n",
    "start = datetime.now()"
   ]
  },
  {
   "cell_type": "code",
   "execution_count": 245,
   "id": "096f9028",
   "metadata": {
    "execution": {
     "iopub.execute_input": "2023-05-21T19:20:20.106455Z",
     "iopub.status.busy": "2023-05-21T19:20:20.105743Z",
     "iopub.status.idle": "2023-05-21T19:20:20.122438Z",
     "shell.execute_reply": "2023-05-21T19:20:20.121801Z",
     "shell.execute_reply.started": "2023-05-21T19:20:20.106415Z"
    },
    "tags": []
   },
   "outputs": [
    {
     "data": {
      "text/html": [
       "<div>\n",
       "<style scoped>\n",
       "    .dataframe tbody tr th:only-of-type {\n",
       "        vertical-align: middle;\n",
       "    }\n",
       "\n",
       "    .dataframe tbody tr th {\n",
       "        vertical-align: top;\n",
       "    }\n",
       "\n",
       "    .dataframe thead th {\n",
       "        text-align: right;\n",
       "    }\n",
       "</style>\n",
       "<table border=\"1\" class=\"dataframe\">\n",
       "  <thead>\n",
       "    <tr style=\"text-align: right;\">\n",
       "      <th></th>\n",
       "      <th>game_datetime</th>\n",
       "      <th>game_date</th>\n",
       "      <th>home_probable_pitcher</th>\n",
       "      <th>away_probable_pitcher</th>\n",
       "      <th>away_score</th>\n",
       "      <th>home_score</th>\n",
       "      <th>current_inning</th>\n",
       "      <th>inning_state</th>\n",
       "      <th>status</th>\n",
       "    </tr>\n",
       "  </thead>\n",
       "  <tbody>\n",
       "    <tr>\n",
       "      <th>2987</th>\n",
       "      <td>2012-04-01T20:05:00Z</td>\n",
       "      <td>2012-04-01</td>\n",
       "      <td>Yovani Gallardo</td>\n",
       "      <td>Tim Lincecum</td>\n",
       "      <td>4</td>\n",
       "      <td>7</td>\n",
       "      <td>9</td>\n",
       "      <td>Top</td>\n",
       "      <td>Final</td>\n",
       "    </tr>\n",
       "    <tr>\n",
       "      <th>2988</th>\n",
       "      <td>2012-04-01T20:10:00Z</td>\n",
       "      <td>2012-04-01</td>\n",
       "      <td>Jeremy Guthrie</td>\n",
       "      <td>Ubaldo Jimenez</td>\n",
       "      <td>12</td>\n",
       "      <td>10</td>\n",
       "      <td>9</td>\n",
       "      <td>Bottom</td>\n",
       "      <td>Final</td>\n",
       "    </tr>\n",
       "  </tbody>\n",
       "</table>\n",
       "</div>"
      ],
      "text/plain": [
       "             game_datetime   game_date home_probable_pitcher  \\\n",
       "2987  2012-04-01T20:05:00Z  2012-04-01       Yovani Gallardo   \n",
       "2988  2012-04-01T20:10:00Z  2012-04-01        Jeremy Guthrie   \n",
       "\n",
       "     away_probable_pitcher away_score home_score current_inning inning_state  \\\n",
       "2987          Tim Lincecum          4          7              9          Top   \n",
       "2988        Ubaldo Jimenez         12         10              9       Bottom   \n",
       "\n",
       "     status  \n",
       "2987  Final  \n",
       "2988  Final  "
      ]
     },
     "execution_count": 245,
     "metadata": {},
     "output_type": "execute_result"
    }
   ],
   "source": [
    "Schedule_DataFrame[['game_datetime', 'game_date', 'home_probable_pitcher', 'away_probable_pitcher',\n",
    "       'away_score', 'home_score',\n",
    "       'current_inning', 'inning_state', 'status']].tail(2)"
   ]
  },
  {
   "cell_type": "code",
   "execution_count": 246,
   "id": "75154ad2",
   "metadata": {
    "execution": {
     "iopub.execute_input": "2023-05-21T19:20:20.124155Z",
     "iopub.status.busy": "2023-05-21T19:20:20.123716Z",
     "iopub.status.idle": "2023-05-21T19:20:20.146029Z",
     "shell.execute_reply": "2023-05-21T19:20:20.145273Z",
     "shell.execute_reply.started": "2023-05-21T19:20:20.124118Z"
    },
    "tags": []
   },
   "outputs": [
    {
     "data": {
      "text/html": [
       "<div>\n",
       "<style scoped>\n",
       "    .dataframe tbody tr th:only-of-type {\n",
       "        vertical-align: middle;\n",
       "    }\n",
       "\n",
       "    .dataframe tbody tr th {\n",
       "        vertical-align: top;\n",
       "    }\n",
       "\n",
       "    .dataframe thead th {\n",
       "        text-align: right;\n",
       "    }\n",
       "</style>\n",
       "<table border=\"1\" class=\"dataframe\">\n",
       "  <thead>\n",
       "    <tr style=\"text-align: right;\">\n",
       "      <th></th>\n",
       "      <th>game_datetime</th>\n",
       "      <th>game_date</th>\n",
       "      <th>home_probable_pitcher</th>\n",
       "      <th>away_probable_pitcher</th>\n",
       "      <th>away_score</th>\n",
       "      <th>home_score</th>\n",
       "      <th>current_inning</th>\n",
       "      <th>inning_state</th>\n",
       "      <th>status</th>\n",
       "    </tr>\n",
       "  </thead>\n",
       "  <tbody>\n",
       "    <tr>\n",
       "      <th>0</th>\n",
       "      <td>2011-04-01T17:05:00Z</td>\n",
       "      <td>2011-04-01</td>\n",
       "      <td>Roy Halladay</td>\n",
       "      <td>Brett Myers</td>\n",
       "      <td>4</td>\n",
       "      <td>5</td>\n",
       "      <td>9</td>\n",
       "      <td>Bottom</td>\n",
       "      <td>Final</td>\n",
       "    </tr>\n",
       "    <tr>\n",
       "      <th>1</th>\n",
       "      <td>2011-04-01T18:20:00Z</td>\n",
       "      <td>2011-04-01</td>\n",
       "      <td>Ryan Dempster</td>\n",
       "      <td>Kevin Correia</td>\n",
       "      <td>6</td>\n",
       "      <td>3</td>\n",
       "      <td>9</td>\n",
       "      <td>Bottom</td>\n",
       "      <td>Final</td>\n",
       "    </tr>\n",
       "  </tbody>\n",
       "</table>\n",
       "</div>"
      ],
      "text/plain": [
       "          game_datetime   game_date home_probable_pitcher  \\\n",
       "0  2011-04-01T17:05:00Z  2011-04-01          Roy Halladay   \n",
       "1  2011-04-01T18:20:00Z  2011-04-01         Ryan Dempster   \n",
       "\n",
       "  away_probable_pitcher away_score home_score current_inning inning_state  \\\n",
       "0           Brett Myers          4          5              9       Bottom   \n",
       "1         Kevin Correia          6          3              9       Bottom   \n",
       "\n",
       "  status  \n",
       "0  Final  \n",
       "1  Final  "
      ]
     },
     "execution_count": 246,
     "metadata": {},
     "output_type": "execute_result"
    }
   ],
   "source": [
    "Schedule_DataFrame[['game_datetime', 'game_date', 'home_probable_pitcher', 'away_probable_pitcher',\n",
    "       'away_score', 'home_score',\n",
    "       'current_inning', 'inning_state', 'status']].head(2)"
   ]
  },
  {
   "cell_type": "markdown",
   "id": "cde2a5a6-6352-4ee0-80bd-8abf81eeb010",
   "metadata": {
    "jp-MarkdownHeadingCollapsed": true
   },
   "source": [
    "# collect and cache history data"
   ]
  },
  {
   "cell_type": "markdown",
   "id": "93d87843-6047-45de-8f51-6ece60469634",
   "metadata": {},
   "source": [
    "## schedules"
   ]
  },
  {
   "cell_type": "code",
   "execution_count": 56,
   "id": "d9ead217-72a2-4e3a-9305-91a01b22b1ca",
   "metadata": {
    "execution": {
     "iopub.execute_input": "2023-05-22T02:12:05.465602Z",
     "iopub.status.busy": "2023-05-22T02:12:05.464299Z",
     "iopub.status.idle": "2023-05-22T02:12:05.471541Z",
     "shell.execute_reply": "2023-05-22T02:12:05.470405Z",
     "shell.execute_reply.started": "2023-05-22T02:12:05.465534Z"
    }
   },
   "outputs": [],
   "source": [
    "_schedules = pickle.load(open('schedules.pkl', 'rb'))"
   ]
  },
  {
   "cell_type": "code",
   "execution_count": 268,
   "id": "d5beae33-d9b3-4545-b419-8560903ba024",
   "metadata": {
    "execution": {
     "iopub.execute_input": "2023-05-24T22:48:38.794289Z",
     "iopub.status.busy": "2023-05-24T22:48:38.793888Z",
     "iopub.status.idle": "2023-05-24T22:48:38.815809Z",
     "shell.execute_reply": "2023-05-24T22:48:38.813310Z",
     "shell.execute_reply.started": "2023-05-24T22:48:38.794257Z"
    }
   },
   "outputs": [],
   "source": [
    "def get_end_date(year):\n",
    "    end_date = f\"{year+1}-03-01\"\n",
    "    if year == 2022:\n",
    "        end_date = f\"{year}-12-01\"\n",
    "    elif year == 2023:\n",
    "        end_date = (datetime.today() - timedelta(days = 1)).strftime(\"%Y-%m-%d\")\n",
    "    return end_date"
   ]
  },
  {
   "cell_type": "code",
   "execution_count": 260,
   "id": "7984a73c-69b1-4752-aa87-956b19937cb8",
   "metadata": {
    "execution": {
     "iopub.execute_input": "2023-05-24T22:43:57.747718Z",
     "iopub.status.busy": "2023-05-24T22:43:57.746313Z",
     "iopub.status.idle": "2023-05-24T22:43:57.765494Z",
     "shell.execute_reply": "2023-05-24T22:43:57.764928Z",
     "shell.execute_reply.started": "2023-05-24T22:43:57.747620Z"
    }
   },
   "outputs": [],
   "source": [
    "def fetch_schdules_year(year):\n",
    "    print(f'fetch_schdules_year {year}')\n",
    "    global _schedules\n",
    "    data = None\n",
    "\n",
    "    schedule = statsapi.schedule(start_date = f\"{year}-04-01\", end_date = get_end_date(year))\n",
    "    for schedul in schedule:\n",
    "        _schedules[schedul['game_id']] = schedul\n",
    "\n",
    "    print(f'done fetch_schdules_year {year}')"
   ]
  },
  {
   "cell_type": "code",
   "execution_count": 264,
   "id": "32b92c21-c331-45ab-8265-8490ec16ab3c",
   "metadata": {
    "execution": {
     "iopub.execute_input": "2023-05-24T22:44:19.645811Z",
     "iopub.status.busy": "2023-05-24T22:44:19.644035Z",
     "iopub.status.idle": "2023-05-24T22:44:30.969538Z",
     "shell.execute_reply": "2023-05-24T22:44:30.968339Z",
     "shell.execute_reply.started": "2023-05-24T22:44:19.645721Z"
    }
   },
   "outputs": [
    {
     "name": "stdout",
     "output_type": "stream",
     "text": [
      "fetch_schdules_year 2023\n",
      "done fetch_schdules_year 2023\n"
     ]
    }
   ],
   "source": [
    "fetch_schdules_year(2023)"
   ]
  },
  {
   "cell_type": "code",
   "execution_count": 263,
   "id": "58944f3e-1e1f-4f4d-aade-331a2667d9df",
   "metadata": {
    "execution": {
     "iopub.execute_input": "2023-05-24T22:44:13.718304Z",
     "iopub.status.busy": "2023-05-24T22:44:13.717842Z",
     "iopub.status.idle": "2023-05-24T22:44:13.723759Z",
     "shell.execute_reply": "2023-05-24T22:44:13.723296Z",
     "shell.execute_reply.started": "2023-05-24T22:44:13.718276Z"
    }
   },
   "outputs": [
    {
     "data": {
      "text/plain": [
       "28937"
      ]
     },
     "execution_count": 263,
     "metadata": {},
     "output_type": "execute_result"
    }
   ],
   "source": [
    "len(_schedules)"
   ]
  },
  {
   "cell_type": "code",
   "execution_count": 265,
   "id": "3e2bfd16-fd6d-4251-b417-9e47fa8648f6",
   "metadata": {
    "execution": {
     "iopub.execute_input": "2023-05-24T22:46:33.206652Z",
     "iopub.status.busy": "2023-05-24T22:46:33.205806Z",
     "iopub.status.idle": "2023-05-24T22:46:33.220638Z",
     "shell.execute_reply": "2023-05-24T22:46:33.220204Z",
     "shell.execute_reply.started": "2023-05-24T22:46:33.206620Z"
    }
   },
   "outputs": [
    {
     "data": {
      "text/plain": [
       "29650"
      ]
     },
     "execution_count": 265,
     "metadata": {},
     "output_type": "execute_result"
    }
   ],
   "source": [
    "len(_schedules)"
   ]
  },
  {
   "cell_type": "code",
   "execution_count": 261,
   "id": "3946227e-2566-415d-b6f2-0cecbf090cd2",
   "metadata": {
    "execution": {
     "iopub.execute_input": "2023-05-24T22:43:57.885687Z",
     "iopub.status.busy": "2023-05-24T22:43:57.885282Z",
     "iopub.status.idle": "2023-05-24T22:43:57.891455Z",
     "shell.execute_reply": "2023-05-24T22:43:57.890693Z",
     "shell.execute_reply.started": "2023-05-24T22:43:57.885658Z"
    }
   },
   "outputs": [
    {
     "data": {
      "text/plain": [
       "'\\nfetch_schdules_year(2022)\\nfetch_schdules_year(2021)\\nfetch_schdules_year(2020)\\nfetch_schdules_year(2019)\\nfetch_schdules_year(2018)\\nfetch_schdules_year(2017)\\nfetch_schdules_year(2016)\\nfetch_schdules_year(2015)\\nfetch_schdules_year(2014)\\nfetch_schdules_year(2013)\\nfetch_schdules_year(2012)\\nfetch_schdules_year(2011)\\n#'"
      ]
     },
     "execution_count": 261,
     "metadata": {},
     "output_type": "execute_result"
    }
   ],
   "source": [
    "'''\n",
    "fetch_schdules_year(2022)\n",
    "fetch_schdules_year(2021)\n",
    "fetch_schdules_year(2020)\n",
    "fetch_schdules_year(2019)\n",
    "fetch_schdules_year(2018)\n",
    "fetch_schdules_year(2017)\n",
    "fetch_schdules_year(2016)\n",
    "fetch_schdules_year(2015)\n",
    "fetch_schdules_year(2014)\n",
    "fetch_schdules_year(2013)\n",
    "fetch_schdules_year(2012)\n",
    "fetch_schdules_year(2011)\n",
    "#'''"
   ]
  },
  {
   "cell_type": "code",
   "execution_count": 267,
   "id": "13ab2aca-5d1a-45df-b4fa-2e7e583fe6f5",
   "metadata": {
    "execution": {
     "iopub.execute_input": "2023-05-24T22:47:36.296736Z",
     "iopub.status.busy": "2023-05-24T22:47:36.296138Z",
     "iopub.status.idle": "2023-05-24T22:47:36.591424Z",
     "shell.execute_reply": "2023-05-24T22:47:36.590781Z",
     "shell.execute_reply.started": "2023-05-24T22:47:36.296698Z"
    }
   },
   "outputs": [],
   "source": [
    "pickle.dump(_schedules, open('schedules.pkl', 'wb'))"
   ]
  },
  {
   "cell_type": "code",
   "execution_count": null,
   "id": "a0b7bddf-7ab2-4eef-9f71-94ebdf93c5fa",
   "metadata": {},
   "outputs": [],
   "source": []
  },
  {
   "cell_type": "markdown",
   "id": "56a0e453-6a15-49b8-a8be-6482f9146bb6",
   "metadata": {},
   "source": [
    "## game ids & boxscores"
   ]
  },
  {
   "cell_type": "code",
   "execution_count": null,
   "id": "312adb30-a713-453d-a844-dfcb5d4f42fb",
   "metadata": {},
   "outputs": [],
   "source": [
    "_boxscores = pickle.load(open('boxscores.pkl', 'rb'))\n",
    "_boxscores_lock = threading.Lock()"
   ]
  },
  {
   "cell_type": "code",
   "execution_count": null,
   "id": "769940be-d4c8-4433-9e8e-a626a0595243",
   "metadata": {},
   "outputs": [],
   "source": [
    "def get_boxscore_data(game_id, force_fetch = False):\n",
    "    global _boxscores\n",
    "    _boxscores_lock.acquire()\n",
    "    data = None\n",
    "    if game_id not in _boxscores or force_fetch:\n",
    "        try:\n",
    "            #print(f'calling statsapi.boxscore_data for game_id: {game_id}')\n",
    "            data = statsapi.boxscore_data(game_id)\n",
    "        except Exception:\n",
    "            print(f'Exception: {Exception} while fetching boxscore')\n",
    "        if data is not None:\n",
    "            _boxscores[game_id] = data\n",
    "    elif game_id in _boxscores:\n",
    "        data = _boxscores[game_id]\n",
    "    \n",
    "    _boxscores_lock.release()\n",
    "    return data\n",
    "\n",
    "def get_boxscore_data_batch(game_ids, force_fetch = False):\n",
    "    print(f'{game_ids[:2]} total {len(game_ids)}')\n",
    "    for i, game_id in enumerate(game_ids):\n",
    "        if i % 100 == 0:\n",
    "            print(f'{i} of {game_ids[:2]} total {len(game_ids)}')\n",
    "        get_boxscore_data(game_id, force_fetch = force_fetch)\n",
    "    return [get_boxscore_data(game_id, force_fetch = force_fetch) for game_id in game_ids]\n",
    "\n",
    "def dump_boxscore_cache():\n",
    "    global _boxscores\n",
    "    pickle.dump(_boxscores, open('boxscores.pkl', 'wb'))"
   ]
  },
  {
   "cell_type": "code",
   "execution_count": null,
   "id": "c0b5251e-afeb-4f12-ac5c-820c77d19cd1",
   "metadata": {},
   "outputs": [],
   "source": []
  },
  {
   "cell_type": "code",
   "execution_count": 6,
   "id": "d8b85755-bece-40a6-bcd9-248d0d25385c",
   "metadata": {
    "execution": {
     "iopub.execute_input": "2023-05-21T23:07:23.020872Z",
     "iopub.status.busy": "2023-05-21T23:07:23.020436Z",
     "iopub.status.idle": "2023-05-21T23:07:23.029501Z",
     "shell.execute_reply": "2023-05-21T23:07:23.028942Z",
     "shell.execute_reply.started": "2023-05-21T23:07:23.020849Z"
    },
    "tags": []
   },
   "outputs": [],
   "source": [
    "_game_id_lists = pickle.load(open('game_id_lists.pkl', 'rb'))"
   ]
  },
  {
   "cell_type": "code",
   "execution_count": 269,
   "id": "c419037b-8baa-4536-a461-3c55443bf490",
   "metadata": {
    "execution": {
     "iopub.execute_input": "2023-05-24T22:48:49.996779Z",
     "iopub.status.busy": "2023-05-24T22:48:49.995661Z",
     "iopub.status.idle": "2023-05-24T22:48:50.017546Z",
     "shell.execute_reply": "2023-05-24T22:48:50.016242Z",
     "shell.execute_reply.started": "2023-05-24T22:48:49.996684Z"
    },
    "tags": []
   },
   "outputs": [],
   "source": [
    "def get_game_id_list_year(year, force_fetch = False):\n",
    "    print(f'getting game_id list {year}')\n",
    "    global _game_id_lists\n",
    "    data = None\n",
    "    if year not in _game_id_lists or force_fetch:\n",
    "        schedule = statsapi.schedule(start_date = f\"{year}-04-01\", end_date = get_end_date(year))\n",
    "        df_schedule = pd.json_normalize(schedule)\n",
    "        data = list(df_schedule[\"game_id\"].drop_duplicates())\n",
    "        if data is not None:\n",
    "            _game_id_lists[year] = data\n",
    "    elif year in _game_id_lists:\n",
    "        data = _game_id_lists[year]\n",
    "        \n",
    "    print(f'done getting game_id list {year}')\n",
    "    return data\n",
    "\n",
    "def ingest_boxscore_year(year):\n",
    "    print(f'year: {year}')\n",
    "    game_id_list = get_game_id_list_year(year)\n",
    "\n",
    "    game_id_list_splits = np.array_split(game_id_list, 8)\n",
    "    ths = []\n",
    "    for i, game_id_list_split in enumerate(game_id_list_splits):\n",
    "        print(f'th {i}')\n",
    "        th = threading.Thread(target=get_boxscore_data_batch, args=(game_id_list_split, ))\n",
    "        th.start()\n",
    "        ths.append(th)\n",
    "\n",
    "    for th in ths:\n",
    "        th.join()\n",
    "    \n",
    "    '''\n",
    "    for i, game_id in enumerate(game_id_list):\n",
    "        if i % 500 == 0:\n",
    "            print(f'processing {i} out of {len(game_id_list)} game_id {game_id}')\n",
    "        game_boxscore = get_boxscore_data(game_id)\n",
    "    '''\n",
    "    print(f'done ingest_boxscore_year {year}')    "
   ]
  },
  {
   "cell_type": "code",
   "execution_count": null,
   "id": "4f5b83ec-ded4-4cdc-870f-1359330bfb48",
   "metadata": {},
   "outputs": [],
   "source": [
    "'''\n",
    "get_game_id_list_year(2022)\n",
    "get_game_id_list_year(2021)\n",
    "get_game_id_list_year(2020)\n",
    "get_game_id_list_year(2019)\n",
    "get_game_id_list_year(2018)\n",
    "get_game_id_list_year(2017)\n",
    "get_game_id_list_year(2016)\n",
    "get_game_id_list_year(2015)\n",
    "get_game_id_list_year(2014)\n",
    "get_game_id_list_year(2013)\n",
    "get_game_id_list_year(2012)\n",
    "get_game_id_list_year(2011)\n",
    "#'''"
   ]
  },
  {
   "cell_type": "code",
   "execution_count": 274,
   "id": "6529dc5a-b6c9-458c-be1a-5213eb4e51b0",
   "metadata": {
    "execution": {
     "iopub.execute_input": "2023-05-24T22:49:32.578031Z",
     "iopub.status.busy": "2023-05-24T22:49:32.577214Z",
     "iopub.status.idle": "2023-05-24T22:49:32.595534Z",
     "shell.execute_reply": "2023-05-24T22:49:32.594642Z",
     "shell.execute_reply.started": "2023-05-24T22:49:32.577973Z"
    }
   },
   "outputs": [],
   "source": [
    "pickle.dump(_game_id_lists, open('game_id_lists.pkl', 'wb'))"
   ]
  },
  {
   "cell_type": "code",
   "execution_count": null,
   "id": "1d4e9a18-70c6-4620-bfd4-09495d0b6bcf",
   "metadata": {},
   "outputs": [],
   "source": []
  },
  {
   "cell_type": "code",
   "execution_count": null,
   "id": "b1c77be3-c465-40fc-9f0c-b94872b56378",
   "metadata": {},
   "outputs": [],
   "source": [
    "'''\n",
    "ingest_boxscore_year(2022)\n",
    "ingest_boxscore_year(2021)\n",
    "ingest_boxscore_year(2020)\n",
    "ingest_boxscore_year(2019)\n",
    "ingest_boxscore_year(2018)\n",
    "ingest_boxscore_year(2017)\n",
    "ingest_boxscore_year(2016)\n",
    "ingest_boxscore_year(2015)\n",
    "ingest_boxscore_year(2014)\n",
    "ingest_boxscore_year(2013)\n",
    "ingest_boxscore_year(2012)\n",
    "ingest_boxscore_year(2011)\n",
    "#'''"
   ]
  },
  {
   "cell_type": "code",
   "execution_count": null,
   "id": "32e4b0de-d348-4305-8ae0-209f213379ca",
   "metadata": {},
   "outputs": [],
   "source": [
    "dump_boxscore_cache()"
   ]
  },
  {
   "cell_type": "code",
   "execution_count": 275,
   "id": "2dc566e4-e227-47c0-b8fb-c506c8083f7a",
   "metadata": {
    "execution": {
     "iopub.execute_input": "2023-05-24T22:49:57.959113Z",
     "iopub.status.busy": "2023-05-24T22:49:57.957808Z",
     "iopub.status.idle": "2023-05-24T22:49:57.972837Z",
     "shell.execute_reply": "2023-05-24T22:49:57.972305Z",
     "shell.execute_reply.started": "2023-05-24T22:49:57.959036Z"
    }
   },
   "outputs": [
    {
     "data": {
      "text/plain": [
       "33511"
      ]
     },
     "execution_count": 275,
     "metadata": {},
     "output_type": "execute_result"
    }
   ],
   "source": [
    "len(_boxscores)"
   ]
  },
  {
   "cell_type": "code",
   "execution_count": null,
   "id": "4cd4430d-4fcc-4761-b465-d06f0905c76d",
   "metadata": {},
   "outputs": [],
   "source": []
  },
  {
   "cell_type": "markdown",
   "id": "27dc600c-e449-4d0a-8398-d2908755753f",
   "metadata": {},
   "source": [
    "## player_stats"
   ]
  },
  {
   "cell_type": "code",
   "execution_count": 85,
   "id": "c9d41916-12f7-423c-851b-dd7cae759635",
   "metadata": {
    "execution": {
     "iopub.execute_input": "2023-05-22T02:30:53.903668Z",
     "iopub.status.busy": "2023-05-22T02:30:53.903054Z",
     "iopub.status.idle": "2023-05-22T02:30:53.977964Z",
     "shell.execute_reply": "2023-05-22T02:30:53.977008Z",
     "shell.execute_reply.started": "2023-05-22T02:30:53.903638Z"
    },
    "tags": []
   },
   "outputs": [],
   "source": [
    "_player_stats = pickle.load(open('player_stats.pkl', 'rb'))"
   ]
  },
  {
   "cell_type": "code",
   "execution_count": 87,
   "id": "8f6d94d0-a4ca-4b06-9258-14009a48a348",
   "metadata": {
    "execution": {
     "iopub.execute_input": "2023-05-22T02:31:44.599829Z",
     "iopub.status.busy": "2023-05-22T02:31:44.599458Z",
     "iopub.status.idle": "2023-05-22T02:31:44.603875Z",
     "shell.execute_reply": "2023-05-22T02:31:44.603343Z",
     "shell.execute_reply.started": "2023-05-22T02:31:44.599800Z"
    },
    "tags": []
   },
   "outputs": [],
   "source": [
    "def get_player_stat_data(player_id, force_fetch = False):\n",
    "    global _player_stats\n",
    "    data = None\n",
    "    if player_id not in _player_stats or force_fetch:\n",
    "        try:\n",
    "            print(f'calling statsapi.player_stat_data for player_id: {player_id}')\n",
    "            data = statsapi.player_stat_data(personId = player_id, group=\"hitting\", type=\"yearByYear\", sportId=1)\n",
    "        except Exception:\n",
    "            print(f'Exception: {Exception} while fetching player_stat_data')\n",
    "        if data is not None:\n",
    "            _player_stats[player_id] = data\n",
    "    elif player_id in _player_stats:\n",
    "        data = _player_stats[player_id]\n",
    "    \n",
    "    return data\n",
    "\n",
    "def dump_player_stat_data_cache():\n",
    "    global _player_stats\n",
    "    pickle.dump(_player_stats, open('player_stats.pkl', 'wb'))"
   ]
  },
  {
   "cell_type": "code",
   "execution_count": null,
   "id": "81815094-8c98-412b-9059-b51bb0d816f1",
   "metadata": {},
   "outputs": [],
   "source": []
  },
  {
   "cell_type": "code",
   "execution_count": 217,
   "id": "5fe88102-38d2-48aa-bfbf-c20283638b90",
   "metadata": {
    "execution": {
     "iopub.execute_input": "2023-05-23T03:40:54.842572Z",
     "iopub.status.busy": "2023-05-23T03:40:54.842202Z",
     "iopub.status.idle": "2023-05-23T03:40:54.851742Z",
     "shell.execute_reply": "2023-05-23T03:40:54.851188Z",
     "shell.execute_reply.started": "2023-05-23T03:40:54.842544Z"
    },
    "tags": []
   },
   "outputs": [],
   "source": [
    "def get_matchup(game_id, side):\n",
    "    game_boxscore = get_boxscore_data(game_id)\n",
    "    if game_boxscore is None:\n",
    "        print(f'Failed to get box score for game_id: {game_id}')\n",
    "        return None\n",
    "\n",
    "    game = _schedules[game_id]\n",
    "    if game is None:\n",
    "        print(f'Failed to get schedule detail for game_id: {game_id}')\n",
    "        return None\n",
    "    \n",
    "    opposite_side = \"away\" if side == \"home\" else \"home\"\n",
    "    all_side_players = game_boxscore[side][\"players\"]\n",
    "    \n",
    "    side_players_list = []\n",
    "    for home_player in all_side_players:\n",
    "        home_player = all_side_players[home_player]\n",
    "        home_player_name, home_player_id = home_player[\"person\"][\"fullName\"], home_player[\"person\"][\"id\"]\n",
    "        side_players_list.append({\"name\":home_player_name, \"id\":home_player_id})\n",
    "\n",
    "    side_players_dataframe = pd.DataFrame(side_players_list)\n",
    "    side_batting_lineup_ids = game_boxscore[side][\"battingOrder\"]\n",
    "    side_batters = side_players_dataframe[side_players_dataframe[\"id\"].isin(side_batting_lineup_ids)]\n",
    "    valid_historical_season = int(game[\"game_date\"][0:4]) - 1\n",
    "    side_batter_stats_list = []\n",
    "\n",
    "    for side_batter in side_batters[\"id\"]:\n",
    "        side_batter_stats_data = get_player_stat_data(side_batter, force_fetch = False)\n",
    "        if side_batter_stats_data is not None:\n",
    "            side_batter_stats = side_batter_stats_data[\"stats\"]\n",
    "        else:\n",
    "            print(f'Error while getting {side} batter {side_batter} stat')\n",
    "            return None\n",
    "\n",
    "        if len(side_batter_stats) == 0:\n",
    "            #print(f'{side} batter {side_batter} stat is empty')\n",
    "            return None\n",
    "        \n",
    "        for historical_batter_stat in side_batter_stats:\n",
    "            if historical_batter_stat[\"season\"] == str(valid_historical_season):\n",
    "                season_batter_stats = historical_batter_stat[\"stats\"]\n",
    "                season_batter_stats[\"name\"] = side_batters[\"name\"][side_batters[\"id\"] == side_batter].iloc[0]\n",
    "                season_batter_stats[\"id\"] = side_batters[\"id\"][side_batters[\"id\"] == side_batter].iloc[0]\n",
    "                \n",
    "                side_batter_game_day_stats = all_side_players[f\"ID{side_batter}\"][\"stats\"][\"batting\"]\n",
    "                \n",
    "                if side_batter_game_day_stats[\"hits\"] < 1:\n",
    "                    hit_recorded = 0\n",
    "                elif side_batter_game_day_stats[\"hits\"] >= 1:\n",
    "                    hit_recorded = 1\n",
    "                    \n",
    "                season_batter_stats[\"hit_recorded\"] = hit_recorded\n",
    "                side_batter_stats_list.append(season_batter_stats)\n",
    "            \n",
    "    side_team_batting_stats = pd.DataFrame(side_batter_stats_list).drop_duplicates(subset = \"name\", keep =\"last\")\n",
    "    \n",
    "    if len(side_team_batting_stats) < 1:\n",
    "        print(f'{side} side_team_batting_stats is empty for game')\n",
    "        return None\n",
    "    \n",
    "    opposing_pitcher_name, opposing_pitcher_id = game[f\"{opposite_side}_probable_pitcher\"], Player_to_ID(game[f\"{opposite_side}_probable_pitcher\"])\n",
    "    \n",
    "    side_batting_matchup = None\n",
    "    if type(opposing_pitcher_id) != type(np.int64()):\n",
    "        print(f'opposing_pitcher_id {opposing_pitcher_id} is not of int64 type')\n",
    "        pass\n",
    "    else:\n",
    "        opposing_pitcher_stats_data = get_player_stat_data(opposing_pitcher_id, force_fetch = False)\n",
    "        if opposing_pitcher_stats_data is not None:            \n",
    "            opposing_pitcher_stats = pd.json_normalize(opposing_pitcher_stats_data[\"stats\"], max_level = 0)\n",
    "        else:\n",
    "            print(f'Error while getting {side} opssosing pitcher {opposing_pitcher_id} stat')\n",
    "            return None\n",
    "        \n",
    "        # If there is just no data from the API for this player\n",
    "        if len(opposing_pitcher_stats) == 0:\n",
    "            #print(f'{side} opposing pitcher {opposing_pitcher_id} stat is empty')\n",
    "            pass\n",
    "        else:\n",
    "            valid_opposing_pitcher_season_stats = opposing_pitcher_stats[opposing_pitcher_stats[\"season\"] == str(valid_historical_season)][\"stats\"].drop_duplicates(keep = \"last\")\n",
    "        \n",
    "            # If there is no historical data for last season\n",
    "            if len(valid_opposing_pitcher_season_stats) == 0:\n",
    "                print(f'{side} valid opposing pitcher {opposing_pitcher_id} season stat is empty')\n",
    "                pass\n",
    "            else:\n",
    "                opposing_pitcher_season_stats = valid_opposing_pitcher_season_stats.iloc[0]\n",
    "                opposing_pitcher_season_stats[\"name\"] = opposing_pitcher_name\n",
    "                opposing_pitcher_season_stats[\"id\"] = opposing_pitcher_id\n",
    "                \n",
    "                opposing_pitcher_stats_dataframe = pd.DataFrame([opposing_pitcher_season_stats])\n",
    "                opposing_pitcher_stats = pd.concat([opposing_pitcher_stats_dataframe]*len(side_team_batting_stats))\n",
    "                side_batting_matchup = pd.concat([opposing_pitcher_stats.reset_index(drop = True).add_prefix(\"pitching_\"), side_team_batting_stats.reset_index(drop = True).add_prefix(\"batting_\")], axis = 1)\n",
    "            \n",
    "                # =============================================================================\n",
    "                # End of calculating the side for the batters\n",
    "                # =============================================================================\n",
    "    return side_batting_matchup"
   ]
  },
  {
   "cell_type": "code",
   "execution_count": 88,
   "id": "d6c551ef-8c8d-4ffc-9b3e-8688c01dae6b",
   "metadata": {
    "execution": {
     "iopub.execute_input": "2023-05-22T02:31:50.337916Z",
     "iopub.status.busy": "2023-05-22T02:31:50.337455Z",
     "iopub.status.idle": "2023-05-22T02:31:50.343205Z",
     "shell.execute_reply": "2023-05-22T02:31:50.342713Z",
     "shell.execute_reply.started": "2023-05-22T02:31:50.337891Z"
    }
   },
   "outputs": [],
   "source": [
    "def ingest_matchup_batch(game_ids, force_fetch = False):\n",
    "    print(f'{game_ids[:2]} total {len(game_ids)}')\n",
    "\n",
    "    for i, game_id in enumerate(game_ids):\n",
    "        if i % 100 == 0:\n",
    "            print(f'{i} of {game_ids[:2]} total {len(game_ids)}')\n",
    "        home_batting_matchup = get_matchup(game_id, \"home\")\n",
    "        away_batting_matchup = get_matchup(game_id, \"away\")\n",
    "        \n",
    "def ingest_matchup_year(year):\n",
    "    print(f'ingest_matchup_year year: {year}')\n",
    "    game_id_list = get_game_id_list_year(year)\n",
    "\n",
    "    game_id_list_splits = np.array_split(game_id_list, 8)\n",
    "    ths = []\n",
    "    for i, game_id_list_split in enumerate(game_id_list_splits):\n",
    "        print(f'th {i}')\n",
    "        th = threading.Thread(target=ingest_matchup_batch, args=(game_id_list_split, ))\n",
    "        th.start()\n",
    "        ths.append(th)\n",
    "\n",
    "    for th in ths:\n",
    "        th.join()\n",
    "\n",
    "    print(f'done ingest_matchup_year year: {year}')    "
   ]
  },
  {
   "cell_type": "code",
   "execution_count": 118,
   "id": "b5b35973-3999-461b-88b5-121127232e7c",
   "metadata": {
    "execution": {
     "iopub.execute_input": "2023-05-23T02:28:36.031392Z",
     "iopub.status.busy": "2023-05-23T02:28:36.031122Z",
     "iopub.status.idle": "2023-05-23T02:28:36.036733Z",
     "shell.execute_reply": "2023-05-23T02:28:36.036174Z",
     "shell.execute_reply.started": "2023-05-23T02:28:36.031374Z"
    }
   },
   "outputs": [
    {
     "data": {
      "text/plain": [
       "'\\ningest_matchup_year(2022)\\ningest_matchup_year(2021)\\ningest_matchup_year(2020)\\ningest_matchup_year(2019)\\ningest_matchup_year(2018)\\ningest_matchup_year(2017)\\ningest_matchup_year(2016)\\ningest_matchup_year(2015)\\ningest_matchup_year(2014)\\ningest_matchup_year(2013)\\ningest_matchup_year(2012)\\ningest_matchup_year(2011)\\n#'"
      ]
     },
     "execution_count": 118,
     "metadata": {},
     "output_type": "execute_result"
    }
   ],
   "source": [
    "'''\n",
    "ingest_matchup_year(2022)\n",
    "ingest_matchup_year(2021)\n",
    "ingest_matchup_year(2020)\n",
    "ingest_matchup_year(2019)\n",
    "ingest_matchup_year(2018)\n",
    "ingest_matchup_year(2017)\n",
    "ingest_matchup_year(2016)\n",
    "ingest_matchup_year(2015)\n",
    "ingest_matchup_year(2014)\n",
    "ingest_matchup_year(2013)\n",
    "ingest_matchup_year(2012)\n",
    "ingest_matchup_year(2011)\n",
    "#'''"
   ]
  },
  {
   "cell_type": "code",
   "execution_count": null,
   "id": "a3991db6-5c8c-4ab4-9db0-dd8e51d3b127",
   "metadata": {},
   "outputs": [],
   "source": [
    "dump_player_stat_data_cache()"
   ]
  },
  {
   "cell_type": "code",
   "execution_count": null,
   "id": "3151bfb3-d1ef-4008-86af-71c3d0523e03",
   "metadata": {},
   "outputs": [],
   "source": []
  },
  {
   "cell_type": "code",
   "execution_count": 278,
   "id": "f62b3f9f-cc63-4886-b0d2-b68a2418093b",
   "metadata": {
    "execution": {
     "iopub.execute_input": "2023-05-24T22:51:28.065962Z",
     "iopub.status.busy": "2023-05-24T22:51:28.064635Z",
     "iopub.status.idle": "2023-05-24T22:51:42.695565Z",
     "shell.execute_reply": "2023-05-24T22:51:42.694584Z",
     "shell.execute_reply.started": "2023-05-24T22:51:28.065927Z"
    }
   },
   "outputs": [
    {
     "name": "stdout",
     "output_type": "stream",
     "text": [
      "ingest_matchup_year year: 2023\n",
      "getting game_id list 2023\n",
      "done getting game_id list 2023\n",
      "th 0\n",
      "[718760 718759] total 90\n",
      "0 of [718760 718759] total 90\n",
      "th 1\n",
      "[718670 718671] total 89\n",
      "0 of [718670 718671] total 89\n",
      "th 2\n",
      "[718580 718583] total 89\n",
      "0 of [718580 718583] total 89\n",
      "th 3\n",
      "[718491 718492] total 89\n",
      "0 of [718491 718492] total 89\n",
      "th 4\n",
      "[718406 718409] total 89\n",
      "0 of [718406 718409] total 89\n",
      "th 5\n",
      "[718317 718318] total 89\n",
      "0 of [718317 718318] total 89\n",
      "th 6\n",
      "[718235 718227] total 89\n",
      "0 of [718235 718227] total 89\n",
      "th 7\n",
      "[718143 718140] total 89\n",
      "0 of [718143 718140] total 89\n",
      "opposing_pitcher_id  is not of int64 type\n",
      "opposing_pitcher_id  is not of int64 type\n",
      "opposing_pitcher_id  is not of int64 type\n",
      "opposing_pitcher_id  is not of int64 type\n",
      "opposing_pitcher_id  is not of int64 type\n",
      "opposing_pitcher_id  is not of int64 type\n",
      "opposing_pitcher_id  is not of int64 type\n",
      "opposing_pitcher_id  is not of int64 type\n",
      "done ingest_matchup_year year: 2023\n"
     ]
    }
   ],
   "source": [
    "ingest_matchup_year(2023)"
   ]
  },
  {
   "cell_type": "code",
   "execution_count": null,
   "id": "e18d8491-c16f-4459-9046-f8c8fd792d7f",
   "metadata": {},
   "outputs": [],
   "source": []
  },
  {
   "cell_type": "code",
   "execution_count": null,
   "id": "ed09e313-e640-4015-a819-aaae466ea83f",
   "metadata": {},
   "outputs": [],
   "source": []
  },
  {
   "cell_type": "code",
   "execution_count": null,
   "id": "636ba869-4123-412e-9fdd-5efa26e0a73c",
   "metadata": {},
   "outputs": [],
   "source": []
  },
  {
   "cell_type": "markdown",
   "id": "438e5bf7-cc46-45fa-b381-0b430ae7d5b1",
   "metadata": {},
   "source": [
    "## venue_game_temperatures"
   ]
  },
  {
   "cell_type": "code",
   "execution_count": 147,
   "id": "faae9208-71fa-4e36-aeff-e082d4f52bbf",
   "metadata": {
    "execution": {
     "iopub.execute_input": "2023-05-23T02:57:12.430793Z",
     "iopub.status.busy": "2023-05-23T02:57:12.429786Z",
     "iopub.status.idle": "2023-05-23T02:57:12.437589Z",
     "shell.execute_reply": "2023-05-23T02:57:12.437006Z",
     "shell.execute_reply.started": "2023-05-23T02:57:12.430716Z"
    }
   },
   "outputs": [],
   "source": [
    "_venue_game_temperatures = pickle.load(open('venue_game_temperatures.pkl', 'rb'))"
   ]
  },
  {
   "cell_type": "code",
   "execution_count": 193,
   "id": "f959152e-fdb8-4dd7-b141-e518c5b03388",
   "metadata": {
    "execution": {
     "iopub.execute_input": "2023-05-23T03:26:29.807205Z",
     "iopub.status.busy": "2023-05-23T03:26:29.806990Z",
     "iopub.status.idle": "2023-05-23T03:26:29.811307Z",
     "shell.execute_reply": "2023-05-23T03:26:29.810766Z",
     "shell.execute_reply.started": "2023-05-23T03:26:29.807188Z"
    }
   },
   "outputs": [],
   "source": [
    "def get_venue_game_temperatures(lat, lon, game_date, game_datetime):\n",
    "    global _venue_game_temperatures\n",
    "\n",
    "    key = str((lat, lon, game_datetime,))\n",
    "    game_temperature = None\n",
    "    if key not in _venue_game_temperatures:\n",
    "        historical_weather = meteostat.Hourly(loc = meteostat.Point(lat = lat, lon = lon), start = (pd.to_datetime(game_date)), end = (pd.to_datetime(game_date) + timedelta(days = 1)), timezone = \"America/Chicago\").fetch().reset_index()\n",
    "        pre_game_weather = historical_weather[historical_weather[\"time\"] <= (pd.to_datetime(game_datetime)).tz_convert(\"America/Chicago\")]\n",
    "        last_hour_weather = pre_game_weather.tail(1).copy()\n",
    "        game_temperature = celsius_to_fahrenheit(last_hour_weather[\"temp\"].iloc[0])\n",
    "    else:\n",
    "        game_temperature = _venue_game_temperatures[key]\n",
    "\n",
    "    return game_temperature"
   ]
  },
  {
   "cell_type": "code",
   "execution_count": 279,
   "id": "6428da45-e129-4315-8064-5d1eb7e62e72",
   "metadata": {
    "execution": {
     "iopub.execute_input": "2023-05-24T22:52:08.804160Z",
     "iopub.status.busy": "2023-05-24T22:52:08.803960Z",
     "iopub.status.idle": "2023-05-24T23:00:30.469023Z",
     "shell.execute_reply": "2023-05-24T23:00:30.468607Z",
     "shell.execute_reply.started": "2023-05-24T22:52:08.804144Z"
    }
   },
   "outputs": [
    {
     "name": "stdout",
     "output_type": "stream",
     "text": [
      "processing 0 out of 28937 game_id 286884 cnt_invalid_venue: 0, invalid_venues: 0\n"
     ]
    },
    {
     "name": "stderr",
     "output_type": "stream",
     "text": [
      "FutureWarning: In a future version, `df.iloc[:, i] = newvals` will attempt to set the values inplace instead of always setting a new array. To retain the old behavior, use either `df[df.columns[i]] = newvals` or, if columns are non-unique, `df.isetitem(i, newvals)`\n"
     ]
    },
    {
     "name": "stdout",
     "output_type": "stream",
     "text": [
      "processing 1000 out of 28937 game_id 287899 cnt_invalid_venue: 307, invalid_venues: 9\n",
      "processing 2000 out of 28937 game_id 288887 cnt_invalid_venue: 596, invalid_venues: 9\n",
      "processing 3000 out of 28937 game_id 318217 cnt_invalid_venue: 904, invalid_venues: 38\n",
      "processing 4000 out of 28937 game_id 319211 cnt_invalid_venue: 1180, invalid_venues: 38\n",
      "processing 5000 out of 28937 game_id 362963 cnt_invalid_venue: 1459, invalid_venues: 39\n",
      "processing 6000 out of 28937 game_id 347627 cnt_invalid_venue: 1834, invalid_venues: 45\n",
      "processing 7000 out of 28937 game_id 348625 cnt_invalid_venue: 2143, invalid_venues: 45\n",
      "processing 8000 out of 28937 game_id 380921 cnt_invalid_venue: 2465, invalid_venues: 47\n",
      "processing 9000 out of 28937 game_id 381918 cnt_invalid_venue: 2770, invalid_venues: 47\n",
      "processing 10000 out of 28937 game_id 382914 cnt_invalid_venue: 3064, invalid_venues: 47\n",
      "processing 11000 out of 28937 game_id 414508 cnt_invalid_venue: 3393, invalid_venues: 55\n",
      "processing 12000 out of 28937 game_id 415512 cnt_invalid_venue: 3694, invalid_venues: 55\n",
      "processing 13000 out of 28937 game_id 447224 cnt_invalid_venue: 3993, invalid_venues: 58\n",
      "processing 14000 out of 28937 game_id 448218 cnt_invalid_venue: 4258, invalid_venues: 59\n",
      "processing 15000 out of 28937 game_id 449222 cnt_invalid_venue: 4517, invalid_venues: 59\n",
      "processing 16000 out of 28937 game_id 490889 cnt_invalid_venue: 4824, invalid_venues: 66\n",
      "processing 17000 out of 28937 game_id 491900 cnt_invalid_venue: 5071, invalid_venues: 66\n",
      "processing 18000 out of 28937 game_id 529648 cnt_invalid_venue: 5374, invalid_venues: 70\n",
      "processing 19000 out of 28937 game_id 530650 cnt_invalid_venue: 5575, invalid_venues: 72\n",
      "processing 20000 out of 28937 game_id 531659 cnt_invalid_venue: 5777, invalid_venues: 72\n",
      "processing 21000 out of 28937 game_id 564953 cnt_invalid_venue: 6034, invalid_venues: 73\n",
      "processing 22000 out of 28937 game_id 565377 cnt_invalid_venue: 6166, invalid_venues: 75\n",
      "processing 23000 out of 28937 game_id 631593 cnt_invalid_venue: 6418, invalid_venues: 79\n",
      "processing 24000 out of 28937 game_id 634589 cnt_invalid_venue: 6527, invalid_venues: 81\n",
      "processing 25000 out of 28937 game_id 633747 cnt_invalid_venue: 6556, invalid_venues: 81\n",
      "processing 26000 out of 28937 game_id 632569 cnt_invalid_venue: 6573, invalid_venues: 82\n",
      "processing 27000 out of 28937 game_id 663005 cnt_invalid_venue: 6644, invalid_venues: 82\n",
      "processing 28000 out of 28937 game_id 662267 cnt_invalid_venue: 6644, invalid_venues: 82\n",
      "cnt_invalid_venue 6646, invalid_venues: 83\n"
     ]
    }
   ],
   "source": [
    "cnt_invalid_venue = 0\n",
    "invalid_venues = set()\n",
    "for i, game_id in enumerate(game_id_list_total):\n",
    "    if i % 1000 == 0:\n",
    "        print(f'processing {i} out of {len(game_id_list_total)} game_id {game_id} cnt_invalid_venue: {cnt_invalid_venue}, invalid_venues: {len(invalid_venues)}')\n",
    "    game = _schedules[game_id]\n",
    "\n",
    "    if game[\"venue_name\"] not in park_venues:\n",
    "        #print(f'game[\"venue_name\"] {game[\"venue_name\"]} not valid')\n",
    "        cnt_invalid_venue += 1\n",
    "        invalid_venues.add(game[\"venue_name\"])\n",
    "        continue\n",
    "\n",
    "    game_temperature = get_venue_game_temperatures(park_lat, park_lon, game[\"game_date\"], game[\"game_datetime\"])\n",
    "    key = str((park_lat, park_lon, game[\"game_datetime\"],))\n",
    "\n",
    "    _venue_game_temperatures[key] = game_temperature\n",
    "\n",
    "print(f'cnt_invalid_venue {cnt_invalid_venue}, invalid_venues: {len(invalid_venues)}')"
   ]
  },
  {
   "cell_type": "code",
   "execution_count": 280,
   "id": "e7e2c9bf-fad4-4345-8ee2-01ac224e76a6",
   "metadata": {
    "execution": {
     "iopub.execute_input": "2023-05-24T23:00:30.469933Z",
     "iopub.status.busy": "2023-05-24T23:00:30.469803Z",
     "iopub.status.idle": "2023-05-24T23:00:30.632829Z",
     "shell.execute_reply": "2023-05-24T23:00:30.632131Z",
     "shell.execute_reply.started": "2023-05-24T23:00:30.469923Z"
    }
   },
   "outputs": [],
   "source": [
    "pickle.dump(_venue_game_temperatures, open('venue_game_temperatures.pkl', 'wb'))"
   ]
  },
  {
   "cell_type": "code",
   "execution_count": null,
   "id": "664170ba-e230-4e5c-bcef-bacb9a0e7f8f",
   "metadata": {},
   "outputs": [],
   "source": []
  },
  {
   "cell_type": "code",
   "execution_count": null,
   "id": "237ec917-dab3-4501-b414-b0b031424deb",
   "metadata": {},
   "outputs": [],
   "source": []
  },
  {
   "cell_type": "markdown",
   "id": "ce6d5dff-d495-47da-9ea6-e2421ae8e5ae",
   "metadata": {},
   "source": [
    "# construct match up dataset"
   ]
  },
  {
   "cell_type": "code",
   "execution_count": 256,
   "id": "21a387a3-5046-4bc9-a050-55d7a7697c50",
   "metadata": {
    "collapsed": true,
    "execution": {
     "iopub.execute_input": "2023-05-24T22:40:53.326007Z",
     "iopub.status.busy": "2023-05-24T22:40:53.325596Z",
     "iopub.status.idle": "2023-05-24T22:40:53.342105Z",
     "shell.execute_reply": "2023-05-24T22:40:53.341531Z",
     "shell.execute_reply.started": "2023-05-24T22:40:53.325981Z"
    },
    "jupyter": {
     "outputs_hidden": true
    }
   },
   "outputs": [
    {
     "name": "stdout",
     "output_type": "stream",
     "text": [
      "getting game_id list 2011\n",
      "done getting game_id list 2011\n",
      "getting game_id list 2012\n",
      "done getting game_id list 2012\n",
      "getting game_id list 2013\n",
      "done getting game_id list 2013\n",
      "getting game_id list 2014\n",
      "done getting game_id list 2014\n",
      "getting game_id list 2015\n",
      "done getting game_id list 2015\n",
      "getting game_id list 2016\n",
      "done getting game_id list 2016\n",
      "getting game_id list 2017\n",
      "done getting game_id list 2017\n",
      "getting game_id list 2018\n",
      "done getting game_id list 2018\n",
      "getting game_id list 2019\n",
      "done getting game_id list 2019\n",
      "getting game_id list 2020\n",
      "done getting game_id list 2020\n",
      "getting game_id list 2021\n",
      "done getting game_id list 2021\n",
      "getting game_id list 2022\n",
      "done getting game_id list 2022\n"
     ]
    }
   ],
   "source": [
    "game_id_list_total = sum([get_game_id_list_year(y) for y in range(2011, 2023)], [])"
   ]
  },
  {
   "cell_type": "code",
   "execution_count": 257,
   "id": "c1a50968-5273-419a-922d-4496d1e9c0a4",
   "metadata": {
    "execution": {
     "iopub.execute_input": "2023-05-24T22:40:59.878381Z",
     "iopub.status.busy": "2023-05-24T22:40:59.877973Z",
     "iopub.status.idle": "2023-05-24T22:40:59.892904Z",
     "shell.execute_reply": "2023-05-24T22:40:59.890332Z",
     "shell.execute_reply.started": "2023-05-24T22:40:59.878350Z"
    }
   },
   "outputs": [
    {
     "data": {
      "text/plain": [
       "28937"
      ]
     },
     "execution_count": 257,
     "metadata": {},
     "output_type": "execute_result"
    }
   ],
   "source": [
    "len(game_id_list_total)"
   ]
  },
  {
   "cell_type": "code",
   "execution_count": 258,
   "id": "b51a902e-e3d9-4734-9c68-045687f92a27",
   "metadata": {
    "execution": {
     "iopub.execute_input": "2023-05-24T22:41:20.800230Z",
     "iopub.status.busy": "2023-05-24T22:41:20.798889Z",
     "iopub.status.idle": "2023-05-24T22:41:20.820755Z",
     "shell.execute_reply": "2023-05-24T22:41:20.819018Z",
     "shell.execute_reply.started": "2023-05-24T22:41:20.800081Z"
    }
   },
   "outputs": [
    {
     "name": "stdout",
     "output_type": "stream",
     "text": [
      "getting game_id list 2022\n",
      "done getting game_id list 2022\n"
     ]
    }
   ],
   "source": [
    "game_id_list = get_game_id_list_year(2022)"
   ]
  },
  {
   "cell_type": "code",
   "execution_count": 259,
   "id": "b86edb4a-b7e3-41e6-9591-ed3f7ac56836",
   "metadata": {
    "execution": {
     "iopub.execute_input": "2023-05-24T22:41:21.053382Z",
     "iopub.status.busy": "2023-05-24T22:41:21.052606Z",
     "iopub.status.idle": "2023-05-24T22:41:21.061875Z",
     "shell.execute_reply": "2023-05-24T22:41:21.060452Z",
     "shell.execute_reply.started": "2023-05-24T22:41:21.053321Z"
    }
   },
   "outputs": [
    {
     "data": {
      "text/plain": [
       "2546"
      ]
     },
     "execution_count": 259,
     "metadata": {},
     "output_type": "execute_result"
    }
   ],
   "source": [
    "len(game_id_list)"
   ]
  },
  {
   "cell_type": "code",
   "execution_count": 289,
   "id": "a180188d-3672-4402-a2b9-68acfc499a12",
   "metadata": {
    "execution": {
     "iopub.execute_input": "2023-05-24T23:06:00.546710Z",
     "iopub.status.busy": "2023-05-24T23:06:00.546327Z",
     "iopub.status.idle": "2023-05-24T23:06:00.550185Z",
     "shell.execute_reply": "2023-05-24T23:06:00.549608Z",
     "shell.execute_reply.started": "2023-05-24T23:06:00.546684Z"
    }
   },
   "outputs": [
    {
     "name": "stdout",
     "output_type": "stream",
     "text": [
      "getting game_id list 2023\n",
      "done getting game_id list 2023\n"
     ]
    }
   ],
   "source": [
    "game_id_list_2023 = get_game_id_list_year(2023)"
   ]
  },
  {
   "cell_type": "code",
   "execution_count": null,
   "id": "8cf3bcde-7a46-4d96-9cd5-2f16692e0fb4",
   "metadata": {},
   "outputs": [],
   "source": []
  },
  {
   "cell_type": "code",
   "execution_count": 220,
   "id": "373e5eb4-44b0-42d0-bbb8-dfa94b72f00f",
   "metadata": {
    "collapsed": true,
    "execution": {
     "iopub.execute_input": "2023-05-23T03:42:02.378536Z",
     "iopub.status.busy": "2023-05-23T03:42:02.376953Z",
     "iopub.status.idle": "2023-05-23T04:02:42.205935Z",
     "shell.execute_reply": "2023-05-23T04:02:42.205425Z",
     "shell.execute_reply.started": "2023-05-23T03:42:02.378456Z"
    },
    "jupyter": {
     "outputs_hidden": true
    }
   },
   "outputs": [
    {
     "name": "stdout",
     "output_type": "stream",
     "text": [
      "processing 0 out of 28937 game_id 286884, cnt_null_matchups: 0\n",
      "processing 1000 out of 28937 game_id 287899, cnt_null_matchups: 29\n",
      "processing 2000 out of 28937 game_id 288887, cnt_null_matchups: 63\n",
      "calling statsapi.player_stat_data for player_id: 592603\n",
      "Exception: <class 'Exception'> while fetching player_stat_data\n",
      "Error while getting away batter 592603 stat\n",
      "opposing_pitcher_id  is not of int64 type\n",
      "calling statsapi.player_stat_data for player_id: 612538\n",
      "Exception: <class 'Exception'> while fetching player_stat_data\n",
      "Error while getting away batter 612538 stat\n",
      "opposing_pitcher_id  is not of int64 type\n",
      "opposing_pitcher_id  is not of int64 type\n",
      "opposing_pitcher_id  is not of int64 type\n",
      "processing 3000 out of 28937 game_id 318217, cnt_null_matchups: 158\n",
      "opposing_pitcher_id  is not of int64 type\n",
      "processing 4000 out of 28937 game_id 319211, cnt_null_matchups: 215\n",
      "opposing_pitcher_id  is not of int64 type\n",
      "opposing_pitcher_id  is not of int64 type\n",
      "calling statsapi.player_stat_data for player_id: 614349\n",
      "Exception: <class 'Exception'> while fetching player_stat_data\n",
      "Error while getting away batter 614349 stat\n",
      "opposing_pitcher_id  is not of int64 type\n",
      "processing 5000 out of 28937 game_id 362963, cnt_null_matchups: 299\n",
      "opposing_pitcher_id  is not of int64 type\n",
      "opposing_pitcher_id  is not of int64 type\n",
      "opposing_pitcher_id  is not of int64 type\n",
      "processing 6000 out of 28937 game_id 347627, cnt_null_matchups: 407\n",
      "opposing_pitcher_id  is not of int64 type\n",
      "opposing_pitcher_id  is not of int64 type\n",
      "opposing_pitcher_id  is not of int64 type\n",
      "opposing_pitcher_id  is not of int64 type\n",
      "opposing_pitcher_id  is not of int64 type\n",
      "opposing_pitcher_id  is not of int64 type\n",
      "opposing_pitcher_id  is not of int64 type\n",
      "opposing_pitcher_id  is not of int64 type\n",
      "opposing_pitcher_id  is not of int64 type\n",
      "opposing_pitcher_id  is not of int64 type\n",
      "processing 7000 out of 28937 game_id 348625, cnt_null_matchups: 456\n",
      "calling statsapi.player_stat_data for player_id: 621118\n",
      "Exception: <class 'Exception'> while fetching player_stat_data\n",
      "Error while getting away batter 621118 stat\n",
      "calling statsapi.player_stat_data for player_id: 650417\n",
      "Exception: <class 'Exception'> while fetching player_stat_data\n",
      "Error while getting away batter 650417 stat\n",
      "calling statsapi.player_stat_data for player_id: 650534\n",
      "Exception: <class 'Exception'> while fetching player_stat_data\n",
      "Error while getting away batter 650534 stat\n",
      "calling statsapi.player_stat_data for player_id: 600274\n",
      "Exception: <class 'Exception'> while fetching player_stat_data\n",
      "Error while getting away batter 600274 stat\n",
      "calling statsapi.player_stat_data for player_id: 650637\n",
      "Exception: <class 'Exception'> while fetching player_stat_data\n",
      "Error while getting away batter 650637 stat\n",
      "calling statsapi.player_stat_data for player_id: 650585\n",
      "Exception: <class 'Exception'> while fetching player_stat_data\n",
      "Error while getting away batter 650585 stat\n"
     ]
    },
    {
     "name": "stderr",
     "output_type": "stream",
     "text": [
      "Warning: Cannot load hourly/2015/KXNWG.csv.gz from https://bulk.meteostat.net/v2/\n",
      "Warning: Cannot load hourly/2015/F2UX6.csv.gz from https://bulk.meteostat.net/v2/\n",
      "Warning: Cannot load hourly/2015/KI690.csv.gz from https://bulk.meteostat.net/v2/\n",
      "Warning: Cannot load hourly/2015/74492.csv.gz from https://bulk.meteostat.net/v2/\n",
      "Warning: Cannot load hourly/2015/2XUGG.csv.gz from https://bulk.meteostat.net/v2/\n",
      "Warning: Cannot load hourly/2015/8PJPB.csv.gz from https://bulk.meteostat.net/v2/\n",
      "Warning: Cannot load hourly/2015/4P0GT.csv.gz from https://bulk.meteostat.net/v2/\n"
     ]
    },
    {
     "name": "stdout",
     "output_type": "stream",
     "text": [
      "processing 8000 out of 28937 game_id 380921, cnt_null_matchups: 540\n",
      "processing 9000 out of 28937 game_id 381918, cnt_null_matchups: 585\n",
      "processing 10000 out of 28937 game_id 382914, cnt_null_matchups: 646\n"
     ]
    },
    {
     "name": "stderr",
     "output_type": "stream",
     "text": [
      "Warning: Cannot load hourly/2014/DNYFH.csv.gz from https://bulk.meteostat.net/v2/\n",
      "Warning: Cannot load hourly/2015/DNYFH.csv.gz from https://bulk.meteostat.net/v2/\n"
     ]
    },
    {
     "name": "stdout",
     "output_type": "stream",
     "text": [
      "opposing_pitcher_id  is not of int64 type\n",
      "calling statsapi.player_stat_data for player_id: 661470\n",
      "Exception: <class 'Exception'> while fetching player_stat_data\n",
      "Error while getting away batter 661470 stat\n"
     ]
    },
    {
     "name": "stderr",
     "output_type": "stream",
     "text": [
      "Warning: Cannot load hourly/2016/DNYFH.csv.gz from https://bulk.meteostat.net/v2/\n",
      "Warning: Cannot load hourly/2016/KXNWG.csv.gz from https://bulk.meteostat.net/v2/\n",
      "Warning: Cannot load hourly/2016/KI690.csv.gz from https://bulk.meteostat.net/v2/\n",
      "Warning: Cannot load hourly/2016/F2UX6.csv.gz from https://bulk.meteostat.net/v2/\n",
      "Warning: Cannot load hourly/2016/74492.csv.gz from https://bulk.meteostat.net/v2/\n",
      "Warning: Cannot load hourly/2016/4P0GT.csv.gz from https://bulk.meteostat.net/v2/\n",
      "Warning: Cannot load hourly/2016/2XUGG.csv.gz from https://bulk.meteostat.net/v2/\n",
      "Warning: Cannot load hourly/2016/8PJPB.csv.gz from https://bulk.meteostat.net/v2/\n"
     ]
    },
    {
     "name": "stdout",
     "output_type": "stream",
     "text": [
      "opposing_pitcher_id  is not of int64 type\n",
      "opposing_pitcher_id  is not of int64 type\n",
      "opposing_pitcher_id  is not of int64 type\n",
      "opposing_pitcher_id  is not of int64 type\n",
      "processing 11000 out of 28937 game_id 414508, cnt_null_matchups: 715\n"
     ]
    },
    {
     "name": "stderr",
     "output_type": "stream",
     "text": [
      "Warning: Cannot load hourly/2016/NZY2Y.csv.gz from https://bulk.meteostat.net/v2/\n",
      "Warning: Cannot load hourly/2015/NZY2Y.csv.gz from https://bulk.meteostat.net/v2/\n"
     ]
    },
    {
     "name": "stdout",
     "output_type": "stream",
     "text": [
      "processing 12000 out of 28937 game_id 415512, cnt_null_matchups: 781\n",
      "calling statsapi.player_stat_data for player_id: 661470\n",
      "Exception: <class 'Exception'> while fetching player_stat_data\n",
      "Error while getting away batter 661470 stat\n",
      "calling statsapi.player_stat_data for player_id: 629979\n",
      "Exception: <class 'Exception'> while fetching player_stat_data\n",
      "Error while getting away batter 629979 stat\n",
      "calling statsapi.player_stat_data for player_id: 666961\n",
      "Exception: <class 'Exception'> while fetching player_stat_data\n",
      "Error while getting away batter 666961 stat\n",
      "calling statsapi.player_stat_data for player_id: 667278\n",
      "Exception: <class 'Exception'> while fetching player_stat_data\n",
      "Error while getting away batter 667278 stat\n",
      "calling statsapi.player_stat_data for player_id: 662002\n",
      "Exception: <class 'Exception'> while fetching player_stat_data\n",
      "Error while getting away batter 662002 stat\n",
      "calling statsapi.player_stat_data for player_id: 666920\n",
      "Exception: <class 'Exception'> while fetching player_stat_data\n",
      "Error while getting away batter 666920 stat\n",
      "opposing_pitcher_id  is not of int64 type\n"
     ]
    },
    {
     "name": "stderr",
     "output_type": "stream",
     "text": [
      "Warning: Cannot load hourly/2017/F2UX6.csv.gz from https://bulk.meteostat.net/v2/\n",
      "Warning: Cannot load hourly/2017/KI690.csv.gz from https://bulk.meteostat.net/v2/\n",
      "Warning: Cannot load hourly/2017/DNYFH.csv.gz from https://bulk.meteostat.net/v2/\n",
      "Warning: Cannot load hourly/2017/KXNWG.csv.gz from https://bulk.meteostat.net/v2/\n",
      "Warning: Cannot load hourly/2017/2XUGG.csv.gz from https://bulk.meteostat.net/v2/\n",
      "Warning: Cannot load hourly/2017/NZY2Y.csv.gz from https://bulk.meteostat.net/v2/\n",
      "Warning: Cannot load hourly/2017/74492.csv.gz from https://bulk.meteostat.net/v2/\n",
      "Warning: Cannot load hourly/2017/4P0GT.csv.gz from https://bulk.meteostat.net/v2/\n"
     ]
    },
    {
     "name": "stdout",
     "output_type": "stream",
     "text": [
      "processing 13000 out of 28937 game_id 447224, cnt_null_matchups: 863\n",
      "processing 14000 out of 28937 game_id 448218, cnt_null_matchups: 901\n",
      "processing 15000 out of 28937 game_id 449222, cnt_null_matchups: 988\n",
      "opposing_pitcher_id  is not of int64 type\n",
      "calling statsapi.player_stat_data for player_id: 673857\n",
      "Exception: <class 'Exception'> while fetching player_stat_data\n",
      "Error while getting away batter 673857 stat\n",
      "calling statsapi.player_stat_data for player_id: 661823\n",
      "Exception: <class 'Exception'> while fetching player_stat_data\n",
      "Error while getting away batter 661823 stat\n",
      "calling statsapi.player_stat_data for player_id: 673934\n",
      "Exception: <class 'Exception'> while fetching player_stat_data\n",
      "Error while getting away batter 673934 stat\n",
      "opposing_pitcher_id  is not of int64 type\n",
      "calling statsapi.player_stat_data for player_id: 650638\n",
      "Exception: <class 'Exception'> while fetching player_stat_data\n",
      "Error while getting away batter 650638 stat\n",
      "calling statsapi.player_stat_data for player_id: 667553\n",
      "Exception: <class 'Exception'> while fetching player_stat_data\n",
      "Error while getting away batter 667553 stat\n"
     ]
    },
    {
     "name": "stderr",
     "output_type": "stream",
     "text": [
      "Warning: Cannot load hourly/2018/4P0GT.csv.gz from https://bulk.meteostat.net/v2/\n",
      "Warning: Cannot load hourly/2018/74492.csv.gz from https://bulk.meteostat.net/v2/\n",
      "Warning: Cannot load hourly/2018/KI690.csv.gz from https://bulk.meteostat.net/v2/\n",
      "Warning: Cannot load hourly/2018/F2UX6.csv.gz from https://bulk.meteostat.net/v2/\n",
      "Warning: Cannot load hourly/2018/DNYFH.csv.gz from https://bulk.meteostat.net/v2/\n",
      "Warning: Cannot load hourly/2018/KXNWG.csv.gz from https://bulk.meteostat.net/v2/\n",
      "Warning: Cannot load hourly/2018/2XUGG.csv.gz from https://bulk.meteostat.net/v2/\n",
      "Warning: Cannot load hourly/2018/NZY2Y.csv.gz from https://bulk.meteostat.net/v2/\n"
     ]
    },
    {
     "name": "stdout",
     "output_type": "stream",
     "text": [
      "processing 16000 out of 28937 game_id 490889, cnt_null_matchups: 1103\n",
      "processing 17000 out of 28937 game_id 491900, cnt_null_matchups: 1157\n",
      "opposing_pitcher_id  is not of int64 type\n",
      "calling statsapi.player_stat_data for player_id: 679619\n",
      "Exception: <class 'Exception'> while fetching player_stat_data\n",
      "Error while getting away batter 679619 stat\n",
      "calling statsapi.player_stat_data for player_id: 673934\n",
      "Exception: <class 'Exception'> while fetching player_stat_data\n",
      "Error while getting away batter 673934 stat\n",
      "calling statsapi.player_stat_data for player_id: 673919\n",
      "Exception: <class 'Exception'> while fetching player_stat_data\n",
      "Error while getting away batter 673919 stat\n",
      "calling statsapi.player_stat_data for player_id: 663314\n",
      "Exception: <class 'Exception'> while fetching player_stat_data\n",
      "Error while getting away batter 663314 stat\n"
     ]
    },
    {
     "name": "stderr",
     "output_type": "stream",
     "text": [
      "Warning: Cannot load hourly/2019/2XUGG.csv.gz from https://bulk.meteostat.net/v2/\n",
      "Warning: Cannot load hourly/2019/NZY2Y.csv.gz from https://bulk.meteostat.net/v2/\n",
      "Warning: Cannot load hourly/2019/DNYFH.csv.gz from https://bulk.meteostat.net/v2/\n",
      "Warning: Cannot load hourly/2019/KXNWG.csv.gz from https://bulk.meteostat.net/v2/\n",
      "Warning: Cannot load hourly/2019/KI690.csv.gz from https://bulk.meteostat.net/v2/\n",
      "Warning: Cannot load hourly/2019/F2UX6.csv.gz from https://bulk.meteostat.net/v2/\n",
      "Warning: Cannot load hourly/2019/74492.csv.gz from https://bulk.meteostat.net/v2/\n",
      "Warning: Cannot load hourly/2019/4P0GT.csv.gz from https://bulk.meteostat.net/v2/\n"
     ]
    },
    {
     "name": "stdout",
     "output_type": "stream",
     "text": [
      "processing 18000 out of 28937 game_id 529648, cnt_null_matchups: 1321\n",
      "processing 19000 out of 28937 game_id 530650, cnt_null_matchups: 1366\n",
      "opposing_pitcher_id  is not of int64 type\n",
      "opposing_pitcher_id  is not of int64 type\n",
      "processing 20000 out of 28937 game_id 531659, cnt_null_matchups: 1443\n",
      "opposing_pitcher_id  is not of int64 type\n",
      "calling statsapi.player_stat_data for player_id: 679548\n",
      "Exception: <class 'Exception'> while fetching player_stat_data\n",
      "Error while getting away batter 679548 stat\n",
      "calling statsapi.player_stat_data for player_id: 684830\n",
      "Exception: <class 'Exception'> while fetching player_stat_data\n",
      "Error while getting away batter 684830 stat\n",
      "opposing_pitcher_id  is not of int64 type\n",
      "opposing_pitcher_id  is not of int64 type\n"
     ]
    },
    {
     "name": "stderr",
     "output_type": "stream",
     "text": [
      "Warning: Cannot load hourly/2020/F2UX6.csv.gz from https://bulk.meteostat.net/v2/\n",
      "Warning: Cannot load hourly/2020/NZY2Y.csv.gz from https://bulk.meteostat.net/v2/\n",
      "Warning: Cannot load hourly/2020/KXNWG.csv.gz from https://bulk.meteostat.net/v2/\n",
      "Warning: Cannot load hourly/2020/4P0GT.csv.gz from https://bulk.meteostat.net/v2/\n",
      "Warning: Cannot load hourly/2020/74492.csv.gz from https://bulk.meteostat.net/v2/\n"
     ]
    },
    {
     "name": "stdout",
     "output_type": "stream",
     "text": [
      "opposing_pitcher_id  is not of int64 type\n",
      "processing 21000 out of 28937 game_id 564953, cnt_null_matchups: 1593\n",
      "processing 22000 out of 28937 game_id 565377, cnt_null_matchups: 1654\n",
      "opposing_pitcher_id  is not of int64 type\n",
      "calling statsapi.player_stat_data for player_id: 679548\n",
      "Exception: <class 'Exception'> while fetching player_stat_data\n",
      "Error while getting away batter 679548 stat\n",
      "calling statsapi.player_stat_data for player_id: 685360\n",
      "Exception: <class 'Exception'> while fetching player_stat_data\n",
      "Error while getting away batter 685360 stat\n"
     ]
    },
    {
     "name": "stderr",
     "output_type": "stream",
     "text": [
      "Warning: Cannot load hourly/2021/F2UX6.csv.gz from https://bulk.meteostat.net/v2/\n",
      "Warning: Cannot load hourly/2021/4P0GT.csv.gz from https://bulk.meteostat.net/v2/\n"
     ]
    },
    {
     "name": "stdout",
     "output_type": "stream",
     "text": [
      "processing 23000 out of 28937 game_id 631593, cnt_null_matchups: 1842\n",
      "opposing_pitcher_id  is not of int64 type\n",
      "opposing_pitcher_id  is not of int64 type\n",
      "opposing_pitcher_id  is not of int64 type\n",
      "opposing_pitcher_id  is not of int64 type\n",
      "opposing_pitcher_id  is not of int64 type\n",
      "opposing_pitcher_id  is not of int64 type\n",
      "opposing_pitcher_id  is not of int64 type\n",
      "opposing_pitcher_id  is not of int64 type\n",
      "opposing_pitcher_id  is not of int64 type\n",
      "processing 24000 out of 28937 game_id 634589, cnt_null_matchups: 1998\n",
      "opposing_pitcher_id  is not of int64 type\n",
      "processing 25000 out of 28937 game_id 633747, cnt_null_matchups: 2954\n",
      "opposing_pitcher_id  is not of int64 type\n",
      "opposing_pitcher_id  is not of int64 type\n",
      "processing 26000 out of 28937 game_id 632569, cnt_null_matchups: 3895\n",
      "opposing_pitcher_id  is not of int64 type\n"
     ]
    },
    {
     "name": "stderr",
     "output_type": "stream",
     "text": [
      "Warning: Cannot load hourly/2022/74506.csv.gz from https://bulk.meteostat.net/v2/\n",
      "Warning: Cannot load hourly/2023/74506.csv.gz from https://bulk.meteostat.net/v2/\n"
     ]
    },
    {
     "name": "stdout",
     "output_type": "stream",
     "text": [
      "processing 27000 out of 28937 game_id 663005, cnt_null_matchups: 4348\n",
      "opposing_pitcher_id  is not of int64 type\n",
      "processing 28000 out of 28937 game_id 662267, cnt_null_matchups: 4400\n",
      "opposing_pitcher_id  is not of int64 type\n",
      "opposing_pitcher_id  is not of int64 type\n",
      "opposing_pitcher_id  is not of int64 type\n",
      "opposing_pitcher_id  is not of int64 type\n",
      "opposing_pitcher_id  is not of int64 type\n",
      "opposing_pitcher_id  is not of int64 type\n",
      "cnt_null_matchups: 4442\n"
     ]
    }
   ],
   "source": [
    "game_matchups = []\n",
    "cnt_null_matchups = 0\n",
    "for i, game_id in enumerate(game_id_list_total):\n",
    "    if i % 1000 == 0:\n",
    "        print(f'processing {i} out of {len(game_id_list_total)} game_id {game_id}, cnt_null_matchups: {cnt_null_matchups}')\n",
    "    game = _schedules[game_id]\n",
    "\n",
    "    game_boxscore = get_boxscore_data(game_id)\n",
    "    \n",
    "    if game_boxscore is None:\n",
    "        print(f'Failed to get box score for game_id: {game_id}')\n",
    "        continue\n",
    "    \n",
    "    home_batting_matchup = get_matchup(game_id, \"home\")\n",
    "    away_batting_matchup = get_matchup(game_id, \"away\")\n",
    "    \n",
    "    home_batting_matchup = home_batting_matchup if home_batting_matchup is not None else []\n",
    "    away_batting_matchup = away_batting_matchup if away_batting_matchup is not None else []\n",
    "\n",
    "    all_home_players = game_boxscore[\"home\"][\"players\"]\n",
    "    all_away_players = game_boxscore[\"away\"][\"players\"]\n",
    "\n",
    "    if (len(home_batting_matchup) == 0) and (len(away_batting_matchup) == 0):\n",
    "        #print(f'None both home_batting_matchup and away_batting_matchup for game_id {game_id}')\n",
    "        cnt_null_matchups += 1\n",
    "        continue\n",
    "    elif (len(home_batting_matchup) >= 1) and (len(away_batting_matchup) == 0):\n",
    "        #print(f'None away_batting_matchup for game_id {game_id}')\n",
    "        game_matchup = home_batting_matchup.reset_index(drop = True).copy()\n",
    "    elif (len(home_batting_matchup) == 0) and (len(away_batting_matchup) >= 1):\n",
    "        #print(f'None home_batting_matchup for game_id {game_id}')\n",
    "        game_matchup = away_batting_matchup.reset_index(drop = True).copy()\n",
    "    elif (len(home_batting_matchup) >= 0) and (len(away_batting_matchup) >= 1):\n",
    "        game_matchup = pd.concat([home_batting_matchup, away_batting_matchup], axis = 0).reset_index(drop = True)\n",
    "\n",
    "    game_matchup[\"game_id\"] = game[\"game_id\"]\n",
    "    game_matchup[\"game_venue\"] = game[\"venue_name\"]\n",
    "    game_matchup[\"game_date\"] = game[\"game_date\"]\n",
    "    game_matchup[\"game_datetime\"] = game[\"game_datetime\"]\n",
    "\n",
    "    if game[\"venue_name\"] not in park_venues:\n",
    "        # likely a training game\n",
    "        continue\n",
    "\n",
    "    park_lat = Park_Data[\"latitude\"][Park_Data[\"Venue\"] == game[\"venue_name\"]].iloc[0]\n",
    "    park_lon = Park_Data[\"longitude\"][Park_Data[\"Venue\"] == game[\"venue_name\"]].iloc[0]\n",
    "\n",
    "    game_temperature = get_venue_game_temperatures(park_lat, park_lon, game[\"game_date\"], game[\"game_datetime\"])\n",
    "    game_matchup[\"temp\"] = game_temperature\n",
    "    game_matchups.append(game_matchup)\n",
    "\n",
    "print(f'cnt_null_matchups: {cnt_null_matchups}')"
   ]
  },
  {
   "cell_type": "code",
   "execution_count": null,
   "id": "c56d8a51-0454-47b4-b47a-b29200188f6c",
   "metadata": {},
   "outputs": [],
   "source": []
  },
  {
   "cell_type": "code",
   "execution_count": 252,
   "id": "f1d977b5",
   "metadata": {
    "execution": {
     "iopub.execute_input": "2023-05-23T15:22:27.108663Z",
     "iopub.status.busy": "2023-05-23T15:22:27.108367Z",
     "iopub.status.idle": "2023-05-23T15:23:35.453814Z",
     "shell.execute_reply": "2023-05-23T15:23:35.453094Z",
     "shell.execute_reply.started": "2023-05-23T15:22:27.108646Z"
    },
    "tags": []
   },
   "outputs": [
    {
     "name": "stdout",
     "output_type": "stream",
     "text": [
      "Unique Games: 18910\n"
     ]
    }
   ],
   "source": [
    "game_matchup_dataframe = pd.concat(game_matchups).reset_index(drop=True) # [Hit_Real_Features].dropna()\n",
    "print(f\"Unique Games: {len(game_matchup_dataframe['game_id'].drop_duplicates())}\")"
   ]
  },
  {
   "cell_type": "code",
   "execution_count": 254,
   "id": "cf919e17-6be2-48b6-9838-969edaf9f985",
   "metadata": {
    "execution": {
     "iopub.execute_input": "2023-05-23T15:30:54.186419Z",
     "iopub.status.busy": "2023-05-23T15:30:54.186170Z",
     "iopub.status.idle": "2023-05-23T15:30:54.333124Z",
     "shell.execute_reply": "2023-05-23T15:30:54.332663Z",
     "shell.execute_reply.started": "2023-05-23T15:30:54.186404Z"
    }
   },
   "outputs": [],
   "source": [
    "game_matchup_dataframe['game_date'] = pd.to_datetime(game_matchup_dataframe['game_date'])\n",
    "game_matchup_dataframe['game_datetime'] = pd.to_datetime(game_matchup_dataframe['game_datetime'])\n",
    "game_matchup_dataframe['game_year'] = game_matchup_dataframe.game_date.dt.to_period('y')"
   ]
  },
  {
   "cell_type": "code",
   "execution_count": 255,
   "id": "e116e303-c8a2-45da-8312-0648cdd8f4fb",
   "metadata": {
    "execution": {
     "iopub.execute_input": "2023-05-23T15:30:55.036810Z",
     "iopub.status.busy": "2023-05-23T15:30:55.036531Z",
     "iopub.status.idle": "2023-05-23T15:30:55.368339Z",
     "shell.execute_reply": "2023-05-23T15:30:55.367687Z",
     "shell.execute_reply.started": "2023-05-23T15:30:55.036786Z"
    },
    "tags": []
   },
   "outputs": [],
   "source": [
    "game_matchup_dataframe.to_pickle('game_matchup_dataframe.pkl')"
   ]
  },
  {
   "cell_type": "code",
   "execution_count": null,
   "id": "b058251a-37f9-4a5b-a947-c51bf76685e2",
   "metadata": {},
   "outputs": [],
   "source": []
  },
  {
   "cell_type": "code",
   "execution_count": null,
   "id": "1e4307b7-1797-492d-b078-f9177bc04771",
   "metadata": {},
   "outputs": [],
   "source": []
  }
 ],
 "metadata": {
  "kernelspec": {
   "display_name": "Python 3 (ipykernel)",
   "language": "python",
   "name": "python3"
  },
  "language_info": {
   "codemirror_mode": {
    "name": "ipython",
    "version": 3
   },
   "file_extension": ".py",
   "mimetype": "text/x-python",
   "name": "python",
   "nbconvert_exporter": "python",
   "pygments_lexer": "ipython3",
   "version": "3.10.6"
  }
 },
 "nbformat": 4,
 "nbformat_minor": 5
}
