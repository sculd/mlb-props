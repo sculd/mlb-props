{
 "cells": [
  {
   "cell_type": "code",
   "execution_count": 1,
   "id": "7cc6e997",
   "metadata": {
    "execution": {
     "iopub.execute_input": "2023-05-21T23:07:10.098206Z",
     "iopub.status.busy": "2023-05-21T23:07:10.097352Z",
     "iopub.status.idle": "2023-05-21T23:07:10.556539Z",
     "shell.execute_reply": "2023-05-21T23:07:10.555681Z",
     "shell.execute_reply.started": "2023-05-21T23:07:10.098149Z"
    },
    "tags": []
   },
   "outputs": [],
   "source": [
    "import pandas as pd, numpy as np\n",
    "import statsapi\n",
    "from statsapi import player_stat_data\n",
    "import requests\n",
    "from datetime import datetime, timedelta\n",
    "import numpy as np\n",
    "import math\n",
    "import sqlalchemy\n",
    "import mysql.connector\n",
    "import meteostat\n",
    "import pprint\n",
    "import pickle\n",
    "import threading"
   ]
  },
  {
   "cell_type": "code",
   "execution_count": 129,
   "id": "fc0b9596",
   "metadata": {
    "execution": {
     "iopub.execute_input": "2023-05-23T02:42:35.962257Z",
     "iopub.status.busy": "2023-05-23T02:42:35.961872Z",
     "iopub.status.idle": "2023-05-23T02:42:36.017950Z",
     "shell.execute_reply": "2023-05-23T02:42:36.016994Z",
     "shell.execute_reply.started": "2023-05-23T02:42:35.962229Z"
    },
    "tags": []
   },
   "outputs": [],
   "source": [
    "Teams_and_IDs = pd.read_csv(\"Teams_and_IDs.csv\")\n",
    "Player_Positions = pd.read_csv(\"MLB_Player_Positions.csv\")\n",
    "Park_Data = pd.read_csv(\"mlb_parks.csv\")\n",
    "park_venues = set(Park_Data[\"Venue\"])"
   ]
  },
  {
   "cell_type": "code",
   "execution_count": 3,
   "id": "6e6ae697",
   "metadata": {
    "execution": {
     "iopub.execute_input": "2023-05-21T23:07:10.892921Z",
     "iopub.status.busy": "2023-05-21T23:07:10.892380Z",
     "iopub.status.idle": "2023-05-21T23:07:22.990048Z",
     "shell.execute_reply": "2023-05-21T23:07:22.989245Z",
     "shell.execute_reply.started": "2023-05-21T23:07:10.892883Z"
    },
    "tags": []
   },
   "outputs": [],
   "source": [
    "All_Teams_Data = []\n",
    "\n",
    "for team_id in Teams_and_IDs['Team_ID']:\n",
    "    roster_url = f\"https://statsapi.mlb.com/api/v1/teams/{team_id}/roster?rosterType=allTime\"\n",
    "    response = requests.get(roster_url)\n",
    "    roster_data = response.json()['roster']\n",
    "    for player in roster_data:\n",
    "        Player_Name = player['person']['fullName']\n",
    "        Player_ID = player['person']['id']\n",
    "        Player_Dictionary = {\"Team_ID\":team_id,\"Player Name\":Player_Name, \"Player ID\":Player_ID}\n",
    "        All_Teams_Data.append(Player_Dictionary)\n",
    "\n",
    "All_Teams_DataFrame = pd.DataFrame(All_Teams_Data)"
   ]
  },
  {
   "cell_type": "code",
   "execution_count": 4,
   "id": "2c014c75",
   "metadata": {
    "execution": {
     "iopub.execute_input": "2023-05-21T23:07:22.990903Z",
     "iopub.status.busy": "2023-05-21T23:07:22.990795Z",
     "iopub.status.idle": "2023-05-21T23:07:23.000917Z",
     "shell.execute_reply": "2023-05-21T23:07:23.000090Z",
     "shell.execute_reply.started": "2023-05-21T23:07:22.990892Z"
    },
    "tags": []
   },
   "outputs": [],
   "source": [
    "# almost the same could be achieve this way.\n",
    "All_Teams_DataFrame_ = Player_Positions.drop_duplicates(['player_name', 'player_id', 'player_team_id'])[['player_team_id', 'player_name', 'player_id']]"
   ]
  },
  {
   "cell_type": "code",
   "execution_count": 5,
   "id": "7f60f21a",
   "metadata": {
    "execution": {
     "iopub.execute_input": "2023-05-21T23:07:23.003082Z",
     "iopub.status.busy": "2023-05-21T23:07:23.002561Z",
     "iopub.status.idle": "2023-05-21T23:07:23.018793Z",
     "shell.execute_reply": "2023-05-21T23:07:23.018116Z",
     "shell.execute_reply.started": "2023-05-21T23:07:23.003063Z"
    },
    "tags": []
   },
   "outputs": [],
   "source": [
    "def Team_To_ID(team_name):\n",
    "    team_id = Teams_and_IDs[\"Team_ID\"][Teams_and_IDs['Team_Name'] == team_name].iloc[0]\n",
    "    return team_id\n",
    "\n",
    "def ID_To_Team(team_id):\n",
    "    team_name = Teams_and_IDs[\"Team_Name\"][Teams_and_IDs['Team_ID'] == team_id].iloc[0]\n",
    "    return team_name\n",
    "\n",
    "def Player_to_ID(player_name):\n",
    "    player_id = Player_Positions[\"player_id\"][Player_Positions[\"player_name\"] == player_name]\n",
    "    if len(player_id) >= 1:\n",
    "        return player_id.iloc[0]\n",
    "    else:\n",
    "        return \"\"\n",
    "\n",
    "def celsius_to_fahrenheit(celsius):\n",
    "    return ( celsius * (9/5) ) + 32    "
   ]
  },
  {
   "cell_type": "markdown",
   "id": "6aa1a81e",
   "metadata": {},
   "source": [
    "## start"
   ]
  },
  {
   "cell_type": "code",
   "execution_count": 243,
   "id": "a60f82c8",
   "metadata": {
    "execution": {
     "iopub.execute_input": "2023-05-21T19:19:59.547214Z",
     "iopub.status.busy": "2023-05-21T19:19:59.545997Z",
     "iopub.status.idle": "2023-05-21T19:20:20.078372Z",
     "shell.execute_reply": "2023-05-21T19:20:20.077535Z",
     "shell.execute_reply.started": "2023-05-21T19:19:59.547154Z"
    },
    "tags": []
   },
   "outputs": [
    {
     "name": "stderr",
     "output_type": "stream",
     "text": [
      "Excluding seriesStatus hydration because the MLB API throws an error for 2014-03-11 which is included in the requested date range.\n"
     ]
    }
   ],
   "source": [
    "tomorrow = (datetime.today() + timedelta(days = 1)).strftime(\"%Y-%m-%d\")\n",
    "yesterday = (datetime.today() - timedelta(days = 1)).strftime(\"%Y-%m-%d\")\n",
    "day_before_yesterday = (datetime.today() - timedelta(days = 2)).strftime(\"%Y-%m-%d\")\n",
    "\n",
    "# Schedule = statsapi.schedule(start_date = day_before_yesterday, end_date = yesterday)\n",
    "Schedule = statsapi.schedule(start_date = \"2011-04-01\", end_date = \"2020-03-01\")\n",
    "Schedule_DataFrame = pd.json_normalize(Schedule)\n",
    "\n",
    "game_id_list = list(Schedule_DataFrame[\"game_id\"].drop_duplicates())\n",
    "start = datetime.now()"
   ]
  },
  {
   "cell_type": "code",
   "execution_count": 245,
   "id": "096f9028",
   "metadata": {
    "execution": {
     "iopub.execute_input": "2023-05-21T19:20:20.106455Z",
     "iopub.status.busy": "2023-05-21T19:20:20.105743Z",
     "iopub.status.idle": "2023-05-21T19:20:20.122438Z",
     "shell.execute_reply": "2023-05-21T19:20:20.121801Z",
     "shell.execute_reply.started": "2023-05-21T19:20:20.106415Z"
    },
    "tags": []
   },
   "outputs": [
    {
     "data": {
      "text/html": [
       "<div>\n",
       "<style scoped>\n",
       "    .dataframe tbody tr th:only-of-type {\n",
       "        vertical-align: middle;\n",
       "    }\n",
       "\n",
       "    .dataframe tbody tr th {\n",
       "        vertical-align: top;\n",
       "    }\n",
       "\n",
       "    .dataframe thead th {\n",
       "        text-align: right;\n",
       "    }\n",
       "</style>\n",
       "<table border=\"1\" class=\"dataframe\">\n",
       "  <thead>\n",
       "    <tr style=\"text-align: right;\">\n",
       "      <th></th>\n",
       "      <th>game_datetime</th>\n",
       "      <th>game_date</th>\n",
       "      <th>home_probable_pitcher</th>\n",
       "      <th>away_probable_pitcher</th>\n",
       "      <th>away_score</th>\n",
       "      <th>home_score</th>\n",
       "      <th>current_inning</th>\n",
       "      <th>inning_state</th>\n",
       "      <th>status</th>\n",
       "    </tr>\n",
       "  </thead>\n",
       "  <tbody>\n",
       "    <tr>\n",
       "      <th>2987</th>\n",
       "      <td>2012-04-01T20:05:00Z</td>\n",
       "      <td>2012-04-01</td>\n",
       "      <td>Yovani Gallardo</td>\n",
       "      <td>Tim Lincecum</td>\n",
       "      <td>4</td>\n",
       "      <td>7</td>\n",
       "      <td>9</td>\n",
       "      <td>Top</td>\n",
       "      <td>Final</td>\n",
       "    </tr>\n",
       "    <tr>\n",
       "      <th>2988</th>\n",
       "      <td>2012-04-01T20:10:00Z</td>\n",
       "      <td>2012-04-01</td>\n",
       "      <td>Jeremy Guthrie</td>\n",
       "      <td>Ubaldo Jimenez</td>\n",
       "      <td>12</td>\n",
       "      <td>10</td>\n",
       "      <td>9</td>\n",
       "      <td>Bottom</td>\n",
       "      <td>Final</td>\n",
       "    </tr>\n",
       "  </tbody>\n",
       "</table>\n",
       "</div>"
      ],
      "text/plain": [
       "             game_datetime   game_date home_probable_pitcher  \\\n",
       "2987  2012-04-01T20:05:00Z  2012-04-01       Yovani Gallardo   \n",
       "2988  2012-04-01T20:10:00Z  2012-04-01        Jeremy Guthrie   \n",
       "\n",
       "     away_probable_pitcher away_score home_score current_inning inning_state  \\\n",
       "2987          Tim Lincecum          4          7              9          Top   \n",
       "2988        Ubaldo Jimenez         12         10              9       Bottom   \n",
       "\n",
       "     status  \n",
       "2987  Final  \n",
       "2988  Final  "
      ]
     },
     "execution_count": 245,
     "metadata": {},
     "output_type": "execute_result"
    }
   ],
   "source": [
    "Schedule_DataFrame[['game_datetime', 'game_date', 'home_probable_pitcher', 'away_probable_pitcher',\n",
    "       'away_score', 'home_score',\n",
    "       'current_inning', 'inning_state', 'status']].tail(2)"
   ]
  },
  {
   "cell_type": "code",
   "execution_count": 246,
   "id": "75154ad2",
   "metadata": {
    "execution": {
     "iopub.execute_input": "2023-05-21T19:20:20.124155Z",
     "iopub.status.busy": "2023-05-21T19:20:20.123716Z",
     "iopub.status.idle": "2023-05-21T19:20:20.146029Z",
     "shell.execute_reply": "2023-05-21T19:20:20.145273Z",
     "shell.execute_reply.started": "2023-05-21T19:20:20.124118Z"
    },
    "tags": []
   },
   "outputs": [
    {
     "data": {
      "text/html": [
       "<div>\n",
       "<style scoped>\n",
       "    .dataframe tbody tr th:only-of-type {\n",
       "        vertical-align: middle;\n",
       "    }\n",
       "\n",
       "    .dataframe tbody tr th {\n",
       "        vertical-align: top;\n",
       "    }\n",
       "\n",
       "    .dataframe thead th {\n",
       "        text-align: right;\n",
       "    }\n",
       "</style>\n",
       "<table border=\"1\" class=\"dataframe\">\n",
       "  <thead>\n",
       "    <tr style=\"text-align: right;\">\n",
       "      <th></th>\n",
       "      <th>game_datetime</th>\n",
       "      <th>game_date</th>\n",
       "      <th>home_probable_pitcher</th>\n",
       "      <th>away_probable_pitcher</th>\n",
       "      <th>away_score</th>\n",
       "      <th>home_score</th>\n",
       "      <th>current_inning</th>\n",
       "      <th>inning_state</th>\n",
       "      <th>status</th>\n",
       "    </tr>\n",
       "  </thead>\n",
       "  <tbody>\n",
       "    <tr>\n",
       "      <th>0</th>\n",
       "      <td>2011-04-01T17:05:00Z</td>\n",
       "      <td>2011-04-01</td>\n",
       "      <td>Roy Halladay</td>\n",
       "      <td>Brett Myers</td>\n",
       "      <td>4</td>\n",
       "      <td>5</td>\n",
       "      <td>9</td>\n",
       "      <td>Bottom</td>\n",
       "      <td>Final</td>\n",
       "    </tr>\n",
       "    <tr>\n",
       "      <th>1</th>\n",
       "      <td>2011-04-01T18:20:00Z</td>\n",
       "      <td>2011-04-01</td>\n",
       "      <td>Ryan Dempster</td>\n",
       "      <td>Kevin Correia</td>\n",
       "      <td>6</td>\n",
       "      <td>3</td>\n",
       "      <td>9</td>\n",
       "      <td>Bottom</td>\n",
       "      <td>Final</td>\n",
       "    </tr>\n",
       "  </tbody>\n",
       "</table>\n",
       "</div>"
      ],
      "text/plain": [
       "          game_datetime   game_date home_probable_pitcher  \\\n",
       "0  2011-04-01T17:05:00Z  2011-04-01          Roy Halladay   \n",
       "1  2011-04-01T18:20:00Z  2011-04-01         Ryan Dempster   \n",
       "\n",
       "  away_probable_pitcher away_score home_score current_inning inning_state  \\\n",
       "0           Brett Myers          4          5              9       Bottom   \n",
       "1         Kevin Correia          6          3              9       Bottom   \n",
       "\n",
       "  status  \n",
       "0  Final  \n",
       "1  Final  "
      ]
     },
     "execution_count": 246,
     "metadata": {},
     "output_type": "execute_result"
    }
   ],
   "source": [
    "Schedule_DataFrame[['game_datetime', 'game_date', 'home_probable_pitcher', 'away_probable_pitcher',\n",
    "       'away_score', 'home_score',\n",
    "       'current_inning', 'inning_state', 'status']].head(2)"
   ]
  },
  {
   "cell_type": "code",
   "execution_count": 8,
   "id": "62c668c2-5936-4c56-a1ed-f27984039d42",
   "metadata": {
    "execution": {
     "iopub.execute_input": "2023-05-21T23:07:25.852028Z",
     "iopub.status.busy": "2023-05-21T23:07:25.851257Z",
     "iopub.status.idle": "2023-05-21T23:07:37.630087Z",
     "shell.execute_reply": "2023-05-21T23:07:37.629422Z",
     "shell.execute_reply.started": "2023-05-21T23:07:25.851982Z"
    },
    "tags": []
   },
   "outputs": [],
   "source": [
    "_boxscores = pickle.load(open('boxscores.pkl', 'rb'))\n",
    "_boxscores_lock = threading.Lock()"
   ]
  },
  {
   "cell_type": "code",
   "execution_count": 18,
   "id": "fdc1862a-ee8c-4ad5-ad1d-eb1bd156b6ce",
   "metadata": {
    "execution": {
     "iopub.execute_input": "2023-05-21T23:25:27.277611Z",
     "iopub.status.busy": "2023-05-21T23:25:27.277367Z",
     "iopub.status.idle": "2023-05-21T23:25:27.287376Z",
     "shell.execute_reply": "2023-05-21T23:25:27.286059Z",
     "shell.execute_reply.started": "2023-05-21T23:25:27.277593Z"
    },
    "tags": []
   },
   "outputs": [],
   "source": [
    "def get_boxscore_data(game_id, force_fetch = False):\n",
    "    global _boxscores\n",
    "    _boxscores_lock.acquire()\n",
    "    data = None\n",
    "    if game_id not in _boxscores or force_fetch:\n",
    "        try:\n",
    "            #print(f'calling statsapi.boxscore_data for game_id: {game_id}')\n",
    "            data = statsapi.boxscore_data(game_id)\n",
    "        except Exception:\n",
    "            print(f'Exception: {Exception} while fetching boxscore')\n",
    "        if data is not None:\n",
    "            _boxscores[game_id] = data\n",
    "    elif game_id in _boxscores:\n",
    "        data = _boxscores[game_id]\n",
    "    \n",
    "    _boxscores_lock.release()\n",
    "    return data\n",
    "\n",
    "def get_boxscore_data_batch(game_ids, force_fetch = False):\n",
    "    print(f'{game_ids[:2]} total {len(game_ids)}')\n",
    "    for i, game_id in enumerate(game_ids):\n",
    "        if i % 100 == 0:\n",
    "            print(f'{i} of {game_ids[:2]} total {len(game_ids)}')\n",
    "        get_boxscore_data(game_id, force_fetch = force_fetch)\n",
    "    return [get_boxscore_data(game_id, force_fetch = force_fetch) for game_id in game_ids]\n",
    "\n",
    "def dump_boxscore_cache():\n",
    "    global _boxscores\n",
    "    pickle.dump(_boxscores, open('boxscores.pkl', 'wb'))"
   ]
  },
  {
   "cell_type": "code",
   "execution_count": null,
   "id": "16db62ae-91da-46a6-9c54-e835ae9e9b0a",
   "metadata": {},
   "outputs": [],
   "source": []
  },
  {
   "cell_type": "code",
   "execution_count": 56,
   "id": "d9ead217-72a2-4e3a-9305-91a01b22b1ca",
   "metadata": {
    "execution": {
     "iopub.execute_input": "2023-05-22T02:12:05.465602Z",
     "iopub.status.busy": "2023-05-22T02:12:05.464299Z",
     "iopub.status.idle": "2023-05-22T02:12:05.471541Z",
     "shell.execute_reply": "2023-05-22T02:12:05.470405Z",
     "shell.execute_reply.started": "2023-05-22T02:12:05.465534Z"
    }
   },
   "outputs": [],
   "source": [
    "_schedules = pickle.load(open('schedules.pkl', 'rb'))"
   ]
  },
  {
   "cell_type": "code",
   "execution_count": 69,
   "id": "7984a73c-69b1-4752-aa87-956b19937cb8",
   "metadata": {
    "execution": {
     "iopub.execute_input": "2023-05-22T02:19:10.622080Z",
     "iopub.status.busy": "2023-05-22T02:19:10.621339Z",
     "iopub.status.idle": "2023-05-22T02:19:10.634974Z",
     "shell.execute_reply": "2023-05-22T02:19:10.633012Z",
     "shell.execute_reply.started": "2023-05-22T02:19:10.622018Z"
    }
   },
   "outputs": [],
   "source": [
    "def fetch_schdules_year(year):\n",
    "    print(f'fetch_schdules_year {year}')\n",
    "    global _schedules\n",
    "    data = None\n",
    "    schedule = statsapi.schedule(start_date = f\"{year}-04-01\", end_date = f\"{year+1}-03-01\")\n",
    "    for schedul in schedule:\n",
    "        _schedules[schedul['game_id']] = schedul\n",
    "\n",
    "    print(f'done fetch_schdules_year {year}')"
   ]
  },
  {
   "cell_type": "code",
   "execution_count": 72,
   "id": "3946227e-2566-415d-b6f2-0cecbf090cd2",
   "metadata": {
    "execution": {
     "iopub.execute_input": "2023-05-22T02:20:24.940364Z",
     "iopub.status.busy": "2023-05-22T02:20:24.939210Z",
     "iopub.status.idle": "2023-05-22T02:21:09.092403Z",
     "shell.execute_reply": "2023-05-22T02:21:09.086741Z",
     "shell.execute_reply.started": "2023-05-22T02:20:24.940283Z"
    }
   },
   "outputs": [
    {
     "name": "stdout",
     "output_type": "stream",
     "text": [
      "fetch_schdules_year 2016\n",
      "done fetch_schdules_year 2016\n",
      "fetch_schdules_year 2015\n",
      "done fetch_schdules_year 2015\n",
      "fetch_schdules_year 2014\n",
      "done fetch_schdules_year 2014\n",
      "fetch_schdules_year 2013\n",
      "done fetch_schdules_year 2013\n",
      "fetch_schdules_year 2012\n",
      "done fetch_schdules_year 2012\n",
      "fetch_schdules_year 2011\n",
      "done fetch_schdules_year 2011\n"
     ]
    },
    {
     "data": {
      "text/plain": [
       "'\\n#'"
      ]
     },
     "execution_count": 72,
     "metadata": {},
     "output_type": "execute_result"
    }
   ],
   "source": [
    "'''\n",
    "fetch_schdules_year(2022)\n",
    "fetch_schdules_year(2021)\n",
    "fetch_schdules_year(2020)\n",
    "fetch_schdules_year(2019)\n",
    "fetch_schdules_year(2018)\n",
    "fetch_schdules_year(2017)\n",
    "#'''\n",
    "fetch_schdules_year(2016)\n",
    "fetch_schdules_year(2015)\n",
    "fetch_schdules_year(2014)\n",
    "fetch_schdules_year(2013)\n",
    "fetch_schdules_year(2012)\n",
    "fetch_schdules_year(2011)\n",
    "'''\n",
    "#'''"
   ]
  },
  {
   "cell_type": "code",
   "execution_count": 73,
   "id": "13ab2aca-5d1a-45df-b4fa-2e7e583fe6f5",
   "metadata": {
    "execution": {
     "iopub.execute_input": "2023-05-22T02:21:09.097248Z",
     "iopub.status.busy": "2023-05-22T02:21:09.096609Z",
     "iopub.status.idle": "2023-05-22T02:21:09.319401Z",
     "shell.execute_reply": "2023-05-22T02:21:09.318649Z",
     "shell.execute_reply.started": "2023-05-22T02:21:09.097212Z"
    }
   },
   "outputs": [],
   "source": [
    "pickle.dump(_schedules, open('schedules.pkl', 'wb'))"
   ]
  },
  {
   "cell_type": "code",
   "execution_count": null,
   "id": "abbd238f-f997-4e7a-bda6-012b31534e39",
   "metadata": {},
   "outputs": [],
   "source": []
  },
  {
   "cell_type": "code",
   "execution_count": 6,
   "id": "d8b85755-bece-40a6-bcd9-248d0d25385c",
   "metadata": {
    "execution": {
     "iopub.execute_input": "2023-05-21T23:07:23.020872Z",
     "iopub.status.busy": "2023-05-21T23:07:23.020436Z",
     "iopub.status.idle": "2023-05-21T23:07:23.029501Z",
     "shell.execute_reply": "2023-05-21T23:07:23.028942Z",
     "shell.execute_reply.started": "2023-05-21T23:07:23.020849Z"
    },
    "tags": []
   },
   "outputs": [],
   "source": [
    "_game_id_lists = pickle.load(open('game_id_lists.pkl', 'rb'))"
   ]
  },
  {
   "cell_type": "code",
   "execution_count": 100,
   "id": "c419037b-8baa-4536-a461-3c55443bf490",
   "metadata": {
    "execution": {
     "iopub.execute_input": "2023-05-22T20:54:24.617263Z",
     "iopub.status.busy": "2023-05-22T20:54:24.616726Z",
     "iopub.status.idle": "2023-05-22T20:54:24.628991Z",
     "shell.execute_reply": "2023-05-22T20:54:24.628409Z",
     "shell.execute_reply.started": "2023-05-22T20:54:24.617208Z"
    },
    "tags": []
   },
   "outputs": [],
   "source": [
    "def get_game_id_list_year(year, force_fetch = False):\n",
    "    print(f'getting game_id list {year}')\n",
    "    global _game_id_lists\n",
    "    data = None\n",
    "    if year not in _game_id_lists or force_fetch:\n",
    "        end_date = f\"{year+1}-03-01\" if year < 2022 else f\"{year}-12-01\"\n",
    "        schedule = statsapi.schedule(start_date = f\"{year}-04-01\", end_date = end_date)\n",
    "        df_schedule = pd.json_normalize(schedule)\n",
    "        data = list(df_schedule[\"game_id\"].drop_duplicates())\n",
    "        if data is not None:\n",
    "            _game_id_lists[year] = data\n",
    "    elif year in _game_id_lists:\n",
    "        data = _game_id_lists[year]\n",
    "        \n",
    "    print(f'done getting game_id list {year}')\n",
    "    return data\n",
    "\n",
    "def ingest_boxscore_year(year):\n",
    "    print(f'year: {year}')\n",
    "    game_id_list = get_game_id_list_year(year)\n",
    "\n",
    "    game_id_list_splits = np.array_split(game_id_list, 8)\n",
    "    ths = []\n",
    "    for i, game_id_list_split in enumerate(game_id_list_splits):\n",
    "        print(f'th {i}')\n",
    "        th = threading.Thread(target=get_boxscore_data_batch, args=(game_id_list_split, ))\n",
    "        th.start()\n",
    "        ths.append(th)\n",
    "\n",
    "    for th in ths:\n",
    "        th.join()\n",
    "    \n",
    "    '''\n",
    "    for i, game_id in enumerate(game_id_list):\n",
    "        if i % 500 == 0:\n",
    "            print(f'processing {i} out of {len(game_id_list)} game_id {game_id}')\n",
    "        game_boxscore = get_boxscore_data(game_id)\n",
    "    '''\n",
    "    print(f'done ingest_boxscore_year {year}')    "
   ]
  },
  {
   "cell_type": "code",
   "execution_count": null,
   "id": "4f5b83ec-ded4-4cdc-870f-1359330bfb48",
   "metadata": {},
   "outputs": [],
   "source": [
    "'''\n",
    "get_game_id_list_year(2022)\n",
    "get_game_id_list_year(2021)\n",
    "get_game_id_list_year(2020)\n",
    "get_game_id_list_year(2019)\n",
    "get_game_id_list_year(2018)\n",
    "get_game_id_list_year(2017)\n",
    "get_game_id_list_year(2016)\n",
    "get_game_id_list_year(2015)\n",
    "get_game_id_list_year(2014)\n",
    "get_game_id_list_year(2013)\n",
    "get_game_id_list_year(2012)\n",
    "get_game_id_list_year(2011)\n",
    "#'''"
   ]
  },
  {
   "cell_type": "code",
   "execution_count": null,
   "id": "6529dc5a-b6c9-458c-be1a-5213eb4e51b0",
   "metadata": {},
   "outputs": [],
   "source": [
    "pickle.dump(_game_id_lists, open('game_id_lists.pkl', 'wb'))"
   ]
  },
  {
   "cell_type": "code",
   "execution_count": 39,
   "id": "6132972b-4c27-48a1-b837-550c9fd31579",
   "metadata": {
    "execution": {
     "iopub.execute_input": "2023-05-22T00:09:59.483109Z",
     "iopub.status.busy": "2023-05-22T00:09:59.481946Z",
     "iopub.status.idle": "2023-05-22T00:09:59.501961Z",
     "shell.execute_reply": "2023-05-22T00:09:59.500572Z",
     "shell.execute_reply.started": "2023-05-22T00:09:59.483013Z"
    },
    "tags": []
   },
   "outputs": [
    {
     "data": {
      "text/plain": [
       "'\\ningest_boxscore_year(2022)\\ningest_boxscore_year(2021)\\ningest_boxscore_year(2020)\\ningest_boxscore_year(2019)\\ningest_boxscore_year(2018)\\ningest_boxscore_year(2017)\\ningest_boxscore_year(2016)\\ningest_boxscore_year(2015)\\ningest_boxscore_year(2014)\\ningest_boxscore_year(2013)\\ningest_boxscore_year(2012)\\ningest_boxscore_year(2011)\\n#'"
      ]
     },
     "execution_count": 39,
     "metadata": {},
     "output_type": "execute_result"
    }
   ],
   "source": [
    "'''\n",
    "ingest_boxscore_year(2022)\n",
    "ingest_boxscore_year(2021)\n",
    "ingest_boxscore_year(2020)\n",
    "ingest_boxscore_year(2019)\n",
    "ingest_boxscore_year(2018)\n",
    "ingest_boxscore_year(2017)\n",
    "ingest_boxscore_year(2016)\n",
    "ingest_boxscore_year(2015)\n",
    "ingest_boxscore_year(2014)\n",
    "ingest_boxscore_year(2013)\n",
    "ingest_boxscore_year(2012)\n",
    "ingest_boxscore_year(2011)\n",
    "#'''"
   ]
  },
  {
   "cell_type": "code",
   "execution_count": 35,
   "id": "1440ead7-324f-4d73-8a79-8568a68e6e15",
   "metadata": {
    "execution": {
     "iopub.execute_input": "2023-05-22T00:08:02.651423Z",
     "iopub.status.busy": "2023-05-22T00:08:02.650820Z",
     "iopub.status.idle": "2023-05-22T00:08:36.801267Z",
     "shell.execute_reply": "2023-05-22T00:08:36.800466Z",
     "shell.execute_reply.started": "2023-05-22T00:08:02.651379Z"
    },
    "tags": []
   },
   "outputs": [],
   "source": [
    "dump_boxscore_cache()"
   ]
  },
  {
   "cell_type": "code",
   "execution_count": 85,
   "id": "c9d41916-12f7-423c-851b-dd7cae759635",
   "metadata": {
    "execution": {
     "iopub.execute_input": "2023-05-22T02:30:53.903668Z",
     "iopub.status.busy": "2023-05-22T02:30:53.903054Z",
     "iopub.status.idle": "2023-05-22T02:30:53.977964Z",
     "shell.execute_reply": "2023-05-22T02:30:53.977008Z",
     "shell.execute_reply.started": "2023-05-22T02:30:53.903638Z"
    },
    "tags": []
   },
   "outputs": [],
   "source": [
    "_player_stats = pickle.load(open('player_stats.pkl', 'rb'))"
   ]
  },
  {
   "cell_type": "code",
   "execution_count": 87,
   "id": "8f6d94d0-a4ca-4b06-9258-14009a48a348",
   "metadata": {
    "execution": {
     "iopub.execute_input": "2023-05-22T02:31:44.599829Z",
     "iopub.status.busy": "2023-05-22T02:31:44.599458Z",
     "iopub.status.idle": "2023-05-22T02:31:44.603875Z",
     "shell.execute_reply": "2023-05-22T02:31:44.603343Z",
     "shell.execute_reply.started": "2023-05-22T02:31:44.599800Z"
    },
    "tags": []
   },
   "outputs": [],
   "source": [
    "def get_player_stat_data(player_id, force_fetch = False):\n",
    "    global _player_stats\n",
    "    data = None\n",
    "    if player_id not in _player_stats or force_fetch:\n",
    "        try:\n",
    "            print(f'calling statsapi.player_stat_data for player_id: {player_id}')\n",
    "            data = statsapi.player_stat_data(personId = player_id, group=\"hitting\", type=\"yearByYear\", sportId=1)\n",
    "        except Exception:\n",
    "            print(f'Exception: {Exception} while fetching player_stat_data')\n",
    "        if data is not None:\n",
    "            _player_stats[player_id] = data\n",
    "    elif player_id in _player_stats:\n",
    "        data = _player_stats[player_id]\n",
    "    \n",
    "    return data\n",
    "\n",
    "def dump_player_stat_data_cache():\n",
    "    global _player_stats\n",
    "    pickle.dump(_player_stats, open('player_stats.pkl', 'wb'))"
   ]
  },
  {
   "cell_type": "code",
   "execution_count": 110,
   "id": "496b8b1d-8fad-4f2d-912c-dfb447a9d5e2",
   "metadata": {
    "execution": {
     "iopub.execute_input": "2023-05-22T22:03:45.339030Z",
     "iopub.status.busy": "2023-05-22T22:03:45.338369Z",
     "iopub.status.idle": "2023-05-22T22:03:45.350068Z",
     "shell.execute_reply": "2023-05-22T22:03:45.348491Z",
     "shell.execute_reply.started": "2023-05-22T22:03:45.338968Z"
    }
   },
   "outputs": [],
   "source": [
    "get_matchup(706821, \"home\")"
   ]
  },
  {
   "cell_type": "code",
   "execution_count": 217,
   "id": "5fe88102-38d2-48aa-bfbf-c20283638b90",
   "metadata": {
    "execution": {
     "iopub.execute_input": "2023-05-23T03:40:54.842572Z",
     "iopub.status.busy": "2023-05-23T03:40:54.842202Z",
     "iopub.status.idle": "2023-05-23T03:40:54.851742Z",
     "shell.execute_reply": "2023-05-23T03:40:54.851188Z",
     "shell.execute_reply.started": "2023-05-23T03:40:54.842544Z"
    },
    "tags": []
   },
   "outputs": [],
   "source": [
    "def get_matchup(game_id, side):\n",
    "    game_boxscore = get_boxscore_data(game_id)\n",
    "    if game_boxscore is None:\n",
    "        print(f'Failed to get box score for game_id: {game_id}')\n",
    "        return None\n",
    "\n",
    "    game = _schedules[game_id]\n",
    "    if game is None:\n",
    "        print(f'Failed to get schedule detail for game_id: {game_id}')\n",
    "        return None\n",
    "    \n",
    "    opposite_side = \"away\" if side == \"home\" else \"home\"\n",
    "    all_side_players = game_boxscore[side][\"players\"]\n",
    "    \n",
    "    side_players_list = []\n",
    "    for home_player in all_side_players:\n",
    "        home_player = all_side_players[home_player]\n",
    "        home_player_name, home_player_id = home_player[\"person\"][\"fullName\"], home_player[\"person\"][\"id\"]\n",
    "        side_players_list.append({\"name\":home_player_name, \"id\":home_player_id})\n",
    "\n",
    "    side_players_dataframe = pd.DataFrame(side_players_list)\n",
    "    side_batting_lineup_ids = game_boxscore[side][\"battingOrder\"]\n",
    "    side_batters = side_players_dataframe[side_players_dataframe[\"id\"].isin(side_batting_lineup_ids)]\n",
    "    valid_historical_season = int(game[\"game_date\"][0:4]) - 1\n",
    "    side_batter_stats_list = []\n",
    "\n",
    "    for side_batter in side_batters[\"id\"]:\n",
    "        side_batter_stats_data = get_player_stat_data(side_batter, force_fetch = False)\n",
    "        if side_batter_stats_data is not None:\n",
    "            side_batter_stats = side_batter_stats_data[\"stats\"]\n",
    "        else:\n",
    "            print(f'Error while getting {side} batter {side_batter} stat')\n",
    "            return None\n",
    "\n",
    "        if len(side_batter_stats) == 0:\n",
    "            #print(f'{side} batter {side_batter} stat is empty')\n",
    "            return None\n",
    "        \n",
    "        for historical_batter_stat in side_batter_stats:\n",
    "            if historical_batter_stat[\"season\"] == str(valid_historical_season):\n",
    "                season_batter_stats = historical_batter_stat[\"stats\"]\n",
    "                season_batter_stats[\"name\"] = side_batters[\"name\"][side_batters[\"id\"] == side_batter].iloc[0]\n",
    "                season_batter_stats[\"id\"] = side_batters[\"id\"][side_batters[\"id\"] == side_batter].iloc[0]\n",
    "                \n",
    "                side_batter_game_day_stats = all_side_players[f\"ID{side_batter}\"][\"stats\"][\"batting\"]\n",
    "                \n",
    "                if side_batter_game_day_stats[\"hits\"] < 1:\n",
    "                    hit_recorded = 0\n",
    "                elif side_batter_game_day_stats[\"hits\"] >= 1:\n",
    "                    hit_recorded = 1\n",
    "                    \n",
    "                season_batter_stats[\"hit_recorded\"] = hit_recorded\n",
    "                side_batter_stats_list.append(season_batter_stats)\n",
    "            \n",
    "    side_team_batting_stats = pd.DataFrame(side_batter_stats_list).drop_duplicates(subset = \"name\", keep =\"last\")\n",
    "    \n",
    "    if len(side_team_batting_stats) < 1:\n",
    "        #print(f'{side} side_team_batting_stats is empty for game {game_id}')\n",
    "        return None\n",
    "    \n",
    "    opposing_pitcher_name, opposing_pitcher_id = game[f\"{opposite_side}_probable_pitcher\"], Player_to_ID(game[f\"{opposite_side}_probable_pitcher\"])\n",
    "    \n",
    "    side_batting_matchup = None\n",
    "    if type(opposing_pitcher_id) != type(np.int64()):\n",
    "        print(f'opposing_pitcher_id {opposing_pitcher_id} is not of int64 type')\n",
    "        pass\n",
    "    else:\n",
    "        opposing_pitcher_stats_data = get_player_stat_data(opposing_pitcher_id, force_fetch = False)\n",
    "        if opposing_pitcher_stats_data is not None:            \n",
    "            opposing_pitcher_stats = pd.json_normalize(opposing_pitcher_stats_data[\"stats\"], max_level = 0)\n",
    "        else:\n",
    "            print(f'Error while getting {side} opssosing pitcher {opposing_pitcher_id} stat')\n",
    "            return None\n",
    "        \n",
    "        # If there is just no data from the API for this player\n",
    "        if len(opposing_pitcher_stats) == 0:\n",
    "            #print(f'{side} opposing pitcher {opposing_pitcher_id} stat is empty')\n",
    "            pass\n",
    "        else:\n",
    "            valid_opposing_pitcher_season_stats = opposing_pitcher_stats[opposing_pitcher_stats[\"season\"] == str(valid_historical_season)][\"stats\"].drop_duplicates(keep = \"last\")\n",
    "        \n",
    "            # If there is no historical data for last season\n",
    "            if len(valid_opposing_pitcher_season_stats) == 0:\n",
    "                #print(f'{side} valid opposing pitcher {opposing_pitcher_id} season stat is empty')\n",
    "                pass\n",
    "            else:\n",
    "                opposing_pitcher_season_stats = valid_opposing_pitcher_season_stats.iloc[0]\n",
    "                opposing_pitcher_season_stats[\"name\"] = opposing_pitcher_name\n",
    "                opposing_pitcher_season_stats[\"id\"] = opposing_pitcher_id\n",
    "                \n",
    "                opposing_pitcher_stats_dataframe = pd.DataFrame([opposing_pitcher_season_stats])\n",
    "                opposing_pitcher_stats = pd.concat([opposing_pitcher_stats_dataframe]*len(side_team_batting_stats))\n",
    "                side_batting_matchup = pd.concat([opposing_pitcher_stats.reset_index(drop = True).add_prefix(\"pitching_\"), side_team_batting_stats.reset_index(drop = True).add_prefix(\"batting_\")], axis = 1)\n",
    "            \n",
    "                # =============================================================================\n",
    "                # End of calculating the side for the batters\n",
    "                # =============================================================================\n",
    "    return side_batting_matchup"
   ]
  },
  {
   "cell_type": "code",
   "execution_count": null,
   "id": "26d7640c-a055-4567-a837-c3b02eaad3d9",
   "metadata": {},
   "outputs": [],
   "source": [
    "'''\n",
    "game_id_list = get_game_id_list_year(2022)\n",
    "game_id_list = get_game_id_list_year(2021)\n",
    "game_id_list = get_game_id_list_year(2020)\n",
    "game_id_list = get_game_id_list_year(2019)\n",
    "game_id_list = get_game_id_list_year(2018)\n",
    "game_id_list = get_game_id_list_year(2017)\n",
    "game_id_list = get_game_id_list_year(2016)\n",
    "game_id_list = get_game_id_list_year(2015)\n",
    "game_id_list = get_game_id_list_year(2014)\n",
    "game_id_list = get_game_id_list_year(2013)\n",
    "game_id_list = get_game_id_list_year(2012)\n",
    "game_id_list = get_game_id_list_year(2011)\n",
    "'''"
   ]
  },
  {
   "cell_type": "code",
   "execution_count": 88,
   "id": "d6c551ef-8c8d-4ffc-9b3e-8688c01dae6b",
   "metadata": {
    "execution": {
     "iopub.execute_input": "2023-05-22T02:31:50.337916Z",
     "iopub.status.busy": "2023-05-22T02:31:50.337455Z",
     "iopub.status.idle": "2023-05-22T02:31:50.343205Z",
     "shell.execute_reply": "2023-05-22T02:31:50.342713Z",
     "shell.execute_reply.started": "2023-05-22T02:31:50.337891Z"
    }
   },
   "outputs": [],
   "source": [
    "def ingest_matchup_batch(game_ids, force_fetch = False):\n",
    "    print(f'{game_ids[:2]} total {len(game_ids)}')\n",
    "\n",
    "    for i, game_id in enumerate(game_ids):\n",
    "        if i % 100 == 0:\n",
    "            print(f'{i} of {game_ids[:2]} total {len(game_ids)}')\n",
    "        home_batting_matchup = get_matchup(game_id, \"home\")\n",
    "        away_batting_matchup = get_matchup(game_id, \"away\")\n",
    "        \n",
    "def ingest_matchup_year(year):\n",
    "    print(f'ingest_matchup_year year: {year}')\n",
    "    game_id_list = get_game_id_list_year(year)\n",
    "\n",
    "    game_id_list_splits = np.array_split(game_id_list, 8)\n",
    "    ths = []\n",
    "    for i, game_id_list_split in enumerate(game_id_list_splits):\n",
    "        print(f'th {i}')\n",
    "        th = threading.Thread(target=ingest_matchup_batch, args=(game_id_list_split, ))\n",
    "        th.start()\n",
    "        ths.append(th)\n",
    "\n",
    "    for th in ths:\n",
    "        th.join()\n",
    "\n",
    "    print(f'done ingest_matchup_year year: {year}')    "
   ]
  },
  {
   "cell_type": "code",
   "execution_count": 94,
   "id": "81d11fda-9428-40eb-8b30-4c10e4810678",
   "metadata": {
    "collapsed": true,
    "execution": {
     "iopub.execute_input": "2023-05-22T02:35:31.210375Z",
     "iopub.status.busy": "2023-05-22T02:35:31.210094Z",
     "iopub.status.idle": "2023-05-22T02:36:51.879764Z",
     "shell.execute_reply": "2023-05-22T02:36:51.878478Z",
     "shell.execute_reply.started": "2023-05-22T02:35:31.210358Z"
    },
    "jupyter": {
     "outputs_hidden": true
    }
   },
   "outputs": [
    {
     "name": "stdout",
     "output_type": "stream",
     "text": [
      "ingest_matchup_year year: 2019\n",
      "getting game_id list 2019\n",
      "done getting game_id list 2019\n",
      "th 0\n",
      "[566180 565316] total 321\n",
      "0 of [566180 565316] total 321\n",
      "th 1\n",
      "calling statsapi.player_stat_data for player_id: 592468\n",
      "[564748 566384] total 321\n",
      "0 of [564748 566384] total 321\n",
      "calling statsapi.player_stat_data for player_id: 571506\n",
      "th 2\n",
      "[566299 564856] total 321\n",
      "0 of [566299 564856] total 321\n",
      "th 3\n",
      "[565737 566503] total 321\n",
      "0 of [565737 566503] total 321\n",
      "th 4\n",
      "[564873 565846] total 321\n",
      "0 of [564873 565846] total 321\n",
      "th 5\n",
      "[567117 565373] total 321\n",
      "0 of [567117 565373] total 321\n",
      "th 6\n",
      "[567329 565766] total 321\n",
      "0 of [567329 565766] total 321\n",
      "th 7\n",
      "[565585 567437] total 320\n",
      "0 of [565585 567437] total 320\n",
      "calling statsapi.player_stat_data for player_id: 500135\n",
      "calling statsapi.player_stat_data for player_id: 553878\n",
      "calling statsapi.player_stat_data for player_id: 500135\n",
      "calling statsapi.player_stat_data for player_id: 624577\n",
      "calling statsapi.player_stat_data for player_id: 489446\n",
      "calling statsapi.player_stat_data for player_id: 670329\n",
      "calling statsapi.player_stat_data for player_id: 628356\n",
      "calling statsapi.player_stat_data for player_id: 489446\n",
      "calling statsapi.player_stat_data for player_id: 594953\n",
      "calling statsapi.player_stat_data for player_id: 673633\n",
      "calling statsapi.player_stat_data for player_id: 628356\n",
      "calling statsapi.player_stat_data for player_id: 606956\n",
      "calling statsapi.player_stat_data for player_id: 621199\n",
      "calling statsapi.player_stat_data for player_id: 605486\n",
      "calling statsapi.player_stat_data for player_id: 450212\n",
      "calling statsapi.player_stat_data for player_id: 596720\n",
      "calling statsapi.player_stat_data for player_id: 607776\n",
      "calling statsapi.player_stat_data for player_id: 547982\n",
      "calling statsapi.player_stat_data for player_id: 595881\n",
      "calling statsapi.player_stat_data for player_id: 571697\n",
      "calling statsapi.player_stat_data for player_id: 594011\n",
      "calling statsapi.player_stat_data for player_id: 621397\n",
      "calling statsapi.player_stat_data for player_id: 605463\n",
      "calling statsapi.player_stat_data for player_id: 607776\n",
      "calling statsapi.player_stat_data for player_id: 607457\n",
      "calling statsapi.player_stat_data for player_id: 593700\n",
      "calling statsapi.player_stat_data for player_id: 593679\n",
      "calling statsapi.player_stat_data for player_id: 621097\n",
      "calling statsapi.player_stat_data for player_id: 607215\n",
      "calling statsapi.player_stat_data for player_id: 518553\n",
      "calling statsapi.player_stat_data for player_id: 623354\n",
      "calling statsapi.player_stat_data for player_id: 518452\n",
      "calling statsapi.player_stat_data for player_id: 571437\n",
      "calling statsapi.player_stat_data for player_id: 641838\n",
      "calling statsapi.player_stat_data for player_id: 543377\n",
      "calling statsapi.player_stat_data for player_id: 608365\n",
      "calling statsapi.player_stat_data for player_id: 605508\n",
      "calling statsapi.player_stat_data for player_id: 608365\n",
      "calling statsapi.player_stat_data for player_id: 657145\n",
      "calling statsapi.player_stat_data for player_id: 643603\n",
      "calling statsapi.player_stat_data for player_id: 620446\n",
      "calling statsapi.player_stat_data for player_id: 502593\n",
      "calling statsapi.player_stat_data for player_id: 592815\n",
      "calling statsapi.player_stat_data for player_id: 598284\n",
      "calling statsapi.player_stat_data for player_id: 620446\n",
      "calling statsapi.player_stat_data for player_id: 600917\n",
      "calling statsapi.player_stat_data for player_id: 605474\n",
      "calling statsapi.player_stat_data for player_id: 656814\n",
      "calling statsapi.player_stat_data for player_id: 521655\n",
      "calling statsapi.player_stat_data for player_id: 658792\n",
      "calling statsapi.player_stat_data for player_id: 593372\n",
      "calling statsapi.player_stat_data for player_id: 605156\n",
      "calling statsapi.player_stat_data for player_id: 543001\n",
      "calling statsapi.player_stat_data for player_id: 641149\n",
      "calling statsapi.player_stat_data for player_id: 504379\n",
      "calling statsapi.player_stat_data for player_id: 623184\n",
      "calling statsapi.player_stat_data for player_id: 622797\n",
      "calling statsapi.player_stat_data for player_id: 605439\n",
      "calling statsapi.player_stat_data for player_id: 643275\n",
      "calling statsapi.player_stat_data for player_id: 594987\n",
      "calling statsapi.player_stat_data for player_id: 592122\n",
      "opposing_pitcher_id  is not of int64 type\n",
      "calling statsapi.player_stat_data for player_id: 571539\n",
      "calling statsapi.player_stat_data for player_id: 622259\n",
      "calling statsapi.player_stat_data for player_id: 605479\n",
      "calling statsapi.player_stat_data for player_id: 605498\n",
      "calling statsapi.player_stat_data for player_id: 573185\n",
      "calling statsapi.player_stat_data for player_id: 545064\n",
      "calling statsapi.player_stat_data for player_id: 518566\n",
      "calling statsapi.player_stat_data for player_id: 518566\n",
      "calling statsapi.player_stat_data for player_id: 592230\n",
      "calling statsapi.player_stat_data for player_id: 642098\n",
      "calling statsapi.player_stat_data for player_id: 594840\n",
      "calling statsapi.player_stat_data for player_id: 664926\n",
      "calling statsapi.player_stat_data for player_id: 467008\n",
      "calling statsapi.player_stat_data for player_id: 543045\n",
      "calling statsapi.player_stat_data for player_id: 621086\n",
      "calling statsapi.player_stat_data for player_id: 543194\n",
      "calling statsapi.player_stat_data for player_id: 621056\n",
      "calling statsapi.player_stat_data for player_id: 595222\n",
      "calling statsapi.player_stat_data for player_id: 662253\n",
      "calling statsapi.player_stat_data for player_id: 542436\n",
      "calling statsapi.player_stat_data for player_id: 501992\n",
      "calling statsapi.player_stat_data for player_id: 543903\n",
      "calling statsapi.player_stat_data for player_id: 572403\n",
      "calling statsapi.player_stat_data for player_id: 518875\n",
      "calling statsapi.player_stat_data for player_id: 607223\n",
      "calling statsapi.player_stat_data for player_id: 592229\n",
      "calling statsapi.player_stat_data for player_id: 656271\n",
      "calling statsapi.player_stat_data for player_id: 643493\n",
      "calling statsapi.player_stat_data for player_id: 656547\n",
      "calling statsapi.player_stat_data for player_id: 544365\n",
      "calling statsapi.player_stat_data for player_id: 623402\n",
      "calling statsapi.player_stat_data for player_id: 656713\n",
      "calling statsapi.player_stat_data for player_id: 621142\n",
      "calling statsapi.player_stat_data for player_id: 623515\n",
      "calling statsapi.player_stat_data for player_id: 543766\n",
      "calling statsapi.player_stat_data for player_id: 518542\n",
      "calling statsapi.player_stat_data for player_id: 650671\n",
      "calling statsapi.player_stat_data for player_id: 622103\n",
      "calling statsapi.player_stat_data for player_id: 656257\n",
      "calling statsapi.player_stat_data for player_id: 456051\n",
      "calling statsapi.player_stat_data for player_id: 639373\n",
      "calling statsapi.player_stat_data for player_id: 642840\n",
      "calling statsapi.player_stat_data for player_id: 623913\n",
      "calling statsapi.player_stat_data for player_id: 642578\n",
      "calling statsapi.player_stat_data for player_id: 657566\n",
      "calling statsapi.player_stat_data for player_id: 606625\n",
      "calling statsapi.player_stat_data for player_id: 116566\n",
      "calling statsapi.player_stat_data for player_id: 641341\n",
      "calling statsapi.player_stat_data for player_id: 605301\n",
      "calling statsapi.player_stat_data for player_id: 606131\n",
      "calling statsapi.player_stat_data for player_id: 516969\n",
      "calling statsapi.player_stat_data for player_id: 448609\n",
      "calling statsapi.player_stat_data for player_id: 643354\n",
      "calling statsapi.player_stat_data for player_id: 605469\n",
      "calling statsapi.player_stat_data for player_id: 501593\n",
      "calling statsapi.player_stat_data for player_id: 543532\n",
      "calling statsapi.player_stat_data for player_id: 628333\n",
      "calling statsapi.player_stat_data for player_id: 475054\n",
      "calling statsapi.player_stat_data for player_id: 543193\n",
      "calling statsapi.player_stat_data for player_id: 664196\n",
      "calling statsapi.player_stat_data for player_id: 623381\n",
      "calling statsapi.player_stat_data for player_id: 623381\n",
      "calling statsapi.player_stat_data for player_id: 502154\n",
      "calling statsapi.player_stat_data for player_id: 607481\n",
      "calling statsapi.player_stat_data for player_id: 650813\n",
      "calling statsapi.player_stat_data for player_id: 584171\n",
      "calling statsapi.player_stat_data for player_id: 542953\n",
      "calling statsapi.player_stat_data for player_id: 597113\n",
      "calling statsapi.player_stat_data for player_id: 669270\n",
      "calling statsapi.player_stat_data for player_id: 525768\n",
      "calling statsapi.player_stat_data for player_id: 591693\n",
      "calling statsapi.player_stat_data for player_id: 543883\n",
      "calling statsapi.player_stat_data for player_id: 571656\n",
      "calling statsapi.player_stat_data for player_id: 642770\n",
      "calling statsapi.player_stat_data for player_id: 643617\n",
      "calling statsapi.player_stat_data for player_id: 444468\n",
      "calling statsapi.player_stat_data for player_id: 643466\n",
      "calling statsapi.player_stat_data for player_id: 519166\n",
      "calling statsapi.player_stat_data for player_id: 532077\n",
      "calling statsapi.player_stat_data for player_id: 595897\n",
      "calling statsapi.player_stat_data for player_id: 621389\n",
      "calling statsapi.player_stat_data for player_id: 572998\n",
      "calling statsapi.player_stat_data for player_id: 519096\n",
      "calling statsapi.player_stat_data for player_id: 572703\n",
      "100 of [567117 565373] total 321\n",
      "100 of [564873 565846] total 321\n",
      "calling statsapi.player_stat_data for player_id: 543208\n",
      "calling statsapi.player_stat_data for player_id: 643478\n",
      "100 of [566180 565316] total 321\n",
      "calling statsapi.player_stat_data for player_id: 665093\n",
      "100 of [567329 565766] total 321\n",
      "100 of [565737 566503] total 321\n",
      "100 of [565585 567437] total 320\n",
      "calling statsapi.player_stat_data for player_id: 608638\n",
      "calling statsapi.player_stat_data for player_id: 664054\n",
      "calling statsapi.player_stat_data for player_id: 476589\n",
      "100 of [566299 564856] total 321\n",
      "100 of [564748 566384] total 321\n",
      "calling statsapi.player_stat_data for player_id: 595798\n",
      "calling statsapi.player_stat_data for player_id: 493200\n",
      "calling statsapi.player_stat_data for player_id: 641571\n",
      "calling statsapi.player_stat_data for player_id: 612672\n",
      "calling statsapi.player_stat_data for player_id: 605441\n",
      "calling statsapi.player_stat_data for player_id: 613317\n",
      "calling statsapi.player_stat_data for player_id: 642008\n",
      "calling statsapi.player_stat_data for player_id: 543219\n",
      "calling statsapi.player_stat_data for player_id: 642003\n",
      "calling statsapi.player_stat_data for player_id: 596035\n",
      "calling statsapi.player_stat_data for player_id: 621363\n",
      "calling statsapi.player_stat_data for player_id: 594736\n",
      "calling statsapi.player_stat_data for player_id: 605143\n",
      "calling statsapi.player_stat_data for player_id: 544928\n",
      "calling statsapi.player_stat_data for player_id: 622786\n",
      "calling statsapi.player_stat_data for player_id: 644364\n",
      "calling statsapi.player_stat_data for player_id: 473879\n",
      "calling statsapi.player_stat_data for player_id: 642546calling statsapi.player_stat_data for player_id: 660494\n",
      "\n",
      "calling statsapi.player_stat_data for player_id: 623433\n",
      "calling statsapi.player_stat_data for player_id: 605218\n",
      "calling statsapi.player_stat_data for player_id: 641627\n",
      "calling statsapi.player_stat_data for player_id: 592102\n",
      "calling statsapi.player_stat_data for player_id: 534910\n",
      "calling statsapi.player_stat_data for player_id: 622554\n",
      "calling statsapi.player_stat_data for player_id: 656977\n",
      "calling statsapi.player_stat_data for player_id: 518468\n",
      "calling statsapi.player_stat_data for player_id: 621289\n",
      "calling statsapi.player_stat_data for player_id: 670036\n",
      "calling statsapi.player_stat_data for player_id: 676071\n",
      "calling statsapi.player_stat_data for player_id: 621385\n",
      "calling statsapi.player_stat_data for player_id: 679548\n",
      "200 of [567117 565373] total 321\n",
      "Exception: <class 'Exception'> while fetching player_stat_data\n",
      "Error while getting away batter 679548 stat\n",
      "calling statsapi.player_stat_data for player_id: 687724\n",
      "calling statsapi.player_stat_data for player_id: 689787\n",
      "calling statsapi.player_stat_data for player_id: 676628\n",
      "calling statsapi.player_stat_data for player_id: 570717\n",
      "calling statsapi.player_stat_data for player_id: 605125\n",
      "calling statsapi.player_stat_data for player_id: 571704\n",
      "calling statsapi.player_stat_data for player_id: 623238\n",
      "calling statsapi.player_stat_data for player_id: 685360\n",
      "calling statsapi.player_stat_data for player_id: 596074\n",
      "Exception: <class 'Exception'> while fetching player_stat_data\n",
      "Error while getting away batter 685360 stat\n",
      "calling statsapi.player_stat_data for player_id: 660613\n",
      "calling statsapi.player_stat_data for player_id: 664930\n",
      "calling statsapi.player_stat_data for player_id: 677965\n",
      "calling statsapi.player_stat_data for player_id: 666161\n",
      "calling statsapi.player_stat_data for player_id: 606273\n",
      "200 of [567329 565766] total 321\n",
      "calling statsapi.player_stat_data for player_id: 669737\n",
      "200 of [564873 565846] total 321\n",
      "calling statsapi.player_stat_data for player_id: 622541\n",
      "calling statsapi.player_stat_data for player_id: 657088\n",
      "calling statsapi.player_stat_data for player_id: 657075\n",
      "calling statsapi.player_stat_data for player_id: 663692\n",
      "calling statsapi.player_stat_data for player_id: 641319\n",
      "calling statsapi.player_stat_data for player_id: 571595\n",
      "200 of [565737 566503] total 321\n",
      "calling statsapi.player_stat_data for player_id: 640462\n",
      "calling statsapi.player_stat_data for player_id: 657267\n",
      "home side_team_batting_stats is empty for game\n",
      "away side_team_batting_stats is empty for game\n",
      "home side_team_batting_stats is empty for game\n",
      "away side_team_batting_stats is empty for game\n",
      "home side_team_batting_stats is empty for game\n",
      "away side_team_batting_stats is empty for game\n",
      "home side_team_batting_stats is empty for game\n",
      "away side_team_batting_stats is empty for game\n",
      "calling statsapi.player_stat_data for player_id: 641716\n",
      "200 of [566180 565316] total 321\n",
      "calling statsapi.player_stat_data for player_id: 657629\n",
      "home side_team_batting_stats is empty for game\n",
      "away side_team_batting_stats is empty for game\n",
      "home side_team_batting_stats is empty for game\n",
      "away side_team_batting_stats is empty for game\n",
      "calling statsapi.player_stat_data for player_id: 676635\n",
      "calling statsapi.player_stat_data for player_id: 657017\n",
      "calling statsapi.player_stat_data for player_id: 606959\n",
      "calling statsapi.player_stat_data for player_id: 573046\n",
      "calling statsapi.player_stat_data for player_id: 600898\n",
      "200 of [564748 566384] total 321\n",
      "200 of [566299 564856] total 321\n",
      "calling statsapi.player_stat_data for player_id: 650560\n",
      "calling statsapi.player_stat_data for player_id: 573668\n",
      "calling statsapi.player_stat_data for player_id: 668683\n",
      "calling statsapi.player_stat_data for player_id: 650832\n",
      "calling statsapi.player_stat_data for player_id: 518715\n",
      "calling statsapi.player_stat_data for player_id: 666194\n",
      "calling statsapi.player_stat_data for player_id: 630063\n",
      "calling statsapi.player_stat_data for player_id: 660614\n",
      "calling statsapi.player_stat_data for player_id: 664051\n",
      "calling statsapi.player_stat_data for player_id: 680571\n",
      "calling statsapi.player_stat_data for player_id: 681976\n",
      "calling statsapi.player_stat_data for player_id: 605464\n",
      "calling statsapi.player_stat_data for player_id: 663609\n",
      "calling statsapi.player_stat_data for player_id: 519237\n",
      "calling statsapi.player_stat_data for player_id: 621058\n",
      "calling statsapi.player_stat_data for player_id: 640902\n",
      "calling statsapi.player_stat_data for player_id: 664167\n",
      "calling statsapi.player_stat_data for player_id: 621471\n",
      "opposing_pitcher_id  is not of int64 type\n",
      "calling statsapi.player_stat_data for player_id: 642462\n",
      "200 of [565585 567437] total 320\n",
      "calling statsapi.player_stat_data for player_id: 656989\n",
      "calling statsapi.player_stat_data for player_id: 668888\n",
      "calling statsapi.player_stat_data for player_id: 605501\n",
      "calling statsapi.player_stat_data for player_id: 641323\n",
      "calling statsapi.player_stat_data for player_id: 641512\n",
      "calling statsapi.player_stat_data for player_id: 608383\n",
      "calling statsapi.player_stat_data for player_id: 622441\n",
      "calling statsapi.player_stat_data for player_id: 571863\n",
      "calling statsapi.player_stat_data for player_id: 620998\n",
      "calling statsapi.player_stat_data for player_id: 665776\n",
      "calling statsapi.player_stat_data for player_id: 678926\n",
      "calling statsapi.player_stat_data for player_id: 548431\n",
      "calling statsapi.player_stat_data for player_id: 656668\n",
      "calling statsapi.player_stat_data for player_id: 656736\n",
      "calling statsapi.player_stat_data for player_id: 670410\n",
      "calling statsapi.player_stat_data for player_id: 672744\n",
      "calling statsapi.player_stat_data for player_id: 678545\n",
      "calling statsapi.player_stat_data for player_id: 595144\n",
      "calling statsapi.player_stat_data for player_id: 642769\n",
      "calling statsapi.player_stat_data for player_id: 621531\n",
      "calling statsapi.player_stat_data for player_id: 600968\n",
      "calling statsapi.player_stat_data for player_id: 642215\n",
      "calling statsapi.player_stat_data for player_id: 621521\n",
      "calling statsapi.player_stat_data for player_id: 642836\n",
      "calling statsapi.player_stat_data for player_id: 660690\n",
      "calling statsapi.player_stat_data for player_id: 664750\n",
      "calling statsapi.player_stat_data for player_id: 664767\n",
      "calling statsapi.player_stat_data for player_id: 656260\n",
      "calling statsapi.player_stat_data for player_id: 573124\n",
      "calling statsapi.player_stat_data for player_id: 671056\n",
      "calling statsapi.player_stat_data for player_id: 608380\n",
      "calling statsapi.player_stat_data for player_id: 669898\n",
      "calling statsapi.player_stat_data for player_id: 608061\n",
      "calling statsapi.player_stat_data for player_id: 663524\n",
      "home side_team_batting_stats is empty for game\n",
      "away side_team_batting_stats is empty for game\n",
      "calling statsapi.player_stat_data for player_id: 647309\n",
      "calling statsapi.player_stat_data for player_id: 625439\n",
      "calling statsapi.player_stat_data for player_id: 602115\n",
      "300 of [567117 565373] total 321\n",
      "calling statsapi.player_stat_data for player_id: 664159\n",
      "calling statsapi.player_stat_data for player_id: 680894\n",
      "calling statsapi.player_stat_data for player_id: 608356\n",
      "calling statsapi.player_stat_data for player_id: 678636\n",
      "calling statsapi.player_stat_data for player_id: 506747\n",
      "calling statsapi.player_stat_data for player_id: 664009\n",
      "calling statsapi.player_stat_data for player_id: 593434\n",
      "calling statsapi.player_stat_data for player_id: 543483\n",
      "calling statsapi.player_stat_data for player_id: 641938\n",
      "calling statsapi.player_stat_data for player_id: 670919\n",
      "calling statsapi.player_stat_data for player_id: 666728\n",
      "calling statsapi.player_stat_data for player_id: 665820\n",
      "300 of [567329 565766] total 321\n",
      "calling statsapi.player_stat_data for player_id: 542419\n",
      "calling statsapi.player_stat_data for player_id: 458584\n",
      "calling statsapi.player_stat_data for player_id: 681898\n",
      "calling statsapi.player_stat_data for player_id: 667651\n",
      "calling statsapi.player_stat_data for player_id: 517593\n",
      "calling statsapi.player_stat_data for player_id: 678681\n",
      "home side_team_batting_stats is empty for game\n",
      "away side_team_batting_stats is empty for game\n",
      "300 of [564873 565846] total 321\n",
      "calling statsapi.player_stat_data for player_id: 622057\n",
      "calling statsapi.player_stat_data for player_id: 624523\n",
      "calling statsapi.player_stat_data for player_id: 592685\n",
      "calling statsapi.player_stat_data for player_id: 667442\n",
      "calling statsapi.player_stat_data for player_id: 670622\n",
      "calling statsapi.player_stat_data for player_id: 664938\n",
      "calling statsapi.player_stat_data for player_id: 672596\n",
      "calling statsapi.player_stat_data for player_id: 667719\n",
      "calling statsapi.player_stat_data for player_id: 622482\n",
      "300 of [565737 566503] total 321calling statsapi.player_stat_data for player_id: 593137\n",
      "\n",
      "calling statsapi.player_stat_data for player_id: 673036\n",
      "calling statsapi.player_stat_data for player_id: 687083\n",
      "calling statsapi.player_stat_data for player_id: 670149\n",
      "calling statsapi.player_stat_data for player_id: 676730\n",
      "calling statsapi.player_stat_data for player_id: 666598\n",
      "calling statsapi.player_stat_data for player_id: 661733\n",
      "calling statsapi.player_stat_data for player_id: 456387\n",
      "calling statsapi.player_stat_data for player_id: 650443\n",
      "300 of [566299 564856] total 321\n",
      "calling statsapi.player_stat_data for player_id: 656274\n",
      "300 of [564748 566384] total 321\n",
      "calling statsapi.player_stat_data for player_id: 607473\n",
      "calling statsapi.player_stat_data for player_id: 642694\n",
      "300 of [566180 565316] total 321\n",
      "calling statsapi.player_stat_data for player_id: 666143\n",
      "calling statsapi.player_stat_data for player_id: 670461\n",
      "calling statsapi.player_stat_data for player_id: 664871\n",
      "calling statsapi.player_stat_data for player_id: 641802\n",
      "calling statsapi.player_stat_data for player_id: 660636\n",
      "calling statsapi.player_stat_data for player_id: 592165\n",
      "calling statsapi.player_stat_data for player_id: 660650\n",
      "calling statsapi.player_stat_data for player_id: 665779\n",
      "calling statsapi.player_stat_data for player_id: 631222\n",
      "calling statsapi.player_stat_data for player_id: 644375\n",
      "calling statsapi.player_stat_data for player_id: 593527\n",
      "calling statsapi.player_stat_data for player_id: 650694\n",
      "300 of [565585 567437] total 320\n",
      "calling statsapi.player_stat_data for player_id: 542513\n",
      "calling statsapi.player_stat_data for player_id: 676632\n",
      "calling statsapi.player_stat_data for player_id: 670797\n",
      "calling statsapi.player_stat_data for player_id: 644407\n",
      "calling statsapi.player_stat_data for player_id: 675980\n",
      "calling statsapi.player_stat_data for player_id: 686531\n",
      "calling statsapi.player_stat_data for player_id: 622758\n",
      "calling statsapi.player_stat_data for player_id: 663369\n",
      "calling statsapi.player_stat_data for player_id: 655996\n",
      "calling statsapi.player_stat_data for player_id: 650958\n",
      "calling statsapi.player_stat_data for player_id: 641385\n",
      "calling statsapi.player_stat_data for player_id: 670867\n",
      "calling statsapi.player_stat_data for player_id: 656822\n",
      "done ingest_matchup_year year: 2019\n"
     ]
    }
   ],
   "source": [
    "ingest_matchup_year(2019)"
   ]
  },
  {
   "cell_type": "code",
   "execution_count": 118,
   "id": "b5b35973-3999-461b-88b5-121127232e7c",
   "metadata": {
    "execution": {
     "iopub.execute_input": "2023-05-23T02:28:36.031392Z",
     "iopub.status.busy": "2023-05-23T02:28:36.031122Z",
     "iopub.status.idle": "2023-05-23T02:28:36.036733Z",
     "shell.execute_reply": "2023-05-23T02:28:36.036174Z",
     "shell.execute_reply.started": "2023-05-23T02:28:36.031374Z"
    }
   },
   "outputs": [
    {
     "data": {
      "text/plain": [
       "'\\ningest_matchup_year(2022)\\ningest_matchup_year(2021)\\ningest_matchup_year(2020)\\ningest_matchup_year(2019)\\ningest_matchup_year(2018)\\ningest_matchup_year(2017)\\ningest_matchup_year(2016)\\ningest_matchup_year(2015)\\ningest_matchup_year(2014)\\ningest_matchup_year(2013)\\ningest_matchup_year(2012)\\ningest_matchup_year(2011)\\n#'"
      ]
     },
     "execution_count": 118,
     "metadata": {},
     "output_type": "execute_result"
    }
   ],
   "source": [
    "'''\n",
    "ingest_matchup_year(2022)\n",
    "ingest_matchup_year(2021)\n",
    "ingest_matchup_year(2020)\n",
    "ingest_matchup_year(2019)\n",
    "ingest_matchup_year(2018)\n",
    "ingest_matchup_year(2017)\n",
    "ingest_matchup_year(2016)\n",
    "ingest_matchup_year(2015)\n",
    "ingest_matchup_year(2014)\n",
    "ingest_matchup_year(2013)\n",
    "ingest_matchup_year(2012)\n",
    "ingest_matchup_year(2011)\n",
    "#'''"
   ]
  },
  {
   "cell_type": "code",
   "execution_count": 117,
   "id": "a36c0cba-1f21-42c1-8c12-cd0f698fa9ae",
   "metadata": {
    "execution": {
     "iopub.execute_input": "2023-05-23T02:28:27.766433Z",
     "iopub.status.busy": "2023-05-23T02:28:27.766008Z",
     "iopub.status.idle": "2023-05-23T02:28:27.928457Z",
     "shell.execute_reply": "2023-05-23T02:28:27.926566Z",
     "shell.execute_reply.started": "2023-05-23T02:28:27.766399Z"
    },
    "tags": []
   },
   "outputs": [],
   "source": [
    "dump_player_stat_data_cache()"
   ]
  },
  {
   "cell_type": "code",
   "execution_count": 121,
   "id": "3b000e38-5f48-4664-bec6-2aa026cf8563",
   "metadata": {
    "execution": {
     "iopub.execute_input": "2023-05-23T02:40:07.453670Z",
     "iopub.status.busy": "2023-05-23T02:40:07.452999Z",
     "iopub.status.idle": "2023-05-23T02:40:07.464369Z",
     "shell.execute_reply": "2023-05-23T02:40:07.462790Z",
     "shell.execute_reply.started": "2023-05-23T02:40:07.453606Z"
    }
   },
   "outputs": [
    {
     "name": "stdout",
     "output_type": "stream",
     "text": [
      "getting game_id list 2011\n",
      "done getting game_id list 2011\n",
      "getting game_id list 2012\n",
      "done getting game_id list 2012\n",
      "getting game_id list 2013\n",
      "done getting game_id list 2013\n",
      "getting game_id list 2014\n",
      "done getting game_id list 2014\n",
      "getting game_id list 2015\n",
      "done getting game_id list 2015\n",
      "getting game_id list 2016\n",
      "done getting game_id list 2016\n",
      "getting game_id list 2017\n",
      "done getting game_id list 2017\n",
      "getting game_id list 2018\n",
      "done getting game_id list 2018\n",
      "getting game_id list 2019\n",
      "done getting game_id list 2019\n",
      "getting game_id list 2020\n",
      "done getting game_id list 2020\n",
      "getting game_id list 2021\n",
      "done getting game_id list 2021\n",
      "getting game_id list 2022\n",
      "done getting game_id list 2022\n"
     ]
    }
   ],
   "source": [
    "game_id_list_total = sum([get_game_id_list_year(y) for y in range(2011, 2023)], [])"
   ]
  },
  {
   "cell_type": "code",
   "execution_count": 122,
   "id": "74c6d2dd-a949-46b6-9c00-49cbaf9f4d6c",
   "metadata": {
    "execution": {
     "iopub.execute_input": "2023-05-23T02:40:12.084565Z",
     "iopub.status.busy": "2023-05-23T02:40:12.083834Z",
     "iopub.status.idle": "2023-05-23T02:40:12.089895Z",
     "shell.execute_reply": "2023-05-23T02:40:12.089307Z",
     "shell.execute_reply.started": "2023-05-23T02:40:12.084512Z"
    }
   },
   "outputs": [
    {
     "data": {
      "text/plain": [
       "28937"
      ]
     },
     "execution_count": 122,
     "metadata": {},
     "output_type": "execute_result"
    }
   ],
   "source": [
    "len(game_id_list_total)"
   ]
  },
  {
   "cell_type": "code",
   "execution_count": 103,
   "id": "c37cdd00-0fd4-466f-a617-c5756cd11fde",
   "metadata": {
    "execution": {
     "iopub.execute_input": "2023-05-22T20:55:02.832593Z",
     "iopub.status.busy": "2023-05-22T20:55:02.832044Z",
     "iopub.status.idle": "2023-05-22T20:55:02.836614Z",
     "shell.execute_reply": "2023-05-22T20:55:02.836078Z",
     "shell.execute_reply.started": "2023-05-22T20:55:02.832545Z"
    }
   },
   "outputs": [
    {
     "name": "stdout",
     "output_type": "stream",
     "text": [
      "getting game_id list 2022\n",
      "done getting game_id list 2022\n"
     ]
    }
   ],
   "source": [
    "game_id_list = get_game_id_list_year(2022)"
   ]
  },
  {
   "cell_type": "code",
   "execution_count": 105,
   "id": "c34be57d-954a-480e-b354-773f2e4ae5a8",
   "metadata": {
    "execution": {
     "iopub.execute_input": "2023-05-22T22:02:23.399845Z",
     "iopub.status.busy": "2023-05-22T22:02:23.399557Z",
     "iopub.status.idle": "2023-05-22T22:02:23.404908Z",
     "shell.execute_reply": "2023-05-22T22:02:23.404421Z",
     "shell.execute_reply.started": "2023-05-22T22:02:23.399824Z"
    }
   },
   "outputs": [
    {
     "data": {
      "text/plain": [
       "2546"
      ]
     },
     "execution_count": 105,
     "metadata": {},
     "output_type": "execute_result"
    }
   ],
   "source": [
    "len(game_id_list)"
   ]
  },
  {
   "cell_type": "code",
   "execution_count": 108,
   "id": "f89b0fc9-d7fc-4e32-9add-9ac9fbcf18dc",
   "metadata": {
    "execution": {
     "iopub.execute_input": "2023-05-22T22:03:37.224695Z",
     "iopub.status.busy": "2023-05-22T22:03:37.222927Z",
     "iopub.status.idle": "2023-05-22T22:03:37.236178Z",
     "shell.execute_reply": "2023-05-22T22:03:37.234491Z",
     "shell.execute_reply.started": "2023-05-22T22:03:37.224648Z"
    }
   },
   "outputs": [
    {
     "data": {
      "text/plain": [
       "706821"
      ]
     },
     "execution_count": 108,
     "metadata": {},
     "output_type": "execute_result"
    }
   ],
   "source": [
    "game_id_list[0]"
   ]
  },
  {
   "cell_type": "code",
   "execution_count": 147,
   "id": "faae9208-71fa-4e36-aeff-e082d4f52bbf",
   "metadata": {
    "execution": {
     "iopub.execute_input": "2023-05-23T02:57:12.430793Z",
     "iopub.status.busy": "2023-05-23T02:57:12.429786Z",
     "iopub.status.idle": "2023-05-23T02:57:12.437589Z",
     "shell.execute_reply": "2023-05-23T02:57:12.437006Z",
     "shell.execute_reply.started": "2023-05-23T02:57:12.430716Z"
    }
   },
   "outputs": [],
   "source": [
    "_venue_game_temperatures = pickle.load(open('venue_game_temperatures.pkl', 'rb'))"
   ]
  },
  {
   "cell_type": "code",
   "execution_count": 193,
   "id": "f959152e-fdb8-4dd7-b141-e518c5b03388",
   "metadata": {
    "execution": {
     "iopub.execute_input": "2023-05-23T03:26:29.807205Z",
     "iopub.status.busy": "2023-05-23T03:26:29.806990Z",
     "iopub.status.idle": "2023-05-23T03:26:29.811307Z",
     "shell.execute_reply": "2023-05-23T03:26:29.810766Z",
     "shell.execute_reply.started": "2023-05-23T03:26:29.807188Z"
    }
   },
   "outputs": [],
   "source": [
    "def get_venue_game_temperatures(lat, lon, game_date, game_datetime):\n",
    "    global _venue_game_temperatures\n",
    "\n",
    "    key = str((lat, lon, game_datetime,))\n",
    "    game_temperature = None\n",
    "    if key not in _venue_game_temperatures:\n",
    "        historical_weather = meteostat.Hourly(loc = meteostat.Point(lat = lat, lon = lon), start = (pd.to_datetime(game_date)), end = (pd.to_datetime(game_date) + timedelta(days = 1)), timezone = \"America/Chicago\").fetch().reset_index()\n",
    "        pre_game_weather = historical_weather[historical_weather[\"time\"] <= (pd.to_datetime(game_datetime)).tz_convert(\"America/Chicago\")]\n",
    "        last_hour_weather = pre_game_weather.tail(1).copy()\n",
    "        game_temperature = celsius_to_fahrenheit(last_hour_weather[\"temp\"].iloc[0])\n",
    "    else:\n",
    "        game_temperature = _venue_game_temperatures[key]\n",
    "\n",
    "    return game_temperature"
   ]
  },
  {
   "cell_type": "code",
   "execution_count": 209,
   "id": "6428da45-e129-4315-8064-5d1eb7e62e72",
   "metadata": {
    "execution": {
     "iopub.execute_input": "2023-05-23T03:37:28.593241Z",
     "iopub.status.busy": "2023-05-23T03:37:28.592954Z",
     "iopub.status.idle": "2023-05-23T03:37:28.692870Z",
     "shell.execute_reply": "2023-05-23T03:37:28.692089Z",
     "shell.execute_reply.started": "2023-05-23T03:37:28.593220Z"
    }
   },
   "outputs": [
    {
     "name": "stdout",
     "output_type": "stream",
     "text": [
      "processing 0 out of 28937 game_id 286884 cnt_invalid_venue: 0, invalid_venues: 0\n",
      "processing 1000 out of 28937 game_id 287899 cnt_invalid_venue: 307, invalid_venues: 9\n",
      "processing 2000 out of 28937 game_id 288887 cnt_invalid_venue: 596, invalid_venues: 9\n",
      "processing 3000 out of 28937 game_id 318217 cnt_invalid_venue: 904, invalid_venues: 38\n",
      "processing 4000 out of 28937 game_id 319211 cnt_invalid_venue: 1180, invalid_venues: 38\n",
      "processing 5000 out of 28937 game_id 362963 cnt_invalid_venue: 1459, invalid_venues: 39\n",
      "processing 6000 out of 28937 game_id 347627 cnt_invalid_venue: 1834, invalid_venues: 45\n",
      "processing 7000 out of 28937 game_id 348625 cnt_invalid_venue: 2143, invalid_venues: 45\n",
      "processing 8000 out of 28937 game_id 380921 cnt_invalid_venue: 2465, invalid_venues: 47\n",
      "processing 9000 out of 28937 game_id 381918 cnt_invalid_venue: 2770, invalid_venues: 47\n",
      "processing 10000 out of 28937 game_id 382914 cnt_invalid_venue: 3064, invalid_venues: 47\n",
      "processing 11000 out of 28937 game_id 414508 cnt_invalid_venue: 3393, invalid_venues: 55\n",
      "processing 12000 out of 28937 game_id 415512 cnt_invalid_venue: 3694, invalid_venues: 55\n",
      "processing 13000 out of 28937 game_id 447224 cnt_invalid_venue: 3993, invalid_venues: 58\n",
      "processing 14000 out of 28937 game_id 448218 cnt_invalid_venue: 4258, invalid_venues: 59\n",
      "processing 15000 out of 28937 game_id 449222 cnt_invalid_venue: 4517, invalid_venues: 59\n",
      "processing 16000 out of 28937 game_id 490889 cnt_invalid_venue: 4824, invalid_venues: 66\n",
      "processing 17000 out of 28937 game_id 491900 cnt_invalid_venue: 5071, invalid_venues: 66\n",
      "processing 18000 out of 28937 game_id 529648 cnt_invalid_venue: 5374, invalid_venues: 70\n",
      "processing 19000 out of 28937 game_id 530650 cnt_invalid_venue: 5575, invalid_venues: 72\n",
      "processing 20000 out of 28937 game_id 531659 cnt_invalid_venue: 5777, invalid_venues: 72\n",
      "processing 21000 out of 28937 game_id 564953 cnt_invalid_venue: 6034, invalid_venues: 73\n",
      "processing 22000 out of 28937 game_id 565377 cnt_invalid_venue: 6166, invalid_venues: 75\n",
      "processing 23000 out of 28937 game_id 631593 cnt_invalid_venue: 6418, invalid_venues: 79\n",
      "processing 24000 out of 28937 game_id 634589 cnt_invalid_venue: 6527, invalid_venues: 81\n",
      "processing 25000 out of 28937 game_id 633747 cnt_invalid_venue: 6556, invalid_venues: 81\n",
      "processing 26000 out of 28937 game_id 632569 cnt_invalid_venue: 6573, invalid_venues: 82\n",
      "processing 27000 out of 28937 game_id 663005 cnt_invalid_venue: 6644, invalid_venues: 82\n",
      "processing 28000 out of 28937 game_id 662267 cnt_invalid_venue: 6644, invalid_venues: 82\n",
      "cnt_invalid_venue 6646, invalid_venues: 83\n"
     ]
    }
   ],
   "source": [
    "cnt_invalid_venue = 0\n",
    "invalid_venues = set()\n",
    "for i, game_id in enumerate(game_id_list_total):\n",
    "    if i % 1000 == 0:\n",
    "        print(f'processing {i} out of {len(game_id_list_total)} game_id {game_id} cnt_invalid_venue: {cnt_invalid_venue}, invalid_venues: {len(invalid_venues)}')\n",
    "    game = _schedules[game_id]\n",
    "\n",
    "    if game[\"venue_name\"] not in park_venues:\n",
    "        #print(f'game[\"venue_name\"] {game[\"venue_name\"]} not valid')\n",
    "        cnt_invalid_venue += 1\n",
    "        invalid_venues.add(game[\"venue_name\"])\n",
    "        continue\n",
    "\n",
    "    game_temperature = get_venue_game_temperatures(park_lat, park_lon, game[\"game_date\"], game[\"game_datetime\"])\n",
    "    key = str((park_lat, park_lon, game[\"game_datetime\"],))\n",
    "\n",
    "    _venue_game_temperatures[key] = game_temperature\n",
    "\n",
    "print(f'cnt_invalid_venue {cnt_invalid_venue}, invalid_venues: {len(invalid_venues)}')"
   ]
  },
  {
   "cell_type": "code",
   "execution_count": 247,
   "id": "e7e2c9bf-fad4-4345-8ee2-01ac224e76a6",
   "metadata": {
    "execution": {
     "iopub.execute_input": "2023-05-23T04:08:54.335744Z",
     "iopub.status.busy": "2023-05-23T04:08:54.335427Z",
     "iopub.status.idle": "2023-05-23T04:08:54.390457Z",
     "shell.execute_reply": "2023-05-23T04:08:54.389159Z",
     "shell.execute_reply.started": "2023-05-23T04:08:54.335718Z"
    }
   },
   "outputs": [],
   "source": [
    "pickle.dump(_venue_game_temperatures, open('venue_game_temperatures.pkl', 'wb'))"
   ]
  },
  {
   "cell_type": "code",
   "execution_count": null,
   "id": "664170ba-e230-4e5c-bcef-bacb9a0e7f8f",
   "metadata": {},
   "outputs": [],
   "source": []
  },
  {
   "cell_type": "code",
   "execution_count": 220,
   "id": "373e5eb4-44b0-42d0-bbb8-dfa94b72f00f",
   "metadata": {
    "collapsed": true,
    "execution": {
     "iopub.execute_input": "2023-05-23T03:42:02.378536Z",
     "iopub.status.busy": "2023-05-23T03:42:02.376953Z",
     "iopub.status.idle": "2023-05-23T04:02:42.205935Z",
     "shell.execute_reply": "2023-05-23T04:02:42.205425Z",
     "shell.execute_reply.started": "2023-05-23T03:42:02.378456Z"
    },
    "jupyter": {
     "outputs_hidden": true
    }
   },
   "outputs": [
    {
     "name": "stdout",
     "output_type": "stream",
     "text": [
      "processing 0 out of 28937 game_id 286884, cnt_null_matchups: 0\n",
      "processing 1000 out of 28937 game_id 287899, cnt_null_matchups: 29\n",
      "processing 2000 out of 28937 game_id 288887, cnt_null_matchups: 63\n",
      "calling statsapi.player_stat_data for player_id: 592603\n",
      "Exception: <class 'Exception'> while fetching player_stat_data\n",
      "Error while getting away batter 592603 stat\n",
      "opposing_pitcher_id  is not of int64 type\n",
      "calling statsapi.player_stat_data for player_id: 612538\n",
      "Exception: <class 'Exception'> while fetching player_stat_data\n",
      "Error while getting away batter 612538 stat\n",
      "opposing_pitcher_id  is not of int64 type\n",
      "opposing_pitcher_id  is not of int64 type\n",
      "opposing_pitcher_id  is not of int64 type\n",
      "processing 3000 out of 28937 game_id 318217, cnt_null_matchups: 158\n",
      "opposing_pitcher_id  is not of int64 type\n",
      "processing 4000 out of 28937 game_id 319211, cnt_null_matchups: 215\n",
      "opposing_pitcher_id  is not of int64 type\n",
      "opposing_pitcher_id  is not of int64 type\n",
      "calling statsapi.player_stat_data for player_id: 614349\n",
      "Exception: <class 'Exception'> while fetching player_stat_data\n",
      "Error while getting away batter 614349 stat\n",
      "opposing_pitcher_id  is not of int64 type\n",
      "processing 5000 out of 28937 game_id 362963, cnt_null_matchups: 299\n",
      "opposing_pitcher_id  is not of int64 type\n",
      "opposing_pitcher_id  is not of int64 type\n",
      "opposing_pitcher_id  is not of int64 type\n",
      "processing 6000 out of 28937 game_id 347627, cnt_null_matchups: 407\n",
      "opposing_pitcher_id  is not of int64 type\n",
      "opposing_pitcher_id  is not of int64 type\n",
      "opposing_pitcher_id  is not of int64 type\n",
      "opposing_pitcher_id  is not of int64 type\n",
      "opposing_pitcher_id  is not of int64 type\n",
      "opposing_pitcher_id  is not of int64 type\n",
      "opposing_pitcher_id  is not of int64 type\n",
      "opposing_pitcher_id  is not of int64 type\n",
      "opposing_pitcher_id  is not of int64 type\n",
      "opposing_pitcher_id  is not of int64 type\n",
      "processing 7000 out of 28937 game_id 348625, cnt_null_matchups: 456\n",
      "calling statsapi.player_stat_data for player_id: 621118\n",
      "Exception: <class 'Exception'> while fetching player_stat_data\n",
      "Error while getting away batter 621118 stat\n",
      "calling statsapi.player_stat_data for player_id: 650417\n",
      "Exception: <class 'Exception'> while fetching player_stat_data\n",
      "Error while getting away batter 650417 stat\n",
      "calling statsapi.player_stat_data for player_id: 650534\n",
      "Exception: <class 'Exception'> while fetching player_stat_data\n",
      "Error while getting away batter 650534 stat\n",
      "calling statsapi.player_stat_data for player_id: 600274\n",
      "Exception: <class 'Exception'> while fetching player_stat_data\n",
      "Error while getting away batter 600274 stat\n",
      "calling statsapi.player_stat_data for player_id: 650637\n",
      "Exception: <class 'Exception'> while fetching player_stat_data\n",
      "Error while getting away batter 650637 stat\n",
      "calling statsapi.player_stat_data for player_id: 650585\n",
      "Exception: <class 'Exception'> while fetching player_stat_data\n",
      "Error while getting away batter 650585 stat\n"
     ]
    },
    {
     "name": "stderr",
     "output_type": "stream",
     "text": [
      "Warning: Cannot load hourly/2015/KXNWG.csv.gz from https://bulk.meteostat.net/v2/\n",
      "Warning: Cannot load hourly/2015/F2UX6.csv.gz from https://bulk.meteostat.net/v2/\n",
      "Warning: Cannot load hourly/2015/KI690.csv.gz from https://bulk.meteostat.net/v2/\n",
      "Warning: Cannot load hourly/2015/74492.csv.gz from https://bulk.meteostat.net/v2/\n",
      "Warning: Cannot load hourly/2015/2XUGG.csv.gz from https://bulk.meteostat.net/v2/\n",
      "Warning: Cannot load hourly/2015/8PJPB.csv.gz from https://bulk.meteostat.net/v2/\n",
      "Warning: Cannot load hourly/2015/4P0GT.csv.gz from https://bulk.meteostat.net/v2/\n"
     ]
    },
    {
     "name": "stdout",
     "output_type": "stream",
     "text": [
      "processing 8000 out of 28937 game_id 380921, cnt_null_matchups: 540\n",
      "processing 9000 out of 28937 game_id 381918, cnt_null_matchups: 585\n",
      "processing 10000 out of 28937 game_id 382914, cnt_null_matchups: 646\n"
     ]
    },
    {
     "name": "stderr",
     "output_type": "stream",
     "text": [
      "Warning: Cannot load hourly/2014/DNYFH.csv.gz from https://bulk.meteostat.net/v2/\n",
      "Warning: Cannot load hourly/2015/DNYFH.csv.gz from https://bulk.meteostat.net/v2/\n"
     ]
    },
    {
     "name": "stdout",
     "output_type": "stream",
     "text": [
      "opposing_pitcher_id  is not of int64 type\n",
      "calling statsapi.player_stat_data for player_id: 661470\n",
      "Exception: <class 'Exception'> while fetching player_stat_data\n",
      "Error while getting away batter 661470 stat\n"
     ]
    },
    {
     "name": "stderr",
     "output_type": "stream",
     "text": [
      "Warning: Cannot load hourly/2016/DNYFH.csv.gz from https://bulk.meteostat.net/v2/\n",
      "Warning: Cannot load hourly/2016/KXNWG.csv.gz from https://bulk.meteostat.net/v2/\n",
      "Warning: Cannot load hourly/2016/KI690.csv.gz from https://bulk.meteostat.net/v2/\n",
      "Warning: Cannot load hourly/2016/F2UX6.csv.gz from https://bulk.meteostat.net/v2/\n",
      "Warning: Cannot load hourly/2016/74492.csv.gz from https://bulk.meteostat.net/v2/\n",
      "Warning: Cannot load hourly/2016/4P0GT.csv.gz from https://bulk.meteostat.net/v2/\n",
      "Warning: Cannot load hourly/2016/2XUGG.csv.gz from https://bulk.meteostat.net/v2/\n",
      "Warning: Cannot load hourly/2016/8PJPB.csv.gz from https://bulk.meteostat.net/v2/\n"
     ]
    },
    {
     "name": "stdout",
     "output_type": "stream",
     "text": [
      "opposing_pitcher_id  is not of int64 type\n",
      "opposing_pitcher_id  is not of int64 type\n",
      "opposing_pitcher_id  is not of int64 type\n",
      "opposing_pitcher_id  is not of int64 type\n",
      "processing 11000 out of 28937 game_id 414508, cnt_null_matchups: 715\n"
     ]
    },
    {
     "name": "stderr",
     "output_type": "stream",
     "text": [
      "Warning: Cannot load hourly/2016/NZY2Y.csv.gz from https://bulk.meteostat.net/v2/\n",
      "Warning: Cannot load hourly/2015/NZY2Y.csv.gz from https://bulk.meteostat.net/v2/\n"
     ]
    },
    {
     "name": "stdout",
     "output_type": "stream",
     "text": [
      "processing 12000 out of 28937 game_id 415512, cnt_null_matchups: 781\n",
      "calling statsapi.player_stat_data for player_id: 661470\n",
      "Exception: <class 'Exception'> while fetching player_stat_data\n",
      "Error while getting away batter 661470 stat\n",
      "calling statsapi.player_stat_data for player_id: 629979\n",
      "Exception: <class 'Exception'> while fetching player_stat_data\n",
      "Error while getting away batter 629979 stat\n",
      "calling statsapi.player_stat_data for player_id: 666961\n",
      "Exception: <class 'Exception'> while fetching player_stat_data\n",
      "Error while getting away batter 666961 stat\n",
      "calling statsapi.player_stat_data for player_id: 667278\n",
      "Exception: <class 'Exception'> while fetching player_stat_data\n",
      "Error while getting away batter 667278 stat\n",
      "calling statsapi.player_stat_data for player_id: 662002\n",
      "Exception: <class 'Exception'> while fetching player_stat_data\n",
      "Error while getting away batter 662002 stat\n",
      "calling statsapi.player_stat_data for player_id: 666920\n",
      "Exception: <class 'Exception'> while fetching player_stat_data\n",
      "Error while getting away batter 666920 stat\n",
      "opposing_pitcher_id  is not of int64 type\n"
     ]
    },
    {
     "name": "stderr",
     "output_type": "stream",
     "text": [
      "Warning: Cannot load hourly/2017/F2UX6.csv.gz from https://bulk.meteostat.net/v2/\n",
      "Warning: Cannot load hourly/2017/KI690.csv.gz from https://bulk.meteostat.net/v2/\n",
      "Warning: Cannot load hourly/2017/DNYFH.csv.gz from https://bulk.meteostat.net/v2/\n",
      "Warning: Cannot load hourly/2017/KXNWG.csv.gz from https://bulk.meteostat.net/v2/\n",
      "Warning: Cannot load hourly/2017/2XUGG.csv.gz from https://bulk.meteostat.net/v2/\n",
      "Warning: Cannot load hourly/2017/NZY2Y.csv.gz from https://bulk.meteostat.net/v2/\n",
      "Warning: Cannot load hourly/2017/74492.csv.gz from https://bulk.meteostat.net/v2/\n",
      "Warning: Cannot load hourly/2017/4P0GT.csv.gz from https://bulk.meteostat.net/v2/\n"
     ]
    },
    {
     "name": "stdout",
     "output_type": "stream",
     "text": [
      "processing 13000 out of 28937 game_id 447224, cnt_null_matchups: 863\n",
      "processing 14000 out of 28937 game_id 448218, cnt_null_matchups: 901\n",
      "processing 15000 out of 28937 game_id 449222, cnt_null_matchups: 988\n",
      "opposing_pitcher_id  is not of int64 type\n",
      "calling statsapi.player_stat_data for player_id: 673857\n",
      "Exception: <class 'Exception'> while fetching player_stat_data\n",
      "Error while getting away batter 673857 stat\n",
      "calling statsapi.player_stat_data for player_id: 661823\n",
      "Exception: <class 'Exception'> while fetching player_stat_data\n",
      "Error while getting away batter 661823 stat\n",
      "calling statsapi.player_stat_data for player_id: 673934\n",
      "Exception: <class 'Exception'> while fetching player_stat_data\n",
      "Error while getting away batter 673934 stat\n",
      "opposing_pitcher_id  is not of int64 type\n",
      "calling statsapi.player_stat_data for player_id: 650638\n",
      "Exception: <class 'Exception'> while fetching player_stat_data\n",
      "Error while getting away batter 650638 stat\n",
      "calling statsapi.player_stat_data for player_id: 667553\n",
      "Exception: <class 'Exception'> while fetching player_stat_data\n",
      "Error while getting away batter 667553 stat\n"
     ]
    },
    {
     "name": "stderr",
     "output_type": "stream",
     "text": [
      "Warning: Cannot load hourly/2018/4P0GT.csv.gz from https://bulk.meteostat.net/v2/\n",
      "Warning: Cannot load hourly/2018/74492.csv.gz from https://bulk.meteostat.net/v2/\n",
      "Warning: Cannot load hourly/2018/KI690.csv.gz from https://bulk.meteostat.net/v2/\n",
      "Warning: Cannot load hourly/2018/F2UX6.csv.gz from https://bulk.meteostat.net/v2/\n",
      "Warning: Cannot load hourly/2018/DNYFH.csv.gz from https://bulk.meteostat.net/v2/\n",
      "Warning: Cannot load hourly/2018/KXNWG.csv.gz from https://bulk.meteostat.net/v2/\n",
      "Warning: Cannot load hourly/2018/2XUGG.csv.gz from https://bulk.meteostat.net/v2/\n",
      "Warning: Cannot load hourly/2018/NZY2Y.csv.gz from https://bulk.meteostat.net/v2/\n"
     ]
    },
    {
     "name": "stdout",
     "output_type": "stream",
     "text": [
      "processing 16000 out of 28937 game_id 490889, cnt_null_matchups: 1103\n",
      "processing 17000 out of 28937 game_id 491900, cnt_null_matchups: 1157\n",
      "opposing_pitcher_id  is not of int64 type\n",
      "calling statsapi.player_stat_data for player_id: 679619\n",
      "Exception: <class 'Exception'> while fetching player_stat_data\n",
      "Error while getting away batter 679619 stat\n",
      "calling statsapi.player_stat_data for player_id: 673934\n",
      "Exception: <class 'Exception'> while fetching player_stat_data\n",
      "Error while getting away batter 673934 stat\n",
      "calling statsapi.player_stat_data for player_id: 673919\n",
      "Exception: <class 'Exception'> while fetching player_stat_data\n",
      "Error while getting away batter 673919 stat\n",
      "calling statsapi.player_stat_data for player_id: 663314\n",
      "Exception: <class 'Exception'> while fetching player_stat_data\n",
      "Error while getting away batter 663314 stat\n"
     ]
    },
    {
     "name": "stderr",
     "output_type": "stream",
     "text": [
      "Warning: Cannot load hourly/2019/2XUGG.csv.gz from https://bulk.meteostat.net/v2/\n",
      "Warning: Cannot load hourly/2019/NZY2Y.csv.gz from https://bulk.meteostat.net/v2/\n",
      "Warning: Cannot load hourly/2019/DNYFH.csv.gz from https://bulk.meteostat.net/v2/\n",
      "Warning: Cannot load hourly/2019/KXNWG.csv.gz from https://bulk.meteostat.net/v2/\n",
      "Warning: Cannot load hourly/2019/KI690.csv.gz from https://bulk.meteostat.net/v2/\n",
      "Warning: Cannot load hourly/2019/F2UX6.csv.gz from https://bulk.meteostat.net/v2/\n",
      "Warning: Cannot load hourly/2019/74492.csv.gz from https://bulk.meteostat.net/v2/\n",
      "Warning: Cannot load hourly/2019/4P0GT.csv.gz from https://bulk.meteostat.net/v2/\n"
     ]
    },
    {
     "name": "stdout",
     "output_type": "stream",
     "text": [
      "processing 18000 out of 28937 game_id 529648, cnt_null_matchups: 1321\n",
      "processing 19000 out of 28937 game_id 530650, cnt_null_matchups: 1366\n",
      "opposing_pitcher_id  is not of int64 type\n",
      "opposing_pitcher_id  is not of int64 type\n",
      "processing 20000 out of 28937 game_id 531659, cnt_null_matchups: 1443\n",
      "opposing_pitcher_id  is not of int64 type\n",
      "calling statsapi.player_stat_data for player_id: 679548\n",
      "Exception: <class 'Exception'> while fetching player_stat_data\n",
      "Error while getting away batter 679548 stat\n",
      "calling statsapi.player_stat_data for player_id: 684830\n",
      "Exception: <class 'Exception'> while fetching player_stat_data\n",
      "Error while getting away batter 684830 stat\n",
      "opposing_pitcher_id  is not of int64 type\n",
      "opposing_pitcher_id  is not of int64 type\n"
     ]
    },
    {
     "name": "stderr",
     "output_type": "stream",
     "text": [
      "Warning: Cannot load hourly/2020/F2UX6.csv.gz from https://bulk.meteostat.net/v2/\n",
      "Warning: Cannot load hourly/2020/NZY2Y.csv.gz from https://bulk.meteostat.net/v2/\n",
      "Warning: Cannot load hourly/2020/KXNWG.csv.gz from https://bulk.meteostat.net/v2/\n",
      "Warning: Cannot load hourly/2020/4P0GT.csv.gz from https://bulk.meteostat.net/v2/\n",
      "Warning: Cannot load hourly/2020/74492.csv.gz from https://bulk.meteostat.net/v2/\n"
     ]
    },
    {
     "name": "stdout",
     "output_type": "stream",
     "text": [
      "opposing_pitcher_id  is not of int64 type\n",
      "processing 21000 out of 28937 game_id 564953, cnt_null_matchups: 1593\n",
      "processing 22000 out of 28937 game_id 565377, cnt_null_matchups: 1654\n",
      "opposing_pitcher_id  is not of int64 type\n",
      "calling statsapi.player_stat_data for player_id: 679548\n",
      "Exception: <class 'Exception'> while fetching player_stat_data\n",
      "Error while getting away batter 679548 stat\n",
      "calling statsapi.player_stat_data for player_id: 685360\n",
      "Exception: <class 'Exception'> while fetching player_stat_data\n",
      "Error while getting away batter 685360 stat\n"
     ]
    },
    {
     "name": "stderr",
     "output_type": "stream",
     "text": [
      "Warning: Cannot load hourly/2021/F2UX6.csv.gz from https://bulk.meteostat.net/v2/\n",
      "Warning: Cannot load hourly/2021/4P0GT.csv.gz from https://bulk.meteostat.net/v2/\n"
     ]
    },
    {
     "name": "stdout",
     "output_type": "stream",
     "text": [
      "processing 23000 out of 28937 game_id 631593, cnt_null_matchups: 1842\n",
      "opposing_pitcher_id  is not of int64 type\n",
      "opposing_pitcher_id  is not of int64 type\n",
      "opposing_pitcher_id  is not of int64 type\n",
      "opposing_pitcher_id  is not of int64 type\n",
      "opposing_pitcher_id  is not of int64 type\n",
      "opposing_pitcher_id  is not of int64 type\n",
      "opposing_pitcher_id  is not of int64 type\n",
      "opposing_pitcher_id  is not of int64 type\n",
      "opposing_pitcher_id  is not of int64 type\n",
      "processing 24000 out of 28937 game_id 634589, cnt_null_matchups: 1998\n",
      "opposing_pitcher_id  is not of int64 type\n",
      "processing 25000 out of 28937 game_id 633747, cnt_null_matchups: 2954\n",
      "opposing_pitcher_id  is not of int64 type\n",
      "opposing_pitcher_id  is not of int64 type\n",
      "processing 26000 out of 28937 game_id 632569, cnt_null_matchups: 3895\n",
      "opposing_pitcher_id  is not of int64 type\n"
     ]
    },
    {
     "name": "stderr",
     "output_type": "stream",
     "text": [
      "Warning: Cannot load hourly/2022/74506.csv.gz from https://bulk.meteostat.net/v2/\n",
      "Warning: Cannot load hourly/2023/74506.csv.gz from https://bulk.meteostat.net/v2/\n"
     ]
    },
    {
     "name": "stdout",
     "output_type": "stream",
     "text": [
      "processing 27000 out of 28937 game_id 663005, cnt_null_matchups: 4348\n",
      "opposing_pitcher_id  is not of int64 type\n",
      "processing 28000 out of 28937 game_id 662267, cnt_null_matchups: 4400\n",
      "opposing_pitcher_id  is not of int64 type\n",
      "opposing_pitcher_id  is not of int64 type\n",
      "opposing_pitcher_id  is not of int64 type\n",
      "opposing_pitcher_id  is not of int64 type\n",
      "opposing_pitcher_id  is not of int64 type\n",
      "opposing_pitcher_id  is not of int64 type\n",
      "cnt_null_matchups: 4442\n"
     ]
    }
   ],
   "source": [
    "game_matchups = []\n",
    "cnt_null_matchups = 0\n",
    "for i, game_id in enumerate(game_id_list_total):\n",
    "    if i % 1000 == 0:\n",
    "        print(f'processing {i} out of {len(game_id_list_total)} game_id {game_id}, cnt_null_matchups: {cnt_null_matchups}')\n",
    "    game = _schedules[game_id]\n",
    "\n",
    "    game_boxscore = get_boxscore_data(game_id)\n",
    "    \n",
    "    if game_boxscore is None:\n",
    "        print(f'Failed to get box score for game_id: {game_id}')\n",
    "        continue\n",
    "    \n",
    "    '''\n",
    "    try:\n",
    "        game_boxscore = statsapi.boxscore_data(game_id)\n",
    "    except Exception:\n",
    "        continue\n",
    "    '''\n",
    "\n",
    "    home_batting_matchup = get_matchup(game_id, \"home\")\n",
    "    away_batting_matchup = get_matchup(game_id, \"away\")\n",
    "    \n",
    "    home_batting_matchup = home_batting_matchup if home_batting_matchup is not None else []\n",
    "    away_batting_matchup = away_batting_matchup if away_batting_matchup is not None else []\n",
    "\n",
    "    all_home_players = game_boxscore[\"home\"][\"players\"]\n",
    "    all_away_players = game_boxscore[\"away\"][\"players\"]\n",
    "\n",
    "    if (len(home_batting_matchup) == 0) and (len(away_batting_matchup) == 0):\n",
    "        #print(f'None both home_batting_matchup and away_batting_matchup for game_id {game_id}')\n",
    "        cnt_null_matchups += 1\n",
    "        continue\n",
    "    elif (len(home_batting_matchup) >= 1) and (len(away_batting_matchup) == 0):\n",
    "        #print(f'None away_batting_matchup for game_id {game_id}')\n",
    "        game_matchup = home_batting_matchup.reset_index(drop = True).copy()\n",
    "    elif (len(home_batting_matchup) == 0) and (len(away_batting_matchup) >= 1):\n",
    "        #print(f'None home_batting_matchup for game_id {game_id}')\n",
    "        game_matchup = away_batting_matchup.reset_index(drop = True).copy()\n",
    "    elif (len(home_batting_matchup) >= 0) and (len(away_batting_matchup) >= 1):\n",
    "        game_matchup = pd.concat([home_batting_matchup, away_batting_matchup], axis = 0).reset_index(drop = True)\n",
    "\n",
    "    game_matchup[\"game_id\"] = game[\"game_id\"]\n",
    "    game_matchup[\"game_venue\"] = game[\"venue_name\"]\n",
    "    game_matchup[\"game_date\"] = game[\"game_date\"]\n",
    "    game_matchup[\"game_datetime\"] = game[\"game_datetime\"]\n",
    "\n",
    "    if game[\"venue_name\"] not in park_venues:\n",
    "        # likely a training game\n",
    "        continue\n",
    "\n",
    "    park_lat = Park_Data[\"latitude\"][Park_Data[\"Venue\"] == game[\"venue_name\"]].iloc[0]\n",
    "    park_lon = Park_Data[\"longitude\"][Park_Data[\"Venue\"] == game[\"venue_name\"]].iloc[0]\n",
    "\n",
    "    game_temperature = get_venue_game_temperatures(park_lat, park_lon, game[\"game_date\"], game[\"game_datetime\"])\n",
    "    game_matchup[\"temp\"] = game_temperature\n",
    "    game_matchups.append(game_matchup)\n",
    "\n",
    "print(f'cnt_null_matchups: {cnt_null_matchups}')"
   ]
  },
  {
   "cell_type": "code",
   "execution_count": null,
   "id": "c56d8a51-0454-47b4-b47a-b29200188f6c",
   "metadata": {},
   "outputs": [],
   "source": []
  },
  {
   "cell_type": "code",
   "execution_count": 221,
   "id": "f1d977b5",
   "metadata": {
    "execution": {
     "iopub.execute_input": "2023-05-23T04:02:42.206669Z",
     "iopub.status.busy": "2023-05-23T04:02:42.206541Z",
     "iopub.status.idle": "2023-05-23T04:02:57.272776Z",
     "shell.execute_reply": "2023-05-23T04:02:57.272180Z",
     "shell.execute_reply.started": "2023-05-23T04:02:42.206658Z"
    },
    "tags": []
   },
   "outputs": [
    {
     "name": "stdout",
     "output_type": "stream",
     "text": [
      "Unique Games: 18910\n"
     ]
    }
   ],
   "source": [
    "game_matchup_dataframe = pd.concat(game_matchups) # [Hit_Real_Features].dropna()\n",
    "print(f\"Unique Games: {len(game_matchup_dataframe['game_id'].drop_duplicates())}\")"
   ]
  },
  {
   "cell_type": "code",
   "execution_count": 242,
   "id": "cf919e17-6be2-48b6-9838-969edaf9f985",
   "metadata": {
    "execution": {
     "iopub.execute_input": "2023-05-23T04:07:32.022145Z",
     "iopub.status.busy": "2023-05-23T04:07:32.021681Z",
     "iopub.status.idle": "2023-05-23T04:07:32.046109Z",
     "shell.execute_reply": "2023-05-23T04:07:32.045400Z",
     "shell.execute_reply.started": "2023-05-23T04:07:32.022123Z"
    }
   },
   "outputs": [],
   "source": [
    "game_matchup_dataframe['game_year'] = game_matchup_dataframe.game_date.dt.to_period('y')\n",
    "game_matchup_dataframe['game_date'] = pd.to_datetime(game_matchup_dataframe['game_date'])\n",
    "game_matchup_dataframe['game_datetime'] = pd.to_datetime(game_matchup_dataframe['game_datetime'])"
   ]
  },
  {
   "cell_type": "code",
   "execution_count": 246,
   "id": "e116e303-c8a2-45da-8312-0648cdd8f4fb",
   "metadata": {
    "execution": {
     "iopub.execute_input": "2023-05-23T04:08:17.504899Z",
     "iopub.status.busy": "2023-05-23T04:08:17.504237Z",
     "iopub.status.idle": "2023-05-23T04:08:17.885254Z",
     "shell.execute_reply": "2023-05-23T04:08:17.884401Z",
     "shell.execute_reply.started": "2023-05-23T04:08:17.504876Z"
    },
    "tags": []
   },
   "outputs": [],
   "source": [
    "game_matchup_dataframe.to_pickle('game_matchup_dataframe.pkl')"
   ]
  },
  {
   "cell_type": "code",
   "execution_count": null,
   "id": "b058251a-37f9-4a5b-a947-c51bf76685e2",
   "metadata": {},
   "outputs": [],
   "source": []
  },
  {
   "cell_type": "code",
   "execution_count": null,
   "id": "51e1001f-2de9-4d59-b425-31343a190654",
   "metadata": {},
   "outputs": [],
   "source": []
  },
  {
   "cell_type": "code",
   "execution_count": null,
   "id": "935e35bf-effc-4a2a-9412-320b17aced03",
   "metadata": {},
   "outputs": [],
   "source": []
  },
  {
   "cell_type": "code",
   "execution_count": null,
   "id": "08fcaec9-bf31-4784-9966-7bf117745b27",
   "metadata": {},
   "outputs": [],
   "source": []
  },
  {
   "cell_type": "code",
   "execution_count": null,
   "id": "c99be082-be8b-4696-8182-311377db84aa",
   "metadata": {},
   "outputs": [],
   "source": []
  }
 ],
 "metadata": {
  "kernelspec": {
   "display_name": "Python 3 (ipykernel)",
   "language": "python",
   "name": "python3"
  },
  "language_info": {
   "codemirror_mode": {
    "name": "ipython",
    "version": 3
   },
   "file_extension": ".py",
   "mimetype": "text/x-python",
   "name": "python",
   "nbconvert_exporter": "python",
   "pygments_lexer": "ipython3",
   "version": "3.10.6"
  }
 },
 "nbformat": 4,
 "nbformat_minor": 5
}
