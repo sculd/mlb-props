{
 "cells": [
  {
   "cell_type": "markdown",
   "metadata": {
    "id": "X1V_SUC4p-YQ"
   },
   "source": [
    "**Import Packages**"
   ]
  },
  {
   "cell_type": "code",
   "execution_count": 1,
   "metadata": {
    "colab": {
     "base_uri": "https://localhost:8080/"
    },
    "execution": {
     "iopub.execute_input": "2023-07-08T04:24:40.440270Z",
     "iopub.status.busy": "2023-07-08T04:24:40.439975Z",
     "iopub.status.idle": "2023-07-08T04:24:42.489953Z",
     "shell.execute_reply": "2023-07-08T04:24:42.489271Z",
     "shell.execute_reply.started": "2023-07-08T04:24:40.440246Z"
    },
    "id": "IGZCa25_p5QY",
    "outputId": "d9e7f9d8-21e8-49dd-d344-173324ba79a5",
    "tags": []
   },
   "outputs": [],
   "source": [
    "import pycaret\n",
    "import pandas as pd\n",
    "import numpy as np\n",
    "import sqlalchemy\n",
    "import mysql.connector\n",
    "\n",
    "from pycaret import classification\n",
    "from pycaret.classification import plot_model\n",
    "from datetime import datetime\n",
    "import importlib\n",
    "import model.common"
   ]
  },
  {
   "cell_type": "code",
   "execution_count": 2,
   "metadata": {
    "execution": {
     "iopub.execute_input": "2023-07-08T04:24:42.491171Z",
     "iopub.status.busy": "2023-07-08T04:24:42.490961Z",
     "iopub.status.idle": "2023-07-08T04:24:42.495321Z",
     "shell.execute_reply": "2023-07-08T04:24:42.494173Z",
     "shell.execute_reply.started": "2023-07-08T04:24:42.491148Z"
    }
   },
   "outputs": [],
   "source": [
    "from static_data.load_static_data import *"
   ]
  },
  {
   "cell_type": "markdown",
   "metadata": {
    "id": "jqde2RQfqchC"
   },
   "source": [
    "**Load Data**"
   ]
  },
  {
   "cell_type": "code",
   "execution_count": 3,
   "metadata": {
    "execution": {
     "iopub.execute_input": "2023-07-08T04:24:42.498030Z",
     "iopub.status.busy": "2023-07-08T04:24:42.497527Z",
     "iopub.status.idle": "2023-07-08T04:24:43.078910Z",
     "shell.execute_reply": "2023-07-08T04:24:43.078325Z",
     "shell.execute_reply.started": "2023-07-08T04:24:42.497998Z"
    }
   },
   "outputs": [
    {
     "name": "stdout",
     "output_type": "stream",
     "text": [
      "325647\n"
     ]
    }
   ],
   "source": [
    "collect_data_Base_dir = 'collect_data'\n",
    "df_game_matchup_total = pd.read_pickle(f'{collect_data_Base_dir}/df_game_matchup_total.pkl')\n",
    "print(len(df_game_matchup_total))"
   ]
  },
  {
   "cell_type": "markdown",
   "metadata": {
    "id": "VkSM5TOeule8"
   },
   "source": [
    "**Choose Columns**"
   ]
  },
  {
   "cell_type": "code",
   "execution_count": 4,
   "metadata": {
    "execution": {
     "iopub.execute_input": "2023-07-08T04:24:43.079561Z",
     "iopub.status.busy": "2023-07-08T04:24:43.079435Z",
     "iopub.status.idle": "2023-07-08T04:24:43.084199Z",
     "shell.execute_reply": "2023-07-08T04:24:43.083425Z",
     "shell.execute_reply.started": "2023-07-08T04:24:43.079549Z"
    }
   },
   "outputs": [
    {
     "data": {
      "text/plain": [
       "<module 'model.common' from '/home/junlim/projects/mlb-props/model/common.py'>"
      ]
     },
     "execution_count": 4,
     "metadata": {},
     "output_type": "execute_result"
    }
   ],
   "source": [
    "importlib.reload(model.common)"
   ]
  },
  {
   "cell_type": "code",
   "execution_count": 5,
   "metadata": {
    "execution": {
     "iopub.execute_input": "2023-07-08T04:24:43.086311Z",
     "iopub.status.busy": "2023-07-08T04:24:43.085900Z",
     "iopub.status.idle": "2023-07-08T04:24:43.098201Z",
     "shell.execute_reply": "2023-07-08T04:24:43.097765Z",
     "shell.execute_reply.started": "2023-07-08T04:24:43.086293Z"
    }
   },
   "outputs": [],
   "source": [
    "feature_columns, target_column, model_file_name = model.common.features_1hstrikeouts_recorded, model.common.target_1hstrikeouts_recorded, model.common.model_1hstrikeouts_file_name"
   ]
  },
  {
   "cell_type": "code",
   "execution_count": 6,
   "metadata": {
    "execution": {
     "iopub.execute_input": "2023-07-08T04:24:43.099014Z",
     "iopub.status.busy": "2023-07-08T04:24:43.098859Z",
     "iopub.status.idle": "2023-07-08T04:24:43.346578Z",
     "shell.execute_reply": "2023-07-08T04:24:43.344847Z",
     "shell.execute_reply.started": "2023-07-08T04:24:43.099004Z"
    }
   },
   "outputs": [],
   "source": [
    "train_data = df_game_matchup_total[(df_game_matchup_total.game_date > \"2012-04-01\") & (df_game_matchup_total.game_date < \"2022-12-01\")][feature_columns]\n",
    "test_data = df_game_matchup_total[(df_game_matchup_total.game_date > \"2022-12-01\")][feature_columns]"
   ]
  },
  {
   "cell_type": "markdown",
   "metadata": {
    "id": "Qxoqal-SvwXp"
   },
   "source": [
    "**Build/Train Model**"
   ]
  },
  {
   "cell_type": "code",
   "execution_count": 7,
   "metadata": {
    "execution": {
     "iopub.execute_input": "2023-07-08T04:24:43.349459Z",
     "iopub.status.busy": "2023-07-08T04:24:43.349039Z",
     "iopub.status.idle": "2023-07-08T04:29:55.192336Z",
     "shell.execute_reply": "2023-07-08T04:29:55.191568Z",
     "shell.execute_reply.started": "2023-07-08T04:24:43.349425Z"
    },
    "scrolled": true
   },
   "outputs": [
    {
     "data": {
      "text/html": [
       "<style type=\"text/css\">\n",
       "#T_9792e_row11_col1 {\n",
       "  background-color: lightgreen;\n",
       "}\n",
       "</style>\n",
       "<table id=\"T_9792e\">\n",
       "  <thead>\n",
       "    <tr>\n",
       "      <th class=\"blank level0\" >&nbsp;</th>\n",
       "      <th id=\"T_9792e_level0_col0\" class=\"col_heading level0 col0\" >Description</th>\n",
       "      <th id=\"T_9792e_level0_col1\" class=\"col_heading level0 col1\" >Value</th>\n",
       "    </tr>\n",
       "  </thead>\n",
       "  <tbody>\n",
       "    <tr>\n",
       "      <th id=\"T_9792e_level0_row0\" class=\"row_heading level0 row0\" >0</th>\n",
       "      <td id=\"T_9792e_row0_col0\" class=\"data row0 col0\" >Session id</td>\n",
       "      <td id=\"T_9792e_row0_col1\" class=\"data row0 col1\" >5239</td>\n",
       "    </tr>\n",
       "    <tr>\n",
       "      <th id=\"T_9792e_level0_row1\" class=\"row_heading level0 row1\" >1</th>\n",
       "      <td id=\"T_9792e_row1_col0\" class=\"data row1 col0\" >Target</td>\n",
       "      <td id=\"T_9792e_row1_col1\" class=\"data row1 col1\" >batting_1strikeOuts_recorded</td>\n",
       "    </tr>\n",
       "    <tr>\n",
       "      <th id=\"T_9792e_level0_row2\" class=\"row_heading level0 row2\" >2</th>\n",
       "      <td id=\"T_9792e_row2_col0\" class=\"data row2 col0\" >Target type</td>\n",
       "      <td id=\"T_9792e_row2_col1\" class=\"data row2 col1\" >Binary</td>\n",
       "    </tr>\n",
       "    <tr>\n",
       "      <th id=\"T_9792e_level0_row3\" class=\"row_heading level0 row3\" >3</th>\n",
       "      <td id=\"T_9792e_row3_col0\" class=\"data row3 col0\" >Original data shape</td>\n",
       "      <td id=\"T_9792e_row3_col1\" class=\"data row3 col1\" >(285090, 21)</td>\n",
       "    </tr>\n",
       "    <tr>\n",
       "      <th id=\"T_9792e_level0_row4\" class=\"row_heading level0 row4\" >4</th>\n",
       "      <td id=\"T_9792e_row4_col0\" class=\"data row4 col0\" >Transformed data shape</td>\n",
       "      <td id=\"T_9792e_row4_col1\" class=\"data row4 col1\" >(285090, 15)</td>\n",
       "    </tr>\n",
       "    <tr>\n",
       "      <th id=\"T_9792e_level0_row5\" class=\"row_heading level0 row5\" >5</th>\n",
       "      <td id=\"T_9792e_row5_col0\" class=\"data row5 col0\" >Transformed train set shape</td>\n",
       "      <td id=\"T_9792e_row5_col1\" class=\"data row5 col1\" >(199563, 15)</td>\n",
       "    </tr>\n",
       "    <tr>\n",
       "      <th id=\"T_9792e_level0_row6\" class=\"row_heading level0 row6\" >6</th>\n",
       "      <td id=\"T_9792e_row6_col0\" class=\"data row6 col0\" >Transformed test set shape</td>\n",
       "      <td id=\"T_9792e_row6_col1\" class=\"data row6 col1\" >(85527, 15)</td>\n",
       "    </tr>\n",
       "    <tr>\n",
       "      <th id=\"T_9792e_level0_row7\" class=\"row_heading level0 row7\" >7</th>\n",
       "      <td id=\"T_9792e_row7_col0\" class=\"data row7 col0\" >Ignore features</td>\n",
       "      <td id=\"T_9792e_row7_col1\" class=\"data row7 col1\" >6</td>\n",
       "    </tr>\n",
       "    <tr>\n",
       "      <th id=\"T_9792e_level0_row8\" class=\"row_heading level0 row8\" >8</th>\n",
       "      <td id=\"T_9792e_row8_col0\" class=\"data row8 col0\" >Numeric features</td>\n",
       "      <td id=\"T_9792e_row8_col1\" class=\"data row8 col1\" >13</td>\n",
       "    </tr>\n",
       "    <tr>\n",
       "      <th id=\"T_9792e_level0_row9\" class=\"row_heading level0 row9\" >9</th>\n",
       "      <td id=\"T_9792e_row9_col0\" class=\"data row9 col0\" >Categorical features</td>\n",
       "      <td id=\"T_9792e_row9_col1\" class=\"data row9 col1\" >1</td>\n",
       "    </tr>\n",
       "    <tr>\n",
       "      <th id=\"T_9792e_level0_row10\" class=\"row_heading level0 row10\" >10</th>\n",
       "      <td id=\"T_9792e_row10_col0\" class=\"data row10 col0\" >Rows with missing values</td>\n",
       "      <td id=\"T_9792e_row10_col1\" class=\"data row10 col1\" >0.0%</td>\n",
       "    </tr>\n",
       "    <tr>\n",
       "      <th id=\"T_9792e_level0_row11\" class=\"row_heading level0 row11\" >11</th>\n",
       "      <td id=\"T_9792e_row11_col0\" class=\"data row11 col0\" >Preprocess</td>\n",
       "      <td id=\"T_9792e_row11_col1\" class=\"data row11 col1\" >True</td>\n",
       "    </tr>\n",
       "    <tr>\n",
       "      <th id=\"T_9792e_level0_row12\" class=\"row_heading level0 row12\" >12</th>\n",
       "      <td id=\"T_9792e_row12_col0\" class=\"data row12 col0\" >Imputation type</td>\n",
       "      <td id=\"T_9792e_row12_col1\" class=\"data row12 col1\" >simple</td>\n",
       "    </tr>\n",
       "    <tr>\n",
       "      <th id=\"T_9792e_level0_row13\" class=\"row_heading level0 row13\" >13</th>\n",
       "      <td id=\"T_9792e_row13_col0\" class=\"data row13 col0\" >Numeric imputation</td>\n",
       "      <td id=\"T_9792e_row13_col1\" class=\"data row13 col1\" >mean</td>\n",
       "    </tr>\n",
       "    <tr>\n",
       "      <th id=\"T_9792e_level0_row14\" class=\"row_heading level0 row14\" >14</th>\n",
       "      <td id=\"T_9792e_row14_col0\" class=\"data row14 col0\" >Categorical imputation</td>\n",
       "      <td id=\"T_9792e_row14_col1\" class=\"data row14 col1\" >mode</td>\n",
       "    </tr>\n",
       "    <tr>\n",
       "      <th id=\"T_9792e_level0_row15\" class=\"row_heading level0 row15\" >15</th>\n",
       "      <td id=\"T_9792e_row15_col0\" class=\"data row15 col0\" >Maximum one-hot encoding</td>\n",
       "      <td id=\"T_9792e_row15_col1\" class=\"data row15 col1\" >25</td>\n",
       "    </tr>\n",
       "    <tr>\n",
       "      <th id=\"T_9792e_level0_row16\" class=\"row_heading level0 row16\" >16</th>\n",
       "      <td id=\"T_9792e_row16_col0\" class=\"data row16 col0\" >Encoding method</td>\n",
       "      <td id=\"T_9792e_row16_col1\" class=\"data row16 col1\" >None</td>\n",
       "    </tr>\n",
       "    <tr>\n",
       "      <th id=\"T_9792e_level0_row17\" class=\"row_heading level0 row17\" >17</th>\n",
       "      <td id=\"T_9792e_row17_col0\" class=\"data row17 col0\" >Fold Generator</td>\n",
       "      <td id=\"T_9792e_row17_col1\" class=\"data row17 col1\" >StratifiedKFold</td>\n",
       "    </tr>\n",
       "    <tr>\n",
       "      <th id=\"T_9792e_level0_row18\" class=\"row_heading level0 row18\" >18</th>\n",
       "      <td id=\"T_9792e_row18_col0\" class=\"data row18 col0\" >Fold Number</td>\n",
       "      <td id=\"T_9792e_row18_col1\" class=\"data row18 col1\" >10</td>\n",
       "    </tr>\n",
       "    <tr>\n",
       "      <th id=\"T_9792e_level0_row19\" class=\"row_heading level0 row19\" >19</th>\n",
       "      <td id=\"T_9792e_row19_col0\" class=\"data row19 col0\" >CPU Jobs</td>\n",
       "      <td id=\"T_9792e_row19_col1\" class=\"data row19 col1\" >-1</td>\n",
       "    </tr>\n",
       "    <tr>\n",
       "      <th id=\"T_9792e_level0_row20\" class=\"row_heading level0 row20\" >20</th>\n",
       "      <td id=\"T_9792e_row20_col0\" class=\"data row20 col0\" >Use GPU</td>\n",
       "      <td id=\"T_9792e_row20_col1\" class=\"data row20 col1\" >False</td>\n",
       "    </tr>\n",
       "    <tr>\n",
       "      <th id=\"T_9792e_level0_row21\" class=\"row_heading level0 row21\" >21</th>\n",
       "      <td id=\"T_9792e_row21_col0\" class=\"data row21 col0\" >Log Experiment</td>\n",
       "      <td id=\"T_9792e_row21_col1\" class=\"data row21 col1\" >False</td>\n",
       "    </tr>\n",
       "    <tr>\n",
       "      <th id=\"T_9792e_level0_row22\" class=\"row_heading level0 row22\" >22</th>\n",
       "      <td id=\"T_9792e_row22_col0\" class=\"data row22 col0\" >Experiment Name</td>\n",
       "      <td id=\"T_9792e_row22_col1\" class=\"data row22 col1\" >clf-default-name</td>\n",
       "    </tr>\n",
       "    <tr>\n",
       "      <th id=\"T_9792e_level0_row23\" class=\"row_heading level0 row23\" >23</th>\n",
       "      <td id=\"T_9792e_row23_col0\" class=\"data row23 col0\" >USI</td>\n",
       "      <td id=\"T_9792e_row23_col1\" class=\"data row23 col1\" >ba3d</td>\n",
       "    </tr>\n",
       "  </tbody>\n",
       "</table>\n"
      ],
      "text/plain": [
       "<pandas.io.formats.style.Styler at 0x7f52f832ef20>"
      ]
     },
     "metadata": {},
     "output_type": "display_data"
    },
    {
     "data": {
      "text/html": [],
      "text/plain": [
       "<IPython.core.display.HTML object>"
      ]
     },
     "metadata": {},
     "output_type": "display_data"
    },
    {
     "data": {
      "text/html": [
       "<style type=\"text/css\">\n",
       "#T_9b8d5_row10_col0, #T_9b8d5_row10_col1, #T_9b8d5_row10_col2, #T_9b8d5_row10_col3, #T_9b8d5_row10_col4, #T_9b8d5_row10_col5, #T_9b8d5_row10_col6 {\n",
       "  background: yellow;\n",
       "}\n",
       "</style>\n",
       "<table id=\"T_9b8d5\">\n",
       "  <thead>\n",
       "    <tr>\n",
       "      <th class=\"blank level0\" >&nbsp;</th>\n",
       "      <th id=\"T_9b8d5_level0_col0\" class=\"col_heading level0 col0\" >Accuracy</th>\n",
       "      <th id=\"T_9b8d5_level0_col1\" class=\"col_heading level0 col1\" >AUC</th>\n",
       "      <th id=\"T_9b8d5_level0_col2\" class=\"col_heading level0 col2\" >Recall</th>\n",
       "      <th id=\"T_9b8d5_level0_col3\" class=\"col_heading level0 col3\" >Prec.</th>\n",
       "      <th id=\"T_9b8d5_level0_col4\" class=\"col_heading level0 col4\" >F1</th>\n",
       "      <th id=\"T_9b8d5_level0_col5\" class=\"col_heading level0 col5\" >Kappa</th>\n",
       "      <th id=\"T_9b8d5_level0_col6\" class=\"col_heading level0 col6\" >MCC</th>\n",
       "    </tr>\n",
       "    <tr>\n",
       "      <th class=\"index_name level0\" >Fold</th>\n",
       "      <th class=\"blank col0\" >&nbsp;</th>\n",
       "      <th class=\"blank col1\" >&nbsp;</th>\n",
       "      <th class=\"blank col2\" >&nbsp;</th>\n",
       "      <th class=\"blank col3\" >&nbsp;</th>\n",
       "      <th class=\"blank col4\" >&nbsp;</th>\n",
       "      <th class=\"blank col5\" >&nbsp;</th>\n",
       "      <th class=\"blank col6\" >&nbsp;</th>\n",
       "    </tr>\n",
       "  </thead>\n",
       "  <tbody>\n",
       "    <tr>\n",
       "      <th id=\"T_9b8d5_level0_row0\" class=\"row_heading level0 row0\" >0</th>\n",
       "      <td id=\"T_9b8d5_row0_col0\" class=\"data row0 col0\" >0.6100</td>\n",
       "      <td id=\"T_9b8d5_row0_col1\" class=\"data row0 col1\" >0.6407</td>\n",
       "      <td id=\"T_9b8d5_row0_col2\" class=\"data row0 col2\" >0.7717</td>\n",
       "      <td id=\"T_9b8d5_row0_col3\" class=\"data row0 col3\" >0.6143</td>\n",
       "      <td id=\"T_9b8d5_row0_col4\" class=\"data row0 col4\" >0.6840</td>\n",
       "      <td id=\"T_9b8d5_row0_col5\" class=\"data row0 col5\" >0.1914</td>\n",
       "      <td id=\"T_9b8d5_row0_col6\" class=\"data row0 col6\" >0.2000</td>\n",
       "    </tr>\n",
       "    <tr>\n",
       "      <th id=\"T_9b8d5_level0_row1\" class=\"row_heading level0 row1\" >1</th>\n",
       "      <td id=\"T_9b8d5_row1_col0\" class=\"data row1 col0\" >0.6141</td>\n",
       "      <td id=\"T_9b8d5_row1_col1\" class=\"data row1 col1\" >0.6476</td>\n",
       "      <td id=\"T_9b8d5_row1_col2\" class=\"data row1 col2\" >0.7701</td>\n",
       "      <td id=\"T_9b8d5_row1_col3\" class=\"data row1 col3\" >0.6183</td>\n",
       "      <td id=\"T_9b8d5_row1_col4\" class=\"data row1 col4\" >0.6859</td>\n",
       "      <td id=\"T_9b8d5_row1_col5\" class=\"data row1 col5\" >0.2009</td>\n",
       "      <td id=\"T_9b8d5_row1_col6\" class=\"data row1 col6\" >0.2092</td>\n",
       "    </tr>\n",
       "    <tr>\n",
       "      <th id=\"T_9b8d5_level0_row2\" class=\"row_heading level0 row2\" >2</th>\n",
       "      <td id=\"T_9b8d5_row2_col0\" class=\"data row2 col0\" >0.6114</td>\n",
       "      <td id=\"T_9b8d5_row2_col1\" class=\"data row2 col1\" >0.6448</td>\n",
       "      <td id=\"T_9b8d5_row2_col2\" class=\"data row2 col2\" >0.7719</td>\n",
       "      <td id=\"T_9b8d5_row2_col3\" class=\"data row2 col3\" >0.6155</td>\n",
       "      <td id=\"T_9b8d5_row2_col4\" class=\"data row2 col4\" >0.6849</td>\n",
       "      <td id=\"T_9b8d5_row2_col5\" class=\"data row2 col5\" >0.1945</td>\n",
       "      <td id=\"T_9b8d5_row2_col6\" class=\"data row2 col6\" >0.2031</td>\n",
       "    </tr>\n",
       "    <tr>\n",
       "      <th id=\"T_9b8d5_level0_row3\" class=\"row_heading level0 row3\" >3</th>\n",
       "      <td id=\"T_9b8d5_row3_col0\" class=\"data row3 col0\" >0.6152</td>\n",
       "      <td id=\"T_9b8d5_row3_col1\" class=\"data row3 col1\" >0.6480</td>\n",
       "      <td id=\"T_9b8d5_row3_col2\" class=\"data row3 col2\" >0.7724</td>\n",
       "      <td id=\"T_9b8d5_row3_col3\" class=\"data row3 col3\" >0.6188</td>\n",
       "      <td id=\"T_9b8d5_row3_col4\" class=\"data row3 col4\" >0.6871</td>\n",
       "      <td id=\"T_9b8d5_row3_col5\" class=\"data row3 col5\" >0.2028</td>\n",
       "      <td id=\"T_9b8d5_row3_col6\" class=\"data row3 col6\" >0.2113</td>\n",
       "    </tr>\n",
       "    <tr>\n",
       "      <th id=\"T_9b8d5_level0_row4\" class=\"row_heading level0 row4\" >4</th>\n",
       "      <td id=\"T_9b8d5_row4_col0\" class=\"data row4 col0\" >0.6117</td>\n",
       "      <td id=\"T_9b8d5_row4_col1\" class=\"data row4 col1\" >0.6474</td>\n",
       "      <td id=\"T_9b8d5_row4_col2\" class=\"data row4 col2\" >0.7714</td>\n",
       "      <td id=\"T_9b8d5_row4_col3\" class=\"data row4 col3\" >0.6159</td>\n",
       "      <td id=\"T_9b8d5_row4_col4\" class=\"data row4 col4\" >0.6849</td>\n",
       "      <td id=\"T_9b8d5_row4_col5\" class=\"data row4 col5\" >0.1953</td>\n",
       "      <td id=\"T_9b8d5_row4_col6\" class=\"data row4 col6\" >0.2038</td>\n",
       "    </tr>\n",
       "    <tr>\n",
       "      <th id=\"T_9b8d5_level0_row5\" class=\"row_heading level0 row5\" >5</th>\n",
       "      <td id=\"T_9b8d5_row5_col0\" class=\"data row5 col0\" >0.6158</td>\n",
       "      <td id=\"T_9b8d5_row5_col1\" class=\"data row5 col1\" >0.6471</td>\n",
       "      <td id=\"T_9b8d5_row5_col2\" class=\"data row5 col2\" >0.7755</td>\n",
       "      <td id=\"T_9b8d5_row5_col3\" class=\"data row5 col3\" >0.6188</td>\n",
       "      <td id=\"T_9b8d5_row5_col4\" class=\"data row5 col4\" >0.6884</td>\n",
       "      <td id=\"T_9b8d5_row5_col5\" class=\"data row5 col5\" >0.2037</td>\n",
       "      <td id=\"T_9b8d5_row5_col6\" class=\"data row5 col6\" >0.2127</td>\n",
       "    </tr>\n",
       "    <tr>\n",
       "      <th id=\"T_9b8d5_level0_row6\" class=\"row_heading level0 row6\" >6</th>\n",
       "      <td id=\"T_9b8d5_row6_col0\" class=\"data row6 col0\" >0.6122</td>\n",
       "      <td id=\"T_9b8d5_row6_col1\" class=\"data row6 col1\" >0.6450</td>\n",
       "      <td id=\"T_9b8d5_row6_col2\" class=\"data row6 col2\" >0.7755</td>\n",
       "      <td id=\"T_9b8d5_row6_col3\" class=\"data row6 col3\" >0.6156</td>\n",
       "      <td id=\"T_9b8d5_row6_col4\" class=\"data row6 col4\" >0.6864</td>\n",
       "      <td id=\"T_9b8d5_row6_col5\" class=\"data row6 col5\" >0.1958</td>\n",
       "      <td id=\"T_9b8d5_row6_col6\" class=\"data row6 col6\" >0.2049</td>\n",
       "    </tr>\n",
       "    <tr>\n",
       "      <th id=\"T_9b8d5_level0_row7\" class=\"row_heading level0 row7\" >7</th>\n",
       "      <td id=\"T_9b8d5_row7_col0\" class=\"data row7 col0\" >0.6101</td>\n",
       "      <td id=\"T_9b8d5_row7_col1\" class=\"data row7 col1\" >0.6436</td>\n",
       "      <td id=\"T_9b8d5_row7_col2\" class=\"data row7 col2\" >0.7704</td>\n",
       "      <td id=\"T_9b8d5_row7_col3\" class=\"data row7 col3\" >0.6146</td>\n",
       "      <td id=\"T_9b8d5_row7_col4\" class=\"data row7 col4\" >0.6838</td>\n",
       "      <td id=\"T_9b8d5_row7_col5\" class=\"data row7 col5\" >0.1919</td>\n",
       "      <td id=\"T_9b8d5_row7_col6\" class=\"data row7 col6\" >0.2003</td>\n",
       "    </tr>\n",
       "    <tr>\n",
       "      <th id=\"T_9b8d5_level0_row8\" class=\"row_heading level0 row8\" >8</th>\n",
       "      <td id=\"T_9b8d5_row8_col0\" class=\"data row8 col0\" >0.6126</td>\n",
       "      <td id=\"T_9b8d5_row8_col1\" class=\"data row8 col1\" >0.6451</td>\n",
       "      <td id=\"T_9b8d5_row8_col2\" class=\"data row8 col2\" >0.7769</td>\n",
       "      <td id=\"T_9b8d5_row8_col3\" class=\"data row8 col3\" >0.6157</td>\n",
       "      <td id=\"T_9b8d5_row8_col4\" class=\"data row8 col4\" >0.6870</td>\n",
       "      <td id=\"T_9b8d5_row8_col5\" class=\"data row8 col5\" >0.1965</td>\n",
       "      <td id=\"T_9b8d5_row8_col6\" class=\"data row8 col6\" >0.2058</td>\n",
       "    </tr>\n",
       "    <tr>\n",
       "      <th id=\"T_9b8d5_level0_row9\" class=\"row_heading level0 row9\" >9</th>\n",
       "      <td id=\"T_9b8d5_row9_col0\" class=\"data row9 col0\" >0.6129</td>\n",
       "      <td id=\"T_9b8d5_row9_col1\" class=\"data row9 col1\" >0.6505</td>\n",
       "      <td id=\"T_9b8d5_row9_col2\" class=\"data row9 col2\" >0.7709</td>\n",
       "      <td id=\"T_9b8d5_row9_col3\" class=\"data row9 col3\" >0.6170</td>\n",
       "      <td id=\"T_9b8d5_row9_col4\" class=\"data row9 col4\" >0.6855</td>\n",
       "      <td id=\"T_9b8d5_row9_col5\" class=\"data row9 col5\" >0.1981</td>\n",
       "      <td id=\"T_9b8d5_row9_col6\" class=\"data row9 col6\" >0.2065</td>\n",
       "    </tr>\n",
       "    <tr>\n",
       "      <th id=\"T_9b8d5_level0_row10\" class=\"row_heading level0 row10\" >Mean</th>\n",
       "      <td id=\"T_9b8d5_row10_col0\" class=\"data row10 col0\" >0.6126</td>\n",
       "      <td id=\"T_9b8d5_row10_col1\" class=\"data row10 col1\" >0.6460</td>\n",
       "      <td id=\"T_9b8d5_row10_col2\" class=\"data row10 col2\" >0.7727</td>\n",
       "      <td id=\"T_9b8d5_row10_col3\" class=\"data row10 col3\" >0.6165</td>\n",
       "      <td id=\"T_9b8d5_row10_col4\" class=\"data row10 col4\" >0.6858</td>\n",
       "      <td id=\"T_9b8d5_row10_col5\" class=\"data row10 col5\" >0.1971</td>\n",
       "      <td id=\"T_9b8d5_row10_col6\" class=\"data row10 col6\" >0.2058</td>\n",
       "    </tr>\n",
       "    <tr>\n",
       "      <th id=\"T_9b8d5_level0_row11\" class=\"row_heading level0 row11\" >Std</th>\n",
       "      <td id=\"T_9b8d5_row11_col0\" class=\"data row11 col0\" >0.0019</td>\n",
       "      <td id=\"T_9b8d5_row11_col1\" class=\"data row11 col1\" >0.0026</td>\n",
       "      <td id=\"T_9b8d5_row11_col2\" class=\"data row11 col2\" >0.0023</td>\n",
       "      <td id=\"T_9b8d5_row11_col3\" class=\"data row11 col3\" >0.0016</td>\n",
       "      <td id=\"T_9b8d5_row11_col4\" class=\"data row11 col4\" >0.0014</td>\n",
       "      <td id=\"T_9b8d5_row11_col5\" class=\"data row11 col5\" >0.0041</td>\n",
       "      <td id=\"T_9b8d5_row11_col6\" class=\"data row11 col6\" >0.0041</td>\n",
       "    </tr>\n",
       "  </tbody>\n",
       "</table>\n"
      ],
      "text/plain": [
       "<pandas.io.formats.style.Styler at 0x7f52e52ddbd0>"
      ]
     },
     "metadata": {},
     "output_type": "display_data"
    },
    {
     "data": {
      "text/html": [],
      "text/plain": [
       "<IPython.core.display.HTML object>"
      ]
     },
     "metadata": {},
     "output_type": "display_data"
    },
    {
     "data": {
      "text/html": [],
      "text/plain": [
       "<IPython.core.display.HTML object>"
      ]
     },
     "metadata": {},
     "output_type": "display_data"
    },
    {
     "data": {
      "image/png": "[encoded data removed]",
      "text/plain": [
       "<Figure size 480x330 with 1 Axes>"
      ]
     },
     "metadata": {},
     "output_type": "display_data"
    },
    {
     "data": {
      "text/html": [],
      "text/plain": [
       "<IPython.core.display.HTML object>"
      ]
     },
     "metadata": {},
     "output_type": "display_data"
    },
    {
     "data": {
      "text/html": [
       "<style type=\"text/css\">\n",
       "#T_310e7_row10_col0, #T_310e7_row10_col1, #T_310e7_row10_col2, #T_310e7_row10_col3, #T_310e7_row10_col4, #T_310e7_row10_col5, #T_310e7_row10_col6 {\n",
       "  background: yellow;\n",
       "}\n",
       "</style>\n",
       "<table id=\"T_310e7\">\n",
       "  <thead>\n",
       "    <tr>\n",
       "      <th class=\"blank level0\" >&nbsp;</th>\n",
       "      <th id=\"T_310e7_level0_col0\" class=\"col_heading level0 col0\" >Accuracy</th>\n",
       "      <th id=\"T_310e7_level0_col1\" class=\"col_heading level0 col1\" >AUC</th>\n",
       "      <th id=\"T_310e7_level0_col2\" class=\"col_heading level0 col2\" >Recall</th>\n",
       "      <th id=\"T_310e7_level0_col3\" class=\"col_heading level0 col3\" >Prec.</th>\n",
       "      <th id=\"T_310e7_level0_col4\" class=\"col_heading level0 col4\" >F1</th>\n",
       "      <th id=\"T_310e7_level0_col5\" class=\"col_heading level0 col5\" >Kappa</th>\n",
       "      <th id=\"T_310e7_level0_col6\" class=\"col_heading level0 col6\" >MCC</th>\n",
       "    </tr>\n",
       "    <tr>\n",
       "      <th class=\"index_name level0\" >Fold</th>\n",
       "      <th class=\"blank col0\" >&nbsp;</th>\n",
       "      <th class=\"blank col1\" >&nbsp;</th>\n",
       "      <th class=\"blank col2\" >&nbsp;</th>\n",
       "      <th class=\"blank col3\" >&nbsp;</th>\n",
       "      <th class=\"blank col4\" >&nbsp;</th>\n",
       "      <th class=\"blank col5\" >&nbsp;</th>\n",
       "      <th class=\"blank col6\" >&nbsp;</th>\n",
       "    </tr>\n",
       "  </thead>\n",
       "  <tbody>\n",
       "    <tr>\n",
       "      <th id=\"T_310e7_level0_row0\" class=\"row_heading level0 row0\" >0</th>\n",
       "      <td id=\"T_310e7_row0_col0\" class=\"data row0 col0\" >0.6166</td>\n",
       "      <td id=\"T_310e7_row0_col1\" class=\"data row0 col1\" >0.6477</td>\n",
       "      <td id=\"T_310e7_row0_col2\" class=\"data row0 col2\" >0.7815</td>\n",
       "      <td id=\"T_310e7_row0_col3\" class=\"data row0 col3\" >0.6184</td>\n",
       "      <td id=\"T_310e7_row0_col4\" class=\"data row0 col4\" >0.6905</td>\n",
       "      <td id=\"T_310e7_row0_col5\" class=\"data row0 col5\" >0.2046</td>\n",
       "      <td id=\"T_310e7_row0_col6\" class=\"data row0 col6\" >0.2144</td>\n",
       "    </tr>\n",
       "    <tr>\n",
       "      <th id=\"T_310e7_level0_row1\" class=\"row_heading level0 row1\" >1</th>\n",
       "      <td id=\"T_310e7_row1_col0\" class=\"data row1 col0\" >0.6195</td>\n",
       "      <td id=\"T_310e7_row1_col1\" class=\"data row1 col1\" >0.6567</td>\n",
       "      <td id=\"T_310e7_row1_col2\" class=\"data row1 col2\" >0.7804</td>\n",
       "      <td id=\"T_310e7_row1_col3\" class=\"data row1 col3\" >0.6212</td>\n",
       "      <td id=\"T_310e7_row1_col4\" class=\"data row1 col4\" >0.6918</td>\n",
       "      <td id=\"T_310e7_row1_col5\" class=\"data row1 col5\" >0.2112</td>\n",
       "      <td id=\"T_310e7_row1_col6\" class=\"data row1 col6\" >0.2207</td>\n",
       "    </tr>\n",
       "    <tr>\n",
       "      <th id=\"T_310e7_level0_row2\" class=\"row_heading level0 row2\" >2</th>\n",
       "      <td id=\"T_310e7_row2_col0\" class=\"data row2 col0\" >0.6142</td>\n",
       "      <td id=\"T_310e7_row2_col1\" class=\"data row2 col1\" >0.6500</td>\n",
       "      <td id=\"T_310e7_row2_col2\" class=\"data row2 col2\" >0.7847</td>\n",
       "      <td id=\"T_310e7_row2_col3\" class=\"data row2 col3\" >0.6156</td>\n",
       "      <td id=\"T_310e7_row2_col4\" class=\"data row2 col4\" >0.6900</td>\n",
       "      <td id=\"T_310e7_row2_col5\" class=\"data row2 col5\" >0.1985</td>\n",
       "      <td id=\"T_310e7_row2_col6\" class=\"data row2 col6\" >0.2090</td>\n",
       "    </tr>\n",
       "    <tr>\n",
       "      <th id=\"T_310e7_level0_row3\" class=\"row_heading level0 row3\" >3</th>\n",
       "      <td id=\"T_310e7_row3_col0\" class=\"data row3 col0\" >0.6185</td>\n",
       "      <td id=\"T_310e7_row3_col1\" class=\"data row3 col1\" >0.6535</td>\n",
       "      <td id=\"T_310e7_row3_col2\" class=\"data row3 col2\" >0.7769</td>\n",
       "      <td id=\"T_310e7_row3_col3\" class=\"data row3 col3\" >0.6210</td>\n",
       "      <td id=\"T_310e7_row3_col4\" class=\"data row3 col4\" >0.6903</td>\n",
       "      <td id=\"T_310e7_row3_col5\" class=\"data row3 col5\" >0.2095</td>\n",
       "      <td id=\"T_310e7_row3_col6\" class=\"data row3 col6\" >0.2186</td>\n",
       "    </tr>\n",
       "    <tr>\n",
       "      <th id=\"T_310e7_level0_row4\" class=\"row_heading level0 row4\" >4</th>\n",
       "      <td id=\"T_310e7_row4_col0\" class=\"data row4 col0\" >0.6159</td>\n",
       "      <td id=\"T_310e7_row4_col1\" class=\"data row4 col1\" >0.6521</td>\n",
       "      <td id=\"T_310e7_row4_col2\" class=\"data row4 col2\" >0.7829</td>\n",
       "      <td id=\"T_310e7_row4_col3\" class=\"data row4 col3\" >0.6175</td>\n",
       "      <td id=\"T_310e7_row4_col4\" class=\"data row4 col4\" >0.6904</td>\n",
       "      <td id=\"T_310e7_row4_col5\" class=\"data row4 col5\" >0.2026</td>\n",
       "      <td id=\"T_310e7_row4_col6\" class=\"data row4 col6\" >0.2127</td>\n",
       "    </tr>\n",
       "    <tr>\n",
       "      <th id=\"T_310e7_level0_row5\" class=\"row_heading level0 row5\" >5</th>\n",
       "      <td id=\"T_310e7_row5_col0\" class=\"data row5 col0\" >0.6181</td>\n",
       "      <td id=\"T_310e7_row5_col1\" class=\"data row5 col1\" >0.6520</td>\n",
       "      <td id=\"T_310e7_row5_col2\" class=\"data row5 col2\" >0.7798</td>\n",
       "      <td id=\"T_310e7_row5_col3\" class=\"data row5 col3\" >0.6201</td>\n",
       "      <td id=\"T_310e7_row5_col4\" class=\"data row5 col4\" >0.6908</td>\n",
       "      <td id=\"T_310e7_row5_col5\" class=\"data row5 col5\" >0.2081</td>\n",
       "      <td id=\"T_310e7_row5_col6\" class=\"data row5 col6\" >0.2176</td>\n",
       "    </tr>\n",
       "    <tr>\n",
       "      <th id=\"T_310e7_level0_row6\" class=\"row_heading level0 row6\" >6</th>\n",
       "      <td id=\"T_310e7_row6_col0\" class=\"data row6 col0\" >0.6201</td>\n",
       "      <td id=\"T_310e7_row6_col1\" class=\"data row6 col1\" >0.6538</td>\n",
       "      <td id=\"T_310e7_row6_col2\" class=\"data row6 col2\" >0.7861</td>\n",
       "      <td id=\"T_310e7_row6_col3\" class=\"data row6 col3\" >0.6207</td>\n",
       "      <td id=\"T_310e7_row6_col4\" class=\"data row6 col4\" >0.6936</td>\n",
       "      <td id=\"T_310e7_row6_col5\" class=\"data row6 col5\" >0.2114</td>\n",
       "      <td id=\"T_310e7_row6_col6\" class=\"data row6 col6\" >0.2218</td>\n",
       "    </tr>\n",
       "    <tr>\n",
       "      <th id=\"T_310e7_level0_row7\" class=\"row_heading level0 row7\" >7</th>\n",
       "      <td id=\"T_310e7_row7_col0\" class=\"data row7 col0\" >0.6165</td>\n",
       "      <td id=\"T_310e7_row7_col1\" class=\"data row7 col1\" >0.6527</td>\n",
       "      <td id=\"T_310e7_row7_col2\" class=\"data row7 col2\" >0.7799</td>\n",
       "      <td id=\"T_310e7_row7_col3\" class=\"data row7 col3\" >0.6186</td>\n",
       "      <td id=\"T_310e7_row7_col4\" class=\"data row7 col4\" >0.6899</td>\n",
       "      <td id=\"T_310e7_row7_col5\" class=\"data row7 col5\" >0.2044</td>\n",
       "      <td id=\"T_310e7_row7_col6\" class=\"data row7 col6\" >0.2140</td>\n",
       "    </tr>\n",
       "    <tr>\n",
       "      <th id=\"T_310e7_level0_row8\" class=\"row_heading level0 row8\" >8</th>\n",
       "      <td id=\"T_310e7_row8_col0\" class=\"data row8 col0\" >0.6144</td>\n",
       "      <td id=\"T_310e7_row8_col1\" class=\"data row8 col1\" >0.6535</td>\n",
       "      <td id=\"T_310e7_row8_col2\" class=\"data row8 col2\" >0.7812</td>\n",
       "      <td id=\"T_310e7_row8_col3\" class=\"data row8 col3\" >0.6165</td>\n",
       "      <td id=\"T_310e7_row8_col4\" class=\"data row8 col4\" >0.6891</td>\n",
       "      <td id=\"T_310e7_row8_col5\" class=\"data row8 col5\" >0.1997</td>\n",
       "      <td id=\"T_310e7_row8_col6\" class=\"data row8 col6\" >0.2095</td>\n",
       "    </tr>\n",
       "    <tr>\n",
       "      <th id=\"T_310e7_level0_row9\" class=\"row_heading level0 row9\" >9</th>\n",
       "      <td id=\"T_310e7_row9_col0\" class=\"data row9 col0\" >0.6176</td>\n",
       "      <td id=\"T_310e7_row9_col1\" class=\"data row9 col1\" >0.6570</td>\n",
       "      <td id=\"T_310e7_row9_col2\" class=\"data row9 col2\" >0.7833</td>\n",
       "      <td id=\"T_310e7_row9_col3\" class=\"data row9 col3\" >0.6189</td>\n",
       "      <td id=\"T_310e7_row9_col4\" class=\"data row9 col4\" >0.6915</td>\n",
       "      <td id=\"T_310e7_row9_col5\" class=\"data row9 col5\" >0.2065</td>\n",
       "      <td id=\"T_310e7_row9_col6\" class=\"data row9 col6\" >0.2165</td>\n",
       "    </tr>\n",
       "    <tr>\n",
       "      <th id=\"T_310e7_level0_row10\" class=\"row_heading level0 row10\" >Mean</th>\n",
       "      <td id=\"T_310e7_row10_col0\" class=\"data row10 col0\" >0.6171</td>\n",
       "      <td id=\"T_310e7_row10_col1\" class=\"data row10 col1\" >0.6529</td>\n",
       "      <td id=\"T_310e7_row10_col2\" class=\"data row10 col2\" >0.7817</td>\n",
       "      <td id=\"T_310e7_row10_col3\" class=\"data row10 col3\" >0.6189</td>\n",
       "      <td id=\"T_310e7_row10_col4\" class=\"data row10 col4\" >0.6908</td>\n",
       "      <td id=\"T_310e7_row10_col5\" class=\"data row10 col5\" >0.2056</td>\n",
       "      <td id=\"T_310e7_row10_col6\" class=\"data row10 col6\" >0.2155</td>\n",
       "    </tr>\n",
       "    <tr>\n",
       "      <th id=\"T_310e7_level0_row11\" class=\"row_heading level0 row11\" >Std</th>\n",
       "      <td id=\"T_310e7_row11_col0\" class=\"data row11 col0\" >0.0019</td>\n",
       "      <td id=\"T_310e7_row11_col1\" class=\"data row11 col1\" >0.0026</td>\n",
       "      <td id=\"T_310e7_row11_col2\" class=\"data row11 col2\" >0.0025</td>\n",
       "      <td id=\"T_310e7_row11_col3\" class=\"data row11 col3\" >0.0018</td>\n",
       "      <td id=\"T_310e7_row11_col4\" class=\"data row11 col4\" >0.0012</td>\n",
       "      <td id=\"T_310e7_row11_col5\" class=\"data row11 col5\" >0.0043</td>\n",
       "      <td id=\"T_310e7_row11_col6\" class=\"data row11 col6\" >0.0042</td>\n",
       "    </tr>\n",
       "  </tbody>\n",
       "</table>\n"
      ],
      "text/plain": [
       "<pandas.io.formats.style.Styler at 0x7f52f80ed570>"
      ]
     },
     "metadata": {},
     "output_type": "display_data"
    },
    {
     "data": {
      "text/html": [],
      "text/plain": [
       "<IPython.core.display.HTML object>"
      ]
     },
     "metadata": {},
     "output_type": "display_data"
    },
    {
     "data": {
      "text/html": [],
      "text/plain": [
       "<IPython.core.display.HTML object>"
      ]
     },
     "metadata": {},
     "output_type": "display_data"
    },
    {
     "data": {
      "image/png": "[encoded data removed]",
      "text/plain": [
       "<Figure size 480x330 with 1 Axes>"
      ]
     },
     "metadata": {},
     "output_type": "display_data"
    },
    {
     "data": {
      "text/html": [],
      "text/plain": [
       "<IPython.core.display.HTML object>"
      ]
     },
     "metadata": {},
     "output_type": "display_data"
    },
    {
     "data": {
      "text/html": [
       "<style type=\"text/css\">\n",
       "#T_b16e6_row10_col0, #T_b16e6_row10_col1, #T_b16e6_row10_col2, #T_b16e6_row10_col3, #T_b16e6_row10_col4, #T_b16e6_row10_col5, #T_b16e6_row10_col6 {\n",
       "  background: yellow;\n",
       "}\n",
       "</style>\n",
       "<table id=\"T_b16e6\">\n",
       "  <thead>\n",
       "    <tr>\n",
       "      <th class=\"blank level0\" >&nbsp;</th>\n",
       "      <th id=\"T_b16e6_level0_col0\" class=\"col_heading level0 col0\" >Accuracy</th>\n",
       "      <th id=\"T_b16e6_level0_col1\" class=\"col_heading level0 col1\" >AUC</th>\n",
       "      <th id=\"T_b16e6_level0_col2\" class=\"col_heading level0 col2\" >Recall</th>\n",
       "      <th id=\"T_b16e6_level0_col3\" class=\"col_heading level0 col3\" >Prec.</th>\n",
       "      <th id=\"T_b16e6_level0_col4\" class=\"col_heading level0 col4\" >F1</th>\n",
       "      <th id=\"T_b16e6_level0_col5\" class=\"col_heading level0 col5\" >Kappa</th>\n",
       "      <th id=\"T_b16e6_level0_col6\" class=\"col_heading level0 col6\" >MCC</th>\n",
       "    </tr>\n",
       "    <tr>\n",
       "      <th class=\"index_name level0\" >Fold</th>\n",
       "      <th class=\"blank col0\" >&nbsp;</th>\n",
       "      <th class=\"blank col1\" >&nbsp;</th>\n",
       "      <th class=\"blank col2\" >&nbsp;</th>\n",
       "      <th class=\"blank col3\" >&nbsp;</th>\n",
       "      <th class=\"blank col4\" >&nbsp;</th>\n",
       "      <th class=\"blank col5\" >&nbsp;</th>\n",
       "      <th class=\"blank col6\" >&nbsp;</th>\n",
       "    </tr>\n",
       "  </thead>\n",
       "  <tbody>\n",
       "    <tr>\n",
       "      <th id=\"T_b16e6_level0_row0\" class=\"row_heading level0 row0\" >0</th>\n",
       "      <td id=\"T_b16e6_row0_col0\" class=\"data row0 col0\" >0.6136</td>\n",
       "      <td id=\"T_b16e6_row0_col1\" class=\"data row0 col1\" >0.6455</td>\n",
       "      <td id=\"T_b16e6_row0_col2\" class=\"data row0 col2\" >0.7761</td>\n",
       "      <td id=\"T_b16e6_row0_col3\" class=\"data row0 col3\" >0.6167</td>\n",
       "      <td id=\"T_b16e6_row0_col4\" class=\"data row0 col4\" >0.6873</td>\n",
       "      <td id=\"T_b16e6_row0_col5\" class=\"data row0 col5\" >0.1988</td>\n",
       "      <td id=\"T_b16e6_row0_col6\" class=\"data row0 col6\" >0.2079</td>\n",
       "    </tr>\n",
       "    <tr>\n",
       "      <th id=\"T_b16e6_level0_row1\" class=\"row_heading level0 row1\" >1</th>\n",
       "      <td id=\"T_b16e6_row1_col0\" class=\"data row1 col0\" >0.6196</td>\n",
       "      <td id=\"T_b16e6_row1_col1\" class=\"data row1 col1\" >0.6546</td>\n",
       "      <td id=\"T_b16e6_row1_col2\" class=\"data row1 col2\" >0.7794</td>\n",
       "      <td id=\"T_b16e6_row1_col3\" class=\"data row1 col3\" >0.6215</td>\n",
       "      <td id=\"T_b16e6_row1_col4\" class=\"data row1 col4\" >0.6916</td>\n",
       "      <td id=\"T_b16e6_row1_col5\" class=\"data row1 col5\" >0.2116</td>\n",
       "      <td id=\"T_b16e6_row1_col6\" class=\"data row1 col6\" >0.2210</td>\n",
       "    </tr>\n",
       "    <tr>\n",
       "      <th id=\"T_b16e6_level0_row2\" class=\"row_heading level0 row2\" >2</th>\n",
       "      <td id=\"T_b16e6_row2_col0\" class=\"data row2 col0\" >0.6137</td>\n",
       "      <td id=\"T_b16e6_row2_col1\" class=\"data row2 col1\" >0.6488</td>\n",
       "      <td id=\"T_b16e6_row2_col2\" class=\"data row2 col2\" >0.7783</td>\n",
       "      <td id=\"T_b16e6_row2_col3\" class=\"data row2 col3\" >0.6164</td>\n",
       "      <td id=\"T_b16e6_row2_col4\" class=\"data row2 col4\" >0.6880</td>\n",
       "      <td id=\"T_b16e6_row2_col5\" class=\"data row2 col5\" >0.1986</td>\n",
       "      <td id=\"T_b16e6_row2_col6\" class=\"data row2 col6\" >0.2081</td>\n",
       "    </tr>\n",
       "    <tr>\n",
       "      <th id=\"T_b16e6_level0_row3\" class=\"row_heading level0 row3\" >3</th>\n",
       "      <td id=\"T_b16e6_row3_col0\" class=\"data row3 col0\" >0.6160</td>\n",
       "      <td id=\"T_b16e6_row3_col1\" class=\"data row3 col1\" >0.6516</td>\n",
       "      <td id=\"T_b16e6_row3_col2\" class=\"data row3 col2\" >0.7794</td>\n",
       "      <td id=\"T_b16e6_row3_col3\" class=\"data row3 col3\" >0.6183</td>\n",
       "      <td id=\"T_b16e6_row3_col4\" class=\"data row3 col4\" >0.6895</td>\n",
       "      <td id=\"T_b16e6_row3_col5\" class=\"data row3 col5\" >0.2035</td>\n",
       "      <td id=\"T_b16e6_row3_col6\" class=\"data row3 col6\" >0.2130</td>\n",
       "    </tr>\n",
       "    <tr>\n",
       "      <th id=\"T_b16e6_level0_row4\" class=\"row_heading level0 row4\" >4</th>\n",
       "      <td id=\"T_b16e6_row4_col0\" class=\"data row4 col0\" >0.6153</td>\n",
       "      <td id=\"T_b16e6_row4_col1\" class=\"data row4 col1\" >0.6516</td>\n",
       "      <td id=\"T_b16e6_row4_col2\" class=\"data row4 col2\" >0.7798</td>\n",
       "      <td id=\"T_b16e6_row4_col3\" class=\"data row4 col3\" >0.6175</td>\n",
       "      <td id=\"T_b16e6_row4_col4\" class=\"data row4 col4\" >0.6893</td>\n",
       "      <td id=\"T_b16e6_row4_col5\" class=\"data row4 col5\" >0.2018</td>\n",
       "      <td id=\"T_b16e6_row4_col6\" class=\"data row4 col6\" >0.2114</td>\n",
       "    </tr>\n",
       "    <tr>\n",
       "      <th id=\"T_b16e6_level0_row5\" class=\"row_heading level0 row5\" >5</th>\n",
       "      <td id=\"T_b16e6_row5_col0\" class=\"data row5 col0\" >0.6159</td>\n",
       "      <td id=\"T_b16e6_row5_col1\" class=\"data row5 col1\" >0.6502</td>\n",
       "      <td id=\"T_b16e6_row5_col2\" class=\"data row5 col2\" >0.7770</td>\n",
       "      <td id=\"T_b16e6_row5_col3\" class=\"data row5 col3\" >0.6186</td>\n",
       "      <td id=\"T_b16e6_row5_col4\" class=\"data row5 col4\" >0.6888</td>\n",
       "      <td id=\"T_b16e6_row5_col5\" class=\"data row5 col5\" >0.2037</td>\n",
       "      <td id=\"T_b16e6_row5_col6\" class=\"data row5 col6\" >0.2129</td>\n",
       "    </tr>\n",
       "    <tr>\n",
       "      <th id=\"T_b16e6_level0_row6\" class=\"row_heading level0 row6\" >6</th>\n",
       "      <td id=\"T_b16e6_row6_col0\" class=\"data row6 col0\" >0.6167</td>\n",
       "      <td id=\"T_b16e6_row6_col1\" class=\"data row6 col1\" >0.6528</td>\n",
       "      <td id=\"T_b16e6_row6_col2\" class=\"data row6 col2\" >0.7861</td>\n",
       "      <td id=\"T_b16e6_row6_col3\" class=\"data row6 col3\" >0.6177</td>\n",
       "      <td id=\"T_b16e6_row6_col4\" class=\"data row6 col4\" >0.6918</td>\n",
       "      <td id=\"T_b16e6_row6_col5\" class=\"data row6 col5\" >0.2039</td>\n",
       "      <td id=\"T_b16e6_row6_col6\" class=\"data row6 col6\" >0.2145</td>\n",
       "    </tr>\n",
       "    <tr>\n",
       "      <th id=\"T_b16e6_level0_row7\" class=\"row_heading level0 row7\" >7</th>\n",
       "      <td id=\"T_b16e6_row7_col0\" class=\"data row7 col0\" >0.6156</td>\n",
       "      <td id=\"T_b16e6_row7_col1\" class=\"data row7 col1\" >0.6516</td>\n",
       "      <td id=\"T_b16e6_row7_col2\" class=\"data row7 col2\" >0.7783</td>\n",
       "      <td id=\"T_b16e6_row7_col3\" class=\"data row7 col3\" >0.6181</td>\n",
       "      <td id=\"T_b16e6_row7_col4\" class=\"data row7 col4\" >0.6890</td>\n",
       "      <td id=\"T_b16e6_row7_col5\" class=\"data row7 col5\" >0.2028</td>\n",
       "      <td id=\"T_b16e6_row7_col6\" class=\"data row7 col6\" >0.2122</td>\n",
       "    </tr>\n",
       "    <tr>\n",
       "      <th id=\"T_b16e6_level0_row8\" class=\"row_heading level0 row8\" >8</th>\n",
       "      <td id=\"T_b16e6_row8_col0\" class=\"data row8 col0\" >0.6146</td>\n",
       "      <td id=\"T_b16e6_row8_col1\" class=\"data row8 col1\" >0.6527</td>\n",
       "      <td id=\"T_b16e6_row8_col2\" class=\"data row8 col2\" >0.7845</td>\n",
       "      <td id=\"T_b16e6_row8_col3\" class=\"data row8 col3\" >0.6161</td>\n",
       "      <td id=\"T_b16e6_row8_col4\" class=\"data row8 col4\" >0.6901</td>\n",
       "      <td id=\"T_b16e6_row8_col5\" class=\"data row8 col5\" >0.1995</td>\n",
       "      <td id=\"T_b16e6_row8_col6\" class=\"data row8 col6\" >0.2099</td>\n",
       "    </tr>\n",
       "    <tr>\n",
       "      <th id=\"T_b16e6_level0_row9\" class=\"row_heading level0 row9\" >9</th>\n",
       "      <td id=\"T_b16e6_row9_col0\" class=\"data row9 col0\" >0.6162</td>\n",
       "      <td id=\"T_b16e6_row9_col1\" class=\"data row9 col1\" >0.6557</td>\n",
       "      <td id=\"T_b16e6_row9_col2\" class=\"data row9 col2\" >0.7823</td>\n",
       "      <td id=\"T_b16e6_row9_col3\" class=\"data row9 col3\" >0.6179</td>\n",
       "      <td id=\"T_b16e6_row9_col4\" class=\"data row9 col4\" >0.6904</td>\n",
       "      <td id=\"T_b16e6_row9_col5\" class=\"data row9 col5\" >0.2035</td>\n",
       "      <td id=\"T_b16e6_row9_col6\" class=\"data row9 col6\" >0.2135</td>\n",
       "    </tr>\n",
       "    <tr>\n",
       "      <th id=\"T_b16e6_level0_row10\" class=\"row_heading level0 row10\" >Mean</th>\n",
       "      <td id=\"T_b16e6_row10_col0\" class=\"data row10 col0\" >0.6157</td>\n",
       "      <td id=\"T_b16e6_row10_col1\" class=\"data row10 col1\" >0.6515</td>\n",
       "      <td id=\"T_b16e6_row10_col2\" class=\"data row10 col2\" >0.7801</td>\n",
       "      <td id=\"T_b16e6_row10_col3\" class=\"data row10 col3\" >0.6179</td>\n",
       "      <td id=\"T_b16e6_row10_col4\" class=\"data row10 col4\" >0.6896</td>\n",
       "      <td id=\"T_b16e6_row10_col5\" class=\"data row10 col5\" >0.2028</td>\n",
       "      <td id=\"T_b16e6_row10_col6\" class=\"data row10 col6\" >0.2124</td>\n",
       "    </tr>\n",
       "    <tr>\n",
       "      <th id=\"T_b16e6_level0_row11\" class=\"row_heading level0 row11\" >Std</th>\n",
       "      <td id=\"T_b16e6_row11_col0\" class=\"data row11 col0\" >0.0016</td>\n",
       "      <td id=\"T_b16e6_row11_col1\" class=\"data row11 col1\" >0.0027</td>\n",
       "      <td id=\"T_b16e6_row11_col2\" class=\"data row11 col2\" >0.0031</td>\n",
       "      <td id=\"T_b16e6_row11_col3\" class=\"data row11 col3\" >0.0015</td>\n",
       "      <td id=\"T_b16e6_row11_col4\" class=\"data row11 col4\" >0.0014</td>\n",
       "      <td id=\"T_b16e6_row11_col5\" class=\"data row11 col5\" >0.0036</td>\n",
       "      <td id=\"T_b16e6_row11_col6\" class=\"data row11 col6\" >0.0035</td>\n",
       "    </tr>\n",
       "  </tbody>\n",
       "</table>\n"
      ],
      "text/plain": [
       "<pandas.io.formats.style.Styler at 0x7f52f832e380>"
      ]
     },
     "metadata": {},
     "output_type": "display_data"
    },
    {
     "data": {
      "text/html": [],
      "text/plain": [
       "<IPython.core.display.HTML object>"
      ]
     },
     "metadata": {},
     "output_type": "display_data"
    },
    {
     "data": {
      "text/html": [],
      "text/plain": [
       "<IPython.core.display.HTML object>"
      ]
     },
     "metadata": {},
     "output_type": "display_data"
    },
    {
     "data": {
      "image/png": "[encoded data removed]",
      "text/plain": [
       "<Figure size 480x330 with 1 Axes>"
      ]
     },
     "metadata": {},
     "output_type": "display_data"
    },
    {
     "data": {
      "text/html": [],
      "text/plain": [
       "<IPython.core.display.HTML object>"
      ]
     },
     "metadata": {},
     "output_type": "display_data"
    },
    {
     "data": {
      "text/html": [
       "<style type=\"text/css\">\n",
       "#T_197e7_row10_col0, #T_197e7_row10_col1, #T_197e7_row10_col2, #T_197e7_row10_col3, #T_197e7_row10_col4, #T_197e7_row10_col5, #T_197e7_row10_col6 {\n",
       "  background: yellow;\n",
       "}\n",
       "</style>\n",
       "<table id=\"T_197e7\">\n",
       "  <thead>\n",
       "    <tr>\n",
       "      <th class=\"blank level0\" >&nbsp;</th>\n",
       "      <th id=\"T_197e7_level0_col0\" class=\"col_heading level0 col0\" >Accuracy</th>\n",
       "      <th id=\"T_197e7_level0_col1\" class=\"col_heading level0 col1\" >AUC</th>\n",
       "      <th id=\"T_197e7_level0_col2\" class=\"col_heading level0 col2\" >Recall</th>\n",
       "      <th id=\"T_197e7_level0_col3\" class=\"col_heading level0 col3\" >Prec.</th>\n",
       "      <th id=\"T_197e7_level0_col4\" class=\"col_heading level0 col4\" >F1</th>\n",
       "      <th id=\"T_197e7_level0_col5\" class=\"col_heading level0 col5\" >Kappa</th>\n",
       "      <th id=\"T_197e7_level0_col6\" class=\"col_heading level0 col6\" >MCC</th>\n",
       "    </tr>\n",
       "    <tr>\n",
       "      <th class=\"index_name level0\" >Fold</th>\n",
       "      <th class=\"blank col0\" >&nbsp;</th>\n",
       "      <th class=\"blank col1\" >&nbsp;</th>\n",
       "      <th class=\"blank col2\" >&nbsp;</th>\n",
       "      <th class=\"blank col3\" >&nbsp;</th>\n",
       "      <th class=\"blank col4\" >&nbsp;</th>\n",
       "      <th class=\"blank col5\" >&nbsp;</th>\n",
       "      <th class=\"blank col6\" >&nbsp;</th>\n",
       "    </tr>\n",
       "  </thead>\n",
       "  <tbody>\n",
       "    <tr>\n",
       "      <th id=\"T_197e7_level0_row0\" class=\"row_heading level0 row0\" >0</th>\n",
       "      <td id=\"T_197e7_row0_col0\" class=\"data row0 col0\" >0.6001</td>\n",
       "      <td id=\"T_197e7_row0_col1\" class=\"data row0 col1\" >0.6265</td>\n",
       "      <td id=\"T_197e7_row0_col2\" class=\"data row0 col2\" >0.7399</td>\n",
       "      <td id=\"T_197e7_row0_col3\" class=\"data row0 col3\" >0.6112</td>\n",
       "      <td id=\"T_197e7_row0_col4\" class=\"data row0 col4\" >0.6694</td>\n",
       "      <td id=\"T_197e7_row0_col5\" class=\"data row0 col5\" >0.1750</td>\n",
       "      <td id=\"T_197e7_row0_col6\" class=\"data row0 col6\" >0.1802</td>\n",
       "    </tr>\n",
       "    <tr>\n",
       "      <th id=\"T_197e7_level0_row1\" class=\"row_heading level0 row1\" >1</th>\n",
       "      <td id=\"T_197e7_row1_col0\" class=\"data row1 col0\" >0.6046</td>\n",
       "      <td id=\"T_197e7_row1_col1\" class=\"data row1 col1\" >0.6352</td>\n",
       "      <td id=\"T_197e7_row1_col2\" class=\"data row1 col2\" >0.7386</td>\n",
       "      <td id=\"T_197e7_row1_col3\" class=\"data row1 col3\" >0.6156</td>\n",
       "      <td id=\"T_197e7_row1_col4\" class=\"data row1 col4\" >0.6715</td>\n",
       "      <td id=\"T_197e7_row1_col5\" class=\"data row1 col5\" >0.1852</td>\n",
       "      <td id=\"T_197e7_row1_col6\" class=\"data row1 col6\" >0.1901</td>\n",
       "    </tr>\n",
       "    <tr>\n",
       "      <th id=\"T_197e7_level0_row2\" class=\"row_heading level0 row2\" >2</th>\n",
       "      <td id=\"T_197e7_row2_col0\" class=\"data row2 col0\" >0.6013</td>\n",
       "      <td id=\"T_197e7_row2_col1\" class=\"data row2 col1\" >0.6264</td>\n",
       "      <td id=\"T_197e7_row2_col2\" class=\"data row2 col2\" >0.7386</td>\n",
       "      <td id=\"T_197e7_row2_col3\" class=\"data row2 col3\" >0.6125</td>\n",
       "      <td id=\"T_197e7_row2_col4\" class=\"data row2 col4\" >0.6697</td>\n",
       "      <td id=\"T_197e7_row2_col5\" class=\"data row2 col5\" >0.1778</td>\n",
       "      <td id=\"T_197e7_row2_col6\" class=\"data row2 col6\" >0.1828</td>\n",
       "    </tr>\n",
       "    <tr>\n",
       "      <th id=\"T_197e7_level0_row3\" class=\"row_heading level0 row3\" >3</th>\n",
       "      <td id=\"T_197e7_row3_col0\" class=\"data row3 col0\" >0.6014</td>\n",
       "      <td id=\"T_197e7_row3_col1\" class=\"data row3 col1\" >0.6322</td>\n",
       "      <td id=\"T_197e7_row3_col2\" class=\"data row3 col2\" >0.7375</td>\n",
       "      <td id=\"T_197e7_row3_col3\" class=\"data row3 col3\" >0.6128</td>\n",
       "      <td id=\"T_197e7_row3_col4\" class=\"data row3 col4\" >0.6694</td>\n",
       "      <td id=\"T_197e7_row3_col5\" class=\"data row3 col5\" >0.1783</td>\n",
       "      <td id=\"T_197e7_row3_col6\" class=\"data row3 col6\" >0.1832</td>\n",
       "    </tr>\n",
       "    <tr>\n",
       "      <th id=\"T_197e7_level0_row4\" class=\"row_heading level0 row4\" >4</th>\n",
       "      <td id=\"T_197e7_row4_col0\" class=\"data row4 col0\" >0.6021</td>\n",
       "      <td id=\"T_197e7_row4_col1\" class=\"data row4 col1\" >0.6314</td>\n",
       "      <td id=\"T_197e7_row4_col2\" class=\"data row4 col2\" >0.7411</td>\n",
       "      <td id=\"T_197e7_row4_col3\" class=\"data row4 col3\" >0.6128</td>\n",
       "      <td id=\"T_197e7_row4_col4\" class=\"data row4 col4\" >0.6709</td>\n",
       "      <td id=\"T_197e7_row4_col5\" class=\"data row4 col5\" >0.1792</td>\n",
       "      <td id=\"T_197e7_row4_col6\" class=\"data row4 col6\" >0.1844</td>\n",
       "    </tr>\n",
       "    <tr>\n",
       "      <th id=\"T_197e7_level0_row5\" class=\"row_heading level0 row5\" >5</th>\n",
       "      <td id=\"T_197e7_row5_col0\" class=\"data row5 col0\" >0.5994</td>\n",
       "      <td id=\"T_197e7_row5_col1\" class=\"data row5 col1\" >0.6311</td>\n",
       "      <td id=\"T_197e7_row5_col2\" class=\"data row5 col2\" >0.7388</td>\n",
       "      <td id=\"T_197e7_row5_col3\" class=\"data row5 col3\" >0.6107</td>\n",
       "      <td id=\"T_197e7_row5_col4\" class=\"data row5 col4\" >0.6687</td>\n",
       "      <td id=\"T_197e7_row5_col5\" class=\"data row5 col5\" >0.1736</td>\n",
       "      <td id=\"T_197e7_row5_col6\" class=\"data row5 col6\" >0.1787</td>\n",
       "    </tr>\n",
       "    <tr>\n",
       "      <th id=\"T_197e7_level0_row6\" class=\"row_heading level0 row6\" >6</th>\n",
       "      <td id=\"T_197e7_row6_col0\" class=\"data row6 col0\" >0.6016</td>\n",
       "      <td id=\"T_197e7_row6_col1\" class=\"data row6 col1\" >0.6309</td>\n",
       "      <td id=\"T_197e7_row6_col2\" class=\"data row6 col2\" >0.7419</td>\n",
       "      <td id=\"T_197e7_row6_col3\" class=\"data row6 col3\" >0.6121</td>\n",
       "      <td id=\"T_197e7_row6_col4\" class=\"data row6 col4\" >0.6708</td>\n",
       "      <td id=\"T_197e7_row6_col5\" class=\"data row6 col5\" >0.1778</td>\n",
       "      <td id=\"T_197e7_row6_col6\" class=\"data row6 col6\" >0.1832</td>\n",
       "    </tr>\n",
       "    <tr>\n",
       "      <th id=\"T_197e7_level0_row7\" class=\"row_heading level0 row7\" >7</th>\n",
       "      <td id=\"T_197e7_row7_col0\" class=\"data row7 col0\" >0.6051</td>\n",
       "      <td id=\"T_197e7_row7_col1\" class=\"data row7 col1\" >0.6368</td>\n",
       "      <td id=\"T_197e7_row7_col2\" class=\"data row7 col2\" >0.7424</td>\n",
       "      <td id=\"T_197e7_row7_col3\" class=\"data row7 col3\" >0.6153</td>\n",
       "      <td id=\"T_197e7_row7_col4\" class=\"data row7 col4\" >0.6729</td>\n",
       "      <td id=\"T_197e7_row7_col5\" class=\"data row7 col5\" >0.1856</td>\n",
       "      <td id=\"T_197e7_row7_col6\" class=\"data row7 col6\" >0.1908</td>\n",
       "    </tr>\n",
       "    <tr>\n",
       "      <th id=\"T_197e7_level0_row8\" class=\"row_heading level0 row8\" >8</th>\n",
       "      <td id=\"T_197e7_row8_col0\" class=\"data row8 col0\" >0.6026</td>\n",
       "      <td id=\"T_197e7_row8_col1\" class=\"data row8 col1\" >0.6293</td>\n",
       "      <td id=\"T_197e7_row8_col2\" class=\"data row8 col2\" >0.7411</td>\n",
       "      <td id=\"T_197e7_row8_col3\" class=\"data row8 col3\" >0.6132</td>\n",
       "      <td id=\"T_197e7_row8_col4\" class=\"data row8 col4\" >0.6711</td>\n",
       "      <td id=\"T_197e7_row8_col5\" class=\"data row8 col5\" >0.1803</td>\n",
       "      <td id=\"T_197e7_row8_col6\" class=\"data row8 col6\" >0.1855</td>\n",
       "    </tr>\n",
       "    <tr>\n",
       "      <th id=\"T_197e7_level0_row9\" class=\"row_heading level0 row9\" >9</th>\n",
       "      <td id=\"T_197e7_row9_col0\" class=\"data row9 col0\" >0.6082</td>\n",
       "      <td id=\"T_197e7_row9_col1\" class=\"data row9 col1\" >0.6386</td>\n",
       "      <td id=\"T_197e7_row9_col2\" class=\"data row9 col2\" >0.7435</td>\n",
       "      <td id=\"T_197e7_row9_col3\" class=\"data row9 col3\" >0.6179</td>\n",
       "      <td id=\"T_197e7_row9_col4\" class=\"data row9 col4\" >0.6750</td>\n",
       "      <td id=\"T_197e7_row9_col5\" class=\"data row9 col5\" >0.1923</td>\n",
       "      <td id=\"T_197e7_row9_col6\" class=\"data row9 col6\" >0.1975</td>\n",
       "    </tr>\n",
       "    <tr>\n",
       "      <th id=\"T_197e7_level0_row10\" class=\"row_heading level0 row10\" >Mean</th>\n",
       "      <td id=\"T_197e7_row10_col0\" class=\"data row10 col0\" >0.6026</td>\n",
       "      <td id=\"T_197e7_row10_col1\" class=\"data row10 col1\" >0.6318</td>\n",
       "      <td id=\"T_197e7_row10_col2\" class=\"data row10 col2\" >0.7403</td>\n",
       "      <td id=\"T_197e7_row10_col3\" class=\"data row10 col3\" >0.6134</td>\n",
       "      <td id=\"T_197e7_row10_col4\" class=\"data row10 col4\" >0.6709</td>\n",
       "      <td id=\"T_197e7_row10_col5\" class=\"data row10 col5\" >0.1805</td>\n",
       "      <td id=\"T_197e7_row10_col6\" class=\"data row10 col6\" >0.1856</td>\n",
       "    </tr>\n",
       "    <tr>\n",
       "      <th id=\"T_197e7_level0_row11\" class=\"row_heading level0 row11\" >Std</th>\n",
       "      <td id=\"T_197e7_row11_col0\" class=\"data row11 col0\" >0.0025</td>\n",
       "      <td id=\"T_197e7_row11_col1\" class=\"data row11 col1\" >0.0038</td>\n",
       "      <td id=\"T_197e7_row11_col2\" class=\"data row11 col2\" >0.0019</td>\n",
       "      <td id=\"T_197e7_row11_col3\" class=\"data row11 col3\" >0.0021</td>\n",
       "      <td id=\"T_197e7_row11_col4\" class=\"data row11 col4\" >0.0018</td>\n",
       "      <td id=\"T_197e7_row11_col5\" class=\"data row11 col5\" >0.0053</td>\n",
       "      <td id=\"T_197e7_row11_col6\" class=\"data row11 col6\" >0.0054</td>\n",
       "    </tr>\n",
       "  </tbody>\n",
       "</table>\n"
      ],
      "text/plain": [
       "<pandas.io.formats.style.Styler at 0x7f52f80edf00>"
      ]
     },
     "metadata": {},
     "output_type": "display_data"
    },
    {
     "data": {
      "text/html": [],
      "text/plain": [
       "<IPython.core.display.HTML object>"
      ]
     },
     "metadata": {},
     "output_type": "display_data"
    },
    {
     "data": {
      "text/html": [],
      "text/plain": [
       "<IPython.core.display.HTML object>"
      ]
     },
     "metadata": {},
     "output_type": "display_data"
    },
    {
     "data": {
      "image/png": "[encoded data removed]",
      "text/plain": [
       "<Figure size 480x330 with 1 Axes>"
      ]
     },
     "metadata": {},
     "output_type": "display_data"
    }
   ],
   "source": [
    "regression_model_ada, regression_model_lightgbm, regression_model_gbc, regression_model_rf = model.common.create_models(train_data, target_column)"
   ]
  },
  {
   "cell_type": "markdown",
   "metadata": {
    "execution": {
     "iopub.execute_input": "2023-06-08T23:08:22.530994Z",
     "iopub.status.busy": "2023-06-08T23:08:22.529719Z",
     "iopub.status.idle": "2023-06-08T23:08:22.542651Z",
     "shell.execute_reply": "2023-06-08T23:08:22.540043Z",
     "shell.execute_reply.started": "2023-06-08T23:08:22.530922Z"
    }
   },
   "source": [
    "**evaluate model**"
   ]
  },
  {
   "cell_type": "markdown",
   "metadata": {},
   "source": [
    "`lightgbm` shows very good AUC of `0.97`, `rf` as well with `1.0` train AUC.\n",
    "\n",
    "`rf` seemed like too overfit with 1.0 train AUC but its test precision as well is the best among others.\n",
    "\n",
    "`ada` shows very low recall thus inpractical.\n"
   ]
  },
  {
   "cell_type": "code",
   "execution_count": 8,
   "metadata": {
    "execution": {
     "iopub.execute_input": "2023-07-08T04:29:55.197954Z",
     "iopub.status.busy": "2023-07-08T04:29:55.197667Z",
     "iopub.status.idle": "2023-07-08T04:30:07.006934Z",
     "shell.execute_reply": "2023-07-08T04:30:07.006093Z",
     "shell.execute_reply.started": "2023-07-08T04:29:55.197932Z"
    }
   },
   "outputs": [
    {
     "data": {
      "text/html": [
       "<style type=\"text/css\">\n",
       "</style>\n",
       "<table id=\"T_b0e3b\">\n",
       "  <thead>\n",
       "    <tr>\n",
       "      <th class=\"blank level0\" >&nbsp;</th>\n",
       "      <th id=\"T_b0e3b_level0_col0\" class=\"col_heading level0 col0\" >Model</th>\n",
       "      <th id=\"T_b0e3b_level0_col1\" class=\"col_heading level0 col1\" >Accuracy</th>\n",
       "      <th id=\"T_b0e3b_level0_col2\" class=\"col_heading level0 col2\" >AUC</th>\n",
       "      <th id=\"T_b0e3b_level0_col3\" class=\"col_heading level0 col3\" >Recall</th>\n",
       "      <th id=\"T_b0e3b_level0_col4\" class=\"col_heading level0 col4\" >Prec.</th>\n",
       "      <th id=\"T_b0e3b_level0_col5\" class=\"col_heading level0 col5\" >F1</th>\n",
       "      <th id=\"T_b0e3b_level0_col6\" class=\"col_heading level0 col6\" >Kappa</th>\n",
       "      <th id=\"T_b0e3b_level0_col7\" class=\"col_heading level0 col7\" >MCC</th>\n",
       "    </tr>\n",
       "  </thead>\n",
       "  <tbody>\n",
       "    <tr>\n",
       "      <th id=\"T_b0e3b_level0_row0\" class=\"row_heading level0 row0\" >0</th>\n",
       "      <td id=\"T_b0e3b_row0_col0\" class=\"data row0 col0\" >Ada Boost Classifier</td>\n",
       "      <td id=\"T_b0e3b_row0_col1\" class=\"data row0 col1\" >0.6119</td>\n",
       "      <td id=\"T_b0e3b_row0_col2\" class=\"data row0 col2\" >0.6458</td>\n",
       "      <td id=\"T_b0e3b_row0_col3\" class=\"data row0 col3\" >0.7688</td>\n",
       "      <td id=\"T_b0e3b_row0_col4\" class=\"data row0 col4\" >0.6165</td>\n",
       "      <td id=\"T_b0e3b_row0_col5\" class=\"data row0 col5\" >0.6843</td>\n",
       "      <td id=\"T_b0e3b_row0_col6\" class=\"data row0 col6\" >0.1961</td>\n",
       "      <td id=\"T_b0e3b_row0_col7\" class=\"data row0 col7\" >0.2043</td>\n",
       "    </tr>\n",
       "  </tbody>\n",
       "</table>\n"
      ],
      "text/plain": [
       "<pandas.io.formats.style.Styler at 0x7f52f80a4100>"
      ]
     },
     "metadata": {},
     "output_type": "display_data"
    },
    {
     "data": {
      "text/html": [
       "<style type=\"text/css\">\n",
       "</style>\n",
       "<table id=\"T_cc127\">\n",
       "  <thead>\n",
       "    <tr>\n",
       "      <th class=\"blank level0\" >&nbsp;</th>\n",
       "      <th id=\"T_cc127_level0_col0\" class=\"col_heading level0 col0\" >Model</th>\n",
       "      <th id=\"T_cc127_level0_col1\" class=\"col_heading level0 col1\" >Accuracy</th>\n",
       "      <th id=\"T_cc127_level0_col2\" class=\"col_heading level0 col2\" >AUC</th>\n",
       "      <th id=\"T_cc127_level0_col3\" class=\"col_heading level0 col3\" >Recall</th>\n",
       "      <th id=\"T_cc127_level0_col4\" class=\"col_heading level0 col4\" >Prec.</th>\n",
       "      <th id=\"T_cc127_level0_col5\" class=\"col_heading level0 col5\" >F1</th>\n",
       "      <th id=\"T_cc127_level0_col6\" class=\"col_heading level0 col6\" >Kappa</th>\n",
       "      <th id=\"T_cc127_level0_col7\" class=\"col_heading level0 col7\" >MCC</th>\n",
       "    </tr>\n",
       "  </thead>\n",
       "  <tbody>\n",
       "    <tr>\n",
       "      <th id=\"T_cc127_level0_row0\" class=\"row_heading level0 row0\" >0</th>\n",
       "      <td id=\"T_cc127_row0_col0\" class=\"data row0 col0\" >Gradient Boosting Classifier</td>\n",
       "      <td id=\"T_cc127_row0_col1\" class=\"data row0 col1\" >0.6165</td>\n",
       "      <td id=\"T_cc127_row0_col2\" class=\"data row0 col2\" >0.6535</td>\n",
       "      <td id=\"T_cc127_row0_col3\" class=\"data row0 col3\" >0.7835</td>\n",
       "      <td id=\"T_cc127_row0_col4\" class=\"data row0 col4\" >0.6180</td>\n",
       "      <td id=\"T_cc127_row0_col5\" class=\"data row0 col5\" >0.6909</td>\n",
       "      <td id=\"T_cc127_row0_col6\" class=\"data row0 col6\" >0.2040</td>\n",
       "      <td id=\"T_cc127_row0_col7\" class=\"data row0 col7\" >0.2141</td>\n",
       "    </tr>\n",
       "  </tbody>\n",
       "</table>\n"
      ],
      "text/plain": [
       "<pandas.io.formats.style.Styler at 0x7f52f80a5300>"
      ]
     },
     "metadata": {},
     "output_type": "display_data"
    },
    {
     "data": {
      "text/html": [
       "<style type=\"text/css\">\n",
       "</style>\n",
       "<table id=\"T_4a402\">\n",
       "  <thead>\n",
       "    <tr>\n",
       "      <th class=\"blank level0\" >&nbsp;</th>\n",
       "      <th id=\"T_4a402_level0_col0\" class=\"col_heading level0 col0\" >Model</th>\n",
       "      <th id=\"T_4a402_level0_col1\" class=\"col_heading level0 col1\" >Accuracy</th>\n",
       "      <th id=\"T_4a402_level0_col2\" class=\"col_heading level0 col2\" >AUC</th>\n",
       "      <th id=\"T_4a402_level0_col3\" class=\"col_heading level0 col3\" >Recall</th>\n",
       "      <th id=\"T_4a402_level0_col4\" class=\"col_heading level0 col4\" >Prec.</th>\n",
       "      <th id=\"T_4a402_level0_col5\" class=\"col_heading level0 col5\" >F1</th>\n",
       "      <th id=\"T_4a402_level0_col6\" class=\"col_heading level0 col6\" >Kappa</th>\n",
       "      <th id=\"T_4a402_level0_col7\" class=\"col_heading level0 col7\" >MCC</th>\n",
       "    </tr>\n",
       "  </thead>\n",
       "  <tbody>\n",
       "    <tr>\n",
       "      <th id=\"T_4a402_level0_row0\" class=\"row_heading level0 row0\" >0</th>\n",
       "      <td id=\"T_4a402_row0_col0\" class=\"data row0 col0\" >Light Gradient Boosting Machine</td>\n",
       "      <td id=\"T_4a402_row0_col1\" class=\"data row0 col1\" >0.6257</td>\n",
       "      <td id=\"T_4a402_row0_col2\" class=\"data row0 col2\" >0.6669</td>\n",
       "      <td id=\"T_4a402_row0_col3\" class=\"data row0 col3\" >0.7873</td>\n",
       "      <td id=\"T_4a402_row0_col4\" class=\"data row0 col4\" >0.6255</td>\n",
       "      <td id=\"T_4a402_row0_col5\" class=\"data row0 col5\" >0.6971</td>\n",
       "      <td id=\"T_4a402_row0_col6\" class=\"data row0 col6\" >0.2238</td>\n",
       "      <td id=\"T_4a402_row0_col7\" class=\"data row0 col7\" >0.2341</td>\n",
       "    </tr>\n",
       "  </tbody>\n",
       "</table>\n"
      ],
      "text/plain": [
       "<pandas.io.formats.style.Styler at 0x7f52f80a4430>"
      ]
     },
     "metadata": {},
     "output_type": "display_data"
    },
    {
     "data": {
      "text/html": [
       "<style type=\"text/css\">\n",
       "</style>\n",
       "<table id=\"T_d5626\">\n",
       "  <thead>\n",
       "    <tr>\n",
       "      <th class=\"blank level0\" >&nbsp;</th>\n",
       "      <th id=\"T_d5626_level0_col0\" class=\"col_heading level0 col0\" >Model</th>\n",
       "      <th id=\"T_d5626_level0_col1\" class=\"col_heading level0 col1\" >Accuracy</th>\n",
       "      <th id=\"T_d5626_level0_col2\" class=\"col_heading level0 col2\" >AUC</th>\n",
       "      <th id=\"T_d5626_level0_col3\" class=\"col_heading level0 col3\" >Recall</th>\n",
       "      <th id=\"T_d5626_level0_col4\" class=\"col_heading level0 col4\" >Prec.</th>\n",
       "      <th id=\"T_d5626_level0_col5\" class=\"col_heading level0 col5\" >F1</th>\n",
       "      <th id=\"T_d5626_level0_col6\" class=\"col_heading level0 col6\" >Kappa</th>\n",
       "      <th id=\"T_d5626_level0_col7\" class=\"col_heading level0 col7\" >MCC</th>\n",
       "    </tr>\n",
       "  </thead>\n",
       "  <tbody>\n",
       "    <tr>\n",
       "      <th id=\"T_d5626_level0_row0\" class=\"row_heading level0 row0\" >0</th>\n",
       "      <td id=\"T_d5626_row0_col0\" class=\"data row0 col0\" >Random Forest Classifier</td>\n",
       "      <td id=\"T_d5626_row0_col1\" class=\"data row0 col1\" >0.8801</td>\n",
       "      <td id=\"T_d5626_row0_col2\" class=\"data row0 col2\" >0.9633</td>\n",
       "      <td id=\"T_d5626_row0_col3\" class=\"data row0 col3\" >0.9218</td>\n",
       "      <td id=\"T_d5626_row0_col4\" class=\"data row0 col4\" >0.8674</td>\n",
       "      <td id=\"T_d5626_row0_col5\" class=\"data row0 col5\" >0.8938</td>\n",
       "      <td id=\"T_d5626_row0_col6\" class=\"data row0 col6\" >0.7565</td>\n",
       "      <td id=\"T_d5626_row0_col7\" class=\"data row0 col7\" >0.7584</td>\n",
       "    </tr>\n",
       "  </tbody>\n",
       "</table>\n"
      ],
      "text/plain": [
       "<pandas.io.formats.style.Styler at 0x7f52f80a4c10>"
      ]
     },
     "metadata": {},
     "output_type": "display_data"
    }
   ],
   "source": [
    "train_prediction_ada, train_prediction_gbc, train_prediction_lightgbm, train_prediction_rf = model.common.batch_predict_and_odds(train_data, [regression_model_ada, regression_model_gbc, regression_model_lightgbm, regression_model_rf])"
   ]
  },
  {
   "cell_type": "code",
   "execution_count": 9,
   "metadata": {
    "execution": {
     "iopub.execute_input": "2023-07-08T04:30:07.007813Z",
     "iopub.status.busy": "2023-07-08T04:30:07.007642Z",
     "iopub.status.idle": "2023-07-08T04:30:07.198164Z",
     "shell.execute_reply": "2023-07-08T04:30:07.197433Z",
     "shell.execute_reply.started": "2023-07-08T04:30:07.007799Z"
    }
   },
   "outputs": [
    {
     "data": {
      "text/html": [
       "<table>\n",
       "<tbody>\n",
       "<tr><td>model   </td><td>0.6        </td><td>0.7        </td><td>0.75       </td><td>0.8       </td></tr>\n",
       "<tr><td>ada     </td><td>(0, nan)   </td><td>(0, nan)   </td><td>(0, nan)   </td><td>(0, nan)  </td></tr>\n",
       "<tr><td>gbc     </td><td>(344, 0.7) </td><td>(97, 0.76) </td><td>(33, 0.97) </td><td>(10, 1.0) </td></tr>\n",
       "<tr><td>lightgbm</td><td>(335, 0.75)</td><td>(102, 0.81)</td><td>(48, 0.92) </td><td>(26, 0.96)</td></tr>\n",
       "<tr><td>rf      </td><td>(633, 0.96)</td><td>(563, 0.98)</td><td>(501, 0.99)</td><td>(374, 1.0)</td></tr>\n",
       "</tbody>\n",
       "</table>"
      ],
      "text/plain": [
       "'<table>\\n<tbody>\\n<tr><td>model   </td><td>0.6        </td><td>0.7        </td><td>0.75       </td><td>0.8       </td></tr>\\n<tr><td>ada     </td><td>(0, nan)   </td><td>(0, nan)   </td><td>(0, nan)   </td><td>(0, nan)  </td></tr>\\n<tr><td>gbc     </td><td>(344, 0.7) </td><td>(97, 0.76) </td><td>(33, 0.97) </td><td>(10, 1.0) </td></tr>\\n<tr><td>lightgbm</td><td>(335, 0.75)</td><td>(102, 0.81)</td><td>(48, 0.92) </td><td>(26, 0.96)</td></tr>\\n<tr><td>rf      </td><td>(633, 0.96)</td><td>(563, 0.98)</td><td>(501, 0.99)</td><td>(374, 1.0)</td></tr>\\n</tbody>\\n</table>'"
      ]
     },
     "execution_count": 9,
     "metadata": {},
     "output_type": "execute_result"
    }
   ],
   "source": [
    "model.common.evaluate_predictions([(train_prediction_ada, \"ada\"), (train_prediction_gbc, \"gbc\"), (train_prediction_lightgbm, \"lightgbm\"), (train_prediction_rf, \"rf\")], [0.6, 0.7, 0.75, 0.8], target_column)"
   ]
  },
  {
   "cell_type": "markdown",
   "metadata": {
    "execution": {
     "iopub.execute_input": "2023-06-07T00:40:23.948013Z",
     "iopub.status.busy": "2023-06-07T00:40:23.947407Z",
     "iopub.status.idle": "2023-06-07T00:40:23.953130Z",
     "shell.execute_reply": "2023-06-07T00:40:23.952520Z",
     "shell.execute_reply.started": "2023-06-07T00:40:23.947955Z"
    }
   },
   "source": [
    "**test prediction**"
   ]
  },
  {
   "cell_type": "code",
   "execution_count": 10,
   "metadata": {
    "execution": {
     "iopub.execute_input": "2023-07-08T04:30:07.199190Z",
     "iopub.status.busy": "2023-07-08T04:30:07.198977Z",
     "iopub.status.idle": "2023-07-08T04:30:08.285805Z",
     "shell.execute_reply": "2023-07-08T04:30:08.285120Z",
     "shell.execute_reply.started": "2023-07-08T04:30:07.199175Z"
    }
   },
   "outputs": [
    {
     "data": {
      "text/html": [
       "<style type=\"text/css\">\n",
       "</style>\n",
       "<table id=\"T_e5079\">\n",
       "  <thead>\n",
       "    <tr>\n",
       "      <th class=\"blank level0\" >&nbsp;</th>\n",
       "      <th id=\"T_e5079_level0_col0\" class=\"col_heading level0 col0\" >Model</th>\n",
       "      <th id=\"T_e5079_level0_col1\" class=\"col_heading level0 col1\" >Accuracy</th>\n",
       "      <th id=\"T_e5079_level0_col2\" class=\"col_heading level0 col2\" >AUC</th>\n",
       "      <th id=\"T_e5079_level0_col3\" class=\"col_heading level0 col3\" >Recall</th>\n",
       "      <th id=\"T_e5079_level0_col4\" class=\"col_heading level0 col4\" >Prec.</th>\n",
       "      <th id=\"T_e5079_level0_col5\" class=\"col_heading level0 col5\" >F1</th>\n",
       "      <th id=\"T_e5079_level0_col6\" class=\"col_heading level0 col6\" >Kappa</th>\n",
       "      <th id=\"T_e5079_level0_col7\" class=\"col_heading level0 col7\" >MCC</th>\n",
       "    </tr>\n",
       "  </thead>\n",
       "  <tbody>\n",
       "    <tr>\n",
       "      <th id=\"T_e5079_level0_row0\" class=\"row_heading level0 row0\" >0</th>\n",
       "      <td id=\"T_e5079_row0_col0\" class=\"data row0 col0\" >Ada Boost Classifier</td>\n",
       "      <td id=\"T_e5079_row0_col1\" class=\"data row0 col1\" >0.6004</td>\n",
       "      <td id=\"T_e5079_row0_col2\" class=\"data row0 col2\" >0.6125</td>\n",
       "      <td id=\"T_e5079_row0_col3\" class=\"data row0 col3\" >0.8588</td>\n",
       "      <td id=\"T_e5079_row0_col4\" class=\"data row0 col4\" >0.6105</td>\n",
       "      <td id=\"T_e5079_row0_col5\" class=\"data row0 col5\" >0.7137</td>\n",
       "      <td id=\"T_e5079_row0_col6\" class=\"data row0 col6\" >0.1111</td>\n",
       "      <td id=\"T_e5079_row0_col7\" class=\"data row0 col7\" >0.1305</td>\n",
       "    </tr>\n",
       "  </tbody>\n",
       "</table>\n"
      ],
      "text/plain": [
       "<pandas.io.formats.style.Styler at 0x7f52f80a4190>"
      ]
     },
     "metadata": {},
     "output_type": "display_data"
    },
    {
     "data": {
      "text/html": [
       "<style type=\"text/css\">\n",
       "</style>\n",
       "<table id=\"T_db06a\">\n",
       "  <thead>\n",
       "    <tr>\n",
       "      <th class=\"blank level0\" >&nbsp;</th>\n",
       "      <th id=\"T_db06a_level0_col0\" class=\"col_heading level0 col0\" >Model</th>\n",
       "      <th id=\"T_db06a_level0_col1\" class=\"col_heading level0 col1\" >Accuracy</th>\n",
       "      <th id=\"T_db06a_level0_col2\" class=\"col_heading level0 col2\" >AUC</th>\n",
       "      <th id=\"T_db06a_level0_col3\" class=\"col_heading level0 col3\" >Recall</th>\n",
       "      <th id=\"T_db06a_level0_col4\" class=\"col_heading level0 col4\" >Prec.</th>\n",
       "      <th id=\"T_db06a_level0_col5\" class=\"col_heading level0 col5\" >F1</th>\n",
       "      <th id=\"T_db06a_level0_col6\" class=\"col_heading level0 col6\" >Kappa</th>\n",
       "      <th id=\"T_db06a_level0_col7\" class=\"col_heading level0 col7\" >MCC</th>\n",
       "    </tr>\n",
       "  </thead>\n",
       "  <tbody>\n",
       "    <tr>\n",
       "      <th id=\"T_db06a_level0_row0\" class=\"row_heading level0 row0\" >0</th>\n",
       "      <td id=\"T_db06a_row0_col0\" class=\"data row0 col0\" >Gradient Boosting Classifier</td>\n",
       "      <td id=\"T_db06a_row0_col1\" class=\"data row0 col1\" >0.6044</td>\n",
       "      <td id=\"T_db06a_row0_col2\" class=\"data row0 col2\" >0.6180</td>\n",
       "      <td id=\"T_db06a_row0_col3\" class=\"data row0 col3\" >0.8765</td>\n",
       "      <td id=\"T_db06a_row0_col4\" class=\"data row0 col4\" >0.6107</td>\n",
       "      <td id=\"T_db06a_row0_col5\" class=\"data row0 col5\" >0.7199</td>\n",
       "      <td id=\"T_db06a_row0_col6\" class=\"data row0 col6\" >0.1147</td>\n",
       "      <td id=\"T_db06a_row0_col7\" class=\"data row0 col7\" >0.1389</td>\n",
       "    </tr>\n",
       "  </tbody>\n",
       "</table>\n"
      ],
      "text/plain": [
       "<pandas.io.formats.style.Styler at 0x7f52f818c670>"
      ]
     },
     "metadata": {},
     "output_type": "display_data"
    },
    {
     "data": {
      "text/html": [
       "<style type=\"text/css\">\n",
       "</style>\n",
       "<table id=\"T_2041b\">\n",
       "  <thead>\n",
       "    <tr>\n",
       "      <th class=\"blank level0\" >&nbsp;</th>\n",
       "      <th id=\"T_2041b_level0_col0\" class=\"col_heading level0 col0\" >Model</th>\n",
       "      <th id=\"T_2041b_level0_col1\" class=\"col_heading level0 col1\" >Accuracy</th>\n",
       "      <th id=\"T_2041b_level0_col2\" class=\"col_heading level0 col2\" >AUC</th>\n",
       "      <th id=\"T_2041b_level0_col3\" class=\"col_heading level0 col3\" >Recall</th>\n",
       "      <th id=\"T_2041b_level0_col4\" class=\"col_heading level0 col4\" >Prec.</th>\n",
       "      <th id=\"T_2041b_level0_col5\" class=\"col_heading level0 col5\" >F1</th>\n",
       "      <th id=\"T_2041b_level0_col6\" class=\"col_heading level0 col6\" >Kappa</th>\n",
       "      <th id=\"T_2041b_level0_col7\" class=\"col_heading level0 col7\" >MCC</th>\n",
       "    </tr>\n",
       "  </thead>\n",
       "  <tbody>\n",
       "    <tr>\n",
       "      <th id=\"T_2041b_level0_row0\" class=\"row_heading level0 row0\" >0</th>\n",
       "      <td id=\"T_2041b_row0_col0\" class=\"data row0 col0\" >Light Gradient Boosting Machine</td>\n",
       "      <td id=\"T_2041b_row0_col1\" class=\"data row0 col1\" >0.6066</td>\n",
       "      <td id=\"T_2041b_row0_col2\" class=\"data row0 col2\" >0.6173</td>\n",
       "      <td id=\"T_2041b_row0_col3\" class=\"data row0 col3\" >0.8649</td>\n",
       "      <td id=\"T_2041b_row0_col4\" class=\"data row0 col4\" >0.6142</td>\n",
       "      <td id=\"T_2041b_row0_col5\" class=\"data row0 col5\" >0.7183</td>\n",
       "      <td id=\"T_2041b_row0_col6\" class=\"data row0 col6\" >0.1246</td>\n",
       "      <td id=\"T_2041b_row0_col7\" class=\"data row0 col7\" >0.1466</td>\n",
       "    </tr>\n",
       "  </tbody>\n",
       "</table>\n"
      ],
      "text/plain": [
       "<pandas.io.formats.style.Styler at 0x7f52f818d990>"
      ]
     },
     "metadata": {},
     "output_type": "display_data"
    },
    {
     "data": {
      "text/html": [
       "<style type=\"text/css\">\n",
       "</style>\n",
       "<table id=\"T_50577\">\n",
       "  <thead>\n",
       "    <tr>\n",
       "      <th class=\"blank level0\" >&nbsp;</th>\n",
       "      <th id=\"T_50577_level0_col0\" class=\"col_heading level0 col0\" >Model</th>\n",
       "      <th id=\"T_50577_level0_col1\" class=\"col_heading level0 col1\" >Accuracy</th>\n",
       "      <th id=\"T_50577_level0_col2\" class=\"col_heading level0 col2\" >AUC</th>\n",
       "      <th id=\"T_50577_level0_col3\" class=\"col_heading level0 col3\" >Recall</th>\n",
       "      <th id=\"T_50577_level0_col4\" class=\"col_heading level0 col4\" >Prec.</th>\n",
       "      <th id=\"T_50577_level0_col5\" class=\"col_heading level0 col5\" >F1</th>\n",
       "      <th id=\"T_50577_level0_col6\" class=\"col_heading level0 col6\" >Kappa</th>\n",
       "      <th id=\"T_50577_level0_col7\" class=\"col_heading level0 col7\" >MCC</th>\n",
       "    </tr>\n",
       "  </thead>\n",
       "  <tbody>\n",
       "    <tr>\n",
       "      <th id=\"T_50577_level0_row0\" class=\"row_heading level0 row0\" >0</th>\n",
       "      <td id=\"T_50577_row0_col0\" class=\"data row0 col0\" >Random Forest Classifier</td>\n",
       "      <td id=\"T_50577_row0_col1\" class=\"data row0 col1\" >0.6009</td>\n",
       "      <td id=\"T_50577_row0_col2\" class=\"data row0 col2\" >0.6019</td>\n",
       "      <td id=\"T_50577_row0_col3\" class=\"data row0 col3\" >0.8455</td>\n",
       "      <td id=\"T_50577_row0_col4\" class=\"data row0 col4\" >0.6130</td>\n",
       "      <td id=\"T_50577_row0_col5\" class=\"data row0 col5\" >0.7107</td>\n",
       "      <td id=\"T_50577_row0_col6\" class=\"data row0 col6\" >0.1171</td>\n",
       "      <td id=\"T_50577_row0_col7\" class=\"data row0 col7\" >0.1340</td>\n",
       "    </tr>\n",
       "  </tbody>\n",
       "</table>\n"
      ],
      "text/plain": [
       "<pandas.io.formats.style.Styler at 0x7f52f818cdc0>"
      ]
     },
     "metadata": {},
     "output_type": "display_data"
    }
   ],
   "source": [
    "test_prediction_ada, test_prediction_gbc, test_prediction_lightgbm, test_prediction_rf = model.common.batch_predict_and_odds(test_data, [regression_model_ada, regression_model_gbc, regression_model_lightgbm, regression_model_rf])"
   ]
  },
  {
   "cell_type": "code",
   "execution_count": 11,
   "metadata": {
    "execution": {
     "iopub.execute_input": "2023-07-08T04:30:08.286770Z",
     "iopub.status.busy": "2023-07-08T04:30:08.286578Z",
     "iopub.status.idle": "2023-07-08T04:30:08.328880Z",
     "shell.execute_reply": "2023-07-08T04:30:08.328321Z",
     "shell.execute_reply.started": "2023-07-08T04:30:08.286753Z"
    }
   },
   "outputs": [
    {
     "data": {
      "text/html": [
       "<table>\n",
       "<tbody>\n",
       "<tr><td>model   </td><td>0.6        </td><td>0.7       </td><td>0.75      </td><td>0.8       </td><td>0.85    </td></tr>\n",
       "<tr><td>ada     </td><td>(0, nan)   </td><td>(0, nan)  </td><td>(0, nan)  </td><td>(0, nan)  </td><td>(0, nan)</td></tr>\n",
       "<tr><td>gbc     </td><td>(188, 0.65)</td><td>(70, 0.73)</td><td>(29, 0.83)</td><td>(7, 0.86) </td><td>(0, nan)</td></tr>\n",
       "<tr><td>lightgbm</td><td>(174, 0.64)</td><td>(82, 0.77)</td><td>(40, 0.82)</td><td>(13, 0.85)</td><td>(2, 1.0)</td></tr>\n",
       "<tr><td>rf      </td><td>(180, 0.63)</td><td>(60, 0.73)</td><td>(24, 0.75)</td><td>(10, 0.8) </td><td>(2, 0.5)</td></tr>\n",
       "</tbody>\n",
       "</table>"
      ],
      "text/plain": [
       "'<table>\\n<tbody>\\n<tr><td>model   </td><td>0.6        </td><td>0.7       </td><td>0.75      </td><td>0.8       </td><td>0.85    </td></tr>\\n<tr><td>ada     </td><td>(0, nan)   </td><td>(0, nan)  </td><td>(0, nan)  </td><td>(0, nan)  </td><td>(0, nan)</td></tr>\\n<tr><td>gbc     </td><td>(188, 0.65)</td><td>(70, 0.73)</td><td>(29, 0.83)</td><td>(7, 0.86) </td><td>(0, nan)</td></tr>\\n<tr><td>lightgbm</td><td>(174, 0.64)</td><td>(82, 0.77)</td><td>(40, 0.82)</td><td>(13, 0.85)</td><td>(2, 1.0)</td></tr>\\n<tr><td>rf      </td><td>(180, 0.63)</td><td>(60, 0.73)</td><td>(24, 0.75)</td><td>(10, 0.8) </td><td>(2, 0.5)</td></tr>\\n</tbody>\\n</table>'"
      ]
     },
     "execution_count": 11,
     "metadata": {},
     "output_type": "execute_result"
    }
   ],
   "source": [
    "model.common.evaluate_predictions([(test_prediction_ada, \"ada\"), (test_prediction_gbc, \"gbc\"), (test_prediction_lightgbm, \"lightgbm\"), (test_prediction_rf, \"rf\")], [0.6, 0.7, 0.75, 0.8, 0.85], target_column)"
   ]
  },
  {
   "cell_type": "markdown",
   "metadata": {
    "id": "sOfz0zBX994h"
   },
   "source": [
    "**Finalize Model**"
   ]
  },
  {
   "cell_type": "code",
   "execution_count": 12,
   "metadata": {
    "colab": {
     "base_uri": "https://localhost:8080/",
     "height": 34
    },
    "execution": {
     "iopub.execute_input": "2023-07-08T04:30:08.329617Z",
     "iopub.status.busy": "2023-07-08T04:30:08.329468Z",
     "iopub.status.idle": "2023-07-08T04:31:46.075837Z",
     "shell.execute_reply": "2023-07-08T04:31:46.075184Z",
     "shell.execute_reply.started": "2023-07-08T04:30:08.329604Z"
    },
    "id": "gutfxdh8-DKy",
    "outputId": "2e862724-33f5-45f0-ed52-aade46f98c7d"
   },
   "outputs": [],
   "source": [
    "# train over the whole dataset without validation split\n",
    "regression_model_finalized_ada = pycaret.classification.finalize_model(regression_model_ada)\n",
    "regression_model_finalized_gbc = pycaret.classification.finalize_model(regression_model_gbc)\n",
    "regression_model_finalized_lightgbm = pycaret.classification.finalize_model(regression_model_lightgbm)\n",
    "regression_model_finalized_rf = pycaret.classification.finalize_model(regression_model_rf)"
   ]
  },
  {
   "cell_type": "code",
   "execution_count": 13,
   "metadata": {
    "execution": {
     "iopub.execute_input": "2023-07-08T04:31:46.076604Z",
     "iopub.status.busy": "2023-07-08T04:31:46.076451Z",
     "iopub.status.idle": "2023-07-08T04:31:47.265070Z",
     "shell.execute_reply": "2023-07-08T04:31:47.264254Z",
     "shell.execute_reply.started": "2023-07-08T04:31:46.076588Z"
    }
   },
   "outputs": [
    {
     "data": {
      "text/html": [
       "<style type=\"text/css\">\n",
       "</style>\n",
       "<table id=\"T_e2783\">\n",
       "  <thead>\n",
       "    <tr>\n",
       "      <th class=\"blank level0\" >&nbsp;</th>\n",
       "      <th id=\"T_e2783_level0_col0\" class=\"col_heading level0 col0\" >Model</th>\n",
       "      <th id=\"T_e2783_level0_col1\" class=\"col_heading level0 col1\" >Accuracy</th>\n",
       "      <th id=\"T_e2783_level0_col2\" class=\"col_heading level0 col2\" >AUC</th>\n",
       "      <th id=\"T_e2783_level0_col3\" class=\"col_heading level0 col3\" >Recall</th>\n",
       "      <th id=\"T_e2783_level0_col4\" class=\"col_heading level0 col4\" >Prec.</th>\n",
       "      <th id=\"T_e2783_level0_col5\" class=\"col_heading level0 col5\" >F1</th>\n",
       "      <th id=\"T_e2783_level0_col6\" class=\"col_heading level0 col6\" >Kappa</th>\n",
       "      <th id=\"T_e2783_level0_col7\" class=\"col_heading level0 col7\" >MCC</th>\n",
       "    </tr>\n",
       "  </thead>\n",
       "  <tbody>\n",
       "    <tr>\n",
       "      <th id=\"T_e2783_level0_row0\" class=\"row_heading level0 row0\" >0</th>\n",
       "      <td id=\"T_e2783_row0_col0\" class=\"data row0 col0\" >Ada Boost Classifier</td>\n",
       "      <td id=\"T_e2783_row0_col1\" class=\"data row0 col1\" >0.6025</td>\n",
       "      <td id=\"T_e2783_row0_col2\" class=\"data row0 col2\" >0.6161</td>\n",
       "      <td id=\"T_e2783_row0_col3\" class=\"data row0 col3\" >0.8709</td>\n",
       "      <td id=\"T_e2783_row0_col4\" class=\"data row0 col4\" >0.6102</td>\n",
       "      <td id=\"T_e2783_row0_col5\" class=\"data row0 col5\" >0.7176</td>\n",
       "      <td id=\"T_e2783_row0_col6\" class=\"data row0 col6\" >0.1119</td>\n",
       "      <td id=\"T_e2783_row0_col7\" class=\"data row0 col7\" >0.1344</td>\n",
       "    </tr>\n",
       "  </tbody>\n",
       "</table>\n"
      ],
      "text/plain": [
       "<pandas.io.formats.style.Styler at 0x7f52f80a61a0>"
      ]
     },
     "metadata": {},
     "output_type": "display_data"
    },
    {
     "data": {
      "text/html": [
       "<style type=\"text/css\">\n",
       "</style>\n",
       "<table id=\"T_c528a\">\n",
       "  <thead>\n",
       "    <tr>\n",
       "      <th class=\"blank level0\" >&nbsp;</th>\n",
       "      <th id=\"T_c528a_level0_col0\" class=\"col_heading level0 col0\" >Model</th>\n",
       "      <th id=\"T_c528a_level0_col1\" class=\"col_heading level0 col1\" >Accuracy</th>\n",
       "      <th id=\"T_c528a_level0_col2\" class=\"col_heading level0 col2\" >AUC</th>\n",
       "      <th id=\"T_c528a_level0_col3\" class=\"col_heading level0 col3\" >Recall</th>\n",
       "      <th id=\"T_c528a_level0_col4\" class=\"col_heading level0 col4\" >Prec.</th>\n",
       "      <th id=\"T_c528a_level0_col5\" class=\"col_heading level0 col5\" >F1</th>\n",
       "      <th id=\"T_c528a_level0_col6\" class=\"col_heading level0 col6\" >Kappa</th>\n",
       "      <th id=\"T_c528a_level0_col7\" class=\"col_heading level0 col7\" >MCC</th>\n",
       "    </tr>\n",
       "  </thead>\n",
       "  <tbody>\n",
       "    <tr>\n",
       "      <th id=\"T_c528a_level0_row0\" class=\"row_heading level0 row0\" >0</th>\n",
       "      <td id=\"T_c528a_row0_col0\" class=\"data row0 col0\" >Gradient Boosting Classifier</td>\n",
       "      <td id=\"T_c528a_row0_col1\" class=\"data row0 col1\" >0.6055</td>\n",
       "      <td id=\"T_c528a_row0_col2\" class=\"data row0 col2\" >0.6185</td>\n",
       "      <td id=\"T_c528a_row0_col3\" class=\"data row0 col3\" >0.8770</td>\n",
       "      <td id=\"T_c528a_row0_col4\" class=\"data row0 col4\" >0.6115</td>\n",
       "      <td id=\"T_c528a_row0_col5\" class=\"data row0 col5\" >0.7206</td>\n",
       "      <td id=\"T_c528a_row0_col6\" class=\"data row0 col6\" >0.1175</td>\n",
       "      <td id=\"T_c528a_row0_col7\" class=\"data row0 col7\" >0.1422</td>\n",
       "    </tr>\n",
       "  </tbody>\n",
       "</table>\n"
      ],
      "text/plain": [
       "<pandas.io.formats.style.Styler at 0x7f52f80a4fa0>"
      ]
     },
     "metadata": {},
     "output_type": "display_data"
    },
    {
     "data": {
      "text/html": [
       "<style type=\"text/css\">\n",
       "</style>\n",
       "<table id=\"T_7199a\">\n",
       "  <thead>\n",
       "    <tr>\n",
       "      <th class=\"blank level0\" >&nbsp;</th>\n",
       "      <th id=\"T_7199a_level0_col0\" class=\"col_heading level0 col0\" >Model</th>\n",
       "      <th id=\"T_7199a_level0_col1\" class=\"col_heading level0 col1\" >Accuracy</th>\n",
       "      <th id=\"T_7199a_level0_col2\" class=\"col_heading level0 col2\" >AUC</th>\n",
       "      <th id=\"T_7199a_level0_col3\" class=\"col_heading level0 col3\" >Recall</th>\n",
       "      <th id=\"T_7199a_level0_col4\" class=\"col_heading level0 col4\" >Prec.</th>\n",
       "      <th id=\"T_7199a_level0_col5\" class=\"col_heading level0 col5\" >F1</th>\n",
       "      <th id=\"T_7199a_level0_col6\" class=\"col_heading level0 col6\" >Kappa</th>\n",
       "      <th id=\"T_7199a_level0_col7\" class=\"col_heading level0 col7\" >MCC</th>\n",
       "    </tr>\n",
       "  </thead>\n",
       "  <tbody>\n",
       "    <tr>\n",
       "      <th id=\"T_7199a_level0_row0\" class=\"row_heading level0 row0\" >0</th>\n",
       "      <td id=\"T_7199a_row0_col0\" class=\"data row0 col0\" >Light Gradient Boosting Machine</td>\n",
       "      <td id=\"T_7199a_row0_col1\" class=\"data row0 col1\" >0.6054</td>\n",
       "      <td id=\"T_7199a_row0_col2\" class=\"data row0 col2\" >0.6165</td>\n",
       "      <td id=\"T_7199a_row0_col3\" class=\"data row0 col3\" >0.8669</td>\n",
       "      <td id=\"T_7199a_row0_col4\" class=\"data row0 col4\" >0.6130</td>\n",
       "      <td id=\"T_7199a_row0_col5\" class=\"data row0 col5\" >0.7181</td>\n",
       "      <td id=\"T_7199a_row0_col6\" class=\"data row0 col6\" >0.1207</td>\n",
       "      <td id=\"T_7199a_row0_col7\" class=\"data row0 col7\" >0.1429</td>\n",
       "    </tr>\n",
       "  </tbody>\n",
       "</table>\n"
      ],
      "text/plain": [
       "<pandas.io.formats.style.Styler at 0x7f52f8106560>"
      ]
     },
     "metadata": {},
     "output_type": "display_data"
    },
    {
     "data": {
      "text/html": [
       "<style type=\"text/css\">\n",
       "</style>\n",
       "<table id=\"T_576b3\">\n",
       "  <thead>\n",
       "    <tr>\n",
       "      <th class=\"blank level0\" >&nbsp;</th>\n",
       "      <th id=\"T_576b3_level0_col0\" class=\"col_heading level0 col0\" >Model</th>\n",
       "      <th id=\"T_576b3_level0_col1\" class=\"col_heading level0 col1\" >Accuracy</th>\n",
       "      <th id=\"T_576b3_level0_col2\" class=\"col_heading level0 col2\" >AUC</th>\n",
       "      <th id=\"T_576b3_level0_col3\" class=\"col_heading level0 col3\" >Recall</th>\n",
       "      <th id=\"T_576b3_level0_col4\" class=\"col_heading level0 col4\" >Prec.</th>\n",
       "      <th id=\"T_576b3_level0_col5\" class=\"col_heading level0 col5\" >F1</th>\n",
       "      <th id=\"T_576b3_level0_col6\" class=\"col_heading level0 col6\" >Kappa</th>\n",
       "      <th id=\"T_576b3_level0_col7\" class=\"col_heading level0 col7\" >MCC</th>\n",
       "    </tr>\n",
       "  </thead>\n",
       "  <tbody>\n",
       "    <tr>\n",
       "      <th id=\"T_576b3_level0_row0\" class=\"row_heading level0 row0\" >0</th>\n",
       "      <td id=\"T_576b3_row0_col0\" class=\"data row0 col0\" >Random Forest Classifier</td>\n",
       "      <td id=\"T_576b3_row0_col1\" class=\"data row0 col1\" >0.6002</td>\n",
       "      <td id=\"T_576b3_row0_col2\" class=\"data row0 col2\" >0.5987</td>\n",
       "      <td id=\"T_576b3_row0_col3\" class=\"data row0 col3\" >0.8466</td>\n",
       "      <td id=\"T_576b3_row0_col4\" class=\"data row0 col4\" >0.6124</td>\n",
       "      <td id=\"T_576b3_row0_col5\" class=\"data row0 col5\" >0.7107</td>\n",
       "      <td id=\"T_576b3_row0_col6\" class=\"data row0 col6\" >0.1151</td>\n",
       "      <td id=\"T_576b3_row0_col7\" class=\"data row0 col7\" >0.1321</td>\n",
       "    </tr>\n",
       "  </tbody>\n",
       "</table>\n"
      ],
      "text/plain": [
       "<pandas.io.formats.style.Styler at 0x7f52f8105d20>"
      ]
     },
     "metadata": {},
     "output_type": "display_data"
    }
   ],
   "source": [
    "test_finalized_prediction_ada, test_finalized_prediction_gbc, test_finalized_prediction_lightgbm, test_finalized_prediction_rf = model.common.batch_predict_and_odds(\n",
    "    test_data, \n",
    "    [regression_model_finalized_ada, regression_model_finalized_gbc, regression_model_finalized_lightgbm, regression_model_finalized_rf])"
   ]
  },
  {
   "cell_type": "code",
   "execution_count": 14,
   "metadata": {
    "execution": {
     "iopub.execute_input": "2023-07-08T04:31:47.267363Z",
     "iopub.status.busy": "2023-07-08T04:31:47.267116Z",
     "iopub.status.idle": "2023-07-08T04:31:47.316474Z",
     "shell.execute_reply": "2023-07-08T04:31:47.315861Z",
     "shell.execute_reply.started": "2023-07-08T04:31:47.267342Z"
    }
   },
   "outputs": [
    {
     "data": {
      "text/html": [
       "<table>\n",
       "<tbody>\n",
       "<tr><td>model   </td><td>0.6        </td><td>0.7       </td><td>0.75      </td><td>0.8      </td><td>0.85    </td></tr>\n",
       "<tr><td>ada     </td><td>(0, nan)   </td><td>(0, nan)  </td><td>(0, nan)  </td><td>(0, nan) </td><td>(0, nan)</td></tr>\n",
       "<tr><td>gbc     </td><td>(185, 0.66)</td><td>(61, 0.74)</td><td>(27, 0.89)</td><td>(6, 0.83)</td><td>(0, nan)</td></tr>\n",
       "<tr><td>lightgbm</td><td>(179, 0.66)</td><td>(70, 0.76)</td><td>(34, 0.88)</td><td>(9, 0.89)</td><td>(2, 1.0)</td></tr>\n",
       "<tr><td>rf      </td><td>(167, 0.69)</td><td>(52, 0.81)</td><td>(20, 0.75)</td><td>(7, 0.86)</td><td>(2, 0.5)</td></tr>\n",
       "</tbody>\n",
       "</table>"
      ],
      "text/plain": [
       "'<table>\\n<tbody>\\n<tr><td>model   </td><td>0.6        </td><td>0.7       </td><td>0.75      </td><td>0.8      </td><td>0.85    </td></tr>\\n<tr><td>ada     </td><td>(0, nan)   </td><td>(0, nan)  </td><td>(0, nan)  </td><td>(0, nan) </td><td>(0, nan)</td></tr>\\n<tr><td>gbc     </td><td>(185, 0.66)</td><td>(61, 0.74)</td><td>(27, 0.89)</td><td>(6, 0.83)</td><td>(0, nan)</td></tr>\\n<tr><td>lightgbm</td><td>(179, 0.66)</td><td>(70, 0.76)</td><td>(34, 0.88)</td><td>(9, 0.89)</td><td>(2, 1.0)</td></tr>\\n<tr><td>rf      </td><td>(167, 0.69)</td><td>(52, 0.81)</td><td>(20, 0.75)</td><td>(7, 0.86)</td><td>(2, 0.5)</td></tr>\\n</tbody>\\n</table>'"
      ]
     },
     "execution_count": 14,
     "metadata": {},
     "output_type": "execute_result"
    }
   ],
   "source": [
    "model.common.evaluate_predictions([(test_finalized_prediction_ada, \"ada\"), (test_finalized_prediction_gbc, \"gbc\"), (test_finalized_prediction_lightgbm, \"lightgbm\"), (test_finalized_prediction_rf, \"rf\")], [0.6, 0.7, 0.75, 0.8, 0.85], target_column)"
   ]
  },
  {
   "cell_type": "markdown",
   "metadata": {},
   "source": [
    "**Save Model**"
   ]
  },
  {
   "cell_type": "code",
   "execution_count": 15,
   "metadata": {
    "execution": {
     "iopub.execute_input": "2023-07-08T04:31:47.317581Z",
     "iopub.status.busy": "2023-07-08T04:31:47.317330Z",
     "iopub.status.idle": "2023-07-08T04:31:47.424124Z",
     "shell.execute_reply": "2023-07-08T04:31:47.423530Z",
     "shell.execute_reply.started": "2023-07-08T04:31:47.317558Z"
    }
   },
   "outputs": [
    {
     "name": "stdout",
     "output_type": "stream",
     "text": [
      "Transformation Pipeline and Model Successfully Saved\n"
     ]
    },
    {
     "data": {
      "text/plain": [
       "(Pipeline(memory=FastMemory(location=/tmp/joblib),\n",
       "          steps=[('numerical_imputer',\n",
       "                  TransformerWrapper(exclude=None,\n",
       "                                     include=['pitching_gamesPlayed',\n",
       "                                              'pitching_runs_per_game',\n",
       "                                              'pitching_strikeOuts_per_game',\n",
       "                                              'pitching_hits_per_game',\n",
       "                                              'batting_gamesPlayed',\n",
       "                                              'batting_runs_per_game',\n",
       "                                              'batting_strikeOuts_per_game',\n",
       "                                              'batting_hits_per_game',\n",
       "                                              'batting_rbi',\n",
       "                                              'pitching_cur_...\n",
       "                                                       colsample_bytree=1.0,\n",
       "                                                       importance_type='split',\n",
       "                                                       learning_rate=0.1,\n",
       "                                                       max_depth=-1,\n",
       "                                                       min_child_samples=20,\n",
       "                                                       min_child_weight=0.001,\n",
       "                                                       min_split_gain=0.0,\n",
       "                                                       n_estimators=100,\n",
       "                                                       n_jobs=-1, num_leaves=31,\n",
       "                                                       objective=None,\n",
       "                                                       probability_threshold=0.5,\n",
       "                                                       random_state=5239,\n",
       "                                                       reg_alpha=0.0,\n",
       "                                                       reg_lambda=0.0,\n",
       "                                                       silent='warn',\n",
       "                                                       subsample=1.0,\n",
       "                                                       subsample_for_bin=200000,\n",
       "                                                       subsample_freq=0))],\n",
       "          verbose=False),\n",
       " 'model/batter_1hstrikeouts_regression_model.pkl')"
      ]
     },
     "execution_count": 15,
     "metadata": {},
     "output_type": "execute_result"
    }
   ],
   "source": [
    "pycaret.classification.save_model(regression_model_finalized_lightgbm, model_file_name)"
   ]
  }
 ],
 "metadata": {
  "colab": {
   "provenance": []
  },
  "kernelspec": {
   "display_name": "Python 3 (ipykernel)",
   "language": "python",
   "name": "python3"
  },
  "language_info": {
   "codemirror_mode": {
    "name": "ipython",
    "version": 3
   },
   "file_extension": ".py",
   "mimetype": "text/x-python",
   "name": "python",
   "nbconvert_exporter": "python",
   "pygments_lexer": "ipython3",
   "version": "3.10.6"
  },
  "widgets": {
   "application/vnd.jupyter.widget-state+json": {
    "1ac32fe9102d4f5a9d1511e64a1d5e5d": {
     "model_module": "@jupyter-widgets/base",
     "model_module_version": "1.2.0",
     "model_name": "LayoutModel",
     "state": {
      "_model_module": "@jupyter-widgets/base",
      "_model_module_version": "1.2.0",
      "_model_name": "LayoutModel",
      "_view_count": null,
      "_view_module": "@jupyter-widgets/base",
      "_view_module_version": "1.2.0",
      "_view_name": "LayoutView",
      "align_content": null,
      "align_items": null,
      "align_self": null,
      "border": null,
      "bottom": null,
      "display": null,
      "flex": null,
      "flex_flow": null,
      "grid_area": null,
      "grid_auto_columns": null,
      "grid_auto_flow": null,
      "grid_auto_rows": null,
      "grid_column": null,
      "grid_gap": null,
      "grid_row": null,
      "grid_template_areas": null,
      "grid_template_columns": null,
      "grid_template_rows": null,
      "height": null,
      "justify_content": null,
      "justify_items": null,
      "left": null,
      "margin": null,
      "max_height": null,
      "max_width": null,
      "min_height": null,
      "min_width": null,
      "object_fit": null,
      "object_position": null,
      "order": null,
      "overflow": null,
      "overflow_x": null,
      "overflow_y": null,
      "padding": null,
      "right": null,
      "top": null,
      "visibility": null,
      "width": null
     }
    },
    "40b50c57e470496cb6c94a0693636fd7": {
     "model_module": "@jupyter-widgets/base",
     "model_module_version": "1.2.0",
     "model_name": "LayoutModel",
     "state": {
      "_model_module": "@jupyter-widgets/base",
      "_model_module_version": "1.2.0",
      "_model_name": "LayoutModel",
      "_view_count": null,
      "_view_module": "@jupyter-widgets/base",
      "_view_module_version": "1.2.0",
      "_view_name": "LayoutView",
      "align_content": null,
      "align_items": null,
      "align_self": null,
      "border": null,
      "bottom": null,
      "display": null,
      "flex": null,
      "flex_flow": null,
      "grid_area": null,
      "grid_auto_columns": null,
      "grid_auto_flow": null,
      "grid_auto_rows": null,
      "grid_column": null,
      "grid_gap": null,
      "grid_row": null,
      "grid_template_areas": null,
      "grid_template_columns": null,
      "grid_template_rows": null,
      "height": null,
      "justify_content": null,
      "justify_items": null,
      "left": null,
      "margin": null,
      "max_height": null,
      "max_width": null,
      "min_height": null,
      "min_width": null,
      "object_fit": null,
      "object_position": null,
      "order": null,
      "overflow": null,
      "overflow_x": null,
      "overflow_y": null,
      "padding": null,
      "right": null,
      "top": null,
      "visibility": "hidden",
      "width": null
     }
    },
    "46b9d3b6cd6e4f76a42dd4f216dc1644": {
     "model_module": "@jupyter-widgets/controls",
     "model_module_version": "1.5.0",
     "model_name": "HBoxModel",
     "state": {
      "_dom_classes": [],
      "_model_module": "@jupyter-widgets/controls",
      "_model_module_version": "1.5.0",
      "_model_name": "HBoxModel",
      "_view_count": null,
      "_view_module": "@jupyter-widgets/controls",
      "_view_module_version": "1.5.0",
      "_view_name": "HBoxView",
      "box_style": "",
      "children": [
       "IPY_MODEL_cfce22755aa7471a87151793e633def1",
       "IPY_MODEL_94d7b3dc65544425b2463933c4108fa4",
       "IPY_MODEL_f92582f04a594f87a669f3c1c4d4eabc"
      ],
      "layout": "IPY_MODEL_40b50c57e470496cb6c94a0693636fd7"
     }
    },
    "4efa6d0ab419418ea9e4991c77b1ec42": {
     "model_module": "@jupyter-widgets/controls",
     "model_module_version": "1.5.0",
     "model_name": "ProgressStyleModel",
     "state": {
      "_model_module": "@jupyter-widgets/controls",
      "_model_module_version": "1.5.0",
      "_model_name": "ProgressStyleModel",
      "_view_count": null,
      "_view_module": "@jupyter-widgets/base",
      "_view_module_version": "1.2.0",
      "_view_name": "StyleView",
      "bar_color": null,
      "description_width": ""
     }
    },
    "81feddb738c64cbc8b7dbc7aec2730de": {
     "model_module": "@jupyter-widgets/controls",
     "model_module_version": "1.5.0",
     "model_name": "DescriptionStyleModel",
     "state": {
      "_model_module": "@jupyter-widgets/controls",
      "_model_module_version": "1.5.0",
      "_model_name": "DescriptionStyleModel",
      "_view_count": null,
      "_view_module": "@jupyter-widgets/base",
      "_view_module_version": "1.2.0",
      "_view_name": "StyleView",
      "description_width": ""
     }
    },
    "94d7b3dc65544425b2463933c4108fa4": {
     "model_module": "@jupyter-widgets/controls",
     "model_module_version": "1.5.0",
     "model_name": "FloatProgressModel",
     "state": {
      "_dom_classes": [],
      "_model_module": "@jupyter-widgets/controls",
      "_model_module_version": "1.5.0",
      "_model_name": "FloatProgressModel",
      "_view_count": null,
      "_view_module": "@jupyter-widgets/controls",
      "_view_module_version": "1.5.0",
      "_view_name": "ProgressView",
      "bar_style": "",
      "description": "",
      "description_tooltip": null,
      "layout": "IPY_MODEL_eb74dfbcca4a458eb81d87fbae5bf166",
      "max": 4,
      "min": 0,
      "orientation": "horizontal",
      "style": "IPY_MODEL_4efa6d0ab419418ea9e4991c77b1ec42",
      "value": 4
     }
    },
    "bec03081ad154466a3a0abca5a8462f4": {
     "model_module": "@jupyter-widgets/base",
     "model_module_version": "1.2.0",
     "model_name": "LayoutModel",
     "state": {
      "_model_module": "@jupyter-widgets/base",
      "_model_module_version": "1.2.0",
      "_model_name": "LayoutModel",
      "_view_count": null,
      "_view_module": "@jupyter-widgets/base",
      "_view_module_version": "1.2.0",
      "_view_name": "LayoutView",
      "align_content": null,
      "align_items": null,
      "align_self": null,
      "border": null,
      "bottom": null,
      "display": null,
      "flex": null,
      "flex_flow": null,
      "grid_area": null,
      "grid_auto_columns": null,
      "grid_auto_flow": null,
      "grid_auto_rows": null,
      "grid_column": null,
      "grid_gap": null,
      "grid_row": null,
      "grid_template_areas": null,
      "grid_template_columns": null,
      "grid_template_rows": null,
      "height": null,
      "justify_content": null,
      "justify_items": null,
      "left": null,
      "margin": null,
      "max_height": null,
      "max_width": null,
      "min_height": null,
      "min_width": null,
      "object_fit": null,
      "object_position": null,
      "order": null,
      "overflow": null,
      "overflow_x": null,
      "overflow_y": null,
      "padding": null,
      "right": null,
      "top": null,
      "visibility": null,
      "width": null
     }
    },
    "cfcd697393754f1d93106a2d6e07ea05": {
     "model_module": "@jupyter-widgets/controls",
     "model_module_version": "1.5.0",
     "model_name": "DescriptionStyleModel",
     "state": {
      "_model_module": "@jupyter-widgets/controls",
      "_model_module_version": "1.5.0",
      "_model_name": "DescriptionStyleModel",
      "_view_count": null,
      "_view_module": "@jupyter-widgets/base",
      "_view_module_version": "1.2.0",
      "_view_name": "StyleView",
      "description_width": ""
     }
    },
    "cfce22755aa7471a87151793e633def1": {
     "model_module": "@jupyter-widgets/controls",
     "model_module_version": "1.5.0",
     "model_name": "HTMLModel",
     "state": {
      "_dom_classes": [],
      "_model_module": "@jupyter-widgets/controls",
      "_model_module_version": "1.5.0",
      "_model_name": "HTMLModel",
      "_view_count": null,
      "_view_module": "@jupyter-widgets/controls",
      "_view_module_version": "1.5.0",
      "_view_name": "HTMLView",
      "description": "",
      "description_tooltip": null,
      "layout": "IPY_MODEL_bec03081ad154466a3a0abca5a8462f4",
      "placeholder": "​",
      "style": "IPY_MODEL_81feddb738c64cbc8b7dbc7aec2730de",
      "value": "Processing: 100%"
     }
    },
    "eb74dfbcca4a458eb81d87fbae5bf166": {
     "model_module": "@jupyter-widgets/base",
     "model_module_version": "1.2.0",
     "model_name": "LayoutModel",
     "state": {
      "_model_module": "@jupyter-widgets/base",
      "_model_module_version": "1.2.0",
      "_model_name": "LayoutModel",
      "_view_count": null,
      "_view_module": "@jupyter-widgets/base",
      "_view_module_version": "1.2.0",
      "_view_name": "LayoutView",
      "align_content": null,
      "align_items": null,
      "align_self": null,
      "border": null,
      "bottom": null,
      "display": null,
      "flex": null,
      "flex_flow": null,
      "grid_area": null,
      "grid_auto_columns": null,
      "grid_auto_flow": null,
      "grid_auto_rows": null,
      "grid_column": null,
      "grid_gap": null,
      "grid_row": null,
      "grid_template_areas": null,
      "grid_template_columns": null,
      "grid_template_rows": null,
      "height": null,
      "justify_content": null,
      "justify_items": null,
      "left": null,
      "margin": null,
      "max_height": null,
      "max_width": null,
      "min_height": null,
      "min_width": null,
      "object_fit": null,
      "object_position": null,
      "order": null,
      "overflow": null,
      "overflow_x": null,
      "overflow_y": null,
      "padding": null,
      "right": null,
      "top": null,
      "visibility": null,
      "width": null
     }
    },
    "f92582f04a594f87a669f3c1c4d4eabc": {
     "model_module": "@jupyter-widgets/controls",
     "model_module_version": "1.5.0",
     "model_name": "HTMLModel",
     "state": {
      "_dom_classes": [],
      "_model_module": "@jupyter-widgets/controls",
      "_model_module_version": "1.5.0",
      "_model_name": "HTMLModel",
      "_view_count": null,
      "_view_module": "@jupyter-widgets/controls",
      "_view_module_version": "1.5.0",
      "_view_name": "HTMLView",
      "description": "",
      "description_tooltip": null,
      "layout": "IPY_MODEL_1ac32fe9102d4f5a9d1511e64a1d5e5d",
      "placeholder": "​",
      "style": "IPY_MODEL_cfcd697393754f1d93106a2d6e07ea05",
      "value": " 4/4 [00:10&lt;00:00,  2.34s/it]"
     }
    }
   }
  }
 },
 "nbformat": 4,
 "nbformat_minor": 4
}
