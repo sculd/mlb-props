{
 "cells": [
  {
   "cell_type": "markdown",
   "metadata": {
    "id": "X1V_SUC4p-YQ"
   },
   "source": [
    "**Import Packages**"
   ]
  },
  {
   "cell_type": "code",
   "execution_count": 9,
   "metadata": {
    "colab": {
     "base_uri": "https://localhost:8080/"
    },
    "execution": {
     "iopub.execute_input": "2023-07-03T22:35:31.531887Z",
     "iopub.status.busy": "2023-07-03T22:35:31.531677Z",
     "iopub.status.idle": "2023-07-03T22:35:31.535718Z",
     "shell.execute_reply": "2023-07-03T22:35:31.535197Z",
     "shell.execute_reply.started": "2023-07-03T22:35:31.531874Z"
    },
    "id": "IGZCa25_p5QY",
    "outputId": "d9e7f9d8-21e8-49dd-d344-173324ba79a5",
    "tags": []
   },
   "outputs": [],
   "source": [
    "import pycaret\n",
    "import pandas as pd\n",
    "import numpy as np\n",
    "import sqlalchemy\n",
    "import mysql.connector\n",
    "\n",
    "from pycaret import classification\n",
    "from pycaret.classification import plot_model\n",
    "from datetime import datetime\n",
    "import importlib\n",
    "import model.common"
   ]
  },
  {
   "cell_type": "code",
   "execution_count": 10,
   "metadata": {
    "execution": {
     "iopub.execute_input": "2023-07-03T22:35:31.536735Z",
     "iopub.status.busy": "2023-07-03T22:35:31.536537Z",
     "iopub.status.idle": "2023-07-03T22:35:31.554575Z",
     "shell.execute_reply": "2023-07-03T22:35:31.553322Z",
     "shell.execute_reply.started": "2023-07-03T22:35:31.536722Z"
    }
   },
   "outputs": [],
   "source": [
    "from static_data.load_static_data import *"
   ]
  },
  {
   "cell_type": "markdown",
   "metadata": {
    "id": "jqde2RQfqchC"
   },
   "source": [
    "**Load Data**"
   ]
  },
  {
   "cell_type": "code",
   "execution_count": 11,
   "metadata": {
    "execution": {
     "iopub.execute_input": "2023-07-03T22:35:31.555992Z",
     "iopub.status.busy": "2023-07-03T22:35:31.555680Z",
     "iopub.status.idle": "2023-07-03T22:35:32.126521Z",
     "shell.execute_reply": "2023-07-03T22:35:32.124797Z",
     "shell.execute_reply.started": "2023-07-03T22:35:31.555967Z"
    }
   },
   "outputs": [
    {
     "name": "stdout",
     "output_type": "stream",
     "text": [
      "325647\n"
     ]
    }
   ],
   "source": [
    "collect_data_Base_dir = 'collect_data'\n",
    "df_game_matchup_total = pd.read_pickle(f'{collect_data_Base_dir}/df_game_matchup_total.pkl')\n",
    "print(len(df_game_matchup_total))"
   ]
  },
  {
   "cell_type": "markdown",
   "metadata": {
    "id": "VkSM5TOeule8"
   },
   "source": [
    "**Choose Columns**"
   ]
  },
  {
   "cell_type": "code",
   "execution_count": 12,
   "metadata": {
    "execution": {
     "iopub.execute_input": "2023-07-03T22:35:32.128023Z",
     "iopub.status.busy": "2023-07-03T22:35:32.127691Z",
     "iopub.status.idle": "2023-07-03T22:35:32.139275Z",
     "shell.execute_reply": "2023-07-03T22:35:32.137250Z",
     "shell.execute_reply.started": "2023-07-03T22:35:32.128002Z"
    }
   },
   "outputs": [
    {
     "data": {
      "text/plain": [
       "<module 'model.common' from '/home/junlim/projects/mlb-props/model/common.py'>"
      ]
     },
     "execution_count": 12,
     "metadata": {},
     "output_type": "execute_result"
    }
   ],
   "source": [
    "importlib.reload(model.common)"
   ]
  },
  {
   "cell_type": "code",
   "execution_count": 13,
   "metadata": {
    "execution": {
     "iopub.execute_input": "2023-07-03T22:35:32.143690Z",
     "iopub.status.busy": "2023-07-03T22:35:32.143059Z",
     "iopub.status.idle": "2023-07-03T22:35:32.154358Z",
     "shell.execute_reply": "2023-07-03T22:35:32.152881Z",
     "shell.execute_reply.started": "2023-07-03T22:35:32.143668Z"
    }
   },
   "outputs": [],
   "source": [
    "feature_columns, target_column, model_file_name = model.common.features_1hstrikeouts_recorded, model.common.target_1hstrikeouts_recorded, model.common.model_1hstrikeouts_file_name"
   ]
  },
  {
   "cell_type": "code",
   "execution_count": 14,
   "metadata": {
    "execution": {
     "iopub.execute_input": "2023-07-03T22:35:32.157310Z",
     "iopub.status.busy": "2023-07-03T22:35:32.156737Z",
     "iopub.status.idle": "2023-07-03T22:35:32.619956Z",
     "shell.execute_reply": "2023-07-03T22:35:32.618299Z",
     "shell.execute_reply.started": "2023-07-03T22:35:32.157272Z"
    }
   },
   "outputs": [],
   "source": [
    "train_data = df_game_matchup_total[(df_game_matchup_total.game_date > \"2012-04-01\") & (df_game_matchup_total.game_date < \"2022-12-01\")][feature_columns]\n",
    "test_data = df_game_matchup_total[(df_game_matchup_total.game_date > \"2022-12-01\")][feature_columns]"
   ]
  },
  {
   "cell_type": "markdown",
   "metadata": {
    "id": "Qxoqal-SvwXp"
   },
   "source": [
    "**Build/Train Model**"
   ]
  },
  {
   "cell_type": "code",
   "execution_count": 15,
   "metadata": {
    "execution": {
     "iopub.execute_input": "2023-07-03T22:35:32.621281Z",
     "iopub.status.busy": "2023-07-03T22:35:32.621024Z",
     "iopub.status.idle": "2023-07-03T22:48:46.639193Z",
     "shell.execute_reply": "2023-07-03T22:48:46.638174Z",
     "shell.execute_reply.started": "2023-07-03T22:35:32.621258Z"
    },
    "scrolled": true
   },
   "outputs": [
    {
     "data": {
      "text/html": [
       "<style type=\"text/css\">\n",
       "#T_615ab_row11_col1 {\n",
       "  background-color: lightgreen;\n",
       "}\n",
       "</style>\n",
       "<table id=\"T_615ab\">\n",
       "  <thead>\n",
       "    <tr>\n",
       "      <th class=\"blank level0\" >&nbsp;</th>\n",
       "      <th id=\"T_615ab_level0_col0\" class=\"col_heading level0 col0\" >Description</th>\n",
       "      <th id=\"T_615ab_level0_col1\" class=\"col_heading level0 col1\" >Value</th>\n",
       "    </tr>\n",
       "  </thead>\n",
       "  <tbody>\n",
       "    <tr>\n",
       "      <th id=\"T_615ab_level0_row0\" class=\"row_heading level0 row0\" >0</th>\n",
       "      <td id=\"T_615ab_row0_col0\" class=\"data row0 col0\" >Session id</td>\n",
       "      <td id=\"T_615ab_row0_col1\" class=\"data row0 col1\" >5009</td>\n",
       "    </tr>\n",
       "    <tr>\n",
       "      <th id=\"T_615ab_level0_row1\" class=\"row_heading level0 row1\" >1</th>\n",
       "      <td id=\"T_615ab_row1_col0\" class=\"data row1 col0\" >Target</td>\n",
       "      <td id=\"T_615ab_row1_col1\" class=\"data row1 col1\" >batting_1strikeOuts_recorded</td>\n",
       "    </tr>\n",
       "    <tr>\n",
       "      <th id=\"T_615ab_level0_row2\" class=\"row_heading level0 row2\" >2</th>\n",
       "      <td id=\"T_615ab_row2_col0\" class=\"data row2 col0\" >Target type</td>\n",
       "      <td id=\"T_615ab_row2_col1\" class=\"data row2 col1\" >Binary</td>\n",
       "    </tr>\n",
       "    <tr>\n",
       "      <th id=\"T_615ab_level0_row3\" class=\"row_heading level0 row3\" >3</th>\n",
       "      <td id=\"T_615ab_row3_col0\" class=\"data row3 col0\" >Original data shape</td>\n",
       "      <td id=\"T_615ab_row3_col1\" class=\"data row3 col1\" >(285090, 21)</td>\n",
       "    </tr>\n",
       "    <tr>\n",
       "      <th id=\"T_615ab_level0_row4\" class=\"row_heading level0 row4\" >4</th>\n",
       "      <td id=\"T_615ab_row4_col0\" class=\"data row4 col0\" >Transformed data shape</td>\n",
       "      <td id=\"T_615ab_row4_col1\" class=\"data row4 col1\" >(285090, 15)</td>\n",
       "    </tr>\n",
       "    <tr>\n",
       "      <th id=\"T_615ab_level0_row5\" class=\"row_heading level0 row5\" >5</th>\n",
       "      <td id=\"T_615ab_row5_col0\" class=\"data row5 col0\" >Transformed train set shape</td>\n",
       "      <td id=\"T_615ab_row5_col1\" class=\"data row5 col1\" >(199563, 15)</td>\n",
       "    </tr>\n",
       "    <tr>\n",
       "      <th id=\"T_615ab_level0_row6\" class=\"row_heading level0 row6\" >6</th>\n",
       "      <td id=\"T_615ab_row6_col0\" class=\"data row6 col0\" >Transformed test set shape</td>\n",
       "      <td id=\"T_615ab_row6_col1\" class=\"data row6 col1\" >(85527, 15)</td>\n",
       "    </tr>\n",
       "    <tr>\n",
       "      <th id=\"T_615ab_level0_row7\" class=\"row_heading level0 row7\" >7</th>\n",
       "      <td id=\"T_615ab_row7_col0\" class=\"data row7 col0\" >Ignore features</td>\n",
       "      <td id=\"T_615ab_row7_col1\" class=\"data row7 col1\" >6</td>\n",
       "    </tr>\n",
       "    <tr>\n",
       "      <th id=\"T_615ab_level0_row8\" class=\"row_heading level0 row8\" >8</th>\n",
       "      <td id=\"T_615ab_row8_col0\" class=\"data row8 col0\" >Numeric features</td>\n",
       "      <td id=\"T_615ab_row8_col1\" class=\"data row8 col1\" >13</td>\n",
       "    </tr>\n",
       "    <tr>\n",
       "      <th id=\"T_615ab_level0_row9\" class=\"row_heading level0 row9\" >9</th>\n",
       "      <td id=\"T_615ab_row9_col0\" class=\"data row9 col0\" >Categorical features</td>\n",
       "      <td id=\"T_615ab_row9_col1\" class=\"data row9 col1\" >1</td>\n",
       "    </tr>\n",
       "    <tr>\n",
       "      <th id=\"T_615ab_level0_row10\" class=\"row_heading level0 row10\" >10</th>\n",
       "      <td id=\"T_615ab_row10_col0\" class=\"data row10 col0\" >Rows with missing values</td>\n",
       "      <td id=\"T_615ab_row10_col1\" class=\"data row10 col1\" >0.0%</td>\n",
       "    </tr>\n",
       "    <tr>\n",
       "      <th id=\"T_615ab_level0_row11\" class=\"row_heading level0 row11\" >11</th>\n",
       "      <td id=\"T_615ab_row11_col0\" class=\"data row11 col0\" >Preprocess</td>\n",
       "      <td id=\"T_615ab_row11_col1\" class=\"data row11 col1\" >True</td>\n",
       "    </tr>\n",
       "    <tr>\n",
       "      <th id=\"T_615ab_level0_row12\" class=\"row_heading level0 row12\" >12</th>\n",
       "      <td id=\"T_615ab_row12_col0\" class=\"data row12 col0\" >Imputation type</td>\n",
       "      <td id=\"T_615ab_row12_col1\" class=\"data row12 col1\" >simple</td>\n",
       "    </tr>\n",
       "    <tr>\n",
       "      <th id=\"T_615ab_level0_row13\" class=\"row_heading level0 row13\" >13</th>\n",
       "      <td id=\"T_615ab_row13_col0\" class=\"data row13 col0\" >Numeric imputation</td>\n",
       "      <td id=\"T_615ab_row13_col1\" class=\"data row13 col1\" >mean</td>\n",
       "    </tr>\n",
       "    <tr>\n",
       "      <th id=\"T_615ab_level0_row14\" class=\"row_heading level0 row14\" >14</th>\n",
       "      <td id=\"T_615ab_row14_col0\" class=\"data row14 col0\" >Categorical imputation</td>\n",
       "      <td id=\"T_615ab_row14_col1\" class=\"data row14 col1\" >mode</td>\n",
       "    </tr>\n",
       "    <tr>\n",
       "      <th id=\"T_615ab_level0_row15\" class=\"row_heading level0 row15\" >15</th>\n",
       "      <td id=\"T_615ab_row15_col0\" class=\"data row15 col0\" >Maximum one-hot encoding</td>\n",
       "      <td id=\"T_615ab_row15_col1\" class=\"data row15 col1\" >25</td>\n",
       "    </tr>\n",
       "    <tr>\n",
       "      <th id=\"T_615ab_level0_row16\" class=\"row_heading level0 row16\" >16</th>\n",
       "      <td id=\"T_615ab_row16_col0\" class=\"data row16 col0\" >Encoding method</td>\n",
       "      <td id=\"T_615ab_row16_col1\" class=\"data row16 col1\" >None</td>\n",
       "    </tr>\n",
       "    <tr>\n",
       "      <th id=\"T_615ab_level0_row17\" class=\"row_heading level0 row17\" >17</th>\n",
       "      <td id=\"T_615ab_row17_col0\" class=\"data row17 col0\" >Fold Generator</td>\n",
       "      <td id=\"T_615ab_row17_col1\" class=\"data row17 col1\" >StratifiedKFold</td>\n",
       "    </tr>\n",
       "    <tr>\n",
       "      <th id=\"T_615ab_level0_row18\" class=\"row_heading level0 row18\" >18</th>\n",
       "      <td id=\"T_615ab_row18_col0\" class=\"data row18 col0\" >Fold Number</td>\n",
       "      <td id=\"T_615ab_row18_col1\" class=\"data row18 col1\" >10</td>\n",
       "    </tr>\n",
       "    <tr>\n",
       "      <th id=\"T_615ab_level0_row19\" class=\"row_heading level0 row19\" >19</th>\n",
       "      <td id=\"T_615ab_row19_col0\" class=\"data row19 col0\" >CPU Jobs</td>\n",
       "      <td id=\"T_615ab_row19_col1\" class=\"data row19 col1\" >-1</td>\n",
       "    </tr>\n",
       "    <tr>\n",
       "      <th id=\"T_615ab_level0_row20\" class=\"row_heading level0 row20\" >20</th>\n",
       "      <td id=\"T_615ab_row20_col0\" class=\"data row20 col0\" >Use GPU</td>\n",
       "      <td id=\"T_615ab_row20_col1\" class=\"data row20 col1\" >False</td>\n",
       "    </tr>\n",
       "    <tr>\n",
       "      <th id=\"T_615ab_level0_row21\" class=\"row_heading level0 row21\" >21</th>\n",
       "      <td id=\"T_615ab_row21_col0\" class=\"data row21 col0\" >Log Experiment</td>\n",
       "      <td id=\"T_615ab_row21_col1\" class=\"data row21 col1\" >False</td>\n",
       "    </tr>\n",
       "    <tr>\n",
       "      <th id=\"T_615ab_level0_row22\" class=\"row_heading level0 row22\" >22</th>\n",
       "      <td id=\"T_615ab_row22_col0\" class=\"data row22 col0\" >Experiment Name</td>\n",
       "      <td id=\"T_615ab_row22_col1\" class=\"data row22 col1\" >clf-default-name</td>\n",
       "    </tr>\n",
       "    <tr>\n",
       "      <th id=\"T_615ab_level0_row23\" class=\"row_heading level0 row23\" >23</th>\n",
       "      <td id=\"T_615ab_row23_col0\" class=\"data row23 col0\" >USI</td>\n",
       "      <td id=\"T_615ab_row23_col1\" class=\"data row23 col1\" >39ba</td>\n",
       "    </tr>\n",
       "  </tbody>\n",
       "</table>\n"
      ],
      "text/plain": [
       "<pandas.io.formats.style.Styler at 0x7f9406c4cc70>"
      ]
     },
     "metadata": {},
     "output_type": "display_data"
    },
    {
     "data": {
      "text/html": [],
      "text/plain": [
       "<IPython.core.display.HTML object>"
      ]
     },
     "metadata": {},
     "output_type": "display_data"
    },
    {
     "data": {
      "text/html": [
       "<style type=\"text/css\">\n",
       "#T_05f0f_row10_col0, #T_05f0f_row10_col1, #T_05f0f_row10_col2, #T_05f0f_row10_col3, #T_05f0f_row10_col4, #T_05f0f_row10_col5, #T_05f0f_row10_col6 {\n",
       "  background: yellow;\n",
       "}\n",
       "</style>\n",
       "<table id=\"T_05f0f\">\n",
       "  <thead>\n",
       "    <tr>\n",
       "      <th class=\"blank level0\" >&nbsp;</th>\n",
       "      <th id=\"T_05f0f_level0_col0\" class=\"col_heading level0 col0\" >Accuracy</th>\n",
       "      <th id=\"T_05f0f_level0_col1\" class=\"col_heading level0 col1\" >AUC</th>\n",
       "      <th id=\"T_05f0f_level0_col2\" class=\"col_heading level0 col2\" >Recall</th>\n",
       "      <th id=\"T_05f0f_level0_col3\" class=\"col_heading level0 col3\" >Prec.</th>\n",
       "      <th id=\"T_05f0f_level0_col4\" class=\"col_heading level0 col4\" >F1</th>\n",
       "      <th id=\"T_05f0f_level0_col5\" class=\"col_heading level0 col5\" >Kappa</th>\n",
       "      <th id=\"T_05f0f_level0_col6\" class=\"col_heading level0 col6\" >MCC</th>\n",
       "    </tr>\n",
       "    <tr>\n",
       "      <th class=\"index_name level0\" >Fold</th>\n",
       "      <th class=\"blank col0\" >&nbsp;</th>\n",
       "      <th class=\"blank col1\" >&nbsp;</th>\n",
       "      <th class=\"blank col2\" >&nbsp;</th>\n",
       "      <th class=\"blank col3\" >&nbsp;</th>\n",
       "      <th class=\"blank col4\" >&nbsp;</th>\n",
       "      <th class=\"blank col5\" >&nbsp;</th>\n",
       "      <th class=\"blank col6\" >&nbsp;</th>\n",
       "    </tr>\n",
       "  </thead>\n",
       "  <tbody>\n",
       "    <tr>\n",
       "      <th id=\"T_05f0f_level0_row0\" class=\"row_heading level0 row0\" >0</th>\n",
       "      <td id=\"T_05f0f_row0_col0\" class=\"data row0 col0\" >0.6126</td>\n",
       "      <td id=\"T_05f0f_row0_col1\" class=\"data row0 col1\" >0.6497</td>\n",
       "      <td id=\"T_05f0f_row0_col2\" class=\"data row0 col2\" >0.7703</td>\n",
       "      <td id=\"T_05f0f_row0_col3\" class=\"data row0 col3\" >0.6169</td>\n",
       "      <td id=\"T_05f0f_row0_col4\" class=\"data row0 col4\" >0.6851</td>\n",
       "      <td id=\"T_05f0f_row0_col5\" class=\"data row0 col5\" >0.1975</td>\n",
       "      <td id=\"T_05f0f_row0_col6\" class=\"data row0 col6\" >0.2059</td>\n",
       "    </tr>\n",
       "    <tr>\n",
       "      <th id=\"T_05f0f_level0_row1\" class=\"row_heading level0 row1\" >1</th>\n",
       "      <td id=\"T_05f0f_row1_col0\" class=\"data row1 col0\" >0.6148</td>\n",
       "      <td id=\"T_05f0f_row1_col1\" class=\"data row1 col1\" >0.6435</td>\n",
       "      <td id=\"T_05f0f_row1_col2\" class=\"data row1 col2\" >0.7729</td>\n",
       "      <td id=\"T_05f0f_row1_col3\" class=\"data row1 col3\" >0.6184</td>\n",
       "      <td id=\"T_05f0f_row1_col4\" class=\"data row1 col4\" >0.6871</td>\n",
       "      <td id=\"T_05f0f_row1_col5\" class=\"data row1 col5\" >0.2020</td>\n",
       "      <td id=\"T_05f0f_row1_col6\" class=\"data row1 col6\" >0.2106</td>\n",
       "    </tr>\n",
       "    <tr>\n",
       "      <th id=\"T_05f0f_level0_row2\" class=\"row_heading level0 row2\" >2</th>\n",
       "      <td id=\"T_05f0f_row2_col0\" class=\"data row2 col0\" >0.6112</td>\n",
       "      <td id=\"T_05f0f_row2_col1\" class=\"data row2 col1\" >0.6455</td>\n",
       "      <td id=\"T_05f0f_row2_col2\" class=\"data row2 col2\" >0.7790</td>\n",
       "      <td id=\"T_05f0f_row2_col3\" class=\"data row2 col3\" >0.6140</td>\n",
       "      <td id=\"T_05f0f_row2_col4\" class=\"data row2 col4\" >0.6867</td>\n",
       "      <td id=\"T_05f0f_row2_col5\" class=\"data row2 col5\" >0.1928</td>\n",
       "      <td id=\"T_05f0f_row2_col6\" class=\"data row2 col6\" >0.2024</td>\n",
       "    </tr>\n",
       "    <tr>\n",
       "      <th id=\"T_05f0f_level0_row3\" class=\"row_heading level0 row3\" >3</th>\n",
       "      <td id=\"T_05f0f_row3_col0\" class=\"data row3 col0\" >0.6082</td>\n",
       "      <td id=\"T_05f0f_row3_col1\" class=\"data row3 col1\" >0.6359</td>\n",
       "      <td id=\"T_05f0f_row3_col2\" class=\"data row3 col2\" >0.7708</td>\n",
       "      <td id=\"T_05f0f_row3_col3\" class=\"data row3 col3\" >0.6129</td>\n",
       "      <td id=\"T_05f0f_row3_col4\" class=\"data row3 col4\" >0.6828</td>\n",
       "      <td id=\"T_05f0f_row3_col5\" class=\"data row3 col5\" >0.1877</td>\n",
       "      <td id=\"T_05f0f_row3_col6\" class=\"data row3 col6\" >0.1962</td>\n",
       "    </tr>\n",
       "    <tr>\n",
       "      <th id=\"T_05f0f_level0_row4\" class=\"row_heading level0 row4\" >4</th>\n",
       "      <td id=\"T_05f0f_row4_col0\" class=\"data row4 col0\" >0.6068</td>\n",
       "      <td id=\"T_05f0f_row4_col1\" class=\"data row4 col1\" >0.6391</td>\n",
       "      <td id=\"T_05f0f_row4_col2\" class=\"data row4 col2\" >0.7739</td>\n",
       "      <td id=\"T_05f0f_row4_col3\" class=\"data row4 col3\" >0.6111</td>\n",
       "      <td id=\"T_05f0f_row4_col4\" class=\"data row4 col4\" >0.6829</td>\n",
       "      <td id=\"T_05f0f_row4_col5\" class=\"data row4 col5\" >0.1840</td>\n",
       "      <td id=\"T_05f0f_row4_col6\" class=\"data row4 col6\" >0.1930</td>\n",
       "    </tr>\n",
       "    <tr>\n",
       "      <th id=\"T_05f0f_level0_row5\" class=\"row_heading level0 row5\" >5</th>\n",
       "      <td id=\"T_05f0f_row5_col0\" class=\"data row5 col0\" >0.6109</td>\n",
       "      <td id=\"T_05f0f_row5_col1\" class=\"data row5 col1\" >0.6399</td>\n",
       "      <td id=\"T_05f0f_row5_col2\" class=\"data row5 col2\" >0.7726</td>\n",
       "      <td id=\"T_05f0f_row5_col3\" class=\"data row5 col3\" >0.6150</td>\n",
       "      <td id=\"T_05f0f_row5_col4\" class=\"data row5 col4\" >0.6848</td>\n",
       "      <td id=\"T_05f0f_row5_col5\" class=\"data row5 col5\" >0.1933</td>\n",
       "      <td id=\"T_05f0f_row5_col6\" class=\"data row5 col6\" >0.2020</td>\n",
       "    </tr>\n",
       "    <tr>\n",
       "      <th id=\"T_05f0f_level0_row6\" class=\"row_heading level0 row6\" >6</th>\n",
       "      <td id=\"T_05f0f_row6_col0\" class=\"data row6 col0\" >0.6093</td>\n",
       "      <td id=\"T_05f0f_row6_col1\" class=\"data row6 col1\" >0.6434</td>\n",
       "      <td id=\"T_05f0f_row6_col2\" class=\"data row6 col2\" >0.7709</td>\n",
       "      <td id=\"T_05f0f_row6_col3\" class=\"data row6 col3\" >0.6138</td>\n",
       "      <td id=\"T_05f0f_row6_col4\" class=\"data row6 col4\" >0.6834</td>\n",
       "      <td id=\"T_05f0f_row6_col5\" class=\"data row6 col5\" >0.1900</td>\n",
       "      <td id=\"T_05f0f_row6_col6\" class=\"data row6 col6\" >0.1985</td>\n",
       "    </tr>\n",
       "    <tr>\n",
       "      <th id=\"T_05f0f_level0_row7\" class=\"row_heading level0 row7\" >7</th>\n",
       "      <td id=\"T_05f0f_row7_col0\" class=\"data row7 col0\" >0.6113</td>\n",
       "      <td id=\"T_05f0f_row7_col1\" class=\"data row7 col1\" >0.6451</td>\n",
       "      <td id=\"T_05f0f_row7_col2\" class=\"data row7 col2\" >0.7745</td>\n",
       "      <td id=\"T_05f0f_row7_col3\" class=\"data row7 col3\" >0.6150</td>\n",
       "      <td id=\"T_05f0f_row7_col4\" class=\"data row7 col4\" >0.6856</td>\n",
       "      <td id=\"T_05f0f_row7_col5\" class=\"data row7 col5\" >0.1938</td>\n",
       "      <td id=\"T_05f0f_row7_col6\" class=\"data row7 col6\" >0.2028</td>\n",
       "    </tr>\n",
       "    <tr>\n",
       "      <th id=\"T_05f0f_level0_row8\" class=\"row_heading level0 row8\" >8</th>\n",
       "      <td id=\"T_05f0f_row8_col0\" class=\"data row8 col0\" >0.6141</td>\n",
       "      <td id=\"T_05f0f_row8_col1\" class=\"data row8 col1\" >0.6459</td>\n",
       "      <td id=\"T_05f0f_row8_col2\" class=\"data row8 col2\" >0.7743</td>\n",
       "      <td id=\"T_05f0f_row8_col3\" class=\"data row8 col3\" >0.6175</td>\n",
       "      <td id=\"T_05f0f_row8_col4\" class=\"data row8 col4\" >0.6871</td>\n",
       "      <td id=\"T_05f0f_row8_col5\" class=\"data row8 col5\" >0.2002</td>\n",
       "      <td id=\"T_05f0f_row8_col6\" class=\"data row8 col6\" >0.2090</td>\n",
       "    </tr>\n",
       "    <tr>\n",
       "      <th id=\"T_05f0f_level0_row9\" class=\"row_heading level0 row9\" >9</th>\n",
       "      <td id=\"T_05f0f_row9_col0\" class=\"data row9 col0\" >0.6070</td>\n",
       "      <td id=\"T_05f0f_row9_col1\" class=\"data row9 col1\" >0.6394</td>\n",
       "      <td id=\"T_05f0f_row9_col2\" class=\"data row9 col2\" >0.7633</td>\n",
       "      <td id=\"T_05f0f_row9_col3\" class=\"data row9 col3\" >0.6131</td>\n",
       "      <td id=\"T_05f0f_row9_col4\" class=\"data row9 col4\" >0.6800</td>\n",
       "      <td id=\"T_05f0f_row9_col5\" class=\"data row9 col5\" >0.1862</td>\n",
       "      <td id=\"T_05f0f_row9_col6\" class=\"data row9 col6\" >0.1938</td>\n",
       "    </tr>\n",
       "    <tr>\n",
       "      <th id=\"T_05f0f_level0_row10\" class=\"row_heading level0 row10\" >Mean</th>\n",
       "      <td id=\"T_05f0f_row10_col0\" class=\"data row10 col0\" >0.6106</td>\n",
       "      <td id=\"T_05f0f_row10_col1\" class=\"data row10 col1\" >0.6427</td>\n",
       "      <td id=\"T_05f0f_row10_col2\" class=\"data row10 col2\" >0.7722</td>\n",
       "      <td id=\"T_05f0f_row10_col3\" class=\"data row10 col3\" >0.6148</td>\n",
       "      <td id=\"T_05f0f_row10_col4\" class=\"data row10 col4\" >0.6846</td>\n",
       "      <td id=\"T_05f0f_row10_col5\" class=\"data row10 col5\" >0.1927</td>\n",
       "      <td id=\"T_05f0f_row10_col6\" class=\"data row10 col6\" >0.2014</td>\n",
       "    </tr>\n",
       "    <tr>\n",
       "      <th id=\"T_05f0f_level0_row11\" class=\"row_heading level0 row11\" >Std</th>\n",
       "      <td id=\"T_05f0f_row11_col0\" class=\"data row11 col0\" >0.0026</td>\n",
       "      <td id=\"T_05f0f_row11_col1\" class=\"data row11 col1\" >0.0039</td>\n",
       "      <td id=\"T_05f0f_row11_col2\" class=\"data row11 col2\" >0.0038</td>\n",
       "      <td id=\"T_05f0f_row11_col3\" class=\"data row11 col3\" >0.0022</td>\n",
       "      <td id=\"T_05f0f_row11_col4\" class=\"data row11 col4\" >0.0022</td>\n",
       "      <td id=\"T_05f0f_row11_col5\" class=\"data row11 col5\" >0.0056</td>\n",
       "      <td id=\"T_05f0f_row11_col6\" class=\"data row11 col6\" >0.0057</td>\n",
       "    </tr>\n",
       "  </tbody>\n",
       "</table>\n"
      ],
      "text/plain": [
       "<pandas.io.formats.style.Styler at 0x7f940727bcd0>"
      ]
     },
     "metadata": {},
     "output_type": "display_data"
    },
    {
     "data": {
      "text/html": [],
      "text/plain": [
       "<IPython.core.display.HTML object>"
      ]
     },
     "metadata": {},
     "output_type": "display_data"
    },
    {
     "data": {
      "text/html": [],
      "text/plain": [
       "<IPython.core.display.HTML object>"
      ]
     },
     "metadata": {},
     "output_type": "display_data"
    },
    {
     "data": {
      "image/png": "[encoded data removed]",
      "text/plain": [
       "<Figure size 480x330 with 1 Axes>"
      ]
     },
     "metadata": {},
     "output_type": "display_data"
    },
    {
     "data": {
      "text/html": [],
      "text/plain": [
       "<IPython.core.display.HTML object>"
      ]
     },
     "metadata": {},
     "output_type": "display_data"
    },
    {
     "data": {
      "text/html": [
       "<style type=\"text/css\">\n",
       "#T_8ca77_row10_col0, #T_8ca77_row10_col1, #T_8ca77_row10_col2, #T_8ca77_row10_col3, #T_8ca77_row10_col4, #T_8ca77_row10_col5, #T_8ca77_row10_col6 {\n",
       "  background: yellow;\n",
       "}\n",
       "</style>\n",
       "<table id=\"T_8ca77\">\n",
       "  <thead>\n",
       "    <tr>\n",
       "      <th class=\"blank level0\" >&nbsp;</th>\n",
       "      <th id=\"T_8ca77_level0_col0\" class=\"col_heading level0 col0\" >Accuracy</th>\n",
       "      <th id=\"T_8ca77_level0_col1\" class=\"col_heading level0 col1\" >AUC</th>\n",
       "      <th id=\"T_8ca77_level0_col2\" class=\"col_heading level0 col2\" >Recall</th>\n",
       "      <th id=\"T_8ca77_level0_col3\" class=\"col_heading level0 col3\" >Prec.</th>\n",
       "      <th id=\"T_8ca77_level0_col4\" class=\"col_heading level0 col4\" >F1</th>\n",
       "      <th id=\"T_8ca77_level0_col5\" class=\"col_heading level0 col5\" >Kappa</th>\n",
       "      <th id=\"T_8ca77_level0_col6\" class=\"col_heading level0 col6\" >MCC</th>\n",
       "    </tr>\n",
       "    <tr>\n",
       "      <th class=\"index_name level0\" >Fold</th>\n",
       "      <th class=\"blank col0\" >&nbsp;</th>\n",
       "      <th class=\"blank col1\" >&nbsp;</th>\n",
       "      <th class=\"blank col2\" >&nbsp;</th>\n",
       "      <th class=\"blank col3\" >&nbsp;</th>\n",
       "      <th class=\"blank col4\" >&nbsp;</th>\n",
       "      <th class=\"blank col5\" >&nbsp;</th>\n",
       "      <th class=\"blank col6\" >&nbsp;</th>\n",
       "    </tr>\n",
       "  </thead>\n",
       "  <tbody>\n",
       "    <tr>\n",
       "      <th id=\"T_8ca77_level0_row0\" class=\"row_heading level0 row0\" >0</th>\n",
       "      <td id=\"T_8ca77_row0_col0\" class=\"data row0 col0\" >0.6165</td>\n",
       "      <td id=\"T_8ca77_row0_col1\" class=\"data row0 col1\" >0.6554</td>\n",
       "      <td id=\"T_8ca77_row0_col2\" class=\"data row0 col2\" >0.7873</td>\n",
       "      <td id=\"T_8ca77_row0_col3\" class=\"data row0 col3\" >0.6172</td>\n",
       "      <td id=\"T_8ca77_row0_col4\" class=\"data row0 col4\" >0.6920</td>\n",
       "      <td id=\"T_8ca77_row0_col5\" class=\"data row0 col5\" >0.2033</td>\n",
       "      <td id=\"T_8ca77_row0_col6\" class=\"data row0 col6\" >0.2141</td>\n",
       "    </tr>\n",
       "    <tr>\n",
       "      <th id=\"T_8ca77_level0_row1\" class=\"row_heading level0 row1\" >1</th>\n",
       "      <td id=\"T_8ca77_row1_col0\" class=\"data row1 col0\" >0.6190</td>\n",
       "      <td id=\"T_8ca77_row1_col1\" class=\"data row1 col1\" >0.6506</td>\n",
       "      <td id=\"T_8ca77_row1_col2\" class=\"data row1 col2\" >0.7877</td>\n",
       "      <td id=\"T_8ca77_row1_col3\" class=\"data row1 col3\" >0.6194</td>\n",
       "      <td id=\"T_8ca77_row1_col4\" class=\"data row1 col4\" >0.6935</td>\n",
       "      <td id=\"T_8ca77_row1_col5\" class=\"data row1 col5\" >0.2088</td>\n",
       "      <td id=\"T_8ca77_row1_col6\" class=\"data row1 col6\" >0.2195</td>\n",
       "    </tr>\n",
       "    <tr>\n",
       "      <th id=\"T_8ca77_level0_row2\" class=\"row_heading level0 row2\" >2</th>\n",
       "      <td id=\"T_8ca77_row2_col0\" class=\"data row2 col0\" >0.6130</td>\n",
       "      <td id=\"T_8ca77_row2_col1\" class=\"data row2 col1\" >0.6511</td>\n",
       "      <td id=\"T_8ca77_row2_col2\" class=\"data row2 col2\" >0.7897</td>\n",
       "      <td id=\"T_8ca77_row2_col3\" class=\"data row2 col3\" >0.6137</td>\n",
       "      <td id=\"T_8ca77_row2_col4\" class=\"data row2 col4\" >0.6907</td>\n",
       "      <td id=\"T_8ca77_row2_col5\" class=\"data row2 col5\" >0.1951</td>\n",
       "      <td id=\"T_8ca77_row2_col6\" class=\"data row2 col6\" >0.2064</td>\n",
       "    </tr>\n",
       "    <tr>\n",
       "      <th id=\"T_8ca77_level0_row3\" class=\"row_heading level0 row3\" >3</th>\n",
       "      <td id=\"T_8ca77_row3_col0\" class=\"data row3 col0\" >0.6088</td>\n",
       "      <td id=\"T_8ca77_row3_col1\" class=\"data row3 col1\" >0.6421</td>\n",
       "      <td id=\"T_8ca77_row3_col2\" class=\"data row3 col2\" >0.7747</td>\n",
       "      <td id=\"T_8ca77_row3_col3\" class=\"data row3 col3\" >0.6127</td>\n",
       "      <td id=\"T_8ca77_row3_col4\" class=\"data row3 col4\" >0.6843</td>\n",
       "      <td id=\"T_8ca77_row3_col5\" class=\"data row3 col5\" >0.1883</td>\n",
       "      <td id=\"T_8ca77_row3_col6\" class=\"data row3 col6\" >0.1974</td>\n",
       "    </tr>\n",
       "    <tr>\n",
       "      <th id=\"T_8ca77_level0_row4\" class=\"row_heading level0 row4\" >4</th>\n",
       "      <td id=\"T_8ca77_row4_col0\" class=\"data row4 col0\" >0.6087</td>\n",
       "      <td id=\"T_8ca77_row4_col1\" class=\"data row4 col1\" >0.6460</td>\n",
       "      <td id=\"T_8ca77_row4_col2\" class=\"data row4 col2\" >0.7853</td>\n",
       "      <td id=\"T_8ca77_row4_col3\" class=\"data row4 col3\" >0.6108</td>\n",
       "      <td id=\"T_8ca77_row4_col4\" class=\"data row4 col4\" >0.6871</td>\n",
       "      <td id=\"T_8ca77_row4_col5\" class=\"data row4 col5\" >0.1861</td>\n",
       "      <td id=\"T_8ca77_row4_col6\" class=\"data row4 col6\" >0.1968</td>\n",
       "    </tr>\n",
       "    <tr>\n",
       "      <th id=\"T_8ca77_level0_row5\" class=\"row_heading level0 row5\" >5</th>\n",
       "      <td id=\"T_8ca77_row5_col0\" class=\"data row5 col0\" >0.6123</td>\n",
       "      <td id=\"T_8ca77_row5_col1\" class=\"data row5 col1\" >0.6475</td>\n",
       "      <td id=\"T_8ca77_row5_col2\" class=\"data row5 col2\" >0.7801</td>\n",
       "      <td id=\"T_8ca77_row5_col3\" class=\"data row5 col3\" >0.6149</td>\n",
       "      <td id=\"T_8ca77_row5_col4\" class=\"data row5 col4\" >0.6877</td>\n",
       "      <td id=\"T_8ca77_row5_col5\" class=\"data row5 col5\" >0.1952</td>\n",
       "      <td id=\"T_8ca77_row5_col6\" class=\"data row5 col6\" >0.2050</td>\n",
       "    </tr>\n",
       "    <tr>\n",
       "      <th id=\"T_8ca77_level0_row6\" class=\"row_heading level0 row6\" >6</th>\n",
       "      <td id=\"T_8ca77_row6_col0\" class=\"data row6 col0\" >0.6149</td>\n",
       "      <td id=\"T_8ca77_row6_col1\" class=\"data row6 col1\" >0.6503</td>\n",
       "      <td id=\"T_8ca77_row6_col2\" class=\"data row6 col2\" >0.7829</td>\n",
       "      <td id=\"T_8ca77_row6_col3\" class=\"data row6 col3\" >0.6166</td>\n",
       "      <td id=\"T_8ca77_row6_col4\" class=\"data row6 col4\" >0.6899</td>\n",
       "      <td id=\"T_8ca77_row6_col5\" class=\"data row6 col5\" >0.2003</td>\n",
       "      <td id=\"T_8ca77_row6_col6\" class=\"data row6 col6\" >0.2105</td>\n",
       "    </tr>\n",
       "    <tr>\n",
       "      <th id=\"T_8ca77_level0_row7\" class=\"row_heading level0 row7\" >7</th>\n",
       "      <td id=\"T_8ca77_row7_col0\" class=\"data row7 col0\" >0.6190</td>\n",
       "      <td id=\"T_8ca77_row7_col1\" class=\"data row7 col1\" >0.6549</td>\n",
       "      <td id=\"T_8ca77_row7_col2\" class=\"data row7 col2\" >0.7874</td>\n",
       "      <td id=\"T_8ca77_row7_col3\" class=\"data row7 col3\" >0.6195</td>\n",
       "      <td id=\"T_8ca77_row7_col4\" class=\"data row7 col4\" >0.6934</td>\n",
       "      <td id=\"T_8ca77_row7_col5\" class=\"data row7 col5\" >0.2088</td>\n",
       "      <td id=\"T_8ca77_row7_col6\" class=\"data row7 col6\" >0.2195</td>\n",
       "    </tr>\n",
       "    <tr>\n",
       "      <th id=\"T_8ca77_level0_row8\" class=\"row_heading level0 row8\" >8</th>\n",
       "      <td id=\"T_8ca77_row8_col0\" class=\"data row8 col0\" >0.6192</td>\n",
       "      <td id=\"T_8ca77_row8_col1\" class=\"data row8 col1\" >0.6559</td>\n",
       "      <td id=\"T_8ca77_row8_col2\" class=\"data row8 col2\" >0.7871</td>\n",
       "      <td id=\"T_8ca77_row8_col3\" class=\"data row8 col3\" >0.6197</td>\n",
       "      <td id=\"T_8ca77_row8_col4\" class=\"data row8 col4\" >0.6934</td>\n",
       "      <td id=\"T_8ca77_row8_col5\" class=\"data row8 col5\" >0.2094</td>\n",
       "      <td id=\"T_8ca77_row8_col6\" class=\"data row8 col6\" >0.2200</td>\n",
       "    </tr>\n",
       "    <tr>\n",
       "      <th id=\"T_8ca77_level0_row9\" class=\"row_heading level0 row9\" >9</th>\n",
       "      <td id=\"T_8ca77_row9_col0\" class=\"data row9 col0\" >0.6099</td>\n",
       "      <td id=\"T_8ca77_row9_col1\" class=\"data row9 col1\" >0.6457</td>\n",
       "      <td id=\"T_8ca77_row9_col2\" class=\"data row9 col2\" >0.7776</td>\n",
       "      <td id=\"T_8ca77_row9_col3\" class=\"data row9 col3\" >0.6132</td>\n",
       "      <td id=\"T_8ca77_row9_col4\" class=\"data row9 col4\" >0.6857</td>\n",
       "      <td id=\"T_8ca77_row9_col5\" class=\"data row9 col5\" >0.1903</td>\n",
       "      <td id=\"T_8ca77_row9_col6\" class=\"data row9 col6\" >0.1998</td>\n",
       "    </tr>\n",
       "    <tr>\n",
       "      <th id=\"T_8ca77_level0_row10\" class=\"row_heading level0 row10\" >Mean</th>\n",
       "      <td id=\"T_8ca77_row10_col0\" class=\"data row10 col0\" >0.6141</td>\n",
       "      <td id=\"T_8ca77_row10_col1\" class=\"data row10 col1\" >0.6499</td>\n",
       "      <td id=\"T_8ca77_row10_col2\" class=\"data row10 col2\" >0.7840</td>\n",
       "      <td id=\"T_8ca77_row10_col3\" class=\"data row10 col3\" >0.6158</td>\n",
       "      <td id=\"T_8ca77_row10_col4\" class=\"data row10 col4\" >0.6898</td>\n",
       "      <td id=\"T_8ca77_row10_col5\" class=\"data row10 col5\" >0.1986</td>\n",
       "      <td id=\"T_8ca77_row10_col6\" class=\"data row10 col6\" >0.2089</td>\n",
       "    </tr>\n",
       "    <tr>\n",
       "      <th id=\"T_8ca77_level0_row11\" class=\"row_heading level0 row11\" >Std</th>\n",
       "      <td id=\"T_8ca77_row11_col0\" class=\"data row11 col0\" >0.0040</td>\n",
       "      <td id=\"T_8ca77_row11_col1\" class=\"data row11 col1\" >0.0044</td>\n",
       "      <td id=\"T_8ca77_row11_col2\" class=\"data row11 col2\" >0.0047</td>\n",
       "      <td id=\"T_8ca77_row11_col3\" class=\"data row11 col3\" >0.0030</td>\n",
       "      <td id=\"T_8ca77_row11_col4\" class=\"data row11 col4\" >0.0032</td>\n",
       "      <td id=\"T_8ca77_row11_col5\" class=\"data row11 col5\" >0.0084</td>\n",
       "      <td id=\"T_8ca77_row11_col6\" class=\"data row11 col6\" >0.0087</td>\n",
       "    </tr>\n",
       "  </tbody>\n",
       "</table>\n"
      ],
      "text/plain": [
       "<pandas.io.formats.style.Styler at 0x7f9406757880>"
      ]
     },
     "metadata": {},
     "output_type": "display_data"
    },
    {
     "data": {
      "text/html": [],
      "text/plain": [
       "<IPython.core.display.HTML object>"
      ]
     },
     "metadata": {},
     "output_type": "display_data"
    },
    {
     "data": {
      "text/html": [],
      "text/plain": [
       "<IPython.core.display.HTML object>"
      ]
     },
     "metadata": {},
     "output_type": "display_data"
    },
    {
     "data": {
      "image/png": "[encoded data removed]",
      "text/plain": [
       "<Figure size 480x330 with 1 Axes>"
      ]
     },
     "metadata": {},
     "output_type": "display_data"
    },
    {
     "data": {
      "text/html": [],
      "text/plain": [
       "<IPython.core.display.HTML object>"
      ]
     },
     "metadata": {},
     "output_type": "display_data"
    },
    {
     "data": {
      "text/html": [
       "<style type=\"text/css\">\n",
       "#T_14335_row10_col0, #T_14335_row10_col1, #T_14335_row10_col2, #T_14335_row10_col3, #T_14335_row10_col4, #T_14335_row10_col5, #T_14335_row10_col6 {\n",
       "  background: yellow;\n",
       "}\n",
       "</style>\n",
       "<table id=\"T_14335\">\n",
       "  <thead>\n",
       "    <tr>\n",
       "      <th class=\"blank level0\" >&nbsp;</th>\n",
       "      <th id=\"T_14335_level0_col0\" class=\"col_heading level0 col0\" >Accuracy</th>\n",
       "      <th id=\"T_14335_level0_col1\" class=\"col_heading level0 col1\" >AUC</th>\n",
       "      <th id=\"T_14335_level0_col2\" class=\"col_heading level0 col2\" >Recall</th>\n",
       "      <th id=\"T_14335_level0_col3\" class=\"col_heading level0 col3\" >Prec.</th>\n",
       "      <th id=\"T_14335_level0_col4\" class=\"col_heading level0 col4\" >F1</th>\n",
       "      <th id=\"T_14335_level0_col5\" class=\"col_heading level0 col5\" >Kappa</th>\n",
       "      <th id=\"T_14335_level0_col6\" class=\"col_heading level0 col6\" >MCC</th>\n",
       "    </tr>\n",
       "    <tr>\n",
       "      <th class=\"index_name level0\" >Fold</th>\n",
       "      <th class=\"blank col0\" >&nbsp;</th>\n",
       "      <th class=\"blank col1\" >&nbsp;</th>\n",
       "      <th class=\"blank col2\" >&nbsp;</th>\n",
       "      <th class=\"blank col3\" >&nbsp;</th>\n",
       "      <th class=\"blank col4\" >&nbsp;</th>\n",
       "      <th class=\"blank col5\" >&nbsp;</th>\n",
       "      <th class=\"blank col6\" >&nbsp;</th>\n",
       "    </tr>\n",
       "  </thead>\n",
       "  <tbody>\n",
       "    <tr>\n",
       "      <th id=\"T_14335_level0_row0\" class=\"row_heading level0 row0\" >0</th>\n",
       "      <td id=\"T_14335_row0_col0\" class=\"data row0 col0\" >0.6173</td>\n",
       "      <td id=\"T_14335_row0_col1\" class=\"data row0 col1\" >0.6546</td>\n",
       "      <td id=\"T_14335_row0_col2\" class=\"data row0 col2\" >0.7868</td>\n",
       "      <td id=\"T_14335_row0_col3\" class=\"data row0 col3\" >0.6180</td>\n",
       "      <td id=\"T_14335_row0_col4\" class=\"data row0 col4\" >0.6923</td>\n",
       "      <td id=\"T_14335_row0_col5\" class=\"data row0 col5\" >0.2051</td>\n",
       "      <td id=\"T_14335_row0_col6\" class=\"data row0 col6\" >0.2158</td>\n",
       "    </tr>\n",
       "    <tr>\n",
       "      <th id=\"T_14335_level0_row1\" class=\"row_heading level0 row1\" >1</th>\n",
       "      <td id=\"T_14335_row1_col0\" class=\"data row1 col0\" >0.6181</td>\n",
       "      <td id=\"T_14335_row1_col1\" class=\"data row1 col1\" >0.6491</td>\n",
       "      <td id=\"T_14335_row1_col2\" class=\"data row1 col2\" >0.7876</td>\n",
       "      <td id=\"T_14335_row1_col3\" class=\"data row1 col3\" >0.6186</td>\n",
       "      <td id=\"T_14335_row1_col4\" class=\"data row1 col4\" >0.6929</td>\n",
       "      <td id=\"T_14335_row1_col5\" class=\"data row1 col5\" >0.2068</td>\n",
       "      <td id=\"T_14335_row1_col6\" class=\"data row1 col6\" >0.2175</td>\n",
       "    </tr>\n",
       "    <tr>\n",
       "      <th id=\"T_14335_level0_row2\" class=\"row_heading level0 row2\" >2</th>\n",
       "      <td id=\"T_14335_row2_col0\" class=\"data row2 col0\" >0.6137</td>\n",
       "      <td id=\"T_14335_row2_col1\" class=\"data row2 col1\" >0.6503</td>\n",
       "      <td id=\"T_14335_row2_col2\" class=\"data row2 col2\" >0.7863</td>\n",
       "      <td id=\"T_14335_row2_col3\" class=\"data row2 col3\" >0.6150</td>\n",
       "      <td id=\"T_14335_row2_col4\" class=\"data row2 col4\" >0.6902</td>\n",
       "      <td id=\"T_14335_row2_col5\" class=\"data row2 col5\" >0.1972</td>\n",
       "      <td id=\"T_14335_row2_col6\" class=\"data row2 col6\" >0.2080</td>\n",
       "    </tr>\n",
       "    <tr>\n",
       "      <th id=\"T_14335_level0_row3\" class=\"row_heading level0 row3\" >3</th>\n",
       "      <td id=\"T_14335_row3_col0\" class=\"data row3 col0\" >0.6065</td>\n",
       "      <td id=\"T_14335_row3_col1\" class=\"data row3 col1\" >0.6409</td>\n",
       "      <td id=\"T_14335_row3_col2\" class=\"data row3 col2\" >0.7755</td>\n",
       "      <td id=\"T_14335_row3_col3\" class=\"data row3 col3\" >0.6106</td>\n",
       "      <td id=\"T_14335_row3_col4\" class=\"data row3 col4\" >0.6832</td>\n",
       "      <td id=\"T_14335_row3_col5\" class=\"data row3 col5\" >0.1830</td>\n",
       "      <td id=\"T_14335_row3_col6\" class=\"data row3 col6\" >0.1923</td>\n",
       "    </tr>\n",
       "    <tr>\n",
       "      <th id=\"T_14335_level0_row4\" class=\"row_heading level0 row4\" >4</th>\n",
       "      <td id=\"T_14335_row4_col0\" class=\"data row4 col0\" >0.6091</td>\n",
       "      <td id=\"T_14335_row4_col1\" class=\"data row4 col1\" >0.6455</td>\n",
       "      <td id=\"T_14335_row4_col2\" class=\"data row4 col2\" >0.7829</td>\n",
       "      <td id=\"T_14335_row4_col3\" class=\"data row4 col3\" >0.6116</td>\n",
       "      <td id=\"T_14335_row4_col4\" class=\"data row4 col4\" >0.6867</td>\n",
       "      <td id=\"T_14335_row4_col5\" class=\"data row4 col5\" >0.1876</td>\n",
       "      <td id=\"T_14335_row4_col6\" class=\"data row4 col6\" >0.1979</td>\n",
       "    </tr>\n",
       "    <tr>\n",
       "      <th id=\"T_14335_level0_row5\" class=\"row_heading level0 row5\" >5</th>\n",
       "      <td id=\"T_14335_row5_col0\" class=\"data row5 col0\" >0.6110</td>\n",
       "      <td id=\"T_14335_row5_col1\" class=\"data row5 col1\" >0.6460</td>\n",
       "      <td id=\"T_14335_row5_col2\" class=\"data row5 col2\" >0.7783</td>\n",
       "      <td id=\"T_14335_row5_col3\" class=\"data row5 col3\" >0.6140</td>\n",
       "      <td id=\"T_14335_row5_col4\" class=\"data row5 col4\" >0.6865</td>\n",
       "      <td id=\"T_14335_row5_col5\" class=\"data row5 col5\" >0.1925</td>\n",
       "      <td id=\"T_14335_row5_col6\" class=\"data row5 col6\" >0.2021</td>\n",
       "    </tr>\n",
       "    <tr>\n",
       "      <th id=\"T_14335_level0_row6\" class=\"row_heading level0 row6\" >6</th>\n",
       "      <td id=\"T_14335_row6_col0\" class=\"data row6 col0\" >0.6121</td>\n",
       "      <td id=\"T_14335_row6_col1\" class=\"data row6 col1\" >0.6487</td>\n",
       "      <td id=\"T_14335_row6_col2\" class=\"data row6 col2\" >0.7826</td>\n",
       "      <td id=\"T_14335_row6_col3\" class=\"data row6 col3\" >0.6142</td>\n",
       "      <td id=\"T_14335_row6_col4\" class=\"data row6 col4\" >0.6883</td>\n",
       "      <td id=\"T_14335_row6_col5\" class=\"data row6 col5\" >0.1942</td>\n",
       "      <td id=\"T_14335_row6_col6\" class=\"data row6 col6\" >0.2044</td>\n",
       "    </tr>\n",
       "    <tr>\n",
       "      <th id=\"T_14335_level0_row7\" class=\"row_heading level0 row7\" >7</th>\n",
       "      <td id=\"T_14335_row7_col0\" class=\"data row7 col0\" >0.6172</td>\n",
       "      <td id=\"T_14335_row7_col1\" class=\"data row7 col1\" >0.6535</td>\n",
       "      <td id=\"T_14335_row7_col2\" class=\"data row7 col2\" >0.7856</td>\n",
       "      <td id=\"T_14335_row7_col3\" class=\"data row7 col3\" >0.6182</td>\n",
       "      <td id=\"T_14335_row7_col4\" class=\"data row7 col4\" >0.6919</td>\n",
       "      <td id=\"T_14335_row7_col5\" class=\"data row7 col5\" >0.2051</td>\n",
       "      <td id=\"T_14335_row7_col6\" class=\"data row7 col6\" >0.2156</td>\n",
       "    </tr>\n",
       "    <tr>\n",
       "      <th id=\"T_14335_level0_row8\" class=\"row_heading level0 row8\" >8</th>\n",
       "      <td id=\"T_14335_row8_col0\" class=\"data row8 col0\" >0.6182</td>\n",
       "      <td id=\"T_14335_row8_col1\" class=\"data row8 col1\" >0.6534</td>\n",
       "      <td id=\"T_14335_row8_col2\" class=\"data row8 col2\" >0.7857</td>\n",
       "      <td id=\"T_14335_row8_col3\" class=\"data row8 col3\" >0.6190</td>\n",
       "      <td id=\"T_14335_row8_col4\" class=\"data row8 col4\" >0.6924</td>\n",
       "      <td id=\"T_14335_row8_col5\" class=\"data row8 col5\" >0.2073</td>\n",
       "      <td id=\"T_14335_row8_col6\" class=\"data row8 col6\" >0.2177</td>\n",
       "    </tr>\n",
       "    <tr>\n",
       "      <th id=\"T_14335_level0_row9\" class=\"row_heading level0 row9\" >9</th>\n",
       "      <td id=\"T_14335_row9_col0\" class=\"data row9 col0\" >0.6087</td>\n",
       "      <td id=\"T_14335_row9_col1\" class=\"data row9 col1\" >0.6453</td>\n",
       "      <td id=\"T_14335_row9_col2\" class=\"data row9 col2\" >0.7773</td>\n",
       "      <td id=\"T_14335_row9_col3\" class=\"data row9 col3\" >0.6122</td>\n",
       "      <td id=\"T_14335_row9_col4\" class=\"data row9 col4\" >0.6849</td>\n",
       "      <td id=\"T_14335_row9_col5\" class=\"data row9 col5\" >0.1877</td>\n",
       "      <td id=\"T_14335_row9_col6\" class=\"data row9 col6\" >0.1972</td>\n",
       "    </tr>\n",
       "    <tr>\n",
       "      <th id=\"T_14335_level0_row10\" class=\"row_heading level0 row10\" >Mean</th>\n",
       "      <td id=\"T_14335_row10_col0\" class=\"data row10 col0\" >0.6132</td>\n",
       "      <td id=\"T_14335_row10_col1\" class=\"data row10 col1\" >0.6487</td>\n",
       "      <td id=\"T_14335_row10_col2\" class=\"data row10 col2\" >0.7829</td>\n",
       "      <td id=\"T_14335_row10_col3\" class=\"data row10 col3\" >0.6151</td>\n",
       "      <td id=\"T_14335_row10_col4\" class=\"data row10 col4\" >0.6889</td>\n",
       "      <td id=\"T_14335_row10_col5\" class=\"data row10 col5\" >0.1967</td>\n",
       "      <td id=\"T_14335_row10_col6\" class=\"data row10 col6\" >0.2068</td>\n",
       "    </tr>\n",
       "    <tr>\n",
       "      <th id=\"T_14335_level0_row11\" class=\"row_heading level0 row11\" >Std</th>\n",
       "      <td id=\"T_14335_row11_col0\" class=\"data row11 col0\" >0.0041</td>\n",
       "      <td id=\"T_14335_row11_col1\" class=\"data row11 col1\" >0.0042</td>\n",
       "      <td id=\"T_14335_row11_col2\" class=\"data row11 col2\" >0.0041</td>\n",
       "      <td id=\"T_14335_row11_col3\" class=\"data row11 col3\" >0.0030</td>\n",
       "      <td id=\"T_14335_row11_col4\" class=\"data row11 col4\" >0.0033</td>\n",
       "      <td id=\"T_14335_row11_col5\" class=\"data row11 col5\" >0.0085</td>\n",
       "      <td id=\"T_14335_row11_col6\" class=\"data row11 col6\" >0.0090</td>\n",
       "    </tr>\n",
       "  </tbody>\n",
       "</table>\n"
      ],
      "text/plain": [
       "<pandas.io.formats.style.Styler at 0x7f9406757eb0>"
      ]
     },
     "metadata": {},
     "output_type": "display_data"
    },
    {
     "data": {
      "text/html": [],
      "text/plain": [
       "<IPython.core.display.HTML object>"
      ]
     },
     "metadata": {},
     "output_type": "display_data"
    },
    {
     "data": {
      "text/html": [],
      "text/plain": [
       "<IPython.core.display.HTML object>"
      ]
     },
     "metadata": {},
     "output_type": "display_data"
    },
    {
     "data": {
      "image/png": "[encoded data removed]",
      "text/plain": [
       "<Figure size 480x330 with 1 Axes>"
      ]
     },
     "metadata": {},
     "output_type": "display_data"
    },
    {
     "data": {
      "text/html": [],
      "text/plain": [
       "<IPython.core.display.HTML object>"
      ]
     },
     "metadata": {},
     "output_type": "display_data"
    },
    {
     "data": {
      "text/html": [
       "<style type=\"text/css\">\n",
       "#T_157ac_row10_col0, #T_157ac_row10_col1, #T_157ac_row10_col2, #T_157ac_row10_col3, #T_157ac_row10_col4, #T_157ac_row10_col5, #T_157ac_row10_col6 {\n",
       "  background: yellow;\n",
       "}\n",
       "</style>\n",
       "<table id=\"T_157ac\">\n",
       "  <thead>\n",
       "    <tr>\n",
       "      <th class=\"blank level0\" >&nbsp;</th>\n",
       "      <th id=\"T_157ac_level0_col0\" class=\"col_heading level0 col0\" >Accuracy</th>\n",
       "      <th id=\"T_157ac_level0_col1\" class=\"col_heading level0 col1\" >AUC</th>\n",
       "      <th id=\"T_157ac_level0_col2\" class=\"col_heading level0 col2\" >Recall</th>\n",
       "      <th id=\"T_157ac_level0_col3\" class=\"col_heading level0 col3\" >Prec.</th>\n",
       "      <th id=\"T_157ac_level0_col4\" class=\"col_heading level0 col4\" >F1</th>\n",
       "      <th id=\"T_157ac_level0_col5\" class=\"col_heading level0 col5\" >Kappa</th>\n",
       "      <th id=\"T_157ac_level0_col6\" class=\"col_heading level0 col6\" >MCC</th>\n",
       "    </tr>\n",
       "    <tr>\n",
       "      <th class=\"index_name level0\" >Fold</th>\n",
       "      <th class=\"blank col0\" >&nbsp;</th>\n",
       "      <th class=\"blank col1\" >&nbsp;</th>\n",
       "      <th class=\"blank col2\" >&nbsp;</th>\n",
       "      <th class=\"blank col3\" >&nbsp;</th>\n",
       "      <th class=\"blank col4\" >&nbsp;</th>\n",
       "      <th class=\"blank col5\" >&nbsp;</th>\n",
       "      <th class=\"blank col6\" >&nbsp;</th>\n",
       "    </tr>\n",
       "  </thead>\n",
       "  <tbody>\n",
       "    <tr>\n",
       "      <th id=\"T_157ac_level0_row0\" class=\"row_heading level0 row0\" >0</th>\n",
       "      <td id=\"T_157ac_row0_col0\" class=\"data row0 col0\" >0.6027</td>\n",
       "      <td id=\"T_157ac_row0_col1\" class=\"data row0 col1\" >0.6311</td>\n",
       "      <td id=\"T_157ac_row0_col2\" class=\"data row0 col2\" >0.7437</td>\n",
       "      <td id=\"T_157ac_row0_col3\" class=\"data row0 col3\" >0.6129</td>\n",
       "      <td id=\"T_157ac_row0_col4\" class=\"data row0 col4\" >0.6720</td>\n",
       "      <td id=\"T_157ac_row0_col5\" class=\"data row0 col5\" >0.1802</td>\n",
       "      <td id=\"T_157ac_row0_col6\" class=\"data row0 col6\" >0.1856</td>\n",
       "    </tr>\n",
       "    <tr>\n",
       "      <th id=\"T_157ac_level0_row1\" class=\"row_heading level0 row1\" >1</th>\n",
       "      <td id=\"T_157ac_row1_col0\" class=\"data row1 col0\" >0.6038</td>\n",
       "      <td id=\"T_157ac_row1_col1\" class=\"data row1 col1\" >0.6335</td>\n",
       "      <td id=\"T_157ac_row1_col2\" class=\"data row1 col2\" >0.7436</td>\n",
       "      <td id=\"T_157ac_row1_col3\" class=\"data row1 col3\" >0.6139</td>\n",
       "      <td id=\"T_157ac_row1_col4\" class=\"data row1 col4\" >0.6725</td>\n",
       "      <td id=\"T_157ac_row1_col5\" class=\"data row1 col5\" >0.1826</td>\n",
       "      <td id=\"T_157ac_row1_col6\" class=\"data row1 col6\" >0.1881</td>\n",
       "    </tr>\n",
       "    <tr>\n",
       "      <th id=\"T_157ac_level0_row2\" class=\"row_heading level0 row2\" >2</th>\n",
       "      <td id=\"T_157ac_row2_col0\" class=\"data row2 col0\" >0.5983</td>\n",
       "      <td id=\"T_157ac_row2_col1\" class=\"data row2 col1\" >0.6278</td>\n",
       "      <td id=\"T_157ac_row2_col2\" class=\"data row2 col2\" >0.7450</td>\n",
       "      <td id=\"T_157ac_row2_col3\" class=\"data row2 col3\" >0.6085</td>\n",
       "      <td id=\"T_157ac_row2_col4\" class=\"data row2 col4\" >0.6699</td>\n",
       "      <td id=\"T_157ac_row2_col5\" class=\"data row2 col5\" >0.1700</td>\n",
       "      <td id=\"T_157ac_row2_col6\" class=\"data row2 col6\" >0.1757</td>\n",
       "    </tr>\n",
       "    <tr>\n",
       "      <th id=\"T_157ac_level0_row3\" class=\"row_heading level0 row3\" >3</th>\n",
       "      <td id=\"T_157ac_row3_col0\" class=\"data row3 col0\" >0.5946</td>\n",
       "      <td id=\"T_157ac_row3_col1\" class=\"data row3 col1\" >0.6210</td>\n",
       "      <td id=\"T_157ac_row3_col2\" class=\"data row3 col2\" >0.7307</td>\n",
       "      <td id=\"T_157ac_row3_col3\" class=\"data row3 col3\" >0.6078</td>\n",
       "      <td id=\"T_157ac_row3_col4\" class=\"data row3 col4\" >0.6636</td>\n",
       "      <td id=\"T_157ac_row3_col5\" class=\"data row3 col5\" >0.1643</td>\n",
       "      <td id=\"T_157ac_row3_col6\" class=\"data row3 col6\" >0.1688</td>\n",
       "    </tr>\n",
       "    <tr>\n",
       "      <th id=\"T_157ac_level0_row4\" class=\"row_heading level0 row4\" >4</th>\n",
       "      <td id=\"T_157ac_row4_col0\" class=\"data row4 col0\" >0.5998</td>\n",
       "      <td id=\"T_157ac_row4_col1\" class=\"data row4 col1\" >0.6264</td>\n",
       "      <td id=\"T_157ac_row4_col2\" class=\"data row4 col2\" >0.7436</td>\n",
       "      <td id=\"T_157ac_row4_col3\" class=\"data row4 col3\" >0.6102</td>\n",
       "      <td id=\"T_157ac_row4_col4\" class=\"data row4 col4\" >0.6703</td>\n",
       "      <td id=\"T_157ac_row4_col5\" class=\"data row4 col5\" >0.1737</td>\n",
       "      <td id=\"T_157ac_row4_col6\" class=\"data row4 col6\" >0.1792</td>\n",
       "    </tr>\n",
       "    <tr>\n",
       "      <th id=\"T_157ac_level0_row5\" class=\"row_heading level0 row5\" >5</th>\n",
       "      <td id=\"T_157ac_row5_col0\" class=\"data row5 col0\" >0.6009</td>\n",
       "      <td id=\"T_157ac_row5_col1\" class=\"data row5 col1\" >0.6270</td>\n",
       "      <td id=\"T_157ac_row5_col2\" class=\"data row5 col2\" >0.7465</td>\n",
       "      <td id=\"T_157ac_row5_col3\" class=\"data row5 col3\" >0.6107</td>\n",
       "      <td id=\"T_157ac_row5_col4\" class=\"data row5 col4\" >0.6718</td>\n",
       "      <td id=\"T_157ac_row5_col5\" class=\"data row5 col5\" >0.1756</td>\n",
       "      <td id=\"T_157ac_row5_col6\" class=\"data row5 col6\" >0.1814</td>\n",
       "    </tr>\n",
       "    <tr>\n",
       "      <th id=\"T_157ac_level0_row6\" class=\"row_heading level0 row6\" >6</th>\n",
       "      <td id=\"T_157ac_row6_col0\" class=\"data row6 col0\" >0.6021</td>\n",
       "      <td id=\"T_157ac_row6_col1\" class=\"data row6 col1\" >0.6283</td>\n",
       "      <td id=\"T_157ac_row6_col2\" class=\"data row6 col2\" >0.7452</td>\n",
       "      <td id=\"T_157ac_row6_col3\" class=\"data row6 col3\" >0.6120</td>\n",
       "      <td id=\"T_157ac_row6_col4\" class=\"data row6 col4\" >0.6721</td>\n",
       "      <td id=\"T_157ac_row6_col5\" class=\"data row6 col5\" >0.1784</td>\n",
       "      <td id=\"T_157ac_row6_col6\" class=\"data row6 col6\" >0.1840</td>\n",
       "    </tr>\n",
       "    <tr>\n",
       "      <th id=\"T_157ac_level0_row7\" class=\"row_heading level0 row7\" >7</th>\n",
       "      <td id=\"T_157ac_row7_col0\" class=\"data row7 col0\" >0.6042</td>\n",
       "      <td id=\"T_157ac_row7_col1\" class=\"data row7 col1\" >0.6319</td>\n",
       "      <td id=\"T_157ac_row7_col2\" class=\"data row7 col2\" >0.7439</td>\n",
       "      <td id=\"T_157ac_row7_col3\" class=\"data row7 col3\" >0.6142</td>\n",
       "      <td id=\"T_157ac_row7_col4\" class=\"data row7 col4\" >0.6729</td>\n",
       "      <td id=\"T_157ac_row7_col5\" class=\"data row7 col5\" >0.1833</td>\n",
       "      <td id=\"T_157ac_row7_col6\" class=\"data row7 col6\" >0.1887</td>\n",
       "    </tr>\n",
       "    <tr>\n",
       "      <th id=\"T_157ac_level0_row8\" class=\"row_heading level0 row8\" >8</th>\n",
       "      <td id=\"T_157ac_row8_col0\" class=\"data row8 col0\" >0.6055</td>\n",
       "      <td id=\"T_157ac_row8_col1\" class=\"data row8 col1\" >0.6333</td>\n",
       "      <td id=\"T_157ac_row8_col2\" class=\"data row8 col2\" >0.7435</td>\n",
       "      <td id=\"T_157ac_row8_col3\" class=\"data row8 col3\" >0.6155</td>\n",
       "      <td id=\"T_157ac_row8_col4\" class=\"data row8 col4\" >0.6735</td>\n",
       "      <td id=\"T_157ac_row8_col5\" class=\"data row8 col5\" >0.1864</td>\n",
       "      <td id=\"T_157ac_row8_col6\" class=\"data row8 col6\" >0.1918</td>\n",
       "    </tr>\n",
       "    <tr>\n",
       "      <th id=\"T_157ac_level0_row9\" class=\"row_heading level0 row9\" >9</th>\n",
       "      <td id=\"T_157ac_row9_col0\" class=\"data row9 col0\" >0.5998</td>\n",
       "      <td id=\"T_157ac_row9_col1\" class=\"data row9 col1\" >0.6287</td>\n",
       "      <td id=\"T_157ac_row9_col2\" class=\"data row9 col2\" >0.7368</td>\n",
       "      <td id=\"T_157ac_row9_col3\" class=\"data row9 col3\" >0.6114</td>\n",
       "      <td id=\"T_157ac_row9_col4\" class=\"data row9 col4\" >0.6683</td>\n",
       "      <td id=\"T_157ac_row9_col5\" class=\"data row9 col5\" >0.1749</td>\n",
       "      <td id=\"T_157ac_row9_col6\" class=\"data row9 col6\" >0.1798</td>\n",
       "    </tr>\n",
       "    <tr>\n",
       "      <th id=\"T_157ac_level0_row10\" class=\"row_heading level0 row10\" >Mean</th>\n",
       "      <td id=\"T_157ac_row10_col0\" class=\"data row10 col0\" >0.6012</td>\n",
       "      <td id=\"T_157ac_row10_col1\" class=\"data row10 col1\" >0.6289</td>\n",
       "      <td id=\"T_157ac_row10_col2\" class=\"data row10 col2\" >0.7422</td>\n",
       "      <td id=\"T_157ac_row10_col3\" class=\"data row10 col3\" >0.6117</td>\n",
       "      <td id=\"T_157ac_row10_col4\" class=\"data row10 col4\" >0.6707</td>\n",
       "      <td id=\"T_157ac_row10_col5\" class=\"data row10 col5\" >0.1769</td>\n",
       "      <td id=\"T_157ac_row10_col6\" class=\"data row10 col6\" >0.1823</td>\n",
       "    </tr>\n",
       "    <tr>\n",
       "      <th id=\"T_157ac_level0_row11\" class=\"row_heading level0 row11\" >Std</th>\n",
       "      <td id=\"T_157ac_row11_col0\" class=\"data row11 col0\" >0.0031</td>\n",
       "      <td id=\"T_157ac_row11_col1\" class=\"data row11 col1\" >0.0036</td>\n",
       "      <td id=\"T_157ac_row11_col2\" class=\"data row11 col2\" >0.0046</td>\n",
       "      <td id=\"T_157ac_row11_col3\" class=\"data row11 col3\" >0.0024</td>\n",
       "      <td id=\"T_157ac_row11_col4\" class=\"data row11 col4\" >0.0028</td>\n",
       "      <td id=\"T_157ac_row11_col5\" class=\"data row11 col5\" >0.0063</td>\n",
       "      <td id=\"T_157ac_row11_col6\" class=\"data row11 col6\" >0.0065</td>\n",
       "    </tr>\n",
       "  </tbody>\n",
       "</table>\n"
      ],
      "text/plain": [
       "<pandas.io.formats.style.Styler at 0x7f94070ec0d0>"
      ]
     },
     "metadata": {},
     "output_type": "display_data"
    },
    {
     "data": {
      "text/html": [],
      "text/plain": [
       "<IPython.core.display.HTML object>"
      ]
     },
     "metadata": {},
     "output_type": "display_data"
    },
    {
     "data": {
      "text/html": [],
      "text/plain": [
       "<IPython.core.display.HTML object>"
      ]
     },
     "metadata": {},
     "output_type": "display_data"
    },
    {
     "data": {
      "image/png": "[encoded data removed]",
      "text/plain": [
       "<Figure size 480x330 with 1 Axes>"
      ]
     },
     "metadata": {},
     "output_type": "display_data"
    }
   ],
   "source": [
    "regression_model_ada, regression_model_lightgbm, regression_model_gbc, regression_model_rf = model.common.create_models(train_data, target_column)"
   ]
  },
  {
   "cell_type": "markdown",
   "metadata": {
    "execution": {
     "iopub.execute_input": "2023-06-08T23:08:22.530994Z",
     "iopub.status.busy": "2023-06-08T23:08:22.529719Z",
     "iopub.status.idle": "2023-06-08T23:08:22.542651Z",
     "shell.execute_reply": "2023-06-08T23:08:22.540043Z",
     "shell.execute_reply.started": "2023-06-08T23:08:22.530922Z"
    }
   },
   "source": [
    "**evaluate model**"
   ]
  },
  {
   "cell_type": "markdown",
   "metadata": {},
   "source": [
    "`lightgbm` shows very good AUC of `0.97`, `rf` as well with `1.0` train AUC.\n",
    "\n",
    "`rf` seemed like too overfit with 1.0 train AUC but its test precision as well is the best among others.\n",
    "\n",
    "`ada` shows very low recall thus inpractical.\n"
   ]
  },
  {
   "cell_type": "code",
   "execution_count": 16,
   "metadata": {
    "execution": {
     "iopub.execute_input": "2023-07-03T22:48:46.640324Z",
     "iopub.status.busy": "2023-07-03T22:48:46.640152Z",
     "iopub.status.idle": "2023-07-03T22:49:11.082607Z",
     "shell.execute_reply": "2023-07-03T22:49:11.081009Z",
     "shell.execute_reply.started": "2023-07-03T22:48:46.640310Z"
    }
   },
   "outputs": [
    {
     "data": {
      "text/html": [
       "<style type=\"text/css\">\n",
       "</style>\n",
       "<table id=\"T_8b303\">\n",
       "  <thead>\n",
       "    <tr>\n",
       "      <th class=\"blank level0\" >&nbsp;</th>\n",
       "      <th id=\"T_8b303_level0_col0\" class=\"col_heading level0 col0\" >Model</th>\n",
       "      <th id=\"T_8b303_level0_col1\" class=\"col_heading level0 col1\" >Accuracy</th>\n",
       "      <th id=\"T_8b303_level0_col2\" class=\"col_heading level0 col2\" >AUC</th>\n",
       "      <th id=\"T_8b303_level0_col3\" class=\"col_heading level0 col3\" >Recall</th>\n",
       "      <th id=\"T_8b303_level0_col4\" class=\"col_heading level0 col4\" >Prec.</th>\n",
       "      <th id=\"T_8b303_level0_col5\" class=\"col_heading level0 col5\" >F1</th>\n",
       "      <th id=\"T_8b303_level0_col6\" class=\"col_heading level0 col6\" >Kappa</th>\n",
       "      <th id=\"T_8b303_level0_col7\" class=\"col_heading level0 col7\" >MCC</th>\n",
       "    </tr>\n",
       "  </thead>\n",
       "  <tbody>\n",
       "    <tr>\n",
       "      <th id=\"T_8b303_level0_row0\" class=\"row_heading level0 row0\" >0</th>\n",
       "      <td id=\"T_8b303_row0_col0\" class=\"data row0 col0\" >Ada Boost Classifier</td>\n",
       "      <td id=\"T_8b303_row0_col1\" class=\"data row0 col1\" >0.6124</td>\n",
       "      <td id=\"T_8b303_row0_col2\" class=\"data row0 col2\" >0.6457</td>\n",
       "      <td id=\"T_8b303_row0_col3\" class=\"data row0 col3\" >0.7757</td>\n",
       "      <td id=\"T_8b303_row0_col4\" class=\"data row0 col4\" >0.6158</td>\n",
       "      <td id=\"T_8b303_row0_col5\" class=\"data row0 col5\" >0.6866</td>\n",
       "      <td id=\"T_8b303_row0_col6\" class=\"data row0 col6\" >0.1962</td>\n",
       "      <td id=\"T_8b303_row0_col7\" class=\"data row0 col7\" >0.2053</td>\n",
       "    </tr>\n",
       "  </tbody>\n",
       "</table>\n"
      ],
      "text/plain": [
       "<pandas.io.formats.style.Styler at 0x7f940727bca0>"
      ]
     },
     "metadata": {},
     "output_type": "display_data"
    },
    {
     "data": {
      "text/html": [
       "<style type=\"text/css\">\n",
       "</style>\n",
       "<table id=\"T_bc3cd\">\n",
       "  <thead>\n",
       "    <tr>\n",
       "      <th class=\"blank level0\" >&nbsp;</th>\n",
       "      <th id=\"T_bc3cd_level0_col0\" class=\"col_heading level0 col0\" >Model</th>\n",
       "      <th id=\"T_bc3cd_level0_col1\" class=\"col_heading level0 col1\" >Accuracy</th>\n",
       "      <th id=\"T_bc3cd_level0_col2\" class=\"col_heading level0 col2\" >AUC</th>\n",
       "      <th id=\"T_bc3cd_level0_col3\" class=\"col_heading level0 col3\" >Recall</th>\n",
       "      <th id=\"T_bc3cd_level0_col4\" class=\"col_heading level0 col4\" >Prec.</th>\n",
       "      <th id=\"T_bc3cd_level0_col5\" class=\"col_heading level0 col5\" >F1</th>\n",
       "      <th id=\"T_bc3cd_level0_col6\" class=\"col_heading level0 col6\" >Kappa</th>\n",
       "      <th id=\"T_bc3cd_level0_col7\" class=\"col_heading level0 col7\" >MCC</th>\n",
       "    </tr>\n",
       "  </thead>\n",
       "  <tbody>\n",
       "    <tr>\n",
       "      <th id=\"T_bc3cd_level0_row0\" class=\"row_heading level0 row0\" >0</th>\n",
       "      <td id=\"T_bc3cd_row0_col0\" class=\"data row0 col0\" >Gradient Boosting Classifier</td>\n",
       "      <td id=\"T_bc3cd_row0_col1\" class=\"data row0 col1\" >0.6164</td>\n",
       "      <td id=\"T_bc3cd_row0_col2\" class=\"data row0 col2\" >0.6534</td>\n",
       "      <td id=\"T_bc3cd_row0_col3\" class=\"data row0 col3\" >0.7852</td>\n",
       "      <td id=\"T_bc3cd_row0_col4\" class=\"data row0 col4\" >0.6175</td>\n",
       "      <td id=\"T_bc3cd_row0_col5\" class=\"data row0 col5\" >0.6913</td>\n",
       "      <td id=\"T_bc3cd_row0_col6\" class=\"data row0 col6\" >0.2034</td>\n",
       "      <td id=\"T_bc3cd_row0_col7\" class=\"data row0 col7\" >0.2138</td>\n",
       "    </tr>\n",
       "  </tbody>\n",
       "</table>\n"
      ],
      "text/plain": [
       "<pandas.io.formats.style.Styler at 0x7f94072791e0>"
      ]
     },
     "metadata": {},
     "output_type": "display_data"
    },
    {
     "data": {
      "text/html": [
       "<style type=\"text/css\">\n",
       "</style>\n",
       "<table id=\"T_e3cb6\">\n",
       "  <thead>\n",
       "    <tr>\n",
       "      <th class=\"blank level0\" >&nbsp;</th>\n",
       "      <th id=\"T_e3cb6_level0_col0\" class=\"col_heading level0 col0\" >Model</th>\n",
       "      <th id=\"T_e3cb6_level0_col1\" class=\"col_heading level0 col1\" >Accuracy</th>\n",
       "      <th id=\"T_e3cb6_level0_col2\" class=\"col_heading level0 col2\" >AUC</th>\n",
       "      <th id=\"T_e3cb6_level0_col3\" class=\"col_heading level0 col3\" >Recall</th>\n",
       "      <th id=\"T_e3cb6_level0_col4\" class=\"col_heading level0 col4\" >Prec.</th>\n",
       "      <th id=\"T_e3cb6_level0_col5\" class=\"col_heading level0 col5\" >F1</th>\n",
       "      <th id=\"T_e3cb6_level0_col6\" class=\"col_heading level0 col6\" >Kappa</th>\n",
       "      <th id=\"T_e3cb6_level0_col7\" class=\"col_heading level0 col7\" >MCC</th>\n",
       "    </tr>\n",
       "  </thead>\n",
       "  <tbody>\n",
       "    <tr>\n",
       "      <th id=\"T_e3cb6_level0_row0\" class=\"row_heading level0 row0\" >0</th>\n",
       "      <td id=\"T_e3cb6_row0_col0\" class=\"data row0 col0\" >Light Gradient Boosting Machine</td>\n",
       "      <td id=\"T_e3cb6_row0_col1\" class=\"data row0 col1\" >0.6267</td>\n",
       "      <td id=\"T_e3cb6_row0_col2\" class=\"data row0 col2\" >0.6674</td>\n",
       "      <td id=\"T_e3cb6_row0_col3\" class=\"data row0 col3\" >0.7955</td>\n",
       "      <td id=\"T_e3cb6_row0_col4\" class=\"data row0 col4\" >0.6248</td>\n",
       "      <td id=\"T_e3cb6_row0_col5\" class=\"data row0 col5\" >0.6999</td>\n",
       "      <td id=\"T_e3cb6_row0_col6\" class=\"data row0 col6\" >0.2248</td>\n",
       "      <td id=\"T_e3cb6_row0_col7\" class=\"data row0 col7\" >0.2364</td>\n",
       "    </tr>\n",
       "  </tbody>\n",
       "</table>\n"
      ],
      "text/plain": [
       "<pandas.io.formats.style.Styler at 0x7f940727bc40>"
      ]
     },
     "metadata": {},
     "output_type": "display_data"
    },
    {
     "data": {
      "text/html": [
       "<style type=\"text/css\">\n",
       "</style>\n",
       "<table id=\"T_d92ec\">\n",
       "  <thead>\n",
       "    <tr>\n",
       "      <th class=\"blank level0\" >&nbsp;</th>\n",
       "      <th id=\"T_d92ec_level0_col0\" class=\"col_heading level0 col0\" >Model</th>\n",
       "      <th id=\"T_d92ec_level0_col1\" class=\"col_heading level0 col1\" >Accuracy</th>\n",
       "      <th id=\"T_d92ec_level0_col2\" class=\"col_heading level0 col2\" >AUC</th>\n",
       "      <th id=\"T_d92ec_level0_col3\" class=\"col_heading level0 col3\" >Recall</th>\n",
       "      <th id=\"T_d92ec_level0_col4\" class=\"col_heading level0 col4\" >Prec.</th>\n",
       "      <th id=\"T_d92ec_level0_col5\" class=\"col_heading level0 col5\" >F1</th>\n",
       "      <th id=\"T_d92ec_level0_col6\" class=\"col_heading level0 col6\" >Kappa</th>\n",
       "      <th id=\"T_d92ec_level0_col7\" class=\"col_heading level0 col7\" >MCC</th>\n",
       "    </tr>\n",
       "  </thead>\n",
       "  <tbody>\n",
       "    <tr>\n",
       "      <th id=\"T_d92ec_level0_row0\" class=\"row_heading level0 row0\" >0</th>\n",
       "      <td id=\"T_d92ec_row0_col0\" class=\"data row0 col0\" >Random Forest Classifier</td>\n",
       "      <td id=\"T_d92ec_row0_col1\" class=\"data row0 col1\" >0.8810</td>\n",
       "      <td id=\"T_d92ec_row0_col2\" class=\"data row0 col2\" >0.9636</td>\n",
       "      <td id=\"T_d92ec_row0_col3\" class=\"data row0 col3\" >0.9227</td>\n",
       "      <td id=\"T_d92ec_row0_col4\" class=\"data row0 col4\" >0.8682</td>\n",
       "      <td id=\"T_d92ec_row0_col5\" class=\"data row0 col5\" >0.8946</td>\n",
       "      <td id=\"T_d92ec_row0_col6\" class=\"data row0 col6\" >0.7583</td>\n",
       "      <td id=\"T_d92ec_row0_col7\" class=\"data row0 col7\" >0.7602</td>\n",
       "    </tr>\n",
       "  </tbody>\n",
       "</table>\n"
      ],
      "text/plain": [
       "<pandas.io.formats.style.Styler at 0x7f94065ec3a0>"
      ]
     },
     "metadata": {},
     "output_type": "display_data"
    }
   ],
   "source": [
    "train_prediction_ada, train_prediction_gbc, train_prediction_lightgbm, train_prediction_rf = model.common.batch_predict_and_odds(train_data, [regression_model_ada, regression_model_gbc, regression_model_lightgbm, regression_model_rf])"
   ]
  },
  {
   "cell_type": "code",
   "execution_count": 18,
   "metadata": {
    "execution": {
     "iopub.execute_input": "2023-07-03T22:49:11.343449Z",
     "iopub.status.busy": "2023-07-03T22:49:11.342808Z",
     "iopub.status.idle": "2023-07-03T22:49:11.885966Z",
     "shell.execute_reply": "2023-07-03T22:49:11.884391Z",
     "shell.execute_reply.started": "2023-07-03T22:49:11.343413Z"
    }
   },
   "outputs": [
    {
     "data": {
      "text/html": [
       "<table>\n",
       "<tbody>\n",
       "<tr><td>model   </td><td>0.6        </td><td>0.7        </td><td>0.75      </td><td>0.8       </td></tr>\n",
       "<tr><td>ada     </td><td>(0, nan)   </td><td>(0, nan)   </td><td>(0, nan)  </td><td>(0, nan)  </td></tr>\n",
       "<tr><td>gbc     </td><td>(337, 0.7) </td><td>(92, 0.73) </td><td>(32, 0.97)</td><td>(14, 1.0) </td></tr>\n",
       "<tr><td>lightgbm</td><td>(342, 0.72)</td><td>(111, 0.81)</td><td>(48, 0.92)</td><td>(22, 0.95)</td></tr>\n",
       "<tr><td>rf      </td><td>(649, 0.95)</td><td>(558, 0.99)</td><td>(508, 1.0)</td><td>(383, 1.0)</td></tr>\n",
       "</tbody>\n",
       "</table>"
      ],
      "text/plain": [
       "'<table>\\n<tbody>\\n<tr><td>model   </td><td>0.6        </td><td>0.7        </td><td>0.75      </td><td>0.8       </td></tr>\\n<tr><td>ada     </td><td>(0, nan)   </td><td>(0, nan)   </td><td>(0, nan)  </td><td>(0, nan)  </td></tr>\\n<tr><td>gbc     </td><td>(337, 0.7) </td><td>(92, 0.73) </td><td>(32, 0.97)</td><td>(14, 1.0) </td></tr>\\n<tr><td>lightgbm</td><td>(342, 0.72)</td><td>(111, 0.81)</td><td>(48, 0.92)</td><td>(22, 0.95)</td></tr>\\n<tr><td>rf      </td><td>(649, 0.95)</td><td>(558, 0.99)</td><td>(508, 1.0)</td><td>(383, 1.0)</td></tr>\\n</tbody>\\n</table>'"
      ]
     },
     "execution_count": 18,
     "metadata": {},
     "output_type": "execute_result"
    }
   ],
   "source": [
    "model.common.evaluate_predictions([(train_prediction_ada, \"ada\"), (train_prediction_gbc, \"gbc\"), (train_prediction_lightgbm, \"lightgbm\"), (train_prediction_rf, \"rf\")], [0.6, 0.7, 0.75, 0.8], target_column)"
   ]
  },
  {
   "cell_type": "markdown",
   "metadata": {
    "execution": {
     "iopub.execute_input": "2023-06-07T00:40:23.948013Z",
     "iopub.status.busy": "2023-06-07T00:40:23.947407Z",
     "iopub.status.idle": "2023-06-07T00:40:23.953130Z",
     "shell.execute_reply": "2023-06-07T00:40:23.952520Z",
     "shell.execute_reply.started": "2023-06-07T00:40:23.947955Z"
    }
   },
   "source": [
    "**test prediction**"
   ]
  },
  {
   "cell_type": "code",
   "execution_count": 19,
   "metadata": {
    "execution": {
     "iopub.execute_input": "2023-07-03T22:49:11.888844Z",
     "iopub.status.busy": "2023-07-03T22:49:11.887685Z",
     "iopub.status.idle": "2023-07-03T22:49:14.709904Z",
     "shell.execute_reply": "2023-07-03T22:49:14.708404Z",
     "shell.execute_reply.started": "2023-07-03T22:49:11.888795Z"
    }
   },
   "outputs": [
    {
     "data": {
      "text/html": [
       "<style type=\"text/css\">\n",
       "</style>\n",
       "<table id=\"T_69c7e\">\n",
       "  <thead>\n",
       "    <tr>\n",
       "      <th class=\"blank level0\" >&nbsp;</th>\n",
       "      <th id=\"T_69c7e_level0_col0\" class=\"col_heading level0 col0\" >Model</th>\n",
       "      <th id=\"T_69c7e_level0_col1\" class=\"col_heading level0 col1\" >Accuracy</th>\n",
       "      <th id=\"T_69c7e_level0_col2\" class=\"col_heading level0 col2\" >AUC</th>\n",
       "      <th id=\"T_69c7e_level0_col3\" class=\"col_heading level0 col3\" >Recall</th>\n",
       "      <th id=\"T_69c7e_level0_col4\" class=\"col_heading level0 col4\" >Prec.</th>\n",
       "      <th id=\"T_69c7e_level0_col5\" class=\"col_heading level0 col5\" >F1</th>\n",
       "      <th id=\"T_69c7e_level0_col6\" class=\"col_heading level0 col6\" >Kappa</th>\n",
       "      <th id=\"T_69c7e_level0_col7\" class=\"col_heading level0 col7\" >MCC</th>\n",
       "    </tr>\n",
       "  </thead>\n",
       "  <tbody>\n",
       "    <tr>\n",
       "      <th id=\"T_69c7e_level0_row0\" class=\"row_heading level0 row0\" >0</th>\n",
       "      <td id=\"T_69c7e_row0_col0\" class=\"data row0 col0\" >Ada Boost Classifier</td>\n",
       "      <td id=\"T_69c7e_row0_col1\" class=\"data row0 col1\" >0.5996</td>\n",
       "      <td id=\"T_69c7e_row0_col2\" class=\"data row0 col2\" >0.6126</td>\n",
       "      <td id=\"T_69c7e_row0_col3\" class=\"data row0 col3\" >0.8685</td>\n",
       "      <td id=\"T_69c7e_row0_col4\" class=\"data row0 col4\" >0.6084</td>\n",
       "      <td id=\"T_69c7e_row0_col5\" class=\"data row0 col5\" >0.7156</td>\n",
       "      <td id=\"T_69c7e_row0_col6\" class=\"data row0 col6\" >0.1053</td>\n",
       "      <td id=\"T_69c7e_row0_col7\" class=\"data row0 col7\" >0.1265</td>\n",
       "    </tr>\n",
       "  </tbody>\n",
       "</table>\n"
      ],
      "text/plain": [
       "<pandas.io.formats.style.Styler at 0x7f94070ed060>"
      ]
     },
     "metadata": {},
     "output_type": "display_data"
    },
    {
     "data": {
      "text/html": [
       "<style type=\"text/css\">\n",
       "</style>\n",
       "<table id=\"T_9d405\">\n",
       "  <thead>\n",
       "    <tr>\n",
       "      <th class=\"blank level0\" >&nbsp;</th>\n",
       "      <th id=\"T_9d405_level0_col0\" class=\"col_heading level0 col0\" >Model</th>\n",
       "      <th id=\"T_9d405_level0_col1\" class=\"col_heading level0 col1\" >Accuracy</th>\n",
       "      <th id=\"T_9d405_level0_col2\" class=\"col_heading level0 col2\" >AUC</th>\n",
       "      <th id=\"T_9d405_level0_col3\" class=\"col_heading level0 col3\" >Recall</th>\n",
       "      <th id=\"T_9d405_level0_col4\" class=\"col_heading level0 col4\" >Prec.</th>\n",
       "      <th id=\"T_9d405_level0_col5\" class=\"col_heading level0 col5\" >F1</th>\n",
       "      <th id=\"T_9d405_level0_col6\" class=\"col_heading level0 col6\" >Kappa</th>\n",
       "      <th id=\"T_9d405_level0_col7\" class=\"col_heading level0 col7\" >MCC</th>\n",
       "    </tr>\n",
       "  </thead>\n",
       "  <tbody>\n",
       "    <tr>\n",
       "      <th id=\"T_9d405_level0_row0\" class=\"row_heading level0 row0\" >0</th>\n",
       "      <td id=\"T_9d405_row0_col0\" class=\"data row0 col0\" >Gradient Boosting Classifier</td>\n",
       "      <td id=\"T_9d405_row0_col1\" class=\"data row0 col1\" >0.6052</td>\n",
       "      <td id=\"T_9d405_row0_col2\" class=\"data row0 col2\" >0.6179</td>\n",
       "      <td id=\"T_9d405_row0_col3\" class=\"data row0 col3\" >0.8806</td>\n",
       "      <td id=\"T_9d405_row0_col4\" class=\"data row0 col4\" >0.6107</td>\n",
       "      <td id=\"T_9d405_row0_col5\" class=\"data row0 col5\" >0.7212</td>\n",
       "      <td id=\"T_9d405_row0_col6\" class=\"data row0 col6\" >0.1154</td>\n",
       "      <td id=\"T_9d405_row0_col7\" class=\"data row0 col7\" >0.1409</td>\n",
       "    </tr>\n",
       "  </tbody>\n",
       "</table>\n"
      ],
      "text/plain": [
       "<pandas.io.formats.style.Styler at 0x7f94065eeaa0>"
      ]
     },
     "metadata": {},
     "output_type": "display_data"
    },
    {
     "data": {
      "text/html": [
       "<style type=\"text/css\">\n",
       "</style>\n",
       "<table id=\"T_7b361\">\n",
       "  <thead>\n",
       "    <tr>\n",
       "      <th class=\"blank level0\" >&nbsp;</th>\n",
       "      <th id=\"T_7b361_level0_col0\" class=\"col_heading level0 col0\" >Model</th>\n",
       "      <th id=\"T_7b361_level0_col1\" class=\"col_heading level0 col1\" >Accuracy</th>\n",
       "      <th id=\"T_7b361_level0_col2\" class=\"col_heading level0 col2\" >AUC</th>\n",
       "      <th id=\"T_7b361_level0_col3\" class=\"col_heading level0 col3\" >Recall</th>\n",
       "      <th id=\"T_7b361_level0_col4\" class=\"col_heading level0 col4\" >Prec.</th>\n",
       "      <th id=\"T_7b361_level0_col5\" class=\"col_heading level0 col5\" >F1</th>\n",
       "      <th id=\"T_7b361_level0_col6\" class=\"col_heading level0 col6\" >Kappa</th>\n",
       "      <th id=\"T_7b361_level0_col7\" class=\"col_heading level0 col7\" >MCC</th>\n",
       "    </tr>\n",
       "  </thead>\n",
       "  <tbody>\n",
       "    <tr>\n",
       "      <th id=\"T_7b361_level0_row0\" class=\"row_heading level0 row0\" >0</th>\n",
       "      <td id=\"T_7b361_row0_col0\" class=\"data row0 col0\" >Light Gradient Boosting Machine</td>\n",
       "      <td id=\"T_7b361_row0_col1\" class=\"data row0 col1\" >0.6050</td>\n",
       "      <td id=\"T_7b361_row0_col2\" class=\"data row0 col2\" >0.6147</td>\n",
       "      <td id=\"T_7b361_row0_col3\" class=\"data row0 col3\" >0.8763</td>\n",
       "      <td id=\"T_7b361_row0_col4\" class=\"data row0 col4\" >0.6112</td>\n",
       "      <td id=\"T_7b361_row0_col5\" class=\"data row0 col5\" >0.7201</td>\n",
       "      <td id=\"T_7b361_row0_col6\" class=\"data row0 col6\" >0.1163</td>\n",
       "      <td id=\"T_7b361_row0_col7\" class=\"data row0 col7\" >0.1407</td>\n",
       "    </tr>\n",
       "  </tbody>\n",
       "</table>\n"
      ],
      "text/plain": [
       "<pandas.io.formats.style.Styler at 0x7f94070ef7c0>"
      ]
     },
     "metadata": {},
     "output_type": "display_data"
    },
    {
     "data": {
      "text/html": [
       "<style type=\"text/css\">\n",
       "</style>\n",
       "<table id=\"T_bda7a\">\n",
       "  <thead>\n",
       "    <tr>\n",
       "      <th class=\"blank level0\" >&nbsp;</th>\n",
       "      <th id=\"T_bda7a_level0_col0\" class=\"col_heading level0 col0\" >Model</th>\n",
       "      <th id=\"T_bda7a_level0_col1\" class=\"col_heading level0 col1\" >Accuracy</th>\n",
       "      <th id=\"T_bda7a_level0_col2\" class=\"col_heading level0 col2\" >AUC</th>\n",
       "      <th id=\"T_bda7a_level0_col3\" class=\"col_heading level0 col3\" >Recall</th>\n",
       "      <th id=\"T_bda7a_level0_col4\" class=\"col_heading level0 col4\" >Prec.</th>\n",
       "      <th id=\"T_bda7a_level0_col5\" class=\"col_heading level0 col5\" >F1</th>\n",
       "      <th id=\"T_bda7a_level0_col6\" class=\"col_heading level0 col6\" >Kappa</th>\n",
       "      <th id=\"T_bda7a_level0_col7\" class=\"col_heading level0 col7\" >MCC</th>\n",
       "    </tr>\n",
       "  </thead>\n",
       "  <tbody>\n",
       "    <tr>\n",
       "      <th id=\"T_bda7a_level0_row0\" class=\"row_heading level0 row0\" >0</th>\n",
       "      <td id=\"T_bda7a_row0_col0\" class=\"data row0 col0\" >Random Forest Classifier</td>\n",
       "      <td id=\"T_bda7a_row0_col1\" class=\"data row0 col1\" >0.5935</td>\n",
       "      <td id=\"T_bda7a_row0_col2\" class=\"data row0 col2\" >0.5951</td>\n",
       "      <td id=\"T_bda7a_row0_col3\" class=\"data row0 col3\" >0.8459</td>\n",
       "      <td id=\"T_bda7a_row0_col4\" class=\"data row0 col4\" >0.6074</td>\n",
       "      <td id=\"T_bda7a_row0_col5\" class=\"data row0 col5\" >0.7070</td>\n",
       "      <td id=\"T_bda7a_row0_col6\" class=\"data row0 col6\" >0.0983</td>\n",
       "      <td id=\"T_bda7a_row0_col7\" class=\"data row0 col7\" >0.1139</td>\n",
       "    </tr>\n",
       "  </tbody>\n",
       "</table>\n"
      ],
      "text/plain": [
       "<pandas.io.formats.style.Styler at 0x7f9405c8e2c0>"
      ]
     },
     "metadata": {},
     "output_type": "display_data"
    }
   ],
   "source": [
    "test_prediction_ada, test_prediction_gbc, test_prediction_lightgbm, test_prediction_rf = model.common.batch_predict_and_odds(test_data, [regression_model_ada, regression_model_gbc, regression_model_lightgbm, regression_model_rf])"
   ]
  },
  {
   "cell_type": "code",
   "execution_count": 20,
   "metadata": {
    "execution": {
     "iopub.execute_input": "2023-07-03T22:49:14.713070Z",
     "iopub.status.busy": "2023-07-03T22:49:14.712354Z",
     "iopub.status.idle": "2023-07-03T22:49:14.842414Z",
     "shell.execute_reply": "2023-07-03T22:49:14.841056Z",
     "shell.execute_reply.started": "2023-07-03T22:49:14.713017Z"
    }
   },
   "outputs": [
    {
     "data": {
      "text/html": [
       "<table>\n",
       "<tbody>\n",
       "<tr><td>model   </td><td>0.6        </td><td>0.7       </td><td>0.75      </td><td>0.8      </td><td>0.85     </td></tr>\n",
       "<tr><td>ada     </td><td>(0, nan)   </td><td>(0, nan)  </td><td>(0, nan)  </td><td>(0, nan) </td><td>(0, nan) </td></tr>\n",
       "<tr><td>gbc     </td><td>(184, 0.66)</td><td>(65, 0.75)</td><td>(25, 0.88)</td><td>(7, 0.86)</td><td>(0, nan) </td></tr>\n",
       "<tr><td>lightgbm</td><td>(189, 0.65)</td><td>(74, 0.74)</td><td>(38, 0.87)</td><td>(7, 0.86)</td><td>(2, 1.0) </td></tr>\n",
       "<tr><td>rf      </td><td>(186, 0.63)</td><td>(54, 0.74)</td><td>(27, 0.7) </td><td>(9, 0.78)</td><td>(4, 0.75)</td></tr>\n",
       "</tbody>\n",
       "</table>"
      ],
      "text/plain": [
       "'<table>\\n<tbody>\\n<tr><td>model   </td><td>0.6        </td><td>0.7       </td><td>0.75      </td><td>0.8      </td><td>0.85     </td></tr>\\n<tr><td>ada     </td><td>(0, nan)   </td><td>(0, nan)  </td><td>(0, nan)  </td><td>(0, nan) </td><td>(0, nan) </td></tr>\\n<tr><td>gbc     </td><td>(184, 0.66)</td><td>(65, 0.75)</td><td>(25, 0.88)</td><td>(7, 0.86)</td><td>(0, nan) </td></tr>\\n<tr><td>lightgbm</td><td>(189, 0.65)</td><td>(74, 0.74)</td><td>(38, 0.87)</td><td>(7, 0.86)</td><td>(2, 1.0) </td></tr>\\n<tr><td>rf      </td><td>(186, 0.63)</td><td>(54, 0.74)</td><td>(27, 0.7) </td><td>(9, 0.78)</td><td>(4, 0.75)</td></tr>\\n</tbody>\\n</table>'"
      ]
     },
     "execution_count": 20,
     "metadata": {},
     "output_type": "execute_result"
    }
   ],
   "source": [
    "model.common.evaluate_predictions([(test_prediction_ada, \"ada\"), (test_prediction_gbc, \"gbc\"), (test_prediction_lightgbm, \"lightgbm\"), (test_prediction_rf, \"rf\")], [0.6, 0.7, 0.75, 0.8, 0.85], target_column)"
   ]
  },
  {
   "cell_type": "markdown",
   "metadata": {
    "id": "sOfz0zBX994h"
   },
   "source": [
    "**Finalize Model**"
   ]
  },
  {
   "cell_type": "code",
   "execution_count": 21,
   "metadata": {
    "colab": {
     "base_uri": "https://localhost:8080/",
     "height": 34
    },
    "execution": {
     "iopub.execute_input": "2023-07-03T22:49:14.846967Z",
     "iopub.status.busy": "2023-07-03T22:49:14.846074Z",
     "iopub.status.idle": "2023-07-03T22:52:36.762789Z",
     "shell.execute_reply": "2023-07-03T22:52:36.760875Z",
     "shell.execute_reply.started": "2023-07-03T22:49:14.846917Z"
    },
    "id": "gutfxdh8-DKy",
    "outputId": "2e862724-33f5-45f0-ed52-aade46f98c7d"
   },
   "outputs": [],
   "source": [
    "# train over the whole dataset without validation split\n",
    "regression_model_finalized_ada = pycaret.classification.finalize_model(regression_model_ada)\n",
    "regression_model_finalized_gbc = pycaret.classification.finalize_model(regression_model_gbc)\n",
    "regression_model_finalized_lightgbm = pycaret.classification.finalize_model(regression_model_lightgbm)\n",
    "regression_model_finalized_rf = pycaret.classification.finalize_model(regression_model_rf)"
   ]
  },
  {
   "cell_type": "code",
   "execution_count": 22,
   "metadata": {
    "execution": {
     "iopub.execute_input": "2023-07-03T22:52:36.767031Z",
     "iopub.status.busy": "2023-07-03T22:52:36.766324Z",
     "iopub.status.idle": "2023-07-03T22:52:39.521613Z",
     "shell.execute_reply": "2023-07-03T22:52:39.519244Z",
     "shell.execute_reply.started": "2023-07-03T22:52:36.766989Z"
    }
   },
   "outputs": [
    {
     "data": {
      "text/html": [
       "<style type=\"text/css\">\n",
       "</style>\n",
       "<table id=\"T_1753c\">\n",
       "  <thead>\n",
       "    <tr>\n",
       "      <th class=\"blank level0\" >&nbsp;</th>\n",
       "      <th id=\"T_1753c_level0_col0\" class=\"col_heading level0 col0\" >Model</th>\n",
       "      <th id=\"T_1753c_level0_col1\" class=\"col_heading level0 col1\" >Accuracy</th>\n",
       "      <th id=\"T_1753c_level0_col2\" class=\"col_heading level0 col2\" >AUC</th>\n",
       "      <th id=\"T_1753c_level0_col3\" class=\"col_heading level0 col3\" >Recall</th>\n",
       "      <th id=\"T_1753c_level0_col4\" class=\"col_heading level0 col4\" >Prec.</th>\n",
       "      <th id=\"T_1753c_level0_col5\" class=\"col_heading level0 col5\" >F1</th>\n",
       "      <th id=\"T_1753c_level0_col6\" class=\"col_heading level0 col6\" >Kappa</th>\n",
       "      <th id=\"T_1753c_level0_col7\" class=\"col_heading level0 col7\" >MCC</th>\n",
       "    </tr>\n",
       "  </thead>\n",
       "  <tbody>\n",
       "    <tr>\n",
       "      <th id=\"T_1753c_level0_row0\" class=\"row_heading level0 row0\" >0</th>\n",
       "      <td id=\"T_1753c_row0_col0\" class=\"data row0 col0\" >Ada Boost Classifier</td>\n",
       "      <td id=\"T_1753c_row0_col1\" class=\"data row0 col1\" >0.6025</td>\n",
       "      <td id=\"T_1753c_row0_col2\" class=\"data row0 col2\" >0.6161</td>\n",
       "      <td id=\"T_1753c_row0_col3\" class=\"data row0 col3\" >0.8709</td>\n",
       "      <td id=\"T_1753c_row0_col4\" class=\"data row0 col4\" >0.6102</td>\n",
       "      <td id=\"T_1753c_row0_col5\" class=\"data row0 col5\" >0.7176</td>\n",
       "      <td id=\"T_1753c_row0_col6\" class=\"data row0 col6\" >0.1119</td>\n",
       "      <td id=\"T_1753c_row0_col7\" class=\"data row0 col7\" >0.1344</td>\n",
       "    </tr>\n",
       "  </tbody>\n",
       "</table>\n"
      ],
      "text/plain": [
       "<pandas.io.formats.style.Styler at 0x7f94070d1690>"
      ]
     },
     "metadata": {},
     "output_type": "display_data"
    },
    {
     "data": {
      "text/html": [
       "<style type=\"text/css\">\n",
       "</style>\n",
       "<table id=\"T_0b864\">\n",
       "  <thead>\n",
       "    <tr>\n",
       "      <th class=\"blank level0\" >&nbsp;</th>\n",
       "      <th id=\"T_0b864_level0_col0\" class=\"col_heading level0 col0\" >Model</th>\n",
       "      <th id=\"T_0b864_level0_col1\" class=\"col_heading level0 col1\" >Accuracy</th>\n",
       "      <th id=\"T_0b864_level0_col2\" class=\"col_heading level0 col2\" >AUC</th>\n",
       "      <th id=\"T_0b864_level0_col3\" class=\"col_heading level0 col3\" >Recall</th>\n",
       "      <th id=\"T_0b864_level0_col4\" class=\"col_heading level0 col4\" >Prec.</th>\n",
       "      <th id=\"T_0b864_level0_col5\" class=\"col_heading level0 col5\" >F1</th>\n",
       "      <th id=\"T_0b864_level0_col6\" class=\"col_heading level0 col6\" >Kappa</th>\n",
       "      <th id=\"T_0b864_level0_col7\" class=\"col_heading level0 col7\" >MCC</th>\n",
       "    </tr>\n",
       "  </thead>\n",
       "  <tbody>\n",
       "    <tr>\n",
       "      <th id=\"T_0b864_level0_row0\" class=\"row_heading level0 row0\" >0</th>\n",
       "      <td id=\"T_0b864_row0_col0\" class=\"data row0 col0\" >Gradient Boosting Classifier</td>\n",
       "      <td id=\"T_0b864_row0_col1\" class=\"data row0 col1\" >0.6055</td>\n",
       "      <td id=\"T_0b864_row0_col2\" class=\"data row0 col2\" >0.6185</td>\n",
       "      <td id=\"T_0b864_row0_col3\" class=\"data row0 col3\" >0.8770</td>\n",
       "      <td id=\"T_0b864_row0_col4\" class=\"data row0 col4\" >0.6115</td>\n",
       "      <td id=\"T_0b864_row0_col5\" class=\"data row0 col5\" >0.7206</td>\n",
       "      <td id=\"T_0b864_row0_col6\" class=\"data row0 col6\" >0.1175</td>\n",
       "      <td id=\"T_0b864_row0_col7\" class=\"data row0 col7\" >0.1422</td>\n",
       "    </tr>\n",
       "  </tbody>\n",
       "</table>\n"
      ],
      "text/plain": [
       "<pandas.io.formats.style.Styler at 0x7f948471c250>"
      ]
     },
     "metadata": {},
     "output_type": "display_data"
    },
    {
     "data": {
      "text/html": [
       "<style type=\"text/css\">\n",
       "</style>\n",
       "<table id=\"T_9452e\">\n",
       "  <thead>\n",
       "    <tr>\n",
       "      <th class=\"blank level0\" >&nbsp;</th>\n",
       "      <th id=\"T_9452e_level0_col0\" class=\"col_heading level0 col0\" >Model</th>\n",
       "      <th id=\"T_9452e_level0_col1\" class=\"col_heading level0 col1\" >Accuracy</th>\n",
       "      <th id=\"T_9452e_level0_col2\" class=\"col_heading level0 col2\" >AUC</th>\n",
       "      <th id=\"T_9452e_level0_col3\" class=\"col_heading level0 col3\" >Recall</th>\n",
       "      <th id=\"T_9452e_level0_col4\" class=\"col_heading level0 col4\" >Prec.</th>\n",
       "      <th id=\"T_9452e_level0_col5\" class=\"col_heading level0 col5\" >F1</th>\n",
       "      <th id=\"T_9452e_level0_col6\" class=\"col_heading level0 col6\" >Kappa</th>\n",
       "      <th id=\"T_9452e_level0_col7\" class=\"col_heading level0 col7\" >MCC</th>\n",
       "    </tr>\n",
       "  </thead>\n",
       "  <tbody>\n",
       "    <tr>\n",
       "      <th id=\"T_9452e_level0_row0\" class=\"row_heading level0 row0\" >0</th>\n",
       "      <td id=\"T_9452e_row0_col0\" class=\"data row0 col0\" >Light Gradient Boosting Machine</td>\n",
       "      <td id=\"T_9452e_row0_col1\" class=\"data row0 col1\" >0.6068</td>\n",
       "      <td id=\"T_9452e_row0_col2\" class=\"data row0 col2\" >0.6173</td>\n",
       "      <td id=\"T_9452e_row0_col3\" class=\"data row0 col3\" >0.8716</td>\n",
       "      <td id=\"T_9452e_row0_col4\" class=\"data row0 col4\" >0.6133</td>\n",
       "      <td id=\"T_9452e_row0_col5\" class=\"data row0 col5\" >0.7200</td>\n",
       "      <td id=\"T_9452e_row0_col6\" class=\"data row0 col6\" >0.1227</td>\n",
       "      <td id=\"T_9452e_row0_col7\" class=\"data row0 col7\" >0.1463</td>\n",
       "    </tr>\n",
       "  </tbody>\n",
       "</table>\n"
      ],
      "text/plain": [
       "<pandas.io.formats.style.Styler at 0x7f94070d2620>"
      ]
     },
     "metadata": {},
     "output_type": "display_data"
    },
    {
     "data": {
      "text/html": [
       "<style type=\"text/css\">\n",
       "</style>\n",
       "<table id=\"T_ec3f3\">\n",
       "  <thead>\n",
       "    <tr>\n",
       "      <th class=\"blank level0\" >&nbsp;</th>\n",
       "      <th id=\"T_ec3f3_level0_col0\" class=\"col_heading level0 col0\" >Model</th>\n",
       "      <th id=\"T_ec3f3_level0_col1\" class=\"col_heading level0 col1\" >Accuracy</th>\n",
       "      <th id=\"T_ec3f3_level0_col2\" class=\"col_heading level0 col2\" >AUC</th>\n",
       "      <th id=\"T_ec3f3_level0_col3\" class=\"col_heading level0 col3\" >Recall</th>\n",
       "      <th id=\"T_ec3f3_level0_col4\" class=\"col_heading level0 col4\" >Prec.</th>\n",
       "      <th id=\"T_ec3f3_level0_col5\" class=\"col_heading level0 col5\" >F1</th>\n",
       "      <th id=\"T_ec3f3_level0_col6\" class=\"col_heading level0 col6\" >Kappa</th>\n",
       "      <th id=\"T_ec3f3_level0_col7\" class=\"col_heading level0 col7\" >MCC</th>\n",
       "    </tr>\n",
       "  </thead>\n",
       "  <tbody>\n",
       "    <tr>\n",
       "      <th id=\"T_ec3f3_level0_row0\" class=\"row_heading level0 row0\" >0</th>\n",
       "      <td id=\"T_ec3f3_row0_col0\" class=\"data row0 col0\" >Random Forest Classifier</td>\n",
       "      <td id=\"T_ec3f3_row0_col1\" class=\"data row0 col1\" >0.5973</td>\n",
       "      <td id=\"T_ec3f3_row0_col2\" class=\"data row0 col2\" >0.5969</td>\n",
       "      <td id=\"T_ec3f3_row0_col3\" class=\"data row0 col3\" >0.8501</td>\n",
       "      <td id=\"T_ec3f3_row0_col4\" class=\"data row0 col4\" >0.6096</td>\n",
       "      <td id=\"T_ec3f3_row0_col5\" class=\"data row0 col5\" >0.7100</td>\n",
       "      <td id=\"T_ec3f3_row0_col6\" class=\"data row0 col6\" >0.1064</td>\n",
       "      <td id=\"T_ec3f3_row0_col7\" class=\"data row0 col7\" >0.1235</td>\n",
       "    </tr>\n",
       "  </tbody>\n",
       "</table>\n"
      ],
      "text/plain": [
       "<pandas.io.formats.style.Styler at 0x7f94070d0d30>"
      ]
     },
     "metadata": {},
     "output_type": "display_data"
    }
   ],
   "source": [
    "test_finalized_prediction_ada, test_finalized_prediction_gbc, test_finalized_prediction_lightgbm, test_finalized_prediction_rf = model.common.batch_predict_and_odds(\n",
    "    test_data, \n",
    "    [regression_model_finalized_ada, regression_model_finalized_gbc, regression_model_finalized_lightgbm, regression_model_finalized_rf])"
   ]
  },
  {
   "cell_type": "code",
   "execution_count": 23,
   "metadata": {
    "execution": {
     "iopub.execute_input": "2023-07-03T22:52:39.524138Z",
     "iopub.status.busy": "2023-07-03T22:52:39.523708Z",
     "iopub.status.idle": "2023-07-03T22:52:39.613908Z",
     "shell.execute_reply": "2023-07-03T22:52:39.612565Z",
     "shell.execute_reply.started": "2023-07-03T22:52:39.524103Z"
    }
   },
   "outputs": [
    {
     "data": {
      "text/html": [
       "<table>\n",
       "<tbody>\n",
       "<tr><td>model   </td><td>0.6        </td><td>0.7       </td><td>0.75      </td><td>0.8      </td><td>0.85    </td></tr>\n",
       "<tr><td>ada     </td><td>(0, nan)   </td><td>(0, nan)  </td><td>(0, nan)  </td><td>(0, nan) </td><td>(0, nan)</td></tr>\n",
       "<tr><td>gbc     </td><td>(185, 0.66)</td><td>(61, 0.74)</td><td>(27, 0.89)</td><td>(6, 0.83)</td><td>(0, nan)</td></tr>\n",
       "<tr><td>lightgbm</td><td>(180, 0.67)</td><td>(74, 0.73)</td><td>(33, 0.88)</td><td>(7, 0.86)</td><td>(2, 1.0)</td></tr>\n",
       "<tr><td>rf      </td><td>(167, 0.66)</td><td>(57, 0.72)</td><td>(29, 0.76)</td><td>(10, 0.9)</td><td>(2, 0.5)</td></tr>\n",
       "</tbody>\n",
       "</table>"
      ],
      "text/plain": [
       "'<table>\\n<tbody>\\n<tr><td>model   </td><td>0.6        </td><td>0.7       </td><td>0.75      </td><td>0.8      </td><td>0.85    </td></tr>\\n<tr><td>ada     </td><td>(0, nan)   </td><td>(0, nan)  </td><td>(0, nan)  </td><td>(0, nan) </td><td>(0, nan)</td></tr>\\n<tr><td>gbc     </td><td>(185, 0.66)</td><td>(61, 0.74)</td><td>(27, 0.89)</td><td>(6, 0.83)</td><td>(0, nan)</td></tr>\\n<tr><td>lightgbm</td><td>(180, 0.67)</td><td>(74, 0.73)</td><td>(33, 0.88)</td><td>(7, 0.86)</td><td>(2, 1.0)</td></tr>\\n<tr><td>rf      </td><td>(167, 0.66)</td><td>(57, 0.72)</td><td>(29, 0.76)</td><td>(10, 0.9)</td><td>(2, 0.5)</td></tr>\\n</tbody>\\n</table>'"
      ]
     },
     "execution_count": 23,
     "metadata": {},
     "output_type": "execute_result"
    }
   ],
   "source": [
    "model.common.evaluate_predictions([(test_finalized_prediction_ada, \"ada\"), (test_finalized_prediction_gbc, \"gbc\"), (test_finalized_prediction_lightgbm, \"lightgbm\"), (test_finalized_prediction_rf, \"rf\")], [0.6, 0.7, 0.75, 0.8, 0.85], target_column)"
   ]
  },
  {
   "cell_type": "markdown",
   "metadata": {},
   "source": [
    "**Save Model**"
   ]
  },
  {
   "cell_type": "code",
   "execution_count": 24,
   "metadata": {
    "execution": {
     "iopub.execute_input": "2023-07-03T22:52:39.615739Z",
     "iopub.status.busy": "2023-07-03T22:52:39.615309Z",
     "iopub.status.idle": "2023-07-03T22:52:40.045318Z",
     "shell.execute_reply": "2023-07-03T22:52:40.043615Z",
     "shell.execute_reply.started": "2023-07-03T22:52:39.615710Z"
    }
   },
   "outputs": [
    {
     "name": "stdout",
     "output_type": "stream",
     "text": [
      "Transformation Pipeline and Model Successfully Saved\n"
     ]
    },
    {
     "data": {
      "text/plain": [
       "(Pipeline(memory=FastMemory(location=/tmp/joblib),\n",
       "          steps=[('numerical_imputer',\n",
       "                  TransformerWrapper(exclude=None,\n",
       "                                     include=['pitching_gamesPlayed',\n",
       "                                              'pitching_runs_per_game',\n",
       "                                              'pitching_strikeOuts_per_game',\n",
       "                                              'pitching_hits_per_game',\n",
       "                                              'batting_gamesPlayed',\n",
       "                                              'batting_runs_per_game',\n",
       "                                              'batting_strikeOuts_per_game',\n",
       "                                              'batting_hits_per_game',\n",
       "                                              'batting_rbi',\n",
       "                                              'pitching_cur_...\n",
       "                                                       colsample_bytree=1.0,\n",
       "                                                       importance_type='split',\n",
       "                                                       learning_rate=0.1,\n",
       "                                                       max_depth=-1,\n",
       "                                                       min_child_samples=20,\n",
       "                                                       min_child_weight=0.001,\n",
       "                                                       min_split_gain=0.0,\n",
       "                                                       n_estimators=100,\n",
       "                                                       n_jobs=-1, num_leaves=31,\n",
       "                                                       objective=None,\n",
       "                                                       probability_threshold=0.5,\n",
       "                                                       random_state=5009,\n",
       "                                                       reg_alpha=0.0,\n",
       "                                                       reg_lambda=0.0,\n",
       "                                                       silent='warn',\n",
       "                                                       subsample=1.0,\n",
       "                                                       subsample_for_bin=200000,\n",
       "                                                       subsample_freq=0))],\n",
       "          verbose=False),\n",
       " 'model/batter_1hstrikeouts_regression_model.pkl')"
      ]
     },
     "execution_count": 24,
     "metadata": {},
     "output_type": "execute_result"
    }
   ],
   "source": [
    "pycaret.classification.save_model(regression_model_finalized_lightgbm, model_file_name)"
   ]
  }
 ],
 "metadata": {
  "colab": {
   "provenance": []
  },
  "kernelspec": {
   "display_name": "Python 3 (ipykernel)",
   "language": "python",
   "name": "python3"
  },
  "language_info": {
   "codemirror_mode": {
    "name": "ipython",
    "version": 3
   },
   "file_extension": ".py",
   "mimetype": "text/x-python",
   "name": "python",
   "nbconvert_exporter": "python",
   "pygments_lexer": "ipython3",
   "version": "3.10.6"
  },
  "widgets": {
   "application/vnd.jupyter.widget-state+json": {
    "1ac32fe9102d4f5a9d1511e64a1d5e5d": {
     "model_module": "@jupyter-widgets/base",
     "model_module_version": "1.2.0",
     "model_name": "LayoutModel",
     "state": {
      "_model_module": "@jupyter-widgets/base",
      "_model_module_version": "1.2.0",
      "_model_name": "LayoutModel",
      "_view_count": null,
      "_view_module": "@jupyter-widgets/base",
      "_view_module_version": "1.2.0",
      "_view_name": "LayoutView",
      "align_content": null,
      "align_items": null,
      "align_self": null,
      "border": null,
      "bottom": null,
      "display": null,
      "flex": null,
      "flex_flow": null,
      "grid_area": null,
      "grid_auto_columns": null,
      "grid_auto_flow": null,
      "grid_auto_rows": null,
      "grid_column": null,
      "grid_gap": null,
      "grid_row": null,
      "grid_template_areas": null,
      "grid_template_columns": null,
      "grid_template_rows": null,
      "height": null,
      "justify_content": null,
      "justify_items": null,
      "left": null,
      "margin": null,
      "max_height": null,
      "max_width": null,
      "min_height": null,
      "min_width": null,
      "object_fit": null,
      "object_position": null,
      "order": null,
      "overflow": null,
      "overflow_x": null,
      "overflow_y": null,
      "padding": null,
      "right": null,
      "top": null,
      "visibility": null,
      "width": null
     }
    },
    "40b50c57e470496cb6c94a0693636fd7": {
     "model_module": "@jupyter-widgets/base",
     "model_module_version": "1.2.0",
     "model_name": "LayoutModel",
     "state": {
      "_model_module": "@jupyter-widgets/base",
      "_model_module_version": "1.2.0",
      "_model_name": "LayoutModel",
      "_view_count": null,
      "_view_module": "@jupyter-widgets/base",
      "_view_module_version": "1.2.0",
      "_view_name": "LayoutView",
      "align_content": null,
      "align_items": null,
      "align_self": null,
      "border": null,
      "bottom": null,
      "display": null,
      "flex": null,
      "flex_flow": null,
      "grid_area": null,
      "grid_auto_columns": null,
      "grid_auto_flow": null,
      "grid_auto_rows": null,
      "grid_column": null,
      "grid_gap": null,
      "grid_row": null,
      "grid_template_areas": null,
      "grid_template_columns": null,
      "grid_template_rows": null,
      "height": null,
      "justify_content": null,
      "justify_items": null,
      "left": null,
      "margin": null,
      "max_height": null,
      "max_width": null,
      "min_height": null,
      "min_width": null,
      "object_fit": null,
      "object_position": null,
      "order": null,
      "overflow": null,
      "overflow_x": null,
      "overflow_y": null,
      "padding": null,
      "right": null,
      "top": null,
      "visibility": "hidden",
      "width": null
     }
    },
    "46b9d3b6cd6e4f76a42dd4f216dc1644": {
     "model_module": "@jupyter-widgets/controls",
     "model_module_version": "1.5.0",
     "model_name": "HBoxModel",
     "state": {
      "_dom_classes": [],
      "_model_module": "@jupyter-widgets/controls",
      "_model_module_version": "1.5.0",
      "_model_name": "HBoxModel",
      "_view_count": null,
      "_view_module": "@jupyter-widgets/controls",
      "_view_module_version": "1.5.0",
      "_view_name": "HBoxView",
      "box_style": "",
      "children": [
       "IPY_MODEL_cfce22755aa7471a87151793e633def1",
       "IPY_MODEL_94d7b3dc65544425b2463933c4108fa4",
       "IPY_MODEL_f92582f04a594f87a669f3c1c4d4eabc"
      ],
      "layout": "IPY_MODEL_40b50c57e470496cb6c94a0693636fd7"
     }
    },
    "4efa6d0ab419418ea9e4991c77b1ec42": {
     "model_module": "@jupyter-widgets/controls",
     "model_module_version": "1.5.0",
     "model_name": "ProgressStyleModel",
     "state": {
      "_model_module": "@jupyter-widgets/controls",
      "_model_module_version": "1.5.0",
      "_model_name": "ProgressStyleModel",
      "_view_count": null,
      "_view_module": "@jupyter-widgets/base",
      "_view_module_version": "1.2.0",
      "_view_name": "StyleView",
      "bar_color": null,
      "description_width": ""
     }
    },
    "81feddb738c64cbc8b7dbc7aec2730de": {
     "model_module": "@jupyter-widgets/controls",
     "model_module_version": "1.5.0",
     "model_name": "DescriptionStyleModel",
     "state": {
      "_model_module": "@jupyter-widgets/controls",
      "_model_module_version": "1.5.0",
      "_model_name": "DescriptionStyleModel",
      "_view_count": null,
      "_view_module": "@jupyter-widgets/base",
      "_view_module_version": "1.2.0",
      "_view_name": "StyleView",
      "description_width": ""
     }
    },
    "94d7b3dc65544425b2463933c4108fa4": {
     "model_module": "@jupyter-widgets/controls",
     "model_module_version": "1.5.0",
     "model_name": "FloatProgressModel",
     "state": {
      "_dom_classes": [],
      "_model_module": "@jupyter-widgets/controls",
      "_model_module_version": "1.5.0",
      "_model_name": "FloatProgressModel",
      "_view_count": null,
      "_view_module": "@jupyter-widgets/controls",
      "_view_module_version": "1.5.0",
      "_view_name": "ProgressView",
      "bar_style": "",
      "description": "",
      "description_tooltip": null,
      "layout": "IPY_MODEL_eb74dfbcca4a458eb81d87fbae5bf166",
      "max": 4,
      "min": 0,
      "orientation": "horizontal",
      "style": "IPY_MODEL_4efa6d0ab419418ea9e4991c77b1ec42",
      "value": 4
     }
    },
    "bec03081ad154466a3a0abca5a8462f4": {
     "model_module": "@jupyter-widgets/base",
     "model_module_version": "1.2.0",
     "model_name": "LayoutModel",
     "state": {
      "_model_module": "@jupyter-widgets/base",
      "_model_module_version": "1.2.0",
      "_model_name": "LayoutModel",
      "_view_count": null,
      "_view_module": "@jupyter-widgets/base",
      "_view_module_version": "1.2.0",
      "_view_name": "LayoutView",
      "align_content": null,
      "align_items": null,
      "align_self": null,
      "border": null,
      "bottom": null,
      "display": null,
      "flex": null,
      "flex_flow": null,
      "grid_area": null,
      "grid_auto_columns": null,
      "grid_auto_flow": null,
      "grid_auto_rows": null,
      "grid_column": null,
      "grid_gap": null,
      "grid_row": null,
      "grid_template_areas": null,
      "grid_template_columns": null,
      "grid_template_rows": null,
      "height": null,
      "justify_content": null,
      "justify_items": null,
      "left": null,
      "margin": null,
      "max_height": null,
      "max_width": null,
      "min_height": null,
      "min_width": null,
      "object_fit": null,
      "object_position": null,
      "order": null,
      "overflow": null,
      "overflow_x": null,
      "overflow_y": null,
      "padding": null,
      "right": null,
      "top": null,
      "visibility": null,
      "width": null
     }
    },
    "cfcd697393754f1d93106a2d6e07ea05": {
     "model_module": "@jupyter-widgets/controls",
     "model_module_version": "1.5.0",
     "model_name": "DescriptionStyleModel",
     "state": {
      "_model_module": "@jupyter-widgets/controls",
      "_model_module_version": "1.5.0",
      "_model_name": "DescriptionStyleModel",
      "_view_count": null,
      "_view_module": "@jupyter-widgets/base",
      "_view_module_version": "1.2.0",
      "_view_name": "StyleView",
      "description_width": ""
     }
    },
    "cfce22755aa7471a87151793e633def1": {
     "model_module": "@jupyter-widgets/controls",
     "model_module_version": "1.5.0",
     "model_name": "HTMLModel",
     "state": {
      "_dom_classes": [],
      "_model_module": "@jupyter-widgets/controls",
      "_model_module_version": "1.5.0",
      "_model_name": "HTMLModel",
      "_view_count": null,
      "_view_module": "@jupyter-widgets/controls",
      "_view_module_version": "1.5.0",
      "_view_name": "HTMLView",
      "description": "",
      "description_tooltip": null,
      "layout": "IPY_MODEL_bec03081ad154466a3a0abca5a8462f4",
      "placeholder": "​",
      "style": "IPY_MODEL_81feddb738c64cbc8b7dbc7aec2730de",
      "value": "Processing: 100%"
     }
    },
    "eb74dfbcca4a458eb81d87fbae5bf166": {
     "model_module": "@jupyter-widgets/base",
     "model_module_version": "1.2.0",
     "model_name": "LayoutModel",
     "state": {
      "_model_module": "@jupyter-widgets/base",
      "_model_module_version": "1.2.0",
      "_model_name": "LayoutModel",
      "_view_count": null,
      "_view_module": "@jupyter-widgets/base",
      "_view_module_version": "1.2.0",
      "_view_name": "LayoutView",
      "align_content": null,
      "align_items": null,
      "align_self": null,
      "border": null,
      "bottom": null,
      "display": null,
      "flex": null,
      "flex_flow": null,
      "grid_area": null,
      "grid_auto_columns": null,
      "grid_auto_flow": null,
      "grid_auto_rows": null,
      "grid_column": null,
      "grid_gap": null,
      "grid_row": null,
      "grid_template_areas": null,
      "grid_template_columns": null,
      "grid_template_rows": null,
      "height": null,
      "justify_content": null,
      "justify_items": null,
      "left": null,
      "margin": null,
      "max_height": null,
      "max_width": null,
      "min_height": null,
      "min_width": null,
      "object_fit": null,
      "object_position": null,
      "order": null,
      "overflow": null,
      "overflow_x": null,
      "overflow_y": null,
      "padding": null,
      "right": null,
      "top": null,
      "visibility": null,
      "width": null
     }
    },
    "f92582f04a594f87a669f3c1c4d4eabc": {
     "model_module": "@jupyter-widgets/controls",
     "model_module_version": "1.5.0",
     "model_name": "HTMLModel",
     "state": {
      "_dom_classes": [],
      "_model_module": "@jupyter-widgets/controls",
      "_model_module_version": "1.5.0",
      "_model_name": "HTMLModel",
      "_view_count": null,
      "_view_module": "@jupyter-widgets/controls",
      "_view_module_version": "1.5.0",
      "_view_name": "HTMLView",
      "description": "",
      "description_tooltip": null,
      "layout": "IPY_MODEL_1ac32fe9102d4f5a9d1511e64a1d5e5d",
      "placeholder": "​",
      "style": "IPY_MODEL_cfcd697393754f1d93106a2d6e07ea05",
      "value": " 4/4 [00:10&lt;00:00,  2.34s/it]"
     }
    }
   }
  }
 },
 "nbformat": 4,
 "nbformat_minor": 4
}
