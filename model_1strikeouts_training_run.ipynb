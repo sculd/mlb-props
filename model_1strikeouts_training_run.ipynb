{
 "cells": [
  {
   "cell_type": "markdown",
   "metadata": {
    "id": "X1V_SUC4p-YQ"
   },
   "source": [
    "**Import Packages**"
   ]
  },
  {
   "cell_type": "code",
   "execution_count": 1,
   "metadata": {
    "colab": {
     "base_uri": "https://localhost:8080/"
    },
    "execution": {
     "iopub.execute_input": "2023-08-14T22:52:33.614043Z",
     "iopub.status.busy": "2023-08-14T22:52:33.612595Z",
     "iopub.status.idle": "2023-08-14T22:52:35.480102Z",
     "shell.execute_reply": "2023-08-14T22:52:35.479470Z",
     "shell.execute_reply.started": "2023-08-14T22:52:33.613945Z"
    },
    "id": "IGZCa25_p5QY",
    "outputId": "d9e7f9d8-21e8-49dd-d344-173324ba79a5",
    "tags": []
   },
   "outputs": [],
   "source": [
    "import pycaret\n",
    "import pandas as pd\n",
    "import numpy as np\n",
    "import sqlalchemy\n",
    "import mysql.connector\n",
    "\n",
    "from pycaret import classification\n",
    "from pycaret.classification import plot_model\n",
    "from datetime import datetime\n",
    "import importlib\n",
    "import model.common"
   ]
  },
  {
   "cell_type": "code",
   "execution_count": 2,
   "metadata": {
    "execution": {
     "iopub.execute_input": "2023-08-14T22:52:35.480890Z",
     "iopub.status.busy": "2023-08-14T22:52:35.480770Z",
     "iopub.status.idle": "2023-08-14T22:52:35.484201Z",
     "shell.execute_reply": "2023-08-14T22:52:35.483747Z",
     "shell.execute_reply.started": "2023-08-14T22:52:35.480866Z"
    }
   },
   "outputs": [],
   "source": [
    "from static_data.load_static_data import *"
   ]
  },
  {
   "cell_type": "markdown",
   "metadata": {
    "id": "jqde2RQfqchC"
   },
   "source": [
    "**Load Data**"
   ]
  },
  {
   "cell_type": "code",
   "execution_count": 3,
   "metadata": {
    "execution": {
     "iopub.execute_input": "2023-08-14T22:52:35.509956Z",
     "iopub.status.busy": "2023-08-14T22:52:35.509769Z",
     "iopub.status.idle": "2023-08-14T22:52:35.989235Z",
     "shell.execute_reply": "2023-08-14T22:52:35.988797Z",
     "shell.execute_reply.started": "2023-08-14T22:52:35.509943Z"
    }
   },
   "outputs": [
    {
     "name": "stdout",
     "output_type": "stream",
     "text": [
      "326242\n"
     ]
    }
   ],
   "source": [
    "collect_data_Base_dir = 'collect_data'\n",
    "df_game_matchup_total = pd.read_pickle(f'{collect_data_Base_dir}/df_game_matchup_total.pkl')\n",
    "print(len(df_game_matchup_total))"
   ]
  },
  {
   "cell_type": "markdown",
   "metadata": {
    "id": "VkSM5TOeule8"
   },
   "source": [
    "**Choose Columns**"
   ]
  },
  {
   "cell_type": "code",
   "execution_count": 4,
   "metadata": {
    "execution": {
     "iopub.execute_input": "2023-08-14T22:52:37.050016Z",
     "iopub.status.busy": "2023-08-14T22:52:37.049824Z",
     "iopub.status.idle": "2023-08-14T22:52:37.056605Z",
     "shell.execute_reply": "2023-08-14T22:52:37.056073Z",
     "shell.execute_reply.started": "2023-08-14T22:52:37.050004Z"
    }
   },
   "outputs": [
    {
     "data": {
      "text/plain": [
       "<module 'model.common' from '/home/junlim/projects/mlb-props/model/common.py'>"
      ]
     },
     "execution_count": 4,
     "metadata": {},
     "output_type": "execute_result"
    }
   ],
   "source": [
    "importlib.reload(model.common)"
   ]
  },
  {
   "cell_type": "code",
   "execution_count": 5,
   "metadata": {
    "execution": {
     "iopub.execute_input": "2023-08-14T22:52:37.300165Z",
     "iopub.status.busy": "2023-08-14T22:52:37.299725Z",
     "iopub.status.idle": "2023-08-14T22:52:37.304715Z",
     "shell.execute_reply": "2023-08-14T22:52:37.304088Z",
     "shell.execute_reply.started": "2023-08-14T22:52:37.300133Z"
    }
   },
   "outputs": [],
   "source": [
    "feature_columns, target_column, model_file_name = model.common.features_1hstrikeouts_recorded, model.common.target_1hstrikeouts_recorded, model.common.model_1hstrikeouts_file_name"
   ]
  },
  {
   "cell_type": "code",
   "execution_count": 6,
   "metadata": {
    "execution": {
     "iopub.execute_input": "2023-08-14T22:52:37.999419Z",
     "iopub.status.busy": "2023-08-14T22:52:37.999081Z",
     "iopub.status.idle": "2023-08-14T22:52:38.183005Z",
     "shell.execute_reply": "2023-08-14T22:52:38.181772Z",
     "shell.execute_reply.started": "2023-08-14T22:52:37.999395Z"
    }
   },
   "outputs": [],
   "source": [
    "train_data = df_game_matchup_total[(df_game_matchup_total.game_date > \"2012-04-01\") & (df_game_matchup_total.game_date < \"2022-12-01\")][feature_columns]\n",
    "test_data = df_game_matchup_total[(df_game_matchup_total.game_date > \"2022-12-01\")][feature_columns]"
   ]
  },
  {
   "cell_type": "markdown",
   "metadata": {
    "id": "Qxoqal-SvwXp"
   },
   "source": [
    "**Build/Train Model**"
   ]
  },
  {
   "cell_type": "code",
   "execution_count": 7,
   "metadata": {
    "execution": {
     "iopub.execute_input": "2023-08-14T22:53:06.139130Z",
     "iopub.status.busy": "2023-08-14T22:53:06.138937Z",
     "iopub.status.idle": "2023-08-14T22:57:08.769912Z",
     "shell.execute_reply": "2023-08-14T22:57:08.768882Z",
     "shell.execute_reply.started": "2023-08-14T22:53:06.139116Z"
    },
    "scrolled": true
   },
   "outputs": [
    {
     "data": {
      "text/html": [
       "<style type=\"text/css\">\n",
       "#T_5957e_row11_col1 {\n",
       "  background-color: lightgreen;\n",
       "}\n",
       "</style>\n",
       "<table id=\"T_5957e\">\n",
       "  <thead>\n",
       "    <tr>\n",
       "      <th class=\"blank level0\" >&nbsp;</th>\n",
       "      <th id=\"T_5957e_level0_col0\" class=\"col_heading level0 col0\" >Description</th>\n",
       "      <th id=\"T_5957e_level0_col1\" class=\"col_heading level0 col1\" >Value</th>\n",
       "    </tr>\n",
       "  </thead>\n",
       "  <tbody>\n",
       "    <tr>\n",
       "      <th id=\"T_5957e_level0_row0\" class=\"row_heading level0 row0\" >0</th>\n",
       "      <td id=\"T_5957e_row0_col0\" class=\"data row0 col0\" >Session id</td>\n",
       "      <td id=\"T_5957e_row0_col1\" class=\"data row0 col1\" >6223</td>\n",
       "    </tr>\n",
       "    <tr>\n",
       "      <th id=\"T_5957e_level0_row1\" class=\"row_heading level0 row1\" >1</th>\n",
       "      <td id=\"T_5957e_row1_col0\" class=\"data row1 col0\" >Target</td>\n",
       "      <td id=\"T_5957e_row1_col1\" class=\"data row1 col1\" >batting_1strikeOuts_recorded</td>\n",
       "    </tr>\n",
       "    <tr>\n",
       "      <th id=\"T_5957e_level0_row2\" class=\"row_heading level0 row2\" >2</th>\n",
       "      <td id=\"T_5957e_row2_col0\" class=\"data row2 col0\" >Target type</td>\n",
       "      <td id=\"T_5957e_row2_col1\" class=\"data row2 col1\" >Binary</td>\n",
       "    </tr>\n",
       "    <tr>\n",
       "      <th id=\"T_5957e_level0_row3\" class=\"row_heading level0 row3\" >3</th>\n",
       "      <td id=\"T_5957e_row3_col0\" class=\"data row3 col0\" >Original data shape</td>\n",
       "      <td id=\"T_5957e_row3_col1\" class=\"data row3 col1\" >(285090, 20)</td>\n",
       "    </tr>\n",
       "    <tr>\n",
       "      <th id=\"T_5957e_level0_row4\" class=\"row_heading level0 row4\" >4</th>\n",
       "      <td id=\"T_5957e_row4_col0\" class=\"data row4 col0\" >Transformed data shape</td>\n",
       "      <td id=\"T_5957e_row4_col1\" class=\"data row4 col1\" >(285090, 12)</td>\n",
       "    </tr>\n",
       "    <tr>\n",
       "      <th id=\"T_5957e_level0_row5\" class=\"row_heading level0 row5\" >5</th>\n",
       "      <td id=\"T_5957e_row5_col0\" class=\"data row5 col0\" >Transformed train set shape</td>\n",
       "      <td id=\"T_5957e_row5_col1\" class=\"data row5 col1\" >(199563, 12)</td>\n",
       "    </tr>\n",
       "    <tr>\n",
       "      <th id=\"T_5957e_level0_row6\" class=\"row_heading level0 row6\" >6</th>\n",
       "      <td id=\"T_5957e_row6_col0\" class=\"data row6 col0\" >Transformed test set shape</td>\n",
       "      <td id=\"T_5957e_row6_col1\" class=\"data row6 col1\" >(85527, 12)</td>\n",
       "    </tr>\n",
       "    <tr>\n",
       "      <th id=\"T_5957e_level0_row7\" class=\"row_heading level0 row7\" >7</th>\n",
       "      <td id=\"T_5957e_row7_col0\" class=\"data row7 col0\" >Ignore features</td>\n",
       "      <td id=\"T_5957e_row7_col1\" class=\"data row7 col1\" >8</td>\n",
       "    </tr>\n",
       "    <tr>\n",
       "      <th id=\"T_5957e_level0_row8\" class=\"row_heading level0 row8\" >8</th>\n",
       "      <td id=\"T_5957e_row8_col0\" class=\"data row8 col0\" >Numeric features</td>\n",
       "      <td id=\"T_5957e_row8_col1\" class=\"data row8 col1\" >10</td>\n",
       "    </tr>\n",
       "    <tr>\n",
       "      <th id=\"T_5957e_level0_row9\" class=\"row_heading level0 row9\" >9</th>\n",
       "      <td id=\"T_5957e_row9_col0\" class=\"data row9 col0\" >Categorical features</td>\n",
       "      <td id=\"T_5957e_row9_col1\" class=\"data row9 col1\" >1</td>\n",
       "    </tr>\n",
       "    <tr>\n",
       "      <th id=\"T_5957e_level0_row10\" class=\"row_heading level0 row10\" >10</th>\n",
       "      <td id=\"T_5957e_row10_col0\" class=\"data row10 col0\" >Rows with missing values</td>\n",
       "      <td id=\"T_5957e_row10_col1\" class=\"data row10 col1\" >0.0%</td>\n",
       "    </tr>\n",
       "    <tr>\n",
       "      <th id=\"T_5957e_level0_row11\" class=\"row_heading level0 row11\" >11</th>\n",
       "      <td id=\"T_5957e_row11_col0\" class=\"data row11 col0\" >Preprocess</td>\n",
       "      <td id=\"T_5957e_row11_col1\" class=\"data row11 col1\" >True</td>\n",
       "    </tr>\n",
       "    <tr>\n",
       "      <th id=\"T_5957e_level0_row12\" class=\"row_heading level0 row12\" >12</th>\n",
       "      <td id=\"T_5957e_row12_col0\" class=\"data row12 col0\" >Imputation type</td>\n",
       "      <td id=\"T_5957e_row12_col1\" class=\"data row12 col1\" >simple</td>\n",
       "    </tr>\n",
       "    <tr>\n",
       "      <th id=\"T_5957e_level0_row13\" class=\"row_heading level0 row13\" >13</th>\n",
       "      <td id=\"T_5957e_row13_col0\" class=\"data row13 col0\" >Numeric imputation</td>\n",
       "      <td id=\"T_5957e_row13_col1\" class=\"data row13 col1\" >mean</td>\n",
       "    </tr>\n",
       "    <tr>\n",
       "      <th id=\"T_5957e_level0_row14\" class=\"row_heading level0 row14\" >14</th>\n",
       "      <td id=\"T_5957e_row14_col0\" class=\"data row14 col0\" >Categorical imputation</td>\n",
       "      <td id=\"T_5957e_row14_col1\" class=\"data row14 col1\" >mode</td>\n",
       "    </tr>\n",
       "    <tr>\n",
       "      <th id=\"T_5957e_level0_row15\" class=\"row_heading level0 row15\" >15</th>\n",
       "      <td id=\"T_5957e_row15_col0\" class=\"data row15 col0\" >Maximum one-hot encoding</td>\n",
       "      <td id=\"T_5957e_row15_col1\" class=\"data row15 col1\" >25</td>\n",
       "    </tr>\n",
       "    <tr>\n",
       "      <th id=\"T_5957e_level0_row16\" class=\"row_heading level0 row16\" >16</th>\n",
       "      <td id=\"T_5957e_row16_col0\" class=\"data row16 col0\" >Encoding method</td>\n",
       "      <td id=\"T_5957e_row16_col1\" class=\"data row16 col1\" >None</td>\n",
       "    </tr>\n",
       "    <tr>\n",
       "      <th id=\"T_5957e_level0_row17\" class=\"row_heading level0 row17\" >17</th>\n",
       "      <td id=\"T_5957e_row17_col0\" class=\"data row17 col0\" >Fold Generator</td>\n",
       "      <td id=\"T_5957e_row17_col1\" class=\"data row17 col1\" >StratifiedKFold</td>\n",
       "    </tr>\n",
       "    <tr>\n",
       "      <th id=\"T_5957e_level0_row18\" class=\"row_heading level0 row18\" >18</th>\n",
       "      <td id=\"T_5957e_row18_col0\" class=\"data row18 col0\" >Fold Number</td>\n",
       "      <td id=\"T_5957e_row18_col1\" class=\"data row18 col1\" >10</td>\n",
       "    </tr>\n",
       "    <tr>\n",
       "      <th id=\"T_5957e_level0_row19\" class=\"row_heading level0 row19\" >19</th>\n",
       "      <td id=\"T_5957e_row19_col0\" class=\"data row19 col0\" >CPU Jobs</td>\n",
       "      <td id=\"T_5957e_row19_col1\" class=\"data row19 col1\" >-1</td>\n",
       "    </tr>\n",
       "    <tr>\n",
       "      <th id=\"T_5957e_level0_row20\" class=\"row_heading level0 row20\" >20</th>\n",
       "      <td id=\"T_5957e_row20_col0\" class=\"data row20 col0\" >Use GPU</td>\n",
       "      <td id=\"T_5957e_row20_col1\" class=\"data row20 col1\" >False</td>\n",
       "    </tr>\n",
       "    <tr>\n",
       "      <th id=\"T_5957e_level0_row21\" class=\"row_heading level0 row21\" >21</th>\n",
       "      <td id=\"T_5957e_row21_col0\" class=\"data row21 col0\" >Log Experiment</td>\n",
       "      <td id=\"T_5957e_row21_col1\" class=\"data row21 col1\" >False</td>\n",
       "    </tr>\n",
       "    <tr>\n",
       "      <th id=\"T_5957e_level0_row22\" class=\"row_heading level0 row22\" >22</th>\n",
       "      <td id=\"T_5957e_row22_col0\" class=\"data row22 col0\" >Experiment Name</td>\n",
       "      <td id=\"T_5957e_row22_col1\" class=\"data row22 col1\" >clf-default-name</td>\n",
       "    </tr>\n",
       "    <tr>\n",
       "      <th id=\"T_5957e_level0_row23\" class=\"row_heading level0 row23\" >23</th>\n",
       "      <td id=\"T_5957e_row23_col0\" class=\"data row23 col0\" >USI</td>\n",
       "      <td id=\"T_5957e_row23_col1\" class=\"data row23 col1\" >26b1</td>\n",
       "    </tr>\n",
       "  </tbody>\n",
       "</table>\n"
      ],
      "text/plain": [
       "<pandas.io.formats.style.Styler at 0x7f8e8c5f2890>"
      ]
     },
     "metadata": {},
     "output_type": "display_data"
    },
    {
     "data": {
      "text/html": [],
      "text/plain": [
       "<IPython.core.display.HTML object>"
      ]
     },
     "metadata": {},
     "output_type": "display_data"
    },
    {
     "data": {
      "text/html": [
       "<style type=\"text/css\">\n",
       "#T_6089b_row10_col0, #T_6089b_row10_col1, #T_6089b_row10_col2, #T_6089b_row10_col3, #T_6089b_row10_col4, #T_6089b_row10_col5, #T_6089b_row10_col6 {\n",
       "  background: yellow;\n",
       "}\n",
       "</style>\n",
       "<table id=\"T_6089b\">\n",
       "  <thead>\n",
       "    <tr>\n",
       "      <th class=\"blank level0\" >&nbsp;</th>\n",
       "      <th id=\"T_6089b_level0_col0\" class=\"col_heading level0 col0\" >Accuracy</th>\n",
       "      <th id=\"T_6089b_level0_col1\" class=\"col_heading level0 col1\" >AUC</th>\n",
       "      <th id=\"T_6089b_level0_col2\" class=\"col_heading level0 col2\" >Recall</th>\n",
       "      <th id=\"T_6089b_level0_col3\" class=\"col_heading level0 col3\" >Prec.</th>\n",
       "      <th id=\"T_6089b_level0_col4\" class=\"col_heading level0 col4\" >F1</th>\n",
       "      <th id=\"T_6089b_level0_col5\" class=\"col_heading level0 col5\" >Kappa</th>\n",
       "      <th id=\"T_6089b_level0_col6\" class=\"col_heading level0 col6\" >MCC</th>\n",
       "    </tr>\n",
       "    <tr>\n",
       "      <th class=\"index_name level0\" >Fold</th>\n",
       "      <th class=\"blank col0\" >&nbsp;</th>\n",
       "      <th class=\"blank col1\" >&nbsp;</th>\n",
       "      <th class=\"blank col2\" >&nbsp;</th>\n",
       "      <th class=\"blank col3\" >&nbsp;</th>\n",
       "      <th class=\"blank col4\" >&nbsp;</th>\n",
       "      <th class=\"blank col5\" >&nbsp;</th>\n",
       "      <th class=\"blank col6\" >&nbsp;</th>\n",
       "    </tr>\n",
       "  </thead>\n",
       "  <tbody>\n",
       "    <tr>\n",
       "      <th id=\"T_6089b_level0_row0\" class=\"row_heading level0 row0\" >0</th>\n",
       "      <td id=\"T_6089b_row0_col0\" class=\"data row0 col0\" >0.6049</td>\n",
       "      <td id=\"T_6089b_row0_col1\" class=\"data row0 col1\" >0.6312</td>\n",
       "      <td id=\"T_6089b_row0_col2\" class=\"data row0 col2\" >0.7791</td>\n",
       "      <td id=\"T_6089b_row0_col3\" class=\"data row0 col3\" >0.6085</td>\n",
       "      <td id=\"T_6089b_row0_col4\" class=\"data row0 col4\" >0.6833</td>\n",
       "      <td id=\"T_6089b_row0_col5\" class=\"data row0 col5\" >0.1788</td>\n",
       "      <td id=\"T_6089b_row0_col6\" class=\"data row0 col6\" >0.1886</td>\n",
       "    </tr>\n",
       "    <tr>\n",
       "      <th id=\"T_6089b_level0_row1\" class=\"row_heading level0 row1\" >1</th>\n",
       "      <td id=\"T_6089b_row1_col0\" class=\"data row1 col0\" >0.6058</td>\n",
       "      <td id=\"T_6089b_row1_col1\" class=\"data row1 col1\" >0.6358</td>\n",
       "      <td id=\"T_6089b_row1_col2\" class=\"data row1 col2\" >0.7963</td>\n",
       "      <td id=\"T_6089b_row1_col3\" class=\"data row1 col3\" >0.6064</td>\n",
       "      <td id=\"T_6089b_row1_col4\" class=\"data row1 col4\" >0.6885</td>\n",
       "      <td id=\"T_6089b_row1_col5\" class=\"data row1 col5\" >0.1776</td>\n",
       "      <td id=\"T_6089b_row1_col6\" class=\"data row1 col6\" >0.1902</td>\n",
       "    </tr>\n",
       "    <tr>\n",
       "      <th id=\"T_6089b_level0_row2\" class=\"row_heading level0 row2\" >2</th>\n",
       "      <td id=\"T_6089b_row2_col0\" class=\"data row2 col0\" >0.6067</td>\n",
       "      <td id=\"T_6089b_row2_col1\" class=\"data row2 col1\" >0.6316</td>\n",
       "      <td id=\"T_6089b_row2_col2\" class=\"data row2 col2\" >0.7948</td>\n",
       "      <td id=\"T_6089b_row2_col3\" class=\"data row2 col3\" >0.6074</td>\n",
       "      <td id=\"T_6089b_row2_col4\" class=\"data row2 col4\" >0.6886</td>\n",
       "      <td id=\"T_6089b_row2_col5\" class=\"data row2 col5\" >0.1800</td>\n",
       "      <td id=\"T_6089b_row2_col6\" class=\"data row2 col6\" >0.1923</td>\n",
       "    </tr>\n",
       "    <tr>\n",
       "      <th id=\"T_6089b_level0_row3\" class=\"row_heading level0 row3\" >3</th>\n",
       "      <td id=\"T_6089b_row3_col0\" class=\"data row3 col0\" >0.6039</td>\n",
       "      <td id=\"T_6089b_row3_col1\" class=\"data row3 col1\" >0.6323</td>\n",
       "      <td id=\"T_6089b_row3_col2\" class=\"data row3 col2\" >0.7881</td>\n",
       "      <td id=\"T_6089b_row3_col3\" class=\"data row3 col3\" >0.6062</td>\n",
       "      <td id=\"T_6089b_row3_col4\" class=\"data row3 col4\" >0.6853</td>\n",
       "      <td id=\"T_6089b_row3_col5\" class=\"data row3 col5\" >0.1750</td>\n",
       "      <td id=\"T_6089b_row3_col6\" class=\"data row3 col6\" >0.1862</td>\n",
       "    </tr>\n",
       "    <tr>\n",
       "      <th id=\"T_6089b_level0_row4\" class=\"row_heading level0 row4\" >4</th>\n",
       "      <td id=\"T_6089b_row4_col0\" class=\"data row4 col0\" >0.6045</td>\n",
       "      <td id=\"T_6089b_row4_col1\" class=\"data row4 col1\" >0.6379</td>\n",
       "      <td id=\"T_6089b_row4_col2\" class=\"data row4 col2\" >0.7968</td>\n",
       "      <td id=\"T_6089b_row4_col3\" class=\"data row4 col3\" >0.6053</td>\n",
       "      <td id=\"T_6089b_row4_col4\" class=\"data row4 col4\" >0.6880</td>\n",
       "      <td id=\"T_6089b_row4_col5\" class=\"data row4 col5\" >0.1748</td>\n",
       "      <td id=\"T_6089b_row4_col6\" class=\"data row4 col6\" >0.1875</td>\n",
       "    </tr>\n",
       "    <tr>\n",
       "      <th id=\"T_6089b_level0_row5\" class=\"row_heading level0 row5\" >5</th>\n",
       "      <td id=\"T_6089b_row5_col0\" class=\"data row5 col0\" >0.6005</td>\n",
       "      <td id=\"T_6089b_row5_col1\" class=\"data row5 col1\" >0.6291</td>\n",
       "      <td id=\"T_6089b_row5_col2\" class=\"data row5 col2\" >0.7909</td>\n",
       "      <td id=\"T_6089b_row5_col3\" class=\"data row5 col3\" >0.6028</td>\n",
       "      <td id=\"T_6089b_row5_col4\" class=\"data row5 col4\" >0.6842</td>\n",
       "      <td id=\"T_6089b_row5_col5\" class=\"data row5 col5\" >0.1667</td>\n",
       "      <td id=\"T_6089b_row5_col6\" class=\"data row5 col6\" >0.1784</td>\n",
       "    </tr>\n",
       "    <tr>\n",
       "      <th id=\"T_6089b_level0_row6\" class=\"row_heading level0 row6\" >6</th>\n",
       "      <td id=\"T_6089b_row6_col0\" class=\"data row6 col0\" >0.6040</td>\n",
       "      <td id=\"T_6089b_row6_col1\" class=\"data row6 col1\" >0.6360</td>\n",
       "      <td id=\"T_6089b_row6_col2\" class=\"data row6 col2\" >0.7914</td>\n",
       "      <td id=\"T_6089b_row6_col3\" class=\"data row6 col3\" >0.6057</td>\n",
       "      <td id=\"T_6089b_row6_col4\" class=\"data row6 col4\" >0.6862</td>\n",
       "      <td id=\"T_6089b_row6_col5\" class=\"data row6 col5\" >0.1746</td>\n",
       "      <td id=\"T_6089b_row6_col6\" class=\"data row6 col6\" >0.1864</td>\n",
       "    </tr>\n",
       "    <tr>\n",
       "      <th id=\"T_6089b_level0_row7\" class=\"row_heading level0 row7\" >7</th>\n",
       "      <td id=\"T_6089b_row7_col0\" class=\"data row7 col0\" >0.6085</td>\n",
       "      <td id=\"T_6089b_row7_col1\" class=\"data row7 col1\" >0.6294</td>\n",
       "      <td id=\"T_6089b_row7_col2\" class=\"data row7 col2\" >0.7953</td>\n",
       "      <td id=\"T_6089b_row7_col3\" class=\"data row7 col3\" >0.6089</td>\n",
       "      <td id=\"T_6089b_row7_col4\" class=\"data row7 col4\" >0.6897</td>\n",
       "      <td id=\"T_6089b_row7_col5\" class=\"data row7 col5\" >0.1839</td>\n",
       "      <td id=\"T_6089b_row7_col6\" class=\"data row7 col6\" >0.1963</td>\n",
       "    </tr>\n",
       "    <tr>\n",
       "      <th id=\"T_6089b_level0_row8\" class=\"row_heading level0 row8\" >8</th>\n",
       "      <td id=\"T_6089b_row8_col0\" class=\"data row8 col0\" >0.6030</td>\n",
       "      <td id=\"T_6089b_row8_col1\" class=\"data row8 col1\" >0.6293</td>\n",
       "      <td id=\"T_6089b_row8_col2\" class=\"data row8 col2\" >0.7958</td>\n",
       "      <td id=\"T_6089b_row8_col3\" class=\"data row8 col3\" >0.6042</td>\n",
       "      <td id=\"T_6089b_row8_col4\" class=\"data row8 col4\" >0.6869</td>\n",
       "      <td id=\"T_6089b_row8_col5\" class=\"data row8 col5\" >0.1715</td>\n",
       "      <td id=\"T_6089b_row8_col6\" class=\"data row8 col6\" >0.1840</td>\n",
       "    </tr>\n",
       "    <tr>\n",
       "      <th id=\"T_6089b_level0_row9\" class=\"row_heading level0 row9\" >9</th>\n",
       "      <td id=\"T_6089b_row9_col0\" class=\"data row9 col0\" >0.6002</td>\n",
       "      <td id=\"T_6089b_row9_col1\" class=\"data row9 col1\" >0.6255</td>\n",
       "      <td id=\"T_6089b_row9_col2\" class=\"data row9 col2\" >0.7872</td>\n",
       "      <td id=\"T_6089b_row9_col3\" class=\"data row9 col3\" >0.6032</td>\n",
       "      <td id=\"T_6089b_row9_col4\" class=\"data row9 col4\" >0.6830</td>\n",
       "      <td id=\"T_6089b_row9_col5\" class=\"data row9 col5\" >0.1668</td>\n",
       "      <td id=\"T_6089b_row9_col6\" class=\"data row9 col6\" >0.1779</td>\n",
       "    </tr>\n",
       "    <tr>\n",
       "      <th id=\"T_6089b_level0_row10\" class=\"row_heading level0 row10\" >Mean</th>\n",
       "      <td id=\"T_6089b_row10_col0\" class=\"data row10 col0\" >0.6042</td>\n",
       "      <td id=\"T_6089b_row10_col1\" class=\"data row10 col1\" >0.6318</td>\n",
       "      <td id=\"T_6089b_row10_col2\" class=\"data row10 col2\" >0.7916</td>\n",
       "      <td id=\"T_6089b_row10_col3\" class=\"data row10 col3\" >0.6059</td>\n",
       "      <td id=\"T_6089b_row10_col4\" class=\"data row10 col4\" >0.6864</td>\n",
       "      <td id=\"T_6089b_row10_col5\" class=\"data row10 col5\" >0.1750</td>\n",
       "      <td id=\"T_6089b_row10_col6\" class=\"data row10 col6\" >0.1868</td>\n",
       "    </tr>\n",
       "    <tr>\n",
       "      <th id=\"T_6089b_level0_row11\" class=\"row_heading level0 row11\" >Std</th>\n",
       "      <td id=\"T_6089b_row11_col0\" class=\"data row11 col0\" >0.0024</td>\n",
       "      <td id=\"T_6089b_row11_col1\" class=\"data row11 col1\" >0.0036</td>\n",
       "      <td id=\"T_6089b_row11_col2\" class=\"data row11 col2\" >0.0053</td>\n",
       "      <td id=\"T_6089b_row11_col3\" class=\"data row11 col3\" >0.0020</td>\n",
       "      <td id=\"T_6089b_row11_col4\" class=\"data row11 col4\" >0.0022</td>\n",
       "      <td id=\"T_6089b_row11_col5\" class=\"data row11 col5\" >0.0052</td>\n",
       "      <td id=\"T_6089b_row11_col6\" class=\"data row11 col6\" >0.0054</td>\n",
       "    </tr>\n",
       "  </tbody>\n",
       "</table>\n"
      ],
      "text/plain": [
       "<pandas.io.formats.style.Styler at 0x7f8e8c215cf0>"
      ]
     },
     "metadata": {},
     "output_type": "display_data"
    },
    {
     "data": {
      "text/html": [],
      "text/plain": [
       "<IPython.core.display.HTML object>"
      ]
     },
     "metadata": {},
     "output_type": "display_data"
    },
    {
     "data": {
      "text/html": [],
      "text/plain": [
       "<IPython.core.display.HTML object>"
      ]
     },
     "metadata": {},
     "output_type": "display_data"
    },
    {
     "data": {
      "image/png": "[encoded data removed]",
      "text/plain": [
       "<Figure size 480x330 with 1 Axes>"
      ]
     },
     "metadata": {},
     "output_type": "display_data"
    },
    {
     "data": {
      "text/html": [],
      "text/plain": [
       "<IPython.core.display.HTML object>"
      ]
     },
     "metadata": {},
     "output_type": "display_data"
    },
    {
     "data": {
      "text/html": [
       "<style type=\"text/css\">\n",
       "#T_e9a24_row10_col0, #T_e9a24_row10_col1, #T_e9a24_row10_col2, #T_e9a24_row10_col3, #T_e9a24_row10_col4, #T_e9a24_row10_col5, #T_e9a24_row10_col6 {\n",
       "  background: yellow;\n",
       "}\n",
       "</style>\n",
       "<table id=\"T_e9a24\">\n",
       "  <thead>\n",
       "    <tr>\n",
       "      <th class=\"blank level0\" >&nbsp;</th>\n",
       "      <th id=\"T_e9a24_level0_col0\" class=\"col_heading level0 col0\" >Accuracy</th>\n",
       "      <th id=\"T_e9a24_level0_col1\" class=\"col_heading level0 col1\" >AUC</th>\n",
       "      <th id=\"T_e9a24_level0_col2\" class=\"col_heading level0 col2\" >Recall</th>\n",
       "      <th id=\"T_e9a24_level0_col3\" class=\"col_heading level0 col3\" >Prec.</th>\n",
       "      <th id=\"T_e9a24_level0_col4\" class=\"col_heading level0 col4\" >F1</th>\n",
       "      <th id=\"T_e9a24_level0_col5\" class=\"col_heading level0 col5\" >Kappa</th>\n",
       "      <th id=\"T_e9a24_level0_col6\" class=\"col_heading level0 col6\" >MCC</th>\n",
       "    </tr>\n",
       "    <tr>\n",
       "      <th class=\"index_name level0\" >Fold</th>\n",
       "      <th class=\"blank col0\" >&nbsp;</th>\n",
       "      <th class=\"blank col1\" >&nbsp;</th>\n",
       "      <th class=\"blank col2\" >&nbsp;</th>\n",
       "      <th class=\"blank col3\" >&nbsp;</th>\n",
       "      <th class=\"blank col4\" >&nbsp;</th>\n",
       "      <th class=\"blank col5\" >&nbsp;</th>\n",
       "      <th class=\"blank col6\" >&nbsp;</th>\n",
       "    </tr>\n",
       "  </thead>\n",
       "  <tbody>\n",
       "    <tr>\n",
       "      <th id=\"T_e9a24_level0_row0\" class=\"row_heading level0 row0\" >0</th>\n",
       "      <td id=\"T_e9a24_row0_col0\" class=\"data row0 col0\" >0.6084</td>\n",
       "      <td id=\"T_e9a24_row0_col1\" class=\"data row0 col1\" >0.6379</td>\n",
       "      <td id=\"T_e9a24_row0_col2\" class=\"data row0 col2\" >0.7913</td>\n",
       "      <td id=\"T_e9a24_row0_col3\" class=\"data row0 col3\" >0.6095</td>\n",
       "      <td id=\"T_e9a24_row0_col4\" class=\"data row0 col4\" >0.6886</td>\n",
       "      <td id=\"T_e9a24_row0_col5\" class=\"data row0 col5\" >0.1845</td>\n",
       "      <td id=\"T_e9a24_row0_col6\" class=\"data row0 col6\" >0.1962</td>\n",
       "    </tr>\n",
       "    <tr>\n",
       "      <th id=\"T_e9a24_level0_row1\" class=\"row_heading level0 row1\" >1</th>\n",
       "      <td id=\"T_e9a24_row1_col0\" class=\"data row1 col0\" >0.6086</td>\n",
       "      <td id=\"T_e9a24_row1_col1\" class=\"data row1 col1\" >0.6384</td>\n",
       "      <td id=\"T_e9a24_row1_col2\" class=\"data row1 col2\" >0.7974</td>\n",
       "      <td id=\"T_e9a24_row1_col3\" class=\"data row1 col3\" >0.6086</td>\n",
       "      <td id=\"T_e9a24_row1_col4\" class=\"data row1 col4\" >0.6903</td>\n",
       "      <td id=\"T_e9a24_row1_col5\" class=\"data row1 col5\" >0.1839</td>\n",
       "      <td id=\"T_e9a24_row1_col6\" class=\"data row1 col6\" >0.1966</td>\n",
       "    </tr>\n",
       "    <tr>\n",
       "      <th id=\"T_e9a24_level0_row2\" class=\"row_heading level0 row2\" >2</th>\n",
       "      <td id=\"T_e9a24_row2_col0\" class=\"data row2 col0\" >0.6081</td>\n",
       "      <td id=\"T_e9a24_row2_col1\" class=\"data row2 col1\" >0.6387</td>\n",
       "      <td id=\"T_e9a24_row2_col2\" class=\"data row2 col2\" >0.7970</td>\n",
       "      <td id=\"T_e9a24_row2_col3\" class=\"data row2 col3\" >0.6082</td>\n",
       "      <td id=\"T_e9a24_row2_col4\" class=\"data row2 col4\" >0.6899</td>\n",
       "      <td id=\"T_e9a24_row2_col5\" class=\"data row2 col5\" >0.1827</td>\n",
       "      <td id=\"T_e9a24_row2_col6\" class=\"data row2 col6\" >0.1953</td>\n",
       "    </tr>\n",
       "    <tr>\n",
       "      <th id=\"T_e9a24_level0_row3\" class=\"row_heading level0 row3\" >3</th>\n",
       "      <td id=\"T_e9a24_row3_col0\" class=\"data row3 col0\" >0.6079</td>\n",
       "      <td id=\"T_e9a24_row3_col1\" class=\"data row3 col1\" >0.6362</td>\n",
       "      <td id=\"T_e9a24_row3_col2\" class=\"data row3 col2\" >0.7892</td>\n",
       "      <td id=\"T_e9a24_row3_col3\" class=\"data row3 col3\" >0.6094</td>\n",
       "      <td id=\"T_e9a24_row3_col4\" class=\"data row3 col4\" >0.6877</td>\n",
       "      <td id=\"T_e9a24_row3_col5\" class=\"data row3 col5\" >0.1838</td>\n",
       "      <td id=\"T_e9a24_row3_col6\" class=\"data row3 col6\" >0.1952</td>\n",
       "    </tr>\n",
       "    <tr>\n",
       "      <th id=\"T_e9a24_level0_row4\" class=\"row_heading level0 row4\" >4</th>\n",
       "      <td id=\"T_e9a24_row4_col0\" class=\"data row4 col0\" >0.6148</td>\n",
       "      <td id=\"T_e9a24_row4_col1\" class=\"data row4 col1\" >0.6449</td>\n",
       "      <td id=\"T_e9a24_row4_col2\" class=\"data row4 col2\" >0.8046</td>\n",
       "      <td id=\"T_e9a24_row4_col3\" class=\"data row4 col3\" >0.6127</td>\n",
       "      <td id=\"T_e9a24_row4_col4\" class=\"data row4 col4\" >0.6956</td>\n",
       "      <td id=\"T_e9a24_row4_col5\" class=\"data row4 col5\" >0.1965</td>\n",
       "      <td id=\"T_e9a24_row4_col6\" class=\"data row4 col6\" >0.2104</td>\n",
       "    </tr>\n",
       "    <tr>\n",
       "      <th id=\"T_e9a24_level0_row5\" class=\"row_heading level0 row5\" >5</th>\n",
       "      <td id=\"T_e9a24_row5_col0\" class=\"data row5 col0\" >0.6036</td>\n",
       "      <td id=\"T_e9a24_row5_col1\" class=\"data row5 col1\" >0.6346</td>\n",
       "      <td id=\"T_e9a24_row5_col2\" class=\"data row5 col2\" >0.7972</td>\n",
       "      <td id=\"T_e9a24_row5_col3\" class=\"data row5 col3\" >0.6045</td>\n",
       "      <td id=\"T_e9a24_row5_col4\" class=\"data row5 col4\" >0.6876</td>\n",
       "      <td id=\"T_e9a24_row5_col5\" class=\"data row5 col5\" >0.1727</td>\n",
       "      <td id=\"T_e9a24_row5_col6\" class=\"data row5 col6\" >0.1854</td>\n",
       "    </tr>\n",
       "    <tr>\n",
       "      <th id=\"T_e9a24_level0_row6\" class=\"row_heading level0 row6\" >6</th>\n",
       "      <td id=\"T_e9a24_row6_col0\" class=\"data row6 col0\" >0.6103</td>\n",
       "      <td id=\"T_e9a24_row6_col1\" class=\"data row6 col1\" >0.6425</td>\n",
       "      <td id=\"T_e9a24_row6_col2\" class=\"data row6 col2\" >0.7935</td>\n",
       "      <td id=\"T_e9a24_row6_col3\" class=\"data row6 col3\" >0.6108</td>\n",
       "      <td id=\"T_e9a24_row6_col4\" class=\"data row6 col4\" >0.6902</td>\n",
       "      <td id=\"T_e9a24_row6_col5\" class=\"data row6 col5\" >0.1884</td>\n",
       "      <td id=\"T_e9a24_row6_col6\" class=\"data row6 col6\" >0.2004</td>\n",
       "    </tr>\n",
       "    <tr>\n",
       "      <th id=\"T_e9a24_level0_row7\" class=\"row_heading level0 row7\" >7</th>\n",
       "      <td id=\"T_e9a24_row7_col0\" class=\"data row7 col0\" >0.6098</td>\n",
       "      <td id=\"T_e9a24_row7_col1\" class=\"data row7 col1\" >0.6353</td>\n",
       "      <td id=\"T_e9a24_row7_col2\" class=\"data row7 col2\" >0.7941</td>\n",
       "      <td id=\"T_e9a24_row7_col3\" class=\"data row7 col3\" >0.6102</td>\n",
       "      <td id=\"T_e9a24_row7_col4\" class=\"data row7 col4\" >0.6901</td>\n",
       "      <td id=\"T_e9a24_row7_col5\" class=\"data row7 col5\" >0.1872</td>\n",
       "      <td id=\"T_e9a24_row7_col6\" class=\"data row7 col6\" >0.1993</td>\n",
       "    </tr>\n",
       "    <tr>\n",
       "      <th id=\"T_e9a24_level0_row8\" class=\"row_heading level0 row8\" >8</th>\n",
       "      <td id=\"T_e9a24_row8_col0\" class=\"data row8 col0\" >0.6081</td>\n",
       "      <td id=\"T_e9a24_row8_col1\" class=\"data row8 col1\" >0.6379</td>\n",
       "      <td id=\"T_e9a24_row8_col2\" class=\"data row8 col2\" >0.7991</td>\n",
       "      <td id=\"T_e9a24_row8_col3\" class=\"data row8 col3\" >0.6079</td>\n",
       "      <td id=\"T_e9a24_row8_col4\" class=\"data row8 col4\" >0.6905</td>\n",
       "      <td id=\"T_e9a24_row8_col5\" class=\"data row8 col5\" >0.1824</td>\n",
       "      <td id=\"T_e9a24_row8_col6\" class=\"data row8 col6\" >0.1954</td>\n",
       "    </tr>\n",
       "    <tr>\n",
       "      <th id=\"T_e9a24_level0_row9\" class=\"row_heading level0 row9\" >9</th>\n",
       "      <td id=\"T_e9a24_row9_col0\" class=\"data row9 col0\" >0.6061</td>\n",
       "      <td id=\"T_e9a24_row9_col1\" class=\"data row9 col1\" >0.6338</td>\n",
       "      <td id=\"T_e9a24_row9_col2\" class=\"data row9 col2\" >0.7992</td>\n",
       "      <td id=\"T_e9a24_row9_col3\" class=\"data row9 col3\" >0.6063</td>\n",
       "      <td id=\"T_e9a24_row9_col4\" class=\"data row9 col4\" >0.6895</td>\n",
       "      <td id=\"T_e9a24_row9_col5\" class=\"data row9 col5\" >0.1780</td>\n",
       "      <td id=\"T_e9a24_row9_col6\" class=\"data row9 col6\" >0.1910</td>\n",
       "    </tr>\n",
       "    <tr>\n",
       "      <th id=\"T_e9a24_level0_row10\" class=\"row_heading level0 row10\" >Mean</th>\n",
       "      <td id=\"T_e9a24_row10_col0\" class=\"data row10 col0\" >0.6086</td>\n",
       "      <td id=\"T_e9a24_row10_col1\" class=\"data row10 col1\" >0.6380</td>\n",
       "      <td id=\"T_e9a24_row10_col2\" class=\"data row10 col2\" >0.7963</td>\n",
       "      <td id=\"T_e9a24_row10_col3\" class=\"data row10 col3\" >0.6088</td>\n",
       "      <td id=\"T_e9a24_row10_col4\" class=\"data row10 col4\" >0.6900</td>\n",
       "      <td id=\"T_e9a24_row10_col5\" class=\"data row10 col5\" >0.1840</td>\n",
       "      <td id=\"T_e9a24_row10_col6\" class=\"data row10 col6\" >0.1965</td>\n",
       "    </tr>\n",
       "    <tr>\n",
       "      <th id=\"T_e9a24_level0_row11\" class=\"row_heading level0 row11\" >Std</th>\n",
       "      <td id=\"T_e9a24_row11_col0\" class=\"data row11 col0\" >0.0027</td>\n",
       "      <td id=\"T_e9a24_row11_col1\" class=\"data row11 col1\" >0.0033</td>\n",
       "      <td id=\"T_e9a24_row11_col2\" class=\"data row11 col2\" >0.0042</td>\n",
       "      <td id=\"T_e9a24_row11_col3\" class=\"data row11 col3\" >0.0022</td>\n",
       "      <td id=\"T_e9a24_row11_col4\" class=\"data row11 col4\" >0.0021</td>\n",
       "      <td id=\"T_e9a24_row11_col5\" class=\"data row11 col5\" >0.0060</td>\n",
       "      <td id=\"T_e9a24_row11_col6\" class=\"data row11 col6\" >0.0061</td>\n",
       "    </tr>\n",
       "  </tbody>\n",
       "</table>\n"
      ],
      "text/plain": [
       "<pandas.io.formats.style.Styler at 0x7f8e8d515b70>"
      ]
     },
     "metadata": {},
     "output_type": "display_data"
    },
    {
     "data": {
      "text/html": [],
      "text/plain": [
       "<IPython.core.display.HTML object>"
      ]
     },
     "metadata": {},
     "output_type": "display_data"
    },
    {
     "data": {
      "text/html": [],
      "text/plain": [
       "<IPython.core.display.HTML object>"
      ]
     },
     "metadata": {},
     "output_type": "display_data"
    },
    {
     "data": {
      "image/png": "[encoded data removed]",
      "text/plain": [
       "<Figure size 480x330 with 1 Axes>"
      ]
     },
     "metadata": {},
     "output_type": "display_data"
    },
    {
     "data": {
      "text/html": [],
      "text/plain": [
       "<IPython.core.display.HTML object>"
      ]
     },
     "metadata": {},
     "output_type": "display_data"
    },
    {
     "data": {
      "text/html": [
       "<style type=\"text/css\">\n",
       "#T_1579b_row10_col0, #T_1579b_row10_col1, #T_1579b_row10_col2, #T_1579b_row10_col3, #T_1579b_row10_col4, #T_1579b_row10_col5, #T_1579b_row10_col6 {\n",
       "  background: yellow;\n",
       "}\n",
       "</style>\n",
       "<table id=\"T_1579b\">\n",
       "  <thead>\n",
       "    <tr>\n",
       "      <th class=\"blank level0\" >&nbsp;</th>\n",
       "      <th id=\"T_1579b_level0_col0\" class=\"col_heading level0 col0\" >Accuracy</th>\n",
       "      <th id=\"T_1579b_level0_col1\" class=\"col_heading level0 col1\" >AUC</th>\n",
       "      <th id=\"T_1579b_level0_col2\" class=\"col_heading level0 col2\" >Recall</th>\n",
       "      <th id=\"T_1579b_level0_col3\" class=\"col_heading level0 col3\" >Prec.</th>\n",
       "      <th id=\"T_1579b_level0_col4\" class=\"col_heading level0 col4\" >F1</th>\n",
       "      <th id=\"T_1579b_level0_col5\" class=\"col_heading level0 col5\" >Kappa</th>\n",
       "      <th id=\"T_1579b_level0_col6\" class=\"col_heading level0 col6\" >MCC</th>\n",
       "    </tr>\n",
       "    <tr>\n",
       "      <th class=\"index_name level0\" >Fold</th>\n",
       "      <th class=\"blank col0\" >&nbsp;</th>\n",
       "      <th class=\"blank col1\" >&nbsp;</th>\n",
       "      <th class=\"blank col2\" >&nbsp;</th>\n",
       "      <th class=\"blank col3\" >&nbsp;</th>\n",
       "      <th class=\"blank col4\" >&nbsp;</th>\n",
       "      <th class=\"blank col5\" >&nbsp;</th>\n",
       "      <th class=\"blank col6\" >&nbsp;</th>\n",
       "    </tr>\n",
       "  </thead>\n",
       "  <tbody>\n",
       "    <tr>\n",
       "      <th id=\"T_1579b_level0_row0\" class=\"row_heading level0 row0\" >0</th>\n",
       "      <td id=\"T_1579b_row0_col0\" class=\"data row0 col0\" >0.6067</td>\n",
       "      <td id=\"T_1579b_row0_col1\" class=\"data row0 col1\" >0.6351</td>\n",
       "      <td id=\"T_1579b_row0_col2\" class=\"data row0 col2\" >0.7891</td>\n",
       "      <td id=\"T_1579b_row0_col3\" class=\"data row0 col3\" >0.6083</td>\n",
       "      <td id=\"T_1579b_row0_col4\" class=\"data row0 col4\" >0.6870</td>\n",
       "      <td id=\"T_1579b_row0_col5\" class=\"data row0 col5\" >0.1809</td>\n",
       "      <td id=\"T_1579b_row0_col6\" class=\"data row0 col6\" >0.1923</td>\n",
       "    </tr>\n",
       "    <tr>\n",
       "      <th id=\"T_1579b_level0_row1\" class=\"row_heading level0 row1\" >1</th>\n",
       "      <td id=\"T_1579b_row1_col0\" class=\"data row1 col0\" >0.6064</td>\n",
       "      <td id=\"T_1579b_row1_col1\" class=\"data row1 col1\" >0.6383</td>\n",
       "      <td id=\"T_1579b_row1_col2\" class=\"data row1 col2\" >0.7895</td>\n",
       "      <td id=\"T_1579b_row1_col3\" class=\"data row1 col3\" >0.6081</td>\n",
       "      <td id=\"T_1579b_row1_col4\" class=\"data row1 col4\" >0.6870</td>\n",
       "      <td id=\"T_1579b_row1_col5\" class=\"data row1 col5\" >0.1803</td>\n",
       "      <td id=\"T_1579b_row1_col6\" class=\"data row1 col6\" >0.1917</td>\n",
       "    </tr>\n",
       "    <tr>\n",
       "      <th id=\"T_1579b_level0_row2\" class=\"row_heading level0 row2\" >2</th>\n",
       "      <td id=\"T_1579b_row2_col0\" class=\"data row2 col0\" >0.6061</td>\n",
       "      <td id=\"T_1579b_row2_col1\" class=\"data row2 col1\" >0.6359</td>\n",
       "      <td id=\"T_1579b_row2_col2\" class=\"data row2 col2\" >0.7895</td>\n",
       "      <td id=\"T_1579b_row2_col3\" class=\"data row2 col3\" >0.6078</td>\n",
       "      <td id=\"T_1579b_row2_col4\" class=\"data row2 col4\" >0.6868</td>\n",
       "      <td id=\"T_1579b_row2_col5\" class=\"data row2 col5\" >0.1795</td>\n",
       "      <td id=\"T_1579b_row2_col6\" class=\"data row2 col6\" >0.1909</td>\n",
       "    </tr>\n",
       "    <tr>\n",
       "      <th id=\"T_1579b_level0_row3\" class=\"row_heading level0 row3\" >3</th>\n",
       "      <td id=\"T_1579b_row3_col0\" class=\"data row3 col0\" >0.6094</td>\n",
       "      <td id=\"T_1579b_row3_col1\" class=\"data row3 col1\" >0.6346</td>\n",
       "      <td id=\"T_1579b_row3_col2\" class=\"data row3 col2\" >0.7939</td>\n",
       "      <td id=\"T_1579b_row3_col3\" class=\"data row3 col3\" >0.6099</td>\n",
       "      <td id=\"T_1579b_row3_col4\" class=\"data row3 col4\" >0.6899</td>\n",
       "      <td id=\"T_1579b_row3_col5\" class=\"data row3 col5\" >0.1864</td>\n",
       "      <td id=\"T_1579b_row3_col6\" class=\"data row3 col6\" >0.1985</td>\n",
       "    </tr>\n",
       "    <tr>\n",
       "      <th id=\"T_1579b_level0_row4\" class=\"row_heading level0 row4\" >4</th>\n",
       "      <td id=\"T_1579b_row4_col0\" class=\"data row4 col0\" >0.6093</td>\n",
       "      <td id=\"T_1579b_row4_col1\" class=\"data row4 col1\" >0.6420</td>\n",
       "      <td id=\"T_1579b_row4_col2\" class=\"data row4 col2\" >0.7976</td>\n",
       "      <td id=\"T_1579b_row4_col3\" class=\"data row4 col3\" >0.6092</td>\n",
       "      <td id=\"T_1579b_row4_col4\" class=\"data row4 col4\" >0.6908</td>\n",
       "      <td id=\"T_1579b_row4_col5\" class=\"data row4 col5\" >0.1855</td>\n",
       "      <td id=\"T_1579b_row4_col6\" class=\"data row4 col6\" >0.1982</td>\n",
       "    </tr>\n",
       "    <tr>\n",
       "      <th id=\"T_1579b_level0_row5\" class=\"row_heading level0 row5\" >5</th>\n",
       "      <td id=\"T_1579b_row5_col0\" class=\"data row5 col0\" >0.6022</td>\n",
       "      <td id=\"T_1579b_row5_col1\" class=\"data row5 col1\" >0.6332</td>\n",
       "      <td id=\"T_1579b_row5_col2\" class=\"data row5 col2\" >0.7966</td>\n",
       "      <td id=\"T_1579b_row5_col3\" class=\"data row5 col3\" >0.6034</td>\n",
       "      <td id=\"T_1579b_row5_col4\" class=\"data row5 col4\" >0.6867</td>\n",
       "      <td id=\"T_1579b_row5_col5\" class=\"data row5 col5\" >0.1696</td>\n",
       "      <td id=\"T_1579b_row5_col6\" class=\"data row5 col6\" >0.1823</td>\n",
       "    </tr>\n",
       "    <tr>\n",
       "      <th id=\"T_1579b_level0_row6\" class=\"row_heading level0 row6\" >6</th>\n",
       "      <td id=\"T_1579b_row6_col0\" class=\"data row6 col0\" >0.6104</td>\n",
       "      <td id=\"T_1579b_row6_col1\" class=\"data row6 col1\" >0.6407</td>\n",
       "      <td id=\"T_1579b_row6_col2\" class=\"data row6 col2\" >0.7935</td>\n",
       "      <td id=\"T_1579b_row6_col3\" class=\"data row6 col3\" >0.6108</td>\n",
       "      <td id=\"T_1579b_row6_col4\" class=\"data row6 col4\" >0.6903</td>\n",
       "      <td id=\"T_1579b_row6_col5\" class=\"data row6 col5\" >0.1885</td>\n",
       "      <td id=\"T_1579b_row6_col6\" class=\"data row6 col6\" >0.2005</td>\n",
       "    </tr>\n",
       "    <tr>\n",
       "      <th id=\"T_1579b_level0_row7\" class=\"row_heading level0 row7\" >7</th>\n",
       "      <td id=\"T_1579b_row7_col0\" class=\"data row7 col0\" >0.6088</td>\n",
       "      <td id=\"T_1579b_row7_col1\" class=\"data row7 col1\" >0.6339</td>\n",
       "      <td id=\"T_1579b_row7_col2\" class=\"data row7 col2\" >0.7930</td>\n",
       "      <td id=\"T_1579b_row7_col3\" class=\"data row7 col3\" >0.6096</td>\n",
       "      <td id=\"T_1579b_row7_col4\" class=\"data row7 col4\" >0.6893</td>\n",
       "      <td id=\"T_1579b_row7_col5\" class=\"data row7 col5\" >0.1851</td>\n",
       "      <td id=\"T_1579b_row7_col6\" class=\"data row7 col6\" >0.1971</td>\n",
       "    </tr>\n",
       "    <tr>\n",
       "      <th id=\"T_1579b_level0_row8\" class=\"row_heading level0 row8\" >8</th>\n",
       "      <td id=\"T_1579b_row8_col0\" class=\"data row8 col0\" >0.6059</td>\n",
       "      <td id=\"T_1579b_row8_col1\" class=\"data row8 col1\" >0.6341</td>\n",
       "      <td id=\"T_1579b_row8_col2\" class=\"data row8 col2\" >0.7940</td>\n",
       "      <td id=\"T_1579b_row8_col3\" class=\"data row8 col3\" >0.6069</td>\n",
       "      <td id=\"T_1579b_row8_col4\" class=\"data row8 col4\" >0.6880</td>\n",
       "      <td id=\"T_1579b_row8_col5\" class=\"data row8 col5\" >0.1784</td>\n",
       "      <td id=\"T_1579b_row8_col6\" class=\"data row8 col6\" >0.1906</td>\n",
       "    </tr>\n",
       "    <tr>\n",
       "      <th id=\"T_1579b_level0_row9\" class=\"row_heading level0 row9\" >9</th>\n",
       "      <td id=\"T_1579b_row9_col0\" class=\"data row9 col0\" >0.6023</td>\n",
       "      <td id=\"T_1579b_row9_col1\" class=\"data row9 col1\" >0.6306</td>\n",
       "      <td id=\"T_1579b_row9_col2\" class=\"data row9 col2\" >0.7910</td>\n",
       "      <td id=\"T_1579b_row9_col3\" class=\"data row9 col3\" >0.6044</td>\n",
       "      <td id=\"T_1579b_row9_col4\" class=\"data row9 col4\" >0.6852</td>\n",
       "      <td id=\"T_1579b_row9_col5\" class=\"data row9 col5\" >0.1709</td>\n",
       "      <td id=\"T_1579b_row9_col6\" class=\"data row9 col6\" >0.1826</td>\n",
       "    </tr>\n",
       "    <tr>\n",
       "      <th id=\"T_1579b_level0_row10\" class=\"row_heading level0 row10\" >Mean</th>\n",
       "      <td id=\"T_1579b_row10_col0\" class=\"data row10 col0\" >0.6068</td>\n",
       "      <td id=\"T_1579b_row10_col1\" class=\"data row10 col1\" >0.6359</td>\n",
       "      <td id=\"T_1579b_row10_col2\" class=\"data row10 col2\" >0.7928</td>\n",
       "      <td id=\"T_1579b_row10_col3\" class=\"data row10 col3\" >0.6078</td>\n",
       "      <td id=\"T_1579b_row10_col4\" class=\"data row10 col4\" >0.6881</td>\n",
       "      <td id=\"T_1579b_row10_col5\" class=\"data row10 col5\" >0.1805</td>\n",
       "      <td id=\"T_1579b_row10_col6\" class=\"data row10 col6\" >0.1925</td>\n",
       "    </tr>\n",
       "    <tr>\n",
       "      <th id=\"T_1579b_level0_row11\" class=\"row_heading level0 row11\" >Std</th>\n",
       "      <td id=\"T_1579b_row11_col0\" class=\"data row11 col0\" >0.0027</td>\n",
       "      <td id=\"T_1579b_row11_col1\" class=\"data row11 col1\" >0.0033</td>\n",
       "      <td id=\"T_1579b_row11_col2\" class=\"data row11 col2\" >0.0028</td>\n",
       "      <td id=\"T_1579b_row11_col3\" class=\"data row11 col3\" >0.0023</td>\n",
       "      <td id=\"T_1579b_row11_col4\" class=\"data row11 col4\" >0.0018</td>\n",
       "      <td id=\"T_1579b_row11_col5\" class=\"data row11 col5\" >0.0060</td>\n",
       "      <td id=\"T_1579b_row11_col6\" class=\"data row11 col6\" >0.0060</td>\n",
       "    </tr>\n",
       "  </tbody>\n",
       "</table>\n"
      ],
      "text/plain": [
       "<pandas.io.formats.style.Styler at 0x7f8e8c75f040>"
      ]
     },
     "metadata": {},
     "output_type": "display_data"
    },
    {
     "data": {
      "text/html": [],
      "text/plain": [
       "<IPython.core.display.HTML object>"
      ]
     },
     "metadata": {},
     "output_type": "display_data"
    },
    {
     "data": {
      "text/html": [],
      "text/plain": [
       "<IPython.core.display.HTML object>"
      ]
     },
     "metadata": {},
     "output_type": "display_data"
    },
    {
     "data": {
      "image/png": "[encoded data removed]",
      "text/plain": [
       "<Figure size 480x330 with 1 Axes>"
      ]
     },
     "metadata": {},
     "output_type": "display_data"
    },
    {
     "data": {
      "text/html": [],
      "text/plain": [
       "<IPython.core.display.HTML object>"
      ]
     },
     "metadata": {},
     "output_type": "display_data"
    },
    {
     "data": {
      "text/html": [
       "<style type=\"text/css\">\n",
       "#T_6dca9_row10_col0, #T_6dca9_row10_col1, #T_6dca9_row10_col2, #T_6dca9_row10_col3, #T_6dca9_row10_col4, #T_6dca9_row10_col5, #T_6dca9_row10_col6 {\n",
       "  background: yellow;\n",
       "}\n",
       "</style>\n",
       "<table id=\"T_6dca9\">\n",
       "  <thead>\n",
       "    <tr>\n",
       "      <th class=\"blank level0\" >&nbsp;</th>\n",
       "      <th id=\"T_6dca9_level0_col0\" class=\"col_heading level0 col0\" >Accuracy</th>\n",
       "      <th id=\"T_6dca9_level0_col1\" class=\"col_heading level0 col1\" >AUC</th>\n",
       "      <th id=\"T_6dca9_level0_col2\" class=\"col_heading level0 col2\" >Recall</th>\n",
       "      <th id=\"T_6dca9_level0_col3\" class=\"col_heading level0 col3\" >Prec.</th>\n",
       "      <th id=\"T_6dca9_level0_col4\" class=\"col_heading level0 col4\" >F1</th>\n",
       "      <th id=\"T_6dca9_level0_col5\" class=\"col_heading level0 col5\" >Kappa</th>\n",
       "      <th id=\"T_6dca9_level0_col6\" class=\"col_heading level0 col6\" >MCC</th>\n",
       "    </tr>\n",
       "    <tr>\n",
       "      <th class=\"index_name level0\" >Fold</th>\n",
       "      <th class=\"blank col0\" >&nbsp;</th>\n",
       "      <th class=\"blank col1\" >&nbsp;</th>\n",
       "      <th class=\"blank col2\" >&nbsp;</th>\n",
       "      <th class=\"blank col3\" >&nbsp;</th>\n",
       "      <th class=\"blank col4\" >&nbsp;</th>\n",
       "      <th class=\"blank col5\" >&nbsp;</th>\n",
       "      <th class=\"blank col6\" >&nbsp;</th>\n",
       "    </tr>\n",
       "  </thead>\n",
       "  <tbody>\n",
       "    <tr>\n",
       "      <th id=\"T_6dca9_level0_row0\" class=\"row_heading level0 row0\" >0</th>\n",
       "      <td id=\"T_6dca9_row0_col0\" class=\"data row0 col0\" >0.5863</td>\n",
       "      <td id=\"T_6dca9_row0_col1\" class=\"data row0 col1\" >0.6089</td>\n",
       "      <td id=\"T_6dca9_row0_col2\" class=\"data row0 col2\" >0.7071</td>\n",
       "      <td id=\"T_6dca9_row0_col3\" class=\"data row0 col3\" >0.6041</td>\n",
       "      <td id=\"T_6dca9_row0_col4\" class=\"data row0 col4\" >0.6516</td>\n",
       "      <td id=\"T_6dca9_row0_col5\" class=\"data row0 col5\" >0.1500</td>\n",
       "      <td id=\"T_6dca9_row0_col6\" class=\"data row0 col6\" >0.1529</td>\n",
       "    </tr>\n",
       "    <tr>\n",
       "      <th id=\"T_6dca9_level0_row1\" class=\"row_heading level0 row1\" >1</th>\n",
       "      <td id=\"T_6dca9_row1_col0\" class=\"data row1 col0\" >0.5899</td>\n",
       "      <td id=\"T_6dca9_row1_col1\" class=\"data row1 col1\" >0.6100</td>\n",
       "      <td id=\"T_6dca9_row1_col2\" class=\"data row1 col2\" >0.7121</td>\n",
       "      <td id=\"T_6dca9_row1_col3\" class=\"data row1 col3\" >0.6067</td>\n",
       "      <td id=\"T_6dca9_row1_col4\" class=\"data row1 col4\" >0.6552</td>\n",
       "      <td id=\"T_6dca9_row1_col5\" class=\"data row1 col5\" >0.1571</td>\n",
       "      <td id=\"T_6dca9_row1_col6\" class=\"data row1 col6\" >0.1602</td>\n",
       "    </tr>\n",
       "    <tr>\n",
       "      <th id=\"T_6dca9_level0_row2\" class=\"row_heading level0 row2\" >2</th>\n",
       "      <td id=\"T_6dca9_row2_col0\" class=\"data row2 col0\" >0.5909</td>\n",
       "      <td id=\"T_6dca9_row2_col1\" class=\"data row2 col1\" >0.6104</td>\n",
       "      <td id=\"T_6dca9_row2_col2\" class=\"data row2 col2\" >0.7210</td>\n",
       "      <td id=\"T_6dca9_row2_col3\" class=\"data row2 col3\" >0.6060</td>\n",
       "      <td id=\"T_6dca9_row2_col4\" class=\"data row2 col4\" >0.6586</td>\n",
       "      <td id=\"T_6dca9_row2_col5\" class=\"data row2 col5\" >0.1579</td>\n",
       "      <td id=\"T_6dca9_row2_col6\" class=\"data row2 col6\" >0.1616</td>\n",
       "    </tr>\n",
       "    <tr>\n",
       "      <th id=\"T_6dca9_level0_row3\" class=\"row_heading level0 row3\" >3</th>\n",
       "      <td id=\"T_6dca9_row3_col0\" class=\"data row3 col0\" >0.5899</td>\n",
       "      <td id=\"T_6dca9_row3_col1\" class=\"data row3 col1\" >0.6104</td>\n",
       "      <td id=\"T_6dca9_row3_col2\" class=\"data row3 col2\" >0.7129</td>\n",
       "      <td id=\"T_6dca9_row3_col3\" class=\"data row3 col3\" >0.6066</td>\n",
       "      <td id=\"T_6dca9_row3_col4\" class=\"data row3 col4\" >0.6554</td>\n",
       "      <td id=\"T_6dca9_row3_col5\" class=\"data row3 col5\" >0.1572</td>\n",
       "      <td id=\"T_6dca9_row3_col6\" class=\"data row3 col6\" >0.1603</td>\n",
       "    </tr>\n",
       "    <tr>\n",
       "      <th id=\"T_6dca9_level0_row4\" class=\"row_heading level0 row4\" >4</th>\n",
       "      <td id=\"T_6dca9_row4_col0\" class=\"data row4 col0\" >0.5852</td>\n",
       "      <td id=\"T_6dca9_row4_col1\" class=\"data row4 col1\" >0.6097</td>\n",
       "      <td id=\"T_6dca9_row4_col2\" class=\"data row4 col2\" >0.7039</td>\n",
       "      <td id=\"T_6dca9_row4_col3\" class=\"data row4 col3\" >0.6037</td>\n",
       "      <td id=\"T_6dca9_row4_col4\" class=\"data row4 col4\" >0.6499</td>\n",
       "      <td id=\"T_6dca9_row4_col5\" class=\"data row4 col5\" >0.1482</td>\n",
       "      <td id=\"T_6dca9_row4_col6\" class=\"data row4 col6\" >0.1509</td>\n",
       "    </tr>\n",
       "    <tr>\n",
       "      <th id=\"T_6dca9_level0_row5\" class=\"row_heading level0 row5\" >5</th>\n",
       "      <td id=\"T_6dca9_row5_col0\" class=\"data row5 col0\" >0.5829</td>\n",
       "      <td id=\"T_6dca9_row5_col1\" class=\"data row5 col1\" >0.6069</td>\n",
       "      <td id=\"T_6dca9_row5_col2\" class=\"data row5 col2\" >0.7057</td>\n",
       "      <td id=\"T_6dca9_row5_col3\" class=\"data row5 col3\" >0.6012</td>\n",
       "      <td id=\"T_6dca9_row5_col4\" class=\"data row5 col4\" >0.6493</td>\n",
       "      <td id=\"T_6dca9_row5_col5\" class=\"data row5 col5\" >0.1428</td>\n",
       "      <td id=\"T_6dca9_row5_col6\" class=\"data row5 col6\" >0.1456</td>\n",
       "    </tr>\n",
       "    <tr>\n",
       "      <th id=\"T_6dca9_level0_row6\" class=\"row_heading level0 row6\" >6</th>\n",
       "      <td id=\"T_6dca9_row6_col0\" class=\"data row6 col0\" >0.5922</td>\n",
       "      <td id=\"T_6dca9_row6_col1\" class=\"data row6 col1\" >0.6162</td>\n",
       "      <td id=\"T_6dca9_row6_col2\" class=\"data row6 col2\" >0.7124</td>\n",
       "      <td id=\"T_6dca9_row6_col3\" class=\"data row6 col3\" >0.6088</td>\n",
       "      <td id=\"T_6dca9_row6_col4\" class=\"data row6 col4\" >0.6565</td>\n",
       "      <td id=\"T_6dca9_row6_col5\" class=\"data row6 col5\" >0.1621</td>\n",
       "      <td id=\"T_6dca9_row6_col6\" class=\"data row6 col6\" >0.1652</td>\n",
       "    </tr>\n",
       "    <tr>\n",
       "      <th id=\"T_6dca9_level0_row7\" class=\"row_heading level0 row7\" >7</th>\n",
       "      <td id=\"T_6dca9_row7_col0\" class=\"data row7 col0\" >0.5870</td>\n",
       "      <td id=\"T_6dca9_row7_col1\" class=\"data row7 col1\" >0.6101</td>\n",
       "      <td id=\"T_6dca9_row7_col2\" class=\"data row7 col2\" >0.7026</td>\n",
       "      <td id=\"T_6dca9_row7_col3\" class=\"data row7 col3\" >0.6057</td>\n",
       "      <td id=\"T_6dca9_row7_col4\" class=\"data row7 col4\" >0.6506</td>\n",
       "      <td id=\"T_6dca9_row7_col5\" class=\"data row7 col5\" >0.1526</td>\n",
       "      <td id=\"T_6dca9_row7_col6\" class=\"data row7 col6\" >0.1551</td>\n",
       "    </tr>\n",
       "    <tr>\n",
       "      <th id=\"T_6dca9_level0_row8\" class=\"row_heading level0 row8\" >8</th>\n",
       "      <td id=\"T_6dca9_row8_col0\" class=\"data row8 col0\" >0.5815</td>\n",
       "      <td id=\"T_6dca9_row8_col1\" class=\"data row8 col1\" >0.6019</td>\n",
       "      <td id=\"T_6dca9_row8_col2\" class=\"data row8 col2\" >0.7067</td>\n",
       "      <td id=\"T_6dca9_row8_col3\" class=\"data row8 col3\" >0.5998</td>\n",
       "      <td id=\"T_6dca9_row8_col4\" class=\"data row8 col4\" >0.6488</td>\n",
       "      <td id=\"T_6dca9_row8_col5\" class=\"data row8 col5\" >0.1395</td>\n",
       "      <td id=\"T_6dca9_row8_col6\" class=\"data row8 col6\" >0.1424</td>\n",
       "    </tr>\n",
       "    <tr>\n",
       "      <th id=\"T_6dca9_level0_row9\" class=\"row_heading level0 row9\" >9</th>\n",
       "      <td id=\"T_6dca9_row9_col0\" class=\"data row9 col0\" >0.5856</td>\n",
       "      <td id=\"T_6dca9_row9_col1\" class=\"data row9 col1\" >0.6075</td>\n",
       "      <td id=\"T_6dca9_row9_col2\" class=\"data row9 col2\" >0.7123</td>\n",
       "      <td id=\"T_6dca9_row9_col3\" class=\"data row9 col3\" >0.6026</td>\n",
       "      <td id=\"T_6dca9_row9_col4\" class=\"data row9 col4\" >0.6529</td>\n",
       "      <td id=\"T_6dca9_row9_col5\" class=\"data row9 col5\" >0.1476</td>\n",
       "      <td id=\"T_6dca9_row9_col6\" class=\"data row9 col6\" >0.1508</td>\n",
       "    </tr>\n",
       "    <tr>\n",
       "      <th id=\"T_6dca9_level0_row10\" class=\"row_heading level0 row10\" >Mean</th>\n",
       "      <td id=\"T_6dca9_row10_col0\" class=\"data row10 col0\" >0.5871</td>\n",
       "      <td id=\"T_6dca9_row10_col1\" class=\"data row10 col1\" >0.6092</td>\n",
       "      <td id=\"T_6dca9_row10_col2\" class=\"data row10 col2\" >0.7097</td>\n",
       "      <td id=\"T_6dca9_row10_col3\" class=\"data row10 col3\" >0.6045</td>\n",
       "      <td id=\"T_6dca9_row10_col4\" class=\"data row10 col4\" >0.6529</td>\n",
       "      <td id=\"T_6dca9_row10_col5\" class=\"data row10 col5\" >0.1515</td>\n",
       "      <td id=\"T_6dca9_row10_col6\" class=\"data row10 col6\" >0.1545</td>\n",
       "    </tr>\n",
       "    <tr>\n",
       "      <th id=\"T_6dca9_level0_row11\" class=\"row_heading level0 row11\" >Std</th>\n",
       "      <td id=\"T_6dca9_row11_col0\" class=\"data row11 col0\" >0.0033</td>\n",
       "      <td id=\"T_6dca9_row11_col1\" class=\"data row11 col1\" >0.0034</td>\n",
       "      <td id=\"T_6dca9_row11_col2\" class=\"data row11 col2\" >0.0052</td>\n",
       "      <td id=\"T_6dca9_row11_col3\" class=\"data row11 col3\" >0.0026</td>\n",
       "      <td id=\"T_6dca9_row11_col4\" class=\"data row11 col4\" >0.0032</td>\n",
       "      <td id=\"T_6dca9_row11_col5\" class=\"data row11 col5\" >0.0068</td>\n",
       "      <td id=\"T_6dca9_row11_col6\" class=\"data row11 col6\" >0.0070</td>\n",
       "    </tr>\n",
       "  </tbody>\n",
       "</table>\n"
      ],
      "text/plain": [
       "<pandas.io.formats.style.Styler at 0x7f8e8d586800>"
      ]
     },
     "metadata": {},
     "output_type": "display_data"
    },
    {
     "data": {
      "text/html": [],
      "text/plain": [
       "<IPython.core.display.HTML object>"
      ]
     },
     "metadata": {},
     "output_type": "display_data"
    },
    {
     "data": {
      "text/html": [],
      "text/plain": [
       "<IPython.core.display.HTML object>"
      ]
     },
     "metadata": {},
     "output_type": "display_data"
    },
    {
     "data": {
      "image/png": "[encoded data removed]",
      "text/plain": [
       "<Figure size 480x330 with 1 Axes>"
      ]
     },
     "metadata": {},
     "output_type": "display_data"
    }
   ],
   "source": [
    "regression_model_ada, regression_model_lightgbm, regression_model_gbc, regression_model_rf = model.common.create_models(train_data, target_column)"
   ]
  },
  {
   "cell_type": "markdown",
   "metadata": {
    "execution": {
     "iopub.execute_input": "2023-06-08T23:08:22.530994Z",
     "iopub.status.busy": "2023-06-08T23:08:22.529719Z",
     "iopub.status.idle": "2023-06-08T23:08:22.542651Z",
     "shell.execute_reply": "2023-06-08T23:08:22.540043Z",
     "shell.execute_reply.started": "2023-06-08T23:08:22.530922Z"
    }
   },
   "source": [
    "**evaluate model**"
   ]
  },
  {
   "cell_type": "markdown",
   "metadata": {},
   "source": [
    "`lightgbm` shows very good AUC of `0.97`, `rf` as well with `1.0` train AUC.\n",
    "\n",
    "`rf` seemed like too overfit with 1.0 train AUC but its test precision as well is the best among others.\n",
    "\n",
    "`ada` shows very low recall thus inpractical.\n"
   ]
  },
  {
   "cell_type": "code",
   "execution_count": 8,
   "metadata": {
    "execution": {
     "iopub.execute_input": "2023-08-14T22:57:08.770995Z",
     "iopub.status.busy": "2023-08-14T22:57:08.770864Z",
     "iopub.status.idle": "2023-08-14T22:57:18.201830Z",
     "shell.execute_reply": "2023-08-14T22:57:18.201008Z",
     "shell.execute_reply.started": "2023-08-14T22:57:08.770983Z"
    }
   },
   "outputs": [
    {
     "data": {
      "text/html": [
       "<style type=\"text/css\">\n",
       "</style>\n",
       "<table id=\"T_5cb0a\">\n",
       "  <thead>\n",
       "    <tr>\n",
       "      <th class=\"blank level0\" >&nbsp;</th>\n",
       "      <th id=\"T_5cb0a_level0_col0\" class=\"col_heading level0 col0\" >Model</th>\n",
       "      <th id=\"T_5cb0a_level0_col1\" class=\"col_heading level0 col1\" >Accuracy</th>\n",
       "      <th id=\"T_5cb0a_level0_col2\" class=\"col_heading level0 col2\" >AUC</th>\n",
       "      <th id=\"T_5cb0a_level0_col3\" class=\"col_heading level0 col3\" >Recall</th>\n",
       "      <th id=\"T_5cb0a_level0_col4\" class=\"col_heading level0 col4\" >Prec.</th>\n",
       "      <th id=\"T_5cb0a_level0_col5\" class=\"col_heading level0 col5\" >F1</th>\n",
       "      <th id=\"T_5cb0a_level0_col6\" class=\"col_heading level0 col6\" >Kappa</th>\n",
       "      <th id=\"T_5cb0a_level0_col7\" class=\"col_heading level0 col7\" >MCC</th>\n",
       "    </tr>\n",
       "  </thead>\n",
       "  <tbody>\n",
       "    <tr>\n",
       "      <th id=\"T_5cb0a_level0_row0\" class=\"row_heading level0 row0\" >0</th>\n",
       "      <td id=\"T_5cb0a_row0_col0\" class=\"data row0 col0\" >Ada Boost Classifier</td>\n",
       "      <td id=\"T_5cb0a_row0_col1\" class=\"data row0 col1\" >0.6047</td>\n",
       "      <td id=\"T_5cb0a_row0_col2\" class=\"data row0 col2\" >0.6345</td>\n",
       "      <td id=\"T_5cb0a_row0_col3\" class=\"data row0 col3\" >0.7905</td>\n",
       "      <td id=\"T_5cb0a_row0_col4\" class=\"data row0 col4\" >0.6065</td>\n",
       "      <td id=\"T_5cb0a_row0_col5\" class=\"data row0 col5\" >0.6864</td>\n",
       "      <td id=\"T_5cb0a_row0_col6\" class=\"data row0 col6\" >0.1763</td>\n",
       "      <td id=\"T_5cb0a_row0_col7\" class=\"data row0 col7\" >0.1879</td>\n",
       "    </tr>\n",
       "  </tbody>\n",
       "</table>\n"
      ],
      "text/plain": [
       "<pandas.io.formats.style.Styler at 0x7f8e8d4b9000>"
      ]
     },
     "metadata": {},
     "output_type": "display_data"
    },
    {
     "data": {
      "text/html": [
       "<style type=\"text/css\">\n",
       "</style>\n",
       "<table id=\"T_4776f\">\n",
       "  <thead>\n",
       "    <tr>\n",
       "      <th class=\"blank level0\" >&nbsp;</th>\n",
       "      <th id=\"T_4776f_level0_col0\" class=\"col_heading level0 col0\" >Model</th>\n",
       "      <th id=\"T_4776f_level0_col1\" class=\"col_heading level0 col1\" >Accuracy</th>\n",
       "      <th id=\"T_4776f_level0_col2\" class=\"col_heading level0 col2\" >AUC</th>\n",
       "      <th id=\"T_4776f_level0_col3\" class=\"col_heading level0 col3\" >Recall</th>\n",
       "      <th id=\"T_4776f_level0_col4\" class=\"col_heading level0 col4\" >Prec.</th>\n",
       "      <th id=\"T_4776f_level0_col5\" class=\"col_heading level0 col5\" >F1</th>\n",
       "      <th id=\"T_4776f_level0_col6\" class=\"col_heading level0 col6\" >Kappa</th>\n",
       "      <th id=\"T_4776f_level0_col7\" class=\"col_heading level0 col7\" >MCC</th>\n",
       "    </tr>\n",
       "  </thead>\n",
       "  <tbody>\n",
       "    <tr>\n",
       "      <th id=\"T_4776f_level0_row0\" class=\"row_heading level0 row0\" >0</th>\n",
       "      <td id=\"T_4776f_row0_col0\" class=\"data row0 col0\" >Gradient Boosting Classifier</td>\n",
       "      <td id=\"T_4776f_row0_col1\" class=\"data row0 col1\" >0.6093</td>\n",
       "      <td id=\"T_4776f_row0_col2\" class=\"data row0 col2\" >0.6407</td>\n",
       "      <td id=\"T_4776f_row0_col3\" class=\"data row0 col3\" >0.7955</td>\n",
       "      <td id=\"T_4776f_row0_col4\" class=\"data row0 col4\" >0.6096</td>\n",
       "      <td id=\"T_4776f_row0_col5\" class=\"data row0 col5\" >0.6902</td>\n",
       "      <td id=\"T_4776f_row0_col6\" class=\"data row0 col6\" >0.1858</td>\n",
       "      <td id=\"T_4776f_row0_col7\" class=\"data row0 col7\" >0.1982</td>\n",
       "    </tr>\n",
       "  </tbody>\n",
       "</table>\n"
      ],
      "text/plain": [
       "<pandas.io.formats.style.Styler at 0x7f8e8c215d80>"
      ]
     },
     "metadata": {},
     "output_type": "display_data"
    },
    {
     "data": {
      "text/html": [
       "<style type=\"text/css\">\n",
       "</style>\n",
       "<table id=\"T_6b9a4\">\n",
       "  <thead>\n",
       "    <tr>\n",
       "      <th class=\"blank level0\" >&nbsp;</th>\n",
       "      <th id=\"T_6b9a4_level0_col0\" class=\"col_heading level0 col0\" >Model</th>\n",
       "      <th id=\"T_6b9a4_level0_col1\" class=\"col_heading level0 col1\" >Accuracy</th>\n",
       "      <th id=\"T_6b9a4_level0_col2\" class=\"col_heading level0 col2\" >AUC</th>\n",
       "      <th id=\"T_6b9a4_level0_col3\" class=\"col_heading level0 col3\" >Recall</th>\n",
       "      <th id=\"T_6b9a4_level0_col4\" class=\"col_heading level0 col4\" >Prec.</th>\n",
       "      <th id=\"T_6b9a4_level0_col5\" class=\"col_heading level0 col5\" >F1</th>\n",
       "      <th id=\"T_6b9a4_level0_col6\" class=\"col_heading level0 col6\" >Kappa</th>\n",
       "      <th id=\"T_6b9a4_level0_col7\" class=\"col_heading level0 col7\" >MCC</th>\n",
       "    </tr>\n",
       "  </thead>\n",
       "  <tbody>\n",
       "    <tr>\n",
       "      <th id=\"T_6b9a4_level0_row0\" class=\"row_heading level0 row0\" >0</th>\n",
       "      <td id=\"T_6b9a4_row0_col0\" class=\"data row0 col0\" >Light Gradient Boosting Machine</td>\n",
       "      <td id=\"T_6b9a4_row0_col1\" class=\"data row0 col1\" >0.6190</td>\n",
       "      <td id=\"T_6b9a4_row0_col2\" class=\"data row0 col2\" >0.6563</td>\n",
       "      <td id=\"T_6b9a4_row0_col3\" class=\"data row0 col3\" >0.8064</td>\n",
       "      <td id=\"T_6b9a4_row0_col4\" class=\"data row0 col4\" >0.6160</td>\n",
       "      <td id=\"T_6b9a4_row0_col5\" class=\"data row0 col5\" >0.6984</td>\n",
       "      <td id=\"T_6b9a4_row0_col6\" class=\"data row0 col6\" >0.2056</td>\n",
       "      <td id=\"T_6b9a4_row0_col7\" class=\"data row0 col7\" >0.2197</td>\n",
       "    </tr>\n",
       "  </tbody>\n",
       "</table>\n"
      ],
      "text/plain": [
       "<pandas.io.formats.style.Styler at 0x7f8e8c216350>"
      ]
     },
     "metadata": {},
     "output_type": "display_data"
    },
    {
     "data": {
      "text/html": [
       "<style type=\"text/css\">\n",
       "</style>\n",
       "<table id=\"T_832c6\">\n",
       "  <thead>\n",
       "    <tr>\n",
       "      <th class=\"blank level0\" >&nbsp;</th>\n",
       "      <th id=\"T_832c6_level0_col0\" class=\"col_heading level0 col0\" >Model</th>\n",
       "      <th id=\"T_832c6_level0_col1\" class=\"col_heading level0 col1\" >Accuracy</th>\n",
       "      <th id=\"T_832c6_level0_col2\" class=\"col_heading level0 col2\" >AUC</th>\n",
       "      <th id=\"T_832c6_level0_col3\" class=\"col_heading level0 col3\" >Recall</th>\n",
       "      <th id=\"T_832c6_level0_col4\" class=\"col_heading level0 col4\" >Prec.</th>\n",
       "      <th id=\"T_832c6_level0_col5\" class=\"col_heading level0 col5\" >F1</th>\n",
       "      <th id=\"T_832c6_level0_col6\" class=\"col_heading level0 col6\" >Kappa</th>\n",
       "      <th id=\"T_832c6_level0_col7\" class=\"col_heading level0 col7\" >MCC</th>\n",
       "    </tr>\n",
       "  </thead>\n",
       "  <tbody>\n",
       "    <tr>\n",
       "      <th id=\"T_832c6_level0_row0\" class=\"row_heading level0 row0\" >0</th>\n",
       "      <td id=\"T_832c6_row0_col0\" class=\"data row0 col0\" >Random Forest Classifier</td>\n",
       "      <td id=\"T_832c6_row0_col1\" class=\"data row0 col1\" >0.8749</td>\n",
       "      <td id=\"T_832c6_row0_col2\" class=\"data row0 col2\" >0.9547</td>\n",
       "      <td id=\"T_832c6_row0_col3\" class=\"data row0 col3\" >0.9112</td>\n",
       "      <td id=\"T_832c6_row0_col4\" class=\"data row0 col4\" >0.8669</td>\n",
       "      <td id=\"T_832c6_row0_col5\" class=\"data row0 col5\" >0.8885</td>\n",
       "      <td id=\"T_832c6_row0_col6\" class=\"data row0 col6\" >0.7462</td>\n",
       "      <td id=\"T_832c6_row0_col7\" class=\"data row0 col7\" >0.7474</td>\n",
       "    </tr>\n",
       "  </tbody>\n",
       "</table>\n"
      ],
      "text/plain": [
       "<pandas.io.formats.style.Styler at 0x7f8e8c216cb0>"
      ]
     },
     "metadata": {},
     "output_type": "display_data"
    }
   ],
   "source": [
    "train_prediction_ada, train_prediction_gbc, train_prediction_lightgbm, train_prediction_rf = model.common.batch_predict_and_odds(train_data, [regression_model_ada, regression_model_gbc, regression_model_lightgbm, regression_model_rf])"
   ]
  },
  {
   "cell_type": "code",
   "execution_count": 9,
   "metadata": {
    "execution": {
     "iopub.execute_input": "2023-08-14T22:57:18.202832Z",
     "iopub.status.busy": "2023-08-14T22:57:18.202629Z",
     "iopub.status.idle": "2023-08-14T22:57:18.354067Z",
     "shell.execute_reply": "2023-08-14T22:57:18.353648Z",
     "shell.execute_reply.started": "2023-08-14T22:57:18.202815Z"
    }
   },
   "outputs": [
    {
     "data": {
      "text/html": [
       "<table>\n",
       "<tbody>\n",
       "<tr><td>model   </td><td>0.6        </td><td>0.7        </td><td>0.75       </td><td>0.8       </td></tr>\n",
       "<tr><td>ada     </td><td>(0, nan)   </td><td>(0, nan)   </td><td>(0, nan)   </td><td>(0, nan)  </td></tr>\n",
       "<tr><td>gbc     </td><td>(417, 0.63)</td><td>(68, 0.81) </td><td>(15, 0.93) </td><td>(3, 1.0)  </td></tr>\n",
       "<tr><td>lightgbm</td><td>(414, 0.67)</td><td>(77, 0.87) </td><td>(16, 1.0)  </td><td>(5, 1.0)  </td></tr>\n",
       "<tr><td>rf      </td><td>(658, 0.93)</td><td>(555, 0.97)</td><td>(504, 0.99)</td><td>(405, 1.0)</td></tr>\n",
       "</tbody>\n",
       "</table>"
      ],
      "text/plain": [
       "'<table>\\n<tbody>\\n<tr><td>model   </td><td>0.6        </td><td>0.7        </td><td>0.75       </td><td>0.8       </td></tr>\\n<tr><td>ada     </td><td>(0, nan)   </td><td>(0, nan)   </td><td>(0, nan)   </td><td>(0, nan)  </td></tr>\\n<tr><td>gbc     </td><td>(417, 0.63)</td><td>(68, 0.81) </td><td>(15, 0.93) </td><td>(3, 1.0)  </td></tr>\\n<tr><td>lightgbm</td><td>(414, 0.67)</td><td>(77, 0.87) </td><td>(16, 1.0)  </td><td>(5, 1.0)  </td></tr>\\n<tr><td>rf      </td><td>(658, 0.93)</td><td>(555, 0.97)</td><td>(504, 0.99)</td><td>(405, 1.0)</td></tr>\\n</tbody>\\n</table>'"
      ]
     },
     "execution_count": 9,
     "metadata": {},
     "output_type": "execute_result"
    }
   ],
   "source": [
    "model.common.evaluate_predictions([(train_prediction_ada, \"ada\"), (train_prediction_gbc, \"gbc\"), (train_prediction_lightgbm, \"lightgbm\"), (train_prediction_rf, \"rf\")], [0.6, 0.7, 0.75, 0.8], target_column)"
   ]
  },
  {
   "cell_type": "markdown",
   "metadata": {
    "execution": {
     "iopub.execute_input": "2023-06-07T00:40:23.948013Z",
     "iopub.status.busy": "2023-06-07T00:40:23.947407Z",
     "iopub.status.idle": "2023-06-07T00:40:23.953130Z",
     "shell.execute_reply": "2023-06-07T00:40:23.952520Z",
     "shell.execute_reply.started": "2023-06-07T00:40:23.947955Z"
    }
   },
   "source": [
    "**test prediction**"
   ]
  },
  {
   "cell_type": "code",
   "execution_count": 10,
   "metadata": {
    "execution": {
     "iopub.execute_input": "2023-08-14T22:57:18.355041Z",
     "iopub.status.busy": "2023-08-14T22:57:18.354913Z",
     "iopub.status.idle": "2023-08-14T22:57:19.254902Z",
     "shell.execute_reply": "2023-08-14T22:57:19.254317Z",
     "shell.execute_reply.started": "2023-08-14T22:57:18.355029Z"
    }
   },
   "outputs": [
    {
     "data": {
      "text/html": [
       "<style type=\"text/css\">\n",
       "</style>\n",
       "<table id=\"T_f81c3\">\n",
       "  <thead>\n",
       "    <tr>\n",
       "      <th class=\"blank level0\" >&nbsp;</th>\n",
       "      <th id=\"T_f81c3_level0_col0\" class=\"col_heading level0 col0\" >Model</th>\n",
       "      <th id=\"T_f81c3_level0_col1\" class=\"col_heading level0 col1\" >Accuracy</th>\n",
       "      <th id=\"T_f81c3_level0_col2\" class=\"col_heading level0 col2\" >AUC</th>\n",
       "      <th id=\"T_f81c3_level0_col3\" class=\"col_heading level0 col3\" >Recall</th>\n",
       "      <th id=\"T_f81c3_level0_col4\" class=\"col_heading level0 col4\" >Prec.</th>\n",
       "      <th id=\"T_f81c3_level0_col5\" class=\"col_heading level0 col5\" >F1</th>\n",
       "      <th id=\"T_f81c3_level0_col6\" class=\"col_heading level0 col6\" >Kappa</th>\n",
       "      <th id=\"T_f81c3_level0_col7\" class=\"col_heading level0 col7\" >MCC</th>\n",
       "    </tr>\n",
       "  </thead>\n",
       "  <tbody>\n",
       "    <tr>\n",
       "      <th id=\"T_f81c3_level0_row0\" class=\"row_heading level0 row0\" >0</th>\n",
       "      <td id=\"T_f81c3_row0_col0\" class=\"data row0 col0\" >Ada Boost Classifier</td>\n",
       "      <td id=\"T_f81c3_row0_col1\" class=\"data row0 col1\" >0.5976</td>\n",
       "      <td id=\"T_f81c3_row0_col2\" class=\"data row0 col2\" >0.5960</td>\n",
       "      <td id=\"T_f81c3_row0_col3\" class=\"data row0 col3\" >0.8908</td>\n",
       "      <td id=\"T_f81c3_row0_col4\" class=\"data row0 col4\" >0.6035</td>\n",
       "      <td id=\"T_f81c3_row0_col5\" class=\"data row0 col5\" >0.7195</td>\n",
       "      <td id=\"T_f81c3_row0_col6\" class=\"data row0 col6\" >0.0927</td>\n",
       "      <td id=\"T_f81c3_row0_col7\" class=\"data row0 col7\" >0.1184</td>\n",
       "    </tr>\n",
       "  </tbody>\n",
       "</table>\n"
      ],
      "text/plain": [
       "<pandas.io.formats.style.Styler at 0x7f8e8c55e5f0>"
      ]
     },
     "metadata": {},
     "output_type": "display_data"
    },
    {
     "data": {
      "text/html": [
       "<style type=\"text/css\">\n",
       "</style>\n",
       "<table id=\"T_690a6\">\n",
       "  <thead>\n",
       "    <tr>\n",
       "      <th class=\"blank level0\" >&nbsp;</th>\n",
       "      <th id=\"T_690a6_level0_col0\" class=\"col_heading level0 col0\" >Model</th>\n",
       "      <th id=\"T_690a6_level0_col1\" class=\"col_heading level0 col1\" >Accuracy</th>\n",
       "      <th id=\"T_690a6_level0_col2\" class=\"col_heading level0 col2\" >AUC</th>\n",
       "      <th id=\"T_690a6_level0_col3\" class=\"col_heading level0 col3\" >Recall</th>\n",
       "      <th id=\"T_690a6_level0_col4\" class=\"col_heading level0 col4\" >Prec.</th>\n",
       "      <th id=\"T_690a6_level0_col5\" class=\"col_heading level0 col5\" >F1</th>\n",
       "      <th id=\"T_690a6_level0_col6\" class=\"col_heading level0 col6\" >Kappa</th>\n",
       "      <th id=\"T_690a6_level0_col7\" class=\"col_heading level0 col7\" >MCC</th>\n",
       "    </tr>\n",
       "  </thead>\n",
       "  <tbody>\n",
       "    <tr>\n",
       "      <th id=\"T_690a6_level0_row0\" class=\"row_heading level0 row0\" >0</th>\n",
       "      <td id=\"T_690a6_row0_col0\" class=\"data row0 col0\" >Gradient Boosting Classifier</td>\n",
       "      <td id=\"T_690a6_row0_col1\" class=\"data row0 col1\" >0.5991</td>\n",
       "      <td id=\"T_690a6_row0_col2\" class=\"data row0 col2\" >0.6018</td>\n",
       "      <td id=\"T_690a6_row0_col3\" class=\"data row0 col3\" >0.8979</td>\n",
       "      <td id=\"T_690a6_row0_col4\" class=\"data row0 col4\" >0.6035</td>\n",
       "      <td id=\"T_690a6_row0_col5\" class=\"data row0 col5\" >0.7219</td>\n",
       "      <td id=\"T_690a6_row0_col6\" class=\"data row0 col6\" >0.0939</td>\n",
       "      <td id=\"T_690a6_row0_col7\" class=\"data row0 col7\" >0.1220</td>\n",
       "    </tr>\n",
       "  </tbody>\n",
       "</table>\n"
      ],
      "text/plain": [
       "<pandas.io.formats.style.Styler at 0x7f8e8c75fd00>"
      ]
     },
     "metadata": {},
     "output_type": "display_data"
    },
    {
     "data": {
      "text/html": [
       "<style type=\"text/css\">\n",
       "</style>\n",
       "<table id=\"T_e0f8c\">\n",
       "  <thead>\n",
       "    <tr>\n",
       "      <th class=\"blank level0\" >&nbsp;</th>\n",
       "      <th id=\"T_e0f8c_level0_col0\" class=\"col_heading level0 col0\" >Model</th>\n",
       "      <th id=\"T_e0f8c_level0_col1\" class=\"col_heading level0 col1\" >Accuracy</th>\n",
       "      <th id=\"T_e0f8c_level0_col2\" class=\"col_heading level0 col2\" >AUC</th>\n",
       "      <th id=\"T_e0f8c_level0_col3\" class=\"col_heading level0 col3\" >Recall</th>\n",
       "      <th id=\"T_e0f8c_level0_col4\" class=\"col_heading level0 col4\" >Prec.</th>\n",
       "      <th id=\"T_e0f8c_level0_col5\" class=\"col_heading level0 col5\" >F1</th>\n",
       "      <th id=\"T_e0f8c_level0_col6\" class=\"col_heading level0 col6\" >Kappa</th>\n",
       "      <th id=\"T_e0f8c_level0_col7\" class=\"col_heading level0 col7\" >MCC</th>\n",
       "    </tr>\n",
       "  </thead>\n",
       "  <tbody>\n",
       "    <tr>\n",
       "      <th id=\"T_e0f8c_level0_row0\" class=\"row_heading level0 row0\" >0</th>\n",
       "      <td id=\"T_e0f8c_row0_col0\" class=\"data row0 col0\" >Light Gradient Boosting Machine</td>\n",
       "      <td id=\"T_e0f8c_row0_col1\" class=\"data row0 col1\" >0.5956</td>\n",
       "      <td id=\"T_e0f8c_row0_col2\" class=\"data row0 col2\" >0.5993</td>\n",
       "      <td id=\"T_e0f8c_row0_col3\" class=\"data row0 col3\" >0.8903</td>\n",
       "      <td id=\"T_e0f8c_row0_col4\" class=\"data row0 col4\" >0.6021</td>\n",
       "      <td id=\"T_e0f8c_row0_col5\" class=\"data row0 col5\" >0.7184</td>\n",
       "      <td id=\"T_e0f8c_row0_col6\" class=\"data row0 col6\" >0.0877</td>\n",
       "      <td id=\"T_e0f8c_row0_col7\" class=\"data row0 col7\" >0.1124</td>\n",
       "    </tr>\n",
       "  </tbody>\n",
       "</table>\n"
      ],
      "text/plain": [
       "<pandas.io.formats.style.Styler at 0x7f8e8c55e710>"
      ]
     },
     "metadata": {},
     "output_type": "display_data"
    },
    {
     "data": {
      "text/html": [
       "<style type=\"text/css\">\n",
       "</style>\n",
       "<table id=\"T_8e585\">\n",
       "  <thead>\n",
       "    <tr>\n",
       "      <th class=\"blank level0\" >&nbsp;</th>\n",
       "      <th id=\"T_8e585_level0_col0\" class=\"col_heading level0 col0\" >Model</th>\n",
       "      <th id=\"T_8e585_level0_col1\" class=\"col_heading level0 col1\" >Accuracy</th>\n",
       "      <th id=\"T_8e585_level0_col2\" class=\"col_heading level0 col2\" >AUC</th>\n",
       "      <th id=\"T_8e585_level0_col3\" class=\"col_heading level0 col3\" >Recall</th>\n",
       "      <th id=\"T_8e585_level0_col4\" class=\"col_heading level0 col4\" >Prec.</th>\n",
       "      <th id=\"T_8e585_level0_col5\" class=\"col_heading level0 col5\" >F1</th>\n",
       "      <th id=\"T_8e585_level0_col6\" class=\"col_heading level0 col6\" >Kappa</th>\n",
       "      <th id=\"T_8e585_level0_col7\" class=\"col_heading level0 col7\" >MCC</th>\n",
       "    </tr>\n",
       "  </thead>\n",
       "  <tbody>\n",
       "    <tr>\n",
       "      <th id=\"T_8e585_level0_row0\" class=\"row_heading level0 row0\" >0</th>\n",
       "      <td id=\"T_8e585_row0_col0\" class=\"data row0 col0\" >Random Forest Classifier</td>\n",
       "      <td id=\"T_8e585_row0_col1\" class=\"data row0 col1\" >0.5889</td>\n",
       "      <td id=\"T_8e585_row0_col2\" class=\"data row0 col2\" >0.5818</td>\n",
       "      <td id=\"T_8e585_row0_col3\" class=\"data row0 col3\" >0.8490</td>\n",
       "      <td id=\"T_8e585_row0_col4\" class=\"data row0 col4\" >0.6032</td>\n",
       "      <td id=\"T_8e585_row0_col5\" class=\"data row0 col5\" >0.7053</td>\n",
       "      <td id=\"T_8e585_row0_col6\" class=\"data row0 col6\" >0.0863</td>\n",
       "      <td id=\"T_8e585_row0_col7\" class=\"data row0 col7\" >0.1014</td>\n",
       "    </tr>\n",
       "  </tbody>\n",
       "</table>\n"
      ],
      "text/plain": [
       "<pandas.io.formats.style.Styler at 0x7f8e8c75f850>"
      ]
     },
     "metadata": {},
     "output_type": "display_data"
    }
   ],
   "source": [
    "test_prediction_ada, test_prediction_gbc, test_prediction_lightgbm, test_prediction_rf = model.common.batch_predict_and_odds(test_data, [regression_model_ada, regression_model_gbc, regression_model_lightgbm, regression_model_rf])"
   ]
  },
  {
   "cell_type": "code",
   "execution_count": 11,
   "metadata": {
    "execution": {
     "iopub.execute_input": "2023-08-14T22:57:19.255665Z",
     "iopub.status.busy": "2023-08-14T22:57:19.255513Z",
     "iopub.status.idle": "2023-08-14T22:57:19.289449Z",
     "shell.execute_reply": "2023-08-14T22:57:19.289032Z",
     "shell.execute_reply.started": "2023-08-14T22:57:19.255650Z"
    }
   },
   "outputs": [
    {
     "data": {
      "text/html": [
       "<table>\n",
       "<tbody>\n",
       "<tr><td>model   </td><td>0.6        </td><td>0.7       </td><td>0.75      </td><td>0.8      </td><td>0.85    </td></tr>\n",
       "<tr><td>ada     </td><td>(0, nan)   </td><td>(0, nan)  </td><td>(0, nan)  </td><td>(0, nan) </td><td>(0, nan)</td></tr>\n",
       "<tr><td>gbc     </td><td>(227, 0.66)</td><td>(45, 0.69)</td><td>(7, 0.71) </td><td>(0, nan) </td><td>(0, nan)</td></tr>\n",
       "<tr><td>lightgbm</td><td>(228, 0.66)</td><td>(54, 0.65)</td><td>(13, 0.62)</td><td>(0, nan) </td><td>(0, nan)</td></tr>\n",
       "<tr><td>rf      </td><td>(224, 0.62)</td><td>(59, 0.69)</td><td>(21, 0.81)</td><td>(3, 0.67)</td><td>(0, nan)</td></tr>\n",
       "</tbody>\n",
       "</table>"
      ],
      "text/plain": [
       "'<table>\\n<tbody>\\n<tr><td>model   </td><td>0.6        </td><td>0.7       </td><td>0.75      </td><td>0.8      </td><td>0.85    </td></tr>\\n<tr><td>ada     </td><td>(0, nan)   </td><td>(0, nan)  </td><td>(0, nan)  </td><td>(0, nan) </td><td>(0, nan)</td></tr>\\n<tr><td>gbc     </td><td>(227, 0.66)</td><td>(45, 0.69)</td><td>(7, 0.71) </td><td>(0, nan) </td><td>(0, nan)</td></tr>\\n<tr><td>lightgbm</td><td>(228, 0.66)</td><td>(54, 0.65)</td><td>(13, 0.62)</td><td>(0, nan) </td><td>(0, nan)</td></tr>\\n<tr><td>rf      </td><td>(224, 0.62)</td><td>(59, 0.69)</td><td>(21, 0.81)</td><td>(3, 0.67)</td><td>(0, nan)</td></tr>\\n</tbody>\\n</table>'"
      ]
     },
     "execution_count": 11,
     "metadata": {},
     "output_type": "execute_result"
    }
   ],
   "source": [
    "model.common.evaluate_predictions([(test_prediction_ada, \"ada\"), (test_prediction_gbc, \"gbc\"), (test_prediction_lightgbm, \"lightgbm\"), (test_prediction_rf, \"rf\")], [0.6, 0.7, 0.75, 0.8, 0.85], target_column)"
   ]
  },
  {
   "cell_type": "markdown",
   "metadata": {
    "id": "sOfz0zBX994h"
   },
   "source": [
    "**Finalize Model**"
   ]
  },
  {
   "cell_type": "code",
   "execution_count": 12,
   "metadata": {
    "colab": {
     "base_uri": "https://localhost:8080/",
     "height": 34
    },
    "execution": {
     "iopub.execute_input": "2023-08-14T22:57:19.290191Z",
     "iopub.status.busy": "2023-08-14T22:57:19.290013Z",
     "iopub.status.idle": "2023-08-14T22:58:22.986716Z",
     "shell.execute_reply": "2023-08-14T22:58:22.986329Z",
     "shell.execute_reply.started": "2023-08-14T22:57:19.290179Z"
    },
    "id": "gutfxdh8-DKy",
    "outputId": "2e862724-33f5-45f0-ed52-aade46f98c7d"
   },
   "outputs": [],
   "source": [
    "# train over the whole dataset without validation split\n",
    "regression_model_finalized_ada = pycaret.classification.finalize_model(regression_model_ada)\n",
    "regression_model_finalized_gbc = pycaret.classification.finalize_model(regression_model_gbc)\n",
    "regression_model_finalized_lightgbm = pycaret.classification.finalize_model(regression_model_lightgbm)\n",
    "regression_model_finalized_rf = pycaret.classification.finalize_model(regression_model_rf)"
   ]
  },
  {
   "cell_type": "code",
   "execution_count": 13,
   "metadata": {
    "execution": {
     "iopub.execute_input": "2023-08-14T22:58:22.987322Z",
     "iopub.status.busy": "2023-08-14T22:58:22.987201Z",
     "iopub.status.idle": "2023-08-14T22:58:23.903772Z",
     "shell.execute_reply": "2023-08-14T22:58:23.903083Z",
     "shell.execute_reply.started": "2023-08-14T22:58:22.987311Z"
    }
   },
   "outputs": [
    {
     "data": {
      "text/html": [
       "<style type=\"text/css\">\n",
       "</style>\n",
       "<table id=\"T_964b4\">\n",
       "  <thead>\n",
       "    <tr>\n",
       "      <th class=\"blank level0\" >&nbsp;</th>\n",
       "      <th id=\"T_964b4_level0_col0\" class=\"col_heading level0 col0\" >Model</th>\n",
       "      <th id=\"T_964b4_level0_col1\" class=\"col_heading level0 col1\" >Accuracy</th>\n",
       "      <th id=\"T_964b4_level0_col2\" class=\"col_heading level0 col2\" >AUC</th>\n",
       "      <th id=\"T_964b4_level0_col3\" class=\"col_heading level0 col3\" >Recall</th>\n",
       "      <th id=\"T_964b4_level0_col4\" class=\"col_heading level0 col4\" >Prec.</th>\n",
       "      <th id=\"T_964b4_level0_col5\" class=\"col_heading level0 col5\" >F1</th>\n",
       "      <th id=\"T_964b4_level0_col6\" class=\"col_heading level0 col6\" >Kappa</th>\n",
       "      <th id=\"T_964b4_level0_col7\" class=\"col_heading level0 col7\" >MCC</th>\n",
       "    </tr>\n",
       "  </thead>\n",
       "  <tbody>\n",
       "    <tr>\n",
       "      <th id=\"T_964b4_level0_row0\" class=\"row_heading level0 row0\" >0</th>\n",
       "      <td id=\"T_964b4_row0_col0\" class=\"data row0 col0\" >Ada Boost Classifier</td>\n",
       "      <td id=\"T_964b4_row0_col1\" class=\"data row0 col1\" >0.5963</td>\n",
       "      <td id=\"T_964b4_row0_col2\" class=\"data row0 col2\" >0.5995</td>\n",
       "      <td id=\"T_964b4_row0_col3\" class=\"data row0 col3\" >0.8909</td>\n",
       "      <td id=\"T_964b4_row0_col4\" class=\"data row0 col4\" >0.6026</td>\n",
       "      <td id=\"T_964b4_row0_col5\" class=\"data row0 col5\" >0.7189</td>\n",
       "      <td id=\"T_964b4_row0_col6\" class=\"data row0 col6\" >0.0894</td>\n",
       "      <td id=\"T_964b4_row0_col7\" class=\"data row0 col7\" >0.1145</td>\n",
       "    </tr>\n",
       "  </tbody>\n",
       "</table>\n"
      ],
      "text/plain": [
       "<pandas.io.formats.style.Styler at 0x7f8e8c5f0640>"
      ]
     },
     "metadata": {},
     "output_type": "display_data"
    },
    {
     "data": {
      "text/html": [
       "<style type=\"text/css\">\n",
       "</style>\n",
       "<table id=\"T_2e815\">\n",
       "  <thead>\n",
       "    <tr>\n",
       "      <th class=\"blank level0\" >&nbsp;</th>\n",
       "      <th id=\"T_2e815_level0_col0\" class=\"col_heading level0 col0\" >Model</th>\n",
       "      <th id=\"T_2e815_level0_col1\" class=\"col_heading level0 col1\" >Accuracy</th>\n",
       "      <th id=\"T_2e815_level0_col2\" class=\"col_heading level0 col2\" >AUC</th>\n",
       "      <th id=\"T_2e815_level0_col3\" class=\"col_heading level0 col3\" >Recall</th>\n",
       "      <th id=\"T_2e815_level0_col4\" class=\"col_heading level0 col4\" >Prec.</th>\n",
       "      <th id=\"T_2e815_level0_col5\" class=\"col_heading level0 col5\" >F1</th>\n",
       "      <th id=\"T_2e815_level0_col6\" class=\"col_heading level0 col6\" >Kappa</th>\n",
       "      <th id=\"T_2e815_level0_col7\" class=\"col_heading level0 col7\" >MCC</th>\n",
       "    </tr>\n",
       "  </thead>\n",
       "  <tbody>\n",
       "    <tr>\n",
       "      <th id=\"T_2e815_level0_row0\" class=\"row_heading level0 row0\" >0</th>\n",
       "      <td id=\"T_2e815_row0_col0\" class=\"data row0 col0\" >Gradient Boosting Classifier</td>\n",
       "      <td id=\"T_2e815_row0_col1\" class=\"data row0 col1\" >0.5980</td>\n",
       "      <td id=\"T_2e815_row0_col2\" class=\"data row0 col2\" >0.6013</td>\n",
       "      <td id=\"T_2e815_row0_col3\" class=\"data row0 col3\" >0.8919</td>\n",
       "      <td id=\"T_2e815_row0_col4\" class=\"data row0 col4\" >0.6036</td>\n",
       "      <td id=\"T_2e815_row0_col5\" class=\"data row0 col5\" >0.7200</td>\n",
       "      <td id=\"T_2e815_row0_col6\" class=\"data row0 col6\" >0.0935</td>\n",
       "      <td id=\"T_2e815_row0_col7\" class=\"data row0 col7\" >0.1196</td>\n",
       "    </tr>\n",
       "  </tbody>\n",
       "</table>\n"
      ],
      "text/plain": [
       "<pandas.io.formats.style.Styler at 0x7f8e8c5f2890>"
      ]
     },
     "metadata": {},
     "output_type": "display_data"
    },
    {
     "data": {
      "text/html": [
       "<style type=\"text/css\">\n",
       "</style>\n",
       "<table id=\"T_2326d\">\n",
       "  <thead>\n",
       "    <tr>\n",
       "      <th class=\"blank level0\" >&nbsp;</th>\n",
       "      <th id=\"T_2326d_level0_col0\" class=\"col_heading level0 col0\" >Model</th>\n",
       "      <th id=\"T_2326d_level0_col1\" class=\"col_heading level0 col1\" >Accuracy</th>\n",
       "      <th id=\"T_2326d_level0_col2\" class=\"col_heading level0 col2\" >AUC</th>\n",
       "      <th id=\"T_2326d_level0_col3\" class=\"col_heading level0 col3\" >Recall</th>\n",
       "      <th id=\"T_2326d_level0_col4\" class=\"col_heading level0 col4\" >Prec.</th>\n",
       "      <th id=\"T_2326d_level0_col5\" class=\"col_heading level0 col5\" >F1</th>\n",
       "      <th id=\"T_2326d_level0_col6\" class=\"col_heading level0 col6\" >Kappa</th>\n",
       "      <th id=\"T_2326d_level0_col7\" class=\"col_heading level0 col7\" >MCC</th>\n",
       "    </tr>\n",
       "  </thead>\n",
       "  <tbody>\n",
       "    <tr>\n",
       "      <th id=\"T_2326d_level0_row0\" class=\"row_heading level0 row0\" >0</th>\n",
       "      <td id=\"T_2326d_row0_col0\" class=\"data row0 col0\" >Light Gradient Boosting Machine</td>\n",
       "      <td id=\"T_2326d_row0_col1\" class=\"data row0 col1\" >0.5982</td>\n",
       "      <td id=\"T_2326d_row0_col2\" class=\"data row0 col2\" >0.6001</td>\n",
       "      <td id=\"T_2326d_row0_col3\" class=\"data row0 col3\" >0.8933</td>\n",
       "      <td id=\"T_2326d_row0_col4\" class=\"data row0 col4\" >0.6035</td>\n",
       "      <td id=\"T_2326d_row0_col5\" class=\"data row0 col5\" >0.7204</td>\n",
       "      <td id=\"T_2326d_row0_col6\" class=\"data row0 col6\" >0.0933</td>\n",
       "      <td id=\"T_2326d_row0_col7\" class=\"data row0 col7\" >0.1198</td>\n",
       "    </tr>\n",
       "  </tbody>\n",
       "</table>\n"
      ],
      "text/plain": [
       "<pandas.io.formats.style.Styler at 0x7f8e8c5f0550>"
      ]
     },
     "metadata": {},
     "output_type": "display_data"
    },
    {
     "data": {
      "text/html": [
       "<style type=\"text/css\">\n",
       "</style>\n",
       "<table id=\"T_a2ed6\">\n",
       "  <thead>\n",
       "    <tr>\n",
       "      <th class=\"blank level0\" >&nbsp;</th>\n",
       "      <th id=\"T_a2ed6_level0_col0\" class=\"col_heading level0 col0\" >Model</th>\n",
       "      <th id=\"T_a2ed6_level0_col1\" class=\"col_heading level0 col1\" >Accuracy</th>\n",
       "      <th id=\"T_a2ed6_level0_col2\" class=\"col_heading level0 col2\" >AUC</th>\n",
       "      <th id=\"T_a2ed6_level0_col3\" class=\"col_heading level0 col3\" >Recall</th>\n",
       "      <th id=\"T_a2ed6_level0_col4\" class=\"col_heading level0 col4\" >Prec.</th>\n",
       "      <th id=\"T_a2ed6_level0_col5\" class=\"col_heading level0 col5\" >F1</th>\n",
       "      <th id=\"T_a2ed6_level0_col6\" class=\"col_heading level0 col6\" >Kappa</th>\n",
       "      <th id=\"T_a2ed6_level0_col7\" class=\"col_heading level0 col7\" >MCC</th>\n",
       "    </tr>\n",
       "  </thead>\n",
       "  <tbody>\n",
       "    <tr>\n",
       "      <th id=\"T_a2ed6_level0_row0\" class=\"row_heading level0 row0\" >0</th>\n",
       "      <td id=\"T_a2ed6_row0_col0\" class=\"data row0 col0\" >Random Forest Classifier</td>\n",
       "      <td id=\"T_a2ed6_row0_col1\" class=\"data row0 col1\" >0.5930</td>\n",
       "      <td id=\"T_a2ed6_row0_col2\" class=\"data row0 col2\" >0.5871</td>\n",
       "      <td id=\"T_a2ed6_row0_col3\" class=\"data row0 col3\" >0.8481</td>\n",
       "      <td id=\"T_a2ed6_row0_col4\" class=\"data row0 col4\" >0.6064</td>\n",
       "      <td id=\"T_a2ed6_row0_col5\" class=\"data row0 col5\" >0.7072</td>\n",
       "      <td id=\"T_a2ed6_row0_col6\" class=\"data row0 col6\" >0.0969</td>\n",
       "      <td id=\"T_a2ed6_row0_col7\" class=\"data row0 col7\" >0.1128</td>\n",
       "    </tr>\n",
       "  </tbody>\n",
       "</table>\n"
      ],
      "text/plain": [
       "<pandas.io.formats.style.Styler at 0x7f8e8c6e67a0>"
      ]
     },
     "metadata": {},
     "output_type": "display_data"
    }
   ],
   "source": [
    "test_finalized_prediction_ada, test_finalized_prediction_gbc, test_finalized_prediction_lightgbm, test_finalized_prediction_rf = model.common.batch_predict_and_odds(\n",
    "    test_data, \n",
    "    [regression_model_finalized_ada, regression_model_finalized_gbc, regression_model_finalized_lightgbm, regression_model_finalized_rf])"
   ]
  },
  {
   "cell_type": "code",
   "execution_count": 14,
   "metadata": {
    "execution": {
     "iopub.execute_input": "2023-08-14T22:58:23.904454Z",
     "iopub.status.busy": "2023-08-14T22:58:23.904320Z",
     "iopub.status.idle": "2023-08-14T22:58:23.939551Z",
     "shell.execute_reply": "2023-08-14T22:58:23.939035Z",
     "shell.execute_reply.started": "2023-08-14T22:58:23.904442Z"
    }
   },
   "outputs": [
    {
     "data": {
      "text/html": [
       "<table>\n",
       "<tbody>\n",
       "<tr><td>model   </td><td>0.6        </td><td>0.7       </td><td>0.75      </td><td>0.8     </td><td>0.85    </td></tr>\n",
       "<tr><td>ada     </td><td>(0, nan)   </td><td>(0, nan)  </td><td>(0, nan)  </td><td>(0, nan)</td><td>(0, nan)</td></tr>\n",
       "<tr><td>gbc     </td><td>(227, 0.64)</td><td>(41, 0.63)</td><td>(9, 0.78) </td><td>(0, nan)</td><td>(0, nan)</td></tr>\n",
       "<tr><td>lightgbm</td><td>(233, 0.65)</td><td>(50, 0.68)</td><td>(13, 0.77)</td><td>(2, 1.0)</td><td>(0, nan)</td></tr>\n",
       "<tr><td>rf      </td><td>(217, 0.65)</td><td>(62, 0.71)</td><td>(15, 0.67)</td><td>(2, 1.0)</td><td>(0, nan)</td></tr>\n",
       "</tbody>\n",
       "</table>"
      ],
      "text/plain": [
       "'<table>\\n<tbody>\\n<tr><td>model   </td><td>0.6        </td><td>0.7       </td><td>0.75      </td><td>0.8     </td><td>0.85    </td></tr>\\n<tr><td>ada     </td><td>(0, nan)   </td><td>(0, nan)  </td><td>(0, nan)  </td><td>(0, nan)</td><td>(0, nan)</td></tr>\\n<tr><td>gbc     </td><td>(227, 0.64)</td><td>(41, 0.63)</td><td>(9, 0.78) </td><td>(0, nan)</td><td>(0, nan)</td></tr>\\n<tr><td>lightgbm</td><td>(233, 0.65)</td><td>(50, 0.68)</td><td>(13, 0.77)</td><td>(2, 1.0)</td><td>(0, nan)</td></tr>\\n<tr><td>rf      </td><td>(217, 0.65)</td><td>(62, 0.71)</td><td>(15, 0.67)</td><td>(2, 1.0)</td><td>(0, nan)</td></tr>\\n</tbody>\\n</table>'"
      ]
     },
     "execution_count": 14,
     "metadata": {},
     "output_type": "execute_result"
    }
   ],
   "source": [
    "model.common.evaluate_predictions([(test_finalized_prediction_ada, \"ada\"), (test_finalized_prediction_gbc, \"gbc\"), (test_finalized_prediction_lightgbm, \"lightgbm\"), (test_finalized_prediction_rf, \"rf\")], [0.6, 0.7, 0.75, 0.8, 0.85], target_column)"
   ]
  },
  {
   "cell_type": "markdown",
   "metadata": {},
   "source": [
    "**Save Model**"
   ]
  },
  {
   "cell_type": "code",
   "execution_count": 15,
   "metadata": {
    "execution": {
     "iopub.execute_input": "2023-08-14T22:58:23.940413Z",
     "iopub.status.busy": "2023-08-14T22:58:23.940210Z",
     "iopub.status.idle": "2023-08-14T22:58:24.880900Z",
     "shell.execute_reply": "2023-08-14T22:58:24.880435Z",
     "shell.execute_reply.started": "2023-08-14T22:58:23.940395Z"
    }
   },
   "outputs": [
    {
     "name": "stdout",
     "output_type": "stream",
     "text": [
      "Transformation Pipeline and Model Successfully Saved\n"
     ]
    },
    {
     "data": {
      "text/plain": [
       "(Pipeline(memory=FastMemory(location=/tmp/joblib),\n",
       "          steps=[('numerical_imputer',\n",
       "                  TransformerWrapper(exclude=None,\n",
       "                                     include=['pitching_gamesPlayed',\n",
       "                                              'pitching_runs_per_game',\n",
       "                                              'pitching_strikeOuts_per_game',\n",
       "                                              'pitching_hits_per_game',\n",
       "                                              'batting_gamesPlayed',\n",
       "                                              'batting_runs_per_game',\n",
       "                                              'batting_strikeOuts_per_game',\n",
       "                                              'batting_hits_per_game',\n",
       "                                              'batting_rbi', 'temp'],\n",
       "                                     transf...\n",
       "                                                                                         random_state=6223,\n",
       "                                                                                         verbose=0,\n",
       "                                                                                         warm_start=False),\n",
       "                                                       criterion='gini',\n",
       "                                                       max_depth=None,\n",
       "                                                       max_features='sqrt',\n",
       "                                                       max_leaf_nodes=None,\n",
       "                                                       max_samples=None,\n",
       "                                                       min_impurity_decrease=0.0,\n",
       "                                                       min_samples_leaf=1,\n",
       "                                                       min_samples_split=2,\n",
       "                                                       min_weight_fraction_leaf=0.0,\n",
       "                                                       n_estimators=100,\n",
       "                                                       n_jobs=-1,\n",
       "                                                       oob_score=False,\n",
       "                                                       probability_threshold=0.5,\n",
       "                                                       random_state=6223,\n",
       "                                                       verbose=0,\n",
       "                                                       warm_start=False))],\n",
       "          verbose=False),\n",
       " 'model/batter_1hstrikeouts_regression_model.pkl')"
      ]
     },
     "execution_count": 15,
     "metadata": {},
     "output_type": "execute_result"
    }
   ],
   "source": [
    "pycaret.classification.save_model(regression_model_finalized_rf, model_file_name)"
   ]
  },
  {
   "cell_type": "code",
   "execution_count": null,
   "metadata": {},
   "outputs": [],
   "source": []
  }
 ],
 "metadata": {
  "colab": {
   "provenance": []
  },
  "kernelspec": {
   "display_name": "Python 3 (ipykernel)",
   "language": "python",
   "name": "python3"
  },
  "language_info": {
   "codemirror_mode": {
    "name": "ipython",
    "version": 3
   },
   "file_extension": ".py",
   "mimetype": "text/x-python",
   "name": "python",
   "nbconvert_exporter": "python",
   "pygments_lexer": "ipython3",
   "version": "3.10.6"
  },
  "widgets": {
   "application/vnd.jupyter.widget-state+json": {
    "1ac32fe9102d4f5a9d1511e64a1d5e5d": {
     "model_module": "@jupyter-widgets/base",
     "model_module_version": "1.2.0",
     "model_name": "LayoutModel",
     "state": {
      "_model_module": "@jupyter-widgets/base",
      "_model_module_version": "1.2.0",
      "_model_name": "LayoutModel",
      "_view_count": null,
      "_view_module": "@jupyter-widgets/base",
      "_view_module_version": "1.2.0",
      "_view_name": "LayoutView",
      "align_content": null,
      "align_items": null,
      "align_self": null,
      "border": null,
      "bottom": null,
      "display": null,
      "flex": null,
      "flex_flow": null,
      "grid_area": null,
      "grid_auto_columns": null,
      "grid_auto_flow": null,
      "grid_auto_rows": null,
      "grid_column": null,
      "grid_gap": null,
      "grid_row": null,
      "grid_template_areas": null,
      "grid_template_columns": null,
      "grid_template_rows": null,
      "height": null,
      "justify_content": null,
      "justify_items": null,
      "left": null,
      "margin": null,
      "max_height": null,
      "max_width": null,
      "min_height": null,
      "min_width": null,
      "object_fit": null,
      "object_position": null,
      "order": null,
      "overflow": null,
      "overflow_x": null,
      "overflow_y": null,
      "padding": null,
      "right": null,
      "top": null,
      "visibility": null,
      "width": null
     }
    },
    "40b50c57e470496cb6c94a0693636fd7": {
     "model_module": "@jupyter-widgets/base",
     "model_module_version": "1.2.0",
     "model_name": "LayoutModel",
     "state": {
      "_model_module": "@jupyter-widgets/base",
      "_model_module_version": "1.2.0",
      "_model_name": "LayoutModel",
      "_view_count": null,
      "_view_module": "@jupyter-widgets/base",
      "_view_module_version": "1.2.0",
      "_view_name": "LayoutView",
      "align_content": null,
      "align_items": null,
      "align_self": null,
      "border": null,
      "bottom": null,
      "display": null,
      "flex": null,
      "flex_flow": null,
      "grid_area": null,
      "grid_auto_columns": null,
      "grid_auto_flow": null,
      "grid_auto_rows": null,
      "grid_column": null,
      "grid_gap": null,
      "grid_row": null,
      "grid_template_areas": null,
      "grid_template_columns": null,
      "grid_template_rows": null,
      "height": null,
      "justify_content": null,
      "justify_items": null,
      "left": null,
      "margin": null,
      "max_height": null,
      "max_width": null,
      "min_height": null,
      "min_width": null,
      "object_fit": null,
      "object_position": null,
      "order": null,
      "overflow": null,
      "overflow_x": null,
      "overflow_y": null,
      "padding": null,
      "right": null,
      "top": null,
      "visibility": "hidden",
      "width": null
     }
    },
    "46b9d3b6cd6e4f76a42dd4f216dc1644": {
     "model_module": "@jupyter-widgets/controls",
     "model_module_version": "1.5.0",
     "model_name": "HBoxModel",
     "state": {
      "_dom_classes": [],
      "_model_module": "@jupyter-widgets/controls",
      "_model_module_version": "1.5.0",
      "_model_name": "HBoxModel",
      "_view_count": null,
      "_view_module": "@jupyter-widgets/controls",
      "_view_module_version": "1.5.0",
      "_view_name": "HBoxView",
      "box_style": "",
      "children": [
       "IPY_MODEL_cfce22755aa7471a87151793e633def1",
       "IPY_MODEL_94d7b3dc65544425b2463933c4108fa4",
       "IPY_MODEL_f92582f04a594f87a669f3c1c4d4eabc"
      ],
      "layout": "IPY_MODEL_40b50c57e470496cb6c94a0693636fd7"
     }
    },
    "4efa6d0ab419418ea9e4991c77b1ec42": {
     "model_module": "@jupyter-widgets/controls",
     "model_module_version": "1.5.0",
     "model_name": "ProgressStyleModel",
     "state": {
      "_model_module": "@jupyter-widgets/controls",
      "_model_module_version": "1.5.0",
      "_model_name": "ProgressStyleModel",
      "_view_count": null,
      "_view_module": "@jupyter-widgets/base",
      "_view_module_version": "1.2.0",
      "_view_name": "StyleView",
      "bar_color": null,
      "description_width": ""
     }
    },
    "81feddb738c64cbc8b7dbc7aec2730de": {
     "model_module": "@jupyter-widgets/controls",
     "model_module_version": "1.5.0",
     "model_name": "DescriptionStyleModel",
     "state": {
      "_model_module": "@jupyter-widgets/controls",
      "_model_module_version": "1.5.0",
      "_model_name": "DescriptionStyleModel",
      "_view_count": null,
      "_view_module": "@jupyter-widgets/base",
      "_view_module_version": "1.2.0",
      "_view_name": "StyleView",
      "description_width": ""
     }
    },
    "94d7b3dc65544425b2463933c4108fa4": {
     "model_module": "@jupyter-widgets/controls",
     "model_module_version": "1.5.0",
     "model_name": "FloatProgressModel",
     "state": {
      "_dom_classes": [],
      "_model_module": "@jupyter-widgets/controls",
      "_model_module_version": "1.5.0",
      "_model_name": "FloatProgressModel",
      "_view_count": null,
      "_view_module": "@jupyter-widgets/controls",
      "_view_module_version": "1.5.0",
      "_view_name": "ProgressView",
      "bar_style": "",
      "description": "",
      "description_tooltip": null,
      "layout": "IPY_MODEL_eb74dfbcca4a458eb81d87fbae5bf166",
      "max": 4,
      "min": 0,
      "orientation": "horizontal",
      "style": "IPY_MODEL_4efa6d0ab419418ea9e4991c77b1ec42",
      "value": 4
     }
    },
    "bec03081ad154466a3a0abca5a8462f4": {
     "model_module": "@jupyter-widgets/base",
     "model_module_version": "1.2.0",
     "model_name": "LayoutModel",
     "state": {
      "_model_module": "@jupyter-widgets/base",
      "_model_module_version": "1.2.0",
      "_model_name": "LayoutModel",
      "_view_count": null,
      "_view_module": "@jupyter-widgets/base",
      "_view_module_version": "1.2.0",
      "_view_name": "LayoutView",
      "align_content": null,
      "align_items": null,
      "align_self": null,
      "border": null,
      "bottom": null,
      "display": null,
      "flex": null,
      "flex_flow": null,
      "grid_area": null,
      "grid_auto_columns": null,
      "grid_auto_flow": null,
      "grid_auto_rows": null,
      "grid_column": null,
      "grid_gap": null,
      "grid_row": null,
      "grid_template_areas": null,
      "grid_template_columns": null,
      "grid_template_rows": null,
      "height": null,
      "justify_content": null,
      "justify_items": null,
      "left": null,
      "margin": null,
      "max_height": null,
      "max_width": null,
      "min_height": null,
      "min_width": null,
      "object_fit": null,
      "object_position": null,
      "order": null,
      "overflow": null,
      "overflow_x": null,
      "overflow_y": null,
      "padding": null,
      "right": null,
      "top": null,
      "visibility": null,
      "width": null
     }
    },
    "cfcd697393754f1d93106a2d6e07ea05": {
     "model_module": "@jupyter-widgets/controls",
     "model_module_version": "1.5.0",
     "model_name": "DescriptionStyleModel",
     "state": {
      "_model_module": "@jupyter-widgets/controls",
      "_model_module_version": "1.5.0",
      "_model_name": "DescriptionStyleModel",
      "_view_count": null,
      "_view_module": "@jupyter-widgets/base",
      "_view_module_version": "1.2.0",
      "_view_name": "StyleView",
      "description_width": ""
     }
    },
    "cfce22755aa7471a87151793e633def1": {
     "model_module": "@jupyter-widgets/controls",
     "model_module_version": "1.5.0",
     "model_name": "HTMLModel",
     "state": {
      "_dom_classes": [],
      "_model_module": "@jupyter-widgets/controls",
      "_model_module_version": "1.5.0",
      "_model_name": "HTMLModel",
      "_view_count": null,
      "_view_module": "@jupyter-widgets/controls",
      "_view_module_version": "1.5.0",
      "_view_name": "HTMLView",
      "description": "",
      "description_tooltip": null,
      "layout": "IPY_MODEL_bec03081ad154466a3a0abca5a8462f4",
      "placeholder": "​",
      "style": "IPY_MODEL_81feddb738c64cbc8b7dbc7aec2730de",
      "value": "Processing: 100%"
     }
    },
    "eb74dfbcca4a458eb81d87fbae5bf166": {
     "model_module": "@jupyter-widgets/base",
     "model_module_version": "1.2.0",
     "model_name": "LayoutModel",
     "state": {
      "_model_module": "@jupyter-widgets/base",
      "_model_module_version": "1.2.0",
      "_model_name": "LayoutModel",
      "_view_count": null,
      "_view_module": "@jupyter-widgets/base",
      "_view_module_version": "1.2.0",
      "_view_name": "LayoutView",
      "align_content": null,
      "align_items": null,
      "align_self": null,
      "border": null,
      "bottom": null,
      "display": null,
      "flex": null,
      "flex_flow": null,
      "grid_area": null,
      "grid_auto_columns": null,
      "grid_auto_flow": null,
      "grid_auto_rows": null,
      "grid_column": null,
      "grid_gap": null,
      "grid_row": null,
      "grid_template_areas": null,
      "grid_template_columns": null,
      "grid_template_rows": null,
      "height": null,
      "justify_content": null,
      "justify_items": null,
      "left": null,
      "margin": null,
      "max_height": null,
      "max_width": null,
      "min_height": null,
      "min_width": null,
      "object_fit": null,
      "object_position": null,
      "order": null,
      "overflow": null,
      "overflow_x": null,
      "overflow_y": null,
      "padding": null,
      "right": null,
      "top": null,
      "visibility": null,
      "width": null
     }
    },
    "f92582f04a594f87a669f3c1c4d4eabc": {
     "model_module": "@jupyter-widgets/controls",
     "model_module_version": "1.5.0",
     "model_name": "HTMLModel",
     "state": {
      "_dom_classes": [],
      "_model_module": "@jupyter-widgets/controls",
      "_model_module_version": "1.5.0",
      "_model_name": "HTMLModel",
      "_view_count": null,
      "_view_module": "@jupyter-widgets/controls",
      "_view_module_version": "1.5.0",
      "_view_name": "HTMLView",
      "description": "",
      "description_tooltip": null,
      "layout": "IPY_MODEL_1ac32fe9102d4f5a9d1511e64a1d5e5d",
      "placeholder": "​",
      "style": "IPY_MODEL_cfcd697393754f1d93106a2d6e07ea05",
      "value": " 4/4 [00:10&lt;00:00,  2.34s/it]"
     }
    }
   }
  }
 },
 "nbformat": 4,
 "nbformat_minor": 4
}
