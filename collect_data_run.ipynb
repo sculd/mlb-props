{
 "cells": [
  {
   "cell_type": "markdown",
   "id": "50f5fcb2-5a4c-4493-9164-9bec8c97c28d",
   "metadata": {
    "execution": {
     "iopub.execute_input": "2023-05-21T23:07:10.098206Z",
     "iopub.status.busy": "2023-05-21T23:07:10.097352Z",
     "iopub.status.idle": "2023-05-21T23:07:10.556539Z",
     "shell.execute_reply": "2023-05-21T23:07:10.555681Z",
     "shell.execute_reply.started": "2023-05-21T23:07:10.098149Z"
    },
    "tags": []
   },
   "source": [
    "## import, read static files"
   ]
  },
  {
   "cell_type": "code",
   "execution_count": 1,
   "id": "a7c45b41-02df-486f-a296-e5cecfcccb3c",
   "metadata": {
    "execution": {
     "iopub.execute_input": "2023-06-17T02:57:16.187989Z",
     "iopub.status.busy": "2023-06-17T02:57:16.187667Z",
     "iopub.status.idle": "2023-06-17T02:57:16.622586Z",
     "shell.execute_reply": "2023-06-17T02:57:16.622107Z",
     "shell.execute_reply.started": "2023-06-17T02:57:16.187965Z"
    }
   },
   "outputs": [],
   "source": [
    "import pandas as pd, numpy as np\n",
    "import statsapi\n",
    "from statsapi import player_stat_data\n",
    "import requests\n",
    "from datetime import datetime, timedelta\n",
    "import numpy as np\n",
    "import math\n",
    "import meteostat\n",
    "import pprint\n",
    "import pickle\n",
    "import threading\n",
    "import importlib"
   ]
  },
  {
   "cell_type": "code",
   "execution_count": 2,
   "id": "fc0b9596",
   "metadata": {
    "execution": {
     "iopub.execute_input": "2023-06-17T02:57:16.840725Z",
     "iopub.status.busy": "2023-06-17T02:57:16.839855Z",
     "iopub.status.idle": "2023-06-17T02:57:16.913953Z",
     "shell.execute_reply": "2023-06-17T02:57:16.912634Z",
     "shell.execute_reply.started": "2023-06-17T02:57:16.840696Z"
    },
    "tags": []
   },
   "outputs": [],
   "source": [
    "from static_data.load_static_data import *"
   ]
  },
  {
   "cell_type": "code",
   "execution_count": 3,
   "id": "6e6ae697",
   "metadata": {
    "execution": {
     "iopub.execute_input": "2023-06-17T02:57:17.202924Z",
     "iopub.status.busy": "2023-06-17T02:57:17.202215Z",
     "iopub.status.idle": "2023-06-17T02:57:31.840685Z",
     "shell.execute_reply": "2023-06-17T02:57:31.839842Z",
     "shell.execute_reply.started": "2023-06-17T02:57:17.202869Z"
    },
    "tags": []
   },
   "outputs": [],
   "source": [
    "All_Teams_Data = []\n",
    "\n",
    "for team_id in Teams_and_IDs['Team_ID']:\n",
    "    roster_url = f\"https://statsapi.mlb.com/api/v1/teams/{team_id}/roster?rosterType=allTime\"\n",
    "    response = requests.get(roster_url)\n",
    "    roster_data = response.json()['roster']\n",
    "    for player in roster_data:\n",
    "        Player_Name = player['person']['fullName']\n",
    "        Player_ID = player['person']['id']\n",
    "        Player_Dictionary = {\"Team_ID\":team_id,\"Player Name\":Player_Name, \"Player ID\":Player_ID}\n",
    "        All_Teams_Data.append(Player_Dictionary)\n",
    "\n",
    "All_Teams_DataFrame = pd.DataFrame(All_Teams_Data)"
   ]
  },
  {
   "cell_type": "code",
   "execution_count": 4,
   "id": "2c014c75",
   "metadata": {
    "execution": {
     "iopub.execute_input": "2023-06-17T02:57:31.841720Z",
     "iopub.status.busy": "2023-06-17T02:57:31.841514Z",
     "iopub.status.idle": "2023-06-17T02:57:31.866696Z",
     "shell.execute_reply": "2023-06-17T02:57:31.865870Z",
     "shell.execute_reply.started": "2023-06-17T02:57:31.841678Z"
    },
    "tags": []
   },
   "outputs": [],
   "source": [
    "# almost the same could be achieve this way.\n",
    "All_Teams_DataFrame_ = Player_Positions.drop_duplicates(['player_name', 'player_id', 'player_team_id'])[['player_team_id', 'player_name', 'player_id']]"
   ]
  },
  {
   "cell_type": "markdown",
   "id": "cde2a5a6-6352-4ee0-80bd-8abf81eeb010",
   "metadata": {},
   "source": [
    "# collect and cache history data"
   ]
  },
  {
   "cell_type": "markdown",
   "id": "d2314496-0371-47b0-b552-758acdf7161d",
   "metadata": {},
   "source": [
    "Here is the dependency and accordingly the right order of runs.\n",
    "* schedules\n",
    "* game_id_lists\n",
    "* boxscores: game_id_lists\n",
    "* player_stat\n",
    "* venue_game_temperature: schedules\n",
    "* game_matchup: schedules, boxscores, venue_game_temperature"
   ]
  },
  {
   "cell_type": "markdown",
   "id": "93d87843-6047-45de-8f51-6ece60469634",
   "metadata": {
    "jp-MarkdownHeadingCollapsed": true
   },
   "source": [
    "## schedules"
   ]
  },
  {
   "cell_type": "code",
   "execution_count": 5,
   "id": "ee9130b1-ddb0-48ba-bd6c-de5842815329",
   "metadata": {
    "execution": {
     "iopub.execute_input": "2023-06-17T02:57:31.867960Z",
     "iopub.status.busy": "2023-06-17T02:57:31.867676Z",
     "iopub.status.idle": "2023-06-17T02:57:32.073668Z",
     "shell.execute_reply": "2023-06-17T02:57:32.072180Z",
     "shell.execute_reply.started": "2023-06-17T02:57:31.867937Z"
    }
   },
   "outputs": [],
   "source": [
    "import collect_data.schedules"
   ]
  },
  {
   "cell_type": "code",
   "execution_count": 6,
   "id": "e9111563-723c-4322-874b-4639b108e31c",
   "metadata": {
    "execution": {
     "iopub.execute_input": "2023-06-17T02:57:32.076376Z",
     "iopub.status.busy": "2023-06-17T02:57:32.075822Z",
     "iopub.status.idle": "2023-06-17T02:57:32.084059Z",
     "shell.execute_reply": "2023-06-17T02:57:32.082188Z",
     "shell.execute_reply.started": "2023-06-17T02:57:32.076247Z"
    }
   },
   "outputs": [],
   "source": [
    "_schedules = collect_data.schedules._schedules"
   ]
  },
  {
   "cell_type": "code",
   "execution_count": 16,
   "id": "32b92c21-c331-45ab-8265-8490ec16ab3c",
   "metadata": {
    "execution": {
     "iopub.execute_input": "2023-06-06T03:14:42.256576Z",
     "iopub.status.busy": "2023-06-06T03:14:42.256027Z",
     "iopub.status.idle": "2023-06-06T03:14:42.268892Z",
     "shell.execute_reply": "2023-06-06T03:14:42.267346Z",
     "shell.execute_reply.started": "2023-06-06T03:14:42.256532Z"
    }
   },
   "outputs": [],
   "source": [
    "#collect_data.schedules.fetch_schdules_year(2022)"
   ]
  },
  {
   "cell_type": "code",
   "execution_count": 17,
   "id": "58944f3e-1e1f-4f4d-aade-331a2667d9df",
   "metadata": {
    "execution": {
     "iopub.execute_input": "2023-06-06T03:14:42.271308Z",
     "iopub.status.busy": "2023-06-06T03:14:42.270601Z",
     "iopub.status.idle": "2023-06-06T03:14:42.287830Z",
     "shell.execute_reply": "2023-06-06T03:14:42.286688Z",
     "shell.execute_reply.started": "2023-06-06T03:14:42.271264Z"
    }
   },
   "outputs": [
    {
     "data": {
      "text/plain": [
       "29813"
      ]
     },
     "execution_count": 17,
     "metadata": {},
     "output_type": "execute_result"
    }
   ],
   "source": [
    "len(_schedules)"
   ]
  },
  {
   "cell_type": "code",
   "execution_count": 18,
   "id": "3946227e-2566-415d-b6f2-0cecbf090cd2",
   "metadata": {
    "execution": {
     "iopub.execute_input": "2023-06-06T03:14:42.289615Z",
     "iopub.status.busy": "2023-06-06T03:14:42.289186Z",
     "iopub.status.idle": "2023-06-06T03:14:42.302381Z",
     "shell.execute_reply": "2023-06-06T03:14:42.301643Z",
     "shell.execute_reply.started": "2023-06-06T03:14:42.289582Z"
    }
   },
   "outputs": [
    {
     "data": {
      "text/plain": [
       "'\\ncollect_data.schedules.fetch_schdules_year(2022)\\ncollect_data.schedules.fetch_schdules_year(2021)\\ncollect_data.schedules.fetch_schdules_year(2020)\\ncollect_data.schedules.fetch_schdules_year(2019)\\ncollect_data.schedules.fetch_schdules_year(2018)\\ncollect_data.schedules.fetch_schdules_year(2017)\\ncollect_data.schedules.fetch_schdules_year(2016)\\ncollect_data.schedules.fetch_schdules_year(2015)\\ncollect_data.schedules.fetch_schdules_year(2014)\\ncollect_data.schedules.fetch_schdules_year(2013)\\ncollect_data.schedules.fetch_schdules_year(2012)\\ncollect_data.schedules.fetch_schdules_year(2011)\\n#'"
      ]
     },
     "execution_count": 18,
     "metadata": {},
     "output_type": "execute_result"
    }
   ],
   "source": [
    "'''\n",
    "collect_data.schedules.fetch_schdules_year(2022)\n",
    "collect_data.schedules.fetch_schdules_year(2021)\n",
    "collect_data.schedules.fetch_schdules_year(2020)\n",
    "collect_data.schedules.fetch_schdules_year(2019)\n",
    "collect_data.schedules.fetch_schdules_year(2018)\n",
    "collect_data.schedules.fetch_schdules_year(2017)\n",
    "collect_data.schedules.fetch_schdules_year(2016)\n",
    "collect_data.schedules.fetch_schdules_year(2015)\n",
    "collect_data.schedules.fetch_schdules_year(2014)\n",
    "collect_data.schedules.fetch_schdules_year(2013)\n",
    "collect_data.schedules.fetch_schdules_year(2012)\n",
    "collect_data.schedules.fetch_schdules_year(2011)\n",
    "#'''"
   ]
  },
  {
   "cell_type": "code",
   "execution_count": null,
   "id": "a0b7bddf-7ab2-4eef-9f71-94ebdf93c5fa",
   "metadata": {},
   "outputs": [],
   "source": []
  },
  {
   "cell_type": "markdown",
   "id": "56a0e453-6a15-49b8-a8be-6482f9146bb6",
   "metadata": {
    "jp-MarkdownHeadingCollapsed": true
   },
   "source": [
    "## game ids"
   ]
  },
  {
   "cell_type": "code",
   "execution_count": 7,
   "id": "053387af-41e9-4aa8-9caa-90c18fd32b00",
   "metadata": {
    "execution": {
     "iopub.execute_input": "2023-06-17T02:57:32.085866Z",
     "iopub.status.busy": "2023-06-17T02:57:32.085583Z",
     "iopub.status.idle": "2023-06-17T02:57:32.106141Z",
     "shell.execute_reply": "2023-06-17T02:57:32.104984Z",
     "shell.execute_reply.started": "2023-06-17T02:57:32.085838Z"
    }
   },
   "outputs": [],
   "source": [
    "import collect_data.game_id_lists"
   ]
  },
  {
   "cell_type": "code",
   "execution_count": 8,
   "id": "bc70b9b4-898e-4451-9d86-afa34465eb84",
   "metadata": {
    "execution": {
     "iopub.execute_input": "2023-06-17T02:57:32.108871Z",
     "iopub.status.busy": "2023-06-17T02:57:32.108225Z",
     "iopub.status.idle": "2023-06-17T02:57:32.115877Z",
     "shell.execute_reply": "2023-06-17T02:57:32.114441Z",
     "shell.execute_reply.started": "2023-06-17T02:57:32.108833Z"
    }
   },
   "outputs": [],
   "source": [
    "_game_id_lists = collect_data.game_id_lists._game_id_lists"
   ]
  },
  {
   "cell_type": "code",
   "execution_count": 9,
   "id": "1348bd24-a51b-4b28-91bc-cd4b3532a568",
   "metadata": {
    "execution": {
     "iopub.execute_input": "2023-06-17T02:57:32.118250Z",
     "iopub.status.busy": "2023-06-17T02:57:32.117667Z",
     "iopub.status.idle": "2023-06-17T02:57:32.137923Z",
     "shell.execute_reply": "2023-06-17T02:57:32.136854Z",
     "shell.execute_reply.started": "2023-06-17T02:57:32.118217Z"
    }
   },
   "outputs": [
    {
     "data": {
      "text/plain": [
       "dict_keys([2021, 2020, 2019, 2018, 2017, 2016, 2015, 2014, 2013, 2012, 2022, 2011, 2023])"
      ]
     },
     "execution_count": 9,
     "metadata": {},
     "output_type": "execute_result"
    }
   ],
   "source": [
    "_game_id_lists.keys()"
   ]
  },
  {
   "cell_type": "code",
   "execution_count": 10,
   "id": "4330546e-9997-41a8-bbb6-f7c37c999281",
   "metadata": {
    "execution": {
     "iopub.execute_input": "2023-06-17T02:57:34.714753Z",
     "iopub.status.busy": "2023-06-17T02:57:34.714509Z",
     "iopub.status.idle": "2023-06-17T02:57:34.719460Z",
     "shell.execute_reply": "2023-06-17T02:57:34.718646Z",
     "shell.execute_reply.started": "2023-06-17T02:57:34.714734Z"
    }
   },
   "outputs": [
    {
     "data": {
      "text/plain": [
       "'\\ncollect_data.game_id_lists.get_game_id_list_year(2022)\\ncollect_data.game_id_lists.get_game_id_list_year(2021)\\ncollect_data.game_id_lists.get_game_id_list_year(2020)\\ncollect_data.game_id_lists.get_game_id_list_year(2019)\\ncollect_data.game_id_lists.get_game_id_list_year(2018)\\ncollect_data.game_id_lists.get_game_id_list_year(2017)\\ncollect_data.game_id_lists.get_game_id_list_year(2016)\\ncollect_data.game_id_lists.get_game_id_list_year(2015)\\ncollect_data.game_id_lists.get_game_id_list_year(2014)\\ncollect_data.game_id_lists.get_game_id_list_year(2013)\\ncollect_data.game_id_lists.get_game_id_list_year(2012)\\ncollect_data.game_id_lists.get_game_id_list_year(2011)\\n#'"
      ]
     },
     "execution_count": 10,
     "metadata": {},
     "output_type": "execute_result"
    }
   ],
   "source": [
    "'''\n",
    "collect_data.game_id_lists.get_game_id_list_year(2022)\n",
    "collect_data.game_id_lists.get_game_id_list_year(2021)\n",
    "collect_data.game_id_lists.get_game_id_list_year(2020)\n",
    "collect_data.game_id_lists.get_game_id_list_year(2019)\n",
    "collect_data.game_id_lists.get_game_id_list_year(2018)\n",
    "collect_data.game_id_lists.get_game_id_list_year(2017)\n",
    "collect_data.game_id_lists.get_game_id_list_year(2016)\n",
    "collect_data.game_id_lists.get_game_id_list_year(2015)\n",
    "collect_data.game_id_lists.get_game_id_list_year(2014)\n",
    "collect_data.game_id_lists.get_game_id_list_year(2013)\n",
    "collect_data.game_id_lists.get_game_id_list_year(2012)\n",
    "collect_data.game_id_lists.get_game_id_list_year(2011)\n",
    "#'''"
   ]
  },
  {
   "cell_type": "code",
   "execution_count": 11,
   "id": "791e598f-209e-4fb9-8f63-1a96b4b6a556",
   "metadata": {
    "execution": {
     "iopub.execute_input": "2023-06-17T02:57:35.194189Z",
     "iopub.status.busy": "2023-06-17T02:57:35.193630Z",
     "iopub.status.idle": "2023-06-17T02:57:35.203910Z",
     "shell.execute_reply": "2023-06-17T02:57:35.202959Z",
     "shell.execute_reply.started": "2023-06-17T02:57:35.194158Z"
    }
   },
   "outputs": [
    {
     "name": "stdout",
     "output_type": "stream",
     "text": [
      "getting game_id list 2011\n",
      "done getting game_id list 2011\n",
      "getting game_id list 2012\n",
      "done getting game_id list 2012\n",
      "getting game_id list 2013\n",
      "done getting game_id list 2013\n",
      "getting game_id list 2014\n",
      "done getting game_id list 2014\n",
      "getting game_id list 2015\n",
      "done getting game_id list 2015\n",
      "getting game_id list 2016\n",
      "done getting game_id list 2016\n",
      "getting game_id list 2017\n",
      "done getting game_id list 2017\n",
      "getting game_id list 2018\n",
      "done getting game_id list 2018\n",
      "getting game_id list 2019\n",
      "done getting game_id list 2019\n",
      "getting game_id list 2020\n",
      "done getting game_id list 2020\n",
      "getting game_id list 2021\n",
      "done getting game_id list 2021\n",
      "getting game_id list 2022\n",
      "done getting game_id list 2022\n"
     ]
    }
   ],
   "source": [
    "game_id_list_2011_2022 = sum([collect_data.game_id_lists.get_game_id_list_year(y) for y in range(2011, 2023)], [])"
   ]
  },
  {
   "cell_type": "code",
   "execution_count": 12,
   "id": "01c15d48-7831-4962-81fe-957b119f8fe3",
   "metadata": {
    "execution": {
     "iopub.execute_input": "2023-06-17T02:57:36.188744Z",
     "iopub.status.busy": "2023-06-17T02:57:36.188350Z",
     "iopub.status.idle": "2023-06-17T02:57:36.197847Z",
     "shell.execute_reply": "2023-06-17T02:57:36.196434Z",
     "shell.execute_reply.started": "2023-06-17T02:57:36.188724Z"
    }
   },
   "outputs": [
    {
     "data": {
      "text/plain": [
       "28937"
      ]
     },
     "execution_count": 12,
     "metadata": {},
     "output_type": "execute_result"
    }
   ],
   "source": [
    "len(game_id_list_2011_2022)"
   ]
  },
  {
   "cell_type": "code",
   "execution_count": 13,
   "id": "95e818b8-14a3-4cb8-98dd-dac805d25dea",
   "metadata": {
    "execution": {
     "iopub.execute_input": "2023-06-17T02:57:36.782328Z",
     "iopub.status.busy": "2023-06-17T02:57:36.781813Z",
     "iopub.status.idle": "2023-06-17T02:57:36.789780Z",
     "shell.execute_reply": "2023-06-17T02:57:36.788388Z",
     "shell.execute_reply.started": "2023-06-17T02:57:36.782302Z"
    }
   },
   "outputs": [
    {
     "name": "stdout",
     "output_type": "stream",
     "text": [
      "getting game_id list 2023\n",
      "done getting game_id list 2023\n"
     ]
    }
   ],
   "source": [
    "game_id_list_2023 = collect_data.game_id_lists.get_game_id_list_year(2023)"
   ]
  },
  {
   "cell_type": "code",
   "execution_count": 14,
   "id": "e2d1b856-c712-4d4b-bef1-9b1425e77ae1",
   "metadata": {
    "execution": {
     "iopub.execute_input": "2023-06-17T02:57:38.444985Z",
     "iopub.status.busy": "2023-06-17T02:57:38.444760Z",
     "iopub.status.idle": "2023-06-17T02:57:38.448798Z",
     "shell.execute_reply": "2023-06-17T02:57:38.448308Z",
     "shell.execute_reply.started": "2023-06-17T02:57:38.444970Z"
    }
   },
   "outputs": [
    {
     "data": {
      "text/plain": [
       "1014"
      ]
     },
     "execution_count": 14,
     "metadata": {},
     "output_type": "execute_result"
    }
   ],
   "source": [
    "len(game_id_list_2023)"
   ]
  },
  {
   "cell_type": "markdown",
   "id": "aa3115cd-fe6f-4f6a-b42e-69ef9b767aa1",
   "metadata": {},
   "source": [
    "## boxscores"
   ]
  },
  {
   "cell_type": "code",
   "execution_count": 15,
   "id": "602971a5-54d3-48c8-8242-4206c9ac18d9",
   "metadata": {
    "execution": {
     "iopub.execute_input": "2023-06-17T02:57:39.335836Z",
     "iopub.status.busy": "2023-06-17T02:57:39.334738Z",
     "iopub.status.idle": "2023-06-17T02:58:34.801988Z",
     "shell.execute_reply": "2023-06-17T02:58:34.801199Z",
     "shell.execute_reply.started": "2023-06-17T02:57:39.335769Z"
    }
   },
   "outputs": [],
   "source": [
    "import collect_data.boxscores"
   ]
  },
  {
   "cell_type": "code",
   "execution_count": 16,
   "id": "219fdf21-7253-4124-b2eb-43afe59cbf9a",
   "metadata": {
    "execution": {
     "iopub.execute_input": "2023-06-17T02:58:34.802999Z",
     "iopub.status.busy": "2023-06-17T02:58:34.802856Z",
     "iopub.status.idle": "2023-06-17T02:58:34.806043Z",
     "shell.execute_reply": "2023-06-17T02:58:34.805310Z",
     "shell.execute_reply.started": "2023-06-17T02:58:34.802987Z"
    }
   },
   "outputs": [],
   "source": [
    "#importlib.reload(collect_data.boxscores)"
   ]
  },
  {
   "cell_type": "code",
   "execution_count": 17,
   "id": "6a919bd1-f788-4387-af5f-7953e390cbf8",
   "metadata": {
    "execution": {
     "iopub.execute_input": "2023-06-17T02:58:34.807300Z",
     "iopub.status.busy": "2023-06-17T02:58:34.806955Z",
     "iopub.status.idle": "2023-06-17T02:58:34.821709Z",
     "shell.execute_reply": "2023-06-17T02:58:34.820985Z",
     "shell.execute_reply.started": "2023-06-17T02:58:34.807276Z"
    }
   },
   "outputs": [],
   "source": [
    "_boxscores = collect_data.boxscores._boxscores"
   ]
  },
  {
   "cell_type": "code",
   "execution_count": 18,
   "id": "1a7a456e-9c39-4662-93fb-4f00372ae3b3",
   "metadata": {
    "execution": {
     "iopub.execute_input": "2023-06-17T02:58:34.822776Z",
     "iopub.status.busy": "2023-06-17T02:58:34.822620Z",
     "iopub.status.idle": "2023-06-17T02:58:34.837817Z",
     "shell.execute_reply": "2023-06-17T02:58:34.837142Z",
     "shell.execute_reply.started": "2023-06-17T02:58:34.822763Z"
    }
   },
   "outputs": [
    {
     "data": {
      "text/plain": [
       "33814"
      ]
     },
     "execution_count": 18,
     "metadata": {},
     "output_type": "execute_result"
    }
   ],
   "source": [
    "len(_boxscores)"
   ]
  },
  {
   "cell_type": "code",
   "execution_count": 22,
   "id": "77ebdc49-08b2-4c44-94c2-f99d5d3bc978",
   "metadata": {
    "execution": {
     "iopub.execute_input": "2023-06-17T03:07:58.432774Z",
     "iopub.status.busy": "2023-06-17T03:07:58.432260Z",
     "iopub.status.idle": "2023-06-17T03:10:03.734684Z",
     "shell.execute_reply": "2023-06-17T03:10:03.732961Z",
     "shell.execute_reply.started": "2023-06-17T03:07:58.432741Z"
    }
   },
   "outputs": [
    {
     "ename": "TypeError",
     "evalue": "keys must be str, int, float, bool or None, not int64",
     "output_type": "error",
     "traceback": [
      "\u001b[0;31m---------------------------------------------------------------------------\u001b[0m",
      "\u001b[0;31mTypeError\u001b[0m                                 Traceback (most recent call last)",
      "Cell \u001b[0;32mIn[22], line 2\u001b[0m\n\u001b[1;32m      1\u001b[0m \u001b[38;5;28;01mimport\u001b[39;00m \u001b[38;5;21;01mjson\u001b[39;00m\n\u001b[0;32m----> 2\u001b[0m \u001b[43mjson\u001b[49m\u001b[38;5;241;43m.\u001b[39;49m\u001b[43mdump\u001b[49m\u001b[43m(\u001b[49m\u001b[43m_boxscores\u001b[49m\u001b[43m,\u001b[49m\u001b[43m \u001b[49m\u001b[38;5;28;43mopen\u001b[39;49m\u001b[43m(\u001b[49m\u001b[38;5;124;43m'\u001b[39;49m\u001b[38;5;124;43mboxscores.json\u001b[39;49m\u001b[38;5;124;43m'\u001b[39;49m\u001b[43m,\u001b[49m\u001b[43m \u001b[49m\u001b[38;5;124;43m'\u001b[39;49m\u001b[38;5;124;43mw\u001b[39;49m\u001b[38;5;124;43m'\u001b[39;49m\u001b[43m)\u001b[49m\u001b[43m)\u001b[49m\n",
      "File \u001b[0;32m/usr/lib/python3.10/json/__init__.py:179\u001b[0m, in \u001b[0;36mdump\u001b[0;34m(obj, fp, skipkeys, ensure_ascii, check_circular, allow_nan, cls, indent, separators, default, sort_keys, **kw)\u001b[0m\n\u001b[1;32m    173\u001b[0m     iterable \u001b[38;5;241m=\u001b[39m \u001b[38;5;28mcls\u001b[39m(skipkeys\u001b[38;5;241m=\u001b[39mskipkeys, ensure_ascii\u001b[38;5;241m=\u001b[39mensure_ascii,\n\u001b[1;32m    174\u001b[0m         check_circular\u001b[38;5;241m=\u001b[39mcheck_circular, allow_nan\u001b[38;5;241m=\u001b[39mallow_nan, indent\u001b[38;5;241m=\u001b[39mindent,\n\u001b[1;32m    175\u001b[0m         separators\u001b[38;5;241m=\u001b[39mseparators,\n\u001b[1;32m    176\u001b[0m         default\u001b[38;5;241m=\u001b[39mdefault, sort_keys\u001b[38;5;241m=\u001b[39msort_keys, \u001b[38;5;241m*\u001b[39m\u001b[38;5;241m*\u001b[39mkw)\u001b[38;5;241m.\u001b[39miterencode(obj)\n\u001b[1;32m    177\u001b[0m \u001b[38;5;66;03m# could accelerate with writelines in some versions of Python, at\u001b[39;00m\n\u001b[1;32m    178\u001b[0m \u001b[38;5;66;03m# a debuggability cost\u001b[39;00m\n\u001b[0;32m--> 179\u001b[0m \u001b[38;5;28;01mfor\u001b[39;00m chunk \u001b[38;5;129;01min\u001b[39;00m iterable:\n\u001b[1;32m    180\u001b[0m     fp\u001b[38;5;241m.\u001b[39mwrite(chunk)\n",
      "File \u001b[0;32m/usr/lib/python3.10/json/encoder.py:431\u001b[0m, in \u001b[0;36m_make_iterencode.<locals>._iterencode\u001b[0;34m(o, _current_indent_level)\u001b[0m\n\u001b[1;32m    429\u001b[0m     \u001b[38;5;28;01myield from\u001b[39;00m _iterencode_list(o, _current_indent_level)\n\u001b[1;32m    430\u001b[0m \u001b[38;5;28;01melif\u001b[39;00m \u001b[38;5;28misinstance\u001b[39m(o, \u001b[38;5;28mdict\u001b[39m):\n\u001b[0;32m--> 431\u001b[0m     \u001b[38;5;28;01myield from\u001b[39;00m _iterencode_dict(o, _current_indent_level)\n\u001b[1;32m    432\u001b[0m \u001b[38;5;28;01melse\u001b[39;00m:\n\u001b[1;32m    433\u001b[0m     \u001b[38;5;28;01mif\u001b[39;00m markers \u001b[38;5;129;01mis\u001b[39;00m \u001b[38;5;129;01mnot\u001b[39;00m \u001b[38;5;28;01mNone\u001b[39;00m:\n",
      "File \u001b[0;32m/usr/lib/python3.10/json/encoder.py:376\u001b[0m, in \u001b[0;36m_make_iterencode.<locals>._iterencode_dict\u001b[0;34m(dct, _current_indent_level)\u001b[0m\n\u001b[1;32m    374\u001b[0m     \u001b[38;5;28;01mcontinue\u001b[39;00m\n\u001b[1;32m    375\u001b[0m \u001b[38;5;28;01melse\u001b[39;00m:\n\u001b[0;32m--> 376\u001b[0m     \u001b[38;5;28;01mraise\u001b[39;00m \u001b[38;5;167;01mTypeError\u001b[39;00m(\u001b[38;5;124mf\u001b[39m\u001b[38;5;124m'\u001b[39m\u001b[38;5;124mkeys must be str, int, float, bool or None, \u001b[39m\u001b[38;5;124m'\u001b[39m\n\u001b[1;32m    377\u001b[0m                     \u001b[38;5;124mf\u001b[39m\u001b[38;5;124m'\u001b[39m\u001b[38;5;124mnot \u001b[39m\u001b[38;5;132;01m{\u001b[39;00mkey\u001b[38;5;241m.\u001b[39m\u001b[38;5;18m__class__\u001b[39m\u001b[38;5;241m.\u001b[39m\u001b[38;5;18m__name__\u001b[39m\u001b[38;5;132;01m}\u001b[39;00m\u001b[38;5;124m'\u001b[39m)\n\u001b[1;32m    378\u001b[0m \u001b[38;5;28;01mif\u001b[39;00m first:\n\u001b[1;32m    379\u001b[0m     first \u001b[38;5;241m=\u001b[39m \u001b[38;5;28;01mFalse\u001b[39;00m\n",
      "\u001b[0;31mTypeError\u001b[0m: keys must be str, int, float, bool or None, not int64"
     ]
    }
   ],
   "source": [
    "import json\n",
    "json.dump(_boxscores, open('boxscores.json', 'w'))"
   ]
  },
  {
   "cell_type": "code",
   "execution_count": null,
   "id": "51d03b47-0772-4519-a0e6-374c811c4f83",
   "metadata": {},
   "outputs": [],
   "source": []
  },
  {
   "cell_type": "code",
   "execution_count": 31,
   "id": "b1c77be3-c465-40fc-9f0c-b94872b56378",
   "metadata": {
    "execution": {
     "iopub.execute_input": "2023-06-06T03:14:42.485163Z",
     "iopub.status.busy": "2023-06-06T03:14:42.484756Z",
     "iopub.status.idle": "2023-06-06T03:14:42.495875Z",
     "shell.execute_reply": "2023-06-06T03:14:42.494712Z",
     "shell.execute_reply.started": "2023-06-06T03:14:42.485133Z"
    }
   },
   "outputs": [
    {
     "data": {
      "text/plain": [
       "'\\ncollect_data.boxscores.ingest_boxscore_year(2022)\\ncollect_data.boxscores.ingest_boxscore_year(2021)\\ncollect_data.boxscores.ingest_boxscore_year(2020)\\ncollect_data.boxscores.ingest_boxscore_year(2019)\\ncollect_data.boxscores.ingest_boxscore_year(2018)\\ncollect_data.boxscores.ingest_boxscore_year(2017)\\ncollect_data.boxscores.ingest_boxscore_year(2016)\\ncollect_data.boxscores.ingest_boxscore_year(2015)\\ncollect_data.boxscores.ingest_boxscore_year(2014)\\ncollect_data.boxscores.ingest_boxscore_year(2013)\\ncollect_data.boxscores.ingest_boxscore_year(2012)\\ncollect_data.boxscores.ingest_boxscore_year(2011)\\n#'"
      ]
     },
     "execution_count": 31,
     "metadata": {},
     "output_type": "execute_result"
    }
   ],
   "source": [
    "'''\n",
    "collect_data.boxscores.ingest_boxscore_year(2022)\n",
    "collect_data.boxscores.ingest_boxscore_year(2021)\n",
    "collect_data.boxscores.ingest_boxscore_year(2020)\n",
    "collect_data.boxscores.ingest_boxscore_year(2019)\n",
    "collect_data.boxscores.ingest_boxscore_year(2018)\n",
    "collect_data.boxscores.ingest_boxscore_year(2017)\n",
    "collect_data.boxscores.ingest_boxscore_year(2016)\n",
    "collect_data.boxscores.ingest_boxscore_year(2015)\n",
    "collect_data.boxscores.ingest_boxscore_year(2014)\n",
    "collect_data.boxscores.ingest_boxscore_year(2013)\n",
    "collect_data.boxscores.ingest_boxscore_year(2012)\n",
    "collect_data.boxscores.ingest_boxscore_year(2011)\n",
    "#'''"
   ]
  },
  {
   "cell_type": "markdown",
   "id": "27dc600c-e449-4d0a-8398-d2908755753f",
   "metadata": {},
   "source": [
    "## player_stats"
   ]
  },
  {
   "cell_type": "code",
   "execution_count": 23,
   "id": "d0544f27-cc97-4f87-b278-64d1372f64b2",
   "metadata": {
    "execution": {
     "iopub.execute_input": "2023-06-17T03:27:43.967632Z",
     "iopub.status.busy": "2023-06-17T03:27:43.967249Z",
     "iopub.status.idle": "2023-06-17T03:27:44.188542Z",
     "shell.execute_reply": "2023-06-17T03:27:44.187370Z",
     "shell.execute_reply.started": "2023-06-17T03:27:43.967611Z"
    }
   },
   "outputs": [],
   "source": [
    "import collect_data.player_stat"
   ]
  },
  {
   "cell_type": "code",
   "execution_count": 24,
   "id": "372e2135-6103-4df2-b88a-4840c078ec9f",
   "metadata": {
    "execution": {
     "iopub.execute_input": "2023-06-17T03:27:44.485060Z",
     "iopub.status.busy": "2023-06-17T03:27:44.483313Z",
     "iopub.status.idle": "2023-06-17T03:27:44.512588Z",
     "shell.execute_reply": "2023-06-17T03:27:44.505214Z",
     "shell.execute_reply.started": "2023-06-17T03:27:44.484913Z"
    }
   },
   "outputs": [],
   "source": [
    "_player_stats = collect_data.player_stat._player_stats"
   ]
  },
  {
   "cell_type": "code",
   "execution_count": 25,
   "id": "ac82d59d-7592-4413-a721-72cc7de13f9d",
   "metadata": {
    "execution": {
     "iopub.execute_input": "2023-06-17T03:27:45.231868Z",
     "iopub.status.busy": "2023-06-17T03:27:45.229091Z",
     "iopub.status.idle": "2023-06-17T03:27:45.274061Z",
     "shell.execute_reply": "2023-06-17T03:27:45.267160Z",
     "shell.execute_reply.started": "2023-06-17T03:27:45.231639Z"
    }
   },
   "outputs": [
    {
     "data": {
      "text/plain": [
       "5268"
      ]
     },
     "execution_count": 25,
     "metadata": {},
     "output_type": "execute_result"
    }
   ],
   "source": [
    "len(_player_stats)"
   ]
  },
  {
   "cell_type": "code",
   "execution_count": 38,
   "id": "5bdc8044-bc24-4940-8f89-f6b6e1da6760",
   "metadata": {
    "execution": {
     "iopub.execute_input": "2023-06-17T13:42:58.284561Z",
     "iopub.status.busy": "2023-06-17T13:42:58.281471Z",
     "iopub.status.idle": "2023-06-17T13:42:59.558849Z",
     "shell.execute_reply": "2023-06-17T13:42:59.557849Z",
     "shell.execute_reply.started": "2023-06-17T13:42:58.284474Z"
    },
    "scrolled": true
   },
   "outputs": [],
   "source": [
    "# to upload in big query\n",
    "'''\n",
    "class NpEncoder(json.JSONEncoder):\n",
    "    def default(self, obj):\n",
    "        if isinstance(obj, np.integer):\n",
    "            return int(obj)\n",
    "        if isinstance(obj, np.floating):\n",
    "            return float(obj)\n",
    "        if isinstance(obj, np.ndarray):\n",
    "            return obj.tolist()\n",
    "        return super(NpEncoder, self).default(obj)\n",
    "\n",
    "with open('player_stats_jsoned.json', 'w') as jf:\n",
    "    for player_id_side, player_stat in _player_stats.items():\n",
    "        stat = {\n",
    "            'player_id_side': player_id_side,\n",
    "            'player_stat': player_stat,\n",
    "        }\n",
    "        jf.write(json.dumps(stat, cls=NpEncoder) + '\\n')\n",
    "'''"
   ]
  },
  {
   "cell_type": "markdown",
   "id": "fc1aa370-6534-400a-b714-5568cb1ad2ae",
   "metadata": {},
   "source": [
    "player stat is collected as part of game matchup fetch"
   ]
  },
  {
   "cell_type": "markdown",
   "id": "98d28ebd-30fd-4961-8713-0601a882469b",
   "metadata": {},
   "source": [
    "## venue_game_temperatures"
   ]
  },
  {
   "cell_type": "code",
   "execution_count": 35,
   "id": "331b899d-bdfa-4447-b6d8-a00e85076e1f",
   "metadata": {
    "execution": {
     "iopub.execute_input": "2023-06-06T03:14:42.531391Z",
     "iopub.status.busy": "2023-06-06T03:14:42.530924Z",
     "iopub.status.idle": "2023-06-06T03:14:42.540335Z",
     "shell.execute_reply": "2023-06-06T03:14:42.539503Z",
     "shell.execute_reply.started": "2023-06-06T03:14:42.531354Z"
    }
   },
   "outputs": [],
   "source": [
    "import collect_data.venue_game_temperatures"
   ]
  },
  {
   "cell_type": "code",
   "execution_count": 36,
   "id": "8410fc8f-bb4f-4a2c-85a2-af2181dc20d7",
   "metadata": {
    "execution": {
     "iopub.execute_input": "2023-06-06T03:14:42.541771Z",
     "iopub.status.busy": "2023-06-06T03:14:42.541435Z",
     "iopub.status.idle": "2023-06-06T03:14:42.565865Z",
     "shell.execute_reply": "2023-06-06T03:14:42.565110Z",
     "shell.execute_reply.started": "2023-06-06T03:14:42.541744Z"
    }
   },
   "outputs": [
    {
     "data": {
      "text/plain": [
       "<module 'collect_data.venue_game_temperatures' from '/home/junlim/projects/mlb-props/collect_data/venue_game_temperatures.py'>"
      ]
     },
     "execution_count": 36,
     "metadata": {},
     "output_type": "execute_result"
    }
   ],
   "source": [
    "importlib.reload(collect_data.venue_game_temperatures)"
   ]
  },
  {
   "cell_type": "code",
   "execution_count": 37,
   "id": "cd86056a-88ff-432a-bff3-1133c8391ee1",
   "metadata": {
    "execution": {
     "iopub.execute_input": "2023-06-06T03:14:42.567186Z",
     "iopub.status.busy": "2023-06-06T03:14:42.566698Z",
     "iopub.status.idle": "2023-06-06T03:14:42.569537Z",
     "shell.execute_reply": "2023-06-06T03:14:42.569097Z",
     "shell.execute_reply.started": "2023-06-06T03:14:42.567170Z"
    }
   },
   "outputs": [],
   "source": [
    "_venue_game_temperatures = collect_data.venue_game_temperatures._venue_game_temperatures"
   ]
  },
  {
   "cell_type": "code",
   "execution_count": 38,
   "id": "f1393db0-03e6-40b5-91d5-8e4f29e5a625",
   "metadata": {
    "execution": {
     "iopub.execute_input": "2023-06-06T03:14:42.570349Z",
     "iopub.status.busy": "2023-06-06T03:14:42.570145Z",
     "iopub.status.idle": "2023-06-06T03:14:42.580979Z",
     "shell.execute_reply": "2023-06-06T03:14:42.580337Z",
     "shell.execute_reply.started": "2023-06-06T03:14:42.570333Z"
    }
   },
   "outputs": [
    {
     "data": {
      "text/plain": [
       "22466"
      ]
     },
     "execution_count": 38,
     "metadata": {},
     "output_type": "execute_result"
    }
   ],
   "source": [
    "len(_venue_game_temperatures)"
   ]
  },
  {
   "cell_type": "code",
   "execution_count": null,
   "id": "b8d4dfab-b771-409d-94ed-d34c1f6abf9b",
   "metadata": {},
   "outputs": [],
   "source": []
  },
  {
   "cell_type": "markdown",
   "id": "f0b9a81b-9331-4918-afeb-17016d5ae799",
   "metadata": {},
   "source": [
    "## game matchups"
   ]
  },
  {
   "cell_type": "code",
   "execution_count": 39,
   "id": "3c09a979-ea0d-4266-b666-dec7d30fa3a8",
   "metadata": {
    "execution": {
     "iopub.execute_input": "2023-06-06T03:14:42.584365Z",
     "iopub.status.busy": "2023-06-06T03:14:42.584001Z",
     "iopub.status.idle": "2023-06-06T03:14:42.593741Z",
     "shell.execute_reply": "2023-06-06T03:14:42.593274Z",
     "shell.execute_reply.started": "2023-06-06T03:14:42.584345Z"
    }
   },
   "outputs": [],
   "source": [
    "import collect_data.game_matchup"
   ]
  },
  {
   "cell_type": "code",
   "execution_count": 40,
   "id": "ef3b2adb-b238-4398-81be-f292e08890fc",
   "metadata": {
    "execution": {
     "iopub.execute_input": "2023-06-06T03:14:42.594644Z",
     "iopub.status.busy": "2023-06-06T03:14:42.594396Z",
     "iopub.status.idle": "2023-06-06T03:14:42.605405Z",
     "shell.execute_reply": "2023-06-06T03:14:42.604972Z",
     "shell.execute_reply.started": "2023-06-06T03:14:42.594625Z"
    }
   },
   "outputs": [
    {
     "data": {
      "text/plain": [
       "<module 'collect_data.game_matchup' from '/home/junlim/projects/mlb-props/collect_data/game_matchup.py'>"
      ]
     },
     "execution_count": 40,
     "metadata": {},
     "output_type": "execute_result"
    }
   ],
   "source": [
    "importlib.reload(collect_data.game_matchup)"
   ]
  },
  {
   "cell_type": "code",
   "execution_count": 41,
   "id": "b5b35973-3999-461b-88b5-121127232e7c",
   "metadata": {
    "execution": {
     "iopub.execute_input": "2023-06-06T03:14:42.606335Z",
     "iopub.status.busy": "2023-06-06T03:14:42.606048Z",
     "iopub.status.idle": "2023-06-06T03:14:42.613797Z",
     "shell.execute_reply": "2023-06-06T03:14:42.613196Z",
     "shell.execute_reply.started": "2023-06-06T03:14:42.606315Z"
    }
   },
   "outputs": [
    {
     "data": {
      "text/plain": [
       "'\\ncollect_data.game_matchup.ingest_matchup_year(2022)\\ncollect_data.game_matchup.ingest_matchup_year(2021)\\ncollect_data.game_matchup.ingest_matchup_year(2020)\\ncollect_data.game_matchup.ingest_matchup_year(2019)\\ncollect_data.game_matchup.ingest_matchup_year(2018)\\ncollect_data.game_matchup.ingest_matchup_year(2017)\\ncollect_data.game_matchup.ingest_matchup_year(2016)\\ncollect_data.game_matchup.ingest_matchup_year(2015)\\ncollect_data.game_matchup.ingest_matchup_year(2014)\\ncollect_data.game_matchup.ingest_matchup_year(2013)\\ncollect_data.game_matchup.ingest_matchup_year(2012)\\ncollect_data.game_matchup.ingest_matchup_year(2011)\\n#'"
      ]
     },
     "execution_count": 41,
     "metadata": {},
     "output_type": "execute_result"
    }
   ],
   "source": [
    "'''\n",
    "collect_data.game_matchup.ingest_matchup_year(2022)\n",
    "collect_data.game_matchup.ingest_matchup_year(2021)\n",
    "collect_data.game_matchup.ingest_matchup_year(2020)\n",
    "collect_data.game_matchup.ingest_matchup_year(2019)\n",
    "collect_data.game_matchup.ingest_matchup_year(2018)\n",
    "collect_data.game_matchup.ingest_matchup_year(2017)\n",
    "collect_data.game_matchup.ingest_matchup_year(2016)\n",
    "collect_data.game_matchup.ingest_matchup_year(2015)\n",
    "collect_data.game_matchup.ingest_matchup_year(2014)\n",
    "collect_data.game_matchup.ingest_matchup_year(2013)\n",
    "collect_data.game_matchup.ingest_matchup_year(2012)\n",
    "collect_data.game_matchup.ingest_matchup_year(2011)\n",
    "#'''"
   ]
  },
  {
   "cell_type": "code",
   "execution_count": null,
   "id": "636ba869-4123-412e-9fdd-5efa26e0a73c",
   "metadata": {},
   "outputs": [],
   "source": []
  },
  {
   "cell_type": "markdown",
   "id": "ce6d5dff-d495-47da-9ea6-e2421ae8e5ae",
   "metadata": {},
   "source": [
    "# construct match up dataset pre 2023"
   ]
  },
  {
   "cell_type": "code",
   "execution_count": 42,
   "id": "d90347cf-d325-493b-8d1f-1818751fc69c",
   "metadata": {
    "execution": {
     "iopub.execute_input": "2023-06-06T03:14:42.614737Z",
     "iopub.status.busy": "2023-06-06T03:14:42.614499Z",
     "iopub.status.idle": "2023-06-06T03:56:45.300409Z",
     "shell.execute_reply": "2023-06-06T03:56:45.290262Z",
     "shell.execute_reply.started": "2023-06-06T03:14:42.614718Z"
    },
    "scrolled": true
   },
   "outputs": [
    {
     "name": "stdout",
     "output_type": "stream",
     "text": [
      "processing 0 out of 29826 game_id 286884, cnt_null_matchups: 0\n",
      "processing 1000 out of 29826 game_id 287899, cnt_null_matchups: 10\n",
      "processing 2000 out of 29826 game_id 288887, cnt_null_matchups: 29\n",
      "home side_team_batting_stats is empty for game 289037\n",
      "away side_team_batting_stats is empty for game 289037\n",
      "home side_team_batting_stats is empty for game 289037\n",
      "away side_team_batting_stats is empty for game 289037\n",
      "pitcher_id  can not be found for pitcher \n",
      "pitcher_id  can not be found for pitcher \n",
      "pitcher_id  can not be found for pitcher \n",
      "pitcher_id  can not be found for pitcher \n",
      "pitcher_id  can not be found for pitcher \n",
      "calling statsapi.player_stat_data for player_id: 572852, group: hitting, key not in _player_stats: True, force_fetch: False\n",
      "away side_team_batting_stats is empty for game 336444\n",
      "pitcher_id  can not be found for pitcher \n",
      "away side_team_batting_stats is empty for game 336444\n",
      "calling statsapi.player_stat_data for player_id: 543078, group: hitting, key not in _player_stats: True, force_fetch: False\n",
      "calling statsapi.player_stat_data for player_id: 488871, group: hitting, key not in _player_stats: True, force_fetch: False\n",
      "calling statsapi.player_stat_data for player_id: 573246, group: hitting, key not in _player_stats: True, force_fetch: False\n",
      "calling statsapi.player_stat_data for player_id: 571906, group: hitting, key not in _player_stats: True, force_fetch: False\n",
      "calling statsapi.player_stat_data for player_id: 516853, group: hitting, key not in _player_stats: True, force_fetch: False\n",
      "calling statsapi.player_stat_data for player_id: 592259, group: hitting, key not in _player_stats: True, force_fetch: False\n",
      "calling statsapi.player_stat_data for player_id: 592714, group: hitting, key not in _player_stats: True, force_fetch: False\n",
      "calling statsapi.player_stat_data for player_id: 541653, group: hitting, key not in _player_stats: True, force_fetch: False\n",
      "calling statsapi.player_stat_data for player_id: 573123, group: hitting, key not in _player_stats: True, force_fetch: False\n",
      "calling statsapi.player_stat_data for player_id: 502504, group: hitting, key not in _player_stats: True, force_fetch: False\n",
      "calling statsapi.player_stat_data for player_id: 543573, group: hitting, key not in _player_stats: True, force_fetch: False\n",
      "calling statsapi.player_stat_data for player_id: 491675, group: hitting, key not in _player_stats: True, force_fetch: False\n",
      "calling statsapi.player_stat_data for player_id: 501824, group: hitting, key not in _player_stats: True, force_fetch: False\n",
      "calling statsapi.player_stat_data for player_id: 488676, group: hitting, key not in _player_stats: True, force_fetch: False\n",
      "calling statsapi.player_stat_data for player_id: 554333, group: hitting, key not in _player_stats: True, force_fetch: False\n",
      "calling statsapi.player_stat_data for player_id: 518563, group: hitting, key not in _player_stats: True, force_fetch: False\n",
      "processing 3000 out of 29826 game_id 318217, cnt_null_matchups: 46\n",
      "pitcher_id  can not be found for pitcher \n",
      "pitcher_id  can not be found for pitcher \n",
      "processing 4000 out of 29826 game_id 319211, cnt_null_matchups: 53\n",
      "pitcher_id  can not be found for pitcher \n",
      "pitcher_id  can not be found for pitcher \n",
      "processing 5000 out of 29826 game_id 362963, cnt_null_matchups: 69\n",
      "processing 6000 out of 29826 game_id 347627, cnt_null_matchups: 76\n",
      "pitcher_id  can not be found for pitcher \n",
      "pitcher_id  can not be found for pitcher \n",
      "pitcher_id  can not be found for pitcher \n",
      "pitcher_id  can not be found for pitcher \n",
      "pitcher_id  can not be found for pitcher \n",
      "pitcher_id  can not be found for pitcher \n",
      "pitcher_id  can not be found for pitcher \n",
      "pitcher_id  can not be found for pitcher \n",
      "processing 7000 out of 29826 game_id 348625, cnt_null_matchups: 93\n",
      "processing 8000 out of 29826 game_id 380921, cnt_null_matchups: 105\n",
      "processing 9000 out of 29826 game_id 381918, cnt_null_matchups: 115\n",
      "processing 10000 out of 29826 game_id 382914, cnt_null_matchups: 139\n",
      "calling statsapi.player_stat_data for player_id: 516631, group: hitting, key not in _player_stats: True, force_fetch: False\n",
      "calling statsapi.player_stat_data for player_id: 656643, group: hitting, key not in _player_stats: True, force_fetch: False\n",
      "calling statsapi.player_stat_data for player_id: 623209, group: hitting, key not in _player_stats: True, force_fetch: False\n",
      "calling statsapi.player_stat_data for player_id: 553891, group: hitting, key not in _player_stats: True, force_fetch: False\n",
      "calling statsapi.player_stat_data for player_id: 553889, group: hitting, key not in _player_stats: True, force_fetch: False\n",
      "calling statsapi.player_stat_data for player_id: 607700, group: hitting, key not in _player_stats: True, force_fetch: False\n",
      "calling statsapi.player_stat_data for player_id: 606987, group: hitting, key not in _player_stats: True, force_fetch: False\n",
      "calling statsapi.player_stat_data for player_id: 595449, group: hitting, key not in _player_stats: True, force_fetch: False\n",
      "calling statsapi.player_stat_data for player_id: 607780, group: hitting, key not in _player_stats: True, force_fetch: False\n",
      "calling statsapi.player_stat_data for player_id: 605462, group: hitting, key not in _player_stats: True, force_fetch: False\n",
      "away side_team_batting_stats is empty for game 418263\n",
      "away side_team_batting_stats is empty for game 418263\n",
      "calling statsapi.player_stat_data for player_id: 502620, group: hitting, key not in _player_stats: True, force_fetch: False\n",
      "calling statsapi.player_stat_data for player_id: 656915, group: hitting, key not in _player_stats: True, force_fetch: False\n",
      "calling statsapi.player_stat_data for player_id: 593775, group: hitting, key not in _player_stats: True, force_fetch: False\n",
      "calling statsapi.player_stat_data for player_id: 595890, group: hitting, key not in _player_stats: True, force_fetch: False\n",
      "pitcher_id  can not be found for pitcher \n",
      "calling statsapi.player_stat_data for player_id: 652999, group: hitting, key not in _player_stats: True, force_fetch: False\n",
      "calling statsapi.player_stat_data for player_id: 602113, group: hitting, key not in _player_stats: True, force_fetch: False\n",
      "calling statsapi.player_stat_data for player_id: 585251, group: hitting, key not in _player_stats: True, force_fetch: False\n",
      "calling statsapi.player_stat_data for player_id: 515189, group: hitting, key not in _player_stats: True, force_fetch: False\n",
      "calling statsapi.player_stat_data for player_id: 661307, group: hitting, key not in _player_stats: True, force_fetch: False\n",
      "calling statsapi.player_stat_data for player_id: 450175, group: hitting, key not in _player_stats: True, force_fetch: False\n",
      "calling statsapi.player_stat_data for player_id: 653001, group: hitting, key not in _player_stats: True, force_fetch: False\n",
      "away side_team_batting_stats is empty for game 433215\n",
      "pitcher_id  can not be found for pitcher \n",
      "away side_team_batting_stats is empty for game 433215\n",
      "pitcher_id  can not be found for pitcher \n",
      "pitcher_id  can not be found for pitcher \n",
      "pitcher_id  can not be found for pitcher \n",
      "pitcher_id  can not be found for pitcher \n",
      "pitcher_id  can not be found for pitcher \n",
      "pitcher_id  can not be found for pitcher \n",
      "pitcher_id  can not be found for pitcher \n",
      "pitcher_id  can not be found for pitcher \n",
      "processing 11000 out of 29826 game_id 414508, cnt_null_matchups: 147\n",
      "processing 12000 out of 29826 game_id 415512, cnt_null_matchups: 170\n",
      "home side_team_batting_stats is empty for game 415766\n",
      "away side_team_batting_stats is empty for game 415766\n",
      "home side_team_batting_stats is empty for game 415766\n",
      "away side_team_batting_stats is empty for game 415766\n",
      "calling statsapi.player_stat_data for player_id: 572391, group: hitting, key not in _player_stats: True, force_fetch: False\n",
      "calling statsapi.player_stat_data for player_id: 594631, group: hitting, key not in _player_stats: True, force_fetch: False\n",
      "pitcher_id  can not be found for pitcher \n",
      "calling statsapi.player_stat_data for player_id: 606939, group: hitting, key not in _player_stats: True, force_fetch: False\n",
      "away side_team_batting_stats is empty for game 452864\n",
      "pitcher_id  can not be found for pitcher \n",
      "away side_team_batting_stats is empty for game 452864\n",
      "calling statsapi.player_stat_data for player_id: 515768, group: hitting, key not in _player_stats: True, force_fetch: False\n",
      "processing 13000 out of 29826 game_id 447224, cnt_null_matchups: 193\n",
      "processing 14000 out of 29826 game_id 448218, cnt_null_matchups: 199\n",
      "processing 15000 out of 29826 game_id 449222, cnt_null_matchups: 236\n",
      "home side_team_batting_stats is empty for game 449246\n",
      "away side_team_batting_stats is empty for game 449246\n",
      "home side_team_batting_stats is empty for game 449246\n",
      "away side_team_batting_stats is empty for game 449246\n",
      "processing 16000 out of 29826 game_id 490889, cnt_null_matchups: 245\n",
      "processing 17000 out of 29826 game_id 491900, cnt_null_matchups: 265\n",
      "processing 18000 out of 29826 game_id 529648, cnt_null_matchups: 280\n",
      "processing 19000 out of 29826 game_id 530650, cnt_null_matchups: 292\n",
      "pitcher_id  can not be found for pitcher \n",
      "pitcher_id  can not be found for pitcher \n",
      "home side_team_batting_stats is empty for game 531548\n",
      "away side_team_batting_stats is empty for game 531548\n",
      "home side_team_batting_stats is empty for game 531548\n",
      "away side_team_batting_stats is empty for game 531548\n",
      "pitcher_id  can not be found for pitcher \n",
      "pitcher_id  can not be found for pitcher \n",
      "processing 20000 out of 29826 game_id 531659, cnt_null_matchups: 316\n",
      "pitcher_id  can not be found for pitcher \n",
      "pitcher_id  can not be found for pitcher \n",
      "pitcher_id  can not be found for pitcher \n",
      "pitcher_id  can not be found for pitcher \n",
      "processing 21000 out of 29826 game_id 564953, cnt_null_matchups: 328\n",
      "home side_team_batting_stats is empty for game 567304\n",
      "away side_team_batting_stats is empty for game 567304\n",
      "home side_team_batting_stats is empty for game 567304\n",
      "away side_team_batting_stats is empty for game 567304\n",
      "processing 22000 out of 29826 game_id 565377, cnt_null_matchups: 348\n",
      "pitcher_id  can not be found for pitcher \n",
      "pitcher_id  can not be found for pitcher \n",
      "calling statsapi.player_stat_data for player_id: 519151, group: pitching, key not in _player_stats: True, force_fetch: False\n",
      "home side_team_batting_stats is empty for game 634677\n",
      "away side_team_batting_stats is empty for game 634677\n",
      "home side_team_batting_stats is empty for game 634677\n",
      "away side_team_batting_stats is empty for game 634677\n",
      "processing 23000 out of 29826 game_id 631593, cnt_null_matchups: 376\n",
      "home side_team_batting_stats is empty for game 631472\n",
      "away side_team_batting_stats is empty for game 631472\n",
      "home side_team_batting_stats is empty for game 631472\n",
      "away side_team_batting_stats is empty for game 631472\n",
      "home side_team_batting_stats is empty for game 631471\n",
      "away side_team_batting_stats is empty for game 631471\n",
      "home side_team_batting_stats is empty for game 631471\n",
      "away side_team_batting_stats is empty for game 631471\n",
      "pitcher_id  can not be found for pitcher \n",
      "pitcher_id  can not be found for pitcher \n",
      "pitcher_id  can not be found for pitcher \n",
      "pitcher_id  can not be found for pitcher \n",
      "pitcher_id  can not be found for pitcher \n",
      "pitcher_id  can not be found for pitcher \n",
      "pitcher_id  can not be found for pitcher \n",
      "pitcher_id  can not be found for pitcher \n",
      "pitcher_id  can not be found for pitcher \n",
      "pitcher_id  can not be found for pitcher \n",
      "pitcher_id  can not be found for pitcher \n",
      "pitcher_id  can not be found for pitcher \n",
      "pitcher_id  can not be found for pitcher \n",
      "pitcher_id  can not be found for pitcher \n",
      "processing 24000 out of 29826 game_id 634589, cnt_null_matchups: 401\n",
      "pitcher_id  can not be found for pitcher \n",
      "pitcher_id  can not be found for pitcher \n",
      "processing 25000 out of 29826 game_id 633747, cnt_null_matchups: 410\n",
      "pitcher_id  can not be found for pitcher \n",
      "pitcher_id  can not be found for pitcher \n",
      "pitcher_id  can not be found for pitcher \n",
      "pitcher_id  can not be found for pitcher \n",
      "processing 26000 out of 29826 game_id 632569, cnt_null_matchups: 441\n",
      "home side_team_batting_stats is empty for game 632457\n",
      "away side_team_batting_stats is empty for game 632457\n",
      "home side_team_batting_stats is empty for game 632457\n",
      "away side_team_batting_stats is empty for game 632457\n",
      "calling statsapi.player_stat_data for player_id: 669471, group: hitting, key not in _player_stats: True, force_fetch: False\n",
      "calling statsapi.player_stat_data for player_id: 657144, group: hitting, key not in _player_stats: True, force_fetch: False\n",
      "calling statsapi.player_stat_data for player_id: 669899, group: hitting, key not in _player_stats: True, force_fetch: False\n",
      "calling statsapi.player_stat_data for player_id: 691277, group: hitting, key not in _player_stats: True, force_fetch: False\n",
      "calling statsapi.player_stat_data for player_id: 682630, group: hitting, key not in _player_stats: True, force_fetch: False\n",
      "calling statsapi.player_stat_data for player_id: 677584, group: hitting, key not in _player_stats: True, force_fetch: False\n",
      "calling statsapi.player_stat_data for player_id: 657741, group: hitting, key not in _player_stats: True, force_fetch: False\n",
      "calling statsapi.player_stat_data for player_id: 695078, group: hitting, key not in _player_stats: True, force_fetch: False\n",
      "calling statsapi.player_stat_data for player_id: 676698, group: hitting, key not in _player_stats: True, force_fetch: False\n",
      "calling statsapi.player_stat_data for player_id: 671286, group: hitting, key not in _player_stats: True, force_fetch: False\n",
      "calling statsapi.player_stat_data for player_id: 687086, group: hitting, key not in _player_stats: True, force_fetch: False\n",
      "calling statsapi.player_stat_data for player_id: 677581, group: hitting, key not in _player_stats: True, force_fetch: False\n",
      "calling statsapi.player_stat_data for player_id: 683297, group: hitting, key not in _player_stats: True, force_fetch: False\n",
      "calling statsapi.player_stat_data for player_id: 677570, group: hitting, key not in _player_stats: True, force_fetch: False\n",
      "away side_team_batting_stats is empty for game 707044\n",
      "away side_team_batting_stats is empty for game 707044\n",
      "pitcher_id  can not be found for pitcher Bobby Miller\n",
      "pitcher_id  can not be found for pitcher Bobby Miller\n",
      "calling statsapi.player_stat_data for player_id: 667611, group: hitting, key not in _player_stats: True, force_fetch: False\n",
      "calling statsapi.player_stat_data for player_id: 672517, group: hitting, key not in _player_stats: True, force_fetch: False\n",
      "calling statsapi.player_stat_data for player_id: 680607, group: hitting, key not in _player_stats: True, force_fetch: False\n",
      "calling statsapi.player_stat_data for player_id: 682927, group: hitting, key not in _player_stats: True, force_fetch: False\n",
      "calling statsapi.player_stat_data for player_id: 687257, group: hitting, key not in _player_stats: True, force_fetch: False\n",
      "calling statsapi.player_stat_data for player_id: 680579, group: hitting, key not in _player_stats: True, force_fetch: False\n",
      "calling statsapi.player_stat_data for player_id: 682636, group: hitting, key not in _player_stats: True, force_fetch: False\n",
      "home side_team_batting_stats is empty for game 706810\n",
      "calling statsapi.player_stat_data for player_id: 678521, group: hitting, key not in _player_stats: True, force_fetch: False\n",
      "calling statsapi.player_stat_data for player_id: 691910, group: hitting, key not in _player_stats: True, force_fetch: False\n",
      "calling statsapi.player_stat_data for player_id: 680858, group: hitting, key not in _player_stats: True, force_fetch: False\n",
      "calling statsapi.player_stat_data for player_id: 676085, group: hitting, key not in _player_stats: True, force_fetch: False\n",
      "home side_team_batting_stats is empty for game 706810\n",
      "processing 27000 out of 29826 game_id 663005, cnt_null_matchups: 469\n",
      "pitcher_id  can not be found for pitcher \n",
      "pitcher_id  can not be found for pitcher \n",
      "processing 28000 out of 29826 game_id 662267, cnt_null_matchups: 481\n",
      "pitcher_id  can not be found for pitcher Cody Freeman\n",
      "pitcher_id  can not be found for pitcher Cody Freeman\n",
      "pitcher_id  can not be found for pitcher A.J. Vukovich\n",
      "pitcher_id  can not be found for pitcher Logan Salow\n",
      "pitcher_id  can not be found for pitcher A.J. Vukovich\n",
      "pitcher_id  can not be found for pitcher Logan Salow\n",
      "pitcher_id  can not be found for pitcher Agustin Acosta\n",
      "pitcher_id  can not be found for pitcher Agustin Acosta\n",
      "pitcher_id  can not be found for pitcher Sebastian Castro\n",
      "pitcher_id  can not be found for pitcher Sebastian Castro\n",
      "pitcher_id  can not be found for pitcher Luis Diaz\n",
      "pitcher_id  can not be found for pitcher Luis Diaz\n",
      "processing 29000 out of 29826 game_id 718702, cnt_null_matchups: 500\n",
      "home side_team_batting_stats is empty for game 718700\n",
      "away side_team_batting_stats is empty for game 718700\n",
      "home side_team_batting_stats is empty for game 718700\n",
      "away side_team_batting_stats is empty for game 718700\n",
      "home side_team_batting_stats is empty for game 718558\n",
      "away side_team_batting_stats is empty for game 718558\n",
      "home side_team_batting_stats is empty for game 718558\n",
      "away side_team_batting_stats is empty for game 718558\n",
      "home side_team_batting_stats is empty for game 718371\n",
      "away side_team_batting_stats is empty for game 718371\n",
      "home side_team_batting_stats is empty for game 718371\n",
      "away side_team_batting_stats is empty for game 718371\n",
      "pitcher_id  can not be found for pitcher J.P. France\n",
      "pitcher_id  can not be found for pitcher J.P. France\n",
      "better name can not be found for 669477\n",
      "better name can not be found for 666906\n",
      "better name can not be found for 669477\n",
      "better name can not be found for 666906\n",
      "better name can not be found for 669477\n",
      "better name can not be found for 669477\n",
      "better name can not be found for 669477\n",
      "better name can not be found for 669477\n",
      "better name can not be found for 666906\n",
      "better name can not be found for 666906\n",
      "pitcher_id  can not be found for pitcher J.P. France\n",
      "pitcher_id  can not be found for pitcher J.P. France\n",
      "better name can not be found for 669477\n",
      "better name can not be found for 669477\n",
      "better name can not be found for 669477\n",
      "better name can not be found for 669477\n",
      "better name can not be found for 669477\n",
      "better name can not be found for 669477\n",
      "pitcher_id  can not be found for pitcher Cody Bradford\n",
      "pitcher_id  can not be found for pitcher Cody Bradford\n",
      "better name can not be found for 680574\n",
      "better name can not be found for 680574\n",
      "better name can not be found for 669477\n",
      "better name can not be found for 669477\n",
      "better name can not be found for 677587\n",
      "better name can not be found for 677587\n",
      "pitcher_id  can not be found for pitcher Brandon Williamson\n",
      "better name can not be found for 680574\n",
      "pitcher_id  can not be found for pitcher Brandon Williamson\n",
      "better name can not be found for 680574\n",
      "better name can not be found for 669477\n",
      "better name can not be found for 669477\n",
      "better name can not be found for 669477\n",
      "better name can not be found for 669477\n",
      "pitcher_id  can not be found for pitcher J.P. France\n",
      "pitcher_id  can not be found for pitcher J.P. France\n",
      "better name can not be found for 677587\n",
      "better name can not be found for 677587\n",
      "better name can not be found for 666906\n",
      "better name can not be found for 666906\n",
      "better name can not be found for 677587\n",
      "better name can not be found for 677587\n",
      "better name can not be found for 680574\n",
      "better name can not be found for 680574\n",
      "pitcher_id  can not be found for pitcher Karl Kauffmann\n",
      "pitcher_id  can not be found for pitcher Karl Kauffmann\n",
      "better name can not be found for 669477\n",
      "better name can not be found for 672275\n",
      "better name can not be found for 669477\n",
      "better name can not be found for 672275\n",
      "better name can not be found for 669477\n",
      "better name can not be found for 672275\n",
      "better name can not be found for 669477\n",
      "better name can not be found for 672275\n",
      "better name can not be found for 680574\n",
      "better name can not be found for 680574\n",
      "better name can not be found for 680574\n",
      "better name can not be found for 680574\n",
      "home side_team_batting_stats is empty for game 718082\n",
      "away side_team_batting_stats is empty for game 718082\n",
      "home side_team_batting_stats is empty for game 718082\n",
      "away side_team_batting_stats is empty for game 718082\n",
      "home side_team_batting_stats is empty for game 718078\n",
      "away side_team_batting_stats is empty for game 718078\n",
      "home side_team_batting_stats is empty for game 718078\n",
      "away side_team_batting_stats is empty for game 718078\n",
      "home side_team_batting_stats is empty for game 718080\n",
      "away side_team_batting_stats is empty for game 718080\n",
      "home side_team_batting_stats is empty for game 718080\n",
      "away side_team_batting_stats is empty for game 718080\n",
      "home side_team_batting_stats is empty for game 718079\n",
      "away side_team_batting_stats is empty for game 718079\n",
      "home side_team_batting_stats is empty for game 718079\n",
      "away side_team_batting_stats is empty for game 718079\n",
      "home side_team_batting_stats is empty for game 718072\n",
      "away side_team_batting_stats is empty for game 718072\n",
      "home side_team_batting_stats is empty for game 718072\n",
      "away side_team_batting_stats is empty for game 718072\n",
      "home side_team_batting_stats is empty for game 718075\n",
      "away side_team_batting_stats is empty for game 718075\n",
      "home side_team_batting_stats is empty for game 718075\n",
      "away side_team_batting_stats is empty for game 718075\n",
      "home side_team_batting_stats is empty for game 718071\n",
      "away side_team_batting_stats is empty for game 718071\n",
      "home side_team_batting_stats is empty for game 718071\n",
      "away side_team_batting_stats is empty for game 718071\n",
      "home side_team_batting_stats is empty for game 718077\n",
      "away side_team_batting_stats is empty for game 718077\n",
      "home side_team_batting_stats is empty for game 718077\n",
      "away side_team_batting_stats is empty for game 718077\n",
      "home side_team_batting_stats is empty for game 718073\n",
      "away side_team_batting_stats is empty for game 718073\n",
      "home side_team_batting_stats is empty for game 718073\n",
      "away side_team_batting_stats is empty for game 718073\n",
      "home side_team_batting_stats is empty for game 718074\n",
      "away side_team_batting_stats is empty for game 718074\n",
      "home side_team_batting_stats is empty for game 718074\n",
      "away side_team_batting_stats is empty for game 718074\n",
      "home side_team_batting_stats is empty for game 718066\n",
      "away side_team_batting_stats is empty for game 718066\n",
      "home side_team_batting_stats is empty for game 718066\n",
      "away side_team_batting_stats is empty for game 718066\n",
      "home side_team_batting_stats is empty for game 718067\n",
      "away side_team_batting_stats is empty for game 718067\n",
      "home side_team_batting_stats is empty for game 718067\n",
      "away side_team_batting_stats is empty for game 718067\n",
      "home side_team_batting_stats is empty for game 718068\n",
      "away side_team_batting_stats is empty for game 718068\n",
      "home side_team_batting_stats is empty for game 718068\n",
      "away side_team_batting_stats is empty for game 718068\n",
      "home side_team_batting_stats is empty for game 718069\n",
      "away side_team_batting_stats is empty for game 718069\n",
      "home side_team_batting_stats is empty for game 718069\n",
      "away side_team_batting_stats is empty for game 718069\n",
      "home side_team_batting_stats is empty for game 718070\n",
      "away side_team_batting_stats is empty for game 718070\n",
      "home side_team_batting_stats is empty for game 718070\n",
      "away side_team_batting_stats is empty for game 718070\n",
      "home side_team_batting_stats is empty for game 718062\n",
      "away side_team_batting_stats is empty for game 718062\n",
      "home side_team_batting_stats is empty for game 718062\n",
      "away side_team_batting_stats is empty for game 718062\n",
      "better name can not be found for 680574\n",
      "better name can not be found for 680574\n",
      "pitcher_id  can not be found for pitcher Bobby Miller\n",
      "pitcher_id  can not be found for pitcher Bobby Miller\n",
      "better name can not be found for 669477\n",
      "better name can not be found for 672275\n",
      "better name can not be found for 669477\n",
      "better name can not be found for 672275\n",
      "pitcher_id  can not be found for pitcher J.P. France\n",
      "pitcher_id  can not be found for pitcher J.P. France\n",
      "better name can not be found for 669477\n",
      "better name can not be found for 672275\n",
      "better name can not be found for 669477\n",
      "better name can not be found for 672275\n",
      "pitcher_id  can not be found for pitcher J.P. France\n",
      "pitcher_id  can not be found for pitcher J.P. France\n",
      "pitcher_id  can not be found for pitcher Bobby Miller\n",
      "pitcher_id  can not be found for pitcher Bobby Miller\n",
      "better name can not be found for 680574\n",
      "better name can not be found for 680574\n",
      "pitcher_id  can not be found for pitcher J.P. France\n",
      "pitcher_id  can not be found for pitcher J.P. France\n",
      "pitcher_id  can not be found for pitcher Bobby Miller\n",
      "pitcher_id  can not be found for pitcher Bobby Miller\n",
      "calling statsapi.player_stat_data for player_id: 622251, group: pitching, key not in _player_stats: True, force_fetch: False\n",
      "pitcher_id  can not be found for pitcher Karl Kauffmann\n",
      "pitcher_id  can not be found for pitcher Karl Kauffmann\n",
      "better name can not be found for 669477\n",
      "better name can not be found for 672275\n",
      "better name can not be found for 669477\n",
      "better name can not be found for 672275\n",
      "calling statsapi.player_stat_data for player_id: 642048, group: hitting, key not in _player_stats: True, force_fetch: False\n",
      "calling statsapi.player_stat_data for player_id: 655316, group: hitting, key not in _player_stats: True, force_fetch: False\n",
      "better name can not be found for 655316\n",
      "better name can not be found for 669477\n",
      "better name can not be found for 655316\n",
      "better name can not be found for 669477\n",
      "better name can not be found for 680574\n",
      "better name can not be found for 680574\n",
      "pitcher_id  can not be found for pitcher Cody Bradford\n",
      "pitcher_id  can not be found for pitcher Cody Bradford\n",
      "better name can not be found for 669477\n",
      "better name can not be found for 672275\n",
      "better name can not be found for 669477\n",
      "better name can not be found for 672275\n",
      "calling statsapi.player_stat_data for player_id: 669947, group: pitching, key not in _player_stats: True, force_fetch: False\n",
      "pitcher_id  can not be found for pitcher Brandon Williamson\n",
      "better name can not be found for 680574\n",
      "pitcher_id  can not be found for pitcher Brandon Williamson\n",
      "better name can not be found for 680574\n",
      "better name can not be found for 669477\n",
      "better name can not be found for 672275\n",
      "better name can not be found for 669477\n",
      "better name can not be found for 672275\n",
      "pitcher_id  can not be found for pitcher Randy Vasquez\n",
      "pitcher_id  can not be found for pitcher Randy Vasquez\n",
      "better name can not be found for 680574\n",
      "better name can not be found for 680574\n",
      "better name can not be found for 669477\n",
      "better name can not be found for 672275\n",
      "better name can not be found for 669477\n",
      "better name can not be found for 672275\n",
      "better name can not be found for 680574\n",
      "better name can not be found for 680574\n",
      "pitcher_id  can not be found for pitcher Karl Kauffmann\n",
      "pitcher_id  can not be found for pitcher Karl Kauffmann\n",
      "better name can not be found for 680574\n",
      "better name can not be found for 680574\n",
      "better name can not be found for 669477\n",
      "better name can not be found for 669477\n",
      "better name can not be found for 655316\n",
      "better name can not be found for 655316\n",
      "better name can not be found for 680574\n",
      "better name can not be found for 680574\n",
      "better name can not be found for 669477\n",
      "better name can not be found for 672275\n",
      "better name can not be found for 669477\n",
      "better name can not be found for 672275\n",
      "better name can not be found for 680574\n",
      "better name can not be found for 680574\n",
      "better name can not be found for 669477\n",
      "better name can not be found for 672275\n",
      "better name can not be found for 669477\n",
      "better name can not be found for 672275\n",
      "better name can not be found for 680574\n",
      "better name can not be found for 680574\n",
      "calling statsapi.player_stat_data for player_id: 669854, group: pitching, key not in _player_stats: True, force_fetch: False\n",
      "better name can not be found for 655316\n",
      "better name can not be found for 655316\n",
      "better name can not be found for 669477\n",
      "better name can not be found for 669477\n",
      "better name can not be found for 677587\n",
      "better name can not be found for 677587\n",
      "pitcher_id  can not be found for pitcher Reese Olson\n",
      "pitcher_id  can not be found for pitcher Reese Olson\n",
      "home side_team_batting_stats is empty for game 717928\n",
      "away side_team_batting_stats is empty for game 717928\n",
      "home side_team_batting_stats is empty for game 717928\n",
      "away side_team_batting_stats is empty for game 717928\n",
      "better name can not be found for 680574\n",
      "better name can not be found for 655316\n",
      "pitcher_id  can not be found for pitcher Brandon Williamson\n",
      "better name can not be found for 680574\n",
      "better name can not be found for 655316\n",
      "pitcher_id  can not be found for pitcher Brandon Williamson\n",
      "better name can not be found for 680574\n",
      "calling statsapi.player_stat_data for player_id: 686759, group: hitting, key not in _player_stats: True, force_fetch: False\n",
      "better name can not be found for 686759\n",
      "better name can not be found for 655316\n",
      "better name can not be found for 680574\n",
      "better name can not be found for 686759\n",
      "better name can not be found for 655316\n",
      "calling statsapi.player_stat_data for player_id: 667463, group: hitting, key not in _player_stats: True, force_fetch: False\n",
      "pitcher_id  can not be found for pitcher Bryan Woo\n",
      "pitcher_id  can not be found for pitcher Bryan Woo\n",
      "better name can not be found for 669477\n",
      "better name can not be found for 672275\n",
      "better name can not be found for 669477\n",
      "better name can not be found for 672275\n",
      "pitcher_id  can not be found for pitcher Bobby Miller\n",
      "pitcher_id  can not be found for pitcher Bobby Miller\n",
      "better name can not be found for 669477\n",
      "better name can not be found for 672275\n",
      "better name can not be found for 669477\n",
      "better name can not be found for 672275\n",
      "better name can not be found for 680574\n",
      "better name can not be found for 686759\n",
      "better name can not be found for 680574\n",
      "better name can not be found for 686759\n",
      "pitcher_id  can not be found for pitcher J.P. France\n",
      "pitcher_id  can not be found for pitcher J.P. France\n",
      "cnt_null_matchups: 531\n"
     ]
    }
   ],
   "source": [
    "df_game_matchup_total = collect_data.game_matchup.get_df_game_matchup(game_id_list_2011_2022 + game_id_list_2023)\n",
    "df_game_matchup_total.batting_hit_recorded = df_game_matchup_total.batting_hit_recorded.astype(int)"
   ]
  },
  {
   "cell_type": "code",
   "execution_count": 43,
   "id": "285290a0-7da3-4178-ad2e-add03aee4ed5",
   "metadata": {
    "execution": {
     "iopub.execute_input": "2023-06-06T03:56:45.302081Z",
     "iopub.status.busy": "2023-06-06T03:56:45.301931Z",
     "iopub.status.idle": "2023-06-06T03:56:45.308634Z",
     "shell.execute_reply": "2023-06-06T03:56:45.308258Z",
     "shell.execute_reply.started": "2023-06-06T03:56:45.302069Z"
    }
   },
   "outputs": [
    {
     "name": "stdout",
     "output_type": "stream",
     "text": [
      "Unique Games: 22635\n"
     ]
    }
   ],
   "source": [
    "print(f\"Unique Games: {len(df_game_matchup_total['game_id'].drop_duplicates())}\")"
   ]
  },
  {
   "cell_type": "code",
   "execution_count": 44,
   "id": "d16cd371-74f3-46bc-9d21-0b67ac062a58",
   "metadata": {
    "execution": {
     "iopub.execute_input": "2023-06-06T03:56:45.309326Z",
     "iopub.status.busy": "2023-06-06T03:56:45.309138Z",
     "iopub.status.idle": "2023-06-06T03:56:45.323059Z",
     "shell.execute_reply": "2023-06-06T03:56:45.322578Z",
     "shell.execute_reply.started": "2023-06-06T03:56:45.309316Z"
    }
   },
   "outputs": [
    {
     "data": {
      "text/plain": [
       "322963"
      ]
     },
     "execution_count": 44,
     "metadata": {},
     "output_type": "execute_result"
    }
   ],
   "source": [
    "len(df_game_matchup_total)"
   ]
  },
  {
   "cell_type": "code",
   "execution_count": 45,
   "id": "60f4d934-ad9b-4376-b32b-724565a61b5e",
   "metadata": {
    "execution": {
     "iopub.execute_input": "2023-06-06T03:56:45.324572Z",
     "iopub.status.busy": "2023-06-06T03:56:45.324373Z",
     "iopub.status.idle": "2023-06-06T03:56:45.819588Z",
     "shell.execute_reply": "2023-06-06T03:56:45.818770Z",
     "shell.execute_reply.started": "2023-06-06T03:56:45.324561Z"
    }
   },
   "outputs": [],
   "source": [
    "df_game_matchup_total.to_pickle('collect_data/df_game_matchup_total.pkl')"
   ]
  },
  {
   "cell_type": "markdown",
   "id": "e30abebe-829c-4085-97fc-b7cf05a8a80e",
   "metadata": {},
   "source": [
    "# construct match up dataset for 2023"
   ]
  },
  {
   "cell_type": "code",
   "execution_count": 46,
   "id": "edbc6314-f865-4a3d-bec7-438138f37c50",
   "metadata": {
    "execution": {
     "iopub.execute_input": "2023-06-06T03:56:45.821114Z",
     "iopub.status.busy": "2023-06-06T03:56:45.820453Z",
     "iopub.status.idle": "2023-06-06T03:56:46.649614Z",
     "shell.execute_reply": "2023-06-06T03:56:46.649212Z",
     "shell.execute_reply.started": "2023-06-06T03:56:45.821088Z"
    },
    "scrolled": true
   },
   "outputs": [
    {
     "name": "stdout",
     "output_type": "stream",
     "text": [
      "processing 0 out of 20 game_id 717913, cnt_null_matchups: 0\n",
      "better name can not be found for 669477\n",
      "better name can not be found for 672275\n",
      "better name can not be found for 669477\n",
      "better name can not be found for 672275\n",
      "pitcher_id  can not be found for pitcher Bobby Miller\n",
      "pitcher_id  can not be found for pitcher Bobby Miller\n",
      "better name can not be found for 669477\n",
      "better name can not be found for 672275\n",
      "better name can not be found for 669477\n",
      "better name can not be found for 672275\n",
      "better name can not be found for 680574\n",
      "better name can not be found for 686759\n",
      "better name can not be found for 680574\n",
      "better name can not be found for 686759\n",
      "pitcher_id  can not be found for pitcher J.P. France\n",
      "pitcher_id  can not be found for pitcher J.P. France\n",
      "cnt_null_matchups: 1\n"
     ]
    }
   ],
   "source": [
    "df_game_matchup_2023 = collect_data.game_matchup.get_df_game_matchup(game_id_list_2023[-20:])\n",
    "df_game_matchup_2023.batting_hit_recorded = df_game_matchup_2023.batting_hit_recorded.astype(int)"
   ]
  },
  {
   "cell_type": "code",
   "execution_count": 47,
   "id": "afc73245-8171-4ad3-9812-c7783c4b4e9b",
   "metadata": {
    "execution": {
     "iopub.execute_input": "2023-06-06T03:56:46.650327Z",
     "iopub.status.busy": "2023-06-06T03:56:46.650175Z",
     "iopub.status.idle": "2023-06-06T03:56:46.653952Z",
     "shell.execute_reply": "2023-06-06T03:56:46.653364Z",
     "shell.execute_reply.started": "2023-06-06T03:56:46.650314Z"
    }
   },
   "outputs": [
    {
     "name": "stdout",
     "output_type": "stream",
     "text": [
      "Unique Games: 19\n"
     ]
    }
   ],
   "source": [
    "print(f\"Unique Games: {len(df_game_matchup_2023['game_id'].drop_duplicates())}\")"
   ]
  },
  {
   "cell_type": "code",
   "execution_count": 48,
   "id": "94109d77-88fe-41fa-9feb-62660bf5d43b",
   "metadata": {
    "execution": {
     "iopub.execute_input": "2023-06-06T03:56:46.655044Z",
     "iopub.status.busy": "2023-06-06T03:56:46.654788Z",
     "iopub.status.idle": "2023-06-06T03:56:46.673878Z",
     "shell.execute_reply": "2023-06-06T03:56:46.673302Z",
     "shell.execute_reply.started": "2023-06-06T03:56:46.655025Z"
    }
   },
   "outputs": [
    {
     "data": {
      "text/plain": [
       "240"
      ]
     },
     "execution_count": 48,
     "metadata": {},
     "output_type": "execute_result"
    }
   ],
   "source": [
    "len(df_game_matchup_2023)"
   ]
  },
  {
   "cell_type": "code",
   "execution_count": 49,
   "id": "dae86bec-d98d-49c9-9cfa-d3b987739788",
   "metadata": {
    "execution": {
     "iopub.execute_input": "2023-06-06T03:56:46.674923Z",
     "iopub.status.busy": "2023-06-06T03:56:46.674557Z",
     "iopub.status.idle": "2023-06-06T03:56:46.691337Z",
     "shell.execute_reply": "2023-06-06T03:56:46.690780Z",
     "shell.execute_reply.started": "2023-06-06T03:56:46.674897Z"
    }
   },
   "outputs": [],
   "source": [
    "df_game_matchup_2023.to_pickle('collect_data/df_game_matchup_2023.pkl')"
   ]
  },
  {
   "cell_type": "code",
   "execution_count": null,
   "id": "876602df-5c04-42cc-b05f-21ff421fa5fd",
   "metadata": {},
   "outputs": [],
   "source": []
  }
 ],
 "metadata": {
  "kernelspec": {
   "display_name": "Python 3 (ipykernel)",
   "language": "python",
   "name": "python3"
  },
  "language_info": {
   "codemirror_mode": {
    "name": "ipython",
    "version": 3
   },
   "file_extension": ".py",
   "mimetype": "text/x-python",
   "name": "python",
   "nbconvert_exporter": "python",
   "pygments_lexer": "ipython3",
   "version": "3.10.6"
  }
 },
 "nbformat": 4,
 "nbformat_minor": 5
}
