{
 "cells": [
  {
   "cell_type": "markdown",
   "id": "50f5fcb2-5a4c-4493-9164-9bec8c97c28d",
   "metadata": {
    "execution": {
     "iopub.execute_input": "2023-05-21T23:07:10.098206Z",
     "iopub.status.busy": "2023-05-21T23:07:10.097352Z",
     "iopub.status.idle": "2023-05-21T23:07:10.556539Z",
     "shell.execute_reply": "2023-05-21T23:07:10.555681Z",
     "shell.execute_reply.started": "2023-05-21T23:07:10.098149Z"
    },
    "tags": []
   },
   "source": [
    "## import, read static files"
   ]
  },
  {
   "cell_type": "code",
   "execution_count": 1,
   "id": "a7c45b41-02df-486f-a296-e5cecfcccb3c",
   "metadata": {
    "execution": {
     "iopub.execute_input": "2023-05-27T19:52:50.780454Z",
     "iopub.status.busy": "2023-05-27T19:52:50.780007Z",
     "iopub.status.idle": "2023-05-27T19:52:51.306740Z",
     "shell.execute_reply": "2023-05-27T19:52:51.306391Z",
     "shell.execute_reply.started": "2023-05-27T19:52:50.780399Z"
    }
   },
   "outputs": [],
   "source": [
    "import pandas as pd, numpy as np\n",
    "import statsapi\n",
    "from statsapi import player_stat_data\n",
    "import requests\n",
    "from datetime import datetime, timedelta\n",
    "import numpy as np\n",
    "import math\n",
    "import sqlalchemy\n",
    "import mysql.connector\n",
    "import meteostat\n",
    "import pprint\n",
    "import pickle\n",
    "import threading\n",
    "import importlib"
   ]
  },
  {
   "cell_type": "code",
   "execution_count": 3,
   "id": "fc0b9596",
   "metadata": {
    "execution": {
     "iopub.execute_input": "2023-05-27T19:53:04.898980Z",
     "iopub.status.busy": "2023-05-27T19:53:04.898638Z",
     "iopub.status.idle": "2023-05-27T19:53:04.961952Z",
     "shell.execute_reply": "2023-05-27T19:53:04.961156Z",
     "shell.execute_reply.started": "2023-05-27T19:53:04.898957Z"
    },
    "tags": []
   },
   "outputs": [],
   "source": [
    "from static_data.load_static_data import *"
   ]
  },
  {
   "cell_type": "code",
   "execution_count": 4,
   "id": "6e6ae697",
   "metadata": {
    "execution": {
     "iopub.execute_input": "2023-05-27T19:53:10.050764Z",
     "iopub.status.busy": "2023-05-27T19:53:10.050039Z",
     "iopub.status.idle": "2023-05-27T19:53:23.489083Z",
     "shell.execute_reply": "2023-05-27T19:53:23.488206Z",
     "shell.execute_reply.started": "2023-05-27T19:53:10.050724Z"
    },
    "tags": []
   },
   "outputs": [],
   "source": [
    "All_Teams_Data = []\n",
    "\n",
    "for team_id in Teams_and_IDs['Team_ID']:\n",
    "    roster_url = f\"https://statsapi.mlb.com/api/v1/teams/{team_id}/roster?rosterType=allTime\"\n",
    "    response = requests.get(roster_url)\n",
    "    roster_data = response.json()['roster']\n",
    "    for player in roster_data:\n",
    "        Player_Name = player['person']['fullName']\n",
    "        Player_ID = player['person']['id']\n",
    "        Player_Dictionary = {\"Team_ID\":team_id,\"Player Name\":Player_Name, \"Player ID\":Player_ID}\n",
    "        All_Teams_Data.append(Player_Dictionary)\n",
    "\n",
    "All_Teams_DataFrame = pd.DataFrame(All_Teams_Data)"
   ]
  },
  {
   "cell_type": "code",
   "execution_count": 5,
   "id": "2c014c75",
   "metadata": {
    "execution": {
     "iopub.execute_input": "2023-05-27T19:53:23.490052Z",
     "iopub.status.busy": "2023-05-27T19:53:23.489869Z",
     "iopub.status.idle": "2023-05-27T19:53:23.509358Z",
     "shell.execute_reply": "2023-05-27T19:53:23.508134Z",
     "shell.execute_reply.started": "2023-05-27T19:53:23.490039Z"
    },
    "tags": []
   },
   "outputs": [],
   "source": [
    "# almost the same could be achieve this way.\n",
    "All_Teams_DataFrame_ = Player_Positions.drop_duplicates(['player_name', 'player_id', 'player_team_id'])[['player_team_id', 'player_name', 'player_id']]"
   ]
  },
  {
   "cell_type": "markdown",
   "id": "cde2a5a6-6352-4ee0-80bd-8abf81eeb010",
   "metadata": {},
   "source": [
    "# collect and cache history data"
   ]
  },
  {
   "cell_type": "markdown",
   "id": "d2314496-0371-47b0-b552-758acdf7161d",
   "metadata": {},
   "source": [
    "Here is the dependency and accordingly the right order of runs.\n",
    "* schedules\n",
    "* game_id_lists\n",
    "* boxscores: game_id_lists\n",
    "* player_stat\n",
    "* venue_game_temperature: schedules\n",
    "* game_matchup: schedules, boxscores, venue_game_temperature"
   ]
  },
  {
   "cell_type": "markdown",
   "id": "93d87843-6047-45de-8f51-6ece60469634",
   "metadata": {
    "jp-MarkdownHeadingCollapsed": true
   },
   "source": [
    "## schedules"
   ]
  },
  {
   "cell_type": "code",
   "execution_count": 7,
   "id": "ee9130b1-ddb0-48ba-bd6c-de5842815329",
   "metadata": {
    "execution": {
     "iopub.execute_input": "2023-05-27T19:57:03.254948Z",
     "iopub.status.busy": "2023-05-27T19:57:03.254599Z",
     "iopub.status.idle": "2023-05-27T19:57:03.458343Z",
     "shell.execute_reply": "2023-05-27T19:57:03.457694Z",
     "shell.execute_reply.started": "2023-05-27T19:57:03.254920Z"
    }
   },
   "outputs": [],
   "source": [
    "import collect_data.schedules"
   ]
  },
  {
   "cell_type": "code",
   "execution_count": 8,
   "id": "e9111563-723c-4322-874b-4639b108e31c",
   "metadata": {
    "execution": {
     "iopub.execute_input": "2023-05-27T19:57:04.413903Z",
     "iopub.status.busy": "2023-05-27T19:57:04.404820Z",
     "iopub.status.idle": "2023-05-27T19:57:04.421790Z",
     "shell.execute_reply": "2023-05-27T19:57:04.420258Z",
     "shell.execute_reply.started": "2023-05-27T19:57:04.413820Z"
    }
   },
   "outputs": [],
   "source": [
    "_schedules = collect_data.schedules._schedules"
   ]
  },
  {
   "cell_type": "code",
   "execution_count": 23,
   "id": "32b92c21-c331-45ab-8265-8490ec16ab3c",
   "metadata": {
    "execution": {
     "iopub.execute_input": "2023-05-27T18:25:08.265491Z",
     "iopub.status.busy": "2023-05-27T18:25:08.264786Z",
     "iopub.status.idle": "2023-05-27T18:25:37.850123Z",
     "shell.execute_reply": "2023-05-27T18:25:37.849490Z",
     "shell.execute_reply.started": "2023-05-27T18:25:08.265444Z"
    }
   },
   "outputs": [
    {
     "name": "stdout",
     "output_type": "stream",
     "text": [
      "fetch_schdules_year 2022\n",
      "done fetch_schdules_year 2022\n"
     ]
    }
   ],
   "source": [
    "collect_data.schedules.fetch_schdules_year(2022)"
   ]
  },
  {
   "cell_type": "code",
   "execution_count": 9,
   "id": "58944f3e-1e1f-4f4d-aade-331a2667d9df",
   "metadata": {
    "execution": {
     "iopub.execute_input": "2023-05-27T19:57:08.699159Z",
     "iopub.status.busy": "2023-05-27T19:57:08.698961Z",
     "iopub.status.idle": "2023-05-27T19:57:08.703591Z",
     "shell.execute_reply": "2023-05-27T19:57:08.703145Z",
     "shell.execute_reply.started": "2023-05-27T19:57:08.699146Z"
    }
   },
   "outputs": [
    {
     "data": {
      "text/plain": [
       "29650"
      ]
     },
     "execution_count": 9,
     "metadata": {},
     "output_type": "execute_result"
    }
   ],
   "source": [
    "len(_schedules)"
   ]
  },
  {
   "cell_type": "code",
   "execution_count": 22,
   "id": "3946227e-2566-415d-b6f2-0cecbf090cd2",
   "metadata": {
    "execution": {
     "iopub.execute_input": "2023-05-27T18:24:53.701534Z",
     "iopub.status.busy": "2023-05-27T18:24:53.700916Z",
     "iopub.status.idle": "2023-05-27T18:24:53.705414Z",
     "shell.execute_reply": "2023-05-27T18:24:53.705032Z",
     "shell.execute_reply.started": "2023-05-27T18:24:53.701483Z"
    }
   },
   "outputs": [
    {
     "data": {
      "text/plain": [
       "'\\ncollect_data.schedules.fetch_schdules_year(2022)\\ncollect_data.schedules.fetch_schdules_year(2021)\\ncollect_data.schedules.fetch_schdules_year(2020)\\ncollect_data.schedules.fetch_schdules_year(2019)\\ncollect_data.schedules.fetch_schdules_year(2018)\\ncollect_data.schedules.fetch_schdules_year(2017)\\ncollect_data.schedules.fetch_schdules_year(2016)\\ncollect_data.schedules.fetch_schdules_year(2015)\\ncollect_data.schedules.fetch_schdules_year(2014)\\ncollect_data.schedules.fetch_schdules_year(2013)\\ncollect_data.schedules.fetch_schdules_year(2012)\\ncollect_data.schedules.fetch_schdules_year(2011)\\n#'"
      ]
     },
     "execution_count": 22,
     "metadata": {},
     "output_type": "execute_result"
    }
   ],
   "source": [
    "'''\n",
    "collect_data.schedules.fetch_schdules_year(2022)\n",
    "collect_data.schedules.fetch_schdules_year(2021)\n",
    "collect_data.schedules.fetch_schdules_year(2020)\n",
    "collect_data.schedules.fetch_schdules_year(2019)\n",
    "collect_data.schedules.fetch_schdules_year(2018)\n",
    "collect_data.schedules.fetch_schdules_year(2017)\n",
    "collect_data.schedules.fetch_schdules_year(2016)\n",
    "collect_data.schedules.fetch_schdules_year(2015)\n",
    "collect_data.schedules.fetch_schdules_year(2014)\n",
    "collect_data.schedules.fetch_schdules_year(2013)\n",
    "collect_data.schedules.fetch_schdules_year(2012)\n",
    "collect_data.schedules.fetch_schdules_year(2011)\n",
    "#'''"
   ]
  },
  {
   "cell_type": "code",
   "execution_count": null,
   "id": "a0b7bddf-7ab2-4eef-9f71-94ebdf93c5fa",
   "metadata": {},
   "outputs": [],
   "source": []
  },
  {
   "cell_type": "markdown",
   "id": "56a0e453-6a15-49b8-a8be-6482f9146bb6",
   "metadata": {
    "jp-MarkdownHeadingCollapsed": true
   },
   "source": [
    "## game ids"
   ]
  },
  {
   "cell_type": "code",
   "execution_count": 10,
   "id": "053387af-41e9-4aa8-9caa-90c18fd32b00",
   "metadata": {
    "execution": {
     "iopub.execute_input": "2023-05-27T19:57:27.256100Z",
     "iopub.status.busy": "2023-05-27T19:57:27.255638Z",
     "iopub.status.idle": "2023-05-27T19:57:27.270771Z",
     "shell.execute_reply": "2023-05-27T19:57:27.270057Z",
     "shell.execute_reply.started": "2023-05-27T19:57:27.256073Z"
    }
   },
   "outputs": [],
   "source": [
    "import collect_data.game_id_lists"
   ]
  },
  {
   "cell_type": "code",
   "execution_count": 11,
   "id": "bc70b9b4-898e-4451-9d86-afa34465eb84",
   "metadata": {
    "execution": {
     "iopub.execute_input": "2023-05-27T19:57:29.963183Z",
     "iopub.status.busy": "2023-05-27T19:57:29.962632Z",
     "iopub.status.idle": "2023-05-27T19:57:29.967221Z",
     "shell.execute_reply": "2023-05-27T19:57:29.966474Z",
     "shell.execute_reply.started": "2023-05-27T19:57:29.963154Z"
    }
   },
   "outputs": [],
   "source": [
    "_game_id_lists = collect_data.game_id_lists._game_id_lists"
   ]
  },
  {
   "cell_type": "code",
   "execution_count": 189,
   "id": "1348bd24-a51b-4b28-91bc-cd4b3532a568",
   "metadata": {
    "execution": {
     "iopub.execute_input": "2023-05-27T22:32:33.313439Z",
     "iopub.status.busy": "2023-05-27T22:32:33.312631Z",
     "iopub.status.idle": "2023-05-27T22:32:33.323051Z",
     "shell.execute_reply": "2023-05-27T22:32:33.322433Z",
     "shell.execute_reply.started": "2023-05-27T22:32:33.313374Z"
    }
   },
   "outputs": [
    {
     "data": {
      "text/plain": [
       "dict_keys([2021, 2020, 2019, 2018, 2017, 2016, 2015, 2014, 2013, 2012, 2022, 2011, 2023])"
      ]
     },
     "execution_count": 189,
     "metadata": {},
     "output_type": "execute_result"
    }
   ],
   "source": [
    "_game_id_lists.keys()"
   ]
  },
  {
   "cell_type": "code",
   "execution_count": null,
   "id": "4330546e-9997-41a8-bbb6-f7c37c999281",
   "metadata": {},
   "outputs": [],
   "source": [
    "'''\n",
    "collect_data.game_id_lists.get_game_id_list_year(2022)\n",
    "collect_data.game_id_lists.get_game_id_list_year(2021)\n",
    "collect_data.game_id_lists.get_game_id_list_year(2020)\n",
    "collect_data.game_id_lists.get_game_id_list_year(2019)\n",
    "collect_data.game_id_lists.get_game_id_list_year(2018)\n",
    "collect_data.game_id_lists.get_game_id_list_year(2017)\n",
    "collect_data.game_id_lists.get_game_id_list_year(2016)\n",
    "collect_data.game_id_lists.get_game_id_list_year(2015)\n",
    "collect_data.game_id_lists.get_game_id_list_year(2014)\n",
    "collect_data.game_id_lists.get_game_id_list_year(2013)\n",
    "collect_data.game_id_lists.get_game_id_list_year(2012)\n",
    "collect_data.game_id_lists.get_game_id_list_year(2011)\n",
    "#'''"
   ]
  },
  {
   "cell_type": "code",
   "execution_count": 185,
   "id": "791e598f-209e-4fb9-8f63-1a96b4b6a556",
   "metadata": {
    "execution": {
     "iopub.execute_input": "2023-05-27T22:31:34.336176Z",
     "iopub.status.busy": "2023-05-27T22:31:34.335787Z",
     "iopub.status.idle": "2023-05-27T22:31:34.341133Z",
     "shell.execute_reply": "2023-05-27T22:31:34.340527Z",
     "shell.execute_reply.started": "2023-05-27T22:31:34.336153Z"
    }
   },
   "outputs": [
    {
     "name": "stdout",
     "output_type": "stream",
     "text": [
      "getting game_id list 2011\n",
      "done getting game_id list 2011\n",
      "getting game_id list 2012\n",
      "done getting game_id list 2012\n",
      "getting game_id list 2013\n",
      "done getting game_id list 2013\n",
      "getting game_id list 2014\n",
      "done getting game_id list 2014\n",
      "getting game_id list 2015\n",
      "done getting game_id list 2015\n",
      "getting game_id list 2016\n",
      "done getting game_id list 2016\n",
      "getting game_id list 2017\n",
      "done getting game_id list 2017\n",
      "getting game_id list 2018\n",
      "done getting game_id list 2018\n",
      "getting game_id list 2019\n",
      "done getting game_id list 2019\n",
      "getting game_id list 2020\n",
      "done getting game_id list 2020\n",
      "getting game_id list 2021\n",
      "done getting game_id list 2021\n",
      "getting game_id list 2022\n",
      "done getting game_id list 2022\n"
     ]
    }
   ],
   "source": [
    "game_id_list_2011_2022 = sum([collect_data.game_id_lists.get_game_id_list_year(y) for y in range(2011, 2023)], [])"
   ]
  },
  {
   "cell_type": "code",
   "execution_count": 186,
   "id": "01c15d48-7831-4962-81fe-957b119f8fe3",
   "metadata": {
    "execution": {
     "iopub.execute_input": "2023-05-27T22:31:34.461342Z",
     "iopub.status.busy": "2023-05-27T22:31:34.460875Z",
     "iopub.status.idle": "2023-05-27T22:31:34.469391Z",
     "shell.execute_reply": "2023-05-27T22:31:34.468364Z",
     "shell.execute_reply.started": "2023-05-27T22:31:34.461319Z"
    }
   },
   "outputs": [
    {
     "data": {
      "text/plain": [
       "28937"
      ]
     },
     "execution_count": 186,
     "metadata": {},
     "output_type": "execute_result"
    }
   ],
   "source": [
    "len(game_id_list_2011_2022)"
   ]
  },
  {
   "cell_type": "code",
   "execution_count": 190,
   "id": "95e818b8-14a3-4cb8-98dd-dac805d25dea",
   "metadata": {
    "execution": {
     "iopub.execute_input": "2023-05-27T22:32:51.359687Z",
     "iopub.status.busy": "2023-05-27T22:32:51.359419Z",
     "iopub.status.idle": "2023-05-27T22:32:51.363523Z",
     "shell.execute_reply": "2023-05-27T22:32:51.362711Z",
     "shell.execute_reply.started": "2023-05-27T22:32:51.359668Z"
    }
   },
   "outputs": [
    {
     "name": "stdout",
     "output_type": "stream",
     "text": [
      "getting game_id list 2023\n",
      "done getting game_id list 2023\n"
     ]
    }
   ],
   "source": [
    "game_id_list_2023 = collect_data.game_id_lists.get_game_id_list_year(2023)"
   ]
  },
  {
   "cell_type": "code",
   "execution_count": 191,
   "id": "e2d1b856-c712-4d4b-bef1-9b1425e77ae1",
   "metadata": {
    "execution": {
     "iopub.execute_input": "2023-05-27T22:32:51.866309Z",
     "iopub.status.busy": "2023-05-27T22:32:51.865620Z",
     "iopub.status.idle": "2023-05-27T22:32:51.873982Z",
     "shell.execute_reply": "2023-05-27T22:32:51.873023Z",
     "shell.execute_reply.started": "2023-05-27T22:32:51.866279Z"
    }
   },
   "outputs": [
    {
     "data": {
      "text/plain": [
       "713"
      ]
     },
     "execution_count": 191,
     "metadata": {},
     "output_type": "execute_result"
    }
   ],
   "source": [
    "len(game_id_list_2023)"
   ]
  },
  {
   "cell_type": "markdown",
   "id": "aa3115cd-fe6f-4f6a-b42e-69ef9b767aa1",
   "metadata": {
    "jp-MarkdownHeadingCollapsed": true
   },
   "source": [
    "## boxscores"
   ]
  },
  {
   "cell_type": "code",
   "execution_count": 16,
   "id": "602971a5-54d3-48c8-8242-4206c9ac18d9",
   "metadata": {
    "execution": {
     "iopub.execute_input": "2023-05-27T19:59:06.797706Z",
     "iopub.status.busy": "2023-05-27T19:59:06.797243Z",
     "iopub.status.idle": "2023-05-27T19:59:06.800541Z",
     "shell.execute_reply": "2023-05-27T19:59:06.799914Z",
     "shell.execute_reply.started": "2023-05-27T19:59:06.797686Z"
    }
   },
   "outputs": [],
   "source": [
    "import collect_data.boxscores"
   ]
  },
  {
   "cell_type": "code",
   "execution_count": 20,
   "id": "219fdf21-7253-4124-b2eb-43afe59cbf9a",
   "metadata": {
    "execution": {
     "iopub.execute_input": "2023-05-27T19:59:36.488874Z",
     "iopub.status.busy": "2023-05-27T19:59:36.488488Z",
     "iopub.status.idle": "2023-05-27T20:00:43.548165Z",
     "shell.execute_reply": "2023-05-27T20:00:43.546131Z",
     "shell.execute_reply.started": "2023-05-27T19:59:36.488844Z"
    }
   },
   "outputs": [
    {
     "data": {
      "text/plain": [
       "<module 'collect_data.boxscores' from '/home/junlim/projects/mlb-props/collect_data/boxscores.py'>"
      ]
     },
     "execution_count": 20,
     "metadata": {},
     "output_type": "execute_result"
    }
   ],
   "source": [
    "importlib.reload(collect_data.boxscores)"
   ]
  },
  {
   "cell_type": "code",
   "execution_count": 25,
   "id": "6a919bd1-f788-4387-af5f-7953e390cbf8",
   "metadata": {
    "execution": {
     "iopub.execute_input": "2023-05-27T20:01:35.002020Z",
     "iopub.status.busy": "2023-05-27T20:01:35.000787Z",
     "iopub.status.idle": "2023-05-27T20:01:35.009842Z",
     "shell.execute_reply": "2023-05-27T20:01:35.007921Z",
     "shell.execute_reply.started": "2023-05-27T20:01:35.001907Z"
    }
   },
   "outputs": [],
   "source": [
    "_boxscores = collect_data.boxscores._boxscores"
   ]
  },
  {
   "cell_type": "code",
   "execution_count": 28,
   "id": "1a7a456e-9c39-4662-93fb-4f00372ae3b3",
   "metadata": {
    "execution": {
     "iopub.execute_input": "2023-05-27T20:01:48.484282Z",
     "iopub.status.busy": "2023-05-27T20:01:48.483680Z",
     "iopub.status.idle": "2023-05-27T20:01:48.491057Z",
     "shell.execute_reply": "2023-05-27T20:01:48.490481Z",
     "shell.execute_reply.started": "2023-05-27T20:01:48.484231Z"
    }
   },
   "outputs": [
    {
     "data": {
      "text/plain": [
       "33526"
      ]
     },
     "execution_count": 28,
     "metadata": {},
     "output_type": "execute_result"
    }
   ],
   "source": [
    "len(_boxscores)"
   ]
  },
  {
   "cell_type": "code",
   "execution_count": 22,
   "id": "b1c77be3-c465-40fc-9f0c-b94872b56378",
   "metadata": {
    "execution": {
     "iopub.execute_input": "2023-05-27T20:01:22.024229Z",
     "iopub.status.busy": "2023-05-27T20:01:22.023910Z",
     "iopub.status.idle": "2023-05-27T20:01:22.029667Z",
     "shell.execute_reply": "2023-05-27T20:01:22.029201Z",
     "shell.execute_reply.started": "2023-05-27T20:01:22.024209Z"
    }
   },
   "outputs": [
    {
     "data": {
      "text/plain": [
       "'\\ncollect_data.boxscores.ingest_boxscore_year(2022)\\ncollect_data.boxscores.ingest_boxscore_year(2021)\\ncollect_data.boxscores.ingest_boxscore_year(2020)\\ncollect_data.boxscores.ingest_boxscore_year(2019)\\ncollect_data.boxscores.ingest_boxscore_year(2018)\\ncollect_data.boxscores.ingest_boxscore_year(2017)\\ncollect_data.boxscores.ingest_boxscore_year(2016)\\ncollect_data.boxscores.ingest_boxscore_year(2015)\\ncollect_data.boxscores.ingest_boxscore_year(2014)\\ncollect_data.boxscores.ingest_boxscore_year(2013)\\ncollect_data.boxscores.ingest_boxscore_year(2012)\\ncollect_data.boxscores.ingest_boxscore_year(2011)\\n#'"
      ]
     },
     "execution_count": 22,
     "metadata": {},
     "output_type": "execute_result"
    }
   ],
   "source": [
    "'''\n",
    "collect_data.boxscores.ingest_boxscore_year(2022)\n",
    "collect_data.boxscores.ingest_boxscore_year(2021)\n",
    "collect_data.boxscores.ingest_boxscore_year(2020)\n",
    "collect_data.boxscores.ingest_boxscore_year(2019)\n",
    "collect_data.boxscores.ingest_boxscore_year(2018)\n",
    "collect_data.boxscores.ingest_boxscore_year(2017)\n",
    "collect_data.boxscores.ingest_boxscore_year(2016)\n",
    "collect_data.boxscores.ingest_boxscore_year(2015)\n",
    "collect_data.boxscores.ingest_boxscore_year(2014)\n",
    "collect_data.boxscores.ingest_boxscore_year(2013)\n",
    "collect_data.boxscores.ingest_boxscore_year(2012)\n",
    "collect_data.boxscores.ingest_boxscore_year(2011)\n",
    "#'''"
   ]
  },
  {
   "cell_type": "markdown",
   "id": "27dc600c-e449-4d0a-8398-d2908755753f",
   "metadata": {
    "jp-MarkdownHeadingCollapsed": true
   },
   "source": [
    "## player_stats"
   ]
  },
  {
   "cell_type": "code",
   "execution_count": 31,
   "id": "d0544f27-cc97-4f87-b278-64d1372f64b2",
   "metadata": {
    "execution": {
     "iopub.execute_input": "2023-05-27T20:10:05.556230Z",
     "iopub.status.busy": "2023-05-27T20:10:05.555650Z",
     "iopub.status.idle": "2023-05-27T20:10:17.766840Z",
     "shell.execute_reply": "2023-05-27T20:10:17.766063Z",
     "shell.execute_reply.started": "2023-05-27T20:10:05.556195Z"
    }
   },
   "outputs": [],
   "source": [
    "import collect_data.player_stat"
   ]
  },
  {
   "cell_type": "code",
   "execution_count": 32,
   "id": "372e2135-6103-4df2-b88a-4840c078ec9f",
   "metadata": {
    "execution": {
     "iopub.execute_input": "2023-05-27T20:10:17.767851Z",
     "iopub.status.busy": "2023-05-27T20:10:17.767738Z",
     "iopub.status.idle": "2023-05-27T20:10:17.770552Z",
     "shell.execute_reply": "2023-05-27T20:10:17.769987Z",
     "shell.execute_reply.started": "2023-05-27T20:10:17.767841Z"
    }
   },
   "outputs": [],
   "source": [
    "_player_stats = collect_data.player_stat._player_stats"
   ]
  },
  {
   "cell_type": "code",
   "execution_count": 33,
   "id": "ac82d59d-7592-4413-a721-72cc7de13f9d",
   "metadata": {
    "execution": {
     "iopub.execute_input": "2023-05-27T20:18:04.888524Z",
     "iopub.status.busy": "2023-05-27T20:18:04.885759Z",
     "iopub.status.idle": "2023-05-27T20:18:04.900619Z",
     "shell.execute_reply": "2023-05-27T20:18:04.898563Z",
     "shell.execute_reply.started": "2023-05-27T20:18:04.888374Z"
    }
   },
   "outputs": [
    {
     "data": {
      "text/plain": [
       "5268"
      ]
     },
     "execution_count": 33,
     "metadata": {},
     "output_type": "execute_result"
    }
   ],
   "source": [
    "len(_player_stats)"
   ]
  },
  {
   "cell_type": "markdown",
   "id": "fc1aa370-6534-400a-b714-5568cb1ad2ae",
   "metadata": {},
   "source": [
    "player stat is collected as part of game matchup fetch"
   ]
  },
  {
   "cell_type": "markdown",
   "id": "98d28ebd-30fd-4961-8713-0601a882469b",
   "metadata": {
    "jp-MarkdownHeadingCollapsed": true
   },
   "source": [
    "## venue_game_temperatures"
   ]
  },
  {
   "cell_type": "code",
   "execution_count": 166,
   "id": "331b899d-bdfa-4447-b6d8-a00e85076e1f",
   "metadata": {
    "execution": {
     "iopub.execute_input": "2023-05-27T21:58:43.459572Z",
     "iopub.status.busy": "2023-05-27T21:58:43.458931Z",
     "iopub.status.idle": "2023-05-27T21:58:43.462852Z",
     "shell.execute_reply": "2023-05-27T21:58:43.462119Z",
     "shell.execute_reply.started": "2023-05-27T21:58:43.459542Z"
    }
   },
   "outputs": [],
   "source": [
    "import collect_data.venue_game_temperatures"
   ]
  },
  {
   "cell_type": "code",
   "execution_count": 167,
   "id": "8410fc8f-bb4f-4a2c-85a2-af2181dc20d7",
   "metadata": {
    "execution": {
     "iopub.execute_input": "2023-05-27T21:58:48.035807Z",
     "iopub.status.busy": "2023-05-27T21:58:48.034502Z",
     "iopub.status.idle": "2023-05-27T21:58:48.065919Z",
     "shell.execute_reply": "2023-05-27T21:58:48.064645Z",
     "shell.execute_reply.started": "2023-05-27T21:58:48.035721Z"
    }
   },
   "outputs": [
    {
     "data": {
      "text/plain": [
       "<module 'collect_data.venue_game_temperatures' from '/home/junlim/projects/mlb-props/collect_data/venue_game_temperatures.py'>"
      ]
     },
     "execution_count": 167,
     "metadata": {},
     "output_type": "execute_result"
    }
   ],
   "source": [
    "importlib.reload(collect_data.venue_game_temperatures)"
   ]
  },
  {
   "cell_type": "code",
   "execution_count": 168,
   "id": "cd86056a-88ff-432a-bff3-1133c8391ee1",
   "metadata": {
    "execution": {
     "iopub.execute_input": "2023-05-27T21:58:54.939685Z",
     "iopub.status.busy": "2023-05-27T21:58:54.939342Z",
     "iopub.status.idle": "2023-05-27T21:58:54.943632Z",
     "shell.execute_reply": "2023-05-27T21:58:54.942989Z",
     "shell.execute_reply.started": "2023-05-27T21:58:54.939664Z"
    }
   },
   "outputs": [],
   "source": [
    "_venue_game_temperatures = collect_data.venue_game_temperatures._venue_game_temperatures"
   ]
  },
  {
   "cell_type": "code",
   "execution_count": 169,
   "id": "f1393db0-03e6-40b5-91d5-8e4f29e5a625",
   "metadata": {
    "execution": {
     "iopub.execute_input": "2023-05-27T21:58:57.494120Z",
     "iopub.status.busy": "2023-05-27T21:58:57.493737Z",
     "iopub.status.idle": "2023-05-27T21:58:57.498030Z",
     "shell.execute_reply": "2023-05-27T21:58:57.497551Z",
     "shell.execute_reply.started": "2023-05-27T21:58:57.494093Z"
    }
   },
   "outputs": [
    {
     "data": {
      "text/plain": [
       "22288"
      ]
     },
     "execution_count": 169,
     "metadata": {},
     "output_type": "execute_result"
    }
   ],
   "source": [
    "len(_venue_game_temperatures)"
   ]
  },
  {
   "cell_type": "code",
   "execution_count": null,
   "id": "b8d4dfab-b771-409d-94ed-d34c1f6abf9b",
   "metadata": {},
   "outputs": [],
   "source": []
  },
  {
   "cell_type": "markdown",
   "id": "f0b9a81b-9331-4918-afeb-17016d5ae799",
   "metadata": {
    "jp-MarkdownHeadingCollapsed": true
   },
   "source": [
    "## game matchups"
   ]
  },
  {
   "cell_type": "code",
   "execution_count": 160,
   "id": "3c09a979-ea0d-4266-b666-dec7d30fa3a8",
   "metadata": {
    "execution": {
     "iopub.execute_input": "2023-05-27T21:56:18.673969Z",
     "iopub.status.busy": "2023-05-27T21:56:18.673534Z",
     "iopub.status.idle": "2023-05-27T21:56:18.677279Z",
     "shell.execute_reply": "2023-05-27T21:56:18.676681Z",
     "shell.execute_reply.started": "2023-05-27T21:56:18.673935Z"
    }
   },
   "outputs": [],
   "source": [
    "import collect_data.game_matchup"
   ]
  },
  {
   "cell_type": "code",
   "execution_count": 198,
   "id": "ef3b2adb-b238-4398-81be-f292e08890fc",
   "metadata": {
    "execution": {
     "iopub.execute_input": "2023-05-27T22:37:38.400652Z",
     "iopub.status.busy": "2023-05-27T22:37:38.399767Z",
     "iopub.status.idle": "2023-05-27T22:37:41.867353Z",
     "shell.execute_reply": "2023-05-27T22:37:41.866530Z",
     "shell.execute_reply.started": "2023-05-27T22:37:38.400587Z"
    }
   },
   "outputs": [
    {
     "data": {
      "text/plain": [
       "<module 'collect_data.game_matchup' from '/home/junlim/projects/mlb-props/collect_data/game_matchup.py'>"
      ]
     },
     "execution_count": 198,
     "metadata": {},
     "output_type": "execute_result"
    }
   ],
   "source": [
    "importlib.reload(collect_data.game_matchup)"
   ]
  },
  {
   "cell_type": "code",
   "execution_count": 86,
   "id": "39be47e1-4e82-41c9-ae37-acde791fa6c5",
   "metadata": {
    "execution": {
     "iopub.execute_input": "2023-05-27T20:28:39.450934Z",
     "iopub.status.busy": "2023-05-27T20:28:39.450695Z",
     "iopub.status.idle": "2023-05-27T20:28:40.140426Z",
     "shell.execute_reply": "2023-05-27T20:28:40.139098Z",
     "shell.execute_reply.started": "2023-05-27T20:28:39.450917Z"
    }
   },
   "outputs": [],
   "source": [
    "_game_matchups = collect_data.game_matchup._game_matchups"
   ]
  },
  {
   "cell_type": "code",
   "execution_count": 87,
   "id": "e005c3fb-1fec-454f-af7e-9d5a875f5453",
   "metadata": {
    "execution": {
     "iopub.execute_input": "2023-05-27T20:28:40.156099Z",
     "iopub.status.busy": "2023-05-27T20:28:40.155637Z",
     "iopub.status.idle": "2023-05-27T20:28:40.217361Z",
     "shell.execute_reply": "2023-05-27T20:28:40.213575Z",
     "shell.execute_reply.started": "2023-05-27T20:28:40.156075Z"
    }
   },
   "outputs": [
    {
     "data": {
      "text/plain": [
       "21770"
      ]
     },
     "execution_count": 87,
     "metadata": {},
     "output_type": "execute_result"
    }
   ],
   "source": [
    "len(_game_matchups)"
   ]
  },
  {
   "cell_type": "code",
   "execution_count": 23,
   "id": "b5b35973-3999-461b-88b5-121127232e7c",
   "metadata": {
    "execution": {
     "iopub.execute_input": "2023-05-25T02:02:55.507454Z",
     "iopub.status.busy": "2023-05-25T02:02:55.507277Z",
     "iopub.status.idle": "2023-05-25T02:02:55.512018Z",
     "shell.execute_reply": "2023-05-25T02:02:55.510967Z",
     "shell.execute_reply.started": "2023-05-25T02:02:55.507443Z"
    }
   },
   "outputs": [
    {
     "data": {
      "text/plain": [
       "'\\ningest_matchup_year(2022)\\ningest_matchup_year(2021)\\ningest_matchup_year(2020)\\ningest_matchup_year(2019)\\ningest_matchup_year(2018)\\ningest_matchup_year(2017)\\ningest_matchup_year(2016)\\ningest_matchup_year(2015)\\ningest_matchup_year(2014)\\ningest_matchup_year(2013)\\ningest_matchup_year(2012)\\ningest_matchup_year(2011)\\n#'"
      ]
     },
     "execution_count": 23,
     "metadata": {},
     "output_type": "execute_result"
    }
   ],
   "source": [
    "'''\n",
    "collect_data.game_matchup.ingest_matchup_year(2022)\n",
    "collect_data.game_matchup.ingest_matchup_year(2021)\n",
    "collect_data.game_matchup.ingest_matchup_year(2020)\n",
    "collect_data.game_matchup.ingest_matchup_year(2019)\n",
    "collect_data.game_matchup.ingest_matchup_year(2018)\n",
    "collect_data.game_matchup.ingest_matchup_year(2017)\n",
    "collect_data.game_matchup.ingest_matchup_year(2016)\n",
    "collect_data.game_matchup.ingest_matchup_year(2015)\n",
    "collect_data.game_matchup.ingest_matchup_year(2014)\n",
    "collect_data.game_matchup.ingest_matchup_year(2013)\n",
    "collect_data.game_matchup.ingest_matchup_year(2012)\n",
    "collect_data.game_matchup.ingest_matchup_year(2011)\n",
    "#'''"
   ]
  },
  {
   "cell_type": "code",
   "execution_count": null,
   "id": "636ba869-4123-412e-9fdd-5efa26e0a73c",
   "metadata": {},
   "outputs": [],
   "source": []
  },
  {
   "cell_type": "markdown",
   "id": "ce6d5dff-d495-47da-9ea6-e2421ae8e5ae",
   "metadata": {},
   "source": [
    "# construct match up dataset pre 2023"
   ]
  },
  {
   "cell_type": "code",
   "execution_count": null,
   "id": "d90347cf-d325-493b-8d1f-1818751fc69c",
   "metadata": {},
   "outputs": [],
   "source": [
    "df_game_matchup_total = collect_data.game_matchup.get_df_game_matchup(game_id_list_2011_2022 + game_id_list_2023)"
   ]
  },
  {
   "cell_type": "code",
   "execution_count": 250,
   "id": "285290a0-7da3-4178-ad2e-add03aee4ed5",
   "metadata": {
    "execution": {
     "iopub.execute_input": "2023-05-27T23:36:28.774348Z",
     "iopub.status.busy": "2023-05-27T23:36:28.774001Z",
     "iopub.status.idle": "2023-05-27T23:36:28.781259Z",
     "shell.execute_reply": "2023-05-27T23:36:28.780805Z",
     "shell.execute_reply.started": "2023-05-27T23:36:28.774324Z"
    }
   },
   "outputs": [
    {
     "name": "stdout",
     "output_type": "stream",
     "text": [
      "Unique Games: 22455\n"
     ]
    }
   ],
   "source": [
    "print(f\"Unique Games: {len(df_game_matchup_total['game_id'].drop_duplicates())}\")"
   ]
  },
  {
   "cell_type": "code",
   "execution_count": 251,
   "id": "d16cd371-74f3-46bc-9d21-0b67ac062a58",
   "metadata": {
    "execution": {
     "iopub.execute_input": "2023-05-27T23:36:28.932002Z",
     "iopub.status.busy": "2023-05-27T23:36:28.931712Z",
     "iopub.status.idle": "2023-05-27T23:36:28.938867Z",
     "shell.execute_reply": "2023-05-27T23:36:28.937512Z",
     "shell.execute_reply.started": "2023-05-27T23:36:28.931986Z"
    }
   },
   "outputs": [
    {
     "data": {
      "text/plain": [
       "320540"
      ]
     },
     "execution_count": 251,
     "metadata": {},
     "output_type": "execute_result"
    }
   ],
   "source": [
    "len(df_game_matchup_total)"
   ]
  },
  {
   "cell_type": "code",
   "execution_count": 261,
   "id": "60f4d934-ad9b-4376-b32b-724565a61b5e",
   "metadata": {
    "execution": {
     "iopub.execute_input": "2023-05-27T23:38:45.101071Z",
     "iopub.status.busy": "2023-05-27T23:38:45.100375Z",
     "iopub.status.idle": "2023-05-27T23:38:45.803978Z",
     "shell.execute_reply": "2023-05-27T23:38:45.803247Z",
     "shell.execute_reply.started": "2023-05-27T23:38:45.100995Z"
    }
   },
   "outputs": [],
   "source": [
    "df_game_matchup_total.to_pickle('collect_data/df_game_matchup_total.pkl')"
   ]
  },
  {
   "cell_type": "markdown",
   "id": "e30abebe-829c-4085-97fc-b7cf05a8a80e",
   "metadata": {},
   "source": [
    "# construct match up dataset for 2023"
   ]
  },
  {
   "cell_type": "code",
   "execution_count": null,
   "id": "edbc6314-f865-4a3d-bec7-438138f37c50",
   "metadata": {},
   "outputs": [],
   "source": [
    "df_game_matchup_2023 = collect_data.game_matchup.get_df_game_matchup(game_id_list_2023)"
   ]
  },
  {
   "cell_type": "code",
   "execution_count": 246,
   "id": "afc73245-8171-4ad3-9812-c7783c4b4e9b",
   "metadata": {
    "execution": {
     "iopub.execute_input": "2023-05-27T23:35:55.429078Z",
     "iopub.status.busy": "2023-05-27T23:35:55.427954Z",
     "iopub.status.idle": "2023-05-27T23:35:55.440322Z",
     "shell.execute_reply": "2023-05-27T23:35:55.439026Z",
     "shell.execute_reply.started": "2023-05-27T23:35:55.429039Z"
    }
   },
   "outputs": [
    {
     "name": "stdout",
     "output_type": "stream",
     "text": [
      "Unique Games: 685\n"
     ]
    }
   ],
   "source": [
    "print(f\"Unique Games: {len(df_game_matchup_2023['game_id'].drop_duplicates())}\")"
   ]
  },
  {
   "cell_type": "code",
   "execution_count": 247,
   "id": "94109d77-88fe-41fa-9feb-62660bf5d43b",
   "metadata": {
    "execution": {
     "iopub.execute_input": "2023-05-27T23:35:56.682844Z",
     "iopub.status.busy": "2023-05-27T23:35:56.682265Z",
     "iopub.status.idle": "2023-05-27T23:35:56.687872Z",
     "shell.execute_reply": "2023-05-27T23:35:56.687361Z",
     "shell.execute_reply.started": "2023-05-27T23:35:56.682801Z"
    }
   },
   "outputs": [
    {
     "data": {
      "text/plain": [
       "10618"
      ]
     },
     "execution_count": 247,
     "metadata": {},
     "output_type": "execute_result"
    }
   ],
   "source": [
    "len(df_game_matchup_2023)"
   ]
  },
  {
   "cell_type": "code",
   "execution_count": 259,
   "id": "dae86bec-d98d-49c9-9cfa-d3b987739788",
   "metadata": {
    "execution": {
     "iopub.execute_input": "2023-05-27T23:38:11.240359Z",
     "iopub.status.busy": "2023-05-27T23:38:11.240037Z",
     "iopub.status.idle": "2023-05-27T23:38:11.256624Z",
     "shell.execute_reply": "2023-05-27T23:38:11.256037Z",
     "shell.execute_reply.started": "2023-05-27T23:38:11.240338Z"
    }
   },
   "outputs": [],
   "source": [
    "df_game_matchup_2023.to_pickle('collect_data/df_game_matchup_2023.pkl')"
   ]
  },
  {
   "cell_type": "code",
   "execution_count": null,
   "id": "db370cd8-6afb-4251-a55e-355063a59b78",
   "metadata": {},
   "outputs": [],
   "source": []
  }
 ],
 "metadata": {
  "kernelspec": {
   "display_name": "Python 3 (ipykernel)",
   "language": "python",
   "name": "python3"
  },
  "language_info": {
   "codemirror_mode": {
    "name": "ipython",
    "version": 3
   },
   "file_extension": ".py",
   "mimetype": "text/x-python",
   "name": "python",
   "nbconvert_exporter": "python",
   "pygments_lexer": "ipython3",
   "version": "3.10.6"
  }
 },
 "nbformat": 4,
 "nbformat_minor": 5
}
