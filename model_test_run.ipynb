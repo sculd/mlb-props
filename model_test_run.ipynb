{
 "cells": [
  {
   "cell_type": "markdown",
   "metadata": {
    "id": "AL_lGnkTE7af"
   },
   "source": [
    "**Import Packages**"
   ]
  },
  {
   "cell_type": "code",
   "execution_count": 1,
   "metadata": {
    "colab": {
     "base_uri": "https://localhost:8080/"
    },
    "execution": {
     "iopub.execute_input": "2023-07-07T21:38:28.068289Z",
     "iopub.status.busy": "2023-07-07T21:38:28.068044Z",
     "iopub.status.idle": "2023-07-07T21:38:30.151637Z",
     "shell.execute_reply": "2023-07-07T21:38:30.150908Z",
     "shell.execute_reply.started": "2023-07-07T21:38:28.068271Z"
    },
    "id": "N3dnZwMJFEe5",
    "outputId": "c36164a7-3489-49af-a3a4-e69dedc27255",
    "tags": []
   },
   "outputs": [],
   "source": [
    "import pycaret\n",
    "import pandas as pd\n",
    "import numpy as np\n",
    "import sys\n",
    "\n",
    "from pycaret import classification\n",
    "from datetime import datetime\n",
    "import model.common\n",
    "import importlib"
   ]
  },
  {
   "cell_type": "markdown",
   "metadata": {
    "id": "Bx0rUFJ1FraV"
   },
   "source": [
    "**Import Data**"
   ]
  },
  {
   "cell_type": "code",
   "execution_count": 2,
   "metadata": {
    "execution": {
     "iopub.execute_input": "2023-07-07T21:38:30.152478Z",
     "iopub.status.busy": "2023-07-07T21:38:30.152354Z",
     "iopub.status.idle": "2023-07-07T21:38:30.155232Z",
     "shell.execute_reply": "2023-07-07T21:38:30.154800Z",
     "shell.execute_reply.started": "2023-07-07T21:38:30.152466Z"
    }
   },
   "outputs": [],
   "source": [
    "from static_data.load_static_data import *"
   ]
  },
  {
   "cell_type": "code",
   "execution_count": 3,
   "metadata": {
    "execution": {
     "iopub.execute_input": "2023-07-07T21:38:30.155886Z",
     "iopub.status.busy": "2023-07-07T21:38:30.155732Z",
     "iopub.status.idle": "2023-07-07T21:38:30.171028Z",
     "shell.execute_reply": "2023-07-07T21:38:30.170181Z",
     "shell.execute_reply.started": "2023-07-07T21:38:30.155872Z"
    }
   },
   "outputs": [],
   "source": [
    "collect_data_Base_dir = 'collect_data'"
   ]
  },
  {
   "cell_type": "code",
   "execution_count": 86,
   "metadata": {
    "execution": {
     "iopub.execute_input": "2023-07-09T02:40:35.987019Z",
     "iopub.status.busy": "2023-07-09T02:40:35.982700Z",
     "iopub.status.idle": "2023-07-09T02:40:37.996632Z",
     "shell.execute_reply": "2023-07-09T02:40:37.995435Z",
     "shell.execute_reply.started": "2023-07-09T02:40:35.986292Z"
    }
   },
   "outputs": [
    {
     "name": "stdout",
     "output_type": "stream",
     "text": [
      "326057\n"
     ]
    }
   ],
   "source": [
    "df_game_matchup_total = pd.read_pickle(f'{collect_data_Base_dir}/df_game_matchup_total.pkl')\n",
    "print(len(df_game_matchup_total))"
   ]
  },
  {
   "cell_type": "code",
   "execution_count": 91,
   "metadata": {
    "execution": {
     "iopub.execute_input": "2023-07-09T02:42:41.065565Z",
     "iopub.status.busy": "2023-07-09T02:42:41.064769Z",
     "iopub.status.idle": "2023-07-09T02:42:41.423808Z",
     "shell.execute_reply": "2023-07-09T02:42:41.423048Z",
     "shell.execute_reply.started": "2023-07-09T02:42:41.065502Z"
    }
   },
   "outputs": [],
   "source": [
    "df_game_matchup_train = df_game_matchup_total[(df_game_matchup_total.game_date > \"2012-04-01\") & (df_game_matchup_total.game_date < \"2022-12-01\")]\n",
    "df_game_matchup_test = df_game_matchup_total[(df_game_matchup_total.game_date > \"2022-12-01\")]"
   ]
  },
  {
   "cell_type": "markdown",
   "metadata": {
    "id": "9P_9ThrHGyPd"
   },
   "source": [
    "**Load Model**"
   ]
  },
  {
   "cell_type": "code",
   "execution_count": null,
   "metadata": {},
   "outputs": [],
   "source": [
    "feature_columns, target_column, model_file_name = model.common.features_1hits_recorded, model.common.target_1hits_recorded, model.common.model_1hits_file_name"
   ]
  },
  {
   "cell_type": "code",
   "execution_count": 52,
   "metadata": {
    "execution": {
     "iopub.execute_input": "2023-07-08T03:57:51.040951Z",
     "iopub.status.busy": "2023-07-08T03:57:51.040069Z",
     "iopub.status.idle": "2023-07-08T03:57:51.049598Z",
     "shell.execute_reply": "2023-07-08T03:57:51.048037Z",
     "shell.execute_reply.started": "2023-07-08T03:57:51.040892Z"
    }
   },
   "outputs": [],
   "source": [
    "feature_columns_list = [model.common.features_1hits_recorded, model.common.features_2hits_recorded, model.common.features_1homeruns_recorded, model.common.features_1hstrikeouts_recorded, model.common.features_2hstrikeouts_recorded, model.common.features_1runs_recorded, model.common.features_2runs_recorded, model.common.features_1stolenbases_recorded, model.common.features_2stolenbases_recorded]\n",
    "target_column_list = [model.common.target_1hits_recorded, model.common.target_2hits_recorded, model.common.target_1homeruns_recorded, model.common.target_1hstrikeouts_recorded, model.common.target_2hstrikeouts_recorded, model.common.target_1runs_recorded, model.common.target_2runs_recorded, model.common.target_1stolenbases_recorded, model.common.target_2stolenbases_recorded]\n",
    "model_file_name_list = [model.common.model_1hits_file_name, model.common.model_2hits_file_name, model.common.model_1homeruns_file_name, model.common.model_1hstrikeouts_file_name, model.common.model_2hstrikeouts_file_name, model.common.model_1runs_file_name ,model.common.model_2runs_file_name ,model.common.model_1stolenbases_file_name, model.common.model_2stolenbases_file_name]"
   ]
  },
  {
   "cell_type": "code",
   "execution_count": null,
   "metadata": {},
   "outputs": [],
   "source": []
  },
  {
   "cell_type": "code",
   "execution_count": null,
   "metadata": {},
   "outputs": [],
   "source": []
  },
  {
   "cell_type": "code",
   "execution_count": 104,
   "metadata": {
    "execution": {
     "iopub.execute_input": "2023-07-09T02:48:36.608362Z",
     "iopub.status.busy": "2023-07-09T02:48:36.608082Z",
     "iopub.status.idle": "2023-07-09T02:48:36.611848Z",
     "shell.execute_reply": "2023-07-09T02:48:36.611354Z",
     "shell.execute_reply.started": "2023-07-09T02:48:36.608346Z"
    }
   },
   "outputs": [
    {
     "data": {
      "text/plain": [
       "['pitching_stolenBases',\n",
       " 'pitching_stolenBasePercentage',\n",
       " 'batting_boxscore_stolenBases',\n",
       " 'batting_1stolenBases_recorded',\n",
       " 'batting_2stolenBases_recorded',\n",
       " 'batting_stolenBases',\n",
       " 'batting_stolenBasePercentage']"
      ]
     },
     "execution_count": 104,
     "metadata": {},
     "output_type": "execute_result"
    }
   ],
   "source": [
    "[c for c in df_game_matchup_total.columns if 'stolen' in c]"
   ]
  },
  {
   "cell_type": "code",
   "execution_count": 105,
   "metadata": {
    "execution": {
     "iopub.execute_input": "2023-07-09T02:48:43.434050Z",
     "iopub.status.busy": "2023-07-09T02:48:43.433720Z",
     "iopub.status.idle": "2023-07-09T02:48:43.451606Z",
     "shell.execute_reply": "2023-07-09T02:48:43.450887Z",
     "shell.execute_reply.started": "2023-07-09T02:48:43.434028Z"
    },
    "scrolled": true
   },
   "outputs": [
    {
     "data": {
      "text/html": [
       "<div>\n",
       "<style scoped>\n",
       "    .dataframe tbody tr th:only-of-type {\n",
       "        vertical-align: middle;\n",
       "    }\n",
       "\n",
       "    .dataframe tbody tr th {\n",
       "        vertical-align: top;\n",
       "    }\n",
       "\n",
       "    .dataframe thead th {\n",
       "        text-align: right;\n",
       "    }\n",
       "</style>\n",
       "<table border=\"1\" class=\"dataframe\">\n",
       "  <thead>\n",
       "    <tr style=\"text-align: right;\">\n",
       "      <th></th>\n",
       "      <th>pitching_name</th>\n",
       "      <th>batting_name</th>\n",
       "      <th>batting_boxscore_hits</th>\n",
       "      <th>batting_1hits_recorded</th>\n",
       "      <th>batting_2hits_recorded</th>\n",
       "      <th>batting_boxscore_runs</th>\n",
       "      <th>batting_1runs_recorded</th>\n",
       "      <th>batting_1stolenBases_recorded</th>\n",
       "      <th>batting_2stolenBases_recorded</th>\n",
       "    </tr>\n",
       "  </thead>\n",
       "  <tbody>\n",
       "    <tr>\n",
       "      <th>0</th>\n",
       "      <td>Brett Myers</td>\n",
       "      <td>Wilson Valdez</td>\n",
       "      <td>2</td>\n",
       "      <td>1</td>\n",
       "      <td>1</td>\n",
       "      <td>0</td>\n",
       "      <td>0</td>\n",
       "      <td>0</td>\n",
       "      <td>0</td>\n",
       "    </tr>\n",
       "    <tr>\n",
       "      <th>1</th>\n",
       "      <td>Brett Myers</td>\n",
       "      <td>Ryan Howard</td>\n",
       "      <td>2</td>\n",
       "      <td>1</td>\n",
       "      <td>1</td>\n",
       "      <td>1</td>\n",
       "      <td>1</td>\n",
       "      <td>0</td>\n",
       "      <td>0</td>\n",
       "    </tr>\n",
       "    <tr>\n",
       "      <th>2</th>\n",
       "      <td>Brett Myers</td>\n",
       "      <td>Shane Victorino</td>\n",
       "      <td>0</td>\n",
       "      <td>0</td>\n",
       "      <td>0</td>\n",
       "      <td>0</td>\n",
       "      <td>0</td>\n",
       "      <td>0</td>\n",
       "      <td>0</td>\n",
       "    </tr>\n",
       "    <tr>\n",
       "      <th>3</th>\n",
       "      <td>Brett Myers</td>\n",
       "      <td>John Mayberry Jr.</td>\n",
       "      <td>1</td>\n",
       "      <td>1</td>\n",
       "      <td>0</td>\n",
       "      <td>0</td>\n",
       "      <td>0</td>\n",
       "      <td>0</td>\n",
       "      <td>0</td>\n",
       "    </tr>\n",
       "    <tr>\n",
       "      <th>4</th>\n",
       "      <td>Brett Myers</td>\n",
       "      <td>Jimmy Rollins</td>\n",
       "      <td>2</td>\n",
       "      <td>1</td>\n",
       "      <td>1</td>\n",
       "      <td>2</td>\n",
       "      <td>1</td>\n",
       "      <td>1</td>\n",
       "      <td>0</td>\n",
       "    </tr>\n",
       "    <tr>\n",
       "      <th>...</th>\n",
       "      <td>...</td>\n",
       "      <td>...</td>\n",
       "      <td>...</td>\n",
       "      <td>...</td>\n",
       "      <td>...</td>\n",
       "      <td>...</td>\n",
       "      <td>...</td>\n",
       "      <td>...</td>\n",
       "      <td>...</td>\n",
       "    </tr>\n",
       "    <tr>\n",
       "      <th>326052</th>\n",
       "      <td>Luke Weaver</td>\n",
       "      <td>Dominic Smith</td>\n",
       "      <td>1</td>\n",
       "      <td>1</td>\n",
       "      <td>0</td>\n",
       "      <td>0</td>\n",
       "      <td>0</td>\n",
       "      <td>0</td>\n",
       "      <td>0</td>\n",
       "    </tr>\n",
       "    <tr>\n",
       "      <th>326053</th>\n",
       "      <td>Luke Weaver</td>\n",
       "      <td>Keibert Ruiz</td>\n",
       "      <td>1</td>\n",
       "      <td>1</td>\n",
       "      <td>0</td>\n",
       "      <td>0</td>\n",
       "      <td>0</td>\n",
       "      <td>0</td>\n",
       "      <td>0</td>\n",
       "    </tr>\n",
       "    <tr>\n",
       "      <th>326054</th>\n",
       "      <td>Luke Weaver</td>\n",
       "      <td>Lane Thomas</td>\n",
       "      <td>2</td>\n",
       "      <td>1</td>\n",
       "      <td>1</td>\n",
       "      <td>0</td>\n",
       "      <td>0</td>\n",
       "      <td>0</td>\n",
       "      <td>0</td>\n",
       "    </tr>\n",
       "    <tr>\n",
       "      <th>326055</th>\n",
       "      <td>Luke Weaver</td>\n",
       "      <td>Derek Hill</td>\n",
       "      <td>1</td>\n",
       "      <td>1</td>\n",
       "      <td>0</td>\n",
       "      <td>0</td>\n",
       "      <td>0</td>\n",
       "      <td>0</td>\n",
       "      <td>0</td>\n",
       "    </tr>\n",
       "    <tr>\n",
       "      <th>326056</th>\n",
       "      <td>Luke Weaver</td>\n",
       "      <td>Luis Garcia</td>\n",
       "      <td>0</td>\n",
       "      <td>0</td>\n",
       "      <td>0</td>\n",
       "      <td>0</td>\n",
       "      <td>0</td>\n",
       "      <td>0</td>\n",
       "      <td>0</td>\n",
       "    </tr>\n",
       "  </tbody>\n",
       "</table>\n",
       "<p>326057 rows × 9 columns</p>\n",
       "</div>"
      ],
      "text/plain": [
       "       pitching_name       batting_name  batting_boxscore_hits  \\\n",
       "0        Brett Myers      Wilson Valdez                      2   \n",
       "1        Brett Myers        Ryan Howard                      2   \n",
       "2        Brett Myers    Shane Victorino                      0   \n",
       "3        Brett Myers  John Mayberry Jr.                      1   \n",
       "4        Brett Myers      Jimmy Rollins                      2   \n",
       "...              ...                ...                    ...   \n",
       "326052   Luke Weaver      Dominic Smith                      1   \n",
       "326053   Luke Weaver       Keibert Ruiz                      1   \n",
       "326054   Luke Weaver        Lane Thomas                      2   \n",
       "326055   Luke Weaver         Derek Hill                      1   \n",
       "326056   Luke Weaver        Luis Garcia                      0   \n",
       "\n",
       "        batting_1hits_recorded  batting_2hits_recorded  batting_boxscore_runs  \\\n",
       "0                            1                       1                      0   \n",
       "1                            1                       1                      1   \n",
       "2                            0                       0                      0   \n",
       "3                            1                       0                      0   \n",
       "4                            1                       1                      2   \n",
       "...                        ...                     ...                    ...   \n",
       "326052                       1                       0                      0   \n",
       "326053                       1                       0                      0   \n",
       "326054                       1                       1                      0   \n",
       "326055                       1                       0                      0   \n",
       "326056                       0                       0                      0   \n",
       "\n",
       "        batting_1runs_recorded  batting_1stolenBases_recorded  \\\n",
       "0                            0                              0   \n",
       "1                            1                              0   \n",
       "2                            0                              0   \n",
       "3                            0                              0   \n",
       "4                            1                              1   \n",
       "...                        ...                            ...   \n",
       "326052                       0                              0   \n",
       "326053                       0                              0   \n",
       "326054                       0                              0   \n",
       "326055                       0                              0   \n",
       "326056                       0                              0   \n",
       "\n",
       "        batting_2stolenBases_recorded  \n",
       "0                                   0  \n",
       "1                                   0  \n",
       "2                                   0  \n",
       "3                                   0  \n",
       "4                                   0  \n",
       "...                               ...  \n",
       "326052                              0  \n",
       "326053                              0  \n",
       "326054                              0  \n",
       "326055                              0  \n",
       "326056                              0  \n",
       "\n",
       "[326057 rows x 9 columns]"
      ]
     },
     "execution_count": 105,
     "metadata": {},
     "output_type": "execute_result"
    }
   ],
   "source": [
    "df_game_matchup_total[['pitching_name', 'batting_name', 'batting_boxscore_hits', 'batting_1hits_recorded', 'batting_2hits_recorded', 'batting_boxscore_runs', 'batting_1runs_recorded', 'batting_1stolenBases_recorded', 'batting_2stolenBases_recorded']]"
   ]
  },
  {
   "cell_type": "code",
   "execution_count": null,
   "metadata": {},
   "outputs": [],
   "source": []
  },
  {
   "cell_type": "code",
   "execution_count": 115,
   "metadata": {
    "execution": {
     "iopub.execute_input": "2023-07-09T04:32:44.258731Z",
     "iopub.status.busy": "2023-07-09T04:32:44.258323Z",
     "iopub.status.idle": "2023-07-09T04:32:48.478591Z",
     "shell.execute_reply": "2023-07-09T04:32:48.477820Z",
     "shell.execute_reply.started": "2023-07-09T04:32:44.258703Z"
    }
   },
   "outputs": [
    {
     "name": "stdout",
     "output_type": "stream",
     "text": [
      "\n",
      "\n",
      "['game_year', 'batting_1hits_recorded'] batting_1hits_recorded model/batter_1hits_regression_model\n",
      "Transformation Pipeline and Model Successfully Loaded\n",
      "batting_1hits_recorded\n",
      "0    122085\n",
      "1    163005\n",
      "Name: batting_name, dtype: int64\n",
      "correct prediction recorded ratio: 0.78 (2606 out of 3333)\n",
      "\n",
      "\n",
      "['game_year', 'batting_2hits_recorded'] batting_2hits_recorded model/batter_2hits_regression_model\n",
      "Transformation Pipeline and Model Successfully Loaded\n",
      "batting_2hits_recorded\n",
      "0    224320\n",
      "1     60770\n",
      "Name: batting_name, dtype: int64\n",
      "correct prediction recorded ratio: 0.7 (71 out of 102)\n",
      "\n",
      "\n",
      "['game_year', 'batting_1homeRuns_recorded'] batting_1homeRuns_recorded model/batter_1homeruns_regression_model\n",
      "Transformation Pipeline and Model Successfully Loaded\n",
      "batting_1homeRuns_recorded\n",
      "0    254580\n",
      "1     30510\n",
      "Name: batting_name, dtype: int64\n",
      "correct prediction recorded ratio: nan (0 out of 0)\n",
      "\n",
      "\n",
      "['game_year', 'batting_1strikeOuts_recorded'] batting_1strikeOuts_recorded model/batter_1hstrikeouts_regression_model\n",
      "Transformation Pipeline and Model Successfully Loaded\n",
      "batting_1strikeOuts_recorded\n",
      "0    129107\n",
      "1    155983\n",
      "Name: batting_name, dtype: int64\n",
      "correct prediction recorded ratio: 0.79 (1598 out of 2031)\n",
      "\n",
      "\n",
      "['game_year', 'batting_2strikeOuts_recorded'] batting_2strikeOuts_recorded model/batter_2hstrikeouts_regression_model\n",
      "Transformation Pipeline and Model Successfully Loaded\n",
      "batting_2strikeOuts_recorded\n",
      "0    232282\n",
      "1     52808\n",
      "Name: batting_name, dtype: int64\n",
      "correct prediction recorded ratio: nan (0 out of 0)\n",
      "\n",
      "\n",
      "['game_year', 'batting_1runs_recorded'] batting_1runs_recorded model/batter_1runs_regression_model\n",
      "Transformation Pipeline and Model Successfully Loaded\n",
      "batting_1runs_recorded\n",
      "0    184217\n",
      "1    100873\n",
      "Name: batting_name, dtype: int64\n",
      "correct prediction recorded ratio: 0.6 (9 out of 15)\n",
      "\n",
      "\n",
      "['game_year', 'batting_2runs_recorded'] batting_2runs_recorded model/batter_2runs_regression_model\n",
      "Transformation Pipeline and Model Successfully Loaded\n",
      "batting_2runs_recorded\n",
      "0    264013\n",
      "1     21077\n",
      "Name: batting_name, dtype: int64\n",
      "correct prediction recorded ratio: nan (0 out of 0)\n",
      "\n",
      "\n",
      "['game_year', 'batting_1stolenBases_recorded'] batting_1stolenBases_recorded model/batter_1stolenbases_regression_model\n",
      "Transformation Pipeline and Model Successfully Loaded\n",
      "batting_1stolenBases_recorded\n",
      "0    270933\n",
      "1     14157\n",
      "Name: batting_name, dtype: int64\n",
      "correct prediction recorded ratio: nan (0 out of 0)\n",
      "\n",
      "\n",
      "['game_year', 'batting_2stolenBases_recorded'] batting_2stolenBases_recorded model/batter_2stolenbases_regression_model\n",
      "Transformation Pipeline and Model Successfully Loaded\n",
      "batting_2stolenBases_recorded\n",
      "0    283963\n",
      "1      1127\n",
      "Name: batting_name, dtype: int64\n",
      "correct prediction recorded ratio: 0.0 (0 out of 11)\n"
     ]
    }
   ],
   "source": [
    "for feature_columns, target_column, model_file_name in zip(feature_columns_list, target_column_list, model_file_name_list):    \n",
    "    print('\\n')\n",
    "    print(feature_columns[-2:], target_column, model_file_name)\n",
    "    regression_model = pycaret.classification.load_model(model_file_name)\n",
    "    \n",
    "    train_data = df_game_matchup_total[(df_game_matchup_total.game_date > \"2012-04-01\") & (df_game_matchup_total.game_date < \"2022-12-01\")][feature_columns]\n",
    "    test_data = df_game_matchup_total[(df_game_matchup_total.game_date > \"2022-12-01\")][feature_columns]\n",
    "\n",
    "    print(train_data.groupby([target_column]).count()['batting_name'])\n",
    "\n",
    "    test_prediction = model.common.predict_and_odds(test_data, regression_model)\n",
    "    \n",
    "    def get_df_confident_prediction(df_prediction, score_threshold = 0.70):\n",
    "        df_prediction = df_prediction.loc[:,~df_prediction.columns.duplicated()].copy()\n",
    "        df_prediction = df_prediction[df_prediction[\"prediction_score\"] >= score_threshold]\n",
    "        # for some reason, the prediction_label should be separatedly checked. higher score does not always lead to prediction label. (maybe the score stands for both labels).\n",
    "        df_prediction = df_prediction[df_prediction[\"prediction_label\"] == 1]\n",
    "        df_prediction = df_prediction.sort_values('prediction_score')\n",
    "        correct_predictions = df_prediction[target_column].sum()\n",
    "        l = len(df_prediction)\n",
    "        print(f'correct prediction recorded ratio: {round(1.0 * correct_predictions / l, 2)} ({correct_predictions} out of {l})')\n",
    "        return df_prediction[['game_date', 'batting_name', 'player_team_name', target_column, \"prediction_score\", \"theo_odds\"]]\n",
    "\n",
    "    get_df_confident_prediction(test_prediction, 0.75)"
   ]
  },
  {
   "cell_type": "code",
   "execution_count": null,
   "metadata": {},
   "outputs": [],
   "source": []
  },
  {
   "cell_type": "code",
   "execution_count": 5,
   "metadata": {
    "execution": {
     "iopub.execute_input": "2023-07-07T21:38:30.599548Z",
     "iopub.status.busy": "2023-07-07T21:38:30.599248Z",
     "iopub.status.idle": "2023-07-07T21:38:30.604003Z",
     "shell.execute_reply": "2023-07-07T21:38:30.603356Z",
     "shell.execute_reply.started": "2023-07-07T21:38:30.599519Z"
    }
   },
   "outputs": [],
   "source": [
    "feature_columns, target_column, model_file_name = model.common.features_1hits_recorded, model.common.target_1hits_recorded, model.common.model_1hits_file_name"
   ]
  },
  {
   "cell_type": "code",
   "execution_count": 19,
   "metadata": {
    "execution": {
     "iopub.execute_input": "2023-07-07T21:59:08.217013Z",
     "iopub.status.busy": "2023-07-07T21:59:08.216736Z",
     "iopub.status.idle": "2023-07-07T21:59:08.236540Z",
     "shell.execute_reply": "2023-07-07T21:59:08.235408Z",
     "shell.execute_reply.started": "2023-07-07T21:59:08.216994Z"
    }
   },
   "outputs": [
    {
     "name": "stdout",
     "output_type": "stream",
     "text": [
      "Transformation Pipeline and Model Successfully Loaded\n"
     ]
    }
   ],
   "source": [
    "regression_model = pycaret.classification.load_model(model_file_name)"
   ]
  },
  {
   "cell_type": "markdown",
   "metadata": {
    "id": "mmm5t3mOHHYw"
   },
   "source": [
    "**Get Most Confident Predictions**"
   ]
  },
  {
   "cell_type": "code",
   "execution_count": 22,
   "metadata": {
    "execution": {
     "iopub.execute_input": "2023-07-07T21:59:40.853509Z",
     "iopub.status.busy": "2023-07-07T21:59:40.853282Z",
     "iopub.status.idle": "2023-07-07T21:59:41.057920Z",
     "shell.execute_reply": "2023-07-07T21:59:41.057317Z",
     "shell.execute_reply.started": "2023-07-07T21:59:40.853493Z"
    }
   },
   "outputs": [],
   "source": [
    "train_data = df_game_matchup_total[(df_game_matchup_total.game_date > \"2012-04-01\") & (df_game_matchup_total.game_date < \"2022-12-01\")][feature_columns]\n",
    "test_data = df_game_matchup_total[(df_game_matchup_total.game_date > \"2022-12-01\")][feature_columns]"
   ]
  },
  {
   "cell_type": "code",
   "execution_count": 23,
   "metadata": {
    "execution": {
     "iopub.execute_input": "2023-07-07T21:59:47.123171Z",
     "iopub.status.busy": "2023-07-07T21:59:47.122126Z",
     "iopub.status.idle": "2023-07-07T21:59:47.372087Z",
     "shell.execute_reply": "2023-07-07T21:59:47.371575Z",
     "shell.execute_reply.started": "2023-07-07T21:59:47.123096Z"
    }
   },
   "outputs": [],
   "source": [
    "test_prediction = model.common.predict_and_odds(test_data, regression_model)"
   ]
  },
  {
   "cell_type": "code",
   "execution_count": 47,
   "metadata": {
    "execution": {
     "iopub.execute_input": "2023-07-08T03:31:55.282525Z",
     "iopub.status.busy": "2023-07-08T03:31:55.279444Z",
     "iopub.status.idle": "2023-07-08T03:31:55.302778Z",
     "shell.execute_reply": "2023-07-08T03:31:55.298483Z",
     "shell.execute_reply.started": "2023-07-08T03:31:55.282358Z"
    }
   },
   "outputs": [],
   "source": [
    "def get_df_confident_prediction(df_prediction, score_threshold = 0.70):\n",
    "    df_prediction = df_prediction.loc[:,~df_prediction.columns.duplicated()].copy()\n",
    "    df_prediction = df_prediction[df_prediction[\"prediction_score\"] >= score_threshold]\n",
    "    # for some reason, the prediction_label should be separatedly checked. higher score does not always lead to prediction label. (maybe the score stands for both labels).\n",
    "    df_prediction = df_prediction[df_prediction[\"prediction_label\"] == 1]\n",
    "    df_prediction = df_prediction.sort_values('prediction_score')\n",
    "    correct_predictions = df_prediction[target_column].sum()\n",
    "    l = len(df_prediction)\n",
    "    print(f'correct prediction recorded ratio: {round(1.0 * correct_predictions / l, 2)} ({correct_predictions} out of {l})')\n",
    "    return df_prediction[['game_date', 'batting_name', 'player_team_name', target_column, \"prediction_score\", \"theo_odds\"]]"
   ]
  },
  {
   "cell_type": "code",
   "execution_count": 49,
   "metadata": {
    "execution": {
     "iopub.execute_input": "2023-07-08T03:32:02.515214Z",
     "iopub.status.busy": "2023-07-08T03:32:02.513458Z",
     "iopub.status.idle": "2023-07-08T03:32:02.566949Z",
     "shell.execute_reply": "2023-07-08T03:32:02.564460Z",
     "shell.execute_reply.started": "2023-07-08T03:32:02.515035Z"
    }
   },
   "outputs": [
    {
     "name": "stdout",
     "output_type": "stream",
     "text": [
      "correct prediction recorded ratio: 0.81 (1102 out of 1360)\n"
     ]
    },
    {
     "data": {
      "text/html": [
       "<div>\n",
       "<style scoped>\n",
       "    .dataframe tbody tr th:only-of-type {\n",
       "        vertical-align: middle;\n",
       "    }\n",
       "\n",
       "    .dataframe tbody tr th {\n",
       "        vertical-align: top;\n",
       "    }\n",
       "\n",
       "    .dataframe thead th {\n",
       "        text-align: right;\n",
       "    }\n",
       "</style>\n",
       "<table border=\"1\" class=\"dataframe\">\n",
       "  <thead>\n",
       "    <tr style=\"text-align: right;\">\n",
       "      <th></th>\n",
       "      <th>game_date</th>\n",
       "      <th>batting_name</th>\n",
       "      <th>player_team_name</th>\n",
       "      <th>batting_1hits_recorded</th>\n",
       "      <th>prediction_score</th>\n",
       "      <th>theo_odds</th>\n",
       "    </tr>\n",
       "  </thead>\n",
       "  <tbody>\n",
       "    <tr>\n",
       "      <th>28152</th>\n",
       "      <td>2023-06-10</td>\n",
       "      <td>Nolan Jones</td>\n",
       "      <td>Cleveland Guardians</td>\n",
       "      <td>1</td>\n",
       "      <td>0.8000</td>\n",
       "      <td>-400</td>\n",
       "    </tr>\n",
       "    <tr>\n",
       "      <th>498</th>\n",
       "      <td>2023-04-02</td>\n",
       "      <td>Brandon Lowe</td>\n",
       "      <td>Tampa Bay Rays</td>\n",
       "      <td>1</td>\n",
       "      <td>0.8001</td>\n",
       "      <td>-400</td>\n",
       "    </tr>\n",
       "    <tr>\n",
       "      <th>5755</th>\n",
       "      <td>2023-04-13</td>\n",
       "      <td>Brandon Marsh</td>\n",
       "      <td>Philadelphia Phillies</td>\n",
       "      <td>0</td>\n",
       "      <td>0.8002</td>\n",
       "      <td>-401</td>\n",
       "    </tr>\n",
       "    <tr>\n",
       "      <th>5754</th>\n",
       "      <td>2023-04-13</td>\n",
       "      <td>Brandon Marsh</td>\n",
       "      <td>Los Angeles Angels</td>\n",
       "      <td>0</td>\n",
       "      <td>0.8002</td>\n",
       "      <td>-401</td>\n",
       "    </tr>\n",
       "    <tr>\n",
       "      <th>6715</th>\n",
       "      <td>2023-04-15</td>\n",
       "      <td>Sean Murphy</td>\n",
       "      <td>Atlanta Braves</td>\n",
       "      <td>1</td>\n",
       "      <td>0.8003</td>\n",
       "      <td>-401</td>\n",
       "    </tr>\n",
       "    <tr>\n",
       "      <th>...</th>\n",
       "      <td>...</td>\n",
       "      <td>...</td>\n",
       "      <td>...</td>\n",
       "      <td>...</td>\n",
       "      <td>...</td>\n",
       "      <td>...</td>\n",
       "    </tr>\n",
       "    <tr>\n",
       "      <th>1084</th>\n",
       "      <td>2023-04-03</td>\n",
       "      <td>Dansby Swanson</td>\n",
       "      <td>Chicago Cubs</td>\n",
       "      <td>1</td>\n",
       "      <td>0.9799</td>\n",
       "      <td>-4875</td>\n",
       "    </tr>\n",
       "    <tr>\n",
       "      <th>710</th>\n",
       "      <td>2023-04-02</td>\n",
       "      <td>Paul Goldschmidt</td>\n",
       "      <td>Arizona Diamondbacks</td>\n",
       "      <td>1</td>\n",
       "      <td>0.9825</td>\n",
       "      <td>-5614</td>\n",
       "    </tr>\n",
       "    <tr>\n",
       "      <th>711</th>\n",
       "      <td>2023-04-02</td>\n",
       "      <td>Paul Goldschmidt</td>\n",
       "      <td>St. Louis Cardinals</td>\n",
       "      <td>1</td>\n",
       "      <td>0.9825</td>\n",
       "      <td>-5614</td>\n",
       "    </tr>\n",
       "    <tr>\n",
       "      <th>1277</th>\n",
       "      <td>2023-04-03</td>\n",
       "      <td>Paul Goldschmidt</td>\n",
       "      <td>St. Louis Cardinals</td>\n",
       "      <td>1</td>\n",
       "      <td>0.9856</td>\n",
       "      <td>-6844</td>\n",
       "    </tr>\n",
       "    <tr>\n",
       "      <th>1276</th>\n",
       "      <td>2023-04-03</td>\n",
       "      <td>Paul Goldschmidt</td>\n",
       "      <td>Arizona Diamondbacks</td>\n",
       "      <td>1</td>\n",
       "      <td>0.9856</td>\n",
       "      <td>-6844</td>\n",
       "    </tr>\n",
       "  </tbody>\n",
       "</table>\n",
       "<p>1360 rows × 6 columns</p>\n",
       "</div>"
      ],
      "text/plain": [
       "       game_date      batting_name       player_team_name  \\\n",
       "28152 2023-06-10       Nolan Jones    Cleveland Guardians   \n",
       "498   2023-04-02      Brandon Lowe         Tampa Bay Rays   \n",
       "5755  2023-04-13     Brandon Marsh  Philadelphia Phillies   \n",
       "5754  2023-04-13     Brandon Marsh     Los Angeles Angels   \n",
       "6715  2023-04-15       Sean Murphy         Atlanta Braves   \n",
       "...          ...               ...                    ...   \n",
       "1084  2023-04-03    Dansby Swanson           Chicago Cubs   \n",
       "710   2023-04-02  Paul Goldschmidt   Arizona Diamondbacks   \n",
       "711   2023-04-02  Paul Goldschmidt    St. Louis Cardinals   \n",
       "1277  2023-04-03  Paul Goldschmidt    St. Louis Cardinals   \n",
       "1276  2023-04-03  Paul Goldschmidt   Arizona Diamondbacks   \n",
       "\n",
       "       batting_1hits_recorded  prediction_score  theo_odds  \n",
       "28152                       1            0.8000       -400  \n",
       "498                         1            0.8001       -400  \n",
       "5755                        0            0.8002       -401  \n",
       "5754                        0            0.8002       -401  \n",
       "6715                        1            0.8003       -401  \n",
       "...                       ...               ...        ...  \n",
       "1084                        1            0.9799      -4875  \n",
       "710                         1            0.9825      -5614  \n",
       "711                         1            0.9825      -5614  \n",
       "1277                        1            0.9856      -6844  \n",
       "1276                        1            0.9856      -6844  \n",
       "\n",
       "[1360 rows x 6 columns]"
      ]
     },
     "execution_count": 49,
     "metadata": {},
     "output_type": "execute_result"
    }
   ],
   "source": [
    "get_df_confident_prediction(test_prediction, 0.80)"
   ]
  },
  {
   "cell_type": "code",
   "execution_count": null,
   "metadata": {},
   "outputs": [],
   "source": []
  }
 ],
 "metadata": {
  "colab": {
   "provenance": []
  },
  "kernelspec": {
   "display_name": "Python 3 (ipykernel)",
   "language": "python",
   "name": "python3"
  },
  "language_info": {
   "codemirror_mode": {
    "name": "ipython",
    "version": 3
   },
   "file_extension": ".py",
   "mimetype": "text/x-python",
   "name": "python",
   "nbconvert_exporter": "python",
   "pygments_lexer": "ipython3",
   "version": "3.10.6"
  }
 },
 "nbformat": 4,
 "nbformat_minor": 4
}
