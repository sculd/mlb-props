{
 "cells": [
  {
   "cell_type": "markdown",
   "id": "c913d6da-b3da-4e8b-8e41-aa7ce19ca876",
   "metadata": {},
   "source": [
    "use this notebook to see today's bet at the beginning of a day"
   ]
  },
  {
   "cell_type": "code",
   "execution_count": 28,
   "id": "9e78fb1e-a23f-4cc8-9a19-eacd10c24a6a",
   "metadata": {
    "execution": {
     "iopub.execute_input": "2023-07-09T20:25:39.734390Z",
     "iopub.status.busy": "2023-07-09T20:25:39.733790Z",
     "iopub.status.idle": "2023-07-09T20:25:39.738821Z",
     "shell.execute_reply": "2023-07-09T20:25:39.737968Z",
     "shell.execute_reply.started": "2023-07-09T20:25:39.734367Z"
    }
   },
   "outputs": [],
   "source": [
    "import pandas as pd, numpy as np\n",
    "import statsapi\n",
    "from statsapi import player_stat_data\n",
    "import requests\n",
    "from datetime import datetime, timedelta\n",
    "import numpy as np\n",
    "import math, os\n",
    "import meteostat\n",
    "import pprint\n",
    "import pickle\n",
    "import copy\n",
    "\n",
    "import pycaret\n",
    "from pycaret import classification\n",
    "import model.common, model.odds_eval\n",
    "import odds_data.query_bq_odds\n",
    "import importlib"
   ]
  },
  {
   "cell_type": "code",
   "execution_count": 17,
   "id": "7156ffee-eb04-4b59-8738-50e56c8d54e8",
   "metadata": {
    "execution": {
     "iopub.execute_input": "2023-07-09T20:22:33.226847Z",
     "iopub.status.busy": "2023-07-09T20:22:33.226277Z",
     "iopub.status.idle": "2023-07-09T20:22:33.232234Z",
     "shell.execute_reply": "2023-07-09T20:22:33.231001Z",
     "shell.execute_reply.started": "2023-07-09T20:22:33.226807Z"
    }
   },
   "outputs": [],
   "source": [
    "from static_data.load_static_data import *"
   ]
  },
  {
   "cell_type": "code",
   "execution_count": 79,
   "id": "58b92d87-7f53-4719-9e75-42d0bf4b0b81",
   "metadata": {
    "execution": {
     "iopub.execute_input": "2023-07-09T20:55:13.948579Z",
     "iopub.status.busy": "2023-07-09T20:55:13.948298Z",
     "iopub.status.idle": "2023-07-09T20:55:14.071221Z",
     "shell.execute_reply": "2023-07-09T20:55:14.070302Z",
     "shell.execute_reply.started": "2023-07-09T20:55:13.948564Z"
    }
   },
   "outputs": [
    {
     "data": {
      "text/plain": [
       "<module 'odds_data.query_bq_odds' from '/home/junlim/projects/mlb-props/odds_data/query_bq_odds.py'>"
      ]
     },
     "execution_count": 79,
     "metadata": {},
     "output_type": "execute_result"
    }
   ],
   "source": [
    "importlib.reload(model.common)\n",
    "importlib.reload(model.odds_eval)\n",
    "importlib.reload(odds_data.query_bq_odds)"
   ]
  },
  {
   "cell_type": "code",
   "execution_count": 53,
   "id": "ee2de5a5-8e90-4e5c-bdda-e548673e87b2",
   "metadata": {
    "execution": {
     "iopub.execute_input": "2023-07-09T20:38:45.149751Z",
     "iopub.status.busy": "2023-07-09T20:38:45.149434Z",
     "iopub.status.idle": "2023-07-09T20:38:45.471473Z",
     "shell.execute_reply": "2023-07-09T20:38:45.470960Z",
     "shell.execute_reply.started": "2023-07-09T20:38:45.149732Z"
    }
   },
   "outputs": [
    {
     "name": "stdout",
     "output_type": "stream",
     "text": [
      "df_game_matchup_total: 326057, df_game_matchup_2023: 16412\n"
     ]
    }
   ],
   "source": [
    "collect_data_Base_dir = 'collect_data'\n",
    "df_game_matchup_total = pd.read_pickle(f'{collect_data_Base_dir}/df_game_matchup_total.pkl')\n",
    "df_game_matchup_2023 = pd.read_pickle(f'{collect_data_Base_dir}/df_game_matchup_2023.pkl')\n",
    "print(f'df_game_matchup_total: {len(df_game_matchup_total)}, df_game_matchup_2023: {len(df_game_matchup_2023)}')"
   ]
  },
  {
   "cell_type": "code",
   "execution_count": 97,
   "id": "989b8bdf-1c34-449e-9fd2-da47c53a56a0",
   "metadata": {
    "execution": {
     "iopub.execute_input": "2023-07-09T21:00:11.640685Z",
     "iopub.status.busy": "2023-07-09T21:00:11.640072Z",
     "iopub.status.idle": "2023-07-09T21:00:15.021110Z",
     "shell.execute_reply": "2023-07-09T21:00:15.020502Z",
     "shell.execute_reply.started": "2023-07-09T21:00:11.640642Z"
    }
   },
   "outputs": [
    {
     "name": "stdout",
     "output_type": "stream",
     "text": [
      "running querry\n",
      "\n",
      "    SELECT * \n",
      "    FROM `trading-290017.major_league_baseball.odds_batter_prop`\n",
      "    WHERE TRUE\n",
      "    AND game_date >= \"2023-04-01\"\n",
      "\n"
     ]
    }
   ],
   "source": [
    "import os\n",
    "if os.path.exists('credential.json'):\n",
    "    os.environ[\"GOOGLE_APPLICATION_CREDENTIALS\"] = os.path.join(os.getcwd(), 'credential.json')\n",
    "property = 'all'\n",
    "odds_data.query_bq_odds.download_property(property = property)\n",
    "df_odds_2023 = pd.read_pickle(f'odds_data/df_odds_{property}.pkl')"
   ]
  },
  {
   "cell_type": "markdown",
   "id": "491235be-cfba-46ec-88a3-255ed694c96a",
   "metadata": {},
   "source": [
    "# 2023 season prediction - profitable models"
   ]
  },
  {
   "cell_type": "code",
   "execution_count": 209,
   "id": "50d3efea-8bf5-4a35-8c6a-6923bf8ab0e4",
   "metadata": {
    "execution": {
     "iopub.execute_input": "2023-07-09T23:11:51.778684Z",
     "iopub.status.busy": "2023-07-09T23:11:51.777337Z",
     "iopub.status.idle": "2023-07-09T23:11:51.788976Z",
     "shell.execute_reply": "2023-07-09T23:11:51.788326Z",
     "shell.execute_reply.started": "2023-07-09T23:11:51.778566Z"
    }
   },
   "outputs": [],
   "source": [
    "feature_columns_list = [model.common.features_1hits_recorded, model.common.features_1hstrikeouts_recorded]\n",
    "target_column_list = [model.common.target_1hits_recorded, model.common.target_1hstrikeouts_recorded]\n",
    "model_file_name_list = [model.common.model_1hits_file_name, model.common.model_1hstrikeouts_file_name]"
   ]
  },
  {
   "cell_type": "code",
   "execution_count": 210,
   "id": "15b6c55b-f19a-494c-8776-999974b8b207",
   "metadata": {
    "execution": {
     "iopub.execute_input": "2023-07-09T23:11:52.083627Z",
     "iopub.status.busy": "2023-07-09T23:11:52.082707Z",
     "iopub.status.idle": "2023-07-09T23:11:56.523866Z",
     "shell.execute_reply": "2023-07-09T23:11:56.489258Z",
     "shell.execute_reply.started": "2023-07-09T23:11:52.083541Z"
    }
   },
   "outputs": [
    {
     "name": "stdout",
     "output_type": "stream",
     "text": [
      "batting_1hits_recorded model/batter_1hits_regression_model\n",
      "Transformation Pipeline and Model Successfully Loaded\n",
      "hit recorded ratio: 0.75 (51 out of 68)\n",
      "profit: 5.215812654719599\n",
      "hit recorded ratio: 0.8571428571428571 (6 out of 7)\n",
      "profit: 1.689879297022154\n",
      "batting_1strikeOuts_recorded model/batter_1hstrikeouts_regression_model\n",
      "Transformation Pipeline and Model Successfully Loaded\n",
      "hit recorded ratio: 0.8333333333333334 (135 out of 162)\n",
      "profit: 54.32841743339861\n",
      "hit recorded ratio: 0.7317073170731707 (30 out of 41)\n",
      "profit: 8.397473268512897\n"
     ]
    }
   ],
   "source": [
    "for feature_columns, target_column, model_file_name in zip(feature_columns_list, target_column_list, model_file_name_list):    \n",
    "    print(target_column, model_file_name)\n",
    "    regression_model = pycaret.classification.load_model(model_file_name)\n",
    "    df_prediction_2023 = model.odds_eval.df_prediction_add_odd(df_game_matchup_2023[['game_id'] + feature_columns + [target_column]], regression_model)\n",
    "    df_prediction_odds_2023 = model.odds_eval.merge_df_prediction_over_odds(df_prediction_2023, df_odds_since_20230529[df_odds_2023.property == 'Hits'], target_column, 1.0)\n",
    "    df_confident_prediction_odds_2023 = model.odds_eval.get_df_confident_prediction_odds(df_prediction_odds_2023, target_column, score_threshold = 0.75)\n",
    "    df_advantageous_prediction_odds_2023 = model.odds_eval.get_df_advantageous_prediction_odds(df_prediction_odds_2023, target_column, prediction_diff_threshold = 0.05, score_threshold = 0.70)"
   ]
  },
  {
   "cell_type": "markdown",
   "id": "1e8966f4-caea-4adc-822e-ff73699c763e",
   "metadata": {},
   "source": [
    "# 2023 season prediction - 1hits model"
   ]
  },
  {
   "cell_type": "code",
   "execution_count": 168,
   "id": "bdcdbb18-5765-49a8-a291-c9247b6928c9",
   "metadata": {
    "execution": {
     "iopub.execute_input": "2023-07-09T21:12:45.161721Z",
     "iopub.status.busy": "2023-07-09T21:12:45.161243Z",
     "iopub.status.idle": "2023-07-09T21:12:45.175708Z",
     "shell.execute_reply": "2023-07-09T21:12:45.170499Z",
     "shell.execute_reply.started": "2023-07-09T21:12:45.161679Z"
    }
   },
   "outputs": [],
   "source": [
    "feature_columns, target_column, model_file_name = model.common.features_1hits_recorded, model.common.target_1hits_recorded, model.common.model_1hits_file_name"
   ]
  },
  {
   "cell_type": "code",
   "execution_count": 179,
   "id": "c5558463-48a1-4957-b872-09ae60e03685",
   "metadata": {
    "execution": {
     "iopub.execute_input": "2023-07-09T21:26:18.191509Z",
     "iopub.status.busy": "2023-07-09T21:26:18.190335Z",
     "iopub.status.idle": "2023-07-09T21:26:18.210581Z",
     "shell.execute_reply": "2023-07-09T21:26:18.208199Z",
     "shell.execute_reply.started": "2023-07-09T21:26:18.191402Z"
    }
   },
   "outputs": [
    {
     "name": "stdout",
     "output_type": "stream",
     "text": [
      "Transformation Pipeline and Model Successfully Loaded\n"
     ]
    }
   ],
   "source": [
    "regression_model = pycaret.classification.load_model(model_file_name)"
   ]
  },
  {
   "cell_type": "code",
   "execution_count": 181,
   "id": "fb81eb28-52a7-487d-8cf0-9d86c07b08dc",
   "metadata": {
    "execution": {
     "iopub.execute_input": "2023-07-09T21:26:18.995849Z",
     "iopub.status.busy": "2023-07-09T21:26:18.995398Z",
     "iopub.status.idle": "2023-07-09T21:26:19.764458Z",
     "shell.execute_reply": "2023-07-09T21:26:19.763641Z",
     "shell.execute_reply.started": "2023-07-09T21:26:18.995810Z"
    }
   },
   "outputs": [],
   "source": [
    "df_prediction_2023 = model.odds_eval.df_prediction_add_odd(df_game_matchup_2023[['game_id'] + feature_columns + [target_column]], regression_model)"
   ]
  },
  {
   "cell_type": "code",
   "execution_count": 187,
   "id": "1137d689-3453-44b3-b3aa-49557a06a30c",
   "metadata": {
    "execution": {
     "iopub.execute_input": "2023-07-09T21:26:31.214625Z",
     "iopub.status.busy": "2023-07-09T21:26:31.214338Z",
     "iopub.status.idle": "2023-07-09T21:26:31.340971Z",
     "shell.execute_reply": "2023-07-09T21:26:31.325634Z",
     "shell.execute_reply.started": "2023-07-09T21:26:31.214599Z"
    }
   },
   "outputs": [],
   "source": [
    "df_prediction_odds_2023 = model.odds_eval.merge_df_prediction_over_odds(df_prediction_2023, df_odds_since_20230529[df_odds_2023.property == 'Hits'], target_column, 1.0)"
   ]
  },
  {
   "cell_type": "code",
   "execution_count": 188,
   "id": "61c247e8-3b94-48f9-af86-18a2f95437a1",
   "metadata": {
    "execution": {
     "iopub.execute_input": "2023-07-09T21:26:31.460510Z",
     "iopub.status.busy": "2023-07-09T21:26:31.459997Z",
     "iopub.status.idle": "2023-07-09T21:26:31.642525Z",
     "shell.execute_reply": "2023-07-09T21:26:31.635708Z",
     "shell.execute_reply.started": "2023-07-09T21:26:31.460462Z"
    }
   },
   "outputs": [
    {
     "data": {
      "text/plain": [
       "<module 'odds_data.query_bq_odds' from '/home/junlim/projects/mlb-props/odds_data/query_bq_odds.py'>"
      ]
     },
     "execution_count": 188,
     "metadata": {},
     "output_type": "execute_result"
    }
   ],
   "source": [
    "importlib.reload(model.common)\n",
    "importlib.reload(model.odds_eval)\n",
    "importlib.reload(odds_data.query_bq_odds)"
   ]
  },
  {
   "cell_type": "code",
   "execution_count": 194,
   "id": "964d939d-5d93-4de7-95c2-42af980de984",
   "metadata": {
    "execution": {
     "iopub.execute_input": "2023-07-09T21:29:32.721892Z",
     "iopub.status.busy": "2023-07-09T21:29:32.721458Z",
     "iopub.status.idle": "2023-07-09T21:29:32.800019Z",
     "shell.execute_reply": "2023-07-09T21:29:32.794956Z",
     "shell.execute_reply.started": "2023-07-09T21:29:32.721854Z"
    }
   },
   "outputs": [
    {
     "name": "stdout",
     "output_type": "stream",
     "text": [
      "hit recorded ratio: 0.75 (51 out of 68)\n",
      "profit: 5.215812654719599\n"
     ]
    },
    {
     "data": {
      "text/html": [
       "<div>\n",
       "<style scoped>\n",
       "    .dataframe tbody tr th:only-of-type {\n",
       "        vertical-align: middle;\n",
       "    }\n",
       "\n",
       "    .dataframe tbody tr th {\n",
       "        vertical-align: top;\n",
       "    }\n",
       "\n",
       "    .dataframe thead th {\n",
       "        text-align: right;\n",
       "    }\n",
       "</style>\n",
       "<table border=\"1\" class=\"dataframe\">\n",
       "  <thead>\n",
       "    <tr style=\"text-align: right;\">\n",
       "      <th></th>\n",
       "      <th>game_date</th>\n",
       "      <th>team_away</th>\n",
       "      <th>team_home</th>\n",
       "      <th>batting_name</th>\n",
       "      <th>batting_1hits_recorded</th>\n",
       "      <th>prediction_label</th>\n",
       "      <th>prediction_score</th>\n",
       "      <th>theo_odds</th>\n",
       "      <th>over_prob</th>\n",
       "      <th>over_odds</th>\n",
       "      <th>over_line</th>\n",
       "    </tr>\n",
       "  </thead>\n",
       "  <tbody>\n",
       "    <tr>\n",
       "      <th>5053</th>\n",
       "      <td>2023-06-11</td>\n",
       "      <td>Cincinnati Reds</td>\n",
       "      <td>St. Louis Cardinals</td>\n",
       "      <td>TJ Friedl</td>\n",
       "      <td>1</td>\n",
       "      <td>1</td>\n",
       "      <td>0.7509</td>\n",
       "      <td>-301</td>\n",
       "      <td>0.714286</td>\n",
       "      <td>-250.0</td>\n",
       "      <td>0.5</td>\n",
       "    </tr>\n",
       "    <tr>\n",
       "      <th>1939</th>\n",
       "      <td>2023-06-24</td>\n",
       "      <td>New York Mets</td>\n",
       "      <td>Philadelphia Phillies</td>\n",
       "      <td>Nick Castellanos</td>\n",
       "      <td>1</td>\n",
       "      <td>1</td>\n",
       "      <td>0.7514</td>\n",
       "      <td>-302</td>\n",
       "      <td>0.687500</td>\n",
       "      <td>-220.0</td>\n",
       "      <td>0.5</td>\n",
       "    </tr>\n",
       "    <tr>\n",
       "      <th>7460</th>\n",
       "      <td>2023-06-04</td>\n",
       "      <td>Colorado Rockies</td>\n",
       "      <td>Kansas City Royals</td>\n",
       "      <td>Nick Pratto</td>\n",
       "      <td>1</td>\n",
       "      <td>1</td>\n",
       "      <td>0.7517</td>\n",
       "      <td>-303</td>\n",
       "      <td>0.661017</td>\n",
       "      <td>-195.0</td>\n",
       "      <td>0.5</td>\n",
       "    </tr>\n",
       "    <tr>\n",
       "      <th>2355</th>\n",
       "      <td>2023-06-18</td>\n",
       "      <td>Cincinnati Reds</td>\n",
       "      <td>Houston Astros</td>\n",
       "      <td>Kyle Tucker</td>\n",
       "      <td>1</td>\n",
       "      <td>1</td>\n",
       "      <td>0.7525</td>\n",
       "      <td>-304</td>\n",
       "      <td>0.705882</td>\n",
       "      <td>-240.0</td>\n",
       "      <td>0.5</td>\n",
       "    </tr>\n",
       "    <tr>\n",
       "      <th>6648</th>\n",
       "      <td>2023-06-07</td>\n",
       "      <td>Arizona Diamondbacks</td>\n",
       "      <td>Washington Nationals</td>\n",
       "      <td>Gabriel Moreno</td>\n",
       "      <td>0</td>\n",
       "      <td>1</td>\n",
       "      <td>0.7529</td>\n",
       "      <td>-305</td>\n",
       "      <td>0.733333</td>\n",
       "      <td>-275.0</td>\n",
       "      <td>0.5</td>\n",
       "    </tr>\n",
       "    <tr>\n",
       "      <th>...</th>\n",
       "      <td>...</td>\n",
       "      <td>...</td>\n",
       "      <td>...</td>\n",
       "      <td>...</td>\n",
       "      <td>...</td>\n",
       "      <td>...</td>\n",
       "      <td>...</td>\n",
       "      <td>...</td>\n",
       "      <td>...</td>\n",
       "      <td>...</td>\n",
       "      <td>...</td>\n",
       "    </tr>\n",
       "    <tr>\n",
       "      <th>9470</th>\n",
       "      <td>2023-05-30</td>\n",
       "      <td>San Diego Padres</td>\n",
       "      <td>Miami Marlins</td>\n",
       "      <td>Luis Arraez</td>\n",
       "      <td>1</td>\n",
       "      <td>1</td>\n",
       "      <td>0.8082</td>\n",
       "      <td>-421</td>\n",
       "      <td>0.736842</td>\n",
       "      <td>-280.0</td>\n",
       "      <td>0.5</td>\n",
       "    </tr>\n",
       "    <tr>\n",
       "      <th>8269</th>\n",
       "      <td>2023-06-02</td>\n",
       "      <td>Colorado Rockies</td>\n",
       "      <td>Kansas City Royals</td>\n",
       "      <td>Randal Grichuk</td>\n",
       "      <td>1</td>\n",
       "      <td>1</td>\n",
       "      <td>0.8182</td>\n",
       "      <td>-450</td>\n",
       "      <td>0.722222</td>\n",
       "      <td>-260.0</td>\n",
       "      <td>0.5</td>\n",
       "    </tr>\n",
       "    <tr>\n",
       "      <th>6049</th>\n",
       "      <td>2023-06-08</td>\n",
       "      <td>San Francisco Giants</td>\n",
       "      <td>Colorado Rockies</td>\n",
       "      <td>Nolan Jones</td>\n",
       "      <td>1</td>\n",
       "      <td>1</td>\n",
       "      <td>0.8265</td>\n",
       "      <td>-476</td>\n",
       "      <td>0.729730</td>\n",
       "      <td>-270.0</td>\n",
       "      <td>0.5</td>\n",
       "    </tr>\n",
       "    <tr>\n",
       "      <th>9782</th>\n",
       "      <td>2023-05-29</td>\n",
       "      <td>Colorado Rockies</td>\n",
       "      <td>Arizona Diamondbacks</td>\n",
       "      <td>Randal Grichuk</td>\n",
       "      <td>1</td>\n",
       "      <td>1</td>\n",
       "      <td>0.8320</td>\n",
       "      <td>-495</td>\n",
       "      <td>0.672131</td>\n",
       "      <td>-205.0</td>\n",
       "      <td>0.5</td>\n",
       "    </tr>\n",
       "    <tr>\n",
       "      <th>8762</th>\n",
       "      <td>2023-05-31</td>\n",
       "      <td>Colorado Rockies</td>\n",
       "      <td>Arizona Diamondbacks</td>\n",
       "      <td>Randal Grichuk</td>\n",
       "      <td>0</td>\n",
       "      <td>1</td>\n",
       "      <td>0.8325</td>\n",
       "      <td>-497</td>\n",
       "      <td>0.736842</td>\n",
       "      <td>-280.0</td>\n",
       "      <td>0.5</td>\n",
       "    </tr>\n",
       "  </tbody>\n",
       "</table>\n",
       "<p>68 rows × 11 columns</p>\n",
       "</div>"
      ],
      "text/plain": [
       "      game_date             team_away              team_home  \\\n",
       "5053 2023-06-11       Cincinnati Reds    St. Louis Cardinals   \n",
       "1939 2023-06-24         New York Mets  Philadelphia Phillies   \n",
       "7460 2023-06-04      Colorado Rockies     Kansas City Royals   \n",
       "2355 2023-06-18       Cincinnati Reds         Houston Astros   \n",
       "6648 2023-06-07  Arizona Diamondbacks   Washington Nationals   \n",
       "...         ...                   ...                    ...   \n",
       "9470 2023-05-30      San Diego Padres          Miami Marlins   \n",
       "8269 2023-06-02      Colorado Rockies     Kansas City Royals   \n",
       "6049 2023-06-08  San Francisco Giants       Colorado Rockies   \n",
       "9782 2023-05-29      Colorado Rockies   Arizona Diamondbacks   \n",
       "8762 2023-05-31      Colorado Rockies   Arizona Diamondbacks   \n",
       "\n",
       "          batting_name  batting_1hits_recorded  prediction_label  \\\n",
       "5053         TJ Friedl                       1                 1   \n",
       "1939  Nick Castellanos                       1                 1   \n",
       "7460       Nick Pratto                       1                 1   \n",
       "2355       Kyle Tucker                       1                 1   \n",
       "6648    Gabriel Moreno                       0                 1   \n",
       "...                ...                     ...               ...   \n",
       "9470       Luis Arraez                       1                 1   \n",
       "8269    Randal Grichuk                       1                 1   \n",
       "6049       Nolan Jones                       1                 1   \n",
       "9782    Randal Grichuk                       1                 1   \n",
       "8762    Randal Grichuk                       0                 1   \n",
       "\n",
       "      prediction_score  theo_odds  over_prob  over_odds  over_line  \n",
       "5053            0.7509       -301   0.714286     -250.0        0.5  \n",
       "1939            0.7514       -302   0.687500     -220.0        0.5  \n",
       "7460            0.7517       -303   0.661017     -195.0        0.5  \n",
       "2355            0.7525       -304   0.705882     -240.0        0.5  \n",
       "6648            0.7529       -305   0.733333     -275.0        0.5  \n",
       "...                ...        ...        ...        ...        ...  \n",
       "9470            0.8082       -421   0.736842     -280.0        0.5  \n",
       "8269            0.8182       -450   0.722222     -260.0        0.5  \n",
       "6049            0.8265       -476   0.729730     -270.0        0.5  \n",
       "9782            0.8320       -495   0.672131     -205.0        0.5  \n",
       "8762            0.8325       -497   0.736842     -280.0        0.5  \n",
       "\n",
       "[68 rows x 11 columns]"
      ]
     },
     "execution_count": 194,
     "metadata": {},
     "output_type": "execute_result"
    }
   ],
   "source": [
    "model.odds_eval.get_df_confident_prediction_odds(df_prediction_odds_2023, target_column, score_threshold = 0.75)"
   ]
  },
  {
   "cell_type": "code",
   "execution_count": 201,
   "id": "772f82e8-1f62-4c4e-84c3-cf510012b32c",
   "metadata": {
    "execution": {
     "iopub.execute_input": "2023-07-09T21:31:49.230075Z",
     "iopub.status.busy": "2023-07-09T21:31:49.229629Z",
     "iopub.status.idle": "2023-07-09T21:31:49.350973Z",
     "shell.execute_reply": "2023-07-09T21:31:49.349755Z",
     "shell.execute_reply.started": "2023-07-09T21:31:49.230033Z"
    }
   },
   "outputs": [
    {
     "data": {
      "text/plain": [
       "<module 'odds_data.query_bq_odds' from '/home/junlim/projects/mlb-props/odds_data/query_bq_odds.py'>"
      ]
     },
     "execution_count": 201,
     "metadata": {},
     "output_type": "execute_result"
    }
   ],
   "source": [
    "importlib.reload(model.common)\n",
    "importlib.reload(model.odds_eval)\n",
    "importlib.reload(odds_data.query_bq_odds)"
   ]
  },
  {
   "cell_type": "code",
   "execution_count": 205,
   "id": "29788312-6e9c-48e4-a4c6-3e909e1aa54c",
   "metadata": {
    "execution": {
     "iopub.execute_input": "2023-07-09T21:32:09.409095Z",
     "iopub.status.busy": "2023-07-09T21:32:09.408688Z",
     "iopub.status.idle": "2023-07-09T21:32:09.476532Z",
     "shell.execute_reply": "2023-07-09T21:32:09.465101Z",
     "shell.execute_reply.started": "2023-07-09T21:32:09.409059Z"
    },
    "scrolled": true
   },
   "outputs": [
    {
     "name": "stdout",
     "output_type": "stream",
     "text": [
      "hit recorded ratio: 0.8571428571428571 (6 out of 7)\n",
      "profit: 1.689879297022154\n"
     ]
    },
    {
     "data": {
      "text/html": [
       "<div>\n",
       "<style scoped>\n",
       "    .dataframe tbody tr th:only-of-type {\n",
       "        vertical-align: middle;\n",
       "    }\n",
       "\n",
       "    .dataframe tbody tr th {\n",
       "        vertical-align: top;\n",
       "    }\n",
       "\n",
       "    .dataframe thead th {\n",
       "        text-align: right;\n",
       "    }\n",
       "</style>\n",
       "<table border=\"1\" class=\"dataframe\">\n",
       "  <thead>\n",
       "    <tr style=\"text-align: right;\">\n",
       "      <th></th>\n",
       "      <th>game_date</th>\n",
       "      <th>team_away</th>\n",
       "      <th>team_home</th>\n",
       "      <th>batting_name</th>\n",
       "      <th>prediction_diff</th>\n",
       "      <th>batting_1hits_recorded</th>\n",
       "      <th>prediction_label</th>\n",
       "      <th>prediction_score</th>\n",
       "      <th>theo_odds</th>\n",
       "      <th>over_prob</th>\n",
       "      <th>over_odds</th>\n",
       "      <th>over_line</th>\n",
       "    </tr>\n",
       "  </thead>\n",
       "  <tbody>\n",
       "    <tr>\n",
       "      <th>2681</th>\n",
       "      <td>2023-06-18</td>\n",
       "      <td>Colorado Rockies</td>\n",
       "      <td>Atlanta Braves</td>\n",
       "      <td>Randal Grichuk</td>\n",
       "      <td>0.056583</td>\n",
       "      <td>1</td>\n",
       "      <td>1</td>\n",
       "      <td>0.7176</td>\n",
       "      <td>-254</td>\n",
       "      <td>0.661017</td>\n",
       "      <td>-195.0</td>\n",
       "      <td>0.5</td>\n",
       "    </tr>\n",
       "    <tr>\n",
       "      <th>474</th>\n",
       "      <td>2023-07-02</td>\n",
       "      <td>San Francisco Giants</td>\n",
       "      <td>New York Mets</td>\n",
       "      <td>Tommy Pham</td>\n",
       "      <td>0.050118</td>\n",
       "      <td>1</td>\n",
       "      <td>1</td>\n",
       "      <td>0.7560</td>\n",
       "      <td>-310</td>\n",
       "      <td>0.705882</td>\n",
       "      <td>-240.0</td>\n",
       "      <td>0.5</td>\n",
       "    </tr>\n",
       "    <tr>\n",
       "      <th>1939</th>\n",
       "      <td>2023-06-24</td>\n",
       "      <td>New York Mets</td>\n",
       "      <td>Philadelphia Phillies</td>\n",
       "      <td>Nick Castellanos</td>\n",
       "      <td>0.063900</td>\n",
       "      <td>1</td>\n",
       "      <td>1</td>\n",
       "      <td>0.7514</td>\n",
       "      <td>-302</td>\n",
       "      <td>0.687500</td>\n",
       "      <td>-220.0</td>\n",
       "      <td>0.5</td>\n",
       "    </tr>\n",
       "    <tr>\n",
       "      <th>2379</th>\n",
       "      <td>2023-06-18</td>\n",
       "      <td>Baltimore Orioles</td>\n",
       "      <td>Chicago Cubs</td>\n",
       "      <td>Christopher Morel</td>\n",
       "      <td>0.089777</td>\n",
       "      <td>1</td>\n",
       "      <td>1</td>\n",
       "      <td>0.7389</td>\n",
       "      <td>-283</td>\n",
       "      <td>0.649123</td>\n",
       "      <td>-185.0</td>\n",
       "      <td>0.5</td>\n",
       "    </tr>\n",
       "    <tr>\n",
       "      <th>2378</th>\n",
       "      <td>2023-06-18</td>\n",
       "      <td>Baltimore Orioles</td>\n",
       "      <td>Chicago Cubs</td>\n",
       "      <td>Austin Hays</td>\n",
       "      <td>0.083255</td>\n",
       "      <td>1</td>\n",
       "      <td>1</td>\n",
       "      <td>0.7934</td>\n",
       "      <td>-384</td>\n",
       "      <td>0.710145</td>\n",
       "      <td>-245.0</td>\n",
       "      <td>0.5</td>\n",
       "    </tr>\n",
       "    <tr>\n",
       "      <th>9470</th>\n",
       "      <td>2023-05-30</td>\n",
       "      <td>San Diego Padres</td>\n",
       "      <td>Miami Marlins</td>\n",
       "      <td>Luis Arraez</td>\n",
       "      <td>0.071358</td>\n",
       "      <td>1</td>\n",
       "      <td>1</td>\n",
       "      <td>0.8082</td>\n",
       "      <td>-421</td>\n",
       "      <td>0.736842</td>\n",
       "      <td>-280.0</td>\n",
       "      <td>0.5</td>\n",
       "    </tr>\n",
       "    <tr>\n",
       "      <th>1506</th>\n",
       "      <td>2023-06-25</td>\n",
       "      <td>Los Angeles Angels</td>\n",
       "      <td>Colorado Rockies</td>\n",
       "      <td>Nolan Jones</td>\n",
       "      <td>0.101792</td>\n",
       "      <td>0</td>\n",
       "      <td>1</td>\n",
       "      <td>0.7941</td>\n",
       "      <td>-386</td>\n",
       "      <td>0.692308</td>\n",
       "      <td>-225.0</td>\n",
       "      <td>0.5</td>\n",
       "    </tr>\n",
       "  </tbody>\n",
       "</table>\n",
       "</div>"
      ],
      "text/plain": [
       "      game_date             team_away              team_home  \\\n",
       "2681 2023-06-18      Colorado Rockies         Atlanta Braves   \n",
       "474  2023-07-02  San Francisco Giants          New York Mets   \n",
       "1939 2023-06-24         New York Mets  Philadelphia Phillies   \n",
       "2379 2023-06-18     Baltimore Orioles           Chicago Cubs   \n",
       "2378 2023-06-18     Baltimore Orioles           Chicago Cubs   \n",
       "9470 2023-05-30      San Diego Padres          Miami Marlins   \n",
       "1506 2023-06-25    Los Angeles Angels       Colorado Rockies   \n",
       "\n",
       "           batting_name  prediction_diff  batting_1hits_recorded  \\\n",
       "2681     Randal Grichuk         0.056583                       1   \n",
       "474          Tommy Pham         0.050118                       1   \n",
       "1939   Nick Castellanos         0.063900                       1   \n",
       "2379  Christopher Morel         0.089777                       1   \n",
       "2378        Austin Hays         0.083255                       1   \n",
       "9470        Luis Arraez         0.071358                       1   \n",
       "1506        Nolan Jones         0.101792                       0   \n",
       "\n",
       "      prediction_label  prediction_score  theo_odds  over_prob  over_odds  \\\n",
       "2681                 1            0.7176       -254   0.661017     -195.0   \n",
       "474                  1            0.7560       -310   0.705882     -240.0   \n",
       "1939                 1            0.7514       -302   0.687500     -220.0   \n",
       "2379                 1            0.7389       -283   0.649123     -185.0   \n",
       "2378                 1            0.7934       -384   0.710145     -245.0   \n",
       "9470                 1            0.8082       -421   0.736842     -280.0   \n",
       "1506                 1            0.7941       -386   0.692308     -225.0   \n",
       "\n",
       "      over_line  \n",
       "2681        0.5  \n",
       "474         0.5  \n",
       "1939        0.5  \n",
       "2379        0.5  \n",
       "2378        0.5  \n",
       "9470        0.5  \n",
       "1506        0.5  "
      ]
     },
     "execution_count": 205,
     "metadata": {},
     "output_type": "execute_result"
    }
   ],
   "source": [
    "df_advantageous_prediction_odds_2023 = model.odds_eval.get_df_advantageous_prediction_odds(df_prediction_odds_2023, target_column, prediction_diff_threshold = 0.05, score_threshold = 0.70)\n",
    "df_advantageous_prediction_odds_2023"
   ]
  },
  {
   "cell_type": "code",
   "execution_count": null,
   "id": "8465724a-4af1-42de-aca7-f34036e264d0",
   "metadata": {},
   "outputs": [],
   "source": []
  }
 ],
 "metadata": {
  "kernelspec": {
   "display_name": "Python 3 (ipykernel)",
   "language": "python",
   "name": "python3"
  },
  "language_info": {
   "codemirror_mode": {
    "name": "ipython",
    "version": 3
   },
   "file_extension": ".py",
   "mimetype": "text/x-python",
   "name": "python",
   "nbconvert_exporter": "python",
   "pygments_lexer": "ipython3",
   "version": "3.10.6"
  }
 },
 "nbformat": 4,
 "nbformat_minor": 5
}
