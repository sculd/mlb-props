{
 "cells": [
  {
   "cell_type": "markdown",
   "metadata": {
    "id": "X1V_SUC4p-YQ"
   },
   "source": [
    "**Import Packages**"
   ]
  },
  {
   "cell_type": "code",
   "execution_count": 1,
   "metadata": {
    "colab": {
     "base_uri": "https://localhost:8080/"
    },
    "execution": {
     "iopub.execute_input": "2023-07-07T01:34:00.542430Z",
     "iopub.status.busy": "2023-07-07T01:34:00.542219Z",
     "iopub.status.idle": "2023-07-07T01:34:02.377189Z",
     "shell.execute_reply": "2023-07-07T01:34:02.376544Z",
     "shell.execute_reply.started": "2023-07-07T01:34:00.542415Z"
    },
    "id": "IGZCa25_p5QY",
    "outputId": "d9e7f9d8-21e8-49dd-d344-173324ba79a5",
    "tags": []
   },
   "outputs": [],
   "source": [
    "import pycaret\n",
    "import pandas as pd\n",
    "import numpy as np\n",
    "import sqlalchemy\n",
    "import mysql.connector\n",
    "\n",
    "from pycaret import classification\n",
    "from pycaret.classification import plot_model\n",
    "from datetime import datetime\n",
    "import importlib\n",
    "import model.common"
   ]
  },
  {
   "cell_type": "code",
   "execution_count": 2,
   "metadata": {
    "execution": {
     "iopub.execute_input": "2023-07-07T01:34:02.378181Z",
     "iopub.status.busy": "2023-07-07T01:34:02.378045Z",
     "iopub.status.idle": "2023-07-07T01:34:02.380826Z",
     "shell.execute_reply": "2023-07-07T01:34:02.380435Z",
     "shell.execute_reply.started": "2023-07-07T01:34:02.378170Z"
    }
   },
   "outputs": [],
   "source": [
    "from static_data.load_static_data import *"
   ]
  },
  {
   "cell_type": "markdown",
   "metadata": {
    "id": "jqde2RQfqchC"
   },
   "source": [
    "**Load Data**"
   ]
  },
  {
   "cell_type": "code",
   "execution_count": 3,
   "metadata": {
    "execution": {
     "iopub.execute_input": "2023-07-07T01:34:02.381341Z",
     "iopub.status.busy": "2023-07-07T01:34:02.381244Z",
     "iopub.status.idle": "2023-07-07T01:34:02.797424Z",
     "shell.execute_reply": "2023-07-07T01:34:02.796547Z",
     "shell.execute_reply.started": "2023-07-07T01:34:02.381332Z"
    }
   },
   "outputs": [
    {
     "name": "stdout",
     "output_type": "stream",
     "text": [
      "325647\n"
     ]
    }
   ],
   "source": [
    "collect_data_Base_dir = 'collect_data'\n",
    "df_game_matchup_total = pd.read_pickle(f'{collect_data_Base_dir}/df_game_matchup_total.pkl')\n",
    "print(len(df_game_matchup_total))"
   ]
  },
  {
   "cell_type": "markdown",
   "metadata": {
    "id": "VkSM5TOeule8"
   },
   "source": [
    "**Choose Columns**"
   ]
  },
  {
   "cell_type": "code",
   "execution_count": 4,
   "metadata": {
    "execution": {
     "iopub.execute_input": "2023-07-07T01:34:02.798954Z",
     "iopub.status.busy": "2023-07-07T01:34:02.798628Z",
     "iopub.status.idle": "2023-07-07T01:34:02.804345Z",
     "shell.execute_reply": "2023-07-07T01:34:02.803894Z",
     "shell.execute_reply.started": "2023-07-07T01:34:02.798925Z"
    }
   },
   "outputs": [
    {
     "data": {
      "text/plain": [
       "<module 'model.common' from '/home/junlim/projects/mlb-props/model/common.py'>"
      ]
     },
     "execution_count": 4,
     "metadata": {},
     "output_type": "execute_result"
    }
   ],
   "source": [
    "importlib.reload(model.common)"
   ]
  },
  {
   "cell_type": "code",
   "execution_count": 5,
   "metadata": {
    "execution": {
     "iopub.execute_input": "2023-07-07T01:34:02.806313Z",
     "iopub.status.busy": "2023-07-07T01:34:02.806007Z",
     "iopub.status.idle": "2023-07-07T01:34:02.820054Z",
     "shell.execute_reply": "2023-07-07T01:34:02.819370Z",
     "shell.execute_reply.started": "2023-07-07T01:34:02.806292Z"
    }
   },
   "outputs": [],
   "source": [
    "feature_columns, target_column, model_file_name = model.common.features_2stolenbases_recorded, model.common.target_2stolenbases_recorded, model.common.model_2stolenbases_file_name"
   ]
  },
  {
   "cell_type": "code",
   "execution_count": 6,
   "metadata": {
    "execution": {
     "iopub.execute_input": "2023-07-07T01:34:02.820908Z",
     "iopub.status.busy": "2023-07-07T01:34:02.820720Z",
     "iopub.status.idle": "2023-07-07T01:34:03.169994Z",
     "shell.execute_reply": "2023-07-07T01:34:03.169362Z",
     "shell.execute_reply.started": "2023-07-07T01:34:02.820891Z"
    }
   },
   "outputs": [],
   "source": [
    "train_data = df_game_matchup_total[(df_game_matchup_total.game_date > \"2012-04-01\") & (df_game_matchup_total.game_date < \"2022-12-01\")][feature_columns]\n",
    "test_data = df_game_matchup_total[(df_game_matchup_total.game_date > \"2022-12-01\")][feature_columns]"
   ]
  },
  {
   "cell_type": "markdown",
   "metadata": {
    "id": "Qxoqal-SvwXp"
   },
   "source": [
    "**Build/Train Model**"
   ]
  },
  {
   "cell_type": "code",
   "execution_count": 7,
   "metadata": {
    "execution": {
     "iopub.execute_input": "2023-07-07T01:34:03.170620Z",
     "iopub.status.busy": "2023-07-07T01:34:03.170501Z",
     "iopub.status.idle": "2023-07-07T01:38:10.272331Z",
     "shell.execute_reply": "2023-07-07T01:38:10.271468Z",
     "shell.execute_reply.started": "2023-07-07T01:34:03.170609Z"
    },
    "scrolled": true
   },
   "outputs": [
    {
     "data": {
      "text/html": [
       "<style type=\"text/css\">\n",
       "#T_9f28d_row11_col1 {\n",
       "  background-color: lightgreen;\n",
       "}\n",
       "</style>\n",
       "<table id=\"T_9f28d\">\n",
       "  <thead>\n",
       "    <tr>\n",
       "      <th class=\"blank level0\" >&nbsp;</th>\n",
       "      <th id=\"T_9f28d_level0_col0\" class=\"col_heading level0 col0\" >Description</th>\n",
       "      <th id=\"T_9f28d_level0_col1\" class=\"col_heading level0 col1\" >Value</th>\n",
       "    </tr>\n",
       "  </thead>\n",
       "  <tbody>\n",
       "    <tr>\n",
       "      <th id=\"T_9f28d_level0_row0\" class=\"row_heading level0 row0\" >0</th>\n",
       "      <td id=\"T_9f28d_row0_col0\" class=\"data row0 col0\" >Session id</td>\n",
       "      <td id=\"T_9f28d_row0_col1\" class=\"data row0 col1\" >5328</td>\n",
       "    </tr>\n",
       "    <tr>\n",
       "      <th id=\"T_9f28d_level0_row1\" class=\"row_heading level0 row1\" >1</th>\n",
       "      <td id=\"T_9f28d_row1_col0\" class=\"data row1 col0\" >Target</td>\n",
       "      <td id=\"T_9f28d_row1_col1\" class=\"data row1 col1\" >batting_2stolenBases_recorded</td>\n",
       "    </tr>\n",
       "    <tr>\n",
       "      <th id=\"T_9f28d_level0_row2\" class=\"row_heading level0 row2\" >2</th>\n",
       "      <td id=\"T_9f28d_row2_col0\" class=\"data row2 col0\" >Target type</td>\n",
       "      <td id=\"T_9f28d_row2_col1\" class=\"data row2 col1\" >Binary</td>\n",
       "    </tr>\n",
       "    <tr>\n",
       "      <th id=\"T_9f28d_level0_row3\" class=\"row_heading level0 row3\" >3</th>\n",
       "      <td id=\"T_9f28d_row3_col0\" class=\"data row3 col0\" >Original data shape</td>\n",
       "      <td id=\"T_9f28d_row3_col1\" class=\"data row3 col1\" >(285090, 21)</td>\n",
       "    </tr>\n",
       "    <tr>\n",
       "      <th id=\"T_9f28d_level0_row4\" class=\"row_heading level0 row4\" >4</th>\n",
       "      <td id=\"T_9f28d_row4_col0\" class=\"data row4 col0\" >Transformed data shape</td>\n",
       "      <td id=\"T_9f28d_row4_col1\" class=\"data row4 col1\" >(285090, 15)</td>\n",
       "    </tr>\n",
       "    <tr>\n",
       "      <th id=\"T_9f28d_level0_row5\" class=\"row_heading level0 row5\" >5</th>\n",
       "      <td id=\"T_9f28d_row5_col0\" class=\"data row5 col0\" >Transformed train set shape</td>\n",
       "      <td id=\"T_9f28d_row5_col1\" class=\"data row5 col1\" >(199563, 15)</td>\n",
       "    </tr>\n",
       "    <tr>\n",
       "      <th id=\"T_9f28d_level0_row6\" class=\"row_heading level0 row6\" >6</th>\n",
       "      <td id=\"T_9f28d_row6_col0\" class=\"data row6 col0\" >Transformed test set shape</td>\n",
       "      <td id=\"T_9f28d_row6_col1\" class=\"data row6 col1\" >(85527, 15)</td>\n",
       "    </tr>\n",
       "    <tr>\n",
       "      <th id=\"T_9f28d_level0_row7\" class=\"row_heading level0 row7\" >7</th>\n",
       "      <td id=\"T_9f28d_row7_col0\" class=\"data row7 col0\" >Ignore features</td>\n",
       "      <td id=\"T_9f28d_row7_col1\" class=\"data row7 col1\" >6</td>\n",
       "    </tr>\n",
       "    <tr>\n",
       "      <th id=\"T_9f28d_level0_row8\" class=\"row_heading level0 row8\" >8</th>\n",
       "      <td id=\"T_9f28d_row8_col0\" class=\"data row8 col0\" >Numeric features</td>\n",
       "      <td id=\"T_9f28d_row8_col1\" class=\"data row8 col1\" >13</td>\n",
       "    </tr>\n",
       "    <tr>\n",
       "      <th id=\"T_9f28d_level0_row9\" class=\"row_heading level0 row9\" >9</th>\n",
       "      <td id=\"T_9f28d_row9_col0\" class=\"data row9 col0\" >Categorical features</td>\n",
       "      <td id=\"T_9f28d_row9_col1\" class=\"data row9 col1\" >1</td>\n",
       "    </tr>\n",
       "    <tr>\n",
       "      <th id=\"T_9f28d_level0_row10\" class=\"row_heading level0 row10\" >10</th>\n",
       "      <td id=\"T_9f28d_row10_col0\" class=\"data row10 col0\" >Rows with missing values</td>\n",
       "      <td id=\"T_9f28d_row10_col1\" class=\"data row10 col1\" >0.0%</td>\n",
       "    </tr>\n",
       "    <tr>\n",
       "      <th id=\"T_9f28d_level0_row11\" class=\"row_heading level0 row11\" >11</th>\n",
       "      <td id=\"T_9f28d_row11_col0\" class=\"data row11 col0\" >Preprocess</td>\n",
       "      <td id=\"T_9f28d_row11_col1\" class=\"data row11 col1\" >True</td>\n",
       "    </tr>\n",
       "    <tr>\n",
       "      <th id=\"T_9f28d_level0_row12\" class=\"row_heading level0 row12\" >12</th>\n",
       "      <td id=\"T_9f28d_row12_col0\" class=\"data row12 col0\" >Imputation type</td>\n",
       "      <td id=\"T_9f28d_row12_col1\" class=\"data row12 col1\" >simple</td>\n",
       "    </tr>\n",
       "    <tr>\n",
       "      <th id=\"T_9f28d_level0_row13\" class=\"row_heading level0 row13\" >13</th>\n",
       "      <td id=\"T_9f28d_row13_col0\" class=\"data row13 col0\" >Numeric imputation</td>\n",
       "      <td id=\"T_9f28d_row13_col1\" class=\"data row13 col1\" >mean</td>\n",
       "    </tr>\n",
       "    <tr>\n",
       "      <th id=\"T_9f28d_level0_row14\" class=\"row_heading level0 row14\" >14</th>\n",
       "      <td id=\"T_9f28d_row14_col0\" class=\"data row14 col0\" >Categorical imputation</td>\n",
       "      <td id=\"T_9f28d_row14_col1\" class=\"data row14 col1\" >mode</td>\n",
       "    </tr>\n",
       "    <tr>\n",
       "      <th id=\"T_9f28d_level0_row15\" class=\"row_heading level0 row15\" >15</th>\n",
       "      <td id=\"T_9f28d_row15_col0\" class=\"data row15 col0\" >Maximum one-hot encoding</td>\n",
       "      <td id=\"T_9f28d_row15_col1\" class=\"data row15 col1\" >25</td>\n",
       "    </tr>\n",
       "    <tr>\n",
       "      <th id=\"T_9f28d_level0_row16\" class=\"row_heading level0 row16\" >16</th>\n",
       "      <td id=\"T_9f28d_row16_col0\" class=\"data row16 col0\" >Encoding method</td>\n",
       "      <td id=\"T_9f28d_row16_col1\" class=\"data row16 col1\" >None</td>\n",
       "    </tr>\n",
       "    <tr>\n",
       "      <th id=\"T_9f28d_level0_row17\" class=\"row_heading level0 row17\" >17</th>\n",
       "      <td id=\"T_9f28d_row17_col0\" class=\"data row17 col0\" >Fold Generator</td>\n",
       "      <td id=\"T_9f28d_row17_col1\" class=\"data row17 col1\" >StratifiedKFold</td>\n",
       "    </tr>\n",
       "    <tr>\n",
       "      <th id=\"T_9f28d_level0_row18\" class=\"row_heading level0 row18\" >18</th>\n",
       "      <td id=\"T_9f28d_row18_col0\" class=\"data row18 col0\" >Fold Number</td>\n",
       "      <td id=\"T_9f28d_row18_col1\" class=\"data row18 col1\" >10</td>\n",
       "    </tr>\n",
       "    <tr>\n",
       "      <th id=\"T_9f28d_level0_row19\" class=\"row_heading level0 row19\" >19</th>\n",
       "      <td id=\"T_9f28d_row19_col0\" class=\"data row19 col0\" >CPU Jobs</td>\n",
       "      <td id=\"T_9f28d_row19_col1\" class=\"data row19 col1\" >-1</td>\n",
       "    </tr>\n",
       "    <tr>\n",
       "      <th id=\"T_9f28d_level0_row20\" class=\"row_heading level0 row20\" >20</th>\n",
       "      <td id=\"T_9f28d_row20_col0\" class=\"data row20 col0\" >Use GPU</td>\n",
       "      <td id=\"T_9f28d_row20_col1\" class=\"data row20 col1\" >False</td>\n",
       "    </tr>\n",
       "    <tr>\n",
       "      <th id=\"T_9f28d_level0_row21\" class=\"row_heading level0 row21\" >21</th>\n",
       "      <td id=\"T_9f28d_row21_col0\" class=\"data row21 col0\" >Log Experiment</td>\n",
       "      <td id=\"T_9f28d_row21_col1\" class=\"data row21 col1\" >False</td>\n",
       "    </tr>\n",
       "    <tr>\n",
       "      <th id=\"T_9f28d_level0_row22\" class=\"row_heading level0 row22\" >22</th>\n",
       "      <td id=\"T_9f28d_row22_col0\" class=\"data row22 col0\" >Experiment Name</td>\n",
       "      <td id=\"T_9f28d_row22_col1\" class=\"data row22 col1\" >clf-default-name</td>\n",
       "    </tr>\n",
       "    <tr>\n",
       "      <th id=\"T_9f28d_level0_row23\" class=\"row_heading level0 row23\" >23</th>\n",
       "      <td id=\"T_9f28d_row23_col0\" class=\"data row23 col0\" >USI</td>\n",
       "      <td id=\"T_9f28d_row23_col1\" class=\"data row23 col1\" >80f1</td>\n",
       "    </tr>\n",
       "  </tbody>\n",
       "</table>\n"
      ],
      "text/plain": [
       "<pandas.io.formats.style.Styler at 0x7f35c07b6ef0>"
      ]
     },
     "metadata": {},
     "output_type": "display_data"
    },
    {
     "data": {
      "text/html": [],
      "text/plain": [
       "<IPython.core.display.HTML object>"
      ]
     },
     "metadata": {},
     "output_type": "display_data"
    },
    {
     "data": {
      "text/html": [
       "<style type=\"text/css\">\n",
       "#T_397b4_row10_col0, #T_397b4_row10_col1, #T_397b4_row10_col2, #T_397b4_row10_col3, #T_397b4_row10_col4, #T_397b4_row10_col5, #T_397b4_row10_col6 {\n",
       "  background: yellow;\n",
       "}\n",
       "</style>\n",
       "<table id=\"T_397b4\">\n",
       "  <thead>\n",
       "    <tr>\n",
       "      <th class=\"blank level0\" >&nbsp;</th>\n",
       "      <th id=\"T_397b4_level0_col0\" class=\"col_heading level0 col0\" >Accuracy</th>\n",
       "      <th id=\"T_397b4_level0_col1\" class=\"col_heading level0 col1\" >AUC</th>\n",
       "      <th id=\"T_397b4_level0_col2\" class=\"col_heading level0 col2\" >Recall</th>\n",
       "      <th id=\"T_397b4_level0_col3\" class=\"col_heading level0 col3\" >Prec.</th>\n",
       "      <th id=\"T_397b4_level0_col4\" class=\"col_heading level0 col4\" >F1</th>\n",
       "      <th id=\"T_397b4_level0_col5\" class=\"col_heading level0 col5\" >Kappa</th>\n",
       "      <th id=\"T_397b4_level0_col6\" class=\"col_heading level0 col6\" >MCC</th>\n",
       "    </tr>\n",
       "    <tr>\n",
       "      <th class=\"index_name level0\" >Fold</th>\n",
       "      <th class=\"blank col0\" >&nbsp;</th>\n",
       "      <th class=\"blank col1\" >&nbsp;</th>\n",
       "      <th class=\"blank col2\" >&nbsp;</th>\n",
       "      <th class=\"blank col3\" >&nbsp;</th>\n",
       "      <th class=\"blank col4\" >&nbsp;</th>\n",
       "      <th class=\"blank col5\" >&nbsp;</th>\n",
       "      <th class=\"blank col6\" >&nbsp;</th>\n",
       "    </tr>\n",
       "  </thead>\n",
       "  <tbody>\n",
       "    <tr>\n",
       "      <th id=\"T_397b4_level0_row0\" class=\"row_heading level0 row0\" >0</th>\n",
       "      <td id=\"T_397b4_row0_col0\" class=\"data row0 col0\" >0.9960</td>\n",
       "      <td id=\"T_397b4_row0_col1\" class=\"data row0 col1\" >0.7299</td>\n",
       "      <td id=\"T_397b4_row0_col2\" class=\"data row0 col2\" >0.0000</td>\n",
       "      <td id=\"T_397b4_row0_col3\" class=\"data row0 col3\" >0.0000</td>\n",
       "      <td id=\"T_397b4_row0_col4\" class=\"data row0 col4\" >0.0000</td>\n",
       "      <td id=\"T_397b4_row0_col5\" class=\"data row0 col5\" >0.0000</td>\n",
       "      <td id=\"T_397b4_row0_col6\" class=\"data row0 col6\" >0.0000</td>\n",
       "    </tr>\n",
       "    <tr>\n",
       "      <th id=\"T_397b4_level0_row1\" class=\"row_heading level0 row1\" >1</th>\n",
       "      <td id=\"T_397b4_row1_col0\" class=\"data row1 col0\" >0.9960</td>\n",
       "      <td id=\"T_397b4_row1_col1\" class=\"data row1 col1\" >0.7461</td>\n",
       "      <td id=\"T_397b4_row1_col2\" class=\"data row1 col2\" >0.0000</td>\n",
       "      <td id=\"T_397b4_row1_col3\" class=\"data row1 col3\" >0.0000</td>\n",
       "      <td id=\"T_397b4_row1_col4\" class=\"data row1 col4\" >0.0000</td>\n",
       "      <td id=\"T_397b4_row1_col5\" class=\"data row1 col5\" >0.0000</td>\n",
       "      <td id=\"T_397b4_row1_col6\" class=\"data row1 col6\" >0.0000</td>\n",
       "    </tr>\n",
       "    <tr>\n",
       "      <th id=\"T_397b4_level0_row2\" class=\"row_heading level0 row2\" >2</th>\n",
       "      <td id=\"T_397b4_row2_col0\" class=\"data row2 col0\" >0.9960</td>\n",
       "      <td id=\"T_397b4_row2_col1\" class=\"data row2 col1\" >0.6977</td>\n",
       "      <td id=\"T_397b4_row2_col2\" class=\"data row2 col2\" >0.0000</td>\n",
       "      <td id=\"T_397b4_row2_col3\" class=\"data row2 col3\" >0.0000</td>\n",
       "      <td id=\"T_397b4_row2_col4\" class=\"data row2 col4\" >0.0000</td>\n",
       "      <td id=\"T_397b4_row2_col5\" class=\"data row2 col5\" >0.0000</td>\n",
       "      <td id=\"T_397b4_row2_col6\" class=\"data row2 col6\" >0.0000</td>\n",
       "    </tr>\n",
       "    <tr>\n",
       "      <th id=\"T_397b4_level0_row3\" class=\"row_heading level0 row3\" >3</th>\n",
       "      <td id=\"T_397b4_row3_col0\" class=\"data row3 col0\" >0.9961</td>\n",
       "      <td id=\"T_397b4_row3_col1\" class=\"data row3 col1\" >0.7214</td>\n",
       "      <td id=\"T_397b4_row3_col2\" class=\"data row3 col2\" >0.0000</td>\n",
       "      <td id=\"T_397b4_row3_col3\" class=\"data row3 col3\" >0.0000</td>\n",
       "      <td id=\"T_397b4_row3_col4\" class=\"data row3 col4\" >0.0000</td>\n",
       "      <td id=\"T_397b4_row3_col5\" class=\"data row3 col5\" >0.0000</td>\n",
       "      <td id=\"T_397b4_row3_col6\" class=\"data row3 col6\" >0.0000</td>\n",
       "    </tr>\n",
       "    <tr>\n",
       "      <th id=\"T_397b4_level0_row4\" class=\"row_heading level0 row4\" >4</th>\n",
       "      <td id=\"T_397b4_row4_col0\" class=\"data row4 col0\" >0.9960</td>\n",
       "      <td id=\"T_397b4_row4_col1\" class=\"data row4 col1\" >0.7540</td>\n",
       "      <td id=\"T_397b4_row4_col2\" class=\"data row4 col2\" >0.0000</td>\n",
       "      <td id=\"T_397b4_row4_col3\" class=\"data row4 col3\" >0.0000</td>\n",
       "      <td id=\"T_397b4_row4_col4\" class=\"data row4 col4\" >0.0000</td>\n",
       "      <td id=\"T_397b4_row4_col5\" class=\"data row4 col5\" >0.0000</td>\n",
       "      <td id=\"T_397b4_row4_col6\" class=\"data row4 col6\" >0.0000</td>\n",
       "    </tr>\n",
       "    <tr>\n",
       "      <th id=\"T_397b4_level0_row5\" class=\"row_heading level0 row5\" >5</th>\n",
       "      <td id=\"T_397b4_row5_col0\" class=\"data row5 col0\" >0.9960</td>\n",
       "      <td id=\"T_397b4_row5_col1\" class=\"data row5 col1\" >0.6748</td>\n",
       "      <td id=\"T_397b4_row5_col2\" class=\"data row5 col2\" >0.0000</td>\n",
       "      <td id=\"T_397b4_row5_col3\" class=\"data row5 col3\" >0.0000</td>\n",
       "      <td id=\"T_397b4_row5_col4\" class=\"data row5 col4\" >0.0000</td>\n",
       "      <td id=\"T_397b4_row5_col5\" class=\"data row5 col5\" >0.0000</td>\n",
       "      <td id=\"T_397b4_row5_col6\" class=\"data row5 col6\" >0.0000</td>\n",
       "    </tr>\n",
       "    <tr>\n",
       "      <th id=\"T_397b4_level0_row6\" class=\"row_heading level0 row6\" >6</th>\n",
       "      <td id=\"T_397b4_row6_col0\" class=\"data row6 col0\" >0.9960</td>\n",
       "      <td id=\"T_397b4_row6_col1\" class=\"data row6 col1\" >0.7486</td>\n",
       "      <td id=\"T_397b4_row6_col2\" class=\"data row6 col2\" >0.0000</td>\n",
       "      <td id=\"T_397b4_row6_col3\" class=\"data row6 col3\" >0.0000</td>\n",
       "      <td id=\"T_397b4_row6_col4\" class=\"data row6 col4\" >0.0000</td>\n",
       "      <td id=\"T_397b4_row6_col5\" class=\"data row6 col5\" >0.0000</td>\n",
       "      <td id=\"T_397b4_row6_col6\" class=\"data row6 col6\" >0.0000</td>\n",
       "    </tr>\n",
       "    <tr>\n",
       "      <th id=\"T_397b4_level0_row7\" class=\"row_heading level0 row7\" >7</th>\n",
       "      <td id=\"T_397b4_row7_col0\" class=\"data row7 col0\" >0.9960</td>\n",
       "      <td id=\"T_397b4_row7_col1\" class=\"data row7 col1\" >0.7546</td>\n",
       "      <td id=\"T_397b4_row7_col2\" class=\"data row7 col2\" >0.0000</td>\n",
       "      <td id=\"T_397b4_row7_col3\" class=\"data row7 col3\" >0.0000</td>\n",
       "      <td id=\"T_397b4_row7_col4\" class=\"data row7 col4\" >0.0000</td>\n",
       "      <td id=\"T_397b4_row7_col5\" class=\"data row7 col5\" >0.0000</td>\n",
       "      <td id=\"T_397b4_row7_col6\" class=\"data row7 col6\" >0.0000</td>\n",
       "    </tr>\n",
       "    <tr>\n",
       "      <th id=\"T_397b4_level0_row8\" class=\"row_heading level0 row8\" >8</th>\n",
       "      <td id=\"T_397b4_row8_col0\" class=\"data row8 col0\" >0.9960</td>\n",
       "      <td id=\"T_397b4_row8_col1\" class=\"data row8 col1\" >0.7547</td>\n",
       "      <td id=\"T_397b4_row8_col2\" class=\"data row8 col2\" >0.0000</td>\n",
       "      <td id=\"T_397b4_row8_col3\" class=\"data row8 col3\" >0.0000</td>\n",
       "      <td id=\"T_397b4_row8_col4\" class=\"data row8 col4\" >0.0000</td>\n",
       "      <td id=\"T_397b4_row8_col5\" class=\"data row8 col5\" >0.0000</td>\n",
       "      <td id=\"T_397b4_row8_col6\" class=\"data row8 col6\" >0.0000</td>\n",
       "    </tr>\n",
       "    <tr>\n",
       "      <th id=\"T_397b4_level0_row9\" class=\"row_heading level0 row9\" >9</th>\n",
       "      <td id=\"T_397b4_row9_col0\" class=\"data row9 col0\" >0.9960</td>\n",
       "      <td id=\"T_397b4_row9_col1\" class=\"data row9 col1\" >0.7299</td>\n",
       "      <td id=\"T_397b4_row9_col2\" class=\"data row9 col2\" >0.0000</td>\n",
       "      <td id=\"T_397b4_row9_col3\" class=\"data row9 col3\" >0.0000</td>\n",
       "      <td id=\"T_397b4_row9_col4\" class=\"data row9 col4\" >0.0000</td>\n",
       "      <td id=\"T_397b4_row9_col5\" class=\"data row9 col5\" >0.0000</td>\n",
       "      <td id=\"T_397b4_row9_col6\" class=\"data row9 col6\" >0.0000</td>\n",
       "    </tr>\n",
       "    <tr>\n",
       "      <th id=\"T_397b4_level0_row10\" class=\"row_heading level0 row10\" >Mean</th>\n",
       "      <td id=\"T_397b4_row10_col0\" class=\"data row10 col0\" >0.9960</td>\n",
       "      <td id=\"T_397b4_row10_col1\" class=\"data row10 col1\" >0.7312</td>\n",
       "      <td id=\"T_397b4_row10_col2\" class=\"data row10 col2\" >0.0000</td>\n",
       "      <td id=\"T_397b4_row10_col3\" class=\"data row10 col3\" >0.0000</td>\n",
       "      <td id=\"T_397b4_row10_col4\" class=\"data row10 col4\" >0.0000</td>\n",
       "      <td id=\"T_397b4_row10_col5\" class=\"data row10 col5\" >0.0000</td>\n",
       "      <td id=\"T_397b4_row10_col6\" class=\"data row10 col6\" >0.0000</td>\n",
       "    </tr>\n",
       "    <tr>\n",
       "      <th id=\"T_397b4_level0_row11\" class=\"row_heading level0 row11\" >Std</th>\n",
       "      <td id=\"T_397b4_row11_col0\" class=\"data row11 col0\" >0.0000</td>\n",
       "      <td id=\"T_397b4_row11_col1\" class=\"data row11 col1\" >0.0256</td>\n",
       "      <td id=\"T_397b4_row11_col2\" class=\"data row11 col2\" >0.0000</td>\n",
       "      <td id=\"T_397b4_row11_col3\" class=\"data row11 col3\" >0.0000</td>\n",
       "      <td id=\"T_397b4_row11_col4\" class=\"data row11 col4\" >0.0000</td>\n",
       "      <td id=\"T_397b4_row11_col5\" class=\"data row11 col5\" >0.0000</td>\n",
       "      <td id=\"T_397b4_row11_col6\" class=\"data row11 col6\" >0.0000</td>\n",
       "    </tr>\n",
       "  </tbody>\n",
       "</table>\n"
      ],
      "text/plain": [
       "<pandas.io.formats.style.Styler at 0x7f35c033de10>"
      ]
     },
     "metadata": {},
     "output_type": "display_data"
    },
    {
     "data": {
      "text/html": [],
      "text/plain": [
       "<IPython.core.display.HTML object>"
      ]
     },
     "metadata": {},
     "output_type": "display_data"
    },
    {
     "data": {
      "text/html": [],
      "text/plain": [
       "<IPython.core.display.HTML object>"
      ]
     },
     "metadata": {},
     "output_type": "display_data"
    },
    {
     "data": {
      "image/png": "[encoded data removed]",
      "text/plain": [
       "<Figure size 480x330 with 1 Axes>"
      ]
     },
     "metadata": {},
     "output_type": "display_data"
    },
    {
     "data": {
      "text/html": [],
      "text/plain": [
       "<IPython.core.display.HTML object>"
      ]
     },
     "metadata": {},
     "output_type": "display_data"
    },
    {
     "data": {
      "text/html": [
       "<style type=\"text/css\">\n",
       "#T_13771_row10_col0, #T_13771_row10_col1, #T_13771_row10_col2, #T_13771_row10_col3, #T_13771_row10_col4, #T_13771_row10_col5, #T_13771_row10_col6 {\n",
       "  background: yellow;\n",
       "}\n",
       "</style>\n",
       "<table id=\"T_13771\">\n",
       "  <thead>\n",
       "    <tr>\n",
       "      <th class=\"blank level0\" >&nbsp;</th>\n",
       "      <th id=\"T_13771_level0_col0\" class=\"col_heading level0 col0\" >Accuracy</th>\n",
       "      <th id=\"T_13771_level0_col1\" class=\"col_heading level0 col1\" >AUC</th>\n",
       "      <th id=\"T_13771_level0_col2\" class=\"col_heading level0 col2\" >Recall</th>\n",
       "      <th id=\"T_13771_level0_col3\" class=\"col_heading level0 col3\" >Prec.</th>\n",
       "      <th id=\"T_13771_level0_col4\" class=\"col_heading level0 col4\" >F1</th>\n",
       "      <th id=\"T_13771_level0_col5\" class=\"col_heading level0 col5\" >Kappa</th>\n",
       "      <th id=\"T_13771_level0_col6\" class=\"col_heading level0 col6\" >MCC</th>\n",
       "    </tr>\n",
       "    <tr>\n",
       "      <th class=\"index_name level0\" >Fold</th>\n",
       "      <th class=\"blank col0\" >&nbsp;</th>\n",
       "      <th class=\"blank col1\" >&nbsp;</th>\n",
       "      <th class=\"blank col2\" >&nbsp;</th>\n",
       "      <th class=\"blank col3\" >&nbsp;</th>\n",
       "      <th class=\"blank col4\" >&nbsp;</th>\n",
       "      <th class=\"blank col5\" >&nbsp;</th>\n",
       "      <th class=\"blank col6\" >&nbsp;</th>\n",
       "    </tr>\n",
       "  </thead>\n",
       "  <tbody>\n",
       "    <tr>\n",
       "      <th id=\"T_13771_level0_row0\" class=\"row_heading level0 row0\" >0</th>\n",
       "      <td id=\"T_13771_row0_col0\" class=\"data row0 col0\" >0.9953</td>\n",
       "      <td id=\"T_13771_row0_col1\" class=\"data row0 col1\" >0.6841</td>\n",
       "      <td id=\"T_13771_row0_col2\" class=\"data row0 col2\" >0.0000</td>\n",
       "      <td id=\"T_13771_row0_col3\" class=\"data row0 col3\" >0.0000</td>\n",
       "      <td id=\"T_13771_row0_col4\" class=\"data row0 col4\" >0.0000</td>\n",
       "      <td id=\"T_13771_row0_col5\" class=\"data row0 col5\" >-0.0012</td>\n",
       "      <td id=\"T_13771_row0_col6\" class=\"data row0 col6\" >-0.0017</td>\n",
       "    </tr>\n",
       "    <tr>\n",
       "      <th id=\"T_13771_level0_row1\" class=\"row_heading level0 row1\" >1</th>\n",
       "      <td id=\"T_13771_row1_col0\" class=\"data row1 col0\" >0.9953</td>\n",
       "      <td id=\"T_13771_row1_col1\" class=\"data row1 col1\" >0.7198</td>\n",
       "      <td id=\"T_13771_row1_col2\" class=\"data row1 col2\" >0.0000</td>\n",
       "      <td id=\"T_13771_row1_col3\" class=\"data row1 col3\" >0.0000</td>\n",
       "      <td id=\"T_13771_row1_col4\" class=\"data row1 col4\" >0.0000</td>\n",
       "      <td id=\"T_13771_row1_col5\" class=\"data row1 col5\" >-0.0013</td>\n",
       "      <td id=\"T_13771_row1_col6\" class=\"data row1 col6\" >-0.0017</td>\n",
       "    </tr>\n",
       "    <tr>\n",
       "      <th id=\"T_13771_level0_row2\" class=\"row_heading level0 row2\" >2</th>\n",
       "      <td id=\"T_13771_row2_col0\" class=\"data row2 col0\" >0.9952</td>\n",
       "      <td id=\"T_13771_row2_col1\" class=\"data row2 col1\" >0.6818</td>\n",
       "      <td id=\"T_13771_row2_col2\" class=\"data row2 col2\" >0.0000</td>\n",
       "      <td id=\"T_13771_row2_col3\" class=\"data row2 col3\" >0.0000</td>\n",
       "      <td id=\"T_13771_row2_col4\" class=\"data row2 col4\" >0.0000</td>\n",
       "      <td id=\"T_13771_row2_col5\" class=\"data row2 col5\" >-0.0014</td>\n",
       "      <td id=\"T_13771_row2_col6\" class=\"data row2 col6\" >-0.0018</td>\n",
       "    </tr>\n",
       "    <tr>\n",
       "      <th id=\"T_13771_level0_row3\" class=\"row_heading level0 row3\" >3</th>\n",
       "      <td id=\"T_13771_row3_col0\" class=\"data row3 col0\" >0.9958</td>\n",
       "      <td id=\"T_13771_row3_col1\" class=\"data row3 col1\" >0.7100</td>\n",
       "      <td id=\"T_13771_row3_col2\" class=\"data row3 col2\" >0.0000</td>\n",
       "      <td id=\"T_13771_row3_col3\" class=\"data row3 col3\" >0.0000</td>\n",
       "      <td id=\"T_13771_row3_col4\" class=\"data row3 col4\" >0.0000</td>\n",
       "      <td id=\"T_13771_row3_col5\" class=\"data row3 col5\" >-0.0005</td>\n",
       "      <td id=\"T_13771_row3_col6\" class=\"data row3 col6\" >-0.0010</td>\n",
       "    </tr>\n",
       "    <tr>\n",
       "      <th id=\"T_13771_level0_row4\" class=\"row_heading level0 row4\" >4</th>\n",
       "      <td id=\"T_13771_row4_col0\" class=\"data row4 col0\" >0.9955</td>\n",
       "      <td id=\"T_13771_row4_col1\" class=\"data row4 col1\" >0.7051</td>\n",
       "      <td id=\"T_13771_row4_col2\" class=\"data row4 col2\" >0.0000</td>\n",
       "      <td id=\"T_13771_row4_col3\" class=\"data row4 col3\" >0.0000</td>\n",
       "      <td id=\"T_13771_row4_col4\" class=\"data row4 col4\" >0.0000</td>\n",
       "      <td id=\"T_13771_row4_col5\" class=\"data row4 col5\" >-0.0009</td>\n",
       "      <td id=\"T_13771_row4_col6\" class=\"data row4 col6\" >-0.0014</td>\n",
       "    </tr>\n",
       "    <tr>\n",
       "      <th id=\"T_13771_level0_row5\" class=\"row_heading level0 row5\" >5</th>\n",
       "      <td id=\"T_13771_row5_col0\" class=\"data row5 col0\" >0.9958</td>\n",
       "      <td id=\"T_13771_row5_col1\" class=\"data row5 col1\" >0.6775</td>\n",
       "      <td id=\"T_13771_row5_col2\" class=\"data row5 col2\" >0.0127</td>\n",
       "      <td id=\"T_13771_row5_col3\" class=\"data row5 col3\" >0.1429</td>\n",
       "      <td id=\"T_13771_row5_col4\" class=\"data row5 col4\" >0.0233</td>\n",
       "      <td id=\"T_13771_row5_col5\" class=\"data row5 col5\" >0.0226</td>\n",
       "      <td id=\"T_13771_row5_col6\" class=\"data row5 col6\" >0.0414</td>\n",
       "    </tr>\n",
       "    <tr>\n",
       "      <th id=\"T_13771_level0_row6\" class=\"row_heading level0 row6\" >6</th>\n",
       "      <td id=\"T_13771_row6_col0\" class=\"data row6 col0\" >0.9958</td>\n",
       "      <td id=\"T_13771_row6_col1\" class=\"data row6 col1\" >0.6871</td>\n",
       "      <td id=\"T_13771_row6_col2\" class=\"data row6 col2\" >0.0000</td>\n",
       "      <td id=\"T_13771_row6_col3\" class=\"data row6 col3\" >0.0000</td>\n",
       "      <td id=\"T_13771_row6_col4\" class=\"data row6 col4\" >0.0000</td>\n",
       "      <td id=\"T_13771_row6_col5\" class=\"data row6 col5\" >-0.0005</td>\n",
       "      <td id=\"T_13771_row6_col6\" class=\"data row6 col6\" >-0.0010</td>\n",
       "    </tr>\n",
       "    <tr>\n",
       "      <th id=\"T_13771_level0_row7\" class=\"row_heading level0 row7\" >7</th>\n",
       "      <td id=\"T_13771_row7_col0\" class=\"data row7 col0\" >0.9957</td>\n",
       "      <td id=\"T_13771_row7_col1\" class=\"data row7 col1\" >0.7320</td>\n",
       "      <td id=\"T_13771_row7_col2\" class=\"data row7 col2\" >0.0127</td>\n",
       "      <td id=\"T_13771_row7_col3\" class=\"data row7 col3\" >0.1111</td>\n",
       "      <td id=\"T_13771_row7_col4\" class=\"data row7 col4\" >0.0227</td>\n",
       "      <td id=\"T_13771_row7_col5\" class=\"data row7 col5\" >0.0219</td>\n",
       "      <td id=\"T_13771_row7_col6\" class=\"data row7 col6\" >0.0362</td>\n",
       "    </tr>\n",
       "    <tr>\n",
       "      <th id=\"T_13771_level0_row8\" class=\"row_heading level0 row8\" >8</th>\n",
       "      <td id=\"T_13771_row8_col0\" class=\"data row8 col0\" >0.9951</td>\n",
       "      <td id=\"T_13771_row8_col1\" class=\"data row8 col1\" >0.7219</td>\n",
       "      <td id=\"T_13771_row8_col2\" class=\"data row8 col2\" >0.0000</td>\n",
       "      <td id=\"T_13771_row8_col3\" class=\"data row8 col3\" >0.0000</td>\n",
       "      <td id=\"T_13771_row8_col4\" class=\"data row8 col4\" >0.0000</td>\n",
       "      <td id=\"T_13771_row8_col5\" class=\"data row8 col5\" >-0.0015</td>\n",
       "      <td id=\"T_13771_row8_col6\" class=\"data row8 col6\" >-0.0019</td>\n",
       "    </tr>\n",
       "    <tr>\n",
       "      <th id=\"T_13771_level0_row9\" class=\"row_heading level0 row9\" >9</th>\n",
       "      <td id=\"T_13771_row9_col0\" class=\"data row9 col0\" >0.9951</td>\n",
       "      <td id=\"T_13771_row9_col1\" class=\"data row9 col1\" >0.6722</td>\n",
       "      <td id=\"T_13771_row9_col2\" class=\"data row9 col2\" >0.0000</td>\n",
       "      <td id=\"T_13771_row9_col3\" class=\"data row9 col3\" >0.0000</td>\n",
       "      <td id=\"T_13771_row9_col4\" class=\"data row9 col4\" >0.0000</td>\n",
       "      <td id=\"T_13771_row9_col5\" class=\"data row9 col5\" >-0.0015</td>\n",
       "      <td id=\"T_13771_row9_col6\" class=\"data row9 col6\" >-0.0019</td>\n",
       "    </tr>\n",
       "    <tr>\n",
       "      <th id=\"T_13771_level0_row10\" class=\"row_heading level0 row10\" >Mean</th>\n",
       "      <td id=\"T_13771_row10_col0\" class=\"data row10 col0\" >0.9955</td>\n",
       "      <td id=\"T_13771_row10_col1\" class=\"data row10 col1\" >0.6991</td>\n",
       "      <td id=\"T_13771_row10_col2\" class=\"data row10 col2\" >0.0025</td>\n",
       "      <td id=\"T_13771_row10_col3\" class=\"data row10 col3\" >0.0254</td>\n",
       "      <td id=\"T_13771_row10_col4\" class=\"data row10 col4\" >0.0046</td>\n",
       "      <td id=\"T_13771_row10_col5\" class=\"data row10 col5\" >0.0036</td>\n",
       "      <td id=\"T_13771_row10_col6\" class=\"data row10 col6\" >0.0065</td>\n",
       "    </tr>\n",
       "    <tr>\n",
       "      <th id=\"T_13771_level0_row11\" class=\"row_heading level0 row11\" >Std</th>\n",
       "      <td id=\"T_13771_row11_col0\" class=\"data row11 col0\" >0.0003</td>\n",
       "      <td id=\"T_13771_row11_col1\" class=\"data row11 col1\" >0.0201</td>\n",
       "      <td id=\"T_13771_row11_col2\" class=\"data row11 col2\" >0.0051</td>\n",
       "      <td id=\"T_13771_row11_col3\" class=\"data row11 col3\" >0.0513</td>\n",
       "      <td id=\"T_13771_row11_col4\" class=\"data row11 col4\" >0.0092</td>\n",
       "      <td id=\"T_13771_row11_col5\" class=\"data row11 col5\" >0.0094</td>\n",
       "      <td id=\"T_13771_row11_col6\" class=\"data row11 col6\" >0.0162</td>\n",
       "    </tr>\n",
       "  </tbody>\n",
       "</table>\n"
      ],
      "text/plain": [
       "<pandas.io.formats.style.Styler at 0x7f35c089a9e0>"
      ]
     },
     "metadata": {},
     "output_type": "display_data"
    },
    {
     "data": {
      "text/html": [],
      "text/plain": [
       "<IPython.core.display.HTML object>"
      ]
     },
     "metadata": {},
     "output_type": "display_data"
    },
    {
     "data": {
      "text/html": [],
      "text/plain": [
       "<IPython.core.display.HTML object>"
      ]
     },
     "metadata": {},
     "output_type": "display_data"
    },
    {
     "data": {
      "image/png": "[encoded data removed]",
      "text/plain": [
       "<Figure size 480x330 with 1 Axes>"
      ]
     },
     "metadata": {},
     "output_type": "display_data"
    },
    {
     "data": {
      "text/html": [],
      "text/plain": [
       "<IPython.core.display.HTML object>"
      ]
     },
     "metadata": {},
     "output_type": "display_data"
    },
    {
     "data": {
      "text/html": [
       "<style type=\"text/css\">\n",
       "#T_82c77_row10_col0, #T_82c77_row10_col1, #T_82c77_row10_col2, #T_82c77_row10_col3, #T_82c77_row10_col4, #T_82c77_row10_col5, #T_82c77_row10_col6 {\n",
       "  background: yellow;\n",
       "}\n",
       "</style>\n",
       "<table id=\"T_82c77\">\n",
       "  <thead>\n",
       "    <tr>\n",
       "      <th class=\"blank level0\" >&nbsp;</th>\n",
       "      <th id=\"T_82c77_level0_col0\" class=\"col_heading level0 col0\" >Accuracy</th>\n",
       "      <th id=\"T_82c77_level0_col1\" class=\"col_heading level0 col1\" >AUC</th>\n",
       "      <th id=\"T_82c77_level0_col2\" class=\"col_heading level0 col2\" >Recall</th>\n",
       "      <th id=\"T_82c77_level0_col3\" class=\"col_heading level0 col3\" >Prec.</th>\n",
       "      <th id=\"T_82c77_level0_col4\" class=\"col_heading level0 col4\" >F1</th>\n",
       "      <th id=\"T_82c77_level0_col5\" class=\"col_heading level0 col5\" >Kappa</th>\n",
       "      <th id=\"T_82c77_level0_col6\" class=\"col_heading level0 col6\" >MCC</th>\n",
       "    </tr>\n",
       "    <tr>\n",
       "      <th class=\"index_name level0\" >Fold</th>\n",
       "      <th class=\"blank col0\" >&nbsp;</th>\n",
       "      <th class=\"blank col1\" >&nbsp;</th>\n",
       "      <th class=\"blank col2\" >&nbsp;</th>\n",
       "      <th class=\"blank col3\" >&nbsp;</th>\n",
       "      <th class=\"blank col4\" >&nbsp;</th>\n",
       "      <th class=\"blank col5\" >&nbsp;</th>\n",
       "      <th class=\"blank col6\" >&nbsp;</th>\n",
       "    </tr>\n",
       "  </thead>\n",
       "  <tbody>\n",
       "    <tr>\n",
       "      <th id=\"T_82c77_level0_row0\" class=\"row_heading level0 row0\" >0</th>\n",
       "      <td id=\"T_82c77_row0_col0\" class=\"data row0 col0\" >0.9959</td>\n",
       "      <td id=\"T_82c77_row0_col1\" class=\"data row0 col1\" >0.7092</td>\n",
       "      <td id=\"T_82c77_row0_col2\" class=\"data row0 col2\" >0.0000</td>\n",
       "      <td id=\"T_82c77_row0_col3\" class=\"data row0 col3\" >0.0000</td>\n",
       "      <td id=\"T_82c77_row0_col4\" class=\"data row0 col4\" >0.0000</td>\n",
       "      <td id=\"T_82c77_row0_col5\" class=\"data row0 col5\" >-0.0002</td>\n",
       "      <td id=\"T_82c77_row0_col6\" class=\"data row0 col6\" >-0.0006</td>\n",
       "    </tr>\n",
       "    <tr>\n",
       "      <th id=\"T_82c77_level0_row1\" class=\"row_heading level0 row1\" >1</th>\n",
       "      <td id=\"T_82c77_row1_col0\" class=\"data row1 col0\" >0.9957</td>\n",
       "      <td id=\"T_82c77_row1_col1\" class=\"data row1 col1\" >0.7604</td>\n",
       "      <td id=\"T_82c77_row1_col2\" class=\"data row1 col2\" >0.0000</td>\n",
       "      <td id=\"T_82c77_row1_col3\" class=\"data row1 col3\" >0.0000</td>\n",
       "      <td id=\"T_82c77_row1_col4\" class=\"data row1 col4\" >0.0000</td>\n",
       "      <td id=\"T_82c77_row1_col5\" class=\"data row1 col5\" >-0.0006</td>\n",
       "      <td id=\"T_82c77_row1_col6\" class=\"data row1 col6\" >-0.0011</td>\n",
       "    </tr>\n",
       "    <tr>\n",
       "      <th id=\"T_82c77_level0_row2\" class=\"row_heading level0 row2\" >2</th>\n",
       "      <td id=\"T_82c77_row2_col0\" class=\"data row2 col0\" >0.9960</td>\n",
       "      <td id=\"T_82c77_row2_col1\" class=\"data row2 col1\" >0.7121</td>\n",
       "      <td id=\"T_82c77_row2_col2\" class=\"data row2 col2\" >0.0000</td>\n",
       "      <td id=\"T_82c77_row2_col3\" class=\"data row2 col3\" >0.0000</td>\n",
       "      <td id=\"T_82c77_row2_col4\" class=\"data row2 col4\" >0.0000</td>\n",
       "      <td id=\"T_82c77_row2_col5\" class=\"data row2 col5\" >-0.0001</td>\n",
       "      <td id=\"T_82c77_row2_col6\" class=\"data row2 col6\" >-0.0004</td>\n",
       "    </tr>\n",
       "    <tr>\n",
       "      <th id=\"T_82c77_level0_row3\" class=\"row_heading level0 row3\" >3</th>\n",
       "      <td id=\"T_82c77_row3_col0\" class=\"data row3 col0\" >0.9961</td>\n",
       "      <td id=\"T_82c77_row3_col1\" class=\"data row3 col1\" >0.7348</td>\n",
       "      <td id=\"T_82c77_row3_col2\" class=\"data row3 col2\" >0.0128</td>\n",
       "      <td id=\"T_82c77_row3_col3\" class=\"data row3 col3\" >0.5000</td>\n",
       "      <td id=\"T_82c77_row3_col4\" class=\"data row3 col4\" >0.0250</td>\n",
       "      <td id=\"T_82c77_row3_col5\" class=\"data row3 col5\" >0.0248</td>\n",
       "      <td id=\"T_82c77_row3_col6\" class=\"data row3 col6\" >0.0796</td>\n",
       "    </tr>\n",
       "    <tr>\n",
       "      <th id=\"T_82c77_level0_row4\" class=\"row_heading level0 row4\" >4</th>\n",
       "      <td id=\"T_82c77_row4_col0\" class=\"data row4 col0\" >0.9958</td>\n",
       "      <td id=\"T_82c77_row4_col1\" class=\"data row4 col1\" >0.7690</td>\n",
       "      <td id=\"T_82c77_row4_col2\" class=\"data row4 col2\" >0.0000</td>\n",
       "      <td id=\"T_82c77_row4_col3\" class=\"data row4 col3\" >0.0000</td>\n",
       "      <td id=\"T_82c77_row4_col4\" class=\"data row4 col4\" >0.0000</td>\n",
       "      <td id=\"T_82c77_row4_col5\" class=\"data row4 col5\" >-0.0005</td>\n",
       "      <td id=\"T_82c77_row4_col6\" class=\"data row4 col6\" >-0.0010</td>\n",
       "    </tr>\n",
       "    <tr>\n",
       "      <th id=\"T_82c77_level0_row5\" class=\"row_heading level0 row5\" >5</th>\n",
       "      <td id=\"T_82c77_row5_col0\" class=\"data row5 col0\" >0.9957</td>\n",
       "      <td id=\"T_82c77_row5_col1\" class=\"data row5 col1\" >0.6654</td>\n",
       "      <td id=\"T_82c77_row5_col2\" class=\"data row5 col2\" >0.0000</td>\n",
       "      <td id=\"T_82c77_row5_col3\" class=\"data row5 col3\" >0.0000</td>\n",
       "      <td id=\"T_82c77_row5_col4\" class=\"data row5 col4\" >0.0000</td>\n",
       "      <td id=\"T_82c77_row5_col5\" class=\"data row5 col5\" >-0.0006</td>\n",
       "      <td id=\"T_82c77_row5_col6\" class=\"data row5 col6\" >-0.0012</td>\n",
       "    </tr>\n",
       "    <tr>\n",
       "      <th id=\"T_82c77_level0_row6\" class=\"row_heading level0 row6\" >6</th>\n",
       "      <td id=\"T_82c77_row6_col0\" class=\"data row6 col0\" >0.9956</td>\n",
       "      <td id=\"T_82c77_row6_col1\" class=\"data row6 col1\" >0.7471</td>\n",
       "      <td id=\"T_82c77_row6_col2\" class=\"data row6 col2\" >0.0000</td>\n",
       "      <td id=\"T_82c77_row6_col3\" class=\"data row6 col3\" >0.0000</td>\n",
       "      <td id=\"T_82c77_row6_col4\" class=\"data row6 col4\" >0.0000</td>\n",
       "      <td id=\"T_82c77_row6_col5\" class=\"data row6 col5\" >-0.0008</td>\n",
       "      <td id=\"T_82c77_row6_col6\" class=\"data row6 col6\" >-0.0013</td>\n",
       "    </tr>\n",
       "    <tr>\n",
       "      <th id=\"T_82c77_level0_row7\" class=\"row_heading level0 row7\" >7</th>\n",
       "      <td id=\"T_82c77_row7_col0\" class=\"data row7 col0\" >0.9958</td>\n",
       "      <td id=\"T_82c77_row7_col1\" class=\"data row7 col1\" >0.7558</td>\n",
       "      <td id=\"T_82c77_row7_col2\" class=\"data row7 col2\" >0.0000</td>\n",
       "      <td id=\"T_82c77_row7_col3\" class=\"data row7 col3\" >0.0000</td>\n",
       "      <td id=\"T_82c77_row7_col4\" class=\"data row7 col4\" >0.0000</td>\n",
       "      <td id=\"T_82c77_row7_col5\" class=\"data row7 col5\" >-0.0005</td>\n",
       "      <td id=\"T_82c77_row7_col6\" class=\"data row7 col6\" >-0.0010</td>\n",
       "    </tr>\n",
       "    <tr>\n",
       "      <th id=\"T_82c77_level0_row8\" class=\"row_heading level0 row8\" >8</th>\n",
       "      <td id=\"T_82c77_row8_col0\" class=\"data row8 col0\" >0.9959</td>\n",
       "      <td id=\"T_82c77_row8_col1\" class=\"data row8 col1\" >0.7437</td>\n",
       "      <td id=\"T_82c77_row8_col2\" class=\"data row8 col2\" >0.0000</td>\n",
       "      <td id=\"T_82c77_row8_col3\" class=\"data row8 col3\" >0.0000</td>\n",
       "      <td id=\"T_82c77_row8_col4\" class=\"data row8 col4\" >0.0000</td>\n",
       "      <td id=\"T_82c77_row8_col5\" class=\"data row8 col5\" >-0.0003</td>\n",
       "      <td id=\"T_82c77_row8_col6\" class=\"data row8 col6\" >-0.0008</td>\n",
       "    </tr>\n",
       "    <tr>\n",
       "      <th id=\"T_82c77_level0_row9\" class=\"row_heading level0 row9\" >9</th>\n",
       "      <td id=\"T_82c77_row9_col0\" class=\"data row9 col0\" >0.9960</td>\n",
       "      <td id=\"T_82c77_row9_col1\" class=\"data row9 col1\" >0.7289</td>\n",
       "      <td id=\"T_82c77_row9_col2\" class=\"data row9 col2\" >0.0000</td>\n",
       "      <td id=\"T_82c77_row9_col3\" class=\"data row9 col3\" >0.0000</td>\n",
       "      <td id=\"T_82c77_row9_col4\" class=\"data row9 col4\" >0.0000</td>\n",
       "      <td id=\"T_82c77_row9_col5\" class=\"data row9 col5\" >-0.0001</td>\n",
       "      <td id=\"T_82c77_row9_col6\" class=\"data row9 col6\" >-0.0004</td>\n",
       "    </tr>\n",
       "    <tr>\n",
       "      <th id=\"T_82c77_level0_row10\" class=\"row_heading level0 row10\" >Mean</th>\n",
       "      <td id=\"T_82c77_row10_col0\" class=\"data row10 col0\" >0.9959</td>\n",
       "      <td id=\"T_82c77_row10_col1\" class=\"data row10 col1\" >0.7326</td>\n",
       "      <td id=\"T_82c77_row10_col2\" class=\"data row10 col2\" >0.0013</td>\n",
       "      <td id=\"T_82c77_row10_col3\" class=\"data row10 col3\" >0.0500</td>\n",
       "      <td id=\"T_82c77_row10_col4\" class=\"data row10 col4\" >0.0025</td>\n",
       "      <td id=\"T_82c77_row10_col5\" class=\"data row10 col5\" >0.0021</td>\n",
       "      <td id=\"T_82c77_row10_col6\" class=\"data row10 col6\" >0.0072</td>\n",
       "    </tr>\n",
       "    <tr>\n",
       "      <th id=\"T_82c77_level0_row11\" class=\"row_heading level0 row11\" >Std</th>\n",
       "      <td id=\"T_82c77_row11_col0\" class=\"data row11 col0\" >0.0001</td>\n",
       "      <td id=\"T_82c77_row11_col1\" class=\"data row11 col1\" >0.0291</td>\n",
       "      <td id=\"T_82c77_row11_col2\" class=\"data row11 col2\" >0.0038</td>\n",
       "      <td id=\"T_82c77_row11_col3\" class=\"data row11 col3\" >0.1500</td>\n",
       "      <td id=\"T_82c77_row11_col4\" class=\"data row11 col4\" >0.0075</td>\n",
       "      <td id=\"T_82c77_row11_col5\" class=\"data row11 col5\" >0.0076</td>\n",
       "      <td id=\"T_82c77_row11_col6\" class=\"data row11 col6\" >0.0241</td>\n",
       "    </tr>\n",
       "  </tbody>\n",
       "</table>\n"
      ],
      "text/plain": [
       "<pandas.io.formats.style.Styler at 0x7f35c046be80>"
      ]
     },
     "metadata": {},
     "output_type": "display_data"
    },
    {
     "data": {
      "text/html": [],
      "text/plain": [
       "<IPython.core.display.HTML object>"
      ]
     },
     "metadata": {},
     "output_type": "display_data"
    },
    {
     "data": {
      "text/html": [],
      "text/plain": [
       "<IPython.core.display.HTML object>"
      ]
     },
     "metadata": {},
     "output_type": "display_data"
    },
    {
     "data": {
      "image/png": "[encoded data removed]",
      "text/plain": [
       "<Figure size 480x330 with 1 Axes>"
      ]
     },
     "metadata": {},
     "output_type": "display_data"
    },
    {
     "data": {
      "text/html": [],
      "text/plain": [
       "<IPython.core.display.HTML object>"
      ]
     },
     "metadata": {},
     "output_type": "display_data"
    },
    {
     "data": {
      "text/html": [
       "<style type=\"text/css\">\n",
       "#T_431e4_row10_col0, #T_431e4_row10_col1, #T_431e4_row10_col2, #T_431e4_row10_col3, #T_431e4_row10_col4, #T_431e4_row10_col5, #T_431e4_row10_col6 {\n",
       "  background: yellow;\n",
       "}\n",
       "</style>\n",
       "<table id=\"T_431e4\">\n",
       "  <thead>\n",
       "    <tr>\n",
       "      <th class=\"blank level0\" >&nbsp;</th>\n",
       "      <th id=\"T_431e4_level0_col0\" class=\"col_heading level0 col0\" >Accuracy</th>\n",
       "      <th id=\"T_431e4_level0_col1\" class=\"col_heading level0 col1\" >AUC</th>\n",
       "      <th id=\"T_431e4_level0_col2\" class=\"col_heading level0 col2\" >Recall</th>\n",
       "      <th id=\"T_431e4_level0_col3\" class=\"col_heading level0 col3\" >Prec.</th>\n",
       "      <th id=\"T_431e4_level0_col4\" class=\"col_heading level0 col4\" >F1</th>\n",
       "      <th id=\"T_431e4_level0_col5\" class=\"col_heading level0 col5\" >Kappa</th>\n",
       "      <th id=\"T_431e4_level0_col6\" class=\"col_heading level0 col6\" >MCC</th>\n",
       "    </tr>\n",
       "    <tr>\n",
       "      <th class=\"index_name level0\" >Fold</th>\n",
       "      <th class=\"blank col0\" >&nbsp;</th>\n",
       "      <th class=\"blank col1\" >&nbsp;</th>\n",
       "      <th class=\"blank col2\" >&nbsp;</th>\n",
       "      <th class=\"blank col3\" >&nbsp;</th>\n",
       "      <th class=\"blank col4\" >&nbsp;</th>\n",
       "      <th class=\"blank col5\" >&nbsp;</th>\n",
       "      <th class=\"blank col6\" >&nbsp;</th>\n",
       "    </tr>\n",
       "  </thead>\n",
       "  <tbody>\n",
       "    <tr>\n",
       "      <th id=\"T_431e4_level0_row0\" class=\"row_heading level0 row0\" >0</th>\n",
       "      <td id=\"T_431e4_row0_col0\" class=\"data row0 col0\" >0.9960</td>\n",
       "      <td id=\"T_431e4_row0_col1\" class=\"data row0 col1\" >0.6195</td>\n",
       "      <td id=\"T_431e4_row0_col2\" class=\"data row0 col2\" >0.0000</td>\n",
       "      <td id=\"T_431e4_row0_col3\" class=\"data row0 col3\" >0.0000</td>\n",
       "      <td id=\"T_431e4_row0_col4\" class=\"data row0 col4\" >0.0000</td>\n",
       "      <td id=\"T_431e4_row0_col5\" class=\"data row0 col5\" >0.0000</td>\n",
       "      <td id=\"T_431e4_row0_col6\" class=\"data row0 col6\" >0.0000</td>\n",
       "    </tr>\n",
       "    <tr>\n",
       "      <th id=\"T_431e4_level0_row1\" class=\"row_heading level0 row1\" >1</th>\n",
       "      <td id=\"T_431e4_row1_col0\" class=\"data row1 col0\" >0.9960</td>\n",
       "      <td id=\"T_431e4_row1_col1\" class=\"data row1 col1\" >0.6695</td>\n",
       "      <td id=\"T_431e4_row1_col2\" class=\"data row1 col2\" >0.0000</td>\n",
       "      <td id=\"T_431e4_row1_col3\" class=\"data row1 col3\" >0.0000</td>\n",
       "      <td id=\"T_431e4_row1_col4\" class=\"data row1 col4\" >0.0000</td>\n",
       "      <td id=\"T_431e4_row1_col5\" class=\"data row1 col5\" >0.0000</td>\n",
       "      <td id=\"T_431e4_row1_col6\" class=\"data row1 col6\" >0.0000</td>\n",
       "    </tr>\n",
       "    <tr>\n",
       "      <th id=\"T_431e4_level0_row2\" class=\"row_heading level0 row2\" >2</th>\n",
       "      <td id=\"T_431e4_row2_col0\" class=\"data row2 col0\" >0.9960</td>\n",
       "      <td id=\"T_431e4_row2_col1\" class=\"data row2 col1\" >0.6175</td>\n",
       "      <td id=\"T_431e4_row2_col2\" class=\"data row2 col2\" >0.0000</td>\n",
       "      <td id=\"T_431e4_row2_col3\" class=\"data row2 col3\" >0.0000</td>\n",
       "      <td id=\"T_431e4_row2_col4\" class=\"data row2 col4\" >0.0000</td>\n",
       "      <td id=\"T_431e4_row2_col5\" class=\"data row2 col5\" >0.0000</td>\n",
       "      <td id=\"T_431e4_row2_col6\" class=\"data row2 col6\" >0.0000</td>\n",
       "    </tr>\n",
       "    <tr>\n",
       "      <th id=\"T_431e4_level0_row3\" class=\"row_heading level0 row3\" >3</th>\n",
       "      <td id=\"T_431e4_row3_col0\" class=\"data row3 col0\" >0.9961</td>\n",
       "      <td id=\"T_431e4_row3_col1\" class=\"data row3 col1\" >0.6349</td>\n",
       "      <td id=\"T_431e4_row3_col2\" class=\"data row3 col2\" >0.0000</td>\n",
       "      <td id=\"T_431e4_row3_col3\" class=\"data row3 col3\" >0.0000</td>\n",
       "      <td id=\"T_431e4_row3_col4\" class=\"data row3 col4\" >0.0000</td>\n",
       "      <td id=\"T_431e4_row3_col5\" class=\"data row3 col5\" >0.0000</td>\n",
       "      <td id=\"T_431e4_row3_col6\" class=\"data row3 col6\" >0.0000</td>\n",
       "    </tr>\n",
       "    <tr>\n",
       "      <th id=\"T_431e4_level0_row4\" class=\"row_heading level0 row4\" >4</th>\n",
       "      <td id=\"T_431e4_row4_col0\" class=\"data row4 col0\" >0.9960</td>\n",
       "      <td id=\"T_431e4_row4_col1\" class=\"data row4 col1\" >0.6672</td>\n",
       "      <td id=\"T_431e4_row4_col2\" class=\"data row4 col2\" >0.0000</td>\n",
       "      <td id=\"T_431e4_row4_col3\" class=\"data row4 col3\" >0.0000</td>\n",
       "      <td id=\"T_431e4_row4_col4\" class=\"data row4 col4\" >0.0000</td>\n",
       "      <td id=\"T_431e4_row4_col5\" class=\"data row4 col5\" >0.0000</td>\n",
       "      <td id=\"T_431e4_row4_col6\" class=\"data row4 col6\" >0.0000</td>\n",
       "    </tr>\n",
       "    <tr>\n",
       "      <th id=\"T_431e4_level0_row5\" class=\"row_heading level0 row5\" >5</th>\n",
       "      <td id=\"T_431e4_row5_col0\" class=\"data row5 col0\" >0.9960</td>\n",
       "      <td id=\"T_431e4_row5_col1\" class=\"data row5 col1\" >0.6220</td>\n",
       "      <td id=\"T_431e4_row5_col2\" class=\"data row5 col2\" >0.0000</td>\n",
       "      <td id=\"T_431e4_row5_col3\" class=\"data row5 col3\" >0.0000</td>\n",
       "      <td id=\"T_431e4_row5_col4\" class=\"data row5 col4\" >0.0000</td>\n",
       "      <td id=\"T_431e4_row5_col5\" class=\"data row5 col5\" >0.0000</td>\n",
       "      <td id=\"T_431e4_row5_col6\" class=\"data row5 col6\" >0.0000</td>\n",
       "    </tr>\n",
       "    <tr>\n",
       "      <th id=\"T_431e4_level0_row6\" class=\"row_heading level0 row6\" >6</th>\n",
       "      <td id=\"T_431e4_row6_col0\" class=\"data row6 col0\" >0.9960</td>\n",
       "      <td id=\"T_431e4_row6_col1\" class=\"data row6 col1\" >0.6303</td>\n",
       "      <td id=\"T_431e4_row6_col2\" class=\"data row6 col2\" >0.0000</td>\n",
       "      <td id=\"T_431e4_row6_col3\" class=\"data row6 col3\" >0.0000</td>\n",
       "      <td id=\"T_431e4_row6_col4\" class=\"data row6 col4\" >0.0000</td>\n",
       "      <td id=\"T_431e4_row6_col5\" class=\"data row6 col5\" >0.0000</td>\n",
       "      <td id=\"T_431e4_row6_col6\" class=\"data row6 col6\" >0.0000</td>\n",
       "    </tr>\n",
       "    <tr>\n",
       "      <th id=\"T_431e4_level0_row7\" class=\"row_heading level0 row7\" >7</th>\n",
       "      <td id=\"T_431e4_row7_col0\" class=\"data row7 col0\" >0.9960</td>\n",
       "      <td id=\"T_431e4_row7_col1\" class=\"data row7 col1\" >0.6120</td>\n",
       "      <td id=\"T_431e4_row7_col2\" class=\"data row7 col2\" >0.0000</td>\n",
       "      <td id=\"T_431e4_row7_col3\" class=\"data row7 col3\" >0.0000</td>\n",
       "      <td id=\"T_431e4_row7_col4\" class=\"data row7 col4\" >0.0000</td>\n",
       "      <td id=\"T_431e4_row7_col5\" class=\"data row7 col5\" >0.0000</td>\n",
       "      <td id=\"T_431e4_row7_col6\" class=\"data row7 col6\" >0.0000</td>\n",
       "    </tr>\n",
       "    <tr>\n",
       "      <th id=\"T_431e4_level0_row8\" class=\"row_heading level0 row8\" >8</th>\n",
       "      <td id=\"T_431e4_row8_col0\" class=\"data row8 col0\" >0.9960</td>\n",
       "      <td id=\"T_431e4_row8_col1\" class=\"data row8 col1\" >0.6588</td>\n",
       "      <td id=\"T_431e4_row8_col2\" class=\"data row8 col2\" >0.0000</td>\n",
       "      <td id=\"T_431e4_row8_col3\" class=\"data row8 col3\" >0.0000</td>\n",
       "      <td id=\"T_431e4_row8_col4\" class=\"data row8 col4\" >0.0000</td>\n",
       "      <td id=\"T_431e4_row8_col5\" class=\"data row8 col5\" >0.0000</td>\n",
       "      <td id=\"T_431e4_row8_col6\" class=\"data row8 col6\" >0.0000</td>\n",
       "    </tr>\n",
       "    <tr>\n",
       "      <th id=\"T_431e4_level0_row9\" class=\"row_heading level0 row9\" >9</th>\n",
       "      <td id=\"T_431e4_row9_col0\" class=\"data row9 col0\" >0.9960</td>\n",
       "      <td id=\"T_431e4_row9_col1\" class=\"data row9 col1\" >0.5960</td>\n",
       "      <td id=\"T_431e4_row9_col2\" class=\"data row9 col2\" >0.0000</td>\n",
       "      <td id=\"T_431e4_row9_col3\" class=\"data row9 col3\" >0.0000</td>\n",
       "      <td id=\"T_431e4_row9_col4\" class=\"data row9 col4\" >0.0000</td>\n",
       "      <td id=\"T_431e4_row9_col5\" class=\"data row9 col5\" >0.0000</td>\n",
       "      <td id=\"T_431e4_row9_col6\" class=\"data row9 col6\" >0.0000</td>\n",
       "    </tr>\n",
       "    <tr>\n",
       "      <th id=\"T_431e4_level0_row10\" class=\"row_heading level0 row10\" >Mean</th>\n",
       "      <td id=\"T_431e4_row10_col0\" class=\"data row10 col0\" >0.9960</td>\n",
       "      <td id=\"T_431e4_row10_col1\" class=\"data row10 col1\" >0.6328</td>\n",
       "      <td id=\"T_431e4_row10_col2\" class=\"data row10 col2\" >0.0000</td>\n",
       "      <td id=\"T_431e4_row10_col3\" class=\"data row10 col3\" >0.0000</td>\n",
       "      <td id=\"T_431e4_row10_col4\" class=\"data row10 col4\" >0.0000</td>\n",
       "      <td id=\"T_431e4_row10_col5\" class=\"data row10 col5\" >0.0000</td>\n",
       "      <td id=\"T_431e4_row10_col6\" class=\"data row10 col6\" >0.0000</td>\n",
       "    </tr>\n",
       "    <tr>\n",
       "      <th id=\"T_431e4_level0_row11\" class=\"row_heading level0 row11\" >Std</th>\n",
       "      <td id=\"T_431e4_row11_col0\" class=\"data row11 col0\" >0.0000</td>\n",
       "      <td id=\"T_431e4_row11_col1\" class=\"data row11 col1\" >0.0235</td>\n",
       "      <td id=\"T_431e4_row11_col2\" class=\"data row11 col2\" >0.0000</td>\n",
       "      <td id=\"T_431e4_row11_col3\" class=\"data row11 col3\" >0.0000</td>\n",
       "      <td id=\"T_431e4_row11_col4\" class=\"data row11 col4\" >0.0000</td>\n",
       "      <td id=\"T_431e4_row11_col5\" class=\"data row11 col5\" >0.0000</td>\n",
       "      <td id=\"T_431e4_row11_col6\" class=\"data row11 col6\" >0.0000</td>\n",
       "    </tr>\n",
       "  </tbody>\n",
       "</table>\n"
      ],
      "text/plain": [
       "<pandas.io.formats.style.Styler at 0x7f35c080d540>"
      ]
     },
     "metadata": {},
     "output_type": "display_data"
    },
    {
     "data": {
      "text/html": [],
      "text/plain": [
       "<IPython.core.display.HTML object>"
      ]
     },
     "metadata": {},
     "output_type": "display_data"
    },
    {
     "data": {
      "text/html": [],
      "text/plain": [
       "<IPython.core.display.HTML object>"
      ]
     },
     "metadata": {},
     "output_type": "display_data"
    },
    {
     "data": {
      "image/png": "[encoded data removed]",
      "text/plain": [
       "<Figure size 480x330 with 1 Axes>"
      ]
     },
     "metadata": {},
     "output_type": "display_data"
    }
   ],
   "source": [
    "regression_model_ada, regression_model_lightgbm, regression_model_gbc, regression_model_rf = model.common.create_models(train_data, target_column)"
   ]
  },
  {
   "cell_type": "markdown",
   "metadata": {
    "execution": {
     "iopub.execute_input": "2023-06-08T23:08:22.530994Z",
     "iopub.status.busy": "2023-06-08T23:08:22.529719Z",
     "iopub.status.idle": "2023-06-08T23:08:22.542651Z",
     "shell.execute_reply": "2023-06-08T23:08:22.540043Z",
     "shell.execute_reply.started": "2023-06-08T23:08:22.530922Z"
    }
   },
   "source": [
    "**evaluate model**"
   ]
  },
  {
   "cell_type": "markdown",
   "metadata": {},
   "source": [
    "`lightgbm` shows very good AUC of `0.97`, `rf` as well with `1.0` train AUC.\n",
    "\n",
    "`rf` seemed like too overfit with 1.0 train AUC but its test precision as well is the best among others.\n",
    "\n",
    "`ada` shows very low recall thus inpractical.\n"
   ]
  },
  {
   "cell_type": "code",
   "execution_count": 8,
   "metadata": {
    "execution": {
     "iopub.execute_input": "2023-07-07T01:38:10.273189Z",
     "iopub.status.busy": "2023-07-07T01:38:10.273052Z",
     "iopub.status.idle": "2023-07-07T01:38:18.207245Z",
     "shell.execute_reply": "2023-07-07T01:38:18.206678Z",
     "shell.execute_reply.started": "2023-07-07T01:38:10.273174Z"
    }
   },
   "outputs": [
    {
     "data": {
      "text/html": [
       "<style type=\"text/css\">\n",
       "</style>\n",
       "<table id=\"T_caa69\">\n",
       "  <thead>\n",
       "    <tr>\n",
       "      <th class=\"blank level0\" >&nbsp;</th>\n",
       "      <th id=\"T_caa69_level0_col0\" class=\"col_heading level0 col0\" >Model</th>\n",
       "      <th id=\"T_caa69_level0_col1\" class=\"col_heading level0 col1\" >Accuracy</th>\n",
       "      <th id=\"T_caa69_level0_col2\" class=\"col_heading level0 col2\" >AUC</th>\n",
       "      <th id=\"T_caa69_level0_col3\" class=\"col_heading level0 col3\" >Recall</th>\n",
       "      <th id=\"T_caa69_level0_col4\" class=\"col_heading level0 col4\" >Prec.</th>\n",
       "      <th id=\"T_caa69_level0_col5\" class=\"col_heading level0 col5\" >F1</th>\n",
       "      <th id=\"T_caa69_level0_col6\" class=\"col_heading level0 col6\" >Kappa</th>\n",
       "      <th id=\"T_caa69_level0_col7\" class=\"col_heading level0 col7\" >MCC</th>\n",
       "    </tr>\n",
       "  </thead>\n",
       "  <tbody>\n",
       "    <tr>\n",
       "      <th id=\"T_caa69_level0_row0\" class=\"row_heading level0 row0\" >0</th>\n",
       "      <td id=\"T_caa69_row0_col0\" class=\"data row0 col0\" >Ada Boost Classifier</td>\n",
       "      <td id=\"T_caa69_row0_col1\" class=\"data row0 col1\" >0.9960</td>\n",
       "      <td id=\"T_caa69_row0_col2\" class=\"data row0 col2\" >0.7753</td>\n",
       "      <td id=\"T_caa69_row0_col3\" class=\"data row0 col3\" >0.0000</td>\n",
       "      <td id=\"T_caa69_row0_col4\" class=\"data row0 col4\" >0.0000</td>\n",
       "      <td id=\"T_caa69_row0_col5\" class=\"data row0 col5\" >0.0000</td>\n",
       "      <td id=\"T_caa69_row0_col6\" class=\"data row0 col6\" >0.0000</td>\n",
       "      <td id=\"T_caa69_row0_col7\" class=\"data row0 col7\" >0.0000</td>\n",
       "    </tr>\n",
       "  </tbody>\n",
       "</table>\n"
      ],
      "text/plain": [
       "<pandas.io.formats.style.Styler at 0x7f35c03c5720>"
      ]
     },
     "metadata": {},
     "output_type": "display_data"
    },
    {
     "data": {
      "text/html": [
       "<style type=\"text/css\">\n",
       "</style>\n",
       "<table id=\"T_65cbe\">\n",
       "  <thead>\n",
       "    <tr>\n",
       "      <th class=\"blank level0\" >&nbsp;</th>\n",
       "      <th id=\"T_65cbe_level0_col0\" class=\"col_heading level0 col0\" >Model</th>\n",
       "      <th id=\"T_65cbe_level0_col1\" class=\"col_heading level0 col1\" >Accuracy</th>\n",
       "      <th id=\"T_65cbe_level0_col2\" class=\"col_heading level0 col2\" >AUC</th>\n",
       "      <th id=\"T_65cbe_level0_col3\" class=\"col_heading level0 col3\" >Recall</th>\n",
       "      <th id=\"T_65cbe_level0_col4\" class=\"col_heading level0 col4\" >Prec.</th>\n",
       "      <th id=\"T_65cbe_level0_col5\" class=\"col_heading level0 col5\" >F1</th>\n",
       "      <th id=\"T_65cbe_level0_col6\" class=\"col_heading level0 col6\" >Kappa</th>\n",
       "      <th id=\"T_65cbe_level0_col7\" class=\"col_heading level0 col7\" >MCC</th>\n",
       "    </tr>\n",
       "  </thead>\n",
       "  <tbody>\n",
       "    <tr>\n",
       "      <th id=\"T_65cbe_level0_row0\" class=\"row_heading level0 row0\" >0</th>\n",
       "      <td id=\"T_65cbe_row0_col0\" class=\"data row0 col0\" >Gradient Boosting Classifier</td>\n",
       "      <td id=\"T_65cbe_row0_col1\" class=\"data row0 col1\" >0.9960</td>\n",
       "      <td id=\"T_65cbe_row0_col2\" class=\"data row0 col2\" >0.8137</td>\n",
       "      <td id=\"T_65cbe_row0_col3\" class=\"data row0 col3\" >0.0160</td>\n",
       "      <td id=\"T_65cbe_row0_col4\" class=\"data row0 col4\" >0.3600</td>\n",
       "      <td id=\"T_65cbe_row0_col5\" class=\"data row0 col5\" >0.0306</td>\n",
       "      <td id=\"T_65cbe_row0_col6\" class=\"data row0 col6\" >0.0303</td>\n",
       "      <td id=\"T_65cbe_row0_col7\" class=\"data row0 col7\" >0.0751</td>\n",
       "    </tr>\n",
       "  </tbody>\n",
       "</table>\n"
      ],
      "text/plain": [
       "<pandas.io.formats.style.Styler at 0x7f35c1d97280>"
      ]
     },
     "metadata": {},
     "output_type": "display_data"
    },
    {
     "data": {
      "text/html": [
       "<style type=\"text/css\">\n",
       "</style>\n",
       "<table id=\"T_2cbb4\">\n",
       "  <thead>\n",
       "    <tr>\n",
       "      <th class=\"blank level0\" >&nbsp;</th>\n",
       "      <th id=\"T_2cbb4_level0_col0\" class=\"col_heading level0 col0\" >Model</th>\n",
       "      <th id=\"T_2cbb4_level0_col1\" class=\"col_heading level0 col1\" >Accuracy</th>\n",
       "      <th id=\"T_2cbb4_level0_col2\" class=\"col_heading level0 col2\" >AUC</th>\n",
       "      <th id=\"T_2cbb4_level0_col3\" class=\"col_heading level0 col3\" >Recall</th>\n",
       "      <th id=\"T_2cbb4_level0_col4\" class=\"col_heading level0 col4\" >Prec.</th>\n",
       "      <th id=\"T_2cbb4_level0_col5\" class=\"col_heading level0 col5\" >F1</th>\n",
       "      <th id=\"T_2cbb4_level0_col6\" class=\"col_heading level0 col6\" >Kappa</th>\n",
       "      <th id=\"T_2cbb4_level0_col7\" class=\"col_heading level0 col7\" >MCC</th>\n",
       "    </tr>\n",
       "  </thead>\n",
       "  <tbody>\n",
       "    <tr>\n",
       "      <th id=\"T_2cbb4_level0_row0\" class=\"row_heading level0 row0\" >0</th>\n",
       "      <td id=\"T_2cbb4_row0_col0\" class=\"data row0 col0\" >Light Gradient Boosting Machine</td>\n",
       "      <td id=\"T_2cbb4_row0_col1\" class=\"data row0 col1\" >0.9961</td>\n",
       "      <td id=\"T_2cbb4_row0_col2\" class=\"data row0 col2\" >0.9116</td>\n",
       "      <td id=\"T_2cbb4_row0_col3\" class=\"data row0 col3\" >0.0994</td>\n",
       "      <td id=\"T_2cbb4_row0_col4\" class=\"data row0 col4\" >0.5490</td>\n",
       "      <td id=\"T_2cbb4_row0_col5\" class=\"data row0 col5\" >0.1683</td>\n",
       "      <td id=\"T_2cbb4_row0_col6\" class=\"data row0 col6\" >0.1673</td>\n",
       "      <td id=\"T_2cbb4_row0_col7\" class=\"data row0 col7\" >0.2324</td>\n",
       "    </tr>\n",
       "  </tbody>\n",
       "</table>\n"
      ],
      "text/plain": [
       "<pandas.io.formats.style.Styler at 0x7f35c03c6f80>"
      ]
     },
     "metadata": {},
     "output_type": "display_data"
    },
    {
     "data": {
      "text/html": [
       "<style type=\"text/css\">\n",
       "</style>\n",
       "<table id=\"T_e7f31\">\n",
       "  <thead>\n",
       "    <tr>\n",
       "      <th class=\"blank level0\" >&nbsp;</th>\n",
       "      <th id=\"T_e7f31_level0_col0\" class=\"col_heading level0 col0\" >Model</th>\n",
       "      <th id=\"T_e7f31_level0_col1\" class=\"col_heading level0 col1\" >Accuracy</th>\n",
       "      <th id=\"T_e7f31_level0_col2\" class=\"col_heading level0 col2\" >AUC</th>\n",
       "      <th id=\"T_e7f31_level0_col3\" class=\"col_heading level0 col3\" >Recall</th>\n",
       "      <th id=\"T_e7f31_level0_col4\" class=\"col_heading level0 col4\" >Prec.</th>\n",
       "      <th id=\"T_e7f31_level0_col5\" class=\"col_heading level0 col5\" >F1</th>\n",
       "      <th id=\"T_e7f31_level0_col6\" class=\"col_heading level0 col6\" >Kappa</th>\n",
       "      <th id=\"T_e7f31_level0_col7\" class=\"col_heading level0 col7\" >MCC</th>\n",
       "    </tr>\n",
       "  </thead>\n",
       "  <tbody>\n",
       "    <tr>\n",
       "      <th id=\"T_e7f31_level0_row0\" class=\"row_heading level0 row0\" >0</th>\n",
       "      <td id=\"T_e7f31_row0_col0\" class=\"data row0 col0\" >Random Forest Classifier</td>\n",
       "      <td id=\"T_e7f31_row0_col1\" class=\"data row0 col1\" >0.9988</td>\n",
       "      <td id=\"T_e7f31_row0_col2\" class=\"data row0 col2\" >0.9119</td>\n",
       "      <td id=\"T_e7f31_row0_col3\" class=\"data row0 col3\" >0.6992</td>\n",
       "      <td id=\"T_e7f31_row0_col4\" class=\"data row0 col4\" >1.0000</td>\n",
       "      <td id=\"T_e7f31_row0_col5\" class=\"data row0 col5\" >0.8230</td>\n",
       "      <td id=\"T_e7f31_row0_col6\" class=\"data row0 col6\" >0.8224</td>\n",
       "      <td id=\"T_e7f31_row0_col7\" class=\"data row0 col7\" >0.8357</td>\n",
       "    </tr>\n",
       "  </tbody>\n",
       "</table>\n"
      ],
      "text/plain": [
       "<pandas.io.formats.style.Styler at 0x7f35c046b550>"
      ]
     },
     "metadata": {},
     "output_type": "display_data"
    }
   ],
   "source": [
    "train_prediction_ada, train_prediction_gbc, train_prediction_lightgbm, train_prediction_rf = model.common.batch_predict_and_odds(train_data, [regression_model_ada, regression_model_gbc, regression_model_lightgbm, regression_model_rf])"
   ]
  },
  {
   "cell_type": "code",
   "execution_count": 9,
   "metadata": {
    "execution": {
     "iopub.execute_input": "2023-07-07T01:38:18.208011Z",
     "iopub.status.busy": "2023-07-07T01:38:18.207875Z",
     "iopub.status.idle": "2023-07-07T01:38:18.465232Z",
     "shell.execute_reply": "2023-07-07T01:38:18.464668Z",
     "shell.execute_reply.started": "2023-07-07T01:38:18.207999Z"
    }
   },
   "outputs": [
    {
     "data": {
      "text/html": [
       "<table>\n",
       "<tbody>\n",
       "<tr><td>model   </td><td>0.6     </td><td>0.7     </td><td>0.75    </td><td>0.8     </td></tr>\n",
       "<tr><td>ada     </td><td>(0, nan)</td><td>(0, nan)</td><td>(0, nan)</td><td>(0, nan)</td></tr>\n",
       "<tr><td>gbc     </td><td>(0, nan)</td><td>(0, nan)</td><td>(0, nan)</td><td>(0, nan)</td></tr>\n",
       "<tr><td>lightgbm</td><td>(0, nan)</td><td>(0, nan)</td><td>(0, nan)</td><td>(0, nan)</td></tr>\n",
       "<tr><td>rf      </td><td>(1, 1.0)</td><td>(0, nan)</td><td>(0, nan)</td><td>(0, nan)</td></tr>\n",
       "</tbody>\n",
       "</table>"
      ],
      "text/plain": [
       "'<table>\\n<tbody>\\n<tr><td>model   </td><td>0.6     </td><td>0.7     </td><td>0.75    </td><td>0.8     </td></tr>\\n<tr><td>ada     </td><td>(0, nan)</td><td>(0, nan)</td><td>(0, nan)</td><td>(0, nan)</td></tr>\\n<tr><td>gbc     </td><td>(0, nan)</td><td>(0, nan)</td><td>(0, nan)</td><td>(0, nan)</td></tr>\\n<tr><td>lightgbm</td><td>(0, nan)</td><td>(0, nan)</td><td>(0, nan)</td><td>(0, nan)</td></tr>\\n<tr><td>rf      </td><td>(1, 1.0)</td><td>(0, nan)</td><td>(0, nan)</td><td>(0, nan)</td></tr>\\n</tbody>\\n</table>'"
      ]
     },
     "execution_count": 9,
     "metadata": {},
     "output_type": "execute_result"
    }
   ],
   "source": [
    "model.common.evaluate_predictions([(train_prediction_ada, \"ada\"), (train_prediction_gbc, \"gbc\"), (train_prediction_lightgbm, \"lightgbm\"), (train_prediction_rf, \"rf\")], [0.6, 0.7, 0.75, 0.8], target_column)"
   ]
  },
  {
   "cell_type": "markdown",
   "metadata": {
    "execution": {
     "iopub.execute_input": "2023-06-07T00:40:23.948013Z",
     "iopub.status.busy": "2023-06-07T00:40:23.947407Z",
     "iopub.status.idle": "2023-06-07T00:40:23.953130Z",
     "shell.execute_reply": "2023-06-07T00:40:23.952520Z",
     "shell.execute_reply.started": "2023-06-07T00:40:23.947955Z"
    }
   },
   "source": [
    "**test prediction**"
   ]
  },
  {
   "cell_type": "code",
   "execution_count": 10,
   "metadata": {
    "execution": {
     "iopub.execute_input": "2023-07-07T01:38:18.465926Z",
     "iopub.status.busy": "2023-07-07T01:38:18.465797Z",
     "iopub.status.idle": "2023-07-07T01:38:19.305078Z",
     "shell.execute_reply": "2023-07-07T01:38:19.304138Z",
     "shell.execute_reply.started": "2023-07-07T01:38:18.465916Z"
    }
   },
   "outputs": [
    {
     "data": {
      "text/html": [
       "<style type=\"text/css\">\n",
       "</style>\n",
       "<table id=\"T_0e100\">\n",
       "  <thead>\n",
       "    <tr>\n",
       "      <th class=\"blank level0\" >&nbsp;</th>\n",
       "      <th id=\"T_0e100_level0_col0\" class=\"col_heading level0 col0\" >Model</th>\n",
       "      <th id=\"T_0e100_level0_col1\" class=\"col_heading level0 col1\" >Accuracy</th>\n",
       "      <th id=\"T_0e100_level0_col2\" class=\"col_heading level0 col2\" >AUC</th>\n",
       "      <th id=\"T_0e100_level0_col3\" class=\"col_heading level0 col3\" >Recall</th>\n",
       "      <th id=\"T_0e100_level0_col4\" class=\"col_heading level0 col4\" >Prec.</th>\n",
       "      <th id=\"T_0e100_level0_col5\" class=\"col_heading level0 col5\" >F1</th>\n",
       "      <th id=\"T_0e100_level0_col6\" class=\"col_heading level0 col6\" >Kappa</th>\n",
       "      <th id=\"T_0e100_level0_col7\" class=\"col_heading level0 col7\" >MCC</th>\n",
       "    </tr>\n",
       "  </thead>\n",
       "  <tbody>\n",
       "    <tr>\n",
       "      <th id=\"T_0e100_level0_row0\" class=\"row_heading level0 row0\" >0</th>\n",
       "      <td id=\"T_0e100_row0_col0\" class=\"data row0 col0\" >Ada Boost Classifier</td>\n",
       "      <td id=\"T_0e100_row0_col1\" class=\"data row0 col1\" >0.9938</td>\n",
       "      <td id=\"T_0e100_row0_col2\" class=\"data row0 col2\" >0.6361</td>\n",
       "      <td id=\"T_0e100_row0_col3\" class=\"data row0 col3\" >0.0000</td>\n",
       "      <td id=\"T_0e100_row0_col4\" class=\"data row0 col4\" >0.0000</td>\n",
       "      <td id=\"T_0e100_row0_col5\" class=\"data row0 col5\" >0.0000</td>\n",
       "      <td id=\"T_0e100_row0_col6\" class=\"data row0 col6\" >0.0000</td>\n",
       "      <td id=\"T_0e100_row0_col7\" class=\"data row0 col7\" >0.0000</td>\n",
       "    </tr>\n",
       "  </tbody>\n",
       "</table>\n"
      ],
      "text/plain": [
       "<pandas.io.formats.style.Styler at 0x7f35c089dab0>"
      ]
     },
     "metadata": {},
     "output_type": "display_data"
    },
    {
     "data": {
      "text/html": [
       "<style type=\"text/css\">\n",
       "</style>\n",
       "<table id=\"T_50840\">\n",
       "  <thead>\n",
       "    <tr>\n",
       "      <th class=\"blank level0\" >&nbsp;</th>\n",
       "      <th id=\"T_50840_level0_col0\" class=\"col_heading level0 col0\" >Model</th>\n",
       "      <th id=\"T_50840_level0_col1\" class=\"col_heading level0 col1\" >Accuracy</th>\n",
       "      <th id=\"T_50840_level0_col2\" class=\"col_heading level0 col2\" >AUC</th>\n",
       "      <th id=\"T_50840_level0_col3\" class=\"col_heading level0 col3\" >Recall</th>\n",
       "      <th id=\"T_50840_level0_col4\" class=\"col_heading level0 col4\" >Prec.</th>\n",
       "      <th id=\"T_50840_level0_col5\" class=\"col_heading level0 col5\" >F1</th>\n",
       "      <th id=\"T_50840_level0_col6\" class=\"col_heading level0 col6\" >Kappa</th>\n",
       "      <th id=\"T_50840_level0_col7\" class=\"col_heading level0 col7\" >MCC</th>\n",
       "    </tr>\n",
       "  </thead>\n",
       "  <tbody>\n",
       "    <tr>\n",
       "      <th id=\"T_50840_level0_row0\" class=\"row_heading level0 row0\" >0</th>\n",
       "      <td id=\"T_50840_row0_col0\" class=\"data row0 col0\" >Gradient Boosting Classifier</td>\n",
       "      <td id=\"T_50840_row0_col1\" class=\"data row0 col1\" >0.9936</td>\n",
       "      <td id=\"T_50840_row0_col2\" class=\"data row0 col2\" >0.6236</td>\n",
       "      <td id=\"T_50840_row0_col3\" class=\"data row0 col3\" >0.0000</td>\n",
       "      <td id=\"T_50840_row0_col4\" class=\"data row0 col4\" >0.0000</td>\n",
       "      <td id=\"T_50840_row0_col5\" class=\"data row0 col5\" >0.0000</td>\n",
       "      <td id=\"T_50840_row0_col6\" class=\"data row0 col6\" >-0.0004</td>\n",
       "      <td id=\"T_50840_row0_col7\" class=\"data row0 col7\" >-0.0011</td>\n",
       "    </tr>\n",
       "  </tbody>\n",
       "</table>\n"
      ],
      "text/plain": [
       "<pandas.io.formats.style.Styler at 0x7f35c089fd00>"
      ]
     },
     "metadata": {},
     "output_type": "display_data"
    },
    {
     "data": {
      "text/html": [
       "<style type=\"text/css\">\n",
       "</style>\n",
       "<table id=\"T_dc91d\">\n",
       "  <thead>\n",
       "    <tr>\n",
       "      <th class=\"blank level0\" >&nbsp;</th>\n",
       "      <th id=\"T_dc91d_level0_col0\" class=\"col_heading level0 col0\" >Model</th>\n",
       "      <th id=\"T_dc91d_level0_col1\" class=\"col_heading level0 col1\" >Accuracy</th>\n",
       "      <th id=\"T_dc91d_level0_col2\" class=\"col_heading level0 col2\" >AUC</th>\n",
       "      <th id=\"T_dc91d_level0_col3\" class=\"col_heading level0 col3\" >Recall</th>\n",
       "      <th id=\"T_dc91d_level0_col4\" class=\"col_heading level0 col4\" >Prec.</th>\n",
       "      <th id=\"T_dc91d_level0_col5\" class=\"col_heading level0 col5\" >F1</th>\n",
       "      <th id=\"T_dc91d_level0_col6\" class=\"col_heading level0 col6\" >Kappa</th>\n",
       "      <th id=\"T_dc91d_level0_col7\" class=\"col_heading level0 col7\" >MCC</th>\n",
       "    </tr>\n",
       "  </thead>\n",
       "  <tbody>\n",
       "    <tr>\n",
       "      <th id=\"T_dc91d_level0_row0\" class=\"row_heading level0 row0\" >0</th>\n",
       "      <td id=\"T_dc91d_row0_col0\" class=\"data row0 col0\" >Light Gradient Boosting Machine</td>\n",
       "      <td id=\"T_dc91d_row0_col1\" class=\"data row0 col1\" >0.9928</td>\n",
       "      <td id=\"T_dc91d_row0_col2\" class=\"data row0 col2\" >0.6164</td>\n",
       "      <td id=\"T_dc91d_row0_col3\" class=\"data row0 col3\" >0.0000</td>\n",
       "      <td id=\"T_dc91d_row0_col4\" class=\"data row0 col4\" >0.0000</td>\n",
       "      <td id=\"T_dc91d_row0_col5\" class=\"data row0 col5\" >0.0000</td>\n",
       "      <td id=\"T_dc91d_row0_col6\" class=\"data row0 col6\" >-0.0016</td>\n",
       "      <td id=\"T_dc91d_row0_col7\" class=\"data row0 col7\" >-0.0024</td>\n",
       "    </tr>\n",
       "  </tbody>\n",
       "</table>\n"
      ],
      "text/plain": [
       "<pandas.io.formats.style.Styler at 0x7f35c089e4d0>"
      ]
     },
     "metadata": {},
     "output_type": "display_data"
    },
    {
     "data": {
      "text/html": [
       "<style type=\"text/css\">\n",
       "</style>\n",
       "<table id=\"T_ab8a0\">\n",
       "  <thead>\n",
       "    <tr>\n",
       "      <th class=\"blank level0\" >&nbsp;</th>\n",
       "      <th id=\"T_ab8a0_level0_col0\" class=\"col_heading level0 col0\" >Model</th>\n",
       "      <th id=\"T_ab8a0_level0_col1\" class=\"col_heading level0 col1\" >Accuracy</th>\n",
       "      <th id=\"T_ab8a0_level0_col2\" class=\"col_heading level0 col2\" >AUC</th>\n",
       "      <th id=\"T_ab8a0_level0_col3\" class=\"col_heading level0 col3\" >Recall</th>\n",
       "      <th id=\"T_ab8a0_level0_col4\" class=\"col_heading level0 col4\" >Prec.</th>\n",
       "      <th id=\"T_ab8a0_level0_col5\" class=\"col_heading level0 col5\" >F1</th>\n",
       "      <th id=\"T_ab8a0_level0_col6\" class=\"col_heading level0 col6\" >Kappa</th>\n",
       "      <th id=\"T_ab8a0_level0_col7\" class=\"col_heading level0 col7\" >MCC</th>\n",
       "    </tr>\n",
       "  </thead>\n",
       "  <tbody>\n",
       "    <tr>\n",
       "      <th id=\"T_ab8a0_level0_row0\" class=\"row_heading level0 row0\" >0</th>\n",
       "      <td id=\"T_ab8a0_row0_col0\" class=\"data row0 col0\" >Random Forest Classifier</td>\n",
       "      <td id=\"T_ab8a0_row0_col1\" class=\"data row0 col1\" >0.9938</td>\n",
       "      <td id=\"T_ab8a0_row0_col2\" class=\"data row0 col2\" >0.5457</td>\n",
       "      <td id=\"T_ab8a0_row0_col3\" class=\"data row0 col3\" >0.0000</td>\n",
       "      <td id=\"T_ab8a0_row0_col4\" class=\"data row0 col4\" >0.0000</td>\n",
       "      <td id=\"T_ab8a0_row0_col5\" class=\"data row0 col5\" >0.0000</td>\n",
       "      <td id=\"T_ab8a0_row0_col6\" class=\"data row0 col6\" >0.0000</td>\n",
       "      <td id=\"T_ab8a0_row0_col7\" class=\"data row0 col7\" >0.0000</td>\n",
       "    </tr>\n",
       "  </tbody>\n",
       "</table>\n"
      ],
      "text/plain": [
       "<pandas.io.formats.style.Styler at 0x7f35c055a7a0>"
      ]
     },
     "metadata": {},
     "output_type": "display_data"
    }
   ],
   "source": [
    "test_prediction_ada, test_prediction_gbc, test_prediction_lightgbm, test_prediction_rf = model.common.batch_predict_and_odds(test_data, [regression_model_ada, regression_model_gbc, regression_model_lightgbm, regression_model_rf])"
   ]
  },
  {
   "cell_type": "code",
   "execution_count": 11,
   "metadata": {
    "execution": {
     "iopub.execute_input": "2023-07-07T01:38:19.306014Z",
     "iopub.status.busy": "2023-07-07T01:38:19.305848Z",
     "iopub.status.idle": "2023-07-07T01:38:19.345392Z",
     "shell.execute_reply": "2023-07-07T01:38:19.344815Z",
     "shell.execute_reply.started": "2023-07-07T01:38:19.305999Z"
    }
   },
   "outputs": [
    {
     "data": {
      "text/html": [
       "<table>\n",
       "<tbody>\n",
       "<tr><td>model   </td><td>0.6     </td><td>0.7     </td><td>0.75    </td><td>0.8     </td><td>0.85    </td></tr>\n",
       "<tr><td>ada     </td><td>(0, nan)</td><td>(0, nan)</td><td>(0, nan)</td><td>(0, nan)</td><td>(0, nan)</td></tr>\n",
       "<tr><td>gbc     </td><td>(0, nan)</td><td>(0, nan)</td><td>(0, nan)</td><td>(0, nan)</td><td>(0, nan)</td></tr>\n",
       "<tr><td>lightgbm</td><td>(0, nan)</td><td>(0, nan)</td><td>(0, nan)</td><td>(0, nan)</td><td>(0, nan)</td></tr>\n",
       "<tr><td>rf      </td><td>(0, nan)</td><td>(0, nan)</td><td>(0, nan)</td><td>(0, nan)</td><td>(0, nan)</td></tr>\n",
       "</tbody>\n",
       "</table>"
      ],
      "text/plain": [
       "'<table>\\n<tbody>\\n<tr><td>model   </td><td>0.6     </td><td>0.7     </td><td>0.75    </td><td>0.8     </td><td>0.85    </td></tr>\\n<tr><td>ada     </td><td>(0, nan)</td><td>(0, nan)</td><td>(0, nan)</td><td>(0, nan)</td><td>(0, nan)</td></tr>\\n<tr><td>gbc     </td><td>(0, nan)</td><td>(0, nan)</td><td>(0, nan)</td><td>(0, nan)</td><td>(0, nan)</td></tr>\\n<tr><td>lightgbm</td><td>(0, nan)</td><td>(0, nan)</td><td>(0, nan)</td><td>(0, nan)</td><td>(0, nan)</td></tr>\\n<tr><td>rf      </td><td>(0, nan)</td><td>(0, nan)</td><td>(0, nan)</td><td>(0, nan)</td><td>(0, nan)</td></tr>\\n</tbody>\\n</table>'"
      ]
     },
     "execution_count": 11,
     "metadata": {},
     "output_type": "execute_result"
    }
   ],
   "source": [
    "model.common.evaluate_predictions([(test_prediction_ada, \"ada\"), (test_prediction_gbc, \"gbc\"), (test_prediction_lightgbm, \"lightgbm\"), (test_prediction_rf, \"rf\")], [0.6, 0.7, 0.75, 0.8, 0.85], target_column)"
   ]
  },
  {
   "cell_type": "markdown",
   "metadata": {
    "id": "sOfz0zBX994h"
   },
   "source": [
    "**Finalize Model**"
   ]
  },
  {
   "cell_type": "code",
   "execution_count": 12,
   "metadata": {
    "colab": {
     "base_uri": "https://localhost:8080/",
     "height": 34
    },
    "execution": {
     "iopub.execute_input": "2023-07-07T01:38:19.346391Z",
     "iopub.status.busy": "2023-07-07T01:38:19.346162Z",
     "iopub.status.idle": "2023-07-07T01:39:38.538399Z",
     "shell.execute_reply": "2023-07-07T01:39:38.537695Z",
     "shell.execute_reply.started": "2023-07-07T01:38:19.346372Z"
    },
    "id": "gutfxdh8-DKy",
    "outputId": "2e862724-33f5-45f0-ed52-aade46f98c7d"
   },
   "outputs": [],
   "source": [
    "# train over the whole dataset without validation split\n",
    "regression_model_finalized_ada = pycaret.classification.finalize_model(regression_model_ada)\n",
    "regression_model_finalized_gbc = pycaret.classification.finalize_model(regression_model_gbc)\n",
    "regression_model_finalized_lightgbm = pycaret.classification.finalize_model(regression_model_lightgbm)\n",
    "regression_model_finalized_rf = pycaret.classification.finalize_model(regression_model_rf)"
   ]
  },
  {
   "cell_type": "code",
   "execution_count": 13,
   "metadata": {
    "execution": {
     "iopub.execute_input": "2023-07-07T01:39:38.540768Z",
     "iopub.status.busy": "2023-07-07T01:39:38.540608Z",
     "iopub.status.idle": "2023-07-07T01:39:39.546220Z",
     "shell.execute_reply": "2023-07-07T01:39:39.545583Z",
     "shell.execute_reply.started": "2023-07-07T01:39:38.540755Z"
    }
   },
   "outputs": [
    {
     "data": {
      "text/html": [
       "<style type=\"text/css\">\n",
       "</style>\n",
       "<table id=\"T_127ff\">\n",
       "  <thead>\n",
       "    <tr>\n",
       "      <th class=\"blank level0\" >&nbsp;</th>\n",
       "      <th id=\"T_127ff_level0_col0\" class=\"col_heading level0 col0\" >Model</th>\n",
       "      <th id=\"T_127ff_level0_col1\" class=\"col_heading level0 col1\" >Accuracy</th>\n",
       "      <th id=\"T_127ff_level0_col2\" class=\"col_heading level0 col2\" >AUC</th>\n",
       "      <th id=\"T_127ff_level0_col3\" class=\"col_heading level0 col3\" >Recall</th>\n",
       "      <th id=\"T_127ff_level0_col4\" class=\"col_heading level0 col4\" >Prec.</th>\n",
       "      <th id=\"T_127ff_level0_col5\" class=\"col_heading level0 col5\" >F1</th>\n",
       "      <th id=\"T_127ff_level0_col6\" class=\"col_heading level0 col6\" >Kappa</th>\n",
       "      <th id=\"T_127ff_level0_col7\" class=\"col_heading level0 col7\" >MCC</th>\n",
       "    </tr>\n",
       "  </thead>\n",
       "  <tbody>\n",
       "    <tr>\n",
       "      <th id=\"T_127ff_level0_row0\" class=\"row_heading level0 row0\" >0</th>\n",
       "      <td id=\"T_127ff_row0_col0\" class=\"data row0 col0\" >Ada Boost Classifier</td>\n",
       "      <td id=\"T_127ff_row0_col1\" class=\"data row0 col1\" >0.9938</td>\n",
       "      <td id=\"T_127ff_row0_col2\" class=\"data row0 col2\" >0.6523</td>\n",
       "      <td id=\"T_127ff_row0_col3\" class=\"data row0 col3\" >0.0000</td>\n",
       "      <td id=\"T_127ff_row0_col4\" class=\"data row0 col4\" >0.0000</td>\n",
       "      <td id=\"T_127ff_row0_col5\" class=\"data row0 col5\" >0.0000</td>\n",
       "      <td id=\"T_127ff_row0_col6\" class=\"data row0 col6\" >0.0000</td>\n",
       "      <td id=\"T_127ff_row0_col7\" class=\"data row0 col7\" >0.0000</td>\n",
       "    </tr>\n",
       "  </tbody>\n",
       "</table>\n"
      ],
      "text/plain": [
       "<pandas.io.formats.style.Styler at 0x7f35c055b460>"
      ]
     },
     "metadata": {},
     "output_type": "display_data"
    },
    {
     "data": {
      "text/html": [
       "<style type=\"text/css\">\n",
       "</style>\n",
       "<table id=\"T_41de4\">\n",
       "  <thead>\n",
       "    <tr>\n",
       "      <th class=\"blank level0\" >&nbsp;</th>\n",
       "      <th id=\"T_41de4_level0_col0\" class=\"col_heading level0 col0\" >Model</th>\n",
       "      <th id=\"T_41de4_level0_col1\" class=\"col_heading level0 col1\" >Accuracy</th>\n",
       "      <th id=\"T_41de4_level0_col2\" class=\"col_heading level0 col2\" >AUC</th>\n",
       "      <th id=\"T_41de4_level0_col3\" class=\"col_heading level0 col3\" >Recall</th>\n",
       "      <th id=\"T_41de4_level0_col4\" class=\"col_heading level0 col4\" >Prec.</th>\n",
       "      <th id=\"T_41de4_level0_col5\" class=\"col_heading level0 col5\" >F1</th>\n",
       "      <th id=\"T_41de4_level0_col6\" class=\"col_heading level0 col6\" >Kappa</th>\n",
       "      <th id=\"T_41de4_level0_col7\" class=\"col_heading level0 col7\" >MCC</th>\n",
       "    </tr>\n",
       "  </thead>\n",
       "  <tbody>\n",
       "    <tr>\n",
       "      <th id=\"T_41de4_level0_row0\" class=\"row_heading level0 row0\" >0</th>\n",
       "      <td id=\"T_41de4_row0_col0\" class=\"data row0 col0\" >Gradient Boosting Classifier</td>\n",
       "      <td id=\"T_41de4_row0_col1\" class=\"data row0 col1\" >0.9935</td>\n",
       "      <td id=\"T_41de4_row0_col2\" class=\"data row0 col2\" >0.6363</td>\n",
       "      <td id=\"T_41de4_row0_col3\" class=\"data row0 col3\" >0.0000</td>\n",
       "      <td id=\"T_41de4_row0_col4\" class=\"data row0 col4\" >0.0000</td>\n",
       "      <td id=\"T_41de4_row0_col5\" class=\"data row0 col5\" >0.0000</td>\n",
       "      <td id=\"T_41de4_row0_col6\" class=\"data row0 col6\" >-0.0005</td>\n",
       "      <td id=\"T_41de4_row0_col7\" class=\"data row0 col7\" >-0.0013</td>\n",
       "    </tr>\n",
       "  </tbody>\n",
       "</table>\n"
      ],
      "text/plain": [
       "<pandas.io.formats.style.Styler at 0x7f35c0559c60>"
      ]
     },
     "metadata": {},
     "output_type": "display_data"
    },
    {
     "data": {
      "text/html": [
       "<style type=\"text/css\">\n",
       "</style>\n",
       "<table id=\"T_083da\">\n",
       "  <thead>\n",
       "    <tr>\n",
       "      <th class=\"blank level0\" >&nbsp;</th>\n",
       "      <th id=\"T_083da_level0_col0\" class=\"col_heading level0 col0\" >Model</th>\n",
       "      <th id=\"T_083da_level0_col1\" class=\"col_heading level0 col1\" >Accuracy</th>\n",
       "      <th id=\"T_083da_level0_col2\" class=\"col_heading level0 col2\" >AUC</th>\n",
       "      <th id=\"T_083da_level0_col3\" class=\"col_heading level0 col3\" >Recall</th>\n",
       "      <th id=\"T_083da_level0_col4\" class=\"col_heading level0 col4\" >Prec.</th>\n",
       "      <th id=\"T_083da_level0_col5\" class=\"col_heading level0 col5\" >F1</th>\n",
       "      <th id=\"T_083da_level0_col6\" class=\"col_heading level0 col6\" >Kappa</th>\n",
       "      <th id=\"T_083da_level0_col7\" class=\"col_heading level0 col7\" >MCC</th>\n",
       "    </tr>\n",
       "  </thead>\n",
       "  <tbody>\n",
       "    <tr>\n",
       "      <th id=\"T_083da_level0_row0\" class=\"row_heading level0 row0\" >0</th>\n",
       "      <td id=\"T_083da_row0_col0\" class=\"data row0 col0\" >Light Gradient Boosting Machine</td>\n",
       "      <td id=\"T_083da_row0_col1\" class=\"data row0 col1\" >0.9929</td>\n",
       "      <td id=\"T_083da_row0_col2\" class=\"data row0 col2\" >0.6234</td>\n",
       "      <td id=\"T_083da_row0_col3\" class=\"data row0 col3\" >0.0000</td>\n",
       "      <td id=\"T_083da_row0_col4\" class=\"data row0 col4\" >0.0000</td>\n",
       "      <td id=\"T_083da_row0_col5\" class=\"data row0 col5\" >0.0000</td>\n",
       "      <td id=\"T_083da_row0_col6\" class=\"data row0 col6\" >-0.0014</td>\n",
       "      <td id=\"T_083da_row0_col7\" class=\"data row0 col7\" >-0.0023</td>\n",
       "    </tr>\n",
       "  </tbody>\n",
       "</table>\n"
      ],
      "text/plain": [
       "<pandas.io.formats.style.Styler at 0x7f35c055a710>"
      ]
     },
     "metadata": {},
     "output_type": "display_data"
    },
    {
     "data": {
      "text/html": [
       "<style type=\"text/css\">\n",
       "</style>\n",
       "<table id=\"T_32ff7\">\n",
       "  <thead>\n",
       "    <tr>\n",
       "      <th class=\"blank level0\" >&nbsp;</th>\n",
       "      <th id=\"T_32ff7_level0_col0\" class=\"col_heading level0 col0\" >Model</th>\n",
       "      <th id=\"T_32ff7_level0_col1\" class=\"col_heading level0 col1\" >Accuracy</th>\n",
       "      <th id=\"T_32ff7_level0_col2\" class=\"col_heading level0 col2\" >AUC</th>\n",
       "      <th id=\"T_32ff7_level0_col3\" class=\"col_heading level0 col3\" >Recall</th>\n",
       "      <th id=\"T_32ff7_level0_col4\" class=\"col_heading level0 col4\" >Prec.</th>\n",
       "      <th id=\"T_32ff7_level0_col5\" class=\"col_heading level0 col5\" >F1</th>\n",
       "      <th id=\"T_32ff7_level0_col6\" class=\"col_heading level0 col6\" >Kappa</th>\n",
       "      <th id=\"T_32ff7_level0_col7\" class=\"col_heading level0 col7\" >MCC</th>\n",
       "    </tr>\n",
       "  </thead>\n",
       "  <tbody>\n",
       "    <tr>\n",
       "      <th id=\"T_32ff7_level0_row0\" class=\"row_heading level0 row0\" >0</th>\n",
       "      <td id=\"T_32ff7_row0_col0\" class=\"data row0 col0\" >Random Forest Classifier</td>\n",
       "      <td id=\"T_32ff7_row0_col1\" class=\"data row0 col1\" >0.9938</td>\n",
       "      <td id=\"T_32ff7_row0_col2\" class=\"data row0 col2\" >0.5507</td>\n",
       "      <td id=\"T_32ff7_row0_col3\" class=\"data row0 col3\" >0.0000</td>\n",
       "      <td id=\"T_32ff7_row0_col4\" class=\"data row0 col4\" >0.0000</td>\n",
       "      <td id=\"T_32ff7_row0_col5\" class=\"data row0 col5\" >0.0000</td>\n",
       "      <td id=\"T_32ff7_row0_col6\" class=\"data row0 col6\" >0.0000</td>\n",
       "      <td id=\"T_32ff7_row0_col7\" class=\"data row0 col7\" >0.0000</td>\n",
       "    </tr>\n",
       "  </tbody>\n",
       "</table>\n"
      ],
      "text/plain": [
       "<pandas.io.formats.style.Styler at 0x7f35c08aee60>"
      ]
     },
     "metadata": {},
     "output_type": "display_data"
    }
   ],
   "source": [
    "test_finalized_prediction_ada, test_finalized_prediction_gbc, test_finalized_prediction_lightgbm, test_finalized_prediction_rf = model.common.batch_predict_and_odds(\n",
    "    test_data, \n",
    "    [regression_model_finalized_ada, regression_model_finalized_gbc, regression_model_finalized_lightgbm, regression_model_finalized_rf])"
   ]
  },
  {
   "cell_type": "code",
   "execution_count": 14,
   "metadata": {
    "execution": {
     "iopub.execute_input": "2023-07-07T01:39:39.548315Z",
     "iopub.status.busy": "2023-07-07T01:39:39.548103Z",
     "iopub.status.idle": "2023-07-07T01:39:39.590523Z",
     "shell.execute_reply": "2023-07-07T01:39:39.590041Z",
     "shell.execute_reply.started": "2023-07-07T01:39:39.548298Z"
    }
   },
   "outputs": [
    {
     "data": {
      "text/html": [
       "<table>\n",
       "<tbody>\n",
       "<tr><td>model   </td><td>0.6     </td><td>0.7     </td><td>0.75    </td><td>0.8     </td><td>0.85    </td></tr>\n",
       "<tr><td>ada     </td><td>(0, nan)</td><td>(0, nan)</td><td>(0, nan)</td><td>(0, nan)</td><td>(0, nan)</td></tr>\n",
       "<tr><td>gbc     </td><td>(0, nan)</td><td>(0, nan)</td><td>(0, nan)</td><td>(0, nan)</td><td>(0, nan)</td></tr>\n",
       "<tr><td>lightgbm</td><td>(2, 0.0)</td><td>(2, 0.0)</td><td>(2, 0.0)</td><td>(2, 0.0)</td><td>(2, 0.0)</td></tr>\n",
       "<tr><td>rf      </td><td>(0, nan)</td><td>(0, nan)</td><td>(0, nan)</td><td>(0, nan)</td><td>(0, nan)</td></tr>\n",
       "</tbody>\n",
       "</table>"
      ],
      "text/plain": [
       "'<table>\\n<tbody>\\n<tr><td>model   </td><td>0.6     </td><td>0.7     </td><td>0.75    </td><td>0.8     </td><td>0.85    </td></tr>\\n<tr><td>ada     </td><td>(0, nan)</td><td>(0, nan)</td><td>(0, nan)</td><td>(0, nan)</td><td>(0, nan)</td></tr>\\n<tr><td>gbc     </td><td>(0, nan)</td><td>(0, nan)</td><td>(0, nan)</td><td>(0, nan)</td><td>(0, nan)</td></tr>\\n<tr><td>lightgbm</td><td>(2, 0.0)</td><td>(2, 0.0)</td><td>(2, 0.0)</td><td>(2, 0.0)</td><td>(2, 0.0)</td></tr>\\n<tr><td>rf      </td><td>(0, nan)</td><td>(0, nan)</td><td>(0, nan)</td><td>(0, nan)</td><td>(0, nan)</td></tr>\\n</tbody>\\n</table>'"
      ]
     },
     "execution_count": 14,
     "metadata": {},
     "output_type": "execute_result"
    }
   ],
   "source": [
    "model.common.evaluate_predictions([(test_finalized_prediction_ada, \"ada\"), (test_finalized_prediction_gbc, \"gbc\"), (test_finalized_prediction_lightgbm, \"lightgbm\"), (test_finalized_prediction_rf, \"rf\")], [0.6, 0.7, 0.75, 0.8, 0.85], target_column)"
   ]
  },
  {
   "cell_type": "markdown",
   "metadata": {},
   "source": [
    "**Save Model**"
   ]
  },
  {
   "cell_type": "code",
   "execution_count": 15,
   "metadata": {
    "execution": {
     "iopub.execute_input": "2023-07-07T01:39:39.591247Z",
     "iopub.status.busy": "2023-07-07T01:39:39.591106Z",
     "iopub.status.idle": "2023-07-07T01:39:39.696137Z",
     "shell.execute_reply": "2023-07-07T01:39:39.695471Z",
     "shell.execute_reply.started": "2023-07-07T01:39:39.591235Z"
    }
   },
   "outputs": [
    {
     "name": "stdout",
     "output_type": "stream",
     "text": [
      "Transformation Pipeline and Model Successfully Saved\n"
     ]
    },
    {
     "data": {
      "text/plain": [
       "(Pipeline(memory=FastMemory(location=/tmp/joblib),\n",
       "          steps=[('numerical_imputer',\n",
       "                  TransformerWrapper(exclude=None,\n",
       "                                     include=['pitching_gamesPlayed',\n",
       "                                              'pitching_runs_per_game',\n",
       "                                              'pitching_strikeOuts_per_game',\n",
       "                                              'pitching_hits_per_game',\n",
       "                                              'batting_gamesPlayed',\n",
       "                                              'batting_runs_per_game',\n",
       "                                              'batting_strikeOuts_per_game',\n",
       "                                              'batting_hits_per_game',\n",
       "                                              'batting_rbi',\n",
       "                                              'pitching_cur_...\n",
       "                                                       colsample_bytree=1.0,\n",
       "                                                       importance_type='split',\n",
       "                                                       learning_rate=0.1,\n",
       "                                                       max_depth=-1,\n",
       "                                                       min_child_samples=20,\n",
       "                                                       min_child_weight=0.001,\n",
       "                                                       min_split_gain=0.0,\n",
       "                                                       n_estimators=100,\n",
       "                                                       n_jobs=-1, num_leaves=31,\n",
       "                                                       objective=None,\n",
       "                                                       probability_threshold=0.5,\n",
       "                                                       random_state=5328,\n",
       "                                                       reg_alpha=0.0,\n",
       "                                                       reg_lambda=0.0,\n",
       "                                                       silent='warn',\n",
       "                                                       subsample=1.0,\n",
       "                                                       subsample_for_bin=200000,\n",
       "                                                       subsample_freq=0))],\n",
       "          verbose=False),\n",
       " 'model/batter_2stolenbases_regression_model.pkl')"
      ]
     },
     "execution_count": 15,
     "metadata": {},
     "output_type": "execute_result"
    }
   ],
   "source": [
    "pycaret.classification.save_model(regression_model_finalized_lightgbm, model_file_name)"
   ]
  }
 ],
 "metadata": {
  "colab": {
   "provenance": []
  },
  "kernelspec": {
   "display_name": "Python 3 (ipykernel)",
   "language": "python",
   "name": "python3"
  },
  "language_info": {
   "codemirror_mode": {
    "name": "ipython",
    "version": 3
   },
   "file_extension": ".py",
   "mimetype": "text/x-python",
   "name": "python",
   "nbconvert_exporter": "python",
   "pygments_lexer": "ipython3",
   "version": "3.10.6"
  },
  "widgets": {
   "application/vnd.jupyter.widget-state+json": {
    "1ac32fe9102d4f5a9d1511e64a1d5e5d": {
     "model_module": "@jupyter-widgets/base",
     "model_module_version": "1.2.0",
     "model_name": "LayoutModel",
     "state": {
      "_model_module": "@jupyter-widgets/base",
      "_model_module_version": "1.2.0",
      "_model_name": "LayoutModel",
      "_view_count": null,
      "_view_module": "@jupyter-widgets/base",
      "_view_module_version": "1.2.0",
      "_view_name": "LayoutView",
      "align_content": null,
      "align_items": null,
      "align_self": null,
      "border": null,
      "bottom": null,
      "display": null,
      "flex": null,
      "flex_flow": null,
      "grid_area": null,
      "grid_auto_columns": null,
      "grid_auto_flow": null,
      "grid_auto_rows": null,
      "grid_column": null,
      "grid_gap": null,
      "grid_row": null,
      "grid_template_areas": null,
      "grid_template_columns": null,
      "grid_template_rows": null,
      "height": null,
      "justify_content": null,
      "justify_items": null,
      "left": null,
      "margin": null,
      "max_height": null,
      "max_width": null,
      "min_height": null,
      "min_width": null,
      "object_fit": null,
      "object_position": null,
      "order": null,
      "overflow": null,
      "overflow_x": null,
      "overflow_y": null,
      "padding": null,
      "right": null,
      "top": null,
      "visibility": null,
      "width": null
     }
    },
    "40b50c57e470496cb6c94a0693636fd7": {
     "model_module": "@jupyter-widgets/base",
     "model_module_version": "1.2.0",
     "model_name": "LayoutModel",
     "state": {
      "_model_module": "@jupyter-widgets/base",
      "_model_module_version": "1.2.0",
      "_model_name": "LayoutModel",
      "_view_count": null,
      "_view_module": "@jupyter-widgets/base",
      "_view_module_version": "1.2.0",
      "_view_name": "LayoutView",
      "align_content": null,
      "align_items": null,
      "align_self": null,
      "border": null,
      "bottom": null,
      "display": null,
      "flex": null,
      "flex_flow": null,
      "grid_area": null,
      "grid_auto_columns": null,
      "grid_auto_flow": null,
      "grid_auto_rows": null,
      "grid_column": null,
      "grid_gap": null,
      "grid_row": null,
      "grid_template_areas": null,
      "grid_template_columns": null,
      "grid_template_rows": null,
      "height": null,
      "justify_content": null,
      "justify_items": null,
      "left": null,
      "margin": null,
      "max_height": null,
      "max_width": null,
      "min_height": null,
      "min_width": null,
      "object_fit": null,
      "object_position": null,
      "order": null,
      "overflow": null,
      "overflow_x": null,
      "overflow_y": null,
      "padding": null,
      "right": null,
      "top": null,
      "visibility": "hidden",
      "width": null
     }
    },
    "46b9d3b6cd6e4f76a42dd4f216dc1644": {
     "model_module": "@jupyter-widgets/controls",
     "model_module_version": "1.5.0",
     "model_name": "HBoxModel",
     "state": {
      "_dom_classes": [],
      "_model_module": "@jupyter-widgets/controls",
      "_model_module_version": "1.5.0",
      "_model_name": "HBoxModel",
      "_view_count": null,
      "_view_module": "@jupyter-widgets/controls",
      "_view_module_version": "1.5.0",
      "_view_name": "HBoxView",
      "box_style": "",
      "children": [
       "IPY_MODEL_cfce22755aa7471a87151793e633def1",
       "IPY_MODEL_94d7b3dc65544425b2463933c4108fa4",
       "IPY_MODEL_f92582f04a594f87a669f3c1c4d4eabc"
      ],
      "layout": "IPY_MODEL_40b50c57e470496cb6c94a0693636fd7"
     }
    },
    "4efa6d0ab419418ea9e4991c77b1ec42": {
     "model_module": "@jupyter-widgets/controls",
     "model_module_version": "1.5.0",
     "model_name": "ProgressStyleModel",
     "state": {
      "_model_module": "@jupyter-widgets/controls",
      "_model_module_version": "1.5.0",
      "_model_name": "ProgressStyleModel",
      "_view_count": null,
      "_view_module": "@jupyter-widgets/base",
      "_view_module_version": "1.2.0",
      "_view_name": "StyleView",
      "bar_color": null,
      "description_width": ""
     }
    },
    "81feddb738c64cbc8b7dbc7aec2730de": {
     "model_module": "@jupyter-widgets/controls",
     "model_module_version": "1.5.0",
     "model_name": "DescriptionStyleModel",
     "state": {
      "_model_module": "@jupyter-widgets/controls",
      "_model_module_version": "1.5.0",
      "_model_name": "DescriptionStyleModel",
      "_view_count": null,
      "_view_module": "@jupyter-widgets/base",
      "_view_module_version": "1.2.0",
      "_view_name": "StyleView",
      "description_width": ""
     }
    },
    "94d7b3dc65544425b2463933c4108fa4": {
     "model_module": "@jupyter-widgets/controls",
     "model_module_version": "1.5.0",
     "model_name": "FloatProgressModel",
     "state": {
      "_dom_classes": [],
      "_model_module": "@jupyter-widgets/controls",
      "_model_module_version": "1.5.0",
      "_model_name": "FloatProgressModel",
      "_view_count": null,
      "_view_module": "@jupyter-widgets/controls",
      "_view_module_version": "1.5.0",
      "_view_name": "ProgressView",
      "bar_style": "",
      "description": "",
      "description_tooltip": null,
      "layout": "IPY_MODEL_eb74dfbcca4a458eb81d87fbae5bf166",
      "max": 4,
      "min": 0,
      "orientation": "horizontal",
      "style": "IPY_MODEL_4efa6d0ab419418ea9e4991c77b1ec42",
      "value": 4
     }
    },
    "bec03081ad154466a3a0abca5a8462f4": {
     "model_module": "@jupyter-widgets/base",
     "model_module_version": "1.2.0",
     "model_name": "LayoutModel",
     "state": {
      "_model_module": "@jupyter-widgets/base",
      "_model_module_version": "1.2.0",
      "_model_name": "LayoutModel",
      "_view_count": null,
      "_view_module": "@jupyter-widgets/base",
      "_view_module_version": "1.2.0",
      "_view_name": "LayoutView",
      "align_content": null,
      "align_items": null,
      "align_self": null,
      "border": null,
      "bottom": null,
      "display": null,
      "flex": null,
      "flex_flow": null,
      "grid_area": null,
      "grid_auto_columns": null,
      "grid_auto_flow": null,
      "grid_auto_rows": null,
      "grid_column": null,
      "grid_gap": null,
      "grid_row": null,
      "grid_template_areas": null,
      "grid_template_columns": null,
      "grid_template_rows": null,
      "height": null,
      "justify_content": null,
      "justify_items": null,
      "left": null,
      "margin": null,
      "max_height": null,
      "max_width": null,
      "min_height": null,
      "min_width": null,
      "object_fit": null,
      "object_position": null,
      "order": null,
      "overflow": null,
      "overflow_x": null,
      "overflow_y": null,
      "padding": null,
      "right": null,
      "top": null,
      "visibility": null,
      "width": null
     }
    },
    "cfcd697393754f1d93106a2d6e07ea05": {
     "model_module": "@jupyter-widgets/controls",
     "model_module_version": "1.5.0",
     "model_name": "DescriptionStyleModel",
     "state": {
      "_model_module": "@jupyter-widgets/controls",
      "_model_module_version": "1.5.0",
      "_model_name": "DescriptionStyleModel",
      "_view_count": null,
      "_view_module": "@jupyter-widgets/base",
      "_view_module_version": "1.2.0",
      "_view_name": "StyleView",
      "description_width": ""
     }
    },
    "cfce22755aa7471a87151793e633def1": {
     "model_module": "@jupyter-widgets/controls",
     "model_module_version": "1.5.0",
     "model_name": "HTMLModel",
     "state": {
      "_dom_classes": [],
      "_model_module": "@jupyter-widgets/controls",
      "_model_module_version": "1.5.0",
      "_model_name": "HTMLModel",
      "_view_count": null,
      "_view_module": "@jupyter-widgets/controls",
      "_view_module_version": "1.5.0",
      "_view_name": "HTMLView",
      "description": "",
      "description_tooltip": null,
      "layout": "IPY_MODEL_bec03081ad154466a3a0abca5a8462f4",
      "placeholder": "​",
      "style": "IPY_MODEL_81feddb738c64cbc8b7dbc7aec2730de",
      "value": "Processing: 100%"
     }
    },
    "eb74dfbcca4a458eb81d87fbae5bf166": {
     "model_module": "@jupyter-widgets/base",
     "model_module_version": "1.2.0",
     "model_name": "LayoutModel",
     "state": {
      "_model_module": "@jupyter-widgets/base",
      "_model_module_version": "1.2.0",
      "_model_name": "LayoutModel",
      "_view_count": null,
      "_view_module": "@jupyter-widgets/base",
      "_view_module_version": "1.2.0",
      "_view_name": "LayoutView",
      "align_content": null,
      "align_items": null,
      "align_self": null,
      "border": null,
      "bottom": null,
      "display": null,
      "flex": null,
      "flex_flow": null,
      "grid_area": null,
      "grid_auto_columns": null,
      "grid_auto_flow": null,
      "grid_auto_rows": null,
      "grid_column": null,
      "grid_gap": null,
      "grid_row": null,
      "grid_template_areas": null,
      "grid_template_columns": null,
      "grid_template_rows": null,
      "height": null,
      "justify_content": null,
      "justify_items": null,
      "left": null,
      "margin": null,
      "max_height": null,
      "max_width": null,
      "min_height": null,
      "min_width": null,
      "object_fit": null,
      "object_position": null,
      "order": null,
      "overflow": null,
      "overflow_x": null,
      "overflow_y": null,
      "padding": null,
      "right": null,
      "top": null,
      "visibility": null,
      "width": null
     }
    },
    "f92582f04a594f87a669f3c1c4d4eabc": {
     "model_module": "@jupyter-widgets/controls",
     "model_module_version": "1.5.0",
     "model_name": "HTMLModel",
     "state": {
      "_dom_classes": [],
      "_model_module": "@jupyter-widgets/controls",
      "_model_module_version": "1.5.0",
      "_model_name": "HTMLModel",
      "_view_count": null,
      "_view_module": "@jupyter-widgets/controls",
      "_view_module_version": "1.5.0",
      "_view_name": "HTMLView",
      "description": "",
      "description_tooltip": null,
      "layout": "IPY_MODEL_1ac32fe9102d4f5a9d1511e64a1d5e5d",
      "placeholder": "​",
      "style": "IPY_MODEL_cfcd697393754f1d93106a2d6e07ea05",
      "value": " 4/4 [00:10&lt;00:00,  2.34s/it]"
     }
    }
   }
  }
 },
 "nbformat": 4,
 "nbformat_minor": 4
}
