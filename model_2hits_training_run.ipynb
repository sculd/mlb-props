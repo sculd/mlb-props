{
 "cells": [
  {
   "cell_type": "markdown",
   "metadata": {
    "id": "X1V_SUC4p-YQ"
   },
   "source": [
    "**Import Packages**"
   ]
  },
  {
   "cell_type": "code",
   "execution_count": 1,
   "metadata": {
    "colab": {
     "base_uri": "https://localhost:8080/"
    },
    "execution": {
     "iopub.execute_input": "2023-08-14T22:44:50.008425Z",
     "iopub.status.busy": "2023-08-14T22:44:50.008011Z",
     "iopub.status.idle": "2023-08-14T22:44:51.328958Z",
     "shell.execute_reply": "2023-08-14T22:44:51.328374Z",
     "shell.execute_reply.started": "2023-08-14T22:44:50.008360Z"
    },
    "id": "IGZCa25_p5QY",
    "outputId": "d9e7f9d8-21e8-49dd-d344-173324ba79a5",
    "tags": []
   },
   "outputs": [],
   "source": [
    "import pycaret\n",
    "import pandas as pd\n",
    "import numpy as np\n",
    "import sqlalchemy\n",
    "import mysql.connector\n",
    "\n",
    "from pycaret import classification\n",
    "from pycaret.classification import plot_model\n",
    "from datetime import datetime\n",
    "import importlib\n",
    "import model.common"
   ]
  },
  {
   "cell_type": "code",
   "execution_count": 2,
   "metadata": {
    "execution": {
     "iopub.execute_input": "2023-08-14T22:44:51.329779Z",
     "iopub.status.busy": "2023-08-14T22:44:51.329657Z",
     "iopub.status.idle": "2023-08-14T22:44:51.332734Z",
     "shell.execute_reply": "2023-08-14T22:44:51.332169Z",
     "shell.execute_reply.started": "2023-08-14T22:44:51.329769Z"
    }
   },
   "outputs": [],
   "source": [
    "from static_data.load_static_data import *"
   ]
  },
  {
   "cell_type": "markdown",
   "metadata": {
    "id": "jqde2RQfqchC"
   },
   "source": [
    "**Load Data**"
   ]
  },
  {
   "cell_type": "code",
   "execution_count": 3,
   "metadata": {
    "execution": {
     "iopub.execute_input": "2023-08-14T22:44:51.503522Z",
     "iopub.status.busy": "2023-08-14T22:44:51.503295Z",
     "iopub.status.idle": "2023-08-14T22:44:51.973154Z",
     "shell.execute_reply": "2023-08-14T22:44:51.972524Z",
     "shell.execute_reply.started": "2023-08-14T22:44:51.503509Z"
    }
   },
   "outputs": [
    {
     "name": "stdout",
     "output_type": "stream",
     "text": [
      "326242\n"
     ]
    }
   ],
   "source": [
    "collect_data_Base_dir = 'collect_data'\n",
    "df_game_matchup_total = pd.read_pickle(f'{collect_data_Base_dir}/df_game_matchup_total.pkl')\n",
    "print(len(df_game_matchup_total))"
   ]
  },
  {
   "cell_type": "markdown",
   "metadata": {
    "id": "VkSM5TOeule8"
   },
   "source": [
    "**Choose Columns**"
   ]
  },
  {
   "cell_type": "code",
   "execution_count": 4,
   "metadata": {
    "execution": {
     "iopub.execute_input": "2023-08-14T22:44:53.094339Z",
     "iopub.status.busy": "2023-08-14T22:44:53.093917Z",
     "iopub.status.idle": "2023-08-14T22:44:53.101697Z",
     "shell.execute_reply": "2023-08-14T22:44:53.101249Z",
     "shell.execute_reply.started": "2023-08-14T22:44:53.094308Z"
    }
   },
   "outputs": [
    {
     "data": {
      "text/plain": [
       "<module 'model.common' from '/home/junlim/projects/mlb-props/model/common.py'>"
      ]
     },
     "execution_count": 4,
     "metadata": {},
     "output_type": "execute_result"
    }
   ],
   "source": [
    "importlib.reload(model.common)"
   ]
  },
  {
   "cell_type": "code",
   "execution_count": 5,
   "metadata": {
    "execution": {
     "iopub.execute_input": "2023-08-14T22:44:53.715574Z",
     "iopub.status.busy": "2023-08-14T22:44:53.715336Z",
     "iopub.status.idle": "2023-08-14T22:44:53.718304Z",
     "shell.execute_reply": "2023-08-14T22:44:53.717893Z",
     "shell.execute_reply.started": "2023-08-14T22:44:53.715556Z"
    }
   },
   "outputs": [],
   "source": [
    "feature_columns, target_column, model_file_name = model.common.features_2hits_recorded, model.common.target_2hits_recorded, model.common.model_2hits_file_name"
   ]
  },
  {
   "cell_type": "code",
   "execution_count": 6,
   "metadata": {
    "execution": {
     "iopub.execute_input": "2023-08-14T22:44:54.473347Z",
     "iopub.status.busy": "2023-08-14T22:44:54.472982Z",
     "iopub.status.idle": "2023-08-14T22:44:54.654037Z",
     "shell.execute_reply": "2023-08-14T22:44:54.653158Z",
     "shell.execute_reply.started": "2023-08-14T22:44:54.473321Z"
    }
   },
   "outputs": [],
   "source": [
    "train_data = df_game_matchup_total[(df_game_matchup_total.game_date > \"2012-04-01\") & (df_game_matchup_total.game_date < \"2022-12-01\")][feature_columns]\n",
    "test_data = df_game_matchup_total[(df_game_matchup_total.game_date > \"2022-12-01\")][feature_columns]"
   ]
  },
  {
   "cell_type": "markdown",
   "metadata": {
    "id": "Qxoqal-SvwXp"
   },
   "source": [
    "**Build/Train Model**"
   ]
  },
  {
   "cell_type": "code",
   "execution_count": 7,
   "metadata": {
    "execution": {
     "iopub.execute_input": "2023-08-14T22:44:57.817306Z",
     "iopub.status.busy": "2023-08-14T22:44:57.817066Z",
     "iopub.status.idle": "2023-08-14T22:45:00.561969Z",
     "shell.execute_reply": "2023-08-14T22:45:00.561386Z",
     "shell.execute_reply.started": "2023-08-14T22:44:57.817293Z"
    },
    "scrolled": true
   },
   "outputs": [
    {
     "data": {
      "text/html": [
       "<style type=\"text/css\">\n",
       "#T_321e8_row11_col1, #T_321e8_row17_col1 {\n",
       "  background-color: lightgreen;\n",
       "}\n",
       "</style>\n",
       "<table id=\"T_321e8\">\n",
       "  <thead>\n",
       "    <tr>\n",
       "      <th class=\"blank level0\" >&nbsp;</th>\n",
       "      <th id=\"T_321e8_level0_col0\" class=\"col_heading level0 col0\" >Description</th>\n",
       "      <th id=\"T_321e8_level0_col1\" class=\"col_heading level0 col1\" >Value</th>\n",
       "    </tr>\n",
       "  </thead>\n",
       "  <tbody>\n",
       "    <tr>\n",
       "      <th id=\"T_321e8_level0_row0\" class=\"row_heading level0 row0\" >0</th>\n",
       "      <td id=\"T_321e8_row0_col0\" class=\"data row0 col0\" >Session id</td>\n",
       "      <td id=\"T_321e8_row0_col1\" class=\"data row0 col1\" >152</td>\n",
       "    </tr>\n",
       "    <tr>\n",
       "      <th id=\"T_321e8_level0_row1\" class=\"row_heading level0 row1\" >1</th>\n",
       "      <td id=\"T_321e8_row1_col0\" class=\"data row1 col0\" >Target</td>\n",
       "      <td id=\"T_321e8_row1_col1\" class=\"data row1 col1\" >batting_2hits_recorded</td>\n",
       "    </tr>\n",
       "    <tr>\n",
       "      <th id=\"T_321e8_level0_row2\" class=\"row_heading level0 row2\" >2</th>\n",
       "      <td id=\"T_321e8_row2_col0\" class=\"data row2 col0\" >Target type</td>\n",
       "      <td id=\"T_321e8_row2_col1\" class=\"data row2 col1\" >Binary</td>\n",
       "    </tr>\n",
       "    <tr>\n",
       "      <th id=\"T_321e8_level0_row3\" class=\"row_heading level0 row3\" >3</th>\n",
       "      <td id=\"T_321e8_row3_col0\" class=\"data row3 col0\" >Original data shape</td>\n",
       "      <td id=\"T_321e8_row3_col1\" class=\"data row3 col1\" >(285090, 20)</td>\n",
       "    </tr>\n",
       "    <tr>\n",
       "      <th id=\"T_321e8_level0_row4\" class=\"row_heading level0 row4\" >4</th>\n",
       "      <td id=\"T_321e8_row4_col0\" class=\"data row4 col0\" >Transformed data shape</td>\n",
       "      <td id=\"T_321e8_row4_col1\" class=\"data row4 col1\" >(399575, 12)</td>\n",
       "    </tr>\n",
       "    <tr>\n",
       "      <th id=\"T_321e8_level0_row5\" class=\"row_heading level0 row5\" >5</th>\n",
       "      <td id=\"T_321e8_row5_col0\" class=\"data row5 col0\" >Transformed train set shape</td>\n",
       "      <td id=\"T_321e8_row5_col1\" class=\"data row5 col1\" >(314048, 12)</td>\n",
       "    </tr>\n",
       "    <tr>\n",
       "      <th id=\"T_321e8_level0_row6\" class=\"row_heading level0 row6\" >6</th>\n",
       "      <td id=\"T_321e8_row6_col0\" class=\"data row6 col0\" >Transformed test set shape</td>\n",
       "      <td id=\"T_321e8_row6_col1\" class=\"data row6 col1\" >(85527, 12)</td>\n",
       "    </tr>\n",
       "    <tr>\n",
       "      <th id=\"T_321e8_level0_row7\" class=\"row_heading level0 row7\" >7</th>\n",
       "      <td id=\"T_321e8_row7_col0\" class=\"data row7 col0\" >Ignore features</td>\n",
       "      <td id=\"T_321e8_row7_col1\" class=\"data row7 col1\" >8</td>\n",
       "    </tr>\n",
       "    <tr>\n",
       "      <th id=\"T_321e8_level0_row8\" class=\"row_heading level0 row8\" >8</th>\n",
       "      <td id=\"T_321e8_row8_col0\" class=\"data row8 col0\" >Numeric features</td>\n",
       "      <td id=\"T_321e8_row8_col1\" class=\"data row8 col1\" >10</td>\n",
       "    </tr>\n",
       "    <tr>\n",
       "      <th id=\"T_321e8_level0_row9\" class=\"row_heading level0 row9\" >9</th>\n",
       "      <td id=\"T_321e8_row9_col0\" class=\"data row9 col0\" >Categorical features</td>\n",
       "      <td id=\"T_321e8_row9_col1\" class=\"data row9 col1\" >1</td>\n",
       "    </tr>\n",
       "    <tr>\n",
       "      <th id=\"T_321e8_level0_row10\" class=\"row_heading level0 row10\" >10</th>\n",
       "      <td id=\"T_321e8_row10_col0\" class=\"data row10 col0\" >Rows with missing values</td>\n",
       "      <td id=\"T_321e8_row10_col1\" class=\"data row10 col1\" >0.0%</td>\n",
       "    </tr>\n",
       "    <tr>\n",
       "      <th id=\"T_321e8_level0_row11\" class=\"row_heading level0 row11\" >11</th>\n",
       "      <td id=\"T_321e8_row11_col0\" class=\"data row11 col0\" >Preprocess</td>\n",
       "      <td id=\"T_321e8_row11_col1\" class=\"data row11 col1\" >True</td>\n",
       "    </tr>\n",
       "    <tr>\n",
       "      <th id=\"T_321e8_level0_row12\" class=\"row_heading level0 row12\" >12</th>\n",
       "      <td id=\"T_321e8_row12_col0\" class=\"data row12 col0\" >Imputation type</td>\n",
       "      <td id=\"T_321e8_row12_col1\" class=\"data row12 col1\" >simple</td>\n",
       "    </tr>\n",
       "    <tr>\n",
       "      <th id=\"T_321e8_level0_row13\" class=\"row_heading level0 row13\" >13</th>\n",
       "      <td id=\"T_321e8_row13_col0\" class=\"data row13 col0\" >Numeric imputation</td>\n",
       "      <td id=\"T_321e8_row13_col1\" class=\"data row13 col1\" >mean</td>\n",
       "    </tr>\n",
       "    <tr>\n",
       "      <th id=\"T_321e8_level0_row14\" class=\"row_heading level0 row14\" >14</th>\n",
       "      <td id=\"T_321e8_row14_col0\" class=\"data row14 col0\" >Categorical imputation</td>\n",
       "      <td id=\"T_321e8_row14_col1\" class=\"data row14 col1\" >mode</td>\n",
       "    </tr>\n",
       "    <tr>\n",
       "      <th id=\"T_321e8_level0_row15\" class=\"row_heading level0 row15\" >15</th>\n",
       "      <td id=\"T_321e8_row15_col0\" class=\"data row15 col0\" >Maximum one-hot encoding</td>\n",
       "      <td id=\"T_321e8_row15_col1\" class=\"data row15 col1\" >25</td>\n",
       "    </tr>\n",
       "    <tr>\n",
       "      <th id=\"T_321e8_level0_row16\" class=\"row_heading level0 row16\" >16</th>\n",
       "      <td id=\"T_321e8_row16_col0\" class=\"data row16 col0\" >Encoding method</td>\n",
       "      <td id=\"T_321e8_row16_col1\" class=\"data row16 col1\" >None</td>\n",
       "    </tr>\n",
       "    <tr>\n",
       "      <th id=\"T_321e8_level0_row17\" class=\"row_heading level0 row17\" >17</th>\n",
       "      <td id=\"T_321e8_row17_col0\" class=\"data row17 col0\" >Fix imbalance</td>\n",
       "      <td id=\"T_321e8_row17_col1\" class=\"data row17 col1\" >True</td>\n",
       "    </tr>\n",
       "    <tr>\n",
       "      <th id=\"T_321e8_level0_row18\" class=\"row_heading level0 row18\" >18</th>\n",
       "      <td id=\"T_321e8_row18_col0\" class=\"data row18 col0\" >Fix imbalance method</td>\n",
       "      <td id=\"T_321e8_row18_col1\" class=\"data row18 col1\" >smote</td>\n",
       "    </tr>\n",
       "    <tr>\n",
       "      <th id=\"T_321e8_level0_row19\" class=\"row_heading level0 row19\" >19</th>\n",
       "      <td id=\"T_321e8_row19_col0\" class=\"data row19 col0\" >Fold Generator</td>\n",
       "      <td id=\"T_321e8_row19_col1\" class=\"data row19 col1\" >StratifiedKFold</td>\n",
       "    </tr>\n",
       "    <tr>\n",
       "      <th id=\"T_321e8_level0_row20\" class=\"row_heading level0 row20\" >20</th>\n",
       "      <td id=\"T_321e8_row20_col0\" class=\"data row20 col0\" >Fold Number</td>\n",
       "      <td id=\"T_321e8_row20_col1\" class=\"data row20 col1\" >10</td>\n",
       "    </tr>\n",
       "    <tr>\n",
       "      <th id=\"T_321e8_level0_row21\" class=\"row_heading level0 row21\" >21</th>\n",
       "      <td id=\"T_321e8_row21_col0\" class=\"data row21 col0\" >CPU Jobs</td>\n",
       "      <td id=\"T_321e8_row21_col1\" class=\"data row21 col1\" >-1</td>\n",
       "    </tr>\n",
       "    <tr>\n",
       "      <th id=\"T_321e8_level0_row22\" class=\"row_heading level0 row22\" >22</th>\n",
       "      <td id=\"T_321e8_row22_col0\" class=\"data row22 col0\" >Use GPU</td>\n",
       "      <td id=\"T_321e8_row22_col1\" class=\"data row22 col1\" >False</td>\n",
       "    </tr>\n",
       "    <tr>\n",
       "      <th id=\"T_321e8_level0_row23\" class=\"row_heading level0 row23\" >23</th>\n",
       "      <td id=\"T_321e8_row23_col0\" class=\"data row23 col0\" >Log Experiment</td>\n",
       "      <td id=\"T_321e8_row23_col1\" class=\"data row23 col1\" >False</td>\n",
       "    </tr>\n",
       "    <tr>\n",
       "      <th id=\"T_321e8_level0_row24\" class=\"row_heading level0 row24\" >24</th>\n",
       "      <td id=\"T_321e8_row24_col0\" class=\"data row24 col0\" >Experiment Name</td>\n",
       "      <td id=\"T_321e8_row24_col1\" class=\"data row24 col1\" >clf-default-name</td>\n",
       "    </tr>\n",
       "    <tr>\n",
       "      <th id=\"T_321e8_level0_row25\" class=\"row_heading level0 row25\" >25</th>\n",
       "      <td id=\"T_321e8_row25_col0\" class=\"data row25 col0\" >USI</td>\n",
       "      <td id=\"T_321e8_row25_col1\" class=\"data row25 col1\" >651f</td>\n",
       "    </tr>\n",
       "  </tbody>\n",
       "</table>\n"
      ],
      "text/plain": [
       "<pandas.io.formats.style.Styler at 0x7f6e6db35b40>"
      ]
     },
     "metadata": {},
     "output_type": "display_data"
    }
   ],
   "source": [
    "classification_setup = pycaret.classification.setup(\n",
    "    data = train_data, target = target_column, train_size = .70, use_gpu = False, \n",
    "    categorical_features = ['game_venue'], ignore_features = model.common.ignore_features + ['batting_name', 'pitching_name'],\n",
    "    fix_imbalance=True,\n",
    "    fix_imbalance_method='smote')"
   ]
  },
  {
   "cell_type": "code",
   "execution_count": 8,
   "metadata": {
    "execution": {
     "iopub.execute_input": "2023-08-14T22:45:01.539524Z",
     "iopub.status.busy": "2023-08-14T22:45:01.539313Z",
     "iopub.status.idle": "2023-08-14T22:45:15.665944Z",
     "shell.execute_reply": "2023-08-14T22:45:15.665348Z",
     "shell.execute_reply.started": "2023-08-14T22:45:01.539511Z"
    },
    "scrolled": true
   },
   "outputs": [
    {
     "data": {
      "text/html": [],
      "text/plain": [
       "<IPython.core.display.HTML object>"
      ]
     },
     "metadata": {},
     "output_type": "display_data"
    },
    {
     "data": {
      "text/html": [
       "<style type=\"text/css\">\n",
       "#T_72732_row10_col0, #T_72732_row10_col1, #T_72732_row10_col2, #T_72732_row10_col3, #T_72732_row10_col4, #T_72732_row10_col5, #T_72732_row10_col6 {\n",
       "  background: yellow;\n",
       "}\n",
       "</style>\n",
       "<table id=\"T_72732\">\n",
       "  <thead>\n",
       "    <tr>\n",
       "      <th class=\"blank level0\" >&nbsp;</th>\n",
       "      <th id=\"T_72732_level0_col0\" class=\"col_heading level0 col0\" >Accuracy</th>\n",
       "      <th id=\"T_72732_level0_col1\" class=\"col_heading level0 col1\" >AUC</th>\n",
       "      <th id=\"T_72732_level0_col2\" class=\"col_heading level0 col2\" >Recall</th>\n",
       "      <th id=\"T_72732_level0_col3\" class=\"col_heading level0 col3\" >Prec.</th>\n",
       "      <th id=\"T_72732_level0_col4\" class=\"col_heading level0 col4\" >F1</th>\n",
       "      <th id=\"T_72732_level0_col5\" class=\"col_heading level0 col5\" >Kappa</th>\n",
       "      <th id=\"T_72732_level0_col6\" class=\"col_heading level0 col6\" >MCC</th>\n",
       "    </tr>\n",
       "    <tr>\n",
       "      <th class=\"index_name level0\" >Fold</th>\n",
       "      <th class=\"blank col0\" >&nbsp;</th>\n",
       "      <th class=\"blank col1\" >&nbsp;</th>\n",
       "      <th class=\"blank col2\" >&nbsp;</th>\n",
       "      <th class=\"blank col3\" >&nbsp;</th>\n",
       "      <th class=\"blank col4\" >&nbsp;</th>\n",
       "      <th class=\"blank col5\" >&nbsp;</th>\n",
       "      <th class=\"blank col6\" >&nbsp;</th>\n",
       "    </tr>\n",
       "  </thead>\n",
       "  <tbody>\n",
       "    <tr>\n",
       "      <th id=\"T_72732_level0_row0\" class=\"row_heading level0 row0\" >0</th>\n",
       "      <td id=\"T_72732_row0_col0\" class=\"data row0 col0\" >0.7837</td>\n",
       "      <td id=\"T_72732_row0_col1\" class=\"data row0 col1\" >0.5933</td>\n",
       "      <td id=\"T_72732_row0_col2\" class=\"data row0 col2\" >0.0054</td>\n",
       "      <td id=\"T_72732_row0_col3\" class=\"data row0 col3\" >0.2110</td>\n",
       "      <td id=\"T_72732_row0_col4\" class=\"data row0 col4\" >0.0105</td>\n",
       "      <td id=\"T_72732_row0_col5\" class=\"data row0 col5\" >-0.0001</td>\n",
       "      <td id=\"T_72732_row0_col6\" class=\"data row0 col6\" >-0.0004</td>\n",
       "    </tr>\n",
       "    <tr>\n",
       "      <th id=\"T_72732_level0_row1\" class=\"row_heading level0 row1\" >1</th>\n",
       "      <td id=\"T_72732_row1_col0\" class=\"data row1 col0\" >0.7850</td>\n",
       "      <td id=\"T_72732_row1_col1\" class=\"data row1 col1\" >0.5919</td>\n",
       "      <td id=\"T_72732_row1_col2\" class=\"data row1 col2\" >0.0075</td>\n",
       "      <td id=\"T_72732_row1_col3\" class=\"data row1 col3\" >0.3200</td>\n",
       "      <td id=\"T_72732_row1_col4\" class=\"data row1 col4\" >0.0147</td>\n",
       "      <td id=\"T_72732_row1_col5\" class=\"data row1 col5\" >0.0050</td>\n",
       "      <td id=\"T_72732_row1_col6\" class=\"data row1 col6\" >0.0185</td>\n",
       "    </tr>\n",
       "    <tr>\n",
       "      <th id=\"T_72732_level0_row2\" class=\"row_heading level0 row2\" >2</th>\n",
       "      <td id=\"T_72732_row2_col0\" class=\"data row2 col0\" >0.7849</td>\n",
       "      <td id=\"T_72732_row2_col1\" class=\"data row2 col1\" >0.5984</td>\n",
       "      <td id=\"T_72732_row2_col2\" class=\"data row2 col2\" >0.0049</td>\n",
       "      <td id=\"T_72732_row2_col3\" class=\"data row2 col3\" >0.2625</td>\n",
       "      <td id=\"T_72732_row2_col4\" class=\"data row2 col4\" >0.0097</td>\n",
       "      <td id=\"T_72732_row2_col5\" class=\"data row2 col5\" >0.0018</td>\n",
       "      <td id=\"T_72732_row2_col6\" class=\"data row2 col6\" >0.0076</td>\n",
       "    </tr>\n",
       "    <tr>\n",
       "      <th id=\"T_72732_level0_row3\" class=\"row_heading level0 row3\" >3</th>\n",
       "      <td id=\"T_72732_row3_col0\" class=\"data row3 col0\" >0.7851</td>\n",
       "      <td id=\"T_72732_row3_col1\" class=\"data row3 col1\" >0.5897</td>\n",
       "      <td id=\"T_72732_row3_col2\" class=\"data row3 col2\" >0.0089</td>\n",
       "      <td id=\"T_72732_row3_col3\" class=\"data row3 col3\" >0.3423</td>\n",
       "      <td id=\"T_72732_row3_col4\" class=\"data row3 col4\" >0.0174</td>\n",
       "      <td id=\"T_72732_row3_col5\" class=\"data row3 col5\" >0.0066</td>\n",
       "      <td id=\"T_72732_row3_col6\" class=\"data row3 col6\" >0.0236</td>\n",
       "    </tr>\n",
       "    <tr>\n",
       "      <th id=\"T_72732_level0_row4\" class=\"row_heading level0 row4\" >4</th>\n",
       "      <td id=\"T_72732_row4_col0\" class=\"data row4 col0\" >0.7837</td>\n",
       "      <td id=\"T_72732_row4_col1\" class=\"data row4 col1\" >0.5941</td>\n",
       "      <td id=\"T_72732_row4_col2\" class=\"data row4 col2\" >0.0092</td>\n",
       "      <td id=\"T_72732_row4_col3\" class=\"data row4 col3\" >0.2786</td>\n",
       "      <td id=\"T_72732_row4_col4\" class=\"data row4 col4\" >0.0178</td>\n",
       "      <td id=\"T_72732_row4_col5\" class=\"data row4 col5\" >0.0042</td>\n",
       "      <td id=\"T_72732_row4_col6\" class=\"data row4 col6\" >0.0134</td>\n",
       "    </tr>\n",
       "    <tr>\n",
       "      <th id=\"T_72732_level0_row5\" class=\"row_heading level0 row5\" >5</th>\n",
       "      <td id=\"T_72732_row5_col0\" class=\"data row5 col0\" >0.7862</td>\n",
       "      <td id=\"T_72732_row5_col1\" class=\"data row5 col1\" >0.5965</td>\n",
       "      <td id=\"T_72732_row5_col2\" class=\"data row5 col2\" >0.0085</td>\n",
       "      <td id=\"T_72732_row5_col3\" class=\"data row5 col3\" >0.4235</td>\n",
       "      <td id=\"T_72732_row5_col4\" class=\"data row5 col4\" >0.0166</td>\n",
       "      <td id=\"T_72732_row5_col5\" class=\"data row5 col5\" >0.0083</td>\n",
       "      <td id=\"T_72732_row5_col6\" class=\"data row5 col6\" >0.0336</td>\n",
       "    </tr>\n",
       "    <tr>\n",
       "      <th id=\"T_72732_level0_row6\" class=\"row_heading level0 row6\" >6</th>\n",
       "      <td id=\"T_72732_row6_col0\" class=\"data row6 col0\" >0.7858</td>\n",
       "      <td id=\"T_72732_row6_col1\" class=\"data row6 col1\" >0.6009</td>\n",
       "      <td id=\"T_72732_row6_col2\" class=\"data row6 col2\" >0.0066</td>\n",
       "      <td id=\"T_72732_row6_col3\" class=\"data row6 col3\" >0.3684</td>\n",
       "      <td id=\"T_72732_row6_col4\" class=\"data row6 col4\" >0.0129</td>\n",
       "      <td id=\"T_72732_row6_col5\" class=\"data row6 col5\" >0.0055</td>\n",
       "      <td id=\"T_72732_row6_col6\" class=\"data row6 col6\" >0.0234</td>\n",
       "    </tr>\n",
       "    <tr>\n",
       "      <th id=\"T_72732_level0_row7\" class=\"row_heading level0 row7\" >7</th>\n",
       "      <td id=\"T_72732_row7_col0\" class=\"data row7 col0\" >0.7853</td>\n",
       "      <td id=\"T_72732_row7_col1\" class=\"data row7 col1\" >0.5996</td>\n",
       "      <td id=\"T_72732_row7_col2\" class=\"data row7 col2\" >0.0045</td>\n",
       "      <td id=\"T_72732_row7_col3\" class=\"data row7 col3\" >0.2754</td>\n",
       "      <td id=\"T_72732_row7_col4\" class=\"data row7 col4\" >0.0088</td>\n",
       "      <td id=\"T_72732_row7_col5\" class=\"data row7 col5\" >0.0020</td>\n",
       "      <td id=\"T_72732_row7_col6\" class=\"data row7 col6\" >0.0089</td>\n",
       "    </tr>\n",
       "    <tr>\n",
       "      <th id=\"T_72732_level0_row8\" class=\"row_heading level0 row8\" >8</th>\n",
       "      <td id=\"T_72732_row8_col0\" class=\"data row8 col0\" >0.7845</td>\n",
       "      <td id=\"T_72732_row8_col1\" class=\"data row8 col1\" >0.5854</td>\n",
       "      <td id=\"T_72732_row8_col2\" class=\"data row8 col2\" >0.0061</td>\n",
       "      <td id=\"T_72732_row8_col3\" class=\"data row8 col3\" >0.2653</td>\n",
       "      <td id=\"T_72732_row8_col4\" class=\"data row8 col4\" >0.0119</td>\n",
       "      <td id=\"T_72732_row8_col5\" class=\"data row8 col5\" >0.0024</td>\n",
       "      <td id=\"T_72732_row8_col6\" class=\"data row8 col6\" >0.0089</td>\n",
       "    </tr>\n",
       "    <tr>\n",
       "      <th id=\"T_72732_level0_row9\" class=\"row_heading level0 row9\" >9</th>\n",
       "      <td id=\"T_72732_row9_col0\" class=\"data row9 col0\" >0.7848</td>\n",
       "      <td id=\"T_72732_row9_col1\" class=\"data row9 col1\" >0.6018</td>\n",
       "      <td id=\"T_72732_row9_col2\" class=\"data row9 col2\" >0.0054</td>\n",
       "      <td id=\"T_72732_row9_col3\" class=\"data row9 col3\" >0.2644</td>\n",
       "      <td id=\"T_72732_row9_col4\" class=\"data row9 col4\" >0.0106</td>\n",
       "      <td id=\"T_72732_row9_col5\" class=\"data row9 col5\" >0.0021</td>\n",
       "      <td id=\"T_72732_row9_col6\" class=\"data row9 col6\" >0.0083</td>\n",
       "    </tr>\n",
       "    <tr>\n",
       "      <th id=\"T_72732_level0_row10\" class=\"row_heading level0 row10\" >Mean</th>\n",
       "      <td id=\"T_72732_row10_col0\" class=\"data row10 col0\" >0.7849</td>\n",
       "      <td id=\"T_72732_row10_col1\" class=\"data row10 col1\" >0.5952</td>\n",
       "      <td id=\"T_72732_row10_col2\" class=\"data row10 col2\" >0.0067</td>\n",
       "      <td id=\"T_72732_row10_col3\" class=\"data row10 col3\" >0.3011</td>\n",
       "      <td id=\"T_72732_row10_col4\" class=\"data row10 col4\" >0.0131</td>\n",
       "      <td id=\"T_72732_row10_col5\" class=\"data row10 col5\" >0.0038</td>\n",
       "      <td id=\"T_72732_row10_col6\" class=\"data row10 col6\" >0.0146</td>\n",
       "    </tr>\n",
       "    <tr>\n",
       "      <th id=\"T_72732_level0_row11\" class=\"row_heading level0 row11\" >Std</th>\n",
       "      <td id=\"T_72732_row11_col0\" class=\"data row11 col0\" >0.0008</td>\n",
       "      <td id=\"T_72732_row11_col1\" class=\"data row11 col1\" >0.0050</td>\n",
       "      <td id=\"T_72732_row11_col2\" class=\"data row11 col2\" >0.0016</td>\n",
       "      <td id=\"T_72732_row11_col3\" class=\"data row11 col3\" >0.0591</td>\n",
       "      <td id=\"T_72732_row11_col4\" class=\"data row11 col4\" >0.0032</td>\n",
       "      <td id=\"T_72732_row11_col5\" class=\"data row11 col5\" >0.0025</td>\n",
       "      <td id=\"T_72732_row11_col6\" class=\"data row11 col6\" >0.0096</td>\n",
       "    </tr>\n",
       "  </tbody>\n",
       "</table>\n"
      ],
      "text/plain": [
       "<pandas.io.formats.style.Styler at 0x7f6e6dd993c0>"
      ]
     },
     "metadata": {},
     "output_type": "display_data"
    },
    {
     "data": {
      "text/html": [],
      "text/plain": [
       "<IPython.core.display.HTML object>"
      ]
     },
     "metadata": {},
     "output_type": "display_data"
    },
    {
     "data": {
      "text/html": [],
      "text/plain": [
       "<IPython.core.display.HTML object>"
      ]
     },
     "metadata": {},
     "output_type": "display_data"
    },
    {
     "data": {
      "image/png": "[encoded data removed]",
      "text/plain": [
       "<Figure size 480x330 with 1 Axes>"
      ]
     },
     "metadata": {},
     "output_type": "display_data"
    }
   ],
   "source": [
    "regression_model_lightgbm = classification_setup.create_model(\"lightgbm\", probability_threshold = 0.50)\n",
    "plot_model(regression_model_lightgbm, plot = 'auc', scale = 0.6)"
   ]
  },
  {
   "cell_type": "code",
   "execution_count": 10,
   "metadata": {
    "execution": {
     "iopub.execute_input": "2023-08-14T22:45:50.920703Z",
     "iopub.status.busy": "2023-08-14T22:45:50.920317Z",
     "iopub.status.idle": "2023-08-14T22:49:53.034735Z",
     "shell.execute_reply": "2023-08-14T22:49:53.034006Z",
     "shell.execute_reply.started": "2023-08-14T22:45:50.920676Z"
    },
    "scrolled": true
   },
   "outputs": [
    {
     "data": {
      "text/html": [],
      "text/plain": [
       "<IPython.core.display.HTML object>"
      ]
     },
     "metadata": {},
     "output_type": "display_data"
    },
    {
     "data": {
      "text/html": [
       "<style type=\"text/css\">\n",
       "#T_d61ba_row10_col0, #T_d61ba_row10_col1, #T_d61ba_row10_col2, #T_d61ba_row10_col3, #T_d61ba_row10_col4, #T_d61ba_row10_col5, #T_d61ba_row10_col6 {\n",
       "  background: yellow;\n",
       "}\n",
       "</style>\n",
       "<table id=\"T_d61ba\">\n",
       "  <thead>\n",
       "    <tr>\n",
       "      <th class=\"blank level0\" >&nbsp;</th>\n",
       "      <th id=\"T_d61ba_level0_col0\" class=\"col_heading level0 col0\" >Accuracy</th>\n",
       "      <th id=\"T_d61ba_level0_col1\" class=\"col_heading level0 col1\" >AUC</th>\n",
       "      <th id=\"T_d61ba_level0_col2\" class=\"col_heading level0 col2\" >Recall</th>\n",
       "      <th id=\"T_d61ba_level0_col3\" class=\"col_heading level0 col3\" >Prec.</th>\n",
       "      <th id=\"T_d61ba_level0_col4\" class=\"col_heading level0 col4\" >F1</th>\n",
       "      <th id=\"T_d61ba_level0_col5\" class=\"col_heading level0 col5\" >Kappa</th>\n",
       "      <th id=\"T_d61ba_level0_col6\" class=\"col_heading level0 col6\" >MCC</th>\n",
       "    </tr>\n",
       "    <tr>\n",
       "      <th class=\"index_name level0\" >Fold</th>\n",
       "      <th class=\"blank col0\" >&nbsp;</th>\n",
       "      <th class=\"blank col1\" >&nbsp;</th>\n",
       "      <th class=\"blank col2\" >&nbsp;</th>\n",
       "      <th class=\"blank col3\" >&nbsp;</th>\n",
       "      <th class=\"blank col4\" >&nbsp;</th>\n",
       "      <th class=\"blank col5\" >&nbsp;</th>\n",
       "      <th class=\"blank col6\" >&nbsp;</th>\n",
       "    </tr>\n",
       "  </thead>\n",
       "  <tbody>\n",
       "    <tr>\n",
       "      <th id=\"T_d61ba_level0_row0\" class=\"row_heading level0 row0\" >0</th>\n",
       "      <td id=\"T_d61ba_row0_col0\" class=\"data row0 col0\" >0.7434</td>\n",
       "      <td id=\"T_d61ba_row0_col1\" class=\"data row0 col1\" >0.5690</td>\n",
       "      <td id=\"T_d61ba_row0_col2\" class=\"data row0 col2\" >0.1168</td>\n",
       "      <td id=\"T_d61ba_row0_col3\" class=\"data row0 col3\" >0.2672</td>\n",
       "      <td id=\"T_d61ba_row0_col4\" class=\"data row0 col4\" >0.1626</td>\n",
       "      <td id=\"T_d61ba_row0_col5\" class=\"data row0 col5\" >0.0378</td>\n",
       "      <td id=\"T_d61ba_row0_col6\" class=\"data row0 col6\" >0.0423</td>\n",
       "    </tr>\n",
       "    <tr>\n",
       "      <th id=\"T_d61ba_level0_row1\" class=\"row_heading level0 row1\" >1</th>\n",
       "      <td id=\"T_d61ba_row1_col0\" class=\"data row1 col0\" >0.7468</td>\n",
       "      <td id=\"T_d61ba_row1_col1\" class=\"data row1 col1\" >0.5762</td>\n",
       "      <td id=\"T_d61ba_row1_col2\" class=\"data row1 col2\" >0.1150</td>\n",
       "      <td id=\"T_d61ba_row1_col3\" class=\"data row1 col3\" >0.2750</td>\n",
       "      <td id=\"T_d61ba_row1_col4\" class=\"data row1 col4\" >0.1621</td>\n",
       "      <td id=\"T_d61ba_row1_col5\" class=\"data row1 col5\" >0.0417</td>\n",
       "      <td id=\"T_d61ba_row1_col6\" class=\"data row1 col6\" >0.0472</td>\n",
       "    </tr>\n",
       "    <tr>\n",
       "      <th id=\"T_d61ba_level0_row2\" class=\"row_heading level0 row2\" >2</th>\n",
       "      <td id=\"T_d61ba_row2_col0\" class=\"data row2 col0\" >0.7467</td>\n",
       "      <td id=\"T_d61ba_row2_col1\" class=\"data row2 col1\" >0.5740</td>\n",
       "      <td id=\"T_d61ba_row2_col2\" class=\"data row2 col2\" >0.1154</td>\n",
       "      <td id=\"T_d61ba_row2_col3\" class=\"data row2 col3\" >0.2754</td>\n",
       "      <td id=\"T_d61ba_row2_col4\" class=\"data row2 col4\" >0.1627</td>\n",
       "      <td id=\"T_d61ba_row2_col5\" class=\"data row2 col5\" >0.0420</td>\n",
       "      <td id=\"T_d61ba_row2_col6\" class=\"data row2 col6\" >0.0476</td>\n",
       "    </tr>\n",
       "    <tr>\n",
       "      <th id=\"T_d61ba_level0_row3\" class=\"row_heading level0 row3\" >3</th>\n",
       "      <td id=\"T_d61ba_row3_col0\" class=\"data row3 col0\" >0.7458</td>\n",
       "      <td id=\"T_d61ba_row3_col1\" class=\"data row3 col1\" >0.5734</td>\n",
       "      <td id=\"T_d61ba_row3_col2\" class=\"data row3 col2\" >0.1194</td>\n",
       "      <td id=\"T_d61ba_row3_col3\" class=\"data row3 col3\" >0.2768</td>\n",
       "      <td id=\"T_d61ba_row3_col4\" class=\"data row3 col4\" >0.1669</td>\n",
       "      <td id=\"T_d61ba_row3_col5\" class=\"data row3 col5\" >0.0441</td>\n",
       "      <td id=\"T_d61ba_row3_col6\" class=\"data row3 col6\" >0.0495</td>\n",
       "    </tr>\n",
       "    <tr>\n",
       "      <th id=\"T_d61ba_level0_row4\" class=\"row_heading level0 row4\" >4</th>\n",
       "      <td id=\"T_d61ba_row4_col0\" class=\"data row4 col0\" >0.7466</td>\n",
       "      <td id=\"T_d61ba_row4_col1\" class=\"data row4 col1\" >0.5702</td>\n",
       "      <td id=\"T_d61ba_row4_col2\" class=\"data row4 col2\" >0.1462</td>\n",
       "      <td id=\"T_d61ba_row4_col3\" class=\"data row4 col3\" >0.3039</td>\n",
       "      <td id=\"T_d61ba_row4_col4\" class=\"data row4 col4\" >0.1974</td>\n",
       "      <td id=\"T_d61ba_row4_col5\" class=\"data row4 col5\" >0.0684</td>\n",
       "      <td id=\"T_d61ba_row4_col6\" class=\"data row4 col6\" >0.0749</td>\n",
       "    </tr>\n",
       "    <tr>\n",
       "      <th id=\"T_d61ba_level0_row5\" class=\"row_heading level0 row5\" >5</th>\n",
       "      <td id=\"T_d61ba_row5_col0\" class=\"data row5 col0\" >0.7483</td>\n",
       "      <td id=\"T_d61ba_row5_col1\" class=\"data row5 col1\" >0.5769</td>\n",
       "      <td id=\"T_d61ba_row5_col2\" class=\"data row5 col2\" >0.1293</td>\n",
       "      <td id=\"T_d61ba_row5_col3\" class=\"data row5 col3\" >0.2944</td>\n",
       "      <td id=\"T_d61ba_row5_col4\" class=\"data row5 col4\" >0.1797</td>\n",
       "      <td id=\"T_d61ba_row5_col5\" class=\"data row5 col5\" >0.0570</td>\n",
       "      <td id=\"T_d61ba_row5_col6\" class=\"data row5 col6\" >0.0638</td>\n",
       "    </tr>\n",
       "    <tr>\n",
       "      <th id=\"T_d61ba_level0_row6\" class=\"row_heading level0 row6\" >6</th>\n",
       "      <td id=\"T_d61ba_row6_col0\" class=\"data row6 col0\" >0.7455</td>\n",
       "      <td id=\"T_d61ba_row6_col1\" class=\"data row6 col1\" >0.5704</td>\n",
       "      <td id=\"T_d61ba_row6_col2\" class=\"data row6 col2\" >0.1213</td>\n",
       "      <td id=\"T_d61ba_row6_col3\" class=\"data row6 col3\" >0.2779</td>\n",
       "      <td id=\"T_d61ba_row6_col4\" class=\"data row6 col4\" >0.1689</td>\n",
       "      <td id=\"T_d61ba_row6_col5\" class=\"data row6 col5\" >0.0452</td>\n",
       "      <td id=\"T_d61ba_row6_col6\" class=\"data row6 col6\" >0.0506</td>\n",
       "    </tr>\n",
       "    <tr>\n",
       "      <th id=\"T_d61ba_level0_row7\" class=\"row_heading level0 row7\" >7</th>\n",
       "      <td id=\"T_d61ba_row7_col0\" class=\"data row7 col0\" >0.7511</td>\n",
       "      <td id=\"T_d61ba_row7_col1\" class=\"data row7 col1\" >0.5774</td>\n",
       "      <td id=\"T_d61ba_row7_col2\" class=\"data row7 col2\" >0.1110</td>\n",
       "      <td id=\"T_d61ba_row7_col3\" class=\"data row7 col3\" >0.2849</td>\n",
       "      <td id=\"T_d61ba_row7_col4\" class=\"data row7 col4\" >0.1597</td>\n",
       "      <td id=\"T_d61ba_row7_col5\" class=\"data row7 col5\" >0.0456</td>\n",
       "      <td id=\"T_d61ba_row7_col6\" class=\"data row7 col6\" >0.0527</td>\n",
       "    </tr>\n",
       "    <tr>\n",
       "      <th id=\"T_d61ba_level0_row8\" class=\"row_heading level0 row8\" >8</th>\n",
       "      <td id=\"T_d61ba_row8_col0\" class=\"data row8 col0\" >0.7445</td>\n",
       "      <td id=\"T_d61ba_row8_col1\" class=\"data row8 col1\" >0.5639</td>\n",
       "      <td id=\"T_d61ba_row8_col2\" class=\"data row8 col2\" >0.1258</td>\n",
       "      <td id=\"T_d61ba_row8_col3\" class=\"data row8 col3\" >0.2794</td>\n",
       "      <td id=\"T_d61ba_row8_col4\" class=\"data row8 col4\" >0.1734</td>\n",
       "      <td id=\"T_d61ba_row8_col5\" class=\"data row8 col5\" >0.0474</td>\n",
       "      <td id=\"T_d61ba_row8_col6\" class=\"data row8 col6\" >0.0527</td>\n",
       "    </tr>\n",
       "    <tr>\n",
       "      <th id=\"T_d61ba_level0_row9\" class=\"row_heading level0 row9\" >9</th>\n",
       "      <td id=\"T_d61ba_row9_col0\" class=\"data row9 col0\" >0.7513</td>\n",
       "      <td id=\"T_d61ba_row9_col1\" class=\"data row9 col1\" >0.5755</td>\n",
       "      <td id=\"T_d61ba_row9_col2\" class=\"data row9 col2\" >0.1180</td>\n",
       "      <td id=\"T_d61ba_row9_col3\" class=\"data row9 col3\" >0.2929</td>\n",
       "      <td id=\"T_d61ba_row9_col4\" class=\"data row9 col4\" >0.1682</td>\n",
       "      <td id=\"T_d61ba_row9_col5\" class=\"data row9 col5\" >0.0522</td>\n",
       "      <td id=\"T_d61ba_row9_col6\" class=\"data row9 col6\" >0.0597</td>\n",
       "    </tr>\n",
       "    <tr>\n",
       "      <th id=\"T_d61ba_level0_row10\" class=\"row_heading level0 row10\" >Mean</th>\n",
       "      <td id=\"T_d61ba_row10_col0\" class=\"data row10 col0\" >0.7470</td>\n",
       "      <td id=\"T_d61ba_row10_col1\" class=\"data row10 col1\" >0.5727</td>\n",
       "      <td id=\"T_d61ba_row10_col2\" class=\"data row10 col2\" >0.1218</td>\n",
       "      <td id=\"T_d61ba_row10_col3\" class=\"data row10 col3\" >0.2828</td>\n",
       "      <td id=\"T_d61ba_row10_col4\" class=\"data row10 col4\" >0.1702</td>\n",
       "      <td id=\"T_d61ba_row10_col5\" class=\"data row10 col5\" >0.0481</td>\n",
       "      <td id=\"T_d61ba_row10_col6\" class=\"data row10 col6\" >0.0541</td>\n",
       "    </tr>\n",
       "    <tr>\n",
       "      <th id=\"T_d61ba_level0_row11\" class=\"row_heading level0 row11\" >Std</th>\n",
       "      <td id=\"T_d61ba_row11_col0\" class=\"data row11 col0\" >0.0024</td>\n",
       "      <td id=\"T_d61ba_row11_col1\" class=\"data row11 col1\" >0.0041</td>\n",
       "      <td id=\"T_d61ba_row11_col2\" class=\"data row11 col2\" >0.0096</td>\n",
       "      <td id=\"T_d61ba_row11_col3\" class=\"data row11 col3\" >0.0106</td>\n",
       "      <td id=\"T_d61ba_row11_col4\" class=\"data row11 col4\" >0.0107</td>\n",
       "      <td id=\"T_d61ba_row11_col5\" class=\"data row11 col5\" >0.0085</td>\n",
       "      <td id=\"T_d61ba_row11_col6\" class=\"data row11 col6\" >0.0091</td>\n",
       "    </tr>\n",
       "  </tbody>\n",
       "</table>\n"
      ],
      "text/plain": [
       "<pandas.io.formats.style.Styler at 0x7f6e6dc681c0>"
      ]
     },
     "metadata": {},
     "output_type": "display_data"
    },
    {
     "data": {
      "text/html": [],
      "text/plain": [
       "<IPython.core.display.HTML object>"
      ]
     },
     "metadata": {},
     "output_type": "display_data"
    },
    {
     "data": {
      "text/html": [],
      "text/plain": [
       "<IPython.core.display.HTML object>"
      ]
     },
     "metadata": {},
     "output_type": "display_data"
    },
    {
     "data": {
      "image/png": "[encoded data removed]",
      "text/plain": [
       "<Figure size 480x330 with 1 Axes>"
      ]
     },
     "metadata": {},
     "output_type": "display_data"
    }
   ],
   "source": [
    "regression_model_rf = classification_setup.create_model(\"rf\", probability_threshold = 0.50)\n",
    "plot_model(regression_model_rf, plot = 'auc', scale = 0.6)"
   ]
  },
  {
   "cell_type": "code",
   "execution_count": 11,
   "metadata": {
    "execution": {
     "iopub.execute_input": "2023-08-14T22:50:35.470019Z",
     "iopub.status.busy": "2023-08-14T22:50:35.469706Z",
     "iopub.status.idle": "2023-08-14T22:51:06.582898Z",
     "shell.execute_reply": "2023-08-14T22:51:06.582221Z",
     "shell.execute_reply.started": "2023-08-14T22:50:35.469995Z"
    }
   },
   "outputs": [],
   "source": [
    "regression_model_finalized_lightgbm = pycaret.classification.finalize_model(regression_model_lightgbm)\n",
    "regression_model_finalized_rf = pycaret.classification.finalize_model(regression_model_rf)"
   ]
  },
  {
   "cell_type": "code",
   "execution_count": 14,
   "metadata": {
    "execution": {
     "iopub.execute_input": "2023-08-14T22:52:14.310813Z",
     "iopub.status.busy": "2023-08-14T22:52:14.310495Z",
     "iopub.status.idle": "2023-08-14T22:52:14.879515Z",
     "shell.execute_reply": "2023-08-14T22:52:14.878679Z",
     "shell.execute_reply.started": "2023-08-14T22:52:14.310781Z"
    }
   },
   "outputs": [
    {
     "data": {
      "text/html": [
       "<style type=\"text/css\">\n",
       "</style>\n",
       "<table id=\"T_c4fdb\">\n",
       "  <thead>\n",
       "    <tr>\n",
       "      <th class=\"blank level0\" >&nbsp;</th>\n",
       "      <th id=\"T_c4fdb_level0_col0\" class=\"col_heading level0 col0\" >Model</th>\n",
       "      <th id=\"T_c4fdb_level0_col1\" class=\"col_heading level0 col1\" >Accuracy</th>\n",
       "      <th id=\"T_c4fdb_level0_col2\" class=\"col_heading level0 col2\" >AUC</th>\n",
       "      <th id=\"T_c4fdb_level0_col3\" class=\"col_heading level0 col3\" >Recall</th>\n",
       "      <th id=\"T_c4fdb_level0_col4\" class=\"col_heading level0 col4\" >Prec.</th>\n",
       "      <th id=\"T_c4fdb_level0_col5\" class=\"col_heading level0 col5\" >F1</th>\n",
       "      <th id=\"T_c4fdb_level0_col6\" class=\"col_heading level0 col6\" >Kappa</th>\n",
       "      <th id=\"T_c4fdb_level0_col7\" class=\"col_heading level0 col7\" >MCC</th>\n",
       "    </tr>\n",
       "  </thead>\n",
       "  <tbody>\n",
       "    <tr>\n",
       "      <th id=\"T_c4fdb_level0_row0\" class=\"row_heading level0 row0\" >0</th>\n",
       "      <td id=\"T_c4fdb_row0_col0\" class=\"data row0 col0\" >Light Gradient Boosting Machine</td>\n",
       "      <td id=\"T_c4fdb_row0_col1\" class=\"data row0 col1\" >0.7813</td>\n",
       "      <td id=\"T_c4fdb_row0_col2\" class=\"data row0 col2\" >0.5653</td>\n",
       "      <td id=\"T_c4fdb_row0_col3\" class=\"data row0 col3\" >0.0222</td>\n",
       "      <td id=\"T_c4fdb_row0_col4\" class=\"data row0 col4\" >0.2399</td>\n",
       "      <td id=\"T_c4fdb_row0_col5\" class=\"data row0 col5\" >0.0407</td>\n",
       "      <td id=\"T_c4fdb_row0_col6\" class=\"data row0 col6\" >0.0055</td>\n",
       "      <td id=\"T_c4fdb_row0_col7\" class=\"data row0 col7\" >0.0108</td>\n",
       "    </tr>\n",
       "  </tbody>\n",
       "</table>\n"
      ],
      "text/plain": [
       "<pandas.io.formats.style.Styler at 0x7f6e6dc6a5f0>"
      ]
     },
     "metadata": {},
     "output_type": "display_data"
    },
    {
     "data": {
      "text/html": [
       "<style type=\"text/css\">\n",
       "</style>\n",
       "<table id=\"T_8f952\">\n",
       "  <thead>\n",
       "    <tr>\n",
       "      <th class=\"blank level0\" >&nbsp;</th>\n",
       "      <th id=\"T_8f952_level0_col0\" class=\"col_heading level0 col0\" >Model</th>\n",
       "      <th id=\"T_8f952_level0_col1\" class=\"col_heading level0 col1\" >Accuracy</th>\n",
       "      <th id=\"T_8f952_level0_col2\" class=\"col_heading level0 col2\" >AUC</th>\n",
       "      <th id=\"T_8f952_level0_col3\" class=\"col_heading level0 col3\" >Recall</th>\n",
       "      <th id=\"T_8f952_level0_col4\" class=\"col_heading level0 col4\" >Prec.</th>\n",
       "      <th id=\"T_8f952_level0_col5\" class=\"col_heading level0 col5\" >F1</th>\n",
       "      <th id=\"T_8f952_level0_col6\" class=\"col_heading level0 col6\" >Kappa</th>\n",
       "      <th id=\"T_8f952_level0_col7\" class=\"col_heading level0 col7\" >MCC</th>\n",
       "    </tr>\n",
       "  </thead>\n",
       "  <tbody>\n",
       "    <tr>\n",
       "      <th id=\"T_8f952_level0_row0\" class=\"row_heading level0 row0\" >0</th>\n",
       "      <td id=\"T_8f952_row0_col0\" class=\"data row0 col0\" >Random Forest Classifier</td>\n",
       "      <td id=\"T_8f952_row0_col1\" class=\"data row0 col1\" >0.6858</td>\n",
       "      <td id=\"T_8f952_row0_col2\" class=\"data row0 col2\" >0.5449</td>\n",
       "      <td id=\"T_8f952_row0_col3\" class=\"data row0 col3\" >0.2467</td>\n",
       "      <td id=\"T_8f952_row0_col4\" class=\"data row0 col4\" >0.2468</td>\n",
       "      <td id=\"T_8f952_row0_col5\" class=\"data row0 col5\" >0.2468</td>\n",
       "      <td id=\"T_8f952_row0_col6\" class=\"data row0 col6\" >0.0482</td>\n",
       "      <td id=\"T_8f952_row0_col7\" class=\"data row0 col7\" >0.0482</td>\n",
       "    </tr>\n",
       "  </tbody>\n",
       "</table>\n"
      ],
      "text/plain": [
       "<pandas.io.formats.style.Styler at 0x7f6ec48daf80>"
      ]
     },
     "metadata": {},
     "output_type": "display_data"
    }
   ],
   "source": [
    "test_finalized_prediction_lightgbm, test_finalized_prediction_rf = model.common.batch_predict_and_odds(\n",
    "    test_data, \n",
    "    [regression_model_finalized_lightgbm, regression_model_finalized_rf])"
   ]
  },
  {
   "cell_type": "code",
   "execution_count": 15,
   "metadata": {
    "execution": {
     "iopub.execute_input": "2023-08-14T22:52:16.671909Z",
     "iopub.status.busy": "2023-08-14T22:52:16.671614Z",
     "iopub.status.idle": "2023-08-14T22:52:16.698495Z",
     "shell.execute_reply": "2023-08-14T22:52:16.697605Z",
     "shell.execute_reply.started": "2023-08-14T22:52:16.671892Z"
    }
   },
   "outputs": [
    {
     "data": {
      "text/html": [
       "<table>\n",
       "<tbody>\n",
       "<tr><td>model   </td><td>0.6      </td><td>0.7     </td><td>0.75    </td><td>0.8     </td><td>0.85    </td></tr>\n",
       "<tr><td>lightgbm</td><td>(0, nan) </td><td>(0, nan)</td><td>(0, nan)</td><td>(0, nan)</td><td>(0, nan)</td></tr>\n",
       "<tr><td>rf      </td><td>(18, 0.5)</td><td>(4, 0.5)</td><td>(1, 0.0)</td><td>(1, 0.0)</td><td>(0, nan)</td></tr>\n",
       "</tbody>\n",
       "</table>"
      ],
      "text/plain": [
       "'<table>\\n<tbody>\\n<tr><td>model   </td><td>0.6      </td><td>0.7     </td><td>0.75    </td><td>0.8     </td><td>0.85    </td></tr>\\n<tr><td>lightgbm</td><td>(0, nan) </td><td>(0, nan)</td><td>(0, nan)</td><td>(0, nan)</td><td>(0, nan)</td></tr>\\n<tr><td>rf      </td><td>(18, 0.5)</td><td>(4, 0.5)</td><td>(1, 0.0)</td><td>(1, 0.0)</td><td>(0, nan)</td></tr>\\n</tbody>\\n</table>'"
      ]
     },
     "execution_count": 15,
     "metadata": {},
     "output_type": "execute_result"
    }
   ],
   "source": [
    "model.common.evaluate_predictions([(test_finalized_prediction_lightgbm, \"lightgbm\"), (test_finalized_prediction_rf, \"rf\")], [0.6, 0.7, 0.75, 0.8, 0.85], target_column)"
   ]
  },
  {
   "cell_type": "code",
   "execution_count": 16,
   "metadata": {
    "execution": {
     "iopub.execute_input": "2023-08-14T22:52:23.748730Z",
     "iopub.status.busy": "2023-08-14T22:52:23.748464Z",
     "iopub.status.idle": "2023-08-14T22:52:24.637261Z",
     "shell.execute_reply": "2023-08-14T22:52:24.636905Z",
     "shell.execute_reply.started": "2023-08-14T22:52:23.748708Z"
    }
   },
   "outputs": [
    {
     "name": "stdout",
     "output_type": "stream",
     "text": [
      "Transformation Pipeline and Model Successfully Saved\n"
     ]
    },
    {
     "data": {
      "text/plain": [
       "(Pipeline(memory=FastMemory(location=/tmp/joblib),\n",
       "          steps=[('numerical_imputer',\n",
       "                  TransformerWrapper(exclude=None,\n",
       "                                     include=['pitching_gamesPlayed',\n",
       "                                              'pitching_runs_per_game',\n",
       "                                              'pitching_strikeOuts_per_game',\n",
       "                                              'pitching_hits_per_game',\n",
       "                                              'batting_gamesPlayed',\n",
       "                                              'batting_runs_per_game',\n",
       "                                              'batting_strikeOuts_per_game',\n",
       "                                              'batting_hits_per_game',\n",
       "                                              'batting_rbi', 'temp'],\n",
       "                                     transf...\n",
       "                                                                                         random_state=152,\n",
       "                                                                                         verbose=0,\n",
       "                                                                                         warm_start=False),\n",
       "                                                       criterion='gini',\n",
       "                                                       max_depth=None,\n",
       "                                                       max_features='sqrt',\n",
       "                                                       max_leaf_nodes=None,\n",
       "                                                       max_samples=None,\n",
       "                                                       min_impurity_decrease=0.0,\n",
       "                                                       min_samples_leaf=1,\n",
       "                                                       min_samples_split=2,\n",
       "                                                       min_weight_fraction_leaf=0.0,\n",
       "                                                       n_estimators=100,\n",
       "                                                       n_jobs=-1,\n",
       "                                                       oob_score=False,\n",
       "                                                       probability_threshold=0.5,\n",
       "                                                       random_state=152,\n",
       "                                                       verbose=0,\n",
       "                                                       warm_start=False))],\n",
       "          verbose=False),\n",
       " 'model/batter_2hits_regression_model.pkl')"
      ]
     },
     "execution_count": 16,
     "metadata": {},
     "output_type": "execute_result"
    }
   ],
   "source": [
    "pycaret.classification.save_model(regression_model_finalized_rf, model_file_name)"
   ]
  },
  {
   "cell_type": "code",
   "execution_count": null,
   "metadata": {},
   "outputs": [],
   "source": []
  },
  {
   "cell_type": "code",
   "execution_count": null,
   "metadata": {},
   "outputs": [],
   "source": []
  },
  {
   "cell_type": "code",
   "execution_count": 50,
   "metadata": {
    "execution": {
     "iopub.execute_input": "2023-07-03T23:28:51.317049Z",
     "iopub.status.busy": "2023-07-03T23:28:51.316742Z",
     "iopub.status.idle": "2023-07-03T23:39:54.353700Z",
     "shell.execute_reply": "2023-07-03T23:39:54.351979Z",
     "shell.execute_reply.started": "2023-07-03T23:28:51.317028Z"
    },
    "scrolled": true
   },
   "outputs": [
    {
     "data": {
      "text/html": [
       "<style type=\"text/css\">\n",
       "#T_f3348_row11_col1 {\n",
       "  background-color: lightgreen;\n",
       "}\n",
       "</style>\n",
       "<table id=\"T_f3348\">\n",
       "  <thead>\n",
       "    <tr>\n",
       "      <th class=\"blank level0\" >&nbsp;</th>\n",
       "      <th id=\"T_f3348_level0_col0\" class=\"col_heading level0 col0\" >Description</th>\n",
       "      <th id=\"T_f3348_level0_col1\" class=\"col_heading level0 col1\" >Value</th>\n",
       "    </tr>\n",
       "  </thead>\n",
       "  <tbody>\n",
       "    <tr>\n",
       "      <th id=\"T_f3348_level0_row0\" class=\"row_heading level0 row0\" >0</th>\n",
       "      <td id=\"T_f3348_row0_col0\" class=\"data row0 col0\" >Session id</td>\n",
       "      <td id=\"T_f3348_row0_col1\" class=\"data row0 col1\" >160</td>\n",
       "    </tr>\n",
       "    <tr>\n",
       "      <th id=\"T_f3348_level0_row1\" class=\"row_heading level0 row1\" >1</th>\n",
       "      <td id=\"T_f3348_row1_col0\" class=\"data row1 col0\" >Target</td>\n",
       "      <td id=\"T_f3348_row1_col1\" class=\"data row1 col1\" >batting_2hits_recorded</td>\n",
       "    </tr>\n",
       "    <tr>\n",
       "      <th id=\"T_f3348_level0_row2\" class=\"row_heading level0 row2\" >2</th>\n",
       "      <td id=\"T_f3348_row2_col0\" class=\"data row2 col0\" >Target type</td>\n",
       "      <td id=\"T_f3348_row2_col1\" class=\"data row2 col1\" >Binary</td>\n",
       "    </tr>\n",
       "    <tr>\n",
       "      <th id=\"T_f3348_level0_row3\" class=\"row_heading level0 row3\" >3</th>\n",
       "      <td id=\"T_f3348_row3_col0\" class=\"data row3 col0\" >Original data shape</td>\n",
       "      <td id=\"T_f3348_row3_col1\" class=\"data row3 col1\" >(285090, 21)</td>\n",
       "    </tr>\n",
       "    <tr>\n",
       "      <th id=\"T_f3348_level0_row4\" class=\"row_heading level0 row4\" >4</th>\n",
       "      <td id=\"T_f3348_row4_col0\" class=\"data row4 col0\" >Transformed data shape</td>\n",
       "      <td id=\"T_f3348_row4_col1\" class=\"data row4 col1\" >(285090, 15)</td>\n",
       "    </tr>\n",
       "    <tr>\n",
       "      <th id=\"T_f3348_level0_row5\" class=\"row_heading level0 row5\" >5</th>\n",
       "      <td id=\"T_f3348_row5_col0\" class=\"data row5 col0\" >Transformed train set shape</td>\n",
       "      <td id=\"T_f3348_row5_col1\" class=\"data row5 col1\" >(199563, 15)</td>\n",
       "    </tr>\n",
       "    <tr>\n",
       "      <th id=\"T_f3348_level0_row6\" class=\"row_heading level0 row6\" >6</th>\n",
       "      <td id=\"T_f3348_row6_col0\" class=\"data row6 col0\" >Transformed test set shape</td>\n",
       "      <td id=\"T_f3348_row6_col1\" class=\"data row6 col1\" >(85527, 15)</td>\n",
       "    </tr>\n",
       "    <tr>\n",
       "      <th id=\"T_f3348_level0_row7\" class=\"row_heading level0 row7\" >7</th>\n",
       "      <td id=\"T_f3348_row7_col0\" class=\"data row7 col0\" >Ignore features</td>\n",
       "      <td id=\"T_f3348_row7_col1\" class=\"data row7 col1\" >6</td>\n",
       "    </tr>\n",
       "    <tr>\n",
       "      <th id=\"T_f3348_level0_row8\" class=\"row_heading level0 row8\" >8</th>\n",
       "      <td id=\"T_f3348_row8_col0\" class=\"data row8 col0\" >Numeric features</td>\n",
       "      <td id=\"T_f3348_row8_col1\" class=\"data row8 col1\" >13</td>\n",
       "    </tr>\n",
       "    <tr>\n",
       "      <th id=\"T_f3348_level0_row9\" class=\"row_heading level0 row9\" >9</th>\n",
       "      <td id=\"T_f3348_row9_col0\" class=\"data row9 col0\" >Categorical features</td>\n",
       "      <td id=\"T_f3348_row9_col1\" class=\"data row9 col1\" >1</td>\n",
       "    </tr>\n",
       "    <tr>\n",
       "      <th id=\"T_f3348_level0_row10\" class=\"row_heading level0 row10\" >10</th>\n",
       "      <td id=\"T_f3348_row10_col0\" class=\"data row10 col0\" >Rows with missing values</td>\n",
       "      <td id=\"T_f3348_row10_col1\" class=\"data row10 col1\" >0.0%</td>\n",
       "    </tr>\n",
       "    <tr>\n",
       "      <th id=\"T_f3348_level0_row11\" class=\"row_heading level0 row11\" >11</th>\n",
       "      <td id=\"T_f3348_row11_col0\" class=\"data row11 col0\" >Preprocess</td>\n",
       "      <td id=\"T_f3348_row11_col1\" class=\"data row11 col1\" >True</td>\n",
       "    </tr>\n",
       "    <tr>\n",
       "      <th id=\"T_f3348_level0_row12\" class=\"row_heading level0 row12\" >12</th>\n",
       "      <td id=\"T_f3348_row12_col0\" class=\"data row12 col0\" >Imputation type</td>\n",
       "      <td id=\"T_f3348_row12_col1\" class=\"data row12 col1\" >simple</td>\n",
       "    </tr>\n",
       "    <tr>\n",
       "      <th id=\"T_f3348_level0_row13\" class=\"row_heading level0 row13\" >13</th>\n",
       "      <td id=\"T_f3348_row13_col0\" class=\"data row13 col0\" >Numeric imputation</td>\n",
       "      <td id=\"T_f3348_row13_col1\" class=\"data row13 col1\" >mean</td>\n",
       "    </tr>\n",
       "    <tr>\n",
       "      <th id=\"T_f3348_level0_row14\" class=\"row_heading level0 row14\" >14</th>\n",
       "      <td id=\"T_f3348_row14_col0\" class=\"data row14 col0\" >Categorical imputation</td>\n",
       "      <td id=\"T_f3348_row14_col1\" class=\"data row14 col1\" >mode</td>\n",
       "    </tr>\n",
       "    <tr>\n",
       "      <th id=\"T_f3348_level0_row15\" class=\"row_heading level0 row15\" >15</th>\n",
       "      <td id=\"T_f3348_row15_col0\" class=\"data row15 col0\" >Maximum one-hot encoding</td>\n",
       "      <td id=\"T_f3348_row15_col1\" class=\"data row15 col1\" >25</td>\n",
       "    </tr>\n",
       "    <tr>\n",
       "      <th id=\"T_f3348_level0_row16\" class=\"row_heading level0 row16\" >16</th>\n",
       "      <td id=\"T_f3348_row16_col0\" class=\"data row16 col0\" >Encoding method</td>\n",
       "      <td id=\"T_f3348_row16_col1\" class=\"data row16 col1\" >None</td>\n",
       "    </tr>\n",
       "    <tr>\n",
       "      <th id=\"T_f3348_level0_row17\" class=\"row_heading level0 row17\" >17</th>\n",
       "      <td id=\"T_f3348_row17_col0\" class=\"data row17 col0\" >Fold Generator</td>\n",
       "      <td id=\"T_f3348_row17_col1\" class=\"data row17 col1\" >StratifiedKFold</td>\n",
       "    </tr>\n",
       "    <tr>\n",
       "      <th id=\"T_f3348_level0_row18\" class=\"row_heading level0 row18\" >18</th>\n",
       "      <td id=\"T_f3348_row18_col0\" class=\"data row18 col0\" >Fold Number</td>\n",
       "      <td id=\"T_f3348_row18_col1\" class=\"data row18 col1\" >10</td>\n",
       "    </tr>\n",
       "    <tr>\n",
       "      <th id=\"T_f3348_level0_row19\" class=\"row_heading level0 row19\" >19</th>\n",
       "      <td id=\"T_f3348_row19_col0\" class=\"data row19 col0\" >CPU Jobs</td>\n",
       "      <td id=\"T_f3348_row19_col1\" class=\"data row19 col1\" >-1</td>\n",
       "    </tr>\n",
       "    <tr>\n",
       "      <th id=\"T_f3348_level0_row20\" class=\"row_heading level0 row20\" >20</th>\n",
       "      <td id=\"T_f3348_row20_col0\" class=\"data row20 col0\" >Use GPU</td>\n",
       "      <td id=\"T_f3348_row20_col1\" class=\"data row20 col1\" >False</td>\n",
       "    </tr>\n",
       "    <tr>\n",
       "      <th id=\"T_f3348_level0_row21\" class=\"row_heading level0 row21\" >21</th>\n",
       "      <td id=\"T_f3348_row21_col0\" class=\"data row21 col0\" >Log Experiment</td>\n",
       "      <td id=\"T_f3348_row21_col1\" class=\"data row21 col1\" >False</td>\n",
       "    </tr>\n",
       "    <tr>\n",
       "      <th id=\"T_f3348_level0_row22\" class=\"row_heading level0 row22\" >22</th>\n",
       "      <td id=\"T_f3348_row22_col0\" class=\"data row22 col0\" >Experiment Name</td>\n",
       "      <td id=\"T_f3348_row22_col1\" class=\"data row22 col1\" >clf-default-name</td>\n",
       "    </tr>\n",
       "    <tr>\n",
       "      <th id=\"T_f3348_level0_row23\" class=\"row_heading level0 row23\" >23</th>\n",
       "      <td id=\"T_f3348_row23_col0\" class=\"data row23 col0\" >USI</td>\n",
       "      <td id=\"T_f3348_row23_col1\" class=\"data row23 col1\" >c0b4</td>\n",
       "    </tr>\n",
       "  </tbody>\n",
       "</table>\n"
      ],
      "text/plain": [
       "<pandas.io.formats.style.Styler at 0x7fbaf74d5ff0>"
      ]
     },
     "metadata": {},
     "output_type": "display_data"
    },
    {
     "data": {
      "text/html": [],
      "text/plain": [
       "<IPython.core.display.HTML object>"
      ]
     },
     "metadata": {},
     "output_type": "display_data"
    },
    {
     "data": {
      "text/html": [
       "<style type=\"text/css\">\n",
       "#T_47cab_row10_col0, #T_47cab_row10_col1, #T_47cab_row10_col2, #T_47cab_row10_col3, #T_47cab_row10_col4, #T_47cab_row10_col5, #T_47cab_row10_col6 {\n",
       "  background: yellow;\n",
       "}\n",
       "</style>\n",
       "<table id=\"T_47cab\">\n",
       "  <thead>\n",
       "    <tr>\n",
       "      <th class=\"blank level0\" >&nbsp;</th>\n",
       "      <th id=\"T_47cab_level0_col0\" class=\"col_heading level0 col0\" >Accuracy</th>\n",
       "      <th id=\"T_47cab_level0_col1\" class=\"col_heading level0 col1\" >AUC</th>\n",
       "      <th id=\"T_47cab_level0_col2\" class=\"col_heading level0 col2\" >Recall</th>\n",
       "      <th id=\"T_47cab_level0_col3\" class=\"col_heading level0 col3\" >Prec.</th>\n",
       "      <th id=\"T_47cab_level0_col4\" class=\"col_heading level0 col4\" >F1</th>\n",
       "      <th id=\"T_47cab_level0_col5\" class=\"col_heading level0 col5\" >Kappa</th>\n",
       "      <th id=\"T_47cab_level0_col6\" class=\"col_heading level0 col6\" >MCC</th>\n",
       "    </tr>\n",
       "    <tr>\n",
       "      <th class=\"index_name level0\" >Fold</th>\n",
       "      <th class=\"blank col0\" >&nbsp;</th>\n",
       "      <th class=\"blank col1\" >&nbsp;</th>\n",
       "      <th class=\"blank col2\" >&nbsp;</th>\n",
       "      <th class=\"blank col3\" >&nbsp;</th>\n",
       "      <th class=\"blank col4\" >&nbsp;</th>\n",
       "      <th class=\"blank col5\" >&nbsp;</th>\n",
       "      <th class=\"blank col6\" >&nbsp;</th>\n",
       "    </tr>\n",
       "  </thead>\n",
       "  <tbody>\n",
       "    <tr>\n",
       "      <th id=\"T_47cab_level0_row0\" class=\"row_heading level0 row0\" >0</th>\n",
       "      <td id=\"T_47cab_row0_col0\" class=\"data row0 col0\" >0.7889</td>\n",
       "      <td id=\"T_47cab_row0_col1\" class=\"data row0 col1\" >0.6744</td>\n",
       "      <td id=\"T_47cab_row0_col2\" class=\"data row0 col2\" >0.0402</td>\n",
       "      <td id=\"T_47cab_row0_col3\" class=\"data row0 col3\" >0.5681</td>\n",
       "      <td id=\"T_47cab_row0_col4\" class=\"data row0 col4\" >0.0751</td>\n",
       "      <td id=\"T_47cab_row0_col5\" class=\"data row0 col5\" >0.0483</td>\n",
       "      <td id=\"T_47cab_row0_col6\" class=\"data row0 col6\" >0.1073</td>\n",
       "    </tr>\n",
       "    <tr>\n",
       "      <th id=\"T_47cab_level0_row1\" class=\"row_heading level0 row1\" >1</th>\n",
       "      <td id=\"T_47cab_row1_col0\" class=\"data row1 col0\" >0.7882</td>\n",
       "      <td id=\"T_47cab_row1_col1\" class=\"data row1 col1\" >0.6823</td>\n",
       "      <td id=\"T_47cab_row1_col2\" class=\"data row1 col2\" >0.0364</td>\n",
       "      <td id=\"T_47cab_row1_col3\" class=\"data row1 col3\" >0.5496</td>\n",
       "      <td id=\"T_47cab_row1_col4\" class=\"data row1 col4\" >0.0683</td>\n",
       "      <td id=\"T_47cab_row1_col5\" class=\"data row1 col5\" >0.0430</td>\n",
       "      <td id=\"T_47cab_row1_col6\" class=\"data row1 col6\" >0.0984</td>\n",
       "    </tr>\n",
       "    <tr>\n",
       "      <th id=\"T_47cab_level0_row2\" class=\"row_heading level0 row2\" >2</th>\n",
       "      <td id=\"T_47cab_row2_col0\" class=\"data row2 col0\" >0.7889</td>\n",
       "      <td id=\"T_47cab_row2_col1\" class=\"data row2 col1\" >0.6922</td>\n",
       "      <td id=\"T_47cab_row2_col2\" class=\"data row2 col2\" >0.0327</td>\n",
       "      <td id=\"T_47cab_row2_col3\" class=\"data row2 col3\" >0.5865</td>\n",
       "      <td id=\"T_47cab_row2_col4\" class=\"data row2 col4\" >0.0619</td>\n",
       "      <td id=\"T_47cab_row2_col5\" class=\"data row2 col5\" >0.0403</td>\n",
       "      <td id=\"T_47cab_row2_col6\" class=\"data row2 col6\" >0.0999</td>\n",
       "    </tr>\n",
       "    <tr>\n",
       "      <th id=\"T_47cab_level0_row3\" class=\"row_heading level0 row3\" >3</th>\n",
       "      <td id=\"T_47cab_row3_col0\" class=\"data row3 col0\" >0.7866</td>\n",
       "      <td id=\"T_47cab_row3_col1\" class=\"data row3 col1\" >0.6815</td>\n",
       "      <td id=\"T_47cab_row3_col2\" class=\"data row3 col2\" >0.0334</td>\n",
       "      <td id=\"T_47cab_row3_col3\" class=\"data row3 col3\" >0.4913</td>\n",
       "      <td id=\"T_47cab_row3_col4\" class=\"data row3 col4\" >0.0625</td>\n",
       "      <td id=\"T_47cab_row3_col5\" class=\"data row3 col5\" >0.0364</td>\n",
       "      <td id=\"T_47cab_row3_col6\" class=\"data row3 col6\" >0.0824</td>\n",
       "    </tr>\n",
       "    <tr>\n",
       "      <th id=\"T_47cab_level0_row4\" class=\"row_heading level0 row4\" >4</th>\n",
       "      <td id=\"T_47cab_row4_col0\" class=\"data row4 col0\" >0.7899</td>\n",
       "      <td id=\"T_47cab_row4_col1\" class=\"data row4 col1\" >0.6813</td>\n",
       "      <td id=\"T_47cab_row4_col2\" class=\"data row4 col2\" >0.0395</td>\n",
       "      <td id=\"T_47cab_row4_col3\" class=\"data row4 col3\" >0.6131</td>\n",
       "      <td id=\"T_47cab_row4_col4\" class=\"data row4 col4\" >0.0742</td>\n",
       "      <td id=\"T_47cab_row4_col5\" class=\"data row4 col5\" >0.0497</td>\n",
       "      <td id=\"T_47cab_row4_col6\" class=\"data row4 col6\" >0.1152</td>\n",
       "    </tr>\n",
       "    <tr>\n",
       "      <th id=\"T_47cab_level0_row5\" class=\"row_heading level0 row5\" >5</th>\n",
       "      <td id=\"T_47cab_row5_col0\" class=\"data row5 col0\" >0.7897</td>\n",
       "      <td id=\"T_47cab_row5_col1\" class=\"data row5 col1\" >0.6834</td>\n",
       "      <td id=\"T_47cab_row5_col2\" class=\"data row5 col2\" >0.0381</td>\n",
       "      <td id=\"T_47cab_row5_col3\" class=\"data row5 col3\" >0.6067</td>\n",
       "      <td id=\"T_47cab_row5_col4\" class=\"data row5 col4\" >0.0717</td>\n",
       "      <td id=\"T_47cab_row5_col5\" class=\"data row5 col5\" >0.0477</td>\n",
       "      <td id=\"T_47cab_row5_col6\" class=\"data row5 col6\" >0.1119</td>\n",
       "    </tr>\n",
       "    <tr>\n",
       "      <th id=\"T_47cab_level0_row6\" class=\"row_heading level0 row6\" >6</th>\n",
       "      <td id=\"T_47cab_row6_col0\" class=\"data row6 col0\" >0.7885</td>\n",
       "      <td id=\"T_47cab_row6_col1\" class=\"data row6 col1\" >0.6801</td>\n",
       "      <td id=\"T_47cab_row6_col2\" class=\"data row6 col2\" >0.0362</td>\n",
       "      <td id=\"T_47cab_row6_col3\" class=\"data row6 col3\" >0.5600</td>\n",
       "      <td id=\"T_47cab_row6_col4\" class=\"data row6 col4\" >0.0680</td>\n",
       "      <td id=\"T_47cab_row6_col5\" class=\"data row6 col5\" >0.0432</td>\n",
       "      <td id=\"T_47cab_row6_col6\" class=\"data row6 col6\" >0.1001</td>\n",
       "    </tr>\n",
       "    <tr>\n",
       "      <th id=\"T_47cab_level0_row7\" class=\"row_heading level0 row7\" >7</th>\n",
       "      <td id=\"T_47cab_row7_col0\" class=\"data row7 col0\" >0.7895</td>\n",
       "      <td id=\"T_47cab_row7_col1\" class=\"data row7 col1\" >0.6869</td>\n",
       "      <td id=\"T_47cab_row7_col2\" class=\"data row7 col2\" >0.0411</td>\n",
       "      <td id=\"T_47cab_row7_col3\" class=\"data row7 col3\" >0.5912</td>\n",
       "      <td id=\"T_47cab_row7_col4\" class=\"data row7 col4\" >0.0769</td>\n",
       "      <td id=\"T_47cab_row7_col5\" class=\"data row7 col5\" >0.0506</td>\n",
       "      <td id=\"T_47cab_row7_col6\" class=\"data row7 col6\" >0.1133</td>\n",
       "    </tr>\n",
       "    <tr>\n",
       "      <th id=\"T_47cab_level0_row8\" class=\"row_heading level0 row8\" >8</th>\n",
       "      <td id=\"T_47cab_row8_col0\" class=\"data row8 col0\" >0.7896</td>\n",
       "      <td id=\"T_47cab_row8_col1\" class=\"data row8 col1\" >0.6853</td>\n",
       "      <td id=\"T_47cab_row8_col2\" class=\"data row8 col2\" >0.0409</td>\n",
       "      <td id=\"T_47cab_row8_col3\" class=\"data row8 col3\" >0.5939</td>\n",
       "      <td id=\"T_47cab_row8_col4\" class=\"data row8 col4\" >0.0765</td>\n",
       "      <td id=\"T_47cab_row8_col5\" class=\"data row8 col5\" >0.0504</td>\n",
       "      <td id=\"T_47cab_row8_col6\" class=\"data row8 col6\" >0.1135</td>\n",
       "    </tr>\n",
       "    <tr>\n",
       "      <th id=\"T_47cab_level0_row9\" class=\"row_heading level0 row9\" >9</th>\n",
       "      <td id=\"T_47cab_row9_col0\" class=\"data row9 col0\" >0.7886</td>\n",
       "      <td id=\"T_47cab_row9_col1\" class=\"data row9 col1\" >0.6890</td>\n",
       "      <td id=\"T_47cab_row9_col2\" class=\"data row9 col2\" >0.0369</td>\n",
       "      <td id=\"T_47cab_row9_col3\" class=\"data row9 col3\" >0.5627</td>\n",
       "      <td id=\"T_47cab_row9_col4\" class=\"data row9 col4\" >0.0693</td>\n",
       "      <td id=\"T_47cab_row9_col5\" class=\"data row9 col5\" >0.0442</td>\n",
       "      <td id=\"T_47cab_row9_col6\" class=\"data row9 col6\" >0.1016</td>\n",
       "    </tr>\n",
       "    <tr>\n",
       "      <th id=\"T_47cab_level0_row10\" class=\"row_heading level0 row10\" >Mean</th>\n",
       "      <td id=\"T_47cab_row10_col0\" class=\"data row10 col0\" >0.7888</td>\n",
       "      <td id=\"T_47cab_row10_col1\" class=\"data row10 col1\" >0.6836</td>\n",
       "      <td id=\"T_47cab_row10_col2\" class=\"data row10 col2\" >0.0375</td>\n",
       "      <td id=\"T_47cab_row10_col3\" class=\"data row10 col3\" >0.5723</td>\n",
       "      <td id=\"T_47cab_row10_col4\" class=\"data row10 col4\" >0.0704</td>\n",
       "      <td id=\"T_47cab_row10_col5\" class=\"data row10 col5\" >0.0454</td>\n",
       "      <td id=\"T_47cab_row10_col6\" class=\"data row10 col6\" >0.1044</td>\n",
       "    </tr>\n",
       "    <tr>\n",
       "      <th id=\"T_47cab_level0_row11\" class=\"row_heading level0 row11\" >Std</th>\n",
       "      <td id=\"T_47cab_row11_col0\" class=\"data row11 col0\" >0.0009</td>\n",
       "      <td id=\"T_47cab_row11_col1\" class=\"data row11 col1\" >0.0047</td>\n",
       "      <td id=\"T_47cab_row11_col2\" class=\"data row11 col2\" >0.0028</td>\n",
       "      <td id=\"T_47cab_row11_col3\" class=\"data row11 col3\" >0.0335</td>\n",
       "      <td id=\"T_47cab_row11_col4\" class=\"data row11 col4\" >0.0051</td>\n",
       "      <td id=\"T_47cab_row11_col5\" class=\"data row11 col5\" >0.0045</td>\n",
       "      <td id=\"T_47cab_row11_col6\" class=\"data row11 col6\" >0.0095</td>\n",
       "    </tr>\n",
       "  </tbody>\n",
       "</table>\n"
      ],
      "text/plain": [
       "<pandas.io.formats.style.Styler at 0x7fbaf74d4f10>"
      ]
     },
     "metadata": {},
     "output_type": "display_data"
    },
    {
     "data": {
      "text/html": [],
      "text/plain": [
       "<IPython.core.display.HTML object>"
      ]
     },
     "metadata": {},
     "output_type": "display_data"
    },
    {
     "data": {
      "text/html": [],
      "text/plain": [
       "<IPython.core.display.HTML object>"
      ]
     },
     "metadata": {},
     "output_type": "display_data"
    },
    {
     "data": {
      "image/png": "[encoded data removed]",
      "text/plain": [
       "<Figure size 480x330 with 1 Axes>"
      ]
     },
     "metadata": {},
     "output_type": "display_data"
    },
    {
     "data": {
      "text/html": [],
      "text/plain": [
       "<IPython.core.display.HTML object>"
      ]
     },
     "metadata": {},
     "output_type": "display_data"
    },
    {
     "data": {
      "text/html": [
       "<style type=\"text/css\">\n",
       "#T_b2205_row10_col0, #T_b2205_row10_col1, #T_b2205_row10_col2, #T_b2205_row10_col3, #T_b2205_row10_col4, #T_b2205_row10_col5, #T_b2205_row10_col6 {\n",
       "  background: yellow;\n",
       "}\n",
       "</style>\n",
       "<table id=\"T_b2205\">\n",
       "  <thead>\n",
       "    <tr>\n",
       "      <th class=\"blank level0\" >&nbsp;</th>\n",
       "      <th id=\"T_b2205_level0_col0\" class=\"col_heading level0 col0\" >Accuracy</th>\n",
       "      <th id=\"T_b2205_level0_col1\" class=\"col_heading level0 col1\" >AUC</th>\n",
       "      <th id=\"T_b2205_level0_col2\" class=\"col_heading level0 col2\" >Recall</th>\n",
       "      <th id=\"T_b2205_level0_col3\" class=\"col_heading level0 col3\" >Prec.</th>\n",
       "      <th id=\"T_b2205_level0_col4\" class=\"col_heading level0 col4\" >F1</th>\n",
       "      <th id=\"T_b2205_level0_col5\" class=\"col_heading level0 col5\" >Kappa</th>\n",
       "      <th id=\"T_b2205_level0_col6\" class=\"col_heading level0 col6\" >MCC</th>\n",
       "    </tr>\n",
       "    <tr>\n",
       "      <th class=\"index_name level0\" >Fold</th>\n",
       "      <th class=\"blank col0\" >&nbsp;</th>\n",
       "      <th class=\"blank col1\" >&nbsp;</th>\n",
       "      <th class=\"blank col2\" >&nbsp;</th>\n",
       "      <th class=\"blank col3\" >&nbsp;</th>\n",
       "      <th class=\"blank col4\" >&nbsp;</th>\n",
       "      <th class=\"blank col5\" >&nbsp;</th>\n",
       "      <th class=\"blank col6\" >&nbsp;</th>\n",
       "    </tr>\n",
       "  </thead>\n",
       "  <tbody>\n",
       "    <tr>\n",
       "      <th id=\"T_b2205_level0_row0\" class=\"row_heading level0 row0\" >0</th>\n",
       "      <td id=\"T_b2205_row0_col0\" class=\"data row0 col0\" >0.7892</td>\n",
       "      <td id=\"T_b2205_row0_col1\" class=\"data row0 col1\" >0.6795</td>\n",
       "      <td id=\"T_b2205_row0_col2\" class=\"data row0 col2\" >0.0376</td>\n",
       "      <td id=\"T_b2205_row0_col3\" class=\"data row0 col3\" >0.5861</td>\n",
       "      <td id=\"T_b2205_row0_col4\" class=\"data row0 col4\" >0.0707</td>\n",
       "      <td id=\"T_b2205_row0_col5\" class=\"data row0 col5\" >0.0462</td>\n",
       "      <td id=\"T_b2205_row0_col6\" class=\"data row0 col6\" >0.1072</td>\n",
       "    </tr>\n",
       "    <tr>\n",
       "      <th id=\"T_b2205_level0_row1\" class=\"row_heading level0 row1\" >1</th>\n",
       "      <td id=\"T_b2205_row1_col0\" class=\"data row1 col0\" >0.7882</td>\n",
       "      <td id=\"T_b2205_row1_col1\" class=\"data row1 col1\" >0.6859</td>\n",
       "      <td id=\"T_b2205_row1_col2\" class=\"data row1 col2\" >0.0320</td>\n",
       "      <td id=\"T_b2205_row1_col3\" class=\"data row1 col3\" >0.5574</td>\n",
       "      <td id=\"T_b2205_row1_col4\" class=\"data row1 col4\" >0.0605</td>\n",
       "      <td id=\"T_b2205_row1_col5\" class=\"data row1 col5\" >0.0382</td>\n",
       "      <td id=\"T_b2205_row1_col6\" class=\"data row1 col6\" >0.0935</td>\n",
       "    </tr>\n",
       "    <tr>\n",
       "      <th id=\"T_b2205_level0_row2\" class=\"row_heading level0 row2\" >2</th>\n",
       "      <td id=\"T_b2205_row2_col0\" class=\"data row2 col0\" >0.7889</td>\n",
       "      <td id=\"T_b2205_row2_col1\" class=\"data row2 col1\" >0.6957</td>\n",
       "      <td id=\"T_b2205_row2_col2\" class=\"data row2 col2\" >0.0336</td>\n",
       "      <td id=\"T_b2205_row2_col3\" class=\"data row2 col3\" >0.5861</td>\n",
       "      <td id=\"T_b2205_row2_col4\" class=\"data row2 col4\" >0.0636</td>\n",
       "      <td id=\"T_b2205_row2_col5\" class=\"data row2 col5\" >0.0414</td>\n",
       "      <td id=\"T_b2205_row2_col6\" class=\"data row2 col6\" >0.1013</td>\n",
       "    </tr>\n",
       "    <tr>\n",
       "      <th id=\"T_b2205_level0_row3\" class=\"row_heading level0 row3\" >3</th>\n",
       "      <td id=\"T_b2205_row3_col0\" class=\"data row3 col0\" >0.7876</td>\n",
       "      <td id=\"T_b2205_row3_col1\" class=\"data row3 col1\" >0.6861</td>\n",
       "      <td id=\"T_b2205_row3_col2\" class=\"data row3 col2\" >0.0315</td>\n",
       "      <td id=\"T_b2205_row3_col3\" class=\"data row3 col3\" >0.5296</td>\n",
       "      <td id=\"T_b2205_row3_col4\" class=\"data row3 col4\" >0.0595</td>\n",
       "      <td id=\"T_b2205_row3_col5\" class=\"data row3 col5\" >0.0364</td>\n",
       "      <td id=\"T_b2205_row3_col6\" class=\"data row3 col6\" >0.0876</td>\n",
       "    </tr>\n",
       "    <tr>\n",
       "      <th id=\"T_b2205_level0_row4\" class=\"row_heading level0 row4\" >4</th>\n",
       "      <td id=\"T_b2205_row4_col0\" class=\"data row4 col0\" >0.7898</td>\n",
       "      <td id=\"T_b2205_row4_col1\" class=\"data row4 col1\" >0.6826</td>\n",
       "      <td id=\"T_b2205_row4_col2\" class=\"data row4 col2\" >0.0390</td>\n",
       "      <td id=\"T_b2205_row4_col3\" class=\"data row4 col3\" >0.6081</td>\n",
       "      <td id=\"T_b2205_row4_col4\" class=\"data row4 col4\" >0.0733</td>\n",
       "      <td id=\"T_b2205_row4_col5\" class=\"data row4 col5\" >0.0489</td>\n",
       "      <td id=\"T_b2205_row4_col6\" class=\"data row4 col6\" >0.1136</td>\n",
       "    </tr>\n",
       "    <tr>\n",
       "      <th id=\"T_b2205_level0_row5\" class=\"row_heading level0 row5\" >5</th>\n",
       "      <td id=\"T_b2205_row5_col0\" class=\"data row5 col0\" >0.7897</td>\n",
       "      <td id=\"T_b2205_row5_col1\" class=\"data row5 col1\" >0.6858</td>\n",
       "      <td id=\"T_b2205_row5_col2\" class=\"data row5 col2\" >0.0360</td>\n",
       "      <td id=\"T_b2205_row5_col3\" class=\"data row5 col3\" >0.6169</td>\n",
       "      <td id=\"T_b2205_row5_col4\" class=\"data row5 col4\" >0.0680</td>\n",
       "      <td id=\"T_b2205_row5_col5\" class=\"data row5 col5\" >0.0456</td>\n",
       "      <td id=\"T_b2205_row5_col6\" class=\"data row5 col6\" >0.1106</td>\n",
       "    </tr>\n",
       "    <tr>\n",
       "      <th id=\"T_b2205_level0_row6\" class=\"row_heading level0 row6\" >6</th>\n",
       "      <td id=\"T_b2205_row6_col0\" class=\"data row6 col0\" >0.7901</td>\n",
       "      <td id=\"T_b2205_row6_col1\" class=\"data row6 col1\" >0.6840</td>\n",
       "      <td id=\"T_b2205_row6_col2\" class=\"data row6 col2\" >0.0362</td>\n",
       "      <td id=\"T_b2205_row6_col3\" class=\"data row6 col3\" >0.6364</td>\n",
       "      <td id=\"T_b2205_row6_col4\" class=\"data row6 col4\" >0.0685</td>\n",
       "      <td id=\"T_b2205_row6_col5\" class=\"data row6 col5\" >0.0466</td>\n",
       "      <td id=\"T_b2205_row6_col6\" class=\"data row6 col6\" >0.1145</td>\n",
       "    </tr>\n",
       "    <tr>\n",
       "      <th id=\"T_b2205_level0_row7\" class=\"row_heading level0 row7\" >7</th>\n",
       "      <td id=\"T_b2205_row7_col0\" class=\"data row7 col0\" >0.7888</td>\n",
       "      <td id=\"T_b2205_row7_col1\" class=\"data row7 col1\" >0.6894</td>\n",
       "      <td id=\"T_b2205_row7_col2\" class=\"data row7 col2\" >0.0301</td>\n",
       "      <td id=\"T_b2205_row7_col3\" class=\"data row7 col3\" >0.5926</td>\n",
       "      <td id=\"T_b2205_row7_col4\" class=\"data row7 col4\" >0.0573</td>\n",
       "      <td id=\"T_b2205_row7_col5\" class=\"data row7 col5\" >0.0374</td>\n",
       "      <td id=\"T_b2205_row7_col6\" class=\"data row7 col6\" >0.0969</td>\n",
       "    </tr>\n",
       "    <tr>\n",
       "      <th id=\"T_b2205_level0_row8\" class=\"row_heading level0 row8\" >8</th>\n",
       "      <td id=\"T_b2205_row8_col0\" class=\"data row8 col0\" >0.7905</td>\n",
       "      <td id=\"T_b2205_row8_col1\" class=\"data row8 col1\" >0.6905</td>\n",
       "      <td id=\"T_b2205_row8_col2\" class=\"data row8 col2\" >0.0407</td>\n",
       "      <td id=\"T_b2205_row8_col3\" class=\"data row8 col3\" >0.6360</td>\n",
       "      <td id=\"T_b2205_row8_col4\" class=\"data row8 col4\" >0.0764</td>\n",
       "      <td id=\"T_b2205_row8_col5\" class=\"data row8 col5\" >0.0522</td>\n",
       "      <td id=\"T_b2205_row8_col6\" class=\"data row8 col6\" >0.1214</td>\n",
       "    </tr>\n",
       "    <tr>\n",
       "      <th id=\"T_b2205_level0_row9\" class=\"row_heading level0 row9\" >9</th>\n",
       "      <td id=\"T_b2205_row9_col0\" class=\"data row9 col0\" >0.7895</td>\n",
       "      <td id=\"T_b2205_row9_col1\" class=\"data row9 col1\" >0.6939</td>\n",
       "      <td id=\"T_b2205_row9_col2\" class=\"data row9 col2\" >0.0339</td>\n",
       "      <td id=\"T_b2205_row9_col3\" class=\"data row9 col3\" >0.6154</td>\n",
       "      <td id=\"T_b2205_row9_col4\" class=\"data row9 col4\" >0.0642</td>\n",
       "      <td id=\"T_b2205_row9_col5\" class=\"data row9 col5\" >0.0429</td>\n",
       "      <td id=\"T_b2205_row9_col6\" class=\"data row9 col6\" >0.1070</td>\n",
       "    </tr>\n",
       "    <tr>\n",
       "      <th id=\"T_b2205_level0_row10\" class=\"row_heading level0 row10\" >Mean</th>\n",
       "      <td id=\"T_b2205_row10_col0\" class=\"data row10 col0\" >0.7893</td>\n",
       "      <td id=\"T_b2205_row10_col1\" class=\"data row10 col1\" >0.6873</td>\n",
       "      <td id=\"T_b2205_row10_col2\" class=\"data row10 col2\" >0.0351</td>\n",
       "      <td id=\"T_b2205_row10_col3\" class=\"data row10 col3\" >0.5965</td>\n",
       "      <td id=\"T_b2205_row10_col4\" class=\"data row10 col4\" >0.0662</td>\n",
       "      <td id=\"T_b2205_row10_col5\" class=\"data row10 col5\" >0.0436</td>\n",
       "      <td id=\"T_b2205_row10_col6\" class=\"data row10 col6\" >0.1054</td>\n",
       "    </tr>\n",
       "    <tr>\n",
       "      <th id=\"T_b2205_level0_row11\" class=\"row_heading level0 row11\" >Std</th>\n",
       "      <td id=\"T_b2205_row11_col0\" class=\"data row11 col0\" >0.0008</td>\n",
       "      <td id=\"T_b2205_row11_col1\" class=\"data row11 col1\" >0.0048</td>\n",
       "      <td id=\"T_b2205_row11_col2\" class=\"data row11 col2\" >0.0033</td>\n",
       "      <td id=\"T_b2205_row11_col3\" class=\"data row11 col3\" >0.0321</td>\n",
       "      <td id=\"T_b2205_row11_col4\" class=\"data row11 col4\" >0.0059</td>\n",
       "      <td id=\"T_b2205_row11_col5\" class=\"data row11 col5\" >0.0049</td>\n",
       "      <td id=\"T_b2205_row11_col6\" class=\"data row11 col6\" >0.0099</td>\n",
       "    </tr>\n",
       "  </tbody>\n",
       "</table>\n"
      ],
      "text/plain": [
       "<pandas.io.formats.style.Styler at 0x7fbae0588580>"
      ]
     },
     "metadata": {},
     "output_type": "display_data"
    },
    {
     "data": {
      "text/html": [],
      "text/plain": [
       "<IPython.core.display.HTML object>"
      ]
     },
     "metadata": {},
     "output_type": "display_data"
    },
    {
     "data": {
      "text/html": [],
      "text/plain": [
       "<IPython.core.display.HTML object>"
      ]
     },
     "metadata": {},
     "output_type": "display_data"
    },
    {
     "data": {
      "image/png": "[encoded data removed]",
      "text/plain": [
       "<Figure size 480x330 with 1 Axes>"
      ]
     },
     "metadata": {},
     "output_type": "display_data"
    },
    {
     "data": {
      "text/html": [],
      "text/plain": [
       "<IPython.core.display.HTML object>"
      ]
     },
     "metadata": {},
     "output_type": "display_data"
    },
    {
     "data": {
      "text/html": [
       "<style type=\"text/css\">\n",
       "#T_6d02d_row10_col0, #T_6d02d_row10_col1, #T_6d02d_row10_col2, #T_6d02d_row10_col3, #T_6d02d_row10_col4, #T_6d02d_row10_col5, #T_6d02d_row10_col6 {\n",
       "  background: yellow;\n",
       "}\n",
       "</style>\n",
       "<table id=\"T_6d02d\">\n",
       "  <thead>\n",
       "    <tr>\n",
       "      <th class=\"blank level0\" >&nbsp;</th>\n",
       "      <th id=\"T_6d02d_level0_col0\" class=\"col_heading level0 col0\" >Accuracy</th>\n",
       "      <th id=\"T_6d02d_level0_col1\" class=\"col_heading level0 col1\" >AUC</th>\n",
       "      <th id=\"T_6d02d_level0_col2\" class=\"col_heading level0 col2\" >Recall</th>\n",
       "      <th id=\"T_6d02d_level0_col3\" class=\"col_heading level0 col3\" >Prec.</th>\n",
       "      <th id=\"T_6d02d_level0_col4\" class=\"col_heading level0 col4\" >F1</th>\n",
       "      <th id=\"T_6d02d_level0_col5\" class=\"col_heading level0 col5\" >Kappa</th>\n",
       "      <th id=\"T_6d02d_level0_col6\" class=\"col_heading level0 col6\" >MCC</th>\n",
       "    </tr>\n",
       "    <tr>\n",
       "      <th class=\"index_name level0\" >Fold</th>\n",
       "      <th class=\"blank col0\" >&nbsp;</th>\n",
       "      <th class=\"blank col1\" >&nbsp;</th>\n",
       "      <th class=\"blank col2\" >&nbsp;</th>\n",
       "      <th class=\"blank col3\" >&nbsp;</th>\n",
       "      <th class=\"blank col4\" >&nbsp;</th>\n",
       "      <th class=\"blank col5\" >&nbsp;</th>\n",
       "      <th class=\"blank col6\" >&nbsp;</th>\n",
       "    </tr>\n",
       "  </thead>\n",
       "  <tbody>\n",
       "    <tr>\n",
       "      <th id=\"T_6d02d_level0_row0\" class=\"row_heading level0 row0\" >0</th>\n",
       "      <td id=\"T_6d02d_row0_col0\" class=\"data row0 col0\" >0.7897</td>\n",
       "      <td id=\"T_6d02d_row0_col1\" class=\"data row0 col1\" >0.6774</td>\n",
       "      <td id=\"T_6d02d_row0_col2\" class=\"data row0 col2\" >0.0376</td>\n",
       "      <td id=\"T_6d02d_row0_col3\" class=\"data row0 col3\" >0.6084</td>\n",
       "      <td id=\"T_6d02d_row0_col4\" class=\"data row0 col4\" >0.0708</td>\n",
       "      <td id=\"T_6d02d_row0_col5\" class=\"data row0 col5\" >0.0472</td>\n",
       "      <td id=\"T_6d02d_row0_col6\" class=\"data row0 col6\" >0.1115</td>\n",
       "    </tr>\n",
       "    <tr>\n",
       "      <th id=\"T_6d02d_level0_row1\" class=\"row_heading level0 row1\" >1</th>\n",
       "      <td id=\"T_6d02d_row1_col0\" class=\"data row1 col0\" >0.7896</td>\n",
       "      <td id=\"T_6d02d_row1_col1\" class=\"data row1 col1\" >0.6874</td>\n",
       "      <td id=\"T_6d02d_row1_col2\" class=\"data row1 col2\" >0.0350</td>\n",
       "      <td id=\"T_6d02d_row1_col3\" class=\"data row1 col3\" >0.6132</td>\n",
       "      <td id=\"T_6d02d_row1_col4\" class=\"data row1 col4\" >0.0663</td>\n",
       "      <td id=\"T_6d02d_row1_col5\" class=\"data row1 col5\" >0.0442</td>\n",
       "      <td id=\"T_6d02d_row1_col6\" class=\"data row1 col6\" >0.1084</td>\n",
       "    </tr>\n",
       "    <tr>\n",
       "      <th id=\"T_6d02d_level0_row2\" class=\"row_heading level0 row2\" >2</th>\n",
       "      <td id=\"T_6d02d_row2_col0\" class=\"data row2 col0\" >0.7889</td>\n",
       "      <td id=\"T_6d02d_row2_col1\" class=\"data row2 col1\" >0.6948</td>\n",
       "      <td id=\"T_6d02d_row2_col2\" class=\"data row2 col2\" >0.0310</td>\n",
       "      <td id=\"T_6d02d_row2_col3\" class=\"data row2 col3\" >0.5946</td>\n",
       "      <td id=\"T_6d02d_row2_col4\" class=\"data row2 col4\" >0.0590</td>\n",
       "      <td id=\"T_6d02d_row2_col5\" class=\"data row2 col5\" >0.0387</td>\n",
       "      <td id=\"T_6d02d_row2_col6\" class=\"data row2 col6\" >0.0988</td>\n",
       "    </tr>\n",
       "    <tr>\n",
       "      <th id=\"T_6d02d_level0_row3\" class=\"row_heading level0 row3\" >3</th>\n",
       "      <td id=\"T_6d02d_row3_col0\" class=\"data row3 col0\" >0.7874</td>\n",
       "      <td id=\"T_6d02d_row3_col1\" class=\"data row3 col1\" >0.6863</td>\n",
       "      <td id=\"T_6d02d_row3_col2\" class=\"data row3 col2\" >0.0313</td>\n",
       "      <td id=\"T_6d02d_row3_col3\" class=\"data row3 col3\" >0.5216</td>\n",
       "      <td id=\"T_6d02d_row3_col4\" class=\"data row3 col4\" >0.0590</td>\n",
       "      <td id=\"T_6d02d_row3_col5\" class=\"data row3 col5\" >0.0358</td>\n",
       "      <td id=\"T_6d02d_row3_col6\" class=\"data row3 col6\" >0.0857</td>\n",
       "    </tr>\n",
       "    <tr>\n",
       "      <th id=\"T_6d02d_level0_row4\" class=\"row_heading level0 row4\" >4</th>\n",
       "      <td id=\"T_6d02d_row4_col0\" class=\"data row4 col0\" >0.7899</td>\n",
       "      <td id=\"T_6d02d_row4_col1\" class=\"data row4 col1\" >0.6827</td>\n",
       "      <td id=\"T_6d02d_row4_col2\" class=\"data row4 col2\" >0.0367</td>\n",
       "      <td id=\"T_6d02d_row4_col3\" class=\"data row4 col3\" >0.6240</td>\n",
       "      <td id=\"T_6d02d_row4_col4\" class=\"data row4 col4\" >0.0693</td>\n",
       "      <td id=\"T_6d02d_row4_col5\" class=\"data row4 col5\" >0.0467</td>\n",
       "      <td id=\"T_6d02d_row4_col6\" class=\"data row4 col6\" >0.1130</td>\n",
       "    </tr>\n",
       "    <tr>\n",
       "      <th id=\"T_6d02d_level0_row5\" class=\"row_heading level0 row5\" >5</th>\n",
       "      <td id=\"T_6d02d_row5_col0\" class=\"data row5 col0\" >0.7897</td>\n",
       "      <td id=\"T_6d02d_row5_col1\" class=\"data row5 col1\" >0.6867</td>\n",
       "      <td id=\"T_6d02d_row5_col2\" class=\"data row5 col2\" >0.0353</td>\n",
       "      <td id=\"T_6d02d_row5_col3\" class=\"data row5 col3\" >0.6198</td>\n",
       "      <td id=\"T_6d02d_row5_col4\" class=\"data row5 col4\" >0.0667</td>\n",
       "      <td id=\"T_6d02d_row5_col5\" class=\"data row5 col5\" >0.0448</td>\n",
       "      <td id=\"T_6d02d_row5_col6\" class=\"data row5 col6\" >0.1100</td>\n",
       "    </tr>\n",
       "    <tr>\n",
       "      <th id=\"T_6d02d_level0_row6\" class=\"row_heading level0 row6\" >6</th>\n",
       "      <td id=\"T_6d02d_row6_col0\" class=\"data row6 col0\" >0.7896</td>\n",
       "      <td id=\"T_6d02d_row6_col1\" class=\"data row6 col1\" >0.6846</td>\n",
       "      <td id=\"T_6d02d_row6_col2\" class=\"data row6 col2\" >0.0341</td>\n",
       "      <td id=\"T_6d02d_row6_col3\" class=\"data row6 col3\" >0.6197</td>\n",
       "      <td id=\"T_6d02d_row6_col4\" class=\"data row6 col4\" >0.0646</td>\n",
       "      <td id=\"T_6d02d_row6_col5\" class=\"data row6 col5\" >0.0434</td>\n",
       "      <td id=\"T_6d02d_row6_col6\" class=\"data row6 col6\" >0.1081</td>\n",
       "    </tr>\n",
       "    <tr>\n",
       "      <th id=\"T_6d02d_level0_row7\" class=\"row_heading level0 row7\" >7</th>\n",
       "      <td id=\"T_6d02d_row7_col0\" class=\"data row7 col0\" >0.7894</td>\n",
       "      <td id=\"T_6d02d_row7_col1\" class=\"data row7 col1\" >0.6894</td>\n",
       "      <td id=\"T_6d02d_row7_col2\" class=\"data row7 col2\" >0.0341</td>\n",
       "      <td id=\"T_6d02d_row7_col3\" class=\"data row7 col3\" >0.6067</td>\n",
       "      <td id=\"T_6d02d_row7_col4\" class=\"data row7 col4\" >0.0645</td>\n",
       "      <td id=\"T_6d02d_row7_col5\" class=\"data row7 col5\" >0.0428</td>\n",
       "      <td id=\"T_6d02d_row7_col6\" class=\"data row7 col6\" >0.1058</td>\n",
       "    </tr>\n",
       "    <tr>\n",
       "      <th id=\"T_6d02d_level0_row8\" class=\"row_heading level0 row8\" >8</th>\n",
       "      <td id=\"T_6d02d_row8_col0\" class=\"data row8 col0\" >0.7905</td>\n",
       "      <td id=\"T_6d02d_row8_col1\" class=\"data row8 col1\" >0.6898</td>\n",
       "      <td id=\"T_6d02d_row8_col2\" class=\"data row8 col2\" >0.0367</td>\n",
       "      <td id=\"T_6d02d_row8_col3\" class=\"data row8 col3\" >0.6555</td>\n",
       "      <td id=\"T_6d02d_row8_col4\" class=\"data row8 col4\" >0.0695</td>\n",
       "      <td id=\"T_6d02d_row8_col5\" class=\"data row8 col5\" >0.0480</td>\n",
       "      <td id=\"T_6d02d_row8_col6\" class=\"data row8 col6\" >0.1186</td>\n",
       "    </tr>\n",
       "    <tr>\n",
       "      <th id=\"T_6d02d_level0_row9\" class=\"row_heading level0 row9\" >9</th>\n",
       "      <td id=\"T_6d02d_row9_col0\" class=\"data row9 col0\" >0.7891</td>\n",
       "      <td id=\"T_6d02d_row9_col1\" class=\"data row9 col1\" >0.6933</td>\n",
       "      <td id=\"T_6d02d_row9_col2\" class=\"data row9 col2\" >0.0301</td>\n",
       "      <td id=\"T_6d02d_row9_col3\" class=\"data row9 col3\" >0.6066</td>\n",
       "      <td id=\"T_6d02d_row9_col4\" class=\"data row9 col4\" >0.0573</td>\n",
       "      <td id=\"T_6d02d_row9_col5\" class=\"data row9 col5\" >0.0380</td>\n",
       "      <td id=\"T_6d02d_row9_col6\" class=\"data row9 col6\" >0.0993</td>\n",
       "    </tr>\n",
       "    <tr>\n",
       "      <th id=\"T_6d02d_level0_row10\" class=\"row_heading level0 row10\" >Mean</th>\n",
       "      <td id=\"T_6d02d_row10_col0\" class=\"data row10 col0\" >0.7894</td>\n",
       "      <td id=\"T_6d02d_row10_col1\" class=\"data row10 col1\" >0.6873</td>\n",
       "      <td id=\"T_6d02d_row10_col2\" class=\"data row10 col2\" >0.0342</td>\n",
       "      <td id=\"T_6d02d_row10_col3\" class=\"data row10 col3\" >0.6070</td>\n",
       "      <td id=\"T_6d02d_row10_col4\" class=\"data row10 col4\" >0.0647</td>\n",
       "      <td id=\"T_6d02d_row10_col5\" class=\"data row10 col5\" >0.0429</td>\n",
       "      <td id=\"T_6d02d_row10_col6\" class=\"data row10 col6\" >0.1059</td>\n",
       "    </tr>\n",
       "    <tr>\n",
       "      <th id=\"T_6d02d_level0_row11\" class=\"row_heading level0 row11\" >Std</th>\n",
       "      <td id=\"T_6d02d_row11_col0\" class=\"data row11 col0\" >0.0008</td>\n",
       "      <td id=\"T_6d02d_row11_col1\" class=\"data row11 col1\" >0.0048</td>\n",
       "      <td id=\"T_6d02d_row11_col2\" class=\"data row11 col2\" >0.0025</td>\n",
       "      <td id=\"T_6d02d_row11_col3\" class=\"data row11 col3\" >0.0323</td>\n",
       "      <td id=\"T_6d02d_row11_col4\" class=\"data row11 col4\" >0.0046</td>\n",
       "      <td id=\"T_6d02d_row11_col5\" class=\"data row11 col5\" >0.0040</td>\n",
       "      <td id=\"T_6d02d_row11_col6\" class=\"data row11 col6\" >0.0088</td>\n",
       "    </tr>\n",
       "  </tbody>\n",
       "</table>\n"
      ],
      "text/plain": [
       "<pandas.io.formats.style.Styler at 0x7fbae0633940>"
      ]
     },
     "metadata": {},
     "output_type": "display_data"
    },
    {
     "data": {
      "text/html": [],
      "text/plain": [
       "<IPython.core.display.HTML object>"
      ]
     },
     "metadata": {},
     "output_type": "display_data"
    },
    {
     "data": {
      "text/html": [],
      "text/plain": [
       "<IPython.core.display.HTML object>"
      ]
     },
     "metadata": {},
     "output_type": "display_data"
    },
    {
     "data": {
      "image/png": "[encoded data removed]",
      "text/plain": [
       "<Figure size 480x330 with 1 Axes>"
      ]
     },
     "metadata": {},
     "output_type": "display_data"
    },
    {
     "data": {
      "text/html": [],
      "text/plain": [
       "<IPython.core.display.HTML object>"
      ]
     },
     "metadata": {},
     "output_type": "display_data"
    },
    {
     "data": {
      "text/html": [
       "<style type=\"text/css\">\n",
       "#T_06e4e_row10_col0, #T_06e4e_row10_col1, #T_06e4e_row10_col2, #T_06e4e_row10_col3, #T_06e4e_row10_col4, #T_06e4e_row10_col5, #T_06e4e_row10_col6 {\n",
       "  background: yellow;\n",
       "}\n",
       "</style>\n",
       "<table id=\"T_06e4e\">\n",
       "  <thead>\n",
       "    <tr>\n",
       "      <th class=\"blank level0\" >&nbsp;</th>\n",
       "      <th id=\"T_06e4e_level0_col0\" class=\"col_heading level0 col0\" >Accuracy</th>\n",
       "      <th id=\"T_06e4e_level0_col1\" class=\"col_heading level0 col1\" >AUC</th>\n",
       "      <th id=\"T_06e4e_level0_col2\" class=\"col_heading level0 col2\" >Recall</th>\n",
       "      <th id=\"T_06e4e_level0_col3\" class=\"col_heading level0 col3\" >Prec.</th>\n",
       "      <th id=\"T_06e4e_level0_col4\" class=\"col_heading level0 col4\" >F1</th>\n",
       "      <th id=\"T_06e4e_level0_col5\" class=\"col_heading level0 col5\" >Kappa</th>\n",
       "      <th id=\"T_06e4e_level0_col6\" class=\"col_heading level0 col6\" >MCC</th>\n",
       "    </tr>\n",
       "    <tr>\n",
       "      <th class=\"index_name level0\" >Fold</th>\n",
       "      <th class=\"blank col0\" >&nbsp;</th>\n",
       "      <th class=\"blank col1\" >&nbsp;</th>\n",
       "      <th class=\"blank col2\" >&nbsp;</th>\n",
       "      <th class=\"blank col3\" >&nbsp;</th>\n",
       "      <th class=\"blank col4\" >&nbsp;</th>\n",
       "      <th class=\"blank col5\" >&nbsp;</th>\n",
       "      <th class=\"blank col6\" >&nbsp;</th>\n",
       "    </tr>\n",
       "  </thead>\n",
       "  <tbody>\n",
       "    <tr>\n",
       "      <th id=\"T_06e4e_level0_row0\" class=\"row_heading level0 row0\" >0</th>\n",
       "      <td id=\"T_06e4e_row0_col0\" class=\"data row0 col0\" >0.7852</td>\n",
       "      <td id=\"T_06e4e_row0_col1\" class=\"data row0 col1\" >0.6553</td>\n",
       "      <td id=\"T_06e4e_row0_col2\" class=\"data row0 col2\" >0.0628</td>\n",
       "      <td id=\"T_06e4e_row0_col3\" class=\"data row0 col3\" >0.4717</td>\n",
       "      <td id=\"T_06e4e_row0_col4\" class=\"data row0 col4\" >0.1108</td>\n",
       "      <td id=\"T_06e4e_row0_col5\" class=\"data row0 col5\" >0.0639</td>\n",
       "      <td id=\"T_06e4e_row0_col6\" class=\"data row0 col6\" >0.1079</td>\n",
       "    </tr>\n",
       "    <tr>\n",
       "      <th id=\"T_06e4e_level0_row1\" class=\"row_heading level0 row1\" >1</th>\n",
       "      <td id=\"T_06e4e_row1_col0\" class=\"data row1 col0\" >0.7843</td>\n",
       "      <td id=\"T_06e4e_row1_col1\" class=\"data row1 col1\" >0.6637</td>\n",
       "      <td id=\"T_06e4e_row1_col2\" class=\"data row1 col2\" >0.0581</td>\n",
       "      <td id=\"T_06e4e_row1_col3\" class=\"data row1 col3\" >0.4532</td>\n",
       "      <td id=\"T_06e4e_row1_col4\" class=\"data row1 col4\" >0.1029</td>\n",
       "      <td id=\"T_06e4e_row1_col5\" class=\"data row1 col5\" >0.0573</td>\n",
       "      <td id=\"T_06e4e_row1_col6\" class=\"data row1 col6\" >0.0982</td>\n",
       "    </tr>\n",
       "    <tr>\n",
       "      <th id=\"T_06e4e_level0_row2\" class=\"row_heading level0 row2\" >2</th>\n",
       "      <td id=\"T_06e4e_row2_col0\" class=\"data row2 col0\" >0.7857</td>\n",
       "      <td id=\"T_06e4e_row2_col1\" class=\"data row2 col1\" >0.6714</td>\n",
       "      <td id=\"T_06e4e_row2_col2\" class=\"data row2 col2\" >0.0597</td>\n",
       "      <td id=\"T_06e4e_row2_col3\" class=\"data row2 col3\" >0.4792</td>\n",
       "      <td id=\"T_06e4e_row2_col4\" class=\"data row2 col4\" >0.1062</td>\n",
       "      <td id=\"T_06e4e_row2_col5\" class=\"data row2 col5\" >0.0619</td>\n",
       "      <td id=\"T_06e4e_row2_col6\" class=\"data row2 col6\" >0.1073</td>\n",
       "    </tr>\n",
       "    <tr>\n",
       "      <th id=\"T_06e4e_level0_row3\" class=\"row_heading level0 row3\" >3</th>\n",
       "      <td id=\"T_06e4e_row3_col0\" class=\"data row3 col0\" >0.7840</td>\n",
       "      <td id=\"T_06e4e_row3_col1\" class=\"data row3 col1\" >0.6601</td>\n",
       "      <td id=\"T_06e4e_row3_col2\" class=\"data row3 col2\" >0.0555</td>\n",
       "      <td id=\"T_06e4e_row3_col3\" class=\"data row3 col3\" >0.4461</td>\n",
       "      <td id=\"T_06e4e_row3_col4\" class=\"data row3 col4\" >0.0987</td>\n",
       "      <td id=\"T_06e4e_row3_col5\" class=\"data row3 col5\" >0.0541</td>\n",
       "      <td id=\"T_06e4e_row3_col6\" class=\"data row3 col6\" >0.0939</td>\n",
       "    </tr>\n",
       "    <tr>\n",
       "      <th id=\"T_06e4e_level0_row4\" class=\"row_heading level0 row4\" >4</th>\n",
       "      <td id=\"T_06e4e_row4_col0\" class=\"data row4 col0\" >0.7856</td>\n",
       "      <td id=\"T_06e4e_row4_col1\" class=\"data row4 col1\" >0.6640</td>\n",
       "      <td id=\"T_06e4e_row4_col2\" class=\"data row4 col2\" >0.0583</td>\n",
       "      <td id=\"T_06e4e_row4_col3\" class=\"data row4 col3\" >0.4769</td>\n",
       "      <td id=\"T_06e4e_row4_col4\" class=\"data row4 col4\" >0.1039</td>\n",
       "      <td id=\"T_06e4e_row4_col5\" class=\"data row4 col5\" >0.0603</td>\n",
       "      <td id=\"T_06e4e_row4_col6\" class=\"data row4 col6\" >0.1053</td>\n",
       "    </tr>\n",
       "    <tr>\n",
       "      <th id=\"T_06e4e_level0_row5\" class=\"row_heading level0 row5\" >5</th>\n",
       "      <td id=\"T_06e4e_row5_col0\" class=\"data row5 col0\" >0.7855</td>\n",
       "      <td id=\"T_06e4e_row5_col1\" class=\"data row5 col1\" >0.6623</td>\n",
       "      <td id=\"T_06e4e_row5_col2\" class=\"data row5 col2\" >0.0583</td>\n",
       "      <td id=\"T_06e4e_row5_col3\" class=\"data row5 col3\" >0.4751</td>\n",
       "      <td id=\"T_06e4e_row5_col4\" class=\"data row5 col4\" >0.1039</td>\n",
       "      <td id=\"T_06e4e_row5_col5\" class=\"data row5 col5\" >0.0601</td>\n",
       "      <td id=\"T_06e4e_row5_col6\" class=\"data row5 col6\" >0.1048</td>\n",
       "    </tr>\n",
       "    <tr>\n",
       "      <th id=\"T_06e4e_level0_row6\" class=\"row_heading level0 row6\" >6</th>\n",
       "      <td id=\"T_06e4e_row6_col0\" class=\"data row6 col0\" >0.7859</td>\n",
       "      <td id=\"T_06e4e_row6_col1\" class=\"data row6 col1\" >0.6656</td>\n",
       "      <td id=\"T_06e4e_row6_col2\" class=\"data row6 col2\" >0.0583</td>\n",
       "      <td id=\"T_06e4e_row6_col3\" class=\"data row6 col3\" >0.4825</td>\n",
       "      <td id=\"T_06e4e_row6_col4\" class=\"data row6 col4\" >0.1040</td>\n",
       "      <td id=\"T_06e4e_row6_col5\" class=\"data row6 col5\" >0.0609</td>\n",
       "      <td id=\"T_06e4e_row6_col6\" class=\"data row6 col6\" >0.1069</td>\n",
       "    </tr>\n",
       "    <tr>\n",
       "      <th id=\"T_06e4e_level0_row7\" class=\"row_heading level0 row7\" >7</th>\n",
       "      <td id=\"T_06e4e_row7_col0\" class=\"data row7 col0\" >0.7855</td>\n",
       "      <td id=\"T_06e4e_row7_col1\" class=\"data row7 col1\" >0.6682</td>\n",
       "      <td id=\"T_06e4e_row7_col2\" class=\"data row7 col2\" >0.0599</td>\n",
       "      <td id=\"T_06e4e_row7_col3\" class=\"data row7 col3\" >0.4757</td>\n",
       "      <td id=\"T_06e4e_row7_col4\" class=\"data row7 col4\" >0.1065</td>\n",
       "      <td id=\"T_06e4e_row7_col5\" class=\"data row7 col5\" >0.0617</td>\n",
       "      <td id=\"T_06e4e_row7_col6\" class=\"data row7 col6\" >0.1065</td>\n",
       "    </tr>\n",
       "    <tr>\n",
       "      <th id=\"T_06e4e_level0_row8\" class=\"row_heading level0 row8\" >8</th>\n",
       "      <td id=\"T_06e4e_row8_col0\" class=\"data row8 col0\" >0.7865</td>\n",
       "      <td id=\"T_06e4e_row8_col1\" class=\"data row8 col1\" >0.6662</td>\n",
       "      <td id=\"T_06e4e_row8_col2\" class=\"data row8 col2\" >0.0651</td>\n",
       "      <td id=\"T_06e4e_row8_col3\" class=\"data row8 col3\" >0.4946</td>\n",
       "      <td id=\"T_06e4e_row8_col4\" class=\"data row8 col4\" >0.1151</td>\n",
       "      <td id=\"T_06e4e_row8_col5\" class=\"data row8 col5\" >0.0689</td>\n",
       "      <td id=\"T_06e4e_row8_col6\" class=\"data row8 col6\" >0.1168</td>\n",
       "    </tr>\n",
       "    <tr>\n",
       "      <th id=\"T_06e4e_level0_row9\" class=\"row_heading level0 row9\" >9</th>\n",
       "      <td id=\"T_06e4e_row9_col0\" class=\"data row9 col0\" >0.7865</td>\n",
       "      <td id=\"T_06e4e_row9_col1\" class=\"data row9 col1\" >0.6677</td>\n",
       "      <td id=\"T_06e4e_row9_col2\" class=\"data row9 col2\" >0.0649</td>\n",
       "      <td id=\"T_06e4e_row9_col3\" class=\"data row9 col3\" >0.4937</td>\n",
       "      <td id=\"T_06e4e_row9_col4\" class=\"data row9 col4\" >0.1147</td>\n",
       "      <td id=\"T_06e4e_row9_col5\" class=\"data row9 col5\" >0.0686</td>\n",
       "      <td id=\"T_06e4e_row9_col6\" class=\"data row9 col6\" >0.1163</td>\n",
       "    </tr>\n",
       "    <tr>\n",
       "      <th id=\"T_06e4e_level0_row10\" class=\"row_heading level0 row10\" >Mean</th>\n",
       "      <td id=\"T_06e4e_row10_col0\" class=\"data row10 col0\" >0.7855</td>\n",
       "      <td id=\"T_06e4e_row10_col1\" class=\"data row10 col1\" >0.6645</td>\n",
       "      <td id=\"T_06e4e_row10_col2\" class=\"data row10 col2\" >0.0601</td>\n",
       "      <td id=\"T_06e4e_row10_col3\" class=\"data row10 col3\" >0.4749</td>\n",
       "      <td id=\"T_06e4e_row10_col4\" class=\"data row10 col4\" >0.1067</td>\n",
       "      <td id=\"T_06e4e_row10_col5\" class=\"data row10 col5\" >0.0618</td>\n",
       "      <td id=\"T_06e4e_row10_col6\" class=\"data row10 col6\" >0.1064</td>\n",
       "    </tr>\n",
       "    <tr>\n",
       "      <th id=\"T_06e4e_level0_row11\" class=\"row_heading level0 row11\" >Std</th>\n",
       "      <td id=\"T_06e4e_row11_col0\" class=\"data row11 col0\" >0.0008</td>\n",
       "      <td id=\"T_06e4e_row11_col1\" class=\"data row11 col1\" >0.0043</td>\n",
       "      <td id=\"T_06e4e_row11_col2\" class=\"data row11 col2\" >0.0030</td>\n",
       "      <td id=\"T_06e4e_row11_col3\" class=\"data row11 col3\" >0.0146</td>\n",
       "      <td id=\"T_06e4e_row11_col4\" class=\"data row11 col4\" >0.0050</td>\n",
       "      <td id=\"T_06e4e_row11_col5\" class=\"data row11 col5\" >0.0043</td>\n",
       "      <td id=\"T_06e4e_row11_col6\" class=\"data row11 col6\" >0.0066</td>\n",
       "    </tr>\n",
       "  </tbody>\n",
       "</table>\n"
      ],
      "text/plain": [
       "<pandas.io.formats.style.Styler at 0x7fbae05a3100>"
      ]
     },
     "metadata": {},
     "output_type": "display_data"
    },
    {
     "data": {
      "text/html": [],
      "text/plain": [
       "<IPython.core.display.HTML object>"
      ]
     },
     "metadata": {},
     "output_type": "display_data"
    },
    {
     "data": {
      "text/html": [],
      "text/plain": [
       "<IPython.core.display.HTML object>"
      ]
     },
     "metadata": {},
     "output_type": "display_data"
    },
    {
     "data": {
      "image/png": "[encoded data removed]",
      "text/plain": [
       "<Figure size 480x330 with 1 Axes>"
      ]
     },
     "metadata": {},
     "output_type": "display_data"
    }
   ],
   "source": [
    "regression_model_ada, regression_model_lightgbm, regression_model_gbc, regression_model_rf = model.common.create_models(train_data, target_column)"
   ]
  },
  {
   "cell_type": "markdown",
   "metadata": {
    "execution": {
     "iopub.execute_input": "2023-06-08T23:08:22.530994Z",
     "iopub.status.busy": "2023-06-08T23:08:22.529719Z",
     "iopub.status.idle": "2023-06-08T23:08:22.542651Z",
     "shell.execute_reply": "2023-06-08T23:08:22.540043Z",
     "shell.execute_reply.started": "2023-06-08T23:08:22.530922Z"
    }
   },
   "source": [
    "**evaluate model**"
   ]
  },
  {
   "cell_type": "markdown",
   "metadata": {},
   "source": [
    "`lightgbm` shows very good AUC of `0.97`, `rf` as well with `1.0` train AUC.\n",
    "\n",
    "`rf` seemed like too overfit with 1.0 train AUC but its test precision as well is the best among others.\n",
    "\n",
    "`ada` shows very low recall thus inpractical.\n"
   ]
  },
  {
   "cell_type": "code",
   "execution_count": 51,
   "metadata": {
    "execution": {
     "iopub.execute_input": "2023-07-03T23:39:54.356857Z",
     "iopub.status.busy": "2023-07-03T23:39:54.356439Z",
     "iopub.status.idle": "2023-07-03T23:40:20.488217Z",
     "shell.execute_reply": "2023-07-03T23:40:20.486512Z",
     "shell.execute_reply.started": "2023-07-03T23:39:54.356829Z"
    }
   },
   "outputs": [
    {
     "data": {
      "text/html": [
       "<style type=\"text/css\">\n",
       "</style>\n",
       "<table id=\"T_104aa\">\n",
       "  <thead>\n",
       "    <tr>\n",
       "      <th class=\"blank level0\" >&nbsp;</th>\n",
       "      <th id=\"T_104aa_level0_col0\" class=\"col_heading level0 col0\" >Model</th>\n",
       "      <th id=\"T_104aa_level0_col1\" class=\"col_heading level0 col1\" >Accuracy</th>\n",
       "      <th id=\"T_104aa_level0_col2\" class=\"col_heading level0 col2\" >AUC</th>\n",
       "      <th id=\"T_104aa_level0_col3\" class=\"col_heading level0 col3\" >Recall</th>\n",
       "      <th id=\"T_104aa_level0_col4\" class=\"col_heading level0 col4\" >Prec.</th>\n",
       "      <th id=\"T_104aa_level0_col5\" class=\"col_heading level0 col5\" >F1</th>\n",
       "      <th id=\"T_104aa_level0_col6\" class=\"col_heading level0 col6\" >Kappa</th>\n",
       "      <th id=\"T_104aa_level0_col7\" class=\"col_heading level0 col7\" >MCC</th>\n",
       "    </tr>\n",
       "  </thead>\n",
       "  <tbody>\n",
       "    <tr>\n",
       "      <th id=\"T_104aa_level0_row0\" class=\"row_heading level0 row0\" >0</th>\n",
       "      <td id=\"T_104aa_row0_col0\" class=\"data row0 col0\" >Ada Boost Classifier</td>\n",
       "      <td id=\"T_104aa_row0_col1\" class=\"data row0 col1\" >0.7892</td>\n",
       "      <td id=\"T_104aa_row0_col2\" class=\"data row0 col2\" >0.6871</td>\n",
       "      <td id=\"T_104aa_row0_col3\" class=\"data row0 col3\" >0.0365</td>\n",
       "      <td id=\"T_104aa_row0_col4\" class=\"data row0 col4\" >0.5906</td>\n",
       "      <td id=\"T_104aa_row0_col5\" class=\"data row0 col5\" >0.0688</td>\n",
       "      <td id=\"T_104aa_row0_col6\" class=\"data row0 col6\" >0.0451</td>\n",
       "      <td id=\"T_104aa_row0_col7\" class=\"data row0 col7\" >0.1065</td>\n",
       "    </tr>\n",
       "  </tbody>\n",
       "</table>\n"
      ],
      "text/plain": [
       "<pandas.io.formats.style.Styler at 0x7fbb490c1030>"
      ]
     },
     "metadata": {},
     "output_type": "display_data"
    },
    {
     "data": {
      "text/html": [
       "<style type=\"text/css\">\n",
       "</style>\n",
       "<table id=\"T_c1435\">\n",
       "  <thead>\n",
       "    <tr>\n",
       "      <th class=\"blank level0\" >&nbsp;</th>\n",
       "      <th id=\"T_c1435_level0_col0\" class=\"col_heading level0 col0\" >Model</th>\n",
       "      <th id=\"T_c1435_level0_col1\" class=\"col_heading level0 col1\" >Accuracy</th>\n",
       "      <th id=\"T_c1435_level0_col2\" class=\"col_heading level0 col2\" >AUC</th>\n",
       "      <th id=\"T_c1435_level0_col3\" class=\"col_heading level0 col3\" >Recall</th>\n",
       "      <th id=\"T_c1435_level0_col4\" class=\"col_heading level0 col4\" >Prec.</th>\n",
       "      <th id=\"T_c1435_level0_col5\" class=\"col_heading level0 col5\" >F1</th>\n",
       "      <th id=\"T_c1435_level0_col6\" class=\"col_heading level0 col6\" >Kappa</th>\n",
       "      <th id=\"T_c1435_level0_col7\" class=\"col_heading level0 col7\" >MCC</th>\n",
       "    </tr>\n",
       "  </thead>\n",
       "  <tbody>\n",
       "    <tr>\n",
       "      <th id=\"T_c1435_level0_row0\" class=\"row_heading level0 row0\" >0</th>\n",
       "      <td id=\"T_c1435_row0_col0\" class=\"data row0 col0\" >Gradient Boosting Classifier</td>\n",
       "      <td id=\"T_c1435_row0_col1\" class=\"data row0 col1\" >0.7899</td>\n",
       "      <td id=\"T_c1435_row0_col2\" class=\"data row0 col2\" >0.6927</td>\n",
       "      <td id=\"T_c1435_row0_col3\" class=\"data row0 col3\" >0.0350</td>\n",
       "      <td id=\"T_c1435_row0_col4\" class=\"data row0 col4\" >0.6282</td>\n",
       "      <td id=\"T_c1435_row0_col5\" class=\"data row0 col5\" >0.0664</td>\n",
       "      <td id=\"T_c1435_row0_col6\" class=\"data row0 col6\" >0.0449</td>\n",
       "      <td id=\"T_c1435_row0_col7\" class=\"data row0 col7\" >0.1112</td>\n",
       "    </tr>\n",
       "  </tbody>\n",
       "</table>\n"
      ],
      "text/plain": [
       "<pandas.io.formats.style.Styler at 0x7fbaf42ef130>"
      ]
     },
     "metadata": {},
     "output_type": "display_data"
    },
    {
     "data": {
      "text/html": [
       "<style type=\"text/css\">\n",
       "</style>\n",
       "<table id=\"T_6e471\">\n",
       "  <thead>\n",
       "    <tr>\n",
       "      <th class=\"blank level0\" >&nbsp;</th>\n",
       "      <th id=\"T_6e471_level0_col0\" class=\"col_heading level0 col0\" >Model</th>\n",
       "      <th id=\"T_6e471_level0_col1\" class=\"col_heading level0 col1\" >Accuracy</th>\n",
       "      <th id=\"T_6e471_level0_col2\" class=\"col_heading level0 col2\" >AUC</th>\n",
       "      <th id=\"T_6e471_level0_col3\" class=\"col_heading level0 col3\" >Recall</th>\n",
       "      <th id=\"T_6e471_level0_col4\" class=\"col_heading level0 col4\" >Prec.</th>\n",
       "      <th id=\"T_6e471_level0_col5\" class=\"col_heading level0 col5\" >F1</th>\n",
       "      <th id=\"T_6e471_level0_col6\" class=\"col_heading level0 col6\" >Kappa</th>\n",
       "      <th id=\"T_6e471_level0_col7\" class=\"col_heading level0 col7\" >MCC</th>\n",
       "    </tr>\n",
       "  </thead>\n",
       "  <tbody>\n",
       "    <tr>\n",
       "      <th id=\"T_6e471_level0_row0\" class=\"row_heading level0 row0\" >0</th>\n",
       "      <td id=\"T_6e471_row0_col0\" class=\"data row0 col0\" >Light Gradient Boosting Machine</td>\n",
       "      <td id=\"T_6e471_row0_col1\" class=\"data row0 col1\" >0.7911</td>\n",
       "      <td id=\"T_6e471_row0_col2\" class=\"data row0 col2\" >0.7074</td>\n",
       "      <td id=\"T_6e471_row0_col3\" class=\"data row0 col3\" >0.0384</td>\n",
       "      <td id=\"T_6e471_row0_col4\" class=\"data row0 col4\" >0.6745</td>\n",
       "      <td id=\"T_6e471_row0_col5\" class=\"data row0 col5\" >0.0727</td>\n",
       "      <td id=\"T_6e471_row0_col6\" class=\"data row0 col6\" >0.0509</td>\n",
       "      <td id=\"T_6e471_row0_col7\" class=\"data row0 col7\" >0.1249</td>\n",
       "    </tr>\n",
       "  </tbody>\n",
       "</table>\n"
      ],
      "text/plain": [
       "<pandas.io.formats.style.Styler at 0x7fbb490c0bb0>"
      ]
     },
     "metadata": {},
     "output_type": "display_data"
    },
    {
     "data": {
      "text/html": [
       "<style type=\"text/css\">\n",
       "</style>\n",
       "<table id=\"T_0a630\">\n",
       "  <thead>\n",
       "    <tr>\n",
       "      <th class=\"blank level0\" >&nbsp;</th>\n",
       "      <th id=\"T_0a630_level0_col0\" class=\"col_heading level0 col0\" >Model</th>\n",
       "      <th id=\"T_0a630_level0_col1\" class=\"col_heading level0 col1\" >Accuracy</th>\n",
       "      <th id=\"T_0a630_level0_col2\" class=\"col_heading level0 col2\" >AUC</th>\n",
       "      <th id=\"T_0a630_level0_col3\" class=\"col_heading level0 col3\" >Recall</th>\n",
       "      <th id=\"T_0a630_level0_col4\" class=\"col_heading level0 col4\" >Prec.</th>\n",
       "      <th id=\"T_0a630_level0_col5\" class=\"col_heading level0 col5\" >F1</th>\n",
       "      <th id=\"T_0a630_level0_col6\" class=\"col_heading level0 col6\" >Kappa</th>\n",
       "      <th id=\"T_0a630_level0_col7\" class=\"col_heading level0 col7\" >MCC</th>\n",
       "    </tr>\n",
       "  </thead>\n",
       "  <tbody>\n",
       "    <tr>\n",
       "      <th id=\"T_0a630_level0_row0\" class=\"row_heading level0 row0\" >0</th>\n",
       "      <td id=\"T_0a630_row0_col0\" class=\"data row0 col0\" >Random Forest Classifier</td>\n",
       "      <td id=\"T_0a630_row0_col1\" class=\"data row0 col1\" >0.9355</td>\n",
       "      <td id=\"T_0a630_row0_col2\" class=\"data row0 col2\" >0.9604</td>\n",
       "      <td id=\"T_0a630_row0_col3\" class=\"data row0 col3\" >0.7186</td>\n",
       "      <td id=\"T_0a630_row0_col4\" class=\"data row0 col4\" >0.9715</td>\n",
       "      <td id=\"T_0a630_row0_col5\" class=\"data row0 col5\" >0.8261</td>\n",
       "      <td id=\"T_0a630_row0_col6\" class=\"data row0 col6\" >0.7876</td>\n",
       "      <td id=\"T_0a630_row0_col7\" class=\"data row0 col7\" >0.8011</td>\n",
       "    </tr>\n",
       "  </tbody>\n",
       "</table>\n"
      ],
      "text/plain": [
       "<pandas.io.formats.style.Styler at 0x7fbae0633c40>"
      ]
     },
     "metadata": {},
     "output_type": "display_data"
    }
   ],
   "source": [
    "train_prediction_ada, train_prediction_gbc, train_prediction_lightgbm, train_prediction_rf = model.common.batch_predict_and_odds(train_data, [regression_model_ada, regression_model_gbc, regression_model_lightgbm, regression_model_rf])"
   ]
  },
  {
   "cell_type": "code",
   "execution_count": 52,
   "metadata": {
    "execution": {
     "iopub.execute_input": "2023-07-03T23:40:20.489753Z",
     "iopub.status.busy": "2023-07-03T23:40:20.489489Z",
     "iopub.status.idle": "2023-07-03T23:40:21.010134Z",
     "shell.execute_reply": "2023-07-03T23:40:21.009167Z",
     "shell.execute_reply.started": "2023-07-03T23:40:20.489730Z"
    }
   },
   "outputs": [
    {
     "data": {
      "text/html": [
       "<table>\n",
       "<tbody>\n",
       "<tr><td>model   </td><td>0.6        </td><td>0.7        </td><td>0.75       </td><td>0.8       </td></tr>\n",
       "<tr><td>ada     </td><td>(0, nan)   </td><td>(0, nan)   </td><td>(0, nan)   </td><td>(0, nan)  </td></tr>\n",
       "<tr><td>gbc     </td><td>(62, 0.87) </td><td>(25, 0.92) </td><td>(20, 0.95) </td><td>(9, 0.89) </td></tr>\n",
       "<tr><td>lightgbm</td><td>(65, 0.88) </td><td>(29, 0.97) </td><td>(17, 0.94) </td><td>(12, 0.92)</td></tr>\n",
       "<tr><td>rf      </td><td>(156, 0.99)</td><td>(137, 0.99)</td><td>(105, 0.99)</td><td>(66, 0.98)</td></tr>\n",
       "</tbody>\n",
       "</table>"
      ],
      "text/plain": [
       "'<table>\\n<tbody>\\n<tr><td>model   </td><td>0.6        </td><td>0.7        </td><td>0.75       </td><td>0.8       </td></tr>\\n<tr><td>ada     </td><td>(0, nan)   </td><td>(0, nan)   </td><td>(0, nan)   </td><td>(0, nan)  </td></tr>\\n<tr><td>gbc     </td><td>(62, 0.87) </td><td>(25, 0.92) </td><td>(20, 0.95) </td><td>(9, 0.89) </td></tr>\\n<tr><td>lightgbm</td><td>(65, 0.88) </td><td>(29, 0.97) </td><td>(17, 0.94) </td><td>(12, 0.92)</td></tr>\\n<tr><td>rf      </td><td>(156, 0.99)</td><td>(137, 0.99)</td><td>(105, 0.99)</td><td>(66, 0.98)</td></tr>\\n</tbody>\\n</table>'"
      ]
     },
     "execution_count": 52,
     "metadata": {},
     "output_type": "execute_result"
    }
   ],
   "source": [
    "model.common.evaluate_predictions([(train_prediction_ada, \"ada\"), (train_prediction_gbc, \"gbc\"), (train_prediction_lightgbm, \"lightgbm\"), (train_prediction_rf, \"rf\")], [0.6, 0.7, 0.75, 0.8], target_column)"
   ]
  },
  {
   "cell_type": "markdown",
   "metadata": {
    "execution": {
     "iopub.execute_input": "2023-06-07T00:40:23.948013Z",
     "iopub.status.busy": "2023-06-07T00:40:23.947407Z",
     "iopub.status.idle": "2023-06-07T00:40:23.953130Z",
     "shell.execute_reply": "2023-06-07T00:40:23.952520Z",
     "shell.execute_reply.started": "2023-06-07T00:40:23.947955Z"
    }
   },
   "source": [
    "**test prediction**"
   ]
  },
  {
   "cell_type": "code",
   "execution_count": 53,
   "metadata": {
    "execution": {
     "iopub.execute_input": "2023-07-03T23:40:21.013915Z",
     "iopub.status.busy": "2023-07-03T23:40:21.012715Z",
     "iopub.status.idle": "2023-07-03T23:40:23.957861Z",
     "shell.execute_reply": "2023-07-03T23:40:23.956111Z",
     "shell.execute_reply.started": "2023-07-03T23:40:21.013866Z"
    }
   },
   "outputs": [
    {
     "data": {
      "text/html": [
       "<style type=\"text/css\">\n",
       "</style>\n",
       "<table id=\"T_5937f\">\n",
       "  <thead>\n",
       "    <tr>\n",
       "      <th class=\"blank level0\" >&nbsp;</th>\n",
       "      <th id=\"T_5937f_level0_col0\" class=\"col_heading level0 col0\" >Model</th>\n",
       "      <th id=\"T_5937f_level0_col1\" class=\"col_heading level0 col1\" >Accuracy</th>\n",
       "      <th id=\"T_5937f_level0_col2\" class=\"col_heading level0 col2\" >AUC</th>\n",
       "      <th id=\"T_5937f_level0_col3\" class=\"col_heading level0 col3\" >Recall</th>\n",
       "      <th id=\"T_5937f_level0_col4\" class=\"col_heading level0 col4\" >Prec.</th>\n",
       "      <th id=\"T_5937f_level0_col5\" class=\"col_heading level0 col5\" >F1</th>\n",
       "      <th id=\"T_5937f_level0_col6\" class=\"col_heading level0 col6\" >Kappa</th>\n",
       "      <th id=\"T_5937f_level0_col7\" class=\"col_heading level0 col7\" >MCC</th>\n",
       "    </tr>\n",
       "  </thead>\n",
       "  <tbody>\n",
       "    <tr>\n",
       "      <th id=\"T_5937f_level0_row0\" class=\"row_heading level0 row0\" >0</th>\n",
       "      <td id=\"T_5937f_row0_col0\" class=\"data row0 col0\" >Ada Boost Classifier</td>\n",
       "      <td id=\"T_5937f_row0_col1\" class=\"data row0 col1\" >0.7945</td>\n",
       "      <td id=\"T_5937f_row0_col2\" class=\"data row0 col2\" >0.6814</td>\n",
       "      <td id=\"T_5937f_row0_col3\" class=\"data row0 col3\" >0.0554</td>\n",
       "      <td id=\"T_5937f_row0_col4\" class=\"data row0 col4\" >0.5542</td>\n",
       "      <td id=\"T_5937f_row0_col5\" class=\"data row0 col5\" >0.1007</td>\n",
       "      <td id=\"T_5937f_row0_col6\" class=\"data row0 col6\" >0.0654</td>\n",
       "      <td id=\"T_5937f_row0_col7\" class=\"data row0 col7\" >0.1243</td>\n",
       "    </tr>\n",
       "  </tbody>\n",
       "</table>\n"
      ],
      "text/plain": [
       "<pandas.io.formats.style.Styler at 0x7fbb490c01f0>"
      ]
     },
     "metadata": {},
     "output_type": "display_data"
    },
    {
     "data": {
      "text/html": [
       "<style type=\"text/css\">\n",
       "</style>\n",
       "<table id=\"T_bf901\">\n",
       "  <thead>\n",
       "    <tr>\n",
       "      <th class=\"blank level0\" >&nbsp;</th>\n",
       "      <th id=\"T_bf901_level0_col0\" class=\"col_heading level0 col0\" >Model</th>\n",
       "      <th id=\"T_bf901_level0_col1\" class=\"col_heading level0 col1\" >Accuracy</th>\n",
       "      <th id=\"T_bf901_level0_col2\" class=\"col_heading level0 col2\" >AUC</th>\n",
       "      <th id=\"T_bf901_level0_col3\" class=\"col_heading level0 col3\" >Recall</th>\n",
       "      <th id=\"T_bf901_level0_col4\" class=\"col_heading level0 col4\" >Prec.</th>\n",
       "      <th id=\"T_bf901_level0_col5\" class=\"col_heading level0 col5\" >F1</th>\n",
       "      <th id=\"T_bf901_level0_col6\" class=\"col_heading level0 col6\" >Kappa</th>\n",
       "      <th id=\"T_bf901_level0_col7\" class=\"col_heading level0 col7\" >MCC</th>\n",
       "    </tr>\n",
       "  </thead>\n",
       "  <tbody>\n",
       "    <tr>\n",
       "      <th id=\"T_bf901_level0_row0\" class=\"row_heading level0 row0\" >0</th>\n",
       "      <td id=\"T_bf901_row0_col0\" class=\"data row0 col0\" >Gradient Boosting Classifier</td>\n",
       "      <td id=\"T_bf901_row0_col1\" class=\"data row0 col1\" >0.7947</td>\n",
       "      <td id=\"T_bf901_row0_col2\" class=\"data row0 col2\" >0.6854</td>\n",
       "      <td id=\"T_bf901_row0_col3\" class=\"data row0 col3\" >0.0508</td>\n",
       "      <td id=\"T_bf901_row0_col4\" class=\"data row0 col4\" >0.5652</td>\n",
       "      <td id=\"T_bf901_row0_col5\" class=\"data row0 col5\" >0.0933</td>\n",
       "      <td id=\"T_bf901_row0_col6\" class=\"data row0 col6\" >0.0611</td>\n",
       "      <td id=\"T_bf901_row0_col7\" class=\"data row0 col7\" >0.1216</td>\n",
       "    </tr>\n",
       "  </tbody>\n",
       "</table>\n"
      ],
      "text/plain": [
       "<pandas.io.formats.style.Styler at 0x7fbb490c28c0>"
      ]
     },
     "metadata": {},
     "output_type": "display_data"
    },
    {
     "data": {
      "text/html": [
       "<style type=\"text/css\">\n",
       "</style>\n",
       "<table id=\"T_2629e\">\n",
       "  <thead>\n",
       "    <tr>\n",
       "      <th class=\"blank level0\" >&nbsp;</th>\n",
       "      <th id=\"T_2629e_level0_col0\" class=\"col_heading level0 col0\" >Model</th>\n",
       "      <th id=\"T_2629e_level0_col1\" class=\"col_heading level0 col1\" >Accuracy</th>\n",
       "      <th id=\"T_2629e_level0_col2\" class=\"col_heading level0 col2\" >AUC</th>\n",
       "      <th id=\"T_2629e_level0_col3\" class=\"col_heading level0 col3\" >Recall</th>\n",
       "      <th id=\"T_2629e_level0_col4\" class=\"col_heading level0 col4\" >Prec.</th>\n",
       "      <th id=\"T_2629e_level0_col5\" class=\"col_heading level0 col5\" >F1</th>\n",
       "      <th id=\"T_2629e_level0_col6\" class=\"col_heading level0 col6\" >Kappa</th>\n",
       "      <th id=\"T_2629e_level0_col7\" class=\"col_heading level0 col7\" >MCC</th>\n",
       "    </tr>\n",
       "  </thead>\n",
       "  <tbody>\n",
       "    <tr>\n",
       "      <th id=\"T_2629e_level0_row0\" class=\"row_heading level0 row0\" >0</th>\n",
       "      <td id=\"T_2629e_row0_col0\" class=\"data row0 col0\" >Light Gradient Boosting Machine</td>\n",
       "      <td id=\"T_2629e_row0_col1\" class=\"data row0 col1\" >0.7934</td>\n",
       "      <td id=\"T_2629e_row0_col2\" class=\"data row0 col2\" >0.6841</td>\n",
       "      <td id=\"T_2629e_row0_col3\" class=\"data row0 col3\" >0.0490</td>\n",
       "      <td id=\"T_2629e_row0_col4\" class=\"data row0 col4\" >0.5292</td>\n",
       "      <td id=\"T_2629e_row0_col5\" class=\"data row0 col5\" >0.0898</td>\n",
       "      <td id=\"T_2629e_row0_col6\" class=\"data row0 col6\" >0.0565</td>\n",
       "      <td id=\"T_2629e_row0_col7\" class=\"data row0 col7\" >0.1110</td>\n",
       "    </tr>\n",
       "  </tbody>\n",
       "</table>\n"
      ],
      "text/plain": [
       "<pandas.io.formats.style.Styler at 0x7fbb490c3f40>"
      ]
     },
     "metadata": {},
     "output_type": "display_data"
    },
    {
     "data": {
      "text/html": [
       "<style type=\"text/css\">\n",
       "</style>\n",
       "<table id=\"T_deab8\">\n",
       "  <thead>\n",
       "    <tr>\n",
       "      <th class=\"blank level0\" >&nbsp;</th>\n",
       "      <th id=\"T_deab8_level0_col0\" class=\"col_heading level0 col0\" >Model</th>\n",
       "      <th id=\"T_deab8_level0_col1\" class=\"col_heading level0 col1\" >Accuracy</th>\n",
       "      <th id=\"T_deab8_level0_col2\" class=\"col_heading level0 col2\" >AUC</th>\n",
       "      <th id=\"T_deab8_level0_col3\" class=\"col_heading level0 col3\" >Recall</th>\n",
       "      <th id=\"T_deab8_level0_col4\" class=\"col_heading level0 col4\" >Prec.</th>\n",
       "      <th id=\"T_deab8_level0_col5\" class=\"col_heading level0 col5\" >F1</th>\n",
       "      <th id=\"T_deab8_level0_col6\" class=\"col_heading level0 col6\" >Kappa</th>\n",
       "      <th id=\"T_deab8_level0_col7\" class=\"col_heading level0 col7\" >MCC</th>\n",
       "    </tr>\n",
       "  </thead>\n",
       "  <tbody>\n",
       "    <tr>\n",
       "      <th id=\"T_deab8_level0_row0\" class=\"row_heading level0 row0\" >0</th>\n",
       "      <td id=\"T_deab8_row0_col0\" class=\"data row0 col0\" >Random Forest Classifier</td>\n",
       "      <td id=\"T_deab8_row0_col1\" class=\"data row0 col1\" >0.7928</td>\n",
       "      <td id=\"T_deab8_row0_col2\" class=\"data row0 col2\" >0.6643</td>\n",
       "      <td id=\"T_deab8_row0_col3\" class=\"data row0 col3\" >0.0686</td>\n",
       "      <td id=\"T_deab8_row0_col4\" class=\"data row0 col4\" >0.5089</td>\n",
       "      <td id=\"T_deab8_row0_col5\" class=\"data row0 col5\" >0.1209</td>\n",
       "      <td id=\"T_deab8_row0_col6\" class=\"data row0 col6\" >0.0753</td>\n",
       "      <td id=\"T_deab8_row0_col7\" class=\"data row0 col7\" >0.1260</td>\n",
       "    </tr>\n",
       "  </tbody>\n",
       "</table>\n"
      ],
      "text/plain": [
       "<pandas.io.formats.style.Styler at 0x7fbaf74d4940>"
      ]
     },
     "metadata": {},
     "output_type": "display_data"
    }
   ],
   "source": [
    "test_prediction_ada, test_prediction_gbc, test_prediction_lightgbm, test_prediction_rf = model.common.batch_predict_and_odds(test_data, [regression_model_ada, regression_model_gbc, regression_model_lightgbm, regression_model_rf])"
   ]
  },
  {
   "cell_type": "code",
   "execution_count": 54,
   "metadata": {
    "execution": {
     "iopub.execute_input": "2023-07-03T23:40:23.959917Z",
     "iopub.status.busy": "2023-07-03T23:40:23.959550Z",
     "iopub.status.idle": "2023-07-03T23:40:24.068627Z",
     "shell.execute_reply": "2023-07-03T23:40:24.066859Z",
     "shell.execute_reply.started": "2023-07-03T23:40:23.959884Z"
    }
   },
   "outputs": [
    {
     "data": {
      "text/html": [
       "<table>\n",
       "<tbody>\n",
       "<tr><td>model   </td><td>0.6       </td><td>0.7       </td><td>0.75      </td><td>0.8      </td><td>0.85     </td></tr>\n",
       "<tr><td>ada     </td><td>(0, nan)  </td><td>(0, nan)  </td><td>(0, nan)  </td><td>(0, nan) </td><td>(0, nan) </td></tr>\n",
       "<tr><td>gbc     </td><td>(39, 0.67)</td><td>(24, 0.67)</td><td>(13, 0.85)</td><td>(8, 0.88)</td><td>(2, 0.5) </td></tr>\n",
       "<tr><td>lightgbm</td><td>(41, 0.68)</td><td>(24, 0.67)</td><td>(18, 0.72)</td><td>(5, 0.8) </td><td>(3, 0.67)</td></tr>\n",
       "<tr><td>rf      </td><td>(35, 0.66)</td><td>(8, 0.75) </td><td>(5, 0.6)  </td><td>(4, 0.75)</td><td>(2, 1.0) </td></tr>\n",
       "</tbody>\n",
       "</table>"
      ],
      "text/plain": [
       "'<table>\\n<tbody>\\n<tr><td>model   </td><td>0.6       </td><td>0.7       </td><td>0.75      </td><td>0.8      </td><td>0.85     </td></tr>\\n<tr><td>ada     </td><td>(0, nan)  </td><td>(0, nan)  </td><td>(0, nan)  </td><td>(0, nan) </td><td>(0, nan) </td></tr>\\n<tr><td>gbc     </td><td>(39, 0.67)</td><td>(24, 0.67)</td><td>(13, 0.85)</td><td>(8, 0.88)</td><td>(2, 0.5) </td></tr>\\n<tr><td>lightgbm</td><td>(41, 0.68)</td><td>(24, 0.67)</td><td>(18, 0.72)</td><td>(5, 0.8) </td><td>(3, 0.67)</td></tr>\\n<tr><td>rf      </td><td>(35, 0.66)</td><td>(8, 0.75) </td><td>(5, 0.6)  </td><td>(4, 0.75)</td><td>(2, 1.0) </td></tr>\\n</tbody>\\n</table>'"
      ]
     },
     "execution_count": 54,
     "metadata": {},
     "output_type": "execute_result"
    }
   ],
   "source": [
    "model.common.evaluate_predictions([(test_prediction_ada, \"ada\"), (test_prediction_gbc, \"gbc\"), (test_prediction_lightgbm, \"lightgbm\"), (test_prediction_rf, \"rf\")], [0.6, 0.7, 0.75, 0.8, 0.85], target_column)"
   ]
  },
  {
   "cell_type": "markdown",
   "metadata": {
    "id": "sOfz0zBX994h"
   },
   "source": [
    "**Finalize Model**"
   ]
  },
  {
   "cell_type": "code",
   "execution_count": 55,
   "metadata": {
    "colab": {
     "base_uri": "https://localhost:8080/",
     "height": 34
    },
    "execution": {
     "iopub.execute_input": "2023-07-03T23:40:24.070787Z",
     "iopub.status.busy": "2023-07-03T23:40:24.070484Z",
     "iopub.status.idle": "2023-07-03T23:43:50.001848Z",
     "shell.execute_reply": "2023-07-03T23:43:49.999533Z",
     "shell.execute_reply.started": "2023-07-03T23:40:24.070762Z"
    },
    "id": "gutfxdh8-DKy",
    "outputId": "2e862724-33f5-45f0-ed52-aade46f98c7d"
   },
   "outputs": [],
   "source": [
    "# train over the whole dataset without validation split\n",
    "regression_model_finalized_ada = pycaret.classification.finalize_model(regression_model_ada)\n",
    "regression_model_finalized_gbc = pycaret.classification.finalize_model(regression_model_gbc)\n",
    "regression_model_finalized_lightgbm = pycaret.classification.finalize_model(regression_model_lightgbm)\n",
    "regression_model_finalized_rf = pycaret.classification.finalize_model(regression_model_rf)"
   ]
  },
  {
   "cell_type": "code",
   "execution_count": 56,
   "metadata": {
    "execution": {
     "iopub.execute_input": "2023-07-03T23:43:50.007880Z",
     "iopub.status.busy": "2023-07-03T23:43:50.007425Z",
     "iopub.status.idle": "2023-07-03T23:43:53.051967Z",
     "shell.execute_reply": "2023-07-03T23:43:53.049967Z",
     "shell.execute_reply.started": "2023-07-03T23:43:50.007842Z"
    }
   },
   "outputs": [
    {
     "data": {
      "text/html": [
       "<style type=\"text/css\">\n",
       "</style>\n",
       "<table id=\"T_668cf\">\n",
       "  <thead>\n",
       "    <tr>\n",
       "      <th class=\"blank level0\" >&nbsp;</th>\n",
       "      <th id=\"T_668cf_level0_col0\" class=\"col_heading level0 col0\" >Model</th>\n",
       "      <th id=\"T_668cf_level0_col1\" class=\"col_heading level0 col1\" >Accuracy</th>\n",
       "      <th id=\"T_668cf_level0_col2\" class=\"col_heading level0 col2\" >AUC</th>\n",
       "      <th id=\"T_668cf_level0_col3\" class=\"col_heading level0 col3\" >Recall</th>\n",
       "      <th id=\"T_668cf_level0_col4\" class=\"col_heading level0 col4\" >Prec.</th>\n",
       "      <th id=\"T_668cf_level0_col5\" class=\"col_heading level0 col5\" >F1</th>\n",
       "      <th id=\"T_668cf_level0_col6\" class=\"col_heading level0 col6\" >Kappa</th>\n",
       "      <th id=\"T_668cf_level0_col7\" class=\"col_heading level0 col7\" >MCC</th>\n",
       "    </tr>\n",
       "  </thead>\n",
       "  <tbody>\n",
       "    <tr>\n",
       "      <th id=\"T_668cf_level0_row0\" class=\"row_heading level0 row0\" >0</th>\n",
       "      <td id=\"T_668cf_row0_col0\" class=\"data row0 col0\" >Ada Boost Classifier</td>\n",
       "      <td id=\"T_668cf_row0_col1\" class=\"data row0 col1\" >0.7946</td>\n",
       "      <td id=\"T_668cf_row0_col2\" class=\"data row0 col2\" >0.6812</td>\n",
       "      <td id=\"T_668cf_row0_col3\" class=\"data row0 col3\" >0.0581</td>\n",
       "      <td id=\"T_668cf_row0_col4\" class=\"data row0 col4\" >0.5530</td>\n",
       "      <td id=\"T_668cf_row0_col5\" class=\"data row0 col5\" >0.1051</td>\n",
       "      <td id=\"T_668cf_row0_col6\" class=\"data row0 col6\" >0.0683</td>\n",
       "      <td id=\"T_668cf_row0_col7\" class=\"data row0 col7\" >0.1271</td>\n",
       "    </tr>\n",
       "  </tbody>\n",
       "</table>\n"
      ],
      "text/plain": [
       "<pandas.io.formats.style.Styler at 0x7fbaf4ae96c0>"
      ]
     },
     "metadata": {},
     "output_type": "display_data"
    },
    {
     "data": {
      "text/html": [
       "<style type=\"text/css\">\n",
       "</style>\n",
       "<table id=\"T_6c010\">\n",
       "  <thead>\n",
       "    <tr>\n",
       "      <th class=\"blank level0\" >&nbsp;</th>\n",
       "      <th id=\"T_6c010_level0_col0\" class=\"col_heading level0 col0\" >Model</th>\n",
       "      <th id=\"T_6c010_level0_col1\" class=\"col_heading level0 col1\" >Accuracy</th>\n",
       "      <th id=\"T_6c010_level0_col2\" class=\"col_heading level0 col2\" >AUC</th>\n",
       "      <th id=\"T_6c010_level0_col3\" class=\"col_heading level0 col3\" >Recall</th>\n",
       "      <th id=\"T_6c010_level0_col4\" class=\"col_heading level0 col4\" >Prec.</th>\n",
       "      <th id=\"T_6c010_level0_col5\" class=\"col_heading level0 col5\" >F1</th>\n",
       "      <th id=\"T_6c010_level0_col6\" class=\"col_heading level0 col6\" >Kappa</th>\n",
       "      <th id=\"T_6c010_level0_col7\" class=\"col_heading level0 col7\" >MCC</th>\n",
       "    </tr>\n",
       "  </thead>\n",
       "  <tbody>\n",
       "    <tr>\n",
       "      <th id=\"T_6c010_level0_row0\" class=\"row_heading level0 row0\" >0</th>\n",
       "      <td id=\"T_6c010_row0_col0\" class=\"data row0 col0\" >Gradient Boosting Classifier</td>\n",
       "      <td id=\"T_6c010_row0_col1\" class=\"data row0 col1\" >0.7940</td>\n",
       "      <td id=\"T_6c010_row0_col2\" class=\"data row0 col2\" >0.6858</td>\n",
       "      <td id=\"T_6c010_row0_col3\" class=\"data row0 col3\" >0.0478</td>\n",
       "      <td id=\"T_6c010_row0_col4\" class=\"data row0 col4\" >0.5483</td>\n",
       "      <td id=\"T_6c010_row0_col5\" class=\"data row0 col5\" >0.0880</td>\n",
       "      <td id=\"T_6c010_row0_col6\" class=\"data row0 col6\" >0.0565</td>\n",
       "      <td id=\"T_6c010_row0_col7\" class=\"data row0 col7\" >0.1140</td>\n",
       "    </tr>\n",
       "  </tbody>\n",
       "</table>\n"
      ],
      "text/plain": [
       "<pandas.io.formats.style.Styler at 0x7fbaf50105e0>"
      ]
     },
     "metadata": {},
     "output_type": "display_data"
    },
    {
     "data": {
      "text/html": [
       "<style type=\"text/css\">\n",
       "</style>\n",
       "<table id=\"T_54c8a\">\n",
       "  <thead>\n",
       "    <tr>\n",
       "      <th class=\"blank level0\" >&nbsp;</th>\n",
       "      <th id=\"T_54c8a_level0_col0\" class=\"col_heading level0 col0\" >Model</th>\n",
       "      <th id=\"T_54c8a_level0_col1\" class=\"col_heading level0 col1\" >Accuracy</th>\n",
       "      <th id=\"T_54c8a_level0_col2\" class=\"col_heading level0 col2\" >AUC</th>\n",
       "      <th id=\"T_54c8a_level0_col3\" class=\"col_heading level0 col3\" >Recall</th>\n",
       "      <th id=\"T_54c8a_level0_col4\" class=\"col_heading level0 col4\" >Prec.</th>\n",
       "      <th id=\"T_54c8a_level0_col5\" class=\"col_heading level0 col5\" >F1</th>\n",
       "      <th id=\"T_54c8a_level0_col6\" class=\"col_heading level0 col6\" >Kappa</th>\n",
       "      <th id=\"T_54c8a_level0_col7\" class=\"col_heading level0 col7\" >MCC</th>\n",
       "    </tr>\n",
       "  </thead>\n",
       "  <tbody>\n",
       "    <tr>\n",
       "      <th id=\"T_54c8a_level0_row0\" class=\"row_heading level0 row0\" >0</th>\n",
       "      <td id=\"T_54c8a_row0_col0\" class=\"data row0 col0\" >Light Gradient Boosting Machine</td>\n",
       "      <td id=\"T_54c8a_row0_col1\" class=\"data row0 col1\" >0.7937</td>\n",
       "      <td id=\"T_54c8a_row0_col2\" class=\"data row0 col2\" >0.6854</td>\n",
       "      <td id=\"T_54c8a_row0_col3\" class=\"data row0 col3\" >0.0493</td>\n",
       "      <td id=\"T_54c8a_row0_col4\" class=\"data row0 col4\" >0.5359</td>\n",
       "      <td id=\"T_54c8a_row0_col5\" class=\"data row0 col5\" >0.0904</td>\n",
       "      <td id=\"T_54c8a_row0_col6\" class=\"data row0 col6\" >0.0573</td>\n",
       "      <td id=\"T_54c8a_row0_col7\" class=\"data row0 col7\" >0.1130</td>\n",
       "    </tr>\n",
       "  </tbody>\n",
       "</table>\n"
      ],
      "text/plain": [
       "<pandas.io.formats.style.Styler at 0x7fbaf5014b80>"
      ]
     },
     "metadata": {},
     "output_type": "display_data"
    },
    {
     "data": {
      "text/html": [
       "<style type=\"text/css\">\n",
       "</style>\n",
       "<table id=\"T_47546\">\n",
       "  <thead>\n",
       "    <tr>\n",
       "      <th class=\"blank level0\" >&nbsp;</th>\n",
       "      <th id=\"T_47546_level0_col0\" class=\"col_heading level0 col0\" >Model</th>\n",
       "      <th id=\"T_47546_level0_col1\" class=\"col_heading level0 col1\" >Accuracy</th>\n",
       "      <th id=\"T_47546_level0_col2\" class=\"col_heading level0 col2\" >AUC</th>\n",
       "      <th id=\"T_47546_level0_col3\" class=\"col_heading level0 col3\" >Recall</th>\n",
       "      <th id=\"T_47546_level0_col4\" class=\"col_heading level0 col4\" >Prec.</th>\n",
       "      <th id=\"T_47546_level0_col5\" class=\"col_heading level0 col5\" >F1</th>\n",
       "      <th id=\"T_47546_level0_col6\" class=\"col_heading level0 col6\" >Kappa</th>\n",
       "      <th id=\"T_47546_level0_col7\" class=\"col_heading level0 col7\" >MCC</th>\n",
       "    </tr>\n",
       "  </thead>\n",
       "  <tbody>\n",
       "    <tr>\n",
       "      <th id=\"T_47546_level0_row0\" class=\"row_heading level0 row0\" >0</th>\n",
       "      <td id=\"T_47546_row0_col0\" class=\"data row0 col0\" >Random Forest Classifier</td>\n",
       "      <td id=\"T_47546_row0_col1\" class=\"data row0 col1\" >0.7917</td>\n",
       "      <td id=\"T_47546_row0_col2\" class=\"data row0 col2\" >0.6670</td>\n",
       "      <td id=\"T_47546_row0_col3\" class=\"data row0 col3\" >0.0659</td>\n",
       "      <td id=\"T_47546_row0_col4\" class=\"data row0 col4\" >0.4899</td>\n",
       "      <td id=\"T_47546_row0_col5\" class=\"data row0 col5\" >0.1161</td>\n",
       "      <td id=\"T_47546_row0_col6\" class=\"data row0 col6\" >0.0704</td>\n",
       "      <td id=\"T_47546_row0_col7\" class=\"data row0 col7\" >0.1179</td>\n",
       "    </tr>\n",
       "  </tbody>\n",
       "</table>\n"
      ],
      "text/plain": [
       "<pandas.io.formats.style.Styler at 0x7fbaf5394b80>"
      ]
     },
     "metadata": {},
     "output_type": "display_data"
    }
   ],
   "source": [
    "test_finalized_prediction_ada, test_finalized_prediction_gbc, test_finalized_prediction_lightgbm, test_finalized_prediction_rf = model.common.batch_predict_and_odds(\n",
    "    test_data, \n",
    "    [regression_model_finalized_ada, regression_model_finalized_gbc, regression_model_finalized_lightgbm, regression_model_finalized_rf])"
   ]
  },
  {
   "cell_type": "code",
   "execution_count": 57,
   "metadata": {
    "execution": {
     "iopub.execute_input": "2023-07-03T23:43:53.054748Z",
     "iopub.status.busy": "2023-07-03T23:43:53.054386Z",
     "iopub.status.idle": "2023-07-03T23:43:53.205463Z",
     "shell.execute_reply": "2023-07-03T23:43:53.203787Z",
     "shell.execute_reply.started": "2023-07-03T23:43:53.054716Z"
    }
   },
   "outputs": [
    {
     "data": {
      "text/html": [
       "<table>\n",
       "<tbody>\n",
       "<tr><td>model   </td><td>0.6       </td><td>0.7       </td><td>0.75      </td><td>0.8      </td><td>0.85     </td></tr>\n",
       "<tr><td>ada     </td><td>(0, nan)  </td><td>(0, nan)  </td><td>(0, nan)  </td><td>(0, nan) </td><td>(0, nan) </td></tr>\n",
       "<tr><td>gbc     </td><td>(38, 0.71)</td><td>(22, 0.73)</td><td>(17, 0.71)</td><td>(8, 0.88)</td><td>(2, 0.5) </td></tr>\n",
       "<tr><td>lightgbm</td><td>(42, 0.69)</td><td>(25, 0.76)</td><td>(17, 0.71)</td><td>(9, 0.78)</td><td>(3, 0.67)</td></tr>\n",
       "<tr><td>rf      </td><td>(30, 0.7) </td><td>(10, 0.7) </td><td>(5, 0.6)  </td><td>(1, 1.0) </td><td>(0, nan) </td></tr>\n",
       "</tbody>\n",
       "</table>"
      ],
      "text/plain": [
       "'<table>\\n<tbody>\\n<tr><td>model   </td><td>0.6       </td><td>0.7       </td><td>0.75      </td><td>0.8      </td><td>0.85     </td></tr>\\n<tr><td>ada     </td><td>(0, nan)  </td><td>(0, nan)  </td><td>(0, nan)  </td><td>(0, nan) </td><td>(0, nan) </td></tr>\\n<tr><td>gbc     </td><td>(38, 0.71)</td><td>(22, 0.73)</td><td>(17, 0.71)</td><td>(8, 0.88)</td><td>(2, 0.5) </td></tr>\\n<tr><td>lightgbm</td><td>(42, 0.69)</td><td>(25, 0.76)</td><td>(17, 0.71)</td><td>(9, 0.78)</td><td>(3, 0.67)</td></tr>\\n<tr><td>rf      </td><td>(30, 0.7) </td><td>(10, 0.7) </td><td>(5, 0.6)  </td><td>(1, 1.0) </td><td>(0, nan) </td></tr>\\n</tbody>\\n</table>'"
      ]
     },
     "execution_count": 57,
     "metadata": {},
     "output_type": "execute_result"
    }
   ],
   "source": [
    "model.common.evaluate_predictions([(test_finalized_prediction_ada, \"ada\"), (test_finalized_prediction_gbc, \"gbc\"), (test_finalized_prediction_lightgbm, \"lightgbm\"), (test_finalized_prediction_rf, \"rf\")], [0.6, 0.7, 0.75, 0.8, 0.85], target_column)"
   ]
  },
  {
   "cell_type": "markdown",
   "metadata": {},
   "source": [
    "**Save Model**"
   ]
  },
  {
   "cell_type": "code",
   "execution_count": 12,
   "metadata": {
    "execution": {
     "iopub.execute_input": "2023-07-08T04:01:17.779876Z",
     "iopub.status.busy": "2023-07-08T04:01:17.779399Z",
     "iopub.status.idle": "2023-07-08T04:01:18.093889Z",
     "shell.execute_reply": "2023-07-08T04:01:18.092076Z",
     "shell.execute_reply.started": "2023-07-08T04:01:17.779844Z"
    }
   },
   "outputs": [
    {
     "name": "stdout",
     "output_type": "stream",
     "text": [
      "Transformation Pipeline and Model Successfully Saved\n"
     ]
    },
    {
     "data": {
      "text/plain": [
       "(Pipeline(memory=FastMemory(location=/tmp/joblib),\n",
       "          steps=[('numerical_imputer',\n",
       "                  TransformerWrapper(exclude=None,\n",
       "                                     include=['pitching_gamesPlayed',\n",
       "                                              'pitching_runs_per_game',\n",
       "                                              'pitching_strikeOuts_per_game',\n",
       "                                              'pitching_hits_per_game',\n",
       "                                              'batting_gamesPlayed',\n",
       "                                              'batting_runs_per_game',\n",
       "                                              'batting_strikeOuts_per_game',\n",
       "                                              'batting_hits_per_game',\n",
       "                                              'batting_rbi',\n",
       "                                              'pitching_cur_...\n",
       "                                                       colsample_bytree=1.0,\n",
       "                                                       importance_type='split',\n",
       "                                                       learning_rate=0.1,\n",
       "                                                       max_depth=-1,\n",
       "                                                       min_child_samples=20,\n",
       "                                                       min_child_weight=0.001,\n",
       "                                                       min_split_gain=0.0,\n",
       "                                                       n_estimators=100,\n",
       "                                                       n_jobs=-1, num_leaves=31,\n",
       "                                                       objective=None,\n",
       "                                                       probability_threshold=0.5,\n",
       "                                                       random_state=6979,\n",
       "                                                       reg_alpha=0.0,\n",
       "                                                       reg_lambda=0.0,\n",
       "                                                       silent='warn',\n",
       "                                                       subsample=1.0,\n",
       "                                                       subsample_for_bin=200000,\n",
       "                                                       subsample_freq=0))],\n",
       "          verbose=False),\n",
       " 'model/batter_2hits_regression_model.pkl')"
      ]
     },
     "execution_count": 12,
     "metadata": {},
     "output_type": "execute_result"
    }
   ],
   "source": [
    "pycaret.classification.save_model(regression_model_finalized_lightgbm, model_file_name)"
   ]
  },
  {
   "cell_type": "code",
   "execution_count": null,
   "metadata": {},
   "outputs": [],
   "source": []
  }
 ],
 "metadata": {
  "colab": {
   "provenance": []
  },
  "kernelspec": {
   "display_name": "Python 3 (ipykernel)",
   "language": "python",
   "name": "python3"
  },
  "language_info": {
   "codemirror_mode": {
    "name": "ipython",
    "version": 3
   },
   "file_extension": ".py",
   "mimetype": "text/x-python",
   "name": "python",
   "nbconvert_exporter": "python",
   "pygments_lexer": "ipython3",
   "version": "3.10.6"
  },
  "widgets": {
   "application/vnd.jupyter.widget-state+json": {
    "1ac32fe9102d4f5a9d1511e64a1d5e5d": {
     "model_module": "@jupyter-widgets/base",
     "model_module_version": "1.2.0",
     "model_name": "LayoutModel",
     "state": {
      "_model_module": "@jupyter-widgets/base",
      "_model_module_version": "1.2.0",
      "_model_name": "LayoutModel",
      "_view_count": null,
      "_view_module": "@jupyter-widgets/base",
      "_view_module_version": "1.2.0",
      "_view_name": "LayoutView",
      "align_content": null,
      "align_items": null,
      "align_self": null,
      "border": null,
      "bottom": null,
      "display": null,
      "flex": null,
      "flex_flow": null,
      "grid_area": null,
      "grid_auto_columns": null,
      "grid_auto_flow": null,
      "grid_auto_rows": null,
      "grid_column": null,
      "grid_gap": null,
      "grid_row": null,
      "grid_template_areas": null,
      "grid_template_columns": null,
      "grid_template_rows": null,
      "height": null,
      "justify_content": null,
      "justify_items": null,
      "left": null,
      "margin": null,
      "max_height": null,
      "max_width": null,
      "min_height": null,
      "min_width": null,
      "object_fit": null,
      "object_position": null,
      "order": null,
      "overflow": null,
      "overflow_x": null,
      "overflow_y": null,
      "padding": null,
      "right": null,
      "top": null,
      "visibility": null,
      "width": null
     }
    },
    "40b50c57e470496cb6c94a0693636fd7": {
     "model_module": "@jupyter-widgets/base",
     "model_module_version": "1.2.0",
     "model_name": "LayoutModel",
     "state": {
      "_model_module": "@jupyter-widgets/base",
      "_model_module_version": "1.2.0",
      "_model_name": "LayoutModel",
      "_view_count": null,
      "_view_module": "@jupyter-widgets/base",
      "_view_module_version": "1.2.0",
      "_view_name": "LayoutView",
      "align_content": null,
      "align_items": null,
      "align_self": null,
      "border": null,
      "bottom": null,
      "display": null,
      "flex": null,
      "flex_flow": null,
      "grid_area": null,
      "grid_auto_columns": null,
      "grid_auto_flow": null,
      "grid_auto_rows": null,
      "grid_column": null,
      "grid_gap": null,
      "grid_row": null,
      "grid_template_areas": null,
      "grid_template_columns": null,
      "grid_template_rows": null,
      "height": null,
      "justify_content": null,
      "justify_items": null,
      "left": null,
      "margin": null,
      "max_height": null,
      "max_width": null,
      "min_height": null,
      "min_width": null,
      "object_fit": null,
      "object_position": null,
      "order": null,
      "overflow": null,
      "overflow_x": null,
      "overflow_y": null,
      "padding": null,
      "right": null,
      "top": null,
      "visibility": "hidden",
      "width": null
     }
    },
    "46b9d3b6cd6e4f76a42dd4f216dc1644": {
     "model_module": "@jupyter-widgets/controls",
     "model_module_version": "1.5.0",
     "model_name": "HBoxModel",
     "state": {
      "_dom_classes": [],
      "_model_module": "@jupyter-widgets/controls",
      "_model_module_version": "1.5.0",
      "_model_name": "HBoxModel",
      "_view_count": null,
      "_view_module": "@jupyter-widgets/controls",
      "_view_module_version": "1.5.0",
      "_view_name": "HBoxView",
      "box_style": "",
      "children": [
       "IPY_MODEL_cfce22755aa7471a87151793e633def1",
       "IPY_MODEL_94d7b3dc65544425b2463933c4108fa4",
       "IPY_MODEL_f92582f04a594f87a669f3c1c4d4eabc"
      ],
      "layout": "IPY_MODEL_40b50c57e470496cb6c94a0693636fd7"
     }
    },
    "4efa6d0ab419418ea9e4991c77b1ec42": {
     "model_module": "@jupyter-widgets/controls",
     "model_module_version": "1.5.0",
     "model_name": "ProgressStyleModel",
     "state": {
      "_model_module": "@jupyter-widgets/controls",
      "_model_module_version": "1.5.0",
      "_model_name": "ProgressStyleModel",
      "_view_count": null,
      "_view_module": "@jupyter-widgets/base",
      "_view_module_version": "1.2.0",
      "_view_name": "StyleView",
      "bar_color": null,
      "description_width": ""
     }
    },
    "81feddb738c64cbc8b7dbc7aec2730de": {
     "model_module": "@jupyter-widgets/controls",
     "model_module_version": "1.5.0",
     "model_name": "DescriptionStyleModel",
     "state": {
      "_model_module": "@jupyter-widgets/controls",
      "_model_module_version": "1.5.0",
      "_model_name": "DescriptionStyleModel",
      "_view_count": null,
      "_view_module": "@jupyter-widgets/base",
      "_view_module_version": "1.2.0",
      "_view_name": "StyleView",
      "description_width": ""
     }
    },
    "94d7b3dc65544425b2463933c4108fa4": {
     "model_module": "@jupyter-widgets/controls",
     "model_module_version": "1.5.0",
     "model_name": "FloatProgressModel",
     "state": {
      "_dom_classes": [],
      "_model_module": "@jupyter-widgets/controls",
      "_model_module_version": "1.5.0",
      "_model_name": "FloatProgressModel",
      "_view_count": null,
      "_view_module": "@jupyter-widgets/controls",
      "_view_module_version": "1.5.0",
      "_view_name": "ProgressView",
      "bar_style": "",
      "description": "",
      "description_tooltip": null,
      "layout": "IPY_MODEL_eb74dfbcca4a458eb81d87fbae5bf166",
      "max": 4,
      "min": 0,
      "orientation": "horizontal",
      "style": "IPY_MODEL_4efa6d0ab419418ea9e4991c77b1ec42",
      "value": 4
     }
    },
    "bec03081ad154466a3a0abca5a8462f4": {
     "model_module": "@jupyter-widgets/base",
     "model_module_version": "1.2.0",
     "model_name": "LayoutModel",
     "state": {
      "_model_module": "@jupyter-widgets/base",
      "_model_module_version": "1.2.0",
      "_model_name": "LayoutModel",
      "_view_count": null,
      "_view_module": "@jupyter-widgets/base",
      "_view_module_version": "1.2.0",
      "_view_name": "LayoutView",
      "align_content": null,
      "align_items": null,
      "align_self": null,
      "border": null,
      "bottom": null,
      "display": null,
      "flex": null,
      "flex_flow": null,
      "grid_area": null,
      "grid_auto_columns": null,
      "grid_auto_flow": null,
      "grid_auto_rows": null,
      "grid_column": null,
      "grid_gap": null,
      "grid_row": null,
      "grid_template_areas": null,
      "grid_template_columns": null,
      "grid_template_rows": null,
      "height": null,
      "justify_content": null,
      "justify_items": null,
      "left": null,
      "margin": null,
      "max_height": null,
      "max_width": null,
      "min_height": null,
      "min_width": null,
      "object_fit": null,
      "object_position": null,
      "order": null,
      "overflow": null,
      "overflow_x": null,
      "overflow_y": null,
      "padding": null,
      "right": null,
      "top": null,
      "visibility": null,
      "width": null
     }
    },
    "cfcd697393754f1d93106a2d6e07ea05": {
     "model_module": "@jupyter-widgets/controls",
     "model_module_version": "1.5.0",
     "model_name": "DescriptionStyleModel",
     "state": {
      "_model_module": "@jupyter-widgets/controls",
      "_model_module_version": "1.5.0",
      "_model_name": "DescriptionStyleModel",
      "_view_count": null,
      "_view_module": "@jupyter-widgets/base",
      "_view_module_version": "1.2.0",
      "_view_name": "StyleView",
      "description_width": ""
     }
    },
    "cfce22755aa7471a87151793e633def1": {
     "model_module": "@jupyter-widgets/controls",
     "model_module_version": "1.5.0",
     "model_name": "HTMLModel",
     "state": {
      "_dom_classes": [],
      "_model_module": "@jupyter-widgets/controls",
      "_model_module_version": "1.5.0",
      "_model_name": "HTMLModel",
      "_view_count": null,
      "_view_module": "@jupyter-widgets/controls",
      "_view_module_version": "1.5.0",
      "_view_name": "HTMLView",
      "description": "",
      "description_tooltip": null,
      "layout": "IPY_MODEL_bec03081ad154466a3a0abca5a8462f4",
      "placeholder": "​",
      "style": "IPY_MODEL_81feddb738c64cbc8b7dbc7aec2730de",
      "value": "Processing: 100%"
     }
    },
    "eb74dfbcca4a458eb81d87fbae5bf166": {
     "model_module": "@jupyter-widgets/base",
     "model_module_version": "1.2.0",
     "model_name": "LayoutModel",
     "state": {
      "_model_module": "@jupyter-widgets/base",
      "_model_module_version": "1.2.0",
      "_model_name": "LayoutModel",
      "_view_count": null,
      "_view_module": "@jupyter-widgets/base",
      "_view_module_version": "1.2.0",
      "_view_name": "LayoutView",
      "align_content": null,
      "align_items": null,
      "align_self": null,
      "border": null,
      "bottom": null,
      "display": null,
      "flex": null,
      "flex_flow": null,
      "grid_area": null,
      "grid_auto_columns": null,
      "grid_auto_flow": null,
      "grid_auto_rows": null,
      "grid_column": null,
      "grid_gap": null,
      "grid_row": null,
      "grid_template_areas": null,
      "grid_template_columns": null,
      "grid_template_rows": null,
      "height": null,
      "justify_content": null,
      "justify_items": null,
      "left": null,
      "margin": null,
      "max_height": null,
      "max_width": null,
      "min_height": null,
      "min_width": null,
      "object_fit": null,
      "object_position": null,
      "order": null,
      "overflow": null,
      "overflow_x": null,
      "overflow_y": null,
      "padding": null,
      "right": null,
      "top": null,
      "visibility": null,
      "width": null
     }
    },
    "f92582f04a594f87a669f3c1c4d4eabc": {
     "model_module": "@jupyter-widgets/controls",
     "model_module_version": "1.5.0",
     "model_name": "HTMLModel",
     "state": {
      "_dom_classes": [],
      "_model_module": "@jupyter-widgets/controls",
      "_model_module_version": "1.5.0",
      "_model_name": "HTMLModel",
      "_view_count": null,
      "_view_module": "@jupyter-widgets/controls",
      "_view_module_version": "1.5.0",
      "_view_name": "HTMLView",
      "description": "",
      "description_tooltip": null,
      "layout": "IPY_MODEL_1ac32fe9102d4f5a9d1511e64a1d5e5d",
      "placeholder": "​",
      "style": "IPY_MODEL_cfcd697393754f1d93106a2d6e07ea05",
      "value": " 4/4 [00:10&lt;00:00,  2.34s/it]"
     }
    }
   }
  }
 },
 "nbformat": 4,
 "nbformat_minor": 4
}
