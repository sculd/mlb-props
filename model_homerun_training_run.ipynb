{
 "cells": [
  {
   "cell_type": "markdown",
   "metadata": {
    "id": "X1V_SUC4p-YQ"
   },
   "source": [
    "**Import Packages**"
   ]
  },
  {
   "cell_type": "code",
   "execution_count": 1,
   "metadata": {
    "colab": {
     "base_uri": "https://localhost:8080/"
    },
    "execution": {
     "iopub.execute_input": "2023-07-02T22:38:19.070410Z",
     "iopub.status.busy": "2023-07-02T22:38:19.070150Z",
     "iopub.status.idle": "2023-07-02T22:38:21.426709Z",
     "shell.execute_reply": "2023-07-02T22:38:21.425598Z",
     "shell.execute_reply.started": "2023-07-02T22:38:19.070394Z"
    },
    "id": "IGZCa25_p5QY",
    "outputId": "d9e7f9d8-21e8-49dd-d344-173324ba79a5",
    "tags": []
   },
   "outputs": [],
   "source": [
    "import pycaret\n",
    "import pandas as pd\n",
    "import numpy as np\n",
    "import sqlalchemy\n",
    "import mysql.connector\n",
    "\n",
    "from pycaret import classification\n",
    "from pycaret.classification import plot_model\n",
    "from datetime import datetime\n",
    "import importlib\n",
    "import model.common"
   ]
  },
  {
   "cell_type": "code",
   "execution_count": 2,
   "metadata": {
    "execution": {
     "iopub.execute_input": "2023-07-02T22:38:21.429622Z",
     "iopub.status.busy": "2023-07-02T22:38:21.429126Z",
     "iopub.status.idle": "2023-07-02T22:38:21.495654Z",
     "shell.execute_reply": "2023-07-02T22:38:21.494286Z",
     "shell.execute_reply.started": "2023-07-02T22:38:21.429596Z"
    }
   },
   "outputs": [],
   "source": [
    "from static_data.load_static_data import *"
   ]
  },
  {
   "cell_type": "markdown",
   "metadata": {
    "id": "jqde2RQfqchC"
   },
   "source": [
    "**Load Data**"
   ]
  },
  {
   "cell_type": "code",
   "execution_count": 3,
   "metadata": {
    "execution": {
     "iopub.execute_input": "2023-07-02T22:38:21.497513Z",
     "iopub.status.busy": "2023-07-02T22:38:21.497114Z",
     "iopub.status.idle": "2023-07-02T22:38:22.152160Z",
     "shell.execute_reply": "2023-07-02T22:38:22.150134Z",
     "shell.execute_reply.started": "2023-07-02T22:38:21.497484Z"
    }
   },
   "outputs": [
    {
     "name": "stdout",
     "output_type": "stream",
     "text": [
      "325140\n"
     ]
    }
   ],
   "source": [
    "collect_data_Base_dir = 'collect_data'\n",
    "df_game_matchup_total = pd.read_pickle(f'{collect_data_Base_dir}/df_game_matchup_total.pkl')\n",
    "print(len(df_game_matchup_total))"
   ]
  },
  {
   "cell_type": "markdown",
   "metadata": {
    "id": "VkSM5TOeule8"
   },
   "source": [
    "**Choose Columns**"
   ]
  },
  {
   "cell_type": "code",
   "execution_count": 4,
   "metadata": {
    "execution": {
     "iopub.execute_input": "2023-07-02T22:38:22.154168Z",
     "iopub.status.busy": "2023-07-02T22:38:22.153980Z",
     "iopub.status.idle": "2023-07-02T22:38:22.161491Z",
     "shell.execute_reply": "2023-07-02T22:38:22.160227Z",
     "shell.execute_reply.started": "2023-07-02T22:38:22.154152Z"
    }
   },
   "outputs": [
    {
     "data": {
      "text/plain": [
       "<module 'model.common' from '/home/junlim/projects/mlb-props/model/common.py'>"
      ]
     },
     "execution_count": 4,
     "metadata": {},
     "output_type": "execute_result"
    }
   ],
   "source": [
    "importlib.reload(model.common)"
   ]
  },
  {
   "cell_type": "code",
   "execution_count": 5,
   "metadata": {
    "execution": {
     "iopub.execute_input": "2023-07-02T22:38:22.163307Z",
     "iopub.status.busy": "2023-07-02T22:38:22.162891Z",
     "iopub.status.idle": "2023-07-02T22:38:22.722472Z",
     "shell.execute_reply": "2023-07-02T22:38:22.721565Z",
     "shell.execute_reply.started": "2023-07-02T22:38:22.163280Z"
    }
   },
   "outputs": [],
   "source": [
    "train_data = df_game_matchup_total[(df_game_matchup_total.game_date > \"2012-04-01\") & (df_game_matchup_total.game_date < \"2022-12-01\")][model.common.features_homerun_recorded]\n",
    "test_data = df_game_matchup_total[(df_game_matchup_total.game_date > \"2022-12-01\")][model.common.features_homerun_recorded]"
   ]
  },
  {
   "cell_type": "markdown",
   "metadata": {
    "id": "-0Pi_iCwvTQd"
   },
   "source": [
    "**Model Setup**"
   ]
  },
  {
   "cell_type": "code",
   "execution_count": null,
   "metadata": {},
   "outputs": [],
   "source": []
  },
  {
   "cell_type": "code",
   "execution_count": 6,
   "metadata": {
    "execution": {
     "iopub.execute_input": "2023-07-02T22:38:23.521874Z",
     "iopub.status.busy": "2023-07-02T22:38:23.521684Z",
     "iopub.status.idle": "2023-07-02T22:38:23.527651Z",
     "shell.execute_reply": "2023-07-02T22:38:23.525871Z",
     "shell.execute_reply.started": "2023-07-02T22:38:23.521862Z"
    }
   },
   "outputs": [
    {
     "data": {
      "text/plain": [
       "'batting_homeRuns_recorded'"
      ]
     },
     "execution_count": 6,
     "metadata": {},
     "output_type": "execute_result"
    }
   ],
   "source": [
    "model.common.target_homerun_recorded"
   ]
  },
  {
   "cell_type": "code",
   "execution_count": 7,
   "metadata": {
    "execution": {
     "iopub.execute_input": "2023-07-02T22:38:25.513680Z",
     "iopub.status.busy": "2023-07-02T22:38:25.513342Z",
     "iopub.status.idle": "2023-07-02T22:38:25.519001Z",
     "shell.execute_reply": "2023-07-02T22:38:25.518605Z",
     "shell.execute_reply.started": "2023-07-02T22:38:25.513655Z"
    }
   },
   "outputs": [
    {
     "data": {
      "text/plain": [
       "24555     1\n",
       "24556     0\n",
       "24557     0\n",
       "24558     0\n",
       "24559     0\n",
       "         ..\n",
       "309640    0\n",
       "309641    0\n",
       "309642    0\n",
       "309643    1\n",
       "309644    0\n",
       "Name: batting_homeRuns_recorded, Length: 285090, dtype: int64"
      ]
     },
     "execution_count": 7,
     "metadata": {},
     "output_type": "execute_result"
    }
   ],
   "source": [
    "train_data.batting_homeRuns_recorded"
   ]
  },
  {
   "cell_type": "code",
   "execution_count": 8,
   "metadata": {
    "execution": {
     "iopub.execute_input": "2023-07-02T22:38:25.957116Z",
     "iopub.status.busy": "2023-07-02T22:38:25.955986Z",
     "iopub.status.idle": "2023-07-02T22:38:25.963554Z",
     "shell.execute_reply": "2023-07-02T22:38:25.962469Z",
     "shell.execute_reply.started": "2023-07-02T22:38:25.957080Z"
    }
   },
   "outputs": [
    {
     "data": {
      "text/plain": [
       "Index(['pitching_gamesPlayed', 'pitching_runs_per_game',\n",
       "       'pitching_strikeOuts_per_game', 'pitching_hits_per_game', 'pitching_id',\n",
       "       'batting_name', 'batting_gamesPlayed', 'batting_runs_per_game',\n",
       "       'batting_strikeOuts_per_game', 'batting_hits_per_game', 'batting_rbi',\n",
       "       'batting_id', 'pitching_name', 'pitching_cur_hits_per_pitch',\n",
       "       'pitching_cur_strikeOuts_per_pitch', 'batting_cur_season_avg', 'temp',\n",
       "       'game_venue', 'game_date', 'game_year', 'batting_homeRuns_recorded'],\n",
       "      dtype='object')"
      ]
     },
     "execution_count": 8,
     "metadata": {},
     "output_type": "execute_result"
    }
   ],
   "source": [
    "train_data.columns"
   ]
  },
  {
   "cell_type": "code",
   "execution_count": 19,
   "metadata": {
    "execution": {
     "iopub.execute_input": "2023-07-02T22:48:10.973163Z",
     "iopub.status.busy": "2023-07-02T22:48:10.972585Z",
     "iopub.status.idle": "2023-07-02T22:48:10.978378Z",
     "shell.execute_reply": "2023-07-02T22:48:10.977974Z",
     "shell.execute_reply.started": "2023-07-02T22:48:10.973117Z"
    }
   },
   "outputs": [],
   "source": [
    "train_data[model.common.target_homerun_recorded] = train_data[model.common.target_homerun_recorded].astype(float)"
   ]
  },
  {
   "cell_type": "code",
   "execution_count": null,
   "metadata": {},
   "outputs": [],
   "source": []
  },
  {
   "cell_type": "code",
   "execution_count": 21,
   "metadata": {
    "execution": {
     "iopub.execute_input": "2023-07-02T22:48:18.943732Z",
     "iopub.status.busy": "2023-07-02T22:48:18.943528Z",
     "iopub.status.idle": "2023-07-02T22:48:20.919471Z",
     "shell.execute_reply": "2023-07-02T22:48:20.918646Z",
     "shell.execute_reply.started": "2023-07-02T22:48:18.943719Z"
    }
   },
   "outputs": [
    {
     "data": {
      "text/html": [
       "<style type=\"text/css\">\n",
       "#T_fc260_row11_col1 {\n",
       "  background-color: lightgreen;\n",
       "}\n",
       "</style>\n",
       "<table id=\"T_fc260\">\n",
       "  <thead>\n",
       "    <tr>\n",
       "      <th class=\"blank level0\" >&nbsp;</th>\n",
       "      <th id=\"T_fc260_level0_col0\" class=\"col_heading level0 col0\" >Description</th>\n",
       "      <th id=\"T_fc260_level0_col1\" class=\"col_heading level0 col1\" >Value</th>\n",
       "    </tr>\n",
       "  </thead>\n",
       "  <tbody>\n",
       "    <tr>\n",
       "      <th id=\"T_fc260_level0_row0\" class=\"row_heading level0 row0\" >0</th>\n",
       "      <td id=\"T_fc260_row0_col0\" class=\"data row0 col0\" >Session id</td>\n",
       "      <td id=\"T_fc260_row0_col1\" class=\"data row0 col1\" >7446</td>\n",
       "    </tr>\n",
       "    <tr>\n",
       "      <th id=\"T_fc260_level0_row1\" class=\"row_heading level0 row1\" >1</th>\n",
       "      <td id=\"T_fc260_row1_col0\" class=\"data row1 col0\" >Target</td>\n",
       "      <td id=\"T_fc260_row1_col1\" class=\"data row1 col1\" >batting_homeRuns_recorded</td>\n",
       "    </tr>\n",
       "    <tr>\n",
       "      <th id=\"T_fc260_level0_row2\" class=\"row_heading level0 row2\" >2</th>\n",
       "      <td id=\"T_fc260_row2_col0\" class=\"data row2 col0\" >Target type</td>\n",
       "      <td id=\"T_fc260_row2_col1\" class=\"data row2 col1\" >Binary</td>\n",
       "    </tr>\n",
       "    <tr>\n",
       "      <th id=\"T_fc260_level0_row3\" class=\"row_heading level0 row3\" >3</th>\n",
       "      <td id=\"T_fc260_row3_col0\" class=\"data row3 col0\" >Original data shape</td>\n",
       "      <td id=\"T_fc260_row3_col1\" class=\"data row3 col1\" >(285090, 21)</td>\n",
       "    </tr>\n",
       "    <tr>\n",
       "      <th id=\"T_fc260_level0_row4\" class=\"row_heading level0 row4\" >4</th>\n",
       "      <td id=\"T_fc260_row4_col0\" class=\"data row4 col0\" >Transformed data shape</td>\n",
       "      <td id=\"T_fc260_row4_col1\" class=\"data row4 col1\" >(285090, 15)</td>\n",
       "    </tr>\n",
       "    <tr>\n",
       "      <th id=\"T_fc260_level0_row5\" class=\"row_heading level0 row5\" >5</th>\n",
       "      <td id=\"T_fc260_row5_col0\" class=\"data row5 col0\" >Transformed train set shape</td>\n",
       "      <td id=\"T_fc260_row5_col1\" class=\"data row5 col1\" >(199563, 15)</td>\n",
       "    </tr>\n",
       "    <tr>\n",
       "      <th id=\"T_fc260_level0_row6\" class=\"row_heading level0 row6\" >6</th>\n",
       "      <td id=\"T_fc260_row6_col0\" class=\"data row6 col0\" >Transformed test set shape</td>\n",
       "      <td id=\"T_fc260_row6_col1\" class=\"data row6 col1\" >(85527, 15)</td>\n",
       "    </tr>\n",
       "    <tr>\n",
       "      <th id=\"T_fc260_level0_row7\" class=\"row_heading level0 row7\" >7</th>\n",
       "      <td id=\"T_fc260_row7_col0\" class=\"data row7 col0\" >Ignore features</td>\n",
       "      <td id=\"T_fc260_row7_col1\" class=\"data row7 col1\" >6</td>\n",
       "    </tr>\n",
       "    <tr>\n",
       "      <th id=\"T_fc260_level0_row8\" class=\"row_heading level0 row8\" >8</th>\n",
       "      <td id=\"T_fc260_row8_col0\" class=\"data row8 col0\" >Numeric features</td>\n",
       "      <td id=\"T_fc260_row8_col1\" class=\"data row8 col1\" >12</td>\n",
       "    </tr>\n",
       "    <tr>\n",
       "      <th id=\"T_fc260_level0_row9\" class=\"row_heading level0 row9\" >9</th>\n",
       "      <td id=\"T_fc260_row9_col0\" class=\"data row9 col0\" >Categorical features</td>\n",
       "      <td id=\"T_fc260_row9_col1\" class=\"data row9 col1\" >1</td>\n",
       "    </tr>\n",
       "    <tr>\n",
       "      <th id=\"T_fc260_level0_row10\" class=\"row_heading level0 row10\" >10</th>\n",
       "      <td id=\"T_fc260_row10_col0\" class=\"data row10 col0\" >Rows with missing values</td>\n",
       "      <td id=\"T_fc260_row10_col1\" class=\"data row10 col1\" >0.0%</td>\n",
       "    </tr>\n",
       "    <tr>\n",
       "      <th id=\"T_fc260_level0_row11\" class=\"row_heading level0 row11\" >11</th>\n",
       "      <td id=\"T_fc260_row11_col0\" class=\"data row11 col0\" >Preprocess</td>\n",
       "      <td id=\"T_fc260_row11_col1\" class=\"data row11 col1\" >True</td>\n",
       "    </tr>\n",
       "    <tr>\n",
       "      <th id=\"T_fc260_level0_row12\" class=\"row_heading level0 row12\" >12</th>\n",
       "      <td id=\"T_fc260_row12_col0\" class=\"data row12 col0\" >Imputation type</td>\n",
       "      <td id=\"T_fc260_row12_col1\" class=\"data row12 col1\" >simple</td>\n",
       "    </tr>\n",
       "    <tr>\n",
       "      <th id=\"T_fc260_level0_row13\" class=\"row_heading level0 row13\" >13</th>\n",
       "      <td id=\"T_fc260_row13_col0\" class=\"data row13 col0\" >Numeric imputation</td>\n",
       "      <td id=\"T_fc260_row13_col1\" class=\"data row13 col1\" >mean</td>\n",
       "    </tr>\n",
       "    <tr>\n",
       "      <th id=\"T_fc260_level0_row14\" class=\"row_heading level0 row14\" >14</th>\n",
       "      <td id=\"T_fc260_row14_col0\" class=\"data row14 col0\" >Categorical imputation</td>\n",
       "      <td id=\"T_fc260_row14_col1\" class=\"data row14 col1\" >mode</td>\n",
       "    </tr>\n",
       "    <tr>\n",
       "      <th id=\"T_fc260_level0_row15\" class=\"row_heading level0 row15\" >15</th>\n",
       "      <td id=\"T_fc260_row15_col0\" class=\"data row15 col0\" >Maximum one-hot encoding</td>\n",
       "      <td id=\"T_fc260_row15_col1\" class=\"data row15 col1\" >25</td>\n",
       "    </tr>\n",
       "    <tr>\n",
       "      <th id=\"T_fc260_level0_row16\" class=\"row_heading level0 row16\" >16</th>\n",
       "      <td id=\"T_fc260_row16_col0\" class=\"data row16 col0\" >Encoding method</td>\n",
       "      <td id=\"T_fc260_row16_col1\" class=\"data row16 col1\" >None</td>\n",
       "    </tr>\n",
       "    <tr>\n",
       "      <th id=\"T_fc260_level0_row17\" class=\"row_heading level0 row17\" >17</th>\n",
       "      <td id=\"T_fc260_row17_col0\" class=\"data row17 col0\" >Fold Generator</td>\n",
       "      <td id=\"T_fc260_row17_col1\" class=\"data row17 col1\" >StratifiedKFold</td>\n",
       "    </tr>\n",
       "    <tr>\n",
       "      <th id=\"T_fc260_level0_row18\" class=\"row_heading level0 row18\" >18</th>\n",
       "      <td id=\"T_fc260_row18_col0\" class=\"data row18 col0\" >Fold Number</td>\n",
       "      <td id=\"T_fc260_row18_col1\" class=\"data row18 col1\" >10</td>\n",
       "    </tr>\n",
       "    <tr>\n",
       "      <th id=\"T_fc260_level0_row19\" class=\"row_heading level0 row19\" >19</th>\n",
       "      <td id=\"T_fc260_row19_col0\" class=\"data row19 col0\" >CPU Jobs</td>\n",
       "      <td id=\"T_fc260_row19_col1\" class=\"data row19 col1\" >-1</td>\n",
       "    </tr>\n",
       "    <tr>\n",
       "      <th id=\"T_fc260_level0_row20\" class=\"row_heading level0 row20\" >20</th>\n",
       "      <td id=\"T_fc260_row20_col0\" class=\"data row20 col0\" >Use GPU</td>\n",
       "      <td id=\"T_fc260_row20_col1\" class=\"data row20 col1\" >False</td>\n",
       "    </tr>\n",
       "    <tr>\n",
       "      <th id=\"T_fc260_level0_row21\" class=\"row_heading level0 row21\" >21</th>\n",
       "      <td id=\"T_fc260_row21_col0\" class=\"data row21 col0\" >Log Experiment</td>\n",
       "      <td id=\"T_fc260_row21_col1\" class=\"data row21 col1\" >False</td>\n",
       "    </tr>\n",
       "    <tr>\n",
       "      <th id=\"T_fc260_level0_row22\" class=\"row_heading level0 row22\" >22</th>\n",
       "      <td id=\"T_fc260_row22_col0\" class=\"data row22 col0\" >Experiment Name</td>\n",
       "      <td id=\"T_fc260_row22_col1\" class=\"data row22 col1\" >clf-default-name</td>\n",
       "    </tr>\n",
       "    <tr>\n",
       "      <th id=\"T_fc260_level0_row23\" class=\"row_heading level0 row23\" >23</th>\n",
       "      <td id=\"T_fc260_row23_col0\" class=\"data row23 col0\" >USI</td>\n",
       "      <td id=\"T_fc260_row23_col1\" class=\"data row23 col1\" >432c</td>\n",
       "    </tr>\n",
       "  </tbody>\n",
       "</table>\n"
      ],
      "text/plain": [
       "<pandas.io.formats.style.Styler at 0x7f07f66cda20>"
      ]
     },
     "metadata": {},
     "output_type": "display_data"
    }
   ],
   "source": [
    "classification_setup = pycaret.classification.setup(\n",
    "    data = train_data, target = model.common.target_homerun_recorded, train_size = .70, use_gpu = False, \n",
    "    categorical_features = ['game_venue'], ignore_features = model.common.ignore_features + ['batting_name', 'pitching_name'])"
   ]
  },
  {
   "cell_type": "markdown",
   "metadata": {
    "id": "Qxoqal-SvwXp"
   },
   "source": [
    "**Build/Train Model**"
   ]
  },
  {
   "cell_type": "code",
   "execution_count": 10,
   "metadata": {
    "execution": {
     "iopub.execute_input": "2023-07-02T03:51:23.724931Z",
     "iopub.status.busy": "2023-07-02T03:51:23.724779Z",
     "iopub.status.idle": "2023-07-02T03:51:23.769917Z",
     "shell.execute_reply": "2023-07-02T03:51:23.768879Z",
     "shell.execute_reply.started": "2023-07-02T03:51:23.724918Z"
    },
    "scrolled": true
   },
   "outputs": [
    {
     "data": {
      "text/plain": [
       "\u001b[0;31mSignature:\u001b[0m\n",
       "\u001b[0mclassification_setup\u001b[0m\u001b[0;34m.\u001b[0m\u001b[0mcreate_model\u001b[0m\u001b[0;34m(\u001b[0m\u001b[0;34m\u001b[0m\n",
       "\u001b[0;34m\u001b[0m    \u001b[0mestimator\u001b[0m\u001b[0;34m:\u001b[0m \u001b[0mUnion\u001b[0m\u001b[0;34m[\u001b[0m\u001b[0mstr\u001b[0m\u001b[0;34m,\u001b[0m \u001b[0mAny\u001b[0m\u001b[0;34m]\u001b[0m\u001b[0;34m,\u001b[0m\u001b[0;34m\u001b[0m\n",
       "\u001b[0;34m\u001b[0m    \u001b[0mfold\u001b[0m\u001b[0;34m:\u001b[0m \u001b[0mUnion\u001b[0m\u001b[0;34m[\u001b[0m\u001b[0mint\u001b[0m\u001b[0;34m,\u001b[0m \u001b[0mAny\u001b[0m\u001b[0;34m,\u001b[0m \u001b[0mNoneType\u001b[0m\u001b[0;34m]\u001b[0m \u001b[0;34m=\u001b[0m \u001b[0;32mNone\u001b[0m\u001b[0;34m,\u001b[0m\u001b[0;34m\u001b[0m\n",
       "\u001b[0;34m\u001b[0m    \u001b[0mround\u001b[0m\u001b[0;34m:\u001b[0m \u001b[0mint\u001b[0m \u001b[0;34m=\u001b[0m \u001b[0;36m4\u001b[0m\u001b[0;34m,\u001b[0m\u001b[0;34m\u001b[0m\n",
       "\u001b[0;34m\u001b[0m    \u001b[0mcross_validation\u001b[0m\u001b[0;34m:\u001b[0m \u001b[0mbool\u001b[0m \u001b[0;34m=\u001b[0m \u001b[0;32mTrue\u001b[0m\u001b[0;34m,\u001b[0m\u001b[0;34m\u001b[0m\n",
       "\u001b[0;34m\u001b[0m    \u001b[0mfit_kwargs\u001b[0m\u001b[0;34m:\u001b[0m \u001b[0mOptional\u001b[0m\u001b[0;34m[\u001b[0m\u001b[0mdict\u001b[0m\u001b[0;34m]\u001b[0m \u001b[0;34m=\u001b[0m \u001b[0;32mNone\u001b[0m\u001b[0;34m,\u001b[0m\u001b[0;34m\u001b[0m\n",
       "\u001b[0;34m\u001b[0m    \u001b[0mgroups\u001b[0m\u001b[0;34m:\u001b[0m \u001b[0mUnion\u001b[0m\u001b[0;34m[\u001b[0m\u001b[0mstr\u001b[0m\u001b[0;34m,\u001b[0m \u001b[0mAny\u001b[0m\u001b[0;34m,\u001b[0m \u001b[0mNoneType\u001b[0m\u001b[0;34m]\u001b[0m \u001b[0;34m=\u001b[0m \u001b[0;32mNone\u001b[0m\u001b[0;34m,\u001b[0m\u001b[0;34m\u001b[0m\n",
       "\u001b[0;34m\u001b[0m    \u001b[0mexperiment_custom_tags\u001b[0m\u001b[0;34m:\u001b[0m \u001b[0mOptional\u001b[0m\u001b[0;34m[\u001b[0m\u001b[0mDict\u001b[0m\u001b[0;34m[\u001b[0m\u001b[0mstr\u001b[0m\u001b[0;34m,\u001b[0m \u001b[0mAny\u001b[0m\u001b[0;34m]\u001b[0m\u001b[0;34m]\u001b[0m \u001b[0;34m=\u001b[0m \u001b[0;32mNone\u001b[0m\u001b[0;34m,\u001b[0m\u001b[0;34m\u001b[0m\n",
       "\u001b[0;34m\u001b[0m    \u001b[0mprobability_threshold\u001b[0m\u001b[0;34m:\u001b[0m \u001b[0mOptional\u001b[0m\u001b[0;34m[\u001b[0m\u001b[0mfloat\u001b[0m\u001b[0;34m]\u001b[0m \u001b[0;34m=\u001b[0m \u001b[0;32mNone\u001b[0m\u001b[0;34m,\u001b[0m\u001b[0;34m\u001b[0m\n",
       "\u001b[0;34m\u001b[0m    \u001b[0mengine\u001b[0m\u001b[0;34m:\u001b[0m \u001b[0mOptional\u001b[0m\u001b[0;34m[\u001b[0m\u001b[0mstr\u001b[0m\u001b[0;34m]\u001b[0m \u001b[0;34m=\u001b[0m \u001b[0;32mNone\u001b[0m\u001b[0;34m,\u001b[0m\u001b[0;34m\u001b[0m\n",
       "\u001b[0;34m\u001b[0m    \u001b[0mverbose\u001b[0m\u001b[0;34m:\u001b[0m \u001b[0mbool\u001b[0m \u001b[0;34m=\u001b[0m \u001b[0;32mTrue\u001b[0m\u001b[0;34m,\u001b[0m\u001b[0;34m\u001b[0m\n",
       "\u001b[0;34m\u001b[0m    \u001b[0mreturn_train_score\u001b[0m\u001b[0;34m:\u001b[0m \u001b[0mbool\u001b[0m \u001b[0;34m=\u001b[0m \u001b[0;32mFalse\u001b[0m\u001b[0;34m,\u001b[0m\u001b[0;34m\u001b[0m\n",
       "\u001b[0;34m\u001b[0m    \u001b[0;34m**\u001b[0m\u001b[0mkwargs\u001b[0m\u001b[0;34m,\u001b[0m\u001b[0;34m\u001b[0m\n",
       "\u001b[0;34m\u001b[0m\u001b[0;34m)\u001b[0m \u001b[0;34m->\u001b[0m \u001b[0mAny\u001b[0m\u001b[0;34m\u001b[0m\u001b[0;34m\u001b[0m\u001b[0m\n",
       "\u001b[0;31mDocstring:\u001b[0m\n",
       "This function trains and evaluates the performance of a given estimator\n",
       "using cross validation. The output of this function is a score grid with\n",
       "CV scores by fold. Metrics evaluated during CV can be accessed using the\n",
       "``get_metrics`` function. Custom metrics can be added or removed using\n",
       "``add_metric`` and ``remove_metric`` function. All the available models\n",
       "can be accessed using the ``models`` function.\n",
       "\n",
       "Example\n",
       "-------\n",
       ">>> from pycaret.datasets import get_data\n",
       ">>> juice = get_data('juice')\n",
       ">>> from pycaret.classification import *\n",
       ">>> exp_name = setup(data = juice,  target = 'Purchase')\n",
       ">>> lr = create_model('lr')\n",
       "\n",
       "\n",
       "estimator: str or scikit-learn compatible object\n",
       "    ID of an estimator available in model library or pass an untrained\n",
       "    model object consistent with scikit-learn API. Estimators available\n",
       "    in the model library (ID - Name):\n",
       "\n",
       "    * 'lr' - Logistic Regression\n",
       "    * 'knn' - K Neighbors Classifier\n",
       "    * 'nb' - Naive Bayes\n",
       "    * 'dt' - Decision Tree Classifier\n",
       "    * 'svm' - SVM - Linear Kernel\n",
       "    * 'rbfsvm' - SVM - Radial Kernel\n",
       "    * 'gpc' - Gaussian Process Classifier\n",
       "    * 'mlp' - MLP Classifier\n",
       "    * 'ridge' - Ridge Classifier\n",
       "    * 'rf' - Random Forest Classifier\n",
       "    * 'qda' - Quadratic Discriminant Analysis\n",
       "    * 'ada' - Ada Boost Classifier\n",
       "    * 'gbc' - Gradient Boosting Classifier\n",
       "    * 'lda' - Linear Discriminant Analysis\n",
       "    * 'et' - Extra Trees Classifier\n",
       "    * 'xgboost' - Extreme Gradient Boosting\n",
       "    * 'lightgbm' - Light Gradient Boosting Machine\n",
       "    * 'catboost' - CatBoost Classifier\n",
       "\n",
       "\n",
       "fold: int or scikit-learn compatible CV generator, default = None\n",
       "    Controls cross-validation. If None, the CV generator in the ``fold_strategy``\n",
       "    parameter of the ``setup`` function is used. When an integer is passed,\n",
       "    it is interpreted as the 'n_splits' parameter of the CV generator in the\n",
       "    ``setup`` function.\n",
       "\n",
       "\n",
       "round: int, default = 4\n",
       "    Number of decimal places the metrics in the score grid will be rounded to.\n",
       "\n",
       "\n",
       "cross_validation: bool, default = True\n",
       "    When set to False, metrics are evaluated on holdout set. ``fold`` param\n",
       "    is ignored when cross_validation is set to False.\n",
       "\n",
       "\n",
       "fit_kwargs: dict, default = {} (empty dict)\n",
       "    Dictionary of arguments passed to the fit method of the model.\n",
       "\n",
       "\n",
       "groups: str or array-like, with shape (n_samples,), default = None\n",
       "    Optional group labels when GroupKFold is used for the cross validation.\n",
       "    It takes an array with shape (n_samples, ) where n_samples is the number\n",
       "    of rows in training dataset. When string is passed, it is interpreted as\n",
       "    the column name in the dataset containing group labels.\n",
       "\n",
       "\n",
       "probability_threshold: float, default = None\n",
       "    Threshold for converting predicted probability to class label.\n",
       "    It defaults to 0.5 for all classifiers unless explicitly defined\n",
       "    in this parameter. Only applicable for binary classification.\n",
       "\n",
       "\n",
       "experiment_custom_tags: dict, default = None\n",
       "    Dictionary of tag_name: String -> value: (String, but will be string-ified\n",
       "    if not) passed to the mlflow.set_tags to add new custom tags for the experiment.\n",
       "\n",
       "\n",
       "engine: Optional[str] = None\n",
       "    The execution engine to use for the model, e.g. for Logistic Regression (\"lr\"), users can\n",
       "    switch between \"sklearn\" and \"sklearnex\" by specifying\n",
       "    `engine=\"sklearnex\"`.\n",
       "\n",
       "\n",
       "verbose: bool, default = True\n",
       "    Score grid is not printed when verbose is set to False.\n",
       "\n",
       "\n",
       "return_train_score: bool, default = False\n",
       "    If False, returns the CV Validation scores only.\n",
       "    If True, returns the CV training scores along with the CV validation scores.\n",
       "    This is useful when the user wants to do bias-variance tradeoff. A high CV\n",
       "    training score with a low corresponding CV validation score indicates overfitting.\n",
       "\n",
       "\n",
       "**kwargs:\n",
       "    Additional keyword arguments to pass to the estimator.\n",
       "\n",
       "\n",
       "Returns:\n",
       "    Trained Model\n",
       "\n",
       "\n",
       "Warnings\n",
       "--------\n",
       "- AUC for estimators that does not support 'predict_proba' is shown as 0.0000.\n",
       "\n",
       "- Models are not logged on the ``MLFlow`` server when ``cross_validation`` param\n",
       "is set to False.\n",
       "\u001b[0;31mFile:\u001b[0m      ~/venvs/finance/lib/python3.10/site-packages/pycaret/classification/oop.py\n",
       "\u001b[0;31mType:\u001b[0m      method"
      ]
     },
     "metadata": {},
     "output_type": "display_data"
    }
   ],
   "source": [
    "classification_setup.create_model?"
   ]
  },
  {
   "cell_type": "code",
   "execution_count": 11,
   "metadata": {
    "execution": {
     "iopub.execute_input": "2023-07-02T03:51:28.612816Z",
     "iopub.status.busy": "2023-07-02T03:51:28.611588Z",
     "iopub.status.idle": "2023-07-02T03:54:15.667454Z",
     "shell.execute_reply": "2023-07-02T03:54:15.664922Z",
     "shell.execute_reply.started": "2023-07-02T03:51:28.612773Z"
    }
   },
   "outputs": [
    {
     "data": {
      "text/html": [],
      "text/plain": [
       "<IPython.core.display.HTML object>"
      ]
     },
     "metadata": {},
     "output_type": "display_data"
    },
    {
     "data": {
      "text/html": [
       "<style type=\"text/css\">\n",
       "#T_a7822_row10_col0, #T_a7822_row10_col1, #T_a7822_row10_col2, #T_a7822_row10_col3, #T_a7822_row10_col4, #T_a7822_row10_col5, #T_a7822_row10_col6 {\n",
       "  background: yellow;\n",
       "}\n",
       "</style>\n",
       "<table id=\"T_a7822\">\n",
       "  <thead>\n",
       "    <tr>\n",
       "      <th class=\"blank level0\" >&nbsp;</th>\n",
       "      <th id=\"T_a7822_level0_col0\" class=\"col_heading level0 col0\" >Accuracy</th>\n",
       "      <th id=\"T_a7822_level0_col1\" class=\"col_heading level0 col1\" >AUC</th>\n",
       "      <th id=\"T_a7822_level0_col2\" class=\"col_heading level0 col2\" >Recall</th>\n",
       "      <th id=\"T_a7822_level0_col3\" class=\"col_heading level0 col3\" >Prec.</th>\n",
       "      <th id=\"T_a7822_level0_col4\" class=\"col_heading level0 col4\" >F1</th>\n",
       "      <th id=\"T_a7822_level0_col5\" class=\"col_heading level0 col5\" >Kappa</th>\n",
       "      <th id=\"T_a7822_level0_col6\" class=\"col_heading level0 col6\" >MCC</th>\n",
       "    </tr>\n",
       "    <tr>\n",
       "      <th class=\"index_name level0\" >Fold</th>\n",
       "      <th class=\"blank col0\" >&nbsp;</th>\n",
       "      <th class=\"blank col1\" >&nbsp;</th>\n",
       "      <th class=\"blank col2\" >&nbsp;</th>\n",
       "      <th class=\"blank col3\" >&nbsp;</th>\n",
       "      <th class=\"blank col4\" >&nbsp;</th>\n",
       "      <th class=\"blank col5\" >&nbsp;</th>\n",
       "      <th class=\"blank col6\" >&nbsp;</th>\n",
       "    </tr>\n",
       "  </thead>\n",
       "  <tbody>\n",
       "    <tr>\n",
       "      <th id=\"T_a7822_level0_row0\" class=\"row_heading level0 row0\" >0</th>\n",
       "      <td id=\"T_a7822_row0_col0\" class=\"data row0 col0\" >0.8925</td>\n",
       "      <td id=\"T_a7822_row0_col1\" class=\"data row0 col1\" >0.6210</td>\n",
       "      <td id=\"T_a7822_row0_col2\" class=\"data row0 col2\" >0.0028</td>\n",
       "      <td id=\"T_a7822_row0_col3\" class=\"data row0 col3\" >0.2727</td>\n",
       "      <td id=\"T_a7822_row0_col4\" class=\"data row0 col4\" >0.0056</td>\n",
       "      <td id=\"T_a7822_row0_col5\" class=\"data row0 col5\" >0.0034</td>\n",
       "      <td id=\"T_a7822_row0_col6\" class=\"data row0 col6\" >0.0178</td>\n",
       "    </tr>\n",
       "    <tr>\n",
       "      <th id=\"T_a7822_level0_row1\" class=\"row_heading level0 row1\" >1</th>\n",
       "      <td id=\"T_a7822_row1_col0\" class=\"data row1 col0\" >0.8919</td>\n",
       "      <td id=\"T_a7822_row1_col1\" class=\"data row1 col1\" >0.6277</td>\n",
       "      <td id=\"T_a7822_row1_col2\" class=\"data row1 col2\" >0.0028</td>\n",
       "      <td id=\"T_a7822_row1_col3\" class=\"data row1 col3\" >0.1818</td>\n",
       "      <td id=\"T_a7822_row1_col4\" class=\"data row1 col4\" >0.0055</td>\n",
       "      <td id=\"T_a7822_row1_col5\" class=\"data row1 col5\" >0.0023</td>\n",
       "      <td id=\"T_a7822_row1_col6\" class=\"data row1 col6\" >0.0098</td>\n",
       "    </tr>\n",
       "    <tr>\n",
       "      <th id=\"T_a7822_level0_row2\" class=\"row_heading level0 row2\" >2</th>\n",
       "      <td id=\"T_a7822_row2_col0\" class=\"data row2 col0\" >0.8923</td>\n",
       "      <td id=\"T_a7822_row2_col1\" class=\"data row2 col1\" >0.6218</td>\n",
       "      <td id=\"T_a7822_row2_col2\" class=\"data row2 col2\" >0.0037</td>\n",
       "      <td id=\"T_a7822_row2_col3\" class=\"data row2 col3\" >0.2759</td>\n",
       "      <td id=\"T_a7822_row2_col4\" class=\"data row2 col4\" >0.0074</td>\n",
       "      <td id=\"T_a7822_row2_col5\" class=\"data row2 col5\" >0.0045</td>\n",
       "      <td id=\"T_a7822_row2_col6\" class=\"data row2 col6\" >0.0208</td>\n",
       "    </tr>\n",
       "    <tr>\n",
       "      <th id=\"T_a7822_level0_row3\" class=\"row_heading level0 row3\" >3</th>\n",
       "      <td id=\"T_a7822_row3_col0\" class=\"data row3 col0\" >0.8927</td>\n",
       "      <td id=\"T_a7822_row3_col1\" class=\"data row3 col1\" >0.6259</td>\n",
       "      <td id=\"T_a7822_row3_col2\" class=\"data row3 col2\" >0.0028</td>\n",
       "      <td id=\"T_a7822_row3_col3\" class=\"data row3 col3\" >0.3158</td>\n",
       "      <td id=\"T_a7822_row3_col4\" class=\"data row3 col4\" >0.0056</td>\n",
       "      <td id=\"T_a7822_row3_col5\" class=\"data row3 col5\" >0.0037</td>\n",
       "      <td id=\"T_a7822_row3_col6\" class=\"data row3 col6\" >0.0209</td>\n",
       "    </tr>\n",
       "    <tr>\n",
       "      <th id=\"T_a7822_level0_row4\" class=\"row_heading level0 row4\" >4</th>\n",
       "      <td id=\"T_a7822_row4_col0\" class=\"data row4 col0\" >0.8922</td>\n",
       "      <td id=\"T_a7822_row4_col1\" class=\"data row4 col1\" >0.6241</td>\n",
       "      <td id=\"T_a7822_row4_col2\" class=\"data row4 col2\" >0.0028</td>\n",
       "      <td id=\"T_a7822_row4_col3\" class=\"data row4 col3\" >0.2143</td>\n",
       "      <td id=\"T_a7822_row4_col4\" class=\"data row4 col4\" >0.0055</td>\n",
       "      <td id=\"T_a7822_row4_col5\" class=\"data row4 col5\" >0.0028</td>\n",
       "      <td id=\"T_a7822_row4_col6\" class=\"data row4 col6\" >0.0130</td>\n",
       "    </tr>\n",
       "    <tr>\n",
       "      <th id=\"T_a7822_level0_row5\" class=\"row_heading level0 row5\" >5</th>\n",
       "      <td id=\"T_a7822_row5_col0\" class=\"data row5 col0\" >0.8923</td>\n",
       "      <td id=\"T_a7822_row5_col1\" class=\"data row5 col1\" >0.6172</td>\n",
       "      <td id=\"T_a7822_row5_col2\" class=\"data row5 col2\" >0.0033</td>\n",
       "      <td id=\"T_a7822_row5_col3\" class=\"data row5 col3\" >0.2414</td>\n",
       "      <td id=\"T_a7822_row5_col4\" class=\"data row5 col4\" >0.0065</td>\n",
       "      <td id=\"T_a7822_row5_col5\" class=\"data row5 col5\" >0.0036</td>\n",
       "      <td id=\"T_a7822_row5_col6\" class=\"data row5 col6\" >0.0166</td>\n",
       "    </tr>\n",
       "    <tr>\n",
       "      <th id=\"T_a7822_level0_row6\" class=\"row_heading level0 row6\" >6</th>\n",
       "      <td id=\"T_a7822_row6_col0\" class=\"data row6 col0\" >0.8921</td>\n",
       "      <td id=\"T_a7822_row6_col1\" class=\"data row6 col1\" >0.6257</td>\n",
       "      <td id=\"T_a7822_row6_col2\" class=\"data row6 col2\" >0.0019</td>\n",
       "      <td id=\"T_a7822_row6_col3\" class=\"data row6 col3\" >0.1538</td>\n",
       "      <td id=\"T_a7822_row6_col4\" class=\"data row6 col4\" >0.0037</td>\n",
       "      <td id=\"T_a7822_row6_col5\" class=\"data row6 col5\" >0.0011</td>\n",
       "      <td id=\"T_a7822_row6_col6\" class=\"data row6 col6\" >0.0055</td>\n",
       "    </tr>\n",
       "    <tr>\n",
       "      <th id=\"T_a7822_level0_row7\" class=\"row_heading level0 row7\" >7</th>\n",
       "      <td id=\"T_a7822_row7_col0\" class=\"data row7 col0\" >0.8923</td>\n",
       "      <td id=\"T_a7822_row7_col1\" class=\"data row7 col1\" >0.6209</td>\n",
       "      <td id=\"T_a7822_row7_col2\" class=\"data row7 col2\" >0.0023</td>\n",
       "      <td id=\"T_a7822_row7_col3\" class=\"data row7 col3\" >0.2083</td>\n",
       "      <td id=\"T_a7822_row7_col4\" class=\"data row7 col4\" >0.0046</td>\n",
       "      <td id=\"T_a7822_row7_col5\" class=\"data row7 col5\" >0.0023</td>\n",
       "      <td id=\"T_a7822_row7_col6\" class=\"data row7 col6\" >0.0114</td>\n",
       "    </tr>\n",
       "    <tr>\n",
       "      <th id=\"T_a7822_level0_row8\" class=\"row_heading level0 row8\" >8</th>\n",
       "      <td id=\"T_a7822_row8_col0\" class=\"data row8 col0\" >0.8923</td>\n",
       "      <td id=\"T_a7822_row8_col1\" class=\"data row8 col1\" >0.6178</td>\n",
       "      <td id=\"T_a7822_row8_col2\" class=\"data row8 col2\" >0.0037</td>\n",
       "      <td id=\"T_a7822_row8_col3\" class=\"data row8 col3\" >0.2759</td>\n",
       "      <td id=\"T_a7822_row8_col4\" class=\"data row8 col4\" >0.0074</td>\n",
       "      <td id=\"T_a7822_row8_col5\" class=\"data row8 col5\" >0.0045</td>\n",
       "      <td id=\"T_a7822_row8_col6\" class=\"data row8 col6\" >0.0208</td>\n",
       "    </tr>\n",
       "    <tr>\n",
       "      <th id=\"T_a7822_level0_row9\" class=\"row_heading level0 row9\" >9</th>\n",
       "      <td id=\"T_a7822_row9_col0\" class=\"data row9 col0\" >0.8920</td>\n",
       "      <td id=\"T_a7822_row9_col1\" class=\"data row9 col1\" >0.6280</td>\n",
       "      <td id=\"T_a7822_row9_col2\" class=\"data row9 col2\" >0.0009</td>\n",
       "      <td id=\"T_a7822_row9_col3\" class=\"data row9 col3\" >0.0870</td>\n",
       "      <td id=\"T_a7822_row9_col4\" class=\"data row9 col4\" >0.0019</td>\n",
       "      <td id=\"T_a7822_row9_col5\" class=\"data row9 col5\" >-0.0004</td>\n",
       "      <td id=\"T_a7822_row9_col6\" class=\"data row9 col6\" >-0.0022</td>\n",
       "    </tr>\n",
       "    <tr>\n",
       "      <th id=\"T_a7822_level0_row10\" class=\"row_heading level0 row10\" >Mean</th>\n",
       "      <td id=\"T_a7822_row10_col0\" class=\"data row10 col0\" >0.8922</td>\n",
       "      <td id=\"T_a7822_row10_col1\" class=\"data row10 col1\" >0.6230</td>\n",
       "      <td id=\"T_a7822_row10_col2\" class=\"data row10 col2\" >0.0027</td>\n",
       "      <td id=\"T_a7822_row10_col3\" class=\"data row10 col3\" >0.2227</td>\n",
       "      <td id=\"T_a7822_row10_col4\" class=\"data row10 col4\" >0.0054</td>\n",
       "      <td id=\"T_a7822_row10_col5\" class=\"data row10 col5\" >0.0028</td>\n",
       "      <td id=\"T_a7822_row10_col6\" class=\"data row10 col6\" >0.0134</td>\n",
       "    </tr>\n",
       "    <tr>\n",
       "      <th id=\"T_a7822_level0_row11\" class=\"row_heading level0 row11\" >Std</th>\n",
       "      <td id=\"T_a7822_row11_col0\" class=\"data row11 col0\" >0.0002</td>\n",
       "      <td id=\"T_a7822_row11_col1\" class=\"data row11 col1\" >0.0037</td>\n",
       "      <td id=\"T_a7822_row11_col2\" class=\"data row11 col2\" >0.0008</td>\n",
       "      <td id=\"T_a7822_row11_col3\" class=\"data row11 col3\" >0.0650</td>\n",
       "      <td id=\"T_a7822_row11_col4\" class=\"data row11 col4\" >0.0016</td>\n",
       "      <td id=\"T_a7822_row11_col5\" class=\"data row11 col5\" >0.0015</td>\n",
       "      <td id=\"T_a7822_row11_col6\" class=\"data row11 col6\" >0.0072</td>\n",
       "    </tr>\n",
       "  </tbody>\n",
       "</table>\n"
      ],
      "text/plain": [
       "<pandas.io.formats.style.Styler at 0x7efd96074160>"
      ]
     },
     "metadata": {},
     "output_type": "display_data"
    },
    {
     "data": {
      "text/html": [],
      "text/plain": [
       "<IPython.core.display.HTML object>"
      ]
     },
     "metadata": {},
     "output_type": "display_data"
    }
   ],
   "source": [
    "regression_model_rf = classification_setup.create_model(\"rf\", probability_threshold = 0.50)"
   ]
  },
  {
   "cell_type": "code",
   "execution_count": 12,
   "metadata": {
    "execution": {
     "iopub.execute_input": "2023-07-02T03:54:15.675435Z",
     "iopub.status.busy": "2023-07-02T03:54:15.673243Z",
     "iopub.status.idle": "2023-07-02T03:54:21.062771Z",
     "shell.execute_reply": "2023-07-02T03:54:21.060694Z",
     "shell.execute_reply.started": "2023-07-02T03:54:15.675100Z"
    }
   },
   "outputs": [
    {
     "data": {
      "text/html": [],
      "text/plain": [
       "<IPython.core.display.HTML object>"
      ]
     },
     "metadata": {},
     "output_type": "display_data"
    },
    {
     "data": {
      "image/png": "[encoded data removed]",
      "text/plain": [
       "<Figure size 800x550 with 1 Axes>"
      ]
     },
     "metadata": {},
     "output_type": "display_data"
    }
   ],
   "source": [
    "plot_model(regression_model_rf, plot = 'auc')"
   ]
  },
  {
   "cell_type": "code",
   "execution_count": 13,
   "metadata": {
    "execution": {
     "iopub.execute_input": "2023-07-02T03:54:21.064834Z",
     "iopub.status.busy": "2023-07-02T03:54:21.064328Z",
     "iopub.status.idle": "2023-07-02T03:59:06.191699Z",
     "shell.execute_reply": "2023-07-02T03:59:06.189954Z",
     "shell.execute_reply.started": "2023-07-02T03:54:21.064790Z"
    }
   },
   "outputs": [
    {
     "data": {
      "text/html": [],
      "text/plain": [
       "<IPython.core.display.HTML object>"
      ]
     },
     "metadata": {},
     "output_type": "display_data"
    },
    {
     "data": {
      "text/html": [
       "<style type=\"text/css\">\n",
       "#T_72e89_row10_col0, #T_72e89_row10_col1, #T_72e89_row10_col2, #T_72e89_row10_col3, #T_72e89_row10_col4, #T_72e89_row10_col5, #T_72e89_row10_col6 {\n",
       "  background: yellow;\n",
       "}\n",
       "</style>\n",
       "<table id=\"T_72e89\">\n",
       "  <thead>\n",
       "    <tr>\n",
       "      <th class=\"blank level0\" >&nbsp;</th>\n",
       "      <th id=\"T_72e89_level0_col0\" class=\"col_heading level0 col0\" >Accuracy</th>\n",
       "      <th id=\"T_72e89_level0_col1\" class=\"col_heading level0 col1\" >AUC</th>\n",
       "      <th id=\"T_72e89_level0_col2\" class=\"col_heading level0 col2\" >Recall</th>\n",
       "      <th id=\"T_72e89_level0_col3\" class=\"col_heading level0 col3\" >Prec.</th>\n",
       "      <th id=\"T_72e89_level0_col4\" class=\"col_heading level0 col4\" >F1</th>\n",
       "      <th id=\"T_72e89_level0_col5\" class=\"col_heading level0 col5\" >Kappa</th>\n",
       "      <th id=\"T_72e89_level0_col6\" class=\"col_heading level0 col6\" >MCC</th>\n",
       "    </tr>\n",
       "    <tr>\n",
       "      <th class=\"index_name level0\" >Fold</th>\n",
       "      <th class=\"blank col0\" >&nbsp;</th>\n",
       "      <th class=\"blank col1\" >&nbsp;</th>\n",
       "      <th class=\"blank col2\" >&nbsp;</th>\n",
       "      <th class=\"blank col3\" >&nbsp;</th>\n",
       "      <th class=\"blank col4\" >&nbsp;</th>\n",
       "      <th class=\"blank col5\" >&nbsp;</th>\n",
       "      <th class=\"blank col6\" >&nbsp;</th>\n",
       "    </tr>\n",
       "  </thead>\n",
       "  <tbody>\n",
       "    <tr>\n",
       "      <th id=\"T_72e89_level0_row0\" class=\"row_heading level0 row0\" >0</th>\n",
       "      <td id=\"T_72e89_row0_col0\" class=\"data row0 col0\" >0.8930</td>\n",
       "      <td id=\"T_72e89_row0_col1\" class=\"data row0 col1\" >0.6534</td>\n",
       "      <td id=\"T_72e89_row0_col2\" class=\"data row0 col2\" >0.0009</td>\n",
       "      <td id=\"T_72e89_row0_col3\" class=\"data row0 col3\" >0.5000</td>\n",
       "      <td id=\"T_72e89_row0_col4\" class=\"data row0 col4\" >0.0019</td>\n",
       "      <td id=\"T_72e89_row0_col5\" class=\"data row0 col5\" >0.0015</td>\n",
       "      <td id=\"T_72e89_row0_col6\" class=\"data row0 col6\" >0.0180</td>\n",
       "    </tr>\n",
       "    <tr>\n",
       "      <th id=\"T_72e89_level0_row1\" class=\"row_heading level0 row1\" >1</th>\n",
       "      <td id=\"T_72e89_row1_col0\" class=\"data row1 col0\" >0.8930</td>\n",
       "      <td id=\"T_72e89_row1_col1\" class=\"data row1 col1\" >0.6590</td>\n",
       "      <td id=\"T_72e89_row1_col2\" class=\"data row1 col2\" >0.0005</td>\n",
       "      <td id=\"T_72e89_row1_col3\" class=\"data row1 col3\" >1.0000</td>\n",
       "      <td id=\"T_72e89_row1_col4\" class=\"data row1 col4\" >0.0009</td>\n",
       "      <td id=\"T_72e89_row1_col5\" class=\"data row1 col5\" >0.0008</td>\n",
       "      <td id=\"T_72e89_row1_col6\" class=\"data row1 col6\" >0.0204</td>\n",
       "    </tr>\n",
       "    <tr>\n",
       "      <th id=\"T_72e89_level0_row2\" class=\"row_heading level0 row2\" >2</th>\n",
       "      <td id=\"T_72e89_row2_col0\" class=\"data row2 col0\" >0.8931</td>\n",
       "      <td id=\"T_72e89_row2_col1\" class=\"data row2 col1\" >0.6543</td>\n",
       "      <td id=\"T_72e89_row2_col2\" class=\"data row2 col2\" >0.0009</td>\n",
       "      <td id=\"T_72e89_row2_col3\" class=\"data row2 col3\" >1.0000</td>\n",
       "      <td id=\"T_72e89_row2_col4\" class=\"data row2 col4\" >0.0019</td>\n",
       "      <td id=\"T_72e89_row2_col5\" class=\"data row2 col5\" >0.0017</td>\n",
       "      <td id=\"T_72e89_row2_col6\" class=\"data row2 col6\" >0.0289</td>\n",
       "    </tr>\n",
       "    <tr>\n",
       "      <th id=\"T_72e89_level0_row3\" class=\"row_heading level0 row3\" >3</th>\n",
       "      <td id=\"T_72e89_row3_col0\" class=\"data row3 col0\" >0.8929</td>\n",
       "      <td id=\"T_72e89_row3_col1\" class=\"data row3 col1\" >0.6574</td>\n",
       "      <td id=\"T_72e89_row3_col2\" class=\"data row3 col2\" >0.0000</td>\n",
       "      <td id=\"T_72e89_row3_col3\" class=\"data row3 col3\" >0.0000</td>\n",
       "      <td id=\"T_72e89_row3_col4\" class=\"data row3 col4\" >0.0000</td>\n",
       "      <td id=\"T_72e89_row3_col5\" class=\"data row3 col5\" >-0.0003</td>\n",
       "      <td id=\"T_72e89_row3_col6\" class=\"data row3 col6\" >-0.0042</td>\n",
       "    </tr>\n",
       "    <tr>\n",
       "      <th id=\"T_72e89_level0_row4\" class=\"row_heading level0 row4\" >4</th>\n",
       "      <td id=\"T_72e89_row4_col0\" class=\"data row4 col0\" >0.8931</td>\n",
       "      <td id=\"T_72e89_row4_col1\" class=\"data row4 col1\" >0.6577</td>\n",
       "      <td id=\"T_72e89_row4_col2\" class=\"data row4 col2\" >0.0005</td>\n",
       "      <td id=\"T_72e89_row4_col3\" class=\"data row4 col3\" >1.0000</td>\n",
       "      <td id=\"T_72e89_row4_col4\" class=\"data row4 col4\" >0.0009</td>\n",
       "      <td id=\"T_72e89_row4_col5\" class=\"data row4 col5\" >0.0008</td>\n",
       "      <td id=\"T_72e89_row4_col6\" class=\"data row4 col6\" >0.0205</td>\n",
       "    </tr>\n",
       "    <tr>\n",
       "      <th id=\"T_72e89_level0_row5\" class=\"row_heading level0 row5\" >5</th>\n",
       "      <td id=\"T_72e89_row5_col0\" class=\"data row5 col0\" >0.8931</td>\n",
       "      <td id=\"T_72e89_row5_col1\" class=\"data row5 col1\" >0.6433</td>\n",
       "      <td id=\"T_72e89_row5_col2\" class=\"data row5 col2\" >0.0009</td>\n",
       "      <td id=\"T_72e89_row5_col3\" class=\"data row5 col3\" >1.0000</td>\n",
       "      <td id=\"T_72e89_row5_col4\" class=\"data row5 col4\" >0.0019</td>\n",
       "      <td id=\"T_72e89_row5_col5\" class=\"data row5 col5\" >0.0017</td>\n",
       "      <td id=\"T_72e89_row5_col6\" class=\"data row5 col6\" >0.0289</td>\n",
       "    </tr>\n",
       "    <tr>\n",
       "      <th id=\"T_72e89_level0_row6\" class=\"row_heading level0 row6\" >6</th>\n",
       "      <td id=\"T_72e89_row6_col0\" class=\"data row6 col0\" >0.8930</td>\n",
       "      <td id=\"T_72e89_row6_col1\" class=\"data row6 col1\" >0.6522</td>\n",
       "      <td id=\"T_72e89_row6_col2\" class=\"data row6 col2\" >0.0005</td>\n",
       "      <td id=\"T_72e89_row6_col3\" class=\"data row6 col3\" >0.5000</td>\n",
       "      <td id=\"T_72e89_row6_col4\" class=\"data row6 col4\" >0.0009</td>\n",
       "      <td id=\"T_72e89_row6_col5\" class=\"data row6 col5\" >0.0007</td>\n",
       "      <td id=\"T_72e89_row6_col6\" class=\"data row6 col6\" >0.0127</td>\n",
       "    </tr>\n",
       "    <tr>\n",
       "      <th id=\"T_72e89_level0_row7\" class=\"row_heading level0 row7\" >7</th>\n",
       "      <td id=\"T_72e89_row7_col0\" class=\"data row7 col0\" >0.8929</td>\n",
       "      <td id=\"T_72e89_row7_col1\" class=\"data row7 col1\" >0.6579</td>\n",
       "      <td id=\"T_72e89_row7_col2\" class=\"data row7 col2\" >0.0000</td>\n",
       "      <td id=\"T_72e89_row7_col3\" class=\"data row7 col3\" >0.0000</td>\n",
       "      <td id=\"T_72e89_row7_col4\" class=\"data row7 col4\" >0.0000</td>\n",
       "      <td id=\"T_72e89_row7_col5\" class=\"data row7 col5\" >-0.0001</td>\n",
       "      <td id=\"T_72e89_row7_col6\" class=\"data row7 col6\" >-0.0025</td>\n",
       "    </tr>\n",
       "    <tr>\n",
       "      <th id=\"T_72e89_level0_row8\" class=\"row_heading level0 row8\" >8</th>\n",
       "      <td id=\"T_72e89_row8_col0\" class=\"data row8 col0\" >0.8930</td>\n",
       "      <td id=\"T_72e89_row8_col1\" class=\"data row8 col1\" >0.6478</td>\n",
       "      <td id=\"T_72e89_row8_col2\" class=\"data row8 col2\" >0.0005</td>\n",
       "      <td id=\"T_72e89_row8_col3\" class=\"data row8 col3\" >0.5000</td>\n",
       "      <td id=\"T_72e89_row8_col4\" class=\"data row8 col4\" >0.0009</td>\n",
       "      <td id=\"T_72e89_row8_col5\" class=\"data row8 col5\" >0.0007</td>\n",
       "      <td id=\"T_72e89_row8_col6\" class=\"data row8 col6\" >0.0127</td>\n",
       "    </tr>\n",
       "    <tr>\n",
       "      <th id=\"T_72e89_level0_row9\" class=\"row_heading level0 row9\" >9</th>\n",
       "      <td id=\"T_72e89_row9_col0\" class=\"data row9 col0\" >0.8931</td>\n",
       "      <td id=\"T_72e89_row9_col1\" class=\"data row9 col1\" >0.6585</td>\n",
       "      <td id=\"T_72e89_row9_col2\" class=\"data row9 col2\" >0.0009</td>\n",
       "      <td id=\"T_72e89_row9_col3\" class=\"data row9 col3\" >1.0000</td>\n",
       "      <td id=\"T_72e89_row9_col4\" class=\"data row9 col4\" >0.0019</td>\n",
       "      <td id=\"T_72e89_row9_col5\" class=\"data row9 col5\" >0.0017</td>\n",
       "      <td id=\"T_72e89_row9_col6\" class=\"data row9 col6\" >0.0289</td>\n",
       "    </tr>\n",
       "    <tr>\n",
       "      <th id=\"T_72e89_level0_row10\" class=\"row_heading level0 row10\" >Mean</th>\n",
       "      <td id=\"T_72e89_row10_col0\" class=\"data row10 col0\" >0.8930</td>\n",
       "      <td id=\"T_72e89_row10_col1\" class=\"data row10 col1\" >0.6541</td>\n",
       "      <td id=\"T_72e89_row10_col2\" class=\"data row10 col2\" >0.0006</td>\n",
       "      <td id=\"T_72e89_row10_col3\" class=\"data row10 col3\" >0.6500</td>\n",
       "      <td id=\"T_72e89_row10_col4\" class=\"data row10 col4\" >0.0011</td>\n",
       "      <td id=\"T_72e89_row10_col5\" class=\"data row10 col5\" >0.0009</td>\n",
       "      <td id=\"T_72e89_row10_col6\" class=\"data row10 col6\" >0.0164</td>\n",
       "    </tr>\n",
       "    <tr>\n",
       "      <th id=\"T_72e89_level0_row11\" class=\"row_heading level0 row11\" >Std</th>\n",
       "      <td id=\"T_72e89_row11_col0\" class=\"data row11 col0\" >0.0001</td>\n",
       "      <td id=\"T_72e89_row11_col1\" class=\"data row11 col1\" >0.0049</td>\n",
       "      <td id=\"T_72e89_row11_col2\" class=\"data row11 col2\" >0.0004</td>\n",
       "      <td id=\"T_72e89_row11_col3\" class=\"data row11 col3\" >0.3905</td>\n",
       "      <td id=\"T_72e89_row11_col4\" class=\"data row11 col4\" >0.0007</td>\n",
       "      <td id=\"T_72e89_row11_col5\" class=\"data row11 col5\" >0.0007</td>\n",
       "      <td id=\"T_72e89_row11_col6\" class=\"data row11 col6\" >0.0115</td>\n",
       "    </tr>\n",
       "  </tbody>\n",
       "</table>\n"
      ],
      "text/plain": [
       "<pandas.io.formats.style.Styler at 0x7efd9626e9e0>"
      ]
     },
     "metadata": {},
     "output_type": "display_data"
    },
    {
     "data": {
      "text/html": [],
      "text/plain": [
       "<IPython.core.display.HTML object>"
      ]
     },
     "metadata": {},
     "output_type": "display_data"
    }
   ],
   "source": [
    "regression_model_gbc = classification_setup.create_model(\"gbc\", probability_threshold = 0.50)"
   ]
  },
  {
   "cell_type": "code",
   "execution_count": 14,
   "metadata": {
    "execution": {
     "iopub.execute_input": "2023-07-02T03:59:06.199278Z",
     "iopub.status.busy": "2023-07-02T03:59:06.197279Z",
     "iopub.status.idle": "2023-07-02T03:59:08.920387Z",
     "shell.execute_reply": "2023-07-02T03:59:08.919533Z",
     "shell.execute_reply.started": "2023-07-02T03:59:06.199143Z"
    }
   },
   "outputs": [
    {
     "data": {
      "text/html": [],
      "text/plain": [
       "<IPython.core.display.HTML object>"
      ]
     },
     "metadata": {},
     "output_type": "display_data"
    },
    {
     "data": {
      "image/png": "[encoded data removed]",
      "text/plain": [
       "<Figure size 800x550 with 1 Axes>"
      ]
     },
     "metadata": {},
     "output_type": "display_data"
    }
   ],
   "source": [
    "plot_model(regression_model_gbc, plot = 'auc')"
   ]
  },
  {
   "cell_type": "code",
   "execution_count": 15,
   "metadata": {
    "execution": {
     "iopub.execute_input": "2023-07-02T03:59:08.922769Z",
     "iopub.status.busy": "2023-07-02T03:59:08.921795Z",
     "iopub.status.idle": "2023-07-02T04:05:32.718485Z",
     "shell.execute_reply": "2023-07-02T04:05:32.717621Z",
     "shell.execute_reply.started": "2023-07-02T03:59:08.922712Z"
    }
   },
   "outputs": [
    {
     "data": {
      "text/html": [],
      "text/plain": [
       "<IPython.core.display.HTML object>"
      ]
     },
     "metadata": {},
     "output_type": "display_data"
    },
    {
     "data": {
      "text/html": [
       "<style type=\"text/css\">\n",
       "#T_00dcb_row10_col0, #T_00dcb_row10_col1, #T_00dcb_row10_col2, #T_00dcb_row10_col3, #T_00dcb_row10_col4, #T_00dcb_row10_col5, #T_00dcb_row10_col6 {\n",
       "  background: yellow;\n",
       "}\n",
       "</style>\n",
       "<table id=\"T_00dcb\">\n",
       "  <thead>\n",
       "    <tr>\n",
       "      <th class=\"blank level0\" >&nbsp;</th>\n",
       "      <th id=\"T_00dcb_level0_col0\" class=\"col_heading level0 col0\" >Accuracy</th>\n",
       "      <th id=\"T_00dcb_level0_col1\" class=\"col_heading level0 col1\" >AUC</th>\n",
       "      <th id=\"T_00dcb_level0_col2\" class=\"col_heading level0 col2\" >Recall</th>\n",
       "      <th id=\"T_00dcb_level0_col3\" class=\"col_heading level0 col3\" >Prec.</th>\n",
       "      <th id=\"T_00dcb_level0_col4\" class=\"col_heading level0 col4\" >F1</th>\n",
       "      <th id=\"T_00dcb_level0_col5\" class=\"col_heading level0 col5\" >Kappa</th>\n",
       "      <th id=\"T_00dcb_level0_col6\" class=\"col_heading level0 col6\" >MCC</th>\n",
       "    </tr>\n",
       "    <tr>\n",
       "      <th class=\"index_name level0\" >Fold</th>\n",
       "      <th class=\"blank col0\" >&nbsp;</th>\n",
       "      <th class=\"blank col1\" >&nbsp;</th>\n",
       "      <th class=\"blank col2\" >&nbsp;</th>\n",
       "      <th class=\"blank col3\" >&nbsp;</th>\n",
       "      <th class=\"blank col4\" >&nbsp;</th>\n",
       "      <th class=\"blank col5\" >&nbsp;</th>\n",
       "      <th class=\"blank col6\" >&nbsp;</th>\n",
       "    </tr>\n",
       "  </thead>\n",
       "  <tbody>\n",
       "    <tr>\n",
       "      <th id=\"T_00dcb_level0_row0\" class=\"row_heading level0 row0\" >0</th>\n",
       "      <td id=\"T_00dcb_row0_col0\" class=\"data row0 col0\" >0.8929</td>\n",
       "      <td id=\"T_00dcb_row0_col1\" class=\"data row0 col1\" >0.6324</td>\n",
       "      <td id=\"T_00dcb_row0_col2\" class=\"data row0 col2\" >0.0000</td>\n",
       "      <td id=\"T_00dcb_row0_col3\" class=\"data row0 col3\" >0.0000</td>\n",
       "      <td id=\"T_00dcb_row0_col4\" class=\"data row0 col4\" >0.0000</td>\n",
       "      <td id=\"T_00dcb_row0_col5\" class=\"data row0 col5\" >-0.0001</td>\n",
       "      <td id=\"T_00dcb_row0_col6\" class=\"data row0 col6\" >-0.0025</td>\n",
       "    </tr>\n",
       "    <tr>\n",
       "      <th id=\"T_00dcb_level0_row1\" class=\"row_heading level0 row1\" >1</th>\n",
       "      <td id=\"T_00dcb_row1_col0\" class=\"data row1 col0\" >0.8929</td>\n",
       "      <td id=\"T_00dcb_row1_col1\" class=\"data row1 col1\" >0.6358</td>\n",
       "      <td id=\"T_00dcb_row1_col2\" class=\"data row1 col2\" >0.0005</td>\n",
       "      <td id=\"T_00dcb_row1_col3\" class=\"data row1 col3\" >0.3333</td>\n",
       "      <td id=\"T_00dcb_row1_col4\" class=\"data row1 col4\" >0.0009</td>\n",
       "      <td id=\"T_00dcb_row1_col5\" class=\"data row1 col5\" >0.0006</td>\n",
       "      <td id=\"T_00dcb_row1_col6\" class=\"data row1 col6\" >0.0090</td>\n",
       "    </tr>\n",
       "    <tr>\n",
       "      <th id=\"T_00dcb_level0_row2\" class=\"row_heading level0 row2\" >2</th>\n",
       "      <td id=\"T_00dcb_row2_col0\" class=\"data row2 col0\" >0.8930</td>\n",
       "      <td id=\"T_00dcb_row2_col1\" class=\"data row2 col1\" >0.6375</td>\n",
       "      <td id=\"T_00dcb_row2_col2\" class=\"data row2 col2\" >0.0005</td>\n",
       "      <td id=\"T_00dcb_row2_col3\" class=\"data row2 col3\" >0.5000</td>\n",
       "      <td id=\"T_00dcb_row2_col4\" class=\"data row2 col4\" >0.0009</td>\n",
       "      <td id=\"T_00dcb_row2_col5\" class=\"data row2 col5\" >0.0007</td>\n",
       "      <td id=\"T_00dcb_row2_col6\" class=\"data row2 col6\" >0.0127</td>\n",
       "    </tr>\n",
       "    <tr>\n",
       "      <th id=\"T_00dcb_level0_row3\" class=\"row_heading level0 row3\" >3</th>\n",
       "      <td id=\"T_00dcb_row3_col0\" class=\"data row3 col0\" >0.8929</td>\n",
       "      <td id=\"T_00dcb_row3_col1\" class=\"data row3 col1\" >0.6372</td>\n",
       "      <td id=\"T_00dcb_row3_col2\" class=\"data row3 col2\" >0.0000</td>\n",
       "      <td id=\"T_00dcb_row3_col3\" class=\"data row3 col3\" >0.0000</td>\n",
       "      <td id=\"T_00dcb_row3_col4\" class=\"data row3 col4\" >0.0000</td>\n",
       "      <td id=\"T_00dcb_row3_col5\" class=\"data row3 col5\" >-0.0003</td>\n",
       "      <td id=\"T_00dcb_row3_col6\" class=\"data row3 col6\" >-0.0042</td>\n",
       "    </tr>\n",
       "    <tr>\n",
       "      <th id=\"T_00dcb_level0_row4\" class=\"row_heading level0 row4\" >4</th>\n",
       "      <td id=\"T_00dcb_row4_col0\" class=\"data row4 col0\" >0.8929</td>\n",
       "      <td id=\"T_00dcb_row4_col1\" class=\"data row4 col1\" >0.6428</td>\n",
       "      <td id=\"T_00dcb_row4_col2\" class=\"data row4 col2\" >0.0000</td>\n",
       "      <td id=\"T_00dcb_row4_col3\" class=\"data row4 col3\" >0.0000</td>\n",
       "      <td id=\"T_00dcb_row4_col4\" class=\"data row4 col4\" >0.0000</td>\n",
       "      <td id=\"T_00dcb_row4_col5\" class=\"data row4 col5\" >-0.0003</td>\n",
       "      <td id=\"T_00dcb_row4_col6\" class=\"data row4 col6\" >-0.0042</td>\n",
       "    </tr>\n",
       "    <tr>\n",
       "      <th id=\"T_00dcb_level0_row5\" class=\"row_heading level0 row5\" >5</th>\n",
       "      <td id=\"T_00dcb_row5_col0\" class=\"data row5 col0\" >0.8931</td>\n",
       "      <td id=\"T_00dcb_row5_col1\" class=\"data row5 col1\" >0.6247</td>\n",
       "      <td id=\"T_00dcb_row5_col2\" class=\"data row5 col2\" >0.0005</td>\n",
       "      <td id=\"T_00dcb_row5_col3\" class=\"data row5 col3\" >1.0000</td>\n",
       "      <td id=\"T_00dcb_row5_col4\" class=\"data row5 col4\" >0.0009</td>\n",
       "      <td id=\"T_00dcb_row5_col5\" class=\"data row5 col5\" >0.0008</td>\n",
       "      <td id=\"T_00dcb_row5_col6\" class=\"data row5 col6\" >0.0205</td>\n",
       "    </tr>\n",
       "    <tr>\n",
       "      <th id=\"T_00dcb_level0_row6\" class=\"row_heading level0 row6\" >6</th>\n",
       "      <td id=\"T_00dcb_row6_col0\" class=\"data row6 col0\" >0.8930</td>\n",
       "      <td id=\"T_00dcb_row6_col1\" class=\"data row6 col1\" >0.6323</td>\n",
       "      <td id=\"T_00dcb_row6_col2\" class=\"data row6 col2\" >0.0000</td>\n",
       "      <td id=\"T_00dcb_row6_col3\" class=\"data row6 col3\" >0.0000</td>\n",
       "      <td id=\"T_00dcb_row6_col4\" class=\"data row6 col4\" >0.0000</td>\n",
       "      <td id=\"T_00dcb_row6_col5\" class=\"data row6 col5\" >0.0000</td>\n",
       "      <td id=\"T_00dcb_row6_col6\" class=\"data row6 col6\" >0.0000</td>\n",
       "    </tr>\n",
       "    <tr>\n",
       "      <th id=\"T_00dcb_level0_row7\" class=\"row_heading level0 row7\" >7</th>\n",
       "      <td id=\"T_00dcb_row7_col0\" class=\"data row7 col0\" >0.8929</td>\n",
       "      <td id=\"T_00dcb_row7_col1\" class=\"data row7 col1\" >0.6354</td>\n",
       "      <td id=\"T_00dcb_row7_col2\" class=\"data row7 col2\" >0.0005</td>\n",
       "      <td id=\"T_00dcb_row7_col3\" class=\"data row7 col3\" >0.3333</td>\n",
       "      <td id=\"T_00dcb_row7_col4\" class=\"data row7 col4\" >0.0009</td>\n",
       "      <td id=\"T_00dcb_row7_col5\" class=\"data row7 col5\" >0.0006</td>\n",
       "      <td id=\"T_00dcb_row7_col6\" class=\"data row7 col6\" >0.0090</td>\n",
       "    </tr>\n",
       "    <tr>\n",
       "      <th id=\"T_00dcb_level0_row8\" class=\"row_heading level0 row8\" >8</th>\n",
       "      <td id=\"T_00dcb_row8_col0\" class=\"data row8 col0\" >0.8930</td>\n",
       "      <td id=\"T_00dcb_row8_col1\" class=\"data row8 col1\" >0.6266</td>\n",
       "      <td id=\"T_00dcb_row8_col2\" class=\"data row8 col2\" >0.0005</td>\n",
       "      <td id=\"T_00dcb_row8_col3\" class=\"data row8 col3\" >0.5000</td>\n",
       "      <td id=\"T_00dcb_row8_col4\" class=\"data row8 col4\" >0.0009</td>\n",
       "      <td id=\"T_00dcb_row8_col5\" class=\"data row8 col5\" >0.0007</td>\n",
       "      <td id=\"T_00dcb_row8_col6\" class=\"data row8 col6\" >0.0127</td>\n",
       "    </tr>\n",
       "    <tr>\n",
       "      <th id=\"T_00dcb_level0_row9\" class=\"row_heading level0 row9\" >9</th>\n",
       "      <td id=\"T_00dcb_row9_col0\" class=\"data row9 col0\" >0.8930</td>\n",
       "      <td id=\"T_00dcb_row9_col1\" class=\"data row9 col1\" >0.6371</td>\n",
       "      <td id=\"T_00dcb_row9_col2\" class=\"data row9 col2\" >0.0000</td>\n",
       "      <td id=\"T_00dcb_row9_col3\" class=\"data row9 col3\" >0.0000</td>\n",
       "      <td id=\"T_00dcb_row9_col4\" class=\"data row9 col4\" >0.0000</td>\n",
       "      <td id=\"T_00dcb_row9_col5\" class=\"data row9 col5\" >0.0000</td>\n",
       "      <td id=\"T_00dcb_row9_col6\" class=\"data row9 col6\" >0.0000</td>\n",
       "    </tr>\n",
       "    <tr>\n",
       "      <th id=\"T_00dcb_level0_row10\" class=\"row_heading level0 row10\" >Mean</th>\n",
       "      <td id=\"T_00dcb_row10_col0\" class=\"data row10 col0\" >0.8929</td>\n",
       "      <td id=\"T_00dcb_row10_col1\" class=\"data row10 col1\" >0.6342</td>\n",
       "      <td id=\"T_00dcb_row10_col2\" class=\"data row10 col2\" >0.0002</td>\n",
       "      <td id=\"T_00dcb_row10_col3\" class=\"data row10 col3\" >0.2667</td>\n",
       "      <td id=\"T_00dcb_row10_col4\" class=\"data row10 col4\" >0.0005</td>\n",
       "      <td id=\"T_00dcb_row10_col5\" class=\"data row10 col5\" >0.0003</td>\n",
       "      <td id=\"T_00dcb_row10_col6\" class=\"data row10 col6\" >0.0053</td>\n",
       "    </tr>\n",
       "    <tr>\n",
       "      <th id=\"T_00dcb_level0_row11\" class=\"row_heading level0 row11\" >Std</th>\n",
       "      <td id=\"T_00dcb_row11_col0\" class=\"data row11 col0\" >0.0001</td>\n",
       "      <td id=\"T_00dcb_row11_col1\" class=\"data row11 col1\" >0.0051</td>\n",
       "      <td id=\"T_00dcb_row11_col2\" class=\"data row11 col2\" >0.0002</td>\n",
       "      <td id=\"T_00dcb_row11_col3\" class=\"data row11 col3\" >0.3180</td>\n",
       "      <td id=\"T_00dcb_row11_col4\" class=\"data row11 col4\" >0.0005</td>\n",
       "      <td id=\"T_00dcb_row11_col5\" class=\"data row11 col5\" >0.0004</td>\n",
       "      <td id=\"T_00dcb_row11_col6\" class=\"data row11 col6\" >0.0082</td>\n",
       "    </tr>\n",
       "  </tbody>\n",
       "</table>\n"
      ],
      "text/plain": [
       "<pandas.io.formats.style.Styler at 0x7efd96074d30>"
      ]
     },
     "metadata": {},
     "output_type": "display_data"
    },
    {
     "data": {
      "text/html": [],
      "text/plain": [
       "<IPython.core.display.HTML object>"
      ]
     },
     "metadata": {},
     "output_type": "display_data"
    }
   ],
   "source": [
    "regression_model_lightgbm = classification_setup.create_model(\"lightgbm\", probability_threshold = 0.50)"
   ]
  },
  {
   "cell_type": "code",
   "execution_count": 16,
   "metadata": {
    "execution": {
     "iopub.execute_input": "2023-07-02T04:05:32.719806Z",
     "iopub.status.busy": "2023-07-02T04:05:32.719498Z",
     "iopub.status.idle": "2023-07-02T04:05:34.311214Z",
     "shell.execute_reply": "2023-07-02T04:05:34.310354Z",
     "shell.execute_reply.started": "2023-07-02T04:05:32.719783Z"
    }
   },
   "outputs": [
    {
     "data": {
      "text/html": [],
      "text/plain": [
       "<IPython.core.display.HTML object>"
      ]
     },
     "metadata": {},
     "output_type": "display_data"
    },
    {
     "data": {
      "image/png": "[encoded data removed]",
      "text/plain": [
       "<Figure size 800x550 with 1 Axes>"
      ]
     },
     "metadata": {},
     "output_type": "display_data"
    }
   ],
   "source": [
    "plot_model(regression_model_lightgbm, plot = 'auc')"
   ]
  },
  {
   "cell_type": "code",
   "execution_count": 17,
   "metadata": {
    "execution": {
     "iopub.execute_input": "2023-07-02T04:05:34.312143Z",
     "iopub.status.busy": "2023-07-02T04:05:34.311974Z",
     "iopub.status.idle": "2023-07-02T04:06:53.064660Z",
     "shell.execute_reply": "2023-07-02T04:06:53.063894Z",
     "shell.execute_reply.started": "2023-07-02T04:05:34.312127Z"
    }
   },
   "outputs": [
    {
     "data": {
      "text/html": [],
      "text/plain": [
       "<IPython.core.display.HTML object>"
      ]
     },
     "metadata": {},
     "output_type": "display_data"
    },
    {
     "data": {
      "text/html": [
       "<style type=\"text/css\">\n",
       "#T_b56e5_row10_col0, #T_b56e5_row10_col1, #T_b56e5_row10_col2, #T_b56e5_row10_col3, #T_b56e5_row10_col4, #T_b56e5_row10_col5, #T_b56e5_row10_col6 {\n",
       "  background: yellow;\n",
       "}\n",
       "</style>\n",
       "<table id=\"T_b56e5\">\n",
       "  <thead>\n",
       "    <tr>\n",
       "      <th class=\"blank level0\" >&nbsp;</th>\n",
       "      <th id=\"T_b56e5_level0_col0\" class=\"col_heading level0 col0\" >Accuracy</th>\n",
       "      <th id=\"T_b56e5_level0_col1\" class=\"col_heading level0 col1\" >AUC</th>\n",
       "      <th id=\"T_b56e5_level0_col2\" class=\"col_heading level0 col2\" >Recall</th>\n",
       "      <th id=\"T_b56e5_level0_col3\" class=\"col_heading level0 col3\" >Prec.</th>\n",
       "      <th id=\"T_b56e5_level0_col4\" class=\"col_heading level0 col4\" >F1</th>\n",
       "      <th id=\"T_b56e5_level0_col5\" class=\"col_heading level0 col5\" >Kappa</th>\n",
       "      <th id=\"T_b56e5_level0_col6\" class=\"col_heading level0 col6\" >MCC</th>\n",
       "    </tr>\n",
       "    <tr>\n",
       "      <th class=\"index_name level0\" >Fold</th>\n",
       "      <th class=\"blank col0\" >&nbsp;</th>\n",
       "      <th class=\"blank col1\" >&nbsp;</th>\n",
       "      <th class=\"blank col2\" >&nbsp;</th>\n",
       "      <th class=\"blank col3\" >&nbsp;</th>\n",
       "      <th class=\"blank col4\" >&nbsp;</th>\n",
       "      <th class=\"blank col5\" >&nbsp;</th>\n",
       "      <th class=\"blank col6\" >&nbsp;</th>\n",
       "    </tr>\n",
       "  </thead>\n",
       "  <tbody>\n",
       "    <tr>\n",
       "      <th id=\"T_b56e5_level0_row0\" class=\"row_heading level0 row0\" >0</th>\n",
       "      <td id=\"T_b56e5_row0_col0\" class=\"data row0 col0\" >0.8930</td>\n",
       "      <td id=\"T_b56e5_row0_col1\" class=\"data row0 col1\" >0.6472</td>\n",
       "      <td id=\"T_b56e5_row0_col2\" class=\"data row0 col2\" >0.0000</td>\n",
       "      <td id=\"T_b56e5_row0_col3\" class=\"data row0 col3\" >0.0000</td>\n",
       "      <td id=\"T_b56e5_row0_col4\" class=\"data row0 col4\" >0.0000</td>\n",
       "      <td id=\"T_b56e5_row0_col5\" class=\"data row0 col5\" >0.0000</td>\n",
       "      <td id=\"T_b56e5_row0_col6\" class=\"data row0 col6\" >0.0000</td>\n",
       "    </tr>\n",
       "    <tr>\n",
       "      <th id=\"T_b56e5_level0_row1\" class=\"row_heading level0 row1\" >1</th>\n",
       "      <td id=\"T_b56e5_row1_col0\" class=\"data row1 col0\" >0.8930</td>\n",
       "      <td id=\"T_b56e5_row1_col1\" class=\"data row1 col1\" >0.6523</td>\n",
       "      <td id=\"T_b56e5_row1_col2\" class=\"data row1 col2\" >0.0000</td>\n",
       "      <td id=\"T_b56e5_row1_col3\" class=\"data row1 col3\" >0.0000</td>\n",
       "      <td id=\"T_b56e5_row1_col4\" class=\"data row1 col4\" >0.0000</td>\n",
       "      <td id=\"T_b56e5_row1_col5\" class=\"data row1 col5\" >0.0000</td>\n",
       "      <td id=\"T_b56e5_row1_col6\" class=\"data row1 col6\" >0.0000</td>\n",
       "    </tr>\n",
       "    <tr>\n",
       "      <th id=\"T_b56e5_level0_row2\" class=\"row_heading level0 row2\" >2</th>\n",
       "      <td id=\"T_b56e5_row2_col0\" class=\"data row2 col0\" >0.8930</td>\n",
       "      <td id=\"T_b56e5_row2_col1\" class=\"data row2 col1\" >0.6510</td>\n",
       "      <td id=\"T_b56e5_row2_col2\" class=\"data row2 col2\" >0.0000</td>\n",
       "      <td id=\"T_b56e5_row2_col3\" class=\"data row2 col3\" >0.0000</td>\n",
       "      <td id=\"T_b56e5_row2_col4\" class=\"data row2 col4\" >0.0000</td>\n",
       "      <td id=\"T_b56e5_row2_col5\" class=\"data row2 col5\" >0.0000</td>\n",
       "      <td id=\"T_b56e5_row2_col6\" class=\"data row2 col6\" >0.0000</td>\n",
       "    </tr>\n",
       "    <tr>\n",
       "      <th id=\"T_b56e5_level0_row3\" class=\"row_heading level0 row3\" >3</th>\n",
       "      <td id=\"T_b56e5_row3_col0\" class=\"data row3 col0\" >0.8930</td>\n",
       "      <td id=\"T_b56e5_row3_col1\" class=\"data row3 col1\" >0.6506</td>\n",
       "      <td id=\"T_b56e5_row3_col2\" class=\"data row3 col2\" >0.0000</td>\n",
       "      <td id=\"T_b56e5_row3_col3\" class=\"data row3 col3\" >0.0000</td>\n",
       "      <td id=\"T_b56e5_row3_col4\" class=\"data row3 col4\" >0.0000</td>\n",
       "      <td id=\"T_b56e5_row3_col5\" class=\"data row3 col5\" >0.0000</td>\n",
       "      <td id=\"T_b56e5_row3_col6\" class=\"data row3 col6\" >0.0000</td>\n",
       "    </tr>\n",
       "    <tr>\n",
       "      <th id=\"T_b56e5_level0_row4\" class=\"row_heading level0 row4\" >4</th>\n",
       "      <td id=\"T_b56e5_row4_col0\" class=\"data row4 col0\" >0.8930</td>\n",
       "      <td id=\"T_b56e5_row4_col1\" class=\"data row4 col1\" >0.6519</td>\n",
       "      <td id=\"T_b56e5_row4_col2\" class=\"data row4 col2\" >0.0000</td>\n",
       "      <td id=\"T_b56e5_row4_col3\" class=\"data row4 col3\" >0.0000</td>\n",
       "      <td id=\"T_b56e5_row4_col4\" class=\"data row4 col4\" >0.0000</td>\n",
       "      <td id=\"T_b56e5_row4_col5\" class=\"data row4 col5\" >0.0000</td>\n",
       "      <td id=\"T_b56e5_row4_col6\" class=\"data row4 col6\" >0.0000</td>\n",
       "    </tr>\n",
       "    <tr>\n",
       "      <th id=\"T_b56e5_level0_row5\" class=\"row_heading level0 row5\" >5</th>\n",
       "      <td id=\"T_b56e5_row5_col0\" class=\"data row5 col0\" >0.8930</td>\n",
       "      <td id=\"T_b56e5_row5_col1\" class=\"data row5 col1\" >0.6381</td>\n",
       "      <td id=\"T_b56e5_row5_col2\" class=\"data row5 col2\" >0.0000</td>\n",
       "      <td id=\"T_b56e5_row5_col3\" class=\"data row5 col3\" >0.0000</td>\n",
       "      <td id=\"T_b56e5_row5_col4\" class=\"data row5 col4\" >0.0000</td>\n",
       "      <td id=\"T_b56e5_row5_col5\" class=\"data row5 col5\" >0.0000</td>\n",
       "      <td id=\"T_b56e5_row5_col6\" class=\"data row5 col6\" >0.0000</td>\n",
       "    </tr>\n",
       "    <tr>\n",
       "      <th id=\"T_b56e5_level0_row6\" class=\"row_heading level0 row6\" >6</th>\n",
       "      <td id=\"T_b56e5_row6_col0\" class=\"data row6 col0\" >0.8930</td>\n",
       "      <td id=\"T_b56e5_row6_col1\" class=\"data row6 col1\" >0.6489</td>\n",
       "      <td id=\"T_b56e5_row6_col2\" class=\"data row6 col2\" >0.0000</td>\n",
       "      <td id=\"T_b56e5_row6_col3\" class=\"data row6 col3\" >0.0000</td>\n",
       "      <td id=\"T_b56e5_row6_col4\" class=\"data row6 col4\" >0.0000</td>\n",
       "      <td id=\"T_b56e5_row6_col5\" class=\"data row6 col5\" >0.0000</td>\n",
       "      <td id=\"T_b56e5_row6_col6\" class=\"data row6 col6\" >0.0000</td>\n",
       "    </tr>\n",
       "    <tr>\n",
       "      <th id=\"T_b56e5_level0_row7\" class=\"row_heading level0 row7\" >7</th>\n",
       "      <td id=\"T_b56e5_row7_col0\" class=\"data row7 col0\" >0.8930</td>\n",
       "      <td id=\"T_b56e5_row7_col1\" class=\"data row7 col1\" >0.6538</td>\n",
       "      <td id=\"T_b56e5_row7_col2\" class=\"data row7 col2\" >0.0000</td>\n",
       "      <td id=\"T_b56e5_row7_col3\" class=\"data row7 col3\" >0.0000</td>\n",
       "      <td id=\"T_b56e5_row7_col4\" class=\"data row7 col4\" >0.0000</td>\n",
       "      <td id=\"T_b56e5_row7_col5\" class=\"data row7 col5\" >0.0000</td>\n",
       "      <td id=\"T_b56e5_row7_col6\" class=\"data row7 col6\" >0.0000</td>\n",
       "    </tr>\n",
       "    <tr>\n",
       "      <th id=\"T_b56e5_level0_row8\" class=\"row_heading level0 row8\" >8</th>\n",
       "      <td id=\"T_b56e5_row8_col0\" class=\"data row8 col0\" >0.8930</td>\n",
       "      <td id=\"T_b56e5_row8_col1\" class=\"data row8 col1\" >0.6419</td>\n",
       "      <td id=\"T_b56e5_row8_col2\" class=\"data row8 col2\" >0.0000</td>\n",
       "      <td id=\"T_b56e5_row8_col3\" class=\"data row8 col3\" >0.0000</td>\n",
       "      <td id=\"T_b56e5_row8_col4\" class=\"data row8 col4\" >0.0000</td>\n",
       "      <td id=\"T_b56e5_row8_col5\" class=\"data row8 col5\" >0.0000</td>\n",
       "      <td id=\"T_b56e5_row8_col6\" class=\"data row8 col6\" >0.0000</td>\n",
       "    </tr>\n",
       "    <tr>\n",
       "      <th id=\"T_b56e5_level0_row9\" class=\"row_heading level0 row9\" >9</th>\n",
       "      <td id=\"T_b56e5_row9_col0\" class=\"data row9 col0\" >0.8930</td>\n",
       "      <td id=\"T_b56e5_row9_col1\" class=\"data row9 col1\" >0.6500</td>\n",
       "      <td id=\"T_b56e5_row9_col2\" class=\"data row9 col2\" >0.0000</td>\n",
       "      <td id=\"T_b56e5_row9_col3\" class=\"data row9 col3\" >0.0000</td>\n",
       "      <td id=\"T_b56e5_row9_col4\" class=\"data row9 col4\" >0.0000</td>\n",
       "      <td id=\"T_b56e5_row9_col5\" class=\"data row9 col5\" >0.0000</td>\n",
       "      <td id=\"T_b56e5_row9_col6\" class=\"data row9 col6\" >0.0000</td>\n",
       "    </tr>\n",
       "    <tr>\n",
       "      <th id=\"T_b56e5_level0_row10\" class=\"row_heading level0 row10\" >Mean</th>\n",
       "      <td id=\"T_b56e5_row10_col0\" class=\"data row10 col0\" >0.8930</td>\n",
       "      <td id=\"T_b56e5_row10_col1\" class=\"data row10 col1\" >0.6486</td>\n",
       "      <td id=\"T_b56e5_row10_col2\" class=\"data row10 col2\" >0.0000</td>\n",
       "      <td id=\"T_b56e5_row10_col3\" class=\"data row10 col3\" >0.0000</td>\n",
       "      <td id=\"T_b56e5_row10_col4\" class=\"data row10 col4\" >0.0000</td>\n",
       "      <td id=\"T_b56e5_row10_col5\" class=\"data row10 col5\" >0.0000</td>\n",
       "      <td id=\"T_b56e5_row10_col6\" class=\"data row10 col6\" >0.0000</td>\n",
       "    </tr>\n",
       "    <tr>\n",
       "      <th id=\"T_b56e5_level0_row11\" class=\"row_heading level0 row11\" >Std</th>\n",
       "      <td id=\"T_b56e5_row11_col0\" class=\"data row11 col0\" >0.0000</td>\n",
       "      <td id=\"T_b56e5_row11_col1\" class=\"data row11 col1\" >0.0047</td>\n",
       "      <td id=\"T_b56e5_row11_col2\" class=\"data row11 col2\" >0.0000</td>\n",
       "      <td id=\"T_b56e5_row11_col3\" class=\"data row11 col3\" >0.0000</td>\n",
       "      <td id=\"T_b56e5_row11_col4\" class=\"data row11 col4\" >0.0000</td>\n",
       "      <td id=\"T_b56e5_row11_col5\" class=\"data row11 col5\" >0.0000</td>\n",
       "      <td id=\"T_b56e5_row11_col6\" class=\"data row11 col6\" >0.0000</td>\n",
       "    </tr>\n",
       "  </tbody>\n",
       "</table>\n"
      ],
      "text/plain": [
       "<pandas.io.formats.style.Styler at 0x7efd960768f0>"
      ]
     },
     "metadata": {},
     "output_type": "display_data"
    },
    {
     "data": {
      "text/html": [],
      "text/plain": [
       "<IPython.core.display.HTML object>"
      ]
     },
     "metadata": {},
     "output_type": "display_data"
    }
   ],
   "source": [
    "regression_model_ada = classification_setup.create_model(\"ada\", probability_threshold = 0.50)"
   ]
  },
  {
   "cell_type": "code",
   "execution_count": 18,
   "metadata": {
    "execution": {
     "iopub.execute_input": "2023-07-02T04:06:53.065345Z",
     "iopub.status.busy": "2023-07-02T04:06:53.065217Z",
     "iopub.status.idle": "2023-07-02T04:06:57.355490Z",
     "shell.execute_reply": "2023-07-02T04:06:57.354722Z",
     "shell.execute_reply.started": "2023-07-02T04:06:53.065333Z"
    }
   },
   "outputs": [
    {
     "data": {
      "text/html": [],
      "text/plain": [
       "<IPython.core.display.HTML object>"
      ]
     },
     "metadata": {},
     "output_type": "display_data"
    },
    {
     "data": {
      "image/png": "[encoded data removed]",
      "text/plain": [
       "<Figure size 800x550 with 1 Axes>"
      ]
     },
     "metadata": {},
     "output_type": "display_data"
    }
   ],
   "source": [
    "plot_model(regression_model_ada, plot = 'auc')"
   ]
  },
  {
   "cell_type": "markdown",
   "metadata": {
    "execution": {
     "iopub.execute_input": "2023-06-08T23:08:22.530994Z",
     "iopub.status.busy": "2023-06-08T23:08:22.529719Z",
     "iopub.status.idle": "2023-06-08T23:08:22.542651Z",
     "shell.execute_reply": "2023-06-08T23:08:22.540043Z",
     "shell.execute_reply.started": "2023-06-08T23:08:22.530922Z"
    }
   },
   "source": [
    "**evaluate model**"
   ]
  },
  {
   "cell_type": "markdown",
   "metadata": {},
   "source": [
    "`lightgbm` shows very good AUC of `0.97`, `rf` as well with `1.0` train AUC.\n",
    "\n",
    "`rf` seemed like too overfit with 1.0 train AUC but its test precision as well is the best among others.\n",
    "\n",
    "`ada` shows very low recall thus inpractical.\n"
   ]
  },
  {
   "cell_type": "code",
   "execution_count": 19,
   "metadata": {
    "execution": {
     "iopub.execute_input": "2023-07-02T04:06:57.356586Z",
     "iopub.status.busy": "2023-07-02T04:06:57.356343Z",
     "iopub.status.idle": "2023-07-02T04:06:57.360801Z",
     "shell.execute_reply": "2023-07-02T04:06:57.360150Z",
     "shell.execute_reply.started": "2023-07-02T04:06:57.356568Z"
    }
   },
   "outputs": [],
   "source": [
    "def predict_and_odds(df_data, regression_model):\n",
    "    df_prediction = pycaret.classification.predict_model(data = df_data, estimator = regression_model)\n",
    "    df_prediction = pd.merge(df_prediction, df_player_team_positions[['player_id','player_team_name']], left_on='batting_id', right_on='player_id', how='left')\n",
    "    df_prediction[\"theo_odds\"] = df_prediction[\"prediction_score\"].apply(model.common.odds_calculator)\n",
    "    return df_prediction"
   ]
  },
  {
   "cell_type": "code",
   "execution_count": 23,
   "metadata": {
    "execution": {
     "iopub.execute_input": "2023-07-02T04:30:33.062543Z",
     "iopub.status.busy": "2023-07-02T04:30:33.062190Z",
     "iopub.status.idle": "2023-07-02T04:30:33.066243Z",
     "shell.execute_reply": "2023-07-02T04:30:33.065750Z",
     "shell.execute_reply.started": "2023-07-02T04:30:33.062517Z"
    }
   },
   "outputs": [],
   "source": [
    "def get_eval_profile(df_prediction, score_threshold):\n",
    "    confident_prediction = df_prediction.drop_duplicates(\"batting_name\")\n",
    "    confident_prediction = confident_prediction[confident_prediction[\"prediction_score\"] >= score_threshold]\n",
    "    # for some reason, the prediction_label should be separatedly checked. higher score does not always lead to prediction label. (maybe the score stands for both labels).\n",
    "    confident_prediction = confident_prediction[confident_prediction[\"prediction_label\"] == 1]\n",
    "    l = len(confident_prediction)    \n",
    "    return l, confident_prediction[model.common.target_homerun_recorded].sum() / l"
   ]
  },
  {
   "cell_type": "code",
   "execution_count": 24,
   "metadata": {
    "execution": {
     "iopub.execute_input": "2023-07-02T04:30:33.573660Z",
     "iopub.status.busy": "2023-07-02T04:30:33.572887Z",
     "iopub.status.idle": "2023-07-02T04:30:55.138747Z",
     "shell.execute_reply": "2023-07-02T04:30:55.137861Z",
     "shell.execute_reply.started": "2023-07-02T04:30:33.573624Z"
    }
   },
   "outputs": [
    {
     "data": {
      "text/html": [
       "<style type=\"text/css\">\n",
       "</style>\n",
       "<table id=\"T_807f4\">\n",
       "  <thead>\n",
       "    <tr>\n",
       "      <th class=\"blank level0\" >&nbsp;</th>\n",
       "      <th id=\"T_807f4_level0_col0\" class=\"col_heading level0 col0\" >Model</th>\n",
       "      <th id=\"T_807f4_level0_col1\" class=\"col_heading level0 col1\" >Accuracy</th>\n",
       "      <th id=\"T_807f4_level0_col2\" class=\"col_heading level0 col2\" >AUC</th>\n",
       "      <th id=\"T_807f4_level0_col3\" class=\"col_heading level0 col3\" >Recall</th>\n",
       "      <th id=\"T_807f4_level0_col4\" class=\"col_heading level0 col4\" >Prec.</th>\n",
       "      <th id=\"T_807f4_level0_col5\" class=\"col_heading level0 col5\" >F1</th>\n",
       "      <th id=\"T_807f4_level0_col6\" class=\"col_heading level0 col6\" >Kappa</th>\n",
       "      <th id=\"T_807f4_level0_col7\" class=\"col_heading level0 col7\" >MCC</th>\n",
       "    </tr>\n",
       "  </thead>\n",
       "  <tbody>\n",
       "    <tr>\n",
       "      <th id=\"T_807f4_level0_row0\" class=\"row_heading level0 row0\" >0</th>\n",
       "      <td id=\"T_807f4_row0_col0\" class=\"data row0 col0\" >Ada Boost Classifier</td>\n",
       "      <td id=\"T_807f4_row0_col1\" class=\"data row0 col1\" >0.8930</td>\n",
       "      <td id=\"T_807f4_row0_col2\" class=\"data row0 col2\" >0.6531</td>\n",
       "      <td id=\"T_807f4_row0_col3\" class=\"data row0 col3\" >0.0000</td>\n",
       "      <td id=\"T_807f4_row0_col4\" class=\"data row0 col4\" >0.0000</td>\n",
       "      <td id=\"T_807f4_row0_col5\" class=\"data row0 col5\" >0.0000</td>\n",
       "      <td id=\"T_807f4_row0_col6\" class=\"data row0 col6\" >0.0000</td>\n",
       "      <td id=\"T_807f4_row0_col7\" class=\"data row0 col7\" >0.0000</td>\n",
       "    </tr>\n",
       "  </tbody>\n",
       "</table>\n"
      ],
      "text/plain": [
       "<pandas.io.formats.style.Styler at 0x7efd8fb50910>"
      ]
     },
     "metadata": {},
     "output_type": "display_data"
    },
    {
     "data": {
      "text/html": [
       "<style type=\"text/css\">\n",
       "</style>\n",
       "<table id=\"T_ed7d6\">\n",
       "  <thead>\n",
       "    <tr>\n",
       "      <th class=\"blank level0\" >&nbsp;</th>\n",
       "      <th id=\"T_ed7d6_level0_col0\" class=\"col_heading level0 col0\" >Model</th>\n",
       "      <th id=\"T_ed7d6_level0_col1\" class=\"col_heading level0 col1\" >Accuracy</th>\n",
       "      <th id=\"T_ed7d6_level0_col2\" class=\"col_heading level0 col2\" >AUC</th>\n",
       "      <th id=\"T_ed7d6_level0_col3\" class=\"col_heading level0 col3\" >Recall</th>\n",
       "      <th id=\"T_ed7d6_level0_col4\" class=\"col_heading level0 col4\" >Prec.</th>\n",
       "      <th id=\"T_ed7d6_level0_col5\" class=\"col_heading level0 col5\" >F1</th>\n",
       "      <th id=\"T_ed7d6_level0_col6\" class=\"col_heading level0 col6\" >Kappa</th>\n",
       "      <th id=\"T_ed7d6_level0_col7\" class=\"col_heading level0 col7\" >MCC</th>\n",
       "    </tr>\n",
       "  </thead>\n",
       "  <tbody>\n",
       "    <tr>\n",
       "      <th id=\"T_ed7d6_level0_row0\" class=\"row_heading level0 row0\" >0</th>\n",
       "      <td id=\"T_ed7d6_row0_col0\" class=\"data row0 col0\" >Gradient Boosting Classifier</td>\n",
       "      <td id=\"T_ed7d6_row0_col1\" class=\"data row0 col1\" >0.8930</td>\n",
       "      <td id=\"T_ed7d6_row0_col2\" class=\"data row0 col2\" >0.6628</td>\n",
       "      <td id=\"T_ed7d6_row0_col3\" class=\"data row0 col3\" >0.0007</td>\n",
       "      <td id=\"T_ed7d6_row0_col4\" class=\"data row0 col4\" >0.6667</td>\n",
       "      <td id=\"T_ed7d6_row0_col5\" class=\"data row0 col5\" >0.0014</td>\n",
       "      <td id=\"T_ed7d6_row0_col6\" class=\"data row0 col6\" >0.0012</td>\n",
       "      <td id=\"T_ed7d6_row0_col7\" class=\"data row0 col7\" >0.0195</td>\n",
       "    </tr>\n",
       "  </tbody>\n",
       "</table>\n"
      ],
      "text/plain": [
       "<pandas.io.formats.style.Styler at 0x7efd77c92e30>"
      ]
     },
     "metadata": {},
     "output_type": "display_data"
    },
    {
     "data": {
      "text/html": [
       "<style type=\"text/css\">\n",
       "</style>\n",
       "<table id=\"T_8b2f2\">\n",
       "  <thead>\n",
       "    <tr>\n",
       "      <th class=\"blank level0\" >&nbsp;</th>\n",
       "      <th id=\"T_8b2f2_level0_col0\" class=\"col_heading level0 col0\" >Model</th>\n",
       "      <th id=\"T_8b2f2_level0_col1\" class=\"col_heading level0 col1\" >Accuracy</th>\n",
       "      <th id=\"T_8b2f2_level0_col2\" class=\"col_heading level0 col2\" >AUC</th>\n",
       "      <th id=\"T_8b2f2_level0_col3\" class=\"col_heading level0 col3\" >Recall</th>\n",
       "      <th id=\"T_8b2f2_level0_col4\" class=\"col_heading level0 col4\" >Prec.</th>\n",
       "      <th id=\"T_8b2f2_level0_col5\" class=\"col_heading level0 col5\" >F1</th>\n",
       "      <th id=\"T_8b2f2_level0_col6\" class=\"col_heading level0 col6\" >Kappa</th>\n",
       "      <th id=\"T_8b2f2_level0_col7\" class=\"col_heading level0 col7\" >MCC</th>\n",
       "    </tr>\n",
       "  </thead>\n",
       "  <tbody>\n",
       "    <tr>\n",
       "      <th id=\"T_8b2f2_level0_row0\" class=\"row_heading level0 row0\" >0</th>\n",
       "      <td id=\"T_8b2f2_row0_col0\" class=\"data row0 col0\" >Light Gradient Boosting Machine</td>\n",
       "      <td id=\"T_8b2f2_row0_col1\" class=\"data row0 col1\" >0.8931</td>\n",
       "      <td id=\"T_8b2f2_row0_col2\" class=\"data row0 col2\" >0.7323</td>\n",
       "      <td id=\"T_8b2f2_row0_col3\" class=\"data row0 col3\" >0.0013</td>\n",
       "      <td id=\"T_8b2f2_row0_col4\" class=\"data row0 col4\" >0.9070</td>\n",
       "      <td id=\"T_8b2f2_row0_col5\" class=\"data row0 col5\" >0.0026</td>\n",
       "      <td id=\"T_8b2f2_row0_col6\" class=\"data row0 col6\" >0.0023</td>\n",
       "      <td id=\"T_8b2f2_row0_col7\" class=\"data row0 col7\" >0.0318</td>\n",
       "    </tr>\n",
       "  </tbody>\n",
       "</table>\n"
      ],
      "text/plain": [
       "<pandas.io.formats.style.Styler at 0x7efd964040a0>"
      ]
     },
     "metadata": {},
     "output_type": "display_data"
    },
    {
     "data": {
      "text/html": [
       "<style type=\"text/css\">\n",
       "</style>\n",
       "<table id=\"T_3592f\">\n",
       "  <thead>\n",
       "    <tr>\n",
       "      <th class=\"blank level0\" >&nbsp;</th>\n",
       "      <th id=\"T_3592f_level0_col0\" class=\"col_heading level0 col0\" >Model</th>\n",
       "      <th id=\"T_3592f_level0_col1\" class=\"col_heading level0 col1\" >Accuracy</th>\n",
       "      <th id=\"T_3592f_level0_col2\" class=\"col_heading level0 col2\" >AUC</th>\n",
       "      <th id=\"T_3592f_level0_col3\" class=\"col_heading level0 col3\" >Recall</th>\n",
       "      <th id=\"T_3592f_level0_col4\" class=\"col_heading level0 col4\" >Prec.</th>\n",
       "      <th id=\"T_3592f_level0_col5\" class=\"col_heading level0 col5\" >F1</th>\n",
       "      <th id=\"T_3592f_level0_col6\" class=\"col_heading level0 col6\" >Kappa</th>\n",
       "      <th id=\"T_3592f_level0_col7\" class=\"col_heading level0 col7\" >MCC</th>\n",
       "    </tr>\n",
       "  </thead>\n",
       "  <tbody>\n",
       "    <tr>\n",
       "      <th id=\"T_3592f_level0_row0\" class=\"row_heading level0 row0\" >0</th>\n",
       "      <td id=\"T_3592f_row0_col0\" class=\"data row0 col0\" >Random Forest Classifier</td>\n",
       "      <td id=\"T_3592f_row0_col1\" class=\"data row0 col1\" >0.9677</td>\n",
       "      <td id=\"T_3592f_row0_col2\" class=\"data row0 col2\" >0.9476</td>\n",
       "      <td id=\"T_3592f_row0_col3\" class=\"data row0 col3\" >0.7009</td>\n",
       "      <td id=\"T_3592f_row0_col4\" class=\"data row0 col4\" >0.9966</td>\n",
       "      <td id=\"T_3592f_row0_col5\" class=\"data row0 col5\" >0.8230</td>\n",
       "      <td id=\"T_3592f_row0_col6\" class=\"data row0 col6\" >0.8058</td>\n",
       "      <td id=\"T_3592f_row0_col7\" class=\"data row0 col7\" >0.8210</td>\n",
       "    </tr>\n",
       "  </tbody>\n",
       "</table>\n"
      ],
      "text/plain": [
       "<pandas.io.formats.style.Styler at 0x7efd8fb50850>"
      ]
     },
     "metadata": {},
     "output_type": "display_data"
    }
   ],
   "source": [
    "train_prediction_ada = predict_and_odds(train_data, regression_model_ada)\n",
    "train_prediction_gbc = predict_and_odds(train_data, regression_model_gbc)\n",
    "train_prediction_lightgbm = predict_and_odds(train_data, regression_model_lightgbm)\n",
    "train_prediction_rf = predict_and_odds(train_data, regression_model_rf)"
   ]
  },
  {
   "cell_type": "code",
   "execution_count": 25,
   "metadata": {
    "execution": {
     "iopub.execute_input": "2023-07-02T04:30:55.140273Z",
     "iopub.status.busy": "2023-07-02T04:30:55.139955Z",
     "iopub.status.idle": "2023-07-02T04:30:55.206836Z",
     "shell.execute_reply": "2023-07-02T04:30:55.205128Z",
     "shell.execute_reply.started": "2023-07-02T04:30:55.140251Z"
    }
   },
   "outputs": [
    {
     "name": "stdout",
     "output_type": "stream",
     "text": [
      "(0, nan)\n",
      "(0, nan)\n",
      "(0, nan)\n",
      "(0, nan)\n"
     ]
    }
   ],
   "source": [
    "print(get_eval_profile(train_prediction_ada, 0.6))\n",
    "print(get_eval_profile(train_prediction_ada, 0.7))\n",
    "print(get_eval_profile(train_prediction_ada, 0.75))\n",
    "print(get_eval_profile(train_prediction_ada, 0.80))"
   ]
  },
  {
   "cell_type": "code",
   "execution_count": 26,
   "metadata": {
    "execution": {
     "iopub.execute_input": "2023-07-02T04:30:55.208254Z",
     "iopub.status.busy": "2023-07-02T04:30:55.207960Z",
     "iopub.status.idle": "2023-07-02T04:30:55.307293Z",
     "shell.execute_reply": "2023-07-02T04:30:55.305972Z",
     "shell.execute_reply.started": "2023-07-02T04:30:55.208231Z"
    }
   },
   "outputs": [
    {
     "name": "stdout",
     "output_type": "stream",
     "text": [
      "(0, nan)\n",
      "(0, nan)\n",
      "(0, nan)\n",
      "(0, nan)\n"
     ]
    }
   ],
   "source": [
    "print(get_eval_profile(train_prediction_gbc, 0.6))\n",
    "print(get_eval_profile(train_prediction_gbc, 0.7))\n",
    "print(get_eval_profile(train_prediction_gbc, 0.75))\n",
    "print(get_eval_profile(train_prediction_gbc, 0.80))"
   ]
  },
  {
   "cell_type": "code",
   "execution_count": 27,
   "metadata": {
    "execution": {
     "iopub.execute_input": "2023-07-02T04:30:55.311760Z",
     "iopub.status.busy": "2023-07-02T04:30:55.310643Z",
     "iopub.status.idle": "2023-07-02T04:30:55.389030Z",
     "shell.execute_reply": "2023-07-02T04:30:55.388310Z",
     "shell.execute_reply.started": "2023-07-02T04:30:55.311729Z"
    }
   },
   "outputs": [
    {
     "name": "stdout",
     "output_type": "stream",
     "text": [
      "(0, nan)\n",
      "(0, nan)\n",
      "(0, nan)\n",
      "(0, nan)\n"
     ]
    }
   ],
   "source": [
    "print(get_eval_profile(train_prediction_lightgbm, 0.6))\n",
    "print(get_eval_profile(train_prediction_lightgbm, 0.7))\n",
    "print(get_eval_profile(train_prediction_lightgbm, 0.75))\n",
    "print(get_eval_profile(train_prediction_lightgbm, 0.80))"
   ]
  },
  {
   "cell_type": "code",
   "execution_count": 28,
   "metadata": {
    "execution": {
     "iopub.execute_input": "2023-07-02T04:30:55.390893Z",
     "iopub.status.busy": "2023-07-02T04:30:55.389974Z",
     "iopub.status.idle": "2023-07-02T04:30:55.477955Z",
     "shell.execute_reply": "2023-07-02T04:30:55.477142Z",
     "shell.execute_reply.started": "2023-07-02T04:30:55.390849Z"
    }
   },
   "outputs": [
    {
     "name": "stdout",
     "output_type": "stream",
     "text": [
      "(67, 1.0)\n",
      "(28, 1.0)\n",
      "(10, 1.0)\n",
      "(1, 1.0)\n"
     ]
    }
   ],
   "source": [
    "print(get_eval_profile(train_prediction_rf, 0.6))\n",
    "print(get_eval_profile(train_prediction_rf, 0.7))\n",
    "print(get_eval_profile(train_prediction_rf, 0.75))\n",
    "print(get_eval_profile(train_prediction_rf, 0.80))"
   ]
  },
  {
   "cell_type": "code",
   "execution_count": null,
   "metadata": {},
   "outputs": [],
   "source": []
  },
  {
   "cell_type": "markdown",
   "metadata": {
    "execution": {
     "iopub.execute_input": "2023-06-07T00:40:23.948013Z",
     "iopub.status.busy": "2023-06-07T00:40:23.947407Z",
     "iopub.status.idle": "2023-06-07T00:40:23.953130Z",
     "shell.execute_reply": "2023-06-07T00:40:23.952520Z",
     "shell.execute_reply.started": "2023-06-07T00:40:23.947955Z"
    }
   },
   "source": [
    "**test prediction**"
   ]
  },
  {
   "cell_type": "code",
   "execution_count": 29,
   "metadata": {
    "execution": {
     "iopub.execute_input": "2023-07-02T04:34:23.123901Z",
     "iopub.status.busy": "2023-07-02T04:34:23.123640Z",
     "iopub.status.idle": "2023-07-02T04:34:25.129715Z",
     "shell.execute_reply": "2023-07-02T04:34:25.128840Z",
     "shell.execute_reply.started": "2023-07-02T04:34:23.123880Z"
    },
    "scrolled": true
   },
   "outputs": [
    {
     "data": {
      "text/html": [
       "<style type=\"text/css\">\n",
       "</style>\n",
       "<table id=\"T_671fc\">\n",
       "  <thead>\n",
       "    <tr>\n",
       "      <th class=\"blank level0\" >&nbsp;</th>\n",
       "      <th id=\"T_671fc_level0_col0\" class=\"col_heading level0 col0\" >Model</th>\n",
       "      <th id=\"T_671fc_level0_col1\" class=\"col_heading level0 col1\" >Accuracy</th>\n",
       "      <th id=\"T_671fc_level0_col2\" class=\"col_heading level0 col2\" >AUC</th>\n",
       "      <th id=\"T_671fc_level0_col3\" class=\"col_heading level0 col3\" >Recall</th>\n",
       "      <th id=\"T_671fc_level0_col4\" class=\"col_heading level0 col4\" >Prec.</th>\n",
       "      <th id=\"T_671fc_level0_col5\" class=\"col_heading level0 col5\" >F1</th>\n",
       "      <th id=\"T_671fc_level0_col6\" class=\"col_heading level0 col6\" >Kappa</th>\n",
       "      <th id=\"T_671fc_level0_col7\" class=\"col_heading level0 col7\" >MCC</th>\n",
       "    </tr>\n",
       "  </thead>\n",
       "  <tbody>\n",
       "    <tr>\n",
       "      <th id=\"T_671fc_level0_row0\" class=\"row_heading level0 row0\" >0</th>\n",
       "      <td id=\"T_671fc_row0_col0\" class=\"data row0 col0\" >Ada Boost Classifier</td>\n",
       "      <td id=\"T_671fc_row0_col1\" class=\"data row0 col1\" >0.8917</td>\n",
       "      <td id=\"T_671fc_row0_col2\" class=\"data row0 col2\" >0.6282</td>\n",
       "      <td id=\"T_671fc_row0_col3\" class=\"data row0 col3\" >0.0000</td>\n",
       "      <td id=\"T_671fc_row0_col4\" class=\"data row0 col4\" >0.0000</td>\n",
       "      <td id=\"T_671fc_row0_col5\" class=\"data row0 col5\" >0.0000</td>\n",
       "      <td id=\"T_671fc_row0_col6\" class=\"data row0 col6\" >0.0000</td>\n",
       "      <td id=\"T_671fc_row0_col7\" class=\"data row0 col7\" >0.0000</td>\n",
       "    </tr>\n",
       "  </tbody>\n",
       "</table>\n"
      ],
      "text/plain": [
       "<pandas.io.formats.style.Styler at 0x7efd9e84ca60>"
      ]
     },
     "metadata": {},
     "output_type": "display_data"
    },
    {
     "data": {
      "text/html": [
       "<style type=\"text/css\">\n",
       "</style>\n",
       "<table id=\"T_02e17\">\n",
       "  <thead>\n",
       "    <tr>\n",
       "      <th class=\"blank level0\" >&nbsp;</th>\n",
       "      <th id=\"T_02e17_level0_col0\" class=\"col_heading level0 col0\" >Model</th>\n",
       "      <th id=\"T_02e17_level0_col1\" class=\"col_heading level0 col1\" >Accuracy</th>\n",
       "      <th id=\"T_02e17_level0_col2\" class=\"col_heading level0 col2\" >AUC</th>\n",
       "      <th id=\"T_02e17_level0_col3\" class=\"col_heading level0 col3\" >Recall</th>\n",
       "      <th id=\"T_02e17_level0_col4\" class=\"col_heading level0 col4\" >Prec.</th>\n",
       "      <th id=\"T_02e17_level0_col5\" class=\"col_heading level0 col5\" >F1</th>\n",
       "      <th id=\"T_02e17_level0_col6\" class=\"col_heading level0 col6\" >Kappa</th>\n",
       "      <th id=\"T_02e17_level0_col7\" class=\"col_heading level0 col7\" >MCC</th>\n",
       "    </tr>\n",
       "  </thead>\n",
       "  <tbody>\n",
       "    <tr>\n",
       "      <th id=\"T_02e17_level0_row0\" class=\"row_heading level0 row0\" >0</th>\n",
       "      <td id=\"T_02e17_row0_col0\" class=\"data row0 col0\" >Gradient Boosting Classifier</td>\n",
       "      <td id=\"T_02e17_row0_col1\" class=\"data row0 col1\" >0.8916</td>\n",
       "      <td id=\"T_02e17_row0_col2\" class=\"data row0 col2\" >0.6355</td>\n",
       "      <td id=\"T_02e17_row0_col3\" class=\"data row0 col3\" >0.0000</td>\n",
       "      <td id=\"T_02e17_row0_col4\" class=\"data row0 col4\" >0.0000</td>\n",
       "      <td id=\"T_02e17_row0_col5\" class=\"data row0 col5\" >0.0000</td>\n",
       "      <td id=\"T_02e17_row0_col6\" class=\"data row0 col6\" >-0.0003</td>\n",
       "      <td id=\"T_02e17_row0_col7\" class=\"data row0 col7\" >-0.0040</td>\n",
       "    </tr>\n",
       "  </tbody>\n",
       "</table>\n"
      ],
      "text/plain": [
       "<pandas.io.formats.style.Styler at 0x7efd96077970>"
      ]
     },
     "metadata": {},
     "output_type": "display_data"
    },
    {
     "data": {
      "text/html": [
       "<style type=\"text/css\">\n",
       "</style>\n",
       "<table id=\"T_5d121\">\n",
       "  <thead>\n",
       "    <tr>\n",
       "      <th class=\"blank level0\" >&nbsp;</th>\n",
       "      <th id=\"T_5d121_level0_col0\" class=\"col_heading level0 col0\" >Model</th>\n",
       "      <th id=\"T_5d121_level0_col1\" class=\"col_heading level0 col1\" >Accuracy</th>\n",
       "      <th id=\"T_5d121_level0_col2\" class=\"col_heading level0 col2\" >AUC</th>\n",
       "      <th id=\"T_5d121_level0_col3\" class=\"col_heading level0 col3\" >Recall</th>\n",
       "      <th id=\"T_5d121_level0_col4\" class=\"col_heading level0 col4\" >Prec.</th>\n",
       "      <th id=\"T_5d121_level0_col5\" class=\"col_heading level0 col5\" >F1</th>\n",
       "      <th id=\"T_5d121_level0_col6\" class=\"col_heading level0 col6\" >Kappa</th>\n",
       "      <th id=\"T_5d121_level0_col7\" class=\"col_heading level0 col7\" >MCC</th>\n",
       "    </tr>\n",
       "  </thead>\n",
       "  <tbody>\n",
       "    <tr>\n",
       "      <th id=\"T_5d121_level0_row0\" class=\"row_heading level0 row0\" >0</th>\n",
       "      <td id=\"T_5d121_row0_col0\" class=\"data row0 col0\" >Light Gradient Boosting Machine</td>\n",
       "      <td id=\"T_5d121_row0_col1\" class=\"data row0 col1\" >0.8917</td>\n",
       "      <td id=\"T_5d121_row0_col2\" class=\"data row0 col2\" >0.6135</td>\n",
       "      <td id=\"T_5d121_row0_col3\" class=\"data row0 col3\" >0.0006</td>\n",
       "      <td id=\"T_5d121_row0_col4\" class=\"data row0 col4\" >0.5000</td>\n",
       "      <td id=\"T_5d121_row0_col5\" class=\"data row0 col5\" >0.0012</td>\n",
       "      <td id=\"T_5d121_row0_col6\" class=\"data row0 col6\" >0.0009</td>\n",
       "      <td id=\"T_5d121_row0_col7\" class=\"data row0 col7\" >0.0143</td>\n",
       "    </tr>\n",
       "  </tbody>\n",
       "</table>\n"
      ],
      "text/plain": [
       "<pandas.io.formats.style.Styler at 0x7efd96406da0>"
      ]
     },
     "metadata": {},
     "output_type": "display_data"
    },
    {
     "data": {
      "text/html": [
       "<style type=\"text/css\">\n",
       "</style>\n",
       "<table id=\"T_3d594\">\n",
       "  <thead>\n",
       "    <tr>\n",
       "      <th class=\"blank level0\" >&nbsp;</th>\n",
       "      <th id=\"T_3d594_level0_col0\" class=\"col_heading level0 col0\" >Model</th>\n",
       "      <th id=\"T_3d594_level0_col1\" class=\"col_heading level0 col1\" >Accuracy</th>\n",
       "      <th id=\"T_3d594_level0_col2\" class=\"col_heading level0 col2\" >AUC</th>\n",
       "      <th id=\"T_3d594_level0_col3\" class=\"col_heading level0 col3\" >Recall</th>\n",
       "      <th id=\"T_3d594_level0_col4\" class=\"col_heading level0 col4\" >Prec.</th>\n",
       "      <th id=\"T_3d594_level0_col5\" class=\"col_heading level0 col5\" >F1</th>\n",
       "      <th id=\"T_3d594_level0_col6\" class=\"col_heading level0 col6\" >Kappa</th>\n",
       "      <th id=\"T_3d594_level0_col7\" class=\"col_heading level0 col7\" >MCC</th>\n",
       "    </tr>\n",
       "  </thead>\n",
       "  <tbody>\n",
       "    <tr>\n",
       "      <th id=\"T_3d594_level0_row0\" class=\"row_heading level0 row0\" >0</th>\n",
       "      <td id=\"T_3d594_row0_col0\" class=\"data row0 col0\" >Random Forest Classifier</td>\n",
       "      <td id=\"T_3d594_row0_col1\" class=\"data row0 col1\" >0.8916</td>\n",
       "      <td id=\"T_3d594_row0_col2\" class=\"data row0 col2\" >0.6016</td>\n",
       "      <td id=\"T_3d594_row0_col3\" class=\"data row0 col3\" >0.0000</td>\n",
       "      <td id=\"T_3d594_row0_col4\" class=\"data row0 col4\" >0.0000</td>\n",
       "      <td id=\"T_3d594_row0_col5\" class=\"data row0 col5\" >0.0000</td>\n",
       "      <td id=\"T_3d594_row0_col6\" class=\"data row0 col6\" >-0.0003</td>\n",
       "      <td id=\"T_3d594_row0_col7\" class=\"data row0 col7\" >-0.0040</td>\n",
       "    </tr>\n",
       "  </tbody>\n",
       "</table>\n"
      ],
      "text/plain": [
       "<pandas.io.formats.style.Styler at 0x7efd9613e950>"
      ]
     },
     "metadata": {},
     "output_type": "display_data"
    }
   ],
   "source": [
    "test_prediction_ada = predict_and_odds(test_data, regression_model_ada)\n",
    "test_prediction_gbc = predict_and_odds(test_data, regression_model_gbc)\n",
    "test_prediction_lightgbm = predict_and_odds(test_data, regression_model_lightgbm)\n",
    "test_prediction_rf = predict_and_odds(test_data, regression_model_rf)"
   ]
  },
  {
   "cell_type": "code",
   "execution_count": 30,
   "metadata": {
    "execution": {
     "iopub.execute_input": "2023-07-02T04:34:25.131287Z",
     "iopub.status.busy": "2023-07-02T04:34:25.130871Z",
     "iopub.status.idle": "2023-07-02T04:34:25.149282Z",
     "shell.execute_reply": "2023-07-02T04:34:25.148437Z",
     "shell.execute_reply.started": "2023-07-02T04:34:25.131266Z"
    }
   },
   "outputs": [
    {
     "name": "stdout",
     "output_type": "stream",
     "text": [
      "(0, nan)\n",
      "(0, nan)\n",
      "(0, nan)\n",
      "(0, nan)\n",
      "(0, nan)\n"
     ]
    }
   ],
   "source": [
    "print(get_eval_profile(test_prediction_ada, 0.6))\n",
    "print(get_eval_profile(test_prediction_ada, 0.7))\n",
    "print(get_eval_profile(test_prediction_ada, 0.75))\n",
    "print(get_eval_profile(test_prediction_ada, 0.80))\n",
    "print(get_eval_profile(test_prediction_ada, 0.85))"
   ]
  },
  {
   "cell_type": "code",
   "execution_count": 31,
   "metadata": {
    "execution": {
     "iopub.execute_input": "2023-07-02T04:34:25.150281Z",
     "iopub.status.busy": "2023-07-02T04:34:25.150025Z",
     "iopub.status.idle": "2023-07-02T04:34:25.187034Z",
     "shell.execute_reply": "2023-07-02T04:34:25.185257Z",
     "shell.execute_reply.started": "2023-07-02T04:34:25.150264Z"
    }
   },
   "outputs": [
    {
     "name": "stdout",
     "output_type": "stream",
     "text": [
      "(0, nan)\n",
      "(0, nan)\n",
      "(0, nan)\n",
      "(0, nan)\n",
      "(0, nan)\n"
     ]
    }
   ],
   "source": [
    "print(get_eval_profile(test_prediction_gbc, 0.6))\n",
    "print(get_eval_profile(test_prediction_gbc, 0.7))\n",
    "print(get_eval_profile(test_prediction_gbc, 0.75))\n",
    "print(get_eval_profile(test_prediction_gbc, 0.80))\n",
    "print(get_eval_profile(test_prediction_gbc, 0.85))"
   ]
  },
  {
   "cell_type": "code",
   "execution_count": 32,
   "metadata": {
    "execution": {
     "iopub.execute_input": "2023-07-02T04:34:25.190135Z",
     "iopub.status.busy": "2023-07-02T04:34:25.189664Z",
     "iopub.status.idle": "2023-07-02T04:34:25.217504Z",
     "shell.execute_reply": "2023-07-02T04:34:25.216257Z",
     "shell.execute_reply.started": "2023-07-02T04:34:25.190084Z"
    }
   },
   "outputs": [
    {
     "name": "stdout",
     "output_type": "stream",
     "text": [
      "(0, nan)\n",
      "(0, nan)\n",
      "(0, nan)\n",
      "(0, nan)\n",
      "(0, nan)\n"
     ]
    }
   ],
   "source": [
    "print(get_eval_profile(test_prediction_lightgbm, 0.6))\n",
    "print(get_eval_profile(test_prediction_lightgbm, 0.7))\n",
    "print(get_eval_profile(test_prediction_lightgbm, 0.75))\n",
    "print(get_eval_profile(test_prediction_lightgbm, 0.80))\n",
    "print(get_eval_profile(test_prediction_lightgbm, 0.85))"
   ]
  },
  {
   "cell_type": "code",
   "execution_count": 33,
   "metadata": {
    "execution": {
     "iopub.execute_input": "2023-07-02T04:34:25.219962Z",
     "iopub.status.busy": "2023-07-02T04:34:25.219182Z",
     "iopub.status.idle": "2023-07-02T04:34:25.246209Z",
     "shell.execute_reply": "2023-07-02T04:34:25.245703Z",
     "shell.execute_reply.started": "2023-07-02T04:34:25.219909Z"
    }
   },
   "outputs": [
    {
     "name": "stdout",
     "output_type": "stream",
     "text": [
      "(0, nan)\n",
      "(0, nan)\n",
      "(0, nan)\n",
      "(0, nan)\n",
      "(0, nan)\n"
     ]
    }
   ],
   "source": [
    "print(get_eval_profile(test_prediction_rf, 0.6))\n",
    "print(get_eval_profile(test_prediction_rf, 0.7))\n",
    "print(get_eval_profile(test_prediction_rf, 0.75))\n",
    "print(get_eval_profile(test_prediction_rf, 0.80))\n",
    "print(get_eval_profile(test_prediction_rf, 0.85))"
   ]
  },
  {
   "cell_type": "code",
   "execution_count": null,
   "metadata": {},
   "outputs": [],
   "source": []
  },
  {
   "cell_type": "markdown",
   "metadata": {
    "id": "sOfz0zBX994h"
   },
   "source": [
    "**Finalize Model**"
   ]
  },
  {
   "cell_type": "code",
   "execution_count": 114,
   "metadata": {
    "colab": {
     "base_uri": "https://localhost:8080/",
     "height": 34
    },
    "execution": {
     "iopub.execute_input": "2023-06-27T04:37:30.162271Z",
     "iopub.status.busy": "2023-06-27T04:37:30.161936Z",
     "iopub.status.idle": "2023-06-27T04:39:07.352670Z",
     "shell.execute_reply": "2023-06-27T04:39:07.351704Z",
     "shell.execute_reply.started": "2023-06-27T04:37:30.162247Z"
    },
    "id": "gutfxdh8-DKy",
    "outputId": "2e862724-33f5-45f0-ed52-aade46f98c7d"
   },
   "outputs": [],
   "source": [
    "# train over the whole dataset without validation split\n",
    "regression_model_finalized_ada = pycaret.classification.finalize_model(regression_model_ada)\n",
    "regression_model_finalized_gbc = pycaret.classification.finalize_model(regression_model_gbc)\n",
    "regression_model_finalized_lightgbm = pycaret.classification.finalize_model(regression_model_lightgbm)\n",
    "regression_model_finalized_rf = pycaret.classification.finalize_model(regression_model_rf)"
   ]
  },
  {
   "cell_type": "code",
   "execution_count": 115,
   "metadata": {
    "execution": {
     "iopub.execute_input": "2023-06-27T04:39:07.354455Z",
     "iopub.status.busy": "2023-06-27T04:39:07.354251Z",
     "iopub.status.idle": "2023-06-27T04:39:09.819883Z",
     "shell.execute_reply": "2023-06-27T04:39:09.818639Z",
     "shell.execute_reply.started": "2023-06-27T04:39:07.354434Z"
    }
   },
   "outputs": [
    {
     "data": {
      "text/html": [
       "<style type=\"text/css\">\n",
       "</style>\n",
       "<table id=\"T_abd9d\">\n",
       "  <thead>\n",
       "    <tr>\n",
       "      <th class=\"blank level0\" >&nbsp;</th>\n",
       "      <th id=\"T_abd9d_level0_col0\" class=\"col_heading level0 col0\" >Model</th>\n",
       "      <th id=\"T_abd9d_level0_col1\" class=\"col_heading level0 col1\" >Accuracy</th>\n",
       "      <th id=\"T_abd9d_level0_col2\" class=\"col_heading level0 col2\" >AUC</th>\n",
       "      <th id=\"T_abd9d_level0_col3\" class=\"col_heading level0 col3\" >Recall</th>\n",
       "      <th id=\"T_abd9d_level0_col4\" class=\"col_heading level0 col4\" >Prec.</th>\n",
       "      <th id=\"T_abd9d_level0_col5\" class=\"col_heading level0 col5\" >F1</th>\n",
       "      <th id=\"T_abd9d_level0_col6\" class=\"col_heading level0 col6\" >Kappa</th>\n",
       "      <th id=\"T_abd9d_level0_col7\" class=\"col_heading level0 col7\" >MCC</th>\n",
       "    </tr>\n",
       "  </thead>\n",
       "  <tbody>\n",
       "    <tr>\n",
       "      <th id=\"T_abd9d_level0_row0\" class=\"row_heading level0 row0\" >0</th>\n",
       "      <td id=\"T_abd9d_row0_col0\" class=\"data row0 col0\" >Ada Boost Classifier</td>\n",
       "      <td id=\"T_abd9d_row0_col1\" class=\"data row0 col1\" >0.5666</td>\n",
       "      <td id=\"T_abd9d_row0_col2\" class=\"data row0 col2\" >0.5562</td>\n",
       "      <td id=\"T_abd9d_row0_col3\" class=\"data row0 col3\" >0.7684</td>\n",
       "      <td id=\"T_abd9d_row0_col4\" class=\"data row0 col4\" >0.6023</td>\n",
       "      <td id=\"T_abd9d_row0_col5\" class=\"data row0 col5\" >0.6752</td>\n",
       "      <td id=\"T_abd9d_row0_col6\" class=\"data row0 col6\" >0.0518</td>\n",
       "      <td id=\"T_abd9d_row0_col7\" class=\"data row0 col7\" >0.0553</td>\n",
       "    </tr>\n",
       "  </tbody>\n",
       "</table>\n"
      ],
      "text/plain": [
       "<pandas.io.formats.style.Styler at 0x7f9587dffb50>"
      ]
     },
     "metadata": {},
     "output_type": "display_data"
    },
    {
     "data": {
      "text/html": [
       "<style type=\"text/css\">\n",
       "</style>\n",
       "<table id=\"T_5c8d4\">\n",
       "  <thead>\n",
       "    <tr>\n",
       "      <th class=\"blank level0\" >&nbsp;</th>\n",
       "      <th id=\"T_5c8d4_level0_col0\" class=\"col_heading level0 col0\" >Model</th>\n",
       "      <th id=\"T_5c8d4_level0_col1\" class=\"col_heading level0 col1\" >Accuracy</th>\n",
       "      <th id=\"T_5c8d4_level0_col2\" class=\"col_heading level0 col2\" >AUC</th>\n",
       "      <th id=\"T_5c8d4_level0_col3\" class=\"col_heading level0 col3\" >Recall</th>\n",
       "      <th id=\"T_5c8d4_level0_col4\" class=\"col_heading level0 col4\" >Prec.</th>\n",
       "      <th id=\"T_5c8d4_level0_col5\" class=\"col_heading level0 col5\" >F1</th>\n",
       "      <th id=\"T_5c8d4_level0_col6\" class=\"col_heading level0 col6\" >Kappa</th>\n",
       "      <th id=\"T_5c8d4_level0_col7\" class=\"col_heading level0 col7\" >MCC</th>\n",
       "    </tr>\n",
       "  </thead>\n",
       "  <tbody>\n",
       "    <tr>\n",
       "      <th id=\"T_5c8d4_level0_row0\" class=\"row_heading level0 row0\" >0</th>\n",
       "      <td id=\"T_5c8d4_row0_col0\" class=\"data row0 col0\" >Gradient Boosting Classifier</td>\n",
       "      <td id=\"T_5c8d4_row0_col1\" class=\"data row0 col1\" >0.5690</td>\n",
       "      <td id=\"T_5c8d4_row0_col2\" class=\"data row0 col2\" >0.5468</td>\n",
       "      <td id=\"T_5c8d4_row0_col3\" class=\"data row0 col3\" >0.7824</td>\n",
       "      <td id=\"T_5c8d4_row0_col4\" class=\"data row0 col4\" >0.6019</td>\n",
       "      <td id=\"T_5c8d4_row0_col5\" class=\"data row0 col5\" >0.6804</td>\n",
       "      <td id=\"T_5c8d4_row0_col6\" class=\"data row0 col6\" >0.0519</td>\n",
       "      <td id=\"T_5c8d4_row0_col7\" class=\"data row0 col7\" >0.0563</td>\n",
       "    </tr>\n",
       "  </tbody>\n",
       "</table>\n"
      ],
      "text/plain": [
       "<pandas.io.formats.style.Styler at 0x7f95ab719030>"
      ]
     },
     "metadata": {},
     "output_type": "display_data"
    },
    {
     "data": {
      "text/html": [
       "<style type=\"text/css\">\n",
       "</style>\n",
       "<table id=\"T_cad7a\">\n",
       "  <thead>\n",
       "    <tr>\n",
       "      <th class=\"blank level0\" >&nbsp;</th>\n",
       "      <th id=\"T_cad7a_level0_col0\" class=\"col_heading level0 col0\" >Model</th>\n",
       "      <th id=\"T_cad7a_level0_col1\" class=\"col_heading level0 col1\" >Accuracy</th>\n",
       "      <th id=\"T_cad7a_level0_col2\" class=\"col_heading level0 col2\" >AUC</th>\n",
       "      <th id=\"T_cad7a_level0_col3\" class=\"col_heading level0 col3\" >Recall</th>\n",
       "      <th id=\"T_cad7a_level0_col4\" class=\"col_heading level0 col4\" >Prec.</th>\n",
       "      <th id=\"T_cad7a_level0_col5\" class=\"col_heading level0 col5\" >F1</th>\n",
       "      <th id=\"T_cad7a_level0_col6\" class=\"col_heading level0 col6\" >Kappa</th>\n",
       "      <th id=\"T_cad7a_level0_col7\" class=\"col_heading level0 col7\" >MCC</th>\n",
       "    </tr>\n",
       "  </thead>\n",
       "  <tbody>\n",
       "    <tr>\n",
       "      <th id=\"T_cad7a_level0_row0\" class=\"row_heading level0 row0\" >0</th>\n",
       "      <td id=\"T_cad7a_row0_col0\" class=\"data row0 col0\" >Light Gradient Boosting Machine</td>\n",
       "      <td id=\"T_cad7a_row0_col1\" class=\"data row0 col1\" >0.5520</td>\n",
       "      <td id=\"T_cad7a_row0_col2\" class=\"data row0 col2\" >0.5389</td>\n",
       "      <td id=\"T_cad7a_row0_col3\" class=\"data row0 col3\" >0.7247</td>\n",
       "      <td id=\"T_cad7a_row0_col4\" class=\"data row0 col4\" >0.5973</td>\n",
       "      <td id=\"T_cad7a_row0_col5\" class=\"data row0 col5\" >0.6548</td>\n",
       "      <td id=\"T_cad7a_row0_col6\" class=\"data row0 col6\" >0.0333</td>\n",
       "      <td id=\"T_cad7a_row0_col7\" class=\"data row0 col7\" >0.0345</td>\n",
       "    </tr>\n",
       "  </tbody>\n",
       "</table>\n"
      ],
      "text/plain": [
       "<pandas.io.formats.style.Styler at 0x7f95780110c0>"
      ]
     },
     "metadata": {},
     "output_type": "display_data"
    },
    {
     "data": {
      "text/html": [
       "<style type=\"text/css\">\n",
       "</style>\n",
       "<table id=\"T_aa415\">\n",
       "  <thead>\n",
       "    <tr>\n",
       "      <th class=\"blank level0\" >&nbsp;</th>\n",
       "      <th id=\"T_aa415_level0_col0\" class=\"col_heading level0 col0\" >Model</th>\n",
       "      <th id=\"T_aa415_level0_col1\" class=\"col_heading level0 col1\" >Accuracy</th>\n",
       "      <th id=\"T_aa415_level0_col2\" class=\"col_heading level0 col2\" >AUC</th>\n",
       "      <th id=\"T_aa415_level0_col3\" class=\"col_heading level0 col3\" >Recall</th>\n",
       "      <th id=\"T_aa415_level0_col4\" class=\"col_heading level0 col4\" >Prec.</th>\n",
       "      <th id=\"T_aa415_level0_col5\" class=\"col_heading level0 col5\" >F1</th>\n",
       "      <th id=\"T_aa415_level0_col6\" class=\"col_heading level0 col6\" >Kappa</th>\n",
       "      <th id=\"T_aa415_level0_col7\" class=\"col_heading level0 col7\" >MCC</th>\n",
       "    </tr>\n",
       "  </thead>\n",
       "  <tbody>\n",
       "    <tr>\n",
       "      <th id=\"T_aa415_level0_row0\" class=\"row_heading level0 row0\" >0</th>\n",
       "      <td id=\"T_aa415_row0_col0\" class=\"data row0 col0\" >Random Forest Classifier</td>\n",
       "      <td id=\"T_aa415_row0_col1\" class=\"data row0 col1\" >0.5697</td>\n",
       "      <td id=\"T_aa415_row0_col2\" class=\"data row0 col2\" >0.5533</td>\n",
       "      <td id=\"T_aa415_row0_col3\" class=\"data row0 col3\" >0.7029</td>\n",
       "      <td id=\"T_aa415_row0_col4\" class=\"data row0 col4\" >0.6169</td>\n",
       "      <td id=\"T_aa415_row0_col5\" class=\"data row0 col5\" >0.6571</td>\n",
       "      <td id=\"T_aa415_row0_col6\" class=\"data row0 col6\" >0.0863</td>\n",
       "      <td id=\"T_aa415_row0_col7\" class=\"data row0 col7\" >0.0876</td>\n",
       "    </tr>\n",
       "  </tbody>\n",
       "</table>\n"
      ],
      "text/plain": [
       "<pandas.io.formats.style.Styler at 0x7f9587dfc970>"
      ]
     },
     "metadata": {},
     "output_type": "display_data"
    }
   ],
   "source": [
    "test_finalized_prediction_ada = predict_and_odds(test_data, regression_model_finalized_ada)\n",
    "test_finalized_prediction_gbc = predict_and_odds(test_data, regression_model_finalized_gbc)\n",
    "test_finalized_prediction_lightgbm = predict_and_odds(test_data, regression_model_finalized_lightgbm)\n",
    "test_finalized_prediction_rf = predict_and_odds(test_data, regression_model_finalized_rf)"
   ]
  },
  {
   "cell_type": "code",
   "execution_count": 116,
   "metadata": {
    "execution": {
     "iopub.execute_input": "2023-06-27T04:39:09.821332Z",
     "iopub.status.busy": "2023-06-27T04:39:09.821083Z",
     "iopub.status.idle": "2023-06-27T04:39:09.837323Z",
     "shell.execute_reply": "2023-06-27T04:39:09.836752Z",
     "shell.execute_reply.started": "2023-06-27T04:39:09.821306Z"
    }
   },
   "outputs": [
    {
     "name": "stdout",
     "output_type": "stream",
     "text": [
      "(0, nan)\n",
      "(0, nan)\n",
      "(0, nan)\n",
      "(0, nan)\n",
      "(0, nan)\n"
     ]
    }
   ],
   "source": [
    "print(get_eval_profile(test_finalized_prediction_ada, 0.6))\n",
    "print(get_eval_profile(test_finalized_prediction_ada, 0.7))\n",
    "print(get_eval_profile(test_finalized_prediction_ada, 0.75))\n",
    "print(get_eval_profile(test_finalized_prediction_ada, 0.80))\n",
    "print(get_eval_profile(test_finalized_prediction_ada, 0.85))"
   ]
  },
  {
   "cell_type": "code",
   "execution_count": 117,
   "metadata": {
    "execution": {
     "iopub.execute_input": "2023-06-27T04:39:09.838464Z",
     "iopub.status.busy": "2023-06-27T04:39:09.838308Z",
     "iopub.status.idle": "2023-06-27T04:39:09.887119Z",
     "shell.execute_reply": "2023-06-27T04:39:09.885978Z",
     "shell.execute_reply.started": "2023-06-27T04:39:09.838451Z"
    }
   },
   "outputs": [
    {
     "name": "stdout",
     "output_type": "stream",
     "text": [
      "(146, 0.5958904109589042)\n",
      "(36, 0.6111111111111112)\n",
      "(9, 0.6666666666666666)\n",
      "(4, 0.75)\n",
      "(0, nan)\n"
     ]
    }
   ],
   "source": [
    "print(get_eval_profile(test_finalized_prediction_gbc, 0.6))\n",
    "print(get_eval_profile(test_finalized_prediction_gbc, 0.7))\n",
    "print(get_eval_profile(test_finalized_prediction_gbc, 0.75))\n",
    "print(get_eval_profile(test_finalized_prediction_gbc, 0.80))\n",
    "print(get_eval_profile(test_finalized_prediction_gbc, 0.85))"
   ]
  },
  {
   "cell_type": "code",
   "execution_count": 118,
   "metadata": {
    "execution": {
     "iopub.execute_input": "2023-06-27T04:39:09.888551Z",
     "iopub.status.busy": "2023-06-27T04:39:09.888283Z",
     "iopub.status.idle": "2023-06-27T04:39:09.916963Z",
     "shell.execute_reply": "2023-06-27T04:39:09.915897Z",
     "shell.execute_reply.started": "2023-06-27T04:39:09.888524Z"
    }
   },
   "outputs": [
    {
     "name": "stdout",
     "output_type": "stream",
     "text": [
      "(140, 0.5928571428571429)\n",
      "(57, 0.6491228070175439)\n",
      "(25, 0.84)\n",
      "(10, 1.0)\n",
      "(4, 1.0)\n"
     ]
    }
   ],
   "source": [
    "print(get_eval_profile(test_finalized_prediction_lightgbm, 0.6))\n",
    "print(get_eval_profile(test_finalized_prediction_lightgbm, 0.7))\n",
    "print(get_eval_profile(test_finalized_prediction_lightgbm, 0.75))\n",
    "print(get_eval_profile(test_finalized_prediction_lightgbm, 0.80))\n",
    "print(get_eval_profile(test_finalized_prediction_lightgbm, 0.85))"
   ]
  },
  {
   "cell_type": "code",
   "execution_count": 119,
   "metadata": {
    "execution": {
     "iopub.execute_input": "2023-06-27T04:39:09.918722Z",
     "iopub.status.busy": "2023-06-27T04:39:09.918277Z",
     "iopub.status.idle": "2023-06-27T04:39:09.952278Z",
     "shell.execute_reply": "2023-06-27T04:39:09.950893Z",
     "shell.execute_reply.started": "2023-06-27T04:39:09.918672Z"
    }
   },
   "outputs": [
    {
     "name": "stdout",
     "output_type": "stream",
     "text": [
      "(150, 0.56)\n",
      "(50, 0.58)\n",
      "(27, 0.7407407407407407)\n",
      "(9, 0.7777777777777778)\n",
      "(3, 1.0)\n"
     ]
    }
   ],
   "source": [
    "print(get_eval_profile(test_finalized_prediction_rf, 0.6))\n",
    "print(get_eval_profile(test_finalized_prediction_rf, 0.7))\n",
    "print(get_eval_profile(test_finalized_prediction_rf, 0.75))\n",
    "print(get_eval_profile(test_finalized_prediction_rf, 0.80))\n",
    "print(get_eval_profile(test_finalized_prediction_rf, 0.85))"
   ]
  },
  {
   "cell_type": "markdown",
   "metadata": {},
   "source": [
    "**Save Model**"
   ]
  },
  {
   "cell_type": "code",
   "execution_count": 121,
   "metadata": {
    "execution": {
     "iopub.execute_input": "2023-06-27T04:42:02.772289Z",
     "iopub.status.busy": "2023-06-27T04:42:02.771934Z",
     "iopub.status.idle": "2023-06-27T04:42:02.977001Z",
     "shell.execute_reply": "2023-06-27T04:42:02.976245Z",
     "shell.execute_reply.started": "2023-06-27T04:42:02.772259Z"
    }
   },
   "outputs": [
    {
     "name": "stdout",
     "output_type": "stream",
     "text": [
      "Transformation Pipeline and Model Successfully Saved\n"
     ]
    },
    {
     "data": {
      "text/plain": [
       "(Pipeline(memory=FastMemory(location=/tmp/joblib),\n",
       "          steps=[('numerical_imputer',\n",
       "                  TransformerWrapper(exclude=None,\n",
       "                                     include=['pitching_gamesPlayed',\n",
       "                                              'pitching_runs_per_game',\n",
       "                                              'pitching_strikeOuts_per_game',\n",
       "                                              'pitching_hits_per_game',\n",
       "                                              'batting_gamesPlayed',\n",
       "                                              'batting_runs_per_game',\n",
       "                                              'batting_strikeOuts_per_game',\n",
       "                                              'batting_hits_per_game',\n",
       "                                              'batting_rbi',\n",
       "                                              'pitching_cur_...\n",
       "                                                       colsample_bytree=1.0,\n",
       "                                                       importance_type='split',\n",
       "                                                       learning_rate=0.1,\n",
       "                                                       max_depth=-1,\n",
       "                                                       min_child_samples=20,\n",
       "                                                       min_child_weight=0.001,\n",
       "                                                       min_split_gain=0.0,\n",
       "                                                       n_estimators=100,\n",
       "                                                       n_jobs=-1, num_leaves=31,\n",
       "                                                       objective=None,\n",
       "                                                       probability_threshold=0.5,\n",
       "                                                       random_state=3031,\n",
       "                                                       reg_alpha=0.0,\n",
       "                                                       reg_lambda=0.0,\n",
       "                                                       silent='warn',\n",
       "                                                       subsample=1.0,\n",
       "                                                       subsample_for_bin=200000,\n",
       "                                                       subsample_freq=0))],\n",
       "          verbose=False),\n",
       " 'model/batter_hit_regression_model.pkl')"
      ]
     },
     "execution_count": 121,
     "metadata": {},
     "output_type": "execute_result"
    }
   ],
   "source": [
    "pycaret.classification.save_model(regression_model_finalized_lightgbm, model.common.model_homerun_file_name)"
   ]
  },
  {
   "cell_type": "code",
   "execution_count": null,
   "metadata": {},
   "outputs": [],
   "source": []
  }
 ],
 "metadata": {
  "colab": {
   "provenance": []
  },
  "kernelspec": {
   "display_name": "Python 3 (ipykernel)",
   "language": "python",
   "name": "python3"
  },
  "language_info": {
   "codemirror_mode": {
    "name": "ipython",
    "version": 3
   },
   "file_extension": ".py",
   "mimetype": "text/x-python",
   "name": "python",
   "nbconvert_exporter": "python",
   "pygments_lexer": "ipython3",
   "version": "3.10.6"
  },
  "widgets": {
   "application/vnd.jupyter.widget-state+json": {
    "1ac32fe9102d4f5a9d1511e64a1d5e5d": {
     "model_module": "@jupyter-widgets/base",
     "model_module_version": "1.2.0",
     "model_name": "LayoutModel",
     "state": {
      "_model_module": "@jupyter-widgets/base",
      "_model_module_version": "1.2.0",
      "_model_name": "LayoutModel",
      "_view_count": null,
      "_view_module": "@jupyter-widgets/base",
      "_view_module_version": "1.2.0",
      "_view_name": "LayoutView",
      "align_content": null,
      "align_items": null,
      "align_self": null,
      "border": null,
      "bottom": null,
      "display": null,
      "flex": null,
      "flex_flow": null,
      "grid_area": null,
      "grid_auto_columns": null,
      "grid_auto_flow": null,
      "grid_auto_rows": null,
      "grid_column": null,
      "grid_gap": null,
      "grid_row": null,
      "grid_template_areas": null,
      "grid_template_columns": null,
      "grid_template_rows": null,
      "height": null,
      "justify_content": null,
      "justify_items": null,
      "left": null,
      "margin": null,
      "max_height": null,
      "max_width": null,
      "min_height": null,
      "min_width": null,
      "object_fit": null,
      "object_position": null,
      "order": null,
      "overflow": null,
      "overflow_x": null,
      "overflow_y": null,
      "padding": null,
      "right": null,
      "top": null,
      "visibility": null,
      "width": null
     }
    },
    "40b50c57e470496cb6c94a0693636fd7": {
     "model_module": "@jupyter-widgets/base",
     "model_module_version": "1.2.0",
     "model_name": "LayoutModel",
     "state": {
      "_model_module": "@jupyter-widgets/base",
      "_model_module_version": "1.2.0",
      "_model_name": "LayoutModel",
      "_view_count": null,
      "_view_module": "@jupyter-widgets/base",
      "_view_module_version": "1.2.0",
      "_view_name": "LayoutView",
      "align_content": null,
      "align_items": null,
      "align_self": null,
      "border": null,
      "bottom": null,
      "display": null,
      "flex": null,
      "flex_flow": null,
      "grid_area": null,
      "grid_auto_columns": null,
      "grid_auto_flow": null,
      "grid_auto_rows": null,
      "grid_column": null,
      "grid_gap": null,
      "grid_row": null,
      "grid_template_areas": null,
      "grid_template_columns": null,
      "grid_template_rows": null,
      "height": null,
      "justify_content": null,
      "justify_items": null,
      "left": null,
      "margin": null,
      "max_height": null,
      "max_width": null,
      "min_height": null,
      "min_width": null,
      "object_fit": null,
      "object_position": null,
      "order": null,
      "overflow": null,
      "overflow_x": null,
      "overflow_y": null,
      "padding": null,
      "right": null,
      "top": null,
      "visibility": "hidden",
      "width": null
     }
    },
    "46b9d3b6cd6e4f76a42dd4f216dc1644": {
     "model_module": "@jupyter-widgets/controls",
     "model_module_version": "1.5.0",
     "model_name": "HBoxModel",
     "state": {
      "_dom_classes": [],
      "_model_module": "@jupyter-widgets/controls",
      "_model_module_version": "1.5.0",
      "_model_name": "HBoxModel",
      "_view_count": null,
      "_view_module": "@jupyter-widgets/controls",
      "_view_module_version": "1.5.0",
      "_view_name": "HBoxView",
      "box_style": "",
      "children": [
       "IPY_MODEL_cfce22755aa7471a87151793e633def1",
       "IPY_MODEL_94d7b3dc65544425b2463933c4108fa4",
       "IPY_MODEL_f92582f04a594f87a669f3c1c4d4eabc"
      ],
      "layout": "IPY_MODEL_40b50c57e470496cb6c94a0693636fd7"
     }
    },
    "4efa6d0ab419418ea9e4991c77b1ec42": {
     "model_module": "@jupyter-widgets/controls",
     "model_module_version": "1.5.0",
     "model_name": "ProgressStyleModel",
     "state": {
      "_model_module": "@jupyter-widgets/controls",
      "_model_module_version": "1.5.0",
      "_model_name": "ProgressStyleModel",
      "_view_count": null,
      "_view_module": "@jupyter-widgets/base",
      "_view_module_version": "1.2.0",
      "_view_name": "StyleView",
      "bar_color": null,
      "description_width": ""
     }
    },
    "81feddb738c64cbc8b7dbc7aec2730de": {
     "model_module": "@jupyter-widgets/controls",
     "model_module_version": "1.5.0",
     "model_name": "DescriptionStyleModel",
     "state": {
      "_model_module": "@jupyter-widgets/controls",
      "_model_module_version": "1.5.0",
      "_model_name": "DescriptionStyleModel",
      "_view_count": null,
      "_view_module": "@jupyter-widgets/base",
      "_view_module_version": "1.2.0",
      "_view_name": "StyleView",
      "description_width": ""
     }
    },
    "94d7b3dc65544425b2463933c4108fa4": {
     "model_module": "@jupyter-widgets/controls",
     "model_module_version": "1.5.0",
     "model_name": "FloatProgressModel",
     "state": {
      "_dom_classes": [],
      "_model_module": "@jupyter-widgets/controls",
      "_model_module_version": "1.5.0",
      "_model_name": "FloatProgressModel",
      "_view_count": null,
      "_view_module": "@jupyter-widgets/controls",
      "_view_module_version": "1.5.0",
      "_view_name": "ProgressView",
      "bar_style": "",
      "description": "",
      "description_tooltip": null,
      "layout": "IPY_MODEL_eb74dfbcca4a458eb81d87fbae5bf166",
      "max": 4,
      "min": 0,
      "orientation": "horizontal",
      "style": "IPY_MODEL_4efa6d0ab419418ea9e4991c77b1ec42",
      "value": 4
     }
    },
    "bec03081ad154466a3a0abca5a8462f4": {
     "model_module": "@jupyter-widgets/base",
     "model_module_version": "1.2.0",
     "model_name": "LayoutModel",
     "state": {
      "_model_module": "@jupyter-widgets/base",
      "_model_module_version": "1.2.0",
      "_model_name": "LayoutModel",
      "_view_count": null,
      "_view_module": "@jupyter-widgets/base",
      "_view_module_version": "1.2.0",
      "_view_name": "LayoutView",
      "align_content": null,
      "align_items": null,
      "align_self": null,
      "border": null,
      "bottom": null,
      "display": null,
      "flex": null,
      "flex_flow": null,
      "grid_area": null,
      "grid_auto_columns": null,
      "grid_auto_flow": null,
      "grid_auto_rows": null,
      "grid_column": null,
      "grid_gap": null,
      "grid_row": null,
      "grid_template_areas": null,
      "grid_template_columns": null,
      "grid_template_rows": null,
      "height": null,
      "justify_content": null,
      "justify_items": null,
      "left": null,
      "margin": null,
      "max_height": null,
      "max_width": null,
      "min_height": null,
      "min_width": null,
      "object_fit": null,
      "object_position": null,
      "order": null,
      "overflow": null,
      "overflow_x": null,
      "overflow_y": null,
      "padding": null,
      "right": null,
      "top": null,
      "visibility": null,
      "width": null
     }
    },
    "cfcd697393754f1d93106a2d6e07ea05": {
     "model_module": "@jupyter-widgets/controls",
     "model_module_version": "1.5.0",
     "model_name": "DescriptionStyleModel",
     "state": {
      "_model_module": "@jupyter-widgets/controls",
      "_model_module_version": "1.5.0",
      "_model_name": "DescriptionStyleModel",
      "_view_count": null,
      "_view_module": "@jupyter-widgets/base",
      "_view_module_version": "1.2.0",
      "_view_name": "StyleView",
      "description_width": ""
     }
    },
    "cfce22755aa7471a87151793e633def1": {
     "model_module": "@jupyter-widgets/controls",
     "model_module_version": "1.5.0",
     "model_name": "HTMLModel",
     "state": {
      "_dom_classes": [],
      "_model_module": "@jupyter-widgets/controls",
      "_model_module_version": "1.5.0",
      "_model_name": "HTMLModel",
      "_view_count": null,
      "_view_module": "@jupyter-widgets/controls",
      "_view_module_version": "1.5.0",
      "_view_name": "HTMLView",
      "description": "",
      "description_tooltip": null,
      "layout": "IPY_MODEL_bec03081ad154466a3a0abca5a8462f4",
      "placeholder": "​",
      "style": "IPY_MODEL_81feddb738c64cbc8b7dbc7aec2730de",
      "value": "Processing: 100%"
     }
    },
    "eb74dfbcca4a458eb81d87fbae5bf166": {
     "model_module": "@jupyter-widgets/base",
     "model_module_version": "1.2.0",
     "model_name": "LayoutModel",
     "state": {
      "_model_module": "@jupyter-widgets/base",
      "_model_module_version": "1.2.0",
      "_model_name": "LayoutModel",
      "_view_count": null,
      "_view_module": "@jupyter-widgets/base",
      "_view_module_version": "1.2.0",
      "_view_name": "LayoutView",
      "align_content": null,
      "align_items": null,
      "align_self": null,
      "border": null,
      "bottom": null,
      "display": null,
      "flex": null,
      "flex_flow": null,
      "grid_area": null,
      "grid_auto_columns": null,
      "grid_auto_flow": null,
      "grid_auto_rows": null,
      "grid_column": null,
      "grid_gap": null,
      "grid_row": null,
      "grid_template_areas": null,
      "grid_template_columns": null,
      "grid_template_rows": null,
      "height": null,
      "justify_content": null,
      "justify_items": null,
      "left": null,
      "margin": null,
      "max_height": null,
      "max_width": null,
      "min_height": null,
      "min_width": null,
      "object_fit": null,
      "object_position": null,
      "order": null,
      "overflow": null,
      "overflow_x": null,
      "overflow_y": null,
      "padding": null,
      "right": null,
      "top": null,
      "visibility": null,
      "width": null
     }
    },
    "f92582f04a594f87a669f3c1c4d4eabc": {
     "model_module": "@jupyter-widgets/controls",
     "model_module_version": "1.5.0",
     "model_name": "HTMLModel",
     "state": {
      "_dom_classes": [],
      "_model_module": "@jupyter-widgets/controls",
      "_model_module_version": "1.5.0",
      "_model_name": "HTMLModel",
      "_view_count": null,
      "_view_module": "@jupyter-widgets/controls",
      "_view_module_version": "1.5.0",
      "_view_name": "HTMLView",
      "description": "",
      "description_tooltip": null,
      "layout": "IPY_MODEL_1ac32fe9102d4f5a9d1511e64a1d5e5d",
      "placeholder": "​",
      "style": "IPY_MODEL_cfcd697393754f1d93106a2d6e07ea05",
      "value": " 4/4 [00:10&lt;00:00,  2.34s/it]"
     }
    }
   }
  }
 },
 "nbformat": 4,
 "nbformat_minor": 4
}
