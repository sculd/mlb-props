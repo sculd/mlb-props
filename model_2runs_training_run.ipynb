{
 "cells": [
  {
   "cell_type": "markdown",
   "metadata": {
    "id": "X1V_SUC4p-YQ"
   },
   "source": [
    "**Import Packages**"
   ]
  },
  {
   "cell_type": "code",
   "execution_count": 1,
   "metadata": {
    "colab": {
     "base_uri": "https://localhost:8080/"
    },
    "execution": {
     "iopub.execute_input": "2023-07-06T20:24:27.161177Z",
     "iopub.status.busy": "2023-07-06T20:24:27.160946Z",
     "iopub.status.idle": "2023-07-06T20:24:28.938070Z",
     "shell.execute_reply": "2023-07-06T20:24:28.937210Z",
     "shell.execute_reply.started": "2023-07-06T20:24:27.161157Z"
    },
    "id": "IGZCa25_p5QY",
    "outputId": "d9e7f9d8-21e8-49dd-d344-173324ba79a5",
    "tags": []
   },
   "outputs": [],
   "source": [
    "import pycaret\n",
    "import pandas as pd\n",
    "import numpy as np\n",
    "import sqlalchemy\n",
    "import mysql.connector\n",
    "\n",
    "from pycaret import classification\n",
    "from pycaret.classification import plot_model\n",
    "from datetime import datetime\n",
    "import importlib\n",
    "import model.common"
   ]
  },
  {
   "cell_type": "code",
   "execution_count": 2,
   "metadata": {
    "execution": {
     "iopub.execute_input": "2023-07-06T20:24:28.939038Z",
     "iopub.status.busy": "2023-07-06T20:24:28.938907Z",
     "iopub.status.idle": "2023-07-06T20:24:28.941883Z",
     "shell.execute_reply": "2023-07-06T20:24:28.941281Z",
     "shell.execute_reply.started": "2023-07-06T20:24:28.939025Z"
    }
   },
   "outputs": [],
   "source": [
    "from static_data.load_static_data import *"
   ]
  },
  {
   "cell_type": "markdown",
   "metadata": {
    "id": "jqde2RQfqchC"
   },
   "source": [
    "**Load Data**"
   ]
  },
  {
   "cell_type": "code",
   "execution_count": 3,
   "metadata": {
    "execution": {
     "iopub.execute_input": "2023-07-06T20:24:28.942522Z",
     "iopub.status.busy": "2023-07-06T20:24:28.942276Z",
     "iopub.status.idle": "2023-07-06T20:24:29.321771Z",
     "shell.execute_reply": "2023-07-06T20:24:29.321172Z",
     "shell.execute_reply.started": "2023-07-06T20:24:28.942511Z"
    }
   },
   "outputs": [
    {
     "name": "stdout",
     "output_type": "stream",
     "text": [
      "325647\n"
     ]
    }
   ],
   "source": [
    "collect_data_Base_dir = 'collect_data'\n",
    "df_game_matchup_total = pd.read_pickle(f'{collect_data_Base_dir}/df_game_matchup_total.pkl')\n",
    "print(len(df_game_matchup_total))"
   ]
  },
  {
   "cell_type": "markdown",
   "metadata": {
    "id": "VkSM5TOeule8"
   },
   "source": [
    "**Choose Columns**"
   ]
  },
  {
   "cell_type": "code",
   "execution_count": 4,
   "metadata": {
    "execution": {
     "iopub.execute_input": "2023-07-06T20:24:29.322694Z",
     "iopub.status.busy": "2023-07-06T20:24:29.322473Z",
     "iopub.status.idle": "2023-07-06T20:24:29.328547Z",
     "shell.execute_reply": "2023-07-06T20:24:29.328018Z",
     "shell.execute_reply.started": "2023-07-06T20:24:29.322675Z"
    }
   },
   "outputs": [
    {
     "data": {
      "text/plain": [
       "<module 'model.common' from '/home/junlim/projects/mlb-props/model/common.py'>"
      ]
     },
     "execution_count": 4,
     "metadata": {},
     "output_type": "execute_result"
    }
   ],
   "source": [
    "importlib.reload(model.common)"
   ]
  },
  {
   "cell_type": "code",
   "execution_count": 5,
   "metadata": {
    "execution": {
     "iopub.execute_input": "2023-07-06T20:24:29.331052Z",
     "iopub.status.busy": "2023-07-06T20:24:29.330434Z",
     "iopub.status.idle": "2023-07-06T20:24:29.345001Z",
     "shell.execute_reply": "2023-07-06T20:24:29.344367Z",
     "shell.execute_reply.started": "2023-07-06T20:24:29.331020Z"
    }
   },
   "outputs": [],
   "source": [
    "feature_columns, target_column, model_file_name = model.common.features_2runs_recorded, model.common.target_2runs_recorded, model.common.model_2runs_file_name"
   ]
  },
  {
   "cell_type": "code",
   "execution_count": 6,
   "metadata": {
    "execution": {
     "iopub.execute_input": "2023-07-06T20:24:29.345727Z",
     "iopub.status.busy": "2023-07-06T20:24:29.345594Z",
     "iopub.status.idle": "2023-07-06T20:24:29.508555Z",
     "shell.execute_reply": "2023-07-06T20:24:29.507912Z",
     "shell.execute_reply.started": "2023-07-06T20:24:29.345711Z"
    }
   },
   "outputs": [],
   "source": [
    "train_data = df_game_matchup_total[(df_game_matchup_total.game_date > \"2012-04-01\") & (df_game_matchup_total.game_date < \"2022-12-01\")][feature_columns]\n",
    "test_data = df_game_matchup_total[(df_game_matchup_total.game_date > \"2022-12-01\")][feature_columns]"
   ]
  },
  {
   "cell_type": "markdown",
   "metadata": {
    "id": "Qxoqal-SvwXp"
   },
   "source": [
    "**Build/Train Model**"
   ]
  },
  {
   "cell_type": "code",
   "execution_count": 7,
   "metadata": {
    "execution": {
     "iopub.execute_input": "2023-07-06T20:24:29.509260Z",
     "iopub.status.busy": "2023-07-06T20:24:29.509124Z",
     "iopub.status.idle": "2023-07-06T20:29:01.983796Z",
     "shell.execute_reply": "2023-07-06T20:29:01.982874Z",
     "shell.execute_reply.started": "2023-07-06T20:24:29.509248Z"
    },
    "scrolled": true
   },
   "outputs": [
    {
     "data": {
      "text/html": [
       "<style type=\"text/css\">\n",
       "#T_f98f9_row11_col1 {\n",
       "  background-color: lightgreen;\n",
       "}\n",
       "</style>\n",
       "<table id=\"T_f98f9\">\n",
       "  <thead>\n",
       "    <tr>\n",
       "      <th class=\"blank level0\" >&nbsp;</th>\n",
       "      <th id=\"T_f98f9_level0_col0\" class=\"col_heading level0 col0\" >Description</th>\n",
       "      <th id=\"T_f98f9_level0_col1\" class=\"col_heading level0 col1\" >Value</th>\n",
       "    </tr>\n",
       "  </thead>\n",
       "  <tbody>\n",
       "    <tr>\n",
       "      <th id=\"T_f98f9_level0_row0\" class=\"row_heading level0 row0\" >0</th>\n",
       "      <td id=\"T_f98f9_row0_col0\" class=\"data row0 col0\" >Session id</td>\n",
       "      <td id=\"T_f98f9_row0_col1\" class=\"data row0 col1\" >2385</td>\n",
       "    </tr>\n",
       "    <tr>\n",
       "      <th id=\"T_f98f9_level0_row1\" class=\"row_heading level0 row1\" >1</th>\n",
       "      <td id=\"T_f98f9_row1_col0\" class=\"data row1 col0\" >Target</td>\n",
       "      <td id=\"T_f98f9_row1_col1\" class=\"data row1 col1\" >batting_2runs_recorded</td>\n",
       "    </tr>\n",
       "    <tr>\n",
       "      <th id=\"T_f98f9_level0_row2\" class=\"row_heading level0 row2\" >2</th>\n",
       "      <td id=\"T_f98f9_row2_col0\" class=\"data row2 col0\" >Target type</td>\n",
       "      <td id=\"T_f98f9_row2_col1\" class=\"data row2 col1\" >Binary</td>\n",
       "    </tr>\n",
       "    <tr>\n",
       "      <th id=\"T_f98f9_level0_row3\" class=\"row_heading level0 row3\" >3</th>\n",
       "      <td id=\"T_f98f9_row3_col0\" class=\"data row3 col0\" >Original data shape</td>\n",
       "      <td id=\"T_f98f9_row3_col1\" class=\"data row3 col1\" >(285090, 21)</td>\n",
       "    </tr>\n",
       "    <tr>\n",
       "      <th id=\"T_f98f9_level0_row4\" class=\"row_heading level0 row4\" >4</th>\n",
       "      <td id=\"T_f98f9_row4_col0\" class=\"data row4 col0\" >Transformed data shape</td>\n",
       "      <td id=\"T_f98f9_row4_col1\" class=\"data row4 col1\" >(285090, 15)</td>\n",
       "    </tr>\n",
       "    <tr>\n",
       "      <th id=\"T_f98f9_level0_row5\" class=\"row_heading level0 row5\" >5</th>\n",
       "      <td id=\"T_f98f9_row5_col0\" class=\"data row5 col0\" >Transformed train set shape</td>\n",
       "      <td id=\"T_f98f9_row5_col1\" class=\"data row5 col1\" >(199563, 15)</td>\n",
       "    </tr>\n",
       "    <tr>\n",
       "      <th id=\"T_f98f9_level0_row6\" class=\"row_heading level0 row6\" >6</th>\n",
       "      <td id=\"T_f98f9_row6_col0\" class=\"data row6 col0\" >Transformed test set shape</td>\n",
       "      <td id=\"T_f98f9_row6_col1\" class=\"data row6 col1\" >(85527, 15)</td>\n",
       "    </tr>\n",
       "    <tr>\n",
       "      <th id=\"T_f98f9_level0_row7\" class=\"row_heading level0 row7\" >7</th>\n",
       "      <td id=\"T_f98f9_row7_col0\" class=\"data row7 col0\" >Ignore features</td>\n",
       "      <td id=\"T_f98f9_row7_col1\" class=\"data row7 col1\" >6</td>\n",
       "    </tr>\n",
       "    <tr>\n",
       "      <th id=\"T_f98f9_level0_row8\" class=\"row_heading level0 row8\" >8</th>\n",
       "      <td id=\"T_f98f9_row8_col0\" class=\"data row8 col0\" >Numeric features</td>\n",
       "      <td id=\"T_f98f9_row8_col1\" class=\"data row8 col1\" >13</td>\n",
       "    </tr>\n",
       "    <tr>\n",
       "      <th id=\"T_f98f9_level0_row9\" class=\"row_heading level0 row9\" >9</th>\n",
       "      <td id=\"T_f98f9_row9_col0\" class=\"data row9 col0\" >Categorical features</td>\n",
       "      <td id=\"T_f98f9_row9_col1\" class=\"data row9 col1\" >1</td>\n",
       "    </tr>\n",
       "    <tr>\n",
       "      <th id=\"T_f98f9_level0_row10\" class=\"row_heading level0 row10\" >10</th>\n",
       "      <td id=\"T_f98f9_row10_col0\" class=\"data row10 col0\" >Rows with missing values</td>\n",
       "      <td id=\"T_f98f9_row10_col1\" class=\"data row10 col1\" >0.0%</td>\n",
       "    </tr>\n",
       "    <tr>\n",
       "      <th id=\"T_f98f9_level0_row11\" class=\"row_heading level0 row11\" >11</th>\n",
       "      <td id=\"T_f98f9_row11_col0\" class=\"data row11 col0\" >Preprocess</td>\n",
       "      <td id=\"T_f98f9_row11_col1\" class=\"data row11 col1\" >True</td>\n",
       "    </tr>\n",
       "    <tr>\n",
       "      <th id=\"T_f98f9_level0_row12\" class=\"row_heading level0 row12\" >12</th>\n",
       "      <td id=\"T_f98f9_row12_col0\" class=\"data row12 col0\" >Imputation type</td>\n",
       "      <td id=\"T_f98f9_row12_col1\" class=\"data row12 col1\" >simple</td>\n",
       "    </tr>\n",
       "    <tr>\n",
       "      <th id=\"T_f98f9_level0_row13\" class=\"row_heading level0 row13\" >13</th>\n",
       "      <td id=\"T_f98f9_row13_col0\" class=\"data row13 col0\" >Numeric imputation</td>\n",
       "      <td id=\"T_f98f9_row13_col1\" class=\"data row13 col1\" >mean</td>\n",
       "    </tr>\n",
       "    <tr>\n",
       "      <th id=\"T_f98f9_level0_row14\" class=\"row_heading level0 row14\" >14</th>\n",
       "      <td id=\"T_f98f9_row14_col0\" class=\"data row14 col0\" >Categorical imputation</td>\n",
       "      <td id=\"T_f98f9_row14_col1\" class=\"data row14 col1\" >mode</td>\n",
       "    </tr>\n",
       "    <tr>\n",
       "      <th id=\"T_f98f9_level0_row15\" class=\"row_heading level0 row15\" >15</th>\n",
       "      <td id=\"T_f98f9_row15_col0\" class=\"data row15 col0\" >Maximum one-hot encoding</td>\n",
       "      <td id=\"T_f98f9_row15_col1\" class=\"data row15 col1\" >25</td>\n",
       "    </tr>\n",
       "    <tr>\n",
       "      <th id=\"T_f98f9_level0_row16\" class=\"row_heading level0 row16\" >16</th>\n",
       "      <td id=\"T_f98f9_row16_col0\" class=\"data row16 col0\" >Encoding method</td>\n",
       "      <td id=\"T_f98f9_row16_col1\" class=\"data row16 col1\" >None</td>\n",
       "    </tr>\n",
       "    <tr>\n",
       "      <th id=\"T_f98f9_level0_row17\" class=\"row_heading level0 row17\" >17</th>\n",
       "      <td id=\"T_f98f9_row17_col0\" class=\"data row17 col0\" >Fold Generator</td>\n",
       "      <td id=\"T_f98f9_row17_col1\" class=\"data row17 col1\" >StratifiedKFold</td>\n",
       "    </tr>\n",
       "    <tr>\n",
       "      <th id=\"T_f98f9_level0_row18\" class=\"row_heading level0 row18\" >18</th>\n",
       "      <td id=\"T_f98f9_row18_col0\" class=\"data row18 col0\" >Fold Number</td>\n",
       "      <td id=\"T_f98f9_row18_col1\" class=\"data row18 col1\" >10</td>\n",
       "    </tr>\n",
       "    <tr>\n",
       "      <th id=\"T_f98f9_level0_row19\" class=\"row_heading level0 row19\" >19</th>\n",
       "      <td id=\"T_f98f9_row19_col0\" class=\"data row19 col0\" >CPU Jobs</td>\n",
       "      <td id=\"T_f98f9_row19_col1\" class=\"data row19 col1\" >-1</td>\n",
       "    </tr>\n",
       "    <tr>\n",
       "      <th id=\"T_f98f9_level0_row20\" class=\"row_heading level0 row20\" >20</th>\n",
       "      <td id=\"T_f98f9_row20_col0\" class=\"data row20 col0\" >Use GPU</td>\n",
       "      <td id=\"T_f98f9_row20_col1\" class=\"data row20 col1\" >False</td>\n",
       "    </tr>\n",
       "    <tr>\n",
       "      <th id=\"T_f98f9_level0_row21\" class=\"row_heading level0 row21\" >21</th>\n",
       "      <td id=\"T_f98f9_row21_col0\" class=\"data row21 col0\" >Log Experiment</td>\n",
       "      <td id=\"T_f98f9_row21_col1\" class=\"data row21 col1\" >False</td>\n",
       "    </tr>\n",
       "    <tr>\n",
       "      <th id=\"T_f98f9_level0_row22\" class=\"row_heading level0 row22\" >22</th>\n",
       "      <td id=\"T_f98f9_row22_col0\" class=\"data row22 col0\" >Experiment Name</td>\n",
       "      <td id=\"T_f98f9_row22_col1\" class=\"data row22 col1\" >clf-default-name</td>\n",
       "    </tr>\n",
       "    <tr>\n",
       "      <th id=\"T_f98f9_level0_row23\" class=\"row_heading level0 row23\" >23</th>\n",
       "      <td id=\"T_f98f9_row23_col0\" class=\"data row23 col0\" >USI</td>\n",
       "      <td id=\"T_f98f9_row23_col1\" class=\"data row23 col1\" >8b82</td>\n",
       "    </tr>\n",
       "  </tbody>\n",
       "</table>\n"
      ],
      "text/plain": [
       "<pandas.io.formats.style.Styler at 0x7f8301adaf20>"
      ]
     },
     "metadata": {},
     "output_type": "display_data"
    },
    {
     "data": {
      "text/html": [],
      "text/plain": [
       "<IPython.core.display.HTML object>"
      ]
     },
     "metadata": {},
     "output_type": "display_data"
    },
    {
     "data": {
      "text/html": [
       "<style type=\"text/css\">\n",
       "#T_28ac4_row10_col0, #T_28ac4_row10_col1, #T_28ac4_row10_col2, #T_28ac4_row10_col3, #T_28ac4_row10_col4, #T_28ac4_row10_col5, #T_28ac4_row10_col6 {\n",
       "  background: yellow;\n",
       "}\n",
       "</style>\n",
       "<table id=\"T_28ac4\">\n",
       "  <thead>\n",
       "    <tr>\n",
       "      <th class=\"blank level0\" >&nbsp;</th>\n",
       "      <th id=\"T_28ac4_level0_col0\" class=\"col_heading level0 col0\" >Accuracy</th>\n",
       "      <th id=\"T_28ac4_level0_col1\" class=\"col_heading level0 col1\" >AUC</th>\n",
       "      <th id=\"T_28ac4_level0_col2\" class=\"col_heading level0 col2\" >Recall</th>\n",
       "      <th id=\"T_28ac4_level0_col3\" class=\"col_heading level0 col3\" >Prec.</th>\n",
       "      <th id=\"T_28ac4_level0_col4\" class=\"col_heading level0 col4\" >F1</th>\n",
       "      <th id=\"T_28ac4_level0_col5\" class=\"col_heading level0 col5\" >Kappa</th>\n",
       "      <th id=\"T_28ac4_level0_col6\" class=\"col_heading level0 col6\" >MCC</th>\n",
       "    </tr>\n",
       "    <tr>\n",
       "      <th class=\"index_name level0\" >Fold</th>\n",
       "      <th class=\"blank col0\" >&nbsp;</th>\n",
       "      <th class=\"blank col1\" >&nbsp;</th>\n",
       "      <th class=\"blank col2\" >&nbsp;</th>\n",
       "      <th class=\"blank col3\" >&nbsp;</th>\n",
       "      <th class=\"blank col4\" >&nbsp;</th>\n",
       "      <th class=\"blank col5\" >&nbsp;</th>\n",
       "      <th class=\"blank col6\" >&nbsp;</th>\n",
       "    </tr>\n",
       "  </thead>\n",
       "  <tbody>\n",
       "    <tr>\n",
       "      <th id=\"T_28ac4_level0_row0\" class=\"row_heading level0 row0\" >0</th>\n",
       "      <td id=\"T_28ac4_row0_col0\" class=\"data row0 col0\" >0.9260</td>\n",
       "      <td id=\"T_28ac4_row0_col1\" class=\"data row0 col1\" >0.6585</td>\n",
       "      <td id=\"T_28ac4_row0_col2\" class=\"data row0 col2\" >0.0000</td>\n",
       "      <td id=\"T_28ac4_row0_col3\" class=\"data row0 col3\" >0.0000</td>\n",
       "      <td id=\"T_28ac4_row0_col4\" class=\"data row0 col4\" >0.0000</td>\n",
       "      <td id=\"T_28ac4_row0_col5\" class=\"data row0 col5\" >0.0000</td>\n",
       "      <td id=\"T_28ac4_row0_col6\" class=\"data row0 col6\" >0.0000</td>\n",
       "    </tr>\n",
       "    <tr>\n",
       "      <th id=\"T_28ac4_level0_row1\" class=\"row_heading level0 row1\" >1</th>\n",
       "      <td id=\"T_28ac4_row1_col0\" class=\"data row1 col0\" >0.9260</td>\n",
       "      <td id=\"T_28ac4_row1_col1\" class=\"data row1 col1\" >0.6731</td>\n",
       "      <td id=\"T_28ac4_row1_col2\" class=\"data row1 col2\" >0.0000</td>\n",
       "      <td id=\"T_28ac4_row1_col3\" class=\"data row1 col3\" >0.0000</td>\n",
       "      <td id=\"T_28ac4_row1_col4\" class=\"data row1 col4\" >0.0000</td>\n",
       "      <td id=\"T_28ac4_row1_col5\" class=\"data row1 col5\" >0.0000</td>\n",
       "      <td id=\"T_28ac4_row1_col6\" class=\"data row1 col6\" >0.0000</td>\n",
       "    </tr>\n",
       "    <tr>\n",
       "      <th id=\"T_28ac4_level0_row2\" class=\"row_heading level0 row2\" >2</th>\n",
       "      <td id=\"T_28ac4_row2_col0\" class=\"data row2 col0\" >0.9260</td>\n",
       "      <td id=\"T_28ac4_row2_col1\" class=\"data row2 col1\" >0.6588</td>\n",
       "      <td id=\"T_28ac4_row2_col2\" class=\"data row2 col2\" >0.0000</td>\n",
       "      <td id=\"T_28ac4_row2_col3\" class=\"data row2 col3\" >0.0000</td>\n",
       "      <td id=\"T_28ac4_row2_col4\" class=\"data row2 col4\" >0.0000</td>\n",
       "      <td id=\"T_28ac4_row2_col5\" class=\"data row2 col5\" >0.0000</td>\n",
       "      <td id=\"T_28ac4_row2_col6\" class=\"data row2 col6\" >0.0000</td>\n",
       "    </tr>\n",
       "    <tr>\n",
       "      <th id=\"T_28ac4_level0_row3\" class=\"row_heading level0 row3\" >3</th>\n",
       "      <td id=\"T_28ac4_row3_col0\" class=\"data row3 col0\" >0.9261</td>\n",
       "      <td id=\"T_28ac4_row3_col1\" class=\"data row3 col1\" >0.6572</td>\n",
       "      <td id=\"T_28ac4_row3_col2\" class=\"data row3 col2\" >0.0000</td>\n",
       "      <td id=\"T_28ac4_row3_col3\" class=\"data row3 col3\" >0.0000</td>\n",
       "      <td id=\"T_28ac4_row3_col4\" class=\"data row3 col4\" >0.0000</td>\n",
       "      <td id=\"T_28ac4_row3_col5\" class=\"data row3 col5\" >0.0000</td>\n",
       "      <td id=\"T_28ac4_row3_col6\" class=\"data row3 col6\" >0.0000</td>\n",
       "    </tr>\n",
       "    <tr>\n",
       "      <th id=\"T_28ac4_level0_row4\" class=\"row_heading level0 row4\" >4</th>\n",
       "      <td id=\"T_28ac4_row4_col0\" class=\"data row4 col0\" >0.9261</td>\n",
       "      <td id=\"T_28ac4_row4_col1\" class=\"data row4 col1\" >0.6529</td>\n",
       "      <td id=\"T_28ac4_row4_col2\" class=\"data row4 col2\" >0.0000</td>\n",
       "      <td id=\"T_28ac4_row4_col3\" class=\"data row4 col3\" >0.0000</td>\n",
       "      <td id=\"T_28ac4_row4_col4\" class=\"data row4 col4\" >0.0000</td>\n",
       "      <td id=\"T_28ac4_row4_col5\" class=\"data row4 col5\" >0.0000</td>\n",
       "      <td id=\"T_28ac4_row4_col6\" class=\"data row4 col6\" >0.0000</td>\n",
       "    </tr>\n",
       "    <tr>\n",
       "      <th id=\"T_28ac4_level0_row5\" class=\"row_heading level0 row5\" >5</th>\n",
       "      <td id=\"T_28ac4_row5_col0\" class=\"data row5 col0\" >0.9261</td>\n",
       "      <td id=\"T_28ac4_row5_col1\" class=\"data row5 col1\" >0.6667</td>\n",
       "      <td id=\"T_28ac4_row5_col2\" class=\"data row5 col2\" >0.0000</td>\n",
       "      <td id=\"T_28ac4_row5_col3\" class=\"data row5 col3\" >0.0000</td>\n",
       "      <td id=\"T_28ac4_row5_col4\" class=\"data row5 col4\" >0.0000</td>\n",
       "      <td id=\"T_28ac4_row5_col5\" class=\"data row5 col5\" >0.0000</td>\n",
       "      <td id=\"T_28ac4_row5_col6\" class=\"data row5 col6\" >0.0000</td>\n",
       "    </tr>\n",
       "    <tr>\n",
       "      <th id=\"T_28ac4_level0_row6\" class=\"row_heading level0 row6\" >6</th>\n",
       "      <td id=\"T_28ac4_row6_col0\" class=\"data row6 col0\" >0.9261</td>\n",
       "      <td id=\"T_28ac4_row6_col1\" class=\"data row6 col1\" >0.6627</td>\n",
       "      <td id=\"T_28ac4_row6_col2\" class=\"data row6 col2\" >0.0000</td>\n",
       "      <td id=\"T_28ac4_row6_col3\" class=\"data row6 col3\" >0.0000</td>\n",
       "      <td id=\"T_28ac4_row6_col4\" class=\"data row6 col4\" >0.0000</td>\n",
       "      <td id=\"T_28ac4_row6_col5\" class=\"data row6 col5\" >0.0000</td>\n",
       "      <td id=\"T_28ac4_row6_col6\" class=\"data row6 col6\" >0.0000</td>\n",
       "    </tr>\n",
       "    <tr>\n",
       "      <th id=\"T_28ac4_level0_row7\" class=\"row_heading level0 row7\" >7</th>\n",
       "      <td id=\"T_28ac4_row7_col0\" class=\"data row7 col0\" >0.9261</td>\n",
       "      <td id=\"T_28ac4_row7_col1\" class=\"data row7 col1\" >0.6539</td>\n",
       "      <td id=\"T_28ac4_row7_col2\" class=\"data row7 col2\" >0.0000</td>\n",
       "      <td id=\"T_28ac4_row7_col3\" class=\"data row7 col3\" >0.0000</td>\n",
       "      <td id=\"T_28ac4_row7_col4\" class=\"data row7 col4\" >0.0000</td>\n",
       "      <td id=\"T_28ac4_row7_col5\" class=\"data row7 col5\" >0.0000</td>\n",
       "      <td id=\"T_28ac4_row7_col6\" class=\"data row7 col6\" >0.0000</td>\n",
       "    </tr>\n",
       "    <tr>\n",
       "      <th id=\"T_28ac4_level0_row8\" class=\"row_heading level0 row8\" >8</th>\n",
       "      <td id=\"T_28ac4_row8_col0\" class=\"data row8 col0\" >0.9260</td>\n",
       "      <td id=\"T_28ac4_row8_col1\" class=\"data row8 col1\" >0.6724</td>\n",
       "      <td id=\"T_28ac4_row8_col2\" class=\"data row8 col2\" >0.0000</td>\n",
       "      <td id=\"T_28ac4_row8_col3\" class=\"data row8 col3\" >0.0000</td>\n",
       "      <td id=\"T_28ac4_row8_col4\" class=\"data row8 col4\" >0.0000</td>\n",
       "      <td id=\"T_28ac4_row8_col5\" class=\"data row8 col5\" >-0.0001</td>\n",
       "      <td id=\"T_28ac4_row8_col6\" class=\"data row8 col6\" >-0.0020</td>\n",
       "    </tr>\n",
       "    <tr>\n",
       "      <th id=\"T_28ac4_level0_row9\" class=\"row_heading level0 row9\" >9</th>\n",
       "      <td id=\"T_28ac4_row9_col0\" class=\"data row9 col0\" >0.9260</td>\n",
       "      <td id=\"T_28ac4_row9_col1\" class=\"data row9 col1\" >0.6572</td>\n",
       "      <td id=\"T_28ac4_row9_col2\" class=\"data row9 col2\" >0.0000</td>\n",
       "      <td id=\"T_28ac4_row9_col3\" class=\"data row9 col3\" >0.0000</td>\n",
       "      <td id=\"T_28ac4_row9_col4\" class=\"data row9 col4\" >0.0000</td>\n",
       "      <td id=\"T_28ac4_row9_col5\" class=\"data row9 col5\" >0.0000</td>\n",
       "      <td id=\"T_28ac4_row9_col6\" class=\"data row9 col6\" >0.0000</td>\n",
       "    </tr>\n",
       "    <tr>\n",
       "      <th id=\"T_28ac4_level0_row10\" class=\"row_heading level0 row10\" >Mean</th>\n",
       "      <td id=\"T_28ac4_row10_col0\" class=\"data row10 col0\" >0.9261</td>\n",
       "      <td id=\"T_28ac4_row10_col1\" class=\"data row10 col1\" >0.6613</td>\n",
       "      <td id=\"T_28ac4_row10_col2\" class=\"data row10 col2\" >0.0000</td>\n",
       "      <td id=\"T_28ac4_row10_col3\" class=\"data row10 col3\" >0.0000</td>\n",
       "      <td id=\"T_28ac4_row10_col4\" class=\"data row10 col4\" >0.0000</td>\n",
       "      <td id=\"T_28ac4_row10_col5\" class=\"data row10 col5\" >-0.0000</td>\n",
       "      <td id=\"T_28ac4_row10_col6\" class=\"data row10 col6\" >-0.0002</td>\n",
       "    </tr>\n",
       "    <tr>\n",
       "      <th id=\"T_28ac4_level0_row11\" class=\"row_heading level0 row11\" >Std</th>\n",
       "      <td id=\"T_28ac4_row11_col0\" class=\"data row11 col0\" >0.0000</td>\n",
       "      <td id=\"T_28ac4_row11_col1\" class=\"data row11 col1\" >0.0068</td>\n",
       "      <td id=\"T_28ac4_row11_col2\" class=\"data row11 col2\" >0.0000</td>\n",
       "      <td id=\"T_28ac4_row11_col3\" class=\"data row11 col3\" >0.0000</td>\n",
       "      <td id=\"T_28ac4_row11_col4\" class=\"data row11 col4\" >0.0000</td>\n",
       "      <td id=\"T_28ac4_row11_col5\" class=\"data row11 col5\" >0.0000</td>\n",
       "      <td id=\"T_28ac4_row11_col6\" class=\"data row11 col6\" >0.0006</td>\n",
       "    </tr>\n",
       "  </tbody>\n",
       "</table>\n"
      ],
      "text/plain": [
       "<pandas.io.formats.style.Styler at 0x7f8300a89e40>"
      ]
     },
     "metadata": {},
     "output_type": "display_data"
    },
    {
     "data": {
      "text/html": [],
      "text/plain": [
       "<IPython.core.display.HTML object>"
      ]
     },
     "metadata": {},
     "output_type": "display_data"
    },
    {
     "data": {
      "text/html": [],
      "text/plain": [
       "<IPython.core.display.HTML object>"
      ]
     },
     "metadata": {},
     "output_type": "display_data"
    },
    {
     "data": {
      "image/png": "[encoded data removed]",
      "text/plain": [
       "<Figure size 480x330 with 1 Axes>"
      ]
     },
     "metadata": {},
     "output_type": "display_data"
    },
    {
     "data": {
      "text/html": [],
      "text/plain": [
       "<IPython.core.display.HTML object>"
      ]
     },
     "metadata": {},
     "output_type": "display_data"
    },
    {
     "data": {
      "text/html": [
       "<style type=\"text/css\">\n",
       "#T_5d0bd_row10_col0, #T_5d0bd_row10_col1, #T_5d0bd_row10_col2, #T_5d0bd_row10_col3, #T_5d0bd_row10_col4, #T_5d0bd_row10_col5, #T_5d0bd_row10_col6 {\n",
       "  background: yellow;\n",
       "}\n",
       "</style>\n",
       "<table id=\"T_5d0bd\">\n",
       "  <thead>\n",
       "    <tr>\n",
       "      <th class=\"blank level0\" >&nbsp;</th>\n",
       "      <th id=\"T_5d0bd_level0_col0\" class=\"col_heading level0 col0\" >Accuracy</th>\n",
       "      <th id=\"T_5d0bd_level0_col1\" class=\"col_heading level0 col1\" >AUC</th>\n",
       "      <th id=\"T_5d0bd_level0_col2\" class=\"col_heading level0 col2\" >Recall</th>\n",
       "      <th id=\"T_5d0bd_level0_col3\" class=\"col_heading level0 col3\" >Prec.</th>\n",
       "      <th id=\"T_5d0bd_level0_col4\" class=\"col_heading level0 col4\" >F1</th>\n",
       "      <th id=\"T_5d0bd_level0_col5\" class=\"col_heading level0 col5\" >Kappa</th>\n",
       "      <th id=\"T_5d0bd_level0_col6\" class=\"col_heading level0 col6\" >MCC</th>\n",
       "    </tr>\n",
       "    <tr>\n",
       "      <th class=\"index_name level0\" >Fold</th>\n",
       "      <th class=\"blank col0\" >&nbsp;</th>\n",
       "      <th class=\"blank col1\" >&nbsp;</th>\n",
       "      <th class=\"blank col2\" >&nbsp;</th>\n",
       "      <th class=\"blank col3\" >&nbsp;</th>\n",
       "      <th class=\"blank col4\" >&nbsp;</th>\n",
       "      <th class=\"blank col5\" >&nbsp;</th>\n",
       "      <th class=\"blank col6\" >&nbsp;</th>\n",
       "    </tr>\n",
       "  </thead>\n",
       "  <tbody>\n",
       "    <tr>\n",
       "      <th id=\"T_5d0bd_level0_row0\" class=\"row_heading level0 row0\" >0</th>\n",
       "      <td id=\"T_5d0bd_row0_col0\" class=\"data row0 col0\" >0.9260</td>\n",
       "      <td id=\"T_5d0bd_row0_col1\" class=\"data row0 col1\" >0.6567</td>\n",
       "      <td id=\"T_5d0bd_row0_col2\" class=\"data row0 col2\" >0.0014</td>\n",
       "      <td id=\"T_5d0bd_row0_col3\" class=\"data row0 col3\" >0.5000</td>\n",
       "      <td id=\"T_5d0bd_row0_col4\" class=\"data row0 col4\" >0.0027</td>\n",
       "      <td id=\"T_5d0bd_row0_col5\" class=\"data row0 col5\" >0.0023</td>\n",
       "      <td id=\"T_5d0bd_row0_col6\" class=\"data row0 col6\" >0.0230</td>\n",
       "    </tr>\n",
       "    <tr>\n",
       "      <th id=\"T_5d0bd_level0_row1\" class=\"row_heading level0 row1\" >1</th>\n",
       "      <td id=\"T_5d0bd_row1_col0\" class=\"data row1 col0\" >0.9260</td>\n",
       "      <td id=\"T_5d0bd_row1_col1\" class=\"data row1 col1\" >0.6796</td>\n",
       "      <td id=\"T_5d0bd_row1_col2\" class=\"data row1 col2\" >0.0000</td>\n",
       "      <td id=\"T_5d0bd_row1_col3\" class=\"data row1 col3\" >0.0000</td>\n",
       "      <td id=\"T_5d0bd_row1_col4\" class=\"data row1 col4\" >0.0000</td>\n",
       "      <td id=\"T_5d0bd_row1_col5\" class=\"data row1 col5\" >-0.0001</td>\n",
       "      <td id=\"T_5d0bd_row1_col6\" class=\"data row1 col6\" >-0.0020</td>\n",
       "    </tr>\n",
       "    <tr>\n",
       "      <th id=\"T_5d0bd_level0_row2\" class=\"row_heading level0 row2\" >2</th>\n",
       "      <td id=\"T_5d0bd_row2_col0\" class=\"data row2 col0\" >0.9261</td>\n",
       "      <td id=\"T_5d0bd_row2_col1\" class=\"data row2 col1\" >0.6648</td>\n",
       "      <td id=\"T_5d0bd_row2_col2\" class=\"data row2 col2\" >0.0027</td>\n",
       "      <td id=\"T_5d0bd_row2_col3\" class=\"data row2 col3\" >0.5714</td>\n",
       "      <td id=\"T_5d0bd_row2_col4\" class=\"data row2 col4\" >0.0054</td>\n",
       "      <td id=\"T_5d0bd_row2_col5\" class=\"data row2 col5\" >0.0047</td>\n",
       "      <td id=\"T_5d0bd_row2_col6\" class=\"data row2 col6\" >0.0356</td>\n",
       "    </tr>\n",
       "    <tr>\n",
       "      <th id=\"T_5d0bd_level0_row3\" class=\"row_heading level0 row3\" >3</th>\n",
       "      <td id=\"T_5d0bd_row3_col0\" class=\"data row3 col0\" >0.9260</td>\n",
       "      <td id=\"T_5d0bd_row3_col1\" class=\"data row3 col1\" >0.6639</td>\n",
       "      <td id=\"T_5d0bd_row3_col2\" class=\"data row3 col2\" >0.0007</td>\n",
       "      <td id=\"T_5d0bd_row3_col3\" class=\"data row3 col3\" >0.3333</td>\n",
       "      <td id=\"T_5d0bd_row3_col4\" class=\"data row3 col4\" >0.0014</td>\n",
       "      <td id=\"T_5d0bd_row3_col5\" class=\"data row3 col5\" >0.0011</td>\n",
       "      <td id=\"T_5d0bd_row3_col6\" class=\"data row3 col6\" >0.0122</td>\n",
       "    </tr>\n",
       "    <tr>\n",
       "      <th id=\"T_5d0bd_level0_row4\" class=\"row_heading level0 row4\" >4</th>\n",
       "      <td id=\"T_5d0bd_row4_col0\" class=\"data row4 col0\" >0.9260</td>\n",
       "      <td id=\"T_5d0bd_row4_col1\" class=\"data row4 col1\" >0.6582</td>\n",
       "      <td id=\"T_5d0bd_row4_col2\" class=\"data row4 col2\" >0.0007</td>\n",
       "      <td id=\"T_5d0bd_row4_col3\" class=\"data row4 col3\" >0.2500</td>\n",
       "      <td id=\"T_5d0bd_row4_col4\" class=\"data row4 col4\" >0.0014</td>\n",
       "      <td id=\"T_5d0bd_row4_col5\" class=\"data row4 col5\" >0.0010</td>\n",
       "      <td id=\"T_5d0bd_row4_col6\" class=\"data row4 col6\" >0.0095</td>\n",
       "    </tr>\n",
       "    <tr>\n",
       "      <th id=\"T_5d0bd_level0_row5\" class=\"row_heading level0 row5\" >5</th>\n",
       "      <td id=\"T_5d0bd_row5_col0\" class=\"data row5 col0\" >0.9260</td>\n",
       "      <td id=\"T_5d0bd_row5_col1\" class=\"data row5 col1\" >0.6713</td>\n",
       "      <td id=\"T_5d0bd_row5_col2\" class=\"data row5 col2\" >0.0000</td>\n",
       "      <td id=\"T_5d0bd_row5_col3\" class=\"data row5 col3\" >0.0000</td>\n",
       "      <td id=\"T_5d0bd_row5_col4\" class=\"data row5 col4\" >0.0000</td>\n",
       "      <td id=\"T_5d0bd_row5_col5\" class=\"data row5 col5\" >-0.0001</td>\n",
       "      <td id=\"T_5d0bd_row5_col6\" class=\"data row5 col6\" >-0.0020</td>\n",
       "    </tr>\n",
       "    <tr>\n",
       "      <th id=\"T_5d0bd_level0_row6\" class=\"row_heading level0 row6\" >6</th>\n",
       "      <td id=\"T_5d0bd_row6_col0\" class=\"data row6 col0\" >0.9260</td>\n",
       "      <td id=\"T_5d0bd_row6_col1\" class=\"data row6 col1\" >0.6665</td>\n",
       "      <td id=\"T_5d0bd_row6_col2\" class=\"data row6 col2\" >0.0007</td>\n",
       "      <td id=\"T_5d0bd_row6_col3\" class=\"data row6 col3\" >0.3333</td>\n",
       "      <td id=\"T_5d0bd_row6_col4\" class=\"data row6 col4\" >0.0014</td>\n",
       "      <td id=\"T_5d0bd_row6_col5\" class=\"data row6 col5\" >0.0011</td>\n",
       "      <td id=\"T_5d0bd_row6_col6\" class=\"data row6 col6\" >0.0122</td>\n",
       "    </tr>\n",
       "    <tr>\n",
       "      <th id=\"T_5d0bd_level0_row7\" class=\"row_heading level0 row7\" >7</th>\n",
       "      <td id=\"T_5d0bd_row7_col0\" class=\"data row7 col0\" >0.9260</td>\n",
       "      <td id=\"T_5d0bd_row7_col1\" class=\"data row7 col1\" >0.6661</td>\n",
       "      <td id=\"T_5d0bd_row7_col2\" class=\"data row7 col2\" >0.0000</td>\n",
       "      <td id=\"T_5d0bd_row7_col3\" class=\"data row7 col3\" >0.0000</td>\n",
       "      <td id=\"T_5d0bd_row7_col4\" class=\"data row7 col4\" >0.0000</td>\n",
       "      <td id=\"T_5d0bd_row7_col5\" class=\"data row7 col5\" >-0.0001</td>\n",
       "      <td id=\"T_5d0bd_row7_col6\" class=\"data row7 col6\" >-0.0020</td>\n",
       "    </tr>\n",
       "    <tr>\n",
       "      <th id=\"T_5d0bd_level0_row8\" class=\"row_heading level0 row8\" >8</th>\n",
       "      <td id=\"T_5d0bd_row8_col0\" class=\"data row8 col0\" >0.9260</td>\n",
       "      <td id=\"T_5d0bd_row8_col1\" class=\"data row8 col1\" >0.6756</td>\n",
       "      <td id=\"T_5d0bd_row8_col2\" class=\"data row8 col2\" >0.0000</td>\n",
       "      <td id=\"T_5d0bd_row8_col3\" class=\"data row8 col3\" >0.0000</td>\n",
       "      <td id=\"T_5d0bd_row8_col4\" class=\"data row8 col4\" >0.0000</td>\n",
       "      <td id=\"T_5d0bd_row8_col5\" class=\"data row8 col5\" >-0.0001</td>\n",
       "      <td id=\"T_5d0bd_row8_col6\" class=\"data row8 col6\" >-0.0020</td>\n",
       "    </tr>\n",
       "    <tr>\n",
       "      <th id=\"T_5d0bd_level0_row9\" class=\"row_heading level0 row9\" >9</th>\n",
       "      <td id=\"T_5d0bd_row9_col0\" class=\"data row9 col0\" >0.9260</td>\n",
       "      <td id=\"T_5d0bd_row9_col1\" class=\"data row9 col1\" >0.6626</td>\n",
       "      <td id=\"T_5d0bd_row9_col2\" class=\"data row9 col2\" >0.0007</td>\n",
       "      <td id=\"T_5d0bd_row9_col3\" class=\"data row9 col3\" >0.5000</td>\n",
       "      <td id=\"T_5d0bd_row9_col4\" class=\"data row9 col4\" >0.0014</td>\n",
       "      <td id=\"T_5d0bd_row9_col5\" class=\"data row9 col5\" >0.0012</td>\n",
       "      <td id=\"T_5d0bd_row9_col6\" class=\"data row9 col6\" >0.0163</td>\n",
       "    </tr>\n",
       "    <tr>\n",
       "      <th id=\"T_5d0bd_level0_row10\" class=\"row_heading level0 row10\" >Mean</th>\n",
       "      <td id=\"T_5d0bd_row10_col0\" class=\"data row10 col0\" >0.9260</td>\n",
       "      <td id=\"T_5d0bd_row10_col1\" class=\"data row10 col1\" >0.6665</td>\n",
       "      <td id=\"T_5d0bd_row10_col2\" class=\"data row10 col2\" >0.0007</td>\n",
       "      <td id=\"T_5d0bd_row10_col3\" class=\"data row10 col3\" >0.2488</td>\n",
       "      <td id=\"T_5d0bd_row10_col4\" class=\"data row10 col4\" >0.0014</td>\n",
       "      <td id=\"T_5d0bd_row10_col5\" class=\"data row10 col5\" >0.0011</td>\n",
       "      <td id=\"T_5d0bd_row10_col6\" class=\"data row10 col6\" >0.0101</td>\n",
       "    </tr>\n",
       "    <tr>\n",
       "      <th id=\"T_5d0bd_level0_row11\" class=\"row_heading level0 row11\" >Std</th>\n",
       "      <td id=\"T_5d0bd_row11_col0\" class=\"data row11 col0\" >0.0000</td>\n",
       "      <td id=\"T_5d0bd_row11_col1\" class=\"data row11 col1\" >0.0068</td>\n",
       "      <td id=\"T_5d0bd_row11_col2\" class=\"data row11 col2\" >0.0008</td>\n",
       "      <td id=\"T_5d0bd_row11_col3\" class=\"data row11 col3\" >0.2219</td>\n",
       "      <td id=\"T_5d0bd_row11_col4\" class=\"data row11 col4\" >0.0016</td>\n",
       "      <td id=\"T_5d0bd_row11_col5\" class=\"data row11 col5\" >0.0014</td>\n",
       "      <td id=\"T_5d0bd_row11_col6\" class=\"data row11 col6\" >0.0120</td>\n",
       "    </tr>\n",
       "  </tbody>\n",
       "</table>\n"
      ],
      "text/plain": [
       "<pandas.io.formats.style.Styler at 0x7f8300a8bb50>"
      ]
     },
     "metadata": {},
     "output_type": "display_data"
    },
    {
     "data": {
      "text/html": [],
      "text/plain": [
       "<IPython.core.display.HTML object>"
      ]
     },
     "metadata": {},
     "output_type": "display_data"
    },
    {
     "data": {
      "text/html": [],
      "text/plain": [
       "<IPython.core.display.HTML object>"
      ]
     },
     "metadata": {},
     "output_type": "display_data"
    },
    {
     "data": {
      "image/png": "[encoded data removed]",
      "text/plain": [
       "<Figure size 480x330 with 1 Axes>"
      ]
     },
     "metadata": {},
     "output_type": "display_data"
    },
    {
     "data": {
      "text/html": [],
      "text/plain": [
       "<IPython.core.display.HTML object>"
      ]
     },
     "metadata": {},
     "output_type": "display_data"
    },
    {
     "data": {
      "text/html": [
       "<style type=\"text/css\">\n",
       "#T_e6e25_row10_col0, #T_e6e25_row10_col1, #T_e6e25_row10_col2, #T_e6e25_row10_col3, #T_e6e25_row10_col4, #T_e6e25_row10_col5, #T_e6e25_row10_col6 {\n",
       "  background: yellow;\n",
       "}\n",
       "</style>\n",
       "<table id=\"T_e6e25\">\n",
       "  <thead>\n",
       "    <tr>\n",
       "      <th class=\"blank level0\" >&nbsp;</th>\n",
       "      <th id=\"T_e6e25_level0_col0\" class=\"col_heading level0 col0\" >Accuracy</th>\n",
       "      <th id=\"T_e6e25_level0_col1\" class=\"col_heading level0 col1\" >AUC</th>\n",
       "      <th id=\"T_e6e25_level0_col2\" class=\"col_heading level0 col2\" >Recall</th>\n",
       "      <th id=\"T_e6e25_level0_col3\" class=\"col_heading level0 col3\" >Prec.</th>\n",
       "      <th id=\"T_e6e25_level0_col4\" class=\"col_heading level0 col4\" >F1</th>\n",
       "      <th id=\"T_e6e25_level0_col5\" class=\"col_heading level0 col5\" >Kappa</th>\n",
       "      <th id=\"T_e6e25_level0_col6\" class=\"col_heading level0 col6\" >MCC</th>\n",
       "    </tr>\n",
       "    <tr>\n",
       "      <th class=\"index_name level0\" >Fold</th>\n",
       "      <th class=\"blank col0\" >&nbsp;</th>\n",
       "      <th class=\"blank col1\" >&nbsp;</th>\n",
       "      <th class=\"blank col2\" >&nbsp;</th>\n",
       "      <th class=\"blank col3\" >&nbsp;</th>\n",
       "      <th class=\"blank col4\" >&nbsp;</th>\n",
       "      <th class=\"blank col5\" >&nbsp;</th>\n",
       "      <th class=\"blank col6\" >&nbsp;</th>\n",
       "    </tr>\n",
       "  </thead>\n",
       "  <tbody>\n",
       "    <tr>\n",
       "      <th id=\"T_e6e25_level0_row0\" class=\"row_heading level0 row0\" >0</th>\n",
       "      <td id=\"T_e6e25_row0_col0\" class=\"data row0 col0\" >0.9259</td>\n",
       "      <td id=\"T_e6e25_row0_col1\" class=\"data row0 col1\" >0.6600</td>\n",
       "      <td id=\"T_e6e25_row0_col2\" class=\"data row0 col2\" >0.0000</td>\n",
       "      <td id=\"T_e6e25_row0_col3\" class=\"data row0 col3\" >0.0000</td>\n",
       "      <td id=\"T_e6e25_row0_col4\" class=\"data row0 col4\" >0.0000</td>\n",
       "      <td id=\"T_e6e25_row0_col5\" class=\"data row0 col5\" >-0.0003</td>\n",
       "      <td id=\"T_e6e25_row0_col6\" class=\"data row0 col6\" >-0.0035</td>\n",
       "    </tr>\n",
       "    <tr>\n",
       "      <th id=\"T_e6e25_level0_row1\" class=\"row_heading level0 row1\" >1</th>\n",
       "      <td id=\"T_e6e25_row1_col0\" class=\"data row1 col0\" >0.9260</td>\n",
       "      <td id=\"T_e6e25_row1_col1\" class=\"data row1 col1\" >0.6796</td>\n",
       "      <td id=\"T_e6e25_row1_col2\" class=\"data row1 col2\" >0.0000</td>\n",
       "      <td id=\"T_e6e25_row1_col3\" class=\"data row1 col3\" >0.0000</td>\n",
       "      <td id=\"T_e6e25_row1_col4\" class=\"data row1 col4\" >0.0000</td>\n",
       "      <td id=\"T_e6e25_row1_col5\" class=\"data row1 col5\" >0.0000</td>\n",
       "      <td id=\"T_e6e25_row1_col6\" class=\"data row1 col6\" >0.0000</td>\n",
       "    </tr>\n",
       "    <tr>\n",
       "      <th id=\"T_e6e25_level0_row2\" class=\"row_heading level0 row2\" >2</th>\n",
       "      <td id=\"T_e6e25_row2_col0\" class=\"data row2 col0\" >0.9261</td>\n",
       "      <td id=\"T_e6e25_row2_col1\" class=\"data row2 col1\" >0.6644</td>\n",
       "      <td id=\"T_e6e25_row2_col2\" class=\"data row2 col2\" >0.0020</td>\n",
       "      <td id=\"T_e6e25_row2_col3\" class=\"data row2 col3\" >0.6000</td>\n",
       "      <td id=\"T_e6e25_row2_col4\" class=\"data row2 col4\" >0.0041</td>\n",
       "      <td id=\"T_e6e25_row2_col5\" class=\"data row2 col5\" >0.0036</td>\n",
       "      <td id=\"T_e6e25_row2_col6\" class=\"data row2 col6\" >0.0318</td>\n",
       "    </tr>\n",
       "    <tr>\n",
       "      <th id=\"T_e6e25_level0_row3\" class=\"row_heading level0 row3\" >3</th>\n",
       "      <td id=\"T_e6e25_row3_col0\" class=\"data row3 col0\" >0.9261</td>\n",
       "      <td id=\"T_e6e25_row3_col1\" class=\"data row3 col1\" >0.6631</td>\n",
       "      <td id=\"T_e6e25_row3_col2\" class=\"data row3 col2\" >0.0020</td>\n",
       "      <td id=\"T_e6e25_row3_col3\" class=\"data row3 col3\" >0.5000</td>\n",
       "      <td id=\"T_e6e25_row3_col4\" class=\"data row3 col4\" >0.0041</td>\n",
       "      <td id=\"T_e6e25_row3_col5\" class=\"data row3 col5\" >0.0035</td>\n",
       "      <td id=\"T_e6e25_row3_col6\" class=\"data row3 col6\" >0.0282</td>\n",
       "    </tr>\n",
       "    <tr>\n",
       "      <th id=\"T_e6e25_level0_row4\" class=\"row_heading level0 row4\" >4</th>\n",
       "      <td id=\"T_e6e25_row4_col0\" class=\"data row4 col0\" >0.9259</td>\n",
       "      <td id=\"T_e6e25_row4_col1\" class=\"data row4 col1\" >0.6546</td>\n",
       "      <td id=\"T_e6e25_row4_col2\" class=\"data row4 col2\" >0.0000</td>\n",
       "      <td id=\"T_e6e25_row4_col3\" class=\"data row4 col3\" >0.0000</td>\n",
       "      <td id=\"T_e6e25_row4_col4\" class=\"data row4 col4\" >0.0000</td>\n",
       "      <td id=\"T_e6e25_row4_col5\" class=\"data row4 col5\" >-0.0003</td>\n",
       "      <td id=\"T_e6e25_row4_col6\" class=\"data row4 col6\" >-0.0035</td>\n",
       "    </tr>\n",
       "    <tr>\n",
       "      <th id=\"T_e6e25_level0_row5\" class=\"row_heading level0 row5\" >5</th>\n",
       "      <td id=\"T_e6e25_row5_col0\" class=\"data row5 col0\" >0.9261</td>\n",
       "      <td id=\"T_e6e25_row5_col1\" class=\"data row5 col1\" >0.6741</td>\n",
       "      <td id=\"T_e6e25_row5_col2\" class=\"data row5 col2\" >0.0000</td>\n",
       "      <td id=\"T_e6e25_row5_col3\" class=\"data row5 col3\" >0.0000</td>\n",
       "      <td id=\"T_e6e25_row5_col4\" class=\"data row5 col4\" >0.0000</td>\n",
       "      <td id=\"T_e6e25_row5_col5\" class=\"data row5 col5\" >0.0000</td>\n",
       "      <td id=\"T_e6e25_row5_col6\" class=\"data row5 col6\" >0.0000</td>\n",
       "    </tr>\n",
       "    <tr>\n",
       "      <th id=\"T_e6e25_level0_row6\" class=\"row_heading level0 row6\" >6</th>\n",
       "      <td id=\"T_e6e25_row6_col0\" class=\"data row6 col0\" >0.9260</td>\n",
       "      <td id=\"T_e6e25_row6_col1\" class=\"data row6 col1\" >0.6705</td>\n",
       "      <td id=\"T_e6e25_row6_col2\" class=\"data row6 col2\" >0.0007</td>\n",
       "      <td id=\"T_e6e25_row6_col3\" class=\"data row6 col3\" >0.3333</td>\n",
       "      <td id=\"T_e6e25_row6_col4\" class=\"data row6 col4\" >0.0014</td>\n",
       "      <td id=\"T_e6e25_row6_col5\" class=\"data row6 col5\" >0.0011</td>\n",
       "      <td id=\"T_e6e25_row6_col6\" class=\"data row6 col6\" >0.0122</td>\n",
       "    </tr>\n",
       "    <tr>\n",
       "      <th id=\"T_e6e25_level0_row7\" class=\"row_heading level0 row7\" >7</th>\n",
       "      <td id=\"T_e6e25_row7_col0\" class=\"data row7 col0\" >0.9261</td>\n",
       "      <td id=\"T_e6e25_row7_col1\" class=\"data row7 col1\" >0.6623</td>\n",
       "      <td id=\"T_e6e25_row7_col2\" class=\"data row7 col2\" >0.0000</td>\n",
       "      <td id=\"T_e6e25_row7_col3\" class=\"data row7 col3\" >0.0000</td>\n",
       "      <td id=\"T_e6e25_row7_col4\" class=\"data row7 col4\" >0.0000</td>\n",
       "      <td id=\"T_e6e25_row7_col5\" class=\"data row7 col5\" >0.0000</td>\n",
       "      <td id=\"T_e6e25_row7_col6\" class=\"data row7 col6\" >0.0000</td>\n",
       "    </tr>\n",
       "    <tr>\n",
       "      <th id=\"T_e6e25_level0_row8\" class=\"row_heading level0 row8\" >8</th>\n",
       "      <td id=\"T_e6e25_row8_col0\" class=\"data row8 col0\" >0.9260</td>\n",
       "      <td id=\"T_e6e25_row8_col1\" class=\"data row8 col1\" >0.6762</td>\n",
       "      <td id=\"T_e6e25_row8_col2\" class=\"data row8 col2\" >0.0000</td>\n",
       "      <td id=\"T_e6e25_row8_col3\" class=\"data row8 col3\" >0.0000</td>\n",
       "      <td id=\"T_e6e25_row8_col4\" class=\"data row8 col4\" >0.0000</td>\n",
       "      <td id=\"T_e6e25_row8_col5\" class=\"data row8 col5\" >-0.0001</td>\n",
       "      <td id=\"T_e6e25_row8_col6\" class=\"data row8 col6\" >-0.0020</td>\n",
       "    </tr>\n",
       "    <tr>\n",
       "      <th id=\"T_e6e25_level0_row9\" class=\"row_heading level0 row9\" >9</th>\n",
       "      <td id=\"T_e6e25_row9_col0\" class=\"data row9 col0\" >0.9260</td>\n",
       "      <td id=\"T_e6e25_row9_col1\" class=\"data row9 col1\" >0.6606</td>\n",
       "      <td id=\"T_e6e25_row9_col2\" class=\"data row9 col2\" >0.0007</td>\n",
       "      <td id=\"T_e6e25_row9_col3\" class=\"data row9 col3\" >0.5000</td>\n",
       "      <td id=\"T_e6e25_row9_col4\" class=\"data row9 col4\" >0.0014</td>\n",
       "      <td id=\"T_e6e25_row9_col5\" class=\"data row9 col5\" >0.0012</td>\n",
       "      <td id=\"T_e6e25_row9_col6\" class=\"data row9 col6\" >0.0163</td>\n",
       "    </tr>\n",
       "    <tr>\n",
       "      <th id=\"T_e6e25_level0_row10\" class=\"row_heading level0 row10\" >Mean</th>\n",
       "      <td id=\"T_e6e25_row10_col0\" class=\"data row10 col0\" >0.9260</td>\n",
       "      <td id=\"T_e6e25_row10_col1\" class=\"data row10 col1\" >0.6665</td>\n",
       "      <td id=\"T_e6e25_row10_col2\" class=\"data row10 col2\" >0.0005</td>\n",
       "      <td id=\"T_e6e25_row10_col3\" class=\"data row10 col3\" >0.1933</td>\n",
       "      <td id=\"T_e6e25_row10_col4\" class=\"data row10 col4\" >0.0011</td>\n",
       "      <td id=\"T_e6e25_row10_col5\" class=\"data row10 col5\" >0.0009</td>\n",
       "      <td id=\"T_e6e25_row10_col6\" class=\"data row10 col6\" >0.0080</td>\n",
       "    </tr>\n",
       "    <tr>\n",
       "      <th id=\"T_e6e25_level0_row11\" class=\"row_heading level0 row11\" >Std</th>\n",
       "      <td id=\"T_e6e25_row11_col0\" class=\"data row11 col0\" >0.0001</td>\n",
       "      <td id=\"T_e6e25_row11_col1\" class=\"data row11 col1\" >0.0077</td>\n",
       "      <td id=\"T_e6e25_row11_col2\" class=\"data row11 col2\" >0.0008</td>\n",
       "      <td id=\"T_e6e25_row11_col3\" class=\"data row11 col3\" >0.2444</td>\n",
       "      <td id=\"T_e6e25_row11_col4\" class=\"data row11 col4\" >0.0016</td>\n",
       "      <td id=\"T_e6e25_row11_col5\" class=\"data row11 col5\" >0.0014</td>\n",
       "      <td id=\"T_e6e25_row11_col6\" class=\"data row11 col6\" >0.0127</td>\n",
       "    </tr>\n",
       "  </tbody>\n",
       "</table>\n"
      ],
      "text/plain": [
       "<pandas.io.formats.style.Styler at 0x7f8301ad9fc0>"
      ]
     },
     "metadata": {},
     "output_type": "display_data"
    },
    {
     "data": {
      "text/html": [],
      "text/plain": [
       "<IPython.core.display.HTML object>"
      ]
     },
     "metadata": {},
     "output_type": "display_data"
    },
    {
     "data": {
      "text/html": [],
      "text/plain": [
       "<IPython.core.display.HTML object>"
      ]
     },
     "metadata": {},
     "output_type": "display_data"
    },
    {
     "data": {
      "image/png": "[encoded data removed]",
      "text/plain": [
       "<Figure size 480x330 with 1 Axes>"
      ]
     },
     "metadata": {},
     "output_type": "display_data"
    },
    {
     "data": {
      "text/html": [],
      "text/plain": [
       "<IPython.core.display.HTML object>"
      ]
     },
     "metadata": {},
     "output_type": "display_data"
    },
    {
     "data": {
      "text/html": [
       "<style type=\"text/css\">\n",
       "#T_63435_row10_col0, #T_63435_row10_col1, #T_63435_row10_col2, #T_63435_row10_col3, #T_63435_row10_col4, #T_63435_row10_col5, #T_63435_row10_col6 {\n",
       "  background: yellow;\n",
       "}\n",
       "</style>\n",
       "<table id=\"T_63435\">\n",
       "  <thead>\n",
       "    <tr>\n",
       "      <th class=\"blank level0\" >&nbsp;</th>\n",
       "      <th id=\"T_63435_level0_col0\" class=\"col_heading level0 col0\" >Accuracy</th>\n",
       "      <th id=\"T_63435_level0_col1\" class=\"col_heading level0 col1\" >AUC</th>\n",
       "      <th id=\"T_63435_level0_col2\" class=\"col_heading level0 col2\" >Recall</th>\n",
       "      <th id=\"T_63435_level0_col3\" class=\"col_heading level0 col3\" >Prec.</th>\n",
       "      <th id=\"T_63435_level0_col4\" class=\"col_heading level0 col4\" >F1</th>\n",
       "      <th id=\"T_63435_level0_col5\" class=\"col_heading level0 col5\" >Kappa</th>\n",
       "      <th id=\"T_63435_level0_col6\" class=\"col_heading level0 col6\" >MCC</th>\n",
       "    </tr>\n",
       "    <tr>\n",
       "      <th class=\"index_name level0\" >Fold</th>\n",
       "      <th class=\"blank col0\" >&nbsp;</th>\n",
       "      <th class=\"blank col1\" >&nbsp;</th>\n",
       "      <th class=\"blank col2\" >&nbsp;</th>\n",
       "      <th class=\"blank col3\" >&nbsp;</th>\n",
       "      <th class=\"blank col4\" >&nbsp;</th>\n",
       "      <th class=\"blank col5\" >&nbsp;</th>\n",
       "      <th class=\"blank col6\" >&nbsp;</th>\n",
       "    </tr>\n",
       "  </thead>\n",
       "  <tbody>\n",
       "    <tr>\n",
       "      <th id=\"T_63435_level0_row0\" class=\"row_heading level0 row0\" >0</th>\n",
       "      <td id=\"T_63435_row0_col0\" class=\"data row0 col0\" >0.9258</td>\n",
       "      <td id=\"T_63435_row0_col1\" class=\"data row0 col1\" >0.6331</td>\n",
       "      <td id=\"T_63435_row0_col2\" class=\"data row0 col2\" >0.0000</td>\n",
       "      <td id=\"T_63435_row0_col3\" class=\"data row0 col3\" >0.0000</td>\n",
       "      <td id=\"T_63435_row0_col4\" class=\"data row0 col4\" >0.0000</td>\n",
       "      <td id=\"T_63435_row0_col5\" class=\"data row0 col5\" >-0.0005</td>\n",
       "      <td id=\"T_63435_row0_col6\" class=\"data row0 col6\" >-0.0045</td>\n",
       "    </tr>\n",
       "    <tr>\n",
       "      <th id=\"T_63435_level0_row1\" class=\"row_heading level0 row1\" >1</th>\n",
       "      <td id=\"T_63435_row1_col0\" class=\"data row1 col0\" >0.9260</td>\n",
       "      <td id=\"T_63435_row1_col1\" class=\"data row1 col1\" >0.6554</td>\n",
       "      <td id=\"T_63435_row1_col2\" class=\"data row1 col2\" >0.0014</td>\n",
       "      <td id=\"T_63435_row1_col3\" class=\"data row1 col3\" >0.5000</td>\n",
       "      <td id=\"T_63435_row1_col4\" class=\"data row1 col4\" >0.0027</td>\n",
       "      <td id=\"T_63435_row1_col5\" class=\"data row1 col5\" >0.0023</td>\n",
       "      <td id=\"T_63435_row1_col6\" class=\"data row1 col6\" >0.0230</td>\n",
       "    </tr>\n",
       "    <tr>\n",
       "      <th id=\"T_63435_level0_row2\" class=\"row_heading level0 row2\" >2</th>\n",
       "      <td id=\"T_63435_row2_col0\" class=\"data row2 col0\" >0.9259</td>\n",
       "      <td id=\"T_63435_row2_col1\" class=\"data row2 col1\" >0.6319</td>\n",
       "      <td id=\"T_63435_row2_col2\" class=\"data row2 col2\" >0.0000</td>\n",
       "      <td id=\"T_63435_row2_col3\" class=\"data row2 col3\" >0.0000</td>\n",
       "      <td id=\"T_63435_row2_col4\" class=\"data row2 col4\" >0.0000</td>\n",
       "      <td id=\"T_63435_row2_col5\" class=\"data row2 col5\" >-0.0003</td>\n",
       "      <td id=\"T_63435_row2_col6\" class=\"data row2 col6\" >-0.0035</td>\n",
       "    </tr>\n",
       "    <tr>\n",
       "      <th id=\"T_63435_level0_row3\" class=\"row_heading level0 row3\" >3</th>\n",
       "      <td id=\"T_63435_row3_col0\" class=\"data row3 col0\" >0.9259</td>\n",
       "      <td id=\"T_63435_row3_col1\" class=\"data row3 col1\" >0.6341</td>\n",
       "      <td id=\"T_63435_row3_col2\" class=\"data row3 col2\" >0.0014</td>\n",
       "      <td id=\"T_63435_row3_col3\" class=\"data row3 col3\" >0.2500</td>\n",
       "      <td id=\"T_63435_row3_col4\" class=\"data row3 col4\" >0.0027</td>\n",
       "      <td id=\"T_63435_row3_col5\" class=\"data row3 col5\" >0.0019</td>\n",
       "      <td id=\"T_63435_row3_col6\" class=\"data row3 col6\" >0.0135</td>\n",
       "    </tr>\n",
       "    <tr>\n",
       "      <th id=\"T_63435_level0_row4\" class=\"row_heading level0 row4\" >4</th>\n",
       "      <td id=\"T_63435_row4_col0\" class=\"data row4 col0\" >0.9260</td>\n",
       "      <td id=\"T_63435_row4_col1\" class=\"data row4 col1\" >0.6314</td>\n",
       "      <td id=\"T_63435_row4_col2\" class=\"data row4 col2\" >0.0014</td>\n",
       "      <td id=\"T_63435_row4_col3\" class=\"data row4 col3\" >0.4000</td>\n",
       "      <td id=\"T_63435_row4_col4\" class=\"data row4 col4\" >0.0027</td>\n",
       "      <td id=\"T_63435_row4_col5\" class=\"data row4 col5\" >0.0022</td>\n",
       "      <td id=\"T_63435_row4_col6\" class=\"data row4 col6\" >0.0197</td>\n",
       "    </tr>\n",
       "    <tr>\n",
       "      <th id=\"T_63435_level0_row5\" class=\"row_heading level0 row5\" >5</th>\n",
       "      <td id=\"T_63435_row5_col0\" class=\"data row5 col0\" >0.9259</td>\n",
       "      <td id=\"T_63435_row5_col1\" class=\"data row5 col1\" >0.6421</td>\n",
       "      <td id=\"T_63435_row5_col2\" class=\"data row5 col2\" >0.0034</td>\n",
       "      <td id=\"T_63435_row5_col3\" class=\"data row5 col3\" >0.3571</td>\n",
       "      <td id=\"T_63435_row5_col4\" class=\"data row5 col4\" >0.0067</td>\n",
       "      <td id=\"T_63435_row5_col5\" class=\"data row5 col5\" >0.0053</td>\n",
       "      <td id=\"T_63435_row5_col6\" class=\"data row5 col6\" >0.0287</td>\n",
       "    </tr>\n",
       "    <tr>\n",
       "      <th id=\"T_63435_level0_row6\" class=\"row_heading level0 row6\" >6</th>\n",
       "      <td id=\"T_63435_row6_col0\" class=\"data row6 col0\" >0.9261</td>\n",
       "      <td id=\"T_63435_row6_col1\" class=\"data row6 col1\" >0.6380</td>\n",
       "      <td id=\"T_63435_row6_col2\" class=\"data row6 col2\" >0.0027</td>\n",
       "      <td id=\"T_63435_row6_col3\" class=\"data row6 col3\" >0.5000</td>\n",
       "      <td id=\"T_63435_row6_col4\" class=\"data row6 col4\" >0.0054</td>\n",
       "      <td id=\"T_63435_row6_col5\" class=\"data row6 col5\" >0.0046</td>\n",
       "      <td id=\"T_63435_row6_col6\" class=\"data row6 col6\" >0.0326</td>\n",
       "    </tr>\n",
       "    <tr>\n",
       "      <th id=\"T_63435_level0_row7\" class=\"row_heading level0 row7\" >7</th>\n",
       "      <td id=\"T_63435_row7_col0\" class=\"data row7 col0\" >0.9260</td>\n",
       "      <td id=\"T_63435_row7_col1\" class=\"data row7 col1\" >0.6317</td>\n",
       "      <td id=\"T_63435_row7_col2\" class=\"data row7 col2\" >0.0000</td>\n",
       "      <td id=\"T_63435_row7_col3\" class=\"data row7 col3\" >0.0000</td>\n",
       "      <td id=\"T_63435_row7_col4\" class=\"data row7 col4\" >0.0000</td>\n",
       "      <td id=\"T_63435_row7_col5\" class=\"data row7 col5\" >-0.0002</td>\n",
       "      <td id=\"T_63435_row7_col6\" class=\"data row7 col6\" >-0.0028</td>\n",
       "    </tr>\n",
       "    <tr>\n",
       "      <th id=\"T_63435_level0_row8\" class=\"row_heading level0 row8\" >8</th>\n",
       "      <td id=\"T_63435_row8_col0\" class=\"data row8 col0\" >0.9259</td>\n",
       "      <td id=\"T_63435_row8_col1\" class=\"data row8 col1\" >0.6463</td>\n",
       "      <td id=\"T_63435_row8_col2\" class=\"data row8 col2\" >0.0007</td>\n",
       "      <td id=\"T_63435_row8_col3\" class=\"data row8 col3\" >0.1667</td>\n",
       "      <td id=\"T_63435_row8_col4\" class=\"data row8 col4\" >0.0014</td>\n",
       "      <td id=\"T_63435_row8_col5\" class=\"data row8 col5\" >0.0008</td>\n",
       "      <td id=\"T_63435_row8_col6\" class=\"data row8 col6\" >0.0061</td>\n",
       "    </tr>\n",
       "    <tr>\n",
       "      <th id=\"T_63435_level0_row9\" class=\"row_heading level0 row9\" >9</th>\n",
       "      <td id=\"T_63435_row9_col0\" class=\"data row9 col0\" >0.9257</td>\n",
       "      <td id=\"T_63435_row9_col1\" class=\"data row9 col1\" >0.6423</td>\n",
       "      <td id=\"T_63435_row9_col2\" class=\"data row9 col2\" >0.0014</td>\n",
       "      <td id=\"T_63435_row9_col3\" class=\"data row9 col3\" >0.1818</td>\n",
       "      <td id=\"T_63435_row9_col4\" class=\"data row9 col4\" >0.0027</td>\n",
       "      <td id=\"T_63435_row9_col5\" class=\"data row9 col5\" >0.0016</td>\n",
       "      <td id=\"T_63435_row9_col6\" class=\"data row9 col6\" >0.0097</td>\n",
       "    </tr>\n",
       "    <tr>\n",
       "      <th id=\"T_63435_level0_row10\" class=\"row_heading level0 row10\" >Mean</th>\n",
       "      <td id=\"T_63435_row10_col0\" class=\"data row10 col0\" >0.9259</td>\n",
       "      <td id=\"T_63435_row10_col1\" class=\"data row10 col1\" >0.6386</td>\n",
       "      <td id=\"T_63435_row10_col2\" class=\"data row10 col2\" >0.0012</td>\n",
       "      <td id=\"T_63435_row10_col3\" class=\"data row10 col3\" >0.2356</td>\n",
       "      <td id=\"T_63435_row10_col4\" class=\"data row10 col4\" >0.0024</td>\n",
       "      <td id=\"T_63435_row10_col5\" class=\"data row10 col5\" >0.0018</td>\n",
       "      <td id=\"T_63435_row10_col6\" class=\"data row10 col6\" >0.0123</td>\n",
       "    </tr>\n",
       "    <tr>\n",
       "      <th id=\"T_63435_level0_row11\" class=\"row_heading level0 row11\" >Std</th>\n",
       "      <td id=\"T_63435_row11_col0\" class=\"data row11 col0\" >0.0001</td>\n",
       "      <td id=\"T_63435_row11_col1\" class=\"data row11 col1\" >0.0075</td>\n",
       "      <td id=\"T_63435_row11_col2\" class=\"data row11 col2\" >0.0011</td>\n",
       "      <td id=\"T_63435_row11_col3\" class=\"data row11 col3\" >0.1887</td>\n",
       "      <td id=\"T_63435_row11_col4\" class=\"data row11 col4\" >0.0022</td>\n",
       "      <td id=\"T_63435_row11_col5\" class=\"data row11 col5\" >0.0019</td>\n",
       "      <td id=\"T_63435_row11_col6\" class=\"data row11 col6\" >0.0129</td>\n",
       "    </tr>\n",
       "  </tbody>\n",
       "</table>\n"
      ],
      "text/plain": [
       "<pandas.io.formats.style.Styler at 0x7f830238efb0>"
      ]
     },
     "metadata": {},
     "output_type": "display_data"
    },
    {
     "data": {
      "text/html": [],
      "text/plain": [
       "<IPython.core.display.HTML object>"
      ]
     },
     "metadata": {},
     "output_type": "display_data"
    },
    {
     "data": {
      "text/html": [],
      "text/plain": [
       "<IPython.core.display.HTML object>"
      ]
     },
     "metadata": {},
     "output_type": "display_data"
    },
    {
     "data": {
      "image/png": "[encoded data removed]",
      "text/plain": [
       "<Figure size 480x330 with 1 Axes>"
      ]
     },
     "metadata": {},
     "output_type": "display_data"
    }
   ],
   "source": [
    "regression_model_ada, regression_model_lightgbm, regression_model_gbc, regression_model_rf = model.common.create_models(train_data, target_column)"
   ]
  },
  {
   "cell_type": "markdown",
   "metadata": {
    "execution": {
     "iopub.execute_input": "2023-06-08T23:08:22.530994Z",
     "iopub.status.busy": "2023-06-08T23:08:22.529719Z",
     "iopub.status.idle": "2023-06-08T23:08:22.542651Z",
     "shell.execute_reply": "2023-06-08T23:08:22.540043Z",
     "shell.execute_reply.started": "2023-06-08T23:08:22.530922Z"
    }
   },
   "source": [
    "**evaluate model**"
   ]
  },
  {
   "cell_type": "markdown",
   "metadata": {},
   "source": [
    "`lightgbm` shows very good AUC of `0.97`, `rf` as well with `1.0` train AUC.\n",
    "\n",
    "`rf` seemed like too overfit with 1.0 train AUC but its test precision as well is the best among others.\n",
    "\n",
    "`ada` shows very low recall thus inpractical.\n"
   ]
  },
  {
   "cell_type": "code",
   "execution_count": 8,
   "metadata": {
    "execution": {
     "iopub.execute_input": "2023-07-06T20:29:01.984644Z",
     "iopub.status.busy": "2023-07-06T20:29:01.984513Z",
     "iopub.status.idle": "2023-07-06T20:29:10.977672Z",
     "shell.execute_reply": "2023-07-06T20:29:10.976921Z",
     "shell.execute_reply.started": "2023-07-06T20:29:01.984633Z"
    }
   },
   "outputs": [
    {
     "data": {
      "text/html": [
       "<style type=\"text/css\">\n",
       "</style>\n",
       "<table id=\"T_a2fc9\">\n",
       "  <thead>\n",
       "    <tr>\n",
       "      <th class=\"blank level0\" >&nbsp;</th>\n",
       "      <th id=\"T_a2fc9_level0_col0\" class=\"col_heading level0 col0\" >Model</th>\n",
       "      <th id=\"T_a2fc9_level0_col1\" class=\"col_heading level0 col1\" >Accuracy</th>\n",
       "      <th id=\"T_a2fc9_level0_col2\" class=\"col_heading level0 col2\" >AUC</th>\n",
       "      <th id=\"T_a2fc9_level0_col3\" class=\"col_heading level0 col3\" >Recall</th>\n",
       "      <th id=\"T_a2fc9_level0_col4\" class=\"col_heading level0 col4\" >Prec.</th>\n",
       "      <th id=\"T_a2fc9_level0_col5\" class=\"col_heading level0 col5\" >F1</th>\n",
       "      <th id=\"T_a2fc9_level0_col6\" class=\"col_heading level0 col6\" >Kappa</th>\n",
       "      <th id=\"T_a2fc9_level0_col7\" class=\"col_heading level0 col7\" >MCC</th>\n",
       "    </tr>\n",
       "  </thead>\n",
       "  <tbody>\n",
       "    <tr>\n",
       "      <th id=\"T_a2fc9_level0_row0\" class=\"row_heading level0 row0\" >0</th>\n",
       "      <td id=\"T_a2fc9_row0_col0\" class=\"data row0 col0\" >Ada Boost Classifier</td>\n",
       "      <td id=\"T_a2fc9_row0_col1\" class=\"data row0 col1\" >0.9261</td>\n",
       "      <td id=\"T_a2fc9_row0_col2\" class=\"data row0 col2\" >0.6678</td>\n",
       "      <td id=\"T_a2fc9_row0_col3\" class=\"data row0 col3\" >0.0000</td>\n",
       "      <td id=\"T_a2fc9_row0_col4\" class=\"data row0 col4\" >0.0000</td>\n",
       "      <td id=\"T_a2fc9_row0_col5\" class=\"data row0 col5\" >0.0000</td>\n",
       "      <td id=\"T_a2fc9_row0_col6\" class=\"data row0 col6\" >0.0000</td>\n",
       "      <td id=\"T_a2fc9_row0_col7\" class=\"data row0 col7\" >0.0000</td>\n",
       "    </tr>\n",
       "  </tbody>\n",
       "</table>\n"
      ],
      "text/plain": [
       "<pandas.io.formats.style.Styler at 0x7f8303774340>"
      ]
     },
     "metadata": {},
     "output_type": "display_data"
    },
    {
     "data": {
      "text/html": [
       "<style type=\"text/css\">\n",
       "</style>\n",
       "<table id=\"T_e6294\">\n",
       "  <thead>\n",
       "    <tr>\n",
       "      <th class=\"blank level0\" >&nbsp;</th>\n",
       "      <th id=\"T_e6294_level0_col0\" class=\"col_heading level0 col0\" >Model</th>\n",
       "      <th id=\"T_e6294_level0_col1\" class=\"col_heading level0 col1\" >Accuracy</th>\n",
       "      <th id=\"T_e6294_level0_col2\" class=\"col_heading level0 col2\" >AUC</th>\n",
       "      <th id=\"T_e6294_level0_col3\" class=\"col_heading level0 col3\" >Recall</th>\n",
       "      <th id=\"T_e6294_level0_col4\" class=\"col_heading level0 col4\" >Prec.</th>\n",
       "      <th id=\"T_e6294_level0_col5\" class=\"col_heading level0 col5\" >F1</th>\n",
       "      <th id=\"T_e6294_level0_col6\" class=\"col_heading level0 col6\" >Kappa</th>\n",
       "      <th id=\"T_e6294_level0_col7\" class=\"col_heading level0 col7\" >MCC</th>\n",
       "    </tr>\n",
       "  </thead>\n",
       "  <tbody>\n",
       "    <tr>\n",
       "      <th id=\"T_e6294_level0_row0\" class=\"row_heading level0 row0\" >0</th>\n",
       "      <td id=\"T_e6294_row0_col0\" class=\"data row0 col0\" >Gradient Boosting Classifier</td>\n",
       "      <td id=\"T_e6294_row0_col1\" class=\"data row0 col1\" >0.9261</td>\n",
       "      <td id=\"T_e6294_row0_col2\" class=\"data row0 col2\" >0.6805</td>\n",
       "      <td id=\"T_e6294_row0_col3\" class=\"data row0 col3\" >0.0008</td>\n",
       "      <td id=\"T_e6294_row0_col4\" class=\"data row0 col4\" >0.6400</td>\n",
       "      <td id=\"T_e6294_row0_col5\" class=\"data row0 col5\" >0.0015</td>\n",
       "      <td id=\"T_e6294_row0_col6\" class=\"data row0 col6\" >0.0013</td>\n",
       "      <td id=\"T_e6294_row0_col7\" class=\"data row0 col7\" >0.0203</td>\n",
       "    </tr>\n",
       "  </tbody>\n",
       "</table>\n"
      ],
      "text/plain": [
       "<pandas.io.formats.style.Styler at 0x7f8300b38100>"
      ]
     },
     "metadata": {},
     "output_type": "display_data"
    },
    {
     "data": {
      "text/html": [
       "<style type=\"text/css\">\n",
       "</style>\n",
       "<table id=\"T_2c7ef\">\n",
       "  <thead>\n",
       "    <tr>\n",
       "      <th class=\"blank level0\" >&nbsp;</th>\n",
       "      <th id=\"T_2c7ef_level0_col0\" class=\"col_heading level0 col0\" >Model</th>\n",
       "      <th id=\"T_2c7ef_level0_col1\" class=\"col_heading level0 col1\" >Accuracy</th>\n",
       "      <th id=\"T_2c7ef_level0_col2\" class=\"col_heading level0 col2\" >AUC</th>\n",
       "      <th id=\"T_2c7ef_level0_col3\" class=\"col_heading level0 col3\" >Recall</th>\n",
       "      <th id=\"T_2c7ef_level0_col4\" class=\"col_heading level0 col4\" >Prec.</th>\n",
       "      <th id=\"T_2c7ef_level0_col5\" class=\"col_heading level0 col5\" >F1</th>\n",
       "      <th id=\"T_2c7ef_level0_col6\" class=\"col_heading level0 col6\" >Kappa</th>\n",
       "      <th id=\"T_2c7ef_level0_col7\" class=\"col_heading level0 col7\" >MCC</th>\n",
       "    </tr>\n",
       "  </thead>\n",
       "  <tbody>\n",
       "    <tr>\n",
       "      <th id=\"T_2c7ef_level0_row0\" class=\"row_heading level0 row0\" >0</th>\n",
       "      <td id=\"T_2c7ef_row0_col0\" class=\"data row0 col0\" >Light Gradient Boosting Machine</td>\n",
       "      <td id=\"T_2c7ef_row0_col1\" class=\"data row0 col1\" >0.9262</td>\n",
       "      <td id=\"T_2c7ef_row0_col2\" class=\"data row0 col2\" >0.7245</td>\n",
       "      <td id=\"T_2c7ef_row0_col3\" class=\"data row0 col3\" >0.0015</td>\n",
       "      <td id=\"T_2c7ef_row0_col4\" class=\"data row0 col4\" >0.8421</td>\n",
       "      <td id=\"T_2c7ef_row0_col5\" class=\"data row0 col5\" >0.0030</td>\n",
       "      <td id=\"T_2c7ef_row0_col6\" class=\"data row0 col6\" >0.0028</td>\n",
       "      <td id=\"T_2c7ef_row0_col7\" class=\"data row0 col7\" >0.0339</td>\n",
       "    </tr>\n",
       "  </tbody>\n",
       "</table>\n"
      ],
      "text/plain": [
       "<pandas.io.formats.style.Styler at 0x7f83030c3a00>"
      ]
     },
     "metadata": {},
     "output_type": "display_data"
    },
    {
     "data": {
      "text/html": [
       "<style type=\"text/css\">\n",
       "</style>\n",
       "<table id=\"T_3d365\">\n",
       "  <thead>\n",
       "    <tr>\n",
       "      <th class=\"blank level0\" >&nbsp;</th>\n",
       "      <th id=\"T_3d365_level0_col0\" class=\"col_heading level0 col0\" >Model</th>\n",
       "      <th id=\"T_3d365_level0_col1\" class=\"col_heading level0 col1\" >Accuracy</th>\n",
       "      <th id=\"T_3d365_level0_col2\" class=\"col_heading level0 col2\" >AUC</th>\n",
       "      <th id=\"T_3d365_level0_col3\" class=\"col_heading level0 col3\" >Recall</th>\n",
       "      <th id=\"T_3d365_level0_col4\" class=\"col_heading level0 col4\" >Prec.</th>\n",
       "      <th id=\"T_3d365_level0_col5\" class=\"col_heading level0 col5\" >F1</th>\n",
       "      <th id=\"T_3d365_level0_col6\" class=\"col_heading level0 col6\" >Kappa</th>\n",
       "      <th id=\"T_3d365_level0_col7\" class=\"col_heading level0 col7\" >MCC</th>\n",
       "    </tr>\n",
       "  </thead>\n",
       "  <tbody>\n",
       "    <tr>\n",
       "      <th id=\"T_3d365_level0_row0\" class=\"row_heading level0 row0\" >0</th>\n",
       "      <td id=\"T_3d365_row0_col0\" class=\"data row0 col0\" >Random Forest Classifier</td>\n",
       "      <td id=\"T_3d365_row0_col1\" class=\"data row0 col1\" >0.9777</td>\n",
       "      <td id=\"T_3d365_row0_col2\" class=\"data row0 col2\" >0.9450</td>\n",
       "      <td id=\"T_3d365_row0_col3\" class=\"data row0 col3\" >0.6999</td>\n",
       "      <td id=\"T_3d365_row0_col4\" class=\"data row0 col4\" >0.9985</td>\n",
       "      <td id=\"T_3d365_row0_col5\" class=\"data row0 col5\" >0.8230</td>\n",
       "      <td id=\"T_3d365_row0_col6\" class=\"data row0 col6\" >0.8115</td>\n",
       "      <td id=\"T_3d365_row0_col7\" class=\"data row0 col7\" >0.8261</td>\n",
       "    </tr>\n",
       "  </tbody>\n",
       "</table>\n"
      ],
      "text/plain": [
       "<pandas.io.formats.style.Styler at 0x7f830238cee0>"
      ]
     },
     "metadata": {},
     "output_type": "display_data"
    }
   ],
   "source": [
    "train_prediction_ada, train_prediction_gbc, train_prediction_lightgbm, train_prediction_rf = model.common.batch_predict_and_odds(train_data, [regression_model_ada, regression_model_gbc, regression_model_lightgbm, regression_model_rf])"
   ]
  },
  {
   "cell_type": "code",
   "execution_count": 9,
   "metadata": {
    "execution": {
     "iopub.execute_input": "2023-07-06T20:29:10.978670Z",
     "iopub.status.busy": "2023-07-06T20:29:10.978476Z",
     "iopub.status.idle": "2023-07-06T20:29:11.142305Z",
     "shell.execute_reply": "2023-07-06T20:29:11.141645Z",
     "shell.execute_reply.started": "2023-07-06T20:29:10.978653Z"
    }
   },
   "outputs": [
    {
     "data": {
      "text/html": [
       "<table>\n",
       "<tbody>\n",
       "<tr><td>model   </td><td>0.6      </td><td>0.7      </td><td>0.75    </td><td>0.8     </td></tr>\n",
       "<tr><td>ada     </td><td>(0, nan) </td><td>(0, nan) </td><td>(0, nan)</td><td>(0, nan)</td></tr>\n",
       "<tr><td>gbc     </td><td>(0, nan) </td><td>(0, nan) </td><td>(0, nan)</td><td>(0, nan)</td></tr>\n",
       "<tr><td>lightgbm</td><td>(0, nan) </td><td>(0, nan) </td><td>(0, nan)</td><td>(0, nan)</td></tr>\n",
       "<tr><td>rf      </td><td>(53, 1.0)</td><td>(25, 1.0)</td><td>(8, 1.0)</td><td>(3, 1.0)</td></tr>\n",
       "</tbody>\n",
       "</table>"
      ],
      "text/plain": [
       "'<table>\\n<tbody>\\n<tr><td>model   </td><td>0.6      </td><td>0.7      </td><td>0.75    </td><td>0.8     </td></tr>\\n<tr><td>ada     </td><td>(0, nan) </td><td>(0, nan) </td><td>(0, nan)</td><td>(0, nan)</td></tr>\\n<tr><td>gbc     </td><td>(0, nan) </td><td>(0, nan) </td><td>(0, nan)</td><td>(0, nan)</td></tr>\\n<tr><td>lightgbm</td><td>(0, nan) </td><td>(0, nan) </td><td>(0, nan)</td><td>(0, nan)</td></tr>\\n<tr><td>rf      </td><td>(53, 1.0)</td><td>(25, 1.0)</td><td>(8, 1.0)</td><td>(3, 1.0)</td></tr>\\n</tbody>\\n</table>'"
      ]
     },
     "execution_count": 9,
     "metadata": {},
     "output_type": "execute_result"
    }
   ],
   "source": [
    "model.common.evaluate_predictions([(train_prediction_ada, \"ada\"), (train_prediction_gbc, \"gbc\"), (train_prediction_lightgbm, \"lightgbm\"), (train_prediction_rf, \"rf\")], [0.6, 0.7, 0.75, 0.8], target_column)"
   ]
  },
  {
   "cell_type": "markdown",
   "metadata": {
    "execution": {
     "iopub.execute_input": "2023-06-07T00:40:23.948013Z",
     "iopub.status.busy": "2023-06-07T00:40:23.947407Z",
     "iopub.status.idle": "2023-06-07T00:40:23.953130Z",
     "shell.execute_reply": "2023-06-07T00:40:23.952520Z",
     "shell.execute_reply.started": "2023-06-07T00:40:23.947955Z"
    }
   },
   "source": [
    "**test prediction**"
   ]
  },
  {
   "cell_type": "code",
   "execution_count": 10,
   "metadata": {
    "execution": {
     "iopub.execute_input": "2023-07-06T20:29:11.143229Z",
     "iopub.status.busy": "2023-07-06T20:29:11.143037Z",
     "iopub.status.idle": "2023-07-06T20:29:12.028971Z",
     "shell.execute_reply": "2023-07-06T20:29:12.028164Z",
     "shell.execute_reply.started": "2023-07-06T20:29:11.143212Z"
    }
   },
   "outputs": [
    {
     "data": {
      "text/html": [
       "<style type=\"text/css\">\n",
       "</style>\n",
       "<table id=\"T_a2357\">\n",
       "  <thead>\n",
       "    <tr>\n",
       "      <th class=\"blank level0\" >&nbsp;</th>\n",
       "      <th id=\"T_a2357_level0_col0\" class=\"col_heading level0 col0\" >Model</th>\n",
       "      <th id=\"T_a2357_level0_col1\" class=\"col_heading level0 col1\" >Accuracy</th>\n",
       "      <th id=\"T_a2357_level0_col2\" class=\"col_heading level0 col2\" >AUC</th>\n",
       "      <th id=\"T_a2357_level0_col3\" class=\"col_heading level0 col3\" >Recall</th>\n",
       "      <th id=\"T_a2357_level0_col4\" class=\"col_heading level0 col4\" >Prec.</th>\n",
       "      <th id=\"T_a2357_level0_col5\" class=\"col_heading level0 col5\" >F1</th>\n",
       "      <th id=\"T_a2357_level0_col6\" class=\"col_heading level0 col6\" >Kappa</th>\n",
       "      <th id=\"T_a2357_level0_col7\" class=\"col_heading level0 col7\" >MCC</th>\n",
       "    </tr>\n",
       "  </thead>\n",
       "  <tbody>\n",
       "    <tr>\n",
       "      <th id=\"T_a2357_level0_row0\" class=\"row_heading level0 row0\" >0</th>\n",
       "      <td id=\"T_a2357_row0_col0\" class=\"data row0 col0\" >Ada Boost Classifier</td>\n",
       "      <td id=\"T_a2357_row0_col1\" class=\"data row0 col1\" >0.9255</td>\n",
       "      <td id=\"T_a2357_row0_col2\" class=\"data row0 col2\" >0.6482</td>\n",
       "      <td id=\"T_a2357_row0_col3\" class=\"data row0 col3\" >0.0000</td>\n",
       "      <td id=\"T_a2357_row0_col4\" class=\"data row0 col4\" >0.0000</td>\n",
       "      <td id=\"T_a2357_row0_col5\" class=\"data row0 col5\" >0.0000</td>\n",
       "      <td id=\"T_a2357_row0_col6\" class=\"data row0 col6\" >0.0000</td>\n",
       "      <td id=\"T_a2357_row0_col7\" class=\"data row0 col7\" >0.0000</td>\n",
       "    </tr>\n",
       "  </tbody>\n",
       "</table>\n"
      ],
      "text/plain": [
       "<pandas.io.formats.style.Styler at 0x7f8301ad86a0>"
      ]
     },
     "metadata": {},
     "output_type": "display_data"
    },
    {
     "data": {
      "text/html": [
       "<style type=\"text/css\">\n",
       "</style>\n",
       "<table id=\"T_84f12\">\n",
       "  <thead>\n",
       "    <tr>\n",
       "      <th class=\"blank level0\" >&nbsp;</th>\n",
       "      <th id=\"T_84f12_level0_col0\" class=\"col_heading level0 col0\" >Model</th>\n",
       "      <th id=\"T_84f12_level0_col1\" class=\"col_heading level0 col1\" >Accuracy</th>\n",
       "      <th id=\"T_84f12_level0_col2\" class=\"col_heading level0 col2\" >AUC</th>\n",
       "      <th id=\"T_84f12_level0_col3\" class=\"col_heading level0 col3\" >Recall</th>\n",
       "      <th id=\"T_84f12_level0_col4\" class=\"col_heading level0 col4\" >Prec.</th>\n",
       "      <th id=\"T_84f12_level0_col5\" class=\"col_heading level0 col5\" >F1</th>\n",
       "      <th id=\"T_84f12_level0_col6\" class=\"col_heading level0 col6\" >Kappa</th>\n",
       "      <th id=\"T_84f12_level0_col7\" class=\"col_heading level0 col7\" >MCC</th>\n",
       "    </tr>\n",
       "  </thead>\n",
       "  <tbody>\n",
       "    <tr>\n",
       "      <th id=\"T_84f12_level0_row0\" class=\"row_heading level0 row0\" >0</th>\n",
       "      <td id=\"T_84f12_row0_col0\" class=\"data row0 col0\" >Gradient Boosting Classifier</td>\n",
       "      <td id=\"T_84f12_row0_col1\" class=\"data row0 col1\" >0.9254</td>\n",
       "      <td id=\"T_84f12_row0_col2\" class=\"data row0 col2\" >0.6533</td>\n",
       "      <td id=\"T_84f12_row0_col3\" class=\"data row0 col3\" >0.0000</td>\n",
       "      <td id=\"T_84f12_row0_col4\" class=\"data row0 col4\" >0.0000</td>\n",
       "      <td id=\"T_84f12_row0_col5\" class=\"data row0 col5\" >0.0000</td>\n",
       "      <td id=\"T_84f12_row0_col6\" class=\"data row0 col6\" >-0.0001</td>\n",
       "      <td id=\"T_84f12_row0_col7\" class=\"data row0 col7\" >-0.0022</td>\n",
       "    </tr>\n",
       "  </tbody>\n",
       "</table>\n"
      ],
      "text/plain": [
       "<pandas.io.formats.style.Styler at 0x7f83009df040>"
      ]
     },
     "metadata": {},
     "output_type": "display_data"
    },
    {
     "data": {
      "text/html": [
       "<style type=\"text/css\">\n",
       "</style>\n",
       "<table id=\"T_44be9\">\n",
       "  <thead>\n",
       "    <tr>\n",
       "      <th class=\"blank level0\" >&nbsp;</th>\n",
       "      <th id=\"T_44be9_level0_col0\" class=\"col_heading level0 col0\" >Model</th>\n",
       "      <th id=\"T_44be9_level0_col1\" class=\"col_heading level0 col1\" >Accuracy</th>\n",
       "      <th id=\"T_44be9_level0_col2\" class=\"col_heading level0 col2\" >AUC</th>\n",
       "      <th id=\"T_44be9_level0_col3\" class=\"col_heading level0 col3\" >Recall</th>\n",
       "      <th id=\"T_44be9_level0_col4\" class=\"col_heading level0 col4\" >Prec.</th>\n",
       "      <th id=\"T_44be9_level0_col5\" class=\"col_heading level0 col5\" >F1</th>\n",
       "      <th id=\"T_44be9_level0_col6\" class=\"col_heading level0 col6\" >Kappa</th>\n",
       "      <th id=\"T_44be9_level0_col7\" class=\"col_heading level0 col7\" >MCC</th>\n",
       "    </tr>\n",
       "  </thead>\n",
       "  <tbody>\n",
       "    <tr>\n",
       "      <th id=\"T_44be9_level0_row0\" class=\"row_heading level0 row0\" >0</th>\n",
       "      <td id=\"T_44be9_row0_col0\" class=\"data row0 col0\" >Light Gradient Boosting Machine</td>\n",
       "      <td id=\"T_44be9_row0_col1\" class=\"data row0 col1\" >0.9254</td>\n",
       "      <td id=\"T_44be9_row0_col2\" class=\"data row0 col2\" >0.6488</td>\n",
       "      <td id=\"T_44be9_row0_col3\" class=\"data row0 col3\" >0.0000</td>\n",
       "      <td id=\"T_44be9_row0_col4\" class=\"data row0 col4\" >0.0000</td>\n",
       "      <td id=\"T_44be9_row0_col5\" class=\"data row0 col5\" >0.0000</td>\n",
       "      <td id=\"T_44be9_row0_col6\" class=\"data row0 col6\" >-0.0001</td>\n",
       "      <td id=\"T_44be9_row0_col7\" class=\"data row0 col7\" >-0.0022</td>\n",
       "    </tr>\n",
       "  </tbody>\n",
       "</table>\n"
      ],
      "text/plain": [
       "<pandas.io.formats.style.Styler at 0x7f83009df400>"
      ]
     },
     "metadata": {},
     "output_type": "display_data"
    },
    {
     "data": {
      "text/html": [
       "<style type=\"text/css\">\n",
       "</style>\n",
       "<table id=\"T_34bb8\">\n",
       "  <thead>\n",
       "    <tr>\n",
       "      <th class=\"blank level0\" >&nbsp;</th>\n",
       "      <th id=\"T_34bb8_level0_col0\" class=\"col_heading level0 col0\" >Model</th>\n",
       "      <th id=\"T_34bb8_level0_col1\" class=\"col_heading level0 col1\" >Accuracy</th>\n",
       "      <th id=\"T_34bb8_level0_col2\" class=\"col_heading level0 col2\" >AUC</th>\n",
       "      <th id=\"T_34bb8_level0_col3\" class=\"col_heading level0 col3\" >Recall</th>\n",
       "      <th id=\"T_34bb8_level0_col4\" class=\"col_heading level0 col4\" >Prec.</th>\n",
       "      <th id=\"T_34bb8_level0_col5\" class=\"col_heading level0 col5\" >F1</th>\n",
       "      <th id=\"T_34bb8_level0_col6\" class=\"col_heading level0 col6\" >Kappa</th>\n",
       "      <th id=\"T_34bb8_level0_col7\" class=\"col_heading level0 col7\" >MCC</th>\n",
       "    </tr>\n",
       "  </thead>\n",
       "  <tbody>\n",
       "    <tr>\n",
       "      <th id=\"T_34bb8_level0_row0\" class=\"row_heading level0 row0\" >0</th>\n",
       "      <td id=\"T_34bb8_row0_col0\" class=\"data row0 col0\" >Random Forest Classifier</td>\n",
       "      <td id=\"T_34bb8_row0_col1\" class=\"data row0 col1\" >0.9255</td>\n",
       "      <td id=\"T_34bb8_row0_col2\" class=\"data row0 col2\" >0.6164</td>\n",
       "      <td id=\"T_34bb8_row0_col3\" class=\"data row0 col3\" >0.0000</td>\n",
       "      <td id=\"T_34bb8_row0_col4\" class=\"data row0 col4\" >0.0000</td>\n",
       "      <td id=\"T_34bb8_row0_col5\" class=\"data row0 col5\" >0.0000</td>\n",
       "      <td id=\"T_34bb8_row0_col6\" class=\"data row0 col6\" >0.0000</td>\n",
       "      <td id=\"T_34bb8_row0_col7\" class=\"data row0 col7\" >0.0000</td>\n",
       "    </tr>\n",
       "  </tbody>\n",
       "</table>\n"
      ],
      "text/plain": [
       "<pandas.io.formats.style.Styler at 0x7f83009dd780>"
      ]
     },
     "metadata": {},
     "output_type": "display_data"
    }
   ],
   "source": [
    "test_prediction_ada, test_prediction_gbc, test_prediction_lightgbm, test_prediction_rf = model.common.batch_predict_and_odds(test_data, [regression_model_ada, regression_model_gbc, regression_model_lightgbm, regression_model_rf])"
   ]
  },
  {
   "cell_type": "code",
   "execution_count": 11,
   "metadata": {
    "execution": {
     "iopub.execute_input": "2023-07-06T20:29:12.029886Z",
     "iopub.status.busy": "2023-07-06T20:29:12.029718Z",
     "iopub.status.idle": "2023-07-06T20:29:12.068876Z",
     "shell.execute_reply": "2023-07-06T20:29:12.068293Z",
     "shell.execute_reply.started": "2023-07-06T20:29:12.029871Z"
    }
   },
   "outputs": [
    {
     "data": {
      "text/html": [
       "<table>\n",
       "<tbody>\n",
       "<tr><td>model   </td><td>0.6     </td><td>0.7     </td><td>0.75    </td><td>0.8     </td><td>0.85    </td></tr>\n",
       "<tr><td>ada     </td><td>(0, nan)</td><td>(0, nan)</td><td>(0, nan)</td><td>(0, nan)</td><td>(0, nan)</td></tr>\n",
       "<tr><td>gbc     </td><td>(0, nan)</td><td>(0, nan)</td><td>(0, nan)</td><td>(0, nan)</td><td>(0, nan)</td></tr>\n",
       "<tr><td>lightgbm</td><td>(0, nan)</td><td>(0, nan)</td><td>(0, nan)</td><td>(0, nan)</td><td>(0, nan)</td></tr>\n",
       "<tr><td>rf      </td><td>(0, nan)</td><td>(0, nan)</td><td>(0, nan)</td><td>(0, nan)</td><td>(0, nan)</td></tr>\n",
       "</tbody>\n",
       "</table>"
      ],
      "text/plain": [
       "'<table>\\n<tbody>\\n<tr><td>model   </td><td>0.6     </td><td>0.7     </td><td>0.75    </td><td>0.8     </td><td>0.85    </td></tr>\\n<tr><td>ada     </td><td>(0, nan)</td><td>(0, nan)</td><td>(0, nan)</td><td>(0, nan)</td><td>(0, nan)</td></tr>\\n<tr><td>gbc     </td><td>(0, nan)</td><td>(0, nan)</td><td>(0, nan)</td><td>(0, nan)</td><td>(0, nan)</td></tr>\\n<tr><td>lightgbm</td><td>(0, nan)</td><td>(0, nan)</td><td>(0, nan)</td><td>(0, nan)</td><td>(0, nan)</td></tr>\\n<tr><td>rf      </td><td>(0, nan)</td><td>(0, nan)</td><td>(0, nan)</td><td>(0, nan)</td><td>(0, nan)</td></tr>\\n</tbody>\\n</table>'"
      ]
     },
     "execution_count": 11,
     "metadata": {},
     "output_type": "execute_result"
    }
   ],
   "source": [
    "model.common.evaluate_predictions([(test_prediction_ada, \"ada\"), (test_prediction_gbc, \"gbc\"), (test_prediction_lightgbm, \"lightgbm\"), (test_prediction_rf, \"rf\")], [0.6, 0.7, 0.75, 0.8, 0.85], target_column)"
   ]
  },
  {
   "cell_type": "markdown",
   "metadata": {
    "id": "sOfz0zBX994h"
   },
   "source": [
    "**Finalize Model**"
   ]
  },
  {
   "cell_type": "code",
   "execution_count": 12,
   "metadata": {
    "colab": {
     "base_uri": "https://localhost:8080/",
     "height": 34
    },
    "execution": {
     "iopub.execute_input": "2023-07-06T20:29:12.069577Z",
     "iopub.status.busy": "2023-07-06T20:29:12.069421Z",
     "iopub.status.idle": "2023-07-06T20:30:39.989385Z",
     "shell.execute_reply": "2023-07-06T20:30:39.988892Z",
     "shell.execute_reply.started": "2023-07-06T20:29:12.069563Z"
    },
    "id": "gutfxdh8-DKy",
    "outputId": "2e862724-33f5-45f0-ed52-aade46f98c7d"
   },
   "outputs": [],
   "source": [
    "# train over the whole dataset without validation split\n",
    "regression_model_finalized_ada = pycaret.classification.finalize_model(regression_model_ada)\n",
    "regression_model_finalized_gbc = pycaret.classification.finalize_model(regression_model_gbc)\n",
    "regression_model_finalized_lightgbm = pycaret.classification.finalize_model(regression_model_lightgbm)\n",
    "regression_model_finalized_rf = pycaret.classification.finalize_model(regression_model_rf)"
   ]
  },
  {
   "cell_type": "code",
   "execution_count": 13,
   "metadata": {
    "execution": {
     "iopub.execute_input": "2023-07-06T20:30:39.990357Z",
     "iopub.status.busy": "2023-07-06T20:30:39.990134Z",
     "iopub.status.idle": "2023-07-06T20:30:40.926863Z",
     "shell.execute_reply": "2023-07-06T20:30:40.925905Z",
     "shell.execute_reply.started": "2023-07-06T20:30:39.990340Z"
    }
   },
   "outputs": [
    {
     "data": {
      "text/html": [
       "<style type=\"text/css\">\n",
       "</style>\n",
       "<table id=\"T_81714\">\n",
       "  <thead>\n",
       "    <tr>\n",
       "      <th class=\"blank level0\" >&nbsp;</th>\n",
       "      <th id=\"T_81714_level0_col0\" class=\"col_heading level0 col0\" >Model</th>\n",
       "      <th id=\"T_81714_level0_col1\" class=\"col_heading level0 col1\" >Accuracy</th>\n",
       "      <th id=\"T_81714_level0_col2\" class=\"col_heading level0 col2\" >AUC</th>\n",
       "      <th id=\"T_81714_level0_col3\" class=\"col_heading level0 col3\" >Recall</th>\n",
       "      <th id=\"T_81714_level0_col4\" class=\"col_heading level0 col4\" >Prec.</th>\n",
       "      <th id=\"T_81714_level0_col5\" class=\"col_heading level0 col5\" >F1</th>\n",
       "      <th id=\"T_81714_level0_col6\" class=\"col_heading level0 col6\" >Kappa</th>\n",
       "      <th id=\"T_81714_level0_col7\" class=\"col_heading level0 col7\" >MCC</th>\n",
       "    </tr>\n",
       "  </thead>\n",
       "  <tbody>\n",
       "    <tr>\n",
       "      <th id=\"T_81714_level0_row0\" class=\"row_heading level0 row0\" >0</th>\n",
       "      <td id=\"T_81714_row0_col0\" class=\"data row0 col0\" >Ada Boost Classifier</td>\n",
       "      <td id=\"T_81714_row0_col1\" class=\"data row0 col1\" >0.9255</td>\n",
       "      <td id=\"T_81714_row0_col2\" class=\"data row0 col2\" >0.6484</td>\n",
       "      <td id=\"T_81714_row0_col3\" class=\"data row0 col3\" >0.0000</td>\n",
       "      <td id=\"T_81714_row0_col4\" class=\"data row0 col4\" >0.0000</td>\n",
       "      <td id=\"T_81714_row0_col5\" class=\"data row0 col5\" >0.0000</td>\n",
       "      <td id=\"T_81714_row0_col6\" class=\"data row0 col6\" >0.0000</td>\n",
       "      <td id=\"T_81714_row0_col7\" class=\"data row0 col7\" >0.0000</td>\n",
       "    </tr>\n",
       "  </tbody>\n",
       "</table>\n"
      ],
      "text/plain": [
       "<pandas.io.formats.style.Styler at 0x7f8300a25030>"
      ]
     },
     "metadata": {},
     "output_type": "display_data"
    },
    {
     "data": {
      "text/html": [
       "<style type=\"text/css\">\n",
       "</style>\n",
       "<table id=\"T_8ef14\">\n",
       "  <thead>\n",
       "    <tr>\n",
       "      <th class=\"blank level0\" >&nbsp;</th>\n",
       "      <th id=\"T_8ef14_level0_col0\" class=\"col_heading level0 col0\" >Model</th>\n",
       "      <th id=\"T_8ef14_level0_col1\" class=\"col_heading level0 col1\" >Accuracy</th>\n",
       "      <th id=\"T_8ef14_level0_col2\" class=\"col_heading level0 col2\" >AUC</th>\n",
       "      <th id=\"T_8ef14_level0_col3\" class=\"col_heading level0 col3\" >Recall</th>\n",
       "      <th id=\"T_8ef14_level0_col4\" class=\"col_heading level0 col4\" >Prec.</th>\n",
       "      <th id=\"T_8ef14_level0_col5\" class=\"col_heading level0 col5\" >F1</th>\n",
       "      <th id=\"T_8ef14_level0_col6\" class=\"col_heading level0 col6\" >Kappa</th>\n",
       "      <th id=\"T_8ef14_level0_col7\" class=\"col_heading level0 col7\" >MCC</th>\n",
       "    </tr>\n",
       "  </thead>\n",
       "  <tbody>\n",
       "    <tr>\n",
       "      <th id=\"T_8ef14_level0_row0\" class=\"row_heading level0 row0\" >0</th>\n",
       "      <td id=\"T_8ef14_row0_col0\" class=\"data row0 col0\" >Gradient Boosting Classifier</td>\n",
       "      <td id=\"T_8ef14_row0_col1\" class=\"data row0 col1\" >0.9255</td>\n",
       "      <td id=\"T_8ef14_row0_col2\" class=\"data row0 col2\" >0.6551</td>\n",
       "      <td id=\"T_8ef14_row0_col3\" class=\"data row0 col3\" >0.0008</td>\n",
       "      <td id=\"T_8ef14_row0_col4\" class=\"data row0 col4\" >0.5000</td>\n",
       "      <td id=\"T_8ef14_row0_col5\" class=\"data row0 col5\" >0.0017</td>\n",
       "      <td id=\"T_8ef14_row0_col6\" class=\"data row0 col6\" >0.0014</td>\n",
       "      <td id=\"T_8ef14_row0_col7\" class=\"data row0 col7\" >0.0181</td>\n",
       "    </tr>\n",
       "  </tbody>\n",
       "</table>\n"
      ],
      "text/plain": [
       "<pandas.io.formats.style.Styler at 0x7f8301ad8a00>"
      ]
     },
     "metadata": {},
     "output_type": "display_data"
    },
    {
     "data": {
      "text/html": [
       "<style type=\"text/css\">\n",
       "</style>\n",
       "<table id=\"T_ecc9f\">\n",
       "  <thead>\n",
       "    <tr>\n",
       "      <th class=\"blank level0\" >&nbsp;</th>\n",
       "      <th id=\"T_ecc9f_level0_col0\" class=\"col_heading level0 col0\" >Model</th>\n",
       "      <th id=\"T_ecc9f_level0_col1\" class=\"col_heading level0 col1\" >Accuracy</th>\n",
       "      <th id=\"T_ecc9f_level0_col2\" class=\"col_heading level0 col2\" >AUC</th>\n",
       "      <th id=\"T_ecc9f_level0_col3\" class=\"col_heading level0 col3\" >Recall</th>\n",
       "      <th id=\"T_ecc9f_level0_col4\" class=\"col_heading level0 col4\" >Prec.</th>\n",
       "      <th id=\"T_ecc9f_level0_col5\" class=\"col_heading level0 col5\" >F1</th>\n",
       "      <th id=\"T_ecc9f_level0_col6\" class=\"col_heading level0 col6\" >Kappa</th>\n",
       "      <th id=\"T_ecc9f_level0_col7\" class=\"col_heading level0 col7\" >MCC</th>\n",
       "    </tr>\n",
       "  </thead>\n",
       "  <tbody>\n",
       "    <tr>\n",
       "      <th id=\"T_ecc9f_level0_row0\" class=\"row_heading level0 row0\" >0</th>\n",
       "      <td id=\"T_ecc9f_row0_col0\" class=\"data row0 col0\" >Light Gradient Boosting Machine</td>\n",
       "      <td id=\"T_ecc9f_row0_col1\" class=\"data row0 col1\" >0.9255</td>\n",
       "      <td id=\"T_ecc9f_row0_col2\" class=\"data row0 col2\" >0.6481</td>\n",
       "      <td id=\"T_ecc9f_row0_col3\" class=\"data row0 col3\" >0.0000</td>\n",
       "      <td id=\"T_ecc9f_row0_col4\" class=\"data row0 col4\" >0.0000</td>\n",
       "      <td id=\"T_ecc9f_row0_col5\" class=\"data row0 col5\" >0.0000</td>\n",
       "      <td id=\"T_ecc9f_row0_col6\" class=\"data row0 col6\" >0.0000</td>\n",
       "      <td id=\"T_ecc9f_row0_col7\" class=\"data row0 col7\" >0.0000</td>\n",
       "    </tr>\n",
       "  </tbody>\n",
       "</table>\n"
      ],
      "text/plain": [
       "<pandas.io.formats.style.Styler at 0x7f8300a25d50>"
      ]
     },
     "metadata": {},
     "output_type": "display_data"
    },
    {
     "data": {
      "text/html": [
       "<style type=\"text/css\">\n",
       "</style>\n",
       "<table id=\"T_9e4cc\">\n",
       "  <thead>\n",
       "    <tr>\n",
       "      <th class=\"blank level0\" >&nbsp;</th>\n",
       "      <th id=\"T_9e4cc_level0_col0\" class=\"col_heading level0 col0\" >Model</th>\n",
       "      <th id=\"T_9e4cc_level0_col1\" class=\"col_heading level0 col1\" >Accuracy</th>\n",
       "      <th id=\"T_9e4cc_level0_col2\" class=\"col_heading level0 col2\" >AUC</th>\n",
       "      <th id=\"T_9e4cc_level0_col3\" class=\"col_heading level0 col3\" >Recall</th>\n",
       "      <th id=\"T_9e4cc_level0_col4\" class=\"col_heading level0 col4\" >Prec.</th>\n",
       "      <th id=\"T_9e4cc_level0_col5\" class=\"col_heading level0 col5\" >F1</th>\n",
       "      <th id=\"T_9e4cc_level0_col6\" class=\"col_heading level0 col6\" >Kappa</th>\n",
       "      <th id=\"T_9e4cc_level0_col7\" class=\"col_heading level0 col7\" >MCC</th>\n",
       "    </tr>\n",
       "  </thead>\n",
       "  <tbody>\n",
       "    <tr>\n",
       "      <th id=\"T_9e4cc_level0_row0\" class=\"row_heading level0 row0\" >0</th>\n",
       "      <td id=\"T_9e4cc_row0_col0\" class=\"data row0 col0\" >Random Forest Classifier</td>\n",
       "      <td id=\"T_9e4cc_row0_col1\" class=\"data row0 col1\" >0.9255</td>\n",
       "      <td id=\"T_9e4cc_row0_col2\" class=\"data row0 col2\" >0.6342</td>\n",
       "      <td id=\"T_9e4cc_row0_col3\" class=\"data row0 col3\" >0.0000</td>\n",
       "      <td id=\"T_9e4cc_row0_col4\" class=\"data row0 col4\" >0.0000</td>\n",
       "      <td id=\"T_9e4cc_row0_col5\" class=\"data row0 col5\" >0.0000</td>\n",
       "      <td id=\"T_9e4cc_row0_col6\" class=\"data row0 col6\" >0.0000</td>\n",
       "      <td id=\"T_9e4cc_row0_col7\" class=\"data row0 col7\" >0.0000</td>\n",
       "    </tr>\n",
       "  </tbody>\n",
       "</table>\n"
      ],
      "text/plain": [
       "<pandas.io.formats.style.Styler at 0x7f8300b7b910>"
      ]
     },
     "metadata": {},
     "output_type": "display_data"
    }
   ],
   "source": [
    "test_finalized_prediction_ada, test_finalized_prediction_gbc, test_finalized_prediction_lightgbm, test_finalized_prediction_rf = model.common.batch_predict_and_odds(\n",
    "    test_data, \n",
    "    [regression_model_finalized_ada, regression_model_finalized_gbc, regression_model_finalized_lightgbm, regression_model_finalized_rf])"
   ]
  },
  {
   "cell_type": "code",
   "execution_count": 14,
   "metadata": {
    "execution": {
     "iopub.execute_input": "2023-07-06T20:30:40.928573Z",
     "iopub.status.busy": "2023-07-06T20:30:40.928416Z",
     "iopub.status.idle": "2023-07-06T20:30:40.966624Z",
     "shell.execute_reply": "2023-07-06T20:30:40.965865Z",
     "shell.execute_reply.started": "2023-07-06T20:30:40.928558Z"
    }
   },
   "outputs": [
    {
     "data": {
      "text/html": [
       "<table>\n",
       "<tbody>\n",
       "<tr><td>model   </td><td>0.6     </td><td>0.7     </td><td>0.75    </td><td>0.8     </td><td>0.85    </td></tr>\n",
       "<tr><td>ada     </td><td>(0, nan)</td><td>(0, nan)</td><td>(0, nan)</td><td>(0, nan)</td><td>(0, nan)</td></tr>\n",
       "<tr><td>gbc     </td><td>(0, nan)</td><td>(0, nan)</td><td>(0, nan)</td><td>(0, nan)</td><td>(0, nan)</td></tr>\n",
       "<tr><td>lightgbm</td><td>(0, nan)</td><td>(0, nan)</td><td>(0, nan)</td><td>(0, nan)</td><td>(0, nan)</td></tr>\n",
       "<tr><td>rf      </td><td>(0, nan)</td><td>(0, nan)</td><td>(0, nan)</td><td>(0, nan)</td><td>(0, nan)</td></tr>\n",
       "</tbody>\n",
       "</table>"
      ],
      "text/plain": [
       "'<table>\\n<tbody>\\n<tr><td>model   </td><td>0.6     </td><td>0.7     </td><td>0.75    </td><td>0.8     </td><td>0.85    </td></tr>\\n<tr><td>ada     </td><td>(0, nan)</td><td>(0, nan)</td><td>(0, nan)</td><td>(0, nan)</td><td>(0, nan)</td></tr>\\n<tr><td>gbc     </td><td>(0, nan)</td><td>(0, nan)</td><td>(0, nan)</td><td>(0, nan)</td><td>(0, nan)</td></tr>\\n<tr><td>lightgbm</td><td>(0, nan)</td><td>(0, nan)</td><td>(0, nan)</td><td>(0, nan)</td><td>(0, nan)</td></tr>\\n<tr><td>rf      </td><td>(0, nan)</td><td>(0, nan)</td><td>(0, nan)</td><td>(0, nan)</td><td>(0, nan)</td></tr>\\n</tbody>\\n</table>'"
      ]
     },
     "execution_count": 14,
     "metadata": {},
     "output_type": "execute_result"
    }
   ],
   "source": [
    "model.common.evaluate_predictions([(test_finalized_prediction_ada, \"ada\"), (test_finalized_prediction_gbc, \"gbc\"), (test_finalized_prediction_lightgbm, \"lightgbm\"), (test_finalized_prediction_rf, \"rf\")], [0.6, 0.7, 0.75, 0.8, 0.85], target_column)"
   ]
  },
  {
   "cell_type": "markdown",
   "metadata": {},
   "source": [
    "**Save Model**"
   ]
  },
  {
   "cell_type": "code",
   "execution_count": 15,
   "metadata": {
    "execution": {
     "iopub.execute_input": "2023-07-06T20:30:40.967674Z",
     "iopub.status.busy": "2023-07-06T20:30:40.967444Z",
     "iopub.status.idle": "2023-07-06T20:30:41.071067Z",
     "shell.execute_reply": "2023-07-06T20:30:41.070485Z",
     "shell.execute_reply.started": "2023-07-06T20:30:40.967652Z"
    }
   },
   "outputs": [
    {
     "name": "stdout",
     "output_type": "stream",
     "text": [
      "Transformation Pipeline and Model Successfully Saved\n"
     ]
    },
    {
     "data": {
      "text/plain": [
       "(Pipeline(memory=FastMemory(location=/tmp/joblib),\n",
       "          steps=[('numerical_imputer',\n",
       "                  TransformerWrapper(exclude=None,\n",
       "                                     include=['pitching_gamesPlayed',\n",
       "                                              'pitching_runs_per_game',\n",
       "                                              'pitching_strikeOuts_per_game',\n",
       "                                              'pitching_hits_per_game',\n",
       "                                              'batting_gamesPlayed',\n",
       "                                              'batting_runs_per_game',\n",
       "                                              'batting_strikeOuts_per_game',\n",
       "                                              'batting_hits_per_game',\n",
       "                                              'batting_rbi',\n",
       "                                              'pitching_cur_...\n",
       "                                                       colsample_bytree=1.0,\n",
       "                                                       importance_type='split',\n",
       "                                                       learning_rate=0.1,\n",
       "                                                       max_depth=-1,\n",
       "                                                       min_child_samples=20,\n",
       "                                                       min_child_weight=0.001,\n",
       "                                                       min_split_gain=0.0,\n",
       "                                                       n_estimators=100,\n",
       "                                                       n_jobs=-1, num_leaves=31,\n",
       "                                                       objective=None,\n",
       "                                                       probability_threshold=0.5,\n",
       "                                                       random_state=2385,\n",
       "                                                       reg_alpha=0.0,\n",
       "                                                       reg_lambda=0.0,\n",
       "                                                       silent='warn',\n",
       "                                                       subsample=1.0,\n",
       "                                                       subsample_for_bin=200000,\n",
       "                                                       subsample_freq=0))],\n",
       "          verbose=False),\n",
       " 'model/batter_2runs_regression_model.pkl')"
      ]
     },
     "execution_count": 15,
     "metadata": {},
     "output_type": "execute_result"
    }
   ],
   "source": [
    "pycaret.classification.save_model(regression_model_finalized_lightgbm, model_file_name)"
   ]
  }
 ],
 "metadata": {
  "colab": {
   "provenance": []
  },
  "kernelspec": {
   "display_name": "Python 3 (ipykernel)",
   "language": "python",
   "name": "python3"
  },
  "language_info": {
   "codemirror_mode": {
    "name": "ipython",
    "version": 3
   },
   "file_extension": ".py",
   "mimetype": "text/x-python",
   "name": "python",
   "nbconvert_exporter": "python",
   "pygments_lexer": "ipython3",
   "version": "3.10.6"
  },
  "widgets": {
   "application/vnd.jupyter.widget-state+json": {
    "1ac32fe9102d4f5a9d1511e64a1d5e5d": {
     "model_module": "@jupyter-widgets/base",
     "model_module_version": "1.2.0",
     "model_name": "LayoutModel",
     "state": {
      "_model_module": "@jupyter-widgets/base",
      "_model_module_version": "1.2.0",
      "_model_name": "LayoutModel",
      "_view_count": null,
      "_view_module": "@jupyter-widgets/base",
      "_view_module_version": "1.2.0",
      "_view_name": "LayoutView",
      "align_content": null,
      "align_items": null,
      "align_self": null,
      "border": null,
      "bottom": null,
      "display": null,
      "flex": null,
      "flex_flow": null,
      "grid_area": null,
      "grid_auto_columns": null,
      "grid_auto_flow": null,
      "grid_auto_rows": null,
      "grid_column": null,
      "grid_gap": null,
      "grid_row": null,
      "grid_template_areas": null,
      "grid_template_columns": null,
      "grid_template_rows": null,
      "height": null,
      "justify_content": null,
      "justify_items": null,
      "left": null,
      "margin": null,
      "max_height": null,
      "max_width": null,
      "min_height": null,
      "min_width": null,
      "object_fit": null,
      "object_position": null,
      "order": null,
      "overflow": null,
      "overflow_x": null,
      "overflow_y": null,
      "padding": null,
      "right": null,
      "top": null,
      "visibility": null,
      "width": null
     }
    },
    "40b50c57e470496cb6c94a0693636fd7": {
     "model_module": "@jupyter-widgets/base",
     "model_module_version": "1.2.0",
     "model_name": "LayoutModel",
     "state": {
      "_model_module": "@jupyter-widgets/base",
      "_model_module_version": "1.2.0",
      "_model_name": "LayoutModel",
      "_view_count": null,
      "_view_module": "@jupyter-widgets/base",
      "_view_module_version": "1.2.0",
      "_view_name": "LayoutView",
      "align_content": null,
      "align_items": null,
      "align_self": null,
      "border": null,
      "bottom": null,
      "display": null,
      "flex": null,
      "flex_flow": null,
      "grid_area": null,
      "grid_auto_columns": null,
      "grid_auto_flow": null,
      "grid_auto_rows": null,
      "grid_column": null,
      "grid_gap": null,
      "grid_row": null,
      "grid_template_areas": null,
      "grid_template_columns": null,
      "grid_template_rows": null,
      "height": null,
      "justify_content": null,
      "justify_items": null,
      "left": null,
      "margin": null,
      "max_height": null,
      "max_width": null,
      "min_height": null,
      "min_width": null,
      "object_fit": null,
      "object_position": null,
      "order": null,
      "overflow": null,
      "overflow_x": null,
      "overflow_y": null,
      "padding": null,
      "right": null,
      "top": null,
      "visibility": "hidden",
      "width": null
     }
    },
    "46b9d3b6cd6e4f76a42dd4f216dc1644": {
     "model_module": "@jupyter-widgets/controls",
     "model_module_version": "1.5.0",
     "model_name": "HBoxModel",
     "state": {
      "_dom_classes": [],
      "_model_module": "@jupyter-widgets/controls",
      "_model_module_version": "1.5.0",
      "_model_name": "HBoxModel",
      "_view_count": null,
      "_view_module": "@jupyter-widgets/controls",
      "_view_module_version": "1.5.0",
      "_view_name": "HBoxView",
      "box_style": "",
      "children": [
       "IPY_MODEL_cfce22755aa7471a87151793e633def1",
       "IPY_MODEL_94d7b3dc65544425b2463933c4108fa4",
       "IPY_MODEL_f92582f04a594f87a669f3c1c4d4eabc"
      ],
      "layout": "IPY_MODEL_40b50c57e470496cb6c94a0693636fd7"
     }
    },
    "4efa6d0ab419418ea9e4991c77b1ec42": {
     "model_module": "@jupyter-widgets/controls",
     "model_module_version": "1.5.0",
     "model_name": "ProgressStyleModel",
     "state": {
      "_model_module": "@jupyter-widgets/controls",
      "_model_module_version": "1.5.0",
      "_model_name": "ProgressStyleModel",
      "_view_count": null,
      "_view_module": "@jupyter-widgets/base",
      "_view_module_version": "1.2.0",
      "_view_name": "StyleView",
      "bar_color": null,
      "description_width": ""
     }
    },
    "81feddb738c64cbc8b7dbc7aec2730de": {
     "model_module": "@jupyter-widgets/controls",
     "model_module_version": "1.5.0",
     "model_name": "DescriptionStyleModel",
     "state": {
      "_model_module": "@jupyter-widgets/controls",
      "_model_module_version": "1.5.0",
      "_model_name": "DescriptionStyleModel",
      "_view_count": null,
      "_view_module": "@jupyter-widgets/base",
      "_view_module_version": "1.2.0",
      "_view_name": "StyleView",
      "description_width": ""
     }
    },
    "94d7b3dc65544425b2463933c4108fa4": {
     "model_module": "@jupyter-widgets/controls",
     "model_module_version": "1.5.0",
     "model_name": "FloatProgressModel",
     "state": {
      "_dom_classes": [],
      "_model_module": "@jupyter-widgets/controls",
      "_model_module_version": "1.5.0",
      "_model_name": "FloatProgressModel",
      "_view_count": null,
      "_view_module": "@jupyter-widgets/controls",
      "_view_module_version": "1.5.0",
      "_view_name": "ProgressView",
      "bar_style": "",
      "description": "",
      "description_tooltip": null,
      "layout": "IPY_MODEL_eb74dfbcca4a458eb81d87fbae5bf166",
      "max": 4,
      "min": 0,
      "orientation": "horizontal",
      "style": "IPY_MODEL_4efa6d0ab419418ea9e4991c77b1ec42",
      "value": 4
     }
    },
    "bec03081ad154466a3a0abca5a8462f4": {
     "model_module": "@jupyter-widgets/base",
     "model_module_version": "1.2.0",
     "model_name": "LayoutModel",
     "state": {
      "_model_module": "@jupyter-widgets/base",
      "_model_module_version": "1.2.0",
      "_model_name": "LayoutModel",
      "_view_count": null,
      "_view_module": "@jupyter-widgets/base",
      "_view_module_version": "1.2.0",
      "_view_name": "LayoutView",
      "align_content": null,
      "align_items": null,
      "align_self": null,
      "border": null,
      "bottom": null,
      "display": null,
      "flex": null,
      "flex_flow": null,
      "grid_area": null,
      "grid_auto_columns": null,
      "grid_auto_flow": null,
      "grid_auto_rows": null,
      "grid_column": null,
      "grid_gap": null,
      "grid_row": null,
      "grid_template_areas": null,
      "grid_template_columns": null,
      "grid_template_rows": null,
      "height": null,
      "justify_content": null,
      "justify_items": null,
      "left": null,
      "margin": null,
      "max_height": null,
      "max_width": null,
      "min_height": null,
      "min_width": null,
      "object_fit": null,
      "object_position": null,
      "order": null,
      "overflow": null,
      "overflow_x": null,
      "overflow_y": null,
      "padding": null,
      "right": null,
      "top": null,
      "visibility": null,
      "width": null
     }
    },
    "cfcd697393754f1d93106a2d6e07ea05": {
     "model_module": "@jupyter-widgets/controls",
     "model_module_version": "1.5.0",
     "model_name": "DescriptionStyleModel",
     "state": {
      "_model_module": "@jupyter-widgets/controls",
      "_model_module_version": "1.5.0",
      "_model_name": "DescriptionStyleModel",
      "_view_count": null,
      "_view_module": "@jupyter-widgets/base",
      "_view_module_version": "1.2.0",
      "_view_name": "StyleView",
      "description_width": ""
     }
    },
    "cfce22755aa7471a87151793e633def1": {
     "model_module": "@jupyter-widgets/controls",
     "model_module_version": "1.5.0",
     "model_name": "HTMLModel",
     "state": {
      "_dom_classes": [],
      "_model_module": "@jupyter-widgets/controls",
      "_model_module_version": "1.5.0",
      "_model_name": "HTMLModel",
      "_view_count": null,
      "_view_module": "@jupyter-widgets/controls",
      "_view_module_version": "1.5.0",
      "_view_name": "HTMLView",
      "description": "",
      "description_tooltip": null,
      "layout": "IPY_MODEL_bec03081ad154466a3a0abca5a8462f4",
      "placeholder": "​",
      "style": "IPY_MODEL_81feddb738c64cbc8b7dbc7aec2730de",
      "value": "Processing: 100%"
     }
    },
    "eb74dfbcca4a458eb81d87fbae5bf166": {
     "model_module": "@jupyter-widgets/base",
     "model_module_version": "1.2.0",
     "model_name": "LayoutModel",
     "state": {
      "_model_module": "@jupyter-widgets/base",
      "_model_module_version": "1.2.0",
      "_model_name": "LayoutModel",
      "_view_count": null,
      "_view_module": "@jupyter-widgets/base",
      "_view_module_version": "1.2.0",
      "_view_name": "LayoutView",
      "align_content": null,
      "align_items": null,
      "align_self": null,
      "border": null,
      "bottom": null,
      "display": null,
      "flex": null,
      "flex_flow": null,
      "grid_area": null,
      "grid_auto_columns": null,
      "grid_auto_flow": null,
      "grid_auto_rows": null,
      "grid_column": null,
      "grid_gap": null,
      "grid_row": null,
      "grid_template_areas": null,
      "grid_template_columns": null,
      "grid_template_rows": null,
      "height": null,
      "justify_content": null,
      "justify_items": null,
      "left": null,
      "margin": null,
      "max_height": null,
      "max_width": null,
      "min_height": null,
      "min_width": null,
      "object_fit": null,
      "object_position": null,
      "order": null,
      "overflow": null,
      "overflow_x": null,
      "overflow_y": null,
      "padding": null,
      "right": null,
      "top": null,
      "visibility": null,
      "width": null
     }
    },
    "f92582f04a594f87a669f3c1c4d4eabc": {
     "model_module": "@jupyter-widgets/controls",
     "model_module_version": "1.5.0",
     "model_name": "HTMLModel",
     "state": {
      "_dom_classes": [],
      "_model_module": "@jupyter-widgets/controls",
      "_model_module_version": "1.5.0",
      "_model_name": "HTMLModel",
      "_view_count": null,
      "_view_module": "@jupyter-widgets/controls",
      "_view_module_version": "1.5.0",
      "_view_name": "HTMLView",
      "description": "",
      "description_tooltip": null,
      "layout": "IPY_MODEL_1ac32fe9102d4f5a9d1511e64a1d5e5d",
      "placeholder": "​",
      "style": "IPY_MODEL_cfcd697393754f1d93106a2d6e07ea05",
      "value": " 4/4 [00:10&lt;00:00,  2.34s/it]"
     }
    }
   }
  }
 },
 "nbformat": 4,
 "nbformat_minor": 4
}
