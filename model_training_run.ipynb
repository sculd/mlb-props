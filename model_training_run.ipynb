{
 "cells": [
  {
   "cell_type": "markdown",
   "metadata": {
    "id": "X1V_SUC4p-YQ"
   },
   "source": [
    "**Import Packages**"
   ]
  },
  {
   "cell_type": "code",
   "execution_count": 3,
   "metadata": {
    "colab": {
     "base_uri": "https://localhost:8080/"
    },
    "execution": {
     "iopub.execute_input": "2023-06-15T23:28:37.689230Z",
     "iopub.status.busy": "2023-06-15T23:28:37.688854Z",
     "iopub.status.idle": "2023-06-15T23:28:40.163773Z",
     "shell.execute_reply": "2023-06-15T23:28:40.163382Z",
     "shell.execute_reply.started": "2023-06-15T23:28:37.689196Z"
    },
    "id": "IGZCa25_p5QY",
    "outputId": "d9e7f9d8-21e8-49dd-d344-173324ba79a5",
    "tags": []
   },
   "outputs": [],
   "source": [
    "import pycaret\n",
    "import pandas as pd\n",
    "import numpy as np\n",
    "import sqlalchemy\n",
    "import mysql.connector\n",
    "\n",
    "from pycaret import classification\n",
    "from pycaret.classification import plot_model\n",
    "from datetime import datetime\n",
    "import importlib\n",
    "import model.common"
   ]
  },
  {
   "cell_type": "code",
   "execution_count": 4,
   "metadata": {
    "execution": {
     "iopub.execute_input": "2023-06-15T23:28:40.164675Z",
     "iopub.status.busy": "2023-06-15T23:28:40.164432Z",
     "iopub.status.idle": "2023-06-15T23:28:40.211943Z",
     "shell.execute_reply": "2023-06-15T23:28:40.210496Z",
     "shell.execute_reply.started": "2023-06-15T23:28:40.164662Z"
    }
   },
   "outputs": [],
   "source": [
    "from static_data.load_static_data import *"
   ]
  },
  {
   "cell_type": "code",
   "execution_count": 5,
   "metadata": {
    "execution": {
     "iopub.execute_input": "2023-06-15T23:28:40.214278Z",
     "iopub.status.busy": "2023-06-15T23:28:40.213700Z",
     "iopub.status.idle": "2023-06-15T23:28:40.238552Z",
     "shell.execute_reply": "2023-06-15T23:28:40.236859Z",
     "shell.execute_reply.started": "2023-06-15T23:28:40.214253Z"
    }
   },
   "outputs": [
    {
     "data": {
      "text/html": [
       "<div>\n",
       "<style scoped>\n",
       "    .dataframe tbody tr th:only-of-type {\n",
       "        vertical-align: middle;\n",
       "    }\n",
       "\n",
       "    .dataframe tbody tr th {\n",
       "        vertical-align: top;\n",
       "    }\n",
       "\n",
       "    .dataframe thead th {\n",
       "        text-align: right;\n",
       "    }\n",
       "</style>\n",
       "<table border=\"1\" class=\"dataframe\">\n",
       "  <thead>\n",
       "    <tr style=\"text-align: right;\">\n",
       "      <th></th>\n",
       "      <th>Unnamed: 0</th>\n",
       "      <th>player_id</th>\n",
       "      <th>player_name</th>\n",
       "      <th>player_team_id</th>\n",
       "      <th>player_team_name</th>\n",
       "      <th>player_position</th>\n",
       "    </tr>\n",
       "  </thead>\n",
       "  <tbody>\n",
       "    <tr>\n",
       "      <th>0</th>\n",
       "      <td>0</td>\n",
       "      <td>456167</td>\n",
       "      <td>A.J. Griffin</td>\n",
       "      <td>133</td>\n",
       "      <td>Oakland Athletics</td>\n",
       "      <td>Pitcher</td>\n",
       "    </tr>\n",
       "    <tr>\n",
       "      <th>1</th>\n",
       "      <td>0</td>\n",
       "      <td>134460</td>\n",
       "      <td>A.J. Hinch</td>\n",
       "      <td>133</td>\n",
       "      <td>Oakland Athletics</td>\n",
       "      <td>Catcher</td>\n",
       "    </tr>\n",
       "    <tr>\n",
       "      <th>2</th>\n",
       "      <td>0</td>\n",
       "      <td>640462</td>\n",
       "      <td>A.J. Puk</td>\n",
       "      <td>133</td>\n",
       "      <td>Oakland Athletics</td>\n",
       "      <td>Pitcher</td>\n",
       "    </tr>\n",
       "    <tr>\n",
       "      <th>3</th>\n",
       "      <td>0</td>\n",
       "      <td>605156</td>\n",
       "      <td>Aaron Brooks</td>\n",
       "      <td>133</td>\n",
       "      <td>Oakland Athletics</td>\n",
       "      <td>Pitcher</td>\n",
       "    </tr>\n",
       "    <tr>\n",
       "      <th>4</th>\n",
       "      <td>0</td>\n",
       "      <td>488811</td>\n",
       "      <td>Aaron Cunningham</td>\n",
       "      <td>133</td>\n",
       "      <td>Oakland Athletics</td>\n",
       "      <td>Outfielder</td>\n",
       "    </tr>\n",
       "    <tr>\n",
       "      <th>...</th>\n",
       "      <td>...</td>\n",
       "      <td>...</td>\n",
       "      <td>...</td>\n",
       "      <td>...</td>\n",
       "      <td>...</td>\n",
       "      <td>...</td>\n",
       "    </tr>\n",
       "    <tr>\n",
       "      <th>44728</th>\n",
       "      <td>0</td>\n",
       "      <td>451596</td>\n",
       "      <td>Yovani Gallardo</td>\n",
       "      <td>113</td>\n",
       "      <td>Cincinnati Reds</td>\n",
       "      <td>Pitcher</td>\n",
       "    </tr>\n",
       "    <tr>\n",
       "      <th>44729</th>\n",
       "      <td>0</td>\n",
       "      <td>435043</td>\n",
       "      <td>Zach Duke</td>\n",
       "      <td>113</td>\n",
       "      <td>Cincinnati Reds</td>\n",
       "      <td>Pitcher</td>\n",
       "    </tr>\n",
       "    <tr>\n",
       "      <th>44730</th>\n",
       "      <td>0</td>\n",
       "      <td>572227</td>\n",
       "      <td>Zach Vincej</td>\n",
       "      <td>113</td>\n",
       "      <td>Cincinnati Reds</td>\n",
       "      <td>Infielder</td>\n",
       "    </tr>\n",
       "    <tr>\n",
       "      <th>44731</th>\n",
       "      <td>0</td>\n",
       "      <td>446359</td>\n",
       "      <td>Zack Cozart</td>\n",
       "      <td>113</td>\n",
       "      <td>Cincinnati Reds</td>\n",
       "      <td>Infielder</td>\n",
       "    </tr>\n",
       "    <tr>\n",
       "      <th>44732</th>\n",
       "      <td>0</td>\n",
       "      <td>592848</td>\n",
       "      <td>Zack Weiss</td>\n",
       "      <td>113</td>\n",
       "      <td>Cincinnati Reds</td>\n",
       "      <td>Pitcher</td>\n",
       "    </tr>\n",
       "  </tbody>\n",
       "</table>\n",
       "<p>44733 rows × 6 columns</p>\n",
       "</div>"
      ],
      "text/plain": [
       "       Unnamed: 0  player_id       player_name  player_team_id  \\\n",
       "0               0     456167      A.J. Griffin             133   \n",
       "1               0     134460        A.J. Hinch             133   \n",
       "2               0     640462          A.J. Puk             133   \n",
       "3               0     605156      Aaron Brooks             133   \n",
       "4               0     488811  Aaron Cunningham             133   \n",
       "...           ...        ...               ...             ...   \n",
       "44728           0     451596   Yovani Gallardo             113   \n",
       "44729           0     435043         Zach Duke             113   \n",
       "44730           0     572227       Zach Vincej             113   \n",
       "44731           0     446359       Zack Cozart             113   \n",
       "44732           0     592848        Zack Weiss             113   \n",
       "\n",
       "        player_team_name player_position  \n",
       "0      Oakland Athletics         Pitcher  \n",
       "1      Oakland Athletics         Catcher  \n",
       "2      Oakland Athletics         Pitcher  \n",
       "3      Oakland Athletics         Pitcher  \n",
       "4      Oakland Athletics      Outfielder  \n",
       "...                  ...             ...  \n",
       "44728    Cincinnati Reds         Pitcher  \n",
       "44729    Cincinnati Reds         Pitcher  \n",
       "44730    Cincinnati Reds       Infielder  \n",
       "44731    Cincinnati Reds       Infielder  \n",
       "44732    Cincinnati Reds         Pitcher  \n",
       "\n",
       "[44733 rows x 6 columns]"
      ]
     },
     "execution_count": 5,
     "metadata": {},
     "output_type": "execute_result"
    }
   ],
   "source": [
    "df_player_team_positions"
   ]
  },
  {
   "cell_type": "markdown",
   "metadata": {
    "id": "jqde2RQfqchC"
   },
   "source": [
    "**Load Data**"
   ]
  },
  {
   "cell_type": "code",
   "execution_count": 6,
   "metadata": {
    "execution": {
     "iopub.execute_input": "2023-06-15T23:28:40.241106Z",
     "iopub.status.busy": "2023-06-15T23:28:40.240498Z",
     "iopub.status.idle": "2023-06-15T23:28:40.246484Z",
     "shell.execute_reply": "2023-06-15T23:28:40.245161Z",
     "shell.execute_reply.started": "2023-06-15T23:28:40.241052Z"
    }
   },
   "outputs": [],
   "source": [
    "collect_data_Base_dir = 'collect_data'"
   ]
  },
  {
   "cell_type": "code",
   "execution_count": 7,
   "metadata": {
    "execution": {
     "iopub.execute_input": "2023-06-15T23:28:40.247932Z",
     "iopub.status.busy": "2023-06-15T23:28:40.247592Z",
     "iopub.status.idle": "2023-06-15T23:28:40.866322Z",
     "shell.execute_reply": "2023-06-15T23:28:40.865313Z",
     "shell.execute_reply.started": "2023-06-15T23:28:40.247902Z"
    }
   },
   "outputs": [
    {
     "name": "stdout",
     "output_type": "stream",
     "text": [
      "322963\n"
     ]
    }
   ],
   "source": [
    "df_game_matchup_total = pd.read_pickle(f'{collect_data_Base_dir}/df_game_matchup_total.pkl')\n",
    "print(len(df_game_matchup_total))"
   ]
  },
  {
   "cell_type": "markdown",
   "metadata": {
    "id": "VkSM5TOeule8"
   },
   "source": [
    "**Clean Data**"
   ]
  },
  {
   "cell_type": "code",
   "execution_count": 8,
   "metadata": {
    "execution": {
     "iopub.execute_input": "2023-06-15T23:28:43.245232Z",
     "iopub.status.busy": "2023-06-15T23:28:43.244719Z",
     "iopub.status.idle": "2023-06-15T23:28:43.250859Z",
     "shell.execute_reply": "2023-06-15T23:28:43.250366Z",
     "shell.execute_reply.started": "2023-06-15T23:28:43.245190Z"
    }
   },
   "outputs": [
    {
     "data": {
      "text/plain": [
       "<module 'model.common' from '/home/junlim/projects/mlb-props/model/common.py'>"
      ]
     },
     "execution_count": 8,
     "metadata": {},
     "output_type": "execute_result"
    }
   ],
   "source": [
    "importlib.reload(model.common)"
   ]
  },
  {
   "cell_type": "code",
   "execution_count": 9,
   "metadata": {
    "execution": {
     "iopub.execute_input": "2023-06-15T23:28:44.158062Z",
     "iopub.status.busy": "2023-06-15T23:28:44.157584Z",
     "iopub.status.idle": "2023-06-15T23:28:44.167711Z",
     "shell.execute_reply": "2023-06-15T23:28:44.166586Z",
     "shell.execute_reply.started": "2023-06-15T23:28:44.158034Z"
    }
   },
   "outputs": [
    {
     "data": {
      "text/plain": [
       "['game_venue', 'batting_name', 'pitching_name']"
      ]
     },
     "execution_count": 9,
     "metadata": {},
     "output_type": "execute_result"
    }
   ],
   "source": [
    "model.common.categorical_features"
   ]
  },
  {
   "cell_type": "code",
   "execution_count": 10,
   "metadata": {
    "execution": {
     "iopub.execute_input": "2023-06-15T23:28:50.574640Z",
     "iopub.status.busy": "2023-06-15T23:28:50.574410Z",
     "iopub.status.idle": "2023-06-15T23:28:50.946058Z",
     "shell.execute_reply": "2023-06-15T23:28:50.945313Z",
     "shell.execute_reply.started": "2023-06-15T23:28:50.574623Z"
    }
   },
   "outputs": [],
   "source": [
    "train_data = df_game_matchup_total[(df_game_matchup_total.game_date > \"2012-04-01\") & (df_game_matchup_total.game_date < \"2022-12-01\")][model.common.features]\n",
    "test_data = df_game_matchup_total[(df_game_matchup_total.game_date > \"2022-12-01\")][model.common.features]"
   ]
  },
  {
   "cell_type": "code",
   "execution_count": 11,
   "metadata": {
    "execution": {
     "iopub.execute_input": "2023-06-15T23:28:51.469324Z",
     "iopub.status.busy": "2023-06-15T23:28:51.468560Z",
     "iopub.status.idle": "2023-06-15T23:28:51.477101Z",
     "shell.execute_reply": "2023-06-15T23:28:51.475557Z",
     "shell.execute_reply.started": "2023-06-15T23:28:51.469278Z"
    }
   },
   "outputs": [
    {
     "data": {
      "text/plain": [
       "Index(['pitching_gamesPlayed', 'pitching_runs_per_game',\n",
       "       'pitching_strikeOuts_per_game', 'pitching_hits_per_game', 'pitching_id',\n",
       "       'batting_name', 'batting_gamesPlayed', 'batting_runs_per_game',\n",
       "       'batting_strikeOuts_per_game', 'batting_hits_per_game', 'batting_rbi',\n",
       "       'batting_id', 'pitching_name', 'batting_hit_recorded',\n",
       "       'pitching_cur_season_runs_per_game',\n",
       "       'pitching_cur_season_strikeOuts_per_game',\n",
       "       'pitching_cur_season_hits_per_game', 'batting_cur_season_runs_per_game',\n",
       "       'batting_cur_season_strikeOuts_per_game',\n",
       "       'batting_cur_season_hits_per_game', 'temp', 'game_venue', 'game_date',\n",
       "       'game_year'],\n",
       "      dtype='object')"
      ]
     },
     "execution_count": 11,
     "metadata": {},
     "output_type": "execute_result"
    }
   ],
   "source": [
    "train_data.columns"
   ]
  },
  {
   "cell_type": "code",
   "execution_count": 12,
   "metadata": {
    "execution": {
     "iopub.execute_input": "2023-06-15T23:28:52.358268Z",
     "iopub.status.busy": "2023-06-15T23:28:52.357699Z",
     "iopub.status.idle": "2023-06-15T23:28:52.366808Z",
     "shell.execute_reply": "2023-06-15T23:28:52.365997Z",
     "shell.execute_reply.started": "2023-06-15T23:28:52.358231Z"
    }
   },
   "outputs": [
    {
     "data": {
      "text/plain": [
       "Index(['pitching_gamesPlayed', 'pitching_runs_per_game',\n",
       "       'pitching_strikeOuts_per_game', 'pitching_hits_per_game', 'pitching_id',\n",
       "       'batting_name', 'batting_gamesPlayed', 'batting_runs_per_game',\n",
       "       'batting_strikeOuts_per_game', 'batting_hits_per_game', 'batting_rbi',\n",
       "       'batting_id', 'pitching_name', 'batting_hit_recorded',\n",
       "       'pitching_cur_season_runs_per_game',\n",
       "       'pitching_cur_season_strikeOuts_per_game',\n",
       "       'pitching_cur_season_hits_per_game', 'batting_cur_season_runs_per_game',\n",
       "       'batting_cur_season_strikeOuts_per_game',\n",
       "       'batting_cur_season_hits_per_game', 'temp', 'game_venue', 'game_date',\n",
       "       'game_year'],\n",
       "      dtype='object')"
      ]
     },
     "execution_count": 12,
     "metadata": {},
     "output_type": "execute_result"
    }
   ],
   "source": [
    "test_data.columns"
   ]
  },
  {
   "cell_type": "code",
   "execution_count": 13,
   "metadata": {
    "execution": {
     "iopub.execute_input": "2023-06-15T23:28:55.672053Z",
     "iopub.status.busy": "2023-06-15T23:28:55.671680Z",
     "iopub.status.idle": "2023-06-15T23:28:55.677811Z",
     "shell.execute_reply": "2023-06-15T23:28:55.677136Z",
     "shell.execute_reply.started": "2023-06-15T23:28:55.672027Z"
    }
   },
   "outputs": [
    {
     "data": {
      "text/plain": [
       "['game_venue', 'batting_name', 'pitching_name']"
      ]
     },
     "execution_count": 13,
     "metadata": {},
     "output_type": "execute_result"
    }
   ],
   "source": [
    "model.common.categorical_features"
   ]
  },
  {
   "cell_type": "code",
   "execution_count": 14,
   "metadata": {
    "execution": {
     "iopub.execute_input": "2023-06-15T23:28:56.970371Z",
     "iopub.status.busy": "2023-06-15T23:28:56.970083Z",
     "iopub.status.idle": "2023-06-15T23:28:56.974347Z",
     "shell.execute_reply": "2023-06-15T23:28:56.973737Z",
     "shell.execute_reply.started": "2023-06-15T23:28:56.970352Z"
    }
   },
   "outputs": [
    {
     "data": {
      "text/plain": [
       "['pitching_id', 'batting_id', 'game_date', 'game_year']"
      ]
     },
     "execution_count": 14,
     "metadata": {},
     "output_type": "execute_result"
    }
   ],
   "source": [
    "model.common.ignore_features"
   ]
  },
  {
   "cell_type": "markdown",
   "metadata": {
    "id": "-0Pi_iCwvTQd"
   },
   "source": [
    "**Model Setup**"
   ]
  },
  {
   "cell_type": "code",
   "execution_count": 15,
   "metadata": {
    "execution": {
     "iopub.execute_input": "2023-06-15T23:29:06.312311Z",
     "iopub.status.busy": "2023-06-15T23:29:06.311847Z",
     "iopub.status.idle": "2023-06-15T23:29:07.981828Z",
     "shell.execute_reply": "2023-06-15T23:29:07.981176Z",
     "shell.execute_reply.started": "2023-06-15T23:29:06.312275Z"
    },
    "scrolled": true
   },
   "outputs": [
    {
     "data": {
      "text/html": [
       "<style type=\"text/css\">\n",
       "#T_c1b4f_row11_col1 {\n",
       "  background-color: lightgreen;\n",
       "}\n",
       "</style>\n",
       "<table id=\"T_c1b4f\">\n",
       "  <thead>\n",
       "    <tr>\n",
       "      <th class=\"blank level0\" >&nbsp;</th>\n",
       "      <th id=\"T_c1b4f_level0_col0\" class=\"col_heading level0 col0\" >Description</th>\n",
       "      <th id=\"T_c1b4f_level0_col1\" class=\"col_heading level0 col1\" >Value</th>\n",
       "    </tr>\n",
       "  </thead>\n",
       "  <tbody>\n",
       "    <tr>\n",
       "      <th id=\"T_c1b4f_level0_row0\" class=\"row_heading level0 row0\" >0</th>\n",
       "      <td id=\"T_c1b4f_row0_col0\" class=\"data row0 col0\" >Session id</td>\n",
       "      <td id=\"T_c1b4f_row0_col1\" class=\"data row0 col1\" >2124</td>\n",
       "    </tr>\n",
       "    <tr>\n",
       "      <th id=\"T_c1b4f_level0_row1\" class=\"row_heading level0 row1\" >1</th>\n",
       "      <td id=\"T_c1b4f_row1_col0\" class=\"data row1 col0\" >Target</td>\n",
       "      <td id=\"T_c1b4f_row1_col1\" class=\"data row1 col1\" >batting_hit_recorded</td>\n",
       "    </tr>\n",
       "    <tr>\n",
       "      <th id=\"T_c1b4f_level0_row2\" class=\"row_heading level0 row2\" >2</th>\n",
       "      <td id=\"T_c1b4f_row2_col0\" class=\"data row2 col0\" >Target type</td>\n",
       "      <td id=\"T_c1b4f_row2_col1\" class=\"data row2 col1\" >Binary</td>\n",
       "    </tr>\n",
       "    <tr>\n",
       "      <th id=\"T_c1b4f_level0_row3\" class=\"row_heading level0 row3\" >3</th>\n",
       "      <td id=\"T_c1b4f_row3_col0\" class=\"data row3 col0\" >Original data shape</td>\n",
       "      <td id=\"T_c1b4f_row3_col1\" class=\"data row3 col1\" >(285515, 24)</td>\n",
       "    </tr>\n",
       "    <tr>\n",
       "      <th id=\"T_c1b4f_level0_row4\" class=\"row_heading level0 row4\" >4</th>\n",
       "      <td id=\"T_c1b4f_row4_col0\" class=\"data row4 col0\" >Transformed data shape</td>\n",
       "      <td id=\"T_c1b4f_row4_col1\" class=\"data row4 col1\" >(285515, 18)</td>\n",
       "    </tr>\n",
       "    <tr>\n",
       "      <th id=\"T_c1b4f_level0_row5\" class=\"row_heading level0 row5\" >5</th>\n",
       "      <td id=\"T_c1b4f_row5_col0\" class=\"data row5 col0\" >Transformed train set shape</td>\n",
       "      <td id=\"T_c1b4f_row5_col1\" class=\"data row5 col1\" >(199860, 18)</td>\n",
       "    </tr>\n",
       "    <tr>\n",
       "      <th id=\"T_c1b4f_level0_row6\" class=\"row_heading level0 row6\" >6</th>\n",
       "      <td id=\"T_c1b4f_row6_col0\" class=\"data row6 col0\" >Transformed test set shape</td>\n",
       "      <td id=\"T_c1b4f_row6_col1\" class=\"data row6 col1\" >(85655, 18)</td>\n",
       "    </tr>\n",
       "    <tr>\n",
       "      <th id=\"T_c1b4f_level0_row7\" class=\"row_heading level0 row7\" >7</th>\n",
       "      <td id=\"T_c1b4f_row7_col0\" class=\"data row7 col0\" >Ignore features</td>\n",
       "      <td id=\"T_c1b4f_row7_col1\" class=\"data row7 col1\" >6</td>\n",
       "    </tr>\n",
       "    <tr>\n",
       "      <th id=\"T_c1b4f_level0_row8\" class=\"row_heading level0 row8\" >8</th>\n",
       "      <td id=\"T_c1b4f_row8_col0\" class=\"data row8 col0\" >Numeric features</td>\n",
       "      <td id=\"T_c1b4f_row8_col1\" class=\"data row8 col1\" >16</td>\n",
       "    </tr>\n",
       "    <tr>\n",
       "      <th id=\"T_c1b4f_level0_row9\" class=\"row_heading level0 row9\" >9</th>\n",
       "      <td id=\"T_c1b4f_row9_col0\" class=\"data row9 col0\" >Categorical features</td>\n",
       "      <td id=\"T_c1b4f_row9_col1\" class=\"data row9 col1\" >1</td>\n",
       "    </tr>\n",
       "    <tr>\n",
       "      <th id=\"T_c1b4f_level0_row10\" class=\"row_heading level0 row10\" >10</th>\n",
       "      <td id=\"T_c1b4f_row10_col0\" class=\"data row10 col0\" >Rows with missing values</td>\n",
       "      <td id=\"T_c1b4f_row10_col1\" class=\"data row10 col1\" >0.0%</td>\n",
       "    </tr>\n",
       "    <tr>\n",
       "      <th id=\"T_c1b4f_level0_row11\" class=\"row_heading level0 row11\" >11</th>\n",
       "      <td id=\"T_c1b4f_row11_col0\" class=\"data row11 col0\" >Preprocess</td>\n",
       "      <td id=\"T_c1b4f_row11_col1\" class=\"data row11 col1\" >True</td>\n",
       "    </tr>\n",
       "    <tr>\n",
       "      <th id=\"T_c1b4f_level0_row12\" class=\"row_heading level0 row12\" >12</th>\n",
       "      <td id=\"T_c1b4f_row12_col0\" class=\"data row12 col0\" >Imputation type</td>\n",
       "      <td id=\"T_c1b4f_row12_col1\" class=\"data row12 col1\" >simple</td>\n",
       "    </tr>\n",
       "    <tr>\n",
       "      <th id=\"T_c1b4f_level0_row13\" class=\"row_heading level0 row13\" >13</th>\n",
       "      <td id=\"T_c1b4f_row13_col0\" class=\"data row13 col0\" >Numeric imputation</td>\n",
       "      <td id=\"T_c1b4f_row13_col1\" class=\"data row13 col1\" >mean</td>\n",
       "    </tr>\n",
       "    <tr>\n",
       "      <th id=\"T_c1b4f_level0_row14\" class=\"row_heading level0 row14\" >14</th>\n",
       "      <td id=\"T_c1b4f_row14_col0\" class=\"data row14 col0\" >Categorical imputation</td>\n",
       "      <td id=\"T_c1b4f_row14_col1\" class=\"data row14 col1\" >mode</td>\n",
       "    </tr>\n",
       "    <tr>\n",
       "      <th id=\"T_c1b4f_level0_row15\" class=\"row_heading level0 row15\" >15</th>\n",
       "      <td id=\"T_c1b4f_row15_col0\" class=\"data row15 col0\" >Maximum one-hot encoding</td>\n",
       "      <td id=\"T_c1b4f_row15_col1\" class=\"data row15 col1\" >25</td>\n",
       "    </tr>\n",
       "    <tr>\n",
       "      <th id=\"T_c1b4f_level0_row16\" class=\"row_heading level0 row16\" >16</th>\n",
       "      <td id=\"T_c1b4f_row16_col0\" class=\"data row16 col0\" >Encoding method</td>\n",
       "      <td id=\"T_c1b4f_row16_col1\" class=\"data row16 col1\" >None</td>\n",
       "    </tr>\n",
       "    <tr>\n",
       "      <th id=\"T_c1b4f_level0_row17\" class=\"row_heading level0 row17\" >17</th>\n",
       "      <td id=\"T_c1b4f_row17_col0\" class=\"data row17 col0\" >Fold Generator</td>\n",
       "      <td id=\"T_c1b4f_row17_col1\" class=\"data row17 col1\" >StratifiedKFold</td>\n",
       "    </tr>\n",
       "    <tr>\n",
       "      <th id=\"T_c1b4f_level0_row18\" class=\"row_heading level0 row18\" >18</th>\n",
       "      <td id=\"T_c1b4f_row18_col0\" class=\"data row18 col0\" >Fold Number</td>\n",
       "      <td id=\"T_c1b4f_row18_col1\" class=\"data row18 col1\" >10</td>\n",
       "    </tr>\n",
       "    <tr>\n",
       "      <th id=\"T_c1b4f_level0_row19\" class=\"row_heading level0 row19\" >19</th>\n",
       "      <td id=\"T_c1b4f_row19_col0\" class=\"data row19 col0\" >CPU Jobs</td>\n",
       "      <td id=\"T_c1b4f_row19_col1\" class=\"data row19 col1\" >-1</td>\n",
       "    </tr>\n",
       "    <tr>\n",
       "      <th id=\"T_c1b4f_level0_row20\" class=\"row_heading level0 row20\" >20</th>\n",
       "      <td id=\"T_c1b4f_row20_col0\" class=\"data row20 col0\" >Use GPU</td>\n",
       "      <td id=\"T_c1b4f_row20_col1\" class=\"data row20 col1\" >False</td>\n",
       "    </tr>\n",
       "    <tr>\n",
       "      <th id=\"T_c1b4f_level0_row21\" class=\"row_heading level0 row21\" >21</th>\n",
       "      <td id=\"T_c1b4f_row21_col0\" class=\"data row21 col0\" >Log Experiment</td>\n",
       "      <td id=\"T_c1b4f_row21_col1\" class=\"data row21 col1\" >False</td>\n",
       "    </tr>\n",
       "    <tr>\n",
       "      <th id=\"T_c1b4f_level0_row22\" class=\"row_heading level0 row22\" >22</th>\n",
       "      <td id=\"T_c1b4f_row22_col0\" class=\"data row22 col0\" >Experiment Name</td>\n",
       "      <td id=\"T_c1b4f_row22_col1\" class=\"data row22 col1\" >clf-default-name</td>\n",
       "    </tr>\n",
       "    <tr>\n",
       "      <th id=\"T_c1b4f_level0_row23\" class=\"row_heading level0 row23\" >23</th>\n",
       "      <td id=\"T_c1b4f_row23_col0\" class=\"data row23 col0\" >USI</td>\n",
       "      <td id=\"T_c1b4f_row23_col1\" class=\"data row23 col1\" >e972</td>\n",
       "    </tr>\n",
       "  </tbody>\n",
       "</table>\n"
      ],
      "text/plain": [
       "<pandas.io.formats.style.Styler at 0x7f692124bc10>"
      ]
     },
     "metadata": {},
     "output_type": "display_data"
    }
   ],
   "source": [
    "classification_setup = pycaret.classification.setup(\n",
    "    data = train_data, target = \"batting_hit_recorded\", train_size = .70, use_gpu = False, \n",
    "    categorical_features = ['game_venue'], ignore_features = model.common.ignore_features + ['batting_name', 'pitching_name'])"
   ]
  },
  {
   "cell_type": "markdown",
   "metadata": {
    "id": "Qxoqal-SvwXp"
   },
   "source": [
    "**Build/Train Model**"
   ]
  },
  {
   "cell_type": "code",
   "execution_count": 15,
   "metadata": {
    "execution": {
     "iopub.execute_input": "2023-06-08T22:03:05.333059Z",
     "iopub.status.busy": "2023-06-08T22:03:05.332806Z",
     "iopub.status.idle": "2023-06-08T22:03:05.357899Z",
     "shell.execute_reply": "2023-06-08T22:03:05.357107Z",
     "shell.execute_reply.started": "2023-06-08T22:03:05.333045Z"
    },
    "scrolled": true
   },
   "outputs": [
    {
     "data": {
      "text/plain": [
       "\u001b[0;31mSignature:\u001b[0m\n",
       "\u001b[0mclassification_setup\u001b[0m\u001b[0;34m.\u001b[0m\u001b[0mcreate_model\u001b[0m\u001b[0;34m(\u001b[0m\u001b[0;34m\u001b[0m\n",
       "\u001b[0;34m\u001b[0m    \u001b[0mestimator\u001b[0m\u001b[0;34m:\u001b[0m \u001b[0mUnion\u001b[0m\u001b[0;34m[\u001b[0m\u001b[0mstr\u001b[0m\u001b[0;34m,\u001b[0m \u001b[0mAny\u001b[0m\u001b[0;34m]\u001b[0m\u001b[0;34m,\u001b[0m\u001b[0;34m\u001b[0m\n",
       "\u001b[0;34m\u001b[0m    \u001b[0mfold\u001b[0m\u001b[0;34m:\u001b[0m \u001b[0mUnion\u001b[0m\u001b[0;34m[\u001b[0m\u001b[0mint\u001b[0m\u001b[0;34m,\u001b[0m \u001b[0mAny\u001b[0m\u001b[0;34m,\u001b[0m \u001b[0mNoneType\u001b[0m\u001b[0;34m]\u001b[0m \u001b[0;34m=\u001b[0m \u001b[0;32mNone\u001b[0m\u001b[0;34m,\u001b[0m\u001b[0;34m\u001b[0m\n",
       "\u001b[0;34m\u001b[0m    \u001b[0mround\u001b[0m\u001b[0;34m:\u001b[0m \u001b[0mint\u001b[0m \u001b[0;34m=\u001b[0m \u001b[0;36m4\u001b[0m\u001b[0;34m,\u001b[0m\u001b[0;34m\u001b[0m\n",
       "\u001b[0;34m\u001b[0m    \u001b[0mcross_validation\u001b[0m\u001b[0;34m:\u001b[0m \u001b[0mbool\u001b[0m \u001b[0;34m=\u001b[0m \u001b[0;32mTrue\u001b[0m\u001b[0;34m,\u001b[0m\u001b[0;34m\u001b[0m\n",
       "\u001b[0;34m\u001b[0m    \u001b[0mfit_kwargs\u001b[0m\u001b[0;34m:\u001b[0m \u001b[0mOptional\u001b[0m\u001b[0;34m[\u001b[0m\u001b[0mdict\u001b[0m\u001b[0;34m]\u001b[0m \u001b[0;34m=\u001b[0m \u001b[0;32mNone\u001b[0m\u001b[0;34m,\u001b[0m\u001b[0;34m\u001b[0m\n",
       "\u001b[0;34m\u001b[0m    \u001b[0mgroups\u001b[0m\u001b[0;34m:\u001b[0m \u001b[0mUnion\u001b[0m\u001b[0;34m[\u001b[0m\u001b[0mstr\u001b[0m\u001b[0;34m,\u001b[0m \u001b[0mAny\u001b[0m\u001b[0;34m,\u001b[0m \u001b[0mNoneType\u001b[0m\u001b[0;34m]\u001b[0m \u001b[0;34m=\u001b[0m \u001b[0;32mNone\u001b[0m\u001b[0;34m,\u001b[0m\u001b[0;34m\u001b[0m\n",
       "\u001b[0;34m\u001b[0m    \u001b[0mexperiment_custom_tags\u001b[0m\u001b[0;34m:\u001b[0m \u001b[0mOptional\u001b[0m\u001b[0;34m[\u001b[0m\u001b[0mDict\u001b[0m\u001b[0;34m[\u001b[0m\u001b[0mstr\u001b[0m\u001b[0;34m,\u001b[0m \u001b[0mAny\u001b[0m\u001b[0;34m]\u001b[0m\u001b[0;34m]\u001b[0m \u001b[0;34m=\u001b[0m \u001b[0;32mNone\u001b[0m\u001b[0;34m,\u001b[0m\u001b[0;34m\u001b[0m\n",
       "\u001b[0;34m\u001b[0m    \u001b[0mprobability_threshold\u001b[0m\u001b[0;34m:\u001b[0m \u001b[0mOptional\u001b[0m\u001b[0;34m[\u001b[0m\u001b[0mfloat\u001b[0m\u001b[0;34m]\u001b[0m \u001b[0;34m=\u001b[0m \u001b[0;32mNone\u001b[0m\u001b[0;34m,\u001b[0m\u001b[0;34m\u001b[0m\n",
       "\u001b[0;34m\u001b[0m    \u001b[0mengine\u001b[0m\u001b[0;34m:\u001b[0m \u001b[0mOptional\u001b[0m\u001b[0;34m[\u001b[0m\u001b[0mstr\u001b[0m\u001b[0;34m]\u001b[0m \u001b[0;34m=\u001b[0m \u001b[0;32mNone\u001b[0m\u001b[0;34m,\u001b[0m\u001b[0;34m\u001b[0m\n",
       "\u001b[0;34m\u001b[0m    \u001b[0mverbose\u001b[0m\u001b[0;34m:\u001b[0m \u001b[0mbool\u001b[0m \u001b[0;34m=\u001b[0m \u001b[0;32mTrue\u001b[0m\u001b[0;34m,\u001b[0m\u001b[0;34m\u001b[0m\n",
       "\u001b[0;34m\u001b[0m    \u001b[0mreturn_train_score\u001b[0m\u001b[0;34m:\u001b[0m \u001b[0mbool\u001b[0m \u001b[0;34m=\u001b[0m \u001b[0;32mFalse\u001b[0m\u001b[0;34m,\u001b[0m\u001b[0;34m\u001b[0m\n",
       "\u001b[0;34m\u001b[0m    \u001b[0;34m**\u001b[0m\u001b[0mkwargs\u001b[0m\u001b[0;34m,\u001b[0m\u001b[0;34m\u001b[0m\n",
       "\u001b[0;34m\u001b[0m\u001b[0;34m)\u001b[0m \u001b[0;34m->\u001b[0m \u001b[0mAny\u001b[0m\u001b[0;34m\u001b[0m\u001b[0;34m\u001b[0m\u001b[0m\n",
       "\u001b[0;31mDocstring:\u001b[0m\n",
       "This function trains and evaluates the performance of a given estimator\n",
       "using cross validation. The output of this function is a score grid with\n",
       "CV scores by fold. Metrics evaluated during CV can be accessed using the\n",
       "``get_metrics`` function. Custom metrics can be added or removed using\n",
       "``add_metric`` and ``remove_metric`` function. All the available models\n",
       "can be accessed using the ``models`` function.\n",
       "\n",
       "Example\n",
       "-------\n",
       ">>> from pycaret.datasets import get_data\n",
       ">>> juice = get_data('juice')\n",
       ">>> from pycaret.classification import *\n",
       ">>> exp_name = setup(data = juice,  target = 'Purchase')\n",
       ">>> lr = create_model('lr')\n",
       "\n",
       "\n",
       "estimator: str or scikit-learn compatible object\n",
       "    ID of an estimator available in model library or pass an untrained\n",
       "    model object consistent with scikit-learn API. Estimators available\n",
       "    in the model library (ID - Name):\n",
       "\n",
       "    * 'lr' - Logistic Regression\n",
       "    * 'knn' - K Neighbors Classifier\n",
       "    * 'nb' - Naive Bayes\n",
       "    * 'dt' - Decision Tree Classifier\n",
       "    * 'svm' - SVM - Linear Kernel\n",
       "    * 'rbfsvm' - SVM - Radial Kernel\n",
       "    * 'gpc' - Gaussian Process Classifier\n",
       "    * 'mlp' - MLP Classifier\n",
       "    * 'ridge' - Ridge Classifier\n",
       "    * 'rf' - Random Forest Classifier\n",
       "    * 'qda' - Quadratic Discriminant Analysis\n",
       "    * 'ada' - Ada Boost Classifier\n",
       "    * 'gbc' - Gradient Boosting Classifier\n",
       "    * 'lda' - Linear Discriminant Analysis\n",
       "    * 'et' - Extra Trees Classifier\n",
       "    * 'xgboost' - Extreme Gradient Boosting\n",
       "    * 'lightgbm' - Light Gradient Boosting Machine\n",
       "    * 'catboost' - CatBoost Classifier\n",
       "\n",
       "\n",
       "fold: int or scikit-learn compatible CV generator, default = None\n",
       "    Controls cross-validation. If None, the CV generator in the ``fold_strategy``\n",
       "    parameter of the ``setup`` function is used. When an integer is passed,\n",
       "    it is interpreted as the 'n_splits' parameter of the CV generator in the\n",
       "    ``setup`` function.\n",
       "\n",
       "\n",
       "round: int, default = 4\n",
       "    Number of decimal places the metrics in the score grid will be rounded to.\n",
       "\n",
       "\n",
       "cross_validation: bool, default = True\n",
       "    When set to False, metrics are evaluated on holdout set. ``fold`` param\n",
       "    is ignored when cross_validation is set to False.\n",
       "\n",
       "\n",
       "fit_kwargs: dict, default = {} (empty dict)\n",
       "    Dictionary of arguments passed to the fit method of the model.\n",
       "\n",
       "\n",
       "groups: str or array-like, with shape (n_samples,), default = None\n",
       "    Optional group labels when GroupKFold is used for the cross validation.\n",
       "    It takes an array with shape (n_samples, ) where n_samples is the number\n",
       "    of rows in training dataset. When string is passed, it is interpreted as\n",
       "    the column name in the dataset containing group labels.\n",
       "\n",
       "\n",
       "probability_threshold: float, default = None\n",
       "    Threshold for converting predicted probability to class label.\n",
       "    It defaults to 0.5 for all classifiers unless explicitly defined\n",
       "    in this parameter. Only applicable for binary classification.\n",
       "\n",
       "\n",
       "experiment_custom_tags: dict, default = None\n",
       "    Dictionary of tag_name: String -> value: (String, but will be string-ified\n",
       "    if not) passed to the mlflow.set_tags to add new custom tags for the experiment.\n",
       "\n",
       "\n",
       "engine: Optional[str] = None\n",
       "    The execution engine to use for the model, e.g. for Logistic Regression (\"lr\"), users can\n",
       "    switch between \"sklearn\" and \"sklearnex\" by specifying\n",
       "    `engine=\"sklearnex\"`.\n",
       "\n",
       "\n",
       "verbose: bool, default = True\n",
       "    Score grid is not printed when verbose is set to False.\n",
       "\n",
       "\n",
       "return_train_score: bool, default = False\n",
       "    If False, returns the CV Validation scores only.\n",
       "    If True, returns the CV training scores along with the CV validation scores.\n",
       "    This is useful when the user wants to do bias-variance tradeoff. A high CV\n",
       "    training score with a low corresponding CV validation score indicates overfitting.\n",
       "\n",
       "\n",
       "**kwargs:\n",
       "    Additional keyword arguments to pass to the estimator.\n",
       "\n",
       "\n",
       "Returns:\n",
       "    Trained Model\n",
       "\n",
       "\n",
       "Warnings\n",
       "--------\n",
       "- AUC for estimators that does not support 'predict_proba' is shown as 0.0000.\n",
       "\n",
       "- Models are not logged on the ``MLFlow`` server when ``cross_validation`` param\n",
       "is set to False.\n",
       "\u001b[0;31mFile:\u001b[0m      ~/venvs/finance/lib/python3.10/site-packages/pycaret/classification/oop.py\n",
       "\u001b[0;31mType:\u001b[0m      method"
      ]
     },
     "metadata": {},
     "output_type": "display_data"
    }
   ],
   "source": [
    "classification_setup.create_model?"
   ]
  },
  {
   "cell_type": "code",
   "execution_count": 16,
   "metadata": {
    "execution": {
     "iopub.execute_input": "2023-06-15T23:29:23.202366Z",
     "iopub.status.busy": "2023-06-15T23:29:23.202106Z",
     "iopub.status.idle": "2023-06-15T23:30:42.745007Z",
     "shell.execute_reply": "2023-06-15T23:30:42.744088Z",
     "shell.execute_reply.started": "2023-06-15T23:29:23.202351Z"
    }
   },
   "outputs": [
    {
     "data": {
      "text/html": [],
      "text/plain": [
       "<IPython.core.display.HTML object>"
      ]
     },
     "metadata": {},
     "output_type": "display_data"
    },
    {
     "data": {
      "text/html": [
       "<style type=\"text/css\">\n",
       "#T_39f77_row10_col0, #T_39f77_row10_col1, #T_39f77_row10_col2, #T_39f77_row10_col3, #T_39f77_row10_col4, #T_39f77_row10_col5, #T_39f77_row10_col6 {\n",
       "  background: yellow;\n",
       "}\n",
       "</style>\n",
       "<table id=\"T_39f77\">\n",
       "  <thead>\n",
       "    <tr>\n",
       "      <th class=\"blank level0\" >&nbsp;</th>\n",
       "      <th id=\"T_39f77_level0_col0\" class=\"col_heading level0 col0\" >Accuracy</th>\n",
       "      <th id=\"T_39f77_level0_col1\" class=\"col_heading level0 col1\" >AUC</th>\n",
       "      <th id=\"T_39f77_level0_col2\" class=\"col_heading level0 col2\" >Recall</th>\n",
       "      <th id=\"T_39f77_level0_col3\" class=\"col_heading level0 col3\" >Prec.</th>\n",
       "      <th id=\"T_39f77_level0_col4\" class=\"col_heading level0 col4\" >F1</th>\n",
       "      <th id=\"T_39f77_level0_col5\" class=\"col_heading level0 col5\" >Kappa</th>\n",
       "      <th id=\"T_39f77_level0_col6\" class=\"col_heading level0 col6\" >MCC</th>\n",
       "    </tr>\n",
       "    <tr>\n",
       "      <th class=\"index_name level0\" >Fold</th>\n",
       "      <th class=\"blank col0\" >&nbsp;</th>\n",
       "      <th class=\"blank col1\" >&nbsp;</th>\n",
       "      <th class=\"blank col2\" >&nbsp;</th>\n",
       "      <th class=\"blank col3\" >&nbsp;</th>\n",
       "      <th class=\"blank col4\" >&nbsp;</th>\n",
       "      <th class=\"blank col5\" >&nbsp;</th>\n",
       "      <th class=\"blank col6\" >&nbsp;</th>\n",
       "    </tr>\n",
       "  </thead>\n",
       "  <tbody>\n",
       "    <tr>\n",
       "      <th id=\"T_39f77_level0_row0\" class=\"row_heading level0 row0\" >0</th>\n",
       "      <td id=\"T_39f77_row0_col0\" class=\"data row0 col0\" >0.6320</td>\n",
       "      <td id=\"T_39f77_row0_col1\" class=\"data row0 col1\" >0.6631</td>\n",
       "      <td id=\"T_39f77_row0_col2\" class=\"data row0 col2\" >0.8139</td>\n",
       "      <td id=\"T_39f77_row0_col3\" class=\"data row0 col3\" >0.6355</td>\n",
       "      <td id=\"T_39f77_row0_col4\" class=\"data row0 col4\" >0.7137</td>\n",
       "      <td id=\"T_39f77_row0_col5\" class=\"data row0 col5\" >0.2200</td>\n",
       "      <td id=\"T_39f77_row0_col6\" class=\"data row0 col6\" >0.2335</td>\n",
       "    </tr>\n",
       "    <tr>\n",
       "      <th id=\"T_39f77_level0_row1\" class=\"row_heading level0 row1\" >1</th>\n",
       "      <td id=\"T_39f77_row1_col0\" class=\"data row1 col0\" >0.6309</td>\n",
       "      <td id=\"T_39f77_row1_col1\" class=\"data row1 col1\" >0.6552</td>\n",
       "      <td id=\"T_39f77_row1_col2\" class=\"data row1 col2\" >0.8144</td>\n",
       "      <td id=\"T_39f77_row1_col3\" class=\"data row1 col3\" >0.6345</td>\n",
       "      <td id=\"T_39f77_row1_col4\" class=\"data row1 col4\" >0.7132</td>\n",
       "      <td id=\"T_39f77_row1_col5\" class=\"data row1 col5\" >0.2174</td>\n",
       "      <td id=\"T_39f77_row1_col6\" class=\"data row1 col6\" >0.2311</td>\n",
       "    </tr>\n",
       "    <tr>\n",
       "      <th id=\"T_39f77_level0_row2\" class=\"row_heading level0 row2\" >2</th>\n",
       "      <td id=\"T_39f77_row2_col0\" class=\"data row2 col0\" >0.6222</td>\n",
       "      <td id=\"T_39f77_row2_col1\" class=\"data row2 col1\" >0.6498</td>\n",
       "      <td id=\"T_39f77_row2_col2\" class=\"data row2 col2\" >0.7997</td>\n",
       "      <td id=\"T_39f77_row2_col3\" class=\"data row2 col3\" >0.6298</td>\n",
       "      <td id=\"T_39f77_row2_col4\" class=\"data row2 col4\" >0.7047</td>\n",
       "      <td id=\"T_39f77_row2_col5\" class=\"data row2 col5\" >0.2006</td>\n",
       "      <td id=\"T_39f77_row2_col6\" class=\"data row2 col6\" >0.2119</td>\n",
       "    </tr>\n",
       "    <tr>\n",
       "      <th id=\"T_39f77_level0_row3\" class=\"row_heading level0 row3\" >3</th>\n",
       "      <td id=\"T_39f77_row3_col0\" class=\"data row3 col0\" >0.6325</td>\n",
       "      <td id=\"T_39f77_row3_col1\" class=\"data row3 col1\" >0.6636</td>\n",
       "      <td id=\"T_39f77_row3_col2\" class=\"data row3 col2\" >0.8106</td>\n",
       "      <td id=\"T_39f77_row3_col3\" class=\"data row3 col3\" >0.6367</td>\n",
       "      <td id=\"T_39f77_row3_col4\" class=\"data row3 col4\" >0.7132</td>\n",
       "      <td id=\"T_39f77_row3_col5\" class=\"data row3 col5\" >0.2219</td>\n",
       "      <td id=\"T_39f77_row3_col6\" class=\"data row3 col6\" >0.2347</td>\n",
       "    </tr>\n",
       "    <tr>\n",
       "      <th id=\"T_39f77_level0_row4\" class=\"row_heading level0 row4\" >4</th>\n",
       "      <td id=\"T_39f77_row4_col0\" class=\"data row4 col0\" >0.6338</td>\n",
       "      <td id=\"T_39f77_row4_col1\" class=\"data row4 col1\" >0.6601</td>\n",
       "      <td id=\"T_39f77_row4_col2\" class=\"data row4 col2\" >0.8084</td>\n",
       "      <td id=\"T_39f77_row4_col3\" class=\"data row4 col3\" >0.6383</td>\n",
       "      <td id=\"T_39f77_row4_col4\" class=\"data row4 col4\" >0.7134</td>\n",
       "      <td id=\"T_39f77_row4_col5\" class=\"data row4 col5\" >0.2254</td>\n",
       "      <td id=\"T_39f77_row4_col6\" class=\"data row4 col6\" >0.2377</td>\n",
       "    </tr>\n",
       "    <tr>\n",
       "      <th id=\"T_39f77_level0_row5\" class=\"row_heading level0 row5\" >5</th>\n",
       "      <td id=\"T_39f77_row5_col0\" class=\"data row5 col0\" >0.6272</td>\n",
       "      <td id=\"T_39f77_row5_col1\" class=\"data row5 col1\" >0.6506</td>\n",
       "      <td id=\"T_39f77_row5_col2\" class=\"data row5 col2\" >0.8026</td>\n",
       "      <td id=\"T_39f77_row5_col3\" class=\"data row5 col3\" >0.6337</td>\n",
       "      <td id=\"T_39f77_row5_col4\" class=\"data row5 col4\" >0.7082</td>\n",
       "      <td id=\"T_39f77_row5_col5\" class=\"data row5 col5\" >0.2114</td>\n",
       "      <td id=\"T_39f77_row5_col6\" class=\"data row5 col6\" >0.2230</td>\n",
       "    </tr>\n",
       "    <tr>\n",
       "      <th id=\"T_39f77_level0_row6\" class=\"row_heading level0 row6\" >6</th>\n",
       "      <td id=\"T_39f77_row6_col0\" class=\"data row6 col0\" >0.6305</td>\n",
       "      <td id=\"T_39f77_row6_col1\" class=\"data row6 col1\" >0.6604</td>\n",
       "      <td id=\"T_39f77_row6_col2\" class=\"data row6 col2\" >0.8022</td>\n",
       "      <td id=\"T_39f77_row6_col3\" class=\"data row6 col3\" >0.6367</td>\n",
       "      <td id=\"T_39f77_row6_col4\" class=\"data row6 col4\" >0.7100</td>\n",
       "      <td id=\"T_39f77_row6_col5\" class=\"data row6 col5\" >0.2193</td>\n",
       "      <td id=\"T_39f77_row6_col6\" class=\"data row6 col6\" >0.2306</td>\n",
       "    </tr>\n",
       "    <tr>\n",
       "      <th id=\"T_39f77_level0_row7\" class=\"row_heading level0 row7\" >7</th>\n",
       "      <td id=\"T_39f77_row7_col0\" class=\"data row7 col0\" >0.6238</td>\n",
       "      <td id=\"T_39f77_row7_col1\" class=\"data row7 col1\" >0.6467</td>\n",
       "      <td id=\"T_39f77_row7_col2\" class=\"data row7 col2\" >0.8042</td>\n",
       "      <td id=\"T_39f77_row7_col3\" class=\"data row7 col3\" >0.6303</td>\n",
       "      <td id=\"T_39f77_row7_col4\" class=\"data row7 col4\" >0.7067</td>\n",
       "      <td id=\"T_39f77_row7_col5\" class=\"data row7 col5\" >0.2031</td>\n",
       "      <td id=\"T_39f77_row7_col6\" class=\"data row7 col6\" >0.2151</td>\n",
       "    </tr>\n",
       "    <tr>\n",
       "      <th id=\"T_39f77_level0_row8\" class=\"row_heading level0 row8\" >8</th>\n",
       "      <td id=\"T_39f77_row8_col0\" class=\"data row8 col0\" >0.6308</td>\n",
       "      <td id=\"T_39f77_row8_col1\" class=\"data row8 col1\" >0.6555</td>\n",
       "      <td id=\"T_39f77_row8_col2\" class=\"data row8 col2\" >0.8080</td>\n",
       "      <td id=\"T_39f77_row8_col3\" class=\"data row8 col3\" >0.6357</td>\n",
       "      <td id=\"T_39f77_row8_col4\" class=\"data row8 col4\" >0.7116</td>\n",
       "      <td id=\"T_39f77_row8_col5\" class=\"data row8 col5\" >0.2185</td>\n",
       "      <td id=\"T_39f77_row8_col6\" class=\"data row8 col6\" >0.2309</td>\n",
       "    </tr>\n",
       "    <tr>\n",
       "      <th id=\"T_39f77_level0_row9\" class=\"row_heading level0 row9\" >9</th>\n",
       "      <td id=\"T_39f77_row9_col0\" class=\"data row9 col0\" >0.6331</td>\n",
       "      <td id=\"T_39f77_row9_col1\" class=\"data row9 col1\" >0.6600</td>\n",
       "      <td id=\"T_39f77_row9_col2\" class=\"data row9 col2\" >0.8110</td>\n",
       "      <td id=\"T_39f77_row9_col3\" class=\"data row9 col3\" >0.6371</td>\n",
       "      <td id=\"T_39f77_row9_col4\" class=\"data row9 col4\" >0.7136</td>\n",
       "      <td id=\"T_39f77_row9_col5\" class=\"data row9 col5\" >0.2232</td>\n",
       "      <td id=\"T_39f77_row9_col6\" class=\"data row9 col6\" >0.2360</td>\n",
       "    </tr>\n",
       "    <tr>\n",
       "      <th id=\"T_39f77_level0_row10\" class=\"row_heading level0 row10\" >Mean</th>\n",
       "      <td id=\"T_39f77_row10_col0\" class=\"data row10 col0\" >0.6297</td>\n",
       "      <td id=\"T_39f77_row10_col1\" class=\"data row10 col1\" >0.6565</td>\n",
       "      <td id=\"T_39f77_row10_col2\" class=\"data row10 col2\" >0.8075</td>\n",
       "      <td id=\"T_39f77_row10_col3\" class=\"data row10 col3\" >0.6348</td>\n",
       "      <td id=\"T_39f77_row10_col4\" class=\"data row10 col4\" >0.7108</td>\n",
       "      <td id=\"T_39f77_row10_col5\" class=\"data row10 col5\" >0.2161</td>\n",
       "      <td id=\"T_39f77_row10_col6\" class=\"data row10 col6\" >0.2285</td>\n",
       "    </tr>\n",
       "    <tr>\n",
       "      <th id=\"T_39f77_level0_row11\" class=\"row_heading level0 row11\" >Std</th>\n",
       "      <td id=\"T_39f77_row11_col0\" class=\"data row11 col0\" >0.0038</td>\n",
       "      <td id=\"T_39f77_row11_col1\" class=\"data row11 col1\" >0.0056</td>\n",
       "      <td id=\"T_39f77_row11_col2\" class=\"data row11 col2\" >0.0048</td>\n",
       "      <td id=\"T_39f77_row11_col3\" class=\"data row11 col3\" >0.0027</td>\n",
       "      <td id=\"T_39f77_row11_col4\" class=\"data row11 col4\" >0.0031</td>\n",
       "      <td id=\"T_39f77_row11_col5\" class=\"data row11 col5\" >0.0080</td>\n",
       "      <td id=\"T_39f77_row11_col6\" class=\"data row11 col6\" >0.0084</td>\n",
       "    </tr>\n",
       "  </tbody>\n",
       "</table>\n"
      ],
      "text/plain": [
       "<pandas.io.formats.style.Styler at 0x7f69219e37c0>"
      ]
     },
     "metadata": {},
     "output_type": "display_data"
    },
    {
     "data": {
      "text/html": [],
      "text/plain": [
       "<IPython.core.display.HTML object>"
      ]
     },
     "metadata": {},
     "output_type": "display_data"
    }
   ],
   "source": [
    "regression_model_lr = classification_setup.create_model(\"lr\", probability_threshold = 0.50)"
   ]
  },
  {
   "cell_type": "code",
   "execution_count": 17,
   "metadata": {
    "execution": {
     "iopub.execute_input": "2023-06-15T23:30:42.746376Z",
     "iopub.status.busy": "2023-06-15T23:30:42.746187Z",
     "iopub.status.idle": "2023-06-15T23:30:44.013564Z",
     "shell.execute_reply": "2023-06-15T23:30:44.012278Z",
     "shell.execute_reply.started": "2023-06-15T23:30:42.746360Z"
    }
   },
   "outputs": [
    {
     "data": {
      "text/html": [],
      "text/plain": [
       "<IPython.core.display.HTML object>"
      ]
     },
     "metadata": {},
     "output_type": "display_data"
    },
    {
     "data": {
      "image/png": "[encoded data removed]",
      "text/plain": [
       "<Figure size 800x550 with 1 Axes>"
      ]
     },
     "metadata": {},
     "output_type": "display_data"
    }
   ],
   "source": [
    "plot_model(regression_model_lr, plot = 'auc')"
   ]
  },
  {
   "cell_type": "code",
   "execution_count": 18,
   "metadata": {
    "execution": {
     "iopub.execute_input": "2023-06-15T23:30:44.015494Z",
     "iopub.status.busy": "2023-06-15T23:30:44.015141Z",
     "iopub.status.idle": "2023-06-15T23:32:50.758886Z",
     "shell.execute_reply": "2023-06-15T23:32:50.757485Z",
     "shell.execute_reply.started": "2023-06-15T23:30:44.015461Z"
    }
   },
   "outputs": [
    {
     "data": {
      "text/html": [],
      "text/plain": [
       "<IPython.core.display.HTML object>"
      ]
     },
     "metadata": {},
     "output_type": "display_data"
    },
    {
     "data": {
      "text/html": [
       "<style type=\"text/css\">\n",
       "#T_8c1a9_row10_col0, #T_8c1a9_row10_col1, #T_8c1a9_row10_col2, #T_8c1a9_row10_col3, #T_8c1a9_row10_col4, #T_8c1a9_row10_col5, #T_8c1a9_row10_col6 {\n",
       "  background: yellow;\n",
       "}\n",
       "</style>\n",
       "<table id=\"T_8c1a9\">\n",
       "  <thead>\n",
       "    <tr>\n",
       "      <th class=\"blank level0\" >&nbsp;</th>\n",
       "      <th id=\"T_8c1a9_level0_col0\" class=\"col_heading level0 col0\" >Accuracy</th>\n",
       "      <th id=\"T_8c1a9_level0_col1\" class=\"col_heading level0 col1\" >AUC</th>\n",
       "      <th id=\"T_8c1a9_level0_col2\" class=\"col_heading level0 col2\" >Recall</th>\n",
       "      <th id=\"T_8c1a9_level0_col3\" class=\"col_heading level0 col3\" >Prec.</th>\n",
       "      <th id=\"T_8c1a9_level0_col4\" class=\"col_heading level0 col4\" >F1</th>\n",
       "      <th id=\"T_8c1a9_level0_col5\" class=\"col_heading level0 col5\" >Kappa</th>\n",
       "      <th id=\"T_8c1a9_level0_col6\" class=\"col_heading level0 col6\" >MCC</th>\n",
       "    </tr>\n",
       "    <tr>\n",
       "      <th class=\"index_name level0\" >Fold</th>\n",
       "      <th class=\"blank col0\" >&nbsp;</th>\n",
       "      <th class=\"blank col1\" >&nbsp;</th>\n",
       "      <th class=\"blank col2\" >&nbsp;</th>\n",
       "      <th class=\"blank col3\" >&nbsp;</th>\n",
       "      <th class=\"blank col4\" >&nbsp;</th>\n",
       "      <th class=\"blank col5\" >&nbsp;</th>\n",
       "      <th class=\"blank col6\" >&nbsp;</th>\n",
       "    </tr>\n",
       "  </thead>\n",
       "  <tbody>\n",
       "    <tr>\n",
       "      <th id=\"T_8c1a9_level0_row0\" class=\"row_heading level0 row0\" >0</th>\n",
       "      <td id=\"T_8c1a9_row0_col0\" class=\"data row0 col0\" >0.9993</td>\n",
       "      <td id=\"T_8c1a9_row0_col1\" class=\"data row0 col1\" >1.0000</td>\n",
       "      <td id=\"T_8c1a9_row0_col2\" class=\"data row0 col2\" >0.9988</td>\n",
       "      <td id=\"T_8c1a9_row0_col3\" class=\"data row0 col3\" >1.0000</td>\n",
       "      <td id=\"T_8c1a9_row0_col4\" class=\"data row0 col4\" >0.9994</td>\n",
       "      <td id=\"T_8c1a9_row0_col5\" class=\"data row0 col5\" >0.9987</td>\n",
       "      <td id=\"T_8c1a9_row0_col6\" class=\"data row0 col6\" >0.9987</td>\n",
       "    </tr>\n",
       "    <tr>\n",
       "      <th id=\"T_8c1a9_level0_row1\" class=\"row_heading level0 row1\" >1</th>\n",
       "      <td id=\"T_8c1a9_row1_col0\" class=\"data row1 col0\" >0.9992</td>\n",
       "      <td id=\"T_8c1a9_row1_col1\" class=\"data row1 col1\" >1.0000</td>\n",
       "      <td id=\"T_8c1a9_row1_col2\" class=\"data row1 col2\" >0.9988</td>\n",
       "      <td id=\"T_8c1a9_row1_col3\" class=\"data row1 col3\" >0.9998</td>\n",
       "      <td id=\"T_8c1a9_row1_col4\" class=\"data row1 col4\" >0.9993</td>\n",
       "      <td id=\"T_8c1a9_row1_col5\" class=\"data row1 col5\" >0.9984</td>\n",
       "      <td id=\"T_8c1a9_row1_col6\" class=\"data row1 col6\" >0.9984</td>\n",
       "    </tr>\n",
       "    <tr>\n",
       "      <th id=\"T_8c1a9_level0_row2\" class=\"row_heading level0 row2\" >2</th>\n",
       "      <td id=\"T_8c1a9_row2_col0\" class=\"data row2 col0\" >0.9993</td>\n",
       "      <td id=\"T_8c1a9_row2_col1\" class=\"data row2 col1\" >1.0000</td>\n",
       "      <td id=\"T_8c1a9_row2_col2\" class=\"data row2 col2\" >0.9990</td>\n",
       "      <td id=\"T_8c1a9_row2_col3\" class=\"data row2 col3\" >0.9997</td>\n",
       "      <td id=\"T_8c1a9_row2_col4\" class=\"data row2 col4\" >0.9994</td>\n",
       "      <td id=\"T_8c1a9_row2_col5\" class=\"data row2 col5\" >0.9986</td>\n",
       "      <td id=\"T_8c1a9_row2_col6\" class=\"data row2 col6\" >0.9986</td>\n",
       "    </tr>\n",
       "    <tr>\n",
       "      <th id=\"T_8c1a9_level0_row3\" class=\"row_heading level0 row3\" >3</th>\n",
       "      <td id=\"T_8c1a9_row3_col0\" class=\"data row3 col0\" >0.9992</td>\n",
       "      <td id=\"T_8c1a9_row3_col1\" class=\"data row3 col1\" >1.0000</td>\n",
       "      <td id=\"T_8c1a9_row3_col2\" class=\"data row3 col2\" >0.9989</td>\n",
       "      <td id=\"T_8c1a9_row3_col3\" class=\"data row3 col3\" >0.9996</td>\n",
       "      <td id=\"T_8c1a9_row3_col4\" class=\"data row3 col4\" >0.9993</td>\n",
       "      <td id=\"T_8c1a9_row3_col5\" class=\"data row3 col5\" >0.9984</td>\n",
       "      <td id=\"T_8c1a9_row3_col6\" class=\"data row3 col6\" >0.9984</td>\n",
       "    </tr>\n",
       "    <tr>\n",
       "      <th id=\"T_8c1a9_level0_row4\" class=\"row_heading level0 row4\" >4</th>\n",
       "      <td id=\"T_8c1a9_row4_col0\" class=\"data row4 col0\" >0.9993</td>\n",
       "      <td id=\"T_8c1a9_row4_col1\" class=\"data row4 col1\" >1.0000</td>\n",
       "      <td id=\"T_8c1a9_row4_col2\" class=\"data row4 col2\" >0.9990</td>\n",
       "      <td id=\"T_8c1a9_row4_col3\" class=\"data row4 col3\" >0.9998</td>\n",
       "      <td id=\"T_8c1a9_row4_col4\" class=\"data row4 col4\" >0.9994</td>\n",
       "      <td id=\"T_8c1a9_row4_col5\" class=\"data row4 col5\" >0.9987</td>\n",
       "      <td id=\"T_8c1a9_row4_col6\" class=\"data row4 col6\" >0.9987</td>\n",
       "    </tr>\n",
       "    <tr>\n",
       "      <th id=\"T_8c1a9_level0_row5\" class=\"row_heading level0 row5\" >5</th>\n",
       "      <td id=\"T_8c1a9_row5_col0\" class=\"data row5 col0\" >0.9993</td>\n",
       "      <td id=\"T_8c1a9_row5_col1\" class=\"data row5 col1\" >1.0000</td>\n",
       "      <td id=\"T_8c1a9_row5_col2\" class=\"data row5 col2\" >0.9989</td>\n",
       "      <td id=\"T_8c1a9_row5_col3\" class=\"data row5 col3\" >0.9999</td>\n",
       "      <td id=\"T_8c1a9_row5_col4\" class=\"data row5 col4\" >0.9994</td>\n",
       "      <td id=\"T_8c1a9_row5_col5\" class=\"data row5 col5\" >0.9987</td>\n",
       "      <td id=\"T_8c1a9_row5_col6\" class=\"data row5 col6\" >0.9987</td>\n",
       "    </tr>\n",
       "    <tr>\n",
       "      <th id=\"T_8c1a9_level0_row6\" class=\"row_heading level0 row6\" >6</th>\n",
       "      <td id=\"T_8c1a9_row6_col0\" class=\"data row6 col0\" >0.9991</td>\n",
       "      <td id=\"T_8c1a9_row6_col1\" class=\"data row6 col1\" >1.0000</td>\n",
       "      <td id=\"T_8c1a9_row6_col2\" class=\"data row6 col2\" >0.9987</td>\n",
       "      <td id=\"T_8c1a9_row6_col3\" class=\"data row6 col3\" >0.9997</td>\n",
       "      <td id=\"T_8c1a9_row6_col4\" class=\"data row6 col4\" >0.9992</td>\n",
       "      <td id=\"T_8c1a9_row6_col5\" class=\"data row6 col5\" >0.9982</td>\n",
       "      <td id=\"T_8c1a9_row6_col6\" class=\"data row6 col6\" >0.9982</td>\n",
       "    </tr>\n",
       "    <tr>\n",
       "      <th id=\"T_8c1a9_level0_row7\" class=\"row_heading level0 row7\" >7</th>\n",
       "      <td id=\"T_8c1a9_row7_col0\" class=\"data row7 col0\" >0.9987</td>\n",
       "      <td id=\"T_8c1a9_row7_col1\" class=\"data row7 col1\" >0.9999</td>\n",
       "      <td id=\"T_8c1a9_row7_col2\" class=\"data row7 col2\" >0.9980</td>\n",
       "      <td id=\"T_8c1a9_row7_col3\" class=\"data row7 col3\" >0.9997</td>\n",
       "      <td id=\"T_8c1a9_row7_col4\" class=\"data row7 col4\" >0.9988</td>\n",
       "      <td id=\"T_8c1a9_row7_col5\" class=\"data row7 col5\" >0.9974</td>\n",
       "      <td id=\"T_8c1a9_row7_col6\" class=\"data row7 col6\" >0.9974</td>\n",
       "    </tr>\n",
       "    <tr>\n",
       "      <th id=\"T_8c1a9_level0_row8\" class=\"row_heading level0 row8\" >8</th>\n",
       "      <td id=\"T_8c1a9_row8_col0\" class=\"data row8 col0\" >0.9991</td>\n",
       "      <td id=\"T_8c1a9_row8_col1\" class=\"data row8 col1\" >1.0000</td>\n",
       "      <td id=\"T_8c1a9_row8_col2\" class=\"data row8 col2\" >0.9984</td>\n",
       "      <td id=\"T_8c1a9_row8_col3\" class=\"data row8 col3\" >1.0000</td>\n",
       "      <td id=\"T_8c1a9_row8_col4\" class=\"data row8 col4\" >0.9992</td>\n",
       "      <td id=\"T_8c1a9_row8_col5\" class=\"data row8 col5\" >0.9982</td>\n",
       "      <td id=\"T_8c1a9_row8_col6\" class=\"data row8 col6\" >0.9982</td>\n",
       "    </tr>\n",
       "    <tr>\n",
       "      <th id=\"T_8c1a9_level0_row9\" class=\"row_heading level0 row9\" >9</th>\n",
       "      <td id=\"T_8c1a9_row9_col0\" class=\"data row9 col0\" >0.9989</td>\n",
       "      <td id=\"T_8c1a9_row9_col1\" class=\"data row9 col1\" >1.0000</td>\n",
       "      <td id=\"T_8c1a9_row9_col2\" class=\"data row9 col2\" >0.9986</td>\n",
       "      <td id=\"T_8c1a9_row9_col3\" class=\"data row9 col3\" >0.9996</td>\n",
       "      <td id=\"T_8c1a9_row9_col4\" class=\"data row9 col4\" >0.9991</td>\n",
       "      <td id=\"T_8c1a9_row9_col5\" class=\"data row9 col5\" >0.9979</td>\n",
       "      <td id=\"T_8c1a9_row9_col6\" class=\"data row9 col6\" >0.9979</td>\n",
       "    </tr>\n",
       "    <tr>\n",
       "      <th id=\"T_8c1a9_level0_row10\" class=\"row_heading level0 row10\" >Mean</th>\n",
       "      <td id=\"T_8c1a9_row10_col0\" class=\"data row10 col0\" >0.9992</td>\n",
       "      <td id=\"T_8c1a9_row10_col1\" class=\"data row10 col1\" >1.0000</td>\n",
       "      <td id=\"T_8c1a9_row10_col2\" class=\"data row10 col2\" >0.9987</td>\n",
       "      <td id=\"T_8c1a9_row10_col3\" class=\"data row10 col3\" >0.9998</td>\n",
       "      <td id=\"T_8c1a9_row10_col4\" class=\"data row10 col4\" >0.9993</td>\n",
       "      <td id=\"T_8c1a9_row10_col5\" class=\"data row10 col5\" >0.9983</td>\n",
       "      <td id=\"T_8c1a9_row10_col6\" class=\"data row10 col6\" >0.9983</td>\n",
       "    </tr>\n",
       "    <tr>\n",
       "      <th id=\"T_8c1a9_level0_row11\" class=\"row_heading level0 row11\" >Std</th>\n",
       "      <td id=\"T_8c1a9_row11_col0\" class=\"data row11 col0\" >0.0002</td>\n",
       "      <td id=\"T_8c1a9_row11_col1\" class=\"data row11 col1\" >0.0000</td>\n",
       "      <td id=\"T_8c1a9_row11_col2\" class=\"data row11 col2\" >0.0003</td>\n",
       "      <td id=\"T_8c1a9_row11_col3\" class=\"data row11 col3\" >0.0001</td>\n",
       "      <td id=\"T_8c1a9_row11_col4\" class=\"data row11 col4\" >0.0002</td>\n",
       "      <td id=\"T_8c1a9_row11_col5\" class=\"data row11 col5\" >0.0004</td>\n",
       "      <td id=\"T_8c1a9_row11_col6\" class=\"data row11 col6\" >0.0004</td>\n",
       "    </tr>\n",
       "  </tbody>\n",
       "</table>\n"
      ],
      "text/plain": [
       "<pandas.io.formats.style.Styler at 0x7f6921880910>"
      ]
     },
     "metadata": {},
     "output_type": "display_data"
    },
    {
     "data": {
      "text/html": [],
      "text/plain": [
       "<IPython.core.display.HTML object>"
      ]
     },
     "metadata": {},
     "output_type": "display_data"
    }
   ],
   "source": [
    "regression_model_rf = classification_setup.create_model(\"rf\", probability_threshold = 0.50)"
   ]
  },
  {
   "cell_type": "code",
   "execution_count": 19,
   "metadata": {
    "execution": {
     "iopub.execute_input": "2023-06-15T23:32:50.762284Z",
     "iopub.status.busy": "2023-06-15T23:32:50.761744Z",
     "iopub.status.idle": "2023-06-15T23:32:52.536278Z",
     "shell.execute_reply": "2023-06-15T23:32:52.535493Z",
     "shell.execute_reply.started": "2023-06-15T23:32:50.762248Z"
    }
   },
   "outputs": [
    {
     "data": {
      "text/html": [],
      "text/plain": [
       "<IPython.core.display.HTML object>"
      ]
     },
     "metadata": {},
     "output_type": "display_data"
    },
    {
     "data": {
      "image/png": "[encoded data removed]",
      "text/plain": [
       "<Figure size 800x550 with 1 Axes>"
      ]
     },
     "metadata": {},
     "output_type": "display_data"
    }
   ],
   "source": [
    "plot_model(regression_model_rf, plot = 'auc')"
   ]
  },
  {
   "cell_type": "code",
   "execution_count": 20,
   "metadata": {
    "execution": {
     "iopub.execute_input": "2023-06-15T23:32:52.537049Z",
     "iopub.status.busy": "2023-06-15T23:32:52.536901Z",
     "iopub.status.idle": "2023-06-15T23:36:13.859599Z",
     "shell.execute_reply": "2023-06-15T23:36:13.859105Z",
     "shell.execute_reply.started": "2023-06-15T23:32:52.537036Z"
    }
   },
   "outputs": [
    {
     "data": {
      "text/html": [],
      "text/plain": [
       "<IPython.core.display.HTML object>"
      ]
     },
     "metadata": {},
     "output_type": "display_data"
    },
    {
     "data": {
      "text/html": [
       "<style type=\"text/css\">\n",
       "#T_f895b_row10_col0, #T_f895b_row10_col1, #T_f895b_row10_col2, #T_f895b_row10_col3, #T_f895b_row10_col4, #T_f895b_row10_col5, #T_f895b_row10_col6 {\n",
       "  background: yellow;\n",
       "}\n",
       "</style>\n",
       "<table id=\"T_f895b\">\n",
       "  <thead>\n",
       "    <tr>\n",
       "      <th class=\"blank level0\" >&nbsp;</th>\n",
       "      <th id=\"T_f895b_level0_col0\" class=\"col_heading level0 col0\" >Accuracy</th>\n",
       "      <th id=\"T_f895b_level0_col1\" class=\"col_heading level0 col1\" >AUC</th>\n",
       "      <th id=\"T_f895b_level0_col2\" class=\"col_heading level0 col2\" >Recall</th>\n",
       "      <th id=\"T_f895b_level0_col3\" class=\"col_heading level0 col3\" >Prec.</th>\n",
       "      <th id=\"T_f895b_level0_col4\" class=\"col_heading level0 col4\" >F1</th>\n",
       "      <th id=\"T_f895b_level0_col5\" class=\"col_heading level0 col5\" >Kappa</th>\n",
       "      <th id=\"T_f895b_level0_col6\" class=\"col_heading level0 col6\" >MCC</th>\n",
       "    </tr>\n",
       "    <tr>\n",
       "      <th class=\"index_name level0\" >Fold</th>\n",
       "      <th class=\"blank col0\" >&nbsp;</th>\n",
       "      <th class=\"blank col1\" >&nbsp;</th>\n",
       "      <th class=\"blank col2\" >&nbsp;</th>\n",
       "      <th class=\"blank col3\" >&nbsp;</th>\n",
       "      <th class=\"blank col4\" >&nbsp;</th>\n",
       "      <th class=\"blank col5\" >&nbsp;</th>\n",
       "      <th class=\"blank col6\" >&nbsp;</th>\n",
       "    </tr>\n",
       "  </thead>\n",
       "  <tbody>\n",
       "    <tr>\n",
       "      <th id=\"T_f895b_level0_row0\" class=\"row_heading level0 row0\" >0</th>\n",
       "      <td id=\"T_f895b_row0_col0\" class=\"data row0 col0\" >0.6895</td>\n",
       "      <td id=\"T_f895b_row0_col1\" class=\"data row0 col1\" >0.7853</td>\n",
       "      <td id=\"T_f895b_row0_col2\" class=\"data row0 col2\" >0.8756</td>\n",
       "      <td id=\"T_f895b_row0_col3\" class=\"data row0 col3\" >0.6724</td>\n",
       "      <td id=\"T_f895b_row0_col4\" class=\"data row0 col4\" >0.7607</td>\n",
       "      <td id=\"T_f895b_row0_col5\" class=\"data row0 col5\" >0.3397</td>\n",
       "      <td id=\"T_f895b_row0_col6\" class=\"data row0 col6\" >0.3644</td>\n",
       "    </tr>\n",
       "    <tr>\n",
       "      <th id=\"T_f895b_level0_row1\" class=\"row_heading level0 row1\" >1</th>\n",
       "      <td id=\"T_f895b_row1_col0\" class=\"data row1 col0\" >0.6893</td>\n",
       "      <td id=\"T_f895b_row1_col1\" class=\"data row1 col1\" >0.7770</td>\n",
       "      <td id=\"T_f895b_row1_col2\" class=\"data row1 col2\" >0.8706</td>\n",
       "      <td id=\"T_f895b_row1_col3\" class=\"data row1 col3\" >0.6736</td>\n",
       "      <td id=\"T_f895b_row1_col4\" class=\"data row1 col4\" >0.7595</td>\n",
       "      <td id=\"T_f895b_row1_col5\" class=\"data row1 col5\" >0.3402</td>\n",
       "      <td id=\"T_f895b_row1_col6\" class=\"data row1 col6\" >0.3632</td>\n",
       "    </tr>\n",
       "    <tr>\n",
       "      <th id=\"T_f895b_level0_row2\" class=\"row_heading level0 row2\" >2</th>\n",
       "      <td id=\"T_f895b_row2_col0\" class=\"data row2 col0\" >0.6850</td>\n",
       "      <td id=\"T_f895b_row2_col1\" class=\"data row2 col1\" >0.7761</td>\n",
       "      <td id=\"T_f895b_row2_col2\" class=\"data row2 col2\" >0.8650</td>\n",
       "      <td id=\"T_f895b_row2_col3\" class=\"data row2 col3\" >0.6711</td>\n",
       "      <td id=\"T_f895b_row2_col4\" class=\"data row2 col4\" >0.7558</td>\n",
       "      <td id=\"T_f895b_row2_col5\" class=\"data row2 col5\" >0.3316</td>\n",
       "      <td id=\"T_f895b_row2_col6\" class=\"data row2 col6\" >0.3533</td>\n",
       "    </tr>\n",
       "    <tr>\n",
       "      <th id=\"T_f895b_level0_row3\" class=\"row_heading level0 row3\" >3</th>\n",
       "      <td id=\"T_f895b_row3_col0\" class=\"data row3 col0\" >0.6837</td>\n",
       "      <td id=\"T_f895b_row3_col1\" class=\"data row3 col1\" >0.7789</td>\n",
       "      <td id=\"T_f895b_row3_col2\" class=\"data row3 col2\" >0.8718</td>\n",
       "      <td id=\"T_f895b_row3_col3\" class=\"data row3 col3\" >0.6681</td>\n",
       "      <td id=\"T_f895b_row3_col4\" class=\"data row3 col4\" >0.7565</td>\n",
       "      <td id=\"T_f895b_row3_col5\" class=\"data row3 col5\" >0.3270</td>\n",
       "      <td id=\"T_f895b_row3_col6\" class=\"data row3 col6\" >0.3513</td>\n",
       "    </tr>\n",
       "    <tr>\n",
       "      <th id=\"T_f895b_level0_row4\" class=\"row_heading level0 row4\" >4</th>\n",
       "      <td id=\"T_f895b_row4_col0\" class=\"data row4 col0\" >0.6882</td>\n",
       "      <td id=\"T_f895b_row4_col1\" class=\"data row4 col1\" >0.7743</td>\n",
       "      <td id=\"T_f895b_row4_col2\" class=\"data row4 col2\" >0.8646</td>\n",
       "      <td id=\"T_f895b_row4_col3\" class=\"data row4 col3\" >0.6742</td>\n",
       "      <td id=\"T_f895b_row4_col4\" class=\"data row4 col4\" >0.7577</td>\n",
       "      <td id=\"T_f895b_row4_col5\" class=\"data row4 col5\" >0.3390</td>\n",
       "      <td id=\"T_f895b_row4_col6\" class=\"data row4 col6\" >0.3601</td>\n",
       "    </tr>\n",
       "    <tr>\n",
       "      <th id=\"T_f895b_level0_row5\" class=\"row_heading level0 row5\" >5</th>\n",
       "      <td id=\"T_f895b_row5_col0\" class=\"data row5 col0\" >0.6845</td>\n",
       "      <td id=\"T_f895b_row5_col1\" class=\"data row5 col1\" >0.7732</td>\n",
       "      <td id=\"T_f895b_row5_col2\" class=\"data row5 col2\" >0.8668</td>\n",
       "      <td id=\"T_f895b_row5_col3\" class=\"data row5 col3\" >0.6702</td>\n",
       "      <td id=\"T_f895b_row5_col4\" class=\"data row5 col4\" >0.7559</td>\n",
       "      <td id=\"T_f895b_row5_col5\" class=\"data row5 col5\" >0.3300</td>\n",
       "      <td id=\"T_f895b_row5_col6\" class=\"data row5 col6\" >0.3524</td>\n",
       "    </tr>\n",
       "    <tr>\n",
       "      <th id=\"T_f895b_level0_row6\" class=\"row_heading level0 row6\" >6</th>\n",
       "      <td id=\"T_f895b_row6_col0\" class=\"data row6 col0\" >0.6881</td>\n",
       "      <td id=\"T_f895b_row6_col1\" class=\"data row6 col1\" >0.7805</td>\n",
       "      <td id=\"T_f895b_row6_col2\" class=\"data row6 col2\" >0.8699</td>\n",
       "      <td id=\"T_f895b_row6_col3\" class=\"data row6 col3\" >0.6727</td>\n",
       "      <td id=\"T_f895b_row6_col4\" class=\"data row6 col4\" >0.7587</td>\n",
       "      <td id=\"T_f895b_row6_col5\" class=\"data row6 col5\" >0.3376</td>\n",
       "      <td id=\"T_f895b_row6_col6\" class=\"data row6 col6\" >0.3605</td>\n",
       "    </tr>\n",
       "    <tr>\n",
       "      <th id=\"T_f895b_level0_row7\" class=\"row_heading level0 row7\" >7</th>\n",
       "      <td id=\"T_f895b_row7_col0\" class=\"data row7 col0\" >0.6770</td>\n",
       "      <td id=\"T_f895b_row7_col1\" class=\"data row7 col1\" >0.7687</td>\n",
       "      <td id=\"T_f895b_row7_col2\" class=\"data row7 col2\" >0.8577</td>\n",
       "      <td id=\"T_f895b_row7_col3\" class=\"data row7 col3\" >0.6657</td>\n",
       "      <td id=\"T_f895b_row7_col4\" class=\"data row7 col4\" >0.7496</td>\n",
       "      <td id=\"T_f895b_row7_col5\" class=\"data row7 col5\" >0.3145</td>\n",
       "      <td id=\"T_f895b_row7_col6\" class=\"data row7 col6\" >0.3350</td>\n",
       "    </tr>\n",
       "    <tr>\n",
       "      <th id=\"T_f895b_level0_row8\" class=\"row_heading level0 row8\" >8</th>\n",
       "      <td id=\"T_f895b_row8_col0\" class=\"data row8 col0\" >0.6868</td>\n",
       "      <td id=\"T_f895b_row8_col1\" class=\"data row8 col1\" >0.7740</td>\n",
       "      <td id=\"T_f895b_row8_col2\" class=\"data row8 col2\" >0.8676</td>\n",
       "      <td id=\"T_f895b_row8_col3\" class=\"data row8 col3\" >0.6721</td>\n",
       "      <td id=\"T_f895b_row8_col4\" class=\"data row8 col4\" >0.7575</td>\n",
       "      <td id=\"T_f895b_row8_col5\" class=\"data row8 col5\" >0.3352</td>\n",
       "      <td id=\"T_f895b_row8_col6\" class=\"data row8 col6\" >0.3575</td>\n",
       "    </tr>\n",
       "    <tr>\n",
       "      <th id=\"T_f895b_level0_row9\" class=\"row_heading level0 row9\" >9</th>\n",
       "      <td id=\"T_f895b_row9_col0\" class=\"data row9 col0\" >0.6904</td>\n",
       "      <td id=\"T_f895b_row9_col1\" class=\"data row9 col1\" >0.7739</td>\n",
       "      <td id=\"T_f895b_row9_col2\" class=\"data row9 col2\" >0.8774</td>\n",
       "      <td id=\"T_f895b_row9_col3\" class=\"data row9 col3\" >0.6728</td>\n",
       "      <td id=\"T_f895b_row9_col4\" class=\"data row9 col4\" >0.7616</td>\n",
       "      <td id=\"T_f895b_row9_col5\" class=\"data row9 col5\" >0.3415</td>\n",
       "      <td id=\"T_f895b_row9_col6\" class=\"data row9 col6\" >0.3667</td>\n",
       "    </tr>\n",
       "    <tr>\n",
       "      <th id=\"T_f895b_level0_row10\" class=\"row_heading level0 row10\" >Mean</th>\n",
       "      <td id=\"T_f895b_row10_col0\" class=\"data row10 col0\" >0.6863</td>\n",
       "      <td id=\"T_f895b_row10_col1\" class=\"data row10 col1\" >0.7762</td>\n",
       "      <td id=\"T_f895b_row10_col2\" class=\"data row10 col2\" >0.8687</td>\n",
       "      <td id=\"T_f895b_row10_col3\" class=\"data row10 col3\" >0.6713</td>\n",
       "      <td id=\"T_f895b_row10_col4\" class=\"data row10 col4\" >0.7573</td>\n",
       "      <td id=\"T_f895b_row10_col5\" class=\"data row10 col5\" >0.3336</td>\n",
       "      <td id=\"T_f895b_row10_col6\" class=\"data row10 col6\" >0.3565</td>\n",
       "    </tr>\n",
       "    <tr>\n",
       "      <th id=\"T_f895b_level0_row11\" class=\"row_heading level0 row11\" >Std</th>\n",
       "      <td id=\"T_f895b_row11_col0\" class=\"data row11 col0\" >0.0038</td>\n",
       "      <td id=\"T_f895b_row11_col1\" class=\"data row11 col1\" >0.0043</td>\n",
       "      <td id=\"T_f895b_row11_col2\" class=\"data row11 col2\" >0.0054</td>\n",
       "      <td id=\"T_f895b_row11_col3\" class=\"data row11 col3\" >0.0025</td>\n",
       "      <td id=\"T_f895b_row11_col4\" class=\"data row11 col4\" >0.0032</td>\n",
       "      <td id=\"T_f895b_row11_col5\" class=\"data row11 col5\" >0.0078</td>\n",
       "      <td id=\"T_f895b_row11_col6\" class=\"data row11 col6\" >0.0087</td>\n",
       "    </tr>\n",
       "  </tbody>\n",
       "</table>\n"
      ],
      "text/plain": [
       "<pandas.io.formats.style.Styler at 0x7f6973f0f5e0>"
      ]
     },
     "metadata": {},
     "output_type": "display_data"
    },
    {
     "data": {
      "text/html": [],
      "text/plain": [
       "<IPython.core.display.HTML object>"
      ]
     },
     "metadata": {},
     "output_type": "display_data"
    }
   ],
   "source": [
    "regression_model_gbc = classification_setup.create_model(\"gbc\", probability_threshold = 0.50)"
   ]
  },
  {
   "cell_type": "code",
   "execution_count": 21,
   "metadata": {
    "execution": {
     "iopub.execute_input": "2023-06-15T23:36:13.860306Z",
     "iopub.status.busy": "2023-06-15T23:36:13.860163Z",
     "iopub.status.idle": "2023-06-15T23:36:15.059430Z",
     "shell.execute_reply": "2023-06-15T23:36:15.058645Z",
     "shell.execute_reply.started": "2023-06-15T23:36:13.860295Z"
    }
   },
   "outputs": [
    {
     "data": {
      "text/html": [],
      "text/plain": [
       "<IPython.core.display.HTML object>"
      ]
     },
     "metadata": {},
     "output_type": "display_data"
    },
    {
     "data": {
      "image/png": "[encoded data removed]",
      "text/plain": [
       "<Figure size 800x550 with 1 Axes>"
      ]
     },
     "metadata": {},
     "output_type": "display_data"
    }
   ],
   "source": [
    "plot_model(regression_model_gbc, plot = 'auc')"
   ]
  },
  {
   "cell_type": "code",
   "execution_count": 22,
   "metadata": {
    "execution": {
     "iopub.execute_input": "2023-06-15T23:36:15.060278Z",
     "iopub.status.busy": "2023-06-15T23:36:15.060129Z",
     "iopub.status.idle": "2023-06-15T23:36:24.162551Z",
     "shell.execute_reply": "2023-06-15T23:36:24.161677Z",
     "shell.execute_reply.started": "2023-06-15T23:36:15.060264Z"
    }
   },
   "outputs": [
    {
     "data": {
      "text/html": [],
      "text/plain": [
       "<IPython.core.display.HTML object>"
      ]
     },
     "metadata": {},
     "output_type": "display_data"
    },
    {
     "data": {
      "text/html": [
       "<style type=\"text/css\">\n",
       "#T_90d4d_row10_col0, #T_90d4d_row10_col1, #T_90d4d_row10_col2, #T_90d4d_row10_col3, #T_90d4d_row10_col4, #T_90d4d_row10_col5, #T_90d4d_row10_col6 {\n",
       "  background: yellow;\n",
       "}\n",
       "</style>\n",
       "<table id=\"T_90d4d\">\n",
       "  <thead>\n",
       "    <tr>\n",
       "      <th class=\"blank level0\" >&nbsp;</th>\n",
       "      <th id=\"T_90d4d_level0_col0\" class=\"col_heading level0 col0\" >Accuracy</th>\n",
       "      <th id=\"T_90d4d_level0_col1\" class=\"col_heading level0 col1\" >AUC</th>\n",
       "      <th id=\"T_90d4d_level0_col2\" class=\"col_heading level0 col2\" >Recall</th>\n",
       "      <th id=\"T_90d4d_level0_col3\" class=\"col_heading level0 col3\" >Prec.</th>\n",
       "      <th id=\"T_90d4d_level0_col4\" class=\"col_heading level0 col4\" >F1</th>\n",
       "      <th id=\"T_90d4d_level0_col5\" class=\"col_heading level0 col5\" >Kappa</th>\n",
       "      <th id=\"T_90d4d_level0_col6\" class=\"col_heading level0 col6\" >MCC</th>\n",
       "    </tr>\n",
       "    <tr>\n",
       "      <th class=\"index_name level0\" >Fold</th>\n",
       "      <th class=\"blank col0\" >&nbsp;</th>\n",
       "      <th class=\"blank col1\" >&nbsp;</th>\n",
       "      <th class=\"blank col2\" >&nbsp;</th>\n",
       "      <th class=\"blank col3\" >&nbsp;</th>\n",
       "      <th class=\"blank col4\" >&nbsp;</th>\n",
       "      <th class=\"blank col5\" >&nbsp;</th>\n",
       "      <th class=\"blank col6\" >&nbsp;</th>\n",
       "    </tr>\n",
       "  </thead>\n",
       "  <tbody>\n",
       "    <tr>\n",
       "      <th id=\"T_90d4d_level0_row0\" class=\"row_heading level0 row0\" >0</th>\n",
       "      <td id=\"T_90d4d_row0_col0\" class=\"data row0 col0\" >0.8916</td>\n",
       "      <td id=\"T_90d4d_row0_col1\" class=\"data row0 col1\" >0.9657</td>\n",
       "      <td id=\"T_90d4d_row0_col2\" class=\"data row0 col2\" >0.9482</td>\n",
       "      <td id=\"T_90d4d_row0_col3\" class=\"data row0 col3\" >0.8710</td>\n",
       "      <td id=\"T_90d4d_row0_col4\" class=\"data row0 col4\" >0.9079</td>\n",
       "      <td id=\"T_90d4d_row0_col5\" class=\"data row0 col5\" >0.7768</td>\n",
       "      <td id=\"T_90d4d_row0_col6\" class=\"data row0 col6\" >0.7809</td>\n",
       "    </tr>\n",
       "    <tr>\n",
       "      <th id=\"T_90d4d_level0_row1\" class=\"row_heading level0 row1\" >1</th>\n",
       "      <td id=\"T_90d4d_row1_col0\" class=\"data row1 col0\" >0.8963</td>\n",
       "      <td id=\"T_90d4d_row1_col1\" class=\"data row1 col1\" >0.9667</td>\n",
       "      <td id=\"T_90d4d_row1_col2\" class=\"data row1 col2\" >0.9509</td>\n",
       "      <td id=\"T_90d4d_row1_col3\" class=\"data row1 col3\" >0.8757</td>\n",
       "      <td id=\"T_90d4d_row1_col4\" class=\"data row1 col4\" >0.9118</td>\n",
       "      <td id=\"T_90d4d_row1_col5\" class=\"data row1 col5\" >0.7865</td>\n",
       "      <td id=\"T_90d4d_row1_col6\" class=\"data row1 col6\" >0.7904</td>\n",
       "    </tr>\n",
       "    <tr>\n",
       "      <th id=\"T_90d4d_level0_row2\" class=\"row_heading level0 row2\" >2</th>\n",
       "      <td id=\"T_90d4d_row2_col0\" class=\"data row2 col0\" >0.8806</td>\n",
       "      <td id=\"T_90d4d_row2_col1\" class=\"data row2 col1\" >0.9592</td>\n",
       "      <td id=\"T_90d4d_row2_col2\" class=\"data row2 col2\" >0.9411</td>\n",
       "      <td id=\"T_90d4d_row2_col3\" class=\"data row2 col3\" >0.8602</td>\n",
       "      <td id=\"T_90d4d_row2_col4\" class=\"data row2 col4\" >0.8988</td>\n",
       "      <td id=\"T_90d4d_row2_col5\" class=\"data row2 col5\" >0.7539</td>\n",
       "      <td id=\"T_90d4d_row2_col6\" class=\"data row2 col6\" >0.7585</td>\n",
       "    </tr>\n",
       "    <tr>\n",
       "      <th id=\"T_90d4d_level0_row3\" class=\"row_heading level0 row3\" >3</th>\n",
       "      <td id=\"T_90d4d_row3_col0\" class=\"data row3 col0\" >0.8913</td>\n",
       "      <td id=\"T_90d4d_row3_col1\" class=\"data row3 col1\" >0.9668</td>\n",
       "      <td id=\"T_90d4d_row3_col2\" class=\"data row3 col2\" >0.9483</td>\n",
       "      <td id=\"T_90d4d_row3_col3\" class=\"data row3 col3\" >0.8704</td>\n",
       "      <td id=\"T_90d4d_row3_col4\" class=\"data row3 col4\" >0.9077</td>\n",
       "      <td id=\"T_90d4d_row3_col5\" class=\"data row3 col5\" >0.7761</td>\n",
       "      <td id=\"T_90d4d_row3_col6\" class=\"data row3 col6\" >0.7804</td>\n",
       "    </tr>\n",
       "    <tr>\n",
       "      <th id=\"T_90d4d_level0_row4\" class=\"row_heading level0 row4\" >4</th>\n",
       "      <td id=\"T_90d4d_row4_col0\" class=\"data row4 col0\" >0.8935</td>\n",
       "      <td id=\"T_90d4d_row4_col1\" class=\"data row4 col1\" >0.9665</td>\n",
       "      <td id=\"T_90d4d_row4_col2\" class=\"data row4 col2\" >0.9456</td>\n",
       "      <td id=\"T_90d4d_row4_col3\" class=\"data row4 col3\" >0.8755</td>\n",
       "      <td id=\"T_90d4d_row4_col4\" class=\"data row4 col4\" >0.9092</td>\n",
       "      <td id=\"T_90d4d_row4_col5\" class=\"data row4 col5\" >0.7810</td>\n",
       "      <td id=\"T_90d4d_row4_col6\" class=\"data row4 col6\" >0.7844</td>\n",
       "    </tr>\n",
       "    <tr>\n",
       "      <th id=\"T_90d4d_level0_row5\" class=\"row_heading level0 row5\" >5</th>\n",
       "      <td id=\"T_90d4d_row5_col0\" class=\"data row5 col0\" >0.8832</td>\n",
       "      <td id=\"T_90d4d_row5_col1\" class=\"data row5 col1\" >0.9623</td>\n",
       "      <td id=\"T_90d4d_row5_col2\" class=\"data row5 col2\" >0.9351</td>\n",
       "      <td id=\"T_90d4d_row5_col3\" class=\"data row5 col3\" >0.8679</td>\n",
       "      <td id=\"T_90d4d_row5_col4\" class=\"data row5 col4\" >0.9002</td>\n",
       "      <td id=\"T_90d4d_row5_col5\" class=\"data row5 col5\" >0.7598</td>\n",
       "      <td id=\"T_90d4d_row5_col6\" class=\"data row5 col6\" >0.7629</td>\n",
       "    </tr>\n",
       "    <tr>\n",
       "      <th id=\"T_90d4d_level0_row6\" class=\"row_heading level0 row6\" >6</th>\n",
       "      <td id=\"T_90d4d_row6_col0\" class=\"data row6 col0\" >0.8901</td>\n",
       "      <td id=\"T_90d4d_row6_col1\" class=\"data row6 col1\" >0.9650</td>\n",
       "      <td id=\"T_90d4d_row6_col2\" class=\"data row6 col2\" >0.9426</td>\n",
       "      <td id=\"T_90d4d_row6_col3\" class=\"data row6 col3\" >0.8726</td>\n",
       "      <td id=\"T_90d4d_row6_col4\" class=\"data row6 col4\" >0.9062</td>\n",
       "      <td id=\"T_90d4d_row6_col5\" class=\"data row6 col5\" >0.7739</td>\n",
       "      <td id=\"T_90d4d_row6_col6\" class=\"data row6 col6\" >0.7772</td>\n",
       "    </tr>\n",
       "    <tr>\n",
       "      <th id=\"T_90d4d_level0_row7\" class=\"row_heading level0 row7\" >7</th>\n",
       "      <td id=\"T_90d4d_row7_col0\" class=\"data row7 col0\" >0.8826</td>\n",
       "      <td id=\"T_90d4d_row7_col1\" class=\"data row7 col1\" >0.9613</td>\n",
       "      <td id=\"T_90d4d_row7_col2\" class=\"data row7 col2\" >0.9413</td>\n",
       "      <td id=\"T_90d4d_row7_col3\" class=\"data row7 col3\" >0.8629</td>\n",
       "      <td id=\"T_90d4d_row7_col4\" class=\"data row7 col4\" >0.9004</td>\n",
       "      <td id=\"T_90d4d_row7_col5\" class=\"data row7 col5\" >0.7582</td>\n",
       "      <td id=\"T_90d4d_row7_col6\" class=\"data row7 col6\" >0.7624</td>\n",
       "    </tr>\n",
       "    <tr>\n",
       "      <th id=\"T_90d4d_level0_row8\" class=\"row_heading level0 row8\" >8</th>\n",
       "      <td id=\"T_90d4d_row8_col0\" class=\"data row8 col0\" >0.8917</td>\n",
       "      <td id=\"T_90d4d_row8_col1\" class=\"data row8 col1\" >0.9666</td>\n",
       "      <td id=\"T_90d4d_row8_col2\" class=\"data row8 col2\" >0.9458</td>\n",
       "      <td id=\"T_90d4d_row8_col3\" class=\"data row8 col3\" >0.8727</td>\n",
       "      <td id=\"T_90d4d_row8_col4\" class=\"data row8 col4\" >0.9078</td>\n",
       "      <td id=\"T_90d4d_row8_col5\" class=\"data row8 col5\" >0.7772</td>\n",
       "      <td id=\"T_90d4d_row8_col6\" class=\"data row8 col6\" >0.7809</td>\n",
       "    </tr>\n",
       "    <tr>\n",
       "      <th id=\"T_90d4d_level0_row9\" class=\"row_heading level0 row9\" >9</th>\n",
       "      <td id=\"T_90d4d_row9_col0\" class=\"data row9 col0\" >0.8901</td>\n",
       "      <td id=\"T_90d4d_row9_col1\" class=\"data row9 col1\" >0.9652</td>\n",
       "      <td id=\"T_90d4d_row9_col2\" class=\"data row9 col2\" >0.9494</td>\n",
       "      <td id=\"T_90d4d_row9_col3\" class=\"data row9 col3\" >0.8680</td>\n",
       "      <td id=\"T_90d4d_row9_col4\" class=\"data row9 col4\" >0.9069</td>\n",
       "      <td id=\"T_90d4d_row9_col5\" class=\"data row9 col5\" >0.7734</td>\n",
       "      <td id=\"T_90d4d_row9_col6\" class=\"data row9 col6\" >0.7781</td>\n",
       "    </tr>\n",
       "    <tr>\n",
       "      <th id=\"T_90d4d_level0_row10\" class=\"row_heading level0 row10\" >Mean</th>\n",
       "      <td id=\"T_90d4d_row10_col0\" class=\"data row10 col0\" >0.8891</td>\n",
       "      <td id=\"T_90d4d_row10_col1\" class=\"data row10 col1\" >0.9645</td>\n",
       "      <td id=\"T_90d4d_row10_col2\" class=\"data row10 col2\" >0.9448</td>\n",
       "      <td id=\"T_90d4d_row10_col3\" class=\"data row10 col3\" >0.8697</td>\n",
       "      <td id=\"T_90d4d_row10_col4\" class=\"data row10 col4\" >0.9057</td>\n",
       "      <td id=\"T_90d4d_row10_col5\" class=\"data row10 col5\" >0.7717</td>\n",
       "      <td id=\"T_90d4d_row10_col6\" class=\"data row10 col6\" >0.7756</td>\n",
       "    </tr>\n",
       "    <tr>\n",
       "      <th id=\"T_90d4d_level0_row11\" class=\"row_heading level0 row11\" >Std</th>\n",
       "      <td id=\"T_90d4d_row11_col0\" class=\"data row11 col0\" >0.0049</td>\n",
       "      <td id=\"T_90d4d_row11_col1\" class=\"data row11 col1\" >0.0025</td>\n",
       "      <td id=\"T_90d4d_row11_col2\" class=\"data row11 col2\" >0.0046</td>\n",
       "      <td id=\"T_90d4d_row11_col3\" class=\"data row11 col3\" >0.0048</td>\n",
       "      <td id=\"T_90d4d_row11_col4\" class=\"data row11 col4\" >0.0041</td>\n",
       "      <td id=\"T_90d4d_row11_col5\" class=\"data row11 col5\" >0.0101</td>\n",
       "      <td id=\"T_90d4d_row11_col6\" class=\"data row11 col6\" >0.0101</td>\n",
       "    </tr>\n",
       "  </tbody>\n",
       "</table>\n"
      ],
      "text/plain": [
       "<pandas.io.formats.style.Styler at 0x7f6921881cc0>"
      ]
     },
     "metadata": {},
     "output_type": "display_data"
    },
    {
     "data": {
      "text/html": [],
      "text/plain": [
       "<IPython.core.display.HTML object>"
      ]
     },
     "metadata": {},
     "output_type": "display_data"
    }
   ],
   "source": [
    "regression_model_lightgbm = classification_setup.create_model(\"lightgbm\", probability_threshold = 0.50)"
   ]
  },
  {
   "cell_type": "code",
   "execution_count": 23,
   "metadata": {
    "execution": {
     "iopub.execute_input": "2023-06-15T23:36:24.163824Z",
     "iopub.status.busy": "2023-06-15T23:36:24.163569Z",
     "iopub.status.idle": "2023-06-15T23:36:25.017219Z",
     "shell.execute_reply": "2023-06-15T23:36:25.016531Z",
     "shell.execute_reply.started": "2023-06-15T23:36:24.163797Z"
    }
   },
   "outputs": [
    {
     "data": {
      "text/html": [],
      "text/plain": [
       "<IPython.core.display.HTML object>"
      ]
     },
     "metadata": {},
     "output_type": "display_data"
    },
    {
     "data": {
      "image/png": "[encoded data removed]",
      "text/plain": [
       "<Figure size 800x550 with 1 Axes>"
      ]
     },
     "metadata": {},
     "output_type": "display_data"
    }
   ],
   "source": [
    "plot_model(regression_model_lightgbm, plot = 'auc')"
   ]
  },
  {
   "cell_type": "code",
   "execution_count": 24,
   "metadata": {
    "execution": {
     "iopub.execute_input": "2023-06-15T23:36:25.017951Z",
     "iopub.status.busy": "2023-06-15T23:36:25.017847Z",
     "iopub.status.idle": "2023-06-15T23:37:10.505735Z",
     "shell.execute_reply": "2023-06-15T23:37:10.504994Z",
     "shell.execute_reply.started": "2023-06-15T23:36:25.017942Z"
    }
   },
   "outputs": [
    {
     "data": {
      "text/html": [],
      "text/plain": [
       "<IPython.core.display.HTML object>"
      ]
     },
     "metadata": {},
     "output_type": "display_data"
    },
    {
     "data": {
      "text/html": [
       "<style type=\"text/css\">\n",
       "#T_ecd26_row10_col0, #T_ecd26_row10_col1, #T_ecd26_row10_col2, #T_ecd26_row10_col3, #T_ecd26_row10_col4, #T_ecd26_row10_col5, #T_ecd26_row10_col6 {\n",
       "  background: yellow;\n",
       "}\n",
       "</style>\n",
       "<table id=\"T_ecd26\">\n",
       "  <thead>\n",
       "    <tr>\n",
       "      <th class=\"blank level0\" >&nbsp;</th>\n",
       "      <th id=\"T_ecd26_level0_col0\" class=\"col_heading level0 col0\" >Accuracy</th>\n",
       "      <th id=\"T_ecd26_level0_col1\" class=\"col_heading level0 col1\" >AUC</th>\n",
       "      <th id=\"T_ecd26_level0_col2\" class=\"col_heading level0 col2\" >Recall</th>\n",
       "      <th id=\"T_ecd26_level0_col3\" class=\"col_heading level0 col3\" >Prec.</th>\n",
       "      <th id=\"T_ecd26_level0_col4\" class=\"col_heading level0 col4\" >F1</th>\n",
       "      <th id=\"T_ecd26_level0_col5\" class=\"col_heading level0 col5\" >Kappa</th>\n",
       "      <th id=\"T_ecd26_level0_col6\" class=\"col_heading level0 col6\" >MCC</th>\n",
       "    </tr>\n",
       "    <tr>\n",
       "      <th class=\"index_name level0\" >Fold</th>\n",
       "      <th class=\"blank col0\" >&nbsp;</th>\n",
       "      <th class=\"blank col1\" >&nbsp;</th>\n",
       "      <th class=\"blank col2\" >&nbsp;</th>\n",
       "      <th class=\"blank col3\" >&nbsp;</th>\n",
       "      <th class=\"blank col4\" >&nbsp;</th>\n",
       "      <th class=\"blank col5\" >&nbsp;</th>\n",
       "      <th class=\"blank col6\" >&nbsp;</th>\n",
       "    </tr>\n",
       "  </thead>\n",
       "  <tbody>\n",
       "    <tr>\n",
       "      <th id=\"T_ecd26_level0_row0\" class=\"row_heading level0 row0\" >0</th>\n",
       "      <td id=\"T_ecd26_row0_col0\" class=\"data row0 col0\" >0.6506</td>\n",
       "      <td id=\"T_ecd26_row0_col1\" class=\"data row0 col1\" >0.7016</td>\n",
       "      <td id=\"T_ecd26_row0_col2\" class=\"data row0 col2\" >0.8518</td>\n",
       "      <td id=\"T_ecd26_row0_col3\" class=\"data row0 col3\" >0.6435</td>\n",
       "      <td id=\"T_ecd26_row0_col4\" class=\"data row0 col4\" >0.7332</td>\n",
       "      <td id=\"T_ecd26_row0_col5\" class=\"data row0 col5\" >0.2545</td>\n",
       "      <td id=\"T_ecd26_row0_col6\" class=\"data row0 col6\" >0.2762</td>\n",
       "    </tr>\n",
       "    <tr>\n",
       "      <th id=\"T_ecd26_level0_row1\" class=\"row_heading level0 row1\" >1</th>\n",
       "      <td id=\"T_ecd26_row1_col0\" class=\"data row1 col0\" >0.6488</td>\n",
       "      <td id=\"T_ecd26_row1_col1\" class=\"data row1 col1\" >0.6959</td>\n",
       "      <td id=\"T_ecd26_row1_col2\" class=\"data row1 col2\" >0.8559</td>\n",
       "      <td id=\"T_ecd26_row1_col3\" class=\"data row1 col3\" >0.6412</td>\n",
       "      <td id=\"T_ecd26_row1_col4\" class=\"data row1 col4\" >0.7331</td>\n",
       "      <td id=\"T_ecd26_row1_col5\" class=\"data row1 col5\" >0.2494</td>\n",
       "      <td id=\"T_ecd26_row1_col6\" class=\"data row1 col6\" >0.2726</td>\n",
       "    </tr>\n",
       "    <tr>\n",
       "      <th id=\"T_ecd26_level0_row2\" class=\"row_heading level0 row2\" >2</th>\n",
       "      <td id=\"T_ecd26_row2_col0\" class=\"data row2 col0\" >0.6473</td>\n",
       "      <td id=\"T_ecd26_row2_col1\" class=\"data row2 col1\" >0.6950</td>\n",
       "      <td id=\"T_ecd26_row2_col2\" class=\"data row2 col2\" >0.8454</td>\n",
       "      <td id=\"T_ecd26_row2_col3\" class=\"data row2 col3\" >0.6421</td>\n",
       "      <td id=\"T_ecd26_row2_col4\" class=\"data row2 col4\" >0.7299</td>\n",
       "      <td id=\"T_ecd26_row2_col5\" class=\"data row2 col5\" >0.2483</td>\n",
       "      <td id=\"T_ecd26_row2_col6\" class=\"data row2 col6\" >0.2685</td>\n",
       "    </tr>\n",
       "    <tr>\n",
       "      <th id=\"T_ecd26_level0_row3\" class=\"row_heading level0 row3\" >3</th>\n",
       "      <td id=\"T_ecd26_row3_col0\" class=\"data row3 col0\" >0.6496</td>\n",
       "      <td id=\"T_ecd26_row3_col1\" class=\"data row3 col1\" >0.6983</td>\n",
       "      <td id=\"T_ecd26_row3_col2\" class=\"data row3 col2\" >0.8501</td>\n",
       "      <td id=\"T_ecd26_row3_col3\" class=\"data row3 col3\" >0.6431</td>\n",
       "      <td id=\"T_ecd26_row3_col4\" class=\"data row3 col4\" >0.7322</td>\n",
       "      <td id=\"T_ecd26_row3_col5\" class=\"data row3 col5\" >0.2525</td>\n",
       "      <td id=\"T_ecd26_row3_col6\" class=\"data row3 col6\" >0.2738</td>\n",
       "    </tr>\n",
       "    <tr>\n",
       "      <th id=\"T_ecd26_level0_row4\" class=\"row_heading level0 row4\" >4</th>\n",
       "      <td id=\"T_ecd26_row4_col0\" class=\"data row4 col0\" >0.6473</td>\n",
       "      <td id=\"T_ecd26_row4_col1\" class=\"data row4 col1\" >0.6961</td>\n",
       "      <td id=\"T_ecd26_row4_col2\" class=\"data row4 col2\" >0.8519</td>\n",
       "      <td id=\"T_ecd26_row4_col3\" class=\"data row4 col3\" >0.6407</td>\n",
       "      <td id=\"T_ecd26_row4_col4\" class=\"data row4 col4\" >0.7314</td>\n",
       "      <td id=\"T_ecd26_row4_col5\" class=\"data row4 col5\" >0.2468</td>\n",
       "      <td id=\"T_ecd26_row4_col6\" class=\"data row4 col6\" >0.2688</td>\n",
       "    </tr>\n",
       "    <tr>\n",
       "      <th id=\"T_ecd26_level0_row5\" class=\"row_heading level0 row5\" >5</th>\n",
       "      <td id=\"T_ecd26_row5_col0\" class=\"data row5 col0\" >0.6463</td>\n",
       "      <td id=\"T_ecd26_row5_col1\" class=\"data row5 col1\" >0.6877</td>\n",
       "      <td id=\"T_ecd26_row5_col2\" class=\"data row5 col2\" >0.8309</td>\n",
       "      <td id=\"T_ecd26_row5_col3\" class=\"data row5 col3\" >0.6445</td>\n",
       "      <td id=\"T_ecd26_row5_col4\" class=\"data row5 col4\" >0.7259</td>\n",
       "      <td id=\"T_ecd26_row5_col5\" class=\"data row5 col5\" >0.2493</td>\n",
       "      <td id=\"T_ecd26_row5_col6\" class=\"data row5 col6\" >0.2657</td>\n",
       "    </tr>\n",
       "    <tr>\n",
       "      <th id=\"T_ecd26_level0_row6\" class=\"row_heading level0 row6\" >6</th>\n",
       "      <td id=\"T_ecd26_row6_col0\" class=\"data row6 col0\" >0.6461</td>\n",
       "      <td id=\"T_ecd26_row6_col1\" class=\"data row6 col1\" >0.6964</td>\n",
       "      <td id=\"T_ecd26_row6_col2\" class=\"data row6 col2\" >0.8455</td>\n",
       "      <td id=\"T_ecd26_row6_col3\" class=\"data row6 col3\" >0.6411</td>\n",
       "      <td id=\"T_ecd26_row6_col4\" class=\"data row6 col4\" >0.7292</td>\n",
       "      <td id=\"T_ecd26_row6_col5\" class=\"data row6 col5\" >0.2454</td>\n",
       "      <td id=\"T_ecd26_row6_col6\" class=\"data row6 col6\" >0.2657</td>\n",
       "    </tr>\n",
       "    <tr>\n",
       "      <th id=\"T_ecd26_level0_row7\" class=\"row_heading level0 row7\" >7</th>\n",
       "      <td id=\"T_ecd26_row7_col0\" class=\"data row7 col0\" >0.6424</td>\n",
       "      <td id=\"T_ecd26_row7_col1\" class=\"data row7 col1\" >0.6879</td>\n",
       "      <td id=\"T_ecd26_row7_col2\" class=\"data row7 col2\" >0.8518</td>\n",
       "      <td id=\"T_ecd26_row7_col3\" class=\"data row7 col3\" >0.6366</td>\n",
       "      <td id=\"T_ecd26_row7_col4\" class=\"data row7 col4\" >0.7287</td>\n",
       "      <td id=\"T_ecd26_row7_col5\" class=\"data row7 col5\" >0.2353</td>\n",
       "      <td id=\"T_ecd26_row7_col6\" class=\"data row7 col6\" >0.2577</td>\n",
       "    </tr>\n",
       "    <tr>\n",
       "      <th id=\"T_ecd26_level0_row8\" class=\"row_heading level0 row8\" >8</th>\n",
       "      <td id=\"T_ecd26_row8_col0\" class=\"data row8 col0\" >0.6452</td>\n",
       "      <td id=\"T_ecd26_row8_col1\" class=\"data row8 col1\" >0.6903</td>\n",
       "      <td id=\"T_ecd26_row8_col2\" class=\"data row8 col2\" >0.8373</td>\n",
       "      <td id=\"T_ecd26_row8_col3\" class=\"data row8 col3\" >0.6420</td>\n",
       "      <td id=\"T_ecd26_row8_col4\" class=\"data row8 col4\" >0.7268</td>\n",
       "      <td id=\"T_ecd26_row8_col5\" class=\"data row8 col5\" >0.2451</td>\n",
       "      <td id=\"T_ecd26_row8_col6\" class=\"data row8 col6\" >0.2633</td>\n",
       "    </tr>\n",
       "    <tr>\n",
       "      <th id=\"T_ecd26_level0_row9\" class=\"row_heading level0 row9\" >9</th>\n",
       "      <td id=\"T_ecd26_row9_col0\" class=\"data row9 col0\" >0.6410</td>\n",
       "      <td id=\"T_ecd26_row9_col1\" class=\"data row9 col1\" >0.6912</td>\n",
       "      <td id=\"T_ecd26_row9_col2\" class=\"data row9 col2\" >0.8644</td>\n",
       "      <td id=\"T_ecd26_row9_col3\" class=\"data row9 col3\" >0.6330</td>\n",
       "      <td id=\"T_ecd26_row9_col4\" class=\"data row9 col4\" >0.7308</td>\n",
       "      <td id=\"T_ecd26_row9_col5\" class=\"data row9 col5\" >0.2292</td>\n",
       "      <td id=\"T_ecd26_row9_col6\" class=\"data row9 col6\" >0.2556</td>\n",
       "    </tr>\n",
       "    <tr>\n",
       "      <th id=\"T_ecd26_level0_row10\" class=\"row_heading level0 row10\" >Mean</th>\n",
       "      <td id=\"T_ecd26_row10_col0\" class=\"data row10 col0\" >0.6465</td>\n",
       "      <td id=\"T_ecd26_row10_col1\" class=\"data row10 col1\" >0.6941</td>\n",
       "      <td id=\"T_ecd26_row10_col2\" class=\"data row10 col2\" >0.8485</td>\n",
       "      <td id=\"T_ecd26_row10_col3\" class=\"data row10 col3\" >0.6408</td>\n",
       "      <td id=\"T_ecd26_row10_col4\" class=\"data row10 col4\" >0.7301</td>\n",
       "      <td id=\"T_ecd26_row10_col5\" class=\"data row10 col5\" >0.2456</td>\n",
       "      <td id=\"T_ecd26_row10_col6\" class=\"data row10 col6\" >0.2668</td>\n",
       "    </tr>\n",
       "    <tr>\n",
       "      <th id=\"T_ecd26_level0_row11\" class=\"row_heading level0 row11\" >Std</th>\n",
       "      <td id=\"T_ecd26_row11_col0\" class=\"data row11 col0\" >0.0028</td>\n",
       "      <td id=\"T_ecd26_row11_col1\" class=\"data row11 col1\" >0.0043</td>\n",
       "      <td id=\"T_ecd26_row11_col2\" class=\"data row11 col2\" >0.0089</td>\n",
       "      <td id=\"T_ecd26_row11_col3\" class=\"data row11 col3\" >0.0033</td>\n",
       "      <td id=\"T_ecd26_row11_col4\" class=\"data row11 col4\" >0.0024</td>\n",
       "      <td id=\"T_ecd26_row11_col5\" class=\"data row11 col5\" >0.0073</td>\n",
       "      <td id=\"T_ecd26_row11_col6\" class=\"data row11 col6\" >0.0064</td>\n",
       "    </tr>\n",
       "  </tbody>\n",
       "</table>\n"
      ],
      "text/plain": [
       "<pandas.io.formats.style.Styler at 0x7f6973f3b9a0>"
      ]
     },
     "metadata": {},
     "output_type": "display_data"
    },
    {
     "data": {
      "text/html": [],
      "text/plain": [
       "<IPython.core.display.HTML object>"
      ]
     },
     "metadata": {},
     "output_type": "display_data"
    }
   ],
   "source": [
    "regression_model_ada = classification_setup.create_model(\"ada\", probability_threshold = 0.50)"
   ]
  },
  {
   "cell_type": "code",
   "execution_count": 25,
   "metadata": {
    "execution": {
     "iopub.execute_input": "2023-06-15T23:37:10.506947Z",
     "iopub.status.busy": "2023-06-15T23:37:10.506801Z",
     "iopub.status.idle": "2023-06-15T23:37:13.655919Z",
     "shell.execute_reply": "2023-06-15T23:37:13.654295Z",
     "shell.execute_reply.started": "2023-06-15T23:37:10.506934Z"
    }
   },
   "outputs": [
    {
     "data": {
      "text/html": [],
      "text/plain": [
       "<IPython.core.display.HTML object>"
      ]
     },
     "metadata": {},
     "output_type": "display_data"
    },
    {
     "data": {
      "image/png": "[encoded data removed]",
      "text/plain": [
       "<Figure size 800x550 with 1 Axes>"
      ]
     },
     "metadata": {},
     "output_type": "display_data"
    }
   ],
   "source": [
    "plot_model(regression_model_ada, plot = 'auc')"
   ]
  },
  {
   "cell_type": "markdown",
   "metadata": {
    "execution": {
     "iopub.execute_input": "2023-06-08T23:08:22.530994Z",
     "iopub.status.busy": "2023-06-08T23:08:22.529719Z",
     "iopub.status.idle": "2023-06-08T23:08:22.542651Z",
     "shell.execute_reply": "2023-06-08T23:08:22.540043Z",
     "shell.execute_reply.started": "2023-06-08T23:08:22.530922Z"
    }
   },
   "source": [
    "**evaluate model**"
   ]
  },
  {
   "cell_type": "markdown",
   "metadata": {},
   "source": [
    "`lightgbm` shows very good AUC of `0.97`, `rf` as well with `1.0` train AUC.\n",
    "\n",
    "`rf` seemed like too overfit with 1.0 train AUC but its test precision as well is the best among others.\n",
    "\n",
    "`ada` shows very low recall thus inpractical.\n"
   ]
  },
  {
   "cell_type": "code",
   "execution_count": 26,
   "metadata": {
    "execution": {
     "iopub.execute_input": "2023-06-15T23:37:52.403743Z",
     "iopub.status.busy": "2023-06-15T23:37:52.402627Z",
     "iopub.status.idle": "2023-06-15T23:37:52.408930Z",
     "shell.execute_reply": "2023-06-15T23:37:52.408242Z",
     "shell.execute_reply.started": "2023-06-15T23:37:52.403674Z"
    }
   },
   "outputs": [],
   "source": [
    "def predict_and_odds(df_data, regression_model):\n",
    "    df_prediction = pycaret.classification.predict_model(data = df_data, estimator = regression_model)\n",
    "    df_prediction = pd.merge(df_prediction, df_player_team_positions[['player_id','player_team_name']], left_on='batting_id', right_on='player_id', how='left')\n",
    "    df_prediction[\"theo_odds\"] = df_prediction[\"prediction_score\"].apply(model.common.odds_calculator)\n",
    "    return df_prediction"
   ]
  },
  {
   "cell_type": "code",
   "execution_count": 70,
   "metadata": {
    "execution": {
     "iopub.execute_input": "2023-06-15T23:49:15.236637Z",
     "iopub.status.busy": "2023-06-15T23:49:15.236098Z",
     "iopub.status.idle": "2023-06-15T23:49:15.240236Z",
     "shell.execute_reply": "2023-06-15T23:49:15.239680Z",
     "shell.execute_reply.started": "2023-06-15T23:49:15.236611Z"
    }
   },
   "outputs": [],
   "source": [
    "def get_eval_profile(df_prediction, score_threshold):\n",
    "    confident_prediction = df_prediction.drop_duplicates(\"batting_name\")\n",
    "    confident_prediction = confident_prediction[confident_prediction[\"prediction_score\"] >= score_threshold]\n",
    "    # for some reason, the prediction_label should be separatedly checked. higher score does not always lead to prediction label. (maybe the score stands for both labels).\n",
    "    confident_prediction = confident_prediction[confident_prediction[\"prediction_label\"] == 1]\n",
    "    l = len(confident_prediction)\n",
    "    return l, confident_prediction.batting_hit_recorded.sum() / l"
   ]
  },
  {
   "cell_type": "code",
   "execution_count": 71,
   "metadata": {
    "execution": {
     "iopub.execute_input": "2023-06-15T23:49:16.905174Z",
     "iopub.status.busy": "2023-06-15T23:49:16.904856Z",
     "iopub.status.idle": "2023-06-15T23:49:16.935490Z",
     "shell.execute_reply": "2023-06-15T23:49:16.934147Z",
     "shell.execute_reply.started": "2023-06-15T23:49:16.905156Z"
    },
    "scrolled": true
   },
   "outputs": [
    {
     "data": {
      "text/html": [
       "<div>\n",
       "<style scoped>\n",
       "    .dataframe tbody tr th:only-of-type {\n",
       "        vertical-align: middle;\n",
       "    }\n",
       "\n",
       "    .dataframe tbody tr th {\n",
       "        vertical-align: top;\n",
       "    }\n",
       "\n",
       "    .dataframe thead th {\n",
       "        text-align: right;\n",
       "    }\n",
       "</style>\n",
       "<table border=\"1\" class=\"dataframe\">\n",
       "  <thead>\n",
       "    <tr style=\"text-align: right;\">\n",
       "      <th></th>\n",
       "      <th>prediction_score</th>\n",
       "      <th>prediction_label</th>\n",
       "    </tr>\n",
       "  </thead>\n",
       "  <tbody>\n",
       "    <tr>\n",
       "      <th>7</th>\n",
       "      <td>0.9086</td>\n",
       "      <td>0</td>\n",
       "    </tr>\n",
       "    <tr>\n",
       "      <th>8</th>\n",
       "      <td>0.9086</td>\n",
       "      <td>0</td>\n",
       "    </tr>\n",
       "    <tr>\n",
       "      <th>9</th>\n",
       "      <td>0.9086</td>\n",
       "      <td>0</td>\n",
       "    </tr>\n",
       "    <tr>\n",
       "      <th>18</th>\n",
       "      <td>0.8536</td>\n",
       "      <td>0</td>\n",
       "    </tr>\n",
       "    <tr>\n",
       "      <th>19</th>\n",
       "      <td>0.8536</td>\n",
       "      <td>0</td>\n",
       "    </tr>\n",
       "    <tr>\n",
       "      <th>...</th>\n",
       "      <td>...</td>\n",
       "      <td>...</td>\n",
       "    </tr>\n",
       "    <tr>\n",
       "      <th>990315</th>\n",
       "      <td>0.7063</td>\n",
       "      <td>1</td>\n",
       "    </tr>\n",
       "    <tr>\n",
       "      <th>990318</th>\n",
       "      <td>0.7005</td>\n",
       "      <td>1</td>\n",
       "    </tr>\n",
       "    <tr>\n",
       "      <th>990319</th>\n",
       "      <td>0.7005</td>\n",
       "      <td>1</td>\n",
       "    </tr>\n",
       "    <tr>\n",
       "      <th>990320</th>\n",
       "      <td>0.7005</td>\n",
       "      <td>1</td>\n",
       "    </tr>\n",
       "    <tr>\n",
       "      <th>990321</th>\n",
       "      <td>0.7005</td>\n",
       "      <td>1</td>\n",
       "    </tr>\n",
       "  </tbody>\n",
       "</table>\n",
       "<p>219582 rows × 2 columns</p>\n",
       "</div>"
      ],
      "text/plain": [
       "        prediction_score  prediction_label\n",
       "7                 0.9086                 0\n",
       "8                 0.9086                 0\n",
       "9                 0.9086                 0\n",
       "18                0.8536                 0\n",
       "19                0.8536                 0\n",
       "...                  ...               ...\n",
       "990315            0.7063                 1\n",
       "990318            0.7005                 1\n",
       "990319            0.7005                 1\n",
       "990320            0.7005                 1\n",
       "990321            0.7005                 1\n",
       "\n",
       "[219582 rows x 2 columns]"
      ]
     },
     "execution_count": 71,
     "metadata": {},
     "output_type": "execute_result"
    }
   ],
   "source": [
    "df_prediction=train_prediction_lr\n",
    "score_threshold=0.70\n",
    "df_prediction[(df_prediction[\"prediction_score\"] >= score_threshold)][['prediction_score', 'prediction_label']]"
   ]
  },
  {
   "cell_type": "code",
   "execution_count": 28,
   "metadata": {
    "execution": {
     "iopub.execute_input": "2023-06-15T23:37:54.350614Z",
     "iopub.status.busy": "2023-06-15T23:37:54.350382Z",
     "iopub.status.idle": "2023-06-15T23:37:54.354363Z",
     "shell.execute_reply": "2023-06-15T23:37:54.353315Z",
     "shell.execute_reply.started": "2023-06-15T23:37:54.350597Z"
    }
   },
   "outputs": [],
   "source": [
    "regression_model = regression_model_rf"
   ]
  },
  {
   "cell_type": "code",
   "execution_count": 72,
   "metadata": {
    "execution": {
     "iopub.execute_input": "2023-06-15T23:49:18.716823Z",
     "iopub.status.busy": "2023-06-15T23:49:18.716572Z",
     "iopub.status.idle": "2023-06-15T23:49:26.345784Z",
     "shell.execute_reply": "2023-06-15T23:49:26.344323Z",
     "shell.execute_reply.started": "2023-06-15T23:49:18.716804Z"
    }
   },
   "outputs": [
    {
     "data": {
      "text/html": [
       "<style type=\"text/css\">\n",
       "</style>\n",
       "<table id=\"T_dcecd\">\n",
       "  <thead>\n",
       "    <tr>\n",
       "      <th class=\"blank level0\" >&nbsp;</th>\n",
       "      <th id=\"T_dcecd_level0_col0\" class=\"col_heading level0 col0\" >Model</th>\n",
       "      <th id=\"T_dcecd_level0_col1\" class=\"col_heading level0 col1\" >Accuracy</th>\n",
       "      <th id=\"T_dcecd_level0_col2\" class=\"col_heading level0 col2\" >AUC</th>\n",
       "      <th id=\"T_dcecd_level0_col3\" class=\"col_heading level0 col3\" >Recall</th>\n",
       "      <th id=\"T_dcecd_level0_col4\" class=\"col_heading level0 col4\" >Prec.</th>\n",
       "      <th id=\"T_dcecd_level0_col5\" class=\"col_heading level0 col5\" >F1</th>\n",
       "      <th id=\"T_dcecd_level0_col6\" class=\"col_heading level0 col6\" >Kappa</th>\n",
       "      <th id=\"T_dcecd_level0_col7\" class=\"col_heading level0 col7\" >MCC</th>\n",
       "    </tr>\n",
       "  </thead>\n",
       "  <tbody>\n",
       "    <tr>\n",
       "      <th id=\"T_dcecd_level0_row0\" class=\"row_heading level0 row0\" >0</th>\n",
       "      <td id=\"T_dcecd_row0_col0\" class=\"data row0 col0\" >Logistic Regression</td>\n",
       "      <td id=\"T_dcecd_row0_col1\" class=\"data row0 col1\" >0.6303</td>\n",
       "      <td id=\"T_dcecd_row0_col2\" class=\"data row0 col2\" >0.6561</td>\n",
       "      <td id=\"T_dcecd_row0_col3\" class=\"data row0 col3\" >0.8105</td>\n",
       "      <td id=\"T_dcecd_row0_col4\" class=\"data row0 col4\" >0.6348</td>\n",
       "      <td id=\"T_dcecd_row0_col5\" class=\"data row0 col5\" >0.7119</td>\n",
       "      <td id=\"T_dcecd_row0_col6\" class=\"data row0 col6\" >0.2169</td>\n",
       "      <td id=\"T_dcecd_row0_col7\" class=\"data row0 col7\" >0.2298</td>\n",
       "    </tr>\n",
       "  </tbody>\n",
       "</table>\n"
      ],
      "text/plain": [
       "<pandas.io.formats.style.Styler at 0x7f6921880e50>"
      ]
     },
     "metadata": {},
     "output_type": "display_data"
    },
    {
     "data": {
      "text/html": [
       "<style type=\"text/css\">\n",
       "</style>\n",
       "<table id=\"T_9b88d\">\n",
       "  <thead>\n",
       "    <tr>\n",
       "      <th class=\"blank level0\" >&nbsp;</th>\n",
       "      <th id=\"T_9b88d_level0_col0\" class=\"col_heading level0 col0\" >Model</th>\n",
       "      <th id=\"T_9b88d_level0_col1\" class=\"col_heading level0 col1\" >Accuracy</th>\n",
       "      <th id=\"T_9b88d_level0_col2\" class=\"col_heading level0 col2\" >AUC</th>\n",
       "      <th id=\"T_9b88d_level0_col3\" class=\"col_heading level0 col3\" >Recall</th>\n",
       "      <th id=\"T_9b88d_level0_col4\" class=\"col_heading level0 col4\" >Prec.</th>\n",
       "      <th id=\"T_9b88d_level0_col5\" class=\"col_heading level0 col5\" >F1</th>\n",
       "      <th id=\"T_9b88d_level0_col6\" class=\"col_heading level0 col6\" >Kappa</th>\n",
       "      <th id=\"T_9b88d_level0_col7\" class=\"col_heading level0 col7\" >MCC</th>\n",
       "    </tr>\n",
       "  </thead>\n",
       "  <tbody>\n",
       "    <tr>\n",
       "      <th id=\"T_9b88d_level0_row0\" class=\"row_heading level0 row0\" >0</th>\n",
       "      <td id=\"T_9b88d_row0_col0\" class=\"data row0 col0\" >Gradient Boosting Classifier</td>\n",
       "      <td id=\"T_9b88d_row0_col1\" class=\"data row0 col1\" >0.6883</td>\n",
       "      <td id=\"T_9b88d_row0_col2\" class=\"data row0 col2\" >0.7798</td>\n",
       "      <td id=\"T_9b88d_row0_col3\" class=\"data row0 col3\" >0.8714</td>\n",
       "      <td id=\"T_9b88d_row0_col4\" class=\"data row0 col4\" >0.6725</td>\n",
       "      <td id=\"T_9b88d_row0_col5\" class=\"data row0 col5\" >0.7591</td>\n",
       "      <td id=\"T_9b88d_row0_col6\" class=\"data row0 col6\" >0.3377</td>\n",
       "      <td id=\"T_9b88d_row0_col7\" class=\"data row0 col7\" >0.3612</td>\n",
       "    </tr>\n",
       "  </tbody>\n",
       "</table>\n"
      ],
      "text/plain": [
       "<pandas.io.formats.style.Styler at 0x7f69a0a19540>"
      ]
     },
     "metadata": {},
     "output_type": "display_data"
    },
    {
     "data": {
      "text/html": [
       "<style type=\"text/css\">\n",
       "</style>\n",
       "<table id=\"T_dd4a9\">\n",
       "  <thead>\n",
       "    <tr>\n",
       "      <th class=\"blank level0\" >&nbsp;</th>\n",
       "      <th id=\"T_dd4a9_level0_col0\" class=\"col_heading level0 col0\" >Model</th>\n",
       "      <th id=\"T_dd4a9_level0_col1\" class=\"col_heading level0 col1\" >Accuracy</th>\n",
       "      <th id=\"T_dd4a9_level0_col2\" class=\"col_heading level0 col2\" >AUC</th>\n",
       "      <th id=\"T_dd4a9_level0_col3\" class=\"col_heading level0 col3\" >Recall</th>\n",
       "      <th id=\"T_dd4a9_level0_col4\" class=\"col_heading level0 col4\" >Prec.</th>\n",
       "      <th id=\"T_dd4a9_level0_col5\" class=\"col_heading level0 col5\" >F1</th>\n",
       "      <th id=\"T_dd4a9_level0_col6\" class=\"col_heading level0 col6\" >Kappa</th>\n",
       "      <th id=\"T_dd4a9_level0_col7\" class=\"col_heading level0 col7\" >MCC</th>\n",
       "    </tr>\n",
       "  </thead>\n",
       "  <tbody>\n",
       "    <tr>\n",
       "      <th id=\"T_dd4a9_level0_row0\" class=\"row_heading level0 row0\" >0</th>\n",
       "      <td id=\"T_dd4a9_row0_col0\" class=\"data row0 col0\" >Light Gradient Boosting Machine</td>\n",
       "      <td id=\"T_dd4a9_row0_col1\" class=\"data row0 col1\" >0.8891</td>\n",
       "      <td id=\"T_dd4a9_row0_col2\" class=\"data row0 col2\" >0.9640</td>\n",
       "      <td id=\"T_dd4a9_row0_col3\" class=\"data row0 col3\" >0.9521</td>\n",
       "      <td id=\"T_dd4a9_row0_col4\" class=\"data row0 col4\" >0.8648</td>\n",
       "      <td id=\"T_dd4a9_row0_col5\" class=\"data row0 col5\" >0.9063</td>\n",
       "      <td id=\"T_dd4a9_row0_col6\" class=\"data row0 col6\" >0.7711</td>\n",
       "      <td id=\"T_dd4a9_row0_col7\" class=\"data row0 col7\" >0.7765</td>\n",
       "    </tr>\n",
       "  </tbody>\n",
       "</table>\n"
      ],
      "text/plain": [
       "<pandas.io.formats.style.Styler at 0x7f6973f0ca90>"
      ]
     },
     "metadata": {},
     "output_type": "display_data"
    },
    {
     "data": {
      "text/html": [
       "<style type=\"text/css\">\n",
       "</style>\n",
       "<table id=\"T_85342\">\n",
       "  <thead>\n",
       "    <tr>\n",
       "      <th class=\"blank level0\" >&nbsp;</th>\n",
       "      <th id=\"T_85342_level0_col0\" class=\"col_heading level0 col0\" >Model</th>\n",
       "      <th id=\"T_85342_level0_col1\" class=\"col_heading level0 col1\" >Accuracy</th>\n",
       "      <th id=\"T_85342_level0_col2\" class=\"col_heading level0 col2\" >AUC</th>\n",
       "      <th id=\"T_85342_level0_col3\" class=\"col_heading level0 col3\" >Recall</th>\n",
       "      <th id=\"T_85342_level0_col4\" class=\"col_heading level0 col4\" >Prec.</th>\n",
       "      <th id=\"T_85342_level0_col5\" class=\"col_heading level0 col5\" >F1</th>\n",
       "      <th id=\"T_85342_level0_col6\" class=\"col_heading level0 col6\" >Kappa</th>\n",
       "      <th id=\"T_85342_level0_col7\" class=\"col_heading level0 col7\" >MCC</th>\n",
       "    </tr>\n",
       "  </thead>\n",
       "  <tbody>\n",
       "    <tr>\n",
       "      <th id=\"T_85342_level0_row0\" class=\"row_heading level0 row0\" >0</th>\n",
       "      <td id=\"T_85342_row0_col0\" class=\"data row0 col0\" >Random Forest Classifier</td>\n",
       "      <td id=\"T_85342_row0_col1\" class=\"data row0 col1\" >0.9998</td>\n",
       "      <td id=\"T_85342_row0_col2\" class=\"data row0 col2\" >1.0000</td>\n",
       "      <td id=\"T_85342_row0_col3\" class=\"data row0 col3\" >0.9997</td>\n",
       "      <td id=\"T_85342_row0_col4\" class=\"data row0 col4\" >1.0000</td>\n",
       "      <td id=\"T_85342_row0_col5\" class=\"data row0 col5\" >0.9998</td>\n",
       "      <td id=\"T_85342_row0_col6\" class=\"data row0 col6\" >0.9996</td>\n",
       "      <td id=\"T_85342_row0_col7\" class=\"data row0 col7\" >0.9996</td>\n",
       "    </tr>\n",
       "  </tbody>\n",
       "</table>\n"
      ],
      "text/plain": [
       "<pandas.io.formats.style.Styler at 0x7f6921880f70>"
      ]
     },
     "metadata": {},
     "output_type": "display_data"
    }
   ],
   "source": [
    "train_prediction_lr = predict_and_odds(train_data, regression_model_lr)\n",
    "train_prediction_gbc = predict_and_odds(train_data, regression_model_gbc)\n",
    "train_prediction_lightgbm = predict_and_odds(train_data, regression_model_lightgbm)\n",
    "train_prediction_rf = predict_and_odds(train_data, regression_model_rf)"
   ]
  },
  {
   "cell_type": "code",
   "execution_count": 73,
   "metadata": {
    "execution": {
     "iopub.execute_input": "2023-06-15T23:49:26.348301Z",
     "iopub.status.busy": "2023-06-15T23:49:26.347973Z",
     "iopub.status.idle": "2023-06-15T23:49:26.409889Z",
     "shell.execute_reply": "2023-06-15T23:49:26.407899Z",
     "shell.execute_reply.started": "2023-06-15T23:49:26.348275Z"
    }
   },
   "outputs": [
    {
     "name": "stdout",
     "output_type": "stream",
     "text": [
      "(342, 0.6549707602339181)\n",
      "(120, 0.7)\n",
      "(49, 0.7755102040816326)\n",
      "(7, 1.0)\n"
     ]
    }
   ],
   "source": [
    "print(get_eval_profile(train_prediction_lr, 0.6))\n",
    "print(get_eval_profile(train_prediction_lr, 0.7))\n",
    "print(get_eval_profile(train_prediction_lr, 0.75))\n",
    "print(get_eval_profile(train_prediction_lr, 0.80))"
   ]
  },
  {
   "cell_type": "code",
   "execution_count": 74,
   "metadata": {
    "execution": {
     "iopub.execute_input": "2023-06-15T23:49:26.411361Z",
     "iopub.status.busy": "2023-06-15T23:49:26.411062Z",
     "iopub.status.idle": "2023-06-15T23:49:26.565982Z",
     "shell.execute_reply": "2023-06-15T23:49:26.563333Z",
     "shell.execute_reply.started": "2023-06-15T23:49:26.411335Z"
    }
   },
   "outputs": [
    {
     "name": "stdout",
     "output_type": "stream",
     "text": [
      "(338, 0.757396449704142)\n",
      "(118, 0.9067796610169492)\n",
      "(66, 0.9696969696969697)\n",
      "(28, 1.0)\n"
     ]
    }
   ],
   "source": [
    "print(get_eval_profile(train_prediction_gbc, 0.6))\n",
    "print(get_eval_profile(train_prediction_gbc, 0.7))\n",
    "print(get_eval_profile(train_prediction_gbc, 0.75))\n",
    "print(get_eval_profile(train_prediction_gbc, 0.80))"
   ]
  },
  {
   "cell_type": "code",
   "execution_count": 75,
   "metadata": {
    "execution": {
     "iopub.execute_input": "2023-06-15T23:49:26.570257Z",
     "iopub.status.busy": "2023-06-15T23:49:26.569025Z",
     "iopub.status.idle": "2023-06-15T23:49:26.696021Z",
     "shell.execute_reply": "2023-06-15T23:49:26.695087Z",
     "shell.execute_reply.started": "2023-06-15T23:49:26.570223Z"
    }
   },
   "outputs": [
    {
     "name": "stdout",
     "output_type": "stream",
     "text": [
      "(411, 0.927007299270073)\n",
      "(251, 0.9721115537848606)\n",
      "(196, 0.9846938775510204)\n",
      "(125, 1.0)\n"
     ]
    }
   ],
   "source": [
    "print(get_eval_profile(train_prediction_lightgbm, 0.6))\n",
    "print(get_eval_profile(train_prediction_lightgbm, 0.7))\n",
    "print(get_eval_profile(train_prediction_lightgbm, 0.75))\n",
    "print(get_eval_profile(train_prediction_lightgbm, 0.80))"
   ]
  },
  {
   "cell_type": "code",
   "execution_count": 76,
   "metadata": {
    "execution": {
     "iopub.execute_input": "2023-06-15T23:49:26.698027Z",
     "iopub.status.busy": "2023-06-15T23:49:26.697057Z",
     "iopub.status.idle": "2023-06-15T23:49:26.819448Z",
     "shell.execute_reply": "2023-06-15T23:49:26.817499Z",
     "shell.execute_reply.started": "2023-06-15T23:49:26.697981Z"
    }
   },
   "outputs": [
    {
     "name": "stdout",
     "output_type": "stream",
     "text": [
      "(669, 0.9985052316890882)\n",
      "(653, 0.998468606431853)\n",
      "(640, 1.0)\n",
      "(620, 1.0)\n"
     ]
    }
   ],
   "source": [
    "print(get_eval_profile(train_prediction_rf, 0.6))\n",
    "print(get_eval_profile(train_prediction_rf, 0.7))\n",
    "print(get_eval_profile(train_prediction_rf, 0.75))\n",
    "print(get_eval_profile(train_prediction_rf, 0.80))"
   ]
  },
  {
   "cell_type": "code",
   "execution_count": null,
   "metadata": {},
   "outputs": [],
   "source": []
  },
  {
   "cell_type": "markdown",
   "metadata": {
    "execution": {
     "iopub.execute_input": "2023-06-07T00:40:23.948013Z",
     "iopub.status.busy": "2023-06-07T00:40:23.947407Z",
     "iopub.status.idle": "2023-06-07T00:40:23.953130Z",
     "shell.execute_reply": "2023-06-07T00:40:23.952520Z",
     "shell.execute_reply.started": "2023-06-07T00:40:23.947955Z"
    }
   },
   "source": [
    "**test prediction**"
   ]
  },
  {
   "cell_type": "code",
   "execution_count": 77,
   "metadata": {
    "execution": {
     "iopub.execute_input": "2023-06-15T23:49:51.560232Z",
     "iopub.status.busy": "2023-06-15T23:49:51.559901Z",
     "iopub.status.idle": "2023-06-15T23:49:52.739666Z",
     "shell.execute_reply": "2023-06-15T23:49:52.738949Z",
     "shell.execute_reply.started": "2023-06-15T23:49:51.560211Z"
    },
    "scrolled": true
   },
   "outputs": [
    {
     "data": {
      "text/html": [
       "<style type=\"text/css\">\n",
       "</style>\n",
       "<table id=\"T_69535\">\n",
       "  <thead>\n",
       "    <tr>\n",
       "      <th class=\"blank level0\" >&nbsp;</th>\n",
       "      <th id=\"T_69535_level0_col0\" class=\"col_heading level0 col0\" >Model</th>\n",
       "      <th id=\"T_69535_level0_col1\" class=\"col_heading level0 col1\" >Accuracy</th>\n",
       "      <th id=\"T_69535_level0_col2\" class=\"col_heading level0 col2\" >AUC</th>\n",
       "      <th id=\"T_69535_level0_col3\" class=\"col_heading level0 col3\" >Recall</th>\n",
       "      <th id=\"T_69535_level0_col4\" class=\"col_heading level0 col4\" >Prec.</th>\n",
       "      <th id=\"T_69535_level0_col5\" class=\"col_heading level0 col5\" >F1</th>\n",
       "      <th id=\"T_69535_level0_col6\" class=\"col_heading level0 col6\" >Kappa</th>\n",
       "      <th id=\"T_69535_level0_col7\" class=\"col_heading level0 col7\" >MCC</th>\n",
       "    </tr>\n",
       "  </thead>\n",
       "  <tbody>\n",
       "    <tr>\n",
       "      <th id=\"T_69535_level0_row0\" class=\"row_heading level0 row0\" >0</th>\n",
       "      <td id=\"T_69535_row0_col0\" class=\"data row0 col0\" >Logistic Regression</td>\n",
       "      <td id=\"T_69535_row0_col1\" class=\"data row0 col1\" >0.5926</td>\n",
       "      <td id=\"T_69535_row0_col2\" class=\"data row0 col2\" >0.6166</td>\n",
       "      <td id=\"T_69535_row0_col3\" class=\"data row0 col3\" >0.7666</td>\n",
       "      <td id=\"T_69535_row0_col4\" class=\"data row0 col4\" >0.6232</td>\n",
       "      <td id=\"T_69535_row0_col5\" class=\"data row0 col5\" >0.6875</td>\n",
       "      <td id=\"T_69535_row0_col6\" class=\"data row0 col6\" >0.1198</td>\n",
       "      <td id=\"T_69535_row0_col7\" class=\"data row0 col7\" >0.1252</td>\n",
       "    </tr>\n",
       "  </tbody>\n",
       "</table>\n"
      ],
      "text/plain": [
       "<pandas.io.formats.style.Styler at 0x7f6921881510>"
      ]
     },
     "metadata": {},
     "output_type": "display_data"
    },
    {
     "data": {
      "text/html": [
       "<style type=\"text/css\">\n",
       "</style>\n",
       "<table id=\"T_c6859\">\n",
       "  <thead>\n",
       "    <tr>\n",
       "      <th class=\"blank level0\" >&nbsp;</th>\n",
       "      <th id=\"T_c6859_level0_col0\" class=\"col_heading level0 col0\" >Model</th>\n",
       "      <th id=\"T_c6859_level0_col1\" class=\"col_heading level0 col1\" >Accuracy</th>\n",
       "      <th id=\"T_c6859_level0_col2\" class=\"col_heading level0 col2\" >AUC</th>\n",
       "      <th id=\"T_c6859_level0_col3\" class=\"col_heading level0 col3\" >Recall</th>\n",
       "      <th id=\"T_c6859_level0_col4\" class=\"col_heading level0 col4\" >Prec.</th>\n",
       "      <th id=\"T_c6859_level0_col5\" class=\"col_heading level0 col5\" >F1</th>\n",
       "      <th id=\"T_c6859_level0_col6\" class=\"col_heading level0 col6\" >Kappa</th>\n",
       "      <th id=\"T_c6859_level0_col7\" class=\"col_heading level0 col7\" >MCC</th>\n",
       "    </tr>\n",
       "  </thead>\n",
       "  <tbody>\n",
       "    <tr>\n",
       "      <th id=\"T_c6859_level0_row0\" class=\"row_heading level0 row0\" >0</th>\n",
       "      <td id=\"T_c6859_row0_col0\" class=\"data row0 col0\" >Gradient Boosting Classifier</td>\n",
       "      <td id=\"T_c6859_row0_col1\" class=\"data row0 col1\" >0.6034</td>\n",
       "      <td id=\"T_c6859_row0_col2\" class=\"data row0 col2\" >0.6304</td>\n",
       "      <td id=\"T_c6859_row0_col3\" class=\"data row0 col3\" >0.8070</td>\n",
       "      <td id=\"T_c6859_row0_col4\" class=\"data row0 col4\" >0.6245</td>\n",
       "      <td id=\"T_c6859_row0_col5\" class=\"data row0 col5\" >0.7041</td>\n",
       "      <td id=\"T_c6859_row0_col6\" class=\"data row0 col6\" >0.1317</td>\n",
       "      <td id=\"T_c6859_row0_col7\" class=\"data row0 col7\" >0.1420</td>\n",
       "    </tr>\n",
       "  </tbody>\n",
       "</table>\n"
      ],
      "text/plain": [
       "<pandas.io.formats.style.Styler at 0x7f6973f0ca90>"
      ]
     },
     "metadata": {},
     "output_type": "display_data"
    },
    {
     "data": {
      "text/html": [
       "<style type=\"text/css\">\n",
       "</style>\n",
       "<table id=\"T_8fb20\">\n",
       "  <thead>\n",
       "    <tr>\n",
       "      <th class=\"blank level0\" >&nbsp;</th>\n",
       "      <th id=\"T_8fb20_level0_col0\" class=\"col_heading level0 col0\" >Model</th>\n",
       "      <th id=\"T_8fb20_level0_col1\" class=\"col_heading level0 col1\" >Accuracy</th>\n",
       "      <th id=\"T_8fb20_level0_col2\" class=\"col_heading level0 col2\" >AUC</th>\n",
       "      <th id=\"T_8fb20_level0_col3\" class=\"col_heading level0 col3\" >Recall</th>\n",
       "      <th id=\"T_8fb20_level0_col4\" class=\"col_heading level0 col4\" >Prec.</th>\n",
       "      <th id=\"T_8fb20_level0_col5\" class=\"col_heading level0 col5\" >F1</th>\n",
       "      <th id=\"T_8fb20_level0_col6\" class=\"col_heading level0 col6\" >Kappa</th>\n",
       "      <th id=\"T_8fb20_level0_col7\" class=\"col_heading level0 col7\" >MCC</th>\n",
       "    </tr>\n",
       "  </thead>\n",
       "  <tbody>\n",
       "    <tr>\n",
       "      <th id=\"T_8fb20_level0_row0\" class=\"row_heading level0 row0\" >0</th>\n",
       "      <td id=\"T_8fb20_row0_col0\" class=\"data row0 col0\" >Light Gradient Boosting Machine</td>\n",
       "      <td id=\"T_8fb20_row0_col1\" class=\"data row0 col1\" >0.6024</td>\n",
       "      <td id=\"T_8fb20_row0_col2\" class=\"data row0 col2\" >0.6127</td>\n",
       "      <td id=\"T_8fb20_row0_col3\" class=\"data row0 col3\" >0.7437</td>\n",
       "      <td id=\"T_8fb20_row0_col4\" class=\"data row0 col4\" >0.6370</td>\n",
       "      <td id=\"T_8fb20_row0_col5\" class=\"data row0 col5\" >0.6863</td>\n",
       "      <td id=\"T_8fb20_row0_col6\" class=\"data row0 col6\" >0.1524</td>\n",
       "      <td id=\"T_8fb20_row0_col7\" class=\"data row0 col7\" >0.1559</td>\n",
       "    </tr>\n",
       "  </tbody>\n",
       "</table>\n"
      ],
      "text/plain": [
       "<pandas.io.formats.style.Styler at 0x7f6921880610>"
      ]
     },
     "metadata": {},
     "output_type": "display_data"
    },
    {
     "data": {
      "text/html": [
       "<style type=\"text/css\">\n",
       "</style>\n",
       "<table id=\"T_c439f\">\n",
       "  <thead>\n",
       "    <tr>\n",
       "      <th class=\"blank level0\" >&nbsp;</th>\n",
       "      <th id=\"T_c439f_level0_col0\" class=\"col_heading level0 col0\" >Model</th>\n",
       "      <th id=\"T_c439f_level0_col1\" class=\"col_heading level0 col1\" >Accuracy</th>\n",
       "      <th id=\"T_c439f_level0_col2\" class=\"col_heading level0 col2\" >AUC</th>\n",
       "      <th id=\"T_c439f_level0_col3\" class=\"col_heading level0 col3\" >Recall</th>\n",
       "      <th id=\"T_c439f_level0_col4\" class=\"col_heading level0 col4\" >Prec.</th>\n",
       "      <th id=\"T_c439f_level0_col5\" class=\"col_heading level0 col5\" >F1</th>\n",
       "      <th id=\"T_c439f_level0_col6\" class=\"col_heading level0 col6\" >Kappa</th>\n",
       "      <th id=\"T_c439f_level0_col7\" class=\"col_heading level0 col7\" >MCC</th>\n",
       "    </tr>\n",
       "  </thead>\n",
       "  <tbody>\n",
       "    <tr>\n",
       "      <th id=\"T_c439f_level0_row0\" class=\"row_heading level0 row0\" >0</th>\n",
       "      <td id=\"T_c439f_row0_col0\" class=\"data row0 col0\" >Random Forest Classifier</td>\n",
       "      <td id=\"T_c439f_row0_col1\" class=\"data row0 col1\" >0.6107</td>\n",
       "      <td id=\"T_c439f_row0_col2\" class=\"data row0 col2\" >0.6346</td>\n",
       "      <td id=\"T_c439f_row0_col3\" class=\"data row0 col3\" >0.7619</td>\n",
       "      <td id=\"T_c439f_row0_col4\" class=\"data row0 col4\" >0.6405</td>\n",
       "      <td id=\"T_c439f_row0_col5\" class=\"data row0 col5\" >0.6959</td>\n",
       "      <td id=\"T_c439f_row0_col6\" class=\"data row0 col6\" >0.1662</td>\n",
       "      <td id=\"T_c439f_row0_col7\" class=\"data row0 col7\" >0.1711</td>\n",
       "    </tr>\n",
       "  </tbody>\n",
       "</table>\n"
      ],
      "text/plain": [
       "<pandas.io.formats.style.Styler at 0x7f6921881510>"
      ]
     },
     "metadata": {},
     "output_type": "display_data"
    }
   ],
   "source": [
    "test_prediction_lr = predict_and_odds(test_data, regression_model_lr)\n",
    "test_prediction_gbc = predict_and_odds(test_data, regression_model_gbc)\n",
    "test_prediction_lightgbm = predict_and_odds(test_data, regression_model_lightgbm)\n",
    "test_prediction_rf = predict_and_odds(test_data, regression_model_rf)"
   ]
  },
  {
   "cell_type": "code",
   "execution_count": 78,
   "metadata": {
    "execution": {
     "iopub.execute_input": "2023-06-15T23:49:57.737711Z",
     "iopub.status.busy": "2023-06-15T23:49:57.737109Z",
     "iopub.status.idle": "2023-06-15T23:49:57.755603Z",
     "shell.execute_reply": "2023-06-15T23:49:57.754924Z",
     "shell.execute_reply.started": "2023-06-15T23:49:57.737660Z"
    }
   },
   "outputs": [
    {
     "name": "stdout",
     "output_type": "stream",
     "text": [
      "(159, 0.7044025157232704)\n",
      "(51, 0.7647058823529411)\n",
      "(20, 0.9)\n",
      "(6, 1.0)\n",
      "(2, 1.0)\n"
     ]
    }
   ],
   "source": [
    "print(get_eval_profile(test_prediction_lr, 0.6))\n",
    "print(get_eval_profile(test_prediction_lr, 0.7))\n",
    "print(get_eval_profile(test_prediction_lr, 0.75))\n",
    "print(get_eval_profile(test_prediction_lr, 0.80))\n",
    "print(get_eval_profile(test_prediction_lr, 0.85))"
   ]
  },
  {
   "cell_type": "code",
   "execution_count": 79,
   "metadata": {
    "execution": {
     "iopub.execute_input": "2023-06-15T23:50:00.434696Z",
     "iopub.status.busy": "2023-06-15T23:50:00.434132Z",
     "iopub.status.idle": "2023-06-15T23:50:00.450857Z",
     "shell.execute_reply": "2023-06-15T23:50:00.450299Z",
     "shell.execute_reply.started": "2023-06-15T23:50:00.434641Z"
    }
   },
   "outputs": [
    {
     "name": "stdout",
     "output_type": "stream",
     "text": [
      "(163, 0.7116564417177914)\n",
      "(45, 0.7111111111111111)\n",
      "(18, 0.8333333333333334)\n",
      "(12, 0.9166666666666666)\n",
      "(4, 0.75)\n"
     ]
    }
   ],
   "source": [
    "print(get_eval_profile(test_prediction_gbc, 0.6))\n",
    "print(get_eval_profile(test_prediction_gbc, 0.7))\n",
    "print(get_eval_profile(test_prediction_gbc, 0.75))\n",
    "print(get_eval_profile(test_prediction_gbc, 0.80))\n",
    "print(get_eval_profile(test_prediction_gbc, 0.85))"
   ]
  },
  {
   "cell_type": "code",
   "execution_count": 80,
   "metadata": {
    "execution": {
     "iopub.execute_input": "2023-06-15T23:50:06.360723Z",
     "iopub.status.busy": "2023-06-15T23:50:06.359982Z",
     "iopub.status.idle": "2023-06-15T23:50:06.378416Z",
     "shell.execute_reply": "2023-06-15T23:50:06.377554Z",
     "shell.execute_reply.started": "2023-06-15T23:50:06.360668Z"
    }
   },
   "outputs": [
    {
     "name": "stdout",
     "output_type": "stream",
     "text": [
      "(164, 0.676829268292683)\n",
      "(76, 0.6842105263157895)\n",
      "(50, 0.7)\n",
      "(29, 0.8275862068965517)\n",
      "(10, 0.9)\n"
     ]
    }
   ],
   "source": [
    "print(get_eval_profile(test_prediction_lightgbm, 0.6))\n",
    "print(get_eval_profile(test_prediction_lightgbm, 0.7))\n",
    "print(get_eval_profile(test_prediction_lightgbm, 0.75))\n",
    "print(get_eval_profile(test_prediction_lightgbm, 0.80))\n",
    "print(get_eval_profile(test_prediction_lightgbm, 0.85))"
   ]
  },
  {
   "cell_type": "code",
   "execution_count": 81,
   "metadata": {
    "execution": {
     "iopub.execute_input": "2023-06-15T23:50:06.495493Z",
     "iopub.status.busy": "2023-06-15T23:50:06.495052Z",
     "iopub.status.idle": "2023-06-15T23:50:06.520031Z",
     "shell.execute_reply": "2023-06-15T23:50:06.519034Z",
     "shell.execute_reply.started": "2023-06-15T23:50:06.495469Z"
    }
   },
   "outputs": [
    {
     "name": "stdout",
     "output_type": "stream",
     "text": [
      "(164, 0.6829268292682927)\n",
      "(67, 0.7164179104477612)\n",
      "(32, 0.875)\n",
      "(12, 1.0)\n",
      "(6, 1.0)\n"
     ]
    }
   ],
   "source": [
    "print(get_eval_profile(test_prediction_rf, 0.6))\n",
    "print(get_eval_profile(test_prediction_rf, 0.7))\n",
    "print(get_eval_profile(test_prediction_rf, 0.75))\n",
    "print(get_eval_profile(test_prediction_rf, 0.80))\n",
    "print(get_eval_profile(test_prediction_rf, 0.85))"
   ]
  },
  {
   "cell_type": "code",
   "execution_count": null,
   "metadata": {},
   "outputs": [],
   "source": []
  },
  {
   "cell_type": "markdown",
   "metadata": {
    "id": "sOfz0zBX994h"
   },
   "source": [
    "**Finalize Model**"
   ]
  },
  {
   "cell_type": "code",
   "execution_count": 82,
   "metadata": {
    "colab": {
     "base_uri": "https://localhost:8080/",
     "height": 34
    },
    "execution": {
     "iopub.execute_input": "2023-06-15T23:58:49.214721Z",
     "iopub.status.busy": "2023-06-15T23:58:49.214403Z",
     "iopub.status.idle": "2023-06-16T00:00:53.452893Z",
     "shell.execute_reply": "2023-06-16T00:00:53.452377Z",
     "shell.execute_reply.started": "2023-06-15T23:58:49.214698Z"
    },
    "id": "gutfxdh8-DKy",
    "outputId": "2e862724-33f5-45f0-ed52-aade46f98c7d"
   },
   "outputs": [],
   "source": [
    "# train over the whole dataset without validation split\n",
    "regression_model_finalized_lr = pycaret.classification.finalize_model(regression_model_lr)\n",
    "regression_model_finalized_gbc = pycaret.classification.finalize_model(regression_model_gbc)\n",
    "regression_model_finalized_lightgbm = pycaret.classification.finalize_model(regression_model_lightgbm)\n",
    "regression_model_finalized_rf = pycaret.classification.finalize_model(regression_model_rf)"
   ]
  },
  {
   "cell_type": "code",
   "execution_count": 83,
   "metadata": {
    "execution": {
     "iopub.execute_input": "2023-06-16T00:00:53.453746Z",
     "iopub.status.busy": "2023-06-16T00:00:53.453615Z",
     "iopub.status.idle": "2023-06-16T00:00:54.337634Z",
     "shell.execute_reply": "2023-06-16T00:00:54.337096Z",
     "shell.execute_reply.started": "2023-06-16T00:00:53.453735Z"
    }
   },
   "outputs": [
    {
     "data": {
      "text/html": [
       "<style type=\"text/css\">\n",
       "</style>\n",
       "<table id=\"T_8e525\">\n",
       "  <thead>\n",
       "    <tr>\n",
       "      <th class=\"blank level0\" >&nbsp;</th>\n",
       "      <th id=\"T_8e525_level0_col0\" class=\"col_heading level0 col0\" >Model</th>\n",
       "      <th id=\"T_8e525_level0_col1\" class=\"col_heading level0 col1\" >Accuracy</th>\n",
       "      <th id=\"T_8e525_level0_col2\" class=\"col_heading level0 col2\" >AUC</th>\n",
       "      <th id=\"T_8e525_level0_col3\" class=\"col_heading level0 col3\" >Recall</th>\n",
       "      <th id=\"T_8e525_level0_col4\" class=\"col_heading level0 col4\" >Prec.</th>\n",
       "      <th id=\"T_8e525_level0_col5\" class=\"col_heading level0 col5\" >F1</th>\n",
       "      <th id=\"T_8e525_level0_col6\" class=\"col_heading level0 col6\" >Kappa</th>\n",
       "      <th id=\"T_8e525_level0_col7\" class=\"col_heading level0 col7\" >MCC</th>\n",
       "    </tr>\n",
       "  </thead>\n",
       "  <tbody>\n",
       "    <tr>\n",
       "      <th id=\"T_8e525_level0_row0\" class=\"row_heading level0 row0\" >0</th>\n",
       "      <td id=\"T_8e525_row0_col0\" class=\"data row0 col0\" >Logistic Regression</td>\n",
       "      <td id=\"T_8e525_row0_col1\" class=\"data row0 col1\" >0.5920</td>\n",
       "      <td id=\"T_8e525_row0_col2\" class=\"data row0 col2\" >0.6180</td>\n",
       "      <td id=\"T_8e525_row0_col3\" class=\"data row0 col3\" >0.7554</td>\n",
       "      <td id=\"T_8e525_row0_col4\" class=\"data row0 col4\" >0.6250</td>\n",
       "      <td id=\"T_8e525_row0_col5\" class=\"data row0 col5\" >0.6840</td>\n",
       "      <td id=\"T_8e525_row0_col6\" class=\"data row0 col6\" >0.1227</td>\n",
       "      <td id=\"T_8e525_row0_col7\" class=\"data row0 col7\" >0.1271</td>\n",
       "    </tr>\n",
       "  </tbody>\n",
       "</table>\n"
      ],
      "text/plain": [
       "<pandas.io.formats.style.Styler at 0x7f6973f0e650>"
      ]
     },
     "metadata": {},
     "output_type": "display_data"
    },
    {
     "data": {
      "text/html": [
       "<style type=\"text/css\">\n",
       "</style>\n",
       "<table id=\"T_881c5\">\n",
       "  <thead>\n",
       "    <tr>\n",
       "      <th class=\"blank level0\" >&nbsp;</th>\n",
       "      <th id=\"T_881c5_level0_col0\" class=\"col_heading level0 col0\" >Model</th>\n",
       "      <th id=\"T_881c5_level0_col1\" class=\"col_heading level0 col1\" >Accuracy</th>\n",
       "      <th id=\"T_881c5_level0_col2\" class=\"col_heading level0 col2\" >AUC</th>\n",
       "      <th id=\"T_881c5_level0_col3\" class=\"col_heading level0 col3\" >Recall</th>\n",
       "      <th id=\"T_881c5_level0_col4\" class=\"col_heading level0 col4\" >Prec.</th>\n",
       "      <th id=\"T_881c5_level0_col5\" class=\"col_heading level0 col5\" >F1</th>\n",
       "      <th id=\"T_881c5_level0_col6\" class=\"col_heading level0 col6\" >Kappa</th>\n",
       "      <th id=\"T_881c5_level0_col7\" class=\"col_heading level0 col7\" >MCC</th>\n",
       "    </tr>\n",
       "  </thead>\n",
       "  <tbody>\n",
       "    <tr>\n",
       "      <th id=\"T_881c5_level0_row0\" class=\"row_heading level0 row0\" >0</th>\n",
       "      <td id=\"T_881c5_row0_col0\" class=\"data row0 col0\" >Gradient Boosting Classifier</td>\n",
       "      <td id=\"T_881c5_row0_col1\" class=\"data row0 col1\" >0.6075</td>\n",
       "      <td id=\"T_881c5_row0_col2\" class=\"data row0 col2\" >0.6311</td>\n",
       "      <td id=\"T_881c5_row0_col3\" class=\"data row0 col3\" >0.7970</td>\n",
       "      <td id=\"T_881c5_row0_col4\" class=\"data row0 col4\" >0.6299</td>\n",
       "      <td id=\"T_881c5_row0_col5\" class=\"data row0 col5\" >0.7037</td>\n",
       "      <td id=\"T_881c5_row0_col6\" class=\"data row0 col6\" >0.1457</td>\n",
       "      <td id=\"T_881c5_row0_col7\" class=\"data row0 col7\" >0.1548</td>\n",
       "    </tr>\n",
       "  </tbody>\n",
       "</table>\n"
      ],
      "text/plain": [
       "<pandas.io.formats.style.Styler at 0x7f692185a800>"
      ]
     },
     "metadata": {},
     "output_type": "display_data"
    },
    {
     "data": {
      "text/html": [
       "<style type=\"text/css\">\n",
       "</style>\n",
       "<table id=\"T_fc49d\">\n",
       "  <thead>\n",
       "    <tr>\n",
       "      <th class=\"blank level0\" >&nbsp;</th>\n",
       "      <th id=\"T_fc49d_level0_col0\" class=\"col_heading level0 col0\" >Model</th>\n",
       "      <th id=\"T_fc49d_level0_col1\" class=\"col_heading level0 col1\" >Accuracy</th>\n",
       "      <th id=\"T_fc49d_level0_col2\" class=\"col_heading level0 col2\" >AUC</th>\n",
       "      <th id=\"T_fc49d_level0_col3\" class=\"col_heading level0 col3\" >Recall</th>\n",
       "      <th id=\"T_fc49d_level0_col4\" class=\"col_heading level0 col4\" >Prec.</th>\n",
       "      <th id=\"T_fc49d_level0_col5\" class=\"col_heading level0 col5\" >F1</th>\n",
       "      <th id=\"T_fc49d_level0_col6\" class=\"col_heading level0 col6\" >Kappa</th>\n",
       "      <th id=\"T_fc49d_level0_col7\" class=\"col_heading level0 col7\" >MCC</th>\n",
       "    </tr>\n",
       "  </thead>\n",
       "  <tbody>\n",
       "    <tr>\n",
       "      <th id=\"T_fc49d_level0_row0\" class=\"row_heading level0 row0\" >0</th>\n",
       "      <td id=\"T_fc49d_row0_col0\" class=\"data row0 col0\" >Light Gradient Boosting Machine</td>\n",
       "      <td id=\"T_fc49d_row0_col1\" class=\"data row0 col1\" >0.5787</td>\n",
       "      <td id=\"T_fc49d_row0_col2\" class=\"data row0 col2\" >0.6080</td>\n",
       "      <td id=\"T_fc49d_row0_col3\" class=\"data row0 col3\" >0.7188</td>\n",
       "      <td id=\"T_fc49d_row0_col4\" class=\"data row0 col4\" >0.6206</td>\n",
       "      <td id=\"T_fc49d_row0_col5\" class=\"data row0 col5\" >0.6661</td>\n",
       "      <td id=\"T_fc49d_row0_col6\" class=\"data row0 col6\" >0.1036</td>\n",
       "      <td id=\"T_fc49d_row0_col7\" class=\"data row0 col7\" >0.1057</td>\n",
       "    </tr>\n",
       "  </tbody>\n",
       "</table>\n"
      ],
      "text/plain": [
       "<pandas.io.formats.style.Styler at 0x7f6921859120>"
      ]
     },
     "metadata": {},
     "output_type": "display_data"
    },
    {
     "data": {
      "text/html": [
       "<style type=\"text/css\">\n",
       "</style>\n",
       "<table id=\"T_7ba77\">\n",
       "  <thead>\n",
       "    <tr>\n",
       "      <th class=\"blank level0\" >&nbsp;</th>\n",
       "      <th id=\"T_7ba77_level0_col0\" class=\"col_heading level0 col0\" >Model</th>\n",
       "      <th id=\"T_7ba77_level0_col1\" class=\"col_heading level0 col1\" >Accuracy</th>\n",
       "      <th id=\"T_7ba77_level0_col2\" class=\"col_heading level0 col2\" >AUC</th>\n",
       "      <th id=\"T_7ba77_level0_col3\" class=\"col_heading level0 col3\" >Recall</th>\n",
       "      <th id=\"T_7ba77_level0_col4\" class=\"col_heading level0 col4\" >Prec.</th>\n",
       "      <th id=\"T_7ba77_level0_col5\" class=\"col_heading level0 col5\" >F1</th>\n",
       "      <th id=\"T_7ba77_level0_col6\" class=\"col_heading level0 col6\" >Kappa</th>\n",
       "      <th id=\"T_7ba77_level0_col7\" class=\"col_heading level0 col7\" >MCC</th>\n",
       "    </tr>\n",
       "  </thead>\n",
       "  <tbody>\n",
       "    <tr>\n",
       "      <th id=\"T_7ba77_level0_row0\" class=\"row_heading level0 row0\" >0</th>\n",
       "      <td id=\"T_7ba77_row0_col0\" class=\"data row0 col0\" >Random Forest Classifier</td>\n",
       "      <td id=\"T_7ba77_row0_col1\" class=\"data row0 col1\" >0.6193</td>\n",
       "      <td id=\"T_7ba77_row0_col2\" class=\"data row0 col2\" >0.6356</td>\n",
       "      <td id=\"T_7ba77_row0_col3\" class=\"data row0 col3\" >0.7739</td>\n",
       "      <td id=\"T_7ba77_row0_col4\" class=\"data row0 col4\" >0.6454</td>\n",
       "      <td id=\"T_7ba77_row0_col5\" class=\"data row0 col5\" >0.7039</td>\n",
       "      <td id=\"T_7ba77_row0_col6\" class=\"data row0 col6\" >0.1829</td>\n",
       "      <td id=\"T_7ba77_row0_col7\" class=\"data row0 col7\" >0.1889</td>\n",
       "    </tr>\n",
       "  </tbody>\n",
       "</table>\n"
      ],
      "text/plain": [
       "<pandas.io.formats.style.Styler at 0x7f6921275210>"
      ]
     },
     "metadata": {},
     "output_type": "display_data"
    }
   ],
   "source": [
    "test_finalized_prediction_lr = predict_and_odds(test_data, regression_model_finalized_lr)\n",
    "test_finalized_prediction_gbc = predict_and_odds(test_data, regression_model_finalized_gbc)\n",
    "test_finalized_prediction_lightgbm = predict_and_odds(test_data, regression_model_finalized_lightgbm)\n",
    "test_finalized_prediction_rf = predict_and_odds(test_data, regression_model_finalized_rf)"
   ]
  },
  {
   "cell_type": "code",
   "execution_count": 84,
   "metadata": {
    "execution": {
     "iopub.execute_input": "2023-06-16T00:00:54.338399Z",
     "iopub.status.busy": "2023-06-16T00:00:54.338241Z",
     "iopub.status.idle": "2023-06-16T00:00:54.351694Z",
     "shell.execute_reply": "2023-06-16T00:00:54.351008Z",
     "shell.execute_reply.started": "2023-06-16T00:00:54.338386Z"
    }
   },
   "outputs": [
    {
     "name": "stdout",
     "output_type": "stream",
     "text": [
      "(147, 0.6938775510204082)\n",
      "(47, 0.8085106382978723)\n",
      "(18, 0.9444444444444444)\n",
      "(4, 1.0)\n",
      "(2, 1.0)\n"
     ]
    }
   ],
   "source": [
    "print(get_eval_profile(test_finalized_prediction_lr, 0.6))\n",
    "print(get_eval_profile(test_finalized_prediction_lr, 0.7))\n",
    "print(get_eval_profile(test_finalized_prediction_lr, 0.75))\n",
    "print(get_eval_profile(test_finalized_prediction_lr, 0.80))\n",
    "print(get_eval_profile(test_finalized_prediction_lr, 0.85))"
   ]
  },
  {
   "cell_type": "code",
   "execution_count": 85,
   "metadata": {
    "execution": {
     "iopub.execute_input": "2023-06-16T00:00:54.352769Z",
     "iopub.status.busy": "2023-06-16T00:00:54.352629Z",
     "iopub.status.idle": "2023-06-16T00:00:54.368929Z",
     "shell.execute_reply": "2023-06-16T00:00:54.368316Z",
     "shell.execute_reply.started": "2023-06-16T00:00:54.352757Z"
    }
   },
   "outputs": [
    {
     "name": "stdout",
     "output_type": "stream",
     "text": [
      "(160, 0.725)\n",
      "(43, 0.7209302325581395)\n",
      "(22, 0.9090909090909091)\n",
      "(12, 0.9166666666666666)\n",
      "(7, 0.8571428571428571)\n"
     ]
    }
   ],
   "source": [
    "print(get_eval_profile(test_finalized_prediction_gbc, 0.6))\n",
    "print(get_eval_profile(test_finalized_prediction_gbc, 0.7))\n",
    "print(get_eval_profile(test_finalized_prediction_gbc, 0.75))\n",
    "print(get_eval_profile(test_finalized_prediction_gbc, 0.80))\n",
    "print(get_eval_profile(test_finalized_prediction_gbc, 0.85))"
   ]
  },
  {
   "cell_type": "code",
   "execution_count": 86,
   "metadata": {
    "execution": {
     "iopub.execute_input": "2023-06-16T00:00:54.369584Z",
     "iopub.status.busy": "2023-06-16T00:00:54.369467Z",
     "iopub.status.idle": "2023-06-16T00:00:54.384698Z",
     "shell.execute_reply": "2023-06-16T00:00:54.383946Z",
     "shell.execute_reply.started": "2023-06-16T00:00:54.369573Z"
    }
   },
   "outputs": [
    {
     "name": "stdout",
     "output_type": "stream",
     "text": [
      "(154, 0.6883116883116883)\n",
      "(72, 0.7638888888888888)\n",
      "(42, 0.8333333333333334)\n",
      "(23, 0.8695652173913043)\n",
      "(10, 1.0)\n"
     ]
    }
   ],
   "source": [
    "print(get_eval_profile(test_finalized_prediction_lightgbm, 0.6))\n",
    "print(get_eval_profile(test_finalized_prediction_lightgbm, 0.7))\n",
    "print(get_eval_profile(test_finalized_prediction_lightgbm, 0.75))\n",
    "print(get_eval_profile(test_finalized_prediction_lightgbm, 0.80))\n",
    "print(get_eval_profile(test_finalized_prediction_lightgbm, 0.85))"
   ]
  },
  {
   "cell_type": "code",
   "execution_count": 87,
   "metadata": {
    "execution": {
     "iopub.execute_input": "2023-06-16T00:00:54.385471Z",
     "iopub.status.busy": "2023-06-16T00:00:54.385315Z",
     "iopub.status.idle": "2023-06-16T00:00:54.398062Z",
     "shell.execute_reply": "2023-06-16T00:00:54.397546Z",
     "shell.execute_reply.started": "2023-06-16T00:00:54.385457Z"
    }
   },
   "outputs": [
    {
     "name": "stdout",
     "output_type": "stream",
     "text": [
      "(168, 0.6785714285714286)\n",
      "(70, 0.7)\n",
      "(29, 0.7931034482758621)\n",
      "(13, 0.8461538461538461)\n",
      "(3, 1.0)\n"
     ]
    }
   ],
   "source": [
    "print(get_eval_profile(test_finalized_prediction_rf, 0.6))\n",
    "print(get_eval_profile(test_finalized_prediction_rf, 0.7))\n",
    "print(get_eval_profile(test_finalized_prediction_rf, 0.75))\n",
    "print(get_eval_profile(test_finalized_prediction_rf, 0.80))\n",
    "print(get_eval_profile(test_finalized_prediction_rf, 0.85))"
   ]
  },
  {
   "cell_type": "markdown",
   "metadata": {},
   "source": [
    "**Save Model**"
   ]
  },
  {
   "cell_type": "code",
   "execution_count": 191,
   "metadata": {
    "execution": {
     "iopub.execute_input": "2023-06-09T00:00:14.182145Z",
     "iopub.status.busy": "2023-06-09T00:00:14.181858Z",
     "iopub.status.idle": "2023-06-09T00:00:14.487969Z",
     "shell.execute_reply": "2023-06-09T00:00:14.487550Z",
     "shell.execute_reply.started": "2023-06-09T00:00:14.182126Z"
    }
   },
   "outputs": [
    {
     "name": "stdout",
     "output_type": "stream",
     "text": [
      "Transformation Pipeline and Model Successfully Saved\n"
     ]
    },
    {
     "data": {
      "text/plain": [
       "(Pipeline(memory=FastMemory(location=/tmp/joblib),\n",
       "          steps=[('numerical_imputer',\n",
       "                  TransformerWrapper(exclude=None,\n",
       "                                     include=['pitching_gamesPlayed',\n",
       "                                              'pitching_runs_per_game',\n",
       "                                              'pitching_strikeOuts_per_game',\n",
       "                                              'pitching_hits_per_game',\n",
       "                                              'batting_gamesPlayed',\n",
       "                                              'batting_runs_per_game',\n",
       "                                              'batting_strikeOuts_per_game',\n",
       "                                              'batting_hits_per_game',\n",
       "                                              'batting_rbi',\n",
       "                                              'pitching_cur_...\n",
       "                                                                                         random_state=1065,\n",
       "                                                                                         verbose=0,\n",
       "                                                                                         warm_start=False),\n",
       "                                                       criterion='gini',\n",
       "                                                       max_depth=None,\n",
       "                                                       max_features='sqrt',\n",
       "                                                       max_leaf_nodes=None,\n",
       "                                                       max_samples=None,\n",
       "                                                       min_impurity_decrease=0.0,\n",
       "                                                       min_samples_leaf=1,\n",
       "                                                       min_samples_split=2,\n",
       "                                                       min_weight_fraction_leaf=0.0,\n",
       "                                                       n_estimators=100,\n",
       "                                                       n_jobs=-1,\n",
       "                                                       oob_score=False,\n",
       "                                                       probability_threshold=0.5,\n",
       "                                                       random_state=1065,\n",
       "                                                       verbose=0,\n",
       "                                                       warm_start=False))],\n",
       "          verbose=False),\n",
       " 'model/batter_hit_regression_model.pkl')"
      ]
     },
     "execution_count": 191,
     "metadata": {},
     "output_type": "execute_result"
    }
   ],
   "source": [
    "pycaret.classification.save_model(regression_model_finalized_rf, model.common.model_file_name)"
   ]
  },
  {
   "cell_type": "code",
   "execution_count": null,
   "metadata": {},
   "outputs": [],
   "source": []
  }
 ],
 "metadata": {
  "colab": {
   "provenance": []
  },
  "kernelspec": {
   "display_name": "Python 3 (ipykernel)",
   "language": "python",
   "name": "python3"
  },
  "language_info": {
   "codemirror_mode": {
    "name": "ipython",
    "version": 3
   },
   "file_extension": ".py",
   "mimetype": "text/x-python",
   "name": "python",
   "nbconvert_exporter": "python",
   "pygments_lexer": "ipython3",
   "version": "3.10.6"
  },
  "widgets": {
   "application/vnd.jupyter.widget-state+json": {
    "1ac32fe9102d4f5a9d1511e64a1d5e5d": {
     "model_module": "@jupyter-widgets/base",
     "model_module_version": "1.2.0",
     "model_name": "LayoutModel",
     "state": {
      "_model_module": "@jupyter-widgets/base",
      "_model_module_version": "1.2.0",
      "_model_name": "LayoutModel",
      "_view_count": null,
      "_view_module": "@jupyter-widgets/base",
      "_view_module_version": "1.2.0",
      "_view_name": "LayoutView",
      "align_content": null,
      "align_items": null,
      "align_self": null,
      "border": null,
      "bottom": null,
      "display": null,
      "flex": null,
      "flex_flow": null,
      "grid_area": null,
      "grid_auto_columns": null,
      "grid_auto_flow": null,
      "grid_auto_rows": null,
      "grid_column": null,
      "grid_gap": null,
      "grid_row": null,
      "grid_template_areas": null,
      "grid_template_columns": null,
      "grid_template_rows": null,
      "height": null,
      "justify_content": null,
      "justify_items": null,
      "left": null,
      "margin": null,
      "max_height": null,
      "max_width": null,
      "min_height": null,
      "min_width": null,
      "object_fit": null,
      "object_position": null,
      "order": null,
      "overflow": null,
      "overflow_x": null,
      "overflow_y": null,
      "padding": null,
      "right": null,
      "top": null,
      "visibility": null,
      "width": null
     }
    },
    "40b50c57e470496cb6c94a0693636fd7": {
     "model_module": "@jupyter-widgets/base",
     "model_module_version": "1.2.0",
     "model_name": "LayoutModel",
     "state": {
      "_model_module": "@jupyter-widgets/base",
      "_model_module_version": "1.2.0",
      "_model_name": "LayoutModel",
      "_view_count": null,
      "_view_module": "@jupyter-widgets/base",
      "_view_module_version": "1.2.0",
      "_view_name": "LayoutView",
      "align_content": null,
      "align_items": null,
      "align_self": null,
      "border": null,
      "bottom": null,
      "display": null,
      "flex": null,
      "flex_flow": null,
      "grid_area": null,
      "grid_auto_columns": null,
      "grid_auto_flow": null,
      "grid_auto_rows": null,
      "grid_column": null,
      "grid_gap": null,
      "grid_row": null,
      "grid_template_areas": null,
      "grid_template_columns": null,
      "grid_template_rows": null,
      "height": null,
      "justify_content": null,
      "justify_items": null,
      "left": null,
      "margin": null,
      "max_height": null,
      "max_width": null,
      "min_height": null,
      "min_width": null,
      "object_fit": null,
      "object_position": null,
      "order": null,
      "overflow": null,
      "overflow_x": null,
      "overflow_y": null,
      "padding": null,
      "right": null,
      "top": null,
      "visibility": "hidden",
      "width": null
     }
    },
    "46b9d3b6cd6e4f76a42dd4f216dc1644": {
     "model_module": "@jupyter-widgets/controls",
     "model_module_version": "1.5.0",
     "model_name": "HBoxModel",
     "state": {
      "_dom_classes": [],
      "_model_module": "@jupyter-widgets/controls",
      "_model_module_version": "1.5.0",
      "_model_name": "HBoxModel",
      "_view_count": null,
      "_view_module": "@jupyter-widgets/controls",
      "_view_module_version": "1.5.0",
      "_view_name": "HBoxView",
      "box_style": "",
      "children": [
       "IPY_MODEL_cfce22755aa7471a87151793e633def1",
       "IPY_MODEL_94d7b3dc65544425b2463933c4108fa4",
       "IPY_MODEL_f92582f04a594f87a669f3c1c4d4eabc"
      ],
      "layout": "IPY_MODEL_40b50c57e470496cb6c94a0693636fd7"
     }
    },
    "4efa6d0ab419418ea9e4991c77b1ec42": {
     "model_module": "@jupyter-widgets/controls",
     "model_module_version": "1.5.0",
     "model_name": "ProgressStyleModel",
     "state": {
      "_model_module": "@jupyter-widgets/controls",
      "_model_module_version": "1.5.0",
      "_model_name": "ProgressStyleModel",
      "_view_count": null,
      "_view_module": "@jupyter-widgets/base",
      "_view_module_version": "1.2.0",
      "_view_name": "StyleView",
      "bar_color": null,
      "description_width": ""
     }
    },
    "81feddb738c64cbc8b7dbc7aec2730de": {
     "model_module": "@jupyter-widgets/controls",
     "model_module_version": "1.5.0",
     "model_name": "DescriptionStyleModel",
     "state": {
      "_model_module": "@jupyter-widgets/controls",
      "_model_module_version": "1.5.0",
      "_model_name": "DescriptionStyleModel",
      "_view_count": null,
      "_view_module": "@jupyter-widgets/base",
      "_view_module_version": "1.2.0",
      "_view_name": "StyleView",
      "description_width": ""
     }
    },
    "94d7b3dc65544425b2463933c4108fa4": {
     "model_module": "@jupyter-widgets/controls",
     "model_module_version": "1.5.0",
     "model_name": "FloatProgressModel",
     "state": {
      "_dom_classes": [],
      "_model_module": "@jupyter-widgets/controls",
      "_model_module_version": "1.5.0",
      "_model_name": "FloatProgressModel",
      "_view_count": null,
      "_view_module": "@jupyter-widgets/controls",
      "_view_module_version": "1.5.0",
      "_view_name": "ProgressView",
      "bar_style": "",
      "description": "",
      "description_tooltip": null,
      "layout": "IPY_MODEL_eb74dfbcca4a458eb81d87fbae5bf166",
      "max": 4,
      "min": 0,
      "orientation": "horizontal",
      "style": "IPY_MODEL_4efa6d0ab419418ea9e4991c77b1ec42",
      "value": 4
     }
    },
    "bec03081ad154466a3a0abca5a8462f4": {
     "model_module": "@jupyter-widgets/base",
     "model_module_version": "1.2.0",
     "model_name": "LayoutModel",
     "state": {
      "_model_module": "@jupyter-widgets/base",
      "_model_module_version": "1.2.0",
      "_model_name": "LayoutModel",
      "_view_count": null,
      "_view_module": "@jupyter-widgets/base",
      "_view_module_version": "1.2.0",
      "_view_name": "LayoutView",
      "align_content": null,
      "align_items": null,
      "align_self": null,
      "border": null,
      "bottom": null,
      "display": null,
      "flex": null,
      "flex_flow": null,
      "grid_area": null,
      "grid_auto_columns": null,
      "grid_auto_flow": null,
      "grid_auto_rows": null,
      "grid_column": null,
      "grid_gap": null,
      "grid_row": null,
      "grid_template_areas": null,
      "grid_template_columns": null,
      "grid_template_rows": null,
      "height": null,
      "justify_content": null,
      "justify_items": null,
      "left": null,
      "margin": null,
      "max_height": null,
      "max_width": null,
      "min_height": null,
      "min_width": null,
      "object_fit": null,
      "object_position": null,
      "order": null,
      "overflow": null,
      "overflow_x": null,
      "overflow_y": null,
      "padding": null,
      "right": null,
      "top": null,
      "visibility": null,
      "width": null
     }
    },
    "cfcd697393754f1d93106a2d6e07ea05": {
     "model_module": "@jupyter-widgets/controls",
     "model_module_version": "1.5.0",
     "model_name": "DescriptionStyleModel",
     "state": {
      "_model_module": "@jupyter-widgets/controls",
      "_model_module_version": "1.5.0",
      "_model_name": "DescriptionStyleModel",
      "_view_count": null,
      "_view_module": "@jupyter-widgets/base",
      "_view_module_version": "1.2.0",
      "_view_name": "StyleView",
      "description_width": ""
     }
    },
    "cfce22755aa7471a87151793e633def1": {
     "model_module": "@jupyter-widgets/controls",
     "model_module_version": "1.5.0",
     "model_name": "HTMLModel",
     "state": {
      "_dom_classes": [],
      "_model_module": "@jupyter-widgets/controls",
      "_model_module_version": "1.5.0",
      "_model_name": "HTMLModel",
      "_view_count": null,
      "_view_module": "@jupyter-widgets/controls",
      "_view_module_version": "1.5.0",
      "_view_name": "HTMLView",
      "description": "",
      "description_tooltip": null,
      "layout": "IPY_MODEL_bec03081ad154466a3a0abca5a8462f4",
      "placeholder": "​",
      "style": "IPY_MODEL_81feddb738c64cbc8b7dbc7aec2730de",
      "value": "Processing: 100%"
     }
    },
    "eb74dfbcca4a458eb81d87fbae5bf166": {
     "model_module": "@jupyter-widgets/base",
     "model_module_version": "1.2.0",
     "model_name": "LayoutModel",
     "state": {
      "_model_module": "@jupyter-widgets/base",
      "_model_module_version": "1.2.0",
      "_model_name": "LayoutModel",
      "_view_count": null,
      "_view_module": "@jupyter-widgets/base",
      "_view_module_version": "1.2.0",
      "_view_name": "LayoutView",
      "align_content": null,
      "align_items": null,
      "align_self": null,
      "border": null,
      "bottom": null,
      "display": null,
      "flex": null,
      "flex_flow": null,
      "grid_area": null,
      "grid_auto_columns": null,
      "grid_auto_flow": null,
      "grid_auto_rows": null,
      "grid_column": null,
      "grid_gap": null,
      "grid_row": null,
      "grid_template_areas": null,
      "grid_template_columns": null,
      "grid_template_rows": null,
      "height": null,
      "justify_content": null,
      "justify_items": null,
      "left": null,
      "margin": null,
      "max_height": null,
      "max_width": null,
      "min_height": null,
      "min_width": null,
      "object_fit": null,
      "object_position": null,
      "order": null,
      "overflow": null,
      "overflow_x": null,
      "overflow_y": null,
      "padding": null,
      "right": null,
      "top": null,
      "visibility": null,
      "width": null
     }
    },
    "f92582f04a594f87a669f3c1c4d4eabc": {
     "model_module": "@jupyter-widgets/controls",
     "model_module_version": "1.5.0",
     "model_name": "HTMLModel",
     "state": {
      "_dom_classes": [],
      "_model_module": "@jupyter-widgets/controls",
      "_model_module_version": "1.5.0",
      "_model_name": "HTMLModel",
      "_view_count": null,
      "_view_module": "@jupyter-widgets/controls",
      "_view_module_version": "1.5.0",
      "_view_name": "HTMLView",
      "description": "",
      "description_tooltip": null,
      "layout": "IPY_MODEL_1ac32fe9102d4f5a9d1511e64a1d5e5d",
      "placeholder": "​",
      "style": "IPY_MODEL_cfcd697393754f1d93106a2d6e07ea05",
      "value": " 4/4 [00:10&lt;00:00,  2.34s/it]"
     }
    }
   }
  }
 },
 "nbformat": 4,
 "nbformat_minor": 4
}
