{
 "cells": [
  {
   "cell_type": "markdown",
   "metadata": {
    "id": "X1V_SUC4p-YQ"
   },
   "source": [
    "**Import Packages**"
   ]
  },
  {
   "cell_type": "code",
   "execution_count": 2,
   "metadata": {
    "colab": {
     "base_uri": "https://localhost:8080/"
    },
    "execution": {
     "iopub.execute_input": "2023-06-08T22:02:44.787553Z",
     "iopub.status.busy": "2023-06-08T22:02:44.786853Z",
     "iopub.status.idle": "2023-06-08T22:02:47.032481Z",
     "shell.execute_reply": "2023-06-08T22:02:47.032087Z",
     "shell.execute_reply.started": "2023-06-08T22:02:44.787504Z"
    },
    "id": "IGZCa25_p5QY",
    "outputId": "d9e7f9d8-21e8-49dd-d344-173324ba79a5",
    "tags": []
   },
   "outputs": [],
   "source": [
    "import pycaret\n",
    "import pandas as pd\n",
    "import numpy as np\n",
    "import sqlalchemy\n",
    "import mysql.connector\n",
    "\n",
    "from pycaret import classification\n",
    "from pycaret.classification import plot_model\n",
    "from datetime import datetime\n",
    "import importlib\n",
    "import model.common"
   ]
  },
  {
   "cell_type": "code",
   "execution_count": 3,
   "metadata": {
    "execution": {
     "iopub.execute_input": "2023-06-08T22:02:47.033272Z",
     "iopub.status.busy": "2023-06-08T22:02:47.033077Z",
     "iopub.status.idle": "2023-06-08T22:02:47.089307Z",
     "shell.execute_reply": "2023-06-08T22:02:47.088083Z",
     "shell.execute_reply.started": "2023-06-08T22:02:47.033261Z"
    }
   },
   "outputs": [],
   "source": [
    "from static_data.load_static_data import *"
   ]
  },
  {
   "cell_type": "code",
   "execution_count": 4,
   "metadata": {
    "execution": {
     "iopub.execute_input": "2023-06-08T22:02:47.091116Z",
     "iopub.status.busy": "2023-06-08T22:02:47.090838Z",
     "iopub.status.idle": "2023-06-08T22:02:47.113576Z",
     "shell.execute_reply": "2023-06-08T22:02:47.112657Z",
     "shell.execute_reply.started": "2023-06-08T22:02:47.091093Z"
    }
   },
   "outputs": [
    {
     "data": {
      "text/html": [
       "<div>\n",
       "<style scoped>\n",
       "    .dataframe tbody tr th:only-of-type {\n",
       "        vertical-align: middle;\n",
       "    }\n",
       "\n",
       "    .dataframe tbody tr th {\n",
       "        vertical-align: top;\n",
       "    }\n",
       "\n",
       "    .dataframe thead th {\n",
       "        text-align: right;\n",
       "    }\n",
       "</style>\n",
       "<table border=\"1\" class=\"dataframe\">\n",
       "  <thead>\n",
       "    <tr style=\"text-align: right;\">\n",
       "      <th></th>\n",
       "      <th>Unnamed: 0</th>\n",
       "      <th>player_id</th>\n",
       "      <th>player_name</th>\n",
       "      <th>player_team_id</th>\n",
       "      <th>player_team_name</th>\n",
       "      <th>player_position</th>\n",
       "    </tr>\n",
       "  </thead>\n",
       "  <tbody>\n",
       "    <tr>\n",
       "      <th>0</th>\n",
       "      <td>0</td>\n",
       "      <td>456167</td>\n",
       "      <td>A.J. Griffin</td>\n",
       "      <td>133</td>\n",
       "      <td>Oakland Athletics</td>\n",
       "      <td>Pitcher</td>\n",
       "    </tr>\n",
       "    <tr>\n",
       "      <th>1</th>\n",
       "      <td>0</td>\n",
       "      <td>134460</td>\n",
       "      <td>A.J. Hinch</td>\n",
       "      <td>133</td>\n",
       "      <td>Oakland Athletics</td>\n",
       "      <td>Catcher</td>\n",
       "    </tr>\n",
       "    <tr>\n",
       "      <th>2</th>\n",
       "      <td>0</td>\n",
       "      <td>640462</td>\n",
       "      <td>A.J. Puk</td>\n",
       "      <td>133</td>\n",
       "      <td>Oakland Athletics</td>\n",
       "      <td>Pitcher</td>\n",
       "    </tr>\n",
       "    <tr>\n",
       "      <th>3</th>\n",
       "      <td>0</td>\n",
       "      <td>605156</td>\n",
       "      <td>Aaron Brooks</td>\n",
       "      <td>133</td>\n",
       "      <td>Oakland Athletics</td>\n",
       "      <td>Pitcher</td>\n",
       "    </tr>\n",
       "    <tr>\n",
       "      <th>4</th>\n",
       "      <td>0</td>\n",
       "      <td>488811</td>\n",
       "      <td>Aaron Cunningham</td>\n",
       "      <td>133</td>\n",
       "      <td>Oakland Athletics</td>\n",
       "      <td>Outfielder</td>\n",
       "    </tr>\n",
       "    <tr>\n",
       "      <th>...</th>\n",
       "      <td>...</td>\n",
       "      <td>...</td>\n",
       "      <td>...</td>\n",
       "      <td>...</td>\n",
       "      <td>...</td>\n",
       "      <td>...</td>\n",
       "    </tr>\n",
       "    <tr>\n",
       "      <th>44728</th>\n",
       "      <td>0</td>\n",
       "      <td>451596</td>\n",
       "      <td>Yovani Gallardo</td>\n",
       "      <td>113</td>\n",
       "      <td>Cincinnati Reds</td>\n",
       "      <td>Pitcher</td>\n",
       "    </tr>\n",
       "    <tr>\n",
       "      <th>44729</th>\n",
       "      <td>0</td>\n",
       "      <td>435043</td>\n",
       "      <td>Zach Duke</td>\n",
       "      <td>113</td>\n",
       "      <td>Cincinnati Reds</td>\n",
       "      <td>Pitcher</td>\n",
       "    </tr>\n",
       "    <tr>\n",
       "      <th>44730</th>\n",
       "      <td>0</td>\n",
       "      <td>572227</td>\n",
       "      <td>Zach Vincej</td>\n",
       "      <td>113</td>\n",
       "      <td>Cincinnati Reds</td>\n",
       "      <td>Infielder</td>\n",
       "    </tr>\n",
       "    <tr>\n",
       "      <th>44731</th>\n",
       "      <td>0</td>\n",
       "      <td>446359</td>\n",
       "      <td>Zack Cozart</td>\n",
       "      <td>113</td>\n",
       "      <td>Cincinnati Reds</td>\n",
       "      <td>Infielder</td>\n",
       "    </tr>\n",
       "    <tr>\n",
       "      <th>44732</th>\n",
       "      <td>0</td>\n",
       "      <td>592848</td>\n",
       "      <td>Zack Weiss</td>\n",
       "      <td>113</td>\n",
       "      <td>Cincinnati Reds</td>\n",
       "      <td>Pitcher</td>\n",
       "    </tr>\n",
       "  </tbody>\n",
       "</table>\n",
       "<p>44733 rows × 6 columns</p>\n",
       "</div>"
      ],
      "text/plain": [
       "       Unnamed: 0  player_id       player_name  player_team_id  \\\n",
       "0               0     456167      A.J. Griffin             133   \n",
       "1               0     134460        A.J. Hinch             133   \n",
       "2               0     640462          A.J. Puk             133   \n",
       "3               0     605156      Aaron Brooks             133   \n",
       "4               0     488811  Aaron Cunningham             133   \n",
       "...           ...        ...               ...             ...   \n",
       "44728           0     451596   Yovani Gallardo             113   \n",
       "44729           0     435043         Zach Duke             113   \n",
       "44730           0     572227       Zach Vincej             113   \n",
       "44731           0     446359       Zack Cozart             113   \n",
       "44732           0     592848        Zack Weiss             113   \n",
       "\n",
       "        player_team_name player_position  \n",
       "0      Oakland Athletics         Pitcher  \n",
       "1      Oakland Athletics         Catcher  \n",
       "2      Oakland Athletics         Pitcher  \n",
       "3      Oakland Athletics         Pitcher  \n",
       "4      Oakland Athletics      Outfielder  \n",
       "...                  ...             ...  \n",
       "44728    Cincinnati Reds         Pitcher  \n",
       "44729    Cincinnati Reds         Pitcher  \n",
       "44730    Cincinnati Reds       Infielder  \n",
       "44731    Cincinnati Reds       Infielder  \n",
       "44732    Cincinnati Reds         Pitcher  \n",
       "\n",
       "[44733 rows x 6 columns]"
      ]
     },
     "execution_count": 4,
     "metadata": {},
     "output_type": "execute_result"
    }
   ],
   "source": [
    "df_player_team_positions"
   ]
  },
  {
   "cell_type": "markdown",
   "metadata": {
    "id": "jqde2RQfqchC"
   },
   "source": [
    "**Load Data**"
   ]
  },
  {
   "cell_type": "code",
   "execution_count": 5,
   "metadata": {
    "execution": {
     "iopub.execute_input": "2023-06-08T22:02:47.115675Z",
     "iopub.status.busy": "2023-06-08T22:02:47.115405Z",
     "iopub.status.idle": "2023-06-08T22:02:47.119463Z",
     "shell.execute_reply": "2023-06-08T22:02:47.118838Z",
     "shell.execute_reply.started": "2023-06-08T22:02:47.115655Z"
    }
   },
   "outputs": [],
   "source": [
    "collect_data_Base_dir = 'collect_data'"
   ]
  },
  {
   "cell_type": "code",
   "execution_count": 6,
   "metadata": {
    "execution": {
     "iopub.execute_input": "2023-06-08T22:02:47.366760Z",
     "iopub.status.busy": "2023-06-08T22:02:47.366211Z",
     "iopub.status.idle": "2023-06-08T22:02:47.967701Z",
     "shell.execute_reply": "2023-06-08T22:02:47.966806Z",
     "shell.execute_reply.started": "2023-06-08T22:02:47.366738Z"
    }
   },
   "outputs": [
    {
     "name": "stdout",
     "output_type": "stream",
     "text": [
      "322963\n"
     ]
    }
   ],
   "source": [
    "df_game_matchup_total = pd.read_pickle(f'{collect_data_Base_dir}/df_game_matchup_total.pkl')\n",
    "print(len(df_game_matchup_total))"
   ]
  },
  {
   "cell_type": "markdown",
   "metadata": {
    "id": "VkSM5TOeule8"
   },
   "source": [
    "**Clean Data**"
   ]
  },
  {
   "cell_type": "code",
   "execution_count": 117,
   "metadata": {
    "execution": {
     "iopub.execute_input": "2023-06-08T23:22:04.729080Z",
     "iopub.status.busy": "2023-06-08T23:22:04.728504Z",
     "iopub.status.idle": "2023-06-08T23:22:04.744731Z",
     "shell.execute_reply": "2023-06-08T23:22:04.744164Z",
     "shell.execute_reply.started": "2023-06-08T23:22:04.729052Z"
    }
   },
   "outputs": [
    {
     "data": {
      "text/plain": [
       "<module 'model.common' from '/home/junlim/projects/mlb-props/model/common.py'>"
      ]
     },
     "execution_count": 117,
     "metadata": {},
     "output_type": "execute_result"
    }
   ],
   "source": [
    "importlib.reload(model.common)"
   ]
  },
  {
   "cell_type": "code",
   "execution_count": 8,
   "metadata": {
    "execution": {
     "iopub.execute_input": "2023-06-08T22:02:50.046866Z",
     "iopub.status.busy": "2023-06-08T22:02:50.046537Z",
     "iopub.status.idle": "2023-06-08T22:02:50.055196Z",
     "shell.execute_reply": "2023-06-08T22:02:50.053642Z",
     "shell.execute_reply.started": "2023-06-08T22:02:50.046836Z"
    }
   },
   "outputs": [
    {
     "data": {
      "text/plain": [
       "['game_venue', 'batting_name', 'pitching_name']"
      ]
     },
     "execution_count": 8,
     "metadata": {},
     "output_type": "execute_result"
    }
   ],
   "source": [
    "model.common.categorical_features"
   ]
  },
  {
   "cell_type": "code",
   "execution_count": 9,
   "metadata": {
    "execution": {
     "iopub.execute_input": "2023-06-08T22:02:50.572255Z",
     "iopub.status.busy": "2023-06-08T22:02:50.571578Z",
     "iopub.status.idle": "2023-06-08T22:02:51.103668Z",
     "shell.execute_reply": "2023-06-08T22:02:51.101922Z",
     "shell.execute_reply.started": "2023-06-08T22:02:50.572227Z"
    }
   },
   "outputs": [],
   "source": [
    "train_data = df_game_matchup_total[(df_game_matchup_total.game_date > \"2012-04-01\") & (df_game_matchup_total.game_date < \"2022-12-01\")][model.common.features]\n",
    "test_data = df_game_matchup_total[(df_game_matchup_total.game_date > \"2022-12-01\")][model.common.features]"
   ]
  },
  {
   "cell_type": "code",
   "execution_count": 10,
   "metadata": {
    "execution": {
     "iopub.execute_input": "2023-06-08T22:02:51.700373Z",
     "iopub.status.busy": "2023-06-08T22:02:51.699896Z",
     "iopub.status.idle": "2023-06-08T22:02:51.708361Z",
     "shell.execute_reply": "2023-06-08T22:02:51.707543Z",
     "shell.execute_reply.started": "2023-06-08T22:02:51.700352Z"
    }
   },
   "outputs": [
    {
     "data": {
      "text/plain": [
       "Index(['pitching_gamesPlayed', 'pitching_runs_per_game',\n",
       "       'pitching_strikeOuts_per_game', 'pitching_hits_per_game', 'pitching_id',\n",
       "       'batting_name', 'batting_gamesPlayed', 'batting_runs_per_game',\n",
       "       'batting_strikeOuts_per_game', 'batting_hits_per_game', 'batting_rbi',\n",
       "       'batting_id', 'pitching_name', 'batting_hit_recorded',\n",
       "       'pitching_cur_season_runs_per_game',\n",
       "       'pitching_cur_season_strikeOuts_per_game',\n",
       "       'pitching_cur_season_hits_per_game', 'batting_cur_season_runs_per_game',\n",
       "       'batting_cur_season_strikeOuts_per_game',\n",
       "       'batting_cur_season_hits_per_game', 'temp', 'game_venue', 'game_date',\n",
       "       'game_year'],\n",
       "      dtype='object')"
      ]
     },
     "execution_count": 10,
     "metadata": {},
     "output_type": "execute_result"
    }
   ],
   "source": [
    "train_data.columns"
   ]
  },
  {
   "cell_type": "code",
   "execution_count": 11,
   "metadata": {
    "execution": {
     "iopub.execute_input": "2023-06-08T22:02:52.223885Z",
     "iopub.status.busy": "2023-06-08T22:02:52.223280Z",
     "iopub.status.idle": "2023-06-08T22:02:52.232558Z",
     "shell.execute_reply": "2023-06-08T22:02:52.231524Z",
     "shell.execute_reply.started": "2023-06-08T22:02:52.223851Z"
    }
   },
   "outputs": [
    {
     "data": {
      "text/plain": [
       "Index(['pitching_gamesPlayed', 'pitching_runs_per_game',\n",
       "       'pitching_strikeOuts_per_game', 'pitching_hits_per_game', 'pitching_id',\n",
       "       'batting_name', 'batting_gamesPlayed', 'batting_runs_per_game',\n",
       "       'batting_strikeOuts_per_game', 'batting_hits_per_game', 'batting_rbi',\n",
       "       'batting_id', 'pitching_name', 'batting_hit_recorded',\n",
       "       'pitching_cur_season_runs_per_game',\n",
       "       'pitching_cur_season_strikeOuts_per_game',\n",
       "       'pitching_cur_season_hits_per_game', 'batting_cur_season_runs_per_game',\n",
       "       'batting_cur_season_strikeOuts_per_game',\n",
       "       'batting_cur_season_hits_per_game', 'temp', 'game_venue', 'game_date',\n",
       "       'game_year'],\n",
       "      dtype='object')"
      ]
     },
     "execution_count": 11,
     "metadata": {},
     "output_type": "execute_result"
    }
   ],
   "source": [
    "test_data.columns"
   ]
  },
  {
   "cell_type": "code",
   "execution_count": 12,
   "metadata": {
    "execution": {
     "iopub.execute_input": "2023-06-08T22:02:53.049788Z",
     "iopub.status.busy": "2023-06-08T22:02:53.049314Z",
     "iopub.status.idle": "2023-06-08T22:02:53.058094Z",
     "shell.execute_reply": "2023-06-08T22:02:53.057088Z",
     "shell.execute_reply.started": "2023-06-08T22:02:53.049757Z"
    }
   },
   "outputs": [
    {
     "data": {
      "text/plain": [
       "['game_venue', 'batting_name', 'pitching_name']"
      ]
     },
     "execution_count": 12,
     "metadata": {},
     "output_type": "execute_result"
    }
   ],
   "source": [
    "model.common.categorical_features"
   ]
  },
  {
   "cell_type": "code",
   "execution_count": 13,
   "metadata": {
    "execution": {
     "iopub.execute_input": "2023-06-08T22:02:54.513340Z",
     "iopub.status.busy": "2023-06-08T22:02:54.513119Z",
     "iopub.status.idle": "2023-06-08T22:02:54.517588Z",
     "shell.execute_reply": "2023-06-08T22:02:54.517005Z",
     "shell.execute_reply.started": "2023-06-08T22:02:54.513325Z"
    }
   },
   "outputs": [
    {
     "data": {
      "text/plain": [
       "['pitching_id', 'batting_id', 'game_date', 'game_year']"
      ]
     },
     "execution_count": 13,
     "metadata": {},
     "output_type": "execute_result"
    }
   ],
   "source": [
    "model.common.ignore_features"
   ]
  },
  {
   "cell_type": "markdown",
   "metadata": {
    "id": "-0Pi_iCwvTQd"
   },
   "source": [
    "**Model Setup**"
   ]
  },
  {
   "cell_type": "code",
   "execution_count": 14,
   "metadata": {
    "execution": {
     "iopub.execute_input": "2023-06-08T22:02:56.025835Z",
     "iopub.status.busy": "2023-06-08T22:02:56.025588Z",
     "iopub.status.idle": "2023-06-08T22:02:57.572832Z",
     "shell.execute_reply": "2023-06-08T22:02:57.571359Z",
     "shell.execute_reply.started": "2023-06-08T22:02:56.025817Z"
    },
    "scrolled": true
   },
   "outputs": [
    {
     "data": {
      "text/html": [
       "<style type=\"text/css\">\n",
       "#T_4dc1c_row11_col1 {\n",
       "  background-color: lightgreen;\n",
       "}\n",
       "</style>\n",
       "<table id=\"T_4dc1c\">\n",
       "  <thead>\n",
       "    <tr>\n",
       "      <th class=\"blank level0\" >&nbsp;</th>\n",
       "      <th id=\"T_4dc1c_level0_col0\" class=\"col_heading level0 col0\" >Description</th>\n",
       "      <th id=\"T_4dc1c_level0_col1\" class=\"col_heading level0 col1\" >Value</th>\n",
       "    </tr>\n",
       "  </thead>\n",
       "  <tbody>\n",
       "    <tr>\n",
       "      <th id=\"T_4dc1c_level0_row0\" class=\"row_heading level0 row0\" >0</th>\n",
       "      <td id=\"T_4dc1c_row0_col0\" class=\"data row0 col0\" >Session id</td>\n",
       "      <td id=\"T_4dc1c_row0_col1\" class=\"data row0 col1\" >1065</td>\n",
       "    </tr>\n",
       "    <tr>\n",
       "      <th id=\"T_4dc1c_level0_row1\" class=\"row_heading level0 row1\" >1</th>\n",
       "      <td id=\"T_4dc1c_row1_col0\" class=\"data row1 col0\" >Target</td>\n",
       "      <td id=\"T_4dc1c_row1_col1\" class=\"data row1 col1\" >batting_hit_recorded</td>\n",
       "    </tr>\n",
       "    <tr>\n",
       "      <th id=\"T_4dc1c_level0_row2\" class=\"row_heading level0 row2\" >2</th>\n",
       "      <td id=\"T_4dc1c_row2_col0\" class=\"data row2 col0\" >Target type</td>\n",
       "      <td id=\"T_4dc1c_row2_col1\" class=\"data row2 col1\" >Binary</td>\n",
       "    </tr>\n",
       "    <tr>\n",
       "      <th id=\"T_4dc1c_level0_row3\" class=\"row_heading level0 row3\" >3</th>\n",
       "      <td id=\"T_4dc1c_row3_col0\" class=\"data row3 col0\" >Original data shape</td>\n",
       "      <td id=\"T_4dc1c_row3_col1\" class=\"data row3 col1\" >(285515, 24)</td>\n",
       "    </tr>\n",
       "    <tr>\n",
       "      <th id=\"T_4dc1c_level0_row4\" class=\"row_heading level0 row4\" >4</th>\n",
       "      <td id=\"T_4dc1c_row4_col0\" class=\"data row4 col0\" >Transformed data shape</td>\n",
       "      <td id=\"T_4dc1c_row4_col1\" class=\"data row4 col1\" >(285515, 18)</td>\n",
       "    </tr>\n",
       "    <tr>\n",
       "      <th id=\"T_4dc1c_level0_row5\" class=\"row_heading level0 row5\" >5</th>\n",
       "      <td id=\"T_4dc1c_row5_col0\" class=\"data row5 col0\" >Transformed train set shape</td>\n",
       "      <td id=\"T_4dc1c_row5_col1\" class=\"data row5 col1\" >(199860, 18)</td>\n",
       "    </tr>\n",
       "    <tr>\n",
       "      <th id=\"T_4dc1c_level0_row6\" class=\"row_heading level0 row6\" >6</th>\n",
       "      <td id=\"T_4dc1c_row6_col0\" class=\"data row6 col0\" >Transformed test set shape</td>\n",
       "      <td id=\"T_4dc1c_row6_col1\" class=\"data row6 col1\" >(85655, 18)</td>\n",
       "    </tr>\n",
       "    <tr>\n",
       "      <th id=\"T_4dc1c_level0_row7\" class=\"row_heading level0 row7\" >7</th>\n",
       "      <td id=\"T_4dc1c_row7_col0\" class=\"data row7 col0\" >Ignore features</td>\n",
       "      <td id=\"T_4dc1c_row7_col1\" class=\"data row7 col1\" >6</td>\n",
       "    </tr>\n",
       "    <tr>\n",
       "      <th id=\"T_4dc1c_level0_row8\" class=\"row_heading level0 row8\" >8</th>\n",
       "      <td id=\"T_4dc1c_row8_col0\" class=\"data row8 col0\" >Numeric features</td>\n",
       "      <td id=\"T_4dc1c_row8_col1\" class=\"data row8 col1\" >16</td>\n",
       "    </tr>\n",
       "    <tr>\n",
       "      <th id=\"T_4dc1c_level0_row9\" class=\"row_heading level0 row9\" >9</th>\n",
       "      <td id=\"T_4dc1c_row9_col0\" class=\"data row9 col0\" >Categorical features</td>\n",
       "      <td id=\"T_4dc1c_row9_col1\" class=\"data row9 col1\" >1</td>\n",
       "    </tr>\n",
       "    <tr>\n",
       "      <th id=\"T_4dc1c_level0_row10\" class=\"row_heading level0 row10\" >10</th>\n",
       "      <td id=\"T_4dc1c_row10_col0\" class=\"data row10 col0\" >Rows with missing values</td>\n",
       "      <td id=\"T_4dc1c_row10_col1\" class=\"data row10 col1\" >0.0%</td>\n",
       "    </tr>\n",
       "    <tr>\n",
       "      <th id=\"T_4dc1c_level0_row11\" class=\"row_heading level0 row11\" >11</th>\n",
       "      <td id=\"T_4dc1c_row11_col0\" class=\"data row11 col0\" >Preprocess</td>\n",
       "      <td id=\"T_4dc1c_row11_col1\" class=\"data row11 col1\" >True</td>\n",
       "    </tr>\n",
       "    <tr>\n",
       "      <th id=\"T_4dc1c_level0_row12\" class=\"row_heading level0 row12\" >12</th>\n",
       "      <td id=\"T_4dc1c_row12_col0\" class=\"data row12 col0\" >Imputation type</td>\n",
       "      <td id=\"T_4dc1c_row12_col1\" class=\"data row12 col1\" >simple</td>\n",
       "    </tr>\n",
       "    <tr>\n",
       "      <th id=\"T_4dc1c_level0_row13\" class=\"row_heading level0 row13\" >13</th>\n",
       "      <td id=\"T_4dc1c_row13_col0\" class=\"data row13 col0\" >Numeric imputation</td>\n",
       "      <td id=\"T_4dc1c_row13_col1\" class=\"data row13 col1\" >mean</td>\n",
       "    </tr>\n",
       "    <tr>\n",
       "      <th id=\"T_4dc1c_level0_row14\" class=\"row_heading level0 row14\" >14</th>\n",
       "      <td id=\"T_4dc1c_row14_col0\" class=\"data row14 col0\" >Categorical imputation</td>\n",
       "      <td id=\"T_4dc1c_row14_col1\" class=\"data row14 col1\" >mode</td>\n",
       "    </tr>\n",
       "    <tr>\n",
       "      <th id=\"T_4dc1c_level0_row15\" class=\"row_heading level0 row15\" >15</th>\n",
       "      <td id=\"T_4dc1c_row15_col0\" class=\"data row15 col0\" >Maximum one-hot encoding</td>\n",
       "      <td id=\"T_4dc1c_row15_col1\" class=\"data row15 col1\" >25</td>\n",
       "    </tr>\n",
       "    <tr>\n",
       "      <th id=\"T_4dc1c_level0_row16\" class=\"row_heading level0 row16\" >16</th>\n",
       "      <td id=\"T_4dc1c_row16_col0\" class=\"data row16 col0\" >Encoding method</td>\n",
       "      <td id=\"T_4dc1c_row16_col1\" class=\"data row16 col1\" >None</td>\n",
       "    </tr>\n",
       "    <tr>\n",
       "      <th id=\"T_4dc1c_level0_row17\" class=\"row_heading level0 row17\" >17</th>\n",
       "      <td id=\"T_4dc1c_row17_col0\" class=\"data row17 col0\" >Fold Generator</td>\n",
       "      <td id=\"T_4dc1c_row17_col1\" class=\"data row17 col1\" >StratifiedKFold</td>\n",
       "    </tr>\n",
       "    <tr>\n",
       "      <th id=\"T_4dc1c_level0_row18\" class=\"row_heading level0 row18\" >18</th>\n",
       "      <td id=\"T_4dc1c_row18_col0\" class=\"data row18 col0\" >Fold Number</td>\n",
       "      <td id=\"T_4dc1c_row18_col1\" class=\"data row18 col1\" >10</td>\n",
       "    </tr>\n",
       "    <tr>\n",
       "      <th id=\"T_4dc1c_level0_row19\" class=\"row_heading level0 row19\" >19</th>\n",
       "      <td id=\"T_4dc1c_row19_col0\" class=\"data row19 col0\" >CPU Jobs</td>\n",
       "      <td id=\"T_4dc1c_row19_col1\" class=\"data row19 col1\" >-1</td>\n",
       "    </tr>\n",
       "    <tr>\n",
       "      <th id=\"T_4dc1c_level0_row20\" class=\"row_heading level0 row20\" >20</th>\n",
       "      <td id=\"T_4dc1c_row20_col0\" class=\"data row20 col0\" >Use GPU</td>\n",
       "      <td id=\"T_4dc1c_row20_col1\" class=\"data row20 col1\" >False</td>\n",
       "    </tr>\n",
       "    <tr>\n",
       "      <th id=\"T_4dc1c_level0_row21\" class=\"row_heading level0 row21\" >21</th>\n",
       "      <td id=\"T_4dc1c_row21_col0\" class=\"data row21 col0\" >Log Experiment</td>\n",
       "      <td id=\"T_4dc1c_row21_col1\" class=\"data row21 col1\" >False</td>\n",
       "    </tr>\n",
       "    <tr>\n",
       "      <th id=\"T_4dc1c_level0_row22\" class=\"row_heading level0 row22\" >22</th>\n",
       "      <td id=\"T_4dc1c_row22_col0\" class=\"data row22 col0\" >Experiment Name</td>\n",
       "      <td id=\"T_4dc1c_row22_col1\" class=\"data row22 col1\" >clf-default-name</td>\n",
       "    </tr>\n",
       "    <tr>\n",
       "      <th id=\"T_4dc1c_level0_row23\" class=\"row_heading level0 row23\" >23</th>\n",
       "      <td id=\"T_4dc1c_row23_col0\" class=\"data row23 col0\" >USI</td>\n",
       "      <td id=\"T_4dc1c_row23_col1\" class=\"data row23 col1\" >bd5e</td>\n",
       "    </tr>\n",
       "  </tbody>\n",
       "</table>\n"
      ],
      "text/plain": [
       "<pandas.io.formats.style.Styler at 0x7fa05c2f3580>"
      ]
     },
     "metadata": {},
     "output_type": "display_data"
    }
   ],
   "source": [
    "classification_setup = pycaret.classification.setup(\n",
    "    data = train_data, target = \"batting_hit_recorded\", train_size = .70, use_gpu = False, \n",
    "    categorical_features = ['game_venue'], ignore_features = model.common.ignore_features + ['batting_name', 'pitching_name'])"
   ]
  },
  {
   "cell_type": "markdown",
   "metadata": {
    "id": "Qxoqal-SvwXp"
   },
   "source": [
    "**Build/Train Model**"
   ]
  },
  {
   "cell_type": "code",
   "execution_count": 15,
   "metadata": {
    "execution": {
     "iopub.execute_input": "2023-06-08T22:03:05.333059Z",
     "iopub.status.busy": "2023-06-08T22:03:05.332806Z",
     "iopub.status.idle": "2023-06-08T22:03:05.357899Z",
     "shell.execute_reply": "2023-06-08T22:03:05.357107Z",
     "shell.execute_reply.started": "2023-06-08T22:03:05.333045Z"
    },
    "scrolled": true
   },
   "outputs": [
    {
     "data": {
      "text/plain": [
       "\u001b[0;31mSignature:\u001b[0m\n",
       "\u001b[0mclassification_setup\u001b[0m\u001b[0;34m.\u001b[0m\u001b[0mcreate_model\u001b[0m\u001b[0;34m(\u001b[0m\u001b[0;34m\u001b[0m\n",
       "\u001b[0;34m\u001b[0m    \u001b[0mestimator\u001b[0m\u001b[0;34m:\u001b[0m \u001b[0mUnion\u001b[0m\u001b[0;34m[\u001b[0m\u001b[0mstr\u001b[0m\u001b[0;34m,\u001b[0m \u001b[0mAny\u001b[0m\u001b[0;34m]\u001b[0m\u001b[0;34m,\u001b[0m\u001b[0;34m\u001b[0m\n",
       "\u001b[0;34m\u001b[0m    \u001b[0mfold\u001b[0m\u001b[0;34m:\u001b[0m \u001b[0mUnion\u001b[0m\u001b[0;34m[\u001b[0m\u001b[0mint\u001b[0m\u001b[0;34m,\u001b[0m \u001b[0mAny\u001b[0m\u001b[0;34m,\u001b[0m \u001b[0mNoneType\u001b[0m\u001b[0;34m]\u001b[0m \u001b[0;34m=\u001b[0m \u001b[0;32mNone\u001b[0m\u001b[0;34m,\u001b[0m\u001b[0;34m\u001b[0m\n",
       "\u001b[0;34m\u001b[0m    \u001b[0mround\u001b[0m\u001b[0;34m:\u001b[0m \u001b[0mint\u001b[0m \u001b[0;34m=\u001b[0m \u001b[0;36m4\u001b[0m\u001b[0;34m,\u001b[0m\u001b[0;34m\u001b[0m\n",
       "\u001b[0;34m\u001b[0m    \u001b[0mcross_validation\u001b[0m\u001b[0;34m:\u001b[0m \u001b[0mbool\u001b[0m \u001b[0;34m=\u001b[0m \u001b[0;32mTrue\u001b[0m\u001b[0;34m,\u001b[0m\u001b[0;34m\u001b[0m\n",
       "\u001b[0;34m\u001b[0m    \u001b[0mfit_kwargs\u001b[0m\u001b[0;34m:\u001b[0m \u001b[0mOptional\u001b[0m\u001b[0;34m[\u001b[0m\u001b[0mdict\u001b[0m\u001b[0;34m]\u001b[0m \u001b[0;34m=\u001b[0m \u001b[0;32mNone\u001b[0m\u001b[0;34m,\u001b[0m\u001b[0;34m\u001b[0m\n",
       "\u001b[0;34m\u001b[0m    \u001b[0mgroups\u001b[0m\u001b[0;34m:\u001b[0m \u001b[0mUnion\u001b[0m\u001b[0;34m[\u001b[0m\u001b[0mstr\u001b[0m\u001b[0;34m,\u001b[0m \u001b[0mAny\u001b[0m\u001b[0;34m,\u001b[0m \u001b[0mNoneType\u001b[0m\u001b[0;34m]\u001b[0m \u001b[0;34m=\u001b[0m \u001b[0;32mNone\u001b[0m\u001b[0;34m,\u001b[0m\u001b[0;34m\u001b[0m\n",
       "\u001b[0;34m\u001b[0m    \u001b[0mexperiment_custom_tags\u001b[0m\u001b[0;34m:\u001b[0m \u001b[0mOptional\u001b[0m\u001b[0;34m[\u001b[0m\u001b[0mDict\u001b[0m\u001b[0;34m[\u001b[0m\u001b[0mstr\u001b[0m\u001b[0;34m,\u001b[0m \u001b[0mAny\u001b[0m\u001b[0;34m]\u001b[0m\u001b[0;34m]\u001b[0m \u001b[0;34m=\u001b[0m \u001b[0;32mNone\u001b[0m\u001b[0;34m,\u001b[0m\u001b[0;34m\u001b[0m\n",
       "\u001b[0;34m\u001b[0m    \u001b[0mprobability_threshold\u001b[0m\u001b[0;34m:\u001b[0m \u001b[0mOptional\u001b[0m\u001b[0;34m[\u001b[0m\u001b[0mfloat\u001b[0m\u001b[0;34m]\u001b[0m \u001b[0;34m=\u001b[0m \u001b[0;32mNone\u001b[0m\u001b[0;34m,\u001b[0m\u001b[0;34m\u001b[0m\n",
       "\u001b[0;34m\u001b[0m    \u001b[0mengine\u001b[0m\u001b[0;34m:\u001b[0m \u001b[0mOptional\u001b[0m\u001b[0;34m[\u001b[0m\u001b[0mstr\u001b[0m\u001b[0;34m]\u001b[0m \u001b[0;34m=\u001b[0m \u001b[0;32mNone\u001b[0m\u001b[0;34m,\u001b[0m\u001b[0;34m\u001b[0m\n",
       "\u001b[0;34m\u001b[0m    \u001b[0mverbose\u001b[0m\u001b[0;34m:\u001b[0m \u001b[0mbool\u001b[0m \u001b[0;34m=\u001b[0m \u001b[0;32mTrue\u001b[0m\u001b[0;34m,\u001b[0m\u001b[0;34m\u001b[0m\n",
       "\u001b[0;34m\u001b[0m    \u001b[0mreturn_train_score\u001b[0m\u001b[0;34m:\u001b[0m \u001b[0mbool\u001b[0m \u001b[0;34m=\u001b[0m \u001b[0;32mFalse\u001b[0m\u001b[0;34m,\u001b[0m\u001b[0;34m\u001b[0m\n",
       "\u001b[0;34m\u001b[0m    \u001b[0;34m**\u001b[0m\u001b[0mkwargs\u001b[0m\u001b[0;34m,\u001b[0m\u001b[0;34m\u001b[0m\n",
       "\u001b[0;34m\u001b[0m\u001b[0;34m)\u001b[0m \u001b[0;34m->\u001b[0m \u001b[0mAny\u001b[0m\u001b[0;34m\u001b[0m\u001b[0;34m\u001b[0m\u001b[0m\n",
       "\u001b[0;31mDocstring:\u001b[0m\n",
       "This function trains and evaluates the performance of a given estimator\n",
       "using cross validation. The output of this function is a score grid with\n",
       "CV scores by fold. Metrics evaluated during CV can be accessed using the\n",
       "``get_metrics`` function. Custom metrics can be added or removed using\n",
       "``add_metric`` and ``remove_metric`` function. All the available models\n",
       "can be accessed using the ``models`` function.\n",
       "\n",
       "Example\n",
       "-------\n",
       ">>> from pycaret.datasets import get_data\n",
       ">>> juice = get_data('juice')\n",
       ">>> from pycaret.classification import *\n",
       ">>> exp_name = setup(data = juice,  target = 'Purchase')\n",
       ">>> lr = create_model('lr')\n",
       "\n",
       "\n",
       "estimator: str or scikit-learn compatible object\n",
       "    ID of an estimator available in model library or pass an untrained\n",
       "    model object consistent with scikit-learn API. Estimators available\n",
       "    in the model library (ID - Name):\n",
       "\n",
       "    * 'lr' - Logistic Regression\n",
       "    * 'knn' - K Neighbors Classifier\n",
       "    * 'nb' - Naive Bayes\n",
       "    * 'dt' - Decision Tree Classifier\n",
       "    * 'svm' - SVM - Linear Kernel\n",
       "    * 'rbfsvm' - SVM - Radial Kernel\n",
       "    * 'gpc' - Gaussian Process Classifier\n",
       "    * 'mlp' - MLP Classifier\n",
       "    * 'ridge' - Ridge Classifier\n",
       "    * 'rf' - Random Forest Classifier\n",
       "    * 'qda' - Quadratic Discriminant Analysis\n",
       "    * 'ada' - Ada Boost Classifier\n",
       "    * 'gbc' - Gradient Boosting Classifier\n",
       "    * 'lda' - Linear Discriminant Analysis\n",
       "    * 'et' - Extra Trees Classifier\n",
       "    * 'xgboost' - Extreme Gradient Boosting\n",
       "    * 'lightgbm' - Light Gradient Boosting Machine\n",
       "    * 'catboost' - CatBoost Classifier\n",
       "\n",
       "\n",
       "fold: int or scikit-learn compatible CV generator, default = None\n",
       "    Controls cross-validation. If None, the CV generator in the ``fold_strategy``\n",
       "    parameter of the ``setup`` function is used. When an integer is passed,\n",
       "    it is interpreted as the 'n_splits' parameter of the CV generator in the\n",
       "    ``setup`` function.\n",
       "\n",
       "\n",
       "round: int, default = 4\n",
       "    Number of decimal places the metrics in the score grid will be rounded to.\n",
       "\n",
       "\n",
       "cross_validation: bool, default = True\n",
       "    When set to False, metrics are evaluated on holdout set. ``fold`` param\n",
       "    is ignored when cross_validation is set to False.\n",
       "\n",
       "\n",
       "fit_kwargs: dict, default = {} (empty dict)\n",
       "    Dictionary of arguments passed to the fit method of the model.\n",
       "\n",
       "\n",
       "groups: str or array-like, with shape (n_samples,), default = None\n",
       "    Optional group labels when GroupKFold is used for the cross validation.\n",
       "    It takes an array with shape (n_samples, ) where n_samples is the number\n",
       "    of rows in training dataset. When string is passed, it is interpreted as\n",
       "    the column name in the dataset containing group labels.\n",
       "\n",
       "\n",
       "probability_threshold: float, default = None\n",
       "    Threshold for converting predicted probability to class label.\n",
       "    It defaults to 0.5 for all classifiers unless explicitly defined\n",
       "    in this parameter. Only applicable for binary classification.\n",
       "\n",
       "\n",
       "experiment_custom_tags: dict, default = None\n",
       "    Dictionary of tag_name: String -> value: (String, but will be string-ified\n",
       "    if not) passed to the mlflow.set_tags to add new custom tags for the experiment.\n",
       "\n",
       "\n",
       "engine: Optional[str] = None\n",
       "    The execution engine to use for the model, e.g. for Logistic Regression (\"lr\"), users can\n",
       "    switch between \"sklearn\" and \"sklearnex\" by specifying\n",
       "    `engine=\"sklearnex\"`.\n",
       "\n",
       "\n",
       "verbose: bool, default = True\n",
       "    Score grid is not printed when verbose is set to False.\n",
       "\n",
       "\n",
       "return_train_score: bool, default = False\n",
       "    If False, returns the CV Validation scores only.\n",
       "    If True, returns the CV training scores along with the CV validation scores.\n",
       "    This is useful when the user wants to do bias-variance tradeoff. A high CV\n",
       "    training score with a low corresponding CV validation score indicates overfitting.\n",
       "\n",
       "\n",
       "**kwargs:\n",
       "    Additional keyword arguments to pass to the estimator.\n",
       "\n",
       "\n",
       "Returns:\n",
       "    Trained Model\n",
       "\n",
       "\n",
       "Warnings\n",
       "--------\n",
       "- AUC for estimators that does not support 'predict_proba' is shown as 0.0000.\n",
       "\n",
       "- Models are not logged on the ``MLFlow`` server when ``cross_validation`` param\n",
       "is set to False.\n",
       "\u001b[0;31mFile:\u001b[0m      ~/venvs/finance/lib/python3.10/site-packages/pycaret/classification/oop.py\n",
       "\u001b[0;31mType:\u001b[0m      method"
      ]
     },
     "metadata": {},
     "output_type": "display_data"
    }
   ],
   "source": [
    "classification_setup.create_model?"
   ]
  },
  {
   "cell_type": "code",
   "execution_count": 16,
   "metadata": {
    "execution": {
     "iopub.execute_input": "2023-06-08T22:03:15.986176Z",
     "iopub.status.busy": "2023-06-08T22:03:15.985606Z",
     "iopub.status.idle": "2023-06-08T22:04:32.268642Z",
     "shell.execute_reply": "2023-06-08T22:04:32.267352Z",
     "shell.execute_reply.started": "2023-06-08T22:03:15.986127Z"
    }
   },
   "outputs": [
    {
     "data": {
      "text/html": [],
      "text/plain": [
       "<IPython.core.display.HTML object>"
      ]
     },
     "metadata": {},
     "output_type": "display_data"
    },
    {
     "data": {
      "text/html": [
       "<style type=\"text/css\">\n",
       "#T_f015b_row10_col0, #T_f015b_row10_col1, #T_f015b_row10_col2, #T_f015b_row10_col3, #T_f015b_row10_col4, #T_f015b_row10_col5, #T_f015b_row10_col6 {\n",
       "  background: yellow;\n",
       "}\n",
       "</style>\n",
       "<table id=\"T_f015b\">\n",
       "  <thead>\n",
       "    <tr>\n",
       "      <th class=\"blank level0\" >&nbsp;</th>\n",
       "      <th id=\"T_f015b_level0_col0\" class=\"col_heading level0 col0\" >Accuracy</th>\n",
       "      <th id=\"T_f015b_level0_col1\" class=\"col_heading level0 col1\" >AUC</th>\n",
       "      <th id=\"T_f015b_level0_col2\" class=\"col_heading level0 col2\" >Recall</th>\n",
       "      <th id=\"T_f015b_level0_col3\" class=\"col_heading level0 col3\" >Prec.</th>\n",
       "      <th id=\"T_f015b_level0_col4\" class=\"col_heading level0 col4\" >F1</th>\n",
       "      <th id=\"T_f015b_level0_col5\" class=\"col_heading level0 col5\" >Kappa</th>\n",
       "      <th id=\"T_f015b_level0_col6\" class=\"col_heading level0 col6\" >MCC</th>\n",
       "    </tr>\n",
       "    <tr>\n",
       "      <th class=\"index_name level0\" >Fold</th>\n",
       "      <th class=\"blank col0\" >&nbsp;</th>\n",
       "      <th class=\"blank col1\" >&nbsp;</th>\n",
       "      <th class=\"blank col2\" >&nbsp;</th>\n",
       "      <th class=\"blank col3\" >&nbsp;</th>\n",
       "      <th class=\"blank col4\" >&nbsp;</th>\n",
       "      <th class=\"blank col5\" >&nbsp;</th>\n",
       "      <th class=\"blank col6\" >&nbsp;</th>\n",
       "    </tr>\n",
       "  </thead>\n",
       "  <tbody>\n",
       "    <tr>\n",
       "      <th id=\"T_f015b_level0_row0\" class=\"row_heading level0 row0\" >0</th>\n",
       "      <td id=\"T_f015b_row0_col0\" class=\"data row0 col0\" >0.6286</td>\n",
       "      <td id=\"T_f015b_row0_col1\" class=\"data row0 col1\" >0.6530</td>\n",
       "      <td id=\"T_f015b_row0_col2\" class=\"data row0 col2\" >0.8097</td>\n",
       "      <td id=\"T_f015b_row0_col3\" class=\"data row0 col3\" >0.6334</td>\n",
       "      <td id=\"T_f015b_row0_col4\" class=\"data row0 col4\" >0.7108</td>\n",
       "      <td id=\"T_f015b_row0_col5\" class=\"data row0 col5\" >0.2131</td>\n",
       "      <td id=\"T_f015b_row0_col6\" class=\"data row0 col6\" >0.2260</td>\n",
       "    </tr>\n",
       "    <tr>\n",
       "      <th id=\"T_f015b_level0_row1\" class=\"row_heading level0 row1\" >1</th>\n",
       "      <td id=\"T_f015b_row1_col0\" class=\"data row1 col0\" >0.6202</td>\n",
       "      <td id=\"T_f015b_row1_col1\" class=\"data row1 col1\" >0.6456</td>\n",
       "      <td id=\"T_f015b_row1_col2\" class=\"data row1 col2\" >0.8029</td>\n",
       "      <td id=\"T_f015b_row1_col3\" class=\"data row1 col3\" >0.6274</td>\n",
       "      <td id=\"T_f015b_row1_col4\" class=\"data row1 col4\" >0.7044</td>\n",
       "      <td id=\"T_f015b_row1_col5\" class=\"data row1 col5\" >0.1950</td>\n",
       "      <td id=\"T_f015b_row1_col6\" class=\"data row1 col6\" >0.2069</td>\n",
       "    </tr>\n",
       "    <tr>\n",
       "      <th id=\"T_f015b_level0_row2\" class=\"row_heading level0 row2\" >2</th>\n",
       "      <td id=\"T_f015b_row2_col0\" class=\"data row2 col0\" >0.6278</td>\n",
       "      <td id=\"T_f015b_row2_col1\" class=\"data row2 col1\" >0.6540</td>\n",
       "      <td id=\"T_f015b_row2_col2\" class=\"data row2 col2\" >0.8091</td>\n",
       "      <td id=\"T_f015b_row2_col3\" class=\"data row2 col3\" >0.6328</td>\n",
       "      <td id=\"T_f015b_row2_col4\" class=\"data row2 col4\" >0.7102</td>\n",
       "      <td id=\"T_f015b_row2_col5\" class=\"data row2 col5\" >0.2113</td>\n",
       "      <td id=\"T_f015b_row2_col6\" class=\"data row2 col6\" >0.2240</td>\n",
       "    </tr>\n",
       "    <tr>\n",
       "      <th id=\"T_f015b_level0_row3\" class=\"row_heading level0 row3\" >3</th>\n",
       "      <td id=\"T_f015b_row3_col0\" class=\"data row3 col0\" >0.6293</td>\n",
       "      <td id=\"T_f015b_row3_col1\" class=\"data row3 col1\" >0.6510</td>\n",
       "      <td id=\"T_f015b_row3_col2\" class=\"data row3 col2\" >0.8130</td>\n",
       "      <td id=\"T_f015b_row3_col3\" class=\"data row3 col3\" >0.6334</td>\n",
       "      <td id=\"T_f015b_row3_col4\" class=\"data row3 col4\" >0.7120</td>\n",
       "      <td id=\"T_f015b_row3_col5\" class=\"data row3 col5\" >0.2139</td>\n",
       "      <td id=\"T_f015b_row3_col6\" class=\"data row3 col6\" >0.2274</td>\n",
       "    </tr>\n",
       "    <tr>\n",
       "      <th id=\"T_f015b_level0_row4\" class=\"row_heading level0 row4\" >4</th>\n",
       "      <td id=\"T_f015b_row4_col0\" class=\"data row4 col0\" >0.6303</td>\n",
       "      <td id=\"T_f015b_row4_col1\" class=\"data row4 col1\" >0.6570</td>\n",
       "      <td id=\"T_f015b_row4_col2\" class=\"data row4 col2\" >0.8124</td>\n",
       "      <td id=\"T_f015b_row4_col3\" class=\"data row4 col3\" >0.6343</td>\n",
       "      <td id=\"T_f015b_row4_col4\" class=\"data row4 col4\" >0.7124</td>\n",
       "      <td id=\"T_f015b_row4_col5\" class=\"data row4 col5\" >0.2163</td>\n",
       "      <td id=\"T_f015b_row4_col6\" class=\"data row4 col6\" >0.2296</td>\n",
       "    </tr>\n",
       "    <tr>\n",
       "      <th id=\"T_f015b_level0_row5\" class=\"row_heading level0 row5\" >5</th>\n",
       "      <td id=\"T_f015b_row5_col0\" class=\"data row5 col0\" >0.6367</td>\n",
       "      <td id=\"T_f015b_row5_col1\" class=\"data row5 col1\" >0.6644</td>\n",
       "      <td id=\"T_f015b_row5_col2\" class=\"data row5 col2\" >0.8026</td>\n",
       "      <td id=\"T_f015b_row5_col3\" class=\"data row5 col3\" >0.6422</td>\n",
       "      <td id=\"T_f015b_row5_col4\" class=\"data row5 col4\" >0.7135</td>\n",
       "      <td id=\"T_f015b_row5_col5\" class=\"data row5 col5\" >0.2335</td>\n",
       "      <td id=\"T_f015b_row5_col6\" class=\"data row5 col6\" >0.2445</td>\n",
       "    </tr>\n",
       "    <tr>\n",
       "      <th id=\"T_f015b_level0_row6\" class=\"row_heading level0 row6\" >6</th>\n",
       "      <td id=\"T_f015b_row6_col0\" class=\"data row6 col0\" >0.6275</td>\n",
       "      <td id=\"T_f015b_row6_col1\" class=\"data row6 col1\" >0.6539</td>\n",
       "      <td id=\"T_f015b_row6_col2\" class=\"data row6 col2\" >0.8123</td>\n",
       "      <td id=\"T_f015b_row6_col3\" class=\"data row6 col3\" >0.6319</td>\n",
       "      <td id=\"T_f015b_row6_col4\" class=\"data row6 col4\" >0.7108</td>\n",
       "      <td id=\"T_f015b_row6_col5\" class=\"data row6 col5\" >0.2098</td>\n",
       "      <td id=\"T_f015b_row6_col6\" class=\"data row6 col6\" >0.2232</td>\n",
       "    </tr>\n",
       "    <tr>\n",
       "      <th id=\"T_f015b_level0_row7\" class=\"row_heading level0 row7\" >7</th>\n",
       "      <td id=\"T_f015b_row7_col0\" class=\"data row7 col0\" >0.6323</td>\n",
       "      <td id=\"T_f015b_row7_col1\" class=\"data row7 col1\" >0.6591</td>\n",
       "      <td id=\"T_f015b_row7_col2\" class=\"data row7 col2\" >0.8069</td>\n",
       "      <td id=\"T_f015b_row7_col3\" class=\"data row7 col3\" >0.6372</td>\n",
       "      <td id=\"T_f015b_row7_col4\" class=\"data row7 col4\" >0.7121</td>\n",
       "      <td id=\"T_f015b_row7_col5\" class=\"data row7 col5\" >0.2223</td>\n",
       "      <td id=\"T_f015b_row7_col6\" class=\"data row7 col6\" >0.2344</td>\n",
       "    </tr>\n",
       "    <tr>\n",
       "      <th id=\"T_f015b_level0_row8\" class=\"row_heading level0 row8\" >8</th>\n",
       "      <td id=\"T_f015b_row8_col0\" class=\"data row8 col0\" >0.6332</td>\n",
       "      <td id=\"T_f015b_row8_col1\" class=\"data row8 col1\" >0.6613</td>\n",
       "      <td id=\"T_f015b_row8_col2\" class=\"data row8 col2\" >0.8052</td>\n",
       "      <td id=\"T_f015b_row8_col3\" class=\"data row8 col3\" >0.6384</td>\n",
       "      <td id=\"T_f015b_row8_col4\" class=\"data row8 col4\" >0.7122</td>\n",
       "      <td id=\"T_f015b_row8_col5\" class=\"data row8 col5\" >0.2248</td>\n",
       "      <td id=\"T_f015b_row8_col6\" class=\"data row8 col6\" >0.2366</td>\n",
       "    </tr>\n",
       "    <tr>\n",
       "      <th id=\"T_f015b_level0_row9\" class=\"row_heading level0 row9\" >9</th>\n",
       "      <td id=\"T_f015b_row9_col0\" class=\"data row9 col0\" >0.6280</td>\n",
       "      <td id=\"T_f015b_row9_col1\" class=\"data row9 col1\" >0.6556</td>\n",
       "      <td id=\"T_f015b_row9_col2\" class=\"data row9 col2\" >0.8066</td>\n",
       "      <td id=\"T_f015b_row9_col3\" class=\"data row9 col3\" >0.6335</td>\n",
       "      <td id=\"T_f015b_row9_col4\" class=\"data row9 col4\" >0.7097</td>\n",
       "      <td id=\"T_f015b_row9_col5\" class=\"data row9 col5\" >0.2125</td>\n",
       "      <td id=\"T_f015b_row9_col6\" class=\"data row9 col6\" >0.2248</td>\n",
       "    </tr>\n",
       "    <tr>\n",
       "      <th id=\"T_f015b_level0_row10\" class=\"row_heading level0 row10\" >Mean</th>\n",
       "      <td id=\"T_f015b_row10_col0\" class=\"data row10 col0\" >0.6294</td>\n",
       "      <td id=\"T_f015b_row10_col1\" class=\"data row10 col1\" >0.6555</td>\n",
       "      <td id=\"T_f015b_row10_col2\" class=\"data row10 col2\" >0.8081</td>\n",
       "      <td id=\"T_f015b_row10_col3\" class=\"data row10 col3\" >0.6345</td>\n",
       "      <td id=\"T_f015b_row10_col4\" class=\"data row10 col4\" >0.7108</td>\n",
       "      <td id=\"T_f015b_row10_col5\" class=\"data row10 col5\" >0.2153</td>\n",
       "      <td id=\"T_f015b_row10_col6\" class=\"data row10 col6\" >0.2277</td>\n",
       "    </tr>\n",
       "    <tr>\n",
       "      <th id=\"T_f015b_level0_row11\" class=\"row_heading level0 row11\" >Std</th>\n",
       "      <td id=\"T_f015b_row11_col0\" class=\"data row11 col0\" >0.0041</td>\n",
       "      <td id=\"T_f015b_row11_col1\" class=\"data row11 col1\" >0.0051</td>\n",
       "      <td id=\"T_f015b_row11_col2\" class=\"data row11 col2\" >0.0037</td>\n",
       "      <td id=\"T_f015b_row11_col3\" class=\"data row11 col3\" >0.0038</td>\n",
       "      <td id=\"T_f015b_row11_col4\" class=\"data row11 col4\" >0.0024</td>\n",
       "      <td id=\"T_f015b_row11_col5\" class=\"data row11 col5\" >0.0097</td>\n",
       "      <td id=\"T_f015b_row11_col6\" class=\"data row11 col6\" >0.0094</td>\n",
       "    </tr>\n",
       "  </tbody>\n",
       "</table>\n"
      ],
      "text/plain": [
       "<pandas.io.formats.style.Styler at 0x7fa055f9b250>"
      ]
     },
     "metadata": {},
     "output_type": "display_data"
    },
    {
     "data": {
      "text/html": [],
      "text/plain": [
       "<IPython.core.display.HTML object>"
      ]
     },
     "metadata": {},
     "output_type": "display_data"
    }
   ],
   "source": [
    "regression_model_lr = classification_setup.create_model(\"lr\", probability_threshold = 0.50)"
   ]
  },
  {
   "cell_type": "code",
   "execution_count": 22,
   "metadata": {
    "execution": {
     "iopub.execute_input": "2023-06-08T22:07:59.362717Z",
     "iopub.status.busy": "2023-06-08T22:07:59.362535Z",
     "iopub.status.idle": "2023-06-08T22:08:00.152864Z",
     "shell.execute_reply": "2023-06-08T22:08:00.152262Z",
     "shell.execute_reply.started": "2023-06-08T22:07:59.362701Z"
    }
   },
   "outputs": [
    {
     "data": {
      "text/html": [],
      "text/plain": [
       "<IPython.core.display.HTML object>"
      ]
     },
     "metadata": {},
     "output_type": "display_data"
    },
    {
     "data": {
      "image/png": "[encoded data removed]",
      "text/plain": [
       "<Figure size 800x550 with 1 Axes>"
      ]
     },
     "metadata": {},
     "output_type": "display_data"
    }
   ],
   "source": [
    "plot_model(regression_model_lr, plot = 'auc')"
   ]
  },
  {
   "cell_type": "code",
   "execution_count": 106,
   "metadata": {
    "execution": {
     "iopub.execute_input": "2023-06-08T23:16:17.500280Z",
     "iopub.status.busy": "2023-06-08T23:16:17.498255Z",
     "iopub.status.idle": "2023-06-08T23:18:43.854481Z",
     "shell.execute_reply": "2023-06-08T23:18:43.852885Z",
     "shell.execute_reply.started": "2023-06-08T23:16:17.500172Z"
    }
   },
   "outputs": [
    {
     "data": {
      "text/html": [],
      "text/plain": [
       "<IPython.core.display.HTML object>"
      ]
     },
     "metadata": {},
     "output_type": "display_data"
    },
    {
     "data": {
      "text/html": [
       "<style type=\"text/css\">\n",
       "#T_5ec6e_row10_col0, #T_5ec6e_row10_col1, #T_5ec6e_row10_col2, #T_5ec6e_row10_col3, #T_5ec6e_row10_col4, #T_5ec6e_row10_col5, #T_5ec6e_row10_col6 {\n",
       "  background: yellow;\n",
       "}\n",
       "</style>\n",
       "<table id=\"T_5ec6e\">\n",
       "  <thead>\n",
       "    <tr>\n",
       "      <th class=\"blank level0\" >&nbsp;</th>\n",
       "      <th id=\"T_5ec6e_level0_col0\" class=\"col_heading level0 col0\" >Accuracy</th>\n",
       "      <th id=\"T_5ec6e_level0_col1\" class=\"col_heading level0 col1\" >AUC</th>\n",
       "      <th id=\"T_5ec6e_level0_col2\" class=\"col_heading level0 col2\" >Recall</th>\n",
       "      <th id=\"T_5ec6e_level0_col3\" class=\"col_heading level0 col3\" >Prec.</th>\n",
       "      <th id=\"T_5ec6e_level0_col4\" class=\"col_heading level0 col4\" >F1</th>\n",
       "      <th id=\"T_5ec6e_level0_col5\" class=\"col_heading level0 col5\" >Kappa</th>\n",
       "      <th id=\"T_5ec6e_level0_col6\" class=\"col_heading level0 col6\" >MCC</th>\n",
       "    </tr>\n",
       "    <tr>\n",
       "      <th class=\"index_name level0\" >Fold</th>\n",
       "      <th class=\"blank col0\" >&nbsp;</th>\n",
       "      <th class=\"blank col1\" >&nbsp;</th>\n",
       "      <th class=\"blank col2\" >&nbsp;</th>\n",
       "      <th class=\"blank col3\" >&nbsp;</th>\n",
       "      <th class=\"blank col4\" >&nbsp;</th>\n",
       "      <th class=\"blank col5\" >&nbsp;</th>\n",
       "      <th class=\"blank col6\" >&nbsp;</th>\n",
       "    </tr>\n",
       "  </thead>\n",
       "  <tbody>\n",
       "    <tr>\n",
       "      <th id=\"T_5ec6e_level0_row0\" class=\"row_heading level0 row0\" >0</th>\n",
       "      <td id=\"T_5ec6e_row0_col0\" class=\"data row0 col0\" >0.9989</td>\n",
       "      <td id=\"T_5ec6e_row0_col1\" class=\"data row0 col1\" >1.0000</td>\n",
       "      <td id=\"T_5ec6e_row0_col2\" class=\"data row0 col2\" >0.9982</td>\n",
       "      <td id=\"T_5ec6e_row0_col3\" class=\"data row0 col3\" >0.9999</td>\n",
       "      <td id=\"T_5ec6e_row0_col4\" class=\"data row0 col4\" >0.9991</td>\n",
       "      <td id=\"T_5ec6e_row0_col5\" class=\"data row0 col5\" >0.9979</td>\n",
       "      <td id=\"T_5ec6e_row0_col6\" class=\"data row0 col6\" >0.9979</td>\n",
       "    </tr>\n",
       "    <tr>\n",
       "      <th id=\"T_5ec6e_level0_row1\" class=\"row_heading level0 row1\" >1</th>\n",
       "      <td id=\"T_5ec6e_row1_col0\" class=\"data row1 col0\" >0.9995</td>\n",
       "      <td id=\"T_5ec6e_row1_col1\" class=\"data row1 col1\" >1.0000</td>\n",
       "      <td id=\"T_5ec6e_row1_col2\" class=\"data row1 col2\" >0.9991</td>\n",
       "      <td id=\"T_5ec6e_row1_col3\" class=\"data row1 col3\" >1.0000</td>\n",
       "      <td id=\"T_5ec6e_row1_col4\" class=\"data row1 col4\" >0.9996</td>\n",
       "      <td id=\"T_5ec6e_row1_col5\" class=\"data row1 col5\" >0.9990</td>\n",
       "      <td id=\"T_5ec6e_row1_col6\" class=\"data row1 col6\" >0.9990</td>\n",
       "    </tr>\n",
       "    <tr>\n",
       "      <th id=\"T_5ec6e_level0_row2\" class=\"row_heading level0 row2\" >2</th>\n",
       "      <td id=\"T_5ec6e_row2_col0\" class=\"data row2 col0\" >0.9994</td>\n",
       "      <td id=\"T_5ec6e_row2_col1\" class=\"data row2 col1\" >1.0000</td>\n",
       "      <td id=\"T_5ec6e_row2_col2\" class=\"data row2 col2\" >0.9990</td>\n",
       "      <td id=\"T_5ec6e_row2_col3\" class=\"data row2 col3\" >1.0000</td>\n",
       "      <td id=\"T_5ec6e_row2_col4\" class=\"data row2 col4\" >0.9995</td>\n",
       "      <td id=\"T_5ec6e_row2_col5\" class=\"data row2 col5\" >0.9989</td>\n",
       "      <td id=\"T_5ec6e_row2_col6\" class=\"data row2 col6\" >0.9989</td>\n",
       "    </tr>\n",
       "    <tr>\n",
       "      <th id=\"T_5ec6e_level0_row3\" class=\"row_heading level0 row3\" >3</th>\n",
       "      <td id=\"T_5ec6e_row3_col0\" class=\"data row3 col0\" >0.9991</td>\n",
       "      <td id=\"T_5ec6e_row3_col1\" class=\"data row3 col1\" >1.0000</td>\n",
       "      <td id=\"T_5ec6e_row3_col2\" class=\"data row3 col2\" >0.9986</td>\n",
       "      <td id=\"T_5ec6e_row3_col3\" class=\"data row3 col3\" >0.9998</td>\n",
       "      <td id=\"T_5ec6e_row3_col4\" class=\"data row3 col4\" >0.9992</td>\n",
       "      <td id=\"T_5ec6e_row3_col5\" class=\"data row3 col5\" >0.9982</td>\n",
       "      <td id=\"T_5ec6e_row3_col6\" class=\"data row3 col6\" >0.9982</td>\n",
       "    </tr>\n",
       "    <tr>\n",
       "      <th id=\"T_5ec6e_level0_row4\" class=\"row_heading level0 row4\" >4</th>\n",
       "      <td id=\"T_5ec6e_row4_col0\" class=\"data row4 col0\" >0.9991</td>\n",
       "      <td id=\"T_5ec6e_row4_col1\" class=\"data row4 col1\" >1.0000</td>\n",
       "      <td id=\"T_5ec6e_row4_col2\" class=\"data row4 col2\" >0.9987</td>\n",
       "      <td id=\"T_5ec6e_row4_col3\" class=\"data row4 col3\" >0.9997</td>\n",
       "      <td id=\"T_5ec6e_row4_col4\" class=\"data row4 col4\" >0.9992</td>\n",
       "      <td id=\"T_5ec6e_row4_col5\" class=\"data row4 col5\" >0.9982</td>\n",
       "      <td id=\"T_5ec6e_row4_col6\" class=\"data row4 col6\" >0.9982</td>\n",
       "    </tr>\n",
       "    <tr>\n",
       "      <th id=\"T_5ec6e_level0_row5\" class=\"row_heading level0 row5\" >5</th>\n",
       "      <td id=\"T_5ec6e_row5_col0\" class=\"data row5 col0\" >0.9991</td>\n",
       "      <td id=\"T_5ec6e_row5_col1\" class=\"data row5 col1\" >1.0000</td>\n",
       "      <td id=\"T_5ec6e_row5_col2\" class=\"data row5 col2\" >0.9986</td>\n",
       "      <td id=\"T_5ec6e_row5_col3\" class=\"data row5 col3\" >0.9998</td>\n",
       "      <td id=\"T_5ec6e_row5_col4\" class=\"data row5 col4\" >0.9992</td>\n",
       "      <td id=\"T_5ec6e_row5_col5\" class=\"data row5 col5\" >0.9982</td>\n",
       "      <td id=\"T_5ec6e_row5_col6\" class=\"data row5 col6\" >0.9982</td>\n",
       "    </tr>\n",
       "    <tr>\n",
       "      <th id=\"T_5ec6e_level0_row6\" class=\"row_heading level0 row6\" >6</th>\n",
       "      <td id=\"T_5ec6e_row6_col0\" class=\"data row6 col0\" >0.9991</td>\n",
       "      <td id=\"T_5ec6e_row6_col1\" class=\"data row6 col1\" >1.0000</td>\n",
       "      <td id=\"T_5ec6e_row6_col2\" class=\"data row6 col2\" >0.9988</td>\n",
       "      <td id=\"T_5ec6e_row6_col3\" class=\"data row6 col3\" >0.9997</td>\n",
       "      <td id=\"T_5ec6e_row6_col4\" class=\"data row6 col4\" >0.9992</td>\n",
       "      <td id=\"T_5ec6e_row6_col5\" class=\"data row6 col5\" >0.9983</td>\n",
       "      <td id=\"T_5ec6e_row6_col6\" class=\"data row6 col6\" >0.9983</td>\n",
       "    </tr>\n",
       "    <tr>\n",
       "      <th id=\"T_5ec6e_level0_row7\" class=\"row_heading level0 row7\" >7</th>\n",
       "      <td id=\"T_5ec6e_row7_col0\" class=\"data row7 col0\" >0.9993</td>\n",
       "      <td id=\"T_5ec6e_row7_col1\" class=\"data row7 col1\" >1.0000</td>\n",
       "      <td id=\"T_5ec6e_row7_col2\" class=\"data row7 col2\" >0.9988</td>\n",
       "      <td id=\"T_5ec6e_row7_col3\" class=\"data row7 col3\" >1.0000</td>\n",
       "      <td id=\"T_5ec6e_row7_col4\" class=\"data row7 col4\" >0.9994</td>\n",
       "      <td id=\"T_5ec6e_row7_col5\" class=\"data row7 col5\" >0.9986</td>\n",
       "      <td id=\"T_5ec6e_row7_col6\" class=\"data row7 col6\" >0.9986</td>\n",
       "    </tr>\n",
       "    <tr>\n",
       "      <th id=\"T_5ec6e_level0_row8\" class=\"row_heading level0 row8\" >8</th>\n",
       "      <td id=\"T_5ec6e_row8_col0\" class=\"data row8 col0\" >0.9991</td>\n",
       "      <td id=\"T_5ec6e_row8_col1\" class=\"data row8 col1\" >1.0000</td>\n",
       "      <td id=\"T_5ec6e_row8_col2\" class=\"data row8 col2\" >0.9986</td>\n",
       "      <td id=\"T_5ec6e_row8_col3\" class=\"data row8 col3\" >0.9999</td>\n",
       "      <td id=\"T_5ec6e_row8_col4\" class=\"data row8 col4\" >0.9992</td>\n",
       "      <td id=\"T_5ec6e_row8_col5\" class=\"data row8 col5\" >0.9983</td>\n",
       "      <td id=\"T_5ec6e_row8_col6\" class=\"data row8 col6\" >0.9983</td>\n",
       "    </tr>\n",
       "    <tr>\n",
       "      <th id=\"T_5ec6e_level0_row9\" class=\"row_heading level0 row9\" >9</th>\n",
       "      <td id=\"T_5ec6e_row9_col0\" class=\"data row9 col0\" >0.9993</td>\n",
       "      <td id=\"T_5ec6e_row9_col1\" class=\"data row9 col1\" >1.0000</td>\n",
       "      <td id=\"T_5ec6e_row9_col2\" class=\"data row9 col2\" >0.9988</td>\n",
       "      <td id=\"T_5ec6e_row9_col3\" class=\"data row9 col3\" >1.0000</td>\n",
       "      <td id=\"T_5ec6e_row9_col4\" class=\"data row9 col4\" >0.9994</td>\n",
       "      <td id=\"T_5ec6e_row9_col5\" class=\"data row9 col5\" >0.9986</td>\n",
       "      <td id=\"T_5ec6e_row9_col6\" class=\"data row9 col6\" >0.9986</td>\n",
       "    </tr>\n",
       "    <tr>\n",
       "      <th id=\"T_5ec6e_level0_row10\" class=\"row_heading level0 row10\" >Mean</th>\n",
       "      <td id=\"T_5ec6e_row10_col0\" class=\"data row10 col0\" >0.9992</td>\n",
       "      <td id=\"T_5ec6e_row10_col1\" class=\"data row10 col1\" >1.0000</td>\n",
       "      <td id=\"T_5ec6e_row10_col2\" class=\"data row10 col2\" >0.9987</td>\n",
       "      <td id=\"T_5ec6e_row10_col3\" class=\"data row10 col3\" >0.9999</td>\n",
       "      <td id=\"T_5ec6e_row10_col4\" class=\"data row10 col4\" >0.9993</td>\n",
       "      <td id=\"T_5ec6e_row10_col5\" class=\"data row10 col5\" >0.9984</td>\n",
       "      <td id=\"T_5ec6e_row10_col6\" class=\"data row10 col6\" >0.9984</td>\n",
       "    </tr>\n",
       "    <tr>\n",
       "      <th id=\"T_5ec6e_level0_row11\" class=\"row_heading level0 row11\" >Std</th>\n",
       "      <td id=\"T_5ec6e_row11_col0\" class=\"data row11 col0\" >0.0002</td>\n",
       "      <td id=\"T_5ec6e_row11_col1\" class=\"data row11 col1\" >0.0000</td>\n",
       "      <td id=\"T_5ec6e_row11_col2\" class=\"data row11 col2\" >0.0002</td>\n",
       "      <td id=\"T_5ec6e_row11_col3\" class=\"data row11 col3\" >0.0001</td>\n",
       "      <td id=\"T_5ec6e_row11_col4\" class=\"data row11 col4\" >0.0001</td>\n",
       "      <td id=\"T_5ec6e_row11_col5\" class=\"data row11 col5\" >0.0003</td>\n",
       "      <td id=\"T_5ec6e_row11_col6\" class=\"data row11 col6\" >0.0003</td>\n",
       "    </tr>\n",
       "  </tbody>\n",
       "</table>\n"
      ],
      "text/plain": [
       "<pandas.io.formats.style.Styler at 0x7fa046cb6620>"
      ]
     },
     "metadata": {},
     "output_type": "display_data"
    },
    {
     "data": {
      "text/html": [],
      "text/plain": [
       "<IPython.core.display.HTML object>"
      ]
     },
     "metadata": {},
     "output_type": "display_data"
    }
   ],
   "source": [
    "regression_model_rf = classification_setup.create_model(\"rf\", probability_threshold = 0.50)"
   ]
  },
  {
   "cell_type": "code",
   "execution_count": 107,
   "metadata": {
    "execution": {
     "iopub.execute_input": "2023-06-08T23:18:43.859183Z",
     "iopub.status.busy": "2023-06-08T23:18:43.858199Z",
     "iopub.status.idle": "2023-06-08T23:18:46.443433Z",
     "shell.execute_reply": "2023-06-08T23:18:46.442424Z",
     "shell.execute_reply.started": "2023-06-08T23:18:43.859110Z"
    }
   },
   "outputs": [
    {
     "data": {
      "text/html": [],
      "text/plain": [
       "<IPython.core.display.HTML object>"
      ]
     },
     "metadata": {},
     "output_type": "display_data"
    },
    {
     "data": {
      "image/png": "[encoded data removed]",
      "text/plain": [
       "<Figure size 800x550 with 1 Axes>"
      ]
     },
     "metadata": {},
     "output_type": "display_data"
    }
   ],
   "source": [
    "plot_model(regression_model_rf, plot = 'auc')"
   ]
  },
  {
   "cell_type": "code",
   "execution_count": 17,
   "metadata": {
    "execution": {
     "iopub.execute_input": "2023-06-08T22:04:32.270538Z",
     "iopub.status.busy": "2023-06-08T22:04:32.270281Z",
     "iopub.status.idle": "2023-06-08T22:07:46.099655Z",
     "shell.execute_reply": "2023-06-08T22:07:46.099138Z",
     "shell.execute_reply.started": "2023-06-08T22:04:32.270516Z"
    }
   },
   "outputs": [
    {
     "data": {
      "text/html": [],
      "text/plain": [
       "<IPython.core.display.HTML object>"
      ]
     },
     "metadata": {},
     "output_type": "display_data"
    },
    {
     "data": {
      "text/html": [
       "<style type=\"text/css\">\n",
       "#T_bf02f_row10_col0, #T_bf02f_row10_col1, #T_bf02f_row10_col2, #T_bf02f_row10_col3, #T_bf02f_row10_col4, #T_bf02f_row10_col5, #T_bf02f_row10_col6 {\n",
       "  background: yellow;\n",
       "}\n",
       "</style>\n",
       "<table id=\"T_bf02f\">\n",
       "  <thead>\n",
       "    <tr>\n",
       "      <th class=\"blank level0\" >&nbsp;</th>\n",
       "      <th id=\"T_bf02f_level0_col0\" class=\"col_heading level0 col0\" >Accuracy</th>\n",
       "      <th id=\"T_bf02f_level0_col1\" class=\"col_heading level0 col1\" >AUC</th>\n",
       "      <th id=\"T_bf02f_level0_col2\" class=\"col_heading level0 col2\" >Recall</th>\n",
       "      <th id=\"T_bf02f_level0_col3\" class=\"col_heading level0 col3\" >Prec.</th>\n",
       "      <th id=\"T_bf02f_level0_col4\" class=\"col_heading level0 col4\" >F1</th>\n",
       "      <th id=\"T_bf02f_level0_col5\" class=\"col_heading level0 col5\" >Kappa</th>\n",
       "      <th id=\"T_bf02f_level0_col6\" class=\"col_heading level0 col6\" >MCC</th>\n",
       "    </tr>\n",
       "    <tr>\n",
       "      <th class=\"index_name level0\" >Fold</th>\n",
       "      <th class=\"blank col0\" >&nbsp;</th>\n",
       "      <th class=\"blank col1\" >&nbsp;</th>\n",
       "      <th class=\"blank col2\" >&nbsp;</th>\n",
       "      <th class=\"blank col3\" >&nbsp;</th>\n",
       "      <th class=\"blank col4\" >&nbsp;</th>\n",
       "      <th class=\"blank col5\" >&nbsp;</th>\n",
       "      <th class=\"blank col6\" >&nbsp;</th>\n",
       "    </tr>\n",
       "  </thead>\n",
       "  <tbody>\n",
       "    <tr>\n",
       "      <th id=\"T_bf02f_level0_row0\" class=\"row_heading level0 row0\" >0</th>\n",
       "      <td id=\"T_bf02f_row0_col0\" class=\"data row0 col0\" >0.6893</td>\n",
       "      <td id=\"T_bf02f_row0_col1\" class=\"data row0 col1\" >0.7807</td>\n",
       "      <td id=\"T_bf02f_row0_col2\" class=\"data row0 col2\" >0.8771</td>\n",
       "      <td id=\"T_bf02f_row0_col3\" class=\"data row0 col3\" >0.6719</td>\n",
       "      <td id=\"T_bf02f_row0_col4\" class=\"data row0 col4\" >0.7609</td>\n",
       "      <td id=\"T_bf02f_row0_col5\" class=\"data row0 col5\" >0.3390</td>\n",
       "      <td id=\"T_bf02f_row0_col6\" class=\"data row0 col6\" >0.3643</td>\n",
       "    </tr>\n",
       "    <tr>\n",
       "      <th id=\"T_bf02f_level0_row1\" class=\"row_heading level0 row1\" >1</th>\n",
       "      <td id=\"T_bf02f_row1_col0\" class=\"data row1 col0\" >0.6733</td>\n",
       "      <td id=\"T_bf02f_row1_col1\" class=\"data row1 col1\" >0.7628</td>\n",
       "      <td id=\"T_bf02f_row1_col2\" class=\"data row1 col2\" >0.8650</td>\n",
       "      <td id=\"T_bf02f_row1_col3\" class=\"data row1 col3\" >0.6605</td>\n",
       "      <td id=\"T_bf02f_row1_col4\" class=\"data row1 col4\" >0.7490</td>\n",
       "      <td id=\"T_bf02f_row1_col5\" class=\"data row1 col5\" >0.3045</td>\n",
       "      <td id=\"T_bf02f_row1_col6\" class=\"data row1 col6\" >0.3279</td>\n",
       "    </tr>\n",
       "    <tr>\n",
       "      <th id=\"T_bf02f_level0_row2\" class=\"row_heading level0 row2\" >2</th>\n",
       "      <td id=\"T_bf02f_row2_col0\" class=\"data row2 col0\" >0.6845</td>\n",
       "      <td id=\"T_bf02f_row2_col1\" class=\"data row2 col1\" >0.7805</td>\n",
       "      <td id=\"T_bf02f_row2_col2\" class=\"data row2 col2\" >0.8652</td>\n",
       "      <td id=\"T_bf02f_row2_col3\" class=\"data row2 col3\" >0.6706</td>\n",
       "      <td id=\"T_bf02f_row2_col4\" class=\"data row2 col4\" >0.7556</td>\n",
       "      <td id=\"T_bf02f_row2_col5\" class=\"data row2 col5\" >0.3302</td>\n",
       "      <td id=\"T_bf02f_row2_col6\" class=\"data row2 col6\" >0.3521</td>\n",
       "    </tr>\n",
       "    <tr>\n",
       "      <th id=\"T_bf02f_level0_row3\" class=\"row_heading level0 row3\" >3</th>\n",
       "      <td id=\"T_bf02f_row3_col0\" class=\"data row3 col0\" >0.6898</td>\n",
       "      <td id=\"T_bf02f_row3_col1\" class=\"data row3 col1\" >0.7784</td>\n",
       "      <td id=\"T_bf02f_row3_col2\" class=\"data row3 col2\" >0.8751</td>\n",
       "      <td id=\"T_bf02f_row3_col3\" class=\"data row3 col3\" >0.6729</td>\n",
       "      <td id=\"T_bf02f_row3_col4\" class=\"data row3 col4\" >0.7608</td>\n",
       "      <td id=\"T_bf02f_row3_col5\" class=\"data row3 col5\" >0.3404</td>\n",
       "      <td id=\"T_bf02f_row3_col6\" class=\"data row3 col6\" >0.3649</td>\n",
       "    </tr>\n",
       "    <tr>\n",
       "      <th id=\"T_bf02f_level0_row4\" class=\"row_heading level0 row4\" >4</th>\n",
       "      <td id=\"T_bf02f_row4_col0\" class=\"data row4 col0\" >0.6820</td>\n",
       "      <td id=\"T_bf02f_row4_col1\" class=\"data row4 col1\" >0.7756</td>\n",
       "      <td id=\"T_bf02f_row4_col2\" class=\"data row4 col2\" >0.8675</td>\n",
       "      <td id=\"T_bf02f_row4_col3\" class=\"data row4 col3\" >0.6677</td>\n",
       "      <td id=\"T_bf02f_row4_col4\" class=\"data row4 col4\" >0.7546</td>\n",
       "      <td id=\"T_bf02f_row4_col5\" class=\"data row4 col5\" >0.3240</td>\n",
       "      <td id=\"T_bf02f_row4_col6\" class=\"data row4 col6\" >0.3470</td>\n",
       "    </tr>\n",
       "    <tr>\n",
       "      <th id=\"T_bf02f_level0_row5\" class=\"row_heading level0 row5\" >5</th>\n",
       "      <td id=\"T_bf02f_row5_col0\" class=\"data row5 col0\" >0.6933</td>\n",
       "      <td id=\"T_bf02f_row5_col1\" class=\"data row5 col1\" >0.7800</td>\n",
       "      <td id=\"T_bf02f_row5_col2\" class=\"data row5 col2\" >0.8690</td>\n",
       "      <td id=\"T_bf02f_row5_col3\" class=\"data row5 col3\" >0.6778</td>\n",
       "      <td id=\"T_bf02f_row5_col4\" class=\"data row5 col4\" >0.7616</td>\n",
       "      <td id=\"T_bf02f_row5_col5\" class=\"data row5 col5\" >0.3497</td>\n",
       "      <td id=\"T_bf02f_row5_col6\" class=\"data row5 col6\" >0.3715</td>\n",
       "    </tr>\n",
       "    <tr>\n",
       "      <th id=\"T_bf02f_level0_row6\" class=\"row_heading level0 row6\" >6</th>\n",
       "      <td id=\"T_bf02f_row6_col0\" class=\"data row6 col0\" >0.6860</td>\n",
       "      <td id=\"T_bf02f_row6_col1\" class=\"data row6 col1\" >0.7735</td>\n",
       "      <td id=\"T_bf02f_row6_col2\" class=\"data row6 col2\" >0.8756</td>\n",
       "      <td id=\"T_bf02f_row6_col3\" class=\"data row6 col3\" >0.6693</td>\n",
       "      <td id=\"T_bf02f_row6_col4\" class=\"data row6 col4\" >0.7587</td>\n",
       "      <td id=\"T_bf02f_row6_col5\" class=\"data row6 col5\" >0.3317</td>\n",
       "      <td id=\"T_bf02f_row6_col6\" class=\"data row6 col6\" >0.3570</td>\n",
       "    </tr>\n",
       "    <tr>\n",
       "      <th id=\"T_bf02f_level0_row7\" class=\"row_heading level0 row7\" >7</th>\n",
       "      <td id=\"T_bf02f_row7_col0\" class=\"data row7 col0\" >0.6917</td>\n",
       "      <td id=\"T_bf02f_row7_col1\" class=\"data row7 col1\" >0.7781</td>\n",
       "      <td id=\"T_bf02f_row7_col2\" class=\"data row7 col2\" >0.8743</td>\n",
       "      <td id=\"T_bf02f_row7_col3\" class=\"data row7 col3\" >0.6748</td>\n",
       "      <td id=\"T_bf02f_row7_col4\" class=\"data row7 col4\" >0.7617</td>\n",
       "      <td id=\"T_bf02f_row7_col5\" class=\"data row7 col5\" >0.3450</td>\n",
       "      <td id=\"T_bf02f_row7_col6\" class=\"data row7 col6\" >0.3689</td>\n",
       "    </tr>\n",
       "    <tr>\n",
       "      <th id=\"T_bf02f_level0_row8\" class=\"row_heading level0 row8\" >8</th>\n",
       "      <td id=\"T_bf02f_row8_col0\" class=\"data row8 col0\" >0.6892</td>\n",
       "      <td id=\"T_bf02f_row8_col1\" class=\"data row8 col1\" >0.7841</td>\n",
       "      <td id=\"T_bf02f_row8_col2\" class=\"data row8 col2\" >0.8708</td>\n",
       "      <td id=\"T_bf02f_row8_col3\" class=\"data row8 col3\" >0.6734</td>\n",
       "      <td id=\"T_bf02f_row8_col4\" class=\"data row8 col4\" >0.7595</td>\n",
       "      <td id=\"T_bf02f_row8_col5\" class=\"data row8 col5\" >0.3399</td>\n",
       "      <td id=\"T_bf02f_row8_col6\" class=\"data row8 col6\" >0.3630</td>\n",
       "    </tr>\n",
       "    <tr>\n",
       "      <th id=\"T_bf02f_level0_row9\" class=\"row_heading level0 row9\" >9</th>\n",
       "      <td id=\"T_bf02f_row9_col0\" class=\"data row9 col0\" >0.6846</td>\n",
       "      <td id=\"T_bf02f_row9_col1\" class=\"data row9 col1\" >0.7774</td>\n",
       "      <td id=\"T_bf02f_row9_col2\" class=\"data row9 col2\" >0.8637</td>\n",
       "      <td id=\"T_bf02f_row9_col3\" class=\"data row9 col3\" >0.6711</td>\n",
       "      <td id=\"T_bf02f_row9_col4\" class=\"data row9 col4\" >0.7553</td>\n",
       "      <td id=\"T_bf02f_row9_col5\" class=\"data row9 col5\" >0.3308</td>\n",
       "      <td id=\"T_bf02f_row9_col6\" class=\"data row9 col6\" >0.3522</td>\n",
       "    </tr>\n",
       "    <tr>\n",
       "      <th id=\"T_bf02f_level0_row10\" class=\"row_heading level0 row10\" >Mean</th>\n",
       "      <td id=\"T_bf02f_row10_col0\" class=\"data row10 col0\" >0.6864</td>\n",
       "      <td id=\"T_bf02f_row10_col1\" class=\"data row10 col1\" >0.7771</td>\n",
       "      <td id=\"T_bf02f_row10_col2\" class=\"data row10 col2\" >0.8703</td>\n",
       "      <td id=\"T_bf02f_row10_col3\" class=\"data row10 col3\" >0.6710</td>\n",
       "      <td id=\"T_bf02f_row10_col4\" class=\"data row10 col4\" >0.7578</td>\n",
       "      <td id=\"T_bf02f_row10_col5\" class=\"data row10 col5\" >0.3335</td>\n",
       "      <td id=\"T_bf02f_row10_col6\" class=\"data row10 col6\" >0.3569</td>\n",
       "    </tr>\n",
       "    <tr>\n",
       "      <th id=\"T_bf02f_level0_row11\" class=\"row_heading level0 row11\" >Std</th>\n",
       "      <td id=\"T_bf02f_row11_col0\" class=\"data row11 col0\" >0.0055</td>\n",
       "      <td id=\"T_bf02f_row11_col1\" class=\"data row11 col1\" >0.0055</td>\n",
       "      <td id=\"T_bf02f_row11_col2\" class=\"data row11 col2\" >0.0047</td>\n",
       "      <td id=\"T_bf02f_row11_col3\" class=\"data row11 col3\" >0.0044</td>\n",
       "      <td id=\"T_bf02f_row11_col4\" class=\"data row11 col4\" >0.0039</td>\n",
       "      <td id=\"T_bf02f_row11_col5\" class=\"data row11 col5\" >0.0121</td>\n",
       "      <td id=\"T_bf02f_row11_col6\" class=\"data row11 col6\" >0.0122</td>\n",
       "    </tr>\n",
       "  </tbody>\n",
       "</table>\n"
      ],
      "text/plain": [
       "<pandas.io.formats.style.Styler at 0x7fa05c2f1b70>"
      ]
     },
     "metadata": {},
     "output_type": "display_data"
    },
    {
     "data": {
      "text/html": [],
      "text/plain": [
       "<IPython.core.display.HTML object>"
      ]
     },
     "metadata": {},
     "output_type": "display_data"
    }
   ],
   "source": [
    "regression_model_gbc = classification_setup.create_model(\"gbc\", probability_threshold = 0.50)"
   ]
  },
  {
   "cell_type": "code",
   "execution_count": 20,
   "metadata": {
    "execution": {
     "iopub.execute_input": "2023-06-08T22:07:56.529718Z",
     "iopub.status.busy": "2023-06-08T22:07:56.529511Z",
     "iopub.status.idle": "2023-06-08T22:07:58.054617Z",
     "shell.execute_reply": "2023-06-08T22:07:58.053795Z",
     "shell.execute_reply.started": "2023-06-08T22:07:56.529700Z"
    }
   },
   "outputs": [
    {
     "data": {
      "text/html": [],
      "text/plain": [
       "<IPython.core.display.HTML object>"
      ]
     },
     "metadata": {},
     "output_type": "display_data"
    },
    {
     "data": {
      "image/png": "[encoded data removed]",
      "text/plain": [
       "<Figure size 800x550 with 1 Axes>"
      ]
     },
     "metadata": {},
     "output_type": "display_data"
    }
   ],
   "source": [
    "plot_model(regression_model_gbc, plot = 'auc')"
   ]
  },
  {
   "cell_type": "code",
   "execution_count": 19,
   "metadata": {
    "execution": {
     "iopub.execute_input": "2023-06-08T22:07:46.104484Z",
     "iopub.status.busy": "2023-06-08T22:07:46.104275Z",
     "iopub.status.idle": "2023-06-08T22:07:56.528688Z",
     "shell.execute_reply": "2023-06-08T22:07:56.527569Z",
     "shell.execute_reply.started": "2023-06-08T22:07:46.104469Z"
    }
   },
   "outputs": [
    {
     "data": {
      "text/html": [],
      "text/plain": [
       "<IPython.core.display.HTML object>"
      ]
     },
     "metadata": {},
     "output_type": "display_data"
    },
    {
     "data": {
      "text/html": [
       "<style type=\"text/css\">\n",
       "#T_1508c_row10_col0, #T_1508c_row10_col1, #T_1508c_row10_col2, #T_1508c_row10_col3, #T_1508c_row10_col4, #T_1508c_row10_col5, #T_1508c_row10_col6 {\n",
       "  background: yellow;\n",
       "}\n",
       "</style>\n",
       "<table id=\"T_1508c\">\n",
       "  <thead>\n",
       "    <tr>\n",
       "      <th class=\"blank level0\" >&nbsp;</th>\n",
       "      <th id=\"T_1508c_level0_col0\" class=\"col_heading level0 col0\" >Accuracy</th>\n",
       "      <th id=\"T_1508c_level0_col1\" class=\"col_heading level0 col1\" >AUC</th>\n",
       "      <th id=\"T_1508c_level0_col2\" class=\"col_heading level0 col2\" >Recall</th>\n",
       "      <th id=\"T_1508c_level0_col3\" class=\"col_heading level0 col3\" >Prec.</th>\n",
       "      <th id=\"T_1508c_level0_col4\" class=\"col_heading level0 col4\" >F1</th>\n",
       "      <th id=\"T_1508c_level0_col5\" class=\"col_heading level0 col5\" >Kappa</th>\n",
       "      <th id=\"T_1508c_level0_col6\" class=\"col_heading level0 col6\" >MCC</th>\n",
       "    </tr>\n",
       "    <tr>\n",
       "      <th class=\"index_name level0\" >Fold</th>\n",
       "      <th class=\"blank col0\" >&nbsp;</th>\n",
       "      <th class=\"blank col1\" >&nbsp;</th>\n",
       "      <th class=\"blank col2\" >&nbsp;</th>\n",
       "      <th class=\"blank col3\" >&nbsp;</th>\n",
       "      <th class=\"blank col4\" >&nbsp;</th>\n",
       "      <th class=\"blank col5\" >&nbsp;</th>\n",
       "      <th class=\"blank col6\" >&nbsp;</th>\n",
       "    </tr>\n",
       "  </thead>\n",
       "  <tbody>\n",
       "    <tr>\n",
       "      <th id=\"T_1508c_level0_row0\" class=\"row_heading level0 row0\" >0</th>\n",
       "      <td id=\"T_1508c_row0_col0\" class=\"data row0 col0\" >0.8816</td>\n",
       "      <td id=\"T_1508c_row0_col1\" class=\"data row0 col1\" >0.9617</td>\n",
       "      <td id=\"T_1508c_row0_col2\" class=\"data row0 col2\" >0.9452</td>\n",
       "      <td id=\"T_1508c_row0_col3\" class=\"data row0 col3\" >0.8589</td>\n",
       "      <td id=\"T_1508c_row0_col4\" class=\"data row0 col4\" >0.9000</td>\n",
       "      <td id=\"T_1508c_row0_col5\" class=\"data row0 col5\" >0.7558</td>\n",
       "      <td id=\"T_1508c_row0_col6\" class=\"data row0 col6\" >0.7610</td>\n",
       "    </tr>\n",
       "    <tr>\n",
       "      <th id=\"T_1508c_level0_row1\" class=\"row_heading level0 row1\" >1</th>\n",
       "      <td id=\"T_1508c_row1_col0\" class=\"data row1 col0\" >0.8706</td>\n",
       "      <td id=\"T_1508c_row1_col1\" class=\"data row1 col1\" >0.9590</td>\n",
       "      <td id=\"T_1508c_row1_col2\" class=\"data row1 col2\" >0.9421</td>\n",
       "      <td id=\"T_1508c_row1_col3\" class=\"data row1 col3\" >0.8459</td>\n",
       "      <td id=\"T_1508c_row1_col4\" class=\"data row1 col4\" >0.8914</td>\n",
       "      <td id=\"T_1508c_row1_col5\" class=\"data row1 col5\" >0.7325</td>\n",
       "      <td id=\"T_1508c_row1_col6\" class=\"data row1 col6\" >0.7390</td>\n",
       "    </tr>\n",
       "    <tr>\n",
       "      <th id=\"T_1508c_level0_row2\" class=\"row_heading level0 row2\" >2</th>\n",
       "      <td id=\"T_1508c_row2_col0\" class=\"data row2 col0\" >0.8862</td>\n",
       "      <td id=\"T_1508c_row2_col1\" class=\"data row2 col1\" >0.9633</td>\n",
       "      <td id=\"T_1508c_row2_col2\" class=\"data row2 col2\" >0.9405</td>\n",
       "      <td id=\"T_1508c_row2_col3\" class=\"data row2 col3\" >0.8684</td>\n",
       "      <td id=\"T_1508c_row2_col4\" class=\"data row2 col4\" >0.9030</td>\n",
       "      <td id=\"T_1508c_row2_col5\" class=\"data row2 col5\" >0.7658</td>\n",
       "      <td id=\"T_1508c_row2_col6\" class=\"data row2 col6\" >0.7693</td>\n",
       "    </tr>\n",
       "    <tr>\n",
       "      <th id=\"T_1508c_level0_row3\" class=\"row_heading level0 row3\" >3</th>\n",
       "      <td id=\"T_1508c_row3_col0\" class=\"data row3 col0\" >0.8840</td>\n",
       "      <td id=\"T_1508c_row3_col1\" class=\"data row3 col1\" >0.9653</td>\n",
       "      <td id=\"T_1508c_row3_col2\" class=\"data row3 col2\" >0.9502</td>\n",
       "      <td id=\"T_1508c_row3_col3\" class=\"data row3 col3\" >0.8589</td>\n",
       "      <td id=\"T_1508c_row3_col4\" class=\"data row3 col4\" >0.9023</td>\n",
       "      <td id=\"T_1508c_row3_col5\" class=\"data row3 col5\" >0.7604</td>\n",
       "      <td id=\"T_1508c_row3_col6\" class=\"data row3 col6\" >0.7663</td>\n",
       "    </tr>\n",
       "    <tr>\n",
       "      <th id=\"T_1508c_level0_row4\" class=\"row_heading level0 row4\" >4</th>\n",
       "      <td id=\"T_1508c_row4_col0\" class=\"data row4 col0\" >0.8833</td>\n",
       "      <td id=\"T_1508c_row4_col1\" class=\"data row4 col1\" >0.9643</td>\n",
       "      <td id=\"T_1508c_row4_col2\" class=\"data row4 col2\" >0.9446</td>\n",
       "      <td id=\"T_1508c_row4_col3\" class=\"data row4 col3\" >0.8616</td>\n",
       "      <td id=\"T_1508c_row4_col4\" class=\"data row4 col4\" >0.9012</td>\n",
       "      <td id=\"T_1508c_row4_col5\" class=\"data row4 col5\" >0.7593</td>\n",
       "      <td id=\"T_1508c_row4_col6\" class=\"data row4 col6\" >0.7641</td>\n",
       "    </tr>\n",
       "    <tr>\n",
       "      <th id=\"T_1508c_level0_row5\" class=\"row_heading level0 row5\" >5</th>\n",
       "      <td id=\"T_1508c_row5_col0\" class=\"data row5 col0\" >0.8913</td>\n",
       "      <td id=\"T_1508c_row5_col1\" class=\"data row5 col1\" >0.9658</td>\n",
       "      <td id=\"T_1508c_row5_col2\" class=\"data row5 col2\" >0.9443</td>\n",
       "      <td id=\"T_1508c_row5_col3\" class=\"data row5 col3\" >0.8731</td>\n",
       "      <td id=\"T_1508c_row5_col4\" class=\"data row5 col4\" >0.9073</td>\n",
       "      <td id=\"T_1508c_row5_col5\" class=\"data row5 col5\" >0.7763</td>\n",
       "      <td id=\"T_1508c_row5_col6\" class=\"data row5 col6\" >0.7798</td>\n",
       "    </tr>\n",
       "    <tr>\n",
       "      <th id=\"T_1508c_level0_row6\" class=\"row_heading level0 row6\" >6</th>\n",
       "      <td id=\"T_1508c_row6_col0\" class=\"data row6 col0\" >0.8987</td>\n",
       "      <td id=\"T_1508c_row6_col1\" class=\"data row6 col1\" >0.9686</td>\n",
       "      <td id=\"T_1508c_row6_col2\" class=\"data row6 col2\" >0.9561</td>\n",
       "      <td id=\"T_1508c_row6_col3\" class=\"data row6 col3\" >0.8757</td>\n",
       "      <td id=\"T_1508c_row6_col4\" class=\"data row6 col4\" >0.9141</td>\n",
       "      <td id=\"T_1508c_row6_col5\" class=\"data row6 col5\" >0.7913</td>\n",
       "      <td id=\"T_1508c_row6_col6\" class=\"data row6 col6\" >0.7959</td>\n",
       "    </tr>\n",
       "    <tr>\n",
       "      <th id=\"T_1508c_level0_row7\" class=\"row_heading level0 row7\" >7</th>\n",
       "      <td id=\"T_1508c_row7_col0\" class=\"data row7 col0\" >0.8922</td>\n",
       "      <td id=\"T_1508c_row7_col1\" class=\"data row7 col1\" >0.9649</td>\n",
       "      <td id=\"T_1508c_row7_col2\" class=\"data row7 col2\" >0.9490</td>\n",
       "      <td id=\"T_1508c_row7_col3\" class=\"data row7 col3\" >0.8712</td>\n",
       "      <td id=\"T_1508c_row7_col4\" class=\"data row7 col4\" >0.9085</td>\n",
       "      <td id=\"T_1508c_row7_col5\" class=\"data row7 col5\" >0.7780</td>\n",
       "      <td id=\"T_1508c_row7_col6\" class=\"data row7 col6\" >0.7822</td>\n",
       "    </tr>\n",
       "    <tr>\n",
       "      <th id=\"T_1508c_level0_row8\" class=\"row_heading level0 row8\" >8</th>\n",
       "      <td id=\"T_1508c_row8_col0\" class=\"data row8 col0\" >0.8921</td>\n",
       "      <td id=\"T_1508c_row8_col1\" class=\"data row8 col1\" >0.9661</td>\n",
       "      <td id=\"T_1508c_row8_col2\" class=\"data row8 col2\" >0.9466</td>\n",
       "      <td id=\"T_1508c_row8_col3\" class=\"data row8 col3\" >0.8727</td>\n",
       "      <td id=\"T_1508c_row8_col4\" class=\"data row8 col4\" >0.9081</td>\n",
       "      <td id=\"T_1508c_row8_col5\" class=\"data row8 col5\" >0.7779</td>\n",
       "      <td id=\"T_1508c_row8_col6\" class=\"data row8 col6\" >0.7816</td>\n",
       "    </tr>\n",
       "    <tr>\n",
       "      <th id=\"T_1508c_level0_row9\" class=\"row_heading level0 row9\" >9</th>\n",
       "      <td id=\"T_1508c_row9_col0\" class=\"data row9 col0\" >0.8857</td>\n",
       "      <td id=\"T_1508c_row9_col1\" class=\"data row9 col1\" >0.9630</td>\n",
       "      <td id=\"T_1508c_row9_col2\" class=\"data row9 col2\" >0.9467</td>\n",
       "      <td id=\"T_1508c_row9_col3\" class=\"data row9 col3\" >0.8636</td>\n",
       "      <td id=\"T_1508c_row9_col4\" class=\"data row9 col4\" >0.9032</td>\n",
       "      <td id=\"T_1508c_row9_col5\" class=\"data row9 col5\" >0.7643</td>\n",
       "      <td id=\"T_1508c_row9_col6\" class=\"data row9 col6\" >0.7691</td>\n",
       "    </tr>\n",
       "    <tr>\n",
       "      <th id=\"T_1508c_level0_row10\" class=\"row_heading level0 row10\" >Mean</th>\n",
       "      <td id=\"T_1508c_row10_col0\" class=\"data row10 col0\" >0.8866</td>\n",
       "      <td id=\"T_1508c_row10_col1\" class=\"data row10 col1\" >0.9642</td>\n",
       "      <td id=\"T_1508c_row10_col2\" class=\"data row10 col2\" >0.9465</td>\n",
       "      <td id=\"T_1508c_row10_col3\" class=\"data row10 col3\" >0.8650</td>\n",
       "      <td id=\"T_1508c_row10_col4\" class=\"data row10 col4\" >0.9039</td>\n",
       "      <td id=\"T_1508c_row10_col5\" class=\"data row10 col5\" >0.7662</td>\n",
       "      <td id=\"T_1508c_row10_col6\" class=\"data row10 col6\" >0.7708</td>\n",
       "    </tr>\n",
       "    <tr>\n",
       "      <th id=\"T_1508c_level0_row11\" class=\"row_heading level0 row11\" >Std</th>\n",
       "      <td id=\"T_1508c_row11_col0\" class=\"data row11 col0\" >0.0073</td>\n",
       "      <td id=\"T_1508c_row11_col1\" class=\"data row11 col1\" >0.0025</td>\n",
       "      <td id=\"T_1508c_row11_col2\" class=\"data row11 col2\" >0.0042</td>\n",
       "      <td id=\"T_1508c_row11_col3\" class=\"data row11 col3\" >0.0086</td>\n",
       "      <td id=\"T_1508c_row11_col4\" class=\"data row11 col4\" >0.0058</td>\n",
       "      <td id=\"T_1508c_row11_col5\" class=\"data row11 col5\" >0.0153</td>\n",
       "      <td id=\"T_1508c_row11_col6\" class=\"data row11 col6\" >0.0146</td>\n",
       "    </tr>\n",
       "  </tbody>\n",
       "</table>\n"
      ],
      "text/plain": [
       "<pandas.io.formats.style.Styler at 0x7fa055f9af80>"
      ]
     },
     "metadata": {},
     "output_type": "display_data"
    },
    {
     "data": {
      "text/html": [],
      "text/plain": [
       "<IPython.core.display.HTML object>"
      ]
     },
     "metadata": {},
     "output_type": "display_data"
    }
   ],
   "source": [
    "regression_model_lightgbm = classification_setup.create_model(\"lightgbm\", probability_threshold = 0.50)"
   ]
  },
  {
   "cell_type": "code",
   "execution_count": 21,
   "metadata": {
    "execution": {
     "iopub.execute_input": "2023-06-08T22:07:58.056020Z",
     "iopub.status.busy": "2023-06-08T22:07:58.055799Z",
     "iopub.status.idle": "2023-06-08T22:07:59.361721Z",
     "shell.execute_reply": "2023-06-08T22:07:59.360754Z",
     "shell.execute_reply.started": "2023-06-08T22:07:58.056003Z"
    }
   },
   "outputs": [
    {
     "data": {
      "text/html": [],
      "text/plain": [
       "<IPython.core.display.HTML object>"
      ]
     },
     "metadata": {},
     "output_type": "display_data"
    },
    {
     "data": {
      "image/png": "[encoded data removed]",
      "text/plain": [
       "<Figure size 800x550 with 1 Axes>"
      ]
     },
     "metadata": {},
     "output_type": "display_data"
    }
   ],
   "source": [
    "plot_model(regression_model_lightgbm, plot = 'auc')"
   ]
  },
  {
   "cell_type": "code",
   "execution_count": 81,
   "metadata": {
    "execution": {
     "iopub.execute_input": "2023-06-08T23:07:10.450513Z",
     "iopub.status.busy": "2023-06-08T23:07:10.450192Z",
     "iopub.status.idle": "2023-06-08T23:08:04.226604Z",
     "shell.execute_reply": "2023-06-08T23:08:04.224995Z",
     "shell.execute_reply.started": "2023-06-08T23:07:10.450492Z"
    }
   },
   "outputs": [
    {
     "data": {
      "text/html": [],
      "text/plain": [
       "<IPython.core.display.HTML object>"
      ]
     },
     "metadata": {},
     "output_type": "display_data"
    },
    {
     "data": {
      "text/html": [
       "<style type=\"text/css\">\n",
       "#T_aba54_row10_col0, #T_aba54_row10_col1, #T_aba54_row10_col2, #T_aba54_row10_col3, #T_aba54_row10_col4, #T_aba54_row10_col5, #T_aba54_row10_col6 {\n",
       "  background: yellow;\n",
       "}\n",
       "</style>\n",
       "<table id=\"T_aba54\">\n",
       "  <thead>\n",
       "    <tr>\n",
       "      <th class=\"blank level0\" >&nbsp;</th>\n",
       "      <th id=\"T_aba54_level0_col0\" class=\"col_heading level0 col0\" >Accuracy</th>\n",
       "      <th id=\"T_aba54_level0_col1\" class=\"col_heading level0 col1\" >AUC</th>\n",
       "      <th id=\"T_aba54_level0_col2\" class=\"col_heading level0 col2\" >Recall</th>\n",
       "      <th id=\"T_aba54_level0_col3\" class=\"col_heading level0 col3\" >Prec.</th>\n",
       "      <th id=\"T_aba54_level0_col4\" class=\"col_heading level0 col4\" >F1</th>\n",
       "      <th id=\"T_aba54_level0_col5\" class=\"col_heading level0 col5\" >Kappa</th>\n",
       "      <th id=\"T_aba54_level0_col6\" class=\"col_heading level0 col6\" >MCC</th>\n",
       "    </tr>\n",
       "    <tr>\n",
       "      <th class=\"index_name level0\" >Fold</th>\n",
       "      <th class=\"blank col0\" >&nbsp;</th>\n",
       "      <th class=\"blank col1\" >&nbsp;</th>\n",
       "      <th class=\"blank col2\" >&nbsp;</th>\n",
       "      <th class=\"blank col3\" >&nbsp;</th>\n",
       "      <th class=\"blank col4\" >&nbsp;</th>\n",
       "      <th class=\"blank col5\" >&nbsp;</th>\n",
       "      <th class=\"blank col6\" >&nbsp;</th>\n",
       "    </tr>\n",
       "  </thead>\n",
       "  <tbody>\n",
       "    <tr>\n",
       "      <th id=\"T_aba54_level0_row0\" class=\"row_heading level0 row0\" >0</th>\n",
       "      <td id=\"T_aba54_row0_col0\" class=\"data row0 col0\" >0.6480</td>\n",
       "      <td id=\"T_aba54_row0_col1\" class=\"data row0 col1\" >0.6920</td>\n",
       "      <td id=\"T_aba54_row0_col2\" class=\"data row0 col2\" >0.8636</td>\n",
       "      <td id=\"T_aba54_row0_col3\" class=\"data row0 col3\" >0.6389</td>\n",
       "      <td id=\"T_aba54_row0_col4\" class=\"data row0 col4\" >0.7345</td>\n",
       "      <td id=\"T_aba54_row0_col5\" class=\"data row0 col5\" >0.2457</td>\n",
       "      <td id=\"T_aba54_row0_col6\" class=\"data row0 col6\" >0.2714</td>\n",
       "    </tr>\n",
       "    <tr>\n",
       "      <th id=\"T_aba54_level0_row1\" class=\"row_heading level0 row1\" >1</th>\n",
       "      <td id=\"T_aba54_row1_col0\" class=\"data row1 col0\" >0.6389</td>\n",
       "      <td id=\"T_aba54_row1_col1\" class=\"data row1 col1\" >0.6830</td>\n",
       "      <td id=\"T_aba54_row1_col2\" class=\"data row1 col2\" >0.8381</td>\n",
       "      <td id=\"T_aba54_row1_col3\" class=\"data row1 col3\" >0.6365</td>\n",
       "      <td id=\"T_aba54_row1_col4\" class=\"data row1 col4\" >0.7235</td>\n",
       "      <td id=\"T_aba54_row1_col5\" class=\"data row1 col5\" >0.2305</td>\n",
       "      <td id=\"T_aba54_row1_col6\" class=\"data row1 col6\" >0.2492</td>\n",
       "    </tr>\n",
       "    <tr>\n",
       "      <th id=\"T_aba54_level0_row2\" class=\"row_heading level0 row2\" >2</th>\n",
       "      <td id=\"T_aba54_row2_col0\" class=\"data row2 col0\" >0.6467</td>\n",
       "      <td id=\"T_aba54_row2_col1\" class=\"data row2 col1\" >0.6922</td>\n",
       "      <td id=\"T_aba54_row2_col2\" class=\"data row2 col2\" >0.8700</td>\n",
       "      <td id=\"T_aba54_row2_col3\" class=\"data row2 col3\" >0.6365</td>\n",
       "      <td id=\"T_aba54_row2_col4\" class=\"data row2 col4\" >0.7352</td>\n",
       "      <td id=\"T_aba54_row2_col5\" class=\"data row2 col5\" >0.2412</td>\n",
       "      <td id=\"T_aba54_row2_col6\" class=\"data row2 col6\" >0.2692</td>\n",
       "    </tr>\n",
       "    <tr>\n",
       "      <th id=\"T_aba54_level0_row3\" class=\"row_heading level0 row3\" >3</th>\n",
       "      <td id=\"T_aba54_row3_col0\" class=\"data row3 col0\" >0.6482</td>\n",
       "      <td id=\"T_aba54_row3_col1\" class=\"data row3 col1\" >0.6945</td>\n",
       "      <td id=\"T_aba54_row3_col2\" class=\"data row3 col2\" >0.8440</td>\n",
       "      <td id=\"T_aba54_row3_col3\" class=\"data row3 col3\" >0.6432</td>\n",
       "      <td id=\"T_aba54_row3_col4\" class=\"data row3 col4\" >0.7301</td>\n",
       "      <td id=\"T_aba54_row3_col5\" class=\"data row3 col5\" >0.2507</td>\n",
       "      <td id=\"T_aba54_row3_col6\" class=\"data row3 col6\" >0.2704</td>\n",
       "    </tr>\n",
       "    <tr>\n",
       "      <th id=\"T_aba54_level0_row4\" class=\"row_heading level0 row4\" >4</th>\n",
       "      <td id=\"T_aba54_row4_col0\" class=\"data row4 col0\" >0.6448</td>\n",
       "      <td id=\"T_aba54_row4_col1\" class=\"data row4 col1\" >0.6934</td>\n",
       "      <td id=\"T_aba54_row4_col2\" class=\"data row4 col2\" >0.8577</td>\n",
       "      <td id=\"T_aba54_row4_col3\" class=\"data row4 col3\" >0.6374</td>\n",
       "      <td id=\"T_aba54_row4_col4\" class=\"data row4 col4\" >0.7313</td>\n",
       "      <td id=\"T_aba54_row4_col5\" class=\"data row4 col5\" >0.2395</td>\n",
       "      <td id=\"T_aba54_row4_col6\" class=\"data row4 col6\" >0.2635</td>\n",
       "    </tr>\n",
       "    <tr>\n",
       "      <th id=\"T_aba54_level0_row5\" class=\"row_heading level0 row5\" >5</th>\n",
       "      <td id=\"T_aba54_row5_col0\" class=\"data row5 col0\" >0.6493</td>\n",
       "      <td id=\"T_aba54_row5_col1\" class=\"data row5 col1\" >0.6983</td>\n",
       "      <td id=\"T_aba54_row5_col2\" class=\"data row5 col2\" >0.8638</td>\n",
       "      <td id=\"T_aba54_row5_col3\" class=\"data row5 col3\" >0.6399</td>\n",
       "      <td id=\"T_aba54_row5_col4\" class=\"data row5 col4\" >0.7352</td>\n",
       "      <td id=\"T_aba54_row5_col5\" class=\"data row5 col5\" >0.2487</td>\n",
       "      <td id=\"T_aba54_row5_col6\" class=\"data row5 col6\" >0.2744</td>\n",
       "    </tr>\n",
       "    <tr>\n",
       "      <th id=\"T_aba54_level0_row6\" class=\"row_heading level0 row6\" >6</th>\n",
       "      <td id=\"T_aba54_row6_col0\" class=\"data row6 col0\" >0.6435</td>\n",
       "      <td id=\"T_aba54_row6_col1\" class=\"data row6 col1\" >0.6884</td>\n",
       "      <td id=\"T_aba54_row6_col2\" class=\"data row6 col2\" >0.8594</td>\n",
       "      <td id=\"T_aba54_row6_col3\" class=\"data row6 col3\" >0.6359</td>\n",
       "      <td id=\"T_aba54_row6_col4\" class=\"data row6 col4\" >0.7310</td>\n",
       "      <td id=\"T_aba54_row6_col5\" class=\"data row6 col5\" >0.2360</td>\n",
       "      <td id=\"T_aba54_row6_col6\" class=\"data row6 col6\" >0.2606</td>\n",
       "    </tr>\n",
       "    <tr>\n",
       "      <th id=\"T_aba54_level0_row7\" class=\"row_heading level0 row7\" >7</th>\n",
       "      <td id=\"T_aba54_row7_col0\" class=\"data row7 col0\" >0.6482</td>\n",
       "      <td id=\"T_aba54_row7_col1\" class=\"data row7 col1\" >0.6970</td>\n",
       "      <td id=\"T_aba54_row7_col2\" class=\"data row7 col2\" >0.8659</td>\n",
       "      <td id=\"T_aba54_row7_col3\" class=\"data row7 col3\" >0.6385</td>\n",
       "      <td id=\"T_aba54_row7_col4\" class=\"data row7 col4\" >0.7350</td>\n",
       "      <td id=\"T_aba54_row7_col5\" class=\"data row7 col5\" >0.2456</td>\n",
       "      <td id=\"T_aba54_row7_col6\" class=\"data row7 col6\" >0.2721</td>\n",
       "    </tr>\n",
       "    <tr>\n",
       "      <th id=\"T_aba54_level0_row8\" class=\"row_heading level0 row8\" >8</th>\n",
       "      <td id=\"T_aba54_row8_col0\" class=\"data row8 col0\" >0.6529</td>\n",
       "      <td id=\"T_aba54_row8_col1\" class=\"data row8 col1\" >0.7048</td>\n",
       "      <td id=\"T_aba54_row8_col2\" class=\"data row8 col2\" >0.8683</td>\n",
       "      <td id=\"T_aba54_row8_col3\" class=\"data row8 col3\" >0.6420</td>\n",
       "      <td id=\"T_aba54_row8_col4\" class=\"data row8 col4\" >0.7382</td>\n",
       "      <td id=\"T_aba54_row8_col5\" class=\"data row8 col5\" >0.2561</td>\n",
       "      <td id=\"T_aba54_row8_col6\" class=\"data row8 col6\" >0.2830</td>\n",
       "    </tr>\n",
       "    <tr>\n",
       "      <th id=\"T_aba54_level0_row9\" class=\"row_heading level0 row9\" >9</th>\n",
       "      <td id=\"T_aba54_row9_col0\" class=\"data row9 col0\" >0.6441</td>\n",
       "      <td id=\"T_aba54_row9_col1\" class=\"data row9 col1\" >0.6947</td>\n",
       "      <td id=\"T_aba54_row9_col2\" class=\"data row9 col2\" >0.8585</td>\n",
       "      <td id=\"T_aba54_row9_col3\" class=\"data row9 col3\" >0.6366</td>\n",
       "      <td id=\"T_aba54_row9_col4\" class=\"data row9 col4\" >0.7311</td>\n",
       "      <td id=\"T_aba54_row9_col5\" class=\"data row9 col5\" >0.2377</td>\n",
       "      <td id=\"T_aba54_row9_col6\" class=\"data row9 col6\" >0.2620</td>\n",
       "    </tr>\n",
       "    <tr>\n",
       "      <th id=\"T_aba54_level0_row10\" class=\"row_heading level0 row10\" >Mean</th>\n",
       "      <td id=\"T_aba54_row10_col0\" class=\"data row10 col0\" >0.6464</td>\n",
       "      <td id=\"T_aba54_row10_col1\" class=\"data row10 col1\" >0.6938</td>\n",
       "      <td id=\"T_aba54_row10_col2\" class=\"data row10 col2\" >0.8589</td>\n",
       "      <td id=\"T_aba54_row10_col3\" class=\"data row10 col3\" >0.6385</td>\n",
       "      <td id=\"T_aba54_row10_col4\" class=\"data row10 col4\" >0.7325</td>\n",
       "      <td id=\"T_aba54_row10_col5\" class=\"data row10 col5\" >0.2432</td>\n",
       "      <td id=\"T_aba54_row10_col6\" class=\"data row10 col6\" >0.2676</td>\n",
       "    </tr>\n",
       "    <tr>\n",
       "      <th id=\"T_aba54_level0_row11\" class=\"row_heading level0 row11\" >Std</th>\n",
       "      <td id=\"T_aba54_row11_col0\" class=\"data row11 col0\" >0.0036</td>\n",
       "      <td id=\"T_aba54_row11_col1\" class=\"data row11 col1\" >0.0055</td>\n",
       "      <td id=\"T_aba54_row11_col2\" class=\"data row11 col2\" >0.0098</td>\n",
       "      <td id=\"T_aba54_row11_col3\" class=\"data row11 col3\" >0.0024</td>\n",
       "      <td id=\"T_aba54_row11_col4\" class=\"data row11 col4\" >0.0039</td>\n",
       "      <td id=\"T_aba54_row11_col5\" class=\"data row11 col5\" >0.0073</td>\n",
       "      <td id=\"T_aba54_row11_col6\" class=\"data row11 col6\" >0.0087</td>\n",
       "    </tr>\n",
       "  </tbody>\n",
       "</table>\n"
      ],
      "text/plain": [
       "<pandas.io.formats.style.Styler at 0x7fa046cb44f0>"
      ]
     },
     "metadata": {},
     "output_type": "display_data"
    },
    {
     "data": {
      "text/html": [],
      "text/plain": [
       "<IPython.core.display.HTML object>"
      ]
     },
     "metadata": {},
     "output_type": "display_data"
    }
   ],
   "source": [
    "regression_model_ada = classification_setup.create_model(\"ada\", probability_threshold = 0.50)"
   ]
  },
  {
   "cell_type": "code",
   "execution_count": 82,
   "metadata": {
    "execution": {
     "iopub.execute_input": "2023-06-08T23:08:04.228991Z",
     "iopub.status.busy": "2023-06-08T23:08:04.228669Z",
     "iopub.status.idle": "2023-06-08T23:08:06.193777Z",
     "shell.execute_reply": "2023-06-08T23:08:06.193085Z",
     "shell.execute_reply.started": "2023-06-08T23:08:04.228955Z"
    }
   },
   "outputs": [
    {
     "data": {
      "text/html": [],
      "text/plain": [
       "<IPython.core.display.HTML object>"
      ]
     },
     "metadata": {},
     "output_type": "display_data"
    },
    {
     "data": {
      "image/png": "[encoded data removed]",
      "text/plain": [
       "<Figure size 800x550 with 1 Axes>"
      ]
     },
     "metadata": {},
     "output_type": "display_data"
    }
   ],
   "source": [
    "plot_model(regression_model_ada, plot = 'auc')"
   ]
  },
  {
   "cell_type": "markdown",
   "metadata": {
    "execution": {
     "iopub.execute_input": "2023-06-08T23:08:22.530994Z",
     "iopub.status.busy": "2023-06-08T23:08:22.529719Z",
     "iopub.status.idle": "2023-06-08T23:08:22.542651Z",
     "shell.execute_reply": "2023-06-08T23:08:22.540043Z",
     "shell.execute_reply.started": "2023-06-08T23:08:22.530922Z"
    }
   },
   "source": [
    "**evaluate model**"
   ]
  },
  {
   "cell_type": "markdown",
   "metadata": {},
   "source": [
    "`lightgbm` shows very good AUC of `0.97`, `rf` as well with `1.0` train AUC.\n",
    "\n",
    "`rf` seemed like too overfit with 1.0 train AUC but its test precision as well is the best among others.\n",
    "\n",
    "`ada` shows very low recall thus inpractical.\n"
   ]
  },
  {
   "cell_type": "code",
   "execution_count": 142,
   "metadata": {
    "execution": {
     "iopub.execute_input": "2023-06-08T23:34:32.452440Z",
     "iopub.status.busy": "2023-06-08T23:34:32.451697Z",
     "iopub.status.idle": "2023-06-08T23:34:32.462628Z",
     "shell.execute_reply": "2023-06-08T23:34:32.460834Z",
     "shell.execute_reply.started": "2023-06-08T23:34:32.452377Z"
    }
   },
   "outputs": [],
   "source": [
    "def predict_and_odds(df_data, regression_model):\n",
    "    df_prediction = pycaret.classification.predict_model(data = df_data, estimator = regression_model)\n",
    "    df_prediction = pd.merge(df_prediction, df_player_team_positions[['player_id','player_team_name']], left_on='batting_id', right_on='player_id', how='left')\n",
    "    df_prediction[\"theo_odds\"] = df_prediction[\"prediction_score\"].apply(model.common.odds_calculator)\n",
    "    return df_prediction"
   ]
  },
  {
   "cell_type": "code",
   "execution_count": 143,
   "metadata": {
    "execution": {
     "iopub.execute_input": "2023-06-08T23:34:32.586748Z",
     "iopub.status.busy": "2023-06-08T23:34:32.586407Z",
     "iopub.status.idle": "2023-06-08T23:34:32.593502Z",
     "shell.execute_reply": "2023-06-08T23:34:32.592216Z",
     "shell.execute_reply.started": "2023-06-08T23:34:32.586721Z"
    }
   },
   "outputs": [],
   "source": [
    "def get_eval_profile(df_prediction, score_threshold):\n",
    "    confident_prediction = df_prediction[(df_prediction[\"prediction_score\"] >= score_threshold) & (df_prediction[\"prediction_label\"] == 1)].sort_values(by = \"prediction_score\", ascending = False).drop_duplicates(\"batting_name\")\n",
    "    confident_prediction[['game_date', \"batting_name\", \"batting_hit_recorded\",\t\"prediction_score\", \"player_team_name\", \"theo_odds\"]]\n",
    "    l =len(confident_prediction)\n",
    "    return l, confident_prediction.batting_hit_recorded.sum() / l"
   ]
  },
  {
   "cell_type": "code",
   "execution_count": 165,
   "metadata": {
    "execution": {
     "iopub.execute_input": "2023-06-08T23:51:09.226494Z",
     "iopub.status.busy": "2023-06-08T23:51:09.226152Z",
     "iopub.status.idle": "2023-06-08T23:51:09.231177Z",
     "shell.execute_reply": "2023-06-08T23:51:09.229597Z",
     "shell.execute_reply.started": "2023-06-08T23:51:09.226471Z"
    }
   },
   "outputs": [],
   "source": [
    "regression_model = regression_model_rf"
   ]
  },
  {
   "cell_type": "code",
   "execution_count": 175,
   "metadata": {
    "execution": {
     "iopub.execute_input": "2023-06-08T23:54:49.966381Z",
     "iopub.status.busy": "2023-06-08T23:54:49.966092Z",
     "iopub.status.idle": "2023-06-08T23:54:57.267735Z",
     "shell.execute_reply": "2023-06-08T23:54:57.267137Z",
     "shell.execute_reply.started": "2023-06-08T23:54:49.966350Z"
    }
   },
   "outputs": [
    {
     "data": {
      "text/html": [
       "<style type=\"text/css\">\n",
       "</style>\n",
       "<table id=\"T_4db85\">\n",
       "  <thead>\n",
       "    <tr>\n",
       "      <th class=\"blank level0\" >&nbsp;</th>\n",
       "      <th id=\"T_4db85_level0_col0\" class=\"col_heading level0 col0\" >Model</th>\n",
       "      <th id=\"T_4db85_level0_col1\" class=\"col_heading level0 col1\" >Accuracy</th>\n",
       "      <th id=\"T_4db85_level0_col2\" class=\"col_heading level0 col2\" >AUC</th>\n",
       "      <th id=\"T_4db85_level0_col3\" class=\"col_heading level0 col3\" >Recall</th>\n",
       "      <th id=\"T_4db85_level0_col4\" class=\"col_heading level0 col4\" >Prec.</th>\n",
       "      <th id=\"T_4db85_level0_col5\" class=\"col_heading level0 col5\" >F1</th>\n",
       "      <th id=\"T_4db85_level0_col6\" class=\"col_heading level0 col6\" >Kappa</th>\n",
       "      <th id=\"T_4db85_level0_col7\" class=\"col_heading level0 col7\" >MCC</th>\n",
       "    </tr>\n",
       "  </thead>\n",
       "  <tbody>\n",
       "    <tr>\n",
       "      <th id=\"T_4db85_level0_row0\" class=\"row_heading level0 row0\" >0</th>\n",
       "      <td id=\"T_4db85_row0_col0\" class=\"data row0 col0\" >Logistic Regression</td>\n",
       "      <td id=\"T_4db85_row0_col1\" class=\"data row0 col1\" >0.6290</td>\n",
       "      <td id=\"T_4db85_row0_col2\" class=\"data row0 col2\" >0.6553</td>\n",
       "      <td id=\"T_4db85_row0_col3\" class=\"data row0 col3\" >0.8061</td>\n",
       "      <td id=\"T_4db85_row0_col4\" class=\"data row0 col4\" >0.6345</td>\n",
       "      <td id=\"T_4db85_row0_col5\" class=\"data row0 col5\" >0.7101</td>\n",
       "      <td id=\"T_4db85_row0_col6\" class=\"data row0 col6\" >0.2148</td>\n",
       "      <td id=\"T_4db85_row0_col7\" class=\"data row0 col7\" >0.2270</td>\n",
       "    </tr>\n",
       "  </tbody>\n",
       "</table>\n"
      ],
      "text/plain": [
       "<pandas.io.formats.style.Styler at 0x7fa03b6fa710>"
      ]
     },
     "metadata": {},
     "output_type": "display_data"
    },
    {
     "data": {
      "text/html": [
       "<style type=\"text/css\">\n",
       "</style>\n",
       "<table id=\"T_daa0c\">\n",
       "  <thead>\n",
       "    <tr>\n",
       "      <th class=\"blank level0\" >&nbsp;</th>\n",
       "      <th id=\"T_daa0c_level0_col0\" class=\"col_heading level0 col0\" >Model</th>\n",
       "      <th id=\"T_daa0c_level0_col1\" class=\"col_heading level0 col1\" >Accuracy</th>\n",
       "      <th id=\"T_daa0c_level0_col2\" class=\"col_heading level0 col2\" >AUC</th>\n",
       "      <th id=\"T_daa0c_level0_col3\" class=\"col_heading level0 col3\" >Recall</th>\n",
       "      <th id=\"T_daa0c_level0_col4\" class=\"col_heading level0 col4\" >Prec.</th>\n",
       "      <th id=\"T_daa0c_level0_col5\" class=\"col_heading level0 col5\" >F1</th>\n",
       "      <th id=\"T_daa0c_level0_col6\" class=\"col_heading level0 col6\" >Kappa</th>\n",
       "      <th id=\"T_daa0c_level0_col7\" class=\"col_heading level0 col7\" >MCC</th>\n",
       "    </tr>\n",
       "  </thead>\n",
       "  <tbody>\n",
       "    <tr>\n",
       "      <th id=\"T_daa0c_level0_row0\" class=\"row_heading level0 row0\" >0</th>\n",
       "      <td id=\"T_daa0c_row0_col0\" class=\"data row0 col0\" >Gradient Boosting Classifier</td>\n",
       "      <td id=\"T_daa0c_row0_col1\" class=\"data row0 col1\" >0.6875</td>\n",
       "      <td id=\"T_daa0c_row0_col2\" class=\"data row0 col2\" >0.7838</td>\n",
       "      <td id=\"T_daa0c_row0_col3\" class=\"data row0 col3\" >0.8665</td>\n",
       "      <td id=\"T_daa0c_row0_col4\" class=\"data row0 col4\" >0.6731</td>\n",
       "      <td id=\"T_daa0c_row0_col5\" class=\"data row0 col5\" >0.7576</td>\n",
       "      <td id=\"T_daa0c_row0_col6\" class=\"data row0 col6\" >0.3370</td>\n",
       "      <td id=\"T_daa0c_row0_col7\" class=\"data row0 col7\" >0.3589</td>\n",
       "    </tr>\n",
       "  </tbody>\n",
       "</table>\n"
      ],
      "text/plain": [
       "<pandas.io.formats.style.Styler at 0x7fa05c199f60>"
      ]
     },
     "metadata": {},
     "output_type": "display_data"
    },
    {
     "data": {
      "text/html": [
       "<style type=\"text/css\">\n",
       "</style>\n",
       "<table id=\"T_49354\">\n",
       "  <thead>\n",
       "    <tr>\n",
       "      <th class=\"blank level0\" >&nbsp;</th>\n",
       "      <th id=\"T_49354_level0_col0\" class=\"col_heading level0 col0\" >Model</th>\n",
       "      <th id=\"T_49354_level0_col1\" class=\"col_heading level0 col1\" >Accuracy</th>\n",
       "      <th id=\"T_49354_level0_col2\" class=\"col_heading level0 col2\" >AUC</th>\n",
       "      <th id=\"T_49354_level0_col3\" class=\"col_heading level0 col3\" >Recall</th>\n",
       "      <th id=\"T_49354_level0_col4\" class=\"col_heading level0 col4\" >Prec.</th>\n",
       "      <th id=\"T_49354_level0_col5\" class=\"col_heading level0 col5\" >F1</th>\n",
       "      <th id=\"T_49354_level0_col6\" class=\"col_heading level0 col6\" >Kappa</th>\n",
       "      <th id=\"T_49354_level0_col7\" class=\"col_heading level0 col7\" >MCC</th>\n",
       "    </tr>\n",
       "  </thead>\n",
       "  <tbody>\n",
       "    <tr>\n",
       "      <th id=\"T_49354_level0_row0\" class=\"row_heading level0 row0\" >0</th>\n",
       "      <td id=\"T_49354_row0_col0\" class=\"data row0 col0\" >Light Gradient Boosting Machine</td>\n",
       "      <td id=\"T_49354_row0_col1\" class=\"data row0 col1\" >0.8933</td>\n",
       "      <td id=\"T_49354_row0_col2\" class=\"data row0 col2\" >0.9673</td>\n",
       "      <td id=\"T_49354_row0_col3\" class=\"data row0 col3\" >0.9521</td>\n",
       "      <td id=\"T_49354_row0_col4\" class=\"data row0 col4\" >0.8706</td>\n",
       "      <td id=\"T_49354_row0_col5\" class=\"data row0 col5\" >0.9095</td>\n",
       "      <td id=\"T_49354_row0_col6\" class=\"data row0 col6\" >0.7800</td>\n",
       "      <td id=\"T_49354_row0_col7\" class=\"data row0 col7\" >0.7846</td>\n",
       "    </tr>\n",
       "  </tbody>\n",
       "</table>\n"
      ],
      "text/plain": [
       "<pandas.io.formats.style.Styler at 0x7fa05c4385e0>"
      ]
     },
     "metadata": {},
     "output_type": "display_data"
    },
    {
     "data": {
      "text/html": [
       "<style type=\"text/css\">\n",
       "</style>\n",
       "<table id=\"T_fd9c6\">\n",
       "  <thead>\n",
       "    <tr>\n",
       "      <th class=\"blank level0\" >&nbsp;</th>\n",
       "      <th id=\"T_fd9c6_level0_col0\" class=\"col_heading level0 col0\" >Model</th>\n",
       "      <th id=\"T_fd9c6_level0_col1\" class=\"col_heading level0 col1\" >Accuracy</th>\n",
       "      <th id=\"T_fd9c6_level0_col2\" class=\"col_heading level0 col2\" >AUC</th>\n",
       "      <th id=\"T_fd9c6_level0_col3\" class=\"col_heading level0 col3\" >Recall</th>\n",
       "      <th id=\"T_fd9c6_level0_col4\" class=\"col_heading level0 col4\" >Prec.</th>\n",
       "      <th id=\"T_fd9c6_level0_col5\" class=\"col_heading level0 col5\" >F1</th>\n",
       "      <th id=\"T_fd9c6_level0_col6\" class=\"col_heading level0 col6\" >Kappa</th>\n",
       "      <th id=\"T_fd9c6_level0_col7\" class=\"col_heading level0 col7\" >MCC</th>\n",
       "    </tr>\n",
       "  </thead>\n",
       "  <tbody>\n",
       "    <tr>\n",
       "      <th id=\"T_fd9c6_level0_row0\" class=\"row_heading level0 row0\" >0</th>\n",
       "      <td id=\"T_fd9c6_row0_col0\" class=\"data row0 col0\" >Random Forest Classifier</td>\n",
       "      <td id=\"T_fd9c6_row0_col1\" class=\"data row0 col1\" >0.9998</td>\n",
       "      <td id=\"T_fd9c6_row0_col2\" class=\"data row0 col2\" >1.0000</td>\n",
       "      <td id=\"T_fd9c6_row0_col3\" class=\"data row0 col3\" >0.9997</td>\n",
       "      <td id=\"T_fd9c6_row0_col4\" class=\"data row0 col4\" >1.0000</td>\n",
       "      <td id=\"T_fd9c6_row0_col5\" class=\"data row0 col5\" >0.9999</td>\n",
       "      <td id=\"T_fd9c6_row0_col6\" class=\"data row0 col6\" >0.9997</td>\n",
       "      <td id=\"T_fd9c6_row0_col7\" class=\"data row0 col7\" >0.9997</td>\n",
       "    </tr>\n",
       "  </tbody>\n",
       "</table>\n"
      ],
      "text/plain": [
       "<pandas.io.formats.style.Styler at 0x7fa05c621300>"
      ]
     },
     "metadata": {},
     "output_type": "display_data"
    }
   ],
   "source": [
    "train_prediction_lr = predict_and_odds(train_data, regression_model_lr)\n",
    "train_prediction_gbc = predict_and_odds(train_data, regression_model_gbc)\n",
    "train_prediction_lightgbm = predict_and_odds(train_data, regression_model_lightgbm)\n",
    "train_prediction_rf = predict_and_odds(train_data, regression_model_rf)"
   ]
  },
  {
   "cell_type": "code",
   "execution_count": 176,
   "metadata": {
    "execution": {
     "iopub.execute_input": "2023-06-08T23:55:33.179229Z",
     "iopub.status.busy": "2023-06-08T23:55:33.178871Z",
     "iopub.status.idle": "2023-06-08T23:55:33.515398Z",
     "shell.execute_reply": "2023-06-08T23:55:33.514729Z",
     "shell.execute_reply.started": "2023-06-08T23:55:33.179197Z"
    }
   },
   "outputs": [
    {
     "name": "stdout",
     "output_type": "stream",
     "text": [
      "(629, 0.7090620031796503)\n",
      "(331, 0.7250755287009063)\n",
      "(181, 0.7845303867403315)\n",
      "(53, 0.7924528301886793)\n"
     ]
    }
   ],
   "source": [
    "print(get_eval_profile(train_prediction_lr, 0.6))\n",
    "print(get_eval_profile(train_prediction_lr, 0.7))\n",
    "print(get_eval_profile(train_prediction_lr, 0.75))\n",
    "print(get_eval_profile(train_prediction_lr, 0.80))"
   ]
  },
  {
   "cell_type": "code",
   "execution_count": 177,
   "metadata": {
    "execution": {
     "iopub.execute_input": "2023-06-08T23:55:33.516481Z",
     "iopub.status.busy": "2023-06-08T23:55:33.516279Z",
     "iopub.status.idle": "2023-06-08T23:55:33.983833Z",
     "shell.execute_reply": "2023-06-08T23:55:33.982565Z",
     "shell.execute_reply.started": "2023-06-08T23:55:33.516461Z"
    }
   },
   "outputs": [
    {
     "name": "stdout",
     "output_type": "stream",
     "text": [
      "(630, 0.8412698412698413)\n",
      "(336, 0.9136904761904762)\n",
      "(193, 0.9533678756476683)\n",
      "(104, 0.9903846153846154)\n"
     ]
    }
   ],
   "source": [
    "print(get_eval_profile(train_prediction_gbc, 0.6))\n",
    "print(get_eval_profile(train_prediction_gbc, 0.7))\n",
    "print(get_eval_profile(train_prediction_gbc, 0.75))\n",
    "print(get_eval_profile(train_prediction_gbc, 0.80))"
   ]
  },
  {
   "cell_type": "code",
   "execution_count": 178,
   "metadata": {
    "execution": {
     "iopub.execute_input": "2023-06-08T23:55:33.986153Z",
     "iopub.status.busy": "2023-06-08T23:55:33.985740Z",
     "iopub.status.idle": "2023-06-08T23:55:34.844790Z",
     "shell.execute_reply": "2023-06-08T23:55:34.843519Z",
     "shell.execute_reply.started": "2023-06-08T23:55:33.986125Z"
    }
   },
   "outputs": [
    {
     "name": "stdout",
     "output_type": "stream",
     "text": [
      "(792, 0.9507575757575758)\n",
      "(576, 0.9861111111111112)\n",
      "(472, 0.9978813559322034)\n",
      "(340, 0.9970588235294118)\n"
     ]
    }
   ],
   "source": [
    "print(get_eval_profile(train_prediction_lightgbm, 0.6))\n",
    "print(get_eval_profile(train_prediction_lightgbm, 0.7))\n",
    "print(get_eval_profile(train_prediction_lightgbm, 0.75))\n",
    "print(get_eval_profile(train_prediction_lightgbm, 0.80))"
   ]
  },
  {
   "cell_type": "code",
   "execution_count": 179,
   "metadata": {
    "execution": {
     "iopub.execute_input": "2023-06-08T23:55:34.847494Z",
     "iopub.status.busy": "2023-06-08T23:55:34.847116Z",
     "iopub.status.idle": "2023-06-08T23:55:35.945424Z",
     "shell.execute_reply": "2023-06-08T23:55:35.944365Z",
     "shell.execute_reply.started": "2023-06-08T23:55:34.847464Z"
    }
   },
   "outputs": [
    {
     "name": "stdout",
     "output_type": "stream",
     "text": [
      "(1091, 1.0)\n",
      "(1075, 1.0)\n",
      "(1058, 1.0)\n",
      "(1042, 1.0)\n"
     ]
    }
   ],
   "source": [
    "print(get_eval_profile(train_prediction_rf, 0.6))\n",
    "print(get_eval_profile(train_prediction_rf, 0.7))\n",
    "print(get_eval_profile(train_prediction_rf, 0.75))\n",
    "print(get_eval_profile(train_prediction_rf, 0.80))"
   ]
  },
  {
   "cell_type": "markdown",
   "metadata": {
    "execution": {
     "iopub.execute_input": "2023-06-07T00:40:23.948013Z",
     "iopub.status.busy": "2023-06-07T00:40:23.947407Z",
     "iopub.status.idle": "2023-06-07T00:40:23.953130Z",
     "shell.execute_reply": "2023-06-07T00:40:23.952520Z",
     "shell.execute_reply.started": "2023-06-07T00:40:23.947955Z"
    }
   },
   "source": [
    "**test prediction**"
   ]
  },
  {
   "cell_type": "code",
   "execution_count": 180,
   "metadata": {
    "execution": {
     "iopub.execute_input": "2023-06-08T23:56:04.424086Z",
     "iopub.status.busy": "2023-06-08T23:56:04.423672Z",
     "iopub.status.idle": "2023-06-08T23:56:05.640677Z",
     "shell.execute_reply": "2023-06-08T23:56:05.639883Z",
     "shell.execute_reply.started": "2023-06-08T23:56:04.424070Z"
    },
    "scrolled": true
   },
   "outputs": [
    {
     "data": {
      "text/html": [
       "<style type=\"text/css\">\n",
       "</style>\n",
       "<table id=\"T_55ae2\">\n",
       "  <thead>\n",
       "    <tr>\n",
       "      <th class=\"blank level0\" >&nbsp;</th>\n",
       "      <th id=\"T_55ae2_level0_col0\" class=\"col_heading level0 col0\" >Model</th>\n",
       "      <th id=\"T_55ae2_level0_col1\" class=\"col_heading level0 col1\" >Accuracy</th>\n",
       "      <th id=\"T_55ae2_level0_col2\" class=\"col_heading level0 col2\" >AUC</th>\n",
       "      <th id=\"T_55ae2_level0_col3\" class=\"col_heading level0 col3\" >Recall</th>\n",
       "      <th id=\"T_55ae2_level0_col4\" class=\"col_heading level0 col4\" >Prec.</th>\n",
       "      <th id=\"T_55ae2_level0_col5\" class=\"col_heading level0 col5\" >F1</th>\n",
       "      <th id=\"T_55ae2_level0_col6\" class=\"col_heading level0 col6\" >Kappa</th>\n",
       "      <th id=\"T_55ae2_level0_col7\" class=\"col_heading level0 col7\" >MCC</th>\n",
       "    </tr>\n",
       "  </thead>\n",
       "  <tbody>\n",
       "    <tr>\n",
       "      <th id=\"T_55ae2_level0_row0\" class=\"row_heading level0 row0\" >0</th>\n",
       "      <td id=\"T_55ae2_row0_col0\" class=\"data row0 col0\" >Logistic Regression</td>\n",
       "      <td id=\"T_55ae2_row0_col1\" class=\"data row0 col1\" >0.5923</td>\n",
       "      <td id=\"T_55ae2_row0_col2\" class=\"data row0 col2\" >0.6167</td>\n",
       "      <td id=\"T_55ae2_row0_col3\" class=\"data row0 col3\" >0.7517</td>\n",
       "      <td id=\"T_55ae2_row0_col4\" class=\"data row0 col4\" >0.6261</td>\n",
       "      <td id=\"T_55ae2_row0_col5\" class=\"data row0 col5\" >0.6831</td>\n",
       "      <td id=\"T_55ae2_row0_col6\" class=\"data row0 col6\" >0.1248</td>\n",
       "      <td id=\"T_55ae2_row0_col7\" class=\"data row0 col7\" >0.1290</td>\n",
       "    </tr>\n",
       "  </tbody>\n",
       "</table>\n"
      ],
      "text/plain": [
       "<pandas.io.formats.style.Styler at 0x7fa046c9f2e0>"
      ]
     },
     "metadata": {},
     "output_type": "display_data"
    },
    {
     "data": {
      "text/html": [
       "<style type=\"text/css\">\n",
       "</style>\n",
       "<table id=\"T_9616a\">\n",
       "  <thead>\n",
       "    <tr>\n",
       "      <th class=\"blank level0\" >&nbsp;</th>\n",
       "      <th id=\"T_9616a_level0_col0\" class=\"col_heading level0 col0\" >Model</th>\n",
       "      <th id=\"T_9616a_level0_col1\" class=\"col_heading level0 col1\" >Accuracy</th>\n",
       "      <th id=\"T_9616a_level0_col2\" class=\"col_heading level0 col2\" >AUC</th>\n",
       "      <th id=\"T_9616a_level0_col3\" class=\"col_heading level0 col3\" >Recall</th>\n",
       "      <th id=\"T_9616a_level0_col4\" class=\"col_heading level0 col4\" >Prec.</th>\n",
       "      <th id=\"T_9616a_level0_col5\" class=\"col_heading level0 col5\" >F1</th>\n",
       "      <th id=\"T_9616a_level0_col6\" class=\"col_heading level0 col6\" >Kappa</th>\n",
       "      <th id=\"T_9616a_level0_col7\" class=\"col_heading level0 col7\" >MCC</th>\n",
       "    </tr>\n",
       "  </thead>\n",
       "  <tbody>\n",
       "    <tr>\n",
       "      <th id=\"T_9616a_level0_row0\" class=\"row_heading level0 row0\" >0</th>\n",
       "      <td id=\"T_9616a_row0_col0\" class=\"data row0 col0\" >Gradient Boosting Classifier</td>\n",
       "      <td id=\"T_9616a_row0_col1\" class=\"data row0 col1\" >0.6157</td>\n",
       "      <td id=\"T_9616a_row0_col2\" class=\"data row0 col2\" >0.6297</td>\n",
       "      <td id=\"T_9616a_row0_col3\" class=\"data row0 col3\" >0.8078</td>\n",
       "      <td id=\"T_9616a_row0_col4\" class=\"data row0 col4\" >0.6346</td>\n",
       "      <td id=\"T_9616a_row0_col5\" class=\"data row0 col5\" >0.7108</td>\n",
       "      <td id=\"T_9616a_row0_col6\" class=\"data row0 col6\" >0.1621</td>\n",
       "      <td id=\"T_9616a_row0_col7\" class=\"data row0 col7\" >0.1729</td>\n",
       "    </tr>\n",
       "  </tbody>\n",
       "</table>\n"
      ],
      "text/plain": [
       "<pandas.io.formats.style.Styler at 0x7fa046cb6b00>"
      ]
     },
     "metadata": {},
     "output_type": "display_data"
    },
    {
     "data": {
      "text/html": [
       "<style type=\"text/css\">\n",
       "</style>\n",
       "<table id=\"T_425f1\">\n",
       "  <thead>\n",
       "    <tr>\n",
       "      <th class=\"blank level0\" >&nbsp;</th>\n",
       "      <th id=\"T_425f1_level0_col0\" class=\"col_heading level0 col0\" >Model</th>\n",
       "      <th id=\"T_425f1_level0_col1\" class=\"col_heading level0 col1\" >Accuracy</th>\n",
       "      <th id=\"T_425f1_level0_col2\" class=\"col_heading level0 col2\" >AUC</th>\n",
       "      <th id=\"T_425f1_level0_col3\" class=\"col_heading level0 col3\" >Recall</th>\n",
       "      <th id=\"T_425f1_level0_col4\" class=\"col_heading level0 col4\" >Prec.</th>\n",
       "      <th id=\"T_425f1_level0_col5\" class=\"col_heading level0 col5\" >F1</th>\n",
       "      <th id=\"T_425f1_level0_col6\" class=\"col_heading level0 col6\" >Kappa</th>\n",
       "      <th id=\"T_425f1_level0_col7\" class=\"col_heading level0 col7\" >MCC</th>\n",
       "    </tr>\n",
       "  </thead>\n",
       "  <tbody>\n",
       "    <tr>\n",
       "      <th id=\"T_425f1_level0_row0\" class=\"row_heading level0 row0\" >0</th>\n",
       "      <td id=\"T_425f1_row0_col0\" class=\"data row0 col0\" >Light Gradient Boosting Machine</td>\n",
       "      <td id=\"T_425f1_row0_col1\" class=\"data row0 col1\" >0.5852</td>\n",
       "      <td id=\"T_425f1_row0_col2\" class=\"data row0 col2\" >0.6167</td>\n",
       "      <td id=\"T_425f1_row0_col3\" class=\"data row0 col3\" >0.7283</td>\n",
       "      <td id=\"T_425f1_row0_col4\" class=\"data row0 col4\" >0.6246</td>\n",
       "      <td id=\"T_425f1_row0_col5\" class=\"data row0 col5\" >0.6725</td>\n",
       "      <td id=\"T_425f1_row0_col6\" class=\"data row0 col6\" >0.1160</td>\n",
       "      <td id=\"T_425f1_row0_col7\" class=\"data row0 col7\" >0.1186</td>\n",
       "    </tr>\n",
       "  </tbody>\n",
       "</table>\n"
      ],
      "text/plain": [
       "<pandas.io.formats.style.Styler at 0x7fa046cb4820>"
      ]
     },
     "metadata": {},
     "output_type": "display_data"
    },
    {
     "data": {
      "text/html": [
       "<style type=\"text/css\">\n",
       "</style>\n",
       "<table id=\"T_8d79c\">\n",
       "  <thead>\n",
       "    <tr>\n",
       "      <th class=\"blank level0\" >&nbsp;</th>\n",
       "      <th id=\"T_8d79c_level0_col0\" class=\"col_heading level0 col0\" >Model</th>\n",
       "      <th id=\"T_8d79c_level0_col1\" class=\"col_heading level0 col1\" >Accuracy</th>\n",
       "      <th id=\"T_8d79c_level0_col2\" class=\"col_heading level0 col2\" >AUC</th>\n",
       "      <th id=\"T_8d79c_level0_col3\" class=\"col_heading level0 col3\" >Recall</th>\n",
       "      <th id=\"T_8d79c_level0_col4\" class=\"col_heading level0 col4\" >Prec.</th>\n",
       "      <th id=\"T_8d79c_level0_col5\" class=\"col_heading level0 col5\" >F1</th>\n",
       "      <th id=\"T_8d79c_level0_col6\" class=\"col_heading level0 col6\" >Kappa</th>\n",
       "      <th id=\"T_8d79c_level0_col7\" class=\"col_heading level0 col7\" >MCC</th>\n",
       "    </tr>\n",
       "  </thead>\n",
       "  <tbody>\n",
       "    <tr>\n",
       "      <th id=\"T_8d79c_level0_row0\" class=\"row_heading level0 row0\" >0</th>\n",
       "      <td id=\"T_8d79c_row0_col0\" class=\"data row0 col0\" >Random Forest Classifier</td>\n",
       "      <td id=\"T_8d79c_row0_col1\" class=\"data row0 col1\" >0.6156</td>\n",
       "      <td id=\"T_8d79c_row0_col2\" class=\"data row0 col2\" >0.6275</td>\n",
       "      <td id=\"T_8d79c_row0_col3\" class=\"data row0 col3\" >0.7735</td>\n",
       "      <td id=\"T_8d79c_row0_col4\" class=\"data row0 col4\" >0.6422</td>\n",
       "      <td id=\"T_8d79c_row0_col5\" class=\"data row0 col5\" >0.7018</td>\n",
       "      <td id=\"T_8d79c_row0_col6\" class=\"data row0 col6\" >0.1741</td>\n",
       "      <td id=\"T_8d79c_row0_col7\" class=\"data row0 col7\" >0.1801</td>\n",
       "    </tr>\n",
       "  </tbody>\n",
       "</table>\n"
      ],
      "text/plain": [
       "<pandas.io.formats.style.Styler at 0x7fa03aa25300>"
      ]
     },
     "metadata": {},
     "output_type": "display_data"
    }
   ],
   "source": [
    "test_prediction_lr = predict_and_odds(test_data, regression_model_lr)\n",
    "test_prediction_gbc = predict_and_odds(test_data, regression_model_gbc)\n",
    "test_prediction_lightgbm = predict_and_odds(test_data, regression_model_lightgbm)\n",
    "test_prediction_rf = predict_and_odds(test_data, regression_model_rf)"
   ]
  },
  {
   "cell_type": "code",
   "execution_count": 181,
   "metadata": {
    "execution": {
     "iopub.execute_input": "2023-06-08T23:56:17.683564Z",
     "iopub.status.busy": "2023-06-08T23:56:17.682740Z",
     "iopub.status.idle": "2023-06-08T23:56:17.704030Z",
     "shell.execute_reply": "2023-06-08T23:56:17.703464Z",
     "shell.execute_reply.started": "2023-06-08T23:56:17.683507Z"
    }
   },
   "outputs": [
    {
     "name": "stdout",
     "output_type": "stream",
     "text": [
      "(183, 0.6721311475409836)\n",
      "(75, 0.7466666666666667)\n",
      "(31, 0.7741935483870968)\n",
      "(10, 1.0)\n",
      "(2, 1.0)\n"
     ]
    }
   ],
   "source": [
    "print(get_eval_profile(test_prediction_lr, 0.6))\n",
    "print(get_eval_profile(test_prediction_lr, 0.7))\n",
    "print(get_eval_profile(test_prediction_lr, 0.75))\n",
    "print(get_eval_profile(test_prediction_lr, 0.80))\n",
    "print(get_eval_profile(test_prediction_lr, 0.85))"
   ]
  },
  {
   "cell_type": "code",
   "execution_count": 182,
   "metadata": {
    "execution": {
     "iopub.execute_input": "2023-06-08T23:56:25.591867Z",
     "iopub.status.busy": "2023-06-08T23:56:25.590804Z",
     "iopub.status.idle": "2023-06-08T23:56:25.611252Z",
     "shell.execute_reply": "2023-06-08T23:56:25.610407Z",
     "shell.execute_reply.started": "2023-06-08T23:56:25.591812Z"
    }
   },
   "outputs": [
    {
     "name": "stdout",
     "output_type": "stream",
     "text": [
      "(174, 0.6839080459770115)\n",
      "(61, 0.7540983606557377)\n",
      "(20, 1.0)\n",
      "(13, 1.0)\n",
      "(4, 1.0)\n"
     ]
    }
   ],
   "source": [
    "print(get_eval_profile(test_prediction_gbc, 0.6))\n",
    "print(get_eval_profile(test_prediction_gbc, 0.7))\n",
    "print(get_eval_profile(test_prediction_gbc, 0.75))\n",
    "print(get_eval_profile(test_prediction_gbc, 0.80))\n",
    "print(get_eval_profile(test_prediction_gbc, 0.85))"
   ]
  },
  {
   "cell_type": "code",
   "execution_count": 183,
   "metadata": {
    "execution": {
     "iopub.execute_input": "2023-06-08T23:56:36.284545Z",
     "iopub.status.busy": "2023-06-08T23:56:36.283286Z",
     "iopub.status.idle": "2023-06-08T23:56:36.304322Z",
     "shell.execute_reply": "2023-06-08T23:56:36.303881Z",
     "shell.execute_reply.started": "2023-06-08T23:56:36.284496Z"
    }
   },
   "outputs": [
    {
     "name": "stdout",
     "output_type": "stream",
     "text": [
      "(185, 0.6648648648648648)\n",
      "(87, 0.735632183908046)\n",
      "(61, 0.7868852459016393)\n",
      "(27, 0.7777777777777778)\n",
      "(9, 0.8888888888888888)\n"
     ]
    }
   ],
   "source": [
    "print(get_eval_profile(test_prediction_lightgbm, 0.6))\n",
    "print(get_eval_profile(test_prediction_lightgbm, 0.7))\n",
    "print(get_eval_profile(test_prediction_lightgbm, 0.75))\n",
    "print(get_eval_profile(test_prediction_lightgbm, 0.80))\n",
    "print(get_eval_profile(test_prediction_lightgbm, 0.85))"
   ]
  },
  {
   "cell_type": "code",
   "execution_count": 184,
   "metadata": {
    "execution": {
     "iopub.execute_input": "2023-06-08T23:56:44.243464Z",
     "iopub.status.busy": "2023-06-08T23:56:44.242000Z",
     "iopub.status.idle": "2023-06-08T23:56:44.263181Z",
     "shell.execute_reply": "2023-06-08T23:56:44.262344Z",
     "shell.execute_reply.started": "2023-06-08T23:56:44.243397Z"
    }
   },
   "outputs": [
    {
     "name": "stdout",
     "output_type": "stream",
     "text": [
      "(215, 0.6558139534883721)\n",
      "(114, 0.6666666666666666)\n",
      "(61, 0.7377049180327869)\n",
      "(25, 0.88)\n",
      "(8, 1.0)\n"
     ]
    }
   ],
   "source": [
    "print(get_eval_profile(test_prediction_rf, 0.6))\n",
    "print(get_eval_profile(test_prediction_rf, 0.7))\n",
    "print(get_eval_profile(test_prediction_rf, 0.75))\n",
    "print(get_eval_profile(test_prediction_rf, 0.80))\n",
    "print(get_eval_profile(test_prediction_rf, 0.85))"
   ]
  },
  {
   "cell_type": "code",
   "execution_count": null,
   "metadata": {},
   "outputs": [],
   "source": []
  },
  {
   "cell_type": "markdown",
   "metadata": {
    "id": "sOfz0zBX994h"
   },
   "source": [
    "**Finalize Model**"
   ]
  },
  {
   "cell_type": "code",
   "execution_count": 185,
   "metadata": {
    "colab": {
     "base_uri": "https://localhost:8080/",
     "height": 34
    },
    "execution": {
     "iopub.execute_input": "2023-06-08T23:57:46.910627Z",
     "iopub.status.busy": "2023-06-08T23:57:46.910303Z",
     "iopub.status.idle": "2023-06-08T23:58:18.138960Z",
     "shell.execute_reply": "2023-06-08T23:58:18.138093Z",
     "shell.execute_reply.started": "2023-06-08T23:57:46.910607Z"
    },
    "id": "gutfxdh8-DKy",
    "outputId": "2e862724-33f5-45f0-ed52-aade46f98c7d"
   },
   "outputs": [],
   "source": [
    "# train over the whole dataset without validation split\n",
    "regression_model_finalized_lr = pycaret.classification.finalize_model(regression_model_lr)\n",
    "regression_model_finalized_gbc = pycaret.classification.finalize_model(regression_model_gbc)\n",
    "regression_model_finalized_lightgbm = pycaret.classification.finalize_model(regression_model_lightgbm)\n",
    "regression_model_finalized_rf = pycaret.classification.finalize_model(regression_model_rf)"
   ]
  },
  {
   "cell_type": "code",
   "execution_count": 186,
   "metadata": {
    "execution": {
     "iopub.execute_input": "2023-06-08T23:58:42.268447Z",
     "iopub.status.busy": "2023-06-08T23:58:42.268177Z",
     "iopub.status.idle": "2023-06-08T23:58:43.381488Z",
     "shell.execute_reply": "2023-06-08T23:58:43.380880Z",
     "shell.execute_reply.started": "2023-06-08T23:58:42.268432Z"
    }
   },
   "outputs": [
    {
     "data": {
      "text/html": [
       "<style type=\"text/css\">\n",
       "</style>\n",
       "<table id=\"T_191bf\">\n",
       "  <thead>\n",
       "    <tr>\n",
       "      <th class=\"blank level0\" >&nbsp;</th>\n",
       "      <th id=\"T_191bf_level0_col0\" class=\"col_heading level0 col0\" >Model</th>\n",
       "      <th id=\"T_191bf_level0_col1\" class=\"col_heading level0 col1\" >Accuracy</th>\n",
       "      <th id=\"T_191bf_level0_col2\" class=\"col_heading level0 col2\" >AUC</th>\n",
       "      <th id=\"T_191bf_level0_col3\" class=\"col_heading level0 col3\" >Recall</th>\n",
       "      <th id=\"T_191bf_level0_col4\" class=\"col_heading level0 col4\" >Prec.</th>\n",
       "      <th id=\"T_191bf_level0_col5\" class=\"col_heading level0 col5\" >F1</th>\n",
       "      <th id=\"T_191bf_level0_col6\" class=\"col_heading level0 col6\" >Kappa</th>\n",
       "      <th id=\"T_191bf_level0_col7\" class=\"col_heading level0 col7\" >MCC</th>\n",
       "    </tr>\n",
       "  </thead>\n",
       "  <tbody>\n",
       "    <tr>\n",
       "      <th id=\"T_191bf_level0_row0\" class=\"row_heading level0 row0\" >0</th>\n",
       "      <td id=\"T_191bf_row0_col0\" class=\"data row0 col0\" >Logistic Regression</td>\n",
       "      <td id=\"T_191bf_row0_col1\" class=\"data row0 col1\" >0.5888</td>\n",
       "      <td id=\"T_191bf_row0_col2\" class=\"data row0 col2\" >0.6150</td>\n",
       "      <td id=\"T_191bf_row0_col3\" class=\"data row0 col3\" >0.7517</td>\n",
       "      <td id=\"T_191bf_row0_col4\" class=\"data row0 col4\" >0.6229</td>\n",
       "      <td id=\"T_191bf_row0_col5\" class=\"data row0 col5\" >0.6813</td>\n",
       "      <td id=\"T_191bf_row0_col6\" class=\"data row0 col6\" >0.1160</td>\n",
       "      <td id=\"T_191bf_row0_col7\" class=\"data row0 col7\" >0.1201</td>\n",
       "    </tr>\n",
       "  </tbody>\n",
       "</table>\n"
      ],
      "text/plain": [
       "<pandas.io.formats.style.Styler at 0x7fa036957580>"
      ]
     },
     "metadata": {},
     "output_type": "display_data"
    },
    {
     "data": {
      "text/html": [
       "<style type=\"text/css\">\n",
       "</style>\n",
       "<table id=\"T_8a421\">\n",
       "  <thead>\n",
       "    <tr>\n",
       "      <th class=\"blank level0\" >&nbsp;</th>\n",
       "      <th id=\"T_8a421_level0_col0\" class=\"col_heading level0 col0\" >Model</th>\n",
       "      <th id=\"T_8a421_level0_col1\" class=\"col_heading level0 col1\" >Accuracy</th>\n",
       "      <th id=\"T_8a421_level0_col2\" class=\"col_heading level0 col2\" >AUC</th>\n",
       "      <th id=\"T_8a421_level0_col3\" class=\"col_heading level0 col3\" >Recall</th>\n",
       "      <th id=\"T_8a421_level0_col4\" class=\"col_heading level0 col4\" >Prec.</th>\n",
       "      <th id=\"T_8a421_level0_col5\" class=\"col_heading level0 col5\" >F1</th>\n",
       "      <th id=\"T_8a421_level0_col6\" class=\"col_heading level0 col6\" >Kappa</th>\n",
       "      <th id=\"T_8a421_level0_col7\" class=\"col_heading level0 col7\" >MCC</th>\n",
       "    </tr>\n",
       "  </thead>\n",
       "  <tbody>\n",
       "    <tr>\n",
       "      <th id=\"T_8a421_level0_row0\" class=\"row_heading level0 row0\" >0</th>\n",
       "      <td id=\"T_8a421_row0_col0\" class=\"data row0 col0\" >Gradient Boosting Classifier</td>\n",
       "      <td id=\"T_8a421_row0_col1\" class=\"data row0 col1\" >0.6104</td>\n",
       "      <td id=\"T_8a421_row0_col2\" class=\"data row0 col2\" >0.6329</td>\n",
       "      <td id=\"T_8a421_row0_col3\" class=\"data row0 col3\" >0.7970</td>\n",
       "      <td id=\"T_8a421_row0_col4\" class=\"data row0 col4\" >0.6324</td>\n",
       "      <td id=\"T_8a421_row0_col5\" class=\"data row0 col5\" >0.7052</td>\n",
       "      <td id=\"T_8a421_row0_col6\" class=\"data row0 col6\" >0.1529</td>\n",
       "      <td id=\"T_8a421_row0_col7\" class=\"data row0 col7\" >0.1620</td>\n",
       "    </tr>\n",
       "  </tbody>\n",
       "</table>\n"
      ],
      "text/plain": [
       "<pandas.io.formats.style.Styler at 0x7fa022a01480>"
      ]
     },
     "metadata": {},
     "output_type": "display_data"
    },
    {
     "data": {
      "text/html": [
       "<style type=\"text/css\">\n",
       "</style>\n",
       "<table id=\"T_cd2a8\">\n",
       "  <thead>\n",
       "    <tr>\n",
       "      <th class=\"blank level0\" >&nbsp;</th>\n",
       "      <th id=\"T_cd2a8_level0_col0\" class=\"col_heading level0 col0\" >Model</th>\n",
       "      <th id=\"T_cd2a8_level0_col1\" class=\"col_heading level0 col1\" >Accuracy</th>\n",
       "      <th id=\"T_cd2a8_level0_col2\" class=\"col_heading level0 col2\" >AUC</th>\n",
       "      <th id=\"T_cd2a8_level0_col3\" class=\"col_heading level0 col3\" >Recall</th>\n",
       "      <th id=\"T_cd2a8_level0_col4\" class=\"col_heading level0 col4\" >Prec.</th>\n",
       "      <th id=\"T_cd2a8_level0_col5\" class=\"col_heading level0 col5\" >F1</th>\n",
       "      <th id=\"T_cd2a8_level0_col6\" class=\"col_heading level0 col6\" >Kappa</th>\n",
       "      <th id=\"T_cd2a8_level0_col7\" class=\"col_heading level0 col7\" >MCC</th>\n",
       "    </tr>\n",
       "  </thead>\n",
       "  <tbody>\n",
       "    <tr>\n",
       "      <th id=\"T_cd2a8_level0_row0\" class=\"row_heading level0 row0\" >0</th>\n",
       "      <td id=\"T_cd2a8_row0_col0\" class=\"data row0 col0\" >Light Gradient Boosting Machine</td>\n",
       "      <td id=\"T_cd2a8_row0_col1\" class=\"data row0 col1\" >0.6079</td>\n",
       "      <td id=\"T_cd2a8_row0_col2\" class=\"data row0 col2\" >0.6467</td>\n",
       "      <td id=\"T_cd2a8_row0_col3\" class=\"data row0 col3\" >0.7372</td>\n",
       "      <td id=\"T_cd2a8_row0_col4\" class=\"data row0 col4\" >0.6438</td>\n",
       "      <td id=\"T_cd2a8_row0_col5\" class=\"data row0 col5\" >0.6874</td>\n",
       "      <td id=\"T_cd2a8_row0_col6\" class=\"data row0 col6\" >0.1681</td>\n",
       "      <td id=\"T_cd2a8_row0_col7\" class=\"data row0 col7\" >0.1709</td>\n",
       "    </tr>\n",
       "  </tbody>\n",
       "</table>\n"
      ],
      "text/plain": [
       "<pandas.io.formats.style.Styler at 0x7fa022a02c80>"
      ]
     },
     "metadata": {},
     "output_type": "display_data"
    },
    {
     "data": {
      "text/html": [
       "<style type=\"text/css\">\n",
       "</style>\n",
       "<table id=\"T_39ae2\">\n",
       "  <thead>\n",
       "    <tr>\n",
       "      <th class=\"blank level0\" >&nbsp;</th>\n",
       "      <th id=\"T_39ae2_level0_col0\" class=\"col_heading level0 col0\" >Model</th>\n",
       "      <th id=\"T_39ae2_level0_col1\" class=\"col_heading level0 col1\" >Accuracy</th>\n",
       "      <th id=\"T_39ae2_level0_col2\" class=\"col_heading level0 col2\" >AUC</th>\n",
       "      <th id=\"T_39ae2_level0_col3\" class=\"col_heading level0 col3\" >Recall</th>\n",
       "      <th id=\"T_39ae2_level0_col4\" class=\"col_heading level0 col4\" >Prec.</th>\n",
       "      <th id=\"T_39ae2_level0_col5\" class=\"col_heading level0 col5\" >F1</th>\n",
       "      <th id=\"T_39ae2_level0_col6\" class=\"col_heading level0 col6\" >Kappa</th>\n",
       "      <th id=\"T_39ae2_level0_col7\" class=\"col_heading level0 col7\" >MCC</th>\n",
       "    </tr>\n",
       "  </thead>\n",
       "  <tbody>\n",
       "    <tr>\n",
       "      <th id=\"T_39ae2_level0_row0\" class=\"row_heading level0 row0\" >0</th>\n",
       "      <td id=\"T_39ae2_row0_col0\" class=\"data row0 col0\" >Random Forest Classifier</td>\n",
       "      <td id=\"T_39ae2_row0_col1\" class=\"data row0 col1\" >0.6258</td>\n",
       "      <td id=\"T_39ae2_row0_col2\" class=\"data row0 col2\" >0.6566</td>\n",
       "      <td id=\"T_39ae2_row0_col3\" class=\"data row0 col3\" >0.7806</td>\n",
       "      <td id=\"T_39ae2_row0_col4\" class=\"data row0 col4\" >0.6499</td>\n",
       "      <td id=\"T_39ae2_row0_col5\" class=\"data row0 col5\" >0.7093</td>\n",
       "      <td id=\"T_39ae2_row0_col6\" class=\"data row0 col6\" >0.1967</td>\n",
       "      <td id=\"T_39ae2_row0_col7\" class=\"data row0 col7\" >0.2033</td>\n",
       "    </tr>\n",
       "  </tbody>\n",
       "</table>\n"
      ],
      "text/plain": [
       "<pandas.io.formats.style.Styler at 0x7fa03aa7aef0>"
      ]
     },
     "metadata": {},
     "output_type": "display_data"
    }
   ],
   "source": [
    "test_finalized_prediction_lr = predict_and_odds(test_data, regression_model_finalized_lr)\n",
    "test_finalized_prediction_gbc = predict_and_odds(test_data, regression_model_finalized_gbc)\n",
    "test_finalized_prediction_lightgbm = predict_and_odds(test_data, regression_model_finalized_lightgbm)\n",
    "test_finalized_prediction_rf = predict_and_odds(test_data, regression_model_finalized_rf)"
   ]
  },
  {
   "cell_type": "code",
   "execution_count": 187,
   "metadata": {
    "execution": {
     "iopub.execute_input": "2023-06-08T23:58:56.849221Z",
     "iopub.status.busy": "2023-06-08T23:58:56.848828Z",
     "iopub.status.idle": "2023-06-08T23:58:56.874359Z",
     "shell.execute_reply": "2023-06-08T23:58:56.873330Z",
     "shell.execute_reply.started": "2023-06-08T23:58:56.849200Z"
    }
   },
   "outputs": [
    {
     "name": "stdout",
     "output_type": "stream",
     "text": [
      "(173, 0.6936416184971098)\n",
      "(69, 0.7536231884057971)\n",
      "(29, 0.7931034482758621)\n",
      "(9, 1.0)\n",
      "(2, 1.0)\n"
     ]
    }
   ],
   "source": [
    "print(get_eval_profile(test_finalized_prediction_lr, 0.6))\n",
    "print(get_eval_profile(test_finalized_prediction_lr, 0.7))\n",
    "print(get_eval_profile(test_finalized_prediction_lr, 0.75))\n",
    "print(get_eval_profile(test_finalized_prediction_lr, 0.80))\n",
    "print(get_eval_profile(test_finalized_prediction_lr, 0.85))"
   ]
  },
  {
   "cell_type": "code",
   "execution_count": 188,
   "metadata": {
    "execution": {
     "iopub.execute_input": "2023-06-08T23:59:03.514989Z",
     "iopub.status.busy": "2023-06-08T23:59:03.514547Z",
     "iopub.status.idle": "2023-06-08T23:59:03.532083Z",
     "shell.execute_reply": "2023-06-08T23:59:03.531252Z",
     "shell.execute_reply.started": "2023-06-08T23:59:03.514960Z"
    }
   },
   "outputs": [
    {
     "name": "stdout",
     "output_type": "stream",
     "text": [
      "(186, 0.6989247311827957)\n",
      "(59, 0.7796610169491526)\n",
      "(27, 0.8148148148148148)\n",
      "(14, 0.9285714285714286)\n",
      "(6, 0.8333333333333334)\n"
     ]
    }
   ],
   "source": [
    "print(get_eval_profile(test_finalized_prediction_gbc, 0.6))\n",
    "print(get_eval_profile(test_finalized_prediction_gbc, 0.7))\n",
    "print(get_eval_profile(test_finalized_prediction_gbc, 0.75))\n",
    "print(get_eval_profile(test_finalized_prediction_gbc, 0.80))\n",
    "print(get_eval_profile(test_finalized_prediction_gbc, 0.85))"
   ]
  },
  {
   "cell_type": "code",
   "execution_count": 189,
   "metadata": {
    "execution": {
     "iopub.execute_input": "2023-06-08T23:59:20.192211Z",
     "iopub.status.busy": "2023-06-08T23:59:20.191790Z",
     "iopub.status.idle": "2023-06-08T23:59:20.213679Z",
     "shell.execute_reply": "2023-06-08T23:59:20.212371Z",
     "shell.execute_reply.started": "2023-06-08T23:59:20.192179Z"
    }
   },
   "outputs": [
    {
     "name": "stdout",
     "output_type": "stream",
     "text": [
      "(186, 0.7096774193548387)\n",
      "(90, 0.7222222222222222)\n",
      "(61, 0.7704918032786885)\n",
      "(31, 0.8387096774193549)\n",
      "(11, 1.0)\n"
     ]
    }
   ],
   "source": [
    "print(get_eval_profile(test_finalized_prediction_lightgbm, 0.6))\n",
    "print(get_eval_profile(test_finalized_prediction_lightgbm, 0.7))\n",
    "print(get_eval_profile(test_finalized_prediction_lightgbm, 0.75))\n",
    "print(get_eval_profile(test_finalized_prediction_lightgbm, 0.80))\n",
    "print(get_eval_profile(test_finalized_prediction_lightgbm, 0.85))"
   ]
  },
  {
   "cell_type": "code",
   "execution_count": 190,
   "metadata": {
    "execution": {
     "iopub.execute_input": "2023-06-08T23:59:27.023958Z",
     "iopub.status.busy": "2023-06-08T23:59:27.022810Z",
     "iopub.status.idle": "2023-06-08T23:59:27.048081Z",
     "shell.execute_reply": "2023-06-08T23:59:27.047517Z",
     "shell.execute_reply.started": "2023-06-08T23:59:27.023897Z"
    }
   },
   "outputs": [
    {
     "name": "stdout",
     "output_type": "stream",
     "text": [
      "(215, 0.6744186046511628)\n",
      "(105, 0.7238095238095238)\n",
      "(61, 0.8360655737704918)\n",
      "(29, 0.9655172413793104)\n",
      "(10, 1.0)\n"
     ]
    }
   ],
   "source": [
    "print(get_eval_profile(test_finalized_prediction_rf, 0.6))\n",
    "print(get_eval_profile(test_finalized_prediction_rf, 0.7))\n",
    "print(get_eval_profile(test_finalized_prediction_rf, 0.75))\n",
    "print(get_eval_profile(test_finalized_prediction_rf, 0.80))\n",
    "print(get_eval_profile(test_finalized_prediction_rf, 0.85))"
   ]
  },
  {
   "cell_type": "markdown",
   "metadata": {},
   "source": [
    "**Save Model**"
   ]
  },
  {
   "cell_type": "code",
   "execution_count": 191,
   "metadata": {
    "execution": {
     "iopub.execute_input": "2023-06-09T00:00:14.182145Z",
     "iopub.status.busy": "2023-06-09T00:00:14.181858Z",
     "iopub.status.idle": "2023-06-09T00:00:14.487969Z",
     "shell.execute_reply": "2023-06-09T00:00:14.487550Z",
     "shell.execute_reply.started": "2023-06-09T00:00:14.182126Z"
    }
   },
   "outputs": [
    {
     "name": "stdout",
     "output_type": "stream",
     "text": [
      "Transformation Pipeline and Model Successfully Saved\n"
     ]
    },
    {
     "data": {
      "text/plain": [
       "(Pipeline(memory=FastMemory(location=/tmp/joblib),\n",
       "          steps=[('numerical_imputer',\n",
       "                  TransformerWrapper(exclude=None,\n",
       "                                     include=['pitching_gamesPlayed',\n",
       "                                              'pitching_runs_per_game',\n",
       "                                              'pitching_strikeOuts_per_game',\n",
       "                                              'pitching_hits_per_game',\n",
       "                                              'batting_gamesPlayed',\n",
       "                                              'batting_runs_per_game',\n",
       "                                              'batting_strikeOuts_per_game',\n",
       "                                              'batting_hits_per_game',\n",
       "                                              'batting_rbi',\n",
       "                                              'pitching_cur_...\n",
       "                                                                                         random_state=1065,\n",
       "                                                                                         verbose=0,\n",
       "                                                                                         warm_start=False),\n",
       "                                                       criterion='gini',\n",
       "                                                       max_depth=None,\n",
       "                                                       max_features='sqrt',\n",
       "                                                       max_leaf_nodes=None,\n",
       "                                                       max_samples=None,\n",
       "                                                       min_impurity_decrease=0.0,\n",
       "                                                       min_samples_leaf=1,\n",
       "                                                       min_samples_split=2,\n",
       "                                                       min_weight_fraction_leaf=0.0,\n",
       "                                                       n_estimators=100,\n",
       "                                                       n_jobs=-1,\n",
       "                                                       oob_score=False,\n",
       "                                                       probability_threshold=0.5,\n",
       "                                                       random_state=1065,\n",
       "                                                       verbose=0,\n",
       "                                                       warm_start=False))],\n",
       "          verbose=False),\n",
       " 'model/batter_hit_regression_model.pkl')"
      ]
     },
     "execution_count": 191,
     "metadata": {},
     "output_type": "execute_result"
    }
   ],
   "source": [
    "pycaret.classification.save_model(regression_model_finalized_rf, model.common.model_file_name)"
   ]
  },
  {
   "cell_type": "code",
   "execution_count": null,
   "metadata": {},
   "outputs": [],
   "source": []
  }
 ],
 "metadata": {
  "colab": {
   "provenance": []
  },
  "kernelspec": {
   "display_name": "Python 3 (ipykernel)",
   "language": "python",
   "name": "python3"
  },
  "language_info": {
   "codemirror_mode": {
    "name": "ipython",
    "version": 3
   },
   "file_extension": ".py",
   "mimetype": "text/x-python",
   "name": "python",
   "nbconvert_exporter": "python",
   "pygments_lexer": "ipython3",
   "version": "3.10.6"
  },
  "widgets": {
   "application/vnd.jupyter.widget-state+json": {
    "1ac32fe9102d4f5a9d1511e64a1d5e5d": {
     "model_module": "@jupyter-widgets/base",
     "model_module_version": "1.2.0",
     "model_name": "LayoutModel",
     "state": {
      "_model_module": "@jupyter-widgets/base",
      "_model_module_version": "1.2.0",
      "_model_name": "LayoutModel",
      "_view_count": null,
      "_view_module": "@jupyter-widgets/base",
      "_view_module_version": "1.2.0",
      "_view_name": "LayoutView",
      "align_content": null,
      "align_items": null,
      "align_self": null,
      "border": null,
      "bottom": null,
      "display": null,
      "flex": null,
      "flex_flow": null,
      "grid_area": null,
      "grid_auto_columns": null,
      "grid_auto_flow": null,
      "grid_auto_rows": null,
      "grid_column": null,
      "grid_gap": null,
      "grid_row": null,
      "grid_template_areas": null,
      "grid_template_columns": null,
      "grid_template_rows": null,
      "height": null,
      "justify_content": null,
      "justify_items": null,
      "left": null,
      "margin": null,
      "max_height": null,
      "max_width": null,
      "min_height": null,
      "min_width": null,
      "object_fit": null,
      "object_position": null,
      "order": null,
      "overflow": null,
      "overflow_x": null,
      "overflow_y": null,
      "padding": null,
      "right": null,
      "top": null,
      "visibility": null,
      "width": null
     }
    },
    "40b50c57e470496cb6c94a0693636fd7": {
     "model_module": "@jupyter-widgets/base",
     "model_module_version": "1.2.0",
     "model_name": "LayoutModel",
     "state": {
      "_model_module": "@jupyter-widgets/base",
      "_model_module_version": "1.2.0",
      "_model_name": "LayoutModel",
      "_view_count": null,
      "_view_module": "@jupyter-widgets/base",
      "_view_module_version": "1.2.0",
      "_view_name": "LayoutView",
      "align_content": null,
      "align_items": null,
      "align_self": null,
      "border": null,
      "bottom": null,
      "display": null,
      "flex": null,
      "flex_flow": null,
      "grid_area": null,
      "grid_auto_columns": null,
      "grid_auto_flow": null,
      "grid_auto_rows": null,
      "grid_column": null,
      "grid_gap": null,
      "grid_row": null,
      "grid_template_areas": null,
      "grid_template_columns": null,
      "grid_template_rows": null,
      "height": null,
      "justify_content": null,
      "justify_items": null,
      "left": null,
      "margin": null,
      "max_height": null,
      "max_width": null,
      "min_height": null,
      "min_width": null,
      "object_fit": null,
      "object_position": null,
      "order": null,
      "overflow": null,
      "overflow_x": null,
      "overflow_y": null,
      "padding": null,
      "right": null,
      "top": null,
      "visibility": "hidden",
      "width": null
     }
    },
    "46b9d3b6cd6e4f76a42dd4f216dc1644": {
     "model_module": "@jupyter-widgets/controls",
     "model_module_version": "1.5.0",
     "model_name": "HBoxModel",
     "state": {
      "_dom_classes": [],
      "_model_module": "@jupyter-widgets/controls",
      "_model_module_version": "1.5.0",
      "_model_name": "HBoxModel",
      "_view_count": null,
      "_view_module": "@jupyter-widgets/controls",
      "_view_module_version": "1.5.0",
      "_view_name": "HBoxView",
      "box_style": "",
      "children": [
       "IPY_MODEL_cfce22755aa7471a87151793e633def1",
       "IPY_MODEL_94d7b3dc65544425b2463933c4108fa4",
       "IPY_MODEL_f92582f04a594f87a669f3c1c4d4eabc"
      ],
      "layout": "IPY_MODEL_40b50c57e470496cb6c94a0693636fd7"
     }
    },
    "4efa6d0ab419418ea9e4991c77b1ec42": {
     "model_module": "@jupyter-widgets/controls",
     "model_module_version": "1.5.0",
     "model_name": "ProgressStyleModel",
     "state": {
      "_model_module": "@jupyter-widgets/controls",
      "_model_module_version": "1.5.0",
      "_model_name": "ProgressStyleModel",
      "_view_count": null,
      "_view_module": "@jupyter-widgets/base",
      "_view_module_version": "1.2.0",
      "_view_name": "StyleView",
      "bar_color": null,
      "description_width": ""
     }
    },
    "81feddb738c64cbc8b7dbc7aec2730de": {
     "model_module": "@jupyter-widgets/controls",
     "model_module_version": "1.5.0",
     "model_name": "DescriptionStyleModel",
     "state": {
      "_model_module": "@jupyter-widgets/controls",
      "_model_module_version": "1.5.0",
      "_model_name": "DescriptionStyleModel",
      "_view_count": null,
      "_view_module": "@jupyter-widgets/base",
      "_view_module_version": "1.2.0",
      "_view_name": "StyleView",
      "description_width": ""
     }
    },
    "94d7b3dc65544425b2463933c4108fa4": {
     "model_module": "@jupyter-widgets/controls",
     "model_module_version": "1.5.0",
     "model_name": "FloatProgressModel",
     "state": {
      "_dom_classes": [],
      "_model_module": "@jupyter-widgets/controls",
      "_model_module_version": "1.5.0",
      "_model_name": "FloatProgressModel",
      "_view_count": null,
      "_view_module": "@jupyter-widgets/controls",
      "_view_module_version": "1.5.0",
      "_view_name": "ProgressView",
      "bar_style": "",
      "description": "",
      "description_tooltip": null,
      "layout": "IPY_MODEL_eb74dfbcca4a458eb81d87fbae5bf166",
      "max": 4,
      "min": 0,
      "orientation": "horizontal",
      "style": "IPY_MODEL_4efa6d0ab419418ea9e4991c77b1ec42",
      "value": 4
     }
    },
    "bec03081ad154466a3a0abca5a8462f4": {
     "model_module": "@jupyter-widgets/base",
     "model_module_version": "1.2.0",
     "model_name": "LayoutModel",
     "state": {
      "_model_module": "@jupyter-widgets/base",
      "_model_module_version": "1.2.0",
      "_model_name": "LayoutModel",
      "_view_count": null,
      "_view_module": "@jupyter-widgets/base",
      "_view_module_version": "1.2.0",
      "_view_name": "LayoutView",
      "align_content": null,
      "align_items": null,
      "align_self": null,
      "border": null,
      "bottom": null,
      "display": null,
      "flex": null,
      "flex_flow": null,
      "grid_area": null,
      "grid_auto_columns": null,
      "grid_auto_flow": null,
      "grid_auto_rows": null,
      "grid_column": null,
      "grid_gap": null,
      "grid_row": null,
      "grid_template_areas": null,
      "grid_template_columns": null,
      "grid_template_rows": null,
      "height": null,
      "justify_content": null,
      "justify_items": null,
      "left": null,
      "margin": null,
      "max_height": null,
      "max_width": null,
      "min_height": null,
      "min_width": null,
      "object_fit": null,
      "object_position": null,
      "order": null,
      "overflow": null,
      "overflow_x": null,
      "overflow_y": null,
      "padding": null,
      "right": null,
      "top": null,
      "visibility": null,
      "width": null
     }
    },
    "cfcd697393754f1d93106a2d6e07ea05": {
     "model_module": "@jupyter-widgets/controls",
     "model_module_version": "1.5.0",
     "model_name": "DescriptionStyleModel",
     "state": {
      "_model_module": "@jupyter-widgets/controls",
      "_model_module_version": "1.5.0",
      "_model_name": "DescriptionStyleModel",
      "_view_count": null,
      "_view_module": "@jupyter-widgets/base",
      "_view_module_version": "1.2.0",
      "_view_name": "StyleView",
      "description_width": ""
     }
    },
    "cfce22755aa7471a87151793e633def1": {
     "model_module": "@jupyter-widgets/controls",
     "model_module_version": "1.5.0",
     "model_name": "HTMLModel",
     "state": {
      "_dom_classes": [],
      "_model_module": "@jupyter-widgets/controls",
      "_model_module_version": "1.5.0",
      "_model_name": "HTMLModel",
      "_view_count": null,
      "_view_module": "@jupyter-widgets/controls",
      "_view_module_version": "1.5.0",
      "_view_name": "HTMLView",
      "description": "",
      "description_tooltip": null,
      "layout": "IPY_MODEL_bec03081ad154466a3a0abca5a8462f4",
      "placeholder": "​",
      "style": "IPY_MODEL_81feddb738c64cbc8b7dbc7aec2730de",
      "value": "Processing: 100%"
     }
    },
    "eb74dfbcca4a458eb81d87fbae5bf166": {
     "model_module": "@jupyter-widgets/base",
     "model_module_version": "1.2.0",
     "model_name": "LayoutModel",
     "state": {
      "_model_module": "@jupyter-widgets/base",
      "_model_module_version": "1.2.0",
      "_model_name": "LayoutModel",
      "_view_count": null,
      "_view_module": "@jupyter-widgets/base",
      "_view_module_version": "1.2.0",
      "_view_name": "LayoutView",
      "align_content": null,
      "align_items": null,
      "align_self": null,
      "border": null,
      "bottom": null,
      "display": null,
      "flex": null,
      "flex_flow": null,
      "grid_area": null,
      "grid_auto_columns": null,
      "grid_auto_flow": null,
      "grid_auto_rows": null,
      "grid_column": null,
      "grid_gap": null,
      "grid_row": null,
      "grid_template_areas": null,
      "grid_template_columns": null,
      "grid_template_rows": null,
      "height": null,
      "justify_content": null,
      "justify_items": null,
      "left": null,
      "margin": null,
      "max_height": null,
      "max_width": null,
      "min_height": null,
      "min_width": null,
      "object_fit": null,
      "object_position": null,
      "order": null,
      "overflow": null,
      "overflow_x": null,
      "overflow_y": null,
      "padding": null,
      "right": null,
      "top": null,
      "visibility": null,
      "width": null
     }
    },
    "f92582f04a594f87a669f3c1c4d4eabc": {
     "model_module": "@jupyter-widgets/controls",
     "model_module_version": "1.5.0",
     "model_name": "HTMLModel",
     "state": {
      "_dom_classes": [],
      "_model_module": "@jupyter-widgets/controls",
      "_model_module_version": "1.5.0",
      "_model_name": "HTMLModel",
      "_view_count": null,
      "_view_module": "@jupyter-widgets/controls",
      "_view_module_version": "1.5.0",
      "_view_name": "HTMLView",
      "description": "",
      "description_tooltip": null,
      "layout": "IPY_MODEL_1ac32fe9102d4f5a9d1511e64a1d5e5d",
      "placeholder": "​",
      "style": "IPY_MODEL_cfcd697393754f1d93106a2d6e07ea05",
      "value": " 4/4 [00:10&lt;00:00,  2.34s/it]"
     }
    }
   }
  }
 },
 "nbformat": 4,
 "nbformat_minor": 4
}
