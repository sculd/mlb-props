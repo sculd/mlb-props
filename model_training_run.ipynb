{
 "cells": [
  {
   "cell_type": "markdown",
   "metadata": {
    "id": "X1V_SUC4p-YQ"
   },
   "source": [
    "**Import Packages**"
   ]
  },
  {
   "cell_type": "code",
   "execution_count": 1,
   "metadata": {
    "colab": {
     "base_uri": "https://localhost:8080/"
    },
    "execution": {
     "iopub.execute_input": "2023-06-27T03:35:17.659573Z",
     "iopub.status.busy": "2023-06-27T03:35:17.656562Z",
     "iopub.status.idle": "2023-06-27T03:35:19.964215Z",
     "shell.execute_reply": "2023-06-27T03:35:19.963469Z",
     "shell.execute_reply.started": "2023-06-27T03:35:17.659436Z"
    },
    "id": "IGZCa25_p5QY",
    "outputId": "d9e7f9d8-21e8-49dd-d344-173324ba79a5",
    "tags": []
   },
   "outputs": [],
   "source": [
    "import pycaret\n",
    "import pandas as pd\n",
    "import numpy as np\n",
    "import sqlalchemy\n",
    "import mysql.connector\n",
    "\n",
    "from pycaret import classification\n",
    "from pycaret.classification import plot_model\n",
    "from datetime import datetime\n",
    "import importlib\n",
    "import model.common"
   ]
  },
  {
   "cell_type": "code",
   "execution_count": 2,
   "metadata": {
    "execution": {
     "iopub.execute_input": "2023-06-27T03:35:19.965423Z",
     "iopub.status.busy": "2023-06-27T03:35:19.965161Z",
     "iopub.status.idle": "2023-06-27T03:35:20.000378Z",
     "shell.execute_reply": "2023-06-27T03:35:19.999383Z",
     "shell.execute_reply.started": "2023-06-27T03:35:19.965407Z"
    }
   },
   "outputs": [],
   "source": [
    "from static_data.load_static_data import *"
   ]
  },
  {
   "cell_type": "code",
   "execution_count": 3,
   "metadata": {
    "execution": {
     "iopub.execute_input": "2023-06-27T03:35:20.001729Z",
     "iopub.status.busy": "2023-06-27T03:35:20.001467Z",
     "iopub.status.idle": "2023-06-27T03:35:20.017791Z",
     "shell.execute_reply": "2023-06-27T03:35:20.016880Z",
     "shell.execute_reply.started": "2023-06-27T03:35:20.001704Z"
    }
   },
   "outputs": [
    {
     "data": {
      "text/html": [
       "<div>\n",
       "<style scoped>\n",
       "    .dataframe tbody tr th:only-of-type {\n",
       "        vertical-align: middle;\n",
       "    }\n",
       "\n",
       "    .dataframe tbody tr th {\n",
       "        vertical-align: top;\n",
       "    }\n",
       "\n",
       "    .dataframe thead th {\n",
       "        text-align: right;\n",
       "    }\n",
       "</style>\n",
       "<table border=\"1\" class=\"dataframe\">\n",
       "  <thead>\n",
       "    <tr style=\"text-align: right;\">\n",
       "      <th></th>\n",
       "      <th>Unnamed: 0</th>\n",
       "      <th>player_id</th>\n",
       "      <th>player_name</th>\n",
       "      <th>player_team_id</th>\n",
       "      <th>player_team_name</th>\n",
       "      <th>player_position</th>\n",
       "    </tr>\n",
       "  </thead>\n",
       "  <tbody>\n",
       "    <tr>\n",
       "      <th>0</th>\n",
       "      <td>0</td>\n",
       "      <td>456167</td>\n",
       "      <td>A.J. Griffin</td>\n",
       "      <td>133</td>\n",
       "      <td>Oakland Athletics</td>\n",
       "      <td>Pitcher</td>\n",
       "    </tr>\n",
       "    <tr>\n",
       "      <th>1</th>\n",
       "      <td>0</td>\n",
       "      <td>134460</td>\n",
       "      <td>A.J. Hinch</td>\n",
       "      <td>133</td>\n",
       "      <td>Oakland Athletics</td>\n",
       "      <td>Catcher</td>\n",
       "    </tr>\n",
       "    <tr>\n",
       "      <th>2</th>\n",
       "      <td>0</td>\n",
       "      <td>640462</td>\n",
       "      <td>A.J. Puk</td>\n",
       "      <td>133</td>\n",
       "      <td>Oakland Athletics</td>\n",
       "      <td>Pitcher</td>\n",
       "    </tr>\n",
       "    <tr>\n",
       "      <th>3</th>\n",
       "      <td>0</td>\n",
       "      <td>605156</td>\n",
       "      <td>Aaron Brooks</td>\n",
       "      <td>133</td>\n",
       "      <td>Oakland Athletics</td>\n",
       "      <td>Pitcher</td>\n",
       "    </tr>\n",
       "    <tr>\n",
       "      <th>4</th>\n",
       "      <td>0</td>\n",
       "      <td>488811</td>\n",
       "      <td>Aaron Cunningham</td>\n",
       "      <td>133</td>\n",
       "      <td>Oakland Athletics</td>\n",
       "      <td>Outfielder</td>\n",
       "    </tr>\n",
       "    <tr>\n",
       "      <th>...</th>\n",
       "      <td>...</td>\n",
       "      <td>...</td>\n",
       "      <td>...</td>\n",
       "      <td>...</td>\n",
       "      <td>...</td>\n",
       "      <td>...</td>\n",
       "    </tr>\n",
       "    <tr>\n",
       "      <th>44728</th>\n",
       "      <td>0</td>\n",
       "      <td>451596</td>\n",
       "      <td>Yovani Gallardo</td>\n",
       "      <td>113</td>\n",
       "      <td>Cincinnati Reds</td>\n",
       "      <td>Pitcher</td>\n",
       "    </tr>\n",
       "    <tr>\n",
       "      <th>44729</th>\n",
       "      <td>0</td>\n",
       "      <td>435043</td>\n",
       "      <td>Zach Duke</td>\n",
       "      <td>113</td>\n",
       "      <td>Cincinnati Reds</td>\n",
       "      <td>Pitcher</td>\n",
       "    </tr>\n",
       "    <tr>\n",
       "      <th>44730</th>\n",
       "      <td>0</td>\n",
       "      <td>572227</td>\n",
       "      <td>Zach Vincej</td>\n",
       "      <td>113</td>\n",
       "      <td>Cincinnati Reds</td>\n",
       "      <td>Infielder</td>\n",
       "    </tr>\n",
       "    <tr>\n",
       "      <th>44731</th>\n",
       "      <td>0</td>\n",
       "      <td>446359</td>\n",
       "      <td>Zack Cozart</td>\n",
       "      <td>113</td>\n",
       "      <td>Cincinnati Reds</td>\n",
       "      <td>Infielder</td>\n",
       "    </tr>\n",
       "    <tr>\n",
       "      <th>44732</th>\n",
       "      <td>0</td>\n",
       "      <td>592848</td>\n",
       "      <td>Zack Weiss</td>\n",
       "      <td>113</td>\n",
       "      <td>Cincinnati Reds</td>\n",
       "      <td>Pitcher</td>\n",
       "    </tr>\n",
       "  </tbody>\n",
       "</table>\n",
       "<p>44733 rows × 6 columns</p>\n",
       "</div>"
      ],
      "text/plain": [
       "       Unnamed: 0  player_id       player_name  player_team_id  \\\n",
       "0               0     456167      A.J. Griffin             133   \n",
       "1               0     134460        A.J. Hinch             133   \n",
       "2               0     640462          A.J. Puk             133   \n",
       "3               0     605156      Aaron Brooks             133   \n",
       "4               0     488811  Aaron Cunningham             133   \n",
       "...           ...        ...               ...             ...   \n",
       "44728           0     451596   Yovani Gallardo             113   \n",
       "44729           0     435043         Zach Duke             113   \n",
       "44730           0     572227       Zach Vincej             113   \n",
       "44731           0     446359       Zack Cozart             113   \n",
       "44732           0     592848        Zack Weiss             113   \n",
       "\n",
       "        player_team_name player_position  \n",
       "0      Oakland Athletics         Pitcher  \n",
       "1      Oakland Athletics         Catcher  \n",
       "2      Oakland Athletics         Pitcher  \n",
       "3      Oakland Athletics         Pitcher  \n",
       "4      Oakland Athletics      Outfielder  \n",
       "...                  ...             ...  \n",
       "44728    Cincinnati Reds         Pitcher  \n",
       "44729    Cincinnati Reds         Pitcher  \n",
       "44730    Cincinnati Reds       Infielder  \n",
       "44731    Cincinnati Reds       Infielder  \n",
       "44732    Cincinnati Reds         Pitcher  \n",
       "\n",
       "[44733 rows x 6 columns]"
      ]
     },
     "execution_count": 3,
     "metadata": {},
     "output_type": "execute_result"
    }
   ],
   "source": [
    "df_player_team_positions"
   ]
  },
  {
   "cell_type": "markdown",
   "metadata": {
    "id": "jqde2RQfqchC"
   },
   "source": [
    "**Load Data**"
   ]
  },
  {
   "cell_type": "code",
   "execution_count": 4,
   "metadata": {
    "execution": {
     "iopub.execute_input": "2023-06-27T03:35:20.803596Z",
     "iopub.status.busy": "2023-06-27T03:35:20.802828Z",
     "iopub.status.idle": "2023-06-27T03:35:20.808419Z",
     "shell.execute_reply": "2023-06-27T03:35:20.807231Z",
     "shell.execute_reply.started": "2023-06-27T03:35:20.803564Z"
    }
   },
   "outputs": [],
   "source": [
    "collect_data_Base_dir = 'collect_data'"
   ]
  },
  {
   "cell_type": "code",
   "execution_count": 20,
   "metadata": {
    "execution": {
     "iopub.execute_input": "2023-06-27T04:00:30.341587Z",
     "iopub.status.busy": "2023-06-27T04:00:30.341201Z",
     "iopub.status.idle": "2023-06-27T04:00:30.753483Z",
     "shell.execute_reply": "2023-06-27T04:00:30.752730Z",
     "shell.execute_reply.started": "2023-06-27T04:00:30.341559Z"
    }
   },
   "outputs": [
    {
     "name": "stdout",
     "output_type": "stream",
     "text": [
      "325140\n"
     ]
    }
   ],
   "source": [
    "df_game_matchup_total = pd.read_pickle(f'{collect_data_Base_dir}/df_game_matchup_total.pkl')\n",
    "print(len(df_game_matchup_total))"
   ]
  },
  {
   "cell_type": "markdown",
   "metadata": {
    "id": "VkSM5TOeule8"
   },
   "source": [
    "**Clean Data**"
   ]
  },
  {
   "cell_type": "code",
   "execution_count": 84,
   "metadata": {
    "execution": {
     "iopub.execute_input": "2023-06-27T04:24:38.842270Z",
     "iopub.status.busy": "2023-06-27T04:24:38.841942Z",
     "iopub.status.idle": "2023-06-27T04:24:38.856018Z",
     "shell.execute_reply": "2023-06-27T04:24:38.855553Z",
     "shell.execute_reply.started": "2023-06-27T04:24:38.842251Z"
    }
   },
   "outputs": [
    {
     "data": {
      "text/plain": [
       "<module 'model.common' from '/home/junlim/projects/mlb-props/model/common.py'>"
      ]
     },
     "execution_count": 84,
     "metadata": {},
     "output_type": "execute_result"
    }
   ],
   "source": [
    "importlib.reload(model.common)"
   ]
  },
  {
   "cell_type": "code",
   "execution_count": 85,
   "metadata": {
    "execution": {
     "iopub.execute_input": "2023-06-27T04:24:39.728613Z",
     "iopub.status.busy": "2023-06-27T04:24:39.728126Z",
     "iopub.status.idle": "2023-06-27T04:24:39.736058Z",
     "shell.execute_reply": "2023-06-27T04:24:39.734779Z",
     "shell.execute_reply.started": "2023-06-27T04:24:39.728586Z"
    }
   },
   "outputs": [
    {
     "data": {
      "text/plain": [
       "['game_venue', 'batting_name', 'pitching_name']"
      ]
     },
     "execution_count": 85,
     "metadata": {},
     "output_type": "execute_result"
    }
   ],
   "source": [
    "model.common.categorical_features"
   ]
  },
  {
   "cell_type": "code",
   "execution_count": 86,
   "metadata": {
    "execution": {
     "iopub.execute_input": "2023-06-27T04:24:40.896097Z",
     "iopub.status.busy": "2023-06-27T04:24:40.895498Z",
     "iopub.status.idle": "2023-06-27T04:24:41.141376Z",
     "shell.execute_reply": "2023-06-27T04:24:41.140127Z",
     "shell.execute_reply.started": "2023-06-27T04:24:40.896073Z"
    }
   },
   "outputs": [],
   "source": [
    "train_data = df_game_matchup_total[(df_game_matchup_total.game_date > \"2012-04-01\") & (df_game_matchup_total.game_date < \"2022-12-01\")][model.common.features]\n",
    "test_data = df_game_matchup_total[(df_game_matchup_total.game_date > \"2022-12-01\")][model.common.features]"
   ]
  },
  {
   "cell_type": "code",
   "execution_count": 87,
   "metadata": {
    "execution": {
     "iopub.execute_input": "2023-06-27T04:24:41.335810Z",
     "iopub.status.busy": "2023-06-27T04:24:41.335440Z",
     "iopub.status.idle": "2023-06-27T04:24:41.344285Z",
     "shell.execute_reply": "2023-06-27T04:24:41.343245Z",
     "shell.execute_reply.started": "2023-06-27T04:24:41.335791Z"
    }
   },
   "outputs": [
    {
     "data": {
      "text/plain": [
       "Index(['pitching_gamesPlayed', 'pitching_runs_per_game',\n",
       "       'pitching_strikeOuts_per_game', 'pitching_hits_per_game', 'pitching_id',\n",
       "       'batting_name', 'batting_gamesPlayed', 'batting_runs_per_game',\n",
       "       'batting_strikeOuts_per_game', 'batting_hits_per_game', 'batting_rbi',\n",
       "       'batting_id', 'pitching_name', 'batting_hit_recorded',\n",
       "       'pitching_cur_hits_per_pitch', 'pitching_cur_strikeOuts_per_pitch',\n",
       "       'batting_cur_season_avg', 'temp', 'game_venue', 'game_date',\n",
       "       'game_year'],\n",
       "      dtype='object')"
      ]
     },
     "execution_count": 87,
     "metadata": {},
     "output_type": "execute_result"
    }
   ],
   "source": [
    "train_data.columns"
   ]
  },
  {
   "cell_type": "code",
   "execution_count": null,
   "metadata": {},
   "outputs": [],
   "source": []
  },
  {
   "cell_type": "code",
   "execution_count": 89,
   "metadata": {
    "execution": {
     "iopub.execute_input": "2023-06-27T04:24:46.175873Z",
     "iopub.status.busy": "2023-06-27T04:24:46.175391Z",
     "iopub.status.idle": "2023-06-27T04:24:46.180839Z",
     "shell.execute_reply": "2023-06-27T04:24:46.180218Z",
     "shell.execute_reply.started": "2023-06-27T04:24:46.175842Z"
    }
   },
   "outputs": [
    {
     "data": {
      "text/plain": [
       "Index(['pitching_gamesPlayed', 'pitching_runs_per_game',\n",
       "       'pitching_strikeOuts_per_game', 'pitching_hits_per_game', 'pitching_id',\n",
       "       'batting_name', 'batting_gamesPlayed', 'batting_runs_per_game',\n",
       "       'batting_strikeOuts_per_game', 'batting_hits_per_game', 'batting_rbi',\n",
       "       'batting_id', 'pitching_name', 'batting_hit_recorded',\n",
       "       'pitching_cur_hits_per_pitch', 'pitching_cur_strikeOuts_per_pitch',\n",
       "       'batting_cur_season_avg', 'temp', 'game_venue', 'game_date',\n",
       "       'game_year'],\n",
       "      dtype='object')"
      ]
     },
     "execution_count": 89,
     "metadata": {},
     "output_type": "execute_result"
    }
   ],
   "source": [
    "test_data.columns"
   ]
  },
  {
   "cell_type": "code",
   "execution_count": 90,
   "metadata": {
    "execution": {
     "iopub.execute_input": "2023-06-27T04:24:47.437998Z",
     "iopub.status.busy": "2023-06-27T04:24:47.437756Z",
     "iopub.status.idle": "2023-06-27T04:24:47.442681Z",
     "shell.execute_reply": "2023-06-27T04:24:47.441965Z",
     "shell.execute_reply.started": "2023-06-27T04:24:47.437979Z"
    }
   },
   "outputs": [
    {
     "data": {
      "text/plain": [
       "['game_venue', 'batting_name', 'pitching_name']"
      ]
     },
     "execution_count": 90,
     "metadata": {},
     "output_type": "execute_result"
    }
   ],
   "source": [
    "model.common.categorical_features"
   ]
  },
  {
   "cell_type": "code",
   "execution_count": 91,
   "metadata": {
    "execution": {
     "iopub.execute_input": "2023-06-27T04:24:47.641088Z",
     "iopub.status.busy": "2023-06-27T04:24:47.640586Z",
     "iopub.status.idle": "2023-06-27T04:24:47.650385Z",
     "shell.execute_reply": "2023-06-27T04:24:47.649565Z",
     "shell.execute_reply.started": "2023-06-27T04:24:47.641064Z"
    }
   },
   "outputs": [
    {
     "data": {
      "text/plain": [
       "['pitching_id', 'batting_id', 'game_date', 'game_year']"
      ]
     },
     "execution_count": 91,
     "metadata": {},
     "output_type": "execute_result"
    }
   ],
   "source": [
    "model.common.ignore_features"
   ]
  },
  {
   "cell_type": "markdown",
   "metadata": {
    "id": "-0Pi_iCwvTQd"
   },
   "source": [
    "**Model Setup**"
   ]
  },
  {
   "cell_type": "code",
   "execution_count": 92,
   "metadata": {
    "execution": {
     "iopub.execute_input": "2023-06-27T04:24:48.711881Z",
     "iopub.status.busy": "2023-06-27T04:24:48.711301Z",
     "iopub.status.idle": "2023-06-27T04:24:50.346071Z",
     "shell.execute_reply": "2023-06-27T04:24:50.345295Z",
     "shell.execute_reply.started": "2023-06-27T04:24:48.711851Z"
    },
    "scrolled": true
   },
   "outputs": [
    {
     "data": {
      "text/html": [
       "<style type=\"text/css\">\n",
       "#T_1ead8_row11_col1 {\n",
       "  background-color: lightgreen;\n",
       "}\n",
       "</style>\n",
       "<table id=\"T_1ead8\">\n",
       "  <thead>\n",
       "    <tr>\n",
       "      <th class=\"blank level0\" >&nbsp;</th>\n",
       "      <th id=\"T_1ead8_level0_col0\" class=\"col_heading level0 col0\" >Description</th>\n",
       "      <th id=\"T_1ead8_level0_col1\" class=\"col_heading level0 col1\" >Value</th>\n",
       "    </tr>\n",
       "  </thead>\n",
       "  <tbody>\n",
       "    <tr>\n",
       "      <th id=\"T_1ead8_level0_row0\" class=\"row_heading level0 row0\" >0</th>\n",
       "      <td id=\"T_1ead8_row0_col0\" class=\"data row0 col0\" >Session id</td>\n",
       "      <td id=\"T_1ead8_row0_col1\" class=\"data row0 col1\" >3031</td>\n",
       "    </tr>\n",
       "    <tr>\n",
       "      <th id=\"T_1ead8_level0_row1\" class=\"row_heading level0 row1\" >1</th>\n",
       "      <td id=\"T_1ead8_row1_col0\" class=\"data row1 col0\" >Target</td>\n",
       "      <td id=\"T_1ead8_row1_col1\" class=\"data row1 col1\" >batting_hit_recorded</td>\n",
       "    </tr>\n",
       "    <tr>\n",
       "      <th id=\"T_1ead8_level0_row2\" class=\"row_heading level0 row2\" >2</th>\n",
       "      <td id=\"T_1ead8_row2_col0\" class=\"data row2 col0\" >Target type</td>\n",
       "      <td id=\"T_1ead8_row2_col1\" class=\"data row2 col1\" >Binary</td>\n",
       "    </tr>\n",
       "    <tr>\n",
       "      <th id=\"T_1ead8_level0_row3\" class=\"row_heading level0 row3\" >3</th>\n",
       "      <td id=\"T_1ead8_row3_col0\" class=\"data row3 col0\" >Original data shape</td>\n",
       "      <td id=\"T_1ead8_row3_col1\" class=\"data row3 col1\" >(285090, 21)</td>\n",
       "    </tr>\n",
       "    <tr>\n",
       "      <th id=\"T_1ead8_level0_row4\" class=\"row_heading level0 row4\" >4</th>\n",
       "      <td id=\"T_1ead8_row4_col0\" class=\"data row4 col0\" >Transformed data shape</td>\n",
       "      <td id=\"T_1ead8_row4_col1\" class=\"data row4 col1\" >(285090, 15)</td>\n",
       "    </tr>\n",
       "    <tr>\n",
       "      <th id=\"T_1ead8_level0_row5\" class=\"row_heading level0 row5\" >5</th>\n",
       "      <td id=\"T_1ead8_row5_col0\" class=\"data row5 col0\" >Transformed train set shape</td>\n",
       "      <td id=\"T_1ead8_row5_col1\" class=\"data row5 col1\" >(199563, 15)</td>\n",
       "    </tr>\n",
       "    <tr>\n",
       "      <th id=\"T_1ead8_level0_row6\" class=\"row_heading level0 row6\" >6</th>\n",
       "      <td id=\"T_1ead8_row6_col0\" class=\"data row6 col0\" >Transformed test set shape</td>\n",
       "      <td id=\"T_1ead8_row6_col1\" class=\"data row6 col1\" >(85527, 15)</td>\n",
       "    </tr>\n",
       "    <tr>\n",
       "      <th id=\"T_1ead8_level0_row7\" class=\"row_heading level0 row7\" >7</th>\n",
       "      <td id=\"T_1ead8_row7_col0\" class=\"data row7 col0\" >Ignore features</td>\n",
       "      <td id=\"T_1ead8_row7_col1\" class=\"data row7 col1\" >6</td>\n",
       "    </tr>\n",
       "    <tr>\n",
       "      <th id=\"T_1ead8_level0_row8\" class=\"row_heading level0 row8\" >8</th>\n",
       "      <td id=\"T_1ead8_row8_col0\" class=\"data row8 col0\" >Numeric features</td>\n",
       "      <td id=\"T_1ead8_row8_col1\" class=\"data row8 col1\" >12</td>\n",
       "    </tr>\n",
       "    <tr>\n",
       "      <th id=\"T_1ead8_level0_row9\" class=\"row_heading level0 row9\" >9</th>\n",
       "      <td id=\"T_1ead8_row9_col0\" class=\"data row9 col0\" >Categorical features</td>\n",
       "      <td id=\"T_1ead8_row9_col1\" class=\"data row9 col1\" >1</td>\n",
       "    </tr>\n",
       "    <tr>\n",
       "      <th id=\"T_1ead8_level0_row10\" class=\"row_heading level0 row10\" >10</th>\n",
       "      <td id=\"T_1ead8_row10_col0\" class=\"data row10 col0\" >Rows with missing values</td>\n",
       "      <td id=\"T_1ead8_row10_col1\" class=\"data row10 col1\" >0.0%</td>\n",
       "    </tr>\n",
       "    <tr>\n",
       "      <th id=\"T_1ead8_level0_row11\" class=\"row_heading level0 row11\" >11</th>\n",
       "      <td id=\"T_1ead8_row11_col0\" class=\"data row11 col0\" >Preprocess</td>\n",
       "      <td id=\"T_1ead8_row11_col1\" class=\"data row11 col1\" >True</td>\n",
       "    </tr>\n",
       "    <tr>\n",
       "      <th id=\"T_1ead8_level0_row12\" class=\"row_heading level0 row12\" >12</th>\n",
       "      <td id=\"T_1ead8_row12_col0\" class=\"data row12 col0\" >Imputation type</td>\n",
       "      <td id=\"T_1ead8_row12_col1\" class=\"data row12 col1\" >simple</td>\n",
       "    </tr>\n",
       "    <tr>\n",
       "      <th id=\"T_1ead8_level0_row13\" class=\"row_heading level0 row13\" >13</th>\n",
       "      <td id=\"T_1ead8_row13_col0\" class=\"data row13 col0\" >Numeric imputation</td>\n",
       "      <td id=\"T_1ead8_row13_col1\" class=\"data row13 col1\" >mean</td>\n",
       "    </tr>\n",
       "    <tr>\n",
       "      <th id=\"T_1ead8_level0_row14\" class=\"row_heading level0 row14\" >14</th>\n",
       "      <td id=\"T_1ead8_row14_col0\" class=\"data row14 col0\" >Categorical imputation</td>\n",
       "      <td id=\"T_1ead8_row14_col1\" class=\"data row14 col1\" >mode</td>\n",
       "    </tr>\n",
       "    <tr>\n",
       "      <th id=\"T_1ead8_level0_row15\" class=\"row_heading level0 row15\" >15</th>\n",
       "      <td id=\"T_1ead8_row15_col0\" class=\"data row15 col0\" >Maximum one-hot encoding</td>\n",
       "      <td id=\"T_1ead8_row15_col1\" class=\"data row15 col1\" >25</td>\n",
       "    </tr>\n",
       "    <tr>\n",
       "      <th id=\"T_1ead8_level0_row16\" class=\"row_heading level0 row16\" >16</th>\n",
       "      <td id=\"T_1ead8_row16_col0\" class=\"data row16 col0\" >Encoding method</td>\n",
       "      <td id=\"T_1ead8_row16_col1\" class=\"data row16 col1\" >None</td>\n",
       "    </tr>\n",
       "    <tr>\n",
       "      <th id=\"T_1ead8_level0_row17\" class=\"row_heading level0 row17\" >17</th>\n",
       "      <td id=\"T_1ead8_row17_col0\" class=\"data row17 col0\" >Fold Generator</td>\n",
       "      <td id=\"T_1ead8_row17_col1\" class=\"data row17 col1\" >StratifiedKFold</td>\n",
       "    </tr>\n",
       "    <tr>\n",
       "      <th id=\"T_1ead8_level0_row18\" class=\"row_heading level0 row18\" >18</th>\n",
       "      <td id=\"T_1ead8_row18_col0\" class=\"data row18 col0\" >Fold Number</td>\n",
       "      <td id=\"T_1ead8_row18_col1\" class=\"data row18 col1\" >10</td>\n",
       "    </tr>\n",
       "    <tr>\n",
       "      <th id=\"T_1ead8_level0_row19\" class=\"row_heading level0 row19\" >19</th>\n",
       "      <td id=\"T_1ead8_row19_col0\" class=\"data row19 col0\" >CPU Jobs</td>\n",
       "      <td id=\"T_1ead8_row19_col1\" class=\"data row19 col1\" >-1</td>\n",
       "    </tr>\n",
       "    <tr>\n",
       "      <th id=\"T_1ead8_level0_row20\" class=\"row_heading level0 row20\" >20</th>\n",
       "      <td id=\"T_1ead8_row20_col0\" class=\"data row20 col0\" >Use GPU</td>\n",
       "      <td id=\"T_1ead8_row20_col1\" class=\"data row20 col1\" >False</td>\n",
       "    </tr>\n",
       "    <tr>\n",
       "      <th id=\"T_1ead8_level0_row21\" class=\"row_heading level0 row21\" >21</th>\n",
       "      <td id=\"T_1ead8_row21_col0\" class=\"data row21 col0\" >Log Experiment</td>\n",
       "      <td id=\"T_1ead8_row21_col1\" class=\"data row21 col1\" >False</td>\n",
       "    </tr>\n",
       "    <tr>\n",
       "      <th id=\"T_1ead8_level0_row22\" class=\"row_heading level0 row22\" >22</th>\n",
       "      <td id=\"T_1ead8_row22_col0\" class=\"data row22 col0\" >Experiment Name</td>\n",
       "      <td id=\"T_1ead8_row22_col1\" class=\"data row22 col1\" >clf-default-name</td>\n",
       "    </tr>\n",
       "    <tr>\n",
       "      <th id=\"T_1ead8_level0_row23\" class=\"row_heading level0 row23\" >23</th>\n",
       "      <td id=\"T_1ead8_row23_col0\" class=\"data row23 col0\" >USI</td>\n",
       "      <td id=\"T_1ead8_row23_col1\" class=\"data row23 col1\" >8777</td>\n",
       "    </tr>\n",
       "  </tbody>\n",
       "</table>\n"
      ],
      "text/plain": [
       "<pandas.io.formats.style.Styler at 0x7f955c0c13f0>"
      ]
     },
     "metadata": {},
     "output_type": "display_data"
    }
   ],
   "source": [
    "classification_setup = pycaret.classification.setup(\n",
    "    data = train_data, target = \"batting_hit_recorded\", train_size = .70, use_gpu = False, \n",
    "    categorical_features = ['game_venue'], ignore_features = model.common.ignore_features + ['batting_name', 'pitching_name'])"
   ]
  },
  {
   "cell_type": "markdown",
   "metadata": {
    "id": "Qxoqal-SvwXp"
   },
   "source": [
    "**Build/Train Model**"
   ]
  },
  {
   "cell_type": "code",
   "execution_count": 93,
   "metadata": {
    "execution": {
     "iopub.execute_input": "2023-06-27T04:24:50.346944Z",
     "iopub.status.busy": "2023-06-27T04:24:50.346824Z",
     "iopub.status.idle": "2023-06-27T04:24:50.352308Z",
     "shell.execute_reply": "2023-06-27T04:24:50.351617Z",
     "shell.execute_reply.started": "2023-06-27T04:24:50.346933Z"
    },
    "scrolled": true
   },
   "outputs": [
    {
     "data": {
      "text/plain": [
       "\u001b[0;31mSignature:\u001b[0m\n",
       "\u001b[0mclassification_setup\u001b[0m\u001b[0;34m.\u001b[0m\u001b[0mcreate_model\u001b[0m\u001b[0;34m(\u001b[0m\u001b[0;34m\u001b[0m\n",
       "\u001b[0;34m\u001b[0m    \u001b[0mestimator\u001b[0m\u001b[0;34m:\u001b[0m \u001b[0mUnion\u001b[0m\u001b[0;34m[\u001b[0m\u001b[0mstr\u001b[0m\u001b[0;34m,\u001b[0m \u001b[0mAny\u001b[0m\u001b[0;34m]\u001b[0m\u001b[0;34m,\u001b[0m\u001b[0;34m\u001b[0m\n",
       "\u001b[0;34m\u001b[0m    \u001b[0mfold\u001b[0m\u001b[0;34m:\u001b[0m \u001b[0mUnion\u001b[0m\u001b[0;34m[\u001b[0m\u001b[0mint\u001b[0m\u001b[0;34m,\u001b[0m \u001b[0mAny\u001b[0m\u001b[0;34m,\u001b[0m \u001b[0mNoneType\u001b[0m\u001b[0;34m]\u001b[0m \u001b[0;34m=\u001b[0m \u001b[0;32mNone\u001b[0m\u001b[0;34m,\u001b[0m\u001b[0;34m\u001b[0m\n",
       "\u001b[0;34m\u001b[0m    \u001b[0mround\u001b[0m\u001b[0;34m:\u001b[0m \u001b[0mint\u001b[0m \u001b[0;34m=\u001b[0m \u001b[0;36m4\u001b[0m\u001b[0;34m,\u001b[0m\u001b[0;34m\u001b[0m\n",
       "\u001b[0;34m\u001b[0m    \u001b[0mcross_validation\u001b[0m\u001b[0;34m:\u001b[0m \u001b[0mbool\u001b[0m \u001b[0;34m=\u001b[0m \u001b[0;32mTrue\u001b[0m\u001b[0;34m,\u001b[0m\u001b[0;34m\u001b[0m\n",
       "\u001b[0;34m\u001b[0m    \u001b[0mfit_kwargs\u001b[0m\u001b[0;34m:\u001b[0m \u001b[0mOptional\u001b[0m\u001b[0;34m[\u001b[0m\u001b[0mdict\u001b[0m\u001b[0;34m]\u001b[0m \u001b[0;34m=\u001b[0m \u001b[0;32mNone\u001b[0m\u001b[0;34m,\u001b[0m\u001b[0;34m\u001b[0m\n",
       "\u001b[0;34m\u001b[0m    \u001b[0mgroups\u001b[0m\u001b[0;34m:\u001b[0m \u001b[0mUnion\u001b[0m\u001b[0;34m[\u001b[0m\u001b[0mstr\u001b[0m\u001b[0;34m,\u001b[0m \u001b[0mAny\u001b[0m\u001b[0;34m,\u001b[0m \u001b[0mNoneType\u001b[0m\u001b[0;34m]\u001b[0m \u001b[0;34m=\u001b[0m \u001b[0;32mNone\u001b[0m\u001b[0;34m,\u001b[0m\u001b[0;34m\u001b[0m\n",
       "\u001b[0;34m\u001b[0m    \u001b[0mexperiment_custom_tags\u001b[0m\u001b[0;34m:\u001b[0m \u001b[0mOptional\u001b[0m\u001b[0;34m[\u001b[0m\u001b[0mDict\u001b[0m\u001b[0;34m[\u001b[0m\u001b[0mstr\u001b[0m\u001b[0;34m,\u001b[0m \u001b[0mAny\u001b[0m\u001b[0;34m]\u001b[0m\u001b[0;34m]\u001b[0m \u001b[0;34m=\u001b[0m \u001b[0;32mNone\u001b[0m\u001b[0;34m,\u001b[0m\u001b[0;34m\u001b[0m\n",
       "\u001b[0;34m\u001b[0m    \u001b[0mprobability_threshold\u001b[0m\u001b[0;34m:\u001b[0m \u001b[0mOptional\u001b[0m\u001b[0;34m[\u001b[0m\u001b[0mfloat\u001b[0m\u001b[0;34m]\u001b[0m \u001b[0;34m=\u001b[0m \u001b[0;32mNone\u001b[0m\u001b[0;34m,\u001b[0m\u001b[0;34m\u001b[0m\n",
       "\u001b[0;34m\u001b[0m    \u001b[0mengine\u001b[0m\u001b[0;34m:\u001b[0m \u001b[0mOptional\u001b[0m\u001b[0;34m[\u001b[0m\u001b[0mstr\u001b[0m\u001b[0;34m]\u001b[0m \u001b[0;34m=\u001b[0m \u001b[0;32mNone\u001b[0m\u001b[0;34m,\u001b[0m\u001b[0;34m\u001b[0m\n",
       "\u001b[0;34m\u001b[0m    \u001b[0mverbose\u001b[0m\u001b[0;34m:\u001b[0m \u001b[0mbool\u001b[0m \u001b[0;34m=\u001b[0m \u001b[0;32mTrue\u001b[0m\u001b[0;34m,\u001b[0m\u001b[0;34m\u001b[0m\n",
       "\u001b[0;34m\u001b[0m    \u001b[0mreturn_train_score\u001b[0m\u001b[0;34m:\u001b[0m \u001b[0mbool\u001b[0m \u001b[0;34m=\u001b[0m \u001b[0;32mFalse\u001b[0m\u001b[0;34m,\u001b[0m\u001b[0;34m\u001b[0m\n",
       "\u001b[0;34m\u001b[0m    \u001b[0;34m**\u001b[0m\u001b[0mkwargs\u001b[0m\u001b[0;34m,\u001b[0m\u001b[0;34m\u001b[0m\n",
       "\u001b[0;34m\u001b[0m\u001b[0;34m)\u001b[0m \u001b[0;34m->\u001b[0m \u001b[0mAny\u001b[0m\u001b[0;34m\u001b[0m\u001b[0;34m\u001b[0m\u001b[0m\n",
       "\u001b[0;31mDocstring:\u001b[0m\n",
       "This function trains and evaluates the performance of a given estimator\n",
       "using cross validation. The output of this function is a score grid with\n",
       "CV scores by fold. Metrics evaluated during CV can be accessed using the\n",
       "``get_metrics`` function. Custom metrics can be added or removed using\n",
       "``add_metric`` and ``remove_metric`` function. All the available models\n",
       "can be accessed using the ``models`` function.\n",
       "\n",
       "Example\n",
       "-------\n",
       ">>> from pycaret.datasets import get_data\n",
       ">>> juice = get_data('juice')\n",
       ">>> from pycaret.classification import *\n",
       ">>> exp_name = setup(data = juice,  target = 'Purchase')\n",
       ">>> lr = create_model('lr')\n",
       "\n",
       "\n",
       "estimator: str or scikit-learn compatible object\n",
       "    ID of an estimator available in model library or pass an untrained\n",
       "    model object consistent with scikit-learn API. Estimators available\n",
       "    in the model library (ID - Name):\n",
       "\n",
       "    * 'lr' - Logistic Regression\n",
       "    * 'knn' - K Neighbors Classifier\n",
       "    * 'nb' - Naive Bayes\n",
       "    * 'dt' - Decision Tree Classifier\n",
       "    * 'svm' - SVM - Linear Kernel\n",
       "    * 'rbfsvm' - SVM - Radial Kernel\n",
       "    * 'gpc' - Gaussian Process Classifier\n",
       "    * 'mlp' - MLP Classifier\n",
       "    * 'ridge' - Ridge Classifier\n",
       "    * 'rf' - Random Forest Classifier\n",
       "    * 'qda' - Quadratic Discriminant Analysis\n",
       "    * 'ada' - Ada Boost Classifier\n",
       "    * 'gbc' - Gradient Boosting Classifier\n",
       "    * 'lda' - Linear Discriminant Analysis\n",
       "    * 'et' - Extra Trees Classifier\n",
       "    * 'xgboost' - Extreme Gradient Boosting\n",
       "    * 'lightgbm' - Light Gradient Boosting Machine\n",
       "    * 'catboost' - CatBoost Classifier\n",
       "\n",
       "\n",
       "fold: int or scikit-learn compatible CV generator, default = None\n",
       "    Controls cross-validation. If None, the CV generator in the ``fold_strategy``\n",
       "    parameter of the ``setup`` function is used. When an integer is passed,\n",
       "    it is interpreted as the 'n_splits' parameter of the CV generator in the\n",
       "    ``setup`` function.\n",
       "\n",
       "\n",
       "round: int, default = 4\n",
       "    Number of decimal places the metrics in the score grid will be rounded to.\n",
       "\n",
       "\n",
       "cross_validation: bool, default = True\n",
       "    When set to False, metrics are evaluated on holdout set. ``fold`` param\n",
       "    is ignored when cross_validation is set to False.\n",
       "\n",
       "\n",
       "fit_kwargs: dict, default = {} (empty dict)\n",
       "    Dictionary of arguments passed to the fit method of the model.\n",
       "\n",
       "\n",
       "groups: str or array-like, with shape (n_samples,), default = None\n",
       "    Optional group labels when GroupKFold is used for the cross validation.\n",
       "    It takes an array with shape (n_samples, ) where n_samples is the number\n",
       "    of rows in training dataset. When string is passed, it is interpreted as\n",
       "    the column name in the dataset containing group labels.\n",
       "\n",
       "\n",
       "probability_threshold: float, default = None\n",
       "    Threshold for converting predicted probability to class label.\n",
       "    It defaults to 0.5 for all classifiers unless explicitly defined\n",
       "    in this parameter. Only applicable for binary classification.\n",
       "\n",
       "\n",
       "experiment_custom_tags: dict, default = None\n",
       "    Dictionary of tag_name: String -> value: (String, but will be string-ified\n",
       "    if not) passed to the mlflow.set_tags to add new custom tags for the experiment.\n",
       "\n",
       "\n",
       "engine: Optional[str] = None\n",
       "    The execution engine to use for the model, e.g. for Logistic Regression (\"lr\"), users can\n",
       "    switch between \"sklearn\" and \"sklearnex\" by specifying\n",
       "    `engine=\"sklearnex\"`.\n",
       "\n",
       "\n",
       "verbose: bool, default = True\n",
       "    Score grid is not printed when verbose is set to False.\n",
       "\n",
       "\n",
       "return_train_score: bool, default = False\n",
       "    If False, returns the CV Validation scores only.\n",
       "    If True, returns the CV training scores along with the CV validation scores.\n",
       "    This is useful when the user wants to do bias-variance tradeoff. A high CV\n",
       "    training score with a low corresponding CV validation score indicates overfitting.\n",
       "\n",
       "\n",
       "**kwargs:\n",
       "    Additional keyword arguments to pass to the estimator.\n",
       "\n",
       "\n",
       "Returns:\n",
       "    Trained Model\n",
       "\n",
       "\n",
       "Warnings\n",
       "--------\n",
       "- AUC for estimators that does not support 'predict_proba' is shown as 0.0000.\n",
       "\n",
       "- Models are not logged on the ``MLFlow`` server when ``cross_validation`` param\n",
       "is set to False.\n",
       "\u001b[0;31mFile:\u001b[0m      ~/venvs/finance/lib/python3.10/site-packages/pycaret/classification/oop.py\n",
       "\u001b[0;31mType:\u001b[0m      method"
      ]
     },
     "metadata": {},
     "output_type": "display_data"
    }
   ],
   "source": [
    "classification_setup.create_model?"
   ]
  },
  {
   "cell_type": "code",
   "execution_count": 96,
   "metadata": {
    "execution": {
     "iopub.execute_input": "2023-06-27T04:29:23.149767Z",
     "iopub.status.busy": "2023-06-27T04:29:23.149406Z",
     "iopub.status.idle": "2023-06-27T04:31:09.600045Z",
     "shell.execute_reply": "2023-06-27T04:31:09.599355Z",
     "shell.execute_reply.started": "2023-06-27T04:29:23.149745Z"
    }
   },
   "outputs": [
    {
     "data": {
      "text/html": [],
      "text/plain": [
       "<IPython.core.display.HTML object>"
      ]
     },
     "metadata": {},
     "output_type": "display_data"
    },
    {
     "data": {
      "text/html": [
       "<style type=\"text/css\">\n",
       "#T_24746_row10_col0, #T_24746_row10_col1, #T_24746_row10_col2, #T_24746_row10_col3, #T_24746_row10_col4, #T_24746_row10_col5, #T_24746_row10_col6 {\n",
       "  background: yellow;\n",
       "}\n",
       "</style>\n",
       "<table id=\"T_24746\">\n",
       "  <thead>\n",
       "    <tr>\n",
       "      <th class=\"blank level0\" >&nbsp;</th>\n",
       "      <th id=\"T_24746_level0_col0\" class=\"col_heading level0 col0\" >Accuracy</th>\n",
       "      <th id=\"T_24746_level0_col1\" class=\"col_heading level0 col1\" >AUC</th>\n",
       "      <th id=\"T_24746_level0_col2\" class=\"col_heading level0 col2\" >Recall</th>\n",
       "      <th id=\"T_24746_level0_col3\" class=\"col_heading level0 col3\" >Prec.</th>\n",
       "      <th id=\"T_24746_level0_col4\" class=\"col_heading level0 col4\" >F1</th>\n",
       "      <th id=\"T_24746_level0_col5\" class=\"col_heading level0 col5\" >Kappa</th>\n",
       "      <th id=\"T_24746_level0_col6\" class=\"col_heading level0 col6\" >MCC</th>\n",
       "    </tr>\n",
       "    <tr>\n",
       "      <th class=\"index_name level0\" >Fold</th>\n",
       "      <th class=\"blank col0\" >&nbsp;</th>\n",
       "      <th class=\"blank col1\" >&nbsp;</th>\n",
       "      <th class=\"blank col2\" >&nbsp;</th>\n",
       "      <th class=\"blank col3\" >&nbsp;</th>\n",
       "      <th class=\"blank col4\" >&nbsp;</th>\n",
       "      <th class=\"blank col5\" >&nbsp;</th>\n",
       "      <th class=\"blank col6\" >&nbsp;</th>\n",
       "    </tr>\n",
       "  </thead>\n",
       "  <tbody>\n",
       "    <tr>\n",
       "      <th id=\"T_24746_level0_row0\" class=\"row_heading level0 row0\" >0</th>\n",
       "      <td id=\"T_24746_row0_col0\" class=\"data row0 col0\" >0.9905</td>\n",
       "      <td id=\"T_24746_row0_col1\" class=\"data row0 col1\" >0.9993</td>\n",
       "      <td id=\"T_24746_row0_col2\" class=\"data row0 col2\" >0.9926</td>\n",
       "      <td id=\"T_24746_row0_col3\" class=\"data row0 col3\" >0.9906</td>\n",
       "      <td id=\"T_24746_row0_col4\" class=\"data row0 col4\" >0.9916</td>\n",
       "      <td id=\"T_24746_row0_col5\" class=\"data row0 col5\" >0.9807</td>\n",
       "      <td id=\"T_24746_row0_col6\" class=\"data row0 col6\" >0.9807</td>\n",
       "    </tr>\n",
       "    <tr>\n",
       "      <th id=\"T_24746_level0_row1\" class=\"row_heading level0 row1\" >1</th>\n",
       "      <td id=\"T_24746_row1_col0\" class=\"data row1 col0\" >0.9901</td>\n",
       "      <td id=\"T_24746_row1_col1\" class=\"data row1 col1\" >0.9994</td>\n",
       "      <td id=\"T_24746_row1_col2\" class=\"data row1 col2\" >0.9908</td>\n",
       "      <td id=\"T_24746_row1_col3\" class=\"data row1 col3\" >0.9915</td>\n",
       "      <td id=\"T_24746_row1_col4\" class=\"data row1 col4\" >0.9912</td>\n",
       "      <td id=\"T_24746_row1_col5\" class=\"data row1 col5\" >0.9798</td>\n",
       "      <td id=\"T_24746_row1_col6\" class=\"data row1 col6\" >0.9798</td>\n",
       "    </tr>\n",
       "    <tr>\n",
       "      <th id=\"T_24746_level0_row2\" class=\"row_heading level0 row2\" >2</th>\n",
       "      <td id=\"T_24746_row2_col0\" class=\"data row2 col0\" >0.9898</td>\n",
       "      <td id=\"T_24746_row2_col1\" class=\"data row2 col1\" >0.9992</td>\n",
       "      <td id=\"T_24746_row2_col2\" class=\"data row2 col2\" >0.9917</td>\n",
       "      <td id=\"T_24746_row2_col3\" class=\"data row2 col3\" >0.9902</td>\n",
       "      <td id=\"T_24746_row2_col4\" class=\"data row2 col4\" >0.9910</td>\n",
       "      <td id=\"T_24746_row2_col5\" class=\"data row2 col5\" >0.9793</td>\n",
       "      <td id=\"T_24746_row2_col6\" class=\"data row2 col6\" >0.9793</td>\n",
       "    </tr>\n",
       "    <tr>\n",
       "      <th id=\"T_24746_level0_row3\" class=\"row_heading level0 row3\" >3</th>\n",
       "      <td id=\"T_24746_row3_col0\" class=\"data row3 col0\" >0.9900</td>\n",
       "      <td id=\"T_24746_row3_col1\" class=\"data row3 col1\" >0.9994</td>\n",
       "      <td id=\"T_24746_row3_col2\" class=\"data row3 col2\" >0.9927</td>\n",
       "      <td id=\"T_24746_row3_col3\" class=\"data row3 col3\" >0.9896</td>\n",
       "      <td id=\"T_24746_row3_col4\" class=\"data row3 col4\" >0.9912</td>\n",
       "      <td id=\"T_24746_row3_col5\" class=\"data row3 col5\" >0.9797</td>\n",
       "      <td id=\"T_24746_row3_col6\" class=\"data row3 col6\" >0.9797</td>\n",
       "    </tr>\n",
       "    <tr>\n",
       "      <th id=\"T_24746_level0_row4\" class=\"row_heading level0 row4\" >4</th>\n",
       "      <td id=\"T_24746_row4_col0\" class=\"data row4 col0\" >0.9914</td>\n",
       "      <td id=\"T_24746_row4_col1\" class=\"data row4 col1\" >0.9994</td>\n",
       "      <td id=\"T_24746_row4_col2\" class=\"data row4 col2\" >0.9924</td>\n",
       "      <td id=\"T_24746_row4_col3\" class=\"data row4 col3\" >0.9923</td>\n",
       "      <td id=\"T_24746_row4_col4\" class=\"data row4 col4\" >0.9924</td>\n",
       "      <td id=\"T_24746_row4_col5\" class=\"data row4 col5\" >0.9825</td>\n",
       "      <td id=\"T_24746_row4_col6\" class=\"data row4 col6\" >0.9825</td>\n",
       "    </tr>\n",
       "    <tr>\n",
       "      <th id=\"T_24746_level0_row5\" class=\"row_heading level0 row5\" >5</th>\n",
       "      <td id=\"T_24746_row5_col0\" class=\"data row5 col0\" >0.9908</td>\n",
       "      <td id=\"T_24746_row5_col1\" class=\"data row5 col1\" >0.9994</td>\n",
       "      <td id=\"T_24746_row5_col2\" class=\"data row5 col2\" >0.9922</td>\n",
       "      <td id=\"T_24746_row5_col3\" class=\"data row5 col3\" >0.9916</td>\n",
       "      <td id=\"T_24746_row5_col4\" class=\"data row5 col4\" >0.9919</td>\n",
       "      <td id=\"T_24746_row5_col5\" class=\"data row5 col5\" >0.9814</td>\n",
       "      <td id=\"T_24746_row5_col6\" class=\"data row5 col6\" >0.9814</td>\n",
       "    </tr>\n",
       "    <tr>\n",
       "      <th id=\"T_24746_level0_row6\" class=\"row_heading level0 row6\" >6</th>\n",
       "      <td id=\"T_24746_row6_col0\" class=\"data row6 col0\" >0.9899</td>\n",
       "      <td id=\"T_24746_row6_col1\" class=\"data row6 col1\" >0.9991</td>\n",
       "      <td id=\"T_24746_row6_col2\" class=\"data row6 col2\" >0.9919</td>\n",
       "      <td id=\"T_24746_row6_col3\" class=\"data row6 col3\" >0.9901</td>\n",
       "      <td id=\"T_24746_row6_col4\" class=\"data row6 col4\" >0.9910</td>\n",
       "      <td id=\"T_24746_row6_col5\" class=\"data row6 col5\" >0.9794</td>\n",
       "      <td id=\"T_24746_row6_col6\" class=\"data row6 col6\" >0.9794</td>\n",
       "    </tr>\n",
       "    <tr>\n",
       "      <th id=\"T_24746_level0_row7\" class=\"row_heading level0 row7\" >7</th>\n",
       "      <td id=\"T_24746_row7_col0\" class=\"data row7 col0\" >0.9901</td>\n",
       "      <td id=\"T_24746_row7_col1\" class=\"data row7 col1\" >0.9995</td>\n",
       "      <td id=\"T_24746_row7_col2\" class=\"data row7 col2\" >0.9927</td>\n",
       "      <td id=\"T_24746_row7_col3\" class=\"data row7 col3\" >0.9897</td>\n",
       "      <td id=\"T_24746_row7_col4\" class=\"data row7 col4\" >0.9912</td>\n",
       "      <td id=\"T_24746_row7_col5\" class=\"data row7 col5\" >0.9798</td>\n",
       "      <td id=\"T_24746_row7_col6\" class=\"data row7 col6\" >0.9798</td>\n",
       "    </tr>\n",
       "    <tr>\n",
       "      <th id=\"T_24746_level0_row8\" class=\"row_heading level0 row8\" >8</th>\n",
       "      <td id=\"T_24746_row8_col0\" class=\"data row8 col0\" >0.9908</td>\n",
       "      <td id=\"T_24746_row8_col1\" class=\"data row8 col1\" >0.9991</td>\n",
       "      <td id=\"T_24746_row8_col2\" class=\"data row8 col2\" >0.9925</td>\n",
       "      <td id=\"T_24746_row8_col3\" class=\"data row8 col3\" >0.9912</td>\n",
       "      <td id=\"T_24746_row8_col4\" class=\"data row8 col4\" >0.9919</td>\n",
       "      <td id=\"T_24746_row8_col5\" class=\"data row8 col5\" >0.9814</td>\n",
       "      <td id=\"T_24746_row8_col6\" class=\"data row8 col6\" >0.9814</td>\n",
       "    </tr>\n",
       "    <tr>\n",
       "      <th id=\"T_24746_level0_row9\" class=\"row_heading level0 row9\" >9</th>\n",
       "      <td id=\"T_24746_row9_col0\" class=\"data row9 col0\" >0.9920</td>\n",
       "      <td id=\"T_24746_row9_col1\" class=\"data row9 col1\" >0.9995</td>\n",
       "      <td id=\"T_24746_row9_col2\" class=\"data row9 col2\" >0.9938</td>\n",
       "      <td id=\"T_24746_row9_col3\" class=\"data row9 col3\" >0.9920</td>\n",
       "      <td id=\"T_24746_row9_col4\" class=\"data row9 col4\" >0.9929</td>\n",
       "      <td id=\"T_24746_row9_col5\" class=\"data row9 col5\" >0.9837</td>\n",
       "      <td id=\"T_24746_row9_col6\" class=\"data row9 col6\" >0.9837</td>\n",
       "    </tr>\n",
       "    <tr>\n",
       "      <th id=\"T_24746_level0_row10\" class=\"row_heading level0 row10\" >Mean</th>\n",
       "      <td id=\"T_24746_row10_col0\" class=\"data row10 col0\" >0.9905</td>\n",
       "      <td id=\"T_24746_row10_col1\" class=\"data row10 col1\" >0.9993</td>\n",
       "      <td id=\"T_24746_row10_col2\" class=\"data row10 col2\" >0.9923</td>\n",
       "      <td id=\"T_24746_row10_col3\" class=\"data row10 col3\" >0.9909</td>\n",
       "      <td id=\"T_24746_row10_col4\" class=\"data row10 col4\" >0.9916</td>\n",
       "      <td id=\"T_24746_row10_col5\" class=\"data row10 col5\" >0.9808</td>\n",
       "      <td id=\"T_24746_row10_col6\" class=\"data row10 col6\" >0.9808</td>\n",
       "    </tr>\n",
       "    <tr>\n",
       "      <th id=\"T_24746_level0_row11\" class=\"row_heading level0 row11\" >Std</th>\n",
       "      <td id=\"T_24746_row11_col0\" class=\"data row11 col0\" >0.0007</td>\n",
       "      <td id=\"T_24746_row11_col1\" class=\"data row11 col1\" >0.0001</td>\n",
       "      <td id=\"T_24746_row11_col2\" class=\"data row11 col2\" >0.0007</td>\n",
       "      <td id=\"T_24746_row11_col3\" class=\"data row11 col3\" >0.0009</td>\n",
       "      <td id=\"T_24746_row11_col4\" class=\"data row11 col4\" >0.0006</td>\n",
       "      <td id=\"T_24746_row11_col5\" class=\"data row11 col5\" >0.0014</td>\n",
       "      <td id=\"T_24746_row11_col6\" class=\"data row11 col6\" >0.0014</td>\n",
       "    </tr>\n",
       "  </tbody>\n",
       "</table>\n"
      ],
      "text/plain": [
       "<pandas.io.formats.style.Styler at 0x7f957c8884c0>"
      ]
     },
     "metadata": {},
     "output_type": "display_data"
    },
    {
     "data": {
      "text/html": [],
      "text/plain": [
       "<IPython.core.display.HTML object>"
      ]
     },
     "metadata": {},
     "output_type": "display_data"
    }
   ],
   "source": [
    "regression_model_rf = classification_setup.create_model(\"rf\", probability_threshold = 0.50)"
   ]
  },
  {
   "cell_type": "code",
   "execution_count": 97,
   "metadata": {
    "execution": {
     "iopub.execute_input": "2023-06-27T04:31:09.601045Z",
     "iopub.status.busy": "2023-06-27T04:31:09.600914Z",
     "iopub.status.idle": "2023-06-27T04:31:11.193577Z",
     "shell.execute_reply": "2023-06-27T04:31:11.192939Z",
     "shell.execute_reply.started": "2023-06-27T04:31:09.601033Z"
    }
   },
   "outputs": [
    {
     "data": {
      "text/html": [],
      "text/plain": [
       "<IPython.core.display.HTML object>"
      ]
     },
     "metadata": {},
     "output_type": "display_data"
    },
    {
     "data": {
      "image/png": "[encoded data removed]",
      "text/plain": [
       "<Figure size 800x550 with 1 Axes>"
      ]
     },
     "metadata": {},
     "output_type": "display_data"
    }
   ],
   "source": [
    "plot_model(regression_model_rf, plot = 'auc')"
   ]
  },
  {
   "cell_type": "code",
   "execution_count": 98,
   "metadata": {
    "execution": {
     "iopub.execute_input": "2023-06-27T04:31:11.194403Z",
     "iopub.status.busy": "2023-06-27T04:31:11.194264Z",
     "iopub.status.idle": "2023-06-27T04:33:31.536129Z",
     "shell.execute_reply": "2023-06-27T04:33:31.535383Z",
     "shell.execute_reply.started": "2023-06-27T04:31:11.194390Z"
    }
   },
   "outputs": [
    {
     "data": {
      "text/html": [],
      "text/plain": [
       "<IPython.core.display.HTML object>"
      ]
     },
     "metadata": {},
     "output_type": "display_data"
    },
    {
     "data": {
      "text/html": [
       "<style type=\"text/css\">\n",
       "#T_07298_row10_col0, #T_07298_row10_col1, #T_07298_row10_col2, #T_07298_row10_col3, #T_07298_row10_col4, #T_07298_row10_col5, #T_07298_row10_col6 {\n",
       "  background: yellow;\n",
       "}\n",
       "</style>\n",
       "<table id=\"T_07298\">\n",
       "  <thead>\n",
       "    <tr>\n",
       "      <th class=\"blank level0\" >&nbsp;</th>\n",
       "      <th id=\"T_07298_level0_col0\" class=\"col_heading level0 col0\" >Accuracy</th>\n",
       "      <th id=\"T_07298_level0_col1\" class=\"col_heading level0 col1\" >AUC</th>\n",
       "      <th id=\"T_07298_level0_col2\" class=\"col_heading level0 col2\" >Recall</th>\n",
       "      <th id=\"T_07298_level0_col3\" class=\"col_heading level0 col3\" >Prec.</th>\n",
       "      <th id=\"T_07298_level0_col4\" class=\"col_heading level0 col4\" >F1</th>\n",
       "      <th id=\"T_07298_level0_col5\" class=\"col_heading level0 col5\" >Kappa</th>\n",
       "      <th id=\"T_07298_level0_col6\" class=\"col_heading level0 col6\" >MCC</th>\n",
       "    </tr>\n",
       "    <tr>\n",
       "      <th class=\"index_name level0\" >Fold</th>\n",
       "      <th class=\"blank col0\" >&nbsp;</th>\n",
       "      <th class=\"blank col1\" >&nbsp;</th>\n",
       "      <th class=\"blank col2\" >&nbsp;</th>\n",
       "      <th class=\"blank col3\" >&nbsp;</th>\n",
       "      <th class=\"blank col4\" >&nbsp;</th>\n",
       "      <th class=\"blank col5\" >&nbsp;</th>\n",
       "      <th class=\"blank col6\" >&nbsp;</th>\n",
       "    </tr>\n",
       "  </thead>\n",
       "  <tbody>\n",
       "    <tr>\n",
       "      <th id=\"T_07298_level0_row0\" class=\"row_heading level0 row0\" >0</th>\n",
       "      <td id=\"T_07298_row0_col0\" class=\"data row0 col0\" >0.6710</td>\n",
       "      <td id=\"T_07298_row0_col1\" class=\"data row0 col1\" >0.7459</td>\n",
       "      <td id=\"T_07298_row0_col2\" class=\"data row0 col2\" >0.8765</td>\n",
       "      <td id=\"T_07298_row0_col3\" class=\"data row0 col3\" >0.6556</td>\n",
       "      <td id=\"T_07298_row0_col4\" class=\"data row0 col4\" >0.7502</td>\n",
       "      <td id=\"T_07298_row0_col5\" class=\"data row0 col5\" >0.2967</td>\n",
       "      <td id=\"T_07298_row0_col6\" class=\"data row0 col6\" >0.3246</td>\n",
       "    </tr>\n",
       "    <tr>\n",
       "      <th id=\"T_07298_level0_row1\" class=\"row_heading level0 row1\" >1</th>\n",
       "      <td id=\"T_07298_row1_col0\" class=\"data row1 col0\" >0.6689</td>\n",
       "      <td id=\"T_07298_row1_col1\" class=\"data row1 col1\" >0.7502</td>\n",
       "      <td id=\"T_07298_row1_col2\" class=\"data row1 col2\" >0.8684</td>\n",
       "      <td id=\"T_07298_row1_col3\" class=\"data row1 col3\" >0.6557</td>\n",
       "      <td id=\"T_07298_row1_col4\" class=\"data row1 col4\" >0.7472</td>\n",
       "      <td id=\"T_07298_row1_col5\" class=\"data row1 col5\" >0.2937</td>\n",
       "      <td id=\"T_07298_row1_col6\" class=\"data row1 col6\" >0.3190</td>\n",
       "    </tr>\n",
       "    <tr>\n",
       "      <th id=\"T_07298_level0_row2\" class=\"row_heading level0 row2\" >2</th>\n",
       "      <td id=\"T_07298_row2_col0\" class=\"data row2 col0\" >0.6689</td>\n",
       "      <td id=\"T_07298_row2_col1\" class=\"data row2 col1\" >0.7465</td>\n",
       "      <td id=\"T_07298_row2_col2\" class=\"data row2 col2\" >0.8785</td>\n",
       "      <td id=\"T_07298_row2_col3\" class=\"data row2 col3\" >0.6534</td>\n",
       "      <td id=\"T_07298_row2_col4\" class=\"data row2 col4\" >0.7494</td>\n",
       "      <td id=\"T_07298_row2_col5\" class=\"data row2 col5\" >0.2915</td>\n",
       "      <td id=\"T_07298_row2_col6\" class=\"data row2 col6\" >0.3205</td>\n",
       "    </tr>\n",
       "    <tr>\n",
       "      <th id=\"T_07298_level0_row3\" class=\"row_heading level0 row3\" >3</th>\n",
       "      <td id=\"T_07298_row3_col0\" class=\"data row3 col0\" >0.6694</td>\n",
       "      <td id=\"T_07298_row3_col1\" class=\"data row3 col1\" >0.7486</td>\n",
       "      <td id=\"T_07298_row3_col2\" class=\"data row3 col2\" >0.8751</td>\n",
       "      <td id=\"T_07298_row3_col3\" class=\"data row3 col3\" >0.6545</td>\n",
       "      <td id=\"T_07298_row3_col4\" class=\"data row3 col4\" >0.7489</td>\n",
       "      <td id=\"T_07298_row3_col5\" class=\"data row3 col5\" >0.2933</td>\n",
       "      <td id=\"T_07298_row3_col6\" class=\"data row3 col6\" >0.3209</td>\n",
       "    </tr>\n",
       "    <tr>\n",
       "      <th id=\"T_07298_level0_row4\" class=\"row_heading level0 row4\" >4</th>\n",
       "      <td id=\"T_07298_row4_col0\" class=\"data row4 col0\" >0.6659</td>\n",
       "      <td id=\"T_07298_row4_col1\" class=\"data row4 col1\" >0.7450</td>\n",
       "      <td id=\"T_07298_row4_col2\" class=\"data row4 col2\" >0.8722</td>\n",
       "      <td id=\"T_07298_row4_col3\" class=\"data row4 col3\" >0.6522</td>\n",
       "      <td id=\"T_07298_row4_col4\" class=\"data row4 col4\" >0.7463</td>\n",
       "      <td id=\"T_07298_row4_col5\" class=\"data row4 col5\" >0.2857</td>\n",
       "      <td id=\"T_07298_row4_col6\" class=\"data row4 col6\" >0.3127</td>\n",
       "    </tr>\n",
       "    <tr>\n",
       "      <th id=\"T_07298_level0_row5\" class=\"row_heading level0 row5\" >5</th>\n",
       "      <td id=\"T_07298_row5_col0\" class=\"data row5 col0\" >0.6710</td>\n",
       "      <td id=\"T_07298_row5_col1\" class=\"data row5 col1\" >0.7520</td>\n",
       "      <td id=\"T_07298_row5_col2\" class=\"data row5 col2\" >0.8742</td>\n",
       "      <td id=\"T_07298_row5_col3\" class=\"data row5 col3\" >0.6562</td>\n",
       "      <td id=\"T_07298_row5_col4\" class=\"data row5 col4\" >0.7496</td>\n",
       "      <td id=\"T_07298_row5_col5\" class=\"data row5 col5\" >0.2972</td>\n",
       "      <td id=\"T_07298_row5_col6\" class=\"data row5 col6\" >0.3243</td>\n",
       "    </tr>\n",
       "    <tr>\n",
       "      <th id=\"T_07298_level0_row6\" class=\"row_heading level0 row6\" >6</th>\n",
       "      <td id=\"T_07298_row6_col0\" class=\"data row6 col0\" >0.6661</td>\n",
       "      <td id=\"T_07298_row6_col1\" class=\"data row6 col1\" >0.7476</td>\n",
       "      <td id=\"T_07298_row6_col2\" class=\"data row6 col2\" >0.8766</td>\n",
       "      <td id=\"T_07298_row6_col3\" class=\"data row6 col3\" >0.6514</td>\n",
       "      <td id=\"T_07298_row6_col4\" class=\"data row6 col4\" >0.7474</td>\n",
       "      <td id=\"T_07298_row6_col5\" class=\"data row6 col5\" >0.2852</td>\n",
       "      <td id=\"T_07298_row6_col6\" class=\"data row6 col6\" >0.3138</td>\n",
       "    </tr>\n",
       "    <tr>\n",
       "      <th id=\"T_07298_level0_row7\" class=\"row_heading level0 row7\" >7</th>\n",
       "      <td id=\"T_07298_row7_col0\" class=\"data row7 col0\" >0.6715</td>\n",
       "      <td id=\"T_07298_row7_col1\" class=\"data row7 col1\" >0.7543</td>\n",
       "      <td id=\"T_07298_row7_col2\" class=\"data row7 col2\" >0.8746</td>\n",
       "      <td id=\"T_07298_row7_col3\" class=\"data row7 col3\" >0.6565</td>\n",
       "      <td id=\"T_07298_row7_col4\" class=\"data row7 col4\" >0.7500</td>\n",
       "      <td id=\"T_07298_row7_col5\" class=\"data row7 col5\" >0.2984</td>\n",
       "      <td id=\"T_07298_row7_col6\" class=\"data row7 col6\" >0.3255</td>\n",
       "    </tr>\n",
       "    <tr>\n",
       "      <th id=\"T_07298_level0_row8\" class=\"row_heading level0 row8\" >8</th>\n",
       "      <td id=\"T_07298_row8_col0\" class=\"data row8 col0\" >0.6694</td>\n",
       "      <td id=\"T_07298_row8_col1\" class=\"data row8 col1\" >0.7508</td>\n",
       "      <td id=\"T_07298_row8_col2\" class=\"data row8 col2\" >0.8705</td>\n",
       "      <td id=\"T_07298_row8_col3\" class=\"data row8 col3\" >0.6557</td>\n",
       "      <td id=\"T_07298_row8_col4\" class=\"data row8 col4\" >0.7480</td>\n",
       "      <td id=\"T_07298_row8_col5\" class=\"data row8 col5\" >0.2944</td>\n",
       "      <td id=\"T_07298_row8_col6\" class=\"data row8 col6\" >0.3203</td>\n",
       "    </tr>\n",
       "    <tr>\n",
       "      <th id=\"T_07298_level0_row9\" class=\"row_heading level0 row9\" >9</th>\n",
       "      <td id=\"T_07298_row9_col0\" class=\"data row9 col0\" >0.6688</td>\n",
       "      <td id=\"T_07298_row9_col1\" class=\"data row9 col1\" >0.7476</td>\n",
       "      <td id=\"T_07298_row9_col2\" class=\"data row9 col2\" >0.8749</td>\n",
       "      <td id=\"T_07298_row9_col3\" class=\"data row9 col3\" >0.6541</td>\n",
       "      <td id=\"T_07298_row9_col4\" class=\"data row9 col4\" >0.7486</td>\n",
       "      <td id=\"T_07298_row9_col5\" class=\"data row9 col5\" >0.2920</td>\n",
       "      <td id=\"T_07298_row9_col6\" class=\"data row9 col6\" >0.3196</td>\n",
       "    </tr>\n",
       "    <tr>\n",
       "      <th id=\"T_07298_level0_row10\" class=\"row_heading level0 row10\" >Mean</th>\n",
       "      <td id=\"T_07298_row10_col0\" class=\"data row10 col0\" >0.6691</td>\n",
       "      <td id=\"T_07298_row10_col1\" class=\"data row10 col1\" >0.7489</td>\n",
       "      <td id=\"T_07298_row10_col2\" class=\"data row10 col2\" >0.8741</td>\n",
       "      <td id=\"T_07298_row10_col3\" class=\"data row10 col3\" >0.6545</td>\n",
       "      <td id=\"T_07298_row10_col4\" class=\"data row10 col4\" >0.7486</td>\n",
       "      <td id=\"T_07298_row10_col5\" class=\"data row10 col5\" >0.2928</td>\n",
       "      <td id=\"T_07298_row10_col6\" class=\"data row10 col6\" >0.3201</td>\n",
       "    </tr>\n",
       "    <tr>\n",
       "      <th id=\"T_07298_level0_row11\" class=\"row_heading level0 row11\" >Std</th>\n",
       "      <td id=\"T_07298_row11_col0\" class=\"data row11 col0\" >0.0018</td>\n",
       "      <td id=\"T_07298_row11_col1\" class=\"data row11 col1\" >0.0028</td>\n",
       "      <td id=\"T_07298_row11_col2\" class=\"data row11 col2\" >0.0029</td>\n",
       "      <td id=\"T_07298_row11_col3\" class=\"data row11 col3\" >0.0017</td>\n",
       "      <td id=\"T_07298_row11_col4\" class=\"data row11 col4\" >0.0012</td>\n",
       "      <td id=\"T_07298_row11_col5\" class=\"data row11 col5\" >0.0042</td>\n",
       "      <td id=\"T_07298_row11_col6\" class=\"data row11 col6\" >0.0040</td>\n",
       "    </tr>\n",
       "  </tbody>\n",
       "</table>\n"
      ],
      "text/plain": [
       "<pandas.io.formats.style.Styler at 0x7f958eaa6a10>"
      ]
     },
     "metadata": {},
     "output_type": "display_data"
    },
    {
     "data": {
      "text/html": [],
      "text/plain": [
       "<IPython.core.display.HTML object>"
      ]
     },
     "metadata": {},
     "output_type": "display_data"
    }
   ],
   "source": [
    "regression_model_gbc = classification_setup.create_model(\"gbc\", probability_threshold = 0.50)"
   ]
  },
  {
   "cell_type": "code",
   "execution_count": 99,
   "metadata": {
    "execution": {
     "iopub.execute_input": "2023-06-27T04:33:31.537331Z",
     "iopub.status.busy": "2023-06-27T04:33:31.537216Z",
     "iopub.status.idle": "2023-06-27T04:33:32.367838Z",
     "shell.execute_reply": "2023-06-27T04:33:32.367206Z",
     "shell.execute_reply.started": "2023-06-27T04:33:31.537319Z"
    }
   },
   "outputs": [
    {
     "data": {
      "text/html": [],
      "text/plain": [
       "<IPython.core.display.HTML object>"
      ]
     },
     "metadata": {},
     "output_type": "display_data"
    },
    {
     "data": {
      "image/png": "[encoded data removed]",
      "text/plain": [
       "<Figure size 800x550 with 1 Axes>"
      ]
     },
     "metadata": {},
     "output_type": "display_data"
    }
   ],
   "source": [
    "plot_model(regression_model_gbc, plot = 'auc')"
   ]
  },
  {
   "cell_type": "code",
   "execution_count": 100,
   "metadata": {
    "execution": {
     "iopub.execute_input": "2023-06-27T04:33:32.368571Z",
     "iopub.status.busy": "2023-06-27T04:33:32.368454Z",
     "iopub.status.idle": "2023-06-27T04:33:39.112522Z",
     "shell.execute_reply": "2023-06-27T04:33:39.111760Z",
     "shell.execute_reply.started": "2023-06-27T04:33:32.368560Z"
    }
   },
   "outputs": [
    {
     "data": {
      "text/html": [],
      "text/plain": [
       "<IPython.core.display.HTML object>"
      ]
     },
     "metadata": {},
     "output_type": "display_data"
    },
    {
     "data": {
      "text/html": [
       "<style type=\"text/css\">\n",
       "#T_9cfa0_row10_col0, #T_9cfa0_row10_col1, #T_9cfa0_row10_col2, #T_9cfa0_row10_col3, #T_9cfa0_row10_col4, #T_9cfa0_row10_col5, #T_9cfa0_row10_col6 {\n",
       "  background: yellow;\n",
       "}\n",
       "</style>\n",
       "<table id=\"T_9cfa0\">\n",
       "  <thead>\n",
       "    <tr>\n",
       "      <th class=\"blank level0\" >&nbsp;</th>\n",
       "      <th id=\"T_9cfa0_level0_col0\" class=\"col_heading level0 col0\" >Accuracy</th>\n",
       "      <th id=\"T_9cfa0_level0_col1\" class=\"col_heading level0 col1\" >AUC</th>\n",
       "      <th id=\"T_9cfa0_level0_col2\" class=\"col_heading level0 col2\" >Recall</th>\n",
       "      <th id=\"T_9cfa0_level0_col3\" class=\"col_heading level0 col3\" >Prec.</th>\n",
       "      <th id=\"T_9cfa0_level0_col4\" class=\"col_heading level0 col4\" >F1</th>\n",
       "      <th id=\"T_9cfa0_level0_col5\" class=\"col_heading level0 col5\" >Kappa</th>\n",
       "      <th id=\"T_9cfa0_level0_col6\" class=\"col_heading level0 col6\" >MCC</th>\n",
       "    </tr>\n",
       "    <tr>\n",
       "      <th class=\"index_name level0\" >Fold</th>\n",
       "      <th class=\"blank col0\" >&nbsp;</th>\n",
       "      <th class=\"blank col1\" >&nbsp;</th>\n",
       "      <th class=\"blank col2\" >&nbsp;</th>\n",
       "      <th class=\"blank col3\" >&nbsp;</th>\n",
       "      <th class=\"blank col4\" >&nbsp;</th>\n",
       "      <th class=\"blank col5\" >&nbsp;</th>\n",
       "      <th class=\"blank col6\" >&nbsp;</th>\n",
       "    </tr>\n",
       "  </thead>\n",
       "  <tbody>\n",
       "    <tr>\n",
       "      <th id=\"T_9cfa0_level0_row0\" class=\"row_heading level0 row0\" >0</th>\n",
       "      <td id=\"T_9cfa0_row0_col0\" class=\"data row0 col0\" >0.8280</td>\n",
       "      <td id=\"T_9cfa0_row0_col1\" class=\"data row0 col1\" >0.9278</td>\n",
       "      <td id=\"T_9cfa0_row0_col2\" class=\"data row0 col2\" >0.9241</td>\n",
       "      <td id=\"T_9cfa0_row0_col3\" class=\"data row0 col3\" >0.8012</td>\n",
       "      <td id=\"T_9cfa0_row0_col4\" class=\"data row0 col4\" >0.8582</td>\n",
       "      <td id=\"T_9cfa0_row0_col5\" class=\"data row0 col5\" >0.6423</td>\n",
       "      <td id=\"T_9cfa0_row0_col6\" class=\"data row0 col6\" >0.6530</td>\n",
       "    </tr>\n",
       "    <tr>\n",
       "      <th id=\"T_9cfa0_level0_row1\" class=\"row_heading level0 row1\" >1</th>\n",
       "      <td id=\"T_9cfa0_row1_col0\" class=\"data row1 col0\" >0.8390</td>\n",
       "      <td id=\"T_9cfa0_row1_col1\" class=\"data row1 col1\" >0.9312</td>\n",
       "      <td id=\"T_9cfa0_row1_col2\" class=\"data row1 col2\" >0.9254</td>\n",
       "      <td id=\"T_9cfa0_row1_col3\" class=\"data row1 col3\" >0.8142</td>\n",
       "      <td id=\"T_9cfa0_row1_col4\" class=\"data row1 col4\" >0.8662</td>\n",
       "      <td id=\"T_9cfa0_row1_col5\" class=\"data row1 col5\" >0.6660</td>\n",
       "      <td id=\"T_9cfa0_row1_col6\" class=\"data row1 col6\" >0.6747</td>\n",
       "    </tr>\n",
       "    <tr>\n",
       "      <th id=\"T_9cfa0_level0_row2\" class=\"row_heading level0 row2\" >2</th>\n",
       "      <td id=\"T_9cfa0_row2_col0\" class=\"data row2 col0\" >0.8338</td>\n",
       "      <td id=\"T_9cfa0_row2_col1\" class=\"data row2 col1\" >0.9273</td>\n",
       "      <td id=\"T_9cfa0_row2_col2\" class=\"data row2 col2\" >0.9231</td>\n",
       "      <td id=\"T_9cfa0_row2_col3\" class=\"data row2 col3\" >0.8090</td>\n",
       "      <td id=\"T_9cfa0_row2_col4\" class=\"data row2 col4\" >0.8623</td>\n",
       "      <td id=\"T_9cfa0_row2_col5\" class=\"data row2 col5\" >0.6552</td>\n",
       "      <td id=\"T_9cfa0_row2_col6\" class=\"data row2 col6\" >0.6643</td>\n",
       "    </tr>\n",
       "    <tr>\n",
       "      <th id=\"T_9cfa0_level0_row3\" class=\"row_heading level0 row3\" >3</th>\n",
       "      <td id=\"T_9cfa0_row3_col0\" class=\"data row3 col0\" >0.8323</td>\n",
       "      <td id=\"T_9cfa0_row3_col1\" class=\"data row3 col1\" >0.9286</td>\n",
       "      <td id=\"T_9cfa0_row3_col2\" class=\"data row3 col2\" >0.9154</td>\n",
       "      <td id=\"T_9cfa0_row3_col3\" class=\"data row3 col3\" >0.8112</td>\n",
       "      <td id=\"T_9cfa0_row3_col4\" class=\"data row3 col4\" >0.8602</td>\n",
       "      <td id=\"T_9cfa0_row3_col5\" class=\"data row3 col5\" >0.6526</td>\n",
       "      <td id=\"T_9cfa0_row3_col6\" class=\"data row3 col6\" >0.6600</td>\n",
       "    </tr>\n",
       "    <tr>\n",
       "      <th id=\"T_9cfa0_level0_row4\" class=\"row_heading level0 row4\" >4</th>\n",
       "      <td id=\"T_9cfa0_row4_col0\" class=\"data row4 col0\" >0.8297</td>\n",
       "      <td id=\"T_9cfa0_row4_col1\" class=\"data row4 col1\" >0.9261</td>\n",
       "      <td id=\"T_9cfa0_row4_col2\" class=\"data row4 col2\" >0.9133</td>\n",
       "      <td id=\"T_9cfa0_row4_col3\" class=\"data row4 col3\" >0.8091</td>\n",
       "      <td id=\"T_9cfa0_row4_col4\" class=\"data row4 col4\" >0.8580</td>\n",
       "      <td id=\"T_9cfa0_row4_col5\" class=\"data row4 col5\" >0.6473</td>\n",
       "      <td id=\"T_9cfa0_row4_col6\" class=\"data row4 col6\" >0.6547</td>\n",
       "    </tr>\n",
       "    <tr>\n",
       "      <th id=\"T_9cfa0_level0_row5\" class=\"row_heading level0 row5\" >5</th>\n",
       "      <td id=\"T_9cfa0_row5_col0\" class=\"data row5 col0\" >0.8275</td>\n",
       "      <td id=\"T_9cfa0_row5_col1\" class=\"data row5 col1\" >0.9273</td>\n",
       "      <td id=\"T_9cfa0_row5_col2\" class=\"data row5 col2\" >0.9177</td>\n",
       "      <td id=\"T_9cfa0_row5_col3\" class=\"data row5 col3\" >0.8039</td>\n",
       "      <td id=\"T_9cfa0_row5_col4\" class=\"data row5 col4\" >0.8571</td>\n",
       "      <td id=\"T_9cfa0_row5_col5\" class=\"data row5 col5\" >0.6420</td>\n",
       "      <td id=\"T_9cfa0_row5_col6\" class=\"data row5 col6\" >0.6510</td>\n",
       "    </tr>\n",
       "    <tr>\n",
       "      <th id=\"T_9cfa0_level0_row6\" class=\"row_heading level0 row6\" >6</th>\n",
       "      <td id=\"T_9cfa0_row6_col0\" class=\"data row6 col0\" >0.8283</td>\n",
       "      <td id=\"T_9cfa0_row6_col1\" class=\"data row6 col1\" >0.9239</td>\n",
       "      <td id=\"T_9cfa0_row6_col2\" class=\"data row6 col2\" >0.9213</td>\n",
       "      <td id=\"T_9cfa0_row6_col3\" class=\"data row6 col3\" >0.8030</td>\n",
       "      <td id=\"T_9cfa0_row6_col4\" class=\"data row6 col4\" >0.8581</td>\n",
       "      <td id=\"T_9cfa0_row6_col5\" class=\"data row6 col5\" >0.6434</td>\n",
       "      <td id=\"T_9cfa0_row6_col6\" class=\"data row6 col6\" >0.6532</td>\n",
       "    </tr>\n",
       "    <tr>\n",
       "      <th id=\"T_9cfa0_level0_row7\" class=\"row_heading level0 row7\" >7</th>\n",
       "      <td id=\"T_9cfa0_row7_col0\" class=\"data row7 col0\" >0.8415</td>\n",
       "      <td id=\"T_9cfa0_row7_col1\" class=\"data row7 col1\" >0.9319</td>\n",
       "      <td id=\"T_9cfa0_row7_col2\" class=\"data row7 col2\" >0.9234</td>\n",
       "      <td id=\"T_9cfa0_row7_col3\" class=\"data row7 col3\" >0.8185</td>\n",
       "      <td id=\"T_9cfa0_row7_col4\" class=\"data row7 col4\" >0.8678</td>\n",
       "      <td id=\"T_9cfa0_row7_col5\" class=\"data row7 col5\" >0.6717</td>\n",
       "      <td id=\"T_9cfa0_row7_col6\" class=\"data row7 col6\" >0.6793</td>\n",
       "    </tr>\n",
       "    <tr>\n",
       "      <th id=\"T_9cfa0_level0_row8\" class=\"row_heading level0 row8\" >8</th>\n",
       "      <td id=\"T_9cfa0_row8_col0\" class=\"data row8 col0\" >0.8341</td>\n",
       "      <td id=\"T_9cfa0_row8_col1\" class=\"data row8 col1\" >0.9258</td>\n",
       "      <td id=\"T_9cfa0_row8_col2\" class=\"data row8 col2\" >0.9177</td>\n",
       "      <td id=\"T_9cfa0_row8_col3\" class=\"data row8 col3\" >0.8123</td>\n",
       "      <td id=\"T_9cfa0_row8_col4\" class=\"data row8 col4\" >0.8618</td>\n",
       "      <td id=\"T_9cfa0_row8_col5\" class=\"data row8 col5\" >0.6563</td>\n",
       "      <td id=\"T_9cfa0_row8_col6\" class=\"data row8 col6\" >0.6640</td>\n",
       "    </tr>\n",
       "    <tr>\n",
       "      <th id=\"T_9cfa0_level0_row9\" class=\"row_heading level0 row9\" >9</th>\n",
       "      <td id=\"T_9cfa0_row9_col0\" class=\"data row9 col0\" >0.8422</td>\n",
       "      <td id=\"T_9cfa0_row9_col1\" class=\"data row9 col1\" >0.9318</td>\n",
       "      <td id=\"T_9cfa0_row9_col2\" class=\"data row9 col2\" >0.9256</td>\n",
       "      <td id=\"T_9cfa0_row9_col3\" class=\"data row9 col3\" >0.8182</td>\n",
       "      <td id=\"T_9cfa0_row9_col4\" class=\"data row9 col4\" >0.8686</td>\n",
       "      <td id=\"T_9cfa0_row9_col5\" class=\"data row9 col5\" >0.6730</td>\n",
       "      <td id=\"T_9cfa0_row9_col6\" class=\"data row9 col6\" >0.6810</td>\n",
       "    </tr>\n",
       "    <tr>\n",
       "      <th id=\"T_9cfa0_level0_row10\" class=\"row_heading level0 row10\" >Mean</th>\n",
       "      <td id=\"T_9cfa0_row10_col0\" class=\"data row10 col0\" >0.8336</td>\n",
       "      <td id=\"T_9cfa0_row10_col1\" class=\"data row10 col1\" >0.9282</td>\n",
       "      <td id=\"T_9cfa0_row10_col2\" class=\"data row10 col2\" >0.9207</td>\n",
       "      <td id=\"T_9cfa0_row10_col3\" class=\"data row10 col3\" >0.8101</td>\n",
       "      <td id=\"T_9cfa0_row10_col4\" class=\"data row10 col4\" >0.8618</td>\n",
       "      <td id=\"T_9cfa0_row10_col5\" class=\"data row10 col5\" >0.6550</td>\n",
       "      <td id=\"T_9cfa0_row10_col6\" class=\"data row10 col6\" >0.6635</td>\n",
       "    </tr>\n",
       "    <tr>\n",
       "      <th id=\"T_9cfa0_level0_row11\" class=\"row_heading level0 row11\" >Std</th>\n",
       "      <td id=\"T_9cfa0_row11_col0\" class=\"data row11 col0\" >0.0053</td>\n",
       "      <td id=\"T_9cfa0_row11_col1\" class=\"data row11 col1\" >0.0026</td>\n",
       "      <td id=\"T_9cfa0_row11_col2\" class=\"data row11 col2\" >0.0041</td>\n",
       "      <td id=\"T_9cfa0_row11_col3\" class=\"data row11 col3\" >0.0057</td>\n",
       "      <td id=\"T_9cfa0_row11_col4\" class=\"data row11 col4\" >0.0041</td>\n",
       "      <td id=\"T_9cfa0_row11_col5\" class=\"data row11 col5\" >0.0112</td>\n",
       "      <td id=\"T_9cfa0_row11_col6\" class=\"data row11 col6\" >0.0107</td>\n",
       "    </tr>\n",
       "  </tbody>\n",
       "</table>\n"
      ],
      "text/plain": [
       "<pandas.io.formats.style.Styler at 0x7f957c42f160>"
      ]
     },
     "metadata": {},
     "output_type": "display_data"
    },
    {
     "data": {
      "text/html": [],
      "text/plain": [
       "<IPython.core.display.HTML object>"
      ]
     },
     "metadata": {},
     "output_type": "display_data"
    }
   ],
   "source": [
    "regression_model_lightgbm = classification_setup.create_model(\"lightgbm\", probability_threshold = 0.50)"
   ]
  },
  {
   "cell_type": "code",
   "execution_count": 101,
   "metadata": {
    "execution": {
     "iopub.execute_input": "2023-06-27T04:33:39.113726Z",
     "iopub.status.busy": "2023-06-27T04:33:39.113476Z",
     "iopub.status.idle": "2023-06-27T04:33:39.829768Z",
     "shell.execute_reply": "2023-06-27T04:33:39.828929Z",
     "shell.execute_reply.started": "2023-06-27T04:33:39.113705Z"
    }
   },
   "outputs": [
    {
     "data": {
      "text/html": [],
      "text/plain": [
       "<IPython.core.display.HTML object>"
      ]
     },
     "metadata": {},
     "output_type": "display_data"
    },
    {
     "data": {
      "image/png": "[encoded data removed]",
      "text/plain": [
       "<Figure size 800x550 with 1 Axes>"
      ]
     },
     "metadata": {},
     "output_type": "display_data"
    }
   ],
   "source": [
    "plot_model(regression_model_lightgbm, plot = 'auc')"
   ]
  },
  {
   "cell_type": "code",
   "execution_count": 102,
   "metadata": {
    "execution": {
     "iopub.execute_input": "2023-06-27T04:33:39.830640Z",
     "iopub.status.busy": "2023-06-27T04:33:39.830500Z",
     "iopub.status.idle": "2023-06-27T04:34:27.568606Z",
     "shell.execute_reply": "2023-06-27T04:34:27.567971Z",
     "shell.execute_reply.started": "2023-06-27T04:33:39.830628Z"
    }
   },
   "outputs": [
    {
     "data": {
      "text/html": [],
      "text/plain": [
       "<IPython.core.display.HTML object>"
      ]
     },
     "metadata": {},
     "output_type": "display_data"
    },
    {
     "data": {
      "text/html": [
       "<style type=\"text/css\">\n",
       "#T_6a91f_row10_col0, #T_6a91f_row10_col1, #T_6a91f_row10_col2, #T_6a91f_row10_col3, #T_6a91f_row10_col4, #T_6a91f_row10_col5, #T_6a91f_row10_col6 {\n",
       "  background: yellow;\n",
       "}\n",
       "</style>\n",
       "<table id=\"T_6a91f\">\n",
       "  <thead>\n",
       "    <tr>\n",
       "      <th class=\"blank level0\" >&nbsp;</th>\n",
       "      <th id=\"T_6a91f_level0_col0\" class=\"col_heading level0 col0\" >Accuracy</th>\n",
       "      <th id=\"T_6a91f_level0_col1\" class=\"col_heading level0 col1\" >AUC</th>\n",
       "      <th id=\"T_6a91f_level0_col2\" class=\"col_heading level0 col2\" >Recall</th>\n",
       "      <th id=\"T_6a91f_level0_col3\" class=\"col_heading level0 col3\" >Prec.</th>\n",
       "      <th id=\"T_6a91f_level0_col4\" class=\"col_heading level0 col4\" >F1</th>\n",
       "      <th id=\"T_6a91f_level0_col5\" class=\"col_heading level0 col5\" >Kappa</th>\n",
       "      <th id=\"T_6a91f_level0_col6\" class=\"col_heading level0 col6\" >MCC</th>\n",
       "    </tr>\n",
       "    <tr>\n",
       "      <th class=\"index_name level0\" >Fold</th>\n",
       "      <th class=\"blank col0\" >&nbsp;</th>\n",
       "      <th class=\"blank col1\" >&nbsp;</th>\n",
       "      <th class=\"blank col2\" >&nbsp;</th>\n",
       "      <th class=\"blank col3\" >&nbsp;</th>\n",
       "      <th class=\"blank col4\" >&nbsp;</th>\n",
       "      <th class=\"blank col5\" >&nbsp;</th>\n",
       "      <th class=\"blank col6\" >&nbsp;</th>\n",
       "    </tr>\n",
       "  </thead>\n",
       "  <tbody>\n",
       "    <tr>\n",
       "      <th id=\"T_6a91f_level0_row0\" class=\"row_heading level0 row0\" >0</th>\n",
       "      <td id=\"T_6a91f_row0_col0\" class=\"data row0 col0\" >0.6308</td>\n",
       "      <td id=\"T_6a91f_row0_col1\" class=\"data row0 col1\" >0.6724</td>\n",
       "      <td id=\"T_6a91f_row0_col2\" class=\"data row0 col2\" >0.8371</td>\n",
       "      <td id=\"T_6a91f_row0_col3\" class=\"data row0 col3\" >0.6297</td>\n",
       "      <td id=\"T_6a91f_row0_col4\" class=\"data row0 col4\" >0.7187</td>\n",
       "      <td id=\"T_6a91f_row0_col5\" class=\"data row0 col5\" >0.2116</td>\n",
       "      <td id=\"T_6a91f_row0_col6\" class=\"data row0 col6\" >0.2305</td>\n",
       "    </tr>\n",
       "    <tr>\n",
       "      <th id=\"T_6a91f_level0_row1\" class=\"row_heading level0 row1\" >1</th>\n",
       "      <td id=\"T_6a91f_row1_col0\" class=\"data row1 col0\" >0.6330</td>\n",
       "      <td id=\"T_6a91f_row1_col1\" class=\"data row1 col1\" >0.6672</td>\n",
       "      <td id=\"T_6a91f_row1_col2\" class=\"data row1 col2\" >0.8350</td>\n",
       "      <td id=\"T_6a91f_row1_col3\" class=\"data row1 col3\" >0.6319</td>\n",
       "      <td id=\"T_6a91f_row1_col4\" class=\"data row1 col4\" >0.7194</td>\n",
       "      <td id=\"T_6a91f_row1_col5\" class=\"data row1 col5\" >0.2173</td>\n",
       "      <td id=\"T_6a91f_row1_col6\" class=\"data row1 col6\" >0.2356</td>\n",
       "    </tr>\n",
       "    <tr>\n",
       "      <th id=\"T_6a91f_level0_row2\" class=\"row_heading level0 row2\" >2</th>\n",
       "      <td id=\"T_6a91f_row2_col0\" class=\"data row2 col0\" >0.6318</td>\n",
       "      <td id=\"T_6a91f_row2_col1\" class=\"data row2 col1\" >0.6662</td>\n",
       "      <td id=\"T_6a91f_row2_col2\" class=\"data row2 col2\" >0.8431</td>\n",
       "      <td id=\"T_6a91f_row2_col3\" class=\"data row2 col3\" >0.6293</td>\n",
       "      <td id=\"T_6a91f_row2_col4\" class=\"data row2 col4\" >0.7207</td>\n",
       "      <td id=\"T_6a91f_row2_col5\" class=\"data row2 col5\" >0.2127</td>\n",
       "      <td id=\"T_6a91f_row2_col6\" class=\"data row2 col6\" >0.2331</td>\n",
       "    </tr>\n",
       "    <tr>\n",
       "      <th id=\"T_6a91f_level0_row3\" class=\"row_heading level0 row3\" >3</th>\n",
       "      <td id=\"T_6a91f_row3_col0\" class=\"data row3 col0\" >0.6284</td>\n",
       "      <td id=\"T_6a91f_row3_col1\" class=\"data row3 col1\" >0.6617</td>\n",
       "      <td id=\"T_6a91f_row3_col2\" class=\"data row3 col2\" >0.8423</td>\n",
       "      <td id=\"T_6a91f_row3_col3\" class=\"data row3 col3\" >0.6267</td>\n",
       "      <td id=\"T_6a91f_row3_col4\" class=\"data row3 col4\" >0.7187</td>\n",
       "      <td id=\"T_6a91f_row3_col5\" class=\"data row3 col5\" >0.2048</td>\n",
       "      <td id=\"T_6a91f_row3_col6\" class=\"data row3 col6\" >0.2251</td>\n",
       "    </tr>\n",
       "    <tr>\n",
       "      <th id=\"T_6a91f_level0_row4\" class=\"row_heading level0 row4\" >4</th>\n",
       "      <td id=\"T_6a91f_row4_col0\" class=\"data row4 col0\" >0.6250</td>\n",
       "      <td id=\"T_6a91f_row4_col1\" class=\"data row4 col1\" >0.6654</td>\n",
       "      <td id=\"T_6a91f_row4_col2\" class=\"data row4 col2\" >0.8395</td>\n",
       "      <td id=\"T_6a91f_row4_col3\" class=\"data row4 col3\" >0.6244</td>\n",
       "      <td id=\"T_6a91f_row4_col4\" class=\"data row4 col4\" >0.7162</td>\n",
       "      <td id=\"T_6a91f_row4_col5\" class=\"data row4 col5\" >0.1976</td>\n",
       "      <td id=\"T_6a91f_row4_col6\" class=\"data row4 col6\" >0.2172</td>\n",
       "    </tr>\n",
       "    <tr>\n",
       "      <th id=\"T_6a91f_level0_row5\" class=\"row_heading level0 row5\" >5</th>\n",
       "      <td id=\"T_6a91f_row5_col0\" class=\"data row5 col0\" >0.6286</td>\n",
       "      <td id=\"T_6a91f_row5_col1\" class=\"data row5 col1\" >0.6644</td>\n",
       "      <td id=\"T_6a91f_row5_col2\" class=\"data row5 col2\" >0.8440</td>\n",
       "      <td id=\"T_6a91f_row5_col3\" class=\"data row5 col3\" >0.6266</td>\n",
       "      <td id=\"T_6a91f_row5_col4\" class=\"data row5 col4\" >0.7192</td>\n",
       "      <td id=\"T_6a91f_row5_col5\" class=\"data row5 col5\" >0.2050</td>\n",
       "      <td id=\"T_6a91f_row5_col6\" class=\"data row5 col6\" >0.2257</td>\n",
       "    </tr>\n",
       "    <tr>\n",
       "      <th id=\"T_6a91f_level0_row6\" class=\"row_heading level0 row6\" >6</th>\n",
       "      <td id=\"T_6a91f_row6_col0\" class=\"data row6 col0\" >0.6251</td>\n",
       "      <td id=\"T_6a91f_row6_col1\" class=\"data row6 col1\" >0.6630</td>\n",
       "      <td id=\"T_6a91f_row6_col2\" class=\"data row6 col2\" >0.8301</td>\n",
       "      <td id=\"T_6a91f_row6_col3\" class=\"data row6 col3\" >0.6263</td>\n",
       "      <td id=\"T_6a91f_row6_col4\" class=\"data row6 col4\" >0.7139</td>\n",
       "      <td id=\"T_6a91f_row6_col5\" class=\"data row6 col5\" >0.2001</td>\n",
       "      <td id=\"T_6a91f_row6_col6\" class=\"data row6 col6\" >0.2174</td>\n",
       "    </tr>\n",
       "    <tr>\n",
       "      <th id=\"T_6a91f_level0_row7\" class=\"row_heading level0 row7\" >7</th>\n",
       "      <td id=\"T_6a91f_row7_col0\" class=\"data row7 col0\" >0.6322</td>\n",
       "      <td id=\"T_6a91f_row7_col1\" class=\"data row7 col1\" >0.6772</td>\n",
       "      <td id=\"T_6a91f_row7_col2\" class=\"data row7 col2\" >0.8340</td>\n",
       "      <td id=\"T_6a91f_row7_col3\" class=\"data row7 col3\" >0.6315</td>\n",
       "      <td id=\"T_6a91f_row7_col4\" class=\"data row7 col4\" >0.7188</td>\n",
       "      <td id=\"T_6a91f_row7_col5\" class=\"data row7 col5\" >0.2159</td>\n",
       "      <td id=\"T_6a91f_row7_col6\" class=\"data row7 col6\" >0.2339</td>\n",
       "    </tr>\n",
       "    <tr>\n",
       "      <th id=\"T_6a91f_level0_row8\" class=\"row_heading level0 row8\" >8</th>\n",
       "      <td id=\"T_6a91f_row8_col0\" class=\"data row8 col0\" >0.6261</td>\n",
       "      <td id=\"T_6a91f_row8_col1\" class=\"data row8 col1\" >0.6682</td>\n",
       "      <td id=\"T_6a91f_row8_col2\" class=\"data row8 col2\" >0.8352</td>\n",
       "      <td id=\"T_6a91f_row8_col3\" class=\"data row8 col3\" >0.6261</td>\n",
       "      <td id=\"T_6a91f_row8_col4\" class=\"data row8 col4\" >0.7157</td>\n",
       "      <td id=\"T_6a91f_row8_col5\" class=\"data row8 col5\" >0.2011</td>\n",
       "      <td id=\"T_6a91f_row8_col6\" class=\"data row8 col6\" >0.2196</td>\n",
       "    </tr>\n",
       "    <tr>\n",
       "      <th id=\"T_6a91f_level0_row9\" class=\"row_heading level0 row9\" >9</th>\n",
       "      <td id=\"T_6a91f_row9_col0\" class=\"data row9 col0\" >0.6267</td>\n",
       "      <td id=\"T_6a91f_row9_col1\" class=\"data row9 col1\" >0.6632</td>\n",
       "      <td id=\"T_6a91f_row9_col2\" class=\"data row9 col2\" >0.8305</td>\n",
       "      <td id=\"T_6a91f_row9_col3\" class=\"data row9 col3\" >0.6275</td>\n",
       "      <td id=\"T_6a91f_row9_col4\" class=\"data row9 col4\" >0.7149</td>\n",
       "      <td id=\"T_6a91f_row9_col5\" class=\"data row9 col5\" >0.2038</td>\n",
       "      <td id=\"T_6a91f_row9_col6\" class=\"data row9 col6\" >0.2212</td>\n",
       "    </tr>\n",
       "    <tr>\n",
       "      <th id=\"T_6a91f_level0_row10\" class=\"row_heading level0 row10\" >Mean</th>\n",
       "      <td id=\"T_6a91f_row10_col0\" class=\"data row10 col0\" >0.6288</td>\n",
       "      <td id=\"T_6a91f_row10_col1\" class=\"data row10 col1\" >0.6669</td>\n",
       "      <td id=\"T_6a91f_row10_col2\" class=\"data row10 col2\" >0.8371</td>\n",
       "      <td id=\"T_6a91f_row10_col3\" class=\"data row10 col3\" >0.6280</td>\n",
       "      <td id=\"T_6a91f_row10_col4\" class=\"data row10 col4\" >0.7176</td>\n",
       "      <td id=\"T_6a91f_row10_col5\" class=\"data row10 col5\" >0.2070</td>\n",
       "      <td id=\"T_6a91f_row10_col6\" class=\"data row10 col6\" >0.2259</td>\n",
       "    </tr>\n",
       "    <tr>\n",
       "      <th id=\"T_6a91f_level0_row11\" class=\"row_heading level0 row11\" >Std</th>\n",
       "      <td id=\"T_6a91f_row11_col0\" class=\"data row11 col0\" >0.0029</td>\n",
       "      <td id=\"T_6a91f_row11_col1\" class=\"data row11 col1\" >0.0045</td>\n",
       "      <td id=\"T_6a91f_row11_col2\" class=\"data row11 col2\" >0.0048</td>\n",
       "      <td id=\"T_6a91f_row11_col3\" class=\"data row11 col3\" >0.0024</td>\n",
       "      <td id=\"T_6a91f_row11_col4\" class=\"data row11 col4\" >0.0021</td>\n",
       "      <td id=\"T_6a91f_row11_col5\" class=\"data row11 col5\" >0.0066</td>\n",
       "      <td id=\"T_6a91f_row11_col6\" class=\"data row11 col6\" >0.0066</td>\n",
       "    </tr>\n",
       "  </tbody>\n",
       "</table>\n"
      ],
      "text/plain": [
       "<pandas.io.formats.style.Styler at 0x7f957c8883d0>"
      ]
     },
     "metadata": {},
     "output_type": "display_data"
    },
    {
     "data": {
      "text/html": [],
      "text/plain": [
       "<IPython.core.display.HTML object>"
      ]
     },
     "metadata": {},
     "output_type": "display_data"
    }
   ],
   "source": [
    "regression_model_ada = classification_setup.create_model(\"ada\", probability_threshold = 0.50)"
   ]
  },
  {
   "cell_type": "code",
   "execution_count": 103,
   "metadata": {
    "execution": {
     "iopub.execute_input": "2023-06-27T04:34:27.569330Z",
     "iopub.status.busy": "2023-06-27T04:34:27.569226Z",
     "iopub.status.idle": "2023-06-27T04:34:30.564877Z",
     "shell.execute_reply": "2023-06-27T04:34:30.564267Z",
     "shell.execute_reply.started": "2023-06-27T04:34:27.569322Z"
    }
   },
   "outputs": [
    {
     "data": {
      "text/html": [],
      "text/plain": [
       "<IPython.core.display.HTML object>"
      ]
     },
     "metadata": {},
     "output_type": "display_data"
    },
    {
     "data": {
      "image/png": "[encoded data removed]",
      "text/plain": [
       "<Figure size 800x550 with 1 Axes>"
      ]
     },
     "metadata": {},
     "output_type": "display_data"
    }
   ],
   "source": [
    "plot_model(regression_model_ada, plot = 'auc')"
   ]
  },
  {
   "cell_type": "markdown",
   "metadata": {
    "execution": {
     "iopub.execute_input": "2023-06-08T23:08:22.530994Z",
     "iopub.status.busy": "2023-06-08T23:08:22.529719Z",
     "iopub.status.idle": "2023-06-08T23:08:22.542651Z",
     "shell.execute_reply": "2023-06-08T23:08:22.540043Z",
     "shell.execute_reply.started": "2023-06-08T23:08:22.530922Z"
    }
   },
   "source": [
    "**evaluate model**"
   ]
  },
  {
   "cell_type": "markdown",
   "metadata": {},
   "source": [
    "`lightgbm` shows very good AUC of `0.97`, `rf` as well with `1.0` train AUC.\n",
    "\n",
    "`rf` seemed like too overfit with 1.0 train AUC but its test precision as well is the best among others.\n",
    "\n",
    "`ada` shows very low recall thus inpractical.\n"
   ]
  },
  {
   "cell_type": "code",
   "execution_count": 64,
   "metadata": {
    "execution": {
     "iopub.execute_input": "2023-06-27T04:19:50.092772Z",
     "iopub.status.busy": "2023-06-27T04:19:50.092029Z",
     "iopub.status.idle": "2023-06-27T04:19:50.099030Z",
     "shell.execute_reply": "2023-06-27T04:19:50.098177Z",
     "shell.execute_reply.started": "2023-06-27T04:19:50.092736Z"
    }
   },
   "outputs": [],
   "source": [
    "def predict_and_odds(df_data, regression_model):\n",
    "    df_prediction = pycaret.classification.predict_model(data = df_data, estimator = regression_model)\n",
    "    df_prediction = pd.merge(df_prediction, df_player_team_positions[['player_id','player_team_name']], left_on='batting_id', right_on='player_id', how='left')\n",
    "    df_prediction[\"theo_odds\"] = df_prediction[\"prediction_score\"].apply(model.common.odds_calculator)\n",
    "    return df_prediction"
   ]
  },
  {
   "cell_type": "code",
   "execution_count": 65,
   "metadata": {
    "execution": {
     "iopub.execute_input": "2023-06-27T04:19:50.226464Z",
     "iopub.status.busy": "2023-06-27T04:19:50.226218Z",
     "iopub.status.idle": "2023-06-27T04:19:50.230095Z",
     "shell.execute_reply": "2023-06-27T04:19:50.229043Z",
     "shell.execute_reply.started": "2023-06-27T04:19:50.226448Z"
    }
   },
   "outputs": [],
   "source": [
    "def get_eval_profile(df_prediction, score_threshold):\n",
    "    confident_prediction = df_prediction.drop_duplicates(\"batting_name\")\n",
    "    confident_prediction = confident_prediction[confident_prediction[\"prediction_score\"] >= score_threshold]\n",
    "    # for some reason, the prediction_label should be separatedly checked. higher score does not always lead to prediction label. (maybe the score stands for both labels).\n",
    "    confident_prediction = confident_prediction[confident_prediction[\"prediction_label\"] == 1]\n",
    "    l = len(confident_prediction)\n",
    "    return l, confident_prediction.batting_hit_recorded.sum() / l"
   ]
  },
  {
   "cell_type": "code",
   "execution_count": 104,
   "metadata": {
    "execution": {
     "iopub.execute_input": "2023-06-27T04:36:56.744932Z",
     "iopub.status.busy": "2023-06-27T04:36:56.744718Z",
     "iopub.status.idle": "2023-06-27T04:37:15.984434Z",
     "shell.execute_reply": "2023-06-27T04:37:15.983800Z",
     "shell.execute_reply.started": "2023-06-27T04:36:56.744918Z"
    }
   },
   "outputs": [
    {
     "data": {
      "text/html": [
       "<style type=\"text/css\">\n",
       "</style>\n",
       "<table id=\"T_bc275\">\n",
       "  <thead>\n",
       "    <tr>\n",
       "      <th class=\"blank level0\" >&nbsp;</th>\n",
       "      <th id=\"T_bc275_level0_col0\" class=\"col_heading level0 col0\" >Model</th>\n",
       "      <th id=\"T_bc275_level0_col1\" class=\"col_heading level0 col1\" >Accuracy</th>\n",
       "      <th id=\"T_bc275_level0_col2\" class=\"col_heading level0 col2\" >AUC</th>\n",
       "      <th id=\"T_bc275_level0_col3\" class=\"col_heading level0 col3\" >Recall</th>\n",
       "      <th id=\"T_bc275_level0_col4\" class=\"col_heading level0 col4\" >Prec.</th>\n",
       "      <th id=\"T_bc275_level0_col5\" class=\"col_heading level0 col5\" >F1</th>\n",
       "      <th id=\"T_bc275_level0_col6\" class=\"col_heading level0 col6\" >Kappa</th>\n",
       "      <th id=\"T_bc275_level0_col7\" class=\"col_heading level0 col7\" >MCC</th>\n",
       "    </tr>\n",
       "  </thead>\n",
       "  <tbody>\n",
       "    <tr>\n",
       "      <th id=\"T_bc275_level0_row0\" class=\"row_heading level0 row0\" >0</th>\n",
       "      <td id=\"T_bc275_row0_col0\" class=\"data row0 col0\" >Ada Boost Classifier</td>\n",
       "      <td id=\"T_bc275_row0_col1\" class=\"data row0 col1\" >0.6283</td>\n",
       "      <td id=\"T_bc275_row0_col2\" class=\"data row0 col2\" >0.6697</td>\n",
       "      <td id=\"T_bc275_row0_col3\" class=\"data row0 col3\" >0.8430</td>\n",
       "      <td id=\"T_bc275_row0_col4\" class=\"data row0 col4\" >0.6264</td>\n",
       "      <td id=\"T_bc275_row0_col5\" class=\"data row0 col5\" >0.7188</td>\n",
       "      <td id=\"T_bc275_row0_col6\" class=\"data row0 col6\" >0.2044</td>\n",
       "      <td id=\"T_bc275_row0_col7\" class=\"data row0 col7\" >0.2249</td>\n",
       "    </tr>\n",
       "  </tbody>\n",
       "</table>\n"
      ],
      "text/plain": [
       "<pandas.io.formats.style.Styler at 0x7f9587f03160>"
      ]
     },
     "metadata": {},
     "output_type": "display_data"
    },
    {
     "data": {
      "text/html": [
       "<style type=\"text/css\">\n",
       "</style>\n",
       "<table id=\"T_c13fa\">\n",
       "  <thead>\n",
       "    <tr>\n",
       "      <th class=\"blank level0\" >&nbsp;</th>\n",
       "      <th id=\"T_c13fa_level0_col0\" class=\"col_heading level0 col0\" >Model</th>\n",
       "      <th id=\"T_c13fa_level0_col1\" class=\"col_heading level0 col1\" >Accuracy</th>\n",
       "      <th id=\"T_c13fa_level0_col2\" class=\"col_heading level0 col2\" >AUC</th>\n",
       "      <th id=\"T_c13fa_level0_col3\" class=\"col_heading level0 col3\" >Recall</th>\n",
       "      <th id=\"T_c13fa_level0_col4\" class=\"col_heading level0 col4\" >Prec.</th>\n",
       "      <th id=\"T_c13fa_level0_col5\" class=\"col_heading level0 col5\" >F1</th>\n",
       "      <th id=\"T_c13fa_level0_col6\" class=\"col_heading level0 col6\" >Kappa</th>\n",
       "      <th id=\"T_c13fa_level0_col7\" class=\"col_heading level0 col7\" >MCC</th>\n",
       "    </tr>\n",
       "  </thead>\n",
       "  <tbody>\n",
       "    <tr>\n",
       "      <th id=\"T_c13fa_level0_row0\" class=\"row_heading level0 row0\" >0</th>\n",
       "      <td id=\"T_c13fa_row0_col0\" class=\"data row0 col0\" >Gradient Boosting Classifier</td>\n",
       "      <td id=\"T_c13fa_row0_col1\" class=\"data row0 col1\" >0.6675</td>\n",
       "      <td id=\"T_c13fa_row0_col2\" class=\"data row0 col2\" >0.7511</td>\n",
       "      <td id=\"T_c13fa_row0_col3\" class=\"data row0 col3\" >0.8721</td>\n",
       "      <td id=\"T_c13fa_row0_col4\" class=\"data row0 col4\" >0.6536</td>\n",
       "      <td id=\"T_c13fa_row0_col5\" class=\"data row0 col5\" >0.7472</td>\n",
       "      <td id=\"T_c13fa_row0_col6\" class=\"data row0 col6\" >0.2896</td>\n",
       "      <td id=\"T_c13fa_row0_col7\" class=\"data row0 col7\" >0.3163</td>\n",
       "    </tr>\n",
       "  </tbody>\n",
       "</table>\n"
      ],
      "text/plain": [
       "<pandas.io.formats.style.Styler at 0x7f95abdafeb0>"
      ]
     },
     "metadata": {},
     "output_type": "display_data"
    },
    {
     "data": {
      "text/html": [
       "<style type=\"text/css\">\n",
       "</style>\n",
       "<table id=\"T_a5023\">\n",
       "  <thead>\n",
       "    <tr>\n",
       "      <th class=\"blank level0\" >&nbsp;</th>\n",
       "      <th id=\"T_a5023_level0_col0\" class=\"col_heading level0 col0\" >Model</th>\n",
       "      <th id=\"T_a5023_level0_col1\" class=\"col_heading level0 col1\" >Accuracy</th>\n",
       "      <th id=\"T_a5023_level0_col2\" class=\"col_heading level0 col2\" >AUC</th>\n",
       "      <th id=\"T_a5023_level0_col3\" class=\"col_heading level0 col3\" >Recall</th>\n",
       "      <th id=\"T_a5023_level0_col4\" class=\"col_heading level0 col4\" >Prec.</th>\n",
       "      <th id=\"T_a5023_level0_col5\" class=\"col_heading level0 col5\" >F1</th>\n",
       "      <th id=\"T_a5023_level0_col6\" class=\"col_heading level0 col6\" >Kappa</th>\n",
       "      <th id=\"T_a5023_level0_col7\" class=\"col_heading level0 col7\" >MCC</th>\n",
       "    </tr>\n",
       "  </thead>\n",
       "  <tbody>\n",
       "    <tr>\n",
       "      <th id=\"T_a5023_level0_row0\" class=\"row_heading level0 row0\" >0</th>\n",
       "      <td id=\"T_a5023_row0_col0\" class=\"data row0 col0\" >Light Gradient Boosting Machine</td>\n",
       "      <td id=\"T_a5023_row0_col1\" class=\"data row0 col1\" >0.8400</td>\n",
       "      <td id=\"T_a5023_row0_col2\" class=\"data row0 col2\" >0.9324</td>\n",
       "      <td id=\"T_a5023_row0_col3\" class=\"data row0 col3\" >0.9277</td>\n",
       "      <td id=\"T_a5023_row0_col4\" class=\"data row0 col4\" >0.8143</td>\n",
       "      <td id=\"T_a5023_row0_col5\" class=\"data row0 col5\" >0.8673</td>\n",
       "      <td id=\"T_a5023_row0_col6\" class=\"data row0 col6\" >0.6681</td>\n",
       "      <td id=\"T_a5023_row0_col7\" class=\"data row0 col7\" >0.6771</td>\n",
       "    </tr>\n",
       "  </tbody>\n",
       "</table>\n"
      ],
      "text/plain": [
       "<pandas.io.formats.style.Styler at 0x7f9534ab7340>"
      ]
     },
     "metadata": {},
     "output_type": "display_data"
    },
    {
     "data": {
      "text/html": [
       "<style type=\"text/css\">\n",
       "</style>\n",
       "<table id=\"T_1c2ab\">\n",
       "  <thead>\n",
       "    <tr>\n",
       "      <th class=\"blank level0\" >&nbsp;</th>\n",
       "      <th id=\"T_1c2ab_level0_col0\" class=\"col_heading level0 col0\" >Model</th>\n",
       "      <th id=\"T_1c2ab_level0_col1\" class=\"col_heading level0 col1\" >Accuracy</th>\n",
       "      <th id=\"T_1c2ab_level0_col2\" class=\"col_heading level0 col2\" >AUC</th>\n",
       "      <th id=\"T_1c2ab_level0_col3\" class=\"col_heading level0 col3\" >Recall</th>\n",
       "      <th id=\"T_1c2ab_level0_col4\" class=\"col_heading level0 col4\" >Prec.</th>\n",
       "      <th id=\"T_1c2ab_level0_col5\" class=\"col_heading level0 col5\" >F1</th>\n",
       "      <th id=\"T_1c2ab_level0_col6\" class=\"col_heading level0 col6\" >Kappa</th>\n",
       "      <th id=\"T_1c2ab_level0_col7\" class=\"col_heading level0 col7\" >MCC</th>\n",
       "    </tr>\n",
       "  </thead>\n",
       "  <tbody>\n",
       "    <tr>\n",
       "      <th id=\"T_1c2ab_level0_row0\" class=\"row_heading level0 row0\" >0</th>\n",
       "      <td id=\"T_1c2ab_row0_col0\" class=\"data row0 col0\" >Random Forest Classifier</td>\n",
       "      <td id=\"T_1c2ab_row0_col1\" class=\"data row0 col1\" >0.9974</td>\n",
       "      <td id=\"T_1c2ab_row0_col2\" class=\"data row0 col2\" >0.9999</td>\n",
       "      <td id=\"T_1c2ab_row0_col3\" class=\"data row0 col3\" >0.9976</td>\n",
       "      <td id=\"T_1c2ab_row0_col4\" class=\"data row0 col4\" >0.9978</td>\n",
       "      <td id=\"T_1c2ab_row0_col5\" class=\"data row0 col5\" >0.9977</td>\n",
       "      <td id=\"T_1c2ab_row0_col6\" class=\"data row0 col6\" >0.9948</td>\n",
       "      <td id=\"T_1c2ab_row0_col7\" class=\"data row0 col7\" >0.9948</td>\n",
       "    </tr>\n",
       "  </tbody>\n",
       "</table>\n"
      ],
      "text/plain": [
       "<pandas.io.formats.style.Styler at 0x7f9587ea5f90>"
      ]
     },
     "metadata": {},
     "output_type": "display_data"
    }
   ],
   "source": [
    "train_prediction_ada = predict_and_odds(train_data, regression_model_ada)\n",
    "train_prediction_gbc = predict_and_odds(train_data, regression_model_gbc)\n",
    "train_prediction_lightgbm = predict_and_odds(train_data, regression_model_lightgbm)\n",
    "train_prediction_rf = predict_and_odds(train_data, regression_model_rf)"
   ]
  },
  {
   "cell_type": "code",
   "execution_count": 105,
   "metadata": {
    "execution": {
     "iopub.execute_input": "2023-06-27T04:37:15.985398Z",
     "iopub.status.busy": "2023-06-27T04:37:15.985259Z",
     "iopub.status.idle": "2023-06-27T04:37:16.071384Z",
     "shell.execute_reply": "2023-06-27T04:37:16.070357Z",
     "shell.execute_reply.started": "2023-06-27T04:37:15.985385Z"
    }
   },
   "outputs": [
    {
     "name": "stdout",
     "output_type": "stream",
     "text": [
      "(0, nan)\n",
      "(0, nan)\n",
      "(0, nan)\n",
      "(0, nan)\n"
     ]
    }
   ],
   "source": [
    "print(get_eval_profile(train_prediction_ada, 0.6))\n",
    "print(get_eval_profile(train_prediction_ada, 0.7))\n",
    "print(get_eval_profile(train_prediction_ada, 0.75))\n",
    "print(get_eval_profile(train_prediction_ada, 0.80))"
   ]
  },
  {
   "cell_type": "code",
   "execution_count": 106,
   "metadata": {
    "execution": {
     "iopub.execute_input": "2023-06-27T04:37:16.073095Z",
     "iopub.status.busy": "2023-06-27T04:37:16.072747Z",
     "iopub.status.idle": "2023-06-27T04:37:16.174497Z",
     "shell.execute_reply": "2023-06-27T04:37:16.173117Z",
     "shell.execute_reply.started": "2023-06-27T04:37:16.073069Z"
    }
   },
   "outputs": [
    {
     "name": "stdout",
     "output_type": "stream",
     "text": [
      "(338, 0.6923076923076923)\n",
      "(75, 0.8666666666666667)\n",
      "(29, 0.9310344827586207)\n",
      "(9, 1.0)\n"
     ]
    }
   ],
   "source": [
    "print(get_eval_profile(train_prediction_gbc, 0.6))\n",
    "print(get_eval_profile(train_prediction_gbc, 0.7))\n",
    "print(get_eval_profile(train_prediction_gbc, 0.75))\n",
    "print(get_eval_profile(train_prediction_gbc, 0.80))"
   ]
  },
  {
   "cell_type": "code",
   "execution_count": 107,
   "metadata": {
    "execution": {
     "iopub.execute_input": "2023-06-27T04:37:16.177320Z",
     "iopub.status.busy": "2023-06-27T04:37:16.176790Z",
     "iopub.status.idle": "2023-06-27T04:37:16.286646Z",
     "shell.execute_reply": "2023-06-27T04:37:16.285300Z",
     "shell.execute_reply.started": "2023-06-27T04:37:16.177298Z"
    }
   },
   "outputs": [
    {
     "name": "stdout",
     "output_type": "stream",
     "text": [
      "(334, 0.844311377245509)\n",
      "(162, 0.9259259259259259)\n",
      "(107, 0.9532710280373832)\n",
      "(61, 1.0)\n"
     ]
    }
   ],
   "source": [
    "print(get_eval_profile(train_prediction_lightgbm, 0.6))\n",
    "print(get_eval_profile(train_prediction_lightgbm, 0.7))\n",
    "print(get_eval_profile(train_prediction_lightgbm, 0.75))\n",
    "print(get_eval_profile(train_prediction_lightgbm, 0.80))"
   ]
  },
  {
   "cell_type": "code",
   "execution_count": 108,
   "metadata": {
    "execution": {
     "iopub.execute_input": "2023-06-27T04:37:16.289291Z",
     "iopub.status.busy": "2023-06-27T04:37:16.288781Z",
     "iopub.status.idle": "2023-06-27T04:37:16.403830Z",
     "shell.execute_reply": "2023-06-27T04:37:16.402548Z",
     "shell.execute_reply.started": "2023-06-27T04:37:16.289255Z"
    }
   },
   "outputs": [
    {
     "name": "stdout",
     "output_type": "stream",
     "text": [
      "(629, 0.9841017488076311)\n",
      "(574, 0.9930313588850174)\n",
      "(514, 0.9961089494163424)\n",
      "(472, 0.9978813559322034)\n"
     ]
    }
   ],
   "source": [
    "print(get_eval_profile(train_prediction_rf, 0.6))\n",
    "print(get_eval_profile(train_prediction_rf, 0.7))\n",
    "print(get_eval_profile(train_prediction_rf, 0.75))\n",
    "print(get_eval_profile(train_prediction_rf, 0.80))"
   ]
  },
  {
   "cell_type": "code",
   "execution_count": null,
   "metadata": {},
   "outputs": [],
   "source": []
  },
  {
   "cell_type": "markdown",
   "metadata": {
    "execution": {
     "iopub.execute_input": "2023-06-07T00:40:23.948013Z",
     "iopub.status.busy": "2023-06-07T00:40:23.947407Z",
     "iopub.status.idle": "2023-06-07T00:40:23.953130Z",
     "shell.execute_reply": "2023-06-07T00:40:23.952520Z",
     "shell.execute_reply.started": "2023-06-07T00:40:23.947955Z"
    }
   },
   "source": [
    "**test prediction**"
   ]
  },
  {
   "cell_type": "code",
   "execution_count": 109,
   "metadata": {
    "execution": {
     "iopub.execute_input": "2023-06-27T04:37:16.405963Z",
     "iopub.status.busy": "2023-06-27T04:37:16.405561Z",
     "iopub.status.idle": "2023-06-27T04:37:18.244301Z",
     "shell.execute_reply": "2023-06-27T04:37:18.243476Z",
     "shell.execute_reply.started": "2023-06-27T04:37:16.405932Z"
    },
    "scrolled": true
   },
   "outputs": [
    {
     "data": {
      "text/html": [
       "<style type=\"text/css\">\n",
       "</style>\n",
       "<table id=\"T_1a379\">\n",
       "  <thead>\n",
       "    <tr>\n",
       "      <th class=\"blank level0\" >&nbsp;</th>\n",
       "      <th id=\"T_1a379_level0_col0\" class=\"col_heading level0 col0\" >Model</th>\n",
       "      <th id=\"T_1a379_level0_col1\" class=\"col_heading level0 col1\" >Accuracy</th>\n",
       "      <th id=\"T_1a379_level0_col2\" class=\"col_heading level0 col2\" >AUC</th>\n",
       "      <th id=\"T_1a379_level0_col3\" class=\"col_heading level0 col3\" >Recall</th>\n",
       "      <th id=\"T_1a379_level0_col4\" class=\"col_heading level0 col4\" >Prec.</th>\n",
       "      <th id=\"T_1a379_level0_col5\" class=\"col_heading level0 col5\" >F1</th>\n",
       "      <th id=\"T_1a379_level0_col6\" class=\"col_heading level0 col6\" >Kappa</th>\n",
       "      <th id=\"T_1a379_level0_col7\" class=\"col_heading level0 col7\" >MCC</th>\n",
       "    </tr>\n",
       "  </thead>\n",
       "  <tbody>\n",
       "    <tr>\n",
       "      <th id=\"T_1a379_level0_row0\" class=\"row_heading level0 row0\" >0</th>\n",
       "      <td id=\"T_1a379_row0_col0\" class=\"data row0 col0\" >Ada Boost Classifier</td>\n",
       "      <td id=\"T_1a379_row0_col1\" class=\"data row0 col1\" >0.5752</td>\n",
       "      <td id=\"T_1a379_row0_col2\" class=\"data row0 col2\" >0.5593</td>\n",
       "      <td id=\"T_1a379_row0_col3\" class=\"data row0 col3\" >0.7799</td>\n",
       "      <td id=\"T_1a379_row0_col4\" class=\"data row0 col4\" >0.6073</td>\n",
       "      <td id=\"T_1a379_row0_col5\" class=\"data row0 col5\" >0.6829</td>\n",
       "      <td id=\"T_1a379_row0_col6\" class=\"data row0 col6\" >0.0690</td>\n",
       "      <td id=\"T_1a379_row0_col7\" class=\"data row0 col7\" >0.0741</td>\n",
       "    </tr>\n",
       "  </tbody>\n",
       "</table>\n"
      ],
      "text/plain": [
       "<pandas.io.formats.style.Styler at 0x7f95ab7de410>"
      ]
     },
     "metadata": {},
     "output_type": "display_data"
    },
    {
     "data": {
      "text/html": [
       "<style type=\"text/css\">\n",
       "</style>\n",
       "<table id=\"T_1984a\">\n",
       "  <thead>\n",
       "    <tr>\n",
       "      <th class=\"blank level0\" >&nbsp;</th>\n",
       "      <th id=\"T_1984a_level0_col0\" class=\"col_heading level0 col0\" >Model</th>\n",
       "      <th id=\"T_1984a_level0_col1\" class=\"col_heading level0 col1\" >Accuracy</th>\n",
       "      <th id=\"T_1984a_level0_col2\" class=\"col_heading level0 col2\" >AUC</th>\n",
       "      <th id=\"T_1984a_level0_col3\" class=\"col_heading level0 col3\" >Recall</th>\n",
       "      <th id=\"T_1984a_level0_col4\" class=\"col_heading level0 col4\" >Prec.</th>\n",
       "      <th id=\"T_1984a_level0_col5\" class=\"col_heading level0 col5\" >F1</th>\n",
       "      <th id=\"T_1984a_level0_col6\" class=\"col_heading level0 col6\" >Kappa</th>\n",
       "      <th id=\"T_1984a_level0_col7\" class=\"col_heading level0 col7\" >MCC</th>\n",
       "    </tr>\n",
       "  </thead>\n",
       "  <tbody>\n",
       "    <tr>\n",
       "      <th id=\"T_1984a_level0_row0\" class=\"row_heading level0 row0\" >0</th>\n",
       "      <td id=\"T_1984a_row0_col0\" class=\"data row0 col0\" >Gradient Boosting Classifier</td>\n",
       "      <td id=\"T_1984a_row0_col1\" class=\"data row0 col1\" >0.5627</td>\n",
       "      <td id=\"T_1984a_row0_col2\" class=\"data row0 col2\" >0.5425</td>\n",
       "      <td id=\"T_1984a_row0_col3\" class=\"data row0 col3\" >0.7836</td>\n",
       "      <td id=\"T_1984a_row0_col4\" class=\"data row0 col4\" >0.5968</td>\n",
       "      <td id=\"T_1984a_row0_col5\" class=\"data row0 col5\" >0.6776</td>\n",
       "      <td id=\"T_1984a_row0_col6\" class=\"data row0 col6\" >0.0353</td>\n",
       "      <td id=\"T_1984a_row0_col7\" class=\"data row0 col7\" >0.0386</td>\n",
       "    </tr>\n",
       "  </tbody>\n",
       "</table>\n"
      ],
      "text/plain": [
       "<pandas.io.formats.style.Styler at 0x7f9587f00e50>"
      ]
     },
     "metadata": {},
     "output_type": "display_data"
    },
    {
     "data": {
      "text/html": [
       "<style type=\"text/css\">\n",
       "</style>\n",
       "<table id=\"T_6e848\">\n",
       "  <thead>\n",
       "    <tr>\n",
       "      <th class=\"blank level0\" >&nbsp;</th>\n",
       "      <th id=\"T_6e848_level0_col0\" class=\"col_heading level0 col0\" >Model</th>\n",
       "      <th id=\"T_6e848_level0_col1\" class=\"col_heading level0 col1\" >Accuracy</th>\n",
       "      <th id=\"T_6e848_level0_col2\" class=\"col_heading level0 col2\" >AUC</th>\n",
       "      <th id=\"T_6e848_level0_col3\" class=\"col_heading level0 col3\" >Recall</th>\n",
       "      <th id=\"T_6e848_level0_col4\" class=\"col_heading level0 col4\" >Prec.</th>\n",
       "      <th id=\"T_6e848_level0_col5\" class=\"col_heading level0 col5\" >F1</th>\n",
       "      <th id=\"T_6e848_level0_col6\" class=\"col_heading level0 col6\" >Kappa</th>\n",
       "      <th id=\"T_6e848_level0_col7\" class=\"col_heading level0 col7\" >MCC</th>\n",
       "    </tr>\n",
       "  </thead>\n",
       "  <tbody>\n",
       "    <tr>\n",
       "      <th id=\"T_6e848_level0_row0\" class=\"row_heading level0 row0\" >0</th>\n",
       "      <td id=\"T_6e848_row0_col0\" class=\"data row0 col0\" >Light Gradient Boosting Machine</td>\n",
       "      <td id=\"T_6e848_row0_col1\" class=\"data row0 col1\" >0.5486</td>\n",
       "      <td id=\"T_6e848_row0_col2\" class=\"data row0 col2\" >0.5252</td>\n",
       "      <td id=\"T_6e848_row0_col3\" class=\"data row0 col3\" >0.7150</td>\n",
       "      <td id=\"T_6e848_row0_col4\" class=\"data row0 col4\" >0.5959</td>\n",
       "      <td id=\"T_6e848_row0_col5\" class=\"data row0 col5\" >0.6501</td>\n",
       "      <td id=\"T_6e848_row0_col6\" class=\"data row0 col6\" >0.0288</td>\n",
       "      <td id=\"T_6e848_row0_col7\" class=\"data row0 col7\" >0.0297</td>\n",
       "    </tr>\n",
       "  </tbody>\n",
       "</table>\n"
      ],
      "text/plain": [
       "<pandas.io.formats.style.Styler at 0x7f9534856d40>"
      ]
     },
     "metadata": {},
     "output_type": "display_data"
    },
    {
     "data": {
      "text/html": [
       "<style type=\"text/css\">\n",
       "</style>\n",
       "<table id=\"T_7c39c\">\n",
       "  <thead>\n",
       "    <tr>\n",
       "      <th class=\"blank level0\" >&nbsp;</th>\n",
       "      <th id=\"T_7c39c_level0_col0\" class=\"col_heading level0 col0\" >Model</th>\n",
       "      <th id=\"T_7c39c_level0_col1\" class=\"col_heading level0 col1\" >Accuracy</th>\n",
       "      <th id=\"T_7c39c_level0_col2\" class=\"col_heading level0 col2\" >AUC</th>\n",
       "      <th id=\"T_7c39c_level0_col3\" class=\"col_heading level0 col3\" >Recall</th>\n",
       "      <th id=\"T_7c39c_level0_col4\" class=\"col_heading level0 col4\" >Prec.</th>\n",
       "      <th id=\"T_7c39c_level0_col5\" class=\"col_heading level0 col5\" >F1</th>\n",
       "      <th id=\"T_7c39c_level0_col6\" class=\"col_heading level0 col6\" >Kappa</th>\n",
       "      <th id=\"T_7c39c_level0_col7\" class=\"col_heading level0 col7\" >MCC</th>\n",
       "    </tr>\n",
       "  </thead>\n",
       "  <tbody>\n",
       "    <tr>\n",
       "      <th id=\"T_7c39c_level0_row0\" class=\"row_heading level0 row0\" >0</th>\n",
       "      <td id=\"T_7c39c_row0_col0\" class=\"data row0 col0\" >Random Forest Classifier</td>\n",
       "      <td id=\"T_7c39c_row0_col1\" class=\"data row0 col1\" >0.5716</td>\n",
       "      <td id=\"T_7c39c_row0_col2\" class=\"data row0 col2\" >0.5591</td>\n",
       "      <td id=\"T_7c39c_row0_col3\" class=\"data row0 col3\" >0.7082</td>\n",
       "      <td id=\"T_7c39c_row0_col4\" class=\"data row0 col4\" >0.6175</td>\n",
       "      <td id=\"T_7c39c_row0_col5\" class=\"data row0 col5\" >0.6597</td>\n",
       "      <td id=\"T_7c39c_row0_col6\" class=\"data row0 col6\" >0.0888</td>\n",
       "      <td id=\"T_7c39c_row0_col7\" class=\"data row0 col7\" >0.0904</td>\n",
       "    </tr>\n",
       "  </tbody>\n",
       "</table>\n"
      ],
      "text/plain": [
       "<pandas.io.formats.style.Styler at 0x7f9534ab6fe0>"
      ]
     },
     "metadata": {},
     "output_type": "display_data"
    }
   ],
   "source": [
    "test_prediction_ada = predict_and_odds(test_data, regression_model_ada)\n",
    "test_prediction_gbc = predict_and_odds(test_data, regression_model_gbc)\n",
    "test_prediction_lightgbm = predict_and_odds(test_data, regression_model_lightgbm)\n",
    "test_prediction_rf = predict_and_odds(test_data, regression_model_rf)"
   ]
  },
  {
   "cell_type": "code",
   "execution_count": 110,
   "metadata": {
    "execution": {
     "iopub.execute_input": "2023-06-27T04:37:18.245174Z",
     "iopub.status.busy": "2023-06-27T04:37:18.245014Z",
     "iopub.status.idle": "2023-06-27T04:37:18.260578Z",
     "shell.execute_reply": "2023-06-27T04:37:18.259958Z",
     "shell.execute_reply.started": "2023-06-27T04:37:18.245160Z"
    }
   },
   "outputs": [
    {
     "name": "stdout",
     "output_type": "stream",
     "text": [
      "(0, nan)\n",
      "(0, nan)\n",
      "(0, nan)\n",
      "(0, nan)\n",
      "(0, nan)\n"
     ]
    }
   ],
   "source": [
    "print(get_eval_profile(test_prediction_ada, 0.6))\n",
    "print(get_eval_profile(test_prediction_ada, 0.7))\n",
    "print(get_eval_profile(test_prediction_ada, 0.75))\n",
    "print(get_eval_profile(test_prediction_ada, 0.80))\n",
    "print(get_eval_profile(test_prediction_ada, 0.85))"
   ]
  },
  {
   "cell_type": "code",
   "execution_count": 111,
   "metadata": {
    "execution": {
     "iopub.execute_input": "2023-06-27T04:37:18.261193Z",
     "iopub.status.busy": "2023-06-27T04:37:18.261062Z",
     "iopub.status.idle": "2023-06-27T04:37:18.286649Z",
     "shell.execute_reply": "2023-06-27T04:37:18.285839Z",
     "shell.execute_reply.started": "2023-06-27T04:37:18.261181Z"
    }
   },
   "outputs": [
    {
     "name": "stdout",
     "output_type": "stream",
     "text": [
      "(152, 0.5986842105263158)\n",
      "(28, 0.5714285714285714)\n",
      "(9, 0.6666666666666666)\n",
      "(2, 1.0)\n",
      "(0, nan)\n"
     ]
    }
   ],
   "source": [
    "print(get_eval_profile(test_prediction_gbc, 0.6))\n",
    "print(get_eval_profile(test_prediction_gbc, 0.7))\n",
    "print(get_eval_profile(test_prediction_gbc, 0.75))\n",
    "print(get_eval_profile(test_prediction_gbc, 0.80))\n",
    "print(get_eval_profile(test_prediction_gbc, 0.85))"
   ]
  },
  {
   "cell_type": "code",
   "execution_count": 112,
   "metadata": {
    "execution": {
     "iopub.execute_input": "2023-06-27T04:37:18.288710Z",
     "iopub.status.busy": "2023-06-27T04:37:18.288329Z",
     "iopub.status.idle": "2023-06-27T04:37:18.314528Z",
     "shell.execute_reply": "2023-06-27T04:37:18.313706Z",
     "shell.execute_reply.started": "2023-06-27T04:37:18.288676Z"
    }
   },
   "outputs": [
    {
     "name": "stdout",
     "output_type": "stream",
     "text": [
      "(125, 0.568)\n",
      "(50, 0.66)\n",
      "(25, 0.68)\n",
      "(14, 0.7857142857142857)\n",
      "(4, 0.75)\n"
     ]
    }
   ],
   "source": [
    "print(get_eval_profile(test_prediction_lightgbm, 0.6))\n",
    "print(get_eval_profile(test_prediction_lightgbm, 0.7))\n",
    "print(get_eval_profile(test_prediction_lightgbm, 0.75))\n",
    "print(get_eval_profile(test_prediction_lightgbm, 0.80))\n",
    "print(get_eval_profile(test_prediction_lightgbm, 0.85))"
   ]
  },
  {
   "cell_type": "code",
   "execution_count": 113,
   "metadata": {
    "execution": {
     "iopub.execute_input": "2023-06-27T04:37:18.317155Z",
     "iopub.status.busy": "2023-06-27T04:37:18.316875Z",
     "iopub.status.idle": "2023-06-27T04:37:18.343863Z",
     "shell.execute_reply": "2023-06-27T04:37:18.342182Z",
     "shell.execute_reply.started": "2023-06-27T04:37:18.317131Z"
    }
   },
   "outputs": [
    {
     "name": "stdout",
     "output_type": "stream",
     "text": [
      "(137, 0.5912408759124088)\n",
      "(52, 0.6346153846153846)\n",
      "(21, 0.7619047619047619)\n",
      "(7, 0.8571428571428571)\n",
      "(2, 0.5)\n"
     ]
    }
   ],
   "source": [
    "print(get_eval_profile(test_prediction_rf, 0.6))\n",
    "print(get_eval_profile(test_prediction_rf, 0.7))\n",
    "print(get_eval_profile(test_prediction_rf, 0.75))\n",
    "print(get_eval_profile(test_prediction_rf, 0.80))\n",
    "print(get_eval_profile(test_prediction_rf, 0.85))"
   ]
  },
  {
   "cell_type": "code",
   "execution_count": null,
   "metadata": {},
   "outputs": [],
   "source": []
  },
  {
   "cell_type": "markdown",
   "metadata": {
    "id": "sOfz0zBX994h"
   },
   "source": [
    "**Finalize Model**"
   ]
  },
  {
   "cell_type": "code",
   "execution_count": 114,
   "metadata": {
    "colab": {
     "base_uri": "https://localhost:8080/",
     "height": 34
    },
    "execution": {
     "iopub.execute_input": "2023-06-27T04:37:30.162271Z",
     "iopub.status.busy": "2023-06-27T04:37:30.161936Z",
     "iopub.status.idle": "2023-06-27T04:39:07.352670Z",
     "shell.execute_reply": "2023-06-27T04:39:07.351704Z",
     "shell.execute_reply.started": "2023-06-27T04:37:30.162247Z"
    },
    "id": "gutfxdh8-DKy",
    "outputId": "2e862724-33f5-45f0-ed52-aade46f98c7d"
   },
   "outputs": [],
   "source": [
    "# train over the whole dataset without validation split\n",
    "regression_model_finalized_ada = pycaret.classification.finalize_model(regression_model_ada)\n",
    "regression_model_finalized_gbc = pycaret.classification.finalize_model(regression_model_gbc)\n",
    "regression_model_finalized_lightgbm = pycaret.classification.finalize_model(regression_model_lightgbm)\n",
    "regression_model_finalized_rf = pycaret.classification.finalize_model(regression_model_rf)"
   ]
  },
  {
   "cell_type": "code",
   "execution_count": 115,
   "metadata": {
    "execution": {
     "iopub.execute_input": "2023-06-27T04:39:07.354455Z",
     "iopub.status.busy": "2023-06-27T04:39:07.354251Z",
     "iopub.status.idle": "2023-06-27T04:39:09.819883Z",
     "shell.execute_reply": "2023-06-27T04:39:09.818639Z",
     "shell.execute_reply.started": "2023-06-27T04:39:07.354434Z"
    }
   },
   "outputs": [
    {
     "data": {
      "text/html": [
       "<style type=\"text/css\">\n",
       "</style>\n",
       "<table id=\"T_abd9d\">\n",
       "  <thead>\n",
       "    <tr>\n",
       "      <th class=\"blank level0\" >&nbsp;</th>\n",
       "      <th id=\"T_abd9d_level0_col0\" class=\"col_heading level0 col0\" >Model</th>\n",
       "      <th id=\"T_abd9d_level0_col1\" class=\"col_heading level0 col1\" >Accuracy</th>\n",
       "      <th id=\"T_abd9d_level0_col2\" class=\"col_heading level0 col2\" >AUC</th>\n",
       "      <th id=\"T_abd9d_level0_col3\" class=\"col_heading level0 col3\" >Recall</th>\n",
       "      <th id=\"T_abd9d_level0_col4\" class=\"col_heading level0 col4\" >Prec.</th>\n",
       "      <th id=\"T_abd9d_level0_col5\" class=\"col_heading level0 col5\" >F1</th>\n",
       "      <th id=\"T_abd9d_level0_col6\" class=\"col_heading level0 col6\" >Kappa</th>\n",
       "      <th id=\"T_abd9d_level0_col7\" class=\"col_heading level0 col7\" >MCC</th>\n",
       "    </tr>\n",
       "  </thead>\n",
       "  <tbody>\n",
       "    <tr>\n",
       "      <th id=\"T_abd9d_level0_row0\" class=\"row_heading level0 row0\" >0</th>\n",
       "      <td id=\"T_abd9d_row0_col0\" class=\"data row0 col0\" >Ada Boost Classifier</td>\n",
       "      <td id=\"T_abd9d_row0_col1\" class=\"data row0 col1\" >0.5666</td>\n",
       "      <td id=\"T_abd9d_row0_col2\" class=\"data row0 col2\" >0.5562</td>\n",
       "      <td id=\"T_abd9d_row0_col3\" class=\"data row0 col3\" >0.7684</td>\n",
       "      <td id=\"T_abd9d_row0_col4\" class=\"data row0 col4\" >0.6023</td>\n",
       "      <td id=\"T_abd9d_row0_col5\" class=\"data row0 col5\" >0.6752</td>\n",
       "      <td id=\"T_abd9d_row0_col6\" class=\"data row0 col6\" >0.0518</td>\n",
       "      <td id=\"T_abd9d_row0_col7\" class=\"data row0 col7\" >0.0553</td>\n",
       "    </tr>\n",
       "  </tbody>\n",
       "</table>\n"
      ],
      "text/plain": [
       "<pandas.io.formats.style.Styler at 0x7f9587dffb50>"
      ]
     },
     "metadata": {},
     "output_type": "display_data"
    },
    {
     "data": {
      "text/html": [
       "<style type=\"text/css\">\n",
       "</style>\n",
       "<table id=\"T_5c8d4\">\n",
       "  <thead>\n",
       "    <tr>\n",
       "      <th class=\"blank level0\" >&nbsp;</th>\n",
       "      <th id=\"T_5c8d4_level0_col0\" class=\"col_heading level0 col0\" >Model</th>\n",
       "      <th id=\"T_5c8d4_level0_col1\" class=\"col_heading level0 col1\" >Accuracy</th>\n",
       "      <th id=\"T_5c8d4_level0_col2\" class=\"col_heading level0 col2\" >AUC</th>\n",
       "      <th id=\"T_5c8d4_level0_col3\" class=\"col_heading level0 col3\" >Recall</th>\n",
       "      <th id=\"T_5c8d4_level0_col4\" class=\"col_heading level0 col4\" >Prec.</th>\n",
       "      <th id=\"T_5c8d4_level0_col5\" class=\"col_heading level0 col5\" >F1</th>\n",
       "      <th id=\"T_5c8d4_level0_col6\" class=\"col_heading level0 col6\" >Kappa</th>\n",
       "      <th id=\"T_5c8d4_level0_col7\" class=\"col_heading level0 col7\" >MCC</th>\n",
       "    </tr>\n",
       "  </thead>\n",
       "  <tbody>\n",
       "    <tr>\n",
       "      <th id=\"T_5c8d4_level0_row0\" class=\"row_heading level0 row0\" >0</th>\n",
       "      <td id=\"T_5c8d4_row0_col0\" class=\"data row0 col0\" >Gradient Boosting Classifier</td>\n",
       "      <td id=\"T_5c8d4_row0_col1\" class=\"data row0 col1\" >0.5690</td>\n",
       "      <td id=\"T_5c8d4_row0_col2\" class=\"data row0 col2\" >0.5468</td>\n",
       "      <td id=\"T_5c8d4_row0_col3\" class=\"data row0 col3\" >0.7824</td>\n",
       "      <td id=\"T_5c8d4_row0_col4\" class=\"data row0 col4\" >0.6019</td>\n",
       "      <td id=\"T_5c8d4_row0_col5\" class=\"data row0 col5\" >0.6804</td>\n",
       "      <td id=\"T_5c8d4_row0_col6\" class=\"data row0 col6\" >0.0519</td>\n",
       "      <td id=\"T_5c8d4_row0_col7\" class=\"data row0 col7\" >0.0563</td>\n",
       "    </tr>\n",
       "  </tbody>\n",
       "</table>\n"
      ],
      "text/plain": [
       "<pandas.io.formats.style.Styler at 0x7f95ab719030>"
      ]
     },
     "metadata": {},
     "output_type": "display_data"
    },
    {
     "data": {
      "text/html": [
       "<style type=\"text/css\">\n",
       "</style>\n",
       "<table id=\"T_cad7a\">\n",
       "  <thead>\n",
       "    <tr>\n",
       "      <th class=\"blank level0\" >&nbsp;</th>\n",
       "      <th id=\"T_cad7a_level0_col0\" class=\"col_heading level0 col0\" >Model</th>\n",
       "      <th id=\"T_cad7a_level0_col1\" class=\"col_heading level0 col1\" >Accuracy</th>\n",
       "      <th id=\"T_cad7a_level0_col2\" class=\"col_heading level0 col2\" >AUC</th>\n",
       "      <th id=\"T_cad7a_level0_col3\" class=\"col_heading level0 col3\" >Recall</th>\n",
       "      <th id=\"T_cad7a_level0_col4\" class=\"col_heading level0 col4\" >Prec.</th>\n",
       "      <th id=\"T_cad7a_level0_col5\" class=\"col_heading level0 col5\" >F1</th>\n",
       "      <th id=\"T_cad7a_level0_col6\" class=\"col_heading level0 col6\" >Kappa</th>\n",
       "      <th id=\"T_cad7a_level0_col7\" class=\"col_heading level0 col7\" >MCC</th>\n",
       "    </tr>\n",
       "  </thead>\n",
       "  <tbody>\n",
       "    <tr>\n",
       "      <th id=\"T_cad7a_level0_row0\" class=\"row_heading level0 row0\" >0</th>\n",
       "      <td id=\"T_cad7a_row0_col0\" class=\"data row0 col0\" >Light Gradient Boosting Machine</td>\n",
       "      <td id=\"T_cad7a_row0_col1\" class=\"data row0 col1\" >0.5520</td>\n",
       "      <td id=\"T_cad7a_row0_col2\" class=\"data row0 col2\" >0.5389</td>\n",
       "      <td id=\"T_cad7a_row0_col3\" class=\"data row0 col3\" >0.7247</td>\n",
       "      <td id=\"T_cad7a_row0_col4\" class=\"data row0 col4\" >0.5973</td>\n",
       "      <td id=\"T_cad7a_row0_col5\" class=\"data row0 col5\" >0.6548</td>\n",
       "      <td id=\"T_cad7a_row0_col6\" class=\"data row0 col6\" >0.0333</td>\n",
       "      <td id=\"T_cad7a_row0_col7\" class=\"data row0 col7\" >0.0345</td>\n",
       "    </tr>\n",
       "  </tbody>\n",
       "</table>\n"
      ],
      "text/plain": [
       "<pandas.io.formats.style.Styler at 0x7f95780110c0>"
      ]
     },
     "metadata": {},
     "output_type": "display_data"
    },
    {
     "data": {
      "text/html": [
       "<style type=\"text/css\">\n",
       "</style>\n",
       "<table id=\"T_aa415\">\n",
       "  <thead>\n",
       "    <tr>\n",
       "      <th class=\"blank level0\" >&nbsp;</th>\n",
       "      <th id=\"T_aa415_level0_col0\" class=\"col_heading level0 col0\" >Model</th>\n",
       "      <th id=\"T_aa415_level0_col1\" class=\"col_heading level0 col1\" >Accuracy</th>\n",
       "      <th id=\"T_aa415_level0_col2\" class=\"col_heading level0 col2\" >AUC</th>\n",
       "      <th id=\"T_aa415_level0_col3\" class=\"col_heading level0 col3\" >Recall</th>\n",
       "      <th id=\"T_aa415_level0_col4\" class=\"col_heading level0 col4\" >Prec.</th>\n",
       "      <th id=\"T_aa415_level0_col5\" class=\"col_heading level0 col5\" >F1</th>\n",
       "      <th id=\"T_aa415_level0_col6\" class=\"col_heading level0 col6\" >Kappa</th>\n",
       "      <th id=\"T_aa415_level0_col7\" class=\"col_heading level0 col7\" >MCC</th>\n",
       "    </tr>\n",
       "  </thead>\n",
       "  <tbody>\n",
       "    <tr>\n",
       "      <th id=\"T_aa415_level0_row0\" class=\"row_heading level0 row0\" >0</th>\n",
       "      <td id=\"T_aa415_row0_col0\" class=\"data row0 col0\" >Random Forest Classifier</td>\n",
       "      <td id=\"T_aa415_row0_col1\" class=\"data row0 col1\" >0.5697</td>\n",
       "      <td id=\"T_aa415_row0_col2\" class=\"data row0 col2\" >0.5533</td>\n",
       "      <td id=\"T_aa415_row0_col3\" class=\"data row0 col3\" >0.7029</td>\n",
       "      <td id=\"T_aa415_row0_col4\" class=\"data row0 col4\" >0.6169</td>\n",
       "      <td id=\"T_aa415_row0_col5\" class=\"data row0 col5\" >0.6571</td>\n",
       "      <td id=\"T_aa415_row0_col6\" class=\"data row0 col6\" >0.0863</td>\n",
       "      <td id=\"T_aa415_row0_col7\" class=\"data row0 col7\" >0.0876</td>\n",
       "    </tr>\n",
       "  </tbody>\n",
       "</table>\n"
      ],
      "text/plain": [
       "<pandas.io.formats.style.Styler at 0x7f9587dfc970>"
      ]
     },
     "metadata": {},
     "output_type": "display_data"
    }
   ],
   "source": [
    "test_finalized_prediction_ada = predict_and_odds(test_data, regression_model_finalized_ada)\n",
    "test_finalized_prediction_gbc = predict_and_odds(test_data, regression_model_finalized_gbc)\n",
    "test_finalized_prediction_lightgbm = predict_and_odds(test_data, regression_model_finalized_lightgbm)\n",
    "test_finalized_prediction_rf = predict_and_odds(test_data, regression_model_finalized_rf)"
   ]
  },
  {
   "cell_type": "code",
   "execution_count": 116,
   "metadata": {
    "execution": {
     "iopub.execute_input": "2023-06-27T04:39:09.821332Z",
     "iopub.status.busy": "2023-06-27T04:39:09.821083Z",
     "iopub.status.idle": "2023-06-27T04:39:09.837323Z",
     "shell.execute_reply": "2023-06-27T04:39:09.836752Z",
     "shell.execute_reply.started": "2023-06-27T04:39:09.821306Z"
    }
   },
   "outputs": [
    {
     "name": "stdout",
     "output_type": "stream",
     "text": [
      "(0, nan)\n",
      "(0, nan)\n",
      "(0, nan)\n",
      "(0, nan)\n",
      "(0, nan)\n"
     ]
    }
   ],
   "source": [
    "print(get_eval_profile(test_finalized_prediction_ada, 0.6))\n",
    "print(get_eval_profile(test_finalized_prediction_ada, 0.7))\n",
    "print(get_eval_profile(test_finalized_prediction_ada, 0.75))\n",
    "print(get_eval_profile(test_finalized_prediction_ada, 0.80))\n",
    "print(get_eval_profile(test_finalized_prediction_ada, 0.85))"
   ]
  },
  {
   "cell_type": "code",
   "execution_count": 117,
   "metadata": {
    "execution": {
     "iopub.execute_input": "2023-06-27T04:39:09.838464Z",
     "iopub.status.busy": "2023-06-27T04:39:09.838308Z",
     "iopub.status.idle": "2023-06-27T04:39:09.887119Z",
     "shell.execute_reply": "2023-06-27T04:39:09.885978Z",
     "shell.execute_reply.started": "2023-06-27T04:39:09.838451Z"
    }
   },
   "outputs": [
    {
     "name": "stdout",
     "output_type": "stream",
     "text": [
      "(146, 0.5958904109589042)\n",
      "(36, 0.6111111111111112)\n",
      "(9, 0.6666666666666666)\n",
      "(4, 0.75)\n",
      "(0, nan)\n"
     ]
    }
   ],
   "source": [
    "print(get_eval_profile(test_finalized_prediction_gbc, 0.6))\n",
    "print(get_eval_profile(test_finalized_prediction_gbc, 0.7))\n",
    "print(get_eval_profile(test_finalized_prediction_gbc, 0.75))\n",
    "print(get_eval_profile(test_finalized_prediction_gbc, 0.80))\n",
    "print(get_eval_profile(test_finalized_prediction_gbc, 0.85))"
   ]
  },
  {
   "cell_type": "code",
   "execution_count": 118,
   "metadata": {
    "execution": {
     "iopub.execute_input": "2023-06-27T04:39:09.888551Z",
     "iopub.status.busy": "2023-06-27T04:39:09.888283Z",
     "iopub.status.idle": "2023-06-27T04:39:09.916963Z",
     "shell.execute_reply": "2023-06-27T04:39:09.915897Z",
     "shell.execute_reply.started": "2023-06-27T04:39:09.888524Z"
    }
   },
   "outputs": [
    {
     "name": "stdout",
     "output_type": "stream",
     "text": [
      "(140, 0.5928571428571429)\n",
      "(57, 0.6491228070175439)\n",
      "(25, 0.84)\n",
      "(10, 1.0)\n",
      "(4, 1.0)\n"
     ]
    }
   ],
   "source": [
    "print(get_eval_profile(test_finalized_prediction_lightgbm, 0.6))\n",
    "print(get_eval_profile(test_finalized_prediction_lightgbm, 0.7))\n",
    "print(get_eval_profile(test_finalized_prediction_lightgbm, 0.75))\n",
    "print(get_eval_profile(test_finalized_prediction_lightgbm, 0.80))\n",
    "print(get_eval_profile(test_finalized_prediction_lightgbm, 0.85))"
   ]
  },
  {
   "cell_type": "code",
   "execution_count": 119,
   "metadata": {
    "execution": {
     "iopub.execute_input": "2023-06-27T04:39:09.918722Z",
     "iopub.status.busy": "2023-06-27T04:39:09.918277Z",
     "iopub.status.idle": "2023-06-27T04:39:09.952278Z",
     "shell.execute_reply": "2023-06-27T04:39:09.950893Z",
     "shell.execute_reply.started": "2023-06-27T04:39:09.918672Z"
    }
   },
   "outputs": [
    {
     "name": "stdout",
     "output_type": "stream",
     "text": [
      "(150, 0.56)\n",
      "(50, 0.58)\n",
      "(27, 0.7407407407407407)\n",
      "(9, 0.7777777777777778)\n",
      "(3, 1.0)\n"
     ]
    }
   ],
   "source": [
    "print(get_eval_profile(test_finalized_prediction_rf, 0.6))\n",
    "print(get_eval_profile(test_finalized_prediction_rf, 0.7))\n",
    "print(get_eval_profile(test_finalized_prediction_rf, 0.75))\n",
    "print(get_eval_profile(test_finalized_prediction_rf, 0.80))\n",
    "print(get_eval_profile(test_finalized_prediction_rf, 0.85))"
   ]
  },
  {
   "cell_type": "markdown",
   "metadata": {},
   "source": [
    "**Save Model**"
   ]
  },
  {
   "cell_type": "code",
   "execution_count": 121,
   "metadata": {
    "execution": {
     "iopub.execute_input": "2023-06-27T04:42:02.772289Z",
     "iopub.status.busy": "2023-06-27T04:42:02.771934Z",
     "iopub.status.idle": "2023-06-27T04:42:02.977001Z",
     "shell.execute_reply": "2023-06-27T04:42:02.976245Z",
     "shell.execute_reply.started": "2023-06-27T04:42:02.772259Z"
    }
   },
   "outputs": [
    {
     "name": "stdout",
     "output_type": "stream",
     "text": [
      "Transformation Pipeline and Model Successfully Saved\n"
     ]
    },
    {
     "data": {
      "text/plain": [
       "(Pipeline(memory=FastMemory(location=/tmp/joblib),\n",
       "          steps=[('numerical_imputer',\n",
       "                  TransformerWrapper(exclude=None,\n",
       "                                     include=['pitching_gamesPlayed',\n",
       "                                              'pitching_runs_per_game',\n",
       "                                              'pitching_strikeOuts_per_game',\n",
       "                                              'pitching_hits_per_game',\n",
       "                                              'batting_gamesPlayed',\n",
       "                                              'batting_runs_per_game',\n",
       "                                              'batting_strikeOuts_per_game',\n",
       "                                              'batting_hits_per_game',\n",
       "                                              'batting_rbi',\n",
       "                                              'pitching_cur_...\n",
       "                                                       colsample_bytree=1.0,\n",
       "                                                       importance_type='split',\n",
       "                                                       learning_rate=0.1,\n",
       "                                                       max_depth=-1,\n",
       "                                                       min_child_samples=20,\n",
       "                                                       min_child_weight=0.001,\n",
       "                                                       min_split_gain=0.0,\n",
       "                                                       n_estimators=100,\n",
       "                                                       n_jobs=-1, num_leaves=31,\n",
       "                                                       objective=None,\n",
       "                                                       probability_threshold=0.5,\n",
       "                                                       random_state=3031,\n",
       "                                                       reg_alpha=0.0,\n",
       "                                                       reg_lambda=0.0,\n",
       "                                                       silent='warn',\n",
       "                                                       subsample=1.0,\n",
       "                                                       subsample_for_bin=200000,\n",
       "                                                       subsample_freq=0))],\n",
       "          verbose=False),\n",
       " 'model/batter_hit_regression_model.pkl')"
      ]
     },
     "execution_count": 121,
     "metadata": {},
     "output_type": "execute_result"
    }
   ],
   "source": [
    "pycaret.classification.save_model(regression_model_finalized_lightgbm, model.common.model_file_name)"
   ]
  },
  {
   "cell_type": "code",
   "execution_count": null,
   "metadata": {},
   "outputs": [],
   "source": []
  }
 ],
 "metadata": {
  "colab": {
   "provenance": []
  },
  "kernelspec": {
   "display_name": "Python 3 (ipykernel)",
   "language": "python",
   "name": "python3"
  },
  "language_info": {
   "codemirror_mode": {
    "name": "ipython",
    "version": 3
   },
   "file_extension": ".py",
   "mimetype": "text/x-python",
   "name": "python",
   "nbconvert_exporter": "python",
   "pygments_lexer": "ipython3",
   "version": "3.10.6"
  },
  "widgets": {
   "application/vnd.jupyter.widget-state+json": {
    "1ac32fe9102d4f5a9d1511e64a1d5e5d": {
     "model_module": "@jupyter-widgets/base",
     "model_module_version": "1.2.0",
     "model_name": "LayoutModel",
     "state": {
      "_model_module": "@jupyter-widgets/base",
      "_model_module_version": "1.2.0",
      "_model_name": "LayoutModel",
      "_view_count": null,
      "_view_module": "@jupyter-widgets/base",
      "_view_module_version": "1.2.0",
      "_view_name": "LayoutView",
      "align_content": null,
      "align_items": null,
      "align_self": null,
      "border": null,
      "bottom": null,
      "display": null,
      "flex": null,
      "flex_flow": null,
      "grid_area": null,
      "grid_auto_columns": null,
      "grid_auto_flow": null,
      "grid_auto_rows": null,
      "grid_column": null,
      "grid_gap": null,
      "grid_row": null,
      "grid_template_areas": null,
      "grid_template_columns": null,
      "grid_template_rows": null,
      "height": null,
      "justify_content": null,
      "justify_items": null,
      "left": null,
      "margin": null,
      "max_height": null,
      "max_width": null,
      "min_height": null,
      "min_width": null,
      "object_fit": null,
      "object_position": null,
      "order": null,
      "overflow": null,
      "overflow_x": null,
      "overflow_y": null,
      "padding": null,
      "right": null,
      "top": null,
      "visibility": null,
      "width": null
     }
    },
    "40b50c57e470496cb6c94a0693636fd7": {
     "model_module": "@jupyter-widgets/base",
     "model_module_version": "1.2.0",
     "model_name": "LayoutModel",
     "state": {
      "_model_module": "@jupyter-widgets/base",
      "_model_module_version": "1.2.0",
      "_model_name": "LayoutModel",
      "_view_count": null,
      "_view_module": "@jupyter-widgets/base",
      "_view_module_version": "1.2.0",
      "_view_name": "LayoutView",
      "align_content": null,
      "align_items": null,
      "align_self": null,
      "border": null,
      "bottom": null,
      "display": null,
      "flex": null,
      "flex_flow": null,
      "grid_area": null,
      "grid_auto_columns": null,
      "grid_auto_flow": null,
      "grid_auto_rows": null,
      "grid_column": null,
      "grid_gap": null,
      "grid_row": null,
      "grid_template_areas": null,
      "grid_template_columns": null,
      "grid_template_rows": null,
      "height": null,
      "justify_content": null,
      "justify_items": null,
      "left": null,
      "margin": null,
      "max_height": null,
      "max_width": null,
      "min_height": null,
      "min_width": null,
      "object_fit": null,
      "object_position": null,
      "order": null,
      "overflow": null,
      "overflow_x": null,
      "overflow_y": null,
      "padding": null,
      "right": null,
      "top": null,
      "visibility": "hidden",
      "width": null
     }
    },
    "46b9d3b6cd6e4f76a42dd4f216dc1644": {
     "model_module": "@jupyter-widgets/controls",
     "model_module_version": "1.5.0",
     "model_name": "HBoxModel",
     "state": {
      "_dom_classes": [],
      "_model_module": "@jupyter-widgets/controls",
      "_model_module_version": "1.5.0",
      "_model_name": "HBoxModel",
      "_view_count": null,
      "_view_module": "@jupyter-widgets/controls",
      "_view_module_version": "1.5.0",
      "_view_name": "HBoxView",
      "box_style": "",
      "children": [
       "IPY_MODEL_cfce22755aa7471a87151793e633def1",
       "IPY_MODEL_94d7b3dc65544425b2463933c4108fa4",
       "IPY_MODEL_f92582f04a594f87a669f3c1c4d4eabc"
      ],
      "layout": "IPY_MODEL_40b50c57e470496cb6c94a0693636fd7"
     }
    },
    "4efa6d0ab419418ea9e4991c77b1ec42": {
     "model_module": "@jupyter-widgets/controls",
     "model_module_version": "1.5.0",
     "model_name": "ProgressStyleModel",
     "state": {
      "_model_module": "@jupyter-widgets/controls",
      "_model_module_version": "1.5.0",
      "_model_name": "ProgressStyleModel",
      "_view_count": null,
      "_view_module": "@jupyter-widgets/base",
      "_view_module_version": "1.2.0",
      "_view_name": "StyleView",
      "bar_color": null,
      "description_width": ""
     }
    },
    "81feddb738c64cbc8b7dbc7aec2730de": {
     "model_module": "@jupyter-widgets/controls",
     "model_module_version": "1.5.0",
     "model_name": "DescriptionStyleModel",
     "state": {
      "_model_module": "@jupyter-widgets/controls",
      "_model_module_version": "1.5.0",
      "_model_name": "DescriptionStyleModel",
      "_view_count": null,
      "_view_module": "@jupyter-widgets/base",
      "_view_module_version": "1.2.0",
      "_view_name": "StyleView",
      "description_width": ""
     }
    },
    "94d7b3dc65544425b2463933c4108fa4": {
     "model_module": "@jupyter-widgets/controls",
     "model_module_version": "1.5.0",
     "model_name": "FloatProgressModel",
     "state": {
      "_dom_classes": [],
      "_model_module": "@jupyter-widgets/controls",
      "_model_module_version": "1.5.0",
      "_model_name": "FloatProgressModel",
      "_view_count": null,
      "_view_module": "@jupyter-widgets/controls",
      "_view_module_version": "1.5.0",
      "_view_name": "ProgressView",
      "bar_style": "",
      "description": "",
      "description_tooltip": null,
      "layout": "IPY_MODEL_eb74dfbcca4a458eb81d87fbae5bf166",
      "max": 4,
      "min": 0,
      "orientation": "horizontal",
      "style": "IPY_MODEL_4efa6d0ab419418ea9e4991c77b1ec42",
      "value": 4
     }
    },
    "bec03081ad154466a3a0abca5a8462f4": {
     "model_module": "@jupyter-widgets/base",
     "model_module_version": "1.2.0",
     "model_name": "LayoutModel",
     "state": {
      "_model_module": "@jupyter-widgets/base",
      "_model_module_version": "1.2.0",
      "_model_name": "LayoutModel",
      "_view_count": null,
      "_view_module": "@jupyter-widgets/base",
      "_view_module_version": "1.2.0",
      "_view_name": "LayoutView",
      "align_content": null,
      "align_items": null,
      "align_self": null,
      "border": null,
      "bottom": null,
      "display": null,
      "flex": null,
      "flex_flow": null,
      "grid_area": null,
      "grid_auto_columns": null,
      "grid_auto_flow": null,
      "grid_auto_rows": null,
      "grid_column": null,
      "grid_gap": null,
      "grid_row": null,
      "grid_template_areas": null,
      "grid_template_columns": null,
      "grid_template_rows": null,
      "height": null,
      "justify_content": null,
      "justify_items": null,
      "left": null,
      "margin": null,
      "max_height": null,
      "max_width": null,
      "min_height": null,
      "min_width": null,
      "object_fit": null,
      "object_position": null,
      "order": null,
      "overflow": null,
      "overflow_x": null,
      "overflow_y": null,
      "padding": null,
      "right": null,
      "top": null,
      "visibility": null,
      "width": null
     }
    },
    "cfcd697393754f1d93106a2d6e07ea05": {
     "model_module": "@jupyter-widgets/controls",
     "model_module_version": "1.5.0",
     "model_name": "DescriptionStyleModel",
     "state": {
      "_model_module": "@jupyter-widgets/controls",
      "_model_module_version": "1.5.0",
      "_model_name": "DescriptionStyleModel",
      "_view_count": null,
      "_view_module": "@jupyter-widgets/base",
      "_view_module_version": "1.2.0",
      "_view_name": "StyleView",
      "description_width": ""
     }
    },
    "cfce22755aa7471a87151793e633def1": {
     "model_module": "@jupyter-widgets/controls",
     "model_module_version": "1.5.0",
     "model_name": "HTMLModel",
     "state": {
      "_dom_classes": [],
      "_model_module": "@jupyter-widgets/controls",
      "_model_module_version": "1.5.0",
      "_model_name": "HTMLModel",
      "_view_count": null,
      "_view_module": "@jupyter-widgets/controls",
      "_view_module_version": "1.5.0",
      "_view_name": "HTMLView",
      "description": "",
      "description_tooltip": null,
      "layout": "IPY_MODEL_bec03081ad154466a3a0abca5a8462f4",
      "placeholder": "​",
      "style": "IPY_MODEL_81feddb738c64cbc8b7dbc7aec2730de",
      "value": "Processing: 100%"
     }
    },
    "eb74dfbcca4a458eb81d87fbae5bf166": {
     "model_module": "@jupyter-widgets/base",
     "model_module_version": "1.2.0",
     "model_name": "LayoutModel",
     "state": {
      "_model_module": "@jupyter-widgets/base",
      "_model_module_version": "1.2.0",
      "_model_name": "LayoutModel",
      "_view_count": null,
      "_view_module": "@jupyter-widgets/base",
      "_view_module_version": "1.2.0",
      "_view_name": "LayoutView",
      "align_content": null,
      "align_items": null,
      "align_self": null,
      "border": null,
      "bottom": null,
      "display": null,
      "flex": null,
      "flex_flow": null,
      "grid_area": null,
      "grid_auto_columns": null,
      "grid_auto_flow": null,
      "grid_auto_rows": null,
      "grid_column": null,
      "grid_gap": null,
      "grid_row": null,
      "grid_template_areas": null,
      "grid_template_columns": null,
      "grid_template_rows": null,
      "height": null,
      "justify_content": null,
      "justify_items": null,
      "left": null,
      "margin": null,
      "max_height": null,
      "max_width": null,
      "min_height": null,
      "min_width": null,
      "object_fit": null,
      "object_position": null,
      "order": null,
      "overflow": null,
      "overflow_x": null,
      "overflow_y": null,
      "padding": null,
      "right": null,
      "top": null,
      "visibility": null,
      "width": null
     }
    },
    "f92582f04a594f87a669f3c1c4d4eabc": {
     "model_module": "@jupyter-widgets/controls",
     "model_module_version": "1.5.0",
     "model_name": "HTMLModel",
     "state": {
      "_dom_classes": [],
      "_model_module": "@jupyter-widgets/controls",
      "_model_module_version": "1.5.0",
      "_model_name": "HTMLModel",
      "_view_count": null,
      "_view_module": "@jupyter-widgets/controls",
      "_view_module_version": "1.5.0",
      "_view_name": "HTMLView",
      "description": "",
      "description_tooltip": null,
      "layout": "IPY_MODEL_1ac32fe9102d4f5a9d1511e64a1d5e5d",
      "placeholder": "​",
      "style": "IPY_MODEL_cfcd697393754f1d93106a2d6e07ea05",
      "value": " 4/4 [00:10&lt;00:00,  2.34s/it]"
     }
    }
   }
  }
 },
 "nbformat": 4,
 "nbformat_minor": 4
}
