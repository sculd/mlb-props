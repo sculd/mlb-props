{
 "cells": [
  {
   "cell_type": "markdown",
   "metadata": {
    "id": "X1V_SUC4p-YQ"
   },
   "source": [
    "**Import Packages**"
   ]
  },
  {
   "cell_type": "code",
   "execution_count": 1,
   "metadata": {
    "colab": {
     "base_uri": "https://localhost:8080/"
    },
    "execution": {
     "iopub.execute_input": "2023-06-07T00:18:51.320346Z",
     "iopub.status.busy": "2023-06-07T00:18:51.318375Z",
     "iopub.status.idle": "2023-06-07T00:18:54.652432Z",
     "shell.execute_reply": "2023-06-07T00:18:54.650772Z",
     "shell.execute_reply.started": "2023-06-07T00:18:51.320232Z"
    },
    "id": "IGZCa25_p5QY",
    "outputId": "d9e7f9d8-21e8-49dd-d344-173324ba79a5",
    "tags": []
   },
   "outputs": [],
   "source": [
    "import pycaret\n",
    "import pandas as pd\n",
    "import numpy as np\n",
    "import sqlalchemy\n",
    "import mysql.connector\n",
    "\n",
    "from pycaret import classification\n",
    "from pycaret.classification import plot_model\n",
    "from datetime import datetime\n",
    "import importlib\n",
    "import model.common"
   ]
  },
  {
   "cell_type": "code",
   "execution_count": 2,
   "metadata": {
    "execution": {
     "iopub.execute_input": "2023-06-07T00:18:54.656353Z",
     "iopub.status.busy": "2023-06-07T00:18:54.655377Z",
     "iopub.status.idle": "2023-06-07T00:18:54.750524Z",
     "shell.execute_reply": "2023-06-07T00:18:54.749302Z",
     "shell.execute_reply.started": "2023-06-07T00:18:54.656305Z"
    }
   },
   "outputs": [],
   "source": [
    "from static_data.load_static_data import *"
   ]
  },
  {
   "cell_type": "code",
   "execution_count": 3,
   "metadata": {
    "execution": {
     "iopub.execute_input": "2023-06-07T00:18:54.752180Z",
     "iopub.status.busy": "2023-06-07T00:18:54.751707Z",
     "iopub.status.idle": "2023-06-07T00:18:54.773628Z",
     "shell.execute_reply": "2023-06-07T00:18:54.772299Z",
     "shell.execute_reply.started": "2023-06-07T00:18:54.752147Z"
    }
   },
   "outputs": [
    {
     "data": {
      "text/html": [
       "<div>\n",
       "<style scoped>\n",
       "    .dataframe tbody tr th:only-of-type {\n",
       "        vertical-align: middle;\n",
       "    }\n",
       "\n",
       "    .dataframe tbody tr th {\n",
       "        vertical-align: top;\n",
       "    }\n",
       "\n",
       "    .dataframe thead th {\n",
       "        text-align: right;\n",
       "    }\n",
       "</style>\n",
       "<table border=\"1\" class=\"dataframe\">\n",
       "  <thead>\n",
       "    <tr style=\"text-align: right;\">\n",
       "      <th></th>\n",
       "      <th>Unnamed: 0</th>\n",
       "      <th>player_id</th>\n",
       "      <th>player_name</th>\n",
       "      <th>player_team_id</th>\n",
       "      <th>player_team_name</th>\n",
       "      <th>player_position</th>\n",
       "    </tr>\n",
       "  </thead>\n",
       "  <tbody>\n",
       "    <tr>\n",
       "      <th>0</th>\n",
       "      <td>0</td>\n",
       "      <td>456167</td>\n",
       "      <td>A.J. Griffin</td>\n",
       "      <td>133</td>\n",
       "      <td>Oakland Athletics</td>\n",
       "      <td>Pitcher</td>\n",
       "    </tr>\n",
       "    <tr>\n",
       "      <th>1</th>\n",
       "      <td>0</td>\n",
       "      <td>134460</td>\n",
       "      <td>A.J. Hinch</td>\n",
       "      <td>133</td>\n",
       "      <td>Oakland Athletics</td>\n",
       "      <td>Catcher</td>\n",
       "    </tr>\n",
       "    <tr>\n",
       "      <th>2</th>\n",
       "      <td>0</td>\n",
       "      <td>640462</td>\n",
       "      <td>A.J. Puk</td>\n",
       "      <td>133</td>\n",
       "      <td>Oakland Athletics</td>\n",
       "      <td>Pitcher</td>\n",
       "    </tr>\n",
       "    <tr>\n",
       "      <th>3</th>\n",
       "      <td>0</td>\n",
       "      <td>605156</td>\n",
       "      <td>Aaron Brooks</td>\n",
       "      <td>133</td>\n",
       "      <td>Oakland Athletics</td>\n",
       "      <td>Pitcher</td>\n",
       "    </tr>\n",
       "    <tr>\n",
       "      <th>4</th>\n",
       "      <td>0</td>\n",
       "      <td>488811</td>\n",
       "      <td>Aaron Cunningham</td>\n",
       "      <td>133</td>\n",
       "      <td>Oakland Athletics</td>\n",
       "      <td>Outfielder</td>\n",
       "    </tr>\n",
       "    <tr>\n",
       "      <th>...</th>\n",
       "      <td>...</td>\n",
       "      <td>...</td>\n",
       "      <td>...</td>\n",
       "      <td>...</td>\n",
       "      <td>...</td>\n",
       "      <td>...</td>\n",
       "    </tr>\n",
       "    <tr>\n",
       "      <th>44728</th>\n",
       "      <td>0</td>\n",
       "      <td>451596</td>\n",
       "      <td>Yovani Gallardo</td>\n",
       "      <td>113</td>\n",
       "      <td>Cincinnati Reds</td>\n",
       "      <td>Pitcher</td>\n",
       "    </tr>\n",
       "    <tr>\n",
       "      <th>44729</th>\n",
       "      <td>0</td>\n",
       "      <td>435043</td>\n",
       "      <td>Zach Duke</td>\n",
       "      <td>113</td>\n",
       "      <td>Cincinnati Reds</td>\n",
       "      <td>Pitcher</td>\n",
       "    </tr>\n",
       "    <tr>\n",
       "      <th>44730</th>\n",
       "      <td>0</td>\n",
       "      <td>572227</td>\n",
       "      <td>Zach Vincej</td>\n",
       "      <td>113</td>\n",
       "      <td>Cincinnati Reds</td>\n",
       "      <td>Infielder</td>\n",
       "    </tr>\n",
       "    <tr>\n",
       "      <th>44731</th>\n",
       "      <td>0</td>\n",
       "      <td>446359</td>\n",
       "      <td>Zack Cozart</td>\n",
       "      <td>113</td>\n",
       "      <td>Cincinnati Reds</td>\n",
       "      <td>Infielder</td>\n",
       "    </tr>\n",
       "    <tr>\n",
       "      <th>44732</th>\n",
       "      <td>0</td>\n",
       "      <td>592848</td>\n",
       "      <td>Zack Weiss</td>\n",
       "      <td>113</td>\n",
       "      <td>Cincinnati Reds</td>\n",
       "      <td>Pitcher</td>\n",
       "    </tr>\n",
       "  </tbody>\n",
       "</table>\n",
       "<p>44733 rows × 6 columns</p>\n",
       "</div>"
      ],
      "text/plain": [
       "       Unnamed: 0  player_id       player_name  player_team_id  \\\n",
       "0               0     456167      A.J. Griffin             133   \n",
       "1               0     134460        A.J. Hinch             133   \n",
       "2               0     640462          A.J. Puk             133   \n",
       "3               0     605156      Aaron Brooks             133   \n",
       "4               0     488811  Aaron Cunningham             133   \n",
       "...           ...        ...               ...             ...   \n",
       "44728           0     451596   Yovani Gallardo             113   \n",
       "44729           0     435043         Zach Duke             113   \n",
       "44730           0     572227       Zach Vincej             113   \n",
       "44731           0     446359       Zack Cozart             113   \n",
       "44732           0     592848        Zack Weiss             113   \n",
       "\n",
       "        player_team_name player_position  \n",
       "0      Oakland Athletics         Pitcher  \n",
       "1      Oakland Athletics         Catcher  \n",
       "2      Oakland Athletics         Pitcher  \n",
       "3      Oakland Athletics         Pitcher  \n",
       "4      Oakland Athletics      Outfielder  \n",
       "...                  ...             ...  \n",
       "44728    Cincinnati Reds         Pitcher  \n",
       "44729    Cincinnati Reds         Pitcher  \n",
       "44730    Cincinnati Reds       Infielder  \n",
       "44731    Cincinnati Reds       Infielder  \n",
       "44732    Cincinnati Reds         Pitcher  \n",
       "\n",
       "[44733 rows x 6 columns]"
      ]
     },
     "execution_count": 3,
     "metadata": {},
     "output_type": "execute_result"
    }
   ],
   "source": [
    "df_player_team_positions"
   ]
  },
  {
   "cell_type": "markdown",
   "metadata": {
    "id": "jqde2RQfqchC"
   },
   "source": [
    "**Load Data**"
   ]
  },
  {
   "cell_type": "code",
   "execution_count": 4,
   "metadata": {
    "execution": {
     "iopub.execute_input": "2023-06-07T00:18:54.777041Z",
     "iopub.status.busy": "2023-06-07T00:18:54.776433Z",
     "iopub.status.idle": "2023-06-07T00:18:54.783540Z",
     "shell.execute_reply": "2023-06-07T00:18:54.781715Z",
     "shell.execute_reply.started": "2023-06-07T00:18:54.777003Z"
    }
   },
   "outputs": [],
   "source": [
    "collect_data_Base_dir = 'collect_data'"
   ]
  },
  {
   "cell_type": "code",
   "execution_count": 5,
   "metadata": {
    "execution": {
     "iopub.execute_input": "2023-06-07T00:18:54.785972Z",
     "iopub.status.busy": "2023-06-07T00:18:54.785304Z",
     "iopub.status.idle": "2023-06-07T00:18:55.499085Z",
     "shell.execute_reply": "2023-06-07T00:18:55.497679Z",
     "shell.execute_reply.started": "2023-06-07T00:18:54.785913Z"
    }
   },
   "outputs": [
    {
     "name": "stdout",
     "output_type": "stream",
     "text": [
      "322963\n"
     ]
    }
   ],
   "source": [
    "df_game_matchup_total = pd.read_pickle(f'{collect_data_Base_dir}/df_game_matchup_total.pkl')\n",
    "print(len(df_game_matchup_total))"
   ]
  },
  {
   "cell_type": "markdown",
   "metadata": {
    "id": "VkSM5TOeule8"
   },
   "source": [
    "**Clean Data**"
   ]
  },
  {
   "cell_type": "code",
   "execution_count": 202,
   "metadata": {
    "execution": {
     "iopub.execute_input": "2023-06-07T01:46:17.489548Z",
     "iopub.status.busy": "2023-06-07T01:46:17.488362Z",
     "iopub.status.idle": "2023-06-07T01:46:17.507002Z",
     "shell.execute_reply": "2023-06-07T01:46:17.506472Z",
     "shell.execute_reply.started": "2023-06-07T01:46:17.489475Z"
    }
   },
   "outputs": [
    {
     "data": {
      "text/plain": [
       "<module 'model.common' from '/home/junlim/projects/mlb-props/model/common.py'>"
      ]
     },
     "execution_count": 202,
     "metadata": {},
     "output_type": "execute_result"
    }
   ],
   "source": [
    "importlib.reload(model.common)"
   ]
  },
  {
   "cell_type": "code",
   "execution_count": 181,
   "metadata": {
    "execution": {
     "iopub.execute_input": "2023-06-07T01:39:17.549678Z",
     "iopub.status.busy": "2023-06-07T01:39:17.549115Z",
     "iopub.status.idle": "2023-06-07T01:39:17.557916Z",
     "shell.execute_reply": "2023-06-07T01:39:17.557068Z",
     "shell.execute_reply.started": "2023-06-07T01:39:17.549648Z"
    }
   },
   "outputs": [
    {
     "data": {
      "text/plain": [
       "['game_venue', 'batting_name', 'pitching_name']"
      ]
     },
     "execution_count": 181,
     "metadata": {},
     "output_type": "execute_result"
    }
   ],
   "source": [
    "model.common.categorical_features"
   ]
  },
  {
   "cell_type": "code",
   "execution_count": 203,
   "metadata": {
    "execution": {
     "iopub.execute_input": "2023-06-07T01:46:19.254326Z",
     "iopub.status.busy": "2023-06-07T01:46:19.253846Z",
     "iopub.status.idle": "2023-06-07T01:46:19.522444Z",
     "shell.execute_reply": "2023-06-07T01:46:19.521152Z",
     "shell.execute_reply.started": "2023-06-07T01:46:19.254286Z"
    }
   },
   "outputs": [],
   "source": [
    "train_data = df_game_matchup_total[(df_game_matchup_total.game_date > \"2012-04-01\") & (df_game_matchup_total.game_date < \"2022-12-01\")][model.common.features]\n",
    "test_data = df_game_matchup_total[(df_game_matchup_total.game_date > \"2022-12-01\")][model.common.features]"
   ]
  },
  {
   "cell_type": "code",
   "execution_count": 204,
   "metadata": {
    "execution": {
     "iopub.execute_input": "2023-06-07T01:46:19.702943Z",
     "iopub.status.busy": "2023-06-07T01:46:19.702378Z",
     "iopub.status.idle": "2023-06-07T01:46:19.711062Z",
     "shell.execute_reply": "2023-06-07T01:46:19.709965Z",
     "shell.execute_reply.started": "2023-06-07T01:46:19.702917Z"
    }
   },
   "outputs": [
    {
     "data": {
      "text/plain": [
       "Index(['pitching_gamesPlayed', 'pitching_runs_per_game',\n",
       "       'pitching_strikeOuts_per_game', 'pitching_hits_per_game', 'pitching_id',\n",
       "       'batting_name', 'batting_gamesPlayed', 'batting_runs_per_game',\n",
       "       'batting_strikeOuts_per_game', 'batting_hits_per_game', 'batting_rbi',\n",
       "       'batting_id', 'pitching_name', 'batting_hit_recorded',\n",
       "       'pitching_cur_season_runs_per_game',\n",
       "       'pitching_cur_season_strikeOuts_per_game',\n",
       "       'pitching_cur_season_hits_per_game', 'batting_cur_season_runs_per_game',\n",
       "       'batting_cur_season_strikeOuts_per_game',\n",
       "       'batting_cur_season_hits_per_game', 'temp', 'game_venue', 'game_date',\n",
       "       'game_year'],\n",
       "      dtype='object')"
      ]
     },
     "execution_count": 204,
     "metadata": {},
     "output_type": "execute_result"
    }
   ],
   "source": [
    "train_data.columns"
   ]
  },
  {
   "cell_type": "code",
   "execution_count": 205,
   "metadata": {
    "execution": {
     "iopub.execute_input": "2023-06-07T01:46:26.688998Z",
     "iopub.status.busy": "2023-06-07T01:46:26.688779Z",
     "iopub.status.idle": "2023-06-07T01:46:26.693973Z",
     "shell.execute_reply": "2023-06-07T01:46:26.693477Z",
     "shell.execute_reply.started": "2023-06-07T01:46:26.688982Z"
    }
   },
   "outputs": [
    {
     "data": {
      "text/plain": [
       "Index(['pitching_gamesPlayed', 'pitching_runs_per_game',\n",
       "       'pitching_strikeOuts_per_game', 'pitching_hits_per_game', 'pitching_id',\n",
       "       'batting_name', 'batting_gamesPlayed', 'batting_runs_per_game',\n",
       "       'batting_strikeOuts_per_game', 'batting_hits_per_game', 'batting_rbi',\n",
       "       'batting_id', 'pitching_name', 'batting_hit_recorded',\n",
       "       'pitching_cur_season_runs_per_game',\n",
       "       'pitching_cur_season_strikeOuts_per_game',\n",
       "       'pitching_cur_season_hits_per_game', 'batting_cur_season_runs_per_game',\n",
       "       'batting_cur_season_strikeOuts_per_game',\n",
       "       'batting_cur_season_hits_per_game', 'temp', 'game_venue', 'game_date',\n",
       "       'game_year'],\n",
       "      dtype='object')"
      ]
     },
     "execution_count": 205,
     "metadata": {},
     "output_type": "execute_result"
    }
   ],
   "source": [
    "test_data.columns"
   ]
  },
  {
   "cell_type": "code",
   "execution_count": 206,
   "metadata": {
    "execution": {
     "iopub.execute_input": "2023-06-07T01:46:28.359578Z",
     "iopub.status.busy": "2023-06-07T01:46:28.359346Z",
     "iopub.status.idle": "2023-06-07T01:46:28.364264Z",
     "shell.execute_reply": "2023-06-07T01:46:28.363494Z",
     "shell.execute_reply.started": "2023-06-07T01:46:28.359562Z"
    }
   },
   "outputs": [
    {
     "data": {
      "text/plain": [
       "['game_venue', 'batting_name', 'pitching_name']"
      ]
     },
     "execution_count": 206,
     "metadata": {},
     "output_type": "execute_result"
    }
   ],
   "source": [
    "model.common.categorical_features"
   ]
  },
  {
   "cell_type": "code",
   "execution_count": 207,
   "metadata": {
    "execution": {
     "iopub.execute_input": "2023-06-07T01:46:28.506475Z",
     "iopub.status.busy": "2023-06-07T01:46:28.505759Z",
     "iopub.status.idle": "2023-06-07T01:46:28.515884Z",
     "shell.execute_reply": "2023-06-07T01:46:28.514690Z",
     "shell.execute_reply.started": "2023-06-07T01:46:28.506439Z"
    }
   },
   "outputs": [
    {
     "data": {
      "text/plain": [
       "['pitching_id', 'batting_id', 'game_date', 'game_year']"
      ]
     },
     "execution_count": 207,
     "metadata": {},
     "output_type": "execute_result"
    }
   ],
   "source": [
    "model.common.ignore_features"
   ]
  },
  {
   "cell_type": "markdown",
   "metadata": {
    "id": "-0Pi_iCwvTQd"
   },
   "source": [
    "**Model Setup**"
   ]
  },
  {
   "cell_type": "code",
   "execution_count": 187,
   "metadata": {
    "execution": {
     "iopub.execute_input": "2023-06-07T01:39:18.606340Z",
     "iopub.status.busy": "2023-06-07T01:39:18.605918Z",
     "iopub.status.idle": "2023-06-07T01:39:21.958253Z",
     "shell.execute_reply": "2023-06-07T01:39:21.956757Z",
     "shell.execute_reply.started": "2023-06-07T01:39:18.606313Z"
    },
    "scrolled": true
   },
   "outputs": [
    {
     "data": {
      "text/html": [
       "<style type=\"text/css\">\n",
       "#T_40ff6_row11_col1 {\n",
       "  background-color: lightgreen;\n",
       "}\n",
       "</style>\n",
       "<table id=\"T_40ff6\">\n",
       "  <thead>\n",
       "    <tr>\n",
       "      <th class=\"blank level0\" >&nbsp;</th>\n",
       "      <th id=\"T_40ff6_level0_col0\" class=\"col_heading level0 col0\" >Description</th>\n",
       "      <th id=\"T_40ff6_level0_col1\" class=\"col_heading level0 col1\" >Value</th>\n",
       "    </tr>\n",
       "  </thead>\n",
       "  <tbody>\n",
       "    <tr>\n",
       "      <th id=\"T_40ff6_level0_row0\" class=\"row_heading level0 row0\" >0</th>\n",
       "      <td id=\"T_40ff6_row0_col0\" class=\"data row0 col0\" >Session id</td>\n",
       "      <td id=\"T_40ff6_row0_col1\" class=\"data row0 col1\" >7260</td>\n",
       "    </tr>\n",
       "    <tr>\n",
       "      <th id=\"T_40ff6_level0_row1\" class=\"row_heading level0 row1\" >1</th>\n",
       "      <td id=\"T_40ff6_row1_col0\" class=\"data row1 col0\" >Target</td>\n",
       "      <td id=\"T_40ff6_row1_col1\" class=\"data row1 col1\" >batting_hit_recorded</td>\n",
       "    </tr>\n",
       "    <tr>\n",
       "      <th id=\"T_40ff6_level0_row2\" class=\"row_heading level0 row2\" >2</th>\n",
       "      <td id=\"T_40ff6_row2_col0\" class=\"data row2 col0\" >Target type</td>\n",
       "      <td id=\"T_40ff6_row2_col1\" class=\"data row2 col1\" >Binary</td>\n",
       "    </tr>\n",
       "    <tr>\n",
       "      <th id=\"T_40ff6_level0_row3\" class=\"row_heading level0 row3\" >3</th>\n",
       "      <td id=\"T_40ff6_row3_col0\" class=\"data row3 col0\" >Original data shape</td>\n",
       "      <td id=\"T_40ff6_row3_col1\" class=\"data row3 col1\" >(285515, 24)</td>\n",
       "    </tr>\n",
       "    <tr>\n",
       "      <th id=\"T_40ff6_level0_row4\" class=\"row_heading level0 row4\" >4</th>\n",
       "      <td id=\"T_40ff6_row4_col0\" class=\"data row4 col0\" >Transformed data shape</td>\n",
       "      <td id=\"T_40ff6_row4_col1\" class=\"data row4 col1\" >(285515, 18)</td>\n",
       "    </tr>\n",
       "    <tr>\n",
       "      <th id=\"T_40ff6_level0_row5\" class=\"row_heading level0 row5\" >5</th>\n",
       "      <td id=\"T_40ff6_row5_col0\" class=\"data row5 col0\" >Transformed train set shape</td>\n",
       "      <td id=\"T_40ff6_row5_col1\" class=\"data row5 col1\" >(199860, 18)</td>\n",
       "    </tr>\n",
       "    <tr>\n",
       "      <th id=\"T_40ff6_level0_row6\" class=\"row_heading level0 row6\" >6</th>\n",
       "      <td id=\"T_40ff6_row6_col0\" class=\"data row6 col0\" >Transformed test set shape</td>\n",
       "      <td id=\"T_40ff6_row6_col1\" class=\"data row6 col1\" >(85655, 18)</td>\n",
       "    </tr>\n",
       "    <tr>\n",
       "      <th id=\"T_40ff6_level0_row7\" class=\"row_heading level0 row7\" >7</th>\n",
       "      <td id=\"T_40ff6_row7_col0\" class=\"data row7 col0\" >Ignore features</td>\n",
       "      <td id=\"T_40ff6_row7_col1\" class=\"data row7 col1\" >6</td>\n",
       "    </tr>\n",
       "    <tr>\n",
       "      <th id=\"T_40ff6_level0_row8\" class=\"row_heading level0 row8\" >8</th>\n",
       "      <td id=\"T_40ff6_row8_col0\" class=\"data row8 col0\" >Numeric features</td>\n",
       "      <td id=\"T_40ff6_row8_col1\" class=\"data row8 col1\" >16</td>\n",
       "    </tr>\n",
       "    <tr>\n",
       "      <th id=\"T_40ff6_level0_row9\" class=\"row_heading level0 row9\" >9</th>\n",
       "      <td id=\"T_40ff6_row9_col0\" class=\"data row9 col0\" >Categorical features</td>\n",
       "      <td id=\"T_40ff6_row9_col1\" class=\"data row9 col1\" >1</td>\n",
       "    </tr>\n",
       "    <tr>\n",
       "      <th id=\"T_40ff6_level0_row10\" class=\"row_heading level0 row10\" >10</th>\n",
       "      <td id=\"T_40ff6_row10_col0\" class=\"data row10 col0\" >Rows with missing values</td>\n",
       "      <td id=\"T_40ff6_row10_col1\" class=\"data row10 col1\" >0.0%</td>\n",
       "    </tr>\n",
       "    <tr>\n",
       "      <th id=\"T_40ff6_level0_row11\" class=\"row_heading level0 row11\" >11</th>\n",
       "      <td id=\"T_40ff6_row11_col0\" class=\"data row11 col0\" >Preprocess</td>\n",
       "      <td id=\"T_40ff6_row11_col1\" class=\"data row11 col1\" >True</td>\n",
       "    </tr>\n",
       "    <tr>\n",
       "      <th id=\"T_40ff6_level0_row12\" class=\"row_heading level0 row12\" >12</th>\n",
       "      <td id=\"T_40ff6_row12_col0\" class=\"data row12 col0\" >Imputation type</td>\n",
       "      <td id=\"T_40ff6_row12_col1\" class=\"data row12 col1\" >simple</td>\n",
       "    </tr>\n",
       "    <tr>\n",
       "      <th id=\"T_40ff6_level0_row13\" class=\"row_heading level0 row13\" >13</th>\n",
       "      <td id=\"T_40ff6_row13_col0\" class=\"data row13 col0\" >Numeric imputation</td>\n",
       "      <td id=\"T_40ff6_row13_col1\" class=\"data row13 col1\" >mean</td>\n",
       "    </tr>\n",
       "    <tr>\n",
       "      <th id=\"T_40ff6_level0_row14\" class=\"row_heading level0 row14\" >14</th>\n",
       "      <td id=\"T_40ff6_row14_col0\" class=\"data row14 col0\" >Categorical imputation</td>\n",
       "      <td id=\"T_40ff6_row14_col1\" class=\"data row14 col1\" >mode</td>\n",
       "    </tr>\n",
       "    <tr>\n",
       "      <th id=\"T_40ff6_level0_row15\" class=\"row_heading level0 row15\" >15</th>\n",
       "      <td id=\"T_40ff6_row15_col0\" class=\"data row15 col0\" >Maximum one-hot encoding</td>\n",
       "      <td id=\"T_40ff6_row15_col1\" class=\"data row15 col1\" >25</td>\n",
       "    </tr>\n",
       "    <tr>\n",
       "      <th id=\"T_40ff6_level0_row16\" class=\"row_heading level0 row16\" >16</th>\n",
       "      <td id=\"T_40ff6_row16_col0\" class=\"data row16 col0\" >Encoding method</td>\n",
       "      <td id=\"T_40ff6_row16_col1\" class=\"data row16 col1\" >None</td>\n",
       "    </tr>\n",
       "    <tr>\n",
       "      <th id=\"T_40ff6_level0_row17\" class=\"row_heading level0 row17\" >17</th>\n",
       "      <td id=\"T_40ff6_row17_col0\" class=\"data row17 col0\" >Fold Generator</td>\n",
       "      <td id=\"T_40ff6_row17_col1\" class=\"data row17 col1\" >StratifiedKFold</td>\n",
       "    </tr>\n",
       "    <tr>\n",
       "      <th id=\"T_40ff6_level0_row18\" class=\"row_heading level0 row18\" >18</th>\n",
       "      <td id=\"T_40ff6_row18_col0\" class=\"data row18 col0\" >Fold Number</td>\n",
       "      <td id=\"T_40ff6_row18_col1\" class=\"data row18 col1\" >10</td>\n",
       "    </tr>\n",
       "    <tr>\n",
       "      <th id=\"T_40ff6_level0_row19\" class=\"row_heading level0 row19\" >19</th>\n",
       "      <td id=\"T_40ff6_row19_col0\" class=\"data row19 col0\" >CPU Jobs</td>\n",
       "      <td id=\"T_40ff6_row19_col1\" class=\"data row19 col1\" >-1</td>\n",
       "    </tr>\n",
       "    <tr>\n",
       "      <th id=\"T_40ff6_level0_row20\" class=\"row_heading level0 row20\" >20</th>\n",
       "      <td id=\"T_40ff6_row20_col0\" class=\"data row20 col0\" >Use GPU</td>\n",
       "      <td id=\"T_40ff6_row20_col1\" class=\"data row20 col1\" >False</td>\n",
       "    </tr>\n",
       "    <tr>\n",
       "      <th id=\"T_40ff6_level0_row21\" class=\"row_heading level0 row21\" >21</th>\n",
       "      <td id=\"T_40ff6_row21_col0\" class=\"data row21 col0\" >Log Experiment</td>\n",
       "      <td id=\"T_40ff6_row21_col1\" class=\"data row21 col1\" >False</td>\n",
       "    </tr>\n",
       "    <tr>\n",
       "      <th id=\"T_40ff6_level0_row22\" class=\"row_heading level0 row22\" >22</th>\n",
       "      <td id=\"T_40ff6_row22_col0\" class=\"data row22 col0\" >Experiment Name</td>\n",
       "      <td id=\"T_40ff6_row22_col1\" class=\"data row22 col1\" >clf-default-name</td>\n",
       "    </tr>\n",
       "    <tr>\n",
       "      <th id=\"T_40ff6_level0_row23\" class=\"row_heading level0 row23\" >23</th>\n",
       "      <td id=\"T_40ff6_row23_col0\" class=\"data row23 col0\" >USI</td>\n",
       "      <td id=\"T_40ff6_row23_col1\" class=\"data row23 col1\" >74c6</td>\n",
       "    </tr>\n",
       "  </tbody>\n",
       "</table>\n"
      ],
      "text/plain": [
       "<pandas.io.formats.style.Styler at 0x7f314ab27250>"
      ]
     },
     "metadata": {},
     "output_type": "display_data"
    }
   ],
   "source": [
    "classification_setup = pycaret.classification.setup(\n",
    "    data = train_data, target = \"batting_hit_recorded\", train_size = .70, use_gpu = False, \n",
    "    categorical_features = ['game_venue'], ignore_features = model.common.ignore_features + ['batting_name', 'pitching_name'])"
   ]
  },
  {
   "cell_type": "markdown",
   "metadata": {
    "id": "Qxoqal-SvwXp"
   },
   "source": [
    "**Build/Train Model**"
   ]
  },
  {
   "cell_type": "code",
   "execution_count": 188,
   "metadata": {
    "execution": {
     "iopub.execute_input": "2023-06-07T01:39:21.961194Z",
     "iopub.status.busy": "2023-06-07T01:39:21.960811Z",
     "iopub.status.idle": "2023-06-07T01:41:47.815958Z",
     "shell.execute_reply": "2023-06-07T01:41:47.814206Z",
     "shell.execute_reply.started": "2023-06-07T01:39:21.961172Z"
    }
   },
   "outputs": [
    {
     "data": {
      "text/html": [],
      "text/plain": [
       "<IPython.core.display.HTML object>"
      ]
     },
     "metadata": {},
     "output_type": "display_data"
    },
    {
     "data": {
      "text/html": [
       "<style type=\"text/css\">\n",
       "#T_4fa79_row10_col0, #T_4fa79_row10_col1, #T_4fa79_row10_col2, #T_4fa79_row10_col3, #T_4fa79_row10_col4, #T_4fa79_row10_col5, #T_4fa79_row10_col6 {\n",
       "  background: yellow;\n",
       "}\n",
       "</style>\n",
       "<table id=\"T_4fa79\">\n",
       "  <thead>\n",
       "    <tr>\n",
       "      <th class=\"blank level0\" >&nbsp;</th>\n",
       "      <th id=\"T_4fa79_level0_col0\" class=\"col_heading level0 col0\" >Accuracy</th>\n",
       "      <th id=\"T_4fa79_level0_col1\" class=\"col_heading level0 col1\" >AUC</th>\n",
       "      <th id=\"T_4fa79_level0_col2\" class=\"col_heading level0 col2\" >Recall</th>\n",
       "      <th id=\"T_4fa79_level0_col3\" class=\"col_heading level0 col3\" >Prec.</th>\n",
       "      <th id=\"T_4fa79_level0_col4\" class=\"col_heading level0 col4\" >F1</th>\n",
       "      <th id=\"T_4fa79_level0_col5\" class=\"col_heading level0 col5\" >Kappa</th>\n",
       "      <th id=\"T_4fa79_level0_col6\" class=\"col_heading level0 col6\" >MCC</th>\n",
       "    </tr>\n",
       "    <tr>\n",
       "      <th class=\"index_name level0\" >Fold</th>\n",
       "      <th class=\"blank col0\" >&nbsp;</th>\n",
       "      <th class=\"blank col1\" >&nbsp;</th>\n",
       "      <th class=\"blank col2\" >&nbsp;</th>\n",
       "      <th class=\"blank col3\" >&nbsp;</th>\n",
       "      <th class=\"blank col4\" >&nbsp;</th>\n",
       "      <th class=\"blank col5\" >&nbsp;</th>\n",
       "      <th class=\"blank col6\" >&nbsp;</th>\n",
       "    </tr>\n",
       "  </thead>\n",
       "  <tbody>\n",
       "    <tr>\n",
       "      <th id=\"T_4fa79_level0_row0\" class=\"row_heading level0 row0\" >0</th>\n",
       "      <td id=\"T_4fa79_row0_col0\" class=\"data row0 col0\" >0.6264</td>\n",
       "      <td id=\"T_4fa79_row0_col1\" class=\"data row0 col1\" >0.6496</td>\n",
       "      <td id=\"T_4fa79_row0_col2\" class=\"data row0 col2\" >0.8067</td>\n",
       "      <td id=\"T_4fa79_row0_col3\" class=\"data row0 col3\" >0.6321</td>\n",
       "      <td id=\"T_4fa79_row0_col4\" class=\"data row0 col4\" >0.7088</td>\n",
       "      <td id=\"T_4fa79_row0_col5\" class=\"data row0 col5\" >0.2087</td>\n",
       "      <td id=\"T_4fa79_row0_col6\" class=\"data row0 col6\" >0.2211</td>\n",
       "    </tr>\n",
       "    <tr>\n",
       "      <th id=\"T_4fa79_level0_row1\" class=\"row_heading level0 row1\" >1</th>\n",
       "      <td id=\"T_4fa79_row1_col0\" class=\"data row1 col0\" >0.6278</td>\n",
       "      <td id=\"T_4fa79_row1_col1\" class=\"data row1 col1\" >0.6518</td>\n",
       "      <td id=\"T_4fa79_row1_col2\" class=\"data row1 col2\" >0.8045</td>\n",
       "      <td id=\"T_4fa79_row1_col3\" class=\"data row1 col3\" >0.6338</td>\n",
       "      <td id=\"T_4fa79_row1_col4\" class=\"data row1 col4\" >0.7090</td>\n",
       "      <td id=\"T_4fa79_row1_col5\" class=\"data row1 col5\" >0.2125</td>\n",
       "      <td id=\"T_4fa79_row1_col6\" class=\"data row1 col6\" >0.2244</td>\n",
       "    </tr>\n",
       "    <tr>\n",
       "      <th id=\"T_4fa79_level0_row2\" class=\"row_heading level0 row2\" >2</th>\n",
       "      <td id=\"T_4fa79_row2_col0\" class=\"data row2 col0\" >0.6317</td>\n",
       "      <td id=\"T_4fa79_row2_col1\" class=\"data row2 col1\" >0.6599</td>\n",
       "      <td id=\"T_4fa79_row2_col2\" class=\"data row2 col2\" >0.8157</td>\n",
       "      <td id=\"T_4fa79_row2_col3\" class=\"data row2 col3\" >0.6348</td>\n",
       "      <td id=\"T_4fa79_row2_col4\" class=\"data row2 col4\" >0.7140</td>\n",
       "      <td id=\"T_4fa79_row2_col5\" class=\"data row2 col5\" >0.2188</td>\n",
       "      <td id=\"T_4fa79_row2_col6\" class=\"data row2 col6\" >0.2328</td>\n",
       "    </tr>\n",
       "    <tr>\n",
       "      <th id=\"T_4fa79_level0_row3\" class=\"row_heading level0 row3\" >3</th>\n",
       "      <td id=\"T_4fa79_row3_col0\" class=\"data row3 col0\" >0.6308</td>\n",
       "      <td id=\"T_4fa79_row3_col1\" class=\"data row3 col1\" >0.6573</td>\n",
       "      <td id=\"T_4fa79_row3_col2\" class=\"data row3 col2\" >0.8132</td>\n",
       "      <td id=\"T_4fa79_row3_col3\" class=\"data row3 col3\" >0.6346</td>\n",
       "      <td id=\"T_4fa79_row3_col4\" class=\"data row3 col4\" >0.7129</td>\n",
       "      <td id=\"T_4fa79_row3_col5\" class=\"data row3 col5\" >0.2173</td>\n",
       "      <td id=\"T_4fa79_row3_col6\" class=\"data row3 col6\" >0.2307</td>\n",
       "    </tr>\n",
       "    <tr>\n",
       "      <th id=\"T_4fa79_level0_row4\" class=\"row_heading level0 row4\" >4</th>\n",
       "      <td id=\"T_4fa79_row4_col0\" class=\"data row4 col0\" >0.6273</td>\n",
       "      <td id=\"T_4fa79_row4_col1\" class=\"data row4 col1\" >0.6543</td>\n",
       "      <td id=\"T_4fa79_row4_col2\" class=\"data row4 col2\" >0.8060</td>\n",
       "      <td id=\"T_4fa79_row4_col3\" class=\"data row4 col3\" >0.6331</td>\n",
       "      <td id=\"T_4fa79_row4_col4\" class=\"data row4 col4\" >0.7092</td>\n",
       "      <td id=\"T_4fa79_row4_col5\" class=\"data row4 col5\" >0.2110</td>\n",
       "      <td id=\"T_4fa79_row4_col6\" class=\"data row4 col6\" >0.2232</td>\n",
       "    </tr>\n",
       "    <tr>\n",
       "      <th id=\"T_4fa79_level0_row5\" class=\"row_heading level0 row5\" >5</th>\n",
       "      <td id=\"T_4fa79_row5_col0\" class=\"data row5 col0\" >0.6262</td>\n",
       "      <td id=\"T_4fa79_row5_col1\" class=\"data row5 col1\" >0.6550</td>\n",
       "      <td id=\"T_4fa79_row5_col2\" class=\"data row5 col2\" >0.8114</td>\n",
       "      <td id=\"T_4fa79_row5_col3\" class=\"data row5 col3\" >0.6310</td>\n",
       "      <td id=\"T_4fa79_row5_col4\" class=\"data row5 col4\" >0.7099</td>\n",
       "      <td id=\"T_4fa79_row5_col5\" class=\"data row5 col5\" >0.2070</td>\n",
       "      <td id=\"T_4fa79_row5_col6\" class=\"data row5 col6\" >0.2203</td>\n",
       "    </tr>\n",
       "    <tr>\n",
       "      <th id=\"T_4fa79_level0_row6\" class=\"row_heading level0 row6\" >6</th>\n",
       "      <td id=\"T_4fa79_row6_col0\" class=\"data row6 col0\" >0.6312</td>\n",
       "      <td id=\"T_4fa79_row6_col1\" class=\"data row6 col1\" >0.6557</td>\n",
       "      <td id=\"T_4fa79_row6_col2\" class=\"data row6 col2\" >0.8099</td>\n",
       "      <td id=\"T_4fa79_row6_col3\" class=\"data row6 col3\" >0.6357</td>\n",
       "      <td id=\"T_4fa79_row6_col4\" class=\"data row6 col4\" >0.7123</td>\n",
       "      <td id=\"T_4fa79_row6_col5\" class=\"data row6 col5\" >0.2190</td>\n",
       "      <td id=\"T_4fa79_row6_col6\" class=\"data row6 col6\" >0.2318</td>\n",
       "    </tr>\n",
       "    <tr>\n",
       "      <th id=\"T_4fa79_level0_row7\" class=\"row_heading level0 row7\" >7</th>\n",
       "      <td id=\"T_4fa79_row7_col0\" class=\"data row7 col0\" >0.6359</td>\n",
       "      <td id=\"T_4fa79_row7_col1\" class=\"data row7 col1\" >0.6591</td>\n",
       "      <td id=\"T_4fa79_row7_col2\" class=\"data row7 col2\" >0.8097</td>\n",
       "      <td id=\"T_4fa79_row7_col3\" class=\"data row7 col3\" >0.6399</td>\n",
       "      <td id=\"T_4fa79_row7_col4\" class=\"data row7 col4\" >0.7148</td>\n",
       "      <td id=\"T_4fa79_row7_col5\" class=\"data row7 col5\" >0.2300</td>\n",
       "      <td id=\"T_4fa79_row7_col6\" class=\"data row7 col6\" >0.2424</td>\n",
       "    </tr>\n",
       "    <tr>\n",
       "      <th id=\"T_4fa79_level0_row8\" class=\"row_heading level0 row8\" >8</th>\n",
       "      <td id=\"T_4fa79_row8_col0\" class=\"data row8 col0\" >0.6327</td>\n",
       "      <td id=\"T_4fa79_row8_col1\" class=\"data row8 col1\" >0.6588</td>\n",
       "      <td id=\"T_4fa79_row8_col2\" class=\"data row8 col2\" >0.8059</td>\n",
       "      <td id=\"T_4fa79_row8_col3\" class=\"data row8 col3\" >0.6379</td>\n",
       "      <td id=\"T_4fa79_row8_col4\" class=\"data row8 col4\" >0.7121</td>\n",
       "      <td id=\"T_4fa79_row8_col5\" class=\"data row8 col5\" >0.2236</td>\n",
       "      <td id=\"T_4fa79_row8_col6\" class=\"data row8 col6\" >0.2355</td>\n",
       "    </tr>\n",
       "    <tr>\n",
       "      <th id=\"T_4fa79_level0_row9\" class=\"row_heading level0 row9\" >9</th>\n",
       "      <td id=\"T_4fa79_row9_col0\" class=\"data row9 col0\" >0.6328</td>\n",
       "      <td id=\"T_4fa79_row9_col1\" class=\"data row9 col1\" >0.6574</td>\n",
       "      <td id=\"T_4fa79_row9_col2\" class=\"data row9 col2\" >0.8139</td>\n",
       "      <td id=\"T_4fa79_row9_col3\" class=\"data row9 col3\" >0.6362</td>\n",
       "      <td id=\"T_4fa79_row9_col4\" class=\"data row9 col4\" >0.7142</td>\n",
       "      <td id=\"T_4fa79_row9_col5\" class=\"data row9 col5\" >0.2218</td>\n",
       "      <td id=\"T_4fa79_row9_col6\" class=\"data row9 col6\" >0.2353</td>\n",
       "    </tr>\n",
       "    <tr>\n",
       "      <th id=\"T_4fa79_level0_row10\" class=\"row_heading level0 row10\" >Mean</th>\n",
       "      <td id=\"T_4fa79_row10_col0\" class=\"data row10 col0\" >0.6303</td>\n",
       "      <td id=\"T_4fa79_row10_col1\" class=\"data row10 col1\" >0.6559</td>\n",
       "      <td id=\"T_4fa79_row10_col2\" class=\"data row10 col2\" >0.8097</td>\n",
       "      <td id=\"T_4fa79_row10_col3\" class=\"data row10 col3\" >0.6349</td>\n",
       "      <td id=\"T_4fa79_row10_col4\" class=\"data row10 col4\" >0.7117</td>\n",
       "      <td id=\"T_4fa79_row10_col5\" class=\"data row10 col5\" >0.2170</td>\n",
       "      <td id=\"T_4fa79_row10_col6\" class=\"data row10 col6\" >0.2297</td>\n",
       "    </tr>\n",
       "    <tr>\n",
       "      <th id=\"T_4fa79_level0_row11\" class=\"row_heading level0 row11\" >Std</th>\n",
       "      <td id=\"T_4fa79_row11_col0\" class=\"data row11 col0\" >0.0031</td>\n",
       "      <td id=\"T_4fa79_row11_col1\" class=\"data row11 col1\" >0.0031</td>\n",
       "      <td id=\"T_4fa79_row11_col2\" class=\"data row11 col2\" >0.0036</td>\n",
       "      <td id=\"T_4fa79_row11_col3\" class=\"data row11 col3\" >0.0025</td>\n",
       "      <td id=\"T_4fa79_row11_col4\" class=\"data row11 col4\" >0.0022</td>\n",
       "      <td id=\"T_4fa79_row11_col5\" class=\"data row11 col5\" >0.0068</td>\n",
       "      <td id=\"T_4fa79_row11_col6\" class=\"data row11 col6\" >0.0069</td>\n",
       "    </tr>\n",
       "  </tbody>\n",
       "</table>\n"
      ],
      "text/plain": [
       "<pandas.io.formats.style.Styler at 0x7f3159d6bc40>"
      ]
     },
     "metadata": {},
     "output_type": "display_data"
    },
    {
     "data": {
      "text/html": [],
      "text/plain": [
       "<IPython.core.display.HTML object>"
      ]
     },
     "metadata": {},
     "output_type": "display_data"
    }
   ],
   "source": [
    "regression_model = classification_setup.create_model(\"lr\", probability_threshold = 0.50)"
   ]
  },
  {
   "cell_type": "code",
   "execution_count": 189,
   "metadata": {
    "execution": {
     "iopub.execute_input": "2023-06-07T01:41:47.818468Z",
     "iopub.status.busy": "2023-06-07T01:41:47.817880Z",
     "iopub.status.idle": "2023-06-07T01:41:49.231871Z",
     "shell.execute_reply": "2023-06-07T01:41:49.231081Z",
     "shell.execute_reply.started": "2023-06-07T01:41:47.818433Z"
    }
   },
   "outputs": [
    {
     "data": {
      "text/html": [],
      "text/plain": [
       "<IPython.core.display.HTML object>"
      ]
     },
     "metadata": {},
     "output_type": "display_data"
    },
    {
     "data": {
      "image/png": "[encoded data removed]",
      "text/plain": [
       "<Figure size 800x550 with 1 Axes>"
      ]
     },
     "metadata": {},
     "output_type": "display_data"
    }
   ],
   "source": [
    "plot_model(regression_model, plot = 'auc')"
   ]
  },
  {
   "cell_type": "markdown",
   "metadata": {},
   "source": [
    "see the higher threshold catches smaller portion (recall ~ 5%) but with much higher precision 72%."
   ]
  },
  {
   "cell_type": "code",
   "execution_count": 190,
   "metadata": {
    "execution": {
     "iopub.execute_input": "2023-06-07T01:41:49.233263Z",
     "iopub.status.busy": "2023-06-07T01:41:49.233107Z",
     "iopub.status.idle": "2023-06-07T01:41:52.923967Z",
     "shell.execute_reply": "2023-06-07T01:41:52.922199Z",
     "shell.execute_reply.started": "2023-06-07T01:41:49.233250Z"
    }
   },
   "outputs": [
    {
     "data": {
      "text/html": [
       "<style type=\"text/css\">\n",
       "</style>\n",
       "<table id=\"T_01311\">\n",
       "  <thead>\n",
       "    <tr>\n",
       "      <th class=\"blank level0\" >&nbsp;</th>\n",
       "      <th id=\"T_01311_level0_col0\" class=\"col_heading level0 col0\" >Model</th>\n",
       "      <th id=\"T_01311_level0_col1\" class=\"col_heading level0 col1\" >Accuracy</th>\n",
       "      <th id=\"T_01311_level0_col2\" class=\"col_heading level0 col2\" >AUC</th>\n",
       "      <th id=\"T_01311_level0_col3\" class=\"col_heading level0 col3\" >Recall</th>\n",
       "      <th id=\"T_01311_level0_col4\" class=\"col_heading level0 col4\" >Prec.</th>\n",
       "      <th id=\"T_01311_level0_col5\" class=\"col_heading level0 col5\" >F1</th>\n",
       "      <th id=\"T_01311_level0_col6\" class=\"col_heading level0 col6\" >Kappa</th>\n",
       "      <th id=\"T_01311_level0_col7\" class=\"col_heading level0 col7\" >MCC</th>\n",
       "    </tr>\n",
       "  </thead>\n",
       "  <tbody>\n",
       "    <tr>\n",
       "      <th id=\"T_01311_level0_row0\" class=\"row_heading level0 row0\" >0</th>\n",
       "      <td id=\"T_01311_row0_col0\" class=\"data row0 col0\" >Logistic Regression</td>\n",
       "      <td id=\"T_01311_row0_col1\" class=\"data row0 col1\" >0.6306</td>\n",
       "      <td id=\"T_01311_row0_col2\" class=\"data row0 col2\" >0.6561</td>\n",
       "      <td id=\"T_01311_row0_col3\" class=\"data row0 col3\" >0.8118</td>\n",
       "      <td id=\"T_01311_row0_col4\" class=\"data row0 col4\" >0.6347</td>\n",
       "      <td id=\"T_01311_row0_col5\" class=\"data row0 col5\" >0.7124</td>\n",
       "      <td id=\"T_01311_row0_col6\" class=\"data row0 col6\" >0.2171</td>\n",
       "      <td id=\"T_01311_row0_col7\" class=\"data row0 col7\" >0.2303</td>\n",
       "    </tr>\n",
       "  </tbody>\n",
       "</table>\n"
      ],
      "text/plain": [
       "<pandas.io.formats.style.Styler at 0x7f319cb11e70>"
      ]
     },
     "metadata": {},
     "output_type": "display_data"
    }
   ],
   "source": [
    "train_prediction = pycaret.classification.predict_model(data = train_data, estimator = regression_model)\n",
    "train_prediction = pd.merge(train_prediction, df_player_team_positions[['player_id','player_team_name']], left_on='batting_id', right_on='player_id', how='left')\n",
    "train_prediction[\"theo_odds\"] = train_prediction[\"prediction_score\"].apply(model.common.odds_calculator)"
   ]
  },
  {
   "cell_type": "code",
   "execution_count": 191,
   "metadata": {
    "execution": {
     "iopub.execute_input": "2023-06-07T01:41:52.926456Z",
     "iopub.status.busy": "2023-06-07T01:41:52.926033Z",
     "iopub.status.idle": "2023-06-07T01:41:53.099887Z",
     "shell.execute_reply": "2023-06-07T01:41:53.098683Z",
     "shell.execute_reply.started": "2023-06-07T01:41:52.926418Z"
    }
   },
   "outputs": [
    {
     "data": {
      "text/html": [
       "<div>\n",
       "<style scoped>\n",
       "    .dataframe tbody tr th:only-of-type {\n",
       "        vertical-align: middle;\n",
       "    }\n",
       "\n",
       "    .dataframe tbody tr th {\n",
       "        vertical-align: top;\n",
       "    }\n",
       "\n",
       "    .dataframe thead th {\n",
       "        text-align: right;\n",
       "    }\n",
       "</style>\n",
       "<table border=\"1\" class=\"dataframe\">\n",
       "  <thead>\n",
       "    <tr style=\"text-align: right;\">\n",
       "      <th></th>\n",
       "      <th>game_date</th>\n",
       "      <th>batting_name</th>\n",
       "      <th>batting_hit_recorded</th>\n",
       "      <th>prediction_score</th>\n",
       "      <th>player_team_name</th>\n",
       "      <th>theo_odds</th>\n",
       "    </tr>\n",
       "  </thead>\n",
       "  <tbody>\n",
       "    <tr>\n",
       "      <th>967737</th>\n",
       "      <td>2022-08-13</td>\n",
       "      <td>Chadwick Tromp</td>\n",
       "      <td>1</td>\n",
       "      <td>0.9973</td>\n",
       "      <td>Atlanta Braves</td>\n",
       "      <td>-36937</td>\n",
       "    </tr>\n",
       "    <tr>\n",
       "      <th>349038</th>\n",
       "      <td>2015-06-06</td>\n",
       "      <td>Dee Strange-Gordon</td>\n",
       "      <td>1</td>\n",
       "      <td>0.8825</td>\n",
       "      <td>Washington Nationals</td>\n",
       "      <td>-751</td>\n",
       "    </tr>\n",
       "    <tr>\n",
       "      <th>742092</th>\n",
       "      <td>2019-06-19</td>\n",
       "      <td>Jorge Bonifacio</td>\n",
       "      <td>0</td>\n",
       "      <td>0.8702</td>\n",
       "      <td>Kansas City Royals</td>\n",
       "      <td>-670</td>\n",
       "    </tr>\n",
       "    <tr>\n",
       "      <th>239228</th>\n",
       "      <td>2014-05-13</td>\n",
       "      <td>Jose Altuve</td>\n",
       "      <td>1</td>\n",
       "      <td>0.8674</td>\n",
       "      <td>Houston Astros</td>\n",
       "      <td>-654</td>\n",
       "    </tr>\n",
       "    <tr>\n",
       "      <th>810984</th>\n",
       "      <td>2020-09-01</td>\n",
       "      <td>Jose Iglesias</td>\n",
       "      <td>0</td>\n",
       "      <td>0.8656</td>\n",
       "      <td>Colorado Rockies</td>\n",
       "      <td>-644</td>\n",
       "    </tr>\n",
       "    <tr>\n",
       "      <th>...</th>\n",
       "      <td>...</td>\n",
       "      <td>...</td>\n",
       "      <td>...</td>\n",
       "      <td>...</td>\n",
       "      <td>...</td>\n",
       "      <td>...</td>\n",
       "    </tr>\n",
       "    <tr>\n",
       "      <th>638731</th>\n",
       "      <td>2018-05-28</td>\n",
       "      <td>Scooter Gennett</td>\n",
       "      <td>1</td>\n",
       "      <td>0.7519</td>\n",
       "      <td>San Francisco Giants</td>\n",
       "      <td>-303</td>\n",
       "    </tr>\n",
       "    <tr>\n",
       "      <th>937728</th>\n",
       "      <td>2022-06-06</td>\n",
       "      <td>Tyler Stephenson</td>\n",
       "      <td>1</td>\n",
       "      <td>0.7510</td>\n",
       "      <td>Cincinnati Reds</td>\n",
       "      <td>-302</td>\n",
       "    </tr>\n",
       "    <tr>\n",
       "      <th>13272</th>\n",
       "      <td>2012-04-23</td>\n",
       "      <td>Alejandro De Aza</td>\n",
       "      <td>1</td>\n",
       "      <td>0.7505</td>\n",
       "      <td>Chicago White Sox</td>\n",
       "      <td>-301</td>\n",
       "    </tr>\n",
       "    <tr>\n",
       "      <th>399544</th>\n",
       "      <td>2015-09-19</td>\n",
       "      <td>Kole Calhoun</td>\n",
       "      <td>1</td>\n",
       "      <td>0.7502</td>\n",
       "      <td>Texas Rangers</td>\n",
       "      <td>-300</td>\n",
       "    </tr>\n",
       "    <tr>\n",
       "      <th>610858</th>\n",
       "      <td>2018-04-10</td>\n",
       "      <td>Eddie Rosario</td>\n",
       "      <td>1</td>\n",
       "      <td>0.7500</td>\n",
       "      <td>Atlanta Braves</td>\n",
       "      <td>-300</td>\n",
       "    </tr>\n",
       "  </tbody>\n",
       "</table>\n",
       "<p>161 rows × 6 columns</p>\n",
       "</div>"
      ],
      "text/plain": [
       "        game_date        batting_name  batting_hit_recorded  prediction_score  \\\n",
       "967737 2022-08-13      Chadwick Tromp                     1            0.9973   \n",
       "349038 2015-06-06  Dee Strange-Gordon                     1            0.8825   \n",
       "742092 2019-06-19     Jorge Bonifacio                     0            0.8702   \n",
       "239228 2014-05-13         Jose Altuve                     1            0.8674   \n",
       "810984 2020-09-01       Jose Iglesias                     0            0.8656   \n",
       "...           ...                 ...                   ...               ...   \n",
       "638731 2018-05-28     Scooter Gennett                     1            0.7519   \n",
       "937728 2022-06-06    Tyler Stephenson                     1            0.7510   \n",
       "13272  2012-04-23    Alejandro De Aza                     1            0.7505   \n",
       "399544 2015-09-19        Kole Calhoun                     1            0.7502   \n",
       "610858 2018-04-10       Eddie Rosario                     1            0.7500   \n",
       "\n",
       "            player_team_name  theo_odds  \n",
       "967737        Atlanta Braves     -36937  \n",
       "349038  Washington Nationals       -751  \n",
       "742092    Kansas City Royals       -670  \n",
       "239228        Houston Astros       -654  \n",
       "810984      Colorado Rockies       -644  \n",
       "...                      ...        ...  \n",
       "638731  San Francisco Giants       -303  \n",
       "937728       Cincinnati Reds       -302  \n",
       "13272      Chicago White Sox       -301  \n",
       "399544         Texas Rangers       -300  \n",
       "610858        Atlanta Braves       -300  \n",
       "\n",
       "[161 rows x 6 columns]"
      ]
     },
     "execution_count": 191,
     "metadata": {},
     "output_type": "execute_result"
    }
   ],
   "source": [
    "score_threshold = 0.75\n",
    "confident_train_prediction = train_prediction[(train_prediction[\"prediction_score\"] >= score_threshold) & (train_prediction[\"prediction_label\"] == 1)].sort_values(by = \"prediction_score\", ascending = False).drop_duplicates(\"batting_name\")\n",
    "confident_train_prediction[['game_date', \"batting_name\", \"batting_hit_recorded\",\t\"prediction_score\", \"player_team_name\", \"theo_odds\"]]"
   ]
  },
  {
   "cell_type": "code",
   "execution_count": 192,
   "metadata": {
    "execution": {
     "iopub.execute_input": "2023-06-07T01:41:53.102588Z",
     "iopub.status.busy": "2023-06-07T01:41:53.102026Z",
     "iopub.status.idle": "2023-06-07T01:41:53.113867Z",
     "shell.execute_reply": "2023-06-07T01:41:53.112445Z",
     "shell.execute_reply.started": "2023-06-07T01:41:53.102541Z"
    }
   },
   "outputs": [
    {
     "data": {
      "text/plain": [
       "0.8136645962732919"
      ]
     },
     "execution_count": 192,
     "metadata": {},
     "output_type": "execute_result"
    }
   ],
   "source": [
    "confident_train_prediction.batting_hit_recorded.sum() / len(confident_train_prediction)"
   ]
  },
  {
   "cell_type": "markdown",
   "metadata": {
    "execution": {
     "iopub.execute_input": "2023-06-07T00:40:23.948013Z",
     "iopub.status.busy": "2023-06-07T00:40:23.947407Z",
     "iopub.status.idle": "2023-06-07T00:40:23.953130Z",
     "shell.execute_reply": "2023-06-07T00:40:23.952520Z",
     "shell.execute_reply.started": "2023-06-07T00:40:23.947955Z"
    }
   },
   "source": [
    "**test prediction**"
   ]
  },
  {
   "cell_type": "code",
   "execution_count": 193,
   "metadata": {
    "execution": {
     "iopub.execute_input": "2023-06-07T01:41:53.116751Z",
     "iopub.status.busy": "2023-06-07T01:41:53.116130Z",
     "iopub.status.idle": "2023-06-07T01:41:53.143180Z",
     "shell.execute_reply": "2023-06-07T01:41:53.141511Z",
     "shell.execute_reply.started": "2023-06-07T01:41:53.116699Z"
    }
   },
   "outputs": [
    {
     "data": {
      "text/plain": [
       "Index(['pitching_gamesPlayed', 'pitching_runs_per_game',\n",
       "       'pitching_strikeOuts_per_game', 'pitching_hits_per_game', 'pitching_id',\n",
       "       'batting_name', 'batting_gamesPlayed', 'batting_runs_per_game',\n",
       "       'batting_strikeOuts_per_game', 'batting_hits_per_game', 'batting_rbi',\n",
       "       'batting_id', 'pitching_name', 'batting_hit_recorded',\n",
       "       'pitching_cur_season_runs_per_game',\n",
       "       'pitching_cur_season_strikeOuts_per_game',\n",
       "       'pitching_cur_season_hits_per_game', 'batting_cur_season_runs_per_game',\n",
       "       'batting_cur_season_strikeOuts_per_game',\n",
       "       'batting_cur_season_hits_per_game', 'temp', 'game_venue', 'game_date',\n",
       "       'game_year'],\n",
       "      dtype='object')"
      ]
     },
     "execution_count": 193,
     "metadata": {},
     "output_type": "execute_result"
    }
   ],
   "source": [
    "train_data.columns"
   ]
  },
  {
   "cell_type": "code",
   "execution_count": 194,
   "metadata": {
    "execution": {
     "iopub.execute_input": "2023-06-07T01:41:53.145295Z",
     "iopub.status.busy": "2023-06-07T01:41:53.144716Z",
     "iopub.status.idle": "2023-06-07T01:41:53.163957Z",
     "shell.execute_reply": "2023-06-07T01:41:53.162879Z",
     "shell.execute_reply.started": "2023-06-07T01:41:53.145248Z"
    }
   },
   "outputs": [
    {
     "data": {
      "text/plain": [
       "Index(['pitching_gamesPlayed', 'pitching_runs_per_game',\n",
       "       'pitching_strikeOuts_per_game', 'pitching_hits_per_game', 'pitching_id',\n",
       "       'batting_name', 'batting_gamesPlayed', 'batting_runs_per_game',\n",
       "       'batting_strikeOuts_per_game', 'batting_hits_per_game', 'batting_rbi',\n",
       "       'batting_id', 'pitching_name', 'batting_hit_recorded',\n",
       "       'pitching_cur_season_runs_per_game',\n",
       "       'pitching_cur_season_strikeOuts_per_game',\n",
       "       'pitching_cur_season_hits_per_game', 'batting_cur_season_runs_per_game',\n",
       "       'batting_cur_season_strikeOuts_per_game',\n",
       "       'batting_cur_season_hits_per_game', 'temp', 'game_venue', 'game_date',\n",
       "       'game_year'],\n",
       "      dtype='object')"
      ]
     },
     "execution_count": 194,
     "metadata": {},
     "output_type": "execute_result"
    }
   ],
   "source": [
    "test_data.columns"
   ]
  },
  {
   "cell_type": "code",
   "execution_count": 195,
   "metadata": {
    "execution": {
     "iopub.execute_input": "2023-06-07T01:41:53.165581Z",
     "iopub.status.busy": "2023-06-07T01:41:53.165218Z",
     "iopub.status.idle": "2023-06-07T01:41:53.901024Z",
     "shell.execute_reply": "2023-06-07T01:41:53.899229Z",
     "shell.execute_reply.started": "2023-06-07T01:41:53.165547Z"
    },
    "scrolled": true
   },
   "outputs": [
    {
     "data": {
      "text/html": [
       "<style type=\"text/css\">\n",
       "</style>\n",
       "<table id=\"T_120e7\">\n",
       "  <thead>\n",
       "    <tr>\n",
       "      <th class=\"blank level0\" >&nbsp;</th>\n",
       "      <th id=\"T_120e7_level0_col0\" class=\"col_heading level0 col0\" >Model</th>\n",
       "      <th id=\"T_120e7_level0_col1\" class=\"col_heading level0 col1\" >Accuracy</th>\n",
       "      <th id=\"T_120e7_level0_col2\" class=\"col_heading level0 col2\" >AUC</th>\n",
       "      <th id=\"T_120e7_level0_col3\" class=\"col_heading level0 col3\" >Recall</th>\n",
       "      <th id=\"T_120e7_level0_col4\" class=\"col_heading level0 col4\" >Prec.</th>\n",
       "      <th id=\"T_120e7_level0_col5\" class=\"col_heading level0 col5\" >F1</th>\n",
       "      <th id=\"T_120e7_level0_col6\" class=\"col_heading level0 col6\" >Kappa</th>\n",
       "      <th id=\"T_120e7_level0_col7\" class=\"col_heading level0 col7\" >MCC</th>\n",
       "    </tr>\n",
       "  </thead>\n",
       "  <tbody>\n",
       "    <tr>\n",
       "      <th id=\"T_120e7_level0_row0\" class=\"row_heading level0 row0\" >0</th>\n",
       "      <td id=\"T_120e7_row0_col0\" class=\"data row0 col0\" >Logistic Regression</td>\n",
       "      <td id=\"T_120e7_row0_col1\" class=\"data row0 col1\" >0.5909</td>\n",
       "      <td id=\"T_120e7_row0_col2\" class=\"data row0 col2\" >0.6158</td>\n",
       "      <td id=\"T_120e7_row0_col3\" class=\"data row0 col3\" >0.7647</td>\n",
       "      <td id=\"T_120e7_row0_col4\" class=\"data row0 col4\" >0.6222</td>\n",
       "      <td id=\"T_120e7_row0_col5\" class=\"data row0 col5\" >0.6861</td>\n",
       "      <td id=\"T_120e7_row0_col6\" class=\"data row0 col6\" >0.1165</td>\n",
       "      <td id=\"T_120e7_row0_col7\" class=\"data row0 col7\" >0.1217</td>\n",
       "    </tr>\n",
       "  </tbody>\n",
       "</table>\n"
      ],
      "text/plain": [
       "<pandas.io.formats.style.Styler at 0x7f3159673070>"
      ]
     },
     "metadata": {},
     "output_type": "display_data"
    }
   ],
   "source": [
    "test_prediction = pycaret.classification.predict_model(data = test_data, estimator = regression_model)\n",
    "test_prediction = pd.merge(test_prediction, df_player_team_positions[['player_id','player_team_name']], left_on='batting_id', right_on='player_id', how='left')\n",
    "test_prediction[\"theo_odds\"] = test_prediction[\"prediction_score\"].apply(model.common.odds_calculator)"
   ]
  },
  {
   "cell_type": "code",
   "execution_count": 196,
   "metadata": {
    "execution": {
     "iopub.execute_input": "2023-06-07T01:41:53.906285Z",
     "iopub.status.busy": "2023-06-07T01:41:53.905700Z",
     "iopub.status.idle": "2023-06-07T01:41:53.942194Z",
     "shell.execute_reply": "2023-06-07T01:41:53.940500Z",
     "shell.execute_reply.started": "2023-06-07T01:41:53.906243Z"
    }
   },
   "outputs": [
    {
     "data": {
      "text/html": [
       "<div>\n",
       "<style scoped>\n",
       "    .dataframe tbody tr th:only-of-type {\n",
       "        vertical-align: middle;\n",
       "    }\n",
       "\n",
       "    .dataframe tbody tr th {\n",
       "        vertical-align: top;\n",
       "    }\n",
       "\n",
       "    .dataframe thead th {\n",
       "        text-align: right;\n",
       "    }\n",
       "</style>\n",
       "<table border=\"1\" class=\"dataframe\">\n",
       "  <thead>\n",
       "    <tr style=\"text-align: right;\">\n",
       "      <th></th>\n",
       "      <th>game_date</th>\n",
       "      <th>batting_name</th>\n",
       "      <th>batting_hit_recorded</th>\n",
       "      <th>prediction_score</th>\n",
       "      <th>player_team_name</th>\n",
       "      <th>theo_odds</th>\n",
       "    </tr>\n",
       "  </thead>\n",
       "  <tbody>\n",
       "    <tr>\n",
       "      <th>3297</th>\n",
       "      <td>2023-04-08</td>\n",
       "      <td>Adam Duvall</td>\n",
       "      <td>1</td>\n",
       "      <td>0.8916</td>\n",
       "      <td>Miami Marlins</td>\n",
       "      <td>-823</td>\n",
       "    </tr>\n",
       "    <tr>\n",
       "      <th>12718</th>\n",
       "      <td>2023-04-29</td>\n",
       "      <td>Luis Arraez</td>\n",
       "      <td>1</td>\n",
       "      <td>0.8896</td>\n",
       "      <td>Miami Marlins</td>\n",
       "      <td>-806</td>\n",
       "    </tr>\n",
       "    <tr>\n",
       "      <th>6590</th>\n",
       "      <td>2023-04-15</td>\n",
       "      <td>Joey Meneses</td>\n",
       "      <td>1</td>\n",
       "      <td>0.8324</td>\n",
       "      <td>Washington Nationals</td>\n",
       "      <td>-497</td>\n",
       "    </tr>\n",
       "    <tr>\n",
       "      <th>24695</th>\n",
       "      <td>2023-05-30</td>\n",
       "      <td>Bo Bichette</td>\n",
       "      <td>1</td>\n",
       "      <td>0.8284</td>\n",
       "      <td>Toronto Blue Jays</td>\n",
       "      <td>-483</td>\n",
       "    </tr>\n",
       "    <tr>\n",
       "      <th>16931</th>\n",
       "      <td>2023-05-09</td>\n",
       "      <td>Thairo Estrada</td>\n",
       "      <td>1</td>\n",
       "      <td>0.8190</td>\n",
       "      <td>New York Yankees</td>\n",
       "      <td>-452</td>\n",
       "    </tr>\n",
       "    <tr>\n",
       "      <th>17291</th>\n",
       "      <td>2023-05-10</td>\n",
       "      <td>Christopher Morel</td>\n",
       "      <td>1</td>\n",
       "      <td>0.8152</td>\n",
       "      <td>Chicago Cubs</td>\n",
       "      <td>-441</td>\n",
       "    </tr>\n",
       "    <tr>\n",
       "      <th>7130</th>\n",
       "      <td>2023-04-16</td>\n",
       "      <td>Bryson Stott</td>\n",
       "      <td>1</td>\n",
       "      <td>0.8133</td>\n",
       "      <td>Philadelphia Phillies</td>\n",
       "      <td>-436</td>\n",
       "    </tr>\n",
       "    <tr>\n",
       "      <th>7725</th>\n",
       "      <td>2023-04-17</td>\n",
       "      <td>Nico Hoerner</td>\n",
       "      <td>1</td>\n",
       "      <td>0.8087</td>\n",
       "      <td>Chicago Cubs</td>\n",
       "      <td>-423</td>\n",
       "    </tr>\n",
       "    <tr>\n",
       "      <th>1860</th>\n",
       "      <td>2023-04-04</td>\n",
       "      <td>Corey Seager</td>\n",
       "      <td>1</td>\n",
       "      <td>0.7988</td>\n",
       "      <td>Texas Rangers</td>\n",
       "      <td>-397</td>\n",
       "    </tr>\n",
       "    <tr>\n",
       "      <th>10264</th>\n",
       "      <td>2023-04-23</td>\n",
       "      <td>Jorge Polanco</td>\n",
       "      <td>1</td>\n",
       "      <td>0.7960</td>\n",
       "      <td>Minnesota Twins</td>\n",
       "      <td>-390</td>\n",
       "    </tr>\n",
       "    <tr>\n",
       "      <th>16552</th>\n",
       "      <td>2023-05-09</td>\n",
       "      <td>Randal Grichuk</td>\n",
       "      <td>1</td>\n",
       "      <td>0.7958</td>\n",
       "      <td>Colorado Rockies</td>\n",
       "      <td>-390</td>\n",
       "    </tr>\n",
       "    <tr>\n",
       "      <th>5681</th>\n",
       "      <td>2023-04-12</td>\n",
       "      <td>Freddie Freeman</td>\n",
       "      <td>1</td>\n",
       "      <td>0.7929</td>\n",
       "      <td>Los Angeles Dodgers</td>\n",
       "      <td>-383</td>\n",
       "    </tr>\n",
       "    <tr>\n",
       "      <th>2194</th>\n",
       "      <td>2023-04-05</td>\n",
       "      <td>Travis d'Arnaud</td>\n",
       "      <td>1</td>\n",
       "      <td>0.7927</td>\n",
       "      <td>Tampa Bay Rays</td>\n",
       "      <td>-382</td>\n",
       "    </tr>\n",
       "    <tr>\n",
       "      <th>18273</th>\n",
       "      <td>2023-05-13</td>\n",
       "      <td>Mickey Moniak</td>\n",
       "      <td>1</td>\n",
       "      <td>0.7885</td>\n",
       "      <td>Los Angeles Angels</td>\n",
       "      <td>-373</td>\n",
       "    </tr>\n",
       "    <tr>\n",
       "      <th>18967</th>\n",
       "      <td>2023-05-15</td>\n",
       "      <td>Brandon Nimmo</td>\n",
       "      <td>1</td>\n",
       "      <td>0.7855</td>\n",
       "      <td>New York Mets</td>\n",
       "      <td>-366</td>\n",
       "    </tr>\n",
       "    <tr>\n",
       "      <th>4551</th>\n",
       "      <td>2023-04-10</td>\n",
       "      <td>Kris Bryant</td>\n",
       "      <td>1</td>\n",
       "      <td>0.7802</td>\n",
       "      <td>Chicago Cubs</td>\n",
       "      <td>-355</td>\n",
       "    </tr>\n",
       "    <tr>\n",
       "      <th>12705</th>\n",
       "      <td>2023-04-29</td>\n",
       "      <td>Bryan De La Cruz</td>\n",
       "      <td>0</td>\n",
       "      <td>0.7797</td>\n",
       "      <td>Miami Marlins</td>\n",
       "      <td>-354</td>\n",
       "    </tr>\n",
       "    <tr>\n",
       "      <th>21216</th>\n",
       "      <td>2023-05-21</td>\n",
       "      <td>Riley Adams</td>\n",
       "      <td>1</td>\n",
       "      <td>0.7783</td>\n",
       "      <td>Washington Nationals</td>\n",
       "      <td>-351</td>\n",
       "    </tr>\n",
       "    <tr>\n",
       "      <th>19316</th>\n",
       "      <td>2023-05-16</td>\n",
       "      <td>Riley Greene</td>\n",
       "      <td>0</td>\n",
       "      <td>0.7780</td>\n",
       "      <td>Detroit Tigers</td>\n",
       "      <td>-350</td>\n",
       "    </tr>\n",
       "    <tr>\n",
       "      <th>4704</th>\n",
       "      <td>2023-04-11</td>\n",
       "      <td>Anthony Rizzo</td>\n",
       "      <td>1</td>\n",
       "      <td>0.7758</td>\n",
       "      <td>San Diego Padres</td>\n",
       "      <td>-346</td>\n",
       "    </tr>\n",
       "    <tr>\n",
       "      <th>19643</th>\n",
       "      <td>2023-05-16</td>\n",
       "      <td>Lourdes Gurriel Jr.</td>\n",
       "      <td>1</td>\n",
       "      <td>0.7674</td>\n",
       "      <td>Toronto Blue Jays</td>\n",
       "      <td>-330</td>\n",
       "    </tr>\n",
       "    <tr>\n",
       "      <th>19692</th>\n",
       "      <td>2023-05-16</td>\n",
       "      <td>Bryce Harper</td>\n",
       "      <td>1</td>\n",
       "      <td>0.7591</td>\n",
       "      <td>Washington Nationals</td>\n",
       "      <td>-315</td>\n",
       "    </tr>\n",
       "    <tr>\n",
       "      <th>24699</th>\n",
       "      <td>2023-05-30</td>\n",
       "      <td>Matt Chapman</td>\n",
       "      <td>0</td>\n",
       "      <td>0.7588</td>\n",
       "      <td>Toronto Blue Jays</td>\n",
       "      <td>-315</td>\n",
       "    </tr>\n",
       "    <tr>\n",
       "      <th>4731</th>\n",
       "      <td>2023-04-11</td>\n",
       "      <td>Austin Hays</td>\n",
       "      <td>0</td>\n",
       "      <td>0.7560</td>\n",
       "      <td>Baltimore Orioles</td>\n",
       "      <td>-310</td>\n",
       "    </tr>\n",
       "    <tr>\n",
       "      <th>20375</th>\n",
       "      <td>2023-05-19</td>\n",
       "      <td>Wander Franco</td>\n",
       "      <td>1</td>\n",
       "      <td>0.7558</td>\n",
       "      <td>Tampa Bay Rays</td>\n",
       "      <td>-310</td>\n",
       "    </tr>\n",
       "    <tr>\n",
       "      <th>19640</th>\n",
       "      <td>2023-05-16</td>\n",
       "      <td>Gabriel Moreno</td>\n",
       "      <td>0</td>\n",
       "      <td>0.7551</td>\n",
       "      <td>Toronto Blue Jays</td>\n",
       "      <td>-308</td>\n",
       "    </tr>\n",
       "    <tr>\n",
       "      <th>24705</th>\n",
       "      <td>2023-05-30</td>\n",
       "      <td>Vladimir Guerrero Jr.</td>\n",
       "      <td>1</td>\n",
       "      <td>0.7540</td>\n",
       "      <td>Toronto Blue Jays</td>\n",
       "      <td>-307</td>\n",
       "    </tr>\n",
       "    <tr>\n",
       "      <th>10365</th>\n",
       "      <td>2023-04-23</td>\n",
       "      <td>Marcus Semien</td>\n",
       "      <td>1</td>\n",
       "      <td>0.7511</td>\n",
       "      <td>Oakland Athletics</td>\n",
       "      <td>-302</td>\n",
       "    </tr>\n",
       "    <tr>\n",
       "      <th>4926</th>\n",
       "      <td>2023-04-11</td>\n",
       "      <td>Ronald Acuna Jr.</td>\n",
       "      <td>0</td>\n",
       "      <td>0.7505</td>\n",
       "      <td>Atlanta Braves</td>\n",
       "      <td>-301</td>\n",
       "    </tr>\n",
       "  </tbody>\n",
       "</table>\n",
       "</div>"
      ],
      "text/plain": [
       "       game_date           batting_name  batting_hit_recorded  \\\n",
       "3297  2023-04-08            Adam Duvall                     1   \n",
       "12718 2023-04-29            Luis Arraez                     1   \n",
       "6590  2023-04-15           Joey Meneses                     1   \n",
       "24695 2023-05-30            Bo Bichette                     1   \n",
       "16931 2023-05-09         Thairo Estrada                     1   \n",
       "17291 2023-05-10      Christopher Morel                     1   \n",
       "7130  2023-04-16           Bryson Stott                     1   \n",
       "7725  2023-04-17           Nico Hoerner                     1   \n",
       "1860  2023-04-04           Corey Seager                     1   \n",
       "10264 2023-04-23          Jorge Polanco                     1   \n",
       "16552 2023-05-09         Randal Grichuk                     1   \n",
       "5681  2023-04-12        Freddie Freeman                     1   \n",
       "2194  2023-04-05        Travis d'Arnaud                     1   \n",
       "18273 2023-05-13          Mickey Moniak                     1   \n",
       "18967 2023-05-15          Brandon Nimmo                     1   \n",
       "4551  2023-04-10            Kris Bryant                     1   \n",
       "12705 2023-04-29       Bryan De La Cruz                     0   \n",
       "21216 2023-05-21            Riley Adams                     1   \n",
       "19316 2023-05-16           Riley Greene                     0   \n",
       "4704  2023-04-11          Anthony Rizzo                     1   \n",
       "19643 2023-05-16    Lourdes Gurriel Jr.                     1   \n",
       "19692 2023-05-16           Bryce Harper                     1   \n",
       "24699 2023-05-30           Matt Chapman                     0   \n",
       "4731  2023-04-11            Austin Hays                     0   \n",
       "20375 2023-05-19          Wander Franco                     1   \n",
       "19640 2023-05-16         Gabriel Moreno                     0   \n",
       "24705 2023-05-30  Vladimir Guerrero Jr.                     1   \n",
       "10365 2023-04-23          Marcus Semien                     1   \n",
       "4926  2023-04-11       Ronald Acuna Jr.                     0   \n",
       "\n",
       "       prediction_score       player_team_name  theo_odds  \n",
       "3297             0.8916          Miami Marlins       -823  \n",
       "12718            0.8896          Miami Marlins       -806  \n",
       "6590             0.8324   Washington Nationals       -497  \n",
       "24695            0.8284      Toronto Blue Jays       -483  \n",
       "16931            0.8190       New York Yankees       -452  \n",
       "17291            0.8152           Chicago Cubs       -441  \n",
       "7130             0.8133  Philadelphia Phillies       -436  \n",
       "7725             0.8087           Chicago Cubs       -423  \n",
       "1860             0.7988          Texas Rangers       -397  \n",
       "10264            0.7960        Minnesota Twins       -390  \n",
       "16552            0.7958       Colorado Rockies       -390  \n",
       "5681             0.7929    Los Angeles Dodgers       -383  \n",
       "2194             0.7927         Tampa Bay Rays       -382  \n",
       "18273            0.7885     Los Angeles Angels       -373  \n",
       "18967            0.7855          New York Mets       -366  \n",
       "4551             0.7802           Chicago Cubs       -355  \n",
       "12705            0.7797          Miami Marlins       -354  \n",
       "21216            0.7783   Washington Nationals       -351  \n",
       "19316            0.7780         Detroit Tigers       -350  \n",
       "4704             0.7758       San Diego Padres       -346  \n",
       "19643            0.7674      Toronto Blue Jays       -330  \n",
       "19692            0.7591   Washington Nationals       -315  \n",
       "24699            0.7588      Toronto Blue Jays       -315  \n",
       "4731             0.7560      Baltimore Orioles       -310  \n",
       "20375            0.7558         Tampa Bay Rays       -310  \n",
       "19640            0.7551      Toronto Blue Jays       -308  \n",
       "24705            0.7540      Toronto Blue Jays       -307  \n",
       "10365            0.7511      Oakland Athletics       -302  \n",
       "4926             0.7505         Atlanta Braves       -301  "
      ]
     },
     "execution_count": 196,
     "metadata": {},
     "output_type": "execute_result"
    }
   ],
   "source": [
    "score_threshold = 0.75\n",
    "confident_test_prediction = test_prediction[(test_prediction[\"prediction_score\"] >= score_threshold) & (test_prediction[\"prediction_label\"] == 1)].sort_values(by = \"prediction_score\", ascending = False).drop_duplicates(\"batting_name\")\n",
    "confident_test_prediction[['game_date', \"batting_name\", \"batting_hit_recorded\",\t\"prediction_score\", \"player_team_name\", \"theo_odds\"]]"
   ]
  },
  {
   "cell_type": "code",
   "execution_count": 197,
   "metadata": {
    "execution": {
     "iopub.execute_input": "2023-06-07T01:41:53.944931Z",
     "iopub.status.busy": "2023-06-07T01:41:53.944391Z",
     "iopub.status.idle": "2023-06-07T01:41:53.957295Z",
     "shell.execute_reply": "2023-06-07T01:41:53.955967Z",
     "shell.execute_reply.started": "2023-06-07T01:41:53.944885Z"
    }
   },
   "outputs": [
    {
     "data": {
      "text/plain": [
       "0.7931034482758621"
      ]
     },
     "execution_count": 197,
     "metadata": {},
     "output_type": "execute_result"
    }
   ],
   "source": [
    "confident_test_prediction.batting_hit_recorded.sum() / len(confident_test_prediction)"
   ]
  },
  {
   "cell_type": "code",
   "execution_count": null,
   "metadata": {},
   "outputs": [],
   "source": []
  },
  {
   "cell_type": "markdown",
   "metadata": {
    "id": "sOfz0zBX994h"
   },
   "source": [
    "**Finalize & Save Model**"
   ]
  },
  {
   "cell_type": "code",
   "execution_count": 198,
   "metadata": {
    "colab": {
     "base_uri": "https://localhost:8080/",
     "height": 34
    },
    "execution": {
     "iopub.execute_input": "2023-06-07T01:44:47.793850Z",
     "iopub.status.busy": "2023-06-07T01:44:47.793523Z",
     "iopub.status.idle": "2023-06-07T01:45:22.340334Z",
     "shell.execute_reply": "2023-06-07T01:45:22.339605Z",
     "shell.execute_reply.started": "2023-06-07T01:44:47.793826Z"
    },
    "id": "gutfxdh8-DKy",
    "outputId": "2e862724-33f5-45f0-ed52-aade46f98c7d"
   },
   "outputs": [],
   "source": [
    "# train over the whole dataset without validation split\n",
    "regressin_model_finalized = pycaret.classification.finalize_model(regressin_model)"
   ]
  },
  {
   "cell_type": "code",
   "execution_count": 199,
   "metadata": {
    "execution": {
     "iopub.execute_input": "2023-06-07T01:45:22.341308Z",
     "iopub.status.busy": "2023-06-07T01:45:22.341179Z",
     "iopub.status.idle": "2023-06-07T01:45:22.469580Z",
     "shell.execute_reply": "2023-06-07T01:45:22.468996Z",
     "shell.execute_reply.started": "2023-06-07T01:45:22.341297Z"
    }
   },
   "outputs": [
    {
     "name": "stdout",
     "output_type": "stream",
     "text": [
      "Transformation Pipeline and Model Successfully Saved\n"
     ]
    },
    {
     "data": {
      "text/plain": [
       "(Pipeline(memory=FastMemory(location=/tmp/joblib),\n",
       "          steps=[('numerical_imputer',\n",
       "                  TransformerWrapper(exclude=None,\n",
       "                                     include=['pitching_gamesPlayed',\n",
       "                                              'pitching_runs_per_game',\n",
       "                                              'pitching_strikeOuts_per_game',\n",
       "                                              'pitching_hits_per_game',\n",
       "                                              'batting_gamesPlayed',\n",
       "                                              'batting_runs_per_game',\n",
       "                                              'batting_strikeOuts_per_game',\n",
       "                                              'batting_hits_per_game',\n",
       "                                              'batting_rbi',\n",
       "                                              'pitching_cur_...\n",
       "                                                                                     multi_class='auto',\n",
       "                                                                                     n_jobs=None,\n",
       "                                                                                     penalty='l2',\n",
       "                                                                                     random_state=2334,\n",
       "                                                                                     solver='lbfgs',\n",
       "                                                                                     tol=0.0001,\n",
       "                                                                                     verbose=0,\n",
       "                                                                                     warm_start=False),\n",
       "                                                       dual=False,\n",
       "                                                       fit_intercept=True,\n",
       "                                                       intercept_scaling=1,\n",
       "                                                       l1_ratio=None,\n",
       "                                                       max_iter=1000,\n",
       "                                                       multi_class='auto',\n",
       "                                                       n_jobs=None, penalty='l2',\n",
       "                                                       probability_threshold=0.5,\n",
       "                                                       random_state=2334,\n",
       "                                                       solver='lbfgs',\n",
       "                                                       tol=0.0001, verbose=0,\n",
       "                                                       warm_start=False))],\n",
       "          verbose=False),\n",
       " 'model/batter_hit_lr_model.pkl')"
      ]
     },
     "execution_count": 199,
     "metadata": {},
     "output_type": "execute_result"
    }
   ],
   "source": [
    "pycaret.classification.save_model(regressin_model_finalized, model.common.model_file_name)"
   ]
  },
  {
   "cell_type": "code",
   "execution_count": null,
   "metadata": {},
   "outputs": [],
   "source": []
  },
  {
   "cell_type": "code",
   "execution_count": null,
   "metadata": {},
   "outputs": [],
   "source": []
  }
 ],
 "metadata": {
  "colab": {
   "provenance": []
  },
  "kernelspec": {
   "display_name": "Python 3 (ipykernel)",
   "language": "python",
   "name": "python3"
  },
  "language_info": {
   "codemirror_mode": {
    "name": "ipython",
    "version": 3
   },
   "file_extension": ".py",
   "mimetype": "text/x-python",
   "name": "python",
   "nbconvert_exporter": "python",
   "pygments_lexer": "ipython3",
   "version": "3.10.6"
  },
  "widgets": {
   "application/vnd.jupyter.widget-state+json": {
    "1ac32fe9102d4f5a9d1511e64a1d5e5d": {
     "model_module": "@jupyter-widgets/base",
     "model_module_version": "1.2.0",
     "model_name": "LayoutModel",
     "state": {
      "_model_module": "@jupyter-widgets/base",
      "_model_module_version": "1.2.0",
      "_model_name": "LayoutModel",
      "_view_count": null,
      "_view_module": "@jupyter-widgets/base",
      "_view_module_version": "1.2.0",
      "_view_name": "LayoutView",
      "align_content": null,
      "align_items": null,
      "align_self": null,
      "border": null,
      "bottom": null,
      "display": null,
      "flex": null,
      "flex_flow": null,
      "grid_area": null,
      "grid_auto_columns": null,
      "grid_auto_flow": null,
      "grid_auto_rows": null,
      "grid_column": null,
      "grid_gap": null,
      "grid_row": null,
      "grid_template_areas": null,
      "grid_template_columns": null,
      "grid_template_rows": null,
      "height": null,
      "justify_content": null,
      "justify_items": null,
      "left": null,
      "margin": null,
      "max_height": null,
      "max_width": null,
      "min_height": null,
      "min_width": null,
      "object_fit": null,
      "object_position": null,
      "order": null,
      "overflow": null,
      "overflow_x": null,
      "overflow_y": null,
      "padding": null,
      "right": null,
      "top": null,
      "visibility": null,
      "width": null
     }
    },
    "40b50c57e470496cb6c94a0693636fd7": {
     "model_module": "@jupyter-widgets/base",
     "model_module_version": "1.2.0",
     "model_name": "LayoutModel",
     "state": {
      "_model_module": "@jupyter-widgets/base",
      "_model_module_version": "1.2.0",
      "_model_name": "LayoutModel",
      "_view_count": null,
      "_view_module": "@jupyter-widgets/base",
      "_view_module_version": "1.2.0",
      "_view_name": "LayoutView",
      "align_content": null,
      "align_items": null,
      "align_self": null,
      "border": null,
      "bottom": null,
      "display": null,
      "flex": null,
      "flex_flow": null,
      "grid_area": null,
      "grid_auto_columns": null,
      "grid_auto_flow": null,
      "grid_auto_rows": null,
      "grid_column": null,
      "grid_gap": null,
      "grid_row": null,
      "grid_template_areas": null,
      "grid_template_columns": null,
      "grid_template_rows": null,
      "height": null,
      "justify_content": null,
      "justify_items": null,
      "left": null,
      "margin": null,
      "max_height": null,
      "max_width": null,
      "min_height": null,
      "min_width": null,
      "object_fit": null,
      "object_position": null,
      "order": null,
      "overflow": null,
      "overflow_x": null,
      "overflow_y": null,
      "padding": null,
      "right": null,
      "top": null,
      "visibility": "hidden",
      "width": null
     }
    },
    "46b9d3b6cd6e4f76a42dd4f216dc1644": {
     "model_module": "@jupyter-widgets/controls",
     "model_module_version": "1.5.0",
     "model_name": "HBoxModel",
     "state": {
      "_dom_classes": [],
      "_model_module": "@jupyter-widgets/controls",
      "_model_module_version": "1.5.0",
      "_model_name": "HBoxModel",
      "_view_count": null,
      "_view_module": "@jupyter-widgets/controls",
      "_view_module_version": "1.5.0",
      "_view_name": "HBoxView",
      "box_style": "",
      "children": [
       "IPY_MODEL_cfce22755aa7471a87151793e633def1",
       "IPY_MODEL_94d7b3dc65544425b2463933c4108fa4",
       "IPY_MODEL_f92582f04a594f87a669f3c1c4d4eabc"
      ],
      "layout": "IPY_MODEL_40b50c57e470496cb6c94a0693636fd7"
     }
    },
    "4efa6d0ab419418ea9e4991c77b1ec42": {
     "model_module": "@jupyter-widgets/controls",
     "model_module_version": "1.5.0",
     "model_name": "ProgressStyleModel",
     "state": {
      "_model_module": "@jupyter-widgets/controls",
      "_model_module_version": "1.5.0",
      "_model_name": "ProgressStyleModel",
      "_view_count": null,
      "_view_module": "@jupyter-widgets/base",
      "_view_module_version": "1.2.0",
      "_view_name": "StyleView",
      "bar_color": null,
      "description_width": ""
     }
    },
    "81feddb738c64cbc8b7dbc7aec2730de": {
     "model_module": "@jupyter-widgets/controls",
     "model_module_version": "1.5.0",
     "model_name": "DescriptionStyleModel",
     "state": {
      "_model_module": "@jupyter-widgets/controls",
      "_model_module_version": "1.5.0",
      "_model_name": "DescriptionStyleModel",
      "_view_count": null,
      "_view_module": "@jupyter-widgets/base",
      "_view_module_version": "1.2.0",
      "_view_name": "StyleView",
      "description_width": ""
     }
    },
    "94d7b3dc65544425b2463933c4108fa4": {
     "model_module": "@jupyter-widgets/controls",
     "model_module_version": "1.5.0",
     "model_name": "FloatProgressModel",
     "state": {
      "_dom_classes": [],
      "_model_module": "@jupyter-widgets/controls",
      "_model_module_version": "1.5.0",
      "_model_name": "FloatProgressModel",
      "_view_count": null,
      "_view_module": "@jupyter-widgets/controls",
      "_view_module_version": "1.5.0",
      "_view_name": "ProgressView",
      "bar_style": "",
      "description": "",
      "description_tooltip": null,
      "layout": "IPY_MODEL_eb74dfbcca4a458eb81d87fbae5bf166",
      "max": 4,
      "min": 0,
      "orientation": "horizontal",
      "style": "IPY_MODEL_4efa6d0ab419418ea9e4991c77b1ec42",
      "value": 4
     }
    },
    "bec03081ad154466a3a0abca5a8462f4": {
     "model_module": "@jupyter-widgets/base",
     "model_module_version": "1.2.0",
     "model_name": "LayoutModel",
     "state": {
      "_model_module": "@jupyter-widgets/base",
      "_model_module_version": "1.2.0",
      "_model_name": "LayoutModel",
      "_view_count": null,
      "_view_module": "@jupyter-widgets/base",
      "_view_module_version": "1.2.0",
      "_view_name": "LayoutView",
      "align_content": null,
      "align_items": null,
      "align_self": null,
      "border": null,
      "bottom": null,
      "display": null,
      "flex": null,
      "flex_flow": null,
      "grid_area": null,
      "grid_auto_columns": null,
      "grid_auto_flow": null,
      "grid_auto_rows": null,
      "grid_column": null,
      "grid_gap": null,
      "grid_row": null,
      "grid_template_areas": null,
      "grid_template_columns": null,
      "grid_template_rows": null,
      "height": null,
      "justify_content": null,
      "justify_items": null,
      "left": null,
      "margin": null,
      "max_height": null,
      "max_width": null,
      "min_height": null,
      "min_width": null,
      "object_fit": null,
      "object_position": null,
      "order": null,
      "overflow": null,
      "overflow_x": null,
      "overflow_y": null,
      "padding": null,
      "right": null,
      "top": null,
      "visibility": null,
      "width": null
     }
    },
    "cfcd697393754f1d93106a2d6e07ea05": {
     "model_module": "@jupyter-widgets/controls",
     "model_module_version": "1.5.0",
     "model_name": "DescriptionStyleModel",
     "state": {
      "_model_module": "@jupyter-widgets/controls",
      "_model_module_version": "1.5.0",
      "_model_name": "DescriptionStyleModel",
      "_view_count": null,
      "_view_module": "@jupyter-widgets/base",
      "_view_module_version": "1.2.0",
      "_view_name": "StyleView",
      "description_width": ""
     }
    },
    "cfce22755aa7471a87151793e633def1": {
     "model_module": "@jupyter-widgets/controls",
     "model_module_version": "1.5.0",
     "model_name": "HTMLModel",
     "state": {
      "_dom_classes": [],
      "_model_module": "@jupyter-widgets/controls",
      "_model_module_version": "1.5.0",
      "_model_name": "HTMLModel",
      "_view_count": null,
      "_view_module": "@jupyter-widgets/controls",
      "_view_module_version": "1.5.0",
      "_view_name": "HTMLView",
      "description": "",
      "description_tooltip": null,
      "layout": "IPY_MODEL_bec03081ad154466a3a0abca5a8462f4",
      "placeholder": "​",
      "style": "IPY_MODEL_81feddb738c64cbc8b7dbc7aec2730de",
      "value": "Processing: 100%"
     }
    },
    "eb74dfbcca4a458eb81d87fbae5bf166": {
     "model_module": "@jupyter-widgets/base",
     "model_module_version": "1.2.0",
     "model_name": "LayoutModel",
     "state": {
      "_model_module": "@jupyter-widgets/base",
      "_model_module_version": "1.2.0",
      "_model_name": "LayoutModel",
      "_view_count": null,
      "_view_module": "@jupyter-widgets/base",
      "_view_module_version": "1.2.0",
      "_view_name": "LayoutView",
      "align_content": null,
      "align_items": null,
      "align_self": null,
      "border": null,
      "bottom": null,
      "display": null,
      "flex": null,
      "flex_flow": null,
      "grid_area": null,
      "grid_auto_columns": null,
      "grid_auto_flow": null,
      "grid_auto_rows": null,
      "grid_column": null,
      "grid_gap": null,
      "grid_row": null,
      "grid_template_areas": null,
      "grid_template_columns": null,
      "grid_template_rows": null,
      "height": null,
      "justify_content": null,
      "justify_items": null,
      "left": null,
      "margin": null,
      "max_height": null,
      "max_width": null,
      "min_height": null,
      "min_width": null,
      "object_fit": null,
      "object_position": null,
      "order": null,
      "overflow": null,
      "overflow_x": null,
      "overflow_y": null,
      "padding": null,
      "right": null,
      "top": null,
      "visibility": null,
      "width": null
     }
    },
    "f92582f04a594f87a669f3c1c4d4eabc": {
     "model_module": "@jupyter-widgets/controls",
     "model_module_version": "1.5.0",
     "model_name": "HTMLModel",
     "state": {
      "_dom_classes": [],
      "_model_module": "@jupyter-widgets/controls",
      "_model_module_version": "1.5.0",
      "_model_name": "HTMLModel",
      "_view_count": null,
      "_view_module": "@jupyter-widgets/controls",
      "_view_module_version": "1.5.0",
      "_view_name": "HTMLView",
      "description": "",
      "description_tooltip": null,
      "layout": "IPY_MODEL_1ac32fe9102d4f5a9d1511e64a1d5e5d",
      "placeholder": "​",
      "style": "IPY_MODEL_cfcd697393754f1d93106a2d6e07ea05",
      "value": " 4/4 [00:10&lt;00:00,  2.34s/it]"
     }
    }
   }
  }
 },
 "nbformat": 4,
 "nbformat_minor": 4
}
