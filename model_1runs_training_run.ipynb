{
 "cells": [
  {
   "cell_type": "markdown",
   "metadata": {
    "id": "X1V_SUC4p-YQ"
   },
   "source": [
    "**Import Packages**"
   ]
  },
  {
   "cell_type": "code",
   "execution_count": 4,
   "metadata": {
    "colab": {
     "base_uri": "https://localhost:8080/"
    },
    "execution": {
     "iopub.execute_input": "2023-07-09T04:24:59.167061Z",
     "iopub.status.busy": "2023-07-09T04:24:59.166761Z",
     "iopub.status.idle": "2023-07-09T04:24:59.333564Z",
     "shell.execute_reply": "2023-07-09T04:24:59.333158Z",
     "shell.execute_reply.started": "2023-07-09T04:24:59.167026Z"
    },
    "id": "IGZCa25_p5QY",
    "outputId": "d9e7f9d8-21e8-49dd-d344-173324ba79a5",
    "tags": []
   },
   "outputs": [],
   "source": [
    "import pycaret\n",
    "import pandas as pd\n",
    "import numpy as np\n",
    "import sqlalchemy\n",
    "import mysql.connector\n",
    "\n",
    "from pycaret import classification\n",
    "from pycaret.classification import plot_model\n",
    "from datetime import datetime\n",
    "import importlib\n",
    "import model.common"
   ]
  },
  {
   "cell_type": "code",
   "execution_count": 5,
   "metadata": {
    "execution": {
     "iopub.execute_input": "2023-07-09T04:24:59.382162Z",
     "iopub.status.busy": "2023-07-09T04:24:59.381806Z",
     "iopub.status.idle": "2023-07-09T04:24:59.384606Z",
     "shell.execute_reply": "2023-07-09T04:24:59.384183Z",
     "shell.execute_reply.started": "2023-07-09T04:24:59.382143Z"
    }
   },
   "outputs": [],
   "source": [
    "from static_data.load_static_data import *"
   ]
  },
  {
   "cell_type": "markdown",
   "metadata": {
    "id": "jqde2RQfqchC"
   },
   "source": [
    "**Load Data**"
   ]
  },
  {
   "cell_type": "code",
   "execution_count": 6,
   "metadata": {
    "execution": {
     "iopub.execute_input": "2023-07-09T04:24:59.702957Z",
     "iopub.status.busy": "2023-07-09T04:24:59.702759Z",
     "iopub.status.idle": "2023-07-09T04:25:00.269927Z",
     "shell.execute_reply": "2023-07-09T04:25:00.269535Z",
     "shell.execute_reply.started": "2023-07-09T04:24:59.702942Z"
    }
   },
   "outputs": [
    {
     "name": "stdout",
     "output_type": "stream",
     "text": [
      "326057\n"
     ]
    }
   ],
   "source": [
    "collect_data_Base_dir = 'collect_data'\n",
    "df_game_matchup_total = pd.read_pickle(f'{collect_data_Base_dir}/df_game_matchup_total.pkl')\n",
    "print(len(df_game_matchup_total))"
   ]
  },
  {
   "cell_type": "markdown",
   "metadata": {
    "id": "VkSM5TOeule8"
   },
   "source": [
    "**Choose Columns**"
   ]
  },
  {
   "cell_type": "code",
   "execution_count": 7,
   "metadata": {
    "execution": {
     "iopub.execute_input": "2023-07-09T04:25:00.270705Z",
     "iopub.status.busy": "2023-07-09T04:25:00.270579Z",
     "iopub.status.idle": "2023-07-09T04:25:00.276451Z",
     "shell.execute_reply": "2023-07-09T04:25:00.275915Z",
     "shell.execute_reply.started": "2023-07-09T04:25:00.270694Z"
    }
   },
   "outputs": [
    {
     "data": {
      "text/plain": [
       "<module 'model.common' from '/home/junlim/projects/mlb-props/model/common.py'>"
      ]
     },
     "execution_count": 7,
     "metadata": {},
     "output_type": "execute_result"
    }
   ],
   "source": [
    "importlib.reload(model.common)"
   ]
  },
  {
   "cell_type": "code",
   "execution_count": 8,
   "metadata": {
    "execution": {
     "iopub.execute_input": "2023-07-09T04:25:00.346907Z",
     "iopub.status.busy": "2023-07-09T04:25:00.346623Z",
     "iopub.status.idle": "2023-07-09T04:25:00.350336Z",
     "shell.execute_reply": "2023-07-09T04:25:00.349576Z",
     "shell.execute_reply.started": "2023-07-09T04:25:00.346879Z"
    }
   },
   "outputs": [],
   "source": [
    "feature_columns, target_column, model_file_name = model.common.features_1runs_recorded, model.common.target_1runs_recorded, model.common.model_1runs_file_name"
   ]
  },
  {
   "cell_type": "code",
   "execution_count": 9,
   "metadata": {
    "execution": {
     "iopub.execute_input": "2023-07-09T04:25:00.680780Z",
     "iopub.status.busy": "2023-07-09T04:25:00.680498Z",
     "iopub.status.idle": "2023-07-09T04:25:00.908220Z",
     "shell.execute_reply": "2023-07-09T04:25:00.907156Z",
     "shell.execute_reply.started": "2023-07-09T04:25:00.680762Z"
    }
   },
   "outputs": [],
   "source": [
    "train_data = df_game_matchup_total[(df_game_matchup_total.game_date > \"2012-04-01\") & (df_game_matchup_total.game_date < \"2022-12-01\")][feature_columns]\n",
    "test_data = df_game_matchup_total[(df_game_matchup_total.game_date > \"2022-12-01\")][feature_columns]"
   ]
  },
  {
   "cell_type": "markdown",
   "metadata": {
    "id": "Qxoqal-SvwXp"
   },
   "source": [
    "**Build/Train Model**"
   ]
  },
  {
   "cell_type": "code",
   "execution_count": 14,
   "metadata": {
    "execution": {
     "iopub.execute_input": "2023-07-09T04:31:51.414882Z",
     "iopub.status.busy": "2023-07-09T04:31:51.414681Z",
     "iopub.status.idle": "2023-07-09T04:31:52.769154Z",
     "shell.execute_reply": "2023-07-09T04:31:52.768399Z",
     "shell.execute_reply.started": "2023-07-09T04:31:51.414868Z"
    }
   },
   "outputs": [
    {
     "data": {
      "text/html": [
       "<style type=\"text/css\">\n",
       "#T_2d59f_row11_col1 {\n",
       "  background-color: lightgreen;\n",
       "}\n",
       "</style>\n",
       "<table id=\"T_2d59f\">\n",
       "  <thead>\n",
       "    <tr>\n",
       "      <th class=\"blank level0\" >&nbsp;</th>\n",
       "      <th id=\"T_2d59f_level0_col0\" class=\"col_heading level0 col0\" >Description</th>\n",
       "      <th id=\"T_2d59f_level0_col1\" class=\"col_heading level0 col1\" >Value</th>\n",
       "    </tr>\n",
       "  </thead>\n",
       "  <tbody>\n",
       "    <tr>\n",
       "      <th id=\"T_2d59f_level0_row0\" class=\"row_heading level0 row0\" >0</th>\n",
       "      <td id=\"T_2d59f_row0_col0\" class=\"data row0 col0\" >Session id</td>\n",
       "      <td id=\"T_2d59f_row0_col1\" class=\"data row0 col1\" >6202</td>\n",
       "    </tr>\n",
       "    <tr>\n",
       "      <th id=\"T_2d59f_level0_row1\" class=\"row_heading level0 row1\" >1</th>\n",
       "      <td id=\"T_2d59f_row1_col0\" class=\"data row1 col0\" >Target</td>\n",
       "      <td id=\"T_2d59f_row1_col1\" class=\"data row1 col1\" >batting_1runs_recorded</td>\n",
       "    </tr>\n",
       "    <tr>\n",
       "      <th id=\"T_2d59f_level0_row2\" class=\"row_heading level0 row2\" >2</th>\n",
       "      <td id=\"T_2d59f_row2_col0\" class=\"data row2 col0\" >Target type</td>\n",
       "      <td id=\"T_2d59f_row2_col1\" class=\"data row2 col1\" >Binary</td>\n",
       "    </tr>\n",
       "    <tr>\n",
       "      <th id=\"T_2d59f_level0_row3\" class=\"row_heading level0 row3\" >3</th>\n",
       "      <td id=\"T_2d59f_row3_col0\" class=\"data row3 col0\" >Original data shape</td>\n",
       "      <td id=\"T_2d59f_row3_col1\" class=\"data row3 col1\" >(285090, 21)</td>\n",
       "    </tr>\n",
       "    <tr>\n",
       "      <th id=\"T_2d59f_level0_row4\" class=\"row_heading level0 row4\" >4</th>\n",
       "      <td id=\"T_2d59f_row4_col0\" class=\"data row4 col0\" >Transformed data shape</td>\n",
       "      <td id=\"T_2d59f_row4_col1\" class=\"data row4 col1\" >(285090, 15)</td>\n",
       "    </tr>\n",
       "    <tr>\n",
       "      <th id=\"T_2d59f_level0_row5\" class=\"row_heading level0 row5\" >5</th>\n",
       "      <td id=\"T_2d59f_row5_col0\" class=\"data row5 col0\" >Transformed train set shape</td>\n",
       "      <td id=\"T_2d59f_row5_col1\" class=\"data row5 col1\" >(199563, 15)</td>\n",
       "    </tr>\n",
       "    <tr>\n",
       "      <th id=\"T_2d59f_level0_row6\" class=\"row_heading level0 row6\" >6</th>\n",
       "      <td id=\"T_2d59f_row6_col0\" class=\"data row6 col0\" >Transformed test set shape</td>\n",
       "      <td id=\"T_2d59f_row6_col1\" class=\"data row6 col1\" >(85527, 15)</td>\n",
       "    </tr>\n",
       "    <tr>\n",
       "      <th id=\"T_2d59f_level0_row7\" class=\"row_heading level0 row7\" >7</th>\n",
       "      <td id=\"T_2d59f_row7_col0\" class=\"data row7 col0\" >Ignore features</td>\n",
       "      <td id=\"T_2d59f_row7_col1\" class=\"data row7 col1\" >6</td>\n",
       "    </tr>\n",
       "    <tr>\n",
       "      <th id=\"T_2d59f_level0_row8\" class=\"row_heading level0 row8\" >8</th>\n",
       "      <td id=\"T_2d59f_row8_col0\" class=\"data row8 col0\" >Numeric features</td>\n",
       "      <td id=\"T_2d59f_row8_col1\" class=\"data row8 col1\" >13</td>\n",
       "    </tr>\n",
       "    <tr>\n",
       "      <th id=\"T_2d59f_level0_row9\" class=\"row_heading level0 row9\" >9</th>\n",
       "      <td id=\"T_2d59f_row9_col0\" class=\"data row9 col0\" >Categorical features</td>\n",
       "      <td id=\"T_2d59f_row9_col1\" class=\"data row9 col1\" >1</td>\n",
       "    </tr>\n",
       "    <tr>\n",
       "      <th id=\"T_2d59f_level0_row10\" class=\"row_heading level0 row10\" >10</th>\n",
       "      <td id=\"T_2d59f_row10_col0\" class=\"data row10 col0\" >Rows with missing values</td>\n",
       "      <td id=\"T_2d59f_row10_col1\" class=\"data row10 col1\" >0.0%</td>\n",
       "    </tr>\n",
       "    <tr>\n",
       "      <th id=\"T_2d59f_level0_row11\" class=\"row_heading level0 row11\" >11</th>\n",
       "      <td id=\"T_2d59f_row11_col0\" class=\"data row11 col0\" >Preprocess</td>\n",
       "      <td id=\"T_2d59f_row11_col1\" class=\"data row11 col1\" >True</td>\n",
       "    </tr>\n",
       "    <tr>\n",
       "      <th id=\"T_2d59f_level0_row12\" class=\"row_heading level0 row12\" >12</th>\n",
       "      <td id=\"T_2d59f_row12_col0\" class=\"data row12 col0\" >Imputation type</td>\n",
       "      <td id=\"T_2d59f_row12_col1\" class=\"data row12 col1\" >simple</td>\n",
       "    </tr>\n",
       "    <tr>\n",
       "      <th id=\"T_2d59f_level0_row13\" class=\"row_heading level0 row13\" >13</th>\n",
       "      <td id=\"T_2d59f_row13_col0\" class=\"data row13 col0\" >Numeric imputation</td>\n",
       "      <td id=\"T_2d59f_row13_col1\" class=\"data row13 col1\" >mean</td>\n",
       "    </tr>\n",
       "    <tr>\n",
       "      <th id=\"T_2d59f_level0_row14\" class=\"row_heading level0 row14\" >14</th>\n",
       "      <td id=\"T_2d59f_row14_col0\" class=\"data row14 col0\" >Categorical imputation</td>\n",
       "      <td id=\"T_2d59f_row14_col1\" class=\"data row14 col1\" >mode</td>\n",
       "    </tr>\n",
       "    <tr>\n",
       "      <th id=\"T_2d59f_level0_row15\" class=\"row_heading level0 row15\" >15</th>\n",
       "      <td id=\"T_2d59f_row15_col0\" class=\"data row15 col0\" >Maximum one-hot encoding</td>\n",
       "      <td id=\"T_2d59f_row15_col1\" class=\"data row15 col1\" >25</td>\n",
       "    </tr>\n",
       "    <tr>\n",
       "      <th id=\"T_2d59f_level0_row16\" class=\"row_heading level0 row16\" >16</th>\n",
       "      <td id=\"T_2d59f_row16_col0\" class=\"data row16 col0\" >Encoding method</td>\n",
       "      <td id=\"T_2d59f_row16_col1\" class=\"data row16 col1\" >None</td>\n",
       "    </tr>\n",
       "    <tr>\n",
       "      <th id=\"T_2d59f_level0_row17\" class=\"row_heading level0 row17\" >17</th>\n",
       "      <td id=\"T_2d59f_row17_col0\" class=\"data row17 col0\" >Fold Generator</td>\n",
       "      <td id=\"T_2d59f_row17_col1\" class=\"data row17 col1\" >StratifiedKFold</td>\n",
       "    </tr>\n",
       "    <tr>\n",
       "      <th id=\"T_2d59f_level0_row18\" class=\"row_heading level0 row18\" >18</th>\n",
       "      <td id=\"T_2d59f_row18_col0\" class=\"data row18 col0\" >Fold Number</td>\n",
       "      <td id=\"T_2d59f_row18_col1\" class=\"data row18 col1\" >10</td>\n",
       "    </tr>\n",
       "    <tr>\n",
       "      <th id=\"T_2d59f_level0_row19\" class=\"row_heading level0 row19\" >19</th>\n",
       "      <td id=\"T_2d59f_row19_col0\" class=\"data row19 col0\" >CPU Jobs</td>\n",
       "      <td id=\"T_2d59f_row19_col1\" class=\"data row19 col1\" >-1</td>\n",
       "    </tr>\n",
       "    <tr>\n",
       "      <th id=\"T_2d59f_level0_row20\" class=\"row_heading level0 row20\" >20</th>\n",
       "      <td id=\"T_2d59f_row20_col0\" class=\"data row20 col0\" >Use GPU</td>\n",
       "      <td id=\"T_2d59f_row20_col1\" class=\"data row20 col1\" >False</td>\n",
       "    </tr>\n",
       "    <tr>\n",
       "      <th id=\"T_2d59f_level0_row21\" class=\"row_heading level0 row21\" >21</th>\n",
       "      <td id=\"T_2d59f_row21_col0\" class=\"data row21 col0\" >Log Experiment</td>\n",
       "      <td id=\"T_2d59f_row21_col1\" class=\"data row21 col1\" >False</td>\n",
       "    </tr>\n",
       "    <tr>\n",
       "      <th id=\"T_2d59f_level0_row22\" class=\"row_heading level0 row22\" >22</th>\n",
       "      <td id=\"T_2d59f_row22_col0\" class=\"data row22 col0\" >Experiment Name</td>\n",
       "      <td id=\"T_2d59f_row22_col1\" class=\"data row22 col1\" >clf-default-name</td>\n",
       "    </tr>\n",
       "    <tr>\n",
       "      <th id=\"T_2d59f_level0_row23\" class=\"row_heading level0 row23\" >23</th>\n",
       "      <td id=\"T_2d59f_row23_col0\" class=\"data row23 col0\" >USI</td>\n",
       "      <td id=\"T_2d59f_row23_col1\" class=\"data row23 col1\" >a1d6</td>\n",
       "    </tr>\n",
       "  </tbody>\n",
       "</table>\n"
      ],
      "text/plain": [
       "<pandas.io.formats.style.Styler at 0x7f85b50eace0>"
      ]
     },
     "metadata": {},
     "output_type": "display_data"
    }
   ],
   "source": [
    "import pycaret.classification\n",
    "\n",
    "classification_setup = pycaret.classification.setup(\n",
    "    data = train_data, target = target_column, train_size = .70, use_gpu = False, \n",
    "    categorical_features = ['game_venue'], ignore_features = model.common.ignore_features + ['batting_name', 'pitching_name'],\n",
    "    #fix_imbalance=True, fix_imbalance_method='smote',\n",
    ")"
   ]
  },
  {
   "cell_type": "code",
   "execution_count": 15,
   "metadata": {
    "execution": {
     "iopub.execute_input": "2023-07-09T04:31:52.770164Z",
     "iopub.status.busy": "2023-07-09T04:31:52.770016Z",
     "iopub.status.idle": "2023-07-09T04:32:04.475210Z",
     "shell.execute_reply": "2023-07-09T04:32:04.474511Z",
     "shell.execute_reply.started": "2023-07-09T04:31:52.770152Z"
    }
   },
   "outputs": [
    {
     "data": {
      "text/html": [],
      "text/plain": [
       "<IPython.core.display.HTML object>"
      ]
     },
     "metadata": {},
     "output_type": "display_data"
    },
    {
     "data": {
      "text/html": [
       "<style type=\"text/css\">\n",
       "#T_dcc14_row10_col0, #T_dcc14_row10_col1, #T_dcc14_row10_col2, #T_dcc14_row10_col3, #T_dcc14_row10_col4, #T_dcc14_row10_col5, #T_dcc14_row10_col6 {\n",
       "  background: yellow;\n",
       "}\n",
       "</style>\n",
       "<table id=\"T_dcc14\">\n",
       "  <thead>\n",
       "    <tr>\n",
       "      <th class=\"blank level0\" >&nbsp;</th>\n",
       "      <th id=\"T_dcc14_level0_col0\" class=\"col_heading level0 col0\" >Accuracy</th>\n",
       "      <th id=\"T_dcc14_level0_col1\" class=\"col_heading level0 col1\" >AUC</th>\n",
       "      <th id=\"T_dcc14_level0_col2\" class=\"col_heading level0 col2\" >Recall</th>\n",
       "      <th id=\"T_dcc14_level0_col3\" class=\"col_heading level0 col3\" >Prec.</th>\n",
       "      <th id=\"T_dcc14_level0_col4\" class=\"col_heading level0 col4\" >F1</th>\n",
       "      <th id=\"T_dcc14_level0_col5\" class=\"col_heading level0 col5\" >Kappa</th>\n",
       "      <th id=\"T_dcc14_level0_col6\" class=\"col_heading level0 col6\" >MCC</th>\n",
       "    </tr>\n",
       "    <tr>\n",
       "      <th class=\"index_name level0\" >Fold</th>\n",
       "      <th class=\"blank col0\" >&nbsp;</th>\n",
       "      <th class=\"blank col1\" >&nbsp;</th>\n",
       "      <th class=\"blank col2\" >&nbsp;</th>\n",
       "      <th class=\"blank col3\" >&nbsp;</th>\n",
       "      <th class=\"blank col4\" >&nbsp;</th>\n",
       "      <th class=\"blank col5\" >&nbsp;</th>\n",
       "      <th class=\"blank col6\" >&nbsp;</th>\n",
       "    </tr>\n",
       "  </thead>\n",
       "  <tbody>\n",
       "    <tr>\n",
       "      <th id=\"T_dcc14_level0_row0\" class=\"row_heading level0 row0\" >0</th>\n",
       "      <td id=\"T_dcc14_row0_col0\" class=\"data row0 col0\" >0.6576</td>\n",
       "      <td id=\"T_dcc14_row0_col1\" class=\"data row0 col1\" >0.6383</td>\n",
       "      <td id=\"T_dcc14_row0_col2\" class=\"data row0 col2\" >0.1369</td>\n",
       "      <td id=\"T_dcc14_row0_col3\" class=\"data row0 col3\" >0.5668</td>\n",
       "      <td id=\"T_dcc14_row0_col4\" class=\"data row0 col4\" >0.2206</td>\n",
       "      <td id=\"T_dcc14_row0_col5\" class=\"data row0 col5\" >0.0961</td>\n",
       "      <td id=\"T_dcc14_row0_col6\" class=\"data row0 col6\" >0.1362</td>\n",
       "    </tr>\n",
       "    <tr>\n",
       "      <th id=\"T_dcc14_level0_row1\" class=\"row_heading level0 row1\" >1</th>\n",
       "      <td id=\"T_dcc14_row1_col0\" class=\"data row1 col0\" >0.6552</td>\n",
       "      <td id=\"T_dcc14_row1_col1\" class=\"data row1 col1\" >0.6433</td>\n",
       "      <td id=\"T_dcc14_row1_col2\" class=\"data row1 col2\" >0.1265</td>\n",
       "      <td id=\"T_dcc14_row1_col3\" class=\"data row1 col3\" >0.5560</td>\n",
       "      <td id=\"T_dcc14_row1_col4\" class=\"data row1 col4\" >0.2061</td>\n",
       "      <td id=\"T_dcc14_row1_col5\" class=\"data row1 col5\" >0.0863</td>\n",
       "      <td id=\"T_dcc14_row1_col6\" class=\"data row1 col6\" >0.1251</td>\n",
       "    </tr>\n",
       "    <tr>\n",
       "      <th id=\"T_dcc14_level0_row2\" class=\"row_heading level0 row2\" >2</th>\n",
       "      <td id=\"T_dcc14_row2_col0\" class=\"data row2 col0\" >0.6552</td>\n",
       "      <td id=\"T_dcc14_row2_col1\" class=\"data row2 col1\" >0.6363</td>\n",
       "      <td id=\"T_dcc14_row2_col2\" class=\"data row2 col2\" >0.1361</td>\n",
       "      <td id=\"T_dcc14_row2_col3\" class=\"data row2 col3\" >0.5513</td>\n",
       "      <td id=\"T_dcc14_row2_col4\" class=\"data row2 col4\" >0.2183</td>\n",
       "      <td id=\"T_dcc14_row2_col5\" class=\"data row2 col5\" >0.0910</td>\n",
       "      <td id=\"T_dcc14_row2_col6\" class=\"data row2 col6\" >0.1278</td>\n",
       "    </tr>\n",
       "    <tr>\n",
       "      <th id=\"T_dcc14_level0_row3\" class=\"row_heading level0 row3\" >3</th>\n",
       "      <td id=\"T_dcc14_row3_col0\" class=\"data row3 col0\" >0.6511</td>\n",
       "      <td id=\"T_dcc14_row3_col1\" class=\"data row3 col1\" >0.6357</td>\n",
       "      <td id=\"T_dcc14_row3_col2\" class=\"data row3 col2\" >0.1324</td>\n",
       "      <td id=\"T_dcc14_row3_col3\" class=\"data row3 col3\" >0.5280</td>\n",
       "      <td id=\"T_dcc14_row3_col4\" class=\"data row3 col4\" >0.2117</td>\n",
       "      <td id=\"T_dcc14_row3_col5\" class=\"data row3 col5\" >0.0814</td>\n",
       "      <td id=\"T_dcc14_row3_col6\" class=\"data row3 col6\" >0.1136</td>\n",
       "    </tr>\n",
       "    <tr>\n",
       "      <th id=\"T_dcc14_level0_row4\" class=\"row_heading level0 row4\" >4</th>\n",
       "      <td id=\"T_dcc14_row4_col0\" class=\"data row4 col0\" >0.6555</td>\n",
       "      <td id=\"T_dcc14_row4_col1\" class=\"data row4 col1\" >0.6464</td>\n",
       "      <td id=\"T_dcc14_row4_col2\" class=\"data row4 col2\" >0.1303</td>\n",
       "      <td id=\"T_dcc14_row4_col3\" class=\"data row4 col3\" >0.5562</td>\n",
       "      <td id=\"T_dcc14_row4_col4\" class=\"data row4 col4\" >0.2111</td>\n",
       "      <td id=\"T_dcc14_row4_col5\" class=\"data row4 col5\" >0.0887</td>\n",
       "      <td id=\"T_dcc14_row4_col6\" class=\"data row4 col6\" >0.1272</td>\n",
       "    </tr>\n",
       "    <tr>\n",
       "      <th id=\"T_dcc14_level0_row5\" class=\"row_heading level0 row5\" >5</th>\n",
       "      <td id=\"T_dcc14_row5_col0\" class=\"data row5 col0\" >0.6547</td>\n",
       "      <td id=\"T_dcc14_row5_col1\" class=\"data row5 col1\" >0.6404</td>\n",
       "      <td id=\"T_dcc14_row5_col2\" class=\"data row5 col2\" >0.1330</td>\n",
       "      <td id=\"T_dcc14_row5_col3\" class=\"data row5 col3\" >0.5498</td>\n",
       "      <td id=\"T_dcc14_row5_col4\" class=\"data row5 col4\" >0.2142</td>\n",
       "      <td id=\"T_dcc14_row5_col5\" class=\"data row5 col5\" >0.0885</td>\n",
       "      <td id=\"T_dcc14_row5_col6\" class=\"data row5 col6\" >0.1254</td>\n",
       "    </tr>\n",
       "    <tr>\n",
       "      <th id=\"T_dcc14_level0_row6\" class=\"row_heading level0 row6\" >6</th>\n",
       "      <td id=\"T_dcc14_row6_col0\" class=\"data row6 col0\" >0.6573</td>\n",
       "      <td id=\"T_dcc14_row6_col1\" class=\"data row6 col1\" >0.6409</td>\n",
       "      <td id=\"T_dcc14_row6_col2\" class=\"data row6 col2\" >0.1327</td>\n",
       "      <td id=\"T_dcc14_row6_col3\" class=\"data row6 col3\" >0.5672</td>\n",
       "      <td id=\"T_dcc14_row6_col4\" class=\"data row6 col4\" >0.2151</td>\n",
       "      <td id=\"T_dcc14_row6_col5\" class=\"data row6 col5\" >0.0934</td>\n",
       "      <td id=\"T_dcc14_row6_col6\" class=\"data row6 col6\" >0.1341</td>\n",
       "    </tr>\n",
       "    <tr>\n",
       "      <th id=\"T_dcc14_level0_row7\" class=\"row_heading level0 row7\" >7</th>\n",
       "      <td id=\"T_dcc14_row7_col0\" class=\"data row7 col0\" >0.6558</td>\n",
       "      <td id=\"T_dcc14_row7_col1\" class=\"data row7 col1\" >0.6440</td>\n",
       "      <td id=\"T_dcc14_row7_col2\" class=\"data row7 col2\" >0.1347</td>\n",
       "      <td id=\"T_dcc14_row7_col3\" class=\"data row7 col3\" >0.5561</td>\n",
       "      <td id=\"T_dcc14_row7_col4\" class=\"data row7 col4\" >0.2169</td>\n",
       "      <td id=\"T_dcc14_row7_col5\" class=\"data row7 col5\" >0.0915</td>\n",
       "      <td id=\"T_dcc14_row7_col6\" class=\"data row7 col6\" >0.1295</td>\n",
       "    </tr>\n",
       "    <tr>\n",
       "      <th id=\"T_dcc14_level0_row8\" class=\"row_heading level0 row8\" >8</th>\n",
       "      <td id=\"T_dcc14_row8_col0\" class=\"data row8 col0\" >0.6558</td>\n",
       "      <td id=\"T_dcc14_row8_col1\" class=\"data row8 col1\" >0.6395</td>\n",
       "      <td id=\"T_dcc14_row8_col2\" class=\"data row8 col2\" >0.1358</td>\n",
       "      <td id=\"T_dcc14_row8_col3\" class=\"data row8 col3\" >0.5559</td>\n",
       "      <td id=\"T_dcc14_row8_col4\" class=\"data row8 col4\" >0.2183</td>\n",
       "      <td id=\"T_dcc14_row8_col5\" class=\"data row8 col5\" >0.0922</td>\n",
       "      <td id=\"T_dcc14_row8_col6\" class=\"data row8 col6\" >0.1300</td>\n",
       "    </tr>\n",
       "    <tr>\n",
       "      <th id=\"T_dcc14_level0_row9\" class=\"row_heading level0 row9\" >9</th>\n",
       "      <td id=\"T_dcc14_row9_col0\" class=\"data row9 col0\" >0.6535</td>\n",
       "      <td id=\"T_dcc14_row9_col1\" class=\"data row9 col1\" >0.6357</td>\n",
       "      <td id=\"T_dcc14_row9_col2\" class=\"data row9 col2\" >0.1316</td>\n",
       "      <td id=\"T_dcc14_row9_col3\" class=\"data row9 col3\" >0.5426</td>\n",
       "      <td id=\"T_dcc14_row9_col4\" class=\"data row9 col4\" >0.2118</td>\n",
       "      <td id=\"T_dcc14_row9_col5\" class=\"data row9 col5\" >0.0855</td>\n",
       "      <td id=\"T_dcc14_row9_col6\" class=\"data row9 col6\" >0.1210</td>\n",
       "    </tr>\n",
       "    <tr>\n",
       "      <th id=\"T_dcc14_level0_row10\" class=\"row_heading level0 row10\" >Mean</th>\n",
       "      <td id=\"T_dcc14_row10_col0\" class=\"data row10 col0\" >0.6552</td>\n",
       "      <td id=\"T_dcc14_row10_col1\" class=\"data row10 col1\" >0.6400</td>\n",
       "      <td id=\"T_dcc14_row10_col2\" class=\"data row10 col2\" >0.1330</td>\n",
       "      <td id=\"T_dcc14_row10_col3\" class=\"data row10 col3\" >0.5530</td>\n",
       "      <td id=\"T_dcc14_row10_col4\" class=\"data row10 col4\" >0.2144</td>\n",
       "      <td id=\"T_dcc14_row10_col5\" class=\"data row10 col5\" >0.0895</td>\n",
       "      <td id=\"T_dcc14_row10_col6\" class=\"data row10 col6\" >0.1270</td>\n",
       "    </tr>\n",
       "    <tr>\n",
       "      <th id=\"T_dcc14_level0_row11\" class=\"row_heading level0 row11\" >Std</th>\n",
       "      <td id=\"T_dcc14_row11_col0\" class=\"data row11 col0\" >0.0017</td>\n",
       "      <td id=\"T_dcc14_row11_col1\" class=\"data row11 col1\" >0.0035</td>\n",
       "      <td id=\"T_dcc14_row11_col2\" class=\"data row11 col2\" >0.0030</td>\n",
       "      <td id=\"T_dcc14_row11_col3\" class=\"data row11 col3\" >0.0109</td>\n",
       "      <td id=\"T_dcc14_row11_col4\" class=\"data row11 col4\" >0.0041</td>\n",
       "      <td id=\"T_dcc14_row11_col5\" class=\"data row11 col5\" >0.0041</td>\n",
       "      <td id=\"T_dcc14_row11_col6\" class=\"data row11 col6\" >0.0061</td>\n",
       "    </tr>\n",
       "  </tbody>\n",
       "</table>\n"
      ],
      "text/plain": [
       "<pandas.io.formats.style.Styler at 0x7f860b4651e0>"
      ]
     },
     "metadata": {},
     "output_type": "display_data"
    },
    {
     "data": {
      "text/html": [],
      "text/plain": [
       "<IPython.core.display.HTML object>"
      ]
     },
     "metadata": {},
     "output_type": "display_data"
    },
    {
     "data": {
      "text/html": [],
      "text/plain": [
       "<IPython.core.display.HTML object>"
      ]
     },
     "metadata": {},
     "output_type": "display_data"
    },
    {
     "data": {
      "image/png": "[encoded data removed]",
      "text/plain": [
       "<Figure size 480x330 with 1 Axes>"
      ]
     },
     "metadata": {},
     "output_type": "display_data"
    }
   ],
   "source": [
    "regression_model_lightgbm = classification_setup.create_model(\"lightgbm\", probability_threshold = 0.50)\n",
    "plot_model(regression_model_lightgbm, plot = 'auc', scale = 0.6)"
   ]
  },
  {
   "cell_type": "code",
   "execution_count": 16,
   "metadata": {
    "execution": {
     "iopub.execute_input": "2023-07-09T04:32:04.475918Z",
     "iopub.status.busy": "2023-07-09T04:32:04.475804Z",
     "iopub.status.idle": "2023-07-09T04:32:06.493619Z",
     "shell.execute_reply": "2023-07-09T04:32:06.492766Z",
     "shell.execute_reply.started": "2023-07-09T04:32:04.475906Z"
    }
   },
   "outputs": [],
   "source": [
    "regression_model_finalized_lightgbm = pycaret.classification.finalize_model(regression_model_lightgbm)"
   ]
  },
  {
   "cell_type": "code",
   "execution_count": 17,
   "metadata": {
    "execution": {
     "iopub.execute_input": "2023-07-09T04:32:06.494694Z",
     "iopub.status.busy": "2023-07-09T04:32:06.494567Z",
     "iopub.status.idle": "2023-07-09T04:32:06.617488Z",
     "shell.execute_reply": "2023-07-09T04:32:06.616785Z",
     "shell.execute_reply.started": "2023-07-09T04:32:06.494682Z"
    }
   },
   "outputs": [
    {
     "name": "stdout",
     "output_type": "stream",
     "text": [
      "Transformation Pipeline and Model Successfully Saved\n"
     ]
    },
    {
     "data": {
      "text/plain": [
       "(Pipeline(memory=FastMemory(location=/tmp/joblib),\n",
       "          steps=[('numerical_imputer',\n",
       "                  TransformerWrapper(exclude=None,\n",
       "                                     include=['pitching_gamesPlayed',\n",
       "                                              'pitching_runs_per_game',\n",
       "                                              'pitching_strikeOuts_per_game',\n",
       "                                              'pitching_hits_per_game',\n",
       "                                              'batting_gamesPlayed',\n",
       "                                              'batting_runs_per_game',\n",
       "                                              'batting_strikeOuts_per_game',\n",
       "                                              'batting_hits_per_game',\n",
       "                                              'batting_rbi',\n",
       "                                              'pitching_cur_...\n",
       "                                                       colsample_bytree=1.0,\n",
       "                                                       importance_type='split',\n",
       "                                                       learning_rate=0.1,\n",
       "                                                       max_depth=-1,\n",
       "                                                       min_child_samples=20,\n",
       "                                                       min_child_weight=0.001,\n",
       "                                                       min_split_gain=0.0,\n",
       "                                                       n_estimators=100,\n",
       "                                                       n_jobs=-1, num_leaves=31,\n",
       "                                                       objective=None,\n",
       "                                                       probability_threshold=0.5,\n",
       "                                                       random_state=6202,\n",
       "                                                       reg_alpha=0.0,\n",
       "                                                       reg_lambda=0.0,\n",
       "                                                       silent='warn',\n",
       "                                                       subsample=1.0,\n",
       "                                                       subsample_for_bin=200000,\n",
       "                                                       subsample_freq=0))],\n",
       "          verbose=False),\n",
       " 'model/batter_1runs_regression_model.pkl')"
      ]
     },
     "execution_count": 17,
     "metadata": {},
     "output_type": "execute_result"
    }
   ],
   "source": [
    "pycaret.classification.save_model(regression_model_finalized_lightgbm, model_file_name)"
   ]
  },
  {
   "cell_type": "code",
   "execution_count": null,
   "metadata": {},
   "outputs": [],
   "source": []
  },
  {
   "cell_type": "code",
   "execution_count": null,
   "metadata": {},
   "outputs": [],
   "source": []
  },
  {
   "cell_type": "code",
   "execution_count": null,
   "metadata": {},
   "outputs": [],
   "source": []
  },
  {
   "cell_type": "code",
   "execution_count": null,
   "metadata": {},
   "outputs": [],
   "source": []
  },
  {
   "cell_type": "code",
   "execution_count": 12,
   "metadata": {
    "execution": {
     "iopub.execute_input": "2023-07-06T03:05:21.122894Z",
     "iopub.status.busy": "2023-07-06T03:05:21.122508Z",
     "iopub.status.idle": "2023-07-06T03:15:09.286526Z",
     "shell.execute_reply": "2023-07-06T03:15:09.285658Z",
     "shell.execute_reply.started": "2023-07-06T03:05:21.122862Z"
    },
    "scrolled": true
   },
   "outputs": [
    {
     "data": {
      "text/html": [
       "<style type=\"text/css\">\n",
       "#T_9cba0_row11_col1 {\n",
       "  background-color: lightgreen;\n",
       "}\n",
       "</style>\n",
       "<table id=\"T_9cba0\">\n",
       "  <thead>\n",
       "    <tr>\n",
       "      <th class=\"blank level0\" >&nbsp;</th>\n",
       "      <th id=\"T_9cba0_level0_col0\" class=\"col_heading level0 col0\" >Description</th>\n",
       "      <th id=\"T_9cba0_level0_col1\" class=\"col_heading level0 col1\" >Value</th>\n",
       "    </tr>\n",
       "  </thead>\n",
       "  <tbody>\n",
       "    <tr>\n",
       "      <th id=\"T_9cba0_level0_row0\" class=\"row_heading level0 row0\" >0</th>\n",
       "      <td id=\"T_9cba0_row0_col0\" class=\"data row0 col0\" >Session id</td>\n",
       "      <td id=\"T_9cba0_row0_col1\" class=\"data row0 col1\" >2221</td>\n",
       "    </tr>\n",
       "    <tr>\n",
       "      <th id=\"T_9cba0_level0_row1\" class=\"row_heading level0 row1\" >1</th>\n",
       "      <td id=\"T_9cba0_row1_col0\" class=\"data row1 col0\" >Target</td>\n",
       "      <td id=\"T_9cba0_row1_col1\" class=\"data row1 col1\" >batting_1runs_recorded</td>\n",
       "    </tr>\n",
       "    <tr>\n",
       "      <th id=\"T_9cba0_level0_row2\" class=\"row_heading level0 row2\" >2</th>\n",
       "      <td id=\"T_9cba0_row2_col0\" class=\"data row2 col0\" >Target type</td>\n",
       "      <td id=\"T_9cba0_row2_col1\" class=\"data row2 col1\" >Binary</td>\n",
       "    </tr>\n",
       "    <tr>\n",
       "      <th id=\"T_9cba0_level0_row3\" class=\"row_heading level0 row3\" >3</th>\n",
       "      <td id=\"T_9cba0_row3_col0\" class=\"data row3 col0\" >Original data shape</td>\n",
       "      <td id=\"T_9cba0_row3_col1\" class=\"data row3 col1\" >(285090, 21)</td>\n",
       "    </tr>\n",
       "    <tr>\n",
       "      <th id=\"T_9cba0_level0_row4\" class=\"row_heading level0 row4\" >4</th>\n",
       "      <td id=\"T_9cba0_row4_col0\" class=\"data row4 col0\" >Transformed data shape</td>\n",
       "      <td id=\"T_9cba0_row4_col1\" class=\"data row4 col1\" >(285090, 15)</td>\n",
       "    </tr>\n",
       "    <tr>\n",
       "      <th id=\"T_9cba0_level0_row5\" class=\"row_heading level0 row5\" >5</th>\n",
       "      <td id=\"T_9cba0_row5_col0\" class=\"data row5 col0\" >Transformed train set shape</td>\n",
       "      <td id=\"T_9cba0_row5_col1\" class=\"data row5 col1\" >(199563, 15)</td>\n",
       "    </tr>\n",
       "    <tr>\n",
       "      <th id=\"T_9cba0_level0_row6\" class=\"row_heading level0 row6\" >6</th>\n",
       "      <td id=\"T_9cba0_row6_col0\" class=\"data row6 col0\" >Transformed test set shape</td>\n",
       "      <td id=\"T_9cba0_row6_col1\" class=\"data row6 col1\" >(85527, 15)</td>\n",
       "    </tr>\n",
       "    <tr>\n",
       "      <th id=\"T_9cba0_level0_row7\" class=\"row_heading level0 row7\" >7</th>\n",
       "      <td id=\"T_9cba0_row7_col0\" class=\"data row7 col0\" >Ignore features</td>\n",
       "      <td id=\"T_9cba0_row7_col1\" class=\"data row7 col1\" >6</td>\n",
       "    </tr>\n",
       "    <tr>\n",
       "      <th id=\"T_9cba0_level0_row8\" class=\"row_heading level0 row8\" >8</th>\n",
       "      <td id=\"T_9cba0_row8_col0\" class=\"data row8 col0\" >Numeric features</td>\n",
       "      <td id=\"T_9cba0_row8_col1\" class=\"data row8 col1\" >13</td>\n",
       "    </tr>\n",
       "    <tr>\n",
       "      <th id=\"T_9cba0_level0_row9\" class=\"row_heading level0 row9\" >9</th>\n",
       "      <td id=\"T_9cba0_row9_col0\" class=\"data row9 col0\" >Categorical features</td>\n",
       "      <td id=\"T_9cba0_row9_col1\" class=\"data row9 col1\" >1</td>\n",
       "    </tr>\n",
       "    <tr>\n",
       "      <th id=\"T_9cba0_level0_row10\" class=\"row_heading level0 row10\" >10</th>\n",
       "      <td id=\"T_9cba0_row10_col0\" class=\"data row10 col0\" >Rows with missing values</td>\n",
       "      <td id=\"T_9cba0_row10_col1\" class=\"data row10 col1\" >0.0%</td>\n",
       "    </tr>\n",
       "    <tr>\n",
       "      <th id=\"T_9cba0_level0_row11\" class=\"row_heading level0 row11\" >11</th>\n",
       "      <td id=\"T_9cba0_row11_col0\" class=\"data row11 col0\" >Preprocess</td>\n",
       "      <td id=\"T_9cba0_row11_col1\" class=\"data row11 col1\" >True</td>\n",
       "    </tr>\n",
       "    <tr>\n",
       "      <th id=\"T_9cba0_level0_row12\" class=\"row_heading level0 row12\" >12</th>\n",
       "      <td id=\"T_9cba0_row12_col0\" class=\"data row12 col0\" >Imputation type</td>\n",
       "      <td id=\"T_9cba0_row12_col1\" class=\"data row12 col1\" >simple</td>\n",
       "    </tr>\n",
       "    <tr>\n",
       "      <th id=\"T_9cba0_level0_row13\" class=\"row_heading level0 row13\" >13</th>\n",
       "      <td id=\"T_9cba0_row13_col0\" class=\"data row13 col0\" >Numeric imputation</td>\n",
       "      <td id=\"T_9cba0_row13_col1\" class=\"data row13 col1\" >mean</td>\n",
       "    </tr>\n",
       "    <tr>\n",
       "      <th id=\"T_9cba0_level0_row14\" class=\"row_heading level0 row14\" >14</th>\n",
       "      <td id=\"T_9cba0_row14_col0\" class=\"data row14 col0\" >Categorical imputation</td>\n",
       "      <td id=\"T_9cba0_row14_col1\" class=\"data row14 col1\" >mode</td>\n",
       "    </tr>\n",
       "    <tr>\n",
       "      <th id=\"T_9cba0_level0_row15\" class=\"row_heading level0 row15\" >15</th>\n",
       "      <td id=\"T_9cba0_row15_col0\" class=\"data row15 col0\" >Maximum one-hot encoding</td>\n",
       "      <td id=\"T_9cba0_row15_col1\" class=\"data row15 col1\" >25</td>\n",
       "    </tr>\n",
       "    <tr>\n",
       "      <th id=\"T_9cba0_level0_row16\" class=\"row_heading level0 row16\" >16</th>\n",
       "      <td id=\"T_9cba0_row16_col0\" class=\"data row16 col0\" >Encoding method</td>\n",
       "      <td id=\"T_9cba0_row16_col1\" class=\"data row16 col1\" >None</td>\n",
       "    </tr>\n",
       "    <tr>\n",
       "      <th id=\"T_9cba0_level0_row17\" class=\"row_heading level0 row17\" >17</th>\n",
       "      <td id=\"T_9cba0_row17_col0\" class=\"data row17 col0\" >Fold Generator</td>\n",
       "      <td id=\"T_9cba0_row17_col1\" class=\"data row17 col1\" >StratifiedKFold</td>\n",
       "    </tr>\n",
       "    <tr>\n",
       "      <th id=\"T_9cba0_level0_row18\" class=\"row_heading level0 row18\" >18</th>\n",
       "      <td id=\"T_9cba0_row18_col0\" class=\"data row18 col0\" >Fold Number</td>\n",
       "      <td id=\"T_9cba0_row18_col1\" class=\"data row18 col1\" >10</td>\n",
       "    </tr>\n",
       "    <tr>\n",
       "      <th id=\"T_9cba0_level0_row19\" class=\"row_heading level0 row19\" >19</th>\n",
       "      <td id=\"T_9cba0_row19_col0\" class=\"data row19 col0\" >CPU Jobs</td>\n",
       "      <td id=\"T_9cba0_row19_col1\" class=\"data row19 col1\" >-1</td>\n",
       "    </tr>\n",
       "    <tr>\n",
       "      <th id=\"T_9cba0_level0_row20\" class=\"row_heading level0 row20\" >20</th>\n",
       "      <td id=\"T_9cba0_row20_col0\" class=\"data row20 col0\" >Use GPU</td>\n",
       "      <td id=\"T_9cba0_row20_col1\" class=\"data row20 col1\" >False</td>\n",
       "    </tr>\n",
       "    <tr>\n",
       "      <th id=\"T_9cba0_level0_row21\" class=\"row_heading level0 row21\" >21</th>\n",
       "      <td id=\"T_9cba0_row21_col0\" class=\"data row21 col0\" >Log Experiment</td>\n",
       "      <td id=\"T_9cba0_row21_col1\" class=\"data row21 col1\" >False</td>\n",
       "    </tr>\n",
       "    <tr>\n",
       "      <th id=\"T_9cba0_level0_row22\" class=\"row_heading level0 row22\" >22</th>\n",
       "      <td id=\"T_9cba0_row22_col0\" class=\"data row22 col0\" >Experiment Name</td>\n",
       "      <td id=\"T_9cba0_row22_col1\" class=\"data row22 col1\" >clf-default-name</td>\n",
       "    </tr>\n",
       "    <tr>\n",
       "      <th id=\"T_9cba0_level0_row23\" class=\"row_heading level0 row23\" >23</th>\n",
       "      <td id=\"T_9cba0_row23_col0\" class=\"data row23 col0\" >USI</td>\n",
       "      <td id=\"T_9cba0_row23_col1\" class=\"data row23 col1\" >c896</td>\n",
       "    </tr>\n",
       "  </tbody>\n",
       "</table>\n"
      ],
      "text/plain": [
       "<pandas.io.formats.style.Styler at 0x7feff82a60b0>"
      ]
     },
     "metadata": {},
     "output_type": "display_data"
    },
    {
     "data": {
      "text/html": [],
      "text/plain": [
       "<IPython.core.display.HTML object>"
      ]
     },
     "metadata": {},
     "output_type": "display_data"
    },
    {
     "data": {
      "text/html": [
       "<style type=\"text/css\">\n",
       "#T_0f9fa_row10_col0, #T_0f9fa_row10_col1, #T_0f9fa_row10_col2, #T_0f9fa_row10_col3, #T_0f9fa_row10_col4, #T_0f9fa_row10_col5, #T_0f9fa_row10_col6 {\n",
       "  background: yellow;\n",
       "}\n",
       "</style>\n",
       "<table id=\"T_0f9fa\">\n",
       "  <thead>\n",
       "    <tr>\n",
       "      <th class=\"blank level0\" >&nbsp;</th>\n",
       "      <th id=\"T_0f9fa_level0_col0\" class=\"col_heading level0 col0\" >Accuracy</th>\n",
       "      <th id=\"T_0f9fa_level0_col1\" class=\"col_heading level0 col1\" >AUC</th>\n",
       "      <th id=\"T_0f9fa_level0_col2\" class=\"col_heading level0 col2\" >Recall</th>\n",
       "      <th id=\"T_0f9fa_level0_col3\" class=\"col_heading level0 col3\" >Prec.</th>\n",
       "      <th id=\"T_0f9fa_level0_col4\" class=\"col_heading level0 col4\" >F1</th>\n",
       "      <th id=\"T_0f9fa_level0_col5\" class=\"col_heading level0 col5\" >Kappa</th>\n",
       "      <th id=\"T_0f9fa_level0_col6\" class=\"col_heading level0 col6\" >MCC</th>\n",
       "    </tr>\n",
       "    <tr>\n",
       "      <th class=\"index_name level0\" >Fold</th>\n",
       "      <th class=\"blank col0\" >&nbsp;</th>\n",
       "      <th class=\"blank col1\" >&nbsp;</th>\n",
       "      <th class=\"blank col2\" >&nbsp;</th>\n",
       "      <th class=\"blank col3\" >&nbsp;</th>\n",
       "      <th class=\"blank col4\" >&nbsp;</th>\n",
       "      <th class=\"blank col5\" >&nbsp;</th>\n",
       "      <th class=\"blank col6\" >&nbsp;</th>\n",
       "    </tr>\n",
       "  </thead>\n",
       "  <tbody>\n",
       "    <tr>\n",
       "      <th id=\"T_0f9fa_level0_row0\" class=\"row_heading level0 row0\" >0</th>\n",
       "      <td id=\"T_0f9fa_row0_col0\" class=\"data row0 col0\" >0.6513</td>\n",
       "      <td id=\"T_0f9fa_row0_col1\" class=\"data row0 col1\" >0.6319</td>\n",
       "      <td id=\"T_0f9fa_row0_col2\" class=\"data row0 col2\" >0.1263</td>\n",
       "      <td id=\"T_0f9fa_row0_col3\" class=\"data row0 col3\" >0.5306</td>\n",
       "      <td id=\"T_0f9fa_row0_col4\" class=\"data row0 col4\" >0.2040</td>\n",
       "      <td id=\"T_0f9fa_row0_col5\" class=\"data row0 col5\" >0.0787</td>\n",
       "      <td id=\"T_0f9fa_row0_col6\" class=\"data row0 col6\" >0.1121</td>\n",
       "    </tr>\n",
       "    <tr>\n",
       "      <th id=\"T_0f9fa_level0_row1\" class=\"row_heading level0 row1\" >1</th>\n",
       "      <td id=\"T_0f9fa_row1_col0\" class=\"data row1 col0\" >0.6506</td>\n",
       "      <td id=\"T_0f9fa_row1_col1\" class=\"data row1 col1\" >0.6282</td>\n",
       "      <td id=\"T_0f9fa_row1_col2\" class=\"data row1 col2\" >0.1309</td>\n",
       "      <td id=\"T_0f9fa_row1_col3\" class=\"data row1 col3\" >0.5250</td>\n",
       "      <td id=\"T_0f9fa_row1_col4\" class=\"data row1 col4\" >0.2095</td>\n",
       "      <td id=\"T_0f9fa_row1_col5\" class=\"data row1 col5\" >0.0795</td>\n",
       "      <td id=\"T_0f9fa_row1_col6\" class=\"data row1 col6\" >0.1113</td>\n",
       "    </tr>\n",
       "    <tr>\n",
       "      <th id=\"T_0f9fa_level0_row2\" class=\"row_heading level0 row2\" >2</th>\n",
       "      <td id=\"T_0f9fa_row2_col0\" class=\"data row2 col0\" >0.6537</td>\n",
       "      <td id=\"T_0f9fa_row2_col1\" class=\"data row2 col1\" >0.6338</td>\n",
       "      <td id=\"T_0f9fa_row2_col2\" class=\"data row2 col2\" >0.1354</td>\n",
       "      <td id=\"T_0f9fa_row2_col3\" class=\"data row2 col3\" >0.5426</td>\n",
       "      <td id=\"T_0f9fa_row2_col4\" class=\"data row2 col4\" >0.2167</td>\n",
       "      <td id=\"T_0f9fa_row2_col5\" class=\"data row2 col5\" >0.0878</td>\n",
       "      <td id=\"T_0f9fa_row2_col6\" class=\"data row2 col6\" >0.1228</td>\n",
       "    </tr>\n",
       "    <tr>\n",
       "      <th id=\"T_0f9fa_level0_row3\" class=\"row_heading level0 row3\" >3</th>\n",
       "      <td id=\"T_0f9fa_row3_col0\" class=\"data row3 col0\" >0.6550</td>\n",
       "      <td id=\"T_0f9fa_row3_col1\" class=\"data row3 col1\" >0.6349</td>\n",
       "      <td id=\"T_0f9fa_row3_col2\" class=\"data row3 col2\" >0.1319</td>\n",
       "      <td id=\"T_0f9fa_row3_col3\" class=\"data row3 col3\" >0.5525</td>\n",
       "      <td id=\"T_0f9fa_row3_col4\" class=\"data row3 col4\" >0.2129</td>\n",
       "      <td id=\"T_0f9fa_row3_col5\" class=\"data row3 col5\" >0.0886</td>\n",
       "      <td id=\"T_0f9fa_row3_col6\" class=\"data row3 col6\" >0.1262</td>\n",
       "    </tr>\n",
       "    <tr>\n",
       "      <th id=\"T_0f9fa_level0_row4\" class=\"row_heading level0 row4\" >4</th>\n",
       "      <td id=\"T_0f9fa_row4_col0\" class=\"data row4 col0\" >0.6522</td>\n",
       "      <td id=\"T_0f9fa_row4_col1\" class=\"data row4 col1\" >0.6289</td>\n",
       "      <td id=\"T_0f9fa_row4_col2\" class=\"data row4 col2\" >0.1360</td>\n",
       "      <td id=\"T_0f9fa_row4_col3\" class=\"data row4 col3\" >0.5336</td>\n",
       "      <td id=\"T_0f9fa_row4_col4\" class=\"data row4 col4\" >0.2167</td>\n",
       "      <td id=\"T_0f9fa_row4_col5\" class=\"data row4 col5\" >0.0853</td>\n",
       "      <td id=\"T_0f9fa_row4_col6\" class=\"data row4 col6\" >0.1184</td>\n",
       "    </tr>\n",
       "    <tr>\n",
       "      <th id=\"T_0f9fa_level0_row5\" class=\"row_heading level0 row5\" >5</th>\n",
       "      <td id=\"T_0f9fa_row5_col0\" class=\"data row5 col0\" >0.6525</td>\n",
       "      <td id=\"T_0f9fa_row5_col1\" class=\"data row5 col1\" >0.6278</td>\n",
       "      <td id=\"T_0f9fa_row5_col2\" class=\"data row5 col2\" >0.1341</td>\n",
       "      <td id=\"T_0f9fa_row5_col3\" class=\"data row5 col3\" >0.5359</td>\n",
       "      <td id=\"T_0f9fa_row5_col4\" class=\"data row5 col4\" >0.2145</td>\n",
       "      <td id=\"T_0f9fa_row5_col5\" class=\"data row5 col5\" >0.0849</td>\n",
       "      <td id=\"T_0f9fa_row5_col6\" class=\"data row5 col6\" >0.1187</td>\n",
       "    </tr>\n",
       "    <tr>\n",
       "      <th id=\"T_0f9fa_level0_row6\" class=\"row_heading level0 row6\" >6</th>\n",
       "      <td id=\"T_0f9fa_row6_col0\" class=\"data row6 col0\" >0.6549</td>\n",
       "      <td id=\"T_0f9fa_row6_col1\" class=\"data row6 col1\" >0.6362</td>\n",
       "      <td id=\"T_0f9fa_row6_col2\" class=\"data row6 col2\" >0.1357</td>\n",
       "      <td id=\"T_0f9fa_row6_col3\" class=\"data row6 col3\" >0.5499</td>\n",
       "      <td id=\"T_0f9fa_row6_col4\" class=\"data row6 col4\" >0.2177</td>\n",
       "      <td id=\"T_0f9fa_row6_col5\" class=\"data row6 col5\" >0.0903</td>\n",
       "      <td id=\"T_0f9fa_row6_col6\" class=\"data row6 col6\" >0.1268</td>\n",
       "    </tr>\n",
       "    <tr>\n",
       "      <th id=\"T_0f9fa_level0_row7\" class=\"row_heading level0 row7\" >7</th>\n",
       "      <td id=\"T_0f9fa_row7_col0\" class=\"data row7 col0\" >0.6574</td>\n",
       "      <td id=\"T_0f9fa_row7_col1\" class=\"data row7 col1\" >0.6341</td>\n",
       "      <td id=\"T_0f9fa_row7_col2\" class=\"data row7 col2\" >0.1411</td>\n",
       "      <td id=\"T_0f9fa_row7_col3\" class=\"data row7 col3\" >0.5637</td>\n",
       "      <td id=\"T_0f9fa_row7_col4\" class=\"data row7 col4\" >0.2256</td>\n",
       "      <td id=\"T_0f9fa_row7_col5\" class=\"data row7 col5\" >0.0979</td>\n",
       "      <td id=\"T_0f9fa_row7_col6\" class=\"data row7 col6\" >0.1368</td>\n",
       "    </tr>\n",
       "    <tr>\n",
       "      <th id=\"T_0f9fa_level0_row8\" class=\"row_heading level0 row8\" >8</th>\n",
       "      <td id=\"T_0f9fa_row8_col0\" class=\"data row8 col0\" >0.6530</td>\n",
       "      <td id=\"T_0f9fa_row8_col1\" class=\"data row8 col1\" >0.6285</td>\n",
       "      <td id=\"T_0f9fa_row8_col2\" class=\"data row8 col2\" >0.1283</td>\n",
       "      <td id=\"T_0f9fa_row8_col3\" class=\"data row8 col3\" >0.5409</td>\n",
       "      <td id=\"T_0f9fa_row8_col4\" class=\"data row8 col4\" >0.2074</td>\n",
       "      <td id=\"T_0f9fa_row8_col5\" class=\"data row8 col5\" >0.0830</td>\n",
       "      <td id=\"T_0f9fa_row8_col6\" class=\"data row8 col6\" >0.1184</td>\n",
       "    </tr>\n",
       "    <tr>\n",
       "      <th id=\"T_0f9fa_level0_row9\" class=\"row_heading level0 row9\" >9</th>\n",
       "      <td id=\"T_0f9fa_row9_col0\" class=\"data row9 col0\" >0.6523</td>\n",
       "      <td id=\"T_0f9fa_row9_col1\" class=\"data row9 col1\" >0.6331</td>\n",
       "      <td id=\"T_0f9fa_row9_col2\" class=\"data row9 col2\" >0.1251</td>\n",
       "      <td id=\"T_0f9fa_row9_col3\" class=\"data row9 col3\" >0.5371</td>\n",
       "      <td id=\"T_0f9fa_row9_col4\" class=\"data row9 col4\" >0.2029</td>\n",
       "      <td id=\"T_0f9fa_row9_col5\" class=\"data row9 col5\" >0.0799</td>\n",
       "      <td id=\"T_0f9fa_row9_col6\" class=\"data row9 col6\" >0.1148</td>\n",
       "    </tr>\n",
       "    <tr>\n",
       "      <th id=\"T_0f9fa_level0_row10\" class=\"row_heading level0 row10\" >Mean</th>\n",
       "      <td id=\"T_0f9fa_row10_col0\" class=\"data row10 col0\" >0.6533</td>\n",
       "      <td id=\"T_0f9fa_row10_col1\" class=\"data row10 col1\" >0.6317</td>\n",
       "      <td id=\"T_0f9fa_row10_col2\" class=\"data row10 col2\" >0.1325</td>\n",
       "      <td id=\"T_0f9fa_row10_col3\" class=\"data row10 col3\" >0.5412</td>\n",
       "      <td id=\"T_0f9fa_row10_col4\" class=\"data row10 col4\" >0.2128</td>\n",
       "      <td id=\"T_0f9fa_row10_col5\" class=\"data row10 col5\" >0.0856</td>\n",
       "      <td id=\"T_0f9fa_row10_col6\" class=\"data row10 col6\" >0.1206</td>\n",
       "    </tr>\n",
       "    <tr>\n",
       "      <th id=\"T_0f9fa_level0_row11\" class=\"row_heading level0 row11\" >Std</th>\n",
       "      <td id=\"T_0f9fa_row11_col0\" class=\"data row11 col0\" >0.0019</td>\n",
       "      <td id=\"T_0f9fa_row11_col1\" class=\"data row11 col1\" >0.0030</td>\n",
       "      <td id=\"T_0f9fa_row11_col2\" class=\"data row11 col2\" >0.0047</td>\n",
       "      <td id=\"T_0f9fa_row11_col3\" class=\"data row11 col3\" >0.0109</td>\n",
       "      <td id=\"T_0f9fa_row11_col4\" class=\"data row11 col4\" >0.0066</td>\n",
       "      <td id=\"T_0f9fa_row11_col5\" class=\"data row11 col5\" >0.0056</td>\n",
       "      <td id=\"T_0f9fa_row11_col6\" class=\"data row11 col6\" >0.0074</td>\n",
       "    </tr>\n",
       "  </tbody>\n",
       "</table>\n"
      ],
      "text/plain": [
       "<pandas.io.formats.style.Styler at 0x7fef781b5090>"
      ]
     },
     "metadata": {},
     "output_type": "display_data"
    },
    {
     "data": {
      "text/html": [],
      "text/plain": [
       "<IPython.core.display.HTML object>"
      ]
     },
     "metadata": {},
     "output_type": "display_data"
    },
    {
     "data": {
      "text/html": [],
      "text/plain": [
       "<IPython.core.display.HTML object>"
      ]
     },
     "metadata": {},
     "output_type": "display_data"
    },
    {
     "data": {
      "image/png": "[encoded data removed]",
      "text/plain": [
       "<Figure size 480x330 with 1 Axes>"
      ]
     },
     "metadata": {},
     "output_type": "display_data"
    },
    {
     "data": {
      "text/html": [],
      "text/plain": [
       "<IPython.core.display.HTML object>"
      ]
     },
     "metadata": {},
     "output_type": "display_data"
    },
    {
     "data": {
      "text/html": [
       "<style type=\"text/css\">\n",
       "#T_3f85f_row10_col0, #T_3f85f_row10_col1, #T_3f85f_row10_col2, #T_3f85f_row10_col3, #T_3f85f_row10_col4, #T_3f85f_row10_col5, #T_3f85f_row10_col6 {\n",
       "  background: yellow;\n",
       "}\n",
       "</style>\n",
       "<table id=\"T_3f85f\">\n",
       "  <thead>\n",
       "    <tr>\n",
       "      <th class=\"blank level0\" >&nbsp;</th>\n",
       "      <th id=\"T_3f85f_level0_col0\" class=\"col_heading level0 col0\" >Accuracy</th>\n",
       "      <th id=\"T_3f85f_level0_col1\" class=\"col_heading level0 col1\" >AUC</th>\n",
       "      <th id=\"T_3f85f_level0_col2\" class=\"col_heading level0 col2\" >Recall</th>\n",
       "      <th id=\"T_3f85f_level0_col3\" class=\"col_heading level0 col3\" >Prec.</th>\n",
       "      <th id=\"T_3f85f_level0_col4\" class=\"col_heading level0 col4\" >F1</th>\n",
       "      <th id=\"T_3f85f_level0_col5\" class=\"col_heading level0 col5\" >Kappa</th>\n",
       "      <th id=\"T_3f85f_level0_col6\" class=\"col_heading level0 col6\" >MCC</th>\n",
       "    </tr>\n",
       "    <tr>\n",
       "      <th class=\"index_name level0\" >Fold</th>\n",
       "      <th class=\"blank col0\" >&nbsp;</th>\n",
       "      <th class=\"blank col1\" >&nbsp;</th>\n",
       "      <th class=\"blank col2\" >&nbsp;</th>\n",
       "      <th class=\"blank col3\" >&nbsp;</th>\n",
       "      <th class=\"blank col4\" >&nbsp;</th>\n",
       "      <th class=\"blank col5\" >&nbsp;</th>\n",
       "      <th class=\"blank col6\" >&nbsp;</th>\n",
       "    </tr>\n",
       "  </thead>\n",
       "  <tbody>\n",
       "    <tr>\n",
       "      <th id=\"T_3f85f_level0_row0\" class=\"row_heading level0 row0\" >0</th>\n",
       "      <td id=\"T_3f85f_row0_col0\" class=\"data row0 col0\" >0.6527</td>\n",
       "      <td id=\"T_3f85f_row0_col1\" class=\"data row0 col1\" >0.6422</td>\n",
       "      <td id=\"T_3f85f_row0_col2\" class=\"data row0 col2\" >0.1252</td>\n",
       "      <td id=\"T_3f85f_row0_col3\" class=\"data row0 col3\" >0.5397</td>\n",
       "      <td id=\"T_3f85f_row0_col4\" class=\"data row0 col4\" >0.2032</td>\n",
       "      <td id=\"T_3f85f_row0_col5\" class=\"data row0 col5\" >0.0807</td>\n",
       "      <td id=\"T_3f85f_row0_col6\" class=\"data row0 col6\" >0.1162</td>\n",
       "    </tr>\n",
       "    <tr>\n",
       "      <th id=\"T_3f85f_level0_row1\" class=\"row_heading level0 row1\" >1</th>\n",
       "      <td id=\"T_3f85f_row1_col0\" class=\"data row1 col0\" >0.6537</td>\n",
       "      <td id=\"T_3f85f_row1_col1\" class=\"data row1 col1\" >0.6374</td>\n",
       "      <td id=\"T_3f85f_row1_col2\" class=\"data row1 col2\" >0.1289</td>\n",
       "      <td id=\"T_3f85f_row1_col3\" class=\"data row1 col3\" >0.5449</td>\n",
       "      <td id=\"T_3f85f_row1_col4\" class=\"data row1 col4\" >0.2085</td>\n",
       "      <td id=\"T_3f85f_row1_col5\" class=\"data row1 col5\" >0.0845</td>\n",
       "      <td id=\"T_3f85f_row1_col6\" class=\"data row1 col6\" >0.1208</td>\n",
       "    </tr>\n",
       "    <tr>\n",
       "      <th id=\"T_3f85f_level0_row2\" class=\"row_heading level0 row2\" >2</th>\n",
       "      <td id=\"T_3f85f_row2_col0\" class=\"data row2 col0\" >0.6546</td>\n",
       "      <td id=\"T_3f85f_row2_col1\" class=\"data row2 col1\" >0.6421</td>\n",
       "      <td id=\"T_3f85f_row2_col2\" class=\"data row2 col2\" >0.1352</td>\n",
       "      <td id=\"T_3f85f_row2_col3\" class=\"data row2 col3\" >0.5482</td>\n",
       "      <td id=\"T_3f85f_row2_col4\" class=\"data row2 col4\" >0.2170</td>\n",
       "      <td id=\"T_3f85f_row2_col5\" class=\"data row2 col5\" >0.0895</td>\n",
       "      <td id=\"T_3f85f_row2_col6\" class=\"data row2 col6\" >0.1257</td>\n",
       "    </tr>\n",
       "    <tr>\n",
       "      <th id=\"T_3f85f_level0_row3\" class=\"row_heading level0 row3\" >3</th>\n",
       "      <td id=\"T_3f85f_row3_col0\" class=\"data row3 col0\" >0.6557</td>\n",
       "      <td id=\"T_3f85f_row3_col1\" class=\"data row3 col1\" >0.6448</td>\n",
       "      <td id=\"T_3f85f_row3_col2\" class=\"data row3 col2\" >0.1262</td>\n",
       "      <td id=\"T_3f85f_row3_col3\" class=\"data row3 col3\" >0.5597</td>\n",
       "      <td id=\"T_3f85f_row3_col4\" class=\"data row3 col4\" >0.2059</td>\n",
       "      <td id=\"T_3f85f_row3_col5\" class=\"data row3 col5\" >0.0871</td>\n",
       "      <td id=\"T_3f85f_row3_col6\" class=\"data row3 col6\" >0.1268</td>\n",
       "    </tr>\n",
       "    <tr>\n",
       "      <th id=\"T_3f85f_level0_row4\" class=\"row_heading level0 row4\" >4</th>\n",
       "      <td id=\"T_3f85f_row4_col0\" class=\"data row4 col0\" >0.6531</td>\n",
       "      <td id=\"T_3f85f_row4_col1\" class=\"data row4 col1\" >0.6332</td>\n",
       "      <td id=\"T_3f85f_row4_col2\" class=\"data row4 col2\" >0.1350</td>\n",
       "      <td id=\"T_3f85f_row4_col3\" class=\"data row4 col3\" >0.5393</td>\n",
       "      <td id=\"T_3f85f_row4_col4\" class=\"data row4 col4\" >0.2159</td>\n",
       "      <td id=\"T_3f85f_row4_col5\" class=\"data row4 col5\" >0.0865</td>\n",
       "      <td id=\"T_3f85f_row4_col6\" class=\"data row4 col6\" >0.1209</td>\n",
       "    </tr>\n",
       "    <tr>\n",
       "      <th id=\"T_3f85f_level0_row5\" class=\"row_heading level0 row5\" >5</th>\n",
       "      <td id=\"T_3f85f_row5_col0\" class=\"data row5 col0\" >0.6539</td>\n",
       "      <td id=\"T_3f85f_row5_col1\" class=\"data row5 col1\" >0.6369</td>\n",
       "      <td id=\"T_3f85f_row5_col2\" class=\"data row5 col2\" >0.1314</td>\n",
       "      <td id=\"T_3f85f_row5_col3\" class=\"data row5 col3\" >0.5452</td>\n",
       "      <td id=\"T_3f85f_row5_col4\" class=\"data row5 col4\" >0.2118</td>\n",
       "      <td id=\"T_3f85f_row5_col5\" class=\"data row5 col5\" >0.0862</td>\n",
       "      <td id=\"T_3f85f_row5_col6\" class=\"data row5 col6\" >0.1222</td>\n",
       "    </tr>\n",
       "    <tr>\n",
       "      <th id=\"T_3f85f_level0_row6\" class=\"row_heading level0 row6\" >6</th>\n",
       "      <td id=\"T_3f85f_row6_col0\" class=\"data row6 col0\" >0.6561</td>\n",
       "      <td id=\"T_3f85f_row6_col1\" class=\"data row6 col1\" >0.6429</td>\n",
       "      <td id=\"T_3f85f_row6_col2\" class=\"data row6 col2\" >0.1272</td>\n",
       "      <td id=\"T_3f85f_row6_col3\" class=\"data row6 col3\" >0.5623</td>\n",
       "      <td id=\"T_3f85f_row6_col4\" class=\"data row6 col4\" >0.2074</td>\n",
       "      <td id=\"T_3f85f_row6_col5\" class=\"data row6 col5\" >0.0885</td>\n",
       "      <td id=\"T_3f85f_row6_col6\" class=\"data row6 col6\" >0.1286</td>\n",
       "    </tr>\n",
       "    <tr>\n",
       "      <th id=\"T_3f85f_level0_row7\" class=\"row_heading level0 row7\" >7</th>\n",
       "      <td id=\"T_3f85f_row7_col0\" class=\"data row7 col0\" >0.6589</td>\n",
       "      <td id=\"T_3f85f_row7_col1\" class=\"data row7 col1\" >0.6419</td>\n",
       "      <td id=\"T_3f85f_row7_col2\" class=\"data row7 col2\" >0.1375</td>\n",
       "      <td id=\"T_3f85f_row7_col3\" class=\"data row7 col3\" >0.5752</td>\n",
       "      <td id=\"T_3f85f_row7_col4\" class=\"data row7 col4\" >0.2220</td>\n",
       "      <td id=\"T_3f85f_row7_col5\" class=\"data row7 col5\" >0.0989</td>\n",
       "      <td id=\"T_3f85f_row7_col6\" class=\"data row7 col6\" >0.1408</td>\n",
       "    </tr>\n",
       "    <tr>\n",
       "      <th id=\"T_3f85f_level0_row8\" class=\"row_heading level0 row8\" >8</th>\n",
       "      <td id=\"T_3f85f_row8_col0\" class=\"data row8 col0\" >0.6545</td>\n",
       "      <td id=\"T_3f85f_row8_col1\" class=\"data row8 col1\" >0.6357</td>\n",
       "      <td id=\"T_3f85f_row8_col2\" class=\"data row8 col2\" >0.1265</td>\n",
       "      <td id=\"T_3f85f_row8_col3\" class=\"data row8 col3\" >0.5512</td>\n",
       "      <td id=\"T_3f85f_row8_col4\" class=\"data row8 col4\" >0.2057</td>\n",
       "      <td id=\"T_3f85f_row8_col5\" class=\"data row8 col5\" >0.0849</td>\n",
       "      <td id=\"T_3f85f_row8_col6\" class=\"data row8 col6\" >0.1227</td>\n",
       "    </tr>\n",
       "    <tr>\n",
       "      <th id=\"T_3f85f_level0_row9\" class=\"row_heading level0 row9\" >9</th>\n",
       "      <td id=\"T_3f85f_row9_col0\" class=\"data row9 col0\" >0.6569</td>\n",
       "      <td id=\"T_3f85f_row9_col1\" class=\"data row9 col1\" >0.6413</td>\n",
       "      <td id=\"T_3f85f_row9_col2\" class=\"data row9 col2\" >0.1334</td>\n",
       "      <td id=\"T_3f85f_row9_col3\" class=\"data row9 col3\" >0.5641</td>\n",
       "      <td id=\"T_3f85f_row9_col4\" class=\"data row9 col4\" >0.2158</td>\n",
       "      <td id=\"T_3f85f_row9_col5\" class=\"data row9 col5\" >0.0930</td>\n",
       "      <td id=\"T_3f85f_row9_col6\" class=\"data row9 col6\" >0.1329</td>\n",
       "    </tr>\n",
       "    <tr>\n",
       "      <th id=\"T_3f85f_level0_row10\" class=\"row_heading level0 row10\" >Mean</th>\n",
       "      <td id=\"T_3f85f_row10_col0\" class=\"data row10 col0\" >0.6550</td>\n",
       "      <td id=\"T_3f85f_row10_col1\" class=\"data row10 col1\" >0.6398</td>\n",
       "      <td id=\"T_3f85f_row10_col2\" class=\"data row10 col2\" >0.1306</td>\n",
       "      <td id=\"T_3f85f_row10_col3\" class=\"data row10 col3\" >0.5530</td>\n",
       "      <td id=\"T_3f85f_row10_col4\" class=\"data row10 col4\" >0.2113</td>\n",
       "      <td id=\"T_3f85f_row10_col5\" class=\"data row10 col5\" >0.0880</td>\n",
       "      <td id=\"T_3f85f_row10_col6\" class=\"data row10 col6\" >0.1258</td>\n",
       "    </tr>\n",
       "    <tr>\n",
       "      <th id=\"T_3f85f_level0_row11\" class=\"row_heading level0 row11\" >Std</th>\n",
       "      <td id=\"T_3f85f_row11_col0\" class=\"data row11 col0\" >0.0018</td>\n",
       "      <td id=\"T_3f85f_row11_col1\" class=\"data row11 col1\" >0.0036</td>\n",
       "      <td id=\"T_3f85f_row11_col2\" class=\"data row11 col2\" >0.0042</td>\n",
       "      <td id=\"T_3f85f_row11_col3\" class=\"data row11 col3\" >0.0112</td>\n",
       "      <td id=\"T_3f85f_row11_col4\" class=\"data row11 col4\" >0.0058</td>\n",
       "      <td id=\"T_3f85f_row11_col5\" class=\"data row11 col5\" >0.0048</td>\n",
       "      <td id=\"T_3f85f_row11_col6\" class=\"data row11 col6\" >0.0067</td>\n",
       "    </tr>\n",
       "  </tbody>\n",
       "</table>\n"
      ],
      "text/plain": [
       "<pandas.io.formats.style.Styler at 0x7fef79ef2830>"
      ]
     },
     "metadata": {},
     "output_type": "display_data"
    },
    {
     "data": {
      "text/html": [],
      "text/plain": [
       "<IPython.core.display.HTML object>"
      ]
     },
     "metadata": {},
     "output_type": "display_data"
    },
    {
     "data": {
      "text/html": [],
      "text/plain": [
       "<IPython.core.display.HTML object>"
      ]
     },
     "metadata": {},
     "output_type": "display_data"
    },
    {
     "data": {
      "image/png": "[encoded data removed]",
      "text/plain": [
       "<Figure size 480x330 with 1 Axes>"
      ]
     },
     "metadata": {},
     "output_type": "display_data"
    },
    {
     "data": {
      "text/html": [],
      "text/plain": [
       "<IPython.core.display.HTML object>"
      ]
     },
     "metadata": {},
     "output_type": "display_data"
    },
    {
     "data": {
      "text/html": [
       "<style type=\"text/css\">\n",
       "#T_33c6f_row10_col0, #T_33c6f_row10_col1, #T_33c6f_row10_col2, #T_33c6f_row10_col3, #T_33c6f_row10_col4, #T_33c6f_row10_col5, #T_33c6f_row10_col6 {\n",
       "  background: yellow;\n",
       "}\n",
       "</style>\n",
       "<table id=\"T_33c6f\">\n",
       "  <thead>\n",
       "    <tr>\n",
       "      <th class=\"blank level0\" >&nbsp;</th>\n",
       "      <th id=\"T_33c6f_level0_col0\" class=\"col_heading level0 col0\" >Accuracy</th>\n",
       "      <th id=\"T_33c6f_level0_col1\" class=\"col_heading level0 col1\" >AUC</th>\n",
       "      <th id=\"T_33c6f_level0_col2\" class=\"col_heading level0 col2\" >Recall</th>\n",
       "      <th id=\"T_33c6f_level0_col3\" class=\"col_heading level0 col3\" >Prec.</th>\n",
       "      <th id=\"T_33c6f_level0_col4\" class=\"col_heading level0 col4\" >F1</th>\n",
       "      <th id=\"T_33c6f_level0_col5\" class=\"col_heading level0 col5\" >Kappa</th>\n",
       "      <th id=\"T_33c6f_level0_col6\" class=\"col_heading level0 col6\" >MCC</th>\n",
       "    </tr>\n",
       "    <tr>\n",
       "      <th class=\"index_name level0\" >Fold</th>\n",
       "      <th class=\"blank col0\" >&nbsp;</th>\n",
       "      <th class=\"blank col1\" >&nbsp;</th>\n",
       "      <th class=\"blank col2\" >&nbsp;</th>\n",
       "      <th class=\"blank col3\" >&nbsp;</th>\n",
       "      <th class=\"blank col4\" >&nbsp;</th>\n",
       "      <th class=\"blank col5\" >&nbsp;</th>\n",
       "      <th class=\"blank col6\" >&nbsp;</th>\n",
       "    </tr>\n",
       "  </thead>\n",
       "  <tbody>\n",
       "    <tr>\n",
       "      <th id=\"T_33c6f_level0_row0\" class=\"row_heading level0 row0\" >0</th>\n",
       "      <td id=\"T_33c6f_row0_col0\" class=\"data row0 col0\" >0.6520</td>\n",
       "      <td id=\"T_33c6f_row0_col1\" class=\"data row0 col1\" >0.6392</td>\n",
       "      <td id=\"T_33c6f_row0_col2\" class=\"data row0 col2\" >0.1086</td>\n",
       "      <td id=\"T_33c6f_row0_col3\" class=\"data row0 col3\" >0.5409</td>\n",
       "      <td id=\"T_33c6f_row0_col4\" class=\"data row0 col4\" >0.1809</td>\n",
       "      <td id=\"T_33c6f_row0_col5\" class=\"data row0 col5\" >0.0709</td>\n",
       "      <td id=\"T_33c6f_row0_col6\" class=\"data row0 col6\" >0.1082</td>\n",
       "    </tr>\n",
       "    <tr>\n",
       "      <th id=\"T_33c6f_level0_row1\" class=\"row_heading level0 row1\" >1</th>\n",
       "      <td id=\"T_33c6f_row1_col0\" class=\"data row1 col0\" >0.6536</td>\n",
       "      <td id=\"T_33c6f_row1_col1\" class=\"data row1 col1\" >0.6343</td>\n",
       "      <td id=\"T_33c6f_row1_col2\" class=\"data row1 col2\" >0.1132</td>\n",
       "      <td id=\"T_33c6f_row1_col3\" class=\"data row1 col3\" >0.5507</td>\n",
       "      <td id=\"T_33c6f_row1_col4\" class=\"data row1 col4\" >0.1877</td>\n",
       "      <td id=\"T_33c6f_row1_col5\" class=\"data row1 col5\" >0.0763</td>\n",
       "      <td id=\"T_33c6f_row1_col6\" class=\"data row1 col6\" >0.1153</td>\n",
       "    </tr>\n",
       "    <tr>\n",
       "      <th id=\"T_33c6f_level0_row2\" class=\"row_heading level0 row2\" >2</th>\n",
       "      <td id=\"T_33c6f_row2_col0\" class=\"data row2 col0\" >0.6549</td>\n",
       "      <td id=\"T_33c6f_row2_col1\" class=\"data row2 col1\" >0.6396</td>\n",
       "      <td id=\"T_33c6f_row2_col2\" class=\"data row2 col2\" >0.1166</td>\n",
       "      <td id=\"T_33c6f_row2_col3\" class=\"data row2 col3\" >0.5587</td>\n",
       "      <td id=\"T_33c6f_row2_col4\" class=\"data row2 col4\" >0.1929</td>\n",
       "      <td id=\"T_33c6f_row2_col5\" class=\"data row2 col5\" >0.0806</td>\n",
       "      <td id=\"T_33c6f_row2_col6\" class=\"data row2 col6\" >0.1210</td>\n",
       "    </tr>\n",
       "    <tr>\n",
       "      <th id=\"T_33c6f_level0_row3\" class=\"row_heading level0 row3\" >3</th>\n",
       "      <td id=\"T_33c6f_row3_col0\" class=\"data row3 col0\" >0.6557</td>\n",
       "      <td id=\"T_33c6f_row3_col1\" class=\"data row3 col1\" >0.6425</td>\n",
       "      <td id=\"T_33c6f_row3_col2\" class=\"data row3 col2\" >0.1115</td>\n",
       "      <td id=\"T_33c6f_row3_col3\" class=\"data row3 col3\" >0.5686</td>\n",
       "      <td id=\"T_33c6f_row3_col4\" class=\"data row3 col4\" >0.1864</td>\n",
       "      <td id=\"T_33c6f_row3_col5\" class=\"data row3 col5\" >0.0796</td>\n",
       "      <td id=\"T_33c6f_row3_col6\" class=\"data row3 col6\" >0.1226</td>\n",
       "    </tr>\n",
       "    <tr>\n",
       "      <th id=\"T_33c6f_level0_row4\" class=\"row_heading level0 row4\" >4</th>\n",
       "      <td id=\"T_33c6f_row4_col0\" class=\"data row4 col0\" >0.6515</td>\n",
       "      <td id=\"T_33c6f_row4_col1\" class=\"data row4 col1\" >0.6310</td>\n",
       "      <td id=\"T_33c6f_row4_col2\" class=\"data row4 col2\" >0.1164</td>\n",
       "      <td id=\"T_33c6f_row4_col3\" class=\"data row4 col3\" >0.5348</td>\n",
       "      <td id=\"T_33c6f_row4_col4\" class=\"data row4 col4\" >0.1912</td>\n",
       "      <td id=\"T_33c6f_row4_col5\" class=\"data row4 col5\" >0.0741</td>\n",
       "      <td id=\"T_33c6f_row4_col6\" class=\"data row4 col6\" >0.1093</td>\n",
       "    </tr>\n",
       "    <tr>\n",
       "      <th id=\"T_33c6f_level0_row5\" class=\"row_heading level0 row5\" >5</th>\n",
       "      <td id=\"T_33c6f_row5_col0\" class=\"data row5 col0\" >0.6551</td>\n",
       "      <td id=\"T_33c6f_row5_col1\" class=\"data row5 col1\" >0.6344</td>\n",
       "      <td id=\"T_33c6f_row5_col2\" class=\"data row5 col2\" >0.1141</td>\n",
       "      <td id=\"T_33c6f_row5_col3\" class=\"data row5 col3\" >0.5621</td>\n",
       "      <td id=\"T_33c6f_row5_col4\" class=\"data row5 col4\" >0.1898</td>\n",
       "      <td id=\"T_33c6f_row5_col5\" class=\"data row5 col5\" >0.0798</td>\n",
       "      <td id=\"T_33c6f_row5_col6\" class=\"data row5 col6\" >0.1212</td>\n",
       "    </tr>\n",
       "    <tr>\n",
       "      <th id=\"T_33c6f_level0_row6\" class=\"row_heading level0 row6\" >6</th>\n",
       "      <td id=\"T_33c6f_row6_col0\" class=\"data row6 col0\" >0.6544</td>\n",
       "      <td id=\"T_33c6f_row6_col1\" class=\"data row6 col1\" >0.6416</td>\n",
       "      <td id=\"T_33c6f_row6_col2\" class=\"data row6 col2\" >0.1103</td>\n",
       "      <td id=\"T_33c6f_row6_col3\" class=\"data row6 col3\" >0.5592</td>\n",
       "      <td id=\"T_33c6f_row6_col4\" class=\"data row6 col4\" >0.1843</td>\n",
       "      <td id=\"T_33c6f_row6_col5\" class=\"data row6 col5\" >0.0766</td>\n",
       "      <td id=\"T_33c6f_row6_col6\" class=\"data row6 col6\" >0.1177</td>\n",
       "    </tr>\n",
       "    <tr>\n",
       "      <th id=\"T_33c6f_level0_row7\" class=\"row_heading level0 row7\" >7</th>\n",
       "      <td id=\"T_33c6f_row7_col0\" class=\"data row7 col0\" >0.6580</td>\n",
       "      <td id=\"T_33c6f_row7_col1\" class=\"data row7 col1\" >0.6399</td>\n",
       "      <td id=\"T_33c6f_row7_col2\" class=\"data row7 col2\" >0.1177</td>\n",
       "      <td id=\"T_33c6f_row7_col3\" class=\"data row7 col3\" >0.5832</td>\n",
       "      <td id=\"T_33c6f_row7_col4\" class=\"data row7 col4\" >0.1959</td>\n",
       "      <td id=\"T_33c6f_row7_col5\" class=\"data row7 col5\" >0.0874</td>\n",
       "      <td id=\"T_33c6f_row7_col6\" class=\"data row7 col6\" >0.1330</td>\n",
       "    </tr>\n",
       "    <tr>\n",
       "      <th id=\"T_33c6f_level0_row8\" class=\"row_heading level0 row8\" >8</th>\n",
       "      <td id=\"T_33c6f_row8_col0\" class=\"data row8 col0\" >0.6533</td>\n",
       "      <td id=\"T_33c6f_row8_col1\" class=\"data row8 col1\" >0.6325</td>\n",
       "      <td id=\"T_33c6f_row8_col2\" class=\"data row8 col2\" >0.1107</td>\n",
       "      <td id=\"T_33c6f_row8_col3\" class=\"data row8 col3\" >0.5499</td>\n",
       "      <td id=\"T_33c6f_row8_col4\" class=\"data row8 col4\" >0.1844</td>\n",
       "      <td id=\"T_33c6f_row8_col5\" class=\"data row8 col5\" >0.0746</td>\n",
       "      <td id=\"T_33c6f_row8_col6\" class=\"data row8 col6\" >0.1136</td>\n",
       "    </tr>\n",
       "    <tr>\n",
       "      <th id=\"T_33c6f_level0_row9\" class=\"row_heading level0 row9\" >9</th>\n",
       "      <td id=\"T_33c6f_row9_col0\" class=\"data row9 col0\" >0.6540</td>\n",
       "      <td id=\"T_33c6f_row9_col1\" class=\"data row9 col1\" >0.6397</td>\n",
       "      <td id=\"T_33c6f_row9_col2\" class=\"data row9 col2\" >0.1153</td>\n",
       "      <td id=\"T_33c6f_row9_col3\" class=\"data row9 col3\" >0.5534</td>\n",
       "      <td id=\"T_33c6f_row9_col4\" class=\"data row9 col4\" >0.1908</td>\n",
       "      <td id=\"T_33c6f_row9_col5\" class=\"data row9 col5\" >0.0784</td>\n",
       "      <td id=\"T_33c6f_row9_col6\" class=\"data row9 col6\" >0.1177</td>\n",
       "    </tr>\n",
       "    <tr>\n",
       "      <th id=\"T_33c6f_level0_row10\" class=\"row_heading level0 row10\" >Mean</th>\n",
       "      <td id=\"T_33c6f_row10_col0\" class=\"data row10 col0\" >0.6542</td>\n",
       "      <td id=\"T_33c6f_row10_col1\" class=\"data row10 col1\" >0.6375</td>\n",
       "      <td id=\"T_33c6f_row10_col2\" class=\"data row10 col2\" >0.1134</td>\n",
       "      <td id=\"T_33c6f_row10_col3\" class=\"data row10 col3\" >0.5561</td>\n",
       "      <td id=\"T_33c6f_row10_col4\" class=\"data row10 col4\" >0.1884</td>\n",
       "      <td id=\"T_33c6f_row10_col5\" class=\"data row10 col5\" >0.0778</td>\n",
       "      <td id=\"T_33c6f_row10_col6\" class=\"data row10 col6\" >0.1180</td>\n",
       "    </tr>\n",
       "    <tr>\n",
       "      <th id=\"T_33c6f_level0_row11\" class=\"row_heading level0 row11\" >Std</th>\n",
       "      <td id=\"T_33c6f_row11_col0\" class=\"data row11 col0\" >0.0018</td>\n",
       "      <td id=\"T_33c6f_row11_col1\" class=\"data row11 col1\" >0.0038</td>\n",
       "      <td id=\"T_33c6f_row11_col2\" class=\"data row11 col2\" >0.0029</td>\n",
       "      <td id=\"T_33c6f_row11_col3\" class=\"data row11 col3\" >0.0130</td>\n",
       "      <td id=\"T_33c6f_row11_col4\" class=\"data row11 col4\" >0.0043</td>\n",
       "      <td id=\"T_33c6f_row11_col5\" class=\"data row11 col5\" >0.0043</td>\n",
       "      <td id=\"T_33c6f_row11_col6\" class=\"data row11 col6\" >0.0068</td>\n",
       "    </tr>\n",
       "  </tbody>\n",
       "</table>\n"
      ],
      "text/plain": [
       "<pandas.io.formats.style.Styler at 0x7fef781b56c0>"
      ]
     },
     "metadata": {},
     "output_type": "display_data"
    },
    {
     "data": {
      "text/html": [],
      "text/plain": [
       "<IPython.core.display.HTML object>"
      ]
     },
     "metadata": {},
     "output_type": "display_data"
    },
    {
     "data": {
      "text/html": [],
      "text/plain": [
       "<IPython.core.display.HTML object>"
      ]
     },
     "metadata": {},
     "output_type": "display_data"
    },
    {
     "data": {
      "image/png": "[encoded data removed]",
      "text/plain": [
       "<Figure size 480x330 with 1 Axes>"
      ]
     },
     "metadata": {},
     "output_type": "display_data"
    },
    {
     "data": {
      "text/html": [],
      "text/plain": [
       "<IPython.core.display.HTML object>"
      ]
     },
     "metadata": {},
     "output_type": "display_data"
    },
    {
     "data": {
      "text/html": [
       "<style type=\"text/css\">\n",
       "#T_9ca5d_row10_col0, #T_9ca5d_row10_col1, #T_9ca5d_row10_col2, #T_9ca5d_row10_col3, #T_9ca5d_row10_col4, #T_9ca5d_row10_col5, #T_9ca5d_row10_col6 {\n",
       "  background: yellow;\n",
       "}\n",
       "</style>\n",
       "<table id=\"T_9ca5d\">\n",
       "  <thead>\n",
       "    <tr>\n",
       "      <th class=\"blank level0\" >&nbsp;</th>\n",
       "      <th id=\"T_9ca5d_level0_col0\" class=\"col_heading level0 col0\" >Accuracy</th>\n",
       "      <th id=\"T_9ca5d_level0_col1\" class=\"col_heading level0 col1\" >AUC</th>\n",
       "      <th id=\"T_9ca5d_level0_col2\" class=\"col_heading level0 col2\" >Recall</th>\n",
       "      <th id=\"T_9ca5d_level0_col3\" class=\"col_heading level0 col3\" >Prec.</th>\n",
       "      <th id=\"T_9ca5d_level0_col4\" class=\"col_heading level0 col4\" >F1</th>\n",
       "      <th id=\"T_9ca5d_level0_col5\" class=\"col_heading level0 col5\" >Kappa</th>\n",
       "      <th id=\"T_9ca5d_level0_col6\" class=\"col_heading level0 col6\" >MCC</th>\n",
       "    </tr>\n",
       "    <tr>\n",
       "      <th class=\"index_name level0\" >Fold</th>\n",
       "      <th class=\"blank col0\" >&nbsp;</th>\n",
       "      <th class=\"blank col1\" >&nbsp;</th>\n",
       "      <th class=\"blank col2\" >&nbsp;</th>\n",
       "      <th class=\"blank col3\" >&nbsp;</th>\n",
       "      <th class=\"blank col4\" >&nbsp;</th>\n",
       "      <th class=\"blank col5\" >&nbsp;</th>\n",
       "      <th class=\"blank col6\" >&nbsp;</th>\n",
       "    </tr>\n",
       "  </thead>\n",
       "  <tbody>\n",
       "    <tr>\n",
       "      <th id=\"T_9ca5d_level0_row0\" class=\"row_heading level0 row0\" >0</th>\n",
       "      <td id=\"T_9ca5d_row0_col0\" class=\"data row0 col0\" >0.6438</td>\n",
       "      <td id=\"T_9ca5d_row0_col1\" class=\"data row0 col1\" >0.6262</td>\n",
       "      <td id=\"T_9ca5d_row0_col2\" class=\"data row0 col2\" >0.2172</td>\n",
       "      <td id=\"T_9ca5d_row0_col3\" class=\"data row0 col3\" >0.4926</td>\n",
       "      <td id=\"T_9ca5d_row0_col4\" class=\"data row0 col4\" >0.3015</td>\n",
       "      <td id=\"T_9ca5d_row0_col5\" class=\"data row0 col5\" >0.1084</td>\n",
       "      <td id=\"T_9ca5d_row0_col6\" class=\"data row0 col6\" >0.1248</td>\n",
       "    </tr>\n",
       "    <tr>\n",
       "      <th id=\"T_9ca5d_level0_row1\" class=\"row_heading level0 row1\" >1</th>\n",
       "      <td id=\"T_9ca5d_row1_col0\" class=\"data row1 col0\" >0.6443</td>\n",
       "      <td id=\"T_9ca5d_row1_col1\" class=\"data row1 col1\" >0.6222</td>\n",
       "      <td id=\"T_9ca5d_row1_col2\" class=\"data row1 col2\" >0.2065</td>\n",
       "      <td id=\"T_9ca5d_row1_col3\" class=\"data row1 col3\" >0.4936</td>\n",
       "      <td id=\"T_9ca5d_row1_col4\" class=\"data row1 col4\" >0.2912</td>\n",
       "      <td id=\"T_9ca5d_row1_col5\" class=\"data row1 col5\" >0.1042</td>\n",
       "      <td id=\"T_9ca5d_row1_col6\" class=\"data row1 col6\" >0.1218</td>\n",
       "    </tr>\n",
       "    <tr>\n",
       "      <th id=\"T_9ca5d_level0_row2\" class=\"row_heading level0 row2\" >2</th>\n",
       "      <td id=\"T_9ca5d_row2_col0\" class=\"data row2 col0\" >0.6444</td>\n",
       "      <td id=\"T_9ca5d_row2_col1\" class=\"data row2 col1\" >0.6279</td>\n",
       "      <td id=\"T_9ca5d_row2_col2\" class=\"data row2 col2\" >0.2204</td>\n",
       "      <td id=\"T_9ca5d_row2_col3\" class=\"data row2 col3\" >0.4943</td>\n",
       "      <td id=\"T_9ca5d_row2_col4\" class=\"data row2 col4\" >0.3048</td>\n",
       "      <td id=\"T_9ca5d_row2_col5\" class=\"data row2 col5\" >0.1108</td>\n",
       "      <td id=\"T_9ca5d_row2_col6\" class=\"data row2 col6\" >0.1271</td>\n",
       "    </tr>\n",
       "    <tr>\n",
       "      <th id=\"T_9ca5d_level0_row3\" class=\"row_heading level0 row3\" >3</th>\n",
       "      <td id=\"T_9ca5d_row3_col0\" class=\"data row3 col0\" >0.6470</td>\n",
       "      <td id=\"T_9ca5d_row3_col1\" class=\"data row3 col1\" >0.6281</td>\n",
       "      <td id=\"T_9ca5d_row3_col2\" class=\"data row3 col2\" >0.2206</td>\n",
       "      <td id=\"T_9ca5d_row3_col3\" class=\"data row3 col3\" >0.5026</td>\n",
       "      <td id=\"T_9ca5d_row3_col4\" class=\"data row3 col4\" >0.3067</td>\n",
       "      <td id=\"T_9ca5d_row3_col5\" class=\"data row3 col5\" >0.1158</td>\n",
       "      <td id=\"T_9ca5d_row3_col6\" class=\"data row3 col6\" >0.1334</td>\n",
       "    </tr>\n",
       "    <tr>\n",
       "      <th id=\"T_9ca5d_level0_row4\" class=\"row_heading level0 row4\" >4</th>\n",
       "      <td id=\"T_9ca5d_row4_col0\" class=\"data row4 col0\" >0.6478</td>\n",
       "      <td id=\"T_9ca5d_row4_col1\" class=\"data row4 col1\" >0.6241</td>\n",
       "      <td id=\"T_9ca5d_row4_col2\" class=\"data row4 col2\" >0.2240</td>\n",
       "      <td id=\"T_9ca5d_row4_col3\" class=\"data row4 col3\" >0.5051</td>\n",
       "      <td id=\"T_9ca5d_row4_col4\" class=\"data row4 col4\" >0.3104</td>\n",
       "      <td id=\"T_9ca5d_row4_col5\" class=\"data row4 col5\" >0.1188</td>\n",
       "      <td id=\"T_9ca5d_row4_col6\" class=\"data row4 col6\" >0.1365</td>\n",
       "    </tr>\n",
       "    <tr>\n",
       "      <th id=\"T_9ca5d_level0_row5\" class=\"row_heading level0 row5\" >5</th>\n",
       "      <td id=\"T_9ca5d_row5_col0\" class=\"data row5 col0\" >0.6405</td>\n",
       "      <td id=\"T_9ca5d_row5_col1\" class=\"data row5 col1\" >0.6264</td>\n",
       "      <td id=\"T_9ca5d_row5_col2\" class=\"data row5 col2\" >0.2075</td>\n",
       "      <td id=\"T_9ca5d_row5_col3\" class=\"data row5 col3\" >0.4813</td>\n",
       "      <td id=\"T_9ca5d_row5_col4\" class=\"data row5 col4\" >0.2900</td>\n",
       "      <td id=\"T_9ca5d_row5_col5\" class=\"data row5 col5\" >0.0976</td>\n",
       "      <td id=\"T_9ca5d_row5_col6\" class=\"data row5 col6\" >0.1131</td>\n",
       "    </tr>\n",
       "    <tr>\n",
       "      <th id=\"T_9ca5d_level0_row6\" class=\"row_heading level0 row6\" >6</th>\n",
       "      <td id=\"T_9ca5d_row6_col0\" class=\"data row6 col0\" >0.6457</td>\n",
       "      <td id=\"T_9ca5d_row6_col1\" class=\"data row6 col1\" >0.6254</td>\n",
       "      <td id=\"T_9ca5d_row6_col2\" class=\"data row6 col2\" >0.2120</td>\n",
       "      <td id=\"T_9ca5d_row6_col3\" class=\"data row6 col3\" >0.4985</td>\n",
       "      <td id=\"T_9ca5d_row6_col4\" class=\"data row6 col4\" >0.2975</td>\n",
       "      <td id=\"T_9ca5d_row6_col5\" class=\"data row6 col5\" >0.1094</td>\n",
       "      <td id=\"T_9ca5d_row6_col6\" class=\"data row6 col6\" >0.1273</td>\n",
       "    </tr>\n",
       "    <tr>\n",
       "      <th id=\"T_9ca5d_level0_row7\" class=\"row_heading level0 row7\" >7</th>\n",
       "      <td id=\"T_9ca5d_row7_col0\" class=\"data row7 col0\" >0.6475</td>\n",
       "      <td id=\"T_9ca5d_row7_col1\" class=\"data row7 col1\" >0.6277</td>\n",
       "      <td id=\"T_9ca5d_row7_col2\" class=\"data row7 col2\" >0.2221</td>\n",
       "      <td id=\"T_9ca5d_row7_col3\" class=\"data row7 col3\" >0.5042</td>\n",
       "      <td id=\"T_9ca5d_row7_col4\" class=\"data row7 col4\" >0.3083</td>\n",
       "      <td id=\"T_9ca5d_row7_col5\" class=\"data row7 col5\" >0.1173</td>\n",
       "      <td id=\"T_9ca5d_row7_col6\" class=\"data row7 col6\" >0.1351</td>\n",
       "    </tr>\n",
       "    <tr>\n",
       "      <th id=\"T_9ca5d_level0_row8\" class=\"row_heading level0 row8\" >8</th>\n",
       "      <td id=\"T_9ca5d_row8_col0\" class=\"data row8 col0\" >0.6429</td>\n",
       "      <td id=\"T_9ca5d_row8_col1\" class=\"data row8 col1\" >0.6233</td>\n",
       "      <td id=\"T_9ca5d_row8_col2\" class=\"data row8 col2\" >0.2113</td>\n",
       "      <td id=\"T_9ca5d_row8_col3\" class=\"data row8 col3\" >0.4893</td>\n",
       "      <td id=\"T_9ca5d_row8_col4\" class=\"data row8 col4\" >0.2952</td>\n",
       "      <td id=\"T_9ca5d_row8_col5\" class=\"data row8 col5\" >0.1039</td>\n",
       "      <td id=\"T_9ca5d_row8_col6\" class=\"data row8 col6\" >0.1204</td>\n",
       "    </tr>\n",
       "    <tr>\n",
       "      <th id=\"T_9ca5d_level0_row9\" class=\"row_heading level0 row9\" >9</th>\n",
       "      <td id=\"T_9ca5d_row9_col0\" class=\"data row9 col0\" >0.6467</td>\n",
       "      <td id=\"T_9ca5d_row9_col1\" class=\"data row9 col1\" >0.6246</td>\n",
       "      <td id=\"T_9ca5d_row9_col2\" class=\"data row9 col2\" >0.2198</td>\n",
       "      <td id=\"T_9ca5d_row9_col3\" class=\"data row9 col3\" >0.5016</td>\n",
       "      <td id=\"T_9ca5d_row9_col4\" class=\"data row9 col4\" >0.3057</td>\n",
       "      <td id=\"T_9ca5d_row9_col5\" class=\"data row9 col5\" >0.1148</td>\n",
       "      <td id=\"T_9ca5d_row9_col6\" class=\"data row9 col6\" >0.1324</td>\n",
       "    </tr>\n",
       "    <tr>\n",
       "      <th id=\"T_9ca5d_level0_row10\" class=\"row_heading level0 row10\" >Mean</th>\n",
       "      <td id=\"T_9ca5d_row10_col0\" class=\"data row10 col0\" >0.6450</td>\n",
       "      <td id=\"T_9ca5d_row10_col1\" class=\"data row10 col1\" >0.6256</td>\n",
       "      <td id=\"T_9ca5d_row10_col2\" class=\"data row10 col2\" >0.2161</td>\n",
       "      <td id=\"T_9ca5d_row10_col3\" class=\"data row10 col3\" >0.4963</td>\n",
       "      <td id=\"T_9ca5d_row10_col4\" class=\"data row10 col4\" >0.3011</td>\n",
       "      <td id=\"T_9ca5d_row10_col5\" class=\"data row10 col5\" >0.1101</td>\n",
       "      <td id=\"T_9ca5d_row10_col6\" class=\"data row10 col6\" >0.1272</td>\n",
       "    </tr>\n",
       "    <tr>\n",
       "      <th id=\"T_9ca5d_level0_row11\" class=\"row_heading level0 row11\" >Std</th>\n",
       "      <td id=\"T_9ca5d_row11_col0\" class=\"data row11 col0\" >0.0022</td>\n",
       "      <td id=\"T_9ca5d_row11_col1\" class=\"data row11 col1\" >0.0019</td>\n",
       "      <td id=\"T_9ca5d_row11_col2\" class=\"data row11 col2\" >0.0060</td>\n",
       "      <td id=\"T_9ca5d_row11_col3\" class=\"data row11 col3\" >0.0072</td>\n",
       "      <td id=\"T_9ca5d_row11_col4\" class=\"data row11 col4\" >0.0069</td>\n",
       "      <td id=\"T_9ca5d_row11_col5\" class=\"data row11 col5\" >0.0064</td>\n",
       "      <td id=\"T_9ca5d_row11_col6\" class=\"data row11 col6\" >0.0070</td>\n",
       "    </tr>\n",
       "  </tbody>\n",
       "</table>\n"
      ],
      "text/plain": [
       "<pandas.io.formats.style.Styler at 0x7fef781b5030>"
      ]
     },
     "metadata": {},
     "output_type": "display_data"
    },
    {
     "data": {
      "text/html": [],
      "text/plain": [
       "<IPython.core.display.HTML object>"
      ]
     },
     "metadata": {},
     "output_type": "display_data"
    },
    {
     "data": {
      "text/html": [],
      "text/plain": [
       "<IPython.core.display.HTML object>"
      ]
     },
     "metadata": {},
     "output_type": "display_data"
    },
    {
     "data": {
      "image/png": "[encoded data removed]",
      "text/plain": [
       "<Figure size 480x330 with 1 Axes>"
      ]
     },
     "metadata": {},
     "output_type": "display_data"
    }
   ],
   "source": [
    "regression_model_ada, regression_model_lightgbm, regression_model_gbc, regression_model_rf = model.common.create_models(train_data, target_column)"
   ]
  },
  {
   "cell_type": "markdown",
   "metadata": {
    "execution": {
     "iopub.execute_input": "2023-06-08T23:08:22.530994Z",
     "iopub.status.busy": "2023-06-08T23:08:22.529719Z",
     "iopub.status.idle": "2023-06-08T23:08:22.542651Z",
     "shell.execute_reply": "2023-06-08T23:08:22.540043Z",
     "shell.execute_reply.started": "2023-06-08T23:08:22.530922Z"
    }
   },
   "source": [
    "**evaluate model**"
   ]
  },
  {
   "cell_type": "markdown",
   "metadata": {},
   "source": [
    "`lightgbm` shows very good AUC of `0.97`, `rf` as well with `1.0` train AUC.\n",
    "\n",
    "`rf` seemed like too overfit with 1.0 train AUC but its test precision as well is the best among others.\n",
    "\n",
    "`ada` shows very low recall thus inpractical.\n"
   ]
  },
  {
   "cell_type": "code",
   "execution_count": 13,
   "metadata": {
    "execution": {
     "iopub.execute_input": "2023-07-06T03:15:09.287560Z",
     "iopub.status.busy": "2023-07-06T03:15:09.287388Z",
     "iopub.status.idle": "2023-07-06T03:15:22.533426Z",
     "shell.execute_reply": "2023-07-06T03:15:22.532569Z",
     "shell.execute_reply.started": "2023-07-06T03:15:09.287544Z"
    }
   },
   "outputs": [
    {
     "data": {
      "text/html": [
       "<style type=\"text/css\">\n",
       "</style>\n",
       "<table id=\"T_bc7c3\">\n",
       "  <thead>\n",
       "    <tr>\n",
       "      <th class=\"blank level0\" >&nbsp;</th>\n",
       "      <th id=\"T_bc7c3_level0_col0\" class=\"col_heading level0 col0\" >Model</th>\n",
       "      <th id=\"T_bc7c3_level0_col1\" class=\"col_heading level0 col1\" >Accuracy</th>\n",
       "      <th id=\"T_bc7c3_level0_col2\" class=\"col_heading level0 col2\" >AUC</th>\n",
       "      <th id=\"T_bc7c3_level0_col3\" class=\"col_heading level0 col3\" >Recall</th>\n",
       "      <th id=\"T_bc7c3_level0_col4\" class=\"col_heading level0 col4\" >Prec.</th>\n",
       "      <th id=\"T_bc7c3_level0_col5\" class=\"col_heading level0 col5\" >F1</th>\n",
       "      <th id=\"T_bc7c3_level0_col6\" class=\"col_heading level0 col6\" >Kappa</th>\n",
       "      <th id=\"T_bc7c3_level0_col7\" class=\"col_heading level0 col7\" >MCC</th>\n",
       "    </tr>\n",
       "  </thead>\n",
       "  <tbody>\n",
       "    <tr>\n",
       "      <th id=\"T_bc7c3_level0_row0\" class=\"row_heading level0 row0\" >0</th>\n",
       "      <td id=\"T_bc7c3_row0_col0\" class=\"data row0 col0\" >Ada Boost Classifier</td>\n",
       "      <td id=\"T_bc7c3_row0_col1\" class=\"data row0 col1\" >0.6544</td>\n",
       "      <td id=\"T_bc7c3_row0_col2\" class=\"data row0 col2\" >0.6358</td>\n",
       "      <td id=\"T_bc7c3_row0_col3\" class=\"data row0 col3\" >0.1412</td>\n",
       "      <td id=\"T_bc7c3_row0_col4\" class=\"data row0 col4\" >0.5449</td>\n",
       "      <td id=\"T_bc7c3_row0_col5\" class=\"data row0 col5\" >0.2243</td>\n",
       "      <td id=\"T_bc7c3_row0_col6\" class=\"data row0 col6\" >0.0921</td>\n",
       "      <td id=\"T_bc7c3_row0_col7\" class=\"data row0 col7\" >0.1270</td>\n",
       "    </tr>\n",
       "  </tbody>\n",
       "</table>\n"
      ],
      "text/plain": [
       "<pandas.io.formats.style.Styler at 0x7fef79e89660>"
      ]
     },
     "metadata": {},
     "output_type": "display_data"
    },
    {
     "data": {
      "text/html": [
       "<style type=\"text/css\">\n",
       "</style>\n",
       "<table id=\"T_f3111\">\n",
       "  <thead>\n",
       "    <tr>\n",
       "      <th class=\"blank level0\" >&nbsp;</th>\n",
       "      <th id=\"T_f3111_level0_col0\" class=\"col_heading level0 col0\" >Model</th>\n",
       "      <th id=\"T_f3111_level0_col1\" class=\"col_heading level0 col1\" >Accuracy</th>\n",
       "      <th id=\"T_f3111_level0_col2\" class=\"col_heading level0 col2\" >AUC</th>\n",
       "      <th id=\"T_f3111_level0_col3\" class=\"col_heading level0 col3\" >Recall</th>\n",
       "      <th id=\"T_f3111_level0_col4\" class=\"col_heading level0 col4\" >Prec.</th>\n",
       "      <th id=\"T_f3111_level0_col5\" class=\"col_heading level0 col5\" >F1</th>\n",
       "      <th id=\"T_f3111_level0_col6\" class=\"col_heading level0 col6\" >Kappa</th>\n",
       "      <th id=\"T_f3111_level0_col7\" class=\"col_heading level0 col7\" >MCC</th>\n",
       "    </tr>\n",
       "  </thead>\n",
       "  <tbody>\n",
       "    <tr>\n",
       "      <th id=\"T_f3111_level0_row0\" class=\"row_heading level0 row0\" >0</th>\n",
       "      <td id=\"T_f3111_row0_col0\" class=\"data row0 col0\" >Gradient Boosting Classifier</td>\n",
       "      <td id=\"T_f3111_row0_col1\" class=\"data row0 col1\" >0.6565</td>\n",
       "      <td id=\"T_f3111_row0_col2\" class=\"data row0 col2\" >0.6435</td>\n",
       "      <td id=\"T_f3111_row0_col3\" class=\"data row0 col3\" >0.1161</td>\n",
       "      <td id=\"T_f3111_row0_col4\" class=\"data row0 col4\" >0.5719</td>\n",
       "      <td id=\"T_f3111_row0_col5\" class=\"data row0 col5\" >0.1930</td>\n",
       "      <td id=\"T_f3111_row0_col6\" class=\"data row0 col6\" >0.0836</td>\n",
       "      <td id=\"T_f3111_row0_col7\" class=\"data row0 col7\" >0.1269</td>\n",
       "    </tr>\n",
       "  </tbody>\n",
       "</table>\n"
      ],
      "text/plain": [
       "<pandas.io.formats.style.Styler at 0x7fef7aa5b550>"
      ]
     },
     "metadata": {},
     "output_type": "display_data"
    },
    {
     "data": {
      "text/html": [
       "<style type=\"text/css\">\n",
       "</style>\n",
       "<table id=\"T_b8144\">\n",
       "  <thead>\n",
       "    <tr>\n",
       "      <th class=\"blank level0\" >&nbsp;</th>\n",
       "      <th id=\"T_b8144_level0_col0\" class=\"col_heading level0 col0\" >Model</th>\n",
       "      <th id=\"T_b8144_level0_col1\" class=\"col_heading level0 col1\" >Accuracy</th>\n",
       "      <th id=\"T_b8144_level0_col2\" class=\"col_heading level0 col2\" >AUC</th>\n",
       "      <th id=\"T_b8144_level0_col3\" class=\"col_heading level0 col3\" >Recall</th>\n",
       "      <th id=\"T_b8144_level0_col4\" class=\"col_heading level0 col4\" >Prec.</th>\n",
       "      <th id=\"T_b8144_level0_col5\" class=\"col_heading level0 col5\" >F1</th>\n",
       "      <th id=\"T_b8144_level0_col6\" class=\"col_heading level0 col6\" >Kappa</th>\n",
       "      <th id=\"T_b8144_level0_col7\" class=\"col_heading level0 col7\" >MCC</th>\n",
       "    </tr>\n",
       "  </thead>\n",
       "  <tbody>\n",
       "    <tr>\n",
       "      <th id=\"T_b8144_level0_row0\" class=\"row_heading level0 row0\" >0</th>\n",
       "      <td id=\"T_b8144_row0_col0\" class=\"data row0 col0\" >Light Gradient Boosting Machine</td>\n",
       "      <td id=\"T_b8144_row0_col1\" class=\"data row0 col1\" >0.6631</td>\n",
       "      <td id=\"T_b8144_row0_col2\" class=\"data row0 col2\" >0.6612</td>\n",
       "      <td id=\"T_b8144_row0_col3\" class=\"data row0 col3\" >0.1420</td>\n",
       "      <td id=\"T_b8144_row0_col4\" class=\"data row0 col4\" >0.6010</td>\n",
       "      <td id=\"T_b8144_row0_col5\" class=\"data row0 col5\" >0.2297</td>\n",
       "      <td id=\"T_b8144_row0_col6\" class=\"data row0 col6\" >0.1093</td>\n",
       "      <td id=\"T_b8144_row0_col7\" class=\"data row0 col7\" >0.1561</td>\n",
       "    </tr>\n",
       "  </tbody>\n",
       "</table>\n"
      ],
      "text/plain": [
       "<pandas.io.formats.style.Styler at 0x7fef7aa5b340>"
      ]
     },
     "metadata": {},
     "output_type": "display_data"
    },
    {
     "data": {
      "text/html": [
       "<style type=\"text/css\">\n",
       "</style>\n",
       "<table id=\"T_1a7eb\">\n",
       "  <thead>\n",
       "    <tr>\n",
       "      <th class=\"blank level0\" >&nbsp;</th>\n",
       "      <th id=\"T_1a7eb_level0_col0\" class=\"col_heading level0 col0\" >Model</th>\n",
       "      <th id=\"T_1a7eb_level0_col1\" class=\"col_heading level0 col1\" >Accuracy</th>\n",
       "      <th id=\"T_1a7eb_level0_col2\" class=\"col_heading level0 col2\" >AUC</th>\n",
       "      <th id=\"T_1a7eb_level0_col3\" class=\"col_heading level0 col3\" >Recall</th>\n",
       "      <th id=\"T_1a7eb_level0_col4\" class=\"col_heading level0 col4\" >Prec.</th>\n",
       "      <th id=\"T_1a7eb_level0_col5\" class=\"col_heading level0 col5\" >F1</th>\n",
       "      <th id=\"T_1a7eb_level0_col6\" class=\"col_heading level0 col6\" >Kappa</th>\n",
       "      <th id=\"T_1a7eb_level0_col7\" class=\"col_heading level0 col7\" >MCC</th>\n",
       "    </tr>\n",
       "  </thead>\n",
       "  <tbody>\n",
       "    <tr>\n",
       "      <th id=\"T_1a7eb_level0_row0\" class=\"row_heading level0 row0\" >0</th>\n",
       "      <td id=\"T_1a7eb_row0_col0\" class=\"data row0 col0\" >Random Forest Classifier</td>\n",
       "      <td id=\"T_1a7eb_row0_col1\" class=\"data row0 col1\" >0.8935</td>\n",
       "      <td id=\"T_1a7eb_row0_col2\" class=\"data row0 col2\" >0.9628</td>\n",
       "      <td id=\"T_1a7eb_row0_col3\" class=\"data row0 col3\" >0.7652</td>\n",
       "      <td id=\"T_1a7eb_row0_col4\" class=\"data row0 col4\" >0.9205</td>\n",
       "      <td id=\"T_1a7eb_row0_col5\" class=\"data row0 col5\" >0.8357</td>\n",
       "      <td id=\"T_1a7eb_row0_col6\" class=\"data row0 col6\" >0.7579</td>\n",
       "      <td id=\"T_1a7eb_row0_col7\" class=\"data row0 col7\" >0.7650</td>\n",
       "    </tr>\n",
       "  </tbody>\n",
       "</table>\n"
      ],
      "text/plain": [
       "<pandas.io.formats.style.Styler at 0x7fef7aa5b490>"
      ]
     },
     "metadata": {},
     "output_type": "display_data"
    }
   ],
   "source": [
    "train_prediction_ada, train_prediction_gbc, train_prediction_lightgbm, train_prediction_rf = model.common.batch_predict_and_odds(train_data, [regression_model_ada, regression_model_gbc, regression_model_lightgbm, regression_model_rf])"
   ]
  },
  {
   "cell_type": "code",
   "execution_count": 14,
   "metadata": {
    "execution": {
     "iopub.execute_input": "2023-07-06T03:15:22.534422Z",
     "iopub.status.busy": "2023-07-06T03:15:22.534236Z",
     "iopub.status.idle": "2023-07-06T03:15:22.825262Z",
     "shell.execute_reply": "2023-07-06T03:15:22.824557Z",
     "shell.execute_reply.started": "2023-07-06T03:15:22.534406Z"
    }
   },
   "outputs": [
    {
     "data": {
      "text/html": [
       "<table>\n",
       "<tbody>\n",
       "<tr><td>model   </td><td>0.6        </td><td>0.7        </td><td>0.75       </td><td>0.8       </td></tr>\n",
       "<tr><td>ada     </td><td>(0, nan)   </td><td>(0, nan)   </td><td>(0, nan)   </td><td>(0, nan)  </td></tr>\n",
       "<tr><td>gbc     </td><td>(40, 0.65) </td><td>(10, 0.8)  </td><td>(1, 1.0)   </td><td>(1, 1.0)  </td></tr>\n",
       "<tr><td>lightgbm</td><td>(50, 0.7)  </td><td>(16, 0.88) </td><td>(7, 1.0)   </td><td>(2, 1.0)  </td></tr>\n",
       "<tr><td>rf      </td><td>(296, 0.97)</td><td>(242, 0.99)</td><td>(179, 0.99)</td><td>(107, 1.0)</td></tr>\n",
       "</tbody>\n",
       "</table>"
      ],
      "text/plain": [
       "'<table>\\n<tbody>\\n<tr><td>model   </td><td>0.6        </td><td>0.7        </td><td>0.75       </td><td>0.8       </td></tr>\\n<tr><td>ada     </td><td>(0, nan)   </td><td>(0, nan)   </td><td>(0, nan)   </td><td>(0, nan)  </td></tr>\\n<tr><td>gbc     </td><td>(40, 0.65) </td><td>(10, 0.8)  </td><td>(1, 1.0)   </td><td>(1, 1.0)  </td></tr>\\n<tr><td>lightgbm</td><td>(50, 0.7)  </td><td>(16, 0.88) </td><td>(7, 1.0)   </td><td>(2, 1.0)  </td></tr>\\n<tr><td>rf      </td><td>(296, 0.97)</td><td>(242, 0.99)</td><td>(179, 0.99)</td><td>(107, 1.0)</td></tr>\\n</tbody>\\n</table>'"
      ]
     },
     "execution_count": 14,
     "metadata": {},
     "output_type": "execute_result"
    }
   ],
   "source": [
    "model.common.evaluate_predictions([(train_prediction_ada, \"ada\"), (train_prediction_gbc, \"gbc\"), (train_prediction_lightgbm, \"lightgbm\"), (train_prediction_rf, \"rf\")], [0.6, 0.7, 0.75, 0.8], target_column)"
   ]
  },
  {
   "cell_type": "markdown",
   "metadata": {
    "execution": {
     "iopub.execute_input": "2023-06-07T00:40:23.948013Z",
     "iopub.status.busy": "2023-06-07T00:40:23.947407Z",
     "iopub.status.idle": "2023-06-07T00:40:23.953130Z",
     "shell.execute_reply": "2023-06-07T00:40:23.952520Z",
     "shell.execute_reply.started": "2023-06-07T00:40:23.947955Z"
    }
   },
   "source": [
    "**test prediction**"
   ]
  },
  {
   "cell_type": "code",
   "execution_count": 15,
   "metadata": {
    "execution": {
     "iopub.execute_input": "2023-07-06T03:15:22.827850Z",
     "iopub.status.busy": "2023-07-06T03:15:22.827656Z",
     "iopub.status.idle": "2023-07-06T03:15:24.319146Z",
     "shell.execute_reply": "2023-07-06T03:15:24.318067Z",
     "shell.execute_reply.started": "2023-07-06T03:15:22.827835Z"
    }
   },
   "outputs": [
    {
     "data": {
      "text/html": [
       "<style type=\"text/css\">\n",
       "</style>\n",
       "<table id=\"T_d6c8d\">\n",
       "  <thead>\n",
       "    <tr>\n",
       "      <th class=\"blank level0\" >&nbsp;</th>\n",
       "      <th id=\"T_d6c8d_level0_col0\" class=\"col_heading level0 col0\" >Model</th>\n",
       "      <th id=\"T_d6c8d_level0_col1\" class=\"col_heading level0 col1\" >Accuracy</th>\n",
       "      <th id=\"T_d6c8d_level0_col2\" class=\"col_heading level0 col2\" >AUC</th>\n",
       "      <th id=\"T_d6c8d_level0_col3\" class=\"col_heading level0 col3\" >Recall</th>\n",
       "      <th id=\"T_d6c8d_level0_col4\" class=\"col_heading level0 col4\" >Prec.</th>\n",
       "      <th id=\"T_d6c8d_level0_col5\" class=\"col_heading level0 col5\" >F1</th>\n",
       "      <th id=\"T_d6c8d_level0_col6\" class=\"col_heading level0 col6\" >Kappa</th>\n",
       "      <th id=\"T_d6c8d_level0_col7\" class=\"col_heading level0 col7\" >MCC</th>\n",
       "    </tr>\n",
       "  </thead>\n",
       "  <tbody>\n",
       "    <tr>\n",
       "      <th id=\"T_d6c8d_level0_row0\" class=\"row_heading level0 row0\" >0</th>\n",
       "      <td id=\"T_d6c8d_row0_col0\" class=\"data row0 col0\" >Ada Boost Classifier</td>\n",
       "      <td id=\"T_d6c8d_row0_col1\" class=\"data row0 col1\" >0.6423</td>\n",
       "      <td id=\"T_d6c8d_row0_col2\" class=\"data row0 col2\" >0.6150</td>\n",
       "      <td id=\"T_d6c8d_row0_col3\" class=\"data row0 col3\" >0.1540</td>\n",
       "      <td id=\"T_d6c8d_row0_col4\" class=\"data row0 col4\" >0.5478</td>\n",
       "      <td id=\"T_d6c8d_row0_col5\" class=\"data row0 col5\" >0.2404</td>\n",
       "      <td id=\"T_d6c8d_row0_col6\" class=\"data row0 col6\" >0.0943</td>\n",
       "      <td id=\"T_d6c8d_row0_col7\" class=\"data row0 col7\" >0.1269</td>\n",
       "    </tr>\n",
       "  </tbody>\n",
       "</table>\n"
      ],
      "text/plain": [
       "<pandas.io.formats.style.Styler at 0x7fef79f75600>"
      ]
     },
     "metadata": {},
     "output_type": "display_data"
    },
    {
     "data": {
      "text/html": [
       "<style type=\"text/css\">\n",
       "</style>\n",
       "<table id=\"T_8e43d\">\n",
       "  <thead>\n",
       "    <tr>\n",
       "      <th class=\"blank level0\" >&nbsp;</th>\n",
       "      <th id=\"T_8e43d_level0_col0\" class=\"col_heading level0 col0\" >Model</th>\n",
       "      <th id=\"T_8e43d_level0_col1\" class=\"col_heading level0 col1\" >Accuracy</th>\n",
       "      <th id=\"T_8e43d_level0_col2\" class=\"col_heading level0 col2\" >AUC</th>\n",
       "      <th id=\"T_8e43d_level0_col3\" class=\"col_heading level0 col3\" >Recall</th>\n",
       "      <th id=\"T_8e43d_level0_col4\" class=\"col_heading level0 col4\" >Prec.</th>\n",
       "      <th id=\"T_8e43d_level0_col5\" class=\"col_heading level0 col5\" >F1</th>\n",
       "      <th id=\"T_8e43d_level0_col6\" class=\"col_heading level0 col6\" >Kappa</th>\n",
       "      <th id=\"T_8e43d_level0_col7\" class=\"col_heading level0 col7\" >MCC</th>\n",
       "    </tr>\n",
       "  </thead>\n",
       "  <tbody>\n",
       "    <tr>\n",
       "      <th id=\"T_8e43d_level0_row0\" class=\"row_heading level0 row0\" >0</th>\n",
       "      <td id=\"T_8e43d_row0_col0\" class=\"data row0 col0\" >Gradient Boosting Classifier</td>\n",
       "      <td id=\"T_8e43d_row0_col1\" class=\"data row0 col1\" >0.6449</td>\n",
       "      <td id=\"T_8e43d_row0_col2\" class=\"data row0 col2\" >0.6183</td>\n",
       "      <td id=\"T_8e43d_row0_col3\" class=\"data row0 col3\" >0.1326</td>\n",
       "      <td id=\"T_8e43d_row0_col4\" class=\"data row0 col4\" >0.5731</td>\n",
       "      <td id=\"T_8e43d_row0_col5\" class=\"data row0 col5\" >0.2154</td>\n",
       "      <td id=\"T_8e43d_row0_col6\" class=\"data row0 col6\" >0.0896</td>\n",
       "      <td id=\"T_8e43d_row0_col7\" class=\"data row0 col7\" >0.1300</td>\n",
       "    </tr>\n",
       "  </tbody>\n",
       "</table>\n"
      ],
      "text/plain": [
       "<pandas.io.formats.style.Styler at 0x7feff82a5fc0>"
      ]
     },
     "metadata": {},
     "output_type": "display_data"
    },
    {
     "data": {
      "text/html": [
       "<style type=\"text/css\">\n",
       "</style>\n",
       "<table id=\"T_22b59\">\n",
       "  <thead>\n",
       "    <tr>\n",
       "      <th class=\"blank level0\" >&nbsp;</th>\n",
       "      <th id=\"T_22b59_level0_col0\" class=\"col_heading level0 col0\" >Model</th>\n",
       "      <th id=\"T_22b59_level0_col1\" class=\"col_heading level0 col1\" >Accuracy</th>\n",
       "      <th id=\"T_22b59_level0_col2\" class=\"col_heading level0 col2\" >AUC</th>\n",
       "      <th id=\"T_22b59_level0_col3\" class=\"col_heading level0 col3\" >Recall</th>\n",
       "      <th id=\"T_22b59_level0_col4\" class=\"col_heading level0 col4\" >Prec.</th>\n",
       "      <th id=\"T_22b59_level0_col5\" class=\"col_heading level0 col5\" >F1</th>\n",
       "      <th id=\"T_22b59_level0_col6\" class=\"col_heading level0 col6\" >Kappa</th>\n",
       "      <th id=\"T_22b59_level0_col7\" class=\"col_heading level0 col7\" >MCC</th>\n",
       "    </tr>\n",
       "  </thead>\n",
       "  <tbody>\n",
       "    <tr>\n",
       "      <th id=\"T_22b59_level0_row0\" class=\"row_heading level0 row0\" >0</th>\n",
       "      <td id=\"T_22b59_row0_col0\" class=\"data row0 col0\" >Light Gradient Boosting Machine</td>\n",
       "      <td id=\"T_22b59_row0_col1\" class=\"data row0 col1\" >0.6421</td>\n",
       "      <td id=\"T_22b59_row0_col2\" class=\"data row0 col2\" >0.6171</td>\n",
       "      <td id=\"T_22b59_row0_col3\" class=\"data row0 col3\" >0.1442</td>\n",
       "      <td id=\"T_22b59_row0_col4\" class=\"data row0 col4\" >0.5503</td>\n",
       "      <td id=\"T_22b59_row0_col5\" class=\"data row0 col5\" >0.2285</td>\n",
       "      <td id=\"T_22b59_row0_col6\" class=\"data row0 col6\" >0.0895</td>\n",
       "      <td id=\"T_22b59_row0_col7\" class=\"data row0 col7\" >0.1237</td>\n",
       "    </tr>\n",
       "  </tbody>\n",
       "</table>\n"
      ],
      "text/plain": [
       "<pandas.io.formats.style.Styler at 0x7fef79f74340>"
      ]
     },
     "metadata": {},
     "output_type": "display_data"
    },
    {
     "data": {
      "text/html": [
       "<style type=\"text/css\">\n",
       "</style>\n",
       "<table id=\"T_0b912\">\n",
       "  <thead>\n",
       "    <tr>\n",
       "      <th class=\"blank level0\" >&nbsp;</th>\n",
       "      <th id=\"T_0b912_level0_col0\" class=\"col_heading level0 col0\" >Model</th>\n",
       "      <th id=\"T_0b912_level0_col1\" class=\"col_heading level0 col1\" >Accuracy</th>\n",
       "      <th id=\"T_0b912_level0_col2\" class=\"col_heading level0 col2\" >AUC</th>\n",
       "      <th id=\"T_0b912_level0_col3\" class=\"col_heading level0 col3\" >Recall</th>\n",
       "      <th id=\"T_0b912_level0_col4\" class=\"col_heading level0 col4\" >Prec.</th>\n",
       "      <th id=\"T_0b912_level0_col5\" class=\"col_heading level0 col5\" >F1</th>\n",
       "      <th id=\"T_0b912_level0_col6\" class=\"col_heading level0 col6\" >Kappa</th>\n",
       "      <th id=\"T_0b912_level0_col7\" class=\"col_heading level0 col7\" >MCC</th>\n",
       "    </tr>\n",
       "  </thead>\n",
       "  <tbody>\n",
       "    <tr>\n",
       "      <th id=\"T_0b912_level0_row0\" class=\"row_heading level0 row0\" >0</th>\n",
       "      <td id=\"T_0b912_row0_col0\" class=\"data row0 col0\" >Random Forest Classifier</td>\n",
       "      <td id=\"T_0b912_row0_col1\" class=\"data row0 col1\" >0.6374</td>\n",
       "      <td id=\"T_0b912_row0_col2\" class=\"data row0 col2\" >0.6045</td>\n",
       "      <td id=\"T_0b912_row0_col3\" class=\"data row0 col3\" >0.1936</td>\n",
       "      <td id=\"T_0b912_row0_col4\" class=\"data row0 col4\" >0.5180</td>\n",
       "      <td id=\"T_0b912_row0_col5\" class=\"data row0 col5\" >0.2819</td>\n",
       "      <td id=\"T_0b912_row0_col6\" class=\"data row0 col6\" >0.1023</td>\n",
       "      <td id=\"T_0b912_row0_col7\" class=\"data row0 col7\" >0.1245</td>\n",
       "    </tr>\n",
       "  </tbody>\n",
       "</table>\n"
      ],
      "text/plain": [
       "<pandas.io.formats.style.Styler at 0x7fef79fdff70>"
      ]
     },
     "metadata": {},
     "output_type": "display_data"
    }
   ],
   "source": [
    "test_prediction_ada, test_prediction_gbc, test_prediction_lightgbm, test_prediction_rf = model.common.batch_predict_and_odds(test_data, [regression_model_ada, regression_model_gbc, regression_model_lightgbm, regression_model_rf])"
   ]
  },
  {
   "cell_type": "code",
   "execution_count": 16,
   "metadata": {
    "execution": {
     "iopub.execute_input": "2023-07-06T03:15:24.322772Z",
     "iopub.status.busy": "2023-07-06T03:15:24.322531Z",
     "iopub.status.idle": "2023-07-06T03:15:24.375111Z",
     "shell.execute_reply": "2023-07-06T03:15:24.374377Z",
     "shell.execute_reply.started": "2023-07-06T03:15:24.322746Z"
    }
   },
   "outputs": [
    {
     "data": {
      "text/html": [
       "<table>\n",
       "<tbody>\n",
       "<tr><td>model   </td><td>0.6       </td><td>0.7       </td><td>0.75    </td><td>0.8     </td><td>0.85    </td></tr>\n",
       "<tr><td>ada     </td><td>(0, nan)  </td><td>(0, nan)  </td><td>(0, nan)</td><td>(0, nan)</td><td>(0, nan)</td></tr>\n",
       "<tr><td>gbc     </td><td>(42, 0.64)</td><td>(7, 0.86) </td><td>(2, 0.5)</td><td>(0, nan)</td><td>(0, nan)</td></tr>\n",
       "<tr><td>lightgbm</td><td>(36, 0.61)</td><td>(14, 0.71)</td><td>(5, 0.6)</td><td>(2, 1.0)</td><td>(0, nan)</td></tr>\n",
       "<tr><td>rf      </td><td>(42, 0.64)</td><td>(11, 0.55)</td><td>(1, 0.0)</td><td>(0, nan)</td><td>(0, nan)</td></tr>\n",
       "</tbody>\n",
       "</table>"
      ],
      "text/plain": [
       "'<table>\\n<tbody>\\n<tr><td>model   </td><td>0.6       </td><td>0.7       </td><td>0.75    </td><td>0.8     </td><td>0.85    </td></tr>\\n<tr><td>ada     </td><td>(0, nan)  </td><td>(0, nan)  </td><td>(0, nan)</td><td>(0, nan)</td><td>(0, nan)</td></tr>\\n<tr><td>gbc     </td><td>(42, 0.64)</td><td>(7, 0.86) </td><td>(2, 0.5)</td><td>(0, nan)</td><td>(0, nan)</td></tr>\\n<tr><td>lightgbm</td><td>(36, 0.61)</td><td>(14, 0.71)</td><td>(5, 0.6)</td><td>(2, 1.0)</td><td>(0, nan)</td></tr>\\n<tr><td>rf      </td><td>(42, 0.64)</td><td>(11, 0.55)</td><td>(1, 0.0)</td><td>(0, nan)</td><td>(0, nan)</td></tr>\\n</tbody>\\n</table>'"
      ]
     },
     "execution_count": 16,
     "metadata": {},
     "output_type": "execute_result"
    }
   ],
   "source": [
    "model.common.evaluate_predictions([(test_prediction_ada, \"ada\"), (test_prediction_gbc, \"gbc\"), (test_prediction_lightgbm, \"lightgbm\"), (test_prediction_rf, \"rf\")], [0.6, 0.7, 0.75, 0.8, 0.85], target_column)"
   ]
  },
  {
   "cell_type": "markdown",
   "metadata": {
    "id": "sOfz0zBX994h"
   },
   "source": [
    "**Finalize Model**"
   ]
  },
  {
   "cell_type": "code",
   "execution_count": 17,
   "metadata": {
    "colab": {
     "base_uri": "https://localhost:8080/",
     "height": 34
    },
    "execution": {
     "iopub.execute_input": "2023-07-06T03:15:24.376839Z",
     "iopub.status.busy": "2023-07-06T03:15:24.376568Z",
     "iopub.status.idle": "2023-07-06T03:17:06.040998Z",
     "shell.execute_reply": "2023-07-06T03:17:06.040203Z",
     "shell.execute_reply.started": "2023-07-06T03:15:24.376811Z"
    },
    "id": "gutfxdh8-DKy",
    "outputId": "2e862724-33f5-45f0-ed52-aade46f98c7d"
   },
   "outputs": [],
   "source": [
    "# train over the whole dataset without validation split\n",
    "regression_model_finalized_ada = pycaret.classification.finalize_model(regression_model_ada)\n",
    "regression_model_finalized_gbc = pycaret.classification.finalize_model(regression_model_gbc)\n",
    "regression_model_finalized_lightgbm = pycaret.classification.finalize_model(regression_model_lightgbm)\n",
    "regression_model_finalized_rf = pycaret.classification.finalize_model(regression_model_rf)"
   ]
  },
  {
   "cell_type": "code",
   "execution_count": 18,
   "metadata": {
    "execution": {
     "iopub.execute_input": "2023-07-06T03:17:06.042686Z",
     "iopub.status.busy": "2023-07-06T03:17:06.042515Z",
     "iopub.status.idle": "2023-07-06T03:17:07.485225Z",
     "shell.execute_reply": "2023-07-06T03:17:07.484418Z",
     "shell.execute_reply.started": "2023-07-06T03:17:06.042671Z"
    }
   },
   "outputs": [
    {
     "data": {
      "text/html": [
       "<style type=\"text/css\">\n",
       "</style>\n",
       "<table id=\"T_e9295\">\n",
       "  <thead>\n",
       "    <tr>\n",
       "      <th class=\"blank level0\" >&nbsp;</th>\n",
       "      <th id=\"T_e9295_level0_col0\" class=\"col_heading level0 col0\" >Model</th>\n",
       "      <th id=\"T_e9295_level0_col1\" class=\"col_heading level0 col1\" >Accuracy</th>\n",
       "      <th id=\"T_e9295_level0_col2\" class=\"col_heading level0 col2\" >AUC</th>\n",
       "      <th id=\"T_e9295_level0_col3\" class=\"col_heading level0 col3\" >Recall</th>\n",
       "      <th id=\"T_e9295_level0_col4\" class=\"col_heading level0 col4\" >Prec.</th>\n",
       "      <th id=\"T_e9295_level0_col5\" class=\"col_heading level0 col5\" >F1</th>\n",
       "      <th id=\"T_e9295_level0_col6\" class=\"col_heading level0 col6\" >Kappa</th>\n",
       "      <th id=\"T_e9295_level0_col7\" class=\"col_heading level0 col7\" >MCC</th>\n",
       "    </tr>\n",
       "  </thead>\n",
       "  <tbody>\n",
       "    <tr>\n",
       "      <th id=\"T_e9295_level0_row0\" class=\"row_heading level0 row0\" >0</th>\n",
       "      <td id=\"T_e9295_row0_col0\" class=\"data row0 col0\" >Ada Boost Classifier</td>\n",
       "      <td id=\"T_e9295_row0_col1\" class=\"data row0 col1\" >0.6422</td>\n",
       "      <td id=\"T_e9295_row0_col2\" class=\"data row0 col2\" >0.6151</td>\n",
       "      <td id=\"T_e9295_row0_col3\" class=\"data row0 col3\" >0.1474</td>\n",
       "      <td id=\"T_e9295_row0_col4\" class=\"data row0 col4\" >0.5498</td>\n",
       "      <td id=\"T_e9295_row0_col5\" class=\"data row0 col5\" >0.2325</td>\n",
       "      <td id=\"T_e9295_row0_col6\" class=\"data row0 col6\" >0.0912</td>\n",
       "      <td id=\"T_e9295_row0_col7\" class=\"data row0 col7\" >0.1249</td>\n",
       "    </tr>\n",
       "  </tbody>\n",
       "</table>\n"
      ],
      "text/plain": [
       "<pandas.io.formats.style.Styler at 0x7fef7aa90f70>"
      ]
     },
     "metadata": {},
     "output_type": "display_data"
    },
    {
     "data": {
      "text/html": [
       "<style type=\"text/css\">\n",
       "</style>\n",
       "<table id=\"T_a44e8\">\n",
       "  <thead>\n",
       "    <tr>\n",
       "      <th class=\"blank level0\" >&nbsp;</th>\n",
       "      <th id=\"T_a44e8_level0_col0\" class=\"col_heading level0 col0\" >Model</th>\n",
       "      <th id=\"T_a44e8_level0_col1\" class=\"col_heading level0 col1\" >Accuracy</th>\n",
       "      <th id=\"T_a44e8_level0_col2\" class=\"col_heading level0 col2\" >AUC</th>\n",
       "      <th id=\"T_a44e8_level0_col3\" class=\"col_heading level0 col3\" >Recall</th>\n",
       "      <th id=\"T_a44e8_level0_col4\" class=\"col_heading level0 col4\" >Prec.</th>\n",
       "      <th id=\"T_a44e8_level0_col5\" class=\"col_heading level0 col5\" >F1</th>\n",
       "      <th id=\"T_a44e8_level0_col6\" class=\"col_heading level0 col6\" >Kappa</th>\n",
       "      <th id=\"T_a44e8_level0_col7\" class=\"col_heading level0 col7\" >MCC</th>\n",
       "    </tr>\n",
       "  </thead>\n",
       "  <tbody>\n",
       "    <tr>\n",
       "      <th id=\"T_a44e8_level0_row0\" class=\"row_heading level0 row0\" >0</th>\n",
       "      <td id=\"T_a44e8_row0_col0\" class=\"data row0 col0\" >Gradient Boosting Classifier</td>\n",
       "      <td id=\"T_a44e8_row0_col1\" class=\"data row0 col1\" >0.6461</td>\n",
       "      <td id=\"T_a44e8_row0_col2\" class=\"data row0 col2\" >0.6183</td>\n",
       "      <td id=\"T_a44e8_row0_col3\" class=\"data row0 col3\" >0.1397</td>\n",
       "      <td id=\"T_a44e8_row0_col4\" class=\"data row0 col4\" >0.5768</td>\n",
       "      <td id=\"T_a44e8_row0_col5\" class=\"data row0 col5\" >0.2250</td>\n",
       "      <td id=\"T_a44e8_row0_col6\" class=\"data row0 col6\" >0.0953</td>\n",
       "      <td id=\"T_a44e8_row0_col7\" class=\"data row0 col7\" >0.1357</td>\n",
       "    </tr>\n",
       "  </tbody>\n",
       "</table>\n"
      ],
      "text/plain": [
       "<pandas.io.formats.style.Styler at 0x7fef7a11dc30>"
      ]
     },
     "metadata": {},
     "output_type": "display_data"
    },
    {
     "data": {
      "text/html": [
       "<style type=\"text/css\">\n",
       "</style>\n",
       "<table id=\"T_4d0ab\">\n",
       "  <thead>\n",
       "    <tr>\n",
       "      <th class=\"blank level0\" >&nbsp;</th>\n",
       "      <th id=\"T_4d0ab_level0_col0\" class=\"col_heading level0 col0\" >Model</th>\n",
       "      <th id=\"T_4d0ab_level0_col1\" class=\"col_heading level0 col1\" >Accuracy</th>\n",
       "      <th id=\"T_4d0ab_level0_col2\" class=\"col_heading level0 col2\" >AUC</th>\n",
       "      <th id=\"T_4d0ab_level0_col3\" class=\"col_heading level0 col3\" >Recall</th>\n",
       "      <th id=\"T_4d0ab_level0_col4\" class=\"col_heading level0 col4\" >Prec.</th>\n",
       "      <th id=\"T_4d0ab_level0_col5\" class=\"col_heading level0 col5\" >F1</th>\n",
       "      <th id=\"T_4d0ab_level0_col6\" class=\"col_heading level0 col6\" >Kappa</th>\n",
       "      <th id=\"T_4d0ab_level0_col7\" class=\"col_heading level0 col7\" >MCC</th>\n",
       "    </tr>\n",
       "  </thead>\n",
       "  <tbody>\n",
       "    <tr>\n",
       "      <th id=\"T_4d0ab_level0_row0\" class=\"row_heading level0 row0\" >0</th>\n",
       "      <td id=\"T_4d0ab_row0_col0\" class=\"data row0 col0\" >Light Gradient Boosting Machine</td>\n",
       "      <td id=\"T_4d0ab_row0_col1\" class=\"data row0 col1\" >0.6404</td>\n",
       "      <td id=\"T_4d0ab_row0_col2\" class=\"data row0 col2\" >0.6163</td>\n",
       "      <td id=\"T_4d0ab_row0_col3\" class=\"data row0 col3\" >0.1455</td>\n",
       "      <td id=\"T_4d0ab_row0_col4\" class=\"data row0 col4\" >0.5401</td>\n",
       "      <td id=\"T_4d0ab_row0_col5\" class=\"data row0 col5\" >0.2293</td>\n",
       "      <td id=\"T_4d0ab_row0_col6\" class=\"data row0 col6\" >0.0868</td>\n",
       "      <td id=\"T_4d0ab_row0_col7\" class=\"data row0 col7\" >0.1186</td>\n",
       "    </tr>\n",
       "  </tbody>\n",
       "</table>\n"
      ],
      "text/plain": [
       "<pandas.io.formats.style.Styler at 0x7fef7a11d750>"
      ]
     },
     "metadata": {},
     "output_type": "display_data"
    },
    {
     "data": {
      "text/html": [
       "<style type=\"text/css\">\n",
       "</style>\n",
       "<table id=\"T_a9f2b\">\n",
       "  <thead>\n",
       "    <tr>\n",
       "      <th class=\"blank level0\" >&nbsp;</th>\n",
       "      <th id=\"T_a9f2b_level0_col0\" class=\"col_heading level0 col0\" >Model</th>\n",
       "      <th id=\"T_a9f2b_level0_col1\" class=\"col_heading level0 col1\" >Accuracy</th>\n",
       "      <th id=\"T_a9f2b_level0_col2\" class=\"col_heading level0 col2\" >AUC</th>\n",
       "      <th id=\"T_a9f2b_level0_col3\" class=\"col_heading level0 col3\" >Recall</th>\n",
       "      <th id=\"T_a9f2b_level0_col4\" class=\"col_heading level0 col4\" >Prec.</th>\n",
       "      <th id=\"T_a9f2b_level0_col5\" class=\"col_heading level0 col5\" >F1</th>\n",
       "      <th id=\"T_a9f2b_level0_col6\" class=\"col_heading level0 col6\" >Kappa</th>\n",
       "      <th id=\"T_a9f2b_level0_col7\" class=\"col_heading level0 col7\" >MCC</th>\n",
       "    </tr>\n",
       "  </thead>\n",
       "  <tbody>\n",
       "    <tr>\n",
       "      <th id=\"T_a9f2b_level0_row0\" class=\"row_heading level0 row0\" >0</th>\n",
       "      <td id=\"T_a9f2b_row0_col0\" class=\"data row0 col0\" >Random Forest Classifier</td>\n",
       "      <td id=\"T_a9f2b_row0_col1\" class=\"data row0 col1\" >0.6340</td>\n",
       "      <td id=\"T_a9f2b_row0_col2\" class=\"data row0 col2\" >0.6022</td>\n",
       "      <td id=\"T_a9f2b_row0_col3\" class=\"data row0 col3\" >0.1935</td>\n",
       "      <td id=\"T_a9f2b_row0_col4\" class=\"data row0 col4\" >0.5058</td>\n",
       "      <td id=\"T_a9f2b_row0_col5\" class=\"data row0 col5\" >0.2799</td>\n",
       "      <td id=\"T_a9f2b_row0_col6\" class=\"data row0 col6\" >0.0960</td>\n",
       "      <td id=\"T_a9f2b_row0_col7\" class=\"data row0 col7\" >0.1159</td>\n",
       "    </tr>\n",
       "  </tbody>\n",
       "</table>\n"
      ],
      "text/plain": [
       "<pandas.io.formats.style.Styler at 0x7fef79fdec80>"
      ]
     },
     "metadata": {},
     "output_type": "display_data"
    }
   ],
   "source": [
    "test_finalized_prediction_ada, test_finalized_prediction_gbc, test_finalized_prediction_lightgbm, test_finalized_prediction_rf = model.common.batch_predict_and_odds(\n",
    "    test_data, \n",
    "    [regression_model_finalized_ada, regression_model_finalized_gbc, regression_model_finalized_lightgbm, regression_model_finalized_rf])"
   ]
  },
  {
   "cell_type": "code",
   "execution_count": 19,
   "metadata": {
    "execution": {
     "iopub.execute_input": "2023-07-06T03:17:07.486336Z",
     "iopub.status.busy": "2023-07-06T03:17:07.486124Z",
     "iopub.status.idle": "2023-07-06T03:17:07.540792Z",
     "shell.execute_reply": "2023-07-06T03:17:07.539942Z",
     "shell.execute_reply.started": "2023-07-06T03:17:07.486316Z"
    }
   },
   "outputs": [
    {
     "data": {
      "text/html": [
       "<table>\n",
       "<tbody>\n",
       "<tr><td>model   </td><td>0.6       </td><td>0.7       </td><td>0.75     </td><td>0.8     </td><td>0.85    </td></tr>\n",
       "<tr><td>ada     </td><td>(0, nan)  </td><td>(0, nan)  </td><td>(0, nan) </td><td>(0, nan)</td><td>(0, nan)</td></tr>\n",
       "<tr><td>gbc     </td><td>(32, 0.66)</td><td>(8, 0.75) </td><td>(2, 1.0) </td><td>(0, nan)</td><td>(0, nan)</td></tr>\n",
       "<tr><td>lightgbm</td><td>(39, 0.59)</td><td>(13, 0.85)</td><td>(4, 0.75)</td><td>(1, 1.0)</td><td>(0, nan)</td></tr>\n",
       "<tr><td>rf      </td><td>(35, 0.66)</td><td>(3, 0.67) </td><td>(1, 0.0) </td><td>(1, 0.0)</td><td>(0, nan)</td></tr>\n",
       "</tbody>\n",
       "</table>"
      ],
      "text/plain": [
       "'<table>\\n<tbody>\\n<tr><td>model   </td><td>0.6       </td><td>0.7       </td><td>0.75     </td><td>0.8     </td><td>0.85    </td></tr>\\n<tr><td>ada     </td><td>(0, nan)  </td><td>(0, nan)  </td><td>(0, nan) </td><td>(0, nan)</td><td>(0, nan)</td></tr>\\n<tr><td>gbc     </td><td>(32, 0.66)</td><td>(8, 0.75) </td><td>(2, 1.0) </td><td>(0, nan)</td><td>(0, nan)</td></tr>\\n<tr><td>lightgbm</td><td>(39, 0.59)</td><td>(13, 0.85)</td><td>(4, 0.75)</td><td>(1, 1.0)</td><td>(0, nan)</td></tr>\\n<tr><td>rf      </td><td>(35, 0.66)</td><td>(3, 0.67) </td><td>(1, 0.0) </td><td>(1, 0.0)</td><td>(0, nan)</td></tr>\\n</tbody>\\n</table>'"
      ]
     },
     "execution_count": 19,
     "metadata": {},
     "output_type": "execute_result"
    }
   ],
   "source": [
    "model.common.evaluate_predictions([(test_finalized_prediction_ada, \"ada\"), (test_finalized_prediction_gbc, \"gbc\"), (test_finalized_prediction_lightgbm, \"lightgbm\"), (test_finalized_prediction_rf, \"rf\")], [0.6, 0.7, 0.75, 0.8, 0.85], target_column)"
   ]
  },
  {
   "cell_type": "markdown",
   "metadata": {},
   "source": [
    "**Save Model**"
   ]
  },
  {
   "cell_type": "code",
   "execution_count": 20,
   "metadata": {
    "execution": {
     "iopub.execute_input": "2023-07-06T03:17:07.542470Z",
     "iopub.status.busy": "2023-07-06T03:17:07.542113Z",
     "iopub.status.idle": "2023-07-06T03:17:07.714593Z",
     "shell.execute_reply": "2023-07-06T03:17:07.713580Z",
     "shell.execute_reply.started": "2023-07-06T03:17:07.542441Z"
    }
   },
   "outputs": [
    {
     "name": "stdout",
     "output_type": "stream",
     "text": [
      "Transformation Pipeline and Model Successfully Saved\n"
     ]
    },
    {
     "data": {
      "text/plain": [
       "(Pipeline(memory=FastMemory(location=/tmp/joblib),\n",
       "          steps=[('numerical_imputer',\n",
       "                  TransformerWrapper(exclude=None,\n",
       "                                     include=['pitching_gamesPlayed',\n",
       "                                              'pitching_runs_per_game',\n",
       "                                              'pitching_strikeOuts_per_game',\n",
       "                                              'pitching_hits_per_game',\n",
       "                                              'batting_gamesPlayed',\n",
       "                                              'batting_runs_per_game',\n",
       "                                              'batting_strikeOuts_per_game',\n",
       "                                              'batting_hits_per_game',\n",
       "                                              'batting_rbi',\n",
       "                                              'pitching_cur_...\n",
       "                                                       colsample_bytree=1.0,\n",
       "                                                       importance_type='split',\n",
       "                                                       learning_rate=0.1,\n",
       "                                                       max_depth=-1,\n",
       "                                                       min_child_samples=20,\n",
       "                                                       min_child_weight=0.001,\n",
       "                                                       min_split_gain=0.0,\n",
       "                                                       n_estimators=100,\n",
       "                                                       n_jobs=-1, num_leaves=31,\n",
       "                                                       objective=None,\n",
       "                                                       probability_threshold=0.5,\n",
       "                                                       random_state=2221,\n",
       "                                                       reg_alpha=0.0,\n",
       "                                                       reg_lambda=0.0,\n",
       "                                                       silent='warn',\n",
       "                                                       subsample=1.0,\n",
       "                                                       subsample_for_bin=200000,\n",
       "                                                       subsample_freq=0))],\n",
       "          verbose=False),\n",
       " 'model/batter_1runs_regression_model.pkl')"
      ]
     },
     "execution_count": 20,
     "metadata": {},
     "output_type": "execute_result"
    }
   ],
   "source": [
    "pycaret.classification.save_model(regression_model_finalized_lightgbm, model_file_name)"
   ]
  }
 ],
 "metadata": {
  "colab": {
   "provenance": []
  },
  "kernelspec": {
   "display_name": "Python 3 (ipykernel)",
   "language": "python",
   "name": "python3"
  },
  "language_info": {
   "codemirror_mode": {
    "name": "ipython",
    "version": 3
   },
   "file_extension": ".py",
   "mimetype": "text/x-python",
   "name": "python",
   "nbconvert_exporter": "python",
   "pygments_lexer": "ipython3",
   "version": "3.10.6"
  },
  "widgets": {
   "application/vnd.jupyter.widget-state+json": {
    "1ac32fe9102d4f5a9d1511e64a1d5e5d": {
     "model_module": "@jupyter-widgets/base",
     "model_module_version": "1.2.0",
     "model_name": "LayoutModel",
     "state": {
      "_model_module": "@jupyter-widgets/base",
      "_model_module_version": "1.2.0",
      "_model_name": "LayoutModel",
      "_view_count": null,
      "_view_module": "@jupyter-widgets/base",
      "_view_module_version": "1.2.0",
      "_view_name": "LayoutView",
      "align_content": null,
      "align_items": null,
      "align_self": null,
      "border": null,
      "bottom": null,
      "display": null,
      "flex": null,
      "flex_flow": null,
      "grid_area": null,
      "grid_auto_columns": null,
      "grid_auto_flow": null,
      "grid_auto_rows": null,
      "grid_column": null,
      "grid_gap": null,
      "grid_row": null,
      "grid_template_areas": null,
      "grid_template_columns": null,
      "grid_template_rows": null,
      "height": null,
      "justify_content": null,
      "justify_items": null,
      "left": null,
      "margin": null,
      "max_height": null,
      "max_width": null,
      "min_height": null,
      "min_width": null,
      "object_fit": null,
      "object_position": null,
      "order": null,
      "overflow": null,
      "overflow_x": null,
      "overflow_y": null,
      "padding": null,
      "right": null,
      "top": null,
      "visibility": null,
      "width": null
     }
    },
    "40b50c57e470496cb6c94a0693636fd7": {
     "model_module": "@jupyter-widgets/base",
     "model_module_version": "1.2.0",
     "model_name": "LayoutModel",
     "state": {
      "_model_module": "@jupyter-widgets/base",
      "_model_module_version": "1.2.0",
      "_model_name": "LayoutModel",
      "_view_count": null,
      "_view_module": "@jupyter-widgets/base",
      "_view_module_version": "1.2.0",
      "_view_name": "LayoutView",
      "align_content": null,
      "align_items": null,
      "align_self": null,
      "border": null,
      "bottom": null,
      "display": null,
      "flex": null,
      "flex_flow": null,
      "grid_area": null,
      "grid_auto_columns": null,
      "grid_auto_flow": null,
      "grid_auto_rows": null,
      "grid_column": null,
      "grid_gap": null,
      "grid_row": null,
      "grid_template_areas": null,
      "grid_template_columns": null,
      "grid_template_rows": null,
      "height": null,
      "justify_content": null,
      "justify_items": null,
      "left": null,
      "margin": null,
      "max_height": null,
      "max_width": null,
      "min_height": null,
      "min_width": null,
      "object_fit": null,
      "object_position": null,
      "order": null,
      "overflow": null,
      "overflow_x": null,
      "overflow_y": null,
      "padding": null,
      "right": null,
      "top": null,
      "visibility": "hidden",
      "width": null
     }
    },
    "46b9d3b6cd6e4f76a42dd4f216dc1644": {
     "model_module": "@jupyter-widgets/controls",
     "model_module_version": "1.5.0",
     "model_name": "HBoxModel",
     "state": {
      "_dom_classes": [],
      "_model_module": "@jupyter-widgets/controls",
      "_model_module_version": "1.5.0",
      "_model_name": "HBoxModel",
      "_view_count": null,
      "_view_module": "@jupyter-widgets/controls",
      "_view_module_version": "1.5.0",
      "_view_name": "HBoxView",
      "box_style": "",
      "children": [
       "IPY_MODEL_cfce22755aa7471a87151793e633def1",
       "IPY_MODEL_94d7b3dc65544425b2463933c4108fa4",
       "IPY_MODEL_f92582f04a594f87a669f3c1c4d4eabc"
      ],
      "layout": "IPY_MODEL_40b50c57e470496cb6c94a0693636fd7"
     }
    },
    "4efa6d0ab419418ea9e4991c77b1ec42": {
     "model_module": "@jupyter-widgets/controls",
     "model_module_version": "1.5.0",
     "model_name": "ProgressStyleModel",
     "state": {
      "_model_module": "@jupyter-widgets/controls",
      "_model_module_version": "1.5.0",
      "_model_name": "ProgressStyleModel",
      "_view_count": null,
      "_view_module": "@jupyter-widgets/base",
      "_view_module_version": "1.2.0",
      "_view_name": "StyleView",
      "bar_color": null,
      "description_width": ""
     }
    },
    "81feddb738c64cbc8b7dbc7aec2730de": {
     "model_module": "@jupyter-widgets/controls",
     "model_module_version": "1.5.0",
     "model_name": "DescriptionStyleModel",
     "state": {
      "_model_module": "@jupyter-widgets/controls",
      "_model_module_version": "1.5.0",
      "_model_name": "DescriptionStyleModel",
      "_view_count": null,
      "_view_module": "@jupyter-widgets/base",
      "_view_module_version": "1.2.0",
      "_view_name": "StyleView",
      "description_width": ""
     }
    },
    "94d7b3dc65544425b2463933c4108fa4": {
     "model_module": "@jupyter-widgets/controls",
     "model_module_version": "1.5.0",
     "model_name": "FloatProgressModel",
     "state": {
      "_dom_classes": [],
      "_model_module": "@jupyter-widgets/controls",
      "_model_module_version": "1.5.0",
      "_model_name": "FloatProgressModel",
      "_view_count": null,
      "_view_module": "@jupyter-widgets/controls",
      "_view_module_version": "1.5.0",
      "_view_name": "ProgressView",
      "bar_style": "",
      "description": "",
      "description_tooltip": null,
      "layout": "IPY_MODEL_eb74dfbcca4a458eb81d87fbae5bf166",
      "max": 4,
      "min": 0,
      "orientation": "horizontal",
      "style": "IPY_MODEL_4efa6d0ab419418ea9e4991c77b1ec42",
      "value": 4
     }
    },
    "bec03081ad154466a3a0abca5a8462f4": {
     "model_module": "@jupyter-widgets/base",
     "model_module_version": "1.2.0",
     "model_name": "LayoutModel",
     "state": {
      "_model_module": "@jupyter-widgets/base",
      "_model_module_version": "1.2.0",
      "_model_name": "LayoutModel",
      "_view_count": null,
      "_view_module": "@jupyter-widgets/base",
      "_view_module_version": "1.2.0",
      "_view_name": "LayoutView",
      "align_content": null,
      "align_items": null,
      "align_self": null,
      "border": null,
      "bottom": null,
      "display": null,
      "flex": null,
      "flex_flow": null,
      "grid_area": null,
      "grid_auto_columns": null,
      "grid_auto_flow": null,
      "grid_auto_rows": null,
      "grid_column": null,
      "grid_gap": null,
      "grid_row": null,
      "grid_template_areas": null,
      "grid_template_columns": null,
      "grid_template_rows": null,
      "height": null,
      "justify_content": null,
      "justify_items": null,
      "left": null,
      "margin": null,
      "max_height": null,
      "max_width": null,
      "min_height": null,
      "min_width": null,
      "object_fit": null,
      "object_position": null,
      "order": null,
      "overflow": null,
      "overflow_x": null,
      "overflow_y": null,
      "padding": null,
      "right": null,
      "top": null,
      "visibility": null,
      "width": null
     }
    },
    "cfcd697393754f1d93106a2d6e07ea05": {
     "model_module": "@jupyter-widgets/controls",
     "model_module_version": "1.5.0",
     "model_name": "DescriptionStyleModel",
     "state": {
      "_model_module": "@jupyter-widgets/controls",
      "_model_module_version": "1.5.0",
      "_model_name": "DescriptionStyleModel",
      "_view_count": null,
      "_view_module": "@jupyter-widgets/base",
      "_view_module_version": "1.2.0",
      "_view_name": "StyleView",
      "description_width": ""
     }
    },
    "cfce22755aa7471a87151793e633def1": {
     "model_module": "@jupyter-widgets/controls",
     "model_module_version": "1.5.0",
     "model_name": "HTMLModel",
     "state": {
      "_dom_classes": [],
      "_model_module": "@jupyter-widgets/controls",
      "_model_module_version": "1.5.0",
      "_model_name": "HTMLModel",
      "_view_count": null,
      "_view_module": "@jupyter-widgets/controls",
      "_view_module_version": "1.5.0",
      "_view_name": "HTMLView",
      "description": "",
      "description_tooltip": null,
      "layout": "IPY_MODEL_bec03081ad154466a3a0abca5a8462f4",
      "placeholder": "​",
      "style": "IPY_MODEL_81feddb738c64cbc8b7dbc7aec2730de",
      "value": "Processing: 100%"
     }
    },
    "eb74dfbcca4a458eb81d87fbae5bf166": {
     "model_module": "@jupyter-widgets/base",
     "model_module_version": "1.2.0",
     "model_name": "LayoutModel",
     "state": {
      "_model_module": "@jupyter-widgets/base",
      "_model_module_version": "1.2.0",
      "_model_name": "LayoutModel",
      "_view_count": null,
      "_view_module": "@jupyter-widgets/base",
      "_view_module_version": "1.2.0",
      "_view_name": "LayoutView",
      "align_content": null,
      "align_items": null,
      "align_self": null,
      "border": null,
      "bottom": null,
      "display": null,
      "flex": null,
      "flex_flow": null,
      "grid_area": null,
      "grid_auto_columns": null,
      "grid_auto_flow": null,
      "grid_auto_rows": null,
      "grid_column": null,
      "grid_gap": null,
      "grid_row": null,
      "grid_template_areas": null,
      "grid_template_columns": null,
      "grid_template_rows": null,
      "height": null,
      "justify_content": null,
      "justify_items": null,
      "left": null,
      "margin": null,
      "max_height": null,
      "max_width": null,
      "min_height": null,
      "min_width": null,
      "object_fit": null,
      "object_position": null,
      "order": null,
      "overflow": null,
      "overflow_x": null,
      "overflow_y": null,
      "padding": null,
      "right": null,
      "top": null,
      "visibility": null,
      "width": null
     }
    },
    "f92582f04a594f87a669f3c1c4d4eabc": {
     "model_module": "@jupyter-widgets/controls",
     "model_module_version": "1.5.0",
     "model_name": "HTMLModel",
     "state": {
      "_dom_classes": [],
      "_model_module": "@jupyter-widgets/controls",
      "_model_module_version": "1.5.0",
      "_model_name": "HTMLModel",
      "_view_count": null,
      "_view_module": "@jupyter-widgets/controls",
      "_view_module_version": "1.5.0",
      "_view_name": "HTMLView",
      "description": "",
      "description_tooltip": null,
      "layout": "IPY_MODEL_1ac32fe9102d4f5a9d1511e64a1d5e5d",
      "placeholder": "​",
      "style": "IPY_MODEL_cfcd697393754f1d93106a2d6e07ea05",
      "value": " 4/4 [00:10&lt;00:00,  2.34s/it]"
     }
    }
   }
  }
 },
 "nbformat": 4,
 "nbformat_minor": 4
}
