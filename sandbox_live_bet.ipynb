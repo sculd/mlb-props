{
 "cells": [
  {
   "cell_type": "markdown",
   "id": "c913d6da-b3da-4e8b-8e41-aa7ce19ca876",
   "metadata": {},
   "source": [
    "use this notebook to see today's bet at the beginning of a day"
   ]
  },
  {
   "cell_type": "code",
   "execution_count": 103,
   "id": "9e78fb1e-a23f-4cc8-9a19-eacd10c24a6a",
   "metadata": {
    "execution": {
     "iopub.execute_input": "2023-05-29T23:36:09.117158Z",
     "iopub.status.busy": "2023-05-29T23:36:09.116526Z",
     "iopub.status.idle": "2023-05-29T23:36:09.126642Z",
     "shell.execute_reply": "2023-05-29T23:36:09.124492Z",
     "shell.execute_reply.started": "2023-05-29T23:36:09.117111Z"
    }
   },
   "outputs": [],
   "source": [
    "import pandas as pd, numpy as np\n",
    "import statsapi\n",
    "from statsapi import player_stat_data\n",
    "import requests\n",
    "from datetime import datetime, timedelta\n",
    "import numpy as np\n",
    "import math\n",
    "import meteostat\n",
    "import pprint\n",
    "import pickle\n",
    "import copy\n",
    "\n",
    "import pycaret\n",
    "from pycaret import classification\n",
    "import model.common\n",
    "import importlib"
   ]
  },
  {
   "cell_type": "code",
   "execution_count": 19,
   "id": "7156ffee-eb04-4b59-8738-50e56c8d54e8",
   "metadata": {
    "execution": {
     "iopub.execute_input": "2023-05-29T19:15:38.385955Z",
     "iopub.status.busy": "2023-05-29T19:15:38.385515Z",
     "iopub.status.idle": "2023-05-29T19:15:38.391810Z",
     "shell.execute_reply": "2023-05-29T19:15:38.390324Z",
     "shell.execute_reply.started": "2023-05-29T19:15:38.385925Z"
    }
   },
   "outputs": [],
   "source": [
    "from static_data.load_static_data import *"
   ]
  },
  {
   "cell_type": "code",
   "execution_count": 3,
   "id": "9adbc810-cc3b-4f74-aba3-22d27c24b0aa",
   "metadata": {
    "execution": {
     "iopub.execute_input": "2023-05-29T19:07:52.070934Z",
     "iopub.status.busy": "2023-05-29T19:07:52.069863Z",
     "iopub.status.idle": "2023-05-29T19:07:52.079635Z",
     "shell.execute_reply": "2023-05-29T19:07:52.078967Z",
     "shell.execute_reply.started": "2023-05-29T19:07:52.070884Z"
    }
   },
   "outputs": [
    {
     "data": {
      "text/plain": [
       "('2023-05-29', '2023-05-28')"
      ]
     },
     "execution_count": 3,
     "metadata": {},
     "output_type": "execute_result"
    }
   ],
   "source": [
    "date_today = datetime.today().strftime(\"%Y-%m-%d\")\n",
    "date_yesterday = (datetime.today() - timedelta(days=1)).strftime(\"%Y-%m-%d\")\n",
    "date_today, date_yesterday"
   ]
  },
  {
   "cell_type": "code",
   "execution_count": 58,
   "id": "58b92d87-7f53-4719-9e75-42d0bf4b0b81",
   "metadata": {
    "execution": {
     "iopub.execute_input": "2023-05-29T23:25:51.915652Z",
     "iopub.status.busy": "2023-05-29T23:25:51.915298Z",
     "iopub.status.idle": "2023-05-29T23:25:51.920900Z",
     "shell.execute_reply": "2023-05-29T23:25:51.920327Z",
     "shell.execute_reply.started": "2023-05-29T23:25:51.915632Z"
    }
   },
   "outputs": [
    {
     "data": {
      "text/plain": [
       "<module 'model.common' from '/home/junlim/projects/mlb-props/model/common.py'>"
      ]
     },
     "execution_count": 58,
     "metadata": {},
     "output_type": "execute_result"
    }
   ],
   "source": [
    "importlib.reload(model.common)"
   ]
  },
  {
   "cell_type": "code",
   "execution_count": 86,
   "id": "13d9aeb6-6f36-4f77-9da7-809850a5bb2f",
   "metadata": {
    "execution": {
     "iopub.execute_input": "2023-05-29T23:29:37.128221Z",
     "iopub.status.busy": "2023-05-29T23:29:37.127921Z",
     "iopub.status.idle": "2023-05-29T23:29:37.132991Z",
     "shell.execute_reply": "2023-05-29T23:29:37.132274Z",
     "shell.execute_reply.started": "2023-05-29T23:29:37.128204Z"
    }
   },
   "outputs": [],
   "source": [
    "df_live_game_matchup = pd.read_pickle(f'collect_data/df_live_game_matchup_{date_today}.pkl')\n",
    "df_odds_hits = pd.read_pickle(f\"odds_data/df_odds_hits_{date_today}.pkl\")"
   ]
  },
  {
   "cell_type": "code",
   "execution_count": 87,
   "id": "f8830d06-833b-4b40-8eca-5e2e26454418",
   "metadata": {
    "execution": {
     "iopub.execute_input": "2023-05-29T23:29:37.349550Z",
     "iopub.status.busy": "2023-05-29T23:29:37.349007Z",
     "iopub.status.idle": "2023-05-29T23:29:37.357646Z",
     "shell.execute_reply": "2023-05-29T23:29:37.356289Z",
     "shell.execute_reply.started": "2023-05-29T23:29:37.349514Z"
    }
   },
   "outputs": [],
   "source": [
    "df_odds_hits[\"over_prob\"] = df_odds_hits[\"over_odds\"].apply(model.common.odds_to_probability)"
   ]
  },
  {
   "cell_type": "markdown",
   "id": "491235be-cfba-46ec-88a3-255ed694c96a",
   "metadata": {},
   "source": [
    "# live prediction"
   ]
  },
  {
   "cell_type": "code",
   "execution_count": 27,
   "id": "c5558463-48a1-4957-b872-09ae60e03685",
   "metadata": {
    "execution": {
     "iopub.execute_input": "2023-05-29T19:19:04.108495Z",
     "iopub.status.busy": "2023-05-29T19:19:04.108252Z",
     "iopub.status.idle": "2023-05-29T19:19:04.125504Z",
     "shell.execute_reply": "2023-05-29T19:19:04.124508Z",
     "shell.execute_reply.started": "2023-05-29T19:19:04.108479Z"
    }
   },
   "outputs": [
    {
     "name": "stdout",
     "output_type": "stream",
     "text": [
      "Transformation Pipeline and Model Successfully Loaded\n"
     ]
    }
   ],
   "source": [
    "regression_model = pycaret.classification.load_model(model.common.model_file_name)"
   ]
  },
  {
   "cell_type": "code",
   "execution_count": 89,
   "id": "c49e4aaf-4b61-4666-af62-e43fa5e39803",
   "metadata": {
    "execution": {
     "iopub.execute_input": "2023-05-29T23:29:39.237607Z",
     "iopub.status.busy": "2023-05-29T23:29:39.237344Z",
     "iopub.status.idle": "2023-05-29T23:29:39.594240Z",
     "shell.execute_reply": "2023-05-29T23:29:39.593238Z",
     "shell.execute_reply.started": "2023-05-29T23:29:39.237595Z"
    }
   },
   "outputs": [],
   "source": [
    "live_prediction = pycaret.classification.predict_model(data = df_live_game_matchup, estimator = regression_model)\n",
    "live_prediction = pd.merge(live_prediction, df_player_team_positions[['player_id','player_team_name']], left_on='batting_id', right_on='player_id', how='left')\n",
    "live_prediction[\"theo_odds\"] = live_prediction[\"prediction_score\"].apply(model.common.odds_calculator)"
   ]
  },
  {
   "cell_type": "code",
   "execution_count": 112,
   "id": "967b5e93-6198-41ab-97e1-67bb65773c59",
   "metadata": {
    "execution": {
     "iopub.execute_input": "2023-05-29T23:41:02.778422Z",
     "iopub.status.busy": "2023-05-29T23:41:02.778172Z",
     "iopub.status.idle": "2023-05-29T23:41:02.781351Z",
     "shell.execute_reply": "2023-05-29T23:41:02.780722Z",
     "shell.execute_reply.started": "2023-05-29T23:41:02.778407Z"
    }
   },
   "outputs": [],
   "source": [
    "live_bet_columns = model.common.features + ['prediction_label', 'prediction_score', 'theo_odds']"
   ]
  },
  {
   "cell_type": "code",
   "execution_count": 113,
   "id": "35772415-720b-4373-9c69-4d9154715b08",
   "metadata": {
    "execution": {
     "iopub.execute_input": "2023-05-29T23:41:12.990662Z",
     "iopub.status.busy": "2023-05-29T23:41:12.990312Z",
     "iopub.status.idle": "2023-05-29T23:41:13.003833Z",
     "shell.execute_reply": "2023-05-29T23:41:13.003226Z",
     "shell.execute_reply.started": "2023-05-29T23:41:12.990639Z"
    }
   },
   "outputs": [],
   "source": [
    "df_live_prediction_odds = live_prediction[live_bet_columns + ['game_id']].set_index(['game_id', 'batting_name']).join(df_odds_hits.rename(columns={'player_name': 'batting_name'}).set_index(['game_id', 'batting_name']), lsuffix='', rsuffix='_odds').reset_index()\n",
    "df_live_prediction_odds = df_live_prediction_odds[df_live_prediction_odds.over_line < 1.0]"
   ]
  },
  {
   "cell_type": "code",
   "execution_count": 106,
   "id": "bc57f210-ce9f-4455-8a27-0dd3cc341809",
   "metadata": {
    "execution": {
     "iopub.execute_input": "2023-05-29T23:37:01.504243Z",
     "iopub.status.busy": "2023-05-29T23:37:01.503960Z",
     "iopub.status.idle": "2023-05-29T23:37:01.514449Z",
     "shell.execute_reply": "2023-05-29T23:37:01.514035Z",
     "shell.execute_reply.started": "2023-05-29T23:37:01.504223Z"
    }
   },
   "outputs": [
    {
     "data": {
      "text/html": [
       "<div>\n",
       "<style scoped>\n",
       "    .dataframe tbody tr th:only-of-type {\n",
       "        vertical-align: middle;\n",
       "    }\n",
       "\n",
       "    .dataframe tbody tr th {\n",
       "        vertical-align: top;\n",
       "    }\n",
       "\n",
       "    .dataframe thead th {\n",
       "        text-align: right;\n",
       "    }\n",
       "</style>\n",
       "<table border=\"1\" class=\"dataframe\">\n",
       "  <thead>\n",
       "    <tr style=\"text-align: right;\">\n",
       "      <th></th>\n",
       "      <th>game_date</th>\n",
       "      <th>team_away</th>\n",
       "      <th>team_home</th>\n",
       "      <th>batting_name</th>\n",
       "      <th>prediction_score</th>\n",
       "      <th>theo_odds</th>\n",
       "      <th>over_prob</th>\n",
       "      <th>over_odds</th>\n",
       "      <th>over_line</th>\n",
       "    </tr>\n",
       "  </thead>\n",
       "  <tbody>\n",
       "    <tr>\n",
       "      <th>61</th>\n",
       "      <td>2023-05-29</td>\n",
       "      <td>Cleveland Guardians</td>\n",
       "      <td>Baltimore Orioles</td>\n",
       "      <td>Ryan McKenna</td>\n",
       "      <td>0.7817</td>\n",
       "      <td>-358</td>\n",
       "      <td>0.649123</td>\n",
       "      <td>-185</td>\n",
       "      <td>0.5</td>\n",
       "    </tr>\n",
       "    <tr>\n",
       "      <th>5</th>\n",
       "      <td>2023-05-29</td>\n",
       "      <td>Minnesota Twins</td>\n",
       "      <td>Houston Astros</td>\n",
       "      <td>Jose Altuve</td>\n",
       "      <td>0.7475</td>\n",
       "      <td>-296</td>\n",
       "      <td>0.722222</td>\n",
       "      <td>-260</td>\n",
       "      <td>0.5</td>\n",
       "    </tr>\n",
       "    <tr>\n",
       "      <th>157</th>\n",
       "      <td>2023-05-29</td>\n",
       "      <td>Texas Rangers</td>\n",
       "      <td>Detroit Tigers</td>\n",
       "      <td>Adolis Garcia</td>\n",
       "      <td>0.7387</td>\n",
       "      <td>-283</td>\n",
       "      <td>0.696970</td>\n",
       "      <td>-230</td>\n",
       "      <td>0.5</td>\n",
       "    </tr>\n",
       "    <tr>\n",
       "      <th>3</th>\n",
       "      <td>2023-05-29</td>\n",
       "      <td>Minnesota Twins</td>\n",
       "      <td>Houston Astros</td>\n",
       "      <td>Jose Abreu</td>\n",
       "      <td>0.7370</td>\n",
       "      <td>-280</td>\n",
       "      <td>0.722222</td>\n",
       "      <td>-260</td>\n",
       "      <td>0.5</td>\n",
       "    </tr>\n",
       "    <tr>\n",
       "      <th>113</th>\n",
       "      <td>2023-05-29</td>\n",
       "      <td>Colorado Rockies</td>\n",
       "      <td>Arizona Diamondbacks</td>\n",
       "      <td>Kris Bryant</td>\n",
       "      <td>0.7365</td>\n",
       "      <td>-280</td>\n",
       "      <td>0.718310</td>\n",
       "      <td>-255</td>\n",
       "      <td>0.5</td>\n",
       "    </tr>\n",
       "    <tr>\n",
       "      <th>176</th>\n",
       "      <td>2023-05-29</td>\n",
       "      <td>Texas Rangers</td>\n",
       "      <td>Detroit Tigers</td>\n",
       "      <td>Marcus Semien</td>\n",
       "      <td>0.7352</td>\n",
       "      <td>-278</td>\n",
       "      <td>0.729730</td>\n",
       "      <td>-270</td>\n",
       "      <td>0.5</td>\n",
       "    </tr>\n",
       "    <tr>\n",
       "      <th>161</th>\n",
       "      <td>2023-05-29</td>\n",
       "      <td>Texas Rangers</td>\n",
       "      <td>Detroit Tigers</td>\n",
       "      <td>Corey Seager</td>\n",
       "      <td>0.7281</td>\n",
       "      <td>-268</td>\n",
       "      <td>0.722222</td>\n",
       "      <td>-260</td>\n",
       "      <td>0.5</td>\n",
       "    </tr>\n",
       "    <tr>\n",
       "      <th>36</th>\n",
       "      <td>2023-05-29</td>\n",
       "      <td>Los Angeles Angels</td>\n",
       "      <td>Chicago White Sox</td>\n",
       "      <td>Mickey Moniak</td>\n",
       "      <td>0.7262</td>\n",
       "      <td>-265</td>\n",
       "      <td>0.574468</td>\n",
       "      <td>-135</td>\n",
       "      <td>0.5</td>\n",
       "    </tr>\n",
       "    <tr>\n",
       "      <th>165</th>\n",
       "      <td>2023-05-29</td>\n",
       "      <td>Texas Rangers</td>\n",
       "      <td>Detroit Tigers</td>\n",
       "      <td>Javier Baez</td>\n",
       "      <td>0.7135</td>\n",
       "      <td>-249</td>\n",
       "      <td>0.733333</td>\n",
       "      <td>-275</td>\n",
       "      <td>0.5</td>\n",
       "    </tr>\n",
       "    <tr>\n",
       "      <th>82</th>\n",
       "      <td>2023-05-29</td>\n",
       "      <td>Kansas City Royals</td>\n",
       "      <td>St. Louis Cardinals</td>\n",
       "      <td>Paul Goldschmidt</td>\n",
       "      <td>0.7073</td>\n",
       "      <td>-242</td>\n",
       "      <td>0.710145</td>\n",
       "      <td>-245</td>\n",
       "      <td>0.5</td>\n",
       "    </tr>\n",
       "    <tr>\n",
       "      <th>76</th>\n",
       "      <td>2023-05-29</td>\n",
       "      <td>Kansas City Royals</td>\n",
       "      <td>St. Louis Cardinals</td>\n",
       "      <td>Nolan Arenado</td>\n",
       "      <td>0.7002</td>\n",
       "      <td>-234</td>\n",
       "      <td>0.733333</td>\n",
       "      <td>-275</td>\n",
       "      <td>0.5</td>\n",
       "    </tr>\n",
       "  </tbody>\n",
       "</table>\n",
       "</div>"
      ],
      "text/plain": [
       "     game_date            team_away             team_home      batting_name  \\\n",
       "61  2023-05-29  Cleveland Guardians     Baltimore Orioles      Ryan McKenna   \n",
       "5   2023-05-29      Minnesota Twins        Houston Astros       Jose Altuve   \n",
       "157 2023-05-29        Texas Rangers        Detroit Tigers     Adolis Garcia   \n",
       "3   2023-05-29      Minnesota Twins        Houston Astros        Jose Abreu   \n",
       "113 2023-05-29     Colorado Rockies  Arizona Diamondbacks       Kris Bryant   \n",
       "176 2023-05-29        Texas Rangers        Detroit Tigers     Marcus Semien   \n",
       "161 2023-05-29        Texas Rangers        Detroit Tigers      Corey Seager   \n",
       "36  2023-05-29   Los Angeles Angels     Chicago White Sox     Mickey Moniak   \n",
       "165 2023-05-29        Texas Rangers        Detroit Tigers       Javier Baez   \n",
       "82  2023-05-29   Kansas City Royals   St. Louis Cardinals  Paul Goldschmidt   \n",
       "76  2023-05-29   Kansas City Royals   St. Louis Cardinals     Nolan Arenado   \n",
       "\n",
       "     prediction_score  theo_odds  over_prob over_odds  over_line  \n",
       "61             0.7817       -358   0.649123      -185        0.5  \n",
       "5              0.7475       -296   0.722222      -260        0.5  \n",
       "157            0.7387       -283   0.696970      -230        0.5  \n",
       "3              0.7370       -280   0.722222      -260        0.5  \n",
       "113            0.7365       -280   0.718310      -255        0.5  \n",
       "176            0.7352       -278   0.729730      -270        0.5  \n",
       "161            0.7281       -268   0.722222      -260        0.5  \n",
       "36             0.7262       -265   0.574468      -135        0.5  \n",
       "165            0.7135       -249   0.733333      -275        0.5  \n",
       "82             0.7073       -242   0.710145      -245        0.5  \n",
       "76             0.7002       -234   0.733333      -275        0.5  "
      ]
     },
     "execution_count": 106,
     "metadata": {},
     "output_type": "execute_result"
    }
   ],
   "source": [
    "score_threshold = 0.70\n",
    "df_live_confident_prediction_odds = df_live_prediction_odds[(df_live_prediction_odds[\"prediction_score\"] >= score_threshold)].sort_values(by = \"prediction_score\", ascending = False).drop_duplicates(\"batting_name\")\n",
    "df_live_confident_prediction_odds[['game_date', 'team_away', 'team_home', 'batting_name', \"prediction_score\", \"theo_odds\", 'over_prob', 'over_odds', 'over_line']]"
   ]
  },
  {
   "cell_type": "code",
   "execution_count": 111,
   "id": "e70308c7-5c2f-49e4-800e-24b75a1b571c",
   "metadata": {
    "execution": {
     "iopub.execute_input": "2023-05-29T23:39:13.762424Z",
     "iopub.status.busy": "2023-05-29T23:39:13.761802Z",
     "iopub.status.idle": "2023-05-29T23:39:13.777436Z",
     "shell.execute_reply": "2023-05-29T23:39:13.776699Z",
     "shell.execute_reply.started": "2023-05-29T23:39:13.762400Z"
    }
   },
   "outputs": [
    {
     "data": {
      "text/html": [
       "<div>\n",
       "<style scoped>\n",
       "    .dataframe tbody tr th:only-of-type {\n",
       "        vertical-align: middle;\n",
       "    }\n",
       "\n",
       "    .dataframe tbody tr th {\n",
       "        vertical-align: top;\n",
       "    }\n",
       "\n",
       "    .dataframe thead th {\n",
       "        text-align: right;\n",
       "    }\n",
       "</style>\n",
       "<table border=\"1\" class=\"dataframe\">\n",
       "  <thead>\n",
       "    <tr style=\"text-align: right;\">\n",
       "      <th></th>\n",
       "      <th>game_date</th>\n",
       "      <th>team_away</th>\n",
       "      <th>team_home</th>\n",
       "      <th>batting_name</th>\n",
       "      <th>prediction_diff</th>\n",
       "      <th>prediction_score</th>\n",
       "      <th>theo_odds</th>\n",
       "      <th>over_prob</th>\n",
       "      <th>over_odds</th>\n",
       "      <th>over_line</th>\n",
       "    </tr>\n",
       "  </thead>\n",
       "  <tbody>\n",
       "    <tr>\n",
       "      <th>34</th>\n",
       "      <td>2023-05-29</td>\n",
       "      <td>Los Angeles Angels</td>\n",
       "      <td>Chicago White Sox</td>\n",
       "      <td>Matt Thaiss</td>\n",
       "      <td>0.165190</td>\n",
       "      <td>0.6890</td>\n",
       "      <td>-222</td>\n",
       "      <td>0.523810</td>\n",
       "      <td>-110</td>\n",
       "      <td>0.5</td>\n",
       "    </tr>\n",
       "    <tr>\n",
       "      <th>35</th>\n",
       "      <td>2023-05-29</td>\n",
       "      <td>Los Angeles Angels</td>\n",
       "      <td>Chicago White Sox</td>\n",
       "      <td>Mickey Moniak</td>\n",
       "      <td>0.151732</td>\n",
       "      <td>0.7262</td>\n",
       "      <td>-265</td>\n",
       "      <td>0.574468</td>\n",
       "      <td>-135</td>\n",
       "      <td>0.5</td>\n",
       "    </tr>\n",
       "    <tr>\n",
       "      <th>61</th>\n",
       "      <td>2023-05-29</td>\n",
       "      <td>Cleveland Guardians</td>\n",
       "      <td>Baltimore Orioles</td>\n",
       "      <td>Ryan McKenna</td>\n",
       "      <td>0.132577</td>\n",
       "      <td>0.7817</td>\n",
       "      <td>-358</td>\n",
       "      <td>0.649123</td>\n",
       "      <td>-185</td>\n",
       "      <td>0.5</td>\n",
       "    </tr>\n",
       "    <tr>\n",
       "      <th>49</th>\n",
       "      <td>2023-05-29</td>\n",
       "      <td>Cleveland Guardians</td>\n",
       "      <td>Baltimore Orioles</td>\n",
       "      <td>Cam Gallagher</td>\n",
       "      <td>0.079245</td>\n",
       "      <td>0.6247</td>\n",
       "      <td>-166</td>\n",
       "      <td>0.545455</td>\n",
       "      <td>-120</td>\n",
       "      <td>0.5</td>\n",
       "    </tr>\n",
       "  </tbody>\n",
       "</table>\n",
       "</div>"
      ],
      "text/plain": [
       "    game_date            team_away          team_home   batting_name  \\\n",
       "34 2023-05-29   Los Angeles Angels  Chicago White Sox    Matt Thaiss   \n",
       "35 2023-05-29   Los Angeles Angels  Chicago White Sox  Mickey Moniak   \n",
       "61 2023-05-29  Cleveland Guardians  Baltimore Orioles   Ryan McKenna   \n",
       "49 2023-05-29  Cleveland Guardians  Baltimore Orioles  Cam Gallagher   \n",
       "\n",
       "    prediction_diff  prediction_score  theo_odds  over_prob over_odds  \\\n",
       "34         0.165190            0.6890       -222   0.523810      -110   \n",
       "35         0.151732            0.7262       -265   0.574468      -135   \n",
       "61         0.132577            0.7817       -358   0.649123      -185   \n",
       "49         0.079245            0.6247       -166   0.545455      -120   \n",
       "\n",
       "    over_line  \n",
       "34        0.5  \n",
       "35        0.5  \n",
       "61        0.5  \n",
       "49        0.5  "
      ]
     },
     "execution_count": 111,
     "metadata": {},
     "output_type": "execute_result"
    }
   ],
   "source": [
    "advantageous_score_threshold = 0.60\n",
    "prediction_diff_threshold = 0.05\n",
    "df_live_prediction_odds_ = copy.copy(df_live_prediction_odds)\n",
    "df_live_prediction_odds_['prediction_diff'] = df_live_prediction_odds_['prediction_score'] - df_live_prediction_odds_['over_prob']\n",
    "df_live_advantageous_prediction_odds = df_live_prediction_odds_.sort_values(by = \"prediction_diff\", ascending = False).drop_duplicates(\"batting_name\")\n",
    "df_live_advantageous_prediction_odds = df_live_advantageous_prediction_odds[(df_live_advantageous_prediction_odds[\"prediction_score\"] >= advantageous_score_threshold)]\n",
    "df_live_advantageous_prediction_odds = df_live_advantageous_prediction_odds[(df_live_advantageous_prediction_odds[\"prediction_diff\"] >= prediction_diff_threshold)]\n",
    "df_live_advantageous_prediction_odds[['game_date', 'team_away', 'team_home', 'batting_name', \"prediction_diff\", \"prediction_score\", \"theo_odds\", 'over_prob', 'over_odds', 'over_line']]"
   ]
  },
  {
   "cell_type": "code",
   "execution_count": null,
   "id": "a5923fa3-5591-451b-af0e-306b38fe6dd5",
   "metadata": {},
   "outputs": [],
   "source": []
  }
 ],
 "metadata": {
  "kernelspec": {
   "display_name": "Python 3 (ipykernel)",
   "language": "python",
   "name": "python3"
  },
  "language_info": {
   "codemirror_mode": {
    "name": "ipython",
    "version": 3
   },
   "file_extension": ".py",
   "mimetype": "text/x-python",
   "name": "python",
   "nbconvert_exporter": "python",
   "pygments_lexer": "ipython3",
   "version": "3.10.6"
  }
 },
 "nbformat": 4,
 "nbformat_minor": 5
}
