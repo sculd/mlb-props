{
 "cells": [
  {
   "cell_type": "markdown",
   "id": "3d4f5a21-ec77-4eaf-8ea1-94b2c00287aa",
   "metadata": {},
   "source": [
    "# mlb sports betting forecasting model"
   ]
  },
  {
   "cell_type": "markdown",
   "id": "c43c30e0-0a49-4513-b804-952341fe84a0",
   "metadata": {
    "execution": {
     "iopub.execute_input": "2023-06-08T22:04:59.585723Z",
     "iopub.status.busy": "2023-06-08T22:04:59.585334Z",
     "iopub.status.idle": "2023-06-08T22:04:59.643757Z",
     "shell.execute_reply": "2023-06-08T22:04:59.641788Z",
     "shell.execute_reply.started": "2023-06-08T22:04:59.585687Z"
    }
   },
   "source": [
    "## Forked from quantgalore.substack.com\n",
    "\n",
    "My fork [here|https://github.com/sculd/mlb-props].\n",
    "\n",
    "* `collect_data_run.ipynb` needs to be run inintially, to collect the player stats, game match up data, etc. which finally constructs the dataset used for training / testing.\n",
    "  * `df_game_matchup_total.pkl` is the dataframe pkl that has 2011 to 2023 match up.\n",
    "  * the collect_data is stored in mlb_props_data bucket of google drive.\n",
    "* `model_training_run.ipynb` trains a model.\n",
    "* `update_data_run.py` should run at the beginning of each day, fetching the previous date's matchup and updating all the data.\n",
    "* `fetch_today_matchup_and_odds_run.py` should run at the beginning of each day, this creates matchup for today's live bet and fetches the odds for today's games.\n",
    "* add this line `0 8 * * * /home/junlim/projects/mlb-props/daily_run.sh` to crontab to run it every 8am daily.\n",
    "* add this line `0 10 * * * /home/junlim/projects/mlb-props/daily_live_run.sh` to crontab to run it every 10am daily.\n"
   ]
  },
  {
   "cell_type": "code",
   "execution_count": 2,
   "id": "dcc39163-0d1e-4b71-a597-1fca1bbc2d0c",
   "metadata": {
    "execution": {
     "iopub.execute_input": "2023-06-08T23:30:30.709786Z",
     "iopub.status.busy": "2023-06-08T23:30:30.708692Z",
     "iopub.status.idle": "2023-06-08T23:30:32.611840Z",
     "shell.execute_reply": "2023-06-08T23:30:32.611139Z",
     "shell.execute_reply.started": "2023-06-08T23:30:30.709671Z"
    }
   },
   "outputs": [],
   "source": [
    "import pycaret\n",
    "import pandas as pd\n",
    "import numpy as np\n",
    "import sqlalchemy\n",
    "import mysql.connector\n",
    "\n",
    "from pycaret import classification\n",
    "from pycaret.classification import plot_model\n",
    "from datetime import datetime\n",
    "import importlib\n",
    "import model.common\n",
    "from static_data.load_static_data import *"
   ]
  },
  {
   "cell_type": "code",
   "execution_count": 6,
   "id": "a1b47feb-1280-4715-b482-48e201721de9",
   "metadata": {
    "execution": {
     "iopub.execute_input": "2023-06-08T23:31:00.780073Z",
     "iopub.status.busy": "2023-06-08T23:31:00.778774Z",
     "iopub.status.idle": "2023-06-08T23:31:01.251443Z",
     "shell.execute_reply": "2023-06-08T23:31:01.250364Z",
     "shell.execute_reply.started": "2023-06-08T23:31:00.779993Z"
    }
   },
   "outputs": [
    {
     "name": "stdout",
     "output_type": "stream",
     "text": [
      "322963\n"
     ]
    }
   ],
   "source": [
    "collect_data_Base_dir = 'collect_data'\n",
    "df_game_matchup_total = pd.read_pickle(f'{collect_data_Base_dir}/df_game_matchup_total.pkl')\n",
    "print(len(df_game_matchup_total))"
   ]
  },
  {
   "cell_type": "code",
   "execution_count": 15,
   "id": "fad91eb8-8ba1-40a8-8e94-d8e3bbfe1121",
   "metadata": {
    "execution": {
     "iopub.execute_input": "2023-06-08T23:52:23.042225Z",
     "iopub.status.busy": "2023-06-08T23:52:23.041010Z",
     "iopub.status.idle": "2023-06-08T23:52:23.056670Z",
     "shell.execute_reply": "2023-06-08T23:52:23.056117Z",
     "shell.execute_reply.started": "2023-06-08T23:52:23.042158Z"
    }
   },
   "outputs": [],
   "source": [
    "test_data = df_game_matchup_total[(df_game_matchup_total.game_date > \"2022-12-01\")][model.common.features]"
   ]
  },
  {
   "cell_type": "code",
   "execution_count": 21,
   "id": "86b69cdb-8c27-413d-a4a3-efcbc655d348",
   "metadata": {
    "execution": {
     "iopub.execute_input": "2023-06-09T00:00:21.995948Z",
     "iopub.status.busy": "2023-06-09T00:00:21.995466Z",
     "iopub.status.idle": "2023-06-09T00:00:22.093388Z",
     "shell.execute_reply": "2023-06-09T00:00:22.092325Z",
     "shell.execute_reply.started": "2023-06-09T00:00:21.995911Z"
    }
   },
   "outputs": [
    {
     "name": "stdout",
     "output_type": "stream",
     "text": [
      "Transformation Pipeline and Model Successfully Loaded\n"
     ]
    }
   ],
   "source": [
    "regression_model = pycaret.classification.load_model(model.common.model_file_name)"
   ]
  },
  {
   "cell_type": "code",
   "execution_count": 22,
   "id": "1c44068e-4401-4f38-81eb-a13521f8ed92",
   "metadata": {
    "execution": {
     "iopub.execute_input": "2023-06-09T00:00:22.677091Z",
     "iopub.status.busy": "2023-06-09T00:00:22.676302Z",
     "iopub.status.idle": "2023-06-09T00:00:23.191430Z",
     "shell.execute_reply": "2023-06-09T00:00:23.189575Z",
     "shell.execute_reply.started": "2023-06-09T00:00:22.677035Z"
    }
   },
   "outputs": [],
   "source": [
    "test_prediction = pycaret.classification.predict_model(data = test_data, estimator = regression_model)\n",
    "test_prediction = pd.merge(test_prediction, df_player_team_positions[['player_id','player_team_name']], left_on='batting_id', right_on='player_id', how='left')\n",
    "test_prediction[\"theo_odds\"] = test_prediction[\"prediction_score\"].apply(model.common.odds_calculator)"
   ]
  },
  {
   "cell_type": "code",
   "execution_count": 23,
   "id": "40ce226e-f2be-413d-aff5-ec467840983f",
   "metadata": {
    "execution": {
     "iopub.execute_input": "2023-06-09T00:00:23.193599Z",
     "iopub.status.busy": "2023-06-09T00:00:23.193383Z",
     "iopub.status.idle": "2023-06-09T00:00:23.199654Z",
     "shell.execute_reply": "2023-06-09T00:00:23.198337Z",
     "shell.execute_reply.started": "2023-06-09T00:00:23.193583Z"
    }
   },
   "outputs": [],
   "source": [
    "def get_eval_profile(df_prediction, score_threshold):\n",
    "    confident_prediction = df_prediction[(df_prediction[\"prediction_score\"] >= score_threshold) & (df_prediction[\"prediction_label\"] == 1)].sort_values(by = \"prediction_score\", ascending = False).drop_duplicates(\"batting_name\")\n",
    "    confident_prediction[['game_date', \"batting_name\", \"batting_hit_recorded\",\t\"prediction_score\", \"player_team_name\", \"theo_odds\"]]\n",
    "    l =len(confident_prediction)\n",
    "    return l, confident_prediction.batting_hit_recorded.sum() / l"
   ]
  },
  {
   "cell_type": "code",
   "execution_count": 24,
   "id": "4dcac691-9225-4742-85b9-3ae831083d68",
   "metadata": {
    "execution": {
     "iopub.execute_input": "2023-06-09T00:00:23.649319Z",
     "iopub.status.busy": "2023-06-09T00:00:23.648536Z",
     "iopub.status.idle": "2023-06-09T00:00:23.678899Z",
     "shell.execute_reply": "2023-06-09T00:00:23.677354Z",
     "shell.execute_reply.started": "2023-06-09T00:00:23.649286Z"
    }
   },
   "outputs": [
    {
     "data": {
      "text/html": [
       "<div>\n",
       "<style scoped>\n",
       "    .dataframe tbody tr th:only-of-type {\n",
       "        vertical-align: middle;\n",
       "    }\n",
       "\n",
       "    .dataframe tbody tr th {\n",
       "        vertical-align: top;\n",
       "    }\n",
       "\n",
       "    .dataframe thead th {\n",
       "        text-align: right;\n",
       "    }\n",
       "</style>\n",
       "<table border=\"1\" class=\"dataframe\">\n",
       "  <thead>\n",
       "    <tr style=\"text-align: right;\">\n",
       "      <th></th>\n",
       "      <th>game_date</th>\n",
       "      <th>batting_name</th>\n",
       "      <th>batting_hit_recorded</th>\n",
       "      <th>prediction_score</th>\n",
       "      <th>player_team_name</th>\n",
       "      <th>theo_odds</th>\n",
       "    </tr>\n",
       "  </thead>\n",
       "  <tbody>\n",
       "    <tr>\n",
       "      <th>23933</th>\n",
       "      <td>2023-05-25</td>\n",
       "      <td>Randal Grichuk</td>\n",
       "      <td>1</td>\n",
       "      <td>0.91</td>\n",
       "      <td>Colorado Rockies</td>\n",
       "      <td>-1011</td>\n",
       "    </tr>\n",
       "    <tr>\n",
       "      <th>16151</th>\n",
       "      <td>2023-05-07</td>\n",
       "      <td>Freddie Freeman</td>\n",
       "      <td>1</td>\n",
       "      <td>0.90</td>\n",
       "      <td>Atlanta Braves</td>\n",
       "      <td>-900</td>\n",
       "    </tr>\n",
       "    <tr>\n",
       "      <th>7494</th>\n",
       "      <td>2023-04-17</td>\n",
       "      <td>Shohei Ohtani</td>\n",
       "      <td>1</td>\n",
       "      <td>0.88</td>\n",
       "      <td>Los Angeles Angels</td>\n",
       "      <td>-733</td>\n",
       "    </tr>\n",
       "    <tr>\n",
       "      <th>9918</th>\n",
       "      <td>2023-04-22</td>\n",
       "      <td>Rafael Devers</td>\n",
       "      <td>1</td>\n",
       "      <td>0.88</td>\n",
       "      <td>Boston Red Sox</td>\n",
       "      <td>-733</td>\n",
       "    </tr>\n",
       "    <tr>\n",
       "      <th>25906</th>\n",
       "      <td>2023-06-03</td>\n",
       "      <td>Nico Hoerner</td>\n",
       "      <td>1</td>\n",
       "      <td>0.88</td>\n",
       "      <td>Chicago Cubs</td>\n",
       "      <td>-733</td>\n",
       "    </tr>\n",
       "    <tr>\n",
       "      <th>...</th>\n",
       "      <td>...</td>\n",
       "      <td>...</td>\n",
       "      <td>...</td>\n",
       "      <td>...</td>\n",
       "      <td>...</td>\n",
       "      <td>...</td>\n",
       "    </tr>\n",
       "    <tr>\n",
       "      <th>22095</th>\n",
       "      <td>2023-05-23</td>\n",
       "      <td>Anthony Santander</td>\n",
       "      <td>1</td>\n",
       "      <td>0.75</td>\n",
       "      <td>Baltimore Orioles</td>\n",
       "      <td>-300</td>\n",
       "    </tr>\n",
       "    <tr>\n",
       "      <th>17950</th>\n",
       "      <td>2023-05-12</td>\n",
       "      <td>Marcus Semien</td>\n",
       "      <td>1</td>\n",
       "      <td>0.75</td>\n",
       "      <td>Oakland Athletics</td>\n",
       "      <td>-300</td>\n",
       "    </tr>\n",
       "    <tr>\n",
       "      <th>15338</th>\n",
       "      <td>2023-05-06</td>\n",
       "      <td>C.J. Cron</td>\n",
       "      <td>1</td>\n",
       "      <td>0.75</td>\n",
       "      <td>Colorado Rockies</td>\n",
       "      <td>-300</td>\n",
       "    </tr>\n",
       "    <tr>\n",
       "      <th>11867</th>\n",
       "      <td>2023-04-27</td>\n",
       "      <td>Trey Mancini</td>\n",
       "      <td>1</td>\n",
       "      <td>0.75</td>\n",
       "      <td>Chicago Cubs</td>\n",
       "      <td>-300</td>\n",
       "    </tr>\n",
       "    <tr>\n",
       "      <th>11901</th>\n",
       "      <td>2023-04-27</td>\n",
       "      <td>Xander Bogaerts</td>\n",
       "      <td>1</td>\n",
       "      <td>0.75</td>\n",
       "      <td>San Diego Padres</td>\n",
       "      <td>-300</td>\n",
       "    </tr>\n",
       "  </tbody>\n",
       "</table>\n",
       "<p>61 rows × 6 columns</p>\n",
       "</div>"
      ],
      "text/plain": [
       "       game_date       batting_name  batting_hit_recorded  prediction_score  \\\n",
       "23933 2023-05-25     Randal Grichuk                     1              0.91   \n",
       "16151 2023-05-07    Freddie Freeman                     1              0.90   \n",
       "7494  2023-04-17      Shohei Ohtani                     1              0.88   \n",
       "9918  2023-04-22      Rafael Devers                     1              0.88   \n",
       "25906 2023-06-03       Nico Hoerner                     1              0.88   \n",
       "...          ...                ...                   ...               ...   \n",
       "22095 2023-05-23  Anthony Santander                     1              0.75   \n",
       "17950 2023-05-12      Marcus Semien                     1              0.75   \n",
       "15338 2023-05-06          C.J. Cron                     1              0.75   \n",
       "11867 2023-04-27       Trey Mancini                     1              0.75   \n",
       "11901 2023-04-27    Xander Bogaerts                     1              0.75   \n",
       "\n",
       "         player_team_name  theo_odds  \n",
       "23933    Colorado Rockies      -1011  \n",
       "16151      Atlanta Braves       -900  \n",
       "7494   Los Angeles Angels       -733  \n",
       "9918       Boston Red Sox       -733  \n",
       "25906        Chicago Cubs       -733  \n",
       "...                   ...        ...  \n",
       "22095   Baltimore Orioles       -300  \n",
       "17950   Oakland Athletics       -300  \n",
       "15338    Colorado Rockies       -300  \n",
       "11867        Chicago Cubs       -300  \n",
       "11901    San Diego Padres       -300  \n",
       "\n",
       "[61 rows x 6 columns]"
      ]
     },
     "execution_count": 24,
     "metadata": {},
     "output_type": "execute_result"
    }
   ],
   "source": [
    "score_threshold = 0.75\n",
    "confident_test_prediction = test_prediction[(test_prediction[\"prediction_score\"] >= score_threshold) & (test_prediction[\"prediction_label\"] == 1)].sort_values(by = \"prediction_score\", ascending = False).drop_duplicates(\"batting_name\")\n",
    "confident_test_prediction[['game_date', \"batting_name\", \"batting_hit_recorded\",\t\"prediction_score\", \"player_team_name\", \"theo_odds\"]]"
   ]
  },
  {
   "cell_type": "markdown",
   "id": "d6ff31ed-f0f6-4b1b-99c0-4d73f99a1f34",
   "metadata": {},
   "source": [
    "the first is the number of the rows over the threshold. the second is the ratio of true positive among the sample."
   ]
  },
  {
   "cell_type": "code",
   "execution_count": 25,
   "id": "5d5298df-43ff-41c2-9144-d480d76118d6",
   "metadata": {
    "execution": {
     "iopub.execute_input": "2023-06-09T00:00:24.795294Z",
     "iopub.status.busy": "2023-06-09T00:00:24.794798Z",
     "iopub.status.idle": "2023-06-09T00:00:24.833164Z",
     "shell.execute_reply": "2023-06-09T00:00:24.832011Z",
     "shell.execute_reply.started": "2023-06-09T00:00:24.795268Z"
    }
   },
   "outputs": [
    {
     "name": "stdout",
     "output_type": "stream",
     "text": [
      "(215, 0.6744186046511628)\n",
      "(105, 0.7238095238095238)\n",
      "(61, 0.8360655737704918)\n",
      "(29, 0.9655172413793104)\n",
      "(10, 1.0)\n"
     ]
    }
   ],
   "source": [
    "print(get_eval_profile(test_prediction, 0.6))\n",
    "print(get_eval_profile(test_prediction, 0.7))\n",
    "print(get_eval_profile(test_prediction, 0.75))\n",
    "print(get_eval_profile(test_prediction, 0.80))\n",
    "print(get_eval_profile(test_prediction, 0.85))"
   ]
  },
  {
   "cell_type": "code",
   "execution_count": null,
   "id": "0691b90d-885b-4d17-ac99-1258dbaefcd0",
   "metadata": {},
   "outputs": [],
   "source": []
  }
 ],
 "metadata": {
  "kernelspec": {
   "display_name": "Python 3 (ipykernel)",
   "language": "python",
   "name": "python3"
  },
  "language_info": {
   "codemirror_mode": {
    "name": "ipython",
    "version": 3
   },
   "file_extension": ".py",
   "mimetype": "text/x-python",
   "name": "python",
   "nbconvert_exporter": "python",
   "pygments_lexer": "ipython3",
   "version": "3.10.6"
  }
 },
 "nbformat": 4,
 "nbformat_minor": 5
}
