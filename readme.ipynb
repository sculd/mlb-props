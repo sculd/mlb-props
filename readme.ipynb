{
 "cells": [
  {
   "cell_type": "markdown",
   "id": "3d4f5a21-ec77-4eaf-8ea1-94b2c00287aa",
   "metadata": {},
   "source": [
    "# mlb sports betting forecasting model"
   ]
  },
  {
   "cell_type": "markdown",
   "id": "2088f349-c8b8-4b48-b4ff-2f39e3ee87c6",
   "metadata": {},
   "source": [
    "```\n",
    "jupyter nbconvert --execute --to markdown readme.ipynb\n",
    "```\n",
    "is to be run to convert this notebook to a markdown file."
   ]
  },
  {
   "cell_type": "markdown",
   "id": "c43c30e0-0a49-4513-b804-952341fe84a0",
   "metadata": {
    "execution": {
     "iopub.execute_input": "2023-06-08T22:04:59.585723Z",
     "iopub.status.busy": "2023-06-08T22:04:59.585334Z",
     "iopub.status.idle": "2023-06-08T22:04:59.643757Z",
     "shell.execute_reply": "2023-06-08T22:04:59.641788Z",
     "shell.execute_reply.started": "2023-06-08T22:04:59.585687Z"
    }
   },
   "source": [
    "## Forked from quantgalore.substack.com\n",
    "\n",
    "My fork [here|https://github.com/sculd/mlb-props].\n",
    "\n",
    "* `collect_data_run.ipynb` needs to be run inintially, to collect the player stats, game match up data, etc. which finally constructs the dataset used for training / testing.\n",
    "  * `df_game_matchup_total.pkl` is the dataframe pkl that has 2011 to 2023 match up.\n",
    "  * the collect_data is stored in mlb_props_data bucket of google drive.\n",
    "* `model_training_run.ipynb` trains a model.\n",
    "* `update_data_run.py` should run at the beginning of each day, fetching the previous date's matchup and updating all the data.\n",
    "* `fetch_today_matchup_and_odds_run.py` should run at the beginning of each day, this creates matchup for today's live bet and fetches the odds for today's games.\n",
    "\n",
    "```\n",
    "$ crontab -l\n",
    "0 12-20 * * * TZ=US/Eastern /home/sculd3/projects/mlb-props/scripts/daily_cloud_live_update_run.sh\n",
    "58 12-20 * * * TZ=US/Eastern /home/sculd3/projects/mlb-props/scripts/telegram_notify_new_prediction.sh\n",
    "0 12 * * * TZ=US/Eastern /home/sculd3/projects/mlb-props/scripts/daily_cloud_run.sh\n",
    "0 14 * * * TZ=US/Eastern /home/sculd3/projects/mlb-props/scripts/daily_cloud_live_run.sh\n",
    "```"
   ]
  },
  {
   "cell_type": "markdown",
   "id": "250dcf1a-241c-4aab-8327-552c27ff6698",
   "metadata": {},
   "source": [
    "The odds fetch is hosted in the gcp vm (sandbox(2)), and updated to `trading-290017.major_league_baseball.odds_hit_recorded` table."
   ]
  },
  {
   "cell_type": "code",
   "execution_count": 1,
   "id": "dcc39163-0d1e-4b71-a597-1fca1bbc2d0c",
   "metadata": {
    "execution": {
     "iopub.execute_input": "2023-07-23T02:37:21.287340Z",
     "iopub.status.busy": "2023-07-23T02:37:21.287023Z",
     "iopub.status.idle": "2023-07-23T02:37:23.200073Z",
     "shell.execute_reply": "2023-07-23T02:37:23.198906Z",
     "shell.execute_reply.started": "2023-07-23T02:37:21.287314Z"
    }
   },
   "outputs": [],
   "source": [
    "import pycaret\n",
    "import pandas as pd\n",
    "import numpy as np\n",
    "from pycaret import classification\n",
    "from datetime import datetime\n",
    "import model.common\n",
    "from static_data.load_static_data import *"
   ]
  },
  {
   "cell_type": "code",
   "execution_count": 3,
   "id": "a1b47feb-1280-4715-b482-48e201721de9",
   "metadata": {
    "execution": {
     "iopub.execute_input": "2023-07-23T02:37:46.927933Z",
     "iopub.status.busy": "2023-07-23T02:37:46.926398Z",
     "iopub.status.idle": "2023-07-23T02:37:47.554171Z",
     "shell.execute_reply": "2023-07-23T02:37:47.553032Z",
     "shell.execute_reply.started": "2023-07-23T02:37:46.927858Z"
    }
   },
   "outputs": [],
   "source": [
    "collect_data_Base_dir = 'collect_data'\n",
    "df_game_matchup_total = pd.read_pickle(f'{collect_data_Base_dir}/df_game_matchup_total.pkl')\n",
    "test_data = df_game_matchup_total[(df_game_matchup_total.game_date > \"2022-12-01\")][model.common.features_1hits_recorded]"
   ]
  },
  {
   "cell_type": "code",
   "execution_count": 4,
   "id": "86b69cdb-8c27-413d-a4a3-efcbc655d348",
   "metadata": {
    "execution": {
     "iopub.execute_input": "2023-07-23T02:37:57.838398Z",
     "iopub.status.busy": "2023-07-23T02:37:57.838013Z",
     "iopub.status.idle": "2023-07-23T02:37:57.904532Z",
     "shell.execute_reply": "2023-07-23T02:37:57.903036Z",
     "shell.execute_reply.started": "2023-07-23T02:37:57.838373Z"
    }
   },
   "outputs": [
    {
     "name": "stdout",
     "output_type": "stream",
     "text": [
      "Transformation Pipeline and Model Successfully Loaded\n"
     ]
    }
   ],
   "source": [
    "regression_model = pycaret.classification.load_model(model.common.model_1hits_file_name)"
   ]
  },
  {
   "cell_type": "code",
   "execution_count": 5,
   "id": "1c44068e-4401-4f38-81eb-a13521f8ed92",
   "metadata": {
    "execution": {
     "iopub.execute_input": "2023-07-23T02:37:59.707034Z",
     "iopub.status.busy": "2023-07-23T02:37:59.706546Z",
     "iopub.status.idle": "2023-07-23T02:38:00.032406Z",
     "shell.execute_reply": "2023-07-23T02:38:00.031680Z",
     "shell.execute_reply.started": "2023-07-23T02:37:59.706998Z"
    }
   },
   "outputs": [],
   "source": [
    "test_prediction = pycaret.classification.predict_model(data = test_data, estimator = regression_model)\n",
    "test_prediction = pd.merge(test_prediction, df_player_team_positions[['player_id','player_team_name']], left_on='batting_id', right_on='player_id', how='left')\n",
    "test_prediction[\"theo_odds\"] = test_prediction[\"prediction_score\"].apply(model.common.odds_calculator)"
   ]
  },
  {
   "cell_type": "code",
   "execution_count": 11,
   "id": "40ce226e-f2be-413d-aff5-ec467840983f",
   "metadata": {
    "execution": {
     "iopub.execute_input": "2023-07-23T02:38:24.486352Z",
     "iopub.status.busy": "2023-07-23T02:38:24.485531Z",
     "iopub.status.idle": "2023-07-23T02:38:24.493580Z",
     "shell.execute_reply": "2023-07-23T02:38:24.491379Z",
     "shell.execute_reply.started": "2023-07-23T02:38:24.486294Z"
    }
   },
   "outputs": [],
   "source": [
    "def get_eval_profile(df_prediction, score_threshold):\n",
    "    confident_prediction = df_prediction[(df_prediction[\"prediction_score\"] >= score_threshold) & (df_prediction[\"prediction_label\"] == 1)].sort_values(by = \"prediction_score\", ascending = False).drop_duplicates(\"batting_name\")\n",
    "    confident_prediction[['game_date', \"batting_name\", \"batting_1hits_recorded\",\t\"prediction_score\", \"player_team_name\", \"theo_odds\"]]\n",
    "    l =len(confident_prediction)\n",
    "    return l, confident_prediction.batting_1hits_recorded.sum() / l"
   ]
  },
  {
   "cell_type": "code",
   "execution_count": 9,
   "id": "4dcac691-9225-4742-85b9-3ae831083d68",
   "metadata": {
    "execution": {
     "iopub.execute_input": "2023-07-23T02:38:13.835249Z",
     "iopub.status.busy": "2023-07-23T02:38:13.834995Z",
     "iopub.status.idle": "2023-07-23T02:38:13.856624Z",
     "shell.execute_reply": "2023-07-23T02:38:13.856159Z",
     "shell.execute_reply.started": "2023-07-23T02:38:13.835231Z"
    }
   },
   "outputs": [
    {
     "data": {
      "text/html": [
       "<div>\n",
       "<style scoped>\n",
       "    .dataframe tbody tr th:only-of-type {\n",
       "        vertical-align: middle;\n",
       "    }\n",
       "\n",
       "    .dataframe tbody tr th {\n",
       "        vertical-align: top;\n",
       "    }\n",
       "\n",
       "    .dataframe thead th {\n",
       "        text-align: right;\n",
       "    }\n",
       "</style>\n",
       "<table border=\"1\" class=\"dataframe\">\n",
       "  <thead>\n",
       "    <tr style=\"text-align: right;\">\n",
       "      <th></th>\n",
       "      <th>game_date</th>\n",
       "      <th>batting_name</th>\n",
       "      <th>batting_1hits_recorded</th>\n",
       "      <th>prediction_score</th>\n",
       "      <th>player_team_name</th>\n",
       "      <th>theo_odds</th>\n",
       "    </tr>\n",
       "  </thead>\n",
       "  <tbody>\n",
       "    <tr>\n",
       "      <th>1276</th>\n",
       "      <td>2023-04-03</td>\n",
       "      <td>Paul Goldschmidt</td>\n",
       "      <td>1</td>\n",
       "      <td>0.9856</td>\n",
       "      <td>Arizona Diamondbacks</td>\n",
       "      <td>-6844</td>\n",
       "    </tr>\n",
       "    <tr>\n",
       "      <th>1085</th>\n",
       "      <td>2023-04-03</td>\n",
       "      <td>Dansby Swanson</td>\n",
       "      <td>1</td>\n",
       "      <td>0.9799</td>\n",
       "      <td>Atlanta Braves</td>\n",
       "      <td>-4875</td>\n",
       "    </tr>\n",
       "    <tr>\n",
       "      <th>705</th>\n",
       "      <td>2023-04-02</td>\n",
       "      <td>Willson Contreras</td>\n",
       "      <td>1</td>\n",
       "      <td>0.9774</td>\n",
       "      <td>Chicago Cubs</td>\n",
       "      <td>-4325</td>\n",
       "    </tr>\n",
       "    <tr>\n",
       "      <th>235</th>\n",
       "      <td>2023-04-01</td>\n",
       "      <td>Rafael Devers</td>\n",
       "      <td>1</td>\n",
       "      <td>0.9760</td>\n",
       "      <td>Boston Red Sox</td>\n",
       "      <td>-4067</td>\n",
       "    </tr>\n",
       "    <tr>\n",
       "      <th>790</th>\n",
       "      <td>2023-04-02</td>\n",
       "      <td>Taylor Ward</td>\n",
       "      <td>1</td>\n",
       "      <td>0.9728</td>\n",
       "      <td>Los Angeles Angels</td>\n",
       "      <td>-3576</td>\n",
       "    </tr>\n",
       "    <tr>\n",
       "      <th>...</th>\n",
       "      <td>...</td>\n",
       "      <td>...</td>\n",
       "      <td>...</td>\n",
       "      <td>...</td>\n",
       "      <td>...</td>\n",
       "      <td>...</td>\n",
       "    </tr>\n",
       "    <tr>\n",
       "      <th>9965</th>\n",
       "      <td>2023-04-22</td>\n",
       "      <td>Teoscar Hernandez</td>\n",
       "      <td>1</td>\n",
       "      <td>0.7524</td>\n",
       "      <td>Seattle Mariners</td>\n",
       "      <td>-304</td>\n",
       "    </tr>\n",
       "    <tr>\n",
       "      <th>25214</th>\n",
       "      <td>2023-05-31</td>\n",
       "      <td>Ildemaro Vargas</td>\n",
       "      <td>0</td>\n",
       "      <td>0.7522</td>\n",
       "      <td>Arizona Diamondbacks</td>\n",
       "      <td>-304</td>\n",
       "    </tr>\n",
       "    <tr>\n",
       "      <th>9631</th>\n",
       "      <td>2023-04-22</td>\n",
       "      <td>Josh Bell</td>\n",
       "      <td>1</td>\n",
       "      <td>0.7520</td>\n",
       "      <td>Cleveland Guardians</td>\n",
       "      <td>-303</td>\n",
       "    </tr>\n",
       "    <tr>\n",
       "      <th>1832</th>\n",
       "      <td>2023-04-04</td>\n",
       "      <td>Eddie Rosario</td>\n",
       "      <td>1</td>\n",
       "      <td>0.7506</td>\n",
       "      <td>Minnesota Twins</td>\n",
       "      <td>-301</td>\n",
       "    </tr>\n",
       "    <tr>\n",
       "      <th>9734</th>\n",
       "      <td>2023-04-22</td>\n",
       "      <td>Ke'Bryan Hayes</td>\n",
       "      <td>1</td>\n",
       "      <td>0.7506</td>\n",
       "      <td>Pittsburgh Pirates</td>\n",
       "      <td>-301</td>\n",
       "    </tr>\n",
       "  </tbody>\n",
       "</table>\n",
       "<p>262 rows × 6 columns</p>\n",
       "</div>"
      ],
      "text/plain": [
       "       game_date       batting_name  batting_1hits_recorded  prediction_score  \\\n",
       "1276  2023-04-03   Paul Goldschmidt                       1            0.9856   \n",
       "1085  2023-04-03     Dansby Swanson                       1            0.9799   \n",
       "705   2023-04-02  Willson Contreras                       1            0.9774   \n",
       "235   2023-04-01      Rafael Devers                       1            0.9760   \n",
       "790   2023-04-02        Taylor Ward                       1            0.9728   \n",
       "...          ...                ...                     ...               ...   \n",
       "9965  2023-04-22  Teoscar Hernandez                       1            0.7524   \n",
       "25214 2023-05-31    Ildemaro Vargas                       0            0.7522   \n",
       "9631  2023-04-22          Josh Bell                       1            0.7520   \n",
       "1832  2023-04-04      Eddie Rosario                       1            0.7506   \n",
       "9734  2023-04-22     Ke'Bryan Hayes                       1            0.7506   \n",
       "\n",
       "           player_team_name  theo_odds  \n",
       "1276   Arizona Diamondbacks      -6844  \n",
       "1085         Atlanta Braves      -4875  \n",
       "705            Chicago Cubs      -4325  \n",
       "235          Boston Red Sox      -4067  \n",
       "790      Los Angeles Angels      -3576  \n",
       "...                     ...        ...  \n",
       "9965       Seattle Mariners       -304  \n",
       "25214  Arizona Diamondbacks       -304  \n",
       "9631    Cleveland Guardians       -303  \n",
       "1832        Minnesota Twins       -301  \n",
       "9734     Pittsburgh Pirates       -301  \n",
       "\n",
       "[262 rows x 6 columns]"
      ]
     },
     "execution_count": 9,
     "metadata": {},
     "output_type": "execute_result"
    }
   ],
   "source": [
    "score_threshold = 0.75\n",
    "confident_test_prediction = test_prediction[(test_prediction[\"prediction_score\"] >= score_threshold) & (test_prediction[\"prediction_label\"] == 1)].sort_values(by = \"prediction_score\", ascending = False).drop_duplicates(\"batting_name\")\n",
    "confident_test_prediction[['game_date', \"batting_name\", \"batting_1hits_recorded\",\t\"prediction_score\", \"player_team_name\", \"theo_odds\"]]"
   ]
  },
  {
   "cell_type": "markdown",
   "id": "d6ff31ed-f0f6-4b1b-99c0-4d73f99a1f34",
   "metadata": {},
   "source": [
    "the first is the number of the rows over the threshold. the second is the ratio of true positive among the sample."
   ]
  },
  {
   "cell_type": "code",
   "execution_count": 12,
   "id": "5d5298df-43ff-41c2-9144-d480d76118d6",
   "metadata": {
    "execution": {
     "iopub.execute_input": "2023-07-23T02:38:26.060208Z",
     "iopub.status.busy": "2023-07-23T02:38:26.059971Z",
     "iopub.status.idle": "2023-07-23T02:38:26.095985Z",
     "shell.execute_reply": "2023-07-23T02:38:26.095298Z",
     "shell.execute_reply.started": "2023-07-23T02:38:26.060192Z"
    }
   },
   "outputs": [
    {
     "name": "stdout",
     "output_type": "stream",
     "text": [
      "(404, 0.8564356435643564)\n",
      "(325, 0.8738461538461538)\n",
      "(262, 0.8931297709923665)\n",
      "(174, 0.896551724137931)\n",
      "(104, 0.9230769230769231)\n"
     ]
    }
   ],
   "source": [
    "print(get_eval_profile(test_prediction, 0.6))\n",
    "print(get_eval_profile(test_prediction, 0.7))\n",
    "print(get_eval_profile(test_prediction, 0.75))\n",
    "print(get_eval_profile(test_prediction, 0.80))\n",
    "print(get_eval_profile(test_prediction, 0.85))"
   ]
  },
  {
   "cell_type": "code",
   "execution_count": null,
   "id": "0691b90d-885b-4d17-ac99-1258dbaefcd0",
   "metadata": {},
   "outputs": [],
   "source": []
  }
 ],
 "metadata": {
  "kernelspec": {
   "display_name": "Python 3 (ipykernel)",
   "language": "python",
   "name": "python3"
  },
  "language_info": {
   "codemirror_mode": {
    "name": "ipython",
    "version": 3
   },
   "file_extension": ".py",
   "mimetype": "text/x-python",
   "name": "python",
   "nbconvert_exporter": "python",
   "pygments_lexer": "ipython3",
   "version": "3.10.12"
  }
 },
 "nbformat": 4,
 "nbformat_minor": 5
}
