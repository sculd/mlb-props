{
 "cells": [
  {
   "cell_type": "markdown",
   "metadata": {
    "id": "X1V_SUC4p-YQ"
   },
   "source": [
    "**Import Packages**"
   ]
  },
  {
   "cell_type": "code",
   "execution_count": 1,
   "metadata": {
    "colab": {
     "base_uri": "https://localhost:8080/"
    },
    "execution": {
     "iopub.execute_input": "2023-07-08T04:33:39.768047Z",
     "iopub.status.busy": "2023-07-08T04:33:39.767786Z",
     "iopub.status.idle": "2023-07-08T04:33:41.939384Z",
     "shell.execute_reply": "2023-07-08T04:33:41.938450Z",
     "shell.execute_reply.started": "2023-07-08T04:33:39.768030Z"
    },
    "id": "IGZCa25_p5QY",
    "outputId": "d9e7f9d8-21e8-49dd-d344-173324ba79a5",
    "tags": []
   },
   "outputs": [],
   "source": [
    "import pycaret\n",
    "import pandas as pd\n",
    "import numpy as np\n",
    "import sqlalchemy\n",
    "import mysql.connector\n",
    "\n",
    "from pycaret import classification\n",
    "from pycaret.classification import plot_model\n",
    "from datetime import datetime\n",
    "import importlib\n",
    "import model.common"
   ]
  },
  {
   "cell_type": "code",
   "execution_count": 2,
   "metadata": {
    "execution": {
     "iopub.execute_input": "2023-07-08T04:33:41.940404Z",
     "iopub.status.busy": "2023-07-08T04:33:41.940276Z",
     "iopub.status.idle": "2023-07-08T04:33:41.943329Z",
     "shell.execute_reply": "2023-07-08T04:33:41.942658Z",
     "shell.execute_reply.started": "2023-07-08T04:33:41.940393Z"
    }
   },
   "outputs": [],
   "source": [
    "from static_data.load_static_data import *"
   ]
  },
  {
   "cell_type": "markdown",
   "metadata": {
    "id": "jqde2RQfqchC"
   },
   "source": [
    "**Load Data**"
   ]
  },
  {
   "cell_type": "code",
   "execution_count": 3,
   "metadata": {
    "execution": {
     "iopub.execute_input": "2023-07-08T04:33:41.944132Z",
     "iopub.status.busy": "2023-07-08T04:33:41.943958Z",
     "iopub.status.idle": "2023-07-08T04:33:42.340547Z",
     "shell.execute_reply": "2023-07-08T04:33:42.339917Z",
     "shell.execute_reply.started": "2023-07-08T04:33:41.944116Z"
    }
   },
   "outputs": [
    {
     "name": "stdout",
     "output_type": "stream",
     "text": [
      "325647\n"
     ]
    }
   ],
   "source": [
    "collect_data_Base_dir = 'collect_data'\n",
    "df_game_matchup_total = pd.read_pickle(f'{collect_data_Base_dir}/df_game_matchup_total.pkl')\n",
    "print(len(df_game_matchup_total))"
   ]
  },
  {
   "cell_type": "markdown",
   "metadata": {
    "id": "VkSM5TOeule8"
   },
   "source": [
    "**Choose Columns**"
   ]
  },
  {
   "cell_type": "code",
   "execution_count": 4,
   "metadata": {
    "execution": {
     "iopub.execute_input": "2023-07-08T04:33:42.341330Z",
     "iopub.status.busy": "2023-07-08T04:33:42.341133Z",
     "iopub.status.idle": "2023-07-08T04:33:42.346982Z",
     "shell.execute_reply": "2023-07-08T04:33:42.346415Z",
     "shell.execute_reply.started": "2023-07-08T04:33:42.341307Z"
    }
   },
   "outputs": [
    {
     "data": {
      "text/plain": [
       "<module 'model.common' from '/home/junlim/projects/mlb-props/model/common.py'>"
      ]
     },
     "execution_count": 4,
     "metadata": {},
     "output_type": "execute_result"
    }
   ],
   "source": [
    "importlib.reload(model.common)"
   ]
  },
  {
   "cell_type": "code",
   "execution_count": 5,
   "metadata": {
    "execution": {
     "iopub.execute_input": "2023-07-08T04:33:42.349051Z",
     "iopub.status.busy": "2023-07-08T04:33:42.348818Z",
     "iopub.status.idle": "2023-07-08T04:33:42.361434Z",
     "shell.execute_reply": "2023-07-08T04:33:42.360789Z",
     "shell.execute_reply.started": "2023-07-08T04:33:42.349028Z"
    }
   },
   "outputs": [],
   "source": [
    "feature_columns, target_column, model_file_name = model.common.features_2hstrikeouts_recorded, model.common.target_2hstrikeouts_recorded, model.common.model_2hstrikeouts_file_name"
   ]
  },
  {
   "cell_type": "code",
   "execution_count": 6,
   "metadata": {
    "execution": {
     "iopub.execute_input": "2023-07-08T04:33:42.362703Z",
     "iopub.status.busy": "2023-07-08T04:33:42.362130Z",
     "iopub.status.idle": "2023-07-08T04:33:42.535465Z",
     "shell.execute_reply": "2023-07-08T04:33:42.534464Z",
     "shell.execute_reply.started": "2023-07-08T04:33:42.362684Z"
    }
   },
   "outputs": [],
   "source": [
    "train_data = df_game_matchup_total[(df_game_matchup_total.game_date > \"2012-04-01\") & (df_game_matchup_total.game_date < \"2022-12-01\")][feature_columns]\n",
    "test_data = df_game_matchup_total[(df_game_matchup_total.game_date > \"2022-12-01\")][feature_columns]"
   ]
  },
  {
   "cell_type": "markdown",
   "metadata": {
    "id": "Qxoqal-SvwXp"
   },
   "source": [
    "**Build/Train Model**"
   ]
  },
  {
   "cell_type": "code",
   "execution_count": 7,
   "metadata": {
    "execution": {
     "iopub.execute_input": "2023-07-08T04:33:42.536180Z",
     "iopub.status.busy": "2023-07-08T04:33:42.536062Z",
     "iopub.status.idle": "2023-07-08T04:38:55.390588Z",
     "shell.execute_reply": "2023-07-08T04:38:55.389405Z",
     "shell.execute_reply.started": "2023-07-08T04:33:42.536170Z"
    },
    "scrolled": true
   },
   "outputs": [
    {
     "data": {
      "text/html": [
       "<style type=\"text/css\">\n",
       "#T_4a01b_row11_col1 {\n",
       "  background-color: lightgreen;\n",
       "}\n",
       "</style>\n",
       "<table id=\"T_4a01b\">\n",
       "  <thead>\n",
       "    <tr>\n",
       "      <th class=\"blank level0\" >&nbsp;</th>\n",
       "      <th id=\"T_4a01b_level0_col0\" class=\"col_heading level0 col0\" >Description</th>\n",
       "      <th id=\"T_4a01b_level0_col1\" class=\"col_heading level0 col1\" >Value</th>\n",
       "    </tr>\n",
       "  </thead>\n",
       "  <tbody>\n",
       "    <tr>\n",
       "      <th id=\"T_4a01b_level0_row0\" class=\"row_heading level0 row0\" >0</th>\n",
       "      <td id=\"T_4a01b_row0_col0\" class=\"data row0 col0\" >Session id</td>\n",
       "      <td id=\"T_4a01b_row0_col1\" class=\"data row0 col1\" >5711</td>\n",
       "    </tr>\n",
       "    <tr>\n",
       "      <th id=\"T_4a01b_level0_row1\" class=\"row_heading level0 row1\" >1</th>\n",
       "      <td id=\"T_4a01b_row1_col0\" class=\"data row1 col0\" >Target</td>\n",
       "      <td id=\"T_4a01b_row1_col1\" class=\"data row1 col1\" >batting_2strikeOuts_recorded</td>\n",
       "    </tr>\n",
       "    <tr>\n",
       "      <th id=\"T_4a01b_level0_row2\" class=\"row_heading level0 row2\" >2</th>\n",
       "      <td id=\"T_4a01b_row2_col0\" class=\"data row2 col0\" >Target type</td>\n",
       "      <td id=\"T_4a01b_row2_col1\" class=\"data row2 col1\" >Binary</td>\n",
       "    </tr>\n",
       "    <tr>\n",
       "      <th id=\"T_4a01b_level0_row3\" class=\"row_heading level0 row3\" >3</th>\n",
       "      <td id=\"T_4a01b_row3_col0\" class=\"data row3 col0\" >Original data shape</td>\n",
       "      <td id=\"T_4a01b_row3_col1\" class=\"data row3 col1\" >(285090, 21)</td>\n",
       "    </tr>\n",
       "    <tr>\n",
       "      <th id=\"T_4a01b_level0_row4\" class=\"row_heading level0 row4\" >4</th>\n",
       "      <td id=\"T_4a01b_row4_col0\" class=\"data row4 col0\" >Transformed data shape</td>\n",
       "      <td id=\"T_4a01b_row4_col1\" class=\"data row4 col1\" >(285090, 15)</td>\n",
       "    </tr>\n",
       "    <tr>\n",
       "      <th id=\"T_4a01b_level0_row5\" class=\"row_heading level0 row5\" >5</th>\n",
       "      <td id=\"T_4a01b_row5_col0\" class=\"data row5 col0\" >Transformed train set shape</td>\n",
       "      <td id=\"T_4a01b_row5_col1\" class=\"data row5 col1\" >(199563, 15)</td>\n",
       "    </tr>\n",
       "    <tr>\n",
       "      <th id=\"T_4a01b_level0_row6\" class=\"row_heading level0 row6\" >6</th>\n",
       "      <td id=\"T_4a01b_row6_col0\" class=\"data row6 col0\" >Transformed test set shape</td>\n",
       "      <td id=\"T_4a01b_row6_col1\" class=\"data row6 col1\" >(85527, 15)</td>\n",
       "    </tr>\n",
       "    <tr>\n",
       "      <th id=\"T_4a01b_level0_row7\" class=\"row_heading level0 row7\" >7</th>\n",
       "      <td id=\"T_4a01b_row7_col0\" class=\"data row7 col0\" >Ignore features</td>\n",
       "      <td id=\"T_4a01b_row7_col1\" class=\"data row7 col1\" >6</td>\n",
       "    </tr>\n",
       "    <tr>\n",
       "      <th id=\"T_4a01b_level0_row8\" class=\"row_heading level0 row8\" >8</th>\n",
       "      <td id=\"T_4a01b_row8_col0\" class=\"data row8 col0\" >Numeric features</td>\n",
       "      <td id=\"T_4a01b_row8_col1\" class=\"data row8 col1\" >13</td>\n",
       "    </tr>\n",
       "    <tr>\n",
       "      <th id=\"T_4a01b_level0_row9\" class=\"row_heading level0 row9\" >9</th>\n",
       "      <td id=\"T_4a01b_row9_col0\" class=\"data row9 col0\" >Categorical features</td>\n",
       "      <td id=\"T_4a01b_row9_col1\" class=\"data row9 col1\" >1</td>\n",
       "    </tr>\n",
       "    <tr>\n",
       "      <th id=\"T_4a01b_level0_row10\" class=\"row_heading level0 row10\" >10</th>\n",
       "      <td id=\"T_4a01b_row10_col0\" class=\"data row10 col0\" >Rows with missing values</td>\n",
       "      <td id=\"T_4a01b_row10_col1\" class=\"data row10 col1\" >0.0%</td>\n",
       "    </tr>\n",
       "    <tr>\n",
       "      <th id=\"T_4a01b_level0_row11\" class=\"row_heading level0 row11\" >11</th>\n",
       "      <td id=\"T_4a01b_row11_col0\" class=\"data row11 col0\" >Preprocess</td>\n",
       "      <td id=\"T_4a01b_row11_col1\" class=\"data row11 col1\" >True</td>\n",
       "    </tr>\n",
       "    <tr>\n",
       "      <th id=\"T_4a01b_level0_row12\" class=\"row_heading level0 row12\" >12</th>\n",
       "      <td id=\"T_4a01b_row12_col0\" class=\"data row12 col0\" >Imputation type</td>\n",
       "      <td id=\"T_4a01b_row12_col1\" class=\"data row12 col1\" >simple</td>\n",
       "    </tr>\n",
       "    <tr>\n",
       "      <th id=\"T_4a01b_level0_row13\" class=\"row_heading level0 row13\" >13</th>\n",
       "      <td id=\"T_4a01b_row13_col0\" class=\"data row13 col0\" >Numeric imputation</td>\n",
       "      <td id=\"T_4a01b_row13_col1\" class=\"data row13 col1\" >mean</td>\n",
       "    </tr>\n",
       "    <tr>\n",
       "      <th id=\"T_4a01b_level0_row14\" class=\"row_heading level0 row14\" >14</th>\n",
       "      <td id=\"T_4a01b_row14_col0\" class=\"data row14 col0\" >Categorical imputation</td>\n",
       "      <td id=\"T_4a01b_row14_col1\" class=\"data row14 col1\" >mode</td>\n",
       "    </tr>\n",
       "    <tr>\n",
       "      <th id=\"T_4a01b_level0_row15\" class=\"row_heading level0 row15\" >15</th>\n",
       "      <td id=\"T_4a01b_row15_col0\" class=\"data row15 col0\" >Maximum one-hot encoding</td>\n",
       "      <td id=\"T_4a01b_row15_col1\" class=\"data row15 col1\" >25</td>\n",
       "    </tr>\n",
       "    <tr>\n",
       "      <th id=\"T_4a01b_level0_row16\" class=\"row_heading level0 row16\" >16</th>\n",
       "      <td id=\"T_4a01b_row16_col0\" class=\"data row16 col0\" >Encoding method</td>\n",
       "      <td id=\"T_4a01b_row16_col1\" class=\"data row16 col1\" >None</td>\n",
       "    </tr>\n",
       "    <tr>\n",
       "      <th id=\"T_4a01b_level0_row17\" class=\"row_heading level0 row17\" >17</th>\n",
       "      <td id=\"T_4a01b_row17_col0\" class=\"data row17 col0\" >Fold Generator</td>\n",
       "      <td id=\"T_4a01b_row17_col1\" class=\"data row17 col1\" >StratifiedKFold</td>\n",
       "    </tr>\n",
       "    <tr>\n",
       "      <th id=\"T_4a01b_level0_row18\" class=\"row_heading level0 row18\" >18</th>\n",
       "      <td id=\"T_4a01b_row18_col0\" class=\"data row18 col0\" >Fold Number</td>\n",
       "      <td id=\"T_4a01b_row18_col1\" class=\"data row18 col1\" >10</td>\n",
       "    </tr>\n",
       "    <tr>\n",
       "      <th id=\"T_4a01b_level0_row19\" class=\"row_heading level0 row19\" >19</th>\n",
       "      <td id=\"T_4a01b_row19_col0\" class=\"data row19 col0\" >CPU Jobs</td>\n",
       "      <td id=\"T_4a01b_row19_col1\" class=\"data row19 col1\" >-1</td>\n",
       "    </tr>\n",
       "    <tr>\n",
       "      <th id=\"T_4a01b_level0_row20\" class=\"row_heading level0 row20\" >20</th>\n",
       "      <td id=\"T_4a01b_row20_col0\" class=\"data row20 col0\" >Use GPU</td>\n",
       "      <td id=\"T_4a01b_row20_col1\" class=\"data row20 col1\" >False</td>\n",
       "    </tr>\n",
       "    <tr>\n",
       "      <th id=\"T_4a01b_level0_row21\" class=\"row_heading level0 row21\" >21</th>\n",
       "      <td id=\"T_4a01b_row21_col0\" class=\"data row21 col0\" >Log Experiment</td>\n",
       "      <td id=\"T_4a01b_row21_col1\" class=\"data row21 col1\" >False</td>\n",
       "    </tr>\n",
       "    <tr>\n",
       "      <th id=\"T_4a01b_level0_row22\" class=\"row_heading level0 row22\" >22</th>\n",
       "      <td id=\"T_4a01b_row22_col0\" class=\"data row22 col0\" >Experiment Name</td>\n",
       "      <td id=\"T_4a01b_row22_col1\" class=\"data row22 col1\" >clf-default-name</td>\n",
       "    </tr>\n",
       "    <tr>\n",
       "      <th id=\"T_4a01b_level0_row23\" class=\"row_heading level0 row23\" >23</th>\n",
       "      <td id=\"T_4a01b_row23_col0\" class=\"data row23 col0\" >USI</td>\n",
       "      <td id=\"T_4a01b_row23_col1\" class=\"data row23 col1\" >7c14</td>\n",
       "    </tr>\n",
       "  </tbody>\n",
       "</table>\n"
      ],
      "text/plain": [
       "<pandas.io.formats.style.Styler at 0x7ff8316b21d0>"
      ]
     },
     "metadata": {},
     "output_type": "display_data"
    },
    {
     "data": {
      "text/html": [],
      "text/plain": [
       "<IPython.core.display.HTML object>"
      ]
     },
     "metadata": {},
     "output_type": "display_data"
    },
    {
     "data": {
      "text/html": [
       "<style type=\"text/css\">\n",
       "#T_bf3a8_row10_col0, #T_bf3a8_row10_col1, #T_bf3a8_row10_col2, #T_bf3a8_row10_col3, #T_bf3a8_row10_col4, #T_bf3a8_row10_col5, #T_bf3a8_row10_col6 {\n",
       "  background: yellow;\n",
       "}\n",
       "</style>\n",
       "<table id=\"T_bf3a8\">\n",
       "  <thead>\n",
       "    <tr>\n",
       "      <th class=\"blank level0\" >&nbsp;</th>\n",
       "      <th id=\"T_bf3a8_level0_col0\" class=\"col_heading level0 col0\" >Accuracy</th>\n",
       "      <th id=\"T_bf3a8_level0_col1\" class=\"col_heading level0 col1\" >AUC</th>\n",
       "      <th id=\"T_bf3a8_level0_col2\" class=\"col_heading level0 col2\" >Recall</th>\n",
       "      <th id=\"T_bf3a8_level0_col3\" class=\"col_heading level0 col3\" >Prec.</th>\n",
       "      <th id=\"T_bf3a8_level0_col4\" class=\"col_heading level0 col4\" >F1</th>\n",
       "      <th id=\"T_bf3a8_level0_col5\" class=\"col_heading level0 col5\" >Kappa</th>\n",
       "      <th id=\"T_bf3a8_level0_col6\" class=\"col_heading level0 col6\" >MCC</th>\n",
       "    </tr>\n",
       "    <tr>\n",
       "      <th class=\"index_name level0\" >Fold</th>\n",
       "      <th class=\"blank col0\" >&nbsp;</th>\n",
       "      <th class=\"blank col1\" >&nbsp;</th>\n",
       "      <th class=\"blank col2\" >&nbsp;</th>\n",
       "      <th class=\"blank col3\" >&nbsp;</th>\n",
       "      <th class=\"blank col4\" >&nbsp;</th>\n",
       "      <th class=\"blank col5\" >&nbsp;</th>\n",
       "      <th class=\"blank col6\" >&nbsp;</th>\n",
       "    </tr>\n",
       "  </thead>\n",
       "  <tbody>\n",
       "    <tr>\n",
       "      <th id=\"T_bf3a8_level0_row0\" class=\"row_heading level0 row0\" >0</th>\n",
       "      <td id=\"T_bf3a8_row0_col0\" class=\"data row0 col0\" >0.8148</td>\n",
       "      <td id=\"T_bf3a8_row0_col1\" class=\"data row0 col1\" >0.6562</td>\n",
       "      <td id=\"T_bf3a8_row0_col2\" class=\"data row0 col2\" >0.0146</td>\n",
       "      <td id=\"T_bf3a8_row0_col3\" class=\"data row0 col3\" >0.5000</td>\n",
       "      <td id=\"T_bf3a8_row0_col4\" class=\"data row0 col4\" >0.0284</td>\n",
       "      <td id=\"T_bf3a8_row0_col5\" class=\"data row0 col5\" >0.0181</td>\n",
       "      <td id=\"T_bf3a8_row0_col6\" class=\"data row0 col6\" >0.0598</td>\n",
       "    </tr>\n",
       "    <tr>\n",
       "      <th id=\"T_bf3a8_level0_row1\" class=\"row_heading level0 row1\" >1</th>\n",
       "      <td id=\"T_bf3a8_row1_col0\" class=\"data row1 col0\" >0.8157</td>\n",
       "      <td id=\"T_bf3a8_row1_col1\" class=\"data row1 col1\" >0.6587</td>\n",
       "      <td id=\"T_bf3a8_row1_col2\" class=\"data row1 col2\" >0.0143</td>\n",
       "      <td id=\"T_bf3a8_row1_col3\" class=\"data row1 col3\" >0.6023</td>\n",
       "      <td id=\"T_bf3a8_row1_col4\" class=\"data row1 col4\" >0.0280</td>\n",
       "      <td id=\"T_bf3a8_row1_col5\" class=\"data row1 col5\" >0.0196</td>\n",
       "      <td id=\"T_bf3a8_row1_col6\" class=\"data row1 col6\" >0.0714</td>\n",
       "    </tr>\n",
       "    <tr>\n",
       "      <th id=\"T_bf3a8_level0_row2\" class=\"row_heading level0 row2\" >2</th>\n",
       "      <td id=\"T_bf3a8_row2_col0\" class=\"data row2 col0\" >0.8146</td>\n",
       "      <td id=\"T_bf3a8_row2_col1\" class=\"data row2 col1\" >0.6656</td>\n",
       "      <td id=\"T_bf3a8_row2_col2\" class=\"data row2 col2\" >0.0095</td>\n",
       "      <td id=\"T_bf3a8_row2_col3\" class=\"data row2 col3\" >0.4795</td>\n",
       "      <td id=\"T_bf3a8_row2_col4\" class=\"data row2 col4\" >0.0186</td>\n",
       "      <td id=\"T_bf3a8_row2_col5\" class=\"data row2 col5\" >0.0115</td>\n",
       "      <td id=\"T_bf3a8_row2_col6\" class=\"data row2 col6\" >0.0459</td>\n",
       "    </tr>\n",
       "    <tr>\n",
       "      <th id=\"T_bf3a8_level0_row3\" class=\"row_heading level0 row3\" >3</th>\n",
       "      <td id=\"T_bf3a8_row3_col0\" class=\"data row3 col0\" >0.8145</td>\n",
       "      <td id=\"T_bf3a8_row3_col1\" class=\"data row3 col1\" >0.6637</td>\n",
       "      <td id=\"T_bf3a8_row3_col2\" class=\"data row3 col2\" >0.0081</td>\n",
       "      <td id=\"T_bf3a8_row3_col3\" class=\"data row3 col3\" >0.4545</td>\n",
       "      <td id=\"T_bf3a8_row3_col4\" class=\"data row3 col4\" >0.0159</td>\n",
       "      <td id=\"T_bf3a8_row3_col5\" class=\"data row3 col5\" >0.0095</td>\n",
       "      <td id=\"T_bf3a8_row3_col6\" class=\"data row3 col6\" >0.0399</td>\n",
       "    </tr>\n",
       "    <tr>\n",
       "      <th id=\"T_bf3a8_level0_row4\" class=\"row_heading level0 row4\" >4</th>\n",
       "      <td id=\"T_bf3a8_row4_col0\" class=\"data row4 col0\" >0.8137</td>\n",
       "      <td id=\"T_bf3a8_row4_col1\" class=\"data row4 col1\" >0.6566</td>\n",
       "      <td id=\"T_bf3a8_row4_col2\" class=\"data row4 col2\" >0.0076</td>\n",
       "      <td id=\"T_bf3a8_row4_col3\" class=\"data row4 col3\" >0.3590</td>\n",
       "      <td id=\"T_bf3a8_row4_col4\" class=\"data row4 col4\" >0.0148</td>\n",
       "      <td id=\"T_bf3a8_row4_col5\" class=\"data row4 col5\" >0.0072</td>\n",
       "      <td id=\"T_bf3a8_row4_col6\" class=\"data row4 col6\" >0.0280</td>\n",
       "    </tr>\n",
       "    <tr>\n",
       "      <th id=\"T_bf3a8_level0_row5\" class=\"row_heading level0 row5\" >5</th>\n",
       "      <td id=\"T_bf3a8_row5_col0\" class=\"data row5 col0\" >0.8142</td>\n",
       "      <td id=\"T_bf3a8_row5_col1\" class=\"data row5 col1\" >0.6517</td>\n",
       "      <td id=\"T_bf3a8_row5_col2\" class=\"data row5 col2\" >0.0089</td>\n",
       "      <td id=\"T_bf3a8_row5_col3\" class=\"data row5 col3\" >0.4286</td>\n",
       "      <td id=\"T_bf3a8_row5_col4\" class=\"data row5 col4\" >0.0175</td>\n",
       "      <td id=\"T_bf3a8_row5_col5\" class=\"data row5 col5\" >0.0100</td>\n",
       "      <td id=\"T_bf3a8_row5_col6\" class=\"data row5 col6\" >0.0390</td>\n",
       "    </tr>\n",
       "    <tr>\n",
       "      <th id=\"T_bf3a8_level0_row6\" class=\"row_heading level0 row6\" >6</th>\n",
       "      <td id=\"T_bf3a8_row6_col0\" class=\"data row6 col0\" >0.8142</td>\n",
       "      <td id=\"T_bf3a8_row6_col1\" class=\"data row6 col1\" >0.6551</td>\n",
       "      <td id=\"T_bf3a8_row6_col2\" class=\"data row6 col2\" >0.0108</td>\n",
       "      <td id=\"T_bf3a8_row6_col3\" class=\"data row6 col3\" >0.4348</td>\n",
       "      <td id=\"T_bf3a8_row6_col4\" class=\"data row6 col4\" >0.0211</td>\n",
       "      <td id=\"T_bf3a8_row6_col5\" class=\"data row6 col5\" >0.0122</td>\n",
       "      <td id=\"T_bf3a8_row6_col6\" class=\"data row6 col6\" >0.0437</td>\n",
       "    </tr>\n",
       "    <tr>\n",
       "      <th id=\"T_bf3a8_level0_row7\" class=\"row_heading level0 row7\" >7</th>\n",
       "      <td id=\"T_bf3a8_row7_col0\" class=\"data row7 col0\" >0.8147</td>\n",
       "      <td id=\"T_bf3a8_row7_col1\" class=\"data row7 col1\" >0.6590</td>\n",
       "      <td id=\"T_bf3a8_row7_col2\" class=\"data row7 col2\" >0.0084</td>\n",
       "      <td id=\"T_bf3a8_row7_col3\" class=\"data row7 col3\" >0.4921</td>\n",
       "      <td id=\"T_bf3a8_row7_col4\" class=\"data row7 col4\" >0.0165</td>\n",
       "      <td id=\"T_bf3a8_row7_col5\" class=\"data row7 col5\" >0.0103</td>\n",
       "      <td id=\"T_bf3a8_row7_col6\" class=\"data row7 col6\" >0.0444</td>\n",
       "    </tr>\n",
       "    <tr>\n",
       "      <th id=\"T_bf3a8_level0_row8\" class=\"row_heading level0 row8\" >8</th>\n",
       "      <td id=\"T_bf3a8_row8_col0\" class=\"data row8 col0\" >0.8140</td>\n",
       "      <td id=\"T_bf3a8_row8_col1\" class=\"data row8 col1\" >0.6608</td>\n",
       "      <td id=\"T_bf3a8_row8_col2\" class=\"data row8 col2\" >0.0084</td>\n",
       "      <td id=\"T_bf3a8_row8_col3\" class=\"data row8 col3\" >0.4079</td>\n",
       "      <td id=\"T_bf3a8_row8_col4\" class=\"data row8 col4\" >0.0164</td>\n",
       "      <td id=\"T_bf3a8_row8_col5\" class=\"data row8 col5\" >0.0090</td>\n",
       "      <td id=\"T_bf3a8_row8_col6\" class=\"data row8 col6\" >0.0354</td>\n",
       "    </tr>\n",
       "    <tr>\n",
       "      <th id=\"T_bf3a8_level0_row9\" class=\"row_heading level0 row9\" >9</th>\n",
       "      <td id=\"T_bf3a8_row9_col0\" class=\"data row9 col0\" >0.8140</td>\n",
       "      <td id=\"T_bf3a8_row9_col1\" class=\"data row9 col1\" >0.6571</td>\n",
       "      <td id=\"T_bf3a8_row9_col2\" class=\"data row9 col2\" >0.0073</td>\n",
       "      <td id=\"T_bf3a8_row9_col3\" class=\"data row9 col3\" >0.3913</td>\n",
       "      <td id=\"T_bf3a8_row9_col4\" class=\"data row9 col4\" >0.0143</td>\n",
       "      <td id=\"T_bf3a8_row9_col5\" class=\"data row9 col5\" >0.0076</td>\n",
       "      <td id=\"T_bf3a8_row9_col6\" class=\"data row9 col6\" >0.0312</td>\n",
       "    </tr>\n",
       "    <tr>\n",
       "      <th id=\"T_bf3a8_level0_row10\" class=\"row_heading level0 row10\" >Mean</th>\n",
       "      <td id=\"T_bf3a8_row10_col0\" class=\"data row10 col0\" >0.8144</td>\n",
       "      <td id=\"T_bf3a8_row10_col1\" class=\"data row10 col1\" >0.6585</td>\n",
       "      <td id=\"T_bf3a8_row10_col2\" class=\"data row10 col2\" >0.0098</td>\n",
       "      <td id=\"T_bf3a8_row10_col3\" class=\"data row10 col3\" >0.4550</td>\n",
       "      <td id=\"T_bf3a8_row10_col4\" class=\"data row10 col4\" >0.0192</td>\n",
       "      <td id=\"T_bf3a8_row10_col5\" class=\"data row10 col5\" >0.0115</td>\n",
       "      <td id=\"T_bf3a8_row10_col6\" class=\"data row10 col6\" >0.0439</td>\n",
       "    </tr>\n",
       "    <tr>\n",
       "      <th id=\"T_bf3a8_level0_row11\" class=\"row_heading level0 row11\" >Std</th>\n",
       "      <td id=\"T_bf3a8_row11_col0\" class=\"data row11 col0\" >0.0005</td>\n",
       "      <td id=\"T_bf3a8_row11_col1\" class=\"data row11 col1\" >0.0039</td>\n",
       "      <td id=\"T_bf3a8_row11_col2\" class=\"data row11 col2\" >0.0025</td>\n",
       "      <td id=\"T_bf3a8_row11_col3\" class=\"data row11 col3\" >0.0650</td>\n",
       "      <td id=\"T_bf3a8_row11_col4\" class=\"data row11 col4\" >0.0049</td>\n",
       "      <td id=\"T_bf3a8_row11_col5\" class=\"data row11 col5\" >0.0039</td>\n",
       "      <td id=\"T_bf3a8_row11_col6\" class=\"data row11 col6\" >0.0124</td>\n",
       "    </tr>\n",
       "  </tbody>\n",
       "</table>\n"
      ],
      "text/plain": [
       "<pandas.io.formats.style.Styler at 0x7ff8306b9e40>"
      ]
     },
     "metadata": {},
     "output_type": "display_data"
    },
    {
     "data": {
      "text/html": [],
      "text/plain": [
       "<IPython.core.display.HTML object>"
      ]
     },
     "metadata": {},
     "output_type": "display_data"
    },
    {
     "data": {
      "text/html": [],
      "text/plain": [
       "<IPython.core.display.HTML object>"
      ]
     },
     "metadata": {},
     "output_type": "display_data"
    },
    {
     "data": {
      "image/png": "[encoded data removed]",
      "text/plain": [
       "<Figure size 480x330 with 1 Axes>"
      ]
     },
     "metadata": {},
     "output_type": "display_data"
    },
    {
     "data": {
      "text/html": [],
      "text/plain": [
       "<IPython.core.display.HTML object>"
      ]
     },
     "metadata": {},
     "output_type": "display_data"
    },
    {
     "data": {
      "text/html": [
       "<style type=\"text/css\">\n",
       "#T_5c3ed_row10_col0, #T_5c3ed_row10_col1, #T_5c3ed_row10_col2, #T_5c3ed_row10_col3, #T_5c3ed_row10_col4, #T_5c3ed_row10_col5, #T_5c3ed_row10_col6 {\n",
       "  background: yellow;\n",
       "}\n",
       "</style>\n",
       "<table id=\"T_5c3ed\">\n",
       "  <thead>\n",
       "    <tr>\n",
       "      <th class=\"blank level0\" >&nbsp;</th>\n",
       "      <th id=\"T_5c3ed_level0_col0\" class=\"col_heading level0 col0\" >Accuracy</th>\n",
       "      <th id=\"T_5c3ed_level0_col1\" class=\"col_heading level0 col1\" >AUC</th>\n",
       "      <th id=\"T_5c3ed_level0_col2\" class=\"col_heading level0 col2\" >Recall</th>\n",
       "      <th id=\"T_5c3ed_level0_col3\" class=\"col_heading level0 col3\" >Prec.</th>\n",
       "      <th id=\"T_5c3ed_level0_col4\" class=\"col_heading level0 col4\" >F1</th>\n",
       "      <th id=\"T_5c3ed_level0_col5\" class=\"col_heading level0 col5\" >Kappa</th>\n",
       "      <th id=\"T_5c3ed_level0_col6\" class=\"col_heading level0 col6\" >MCC</th>\n",
       "    </tr>\n",
       "    <tr>\n",
       "      <th class=\"index_name level0\" >Fold</th>\n",
       "      <th class=\"blank col0\" >&nbsp;</th>\n",
       "      <th class=\"blank col1\" >&nbsp;</th>\n",
       "      <th class=\"blank col2\" >&nbsp;</th>\n",
       "      <th class=\"blank col3\" >&nbsp;</th>\n",
       "      <th class=\"blank col4\" >&nbsp;</th>\n",
       "      <th class=\"blank col5\" >&nbsp;</th>\n",
       "      <th class=\"blank col6\" >&nbsp;</th>\n",
       "    </tr>\n",
       "  </thead>\n",
       "  <tbody>\n",
       "    <tr>\n",
       "      <th id=\"T_5c3ed_level0_row0\" class=\"row_heading level0 row0\" >0</th>\n",
       "      <td id=\"T_5c3ed_row0_col0\" class=\"data row0 col0\" >0.8156</td>\n",
       "      <td id=\"T_5c3ed_row0_col1\" class=\"data row0 col1\" >0.6663</td>\n",
       "      <td id=\"T_5c3ed_row0_col2\" class=\"data row0 col2\" >0.0146</td>\n",
       "      <td id=\"T_5c3ed_row0_col3\" class=\"data row0 col3\" >0.5870</td>\n",
       "      <td id=\"T_5c3ed_row0_col4\" class=\"data row0 col4\" >0.0285</td>\n",
       "      <td id=\"T_5c3ed_row0_col5\" class=\"data row0 col5\" >0.0197</td>\n",
       "      <td id=\"T_5c3ed_row0_col6\" class=\"data row0 col6\" >0.0704</td>\n",
       "    </tr>\n",
       "    <tr>\n",
       "      <th id=\"T_5c3ed_level0_row1\" class=\"row_heading level0 row1\" >1</th>\n",
       "      <td id=\"T_5c3ed_row1_col0\" class=\"data row1 col0\" >0.8160</td>\n",
       "      <td id=\"T_5c3ed_row1_col1\" class=\"data row1 col1\" >0.6643</td>\n",
       "      <td id=\"T_5c3ed_row1_col2\" class=\"data row1 col2\" >0.0157</td>\n",
       "      <td id=\"T_5c3ed_row1_col3\" class=\"data row1 col3\" >0.6304</td>\n",
       "      <td id=\"T_5c3ed_row1_col4\" class=\"data row1 col4\" >0.0306</td>\n",
       "      <td id=\"T_5c3ed_row1_col5\" class=\"data row1 col5\" >0.0218</td>\n",
       "      <td id=\"T_5c3ed_row1_col6\" class=\"data row1 col6\" >0.0780</td>\n",
       "    </tr>\n",
       "    <tr>\n",
       "      <th id=\"T_5c3ed_level0_row2\" class=\"row_heading level0 row2\" >2</th>\n",
       "      <td id=\"T_5c3ed_row2_col0\" class=\"data row2 col0\" >0.8158</td>\n",
       "      <td id=\"T_5c3ed_row2_col1\" class=\"data row2 col1\" >0.6693</td>\n",
       "      <td id=\"T_5c3ed_row2_col2\" class=\"data row2 col2\" >0.0127</td>\n",
       "      <td id=\"T_5c3ed_row2_col3\" class=\"data row2 col3\" >0.6438</td>\n",
       "      <td id=\"T_5c3ed_row2_col4\" class=\"data row2 col4\" >0.0249</td>\n",
       "      <td id=\"T_5c3ed_row2_col5\" class=\"data row2 col5\" >0.0179</td>\n",
       "      <td id=\"T_5c3ed_row2_col6\" class=\"data row2 col6\" >0.0715</td>\n",
       "    </tr>\n",
       "    <tr>\n",
       "      <th id=\"T_5c3ed_level0_row3\" class=\"row_heading level0 row3\" >3</th>\n",
       "      <td id=\"T_5c3ed_row3_col0\" class=\"data row3 col0\" >0.8147</td>\n",
       "      <td id=\"T_5c3ed_row3_col1\" class=\"data row3 col1\" >0.6716</td>\n",
       "      <td id=\"T_5c3ed_row3_col2\" class=\"data row3 col2\" >0.0095</td>\n",
       "      <td id=\"T_5c3ed_row3_col3\" class=\"data row3 col3\" >0.4861</td>\n",
       "      <td id=\"T_5c3ed_row3_col4\" class=\"data row3 col4\" >0.0186</td>\n",
       "      <td id=\"T_5c3ed_row3_col5\" class=\"data row3 col5\" >0.0116</td>\n",
       "      <td id=\"T_5c3ed_row3_col6\" class=\"data row3 col6\" >0.0466</td>\n",
       "    </tr>\n",
       "    <tr>\n",
       "      <th id=\"T_5c3ed_level0_row4\" class=\"row_heading level0 row4\" >4</th>\n",
       "      <td id=\"T_5c3ed_row4_col0\" class=\"data row4 col0\" >0.8140</td>\n",
       "      <td id=\"T_5c3ed_row4_col1\" class=\"data row4 col1\" >0.6618</td>\n",
       "      <td id=\"T_5c3ed_row4_col2\" class=\"data row4 col2\" >0.0092</td>\n",
       "      <td id=\"T_5c3ed_row4_col3\" class=\"data row4 col3\" >0.4048</td>\n",
       "      <td id=\"T_5c3ed_row4_col4\" class=\"data row4 col4\" >0.0180</td>\n",
       "      <td id=\"T_5c3ed_row4_col5\" class=\"data row4 col5\" >0.0098</td>\n",
       "      <td id=\"T_5c3ed_row4_col6\" class=\"data row4 col6\" >0.0367</td>\n",
       "    </tr>\n",
       "    <tr>\n",
       "      <th id=\"T_5c3ed_level0_row5\" class=\"row_heading level0 row5\" >5</th>\n",
       "      <td id=\"T_5c3ed_row5_col0\" class=\"data row5 col0\" >0.8153</td>\n",
       "      <td id=\"T_5c3ed_row5_col1\" class=\"data row5 col1\" >0.6615</td>\n",
       "      <td id=\"T_5c3ed_row5_col2\" class=\"data row5 col2\" >0.0111</td>\n",
       "      <td id=\"T_5c3ed_row5_col3\" class=\"data row5 col3\" >0.5775</td>\n",
       "      <td id=\"T_5c3ed_row5_col4\" class=\"data row5 col4\" >0.0218</td>\n",
       "      <td id=\"T_5c3ed_row5_col5\" class=\"data row5 col5\" >0.0149</td>\n",
       "      <td id=\"T_5c3ed_row5_col6\" class=\"data row5 col6\" >0.0603</td>\n",
       "    </tr>\n",
       "    <tr>\n",
       "      <th id=\"T_5c3ed_level0_row6\" class=\"row_heading level0 row6\" >6</th>\n",
       "      <td id=\"T_5c3ed_row6_col0\" class=\"data row6 col0\" >0.8153</td>\n",
       "      <td id=\"T_5c3ed_row6_col1\" class=\"data row6 col1\" >0.6616</td>\n",
       "      <td id=\"T_5c3ed_row6_col2\" class=\"data row6 col2\" >0.0124</td>\n",
       "      <td id=\"T_5c3ed_row6_col3\" class=\"data row6 col3\" >0.5610</td>\n",
       "      <td id=\"T_5c3ed_row6_col4\" class=\"data row6 col4\" >0.0244</td>\n",
       "      <td id=\"T_5c3ed_row6_col5\" class=\"data row6 col5\" >0.0164</td>\n",
       "      <td id=\"T_5c3ed_row6_col6\" class=\"data row6 col6\" >0.0621</td>\n",
       "    </tr>\n",
       "    <tr>\n",
       "      <th id=\"T_5c3ed_level0_row7\" class=\"row_heading level0 row7\" >7</th>\n",
       "      <td id=\"T_5c3ed_row7_col0\" class=\"data row7 col0\" >0.8151</td>\n",
       "      <td id=\"T_5c3ed_row7_col1\" class=\"data row7 col1\" >0.6668</td>\n",
       "      <td id=\"T_5c3ed_row7_col2\" class=\"data row7 col2\" >0.0097</td>\n",
       "      <td id=\"T_5c3ed_row7_col3\" class=\"data row7 col3\" >0.5625</td>\n",
       "      <td id=\"T_5c3ed_row7_col4\" class=\"data row7 col4\" >0.0191</td>\n",
       "      <td id=\"T_5c3ed_row7_col5\" class=\"data row7 col5\" >0.0129</td>\n",
       "      <td id=\"T_5c3ed_row7_col6\" class=\"data row7 col6\" >0.0551</td>\n",
       "    </tr>\n",
       "    <tr>\n",
       "      <th id=\"T_5c3ed_level0_row8\" class=\"row_heading level0 row8\" >8</th>\n",
       "      <td id=\"T_5c3ed_row8_col0\" class=\"data row8 col0\" >0.8149</td>\n",
       "      <td id=\"T_5c3ed_row8_col1\" class=\"data row8 col1\" >0.6683</td>\n",
       "      <td id=\"T_5c3ed_row8_col2\" class=\"data row8 col2\" >0.0119</td>\n",
       "      <td id=\"T_5c3ed_row8_col3\" class=\"data row8 col3\" >0.5176</td>\n",
       "      <td id=\"T_5c3ed_row8_col4\" class=\"data row8 col4\" >0.0233</td>\n",
       "      <td id=\"T_5c3ed_row8_col5\" class=\"data row8 col5\" >0.0151</td>\n",
       "      <td id=\"T_5c3ed_row8_col6\" class=\"data row8 col6\" >0.0560</td>\n",
       "    </tr>\n",
       "    <tr>\n",
       "      <th id=\"T_5c3ed_level0_row9\" class=\"row_heading level0 row9\" >9</th>\n",
       "      <td id=\"T_5c3ed_row9_col0\" class=\"data row9 col0\" >0.8155</td>\n",
       "      <td id=\"T_5c3ed_row9_col1\" class=\"data row9 col1\" >0.6636</td>\n",
       "      <td id=\"T_5c3ed_row9_col2\" class=\"data row9 col2\" >0.0149</td>\n",
       "      <td id=\"T_5c3ed_row9_col3\" class=\"data row9 col3\" >0.5789</td>\n",
       "      <td id=\"T_5c3ed_row9_col4\" class=\"data row9 col4\" >0.0290</td>\n",
       "      <td id=\"T_5c3ed_row9_col5\" class=\"data row9 col5\" >0.0199</td>\n",
       "      <td id=\"T_5c3ed_row9_col6\" class=\"data row9 col6\" >0.0701</td>\n",
       "    </tr>\n",
       "    <tr>\n",
       "      <th id=\"T_5c3ed_level0_row10\" class=\"row_heading level0 row10\" >Mean</th>\n",
       "      <td id=\"T_5c3ed_row10_col0\" class=\"data row10 col0\" >0.8152</td>\n",
       "      <td id=\"T_5c3ed_row10_col1\" class=\"data row10 col1\" >0.6655</td>\n",
       "      <td id=\"T_5c3ed_row10_col2\" class=\"data row10 col2\" >0.0122</td>\n",
       "      <td id=\"T_5c3ed_row10_col3\" class=\"data row10 col3\" >0.5550</td>\n",
       "      <td id=\"T_5c3ed_row10_col4\" class=\"data row10 col4\" >0.0238</td>\n",
       "      <td id=\"T_5c3ed_row10_col5\" class=\"data row10 col5\" >0.0160</td>\n",
       "      <td id=\"T_5c3ed_row10_col6\" class=\"data row10 col6\" >0.0607</td>\n",
       "    </tr>\n",
       "    <tr>\n",
       "      <th id=\"T_5c3ed_level0_row11\" class=\"row_heading level0 row11\" >Std</th>\n",
       "      <td id=\"T_5c3ed_row11_col0\" class=\"data row11 col0\" >0.0005</td>\n",
       "      <td id=\"T_5c3ed_row11_col1\" class=\"data row11 col1\" >0.0033</td>\n",
       "      <td id=\"T_5c3ed_row11_col2\" class=\"data row11 col2\" >0.0022</td>\n",
       "      <td id=\"T_5c3ed_row11_col3\" class=\"data row11 col3\" >0.0667</td>\n",
       "      <td id=\"T_5c3ed_row11_col4\" class=\"data row11 col4\" >0.0043</td>\n",
       "      <td id=\"T_5c3ed_row11_col5\" class=\"data row11 col5\" >0.0037</td>\n",
       "      <td id=\"T_5c3ed_row11_col6\" class=\"data row11 col6\" >0.0119</td>\n",
       "    </tr>\n",
       "  </tbody>\n",
       "</table>\n"
      ],
      "text/plain": [
       "<pandas.io.formats.style.Styler at 0x7ff8316b0c70>"
      ]
     },
     "metadata": {},
     "output_type": "display_data"
    },
    {
     "data": {
      "text/html": [],
      "text/plain": [
       "<IPython.core.display.HTML object>"
      ]
     },
     "metadata": {},
     "output_type": "display_data"
    },
    {
     "data": {
      "text/html": [],
      "text/plain": [
       "<IPython.core.display.HTML object>"
      ]
     },
     "metadata": {},
     "output_type": "display_data"
    },
    {
     "data": {
      "image/png": "[encoded data removed]",
      "text/plain": [
       "<Figure size 480x330 with 1 Axes>"
      ]
     },
     "metadata": {},
     "output_type": "display_data"
    },
    {
     "data": {
      "text/html": [],
      "text/plain": [
       "<IPython.core.display.HTML object>"
      ]
     },
     "metadata": {},
     "output_type": "display_data"
    },
    {
     "data": {
      "text/html": [
       "<style type=\"text/css\">\n",
       "#T_dd6d3_row10_col0, #T_dd6d3_row10_col1, #T_dd6d3_row10_col2, #T_dd6d3_row10_col3, #T_dd6d3_row10_col4, #T_dd6d3_row10_col5, #T_dd6d3_row10_col6 {\n",
       "  background: yellow;\n",
       "}\n",
       "</style>\n",
       "<table id=\"T_dd6d3\">\n",
       "  <thead>\n",
       "    <tr>\n",
       "      <th class=\"blank level0\" >&nbsp;</th>\n",
       "      <th id=\"T_dd6d3_level0_col0\" class=\"col_heading level0 col0\" >Accuracy</th>\n",
       "      <th id=\"T_dd6d3_level0_col1\" class=\"col_heading level0 col1\" >AUC</th>\n",
       "      <th id=\"T_dd6d3_level0_col2\" class=\"col_heading level0 col2\" >Recall</th>\n",
       "      <th id=\"T_dd6d3_level0_col3\" class=\"col_heading level0 col3\" >Prec.</th>\n",
       "      <th id=\"T_dd6d3_level0_col4\" class=\"col_heading level0 col4\" >F1</th>\n",
       "      <th id=\"T_dd6d3_level0_col5\" class=\"col_heading level0 col5\" >Kappa</th>\n",
       "      <th id=\"T_dd6d3_level0_col6\" class=\"col_heading level0 col6\" >MCC</th>\n",
       "    </tr>\n",
       "    <tr>\n",
       "      <th class=\"index_name level0\" >Fold</th>\n",
       "      <th class=\"blank col0\" >&nbsp;</th>\n",
       "      <th class=\"blank col1\" >&nbsp;</th>\n",
       "      <th class=\"blank col2\" >&nbsp;</th>\n",
       "      <th class=\"blank col3\" >&nbsp;</th>\n",
       "      <th class=\"blank col4\" >&nbsp;</th>\n",
       "      <th class=\"blank col5\" >&nbsp;</th>\n",
       "      <th class=\"blank col6\" >&nbsp;</th>\n",
       "    </tr>\n",
       "  </thead>\n",
       "  <tbody>\n",
       "    <tr>\n",
       "      <th id=\"T_dd6d3_level0_row0\" class=\"row_heading level0 row0\" >0</th>\n",
       "      <td id=\"T_dd6d3_row0_col0\" class=\"data row0 col0\" >0.8154</td>\n",
       "      <td id=\"T_dd6d3_row0_col1\" class=\"data row0 col1\" >0.6639</td>\n",
       "      <td id=\"T_dd6d3_row0_col2\" class=\"data row0 col2\" >0.0119</td>\n",
       "      <td id=\"T_dd6d3_row0_col3\" class=\"data row0 col3\" >0.5789</td>\n",
       "      <td id=\"T_dd6d3_row0_col4\" class=\"data row0 col4\" >0.0233</td>\n",
       "      <td id=\"T_dd6d3_row0_col5\" class=\"data row0 col5\" >0.0160</td>\n",
       "      <td id=\"T_dd6d3_row0_col6\" class=\"data row0 col6\" >0.0627</td>\n",
       "    </tr>\n",
       "    <tr>\n",
       "      <th id=\"T_dd6d3_level0_row1\" class=\"row_heading level0 row1\" >1</th>\n",
       "      <td id=\"T_dd6d3_row1_col0\" class=\"data row1 col0\" >0.8160</td>\n",
       "      <td id=\"T_dd6d3_row1_col1\" class=\"data row1 col1\" >0.6639</td>\n",
       "      <td id=\"T_dd6d3_row1_col2\" class=\"data row1 col2\" >0.0119</td>\n",
       "      <td id=\"T_dd6d3_row1_col3\" class=\"data row1 col3\" >0.6875</td>\n",
       "      <td id=\"T_dd6d3_row1_col4\" class=\"data row1 col4\" >0.0234</td>\n",
       "      <td id=\"T_dd6d3_row1_col5\" class=\"data row1 col5\" >0.0172</td>\n",
       "      <td id=\"T_dd6d3_row1_col6\" class=\"data row1 col6\" >0.0733</td>\n",
       "    </tr>\n",
       "    <tr>\n",
       "      <th id=\"T_dd6d3_level0_row2\" class=\"row_heading level0 row2\" >2</th>\n",
       "      <td id=\"T_dd6d3_row2_col0\" class=\"data row2 col0\" >0.8155</td>\n",
       "      <td id=\"T_dd6d3_row2_col1\" class=\"data row2 col1\" >0.6708</td>\n",
       "      <td id=\"T_dd6d3_row2_col2\" class=\"data row2 col2\" >0.0095</td>\n",
       "      <td id=\"T_dd6d3_row2_col3\" class=\"data row2 col3\" >0.6250</td>\n",
       "      <td id=\"T_dd6d3_row2_col4\" class=\"data row2 col4\" >0.0187</td>\n",
       "      <td id=\"T_dd6d3_row2_col5\" class=\"data row2 col5\" >0.0132</td>\n",
       "      <td id=\"T_dd6d3_row2_col6\" class=\"data row2 col6\" >0.0600</td>\n",
       "    </tr>\n",
       "    <tr>\n",
       "      <th id=\"T_dd6d3_level0_row3\" class=\"row_heading level0 row3\" >3</th>\n",
       "      <td id=\"T_dd6d3_row3_col0\" class=\"data row3 col0\" >0.8151</td>\n",
       "      <td id=\"T_dd6d3_row3_col1\" class=\"data row3 col1\" >0.6707</td>\n",
       "      <td id=\"T_dd6d3_row3_col2\" class=\"data row3 col2\" >0.0076</td>\n",
       "      <td id=\"T_dd6d3_row3_col3\" class=\"data row3 col3\" >0.5714</td>\n",
       "      <td id=\"T_dd6d3_row3_col4\" class=\"data row3 col4\" >0.0150</td>\n",
       "      <td id=\"T_dd6d3_row3_col5\" class=\"data row3 col5\" >0.0102</td>\n",
       "      <td id=\"T_dd6d3_row3_col6\" class=\"data row3 col6\" >0.0493</td>\n",
       "    </tr>\n",
       "    <tr>\n",
       "      <th id=\"T_dd6d3_level0_row4\" class=\"row_heading level0 row4\" >4</th>\n",
       "      <td id=\"T_dd6d3_row4_col0\" class=\"data row4 col0\" >0.8143</td>\n",
       "      <td id=\"T_dd6d3_row4_col1\" class=\"data row4 col1\" >0.6611</td>\n",
       "      <td id=\"T_dd6d3_row4_col2\" class=\"data row4 col2\" >0.0078</td>\n",
       "      <td id=\"T_dd6d3_row4_col3\" class=\"data row4 col3\" >0.4265</td>\n",
       "      <td id=\"T_dd6d3_row4_col4\" class=\"data row4 col4\" >0.0154</td>\n",
       "      <td id=\"T_dd6d3_row4_col5\" class=\"data row4 col5\" >0.0088</td>\n",
       "      <td id=\"T_dd6d3_row4_col6\" class=\"data row4 col6\" >0.0363</td>\n",
       "    </tr>\n",
       "    <tr>\n",
       "      <th id=\"T_dd6d3_level0_row5\" class=\"row_heading level0 row5\" >5</th>\n",
       "      <td id=\"T_dd6d3_row5_col0\" class=\"data row5 col0\" >0.8156</td>\n",
       "      <td id=\"T_dd6d3_row5_col1\" class=\"data row5 col1\" >0.6602</td>\n",
       "      <td id=\"T_dd6d3_row5_col2\" class=\"data row5 col2\" >0.0111</td>\n",
       "      <td id=\"T_dd6d3_row5_col3\" class=\"data row5 col3\" >0.6308</td>\n",
       "      <td id=\"T_dd6d3_row5_col4\" class=\"data row5 col4\" >0.0218</td>\n",
       "      <td id=\"T_dd6d3_row5_col5\" class=\"data row5 col5\" >0.0155</td>\n",
       "      <td id=\"T_dd6d3_row5_col6\" class=\"data row5 col6\" >0.0656</td>\n",
       "    </tr>\n",
       "    <tr>\n",
       "      <th id=\"T_dd6d3_level0_row6\" class=\"row_heading level0 row6\" >6</th>\n",
       "      <td id=\"T_dd6d3_row6_col0\" class=\"data row6 col0\" >0.8152</td>\n",
       "      <td id=\"T_dd6d3_row6_col1\" class=\"data row6 col1\" >0.6612</td>\n",
       "      <td id=\"T_dd6d3_row6_col2\" class=\"data row6 col2\" >0.0092</td>\n",
       "      <td id=\"T_dd6d3_row6_col3\" class=\"data row6 col3\" >0.5667</td>\n",
       "      <td id=\"T_dd6d3_row6_col4\" class=\"data row6 col4\" >0.0181</td>\n",
       "      <td id=\"T_dd6d3_row6_col5\" class=\"data row6 col5\" >0.0123</td>\n",
       "      <td id=\"T_dd6d3_row6_col6\" class=\"data row6 col6\" >0.0539</td>\n",
       "    </tr>\n",
       "    <tr>\n",
       "      <th id=\"T_dd6d3_level0_row7\" class=\"row_heading level0 row7\" >7</th>\n",
       "      <td id=\"T_dd6d3_row7_col0\" class=\"data row7 col0\" >0.8148</td>\n",
       "      <td id=\"T_dd6d3_row7_col1\" class=\"data row7 col1\" >0.6662</td>\n",
       "      <td id=\"T_dd6d3_row7_col2\" class=\"data row7 col2\" >0.0060</td>\n",
       "      <td id=\"T_dd6d3_row7_col3\" class=\"data row7 col3\" >0.5116</td>\n",
       "      <td id=\"T_dd6d3_row7_col4\" class=\"data row7 col4\" >0.0118</td>\n",
       "      <td id=\"T_dd6d3_row7_col5\" class=\"data row7 col5\" >0.0075</td>\n",
       "      <td id=\"T_dd6d3_row7_col6\" class=\"data row7 col6\" >0.0390</td>\n",
       "    </tr>\n",
       "    <tr>\n",
       "      <th id=\"T_dd6d3_level0_row8\" class=\"row_heading level0 row8\" >8</th>\n",
       "      <td id=\"T_dd6d3_row8_col0\" class=\"data row8 col0\" >0.8144</td>\n",
       "      <td id=\"T_dd6d3_row8_col1\" class=\"data row8 col1\" >0.6690</td>\n",
       "      <td id=\"T_dd6d3_row8_col2\" class=\"data row8 col2\" >0.0081</td>\n",
       "      <td id=\"T_dd6d3_row8_col3\" class=\"data row8 col3\" >0.4545</td>\n",
       "      <td id=\"T_dd6d3_row8_col4\" class=\"data row8 col4\" >0.0159</td>\n",
       "      <td id=\"T_dd6d3_row8_col5\" class=\"data row8 col5\" >0.0095</td>\n",
       "      <td id=\"T_dd6d3_row8_col6\" class=\"data row8 col6\" >0.0399</td>\n",
       "    </tr>\n",
       "    <tr>\n",
       "      <th id=\"T_dd6d3_level0_row9\" class=\"row_heading level0 row9\" >9</th>\n",
       "      <td id=\"T_dd6d3_row9_col0\" class=\"data row9 col0\" >0.8151</td>\n",
       "      <td id=\"T_dd6d3_row9_col1\" class=\"data row9 col1\" >0.6623</td>\n",
       "      <td id=\"T_dd6d3_row9_col2\" class=\"data row9 col2\" >0.0108</td>\n",
       "      <td id=\"T_dd6d3_row9_col3\" class=\"data row9 col3\" >0.5556</td>\n",
       "      <td id=\"T_dd6d3_row9_col4\" class=\"data row9 col4\" >0.0212</td>\n",
       "      <td id=\"T_dd6d3_row9_col5\" class=\"data row9 col5\" >0.0142</td>\n",
       "      <td id=\"T_dd6d3_row9_col6\" class=\"data row9 col6\" >0.0574</td>\n",
       "    </tr>\n",
       "    <tr>\n",
       "      <th id=\"T_dd6d3_level0_row10\" class=\"row_heading level0 row10\" >Mean</th>\n",
       "      <td id=\"T_dd6d3_row10_col0\" class=\"data row10 col0\" >0.8151</td>\n",
       "      <td id=\"T_dd6d3_row10_col1\" class=\"data row10 col1\" >0.6649</td>\n",
       "      <td id=\"T_dd6d3_row10_col2\" class=\"data row10 col2\" >0.0094</td>\n",
       "      <td id=\"T_dd6d3_row10_col3\" class=\"data row10 col3\" >0.5609</td>\n",
       "      <td id=\"T_dd6d3_row10_col4\" class=\"data row10 col4\" >0.0185</td>\n",
       "      <td id=\"T_dd6d3_row10_col5\" class=\"data row10 col5\" >0.0124</td>\n",
       "      <td id=\"T_dd6d3_row10_col6\" class=\"data row10 col6\" >0.0537</td>\n",
       "    </tr>\n",
       "    <tr>\n",
       "      <th id=\"T_dd6d3_level0_row11\" class=\"row_heading level0 row11\" >Std</th>\n",
       "      <td id=\"T_dd6d3_row11_col0\" class=\"data row11 col0\" >0.0005</td>\n",
       "      <td id=\"T_dd6d3_row11_col1\" class=\"data row11 col1\" >0.0038</td>\n",
       "      <td id=\"T_dd6d3_row11_col2\" class=\"data row11 col2\" >0.0019</td>\n",
       "      <td id=\"T_dd6d3_row11_col3\" class=\"data row11 col3\" >0.0757</td>\n",
       "      <td id=\"T_dd6d3_row11_col4\" class=\"data row11 col4\" >0.0037</td>\n",
       "      <td id=\"T_dd6d3_row11_col5\" class=\"data row11 col5\" >0.0032</td>\n",
       "      <td id=\"T_dd6d3_row11_col6\" class=\"data row11 col6\" >0.0118</td>\n",
       "    </tr>\n",
       "  </tbody>\n",
       "</table>\n"
      ],
      "text/plain": [
       "<pandas.io.formats.style.Styler at 0x7ff8316b1570>"
      ]
     },
     "metadata": {},
     "output_type": "display_data"
    },
    {
     "data": {
      "text/html": [],
      "text/plain": [
       "<IPython.core.display.HTML object>"
      ]
     },
     "metadata": {},
     "output_type": "display_data"
    },
    {
     "data": {
      "text/html": [],
      "text/plain": [
       "<IPython.core.display.HTML object>"
      ]
     },
     "metadata": {},
     "output_type": "display_data"
    },
    {
     "data": {
      "image/png": "[encoded data removed]",
      "text/plain": [
       "<Figure size 480x330 with 1 Axes>"
      ]
     },
     "metadata": {},
     "output_type": "display_data"
    },
    {
     "data": {
      "text/html": [],
      "text/plain": [
       "<IPython.core.display.HTML object>"
      ]
     },
     "metadata": {},
     "output_type": "display_data"
    },
    {
     "data": {
      "text/html": [
       "<style type=\"text/css\">\n",
       "#T_6656e_row10_col0, #T_6656e_row10_col1, #T_6656e_row10_col2, #T_6656e_row10_col3, #T_6656e_row10_col4, #T_6656e_row10_col5, #T_6656e_row10_col6 {\n",
       "  background: yellow;\n",
       "}\n",
       "</style>\n",
       "<table id=\"T_6656e\">\n",
       "  <thead>\n",
       "    <tr>\n",
       "      <th class=\"blank level0\" >&nbsp;</th>\n",
       "      <th id=\"T_6656e_level0_col0\" class=\"col_heading level0 col0\" >Accuracy</th>\n",
       "      <th id=\"T_6656e_level0_col1\" class=\"col_heading level0 col1\" >AUC</th>\n",
       "      <th id=\"T_6656e_level0_col2\" class=\"col_heading level0 col2\" >Recall</th>\n",
       "      <th id=\"T_6656e_level0_col3\" class=\"col_heading level0 col3\" >Prec.</th>\n",
       "      <th id=\"T_6656e_level0_col4\" class=\"col_heading level0 col4\" >F1</th>\n",
       "      <th id=\"T_6656e_level0_col5\" class=\"col_heading level0 col5\" >Kappa</th>\n",
       "      <th id=\"T_6656e_level0_col6\" class=\"col_heading level0 col6\" >MCC</th>\n",
       "    </tr>\n",
       "    <tr>\n",
       "      <th class=\"index_name level0\" >Fold</th>\n",
       "      <th class=\"blank col0\" >&nbsp;</th>\n",
       "      <th class=\"blank col1\" >&nbsp;</th>\n",
       "      <th class=\"blank col2\" >&nbsp;</th>\n",
       "      <th class=\"blank col3\" >&nbsp;</th>\n",
       "      <th class=\"blank col4\" >&nbsp;</th>\n",
       "      <th class=\"blank col5\" >&nbsp;</th>\n",
       "      <th class=\"blank col6\" >&nbsp;</th>\n",
       "    </tr>\n",
       "  </thead>\n",
       "  <tbody>\n",
       "    <tr>\n",
       "      <th id=\"T_6656e_level0_row0\" class=\"row_heading level0 row0\" >0</th>\n",
       "      <td id=\"T_6656e_row0_col0\" class=\"data row0 col0\" >0.8121</td>\n",
       "      <td id=\"T_6656e_row0_col1\" class=\"data row0 col1\" >0.6408</td>\n",
       "      <td id=\"T_6656e_row0_col2\" class=\"data row0 col2\" >0.0362</td>\n",
       "      <td id=\"T_6656e_row0_col3\" class=\"data row0 col3\" >0.4188</td>\n",
       "      <td id=\"T_6656e_row0_col4\" class=\"data row0 col4\" >0.0667</td>\n",
       "      <td id=\"T_6656e_row0_col5\" class=\"data row0 col5\" >0.0383</td>\n",
       "      <td id=\"T_6656e_row0_col6\" class=\"data row0 col6\" >0.0767</td>\n",
       "    </tr>\n",
       "    <tr>\n",
       "      <th id=\"T_6656e_level0_row1\" class=\"row_heading level0 row1\" >1</th>\n",
       "      <td id=\"T_6656e_row1_col0\" class=\"data row1 col0\" >0.8127</td>\n",
       "      <td id=\"T_6656e_row1_col1\" class=\"data row1 col1\" >0.6389</td>\n",
       "      <td id=\"T_6656e_row1_col2\" class=\"data row1 col2\" >0.0368</td>\n",
       "      <td id=\"T_6656e_row1_col3\" class=\"data row1 col3\" >0.4345</td>\n",
       "      <td id=\"T_6656e_row1_col4\" class=\"data row1 col4\" >0.0678</td>\n",
       "      <td id=\"T_6656e_row1_col5\" class=\"data row1 col5\" >0.0401</td>\n",
       "      <td id=\"T_6656e_row1_col6\" class=\"data row1 col6\" >0.0810</td>\n",
       "    </tr>\n",
       "    <tr>\n",
       "      <th id=\"T_6656e_level0_row2\" class=\"row_heading level0 row2\" >2</th>\n",
       "      <td id=\"T_6656e_row2_col0\" class=\"data row2 col0\" >0.8114</td>\n",
       "      <td id=\"T_6656e_row2_col1\" class=\"data row2 col1\" >0.6437</td>\n",
       "      <td id=\"T_6656e_row2_col2\" class=\"data row2 col2\" >0.0284</td>\n",
       "      <td id=\"T_6656e_row2_col3\" class=\"data row2 col3\" >0.3791</td>\n",
       "      <td id=\"T_6656e_row2_col4\" class=\"data row2 col4\" >0.0528</td>\n",
       "      <td id=\"T_6656e_row2_col5\" class=\"data row2 col5\" >0.0277</td>\n",
       "      <td id=\"T_6656e_row2_col6\" class=\"data row2 col6\" >0.0592</td>\n",
       "    </tr>\n",
       "    <tr>\n",
       "      <th id=\"T_6656e_level0_row3\" class=\"row_heading level0 row3\" >3</th>\n",
       "      <td id=\"T_6656e_row3_col0\" class=\"data row3 col0\" >0.8123</td>\n",
       "      <td id=\"T_6656e_row3_col1\" class=\"data row3 col1\" >0.6447</td>\n",
       "      <td id=\"T_6656e_row3_col2\" class=\"data row3 col2\" >0.0322</td>\n",
       "      <td id=\"T_6656e_row3_col3\" class=\"data row3 col3\" >0.4132</td>\n",
       "      <td id=\"T_6656e_row3_col4\" class=\"data row3 col4\" >0.0597</td>\n",
       "      <td id=\"T_6656e_row3_col5\" class=\"data row3 col5\" >0.0339</td>\n",
       "      <td id=\"T_6656e_row3_col6\" class=\"data row3 col6\" >0.0710</td>\n",
       "    </tr>\n",
       "    <tr>\n",
       "      <th id=\"T_6656e_level0_row4\" class=\"row_heading level0 row4\" >4</th>\n",
       "      <td id=\"T_6656e_row4_col0\" class=\"data row4 col0\" >0.8107</td>\n",
       "      <td id=\"T_6656e_row4_col1\" class=\"data row4 col1\" >0.6352</td>\n",
       "      <td id=\"T_6656e_row4_col2\" class=\"data row4 col2\" >0.0295</td>\n",
       "      <td id=\"T_6656e_row4_col3\" class=\"data row4 col3\" >0.3645</td>\n",
       "      <td id=\"T_6656e_row4_col4\" class=\"data row4 col4\" >0.0546</td>\n",
       "      <td id=\"T_6656e_row4_col5\" class=\"data row4 col5\" >0.0276</td>\n",
       "      <td id=\"T_6656e_row4_col6\" class=\"data row4 col6\" >0.0569</td>\n",
       "    </tr>\n",
       "    <tr>\n",
       "      <th id=\"T_6656e_level0_row5\" class=\"row_heading level0 row5\" >5</th>\n",
       "      <td id=\"T_6656e_row5_col0\" class=\"data row5 col0\" >0.8113</td>\n",
       "      <td id=\"T_6656e_row5_col1\" class=\"data row5 col1\" >0.6409</td>\n",
       "      <td id=\"T_6656e_row5_col2\" class=\"data row5 col2\" >0.0298</td>\n",
       "      <td id=\"T_6656e_row5_col3\" class=\"data row5 col3\" >0.3806</td>\n",
       "      <td id=\"T_6656e_row5_col4\" class=\"data row5 col4\" >0.0552</td>\n",
       "      <td id=\"T_6656e_row5_col5\" class=\"data row5 col5\" >0.0291</td>\n",
       "      <td id=\"T_6656e_row5_col6\" class=\"data row5 col6\" >0.0610</td>\n",
       "    </tr>\n",
       "    <tr>\n",
       "      <th id=\"T_6656e_level0_row6\" class=\"row_heading level0 row6\" >6</th>\n",
       "      <td id=\"T_6656e_row6_col0\" class=\"data row6 col0\" >0.8137</td>\n",
       "      <td id=\"T_6656e_row6_col1\" class=\"data row6 col1\" >0.6369</td>\n",
       "      <td id=\"T_6656e_row6_col2\" class=\"data row6 col2\" >0.0363</td>\n",
       "      <td id=\"T_6656e_row6_col3\" class=\"data row6 col3\" >0.4621</td>\n",
       "      <td id=\"T_6656e_row6_col4\" class=\"data row6 col4\" >0.0672</td>\n",
       "      <td id=\"T_6656e_row6_col5\" class=\"data row6 col5\" >0.0414</td>\n",
       "      <td id=\"T_6656e_row6_col6\" class=\"data row6 col6\" >0.0865</td>\n",
       "    </tr>\n",
       "    <tr>\n",
       "      <th id=\"T_6656e_level0_row7\" class=\"row_heading level0 row7\" >7</th>\n",
       "      <td id=\"T_6656e_row7_col0\" class=\"data row7 col0\" >0.8110</td>\n",
       "      <td id=\"T_6656e_row7_col1\" class=\"data row7 col1\" >0.6429</td>\n",
       "      <td id=\"T_6656e_row7_col2\" class=\"data row7 col2\" >0.0338</td>\n",
       "      <td id=\"T_6656e_row7_col3\" class=\"data row7 col3\" >0.3858</td>\n",
       "      <td id=\"T_6656e_row7_col4\" class=\"data row7 col4\" >0.0622</td>\n",
       "      <td id=\"T_6656e_row7_col5\" class=\"data row7 col5\" >0.0333</td>\n",
       "      <td id=\"T_6656e_row7_col6\" class=\"data row7 col6\" >0.0663</td>\n",
       "    </tr>\n",
       "    <tr>\n",
       "      <th id=\"T_6656e_level0_row8\" class=\"row_heading level0 row8\" >8</th>\n",
       "      <td id=\"T_6656e_row8_col0\" class=\"data row8 col0\" >0.8115</td>\n",
       "      <td id=\"T_6656e_row8_col1\" class=\"data row8 col1\" >0.6405</td>\n",
       "      <td id=\"T_6656e_row8_col2\" class=\"data row8 col2\" >0.0341</td>\n",
       "      <td id=\"T_6656e_row8_col3\" class=\"data row8 col3\" >0.3987</td>\n",
       "      <td id=\"T_6656e_row8_col4\" class=\"data row8 col4\" >0.0628</td>\n",
       "      <td id=\"T_6656e_row8_col5\" class=\"data row8 col5\" >0.0346</td>\n",
       "      <td id=\"T_6656e_row8_col6\" class=\"data row8 col6\" >0.0697</td>\n",
       "    </tr>\n",
       "    <tr>\n",
       "      <th id=\"T_6656e_level0_row9\" class=\"row_heading level0 row9\" >9</th>\n",
       "      <td id=\"T_6656e_row9_col0\" class=\"data row9 col0\" >0.8119</td>\n",
       "      <td id=\"T_6656e_row9_col1\" class=\"data row9 col1\" >0.6392</td>\n",
       "      <td id=\"T_6656e_row9_col2\" class=\"data row9 col2\" >0.0368</td>\n",
       "      <td id=\"T_6656e_row9_col3\" class=\"data row9 col3\" >0.4146</td>\n",
       "      <td id=\"T_6656e_row9_col4\" class=\"data row9 col4\" >0.0676</td>\n",
       "      <td id=\"T_6656e_row9_col5\" class=\"data row9 col5\" >0.0385</td>\n",
       "      <td id=\"T_6656e_row9_col6\" class=\"data row9 col6\" >0.0763</td>\n",
       "    </tr>\n",
       "    <tr>\n",
       "      <th id=\"T_6656e_level0_row10\" class=\"row_heading level0 row10\" >Mean</th>\n",
       "      <td id=\"T_6656e_row10_col0\" class=\"data row10 col0\" >0.8119</td>\n",
       "      <td id=\"T_6656e_row10_col1\" class=\"data row10 col1\" >0.6404</td>\n",
       "      <td id=\"T_6656e_row10_col2\" class=\"data row10 col2\" >0.0334</td>\n",
       "      <td id=\"T_6656e_row10_col3\" class=\"data row10 col3\" >0.4052</td>\n",
       "      <td id=\"T_6656e_row10_col4\" class=\"data row10 col4\" >0.0617</td>\n",
       "      <td id=\"T_6656e_row10_col5\" class=\"data row10 col5\" >0.0345</td>\n",
       "      <td id=\"T_6656e_row10_col6\" class=\"data row10 col6\" >0.0705</td>\n",
       "    </tr>\n",
       "    <tr>\n",
       "      <th id=\"T_6656e_level0_row11\" class=\"row_heading level0 row11\" >Std</th>\n",
       "      <td id=\"T_6656e_row11_col0\" class=\"data row11 col0\" >0.0008</td>\n",
       "      <td id=\"T_6656e_row11_col1\" class=\"data row11 col1\" >0.0028</td>\n",
       "      <td id=\"T_6656e_row11_col2\" class=\"data row11 col2\" >0.0031</td>\n",
       "      <td id=\"T_6656e_row11_col3\" class=\"data row11 col3\" >0.0279</td>\n",
       "      <td id=\"T_6656e_row11_col4\" class=\"data row11 col4\" >0.0055</td>\n",
       "      <td id=\"T_6656e_row11_col5\" class=\"data row11 col5\" >0.0048</td>\n",
       "      <td id=\"T_6656e_row11_col6\" class=\"data row11 col6\" >0.0093</td>\n",
       "    </tr>\n",
       "  </tbody>\n",
       "</table>\n"
      ],
      "text/plain": [
       "<pandas.io.formats.style.Styler at 0x7ff8316b0a00>"
      ]
     },
     "metadata": {},
     "output_type": "display_data"
    },
    {
     "data": {
      "text/html": [],
      "text/plain": [
       "<IPython.core.display.HTML object>"
      ]
     },
     "metadata": {},
     "output_type": "display_data"
    },
    {
     "data": {
      "text/html": [],
      "text/plain": [
       "<IPython.core.display.HTML object>"
      ]
     },
     "metadata": {},
     "output_type": "display_data"
    },
    {
     "data": {
      "image/png": "[encoded data removed]",
      "text/plain": [
       "<Figure size 480x330 with 1 Axes>"
      ]
     },
     "metadata": {},
     "output_type": "display_data"
    }
   ],
   "source": [
    "regression_model_ada, regression_model_lightgbm, regression_model_gbc, regression_model_rf = model.common.create_models(train_data, target_column)"
   ]
  },
  {
   "cell_type": "markdown",
   "metadata": {
    "execution": {
     "iopub.execute_input": "2023-06-08T23:08:22.530994Z",
     "iopub.status.busy": "2023-06-08T23:08:22.529719Z",
     "iopub.status.idle": "2023-06-08T23:08:22.542651Z",
     "shell.execute_reply": "2023-06-08T23:08:22.540043Z",
     "shell.execute_reply.started": "2023-06-08T23:08:22.530922Z"
    }
   },
   "source": [
    "**evaluate model**"
   ]
  },
  {
   "cell_type": "markdown",
   "metadata": {},
   "source": [
    "`lightgbm` shows very good AUC of `0.97`, `rf` as well with `1.0` train AUC.\n",
    "\n",
    "`rf` seemed like too overfit with 1.0 train AUC but its test precision as well is the best among others.\n",
    "\n",
    "`ada` shows very low recall thus inpractical.\n"
   ]
  },
  {
   "cell_type": "code",
   "execution_count": 8,
   "metadata": {
    "execution": {
     "iopub.execute_input": "2023-07-08T04:38:55.391970Z",
     "iopub.status.busy": "2023-07-08T04:38:55.391701Z",
     "iopub.status.idle": "2023-07-08T04:39:06.263257Z",
     "shell.execute_reply": "2023-07-08T04:39:06.262405Z",
     "shell.execute_reply.started": "2023-07-08T04:38:55.391948Z"
    }
   },
   "outputs": [
    {
     "data": {
      "text/html": [
       "<style type=\"text/css\">\n",
       "</style>\n",
       "<table id=\"T_b4f4b\">\n",
       "  <thead>\n",
       "    <tr>\n",
       "      <th class=\"blank level0\" >&nbsp;</th>\n",
       "      <th id=\"T_b4f4b_level0_col0\" class=\"col_heading level0 col0\" >Model</th>\n",
       "      <th id=\"T_b4f4b_level0_col1\" class=\"col_heading level0 col1\" >Accuracy</th>\n",
       "      <th id=\"T_b4f4b_level0_col2\" class=\"col_heading level0 col2\" >AUC</th>\n",
       "      <th id=\"T_b4f4b_level0_col3\" class=\"col_heading level0 col3\" >Recall</th>\n",
       "      <th id=\"T_b4f4b_level0_col4\" class=\"col_heading level0 col4\" >Prec.</th>\n",
       "      <th id=\"T_b4f4b_level0_col5\" class=\"col_heading level0 col5\" >F1</th>\n",
       "      <th id=\"T_b4f4b_level0_col6\" class=\"col_heading level0 col6\" >Kappa</th>\n",
       "      <th id=\"T_b4f4b_level0_col7\" class=\"col_heading level0 col7\" >MCC</th>\n",
       "    </tr>\n",
       "  </thead>\n",
       "  <tbody>\n",
       "    <tr>\n",
       "      <th id=\"T_b4f4b_level0_row0\" class=\"row_heading level0 row0\" >0</th>\n",
       "      <td id=\"T_b4f4b_row0_col0\" class=\"data row0 col0\" >Ada Boost Classifier</td>\n",
       "      <td id=\"T_b4f4b_row0_col1\" class=\"data row0 col1\" >0.8145</td>\n",
       "      <td id=\"T_b4f4b_row0_col2\" class=\"data row0 col2\" >0.6611</td>\n",
       "      <td id=\"T_b4f4b_row0_col3\" class=\"data row0 col3\" >0.0095</td>\n",
       "      <td id=\"T_b4f4b_row0_col4\" class=\"data row0 col4\" >0.4700</td>\n",
       "      <td id=\"T_b4f4b_row0_col5\" class=\"data row0 col5\" >0.0186</td>\n",
       "      <td id=\"T_b4f4b_row0_col6\" class=\"data row0 col6\" >0.0114</td>\n",
       "      <td id=\"T_b4f4b_row0_col7\" class=\"data row0 col7\" >0.0449</td>\n",
       "    </tr>\n",
       "  </tbody>\n",
       "</table>\n"
      ],
      "text/plain": [
       "<pandas.io.formats.style.Styler at 0x7ff831f67fd0>"
      ]
     },
     "metadata": {},
     "output_type": "display_data"
    },
    {
     "data": {
      "text/html": [
       "<style type=\"text/css\">\n",
       "</style>\n",
       "<table id=\"T_4991c\">\n",
       "  <thead>\n",
       "    <tr>\n",
       "      <th class=\"blank level0\" >&nbsp;</th>\n",
       "      <th id=\"T_4991c_level0_col0\" class=\"col_heading level0 col0\" >Model</th>\n",
       "      <th id=\"T_4991c_level0_col1\" class=\"col_heading level0 col1\" >Accuracy</th>\n",
       "      <th id=\"T_4991c_level0_col2\" class=\"col_heading level0 col2\" >AUC</th>\n",
       "      <th id=\"T_4991c_level0_col3\" class=\"col_heading level0 col3\" >Recall</th>\n",
       "      <th id=\"T_4991c_level0_col4\" class=\"col_heading level0 col4\" >Prec.</th>\n",
       "      <th id=\"T_4991c_level0_col5\" class=\"col_heading level0 col5\" >F1</th>\n",
       "      <th id=\"T_4991c_level0_col6\" class=\"col_heading level0 col6\" >Kappa</th>\n",
       "      <th id=\"T_4991c_level0_col7\" class=\"col_heading level0 col7\" >MCC</th>\n",
       "    </tr>\n",
       "  </thead>\n",
       "  <tbody>\n",
       "    <tr>\n",
       "      <th id=\"T_4991c_level0_row0\" class=\"row_heading level0 row0\" >0</th>\n",
       "      <td id=\"T_4991c_row0_col0\" class=\"data row0 col0\" >Gradient Boosting Classifier</td>\n",
       "      <td id=\"T_4991c_row0_col1\" class=\"data row0 col1\" >0.8154</td>\n",
       "      <td id=\"T_4991c_row0_col2\" class=\"data row0 col2\" >0.6695</td>\n",
       "      <td id=\"T_4991c_row0_col3\" class=\"data row0 col3\" >0.0095</td>\n",
       "      <td id=\"T_4991c_row0_col4\" class=\"data row0 col4\" >0.6010</td>\n",
       "      <td id=\"T_4991c_row0_col5\" class=\"data row0 col5\" >0.0188</td>\n",
       "      <td id=\"T_4991c_row0_col6\" class=\"data row0 col6\" >0.0130</td>\n",
       "      <td id=\"T_4991c_row0_col7\" class=\"data row0 col7\" >0.0581</td>\n",
       "    </tr>\n",
       "  </tbody>\n",
       "</table>\n"
      ],
      "text/plain": [
       "<pandas.io.formats.style.Styler at 0x7ff831fbdf30>"
      ]
     },
     "metadata": {},
     "output_type": "display_data"
    },
    {
     "data": {
      "text/html": [
       "<style type=\"text/css\">\n",
       "</style>\n",
       "<table id=\"T_485b2\">\n",
       "  <thead>\n",
       "    <tr>\n",
       "      <th class=\"blank level0\" >&nbsp;</th>\n",
       "      <th id=\"T_485b2_level0_col0\" class=\"col_heading level0 col0\" >Model</th>\n",
       "      <th id=\"T_485b2_level0_col1\" class=\"col_heading level0 col1\" >Accuracy</th>\n",
       "      <th id=\"T_485b2_level0_col2\" class=\"col_heading level0 col2\" >AUC</th>\n",
       "      <th id=\"T_485b2_level0_col3\" class=\"col_heading level0 col3\" >Recall</th>\n",
       "      <th id=\"T_485b2_level0_col4\" class=\"col_heading level0 col4\" >Prec.</th>\n",
       "      <th id=\"T_485b2_level0_col5\" class=\"col_heading level0 col5\" >F1</th>\n",
       "      <th id=\"T_485b2_level0_col6\" class=\"col_heading level0 col6\" >Kappa</th>\n",
       "      <th id=\"T_485b2_level0_col7\" class=\"col_heading level0 col7\" >MCC</th>\n",
       "    </tr>\n",
       "  </thead>\n",
       "  <tbody>\n",
       "    <tr>\n",
       "      <th id=\"T_485b2_level0_row0\" class=\"row_heading level0 row0\" >0</th>\n",
       "      <td id=\"T_485b2_row0_col0\" class=\"data row0 col0\" >Light Gradient Boosting Machine</td>\n",
       "      <td id=\"T_485b2_row0_col1\" class=\"data row0 col1\" >0.8163</td>\n",
       "      <td id=\"T_485b2_row0_col2\" class=\"data row0 col2\" >0.6885</td>\n",
       "      <td id=\"T_485b2_row0_col3\" class=\"data row0 col3\" >0.0155</td>\n",
       "      <td id=\"T_485b2_row0_col4\" class=\"data row0 col4\" >0.6763</td>\n",
       "      <td id=\"T_485b2_row0_col5\" class=\"data row0 col5\" >0.0303</td>\n",
       "      <td id=\"T_485b2_row0_col6\" class=\"data row0 col6\" >0.0221</td>\n",
       "      <td id=\"T_485b2_row0_col7\" class=\"data row0 col7\" >0.0825</td>\n",
       "    </tr>\n",
       "  </tbody>\n",
       "</table>\n"
      ],
      "text/plain": [
       "<pandas.io.formats.style.Styler at 0x7ff831fbe4a0>"
      ]
     },
     "metadata": {},
     "output_type": "display_data"
    },
    {
     "data": {
      "text/html": [
       "<style type=\"text/css\">\n",
       "</style>\n",
       "<table id=\"T_675f7\">\n",
       "  <thead>\n",
       "    <tr>\n",
       "      <th class=\"blank level0\" >&nbsp;</th>\n",
       "      <th id=\"T_675f7_level0_col0\" class=\"col_heading level0 col0\" >Model</th>\n",
       "      <th id=\"T_675f7_level0_col1\" class=\"col_heading level0 col1\" >Accuracy</th>\n",
       "      <th id=\"T_675f7_level0_col2\" class=\"col_heading level0 col2\" >AUC</th>\n",
       "      <th id=\"T_675f7_level0_col3\" class=\"col_heading level0 col3\" >Recall</th>\n",
       "      <th id=\"T_675f7_level0_col4\" class=\"col_heading level0 col4\" >Prec.</th>\n",
       "      <th id=\"T_675f7_level0_col5\" class=\"col_heading level0 col5\" >F1</th>\n",
       "      <th id=\"T_675f7_level0_col6\" class=\"col_heading level0 col6\" >Kappa</th>\n",
       "      <th id=\"T_675f7_level0_col7\" class=\"col_heading level0 col7\" >MCC</th>\n",
       "    </tr>\n",
       "  </thead>\n",
       "  <tbody>\n",
       "    <tr>\n",
       "      <th id=\"T_675f7_level0_row0\" class=\"row_heading level0 row0\" >0</th>\n",
       "      <td id=\"T_675f7_row0_col0\" class=\"data row0 col0\" >Random Forest Classifier</td>\n",
       "      <td id=\"T_675f7_row0_col1\" class=\"data row0 col1\" >0.9437</td>\n",
       "      <td id=\"T_675f7_row0_col2\" class=\"data row0 col2\" >0.9551</td>\n",
       "      <td id=\"T_675f7_row0_col3\" class=\"data row0 col3\" >0.7101</td>\n",
       "      <td id=\"T_675f7_row0_col4\" class=\"data row0 col4\" >0.9805</td>\n",
       "      <td id=\"T_675f7_row0_col5\" class=\"data row0 col5\" >0.8237</td>\n",
       "      <td id=\"T_675f7_row0_col6\" class=\"data row0 col6\" >0.7912</td>\n",
       "      <td id=\"T_675f7_row0_col7\" class=\"data row0 col7\" >0.8058</td>\n",
       "    </tr>\n",
       "  </tbody>\n",
       "</table>\n"
      ],
      "text/plain": [
       "<pandas.io.formats.style.Styler at 0x7ff8305769b0>"
      ]
     },
     "metadata": {},
     "output_type": "display_data"
    }
   ],
   "source": [
    "train_prediction_ada, train_prediction_gbc, train_prediction_lightgbm, train_prediction_rf = model.common.batch_predict_and_odds(train_data, [regression_model_ada, regression_model_gbc, regression_model_lightgbm, regression_model_rf])"
   ]
  },
  {
   "cell_type": "code",
   "execution_count": 9,
   "metadata": {
    "execution": {
     "iopub.execute_input": "2023-07-08T04:39:06.264328Z",
     "iopub.status.busy": "2023-07-08T04:39:06.264092Z",
     "iopub.status.idle": "2023-07-08T04:39:06.455778Z",
     "shell.execute_reply": "2023-07-08T04:39:06.454994Z",
     "shell.execute_reply.started": "2023-07-08T04:39:06.264305Z"
    }
   },
   "outputs": [
    {
     "data": {
      "text/html": [
       "<table>\n",
       "<tbody>\n",
       "<tr><td>model   </td><td>0.6        </td><td>0.7       </td><td>0.75     </td><td>0.8      </td></tr>\n",
       "<tr><td>ada     </td><td>(0, nan)   </td><td>(0, nan)  </td><td>(0, nan) </td><td>(0, nan) </td></tr>\n",
       "<tr><td>gbc     </td><td>(0, nan)   </td><td>(0, nan)  </td><td>(0, nan) </td><td>(0, nan) </td></tr>\n",
       "<tr><td>lightgbm</td><td>(1, 1.0)   </td><td>(0, nan)  </td><td>(0, nan) </td><td>(0, nan) </td></tr>\n",
       "<tr><td>rf      </td><td>(198, 0.99)</td><td>(136, 1.0)</td><td>(68, 1.0)</td><td>(21, 1.0)</td></tr>\n",
       "</tbody>\n",
       "</table>"
      ],
      "text/plain": [
       "'<table>\\n<tbody>\\n<tr><td>model   </td><td>0.6        </td><td>0.7       </td><td>0.75     </td><td>0.8      </td></tr>\\n<tr><td>ada     </td><td>(0, nan)   </td><td>(0, nan)  </td><td>(0, nan) </td><td>(0, nan) </td></tr>\\n<tr><td>gbc     </td><td>(0, nan)   </td><td>(0, nan)  </td><td>(0, nan) </td><td>(0, nan) </td></tr>\\n<tr><td>lightgbm</td><td>(1, 1.0)   </td><td>(0, nan)  </td><td>(0, nan) </td><td>(0, nan) </td></tr>\\n<tr><td>rf      </td><td>(198, 0.99)</td><td>(136, 1.0)</td><td>(68, 1.0)</td><td>(21, 1.0)</td></tr>\\n</tbody>\\n</table>'"
      ]
     },
     "execution_count": 9,
     "metadata": {},
     "output_type": "execute_result"
    }
   ],
   "source": [
    "model.common.evaluate_predictions([(train_prediction_ada, \"ada\"), (train_prediction_gbc, \"gbc\"), (train_prediction_lightgbm, \"lightgbm\"), (train_prediction_rf, \"rf\")], [0.6, 0.7, 0.75, 0.8], target_column)"
   ]
  },
  {
   "cell_type": "markdown",
   "metadata": {
    "execution": {
     "iopub.execute_input": "2023-06-07T00:40:23.948013Z",
     "iopub.status.busy": "2023-06-07T00:40:23.947407Z",
     "iopub.status.idle": "2023-06-07T00:40:23.953130Z",
     "shell.execute_reply": "2023-06-07T00:40:23.952520Z",
     "shell.execute_reply.started": "2023-06-07T00:40:23.947955Z"
    }
   },
   "source": [
    "**test prediction**"
   ]
  },
  {
   "cell_type": "code",
   "execution_count": 10,
   "metadata": {
    "execution": {
     "iopub.execute_input": "2023-07-08T04:39:06.456655Z",
     "iopub.status.busy": "2023-07-08T04:39:06.456470Z",
     "iopub.status.idle": "2023-07-08T04:39:07.609926Z",
     "shell.execute_reply": "2023-07-08T04:39:07.608836Z",
     "shell.execute_reply.started": "2023-07-08T04:39:06.456640Z"
    }
   },
   "outputs": [
    {
     "data": {
      "text/html": [
       "<style type=\"text/css\">\n",
       "</style>\n",
       "<table id=\"T_5400c\">\n",
       "  <thead>\n",
       "    <tr>\n",
       "      <th class=\"blank level0\" >&nbsp;</th>\n",
       "      <th id=\"T_5400c_level0_col0\" class=\"col_heading level0 col0\" >Model</th>\n",
       "      <th id=\"T_5400c_level0_col1\" class=\"col_heading level0 col1\" >Accuracy</th>\n",
       "      <th id=\"T_5400c_level0_col2\" class=\"col_heading level0 col2\" >AUC</th>\n",
       "      <th id=\"T_5400c_level0_col3\" class=\"col_heading level0 col3\" >Recall</th>\n",
       "      <th id=\"T_5400c_level0_col4\" class=\"col_heading level0 col4\" >Prec.</th>\n",
       "      <th id=\"T_5400c_level0_col5\" class=\"col_heading level0 col5\" >F1</th>\n",
       "      <th id=\"T_5400c_level0_col6\" class=\"col_heading level0 col6\" >Kappa</th>\n",
       "      <th id=\"T_5400c_level0_col7\" class=\"col_heading level0 col7\" >MCC</th>\n",
       "    </tr>\n",
       "  </thead>\n",
       "  <tbody>\n",
       "    <tr>\n",
       "      <th id=\"T_5400c_level0_row0\" class=\"row_heading level0 row0\" >0</th>\n",
       "      <td id=\"T_5400c_row0_col0\" class=\"data row0 col0\" >Ada Boost Classifier</td>\n",
       "      <td id=\"T_5400c_row0_col1\" class=\"data row0 col1\" >0.7904</td>\n",
       "      <td id=\"T_5400c_row0_col2\" class=\"data row0 col2\" >0.6372</td>\n",
       "      <td id=\"T_5400c_row0_col3\" class=\"data row0 col3\" >0.0087</td>\n",
       "      <td id=\"T_5400c_row0_col4\" class=\"data row0 col4\" >0.4833</td>\n",
       "      <td id=\"T_5400c_row0_col5\" class=\"data row0 col5\" >0.0170</td>\n",
       "      <td id=\"T_5400c_row0_col6\" class=\"data row0 col6\" >0.0097</td>\n",
       "      <td id=\"T_5400c_row0_col7\" class=\"data row0 col7\" >0.0413</td>\n",
       "    </tr>\n",
       "  </tbody>\n",
       "</table>\n"
      ],
      "text/plain": [
       "<pandas.io.formats.style.Styler at 0x7ff832c98ee0>"
      ]
     },
     "metadata": {},
     "output_type": "display_data"
    },
    {
     "data": {
      "text/html": [
       "<style type=\"text/css\">\n",
       "</style>\n",
       "<table id=\"T_982dd\">\n",
       "  <thead>\n",
       "    <tr>\n",
       "      <th class=\"blank level0\" >&nbsp;</th>\n",
       "      <th id=\"T_982dd_level0_col0\" class=\"col_heading level0 col0\" >Model</th>\n",
       "      <th id=\"T_982dd_level0_col1\" class=\"col_heading level0 col1\" >Accuracy</th>\n",
       "      <th id=\"T_982dd_level0_col2\" class=\"col_heading level0 col2\" >AUC</th>\n",
       "      <th id=\"T_982dd_level0_col3\" class=\"col_heading level0 col3\" >Recall</th>\n",
       "      <th id=\"T_982dd_level0_col4\" class=\"col_heading level0 col4\" >Prec.</th>\n",
       "      <th id=\"T_982dd_level0_col5\" class=\"col_heading level0 col5\" >F1</th>\n",
       "      <th id=\"T_982dd_level0_col6\" class=\"col_heading level0 col6\" >Kappa</th>\n",
       "      <th id=\"T_982dd_level0_col7\" class=\"col_heading level0 col7\" >MCC</th>\n",
       "    </tr>\n",
       "  </thead>\n",
       "  <tbody>\n",
       "    <tr>\n",
       "      <th id=\"T_982dd_level0_row0\" class=\"row_heading level0 row0\" >0</th>\n",
       "      <td id=\"T_982dd_row0_col0\" class=\"data row0 col0\" >Gradient Boosting Classifier</td>\n",
       "      <td id=\"T_982dd_row0_col1\" class=\"data row0 col1\" >0.7909</td>\n",
       "      <td id=\"T_982dd_row0_col2\" class=\"data row0 col2\" >0.6424</td>\n",
       "      <td id=\"T_982dd_row0_col3\" class=\"data row0 col3\" >0.0098</td>\n",
       "      <td id=\"T_982dd_row0_col4\" class=\"data row0 col4\" >0.5500</td>\n",
       "      <td id=\"T_982dd_row0_col5\" class=\"data row0 col5\" >0.0193</td>\n",
       "      <td id=\"T_982dd_row0_col6\" class=\"data row0 col6\" >0.0121</td>\n",
       "      <td id=\"T_982dd_row0_col7\" class=\"data row0 col7\" >0.0513</td>\n",
       "    </tr>\n",
       "  </tbody>\n",
       "</table>\n"
      ],
      "text/plain": [
       "<pandas.io.formats.style.Styler at 0x7ff8304ee410>"
      ]
     },
     "metadata": {},
     "output_type": "display_data"
    },
    {
     "data": {
      "text/html": [
       "<style type=\"text/css\">\n",
       "</style>\n",
       "<table id=\"T_63652\">\n",
       "  <thead>\n",
       "    <tr>\n",
       "      <th class=\"blank level0\" >&nbsp;</th>\n",
       "      <th id=\"T_63652_level0_col0\" class=\"col_heading level0 col0\" >Model</th>\n",
       "      <th id=\"T_63652_level0_col1\" class=\"col_heading level0 col1\" >Accuracy</th>\n",
       "      <th id=\"T_63652_level0_col2\" class=\"col_heading level0 col2\" >AUC</th>\n",
       "      <th id=\"T_63652_level0_col3\" class=\"col_heading level0 col3\" >Recall</th>\n",
       "      <th id=\"T_63652_level0_col4\" class=\"col_heading level0 col4\" >Prec.</th>\n",
       "      <th id=\"T_63652_level0_col5\" class=\"col_heading level0 col5\" >F1</th>\n",
       "      <th id=\"T_63652_level0_col6\" class=\"col_heading level0 col6\" >Kappa</th>\n",
       "      <th id=\"T_63652_level0_col7\" class=\"col_heading level0 col7\" >MCC</th>\n",
       "    </tr>\n",
       "  </thead>\n",
       "  <tbody>\n",
       "    <tr>\n",
       "      <th id=\"T_63652_level0_row0\" class=\"row_heading level0 row0\" >0</th>\n",
       "      <td id=\"T_63652_row0_col0\" class=\"data row0 col0\" >Light Gradient Boosting Machine</td>\n",
       "      <td id=\"T_63652_row0_col1\" class=\"data row0 col1\" >0.7915</td>\n",
       "      <td id=\"T_63652_row0_col2\" class=\"data row0 col2\" >0.6417</td>\n",
       "      <td id=\"T_63652_row0_col3\" class=\"data row0 col3\" >0.0119</td>\n",
       "      <td id=\"T_63652_row0_col4\" class=\"data row0 col4\" >0.6154</td>\n",
       "      <td id=\"T_63652_row0_col5\" class=\"data row0 col5\" >0.0234</td>\n",
       "      <td id=\"T_63652_row0_col6\" class=\"data row0 col6\" >0.0156</td>\n",
       "      <td id=\"T_63652_row0_col7\" class=\"data row0 col7\" >0.0637</td>\n",
       "    </tr>\n",
       "  </tbody>\n",
       "</table>\n"
      ],
      "text/plain": [
       "<pandas.io.formats.style.Styler at 0x7ff8304efaf0>"
      ]
     },
     "metadata": {},
     "output_type": "display_data"
    },
    {
     "data": {
      "text/html": [
       "<style type=\"text/css\">\n",
       "</style>\n",
       "<table id=\"T_19900\">\n",
       "  <thead>\n",
       "    <tr>\n",
       "      <th class=\"blank level0\" >&nbsp;</th>\n",
       "      <th id=\"T_19900_level0_col0\" class=\"col_heading level0 col0\" >Model</th>\n",
       "      <th id=\"T_19900_level0_col1\" class=\"col_heading level0 col1\" >Accuracy</th>\n",
       "      <th id=\"T_19900_level0_col2\" class=\"col_heading level0 col2\" >AUC</th>\n",
       "      <th id=\"T_19900_level0_col3\" class=\"col_heading level0 col3\" >Recall</th>\n",
       "      <th id=\"T_19900_level0_col4\" class=\"col_heading level0 col4\" >Prec.</th>\n",
       "      <th id=\"T_19900_level0_col5\" class=\"col_heading level0 col5\" >F1</th>\n",
       "      <th id=\"T_19900_level0_col6\" class=\"col_heading level0 col6\" >Kappa</th>\n",
       "      <th id=\"T_19900_level0_col7\" class=\"col_heading level0 col7\" >MCC</th>\n",
       "    </tr>\n",
       "  </thead>\n",
       "  <tbody>\n",
       "    <tr>\n",
       "      <th id=\"T_19900_level0_row0\" class=\"row_heading level0 row0\" >0</th>\n",
       "      <td id=\"T_19900_row0_col0\" class=\"data row0 col0\" >Random Forest Classifier</td>\n",
       "      <td id=\"T_19900_row0_col1\" class=\"data row0 col1\" >0.7900</td>\n",
       "      <td id=\"T_19900_row0_col2\" class=\"data row0 col2\" >0.6132</td>\n",
       "      <td id=\"T_19900_row0_col3\" class=\"data row0 col3\" >0.0146</td>\n",
       "      <td id=\"T_19900_row0_col4\" class=\"data row0 col4\" >0.4579</td>\n",
       "      <td id=\"T_19900_row0_col5\" class=\"data row0 col5\" >0.0283</td>\n",
       "      <td id=\"T_19900_row0_col6\" class=\"data row0 col6\" >0.0156</td>\n",
       "      <td id=\"T_19900_row0_col7\" class=\"data row0 col7\" >0.0501</td>\n",
       "    </tr>\n",
       "  </tbody>\n",
       "</table>\n"
      ],
      "text/plain": [
       "<pandas.io.formats.style.Styler at 0x7ff8305e83d0>"
      ]
     },
     "metadata": {},
     "output_type": "display_data"
    }
   ],
   "source": [
    "test_prediction_ada, test_prediction_gbc, test_prediction_lightgbm, test_prediction_rf = model.common.batch_predict_and_odds(test_data, [regression_model_ada, regression_model_gbc, regression_model_lightgbm, regression_model_rf])"
   ]
  },
  {
   "cell_type": "code",
   "execution_count": 11,
   "metadata": {
    "execution": {
     "iopub.execute_input": "2023-07-08T04:39:07.611007Z",
     "iopub.status.busy": "2023-07-08T04:39:07.610782Z",
     "iopub.status.idle": "2023-07-08T04:39:07.655111Z",
     "shell.execute_reply": "2023-07-08T04:39:07.654459Z",
     "shell.execute_reply.started": "2023-07-08T04:39:07.610989Z"
    }
   },
   "outputs": [
    {
     "data": {
      "text/html": [
       "<table>\n",
       "<tbody>\n",
       "<tr><td>model   </td><td>0.6     </td><td>0.7     </td><td>0.75    </td><td>0.8     </td><td>0.85    </td></tr>\n",
       "<tr><td>ada     </td><td>(0, nan)</td><td>(0, nan)</td><td>(0, nan)</td><td>(0, nan)</td><td>(0, nan)</td></tr>\n",
       "<tr><td>gbc     </td><td>(0, nan)</td><td>(0, nan)</td><td>(0, nan)</td><td>(0, nan)</td><td>(0, nan)</td></tr>\n",
       "<tr><td>lightgbm</td><td>(0, nan)</td><td>(0, nan)</td><td>(0, nan)</td><td>(0, nan)</td><td>(0, nan)</td></tr>\n",
       "<tr><td>rf      </td><td>(0, nan)</td><td>(0, nan)</td><td>(0, nan)</td><td>(0, nan)</td><td>(0, nan)</td></tr>\n",
       "</tbody>\n",
       "</table>"
      ],
      "text/plain": [
       "'<table>\\n<tbody>\\n<tr><td>model   </td><td>0.6     </td><td>0.7     </td><td>0.75    </td><td>0.8     </td><td>0.85    </td></tr>\\n<tr><td>ada     </td><td>(0, nan)</td><td>(0, nan)</td><td>(0, nan)</td><td>(0, nan)</td><td>(0, nan)</td></tr>\\n<tr><td>gbc     </td><td>(0, nan)</td><td>(0, nan)</td><td>(0, nan)</td><td>(0, nan)</td><td>(0, nan)</td></tr>\\n<tr><td>lightgbm</td><td>(0, nan)</td><td>(0, nan)</td><td>(0, nan)</td><td>(0, nan)</td><td>(0, nan)</td></tr>\\n<tr><td>rf      </td><td>(0, nan)</td><td>(0, nan)</td><td>(0, nan)</td><td>(0, nan)</td><td>(0, nan)</td></tr>\\n</tbody>\\n</table>'"
      ]
     },
     "execution_count": 11,
     "metadata": {},
     "output_type": "execute_result"
    }
   ],
   "source": [
    "model.common.evaluate_predictions([(test_prediction_ada, \"ada\"), (test_prediction_gbc, \"gbc\"), (test_prediction_lightgbm, \"lightgbm\"), (test_prediction_rf, \"rf\")], [0.6, 0.7, 0.75, 0.8, 0.85], target_column)"
   ]
  },
  {
   "cell_type": "markdown",
   "metadata": {
    "id": "sOfz0zBX994h"
   },
   "source": [
    "**Finalize Model**"
   ]
  },
  {
   "cell_type": "code",
   "execution_count": 12,
   "metadata": {
    "colab": {
     "base_uri": "https://localhost:8080/",
     "height": 34
    },
    "execution": {
     "iopub.execute_input": "2023-07-08T04:39:07.655865Z",
     "iopub.status.busy": "2023-07-08T04:39:07.655700Z",
     "iopub.status.idle": "2023-07-08T04:40:40.821103Z",
     "shell.execute_reply": "2023-07-08T04:40:40.820088Z",
     "shell.execute_reply.started": "2023-07-08T04:39:07.655851Z"
    },
    "id": "gutfxdh8-DKy",
    "outputId": "2e862724-33f5-45f0-ed52-aade46f98c7d"
   },
   "outputs": [],
   "source": [
    "# train over the whole dataset without validation split\n",
    "regression_model_finalized_ada = pycaret.classification.finalize_model(regression_model_ada)\n",
    "regression_model_finalized_gbc = pycaret.classification.finalize_model(regression_model_gbc)\n",
    "regression_model_finalized_lightgbm = pycaret.classification.finalize_model(regression_model_lightgbm)\n",
    "regression_model_finalized_rf = pycaret.classification.finalize_model(regression_model_rf)"
   ]
  },
  {
   "cell_type": "code",
   "execution_count": 13,
   "metadata": {
    "execution": {
     "iopub.execute_input": "2023-07-08T04:40:40.822087Z",
     "iopub.status.busy": "2023-07-08T04:40:40.821948Z",
     "iopub.status.idle": "2023-07-08T04:40:41.916379Z",
     "shell.execute_reply": "2023-07-08T04:40:41.915425Z",
     "shell.execute_reply.started": "2023-07-08T04:40:40.822076Z"
    }
   },
   "outputs": [
    {
     "data": {
      "text/html": [
       "<style type=\"text/css\">\n",
       "</style>\n",
       "<table id=\"T_9b0f8\">\n",
       "  <thead>\n",
       "    <tr>\n",
       "      <th class=\"blank level0\" >&nbsp;</th>\n",
       "      <th id=\"T_9b0f8_level0_col0\" class=\"col_heading level0 col0\" >Model</th>\n",
       "      <th id=\"T_9b0f8_level0_col1\" class=\"col_heading level0 col1\" >Accuracy</th>\n",
       "      <th id=\"T_9b0f8_level0_col2\" class=\"col_heading level0 col2\" >AUC</th>\n",
       "      <th id=\"T_9b0f8_level0_col3\" class=\"col_heading level0 col3\" >Recall</th>\n",
       "      <th id=\"T_9b0f8_level0_col4\" class=\"col_heading level0 col4\" >Prec.</th>\n",
       "      <th id=\"T_9b0f8_level0_col5\" class=\"col_heading level0 col5\" >F1</th>\n",
       "      <th id=\"T_9b0f8_level0_col6\" class=\"col_heading level0 col6\" >Kappa</th>\n",
       "      <th id=\"T_9b0f8_level0_col7\" class=\"col_heading level0 col7\" >MCC</th>\n",
       "    </tr>\n",
       "  </thead>\n",
       "  <tbody>\n",
       "    <tr>\n",
       "      <th id=\"T_9b0f8_level0_row0\" class=\"row_heading level0 row0\" >0</th>\n",
       "      <td id=\"T_9b0f8_row0_col0\" class=\"data row0 col0\" >Ada Boost Classifier</td>\n",
       "      <td id=\"T_9b0f8_row0_col1\" class=\"data row0 col1\" >0.7898</td>\n",
       "      <td id=\"T_9b0f8_row0_col2\" class=\"data row0 col2\" >0.6359</td>\n",
       "      <td id=\"T_9b0f8_row0_col3\" class=\"data row0 col3\" >0.0081</td>\n",
       "      <td id=\"T_9b0f8_row0_col4\" class=\"data row0 col4\" >0.4154</td>\n",
       "      <td id=\"T_9b0f8_row0_col5\" class=\"data row0 col5\" >0.0158</td>\n",
       "      <td id=\"T_9b0f8_row0_col6\" class=\"data row0 col6\" >0.0079</td>\n",
       "      <td id=\"T_9b0f8_row0_col7\" class=\"data row0 col7\" >0.0323</td>\n",
       "    </tr>\n",
       "  </tbody>\n",
       "</table>\n"
      ],
      "text/plain": [
       "<pandas.io.formats.style.Styler at 0x7ff8304ec970>"
      ]
     },
     "metadata": {},
     "output_type": "display_data"
    },
    {
     "data": {
      "text/html": [
       "<style type=\"text/css\">\n",
       "</style>\n",
       "<table id=\"T_53e6f\">\n",
       "  <thead>\n",
       "    <tr>\n",
       "      <th class=\"blank level0\" >&nbsp;</th>\n",
       "      <th id=\"T_53e6f_level0_col0\" class=\"col_heading level0 col0\" >Model</th>\n",
       "      <th id=\"T_53e6f_level0_col1\" class=\"col_heading level0 col1\" >Accuracy</th>\n",
       "      <th id=\"T_53e6f_level0_col2\" class=\"col_heading level0 col2\" >AUC</th>\n",
       "      <th id=\"T_53e6f_level0_col3\" class=\"col_heading level0 col3\" >Recall</th>\n",
       "      <th id=\"T_53e6f_level0_col4\" class=\"col_heading level0 col4\" >Prec.</th>\n",
       "      <th id=\"T_53e6f_level0_col5\" class=\"col_heading level0 col5\" >F1</th>\n",
       "      <th id=\"T_53e6f_level0_col6\" class=\"col_heading level0 col6\" >Kappa</th>\n",
       "      <th id=\"T_53e6f_level0_col7\" class=\"col_heading level0 col7\" >MCC</th>\n",
       "    </tr>\n",
       "  </thead>\n",
       "  <tbody>\n",
       "    <tr>\n",
       "      <th id=\"T_53e6f_level0_row0\" class=\"row_heading level0 row0\" >0</th>\n",
       "      <td id=\"T_53e6f_row0_col0\" class=\"data row0 col0\" >Gradient Boosting Classifier</td>\n",
       "      <td id=\"T_53e6f_row0_col1\" class=\"data row0 col1\" >0.7913</td>\n",
       "      <td id=\"T_53e6f_row0_col2\" class=\"data row0 col2\" >0.6425</td>\n",
       "      <td id=\"T_53e6f_row0_col3\" class=\"data row0 col3\" >0.0078</td>\n",
       "      <td id=\"T_53e6f_row0_col4\" class=\"data row0 col4\" >0.6500</td>\n",
       "      <td id=\"T_53e6f_row0_col5\" class=\"data row0 col5\" >0.0153</td>\n",
       "      <td id=\"T_53e6f_row0_col6\" class=\"data row0 col6\" >0.0104</td>\n",
       "      <td id=\"T_53e6f_row0_col7\" class=\"data row0 col7\" >0.0542</td>\n",
       "    </tr>\n",
       "  </tbody>\n",
       "</table>\n"
      ],
      "text/plain": [
       "<pandas.io.formats.style.Styler at 0x7ff8317b6d10>"
      ]
     },
     "metadata": {},
     "output_type": "display_data"
    },
    {
     "data": {
      "text/html": [
       "<style type=\"text/css\">\n",
       "</style>\n",
       "<table id=\"T_86bc9\">\n",
       "  <thead>\n",
       "    <tr>\n",
       "      <th class=\"blank level0\" >&nbsp;</th>\n",
       "      <th id=\"T_86bc9_level0_col0\" class=\"col_heading level0 col0\" >Model</th>\n",
       "      <th id=\"T_86bc9_level0_col1\" class=\"col_heading level0 col1\" >Accuracy</th>\n",
       "      <th id=\"T_86bc9_level0_col2\" class=\"col_heading level0 col2\" >AUC</th>\n",
       "      <th id=\"T_86bc9_level0_col3\" class=\"col_heading level0 col3\" >Recall</th>\n",
       "      <th id=\"T_86bc9_level0_col4\" class=\"col_heading level0 col4\" >Prec.</th>\n",
       "      <th id=\"T_86bc9_level0_col5\" class=\"col_heading level0 col5\" >F1</th>\n",
       "      <th id=\"T_86bc9_level0_col6\" class=\"col_heading level0 col6\" >Kappa</th>\n",
       "      <th id=\"T_86bc9_level0_col7\" class=\"col_heading level0 col7\" >MCC</th>\n",
       "    </tr>\n",
       "  </thead>\n",
       "  <tbody>\n",
       "    <tr>\n",
       "      <th id=\"T_86bc9_level0_row0\" class=\"row_heading level0 row0\" >0</th>\n",
       "      <td id=\"T_86bc9_row0_col0\" class=\"data row0 col0\" >Light Gradient Boosting Machine</td>\n",
       "      <td id=\"T_86bc9_row0_col1\" class=\"data row0 col1\" >0.7908</td>\n",
       "      <td id=\"T_86bc9_row0_col2\" class=\"data row0 col2\" >0.6407</td>\n",
       "      <td id=\"T_86bc9_row0_col3\" class=\"data row0 col3\" >0.0089</td>\n",
       "      <td id=\"T_86bc9_row0_col4\" class=\"data row0 col4\" >0.5455</td>\n",
       "      <td id=\"T_86bc9_row0_col5\" class=\"data row0 col5\" >0.0176</td>\n",
       "      <td id=\"T_86bc9_row0_col6\" class=\"data row0 col6\" >0.0109</td>\n",
       "      <td id=\"T_86bc9_row0_col7\" class=\"data row0 col7\" >0.0485</td>\n",
       "    </tr>\n",
       "  </tbody>\n",
       "</table>\n"
      ],
      "text/plain": [
       "<pandas.io.formats.style.Styler at 0x7ff8317b45e0>"
      ]
     },
     "metadata": {},
     "output_type": "display_data"
    },
    {
     "data": {
      "text/html": [
       "<style type=\"text/css\">\n",
       "</style>\n",
       "<table id=\"T_9d591\">\n",
       "  <thead>\n",
       "    <tr>\n",
       "      <th class=\"blank level0\" >&nbsp;</th>\n",
       "      <th id=\"T_9d591_level0_col0\" class=\"col_heading level0 col0\" >Model</th>\n",
       "      <th id=\"T_9d591_level0_col1\" class=\"col_heading level0 col1\" >Accuracy</th>\n",
       "      <th id=\"T_9d591_level0_col2\" class=\"col_heading level0 col2\" >AUC</th>\n",
       "      <th id=\"T_9d591_level0_col3\" class=\"col_heading level0 col3\" >Recall</th>\n",
       "      <th id=\"T_9d591_level0_col4\" class=\"col_heading level0 col4\" >Prec.</th>\n",
       "      <th id=\"T_9d591_level0_col5\" class=\"col_heading level0 col5\" >F1</th>\n",
       "      <th id=\"T_9d591_level0_col6\" class=\"col_heading level0 col6\" >Kappa</th>\n",
       "      <th id=\"T_9d591_level0_col7\" class=\"col_heading level0 col7\" >MCC</th>\n",
       "    </tr>\n",
       "  </thead>\n",
       "  <tbody>\n",
       "    <tr>\n",
       "      <th id=\"T_9d591_level0_row0\" class=\"row_heading level0 row0\" >0</th>\n",
       "      <td id=\"T_9d591_row0_col0\" class=\"data row0 col0\" >Random Forest Classifier</td>\n",
       "      <td id=\"T_9d591_row0_col1\" class=\"data row0 col1\" >0.7893</td>\n",
       "      <td id=\"T_9d591_row0_col2\" class=\"data row0 col2\" >0.6156</td>\n",
       "      <td id=\"T_9d591_row0_col3\" class=\"data row0 col3\" >0.0188</td>\n",
       "      <td id=\"T_9d591_row0_col4\" class=\"data row0 col4\" >0.4315</td>\n",
       "      <td id=\"T_9d591_row0_col5\" class=\"data row0 col5\" >0.0360</td>\n",
       "      <td id=\"T_9d591_row0_col6\" class=\"data row0 col6\" >0.0189</td>\n",
       "      <td id=\"T_9d591_row0_col7\" class=\"data row0 col7\" >0.0524</td>\n",
       "    </tr>\n",
       "  </tbody>\n",
       "</table>\n"
      ],
      "text/plain": [
       "<pandas.io.formats.style.Styler at 0x7ff8316b1cc0>"
      ]
     },
     "metadata": {},
     "output_type": "display_data"
    }
   ],
   "source": [
    "test_finalized_prediction_ada, test_finalized_prediction_gbc, test_finalized_prediction_lightgbm, test_finalized_prediction_rf = model.common.batch_predict_and_odds(\n",
    "    test_data, \n",
    "    [regression_model_finalized_ada, regression_model_finalized_gbc, regression_model_finalized_lightgbm, regression_model_finalized_rf])"
   ]
  },
  {
   "cell_type": "code",
   "execution_count": 14,
   "metadata": {
    "execution": {
     "iopub.execute_input": "2023-07-08T04:40:41.918484Z",
     "iopub.status.busy": "2023-07-08T04:40:41.918204Z",
     "iopub.status.idle": "2023-07-08T04:40:41.959282Z",
     "shell.execute_reply": "2023-07-08T04:40:41.958404Z",
     "shell.execute_reply.started": "2023-07-08T04:40:41.918464Z"
    }
   },
   "outputs": [
    {
     "data": {
      "text/html": [
       "<table>\n",
       "<tbody>\n",
       "<tr><td>model   </td><td>0.6     </td><td>0.7     </td><td>0.75    </td><td>0.8     </td><td>0.85    </td></tr>\n",
       "<tr><td>ada     </td><td>(0, nan)</td><td>(0, nan)</td><td>(0, nan)</td><td>(0, nan)</td><td>(0, nan)</td></tr>\n",
       "<tr><td>gbc     </td><td>(0, nan)</td><td>(0, nan)</td><td>(0, nan)</td><td>(0, nan)</td><td>(0, nan)</td></tr>\n",
       "<tr><td>lightgbm</td><td>(0, nan)</td><td>(0, nan)</td><td>(0, nan)</td><td>(0, nan)</td><td>(0, nan)</td></tr>\n",
       "<tr><td>rf      </td><td>(0, nan)</td><td>(0, nan)</td><td>(0, nan)</td><td>(0, nan)</td><td>(0, nan)</td></tr>\n",
       "</tbody>\n",
       "</table>"
      ],
      "text/plain": [
       "'<table>\\n<tbody>\\n<tr><td>model   </td><td>0.6     </td><td>0.7     </td><td>0.75    </td><td>0.8     </td><td>0.85    </td></tr>\\n<tr><td>ada     </td><td>(0, nan)</td><td>(0, nan)</td><td>(0, nan)</td><td>(0, nan)</td><td>(0, nan)</td></tr>\\n<tr><td>gbc     </td><td>(0, nan)</td><td>(0, nan)</td><td>(0, nan)</td><td>(0, nan)</td><td>(0, nan)</td></tr>\\n<tr><td>lightgbm</td><td>(0, nan)</td><td>(0, nan)</td><td>(0, nan)</td><td>(0, nan)</td><td>(0, nan)</td></tr>\\n<tr><td>rf      </td><td>(0, nan)</td><td>(0, nan)</td><td>(0, nan)</td><td>(0, nan)</td><td>(0, nan)</td></tr>\\n</tbody>\\n</table>'"
      ]
     },
     "execution_count": 14,
     "metadata": {},
     "output_type": "execute_result"
    }
   ],
   "source": [
    "model.common.evaluate_predictions([(test_finalized_prediction_ada, \"ada\"), (test_finalized_prediction_gbc, \"gbc\"), (test_finalized_prediction_lightgbm, \"lightgbm\"), (test_finalized_prediction_rf, \"rf\")], [0.6, 0.7, 0.75, 0.8, 0.85], target_column)"
   ]
  },
  {
   "cell_type": "markdown",
   "metadata": {},
   "source": [
    "**Save Model**"
   ]
  },
  {
   "cell_type": "code",
   "execution_count": 15,
   "metadata": {
    "execution": {
     "iopub.execute_input": "2023-07-08T04:40:41.960135Z",
     "iopub.status.busy": "2023-07-08T04:40:41.959984Z",
     "iopub.status.idle": "2023-07-08T04:40:42.071860Z",
     "shell.execute_reply": "2023-07-08T04:40:42.071311Z",
     "shell.execute_reply.started": "2023-07-08T04:40:41.960122Z"
    }
   },
   "outputs": [
    {
     "name": "stdout",
     "output_type": "stream",
     "text": [
      "Transformation Pipeline and Model Successfully Saved\n"
     ]
    },
    {
     "data": {
      "text/plain": [
       "(Pipeline(memory=FastMemory(location=/tmp/joblib),\n",
       "          steps=[('numerical_imputer',\n",
       "                  TransformerWrapper(exclude=None,\n",
       "                                     include=['pitching_gamesPlayed',\n",
       "                                              'pitching_runs_per_game',\n",
       "                                              'pitching_strikeOuts_per_game',\n",
       "                                              'pitching_hits_per_game',\n",
       "                                              'batting_gamesPlayed',\n",
       "                                              'batting_runs_per_game',\n",
       "                                              'batting_strikeOuts_per_game',\n",
       "                                              'batting_hits_per_game',\n",
       "                                              'batting_rbi',\n",
       "                                              'pitching_cur_...\n",
       "                                                       colsample_bytree=1.0,\n",
       "                                                       importance_type='split',\n",
       "                                                       learning_rate=0.1,\n",
       "                                                       max_depth=-1,\n",
       "                                                       min_child_samples=20,\n",
       "                                                       min_child_weight=0.001,\n",
       "                                                       min_split_gain=0.0,\n",
       "                                                       n_estimators=100,\n",
       "                                                       n_jobs=-1, num_leaves=31,\n",
       "                                                       objective=None,\n",
       "                                                       probability_threshold=0.5,\n",
       "                                                       random_state=5711,\n",
       "                                                       reg_alpha=0.0,\n",
       "                                                       reg_lambda=0.0,\n",
       "                                                       silent='warn',\n",
       "                                                       subsample=1.0,\n",
       "                                                       subsample_for_bin=200000,\n",
       "                                                       subsample_freq=0))],\n",
       "          verbose=False),\n",
       " 'model/batter_2hstrikeouts_regression_model.pkl')"
      ]
     },
     "execution_count": 15,
     "metadata": {},
     "output_type": "execute_result"
    }
   ],
   "source": [
    "pycaret.classification.save_model(regression_model_finalized_lightgbm, model_file_name)"
   ]
  }
 ],
 "metadata": {
  "colab": {
   "provenance": []
  },
  "kernelspec": {
   "display_name": "Python 3 (ipykernel)",
   "language": "python",
   "name": "python3"
  },
  "language_info": {
   "codemirror_mode": {
    "name": "ipython",
    "version": 3
   },
   "file_extension": ".py",
   "mimetype": "text/x-python",
   "name": "python",
   "nbconvert_exporter": "python",
   "pygments_lexer": "ipython3",
   "version": "3.10.6"
  },
  "widgets": {
   "application/vnd.jupyter.widget-state+json": {
    "1ac32fe9102d4f5a9d1511e64a1d5e5d": {
     "model_module": "@jupyter-widgets/base",
     "model_module_version": "1.2.0",
     "model_name": "LayoutModel",
     "state": {
      "_model_module": "@jupyter-widgets/base",
      "_model_module_version": "1.2.0",
      "_model_name": "LayoutModel",
      "_view_count": null,
      "_view_module": "@jupyter-widgets/base",
      "_view_module_version": "1.2.0",
      "_view_name": "LayoutView",
      "align_content": null,
      "align_items": null,
      "align_self": null,
      "border": null,
      "bottom": null,
      "display": null,
      "flex": null,
      "flex_flow": null,
      "grid_area": null,
      "grid_auto_columns": null,
      "grid_auto_flow": null,
      "grid_auto_rows": null,
      "grid_column": null,
      "grid_gap": null,
      "grid_row": null,
      "grid_template_areas": null,
      "grid_template_columns": null,
      "grid_template_rows": null,
      "height": null,
      "justify_content": null,
      "justify_items": null,
      "left": null,
      "margin": null,
      "max_height": null,
      "max_width": null,
      "min_height": null,
      "min_width": null,
      "object_fit": null,
      "object_position": null,
      "order": null,
      "overflow": null,
      "overflow_x": null,
      "overflow_y": null,
      "padding": null,
      "right": null,
      "top": null,
      "visibility": null,
      "width": null
     }
    },
    "40b50c57e470496cb6c94a0693636fd7": {
     "model_module": "@jupyter-widgets/base",
     "model_module_version": "1.2.0",
     "model_name": "LayoutModel",
     "state": {
      "_model_module": "@jupyter-widgets/base",
      "_model_module_version": "1.2.0",
      "_model_name": "LayoutModel",
      "_view_count": null,
      "_view_module": "@jupyter-widgets/base",
      "_view_module_version": "1.2.0",
      "_view_name": "LayoutView",
      "align_content": null,
      "align_items": null,
      "align_self": null,
      "border": null,
      "bottom": null,
      "display": null,
      "flex": null,
      "flex_flow": null,
      "grid_area": null,
      "grid_auto_columns": null,
      "grid_auto_flow": null,
      "grid_auto_rows": null,
      "grid_column": null,
      "grid_gap": null,
      "grid_row": null,
      "grid_template_areas": null,
      "grid_template_columns": null,
      "grid_template_rows": null,
      "height": null,
      "justify_content": null,
      "justify_items": null,
      "left": null,
      "margin": null,
      "max_height": null,
      "max_width": null,
      "min_height": null,
      "min_width": null,
      "object_fit": null,
      "object_position": null,
      "order": null,
      "overflow": null,
      "overflow_x": null,
      "overflow_y": null,
      "padding": null,
      "right": null,
      "top": null,
      "visibility": "hidden",
      "width": null
     }
    },
    "46b9d3b6cd6e4f76a42dd4f216dc1644": {
     "model_module": "@jupyter-widgets/controls",
     "model_module_version": "1.5.0",
     "model_name": "HBoxModel",
     "state": {
      "_dom_classes": [],
      "_model_module": "@jupyter-widgets/controls",
      "_model_module_version": "1.5.0",
      "_model_name": "HBoxModel",
      "_view_count": null,
      "_view_module": "@jupyter-widgets/controls",
      "_view_module_version": "1.5.0",
      "_view_name": "HBoxView",
      "box_style": "",
      "children": [
       "IPY_MODEL_cfce22755aa7471a87151793e633def1",
       "IPY_MODEL_94d7b3dc65544425b2463933c4108fa4",
       "IPY_MODEL_f92582f04a594f87a669f3c1c4d4eabc"
      ],
      "layout": "IPY_MODEL_40b50c57e470496cb6c94a0693636fd7"
     }
    },
    "4efa6d0ab419418ea9e4991c77b1ec42": {
     "model_module": "@jupyter-widgets/controls",
     "model_module_version": "1.5.0",
     "model_name": "ProgressStyleModel",
     "state": {
      "_model_module": "@jupyter-widgets/controls",
      "_model_module_version": "1.5.0",
      "_model_name": "ProgressStyleModel",
      "_view_count": null,
      "_view_module": "@jupyter-widgets/base",
      "_view_module_version": "1.2.0",
      "_view_name": "StyleView",
      "bar_color": null,
      "description_width": ""
     }
    },
    "81feddb738c64cbc8b7dbc7aec2730de": {
     "model_module": "@jupyter-widgets/controls",
     "model_module_version": "1.5.0",
     "model_name": "DescriptionStyleModel",
     "state": {
      "_model_module": "@jupyter-widgets/controls",
      "_model_module_version": "1.5.0",
      "_model_name": "DescriptionStyleModel",
      "_view_count": null,
      "_view_module": "@jupyter-widgets/base",
      "_view_module_version": "1.2.0",
      "_view_name": "StyleView",
      "description_width": ""
     }
    },
    "94d7b3dc65544425b2463933c4108fa4": {
     "model_module": "@jupyter-widgets/controls",
     "model_module_version": "1.5.0",
     "model_name": "FloatProgressModel",
     "state": {
      "_dom_classes": [],
      "_model_module": "@jupyter-widgets/controls",
      "_model_module_version": "1.5.0",
      "_model_name": "FloatProgressModel",
      "_view_count": null,
      "_view_module": "@jupyter-widgets/controls",
      "_view_module_version": "1.5.0",
      "_view_name": "ProgressView",
      "bar_style": "",
      "description": "",
      "description_tooltip": null,
      "layout": "IPY_MODEL_eb74dfbcca4a458eb81d87fbae5bf166",
      "max": 4,
      "min": 0,
      "orientation": "horizontal",
      "style": "IPY_MODEL_4efa6d0ab419418ea9e4991c77b1ec42",
      "value": 4
     }
    },
    "bec03081ad154466a3a0abca5a8462f4": {
     "model_module": "@jupyter-widgets/base",
     "model_module_version": "1.2.0",
     "model_name": "LayoutModel",
     "state": {
      "_model_module": "@jupyter-widgets/base",
      "_model_module_version": "1.2.0",
      "_model_name": "LayoutModel",
      "_view_count": null,
      "_view_module": "@jupyter-widgets/base",
      "_view_module_version": "1.2.0",
      "_view_name": "LayoutView",
      "align_content": null,
      "align_items": null,
      "align_self": null,
      "border": null,
      "bottom": null,
      "display": null,
      "flex": null,
      "flex_flow": null,
      "grid_area": null,
      "grid_auto_columns": null,
      "grid_auto_flow": null,
      "grid_auto_rows": null,
      "grid_column": null,
      "grid_gap": null,
      "grid_row": null,
      "grid_template_areas": null,
      "grid_template_columns": null,
      "grid_template_rows": null,
      "height": null,
      "justify_content": null,
      "justify_items": null,
      "left": null,
      "margin": null,
      "max_height": null,
      "max_width": null,
      "min_height": null,
      "min_width": null,
      "object_fit": null,
      "object_position": null,
      "order": null,
      "overflow": null,
      "overflow_x": null,
      "overflow_y": null,
      "padding": null,
      "right": null,
      "top": null,
      "visibility": null,
      "width": null
     }
    },
    "cfcd697393754f1d93106a2d6e07ea05": {
     "model_module": "@jupyter-widgets/controls",
     "model_module_version": "1.5.0",
     "model_name": "DescriptionStyleModel",
     "state": {
      "_model_module": "@jupyter-widgets/controls",
      "_model_module_version": "1.5.0",
      "_model_name": "DescriptionStyleModel",
      "_view_count": null,
      "_view_module": "@jupyter-widgets/base",
      "_view_module_version": "1.2.0",
      "_view_name": "StyleView",
      "description_width": ""
     }
    },
    "cfce22755aa7471a87151793e633def1": {
     "model_module": "@jupyter-widgets/controls",
     "model_module_version": "1.5.0",
     "model_name": "HTMLModel",
     "state": {
      "_dom_classes": [],
      "_model_module": "@jupyter-widgets/controls",
      "_model_module_version": "1.5.0",
      "_model_name": "HTMLModel",
      "_view_count": null,
      "_view_module": "@jupyter-widgets/controls",
      "_view_module_version": "1.5.0",
      "_view_name": "HTMLView",
      "description": "",
      "description_tooltip": null,
      "layout": "IPY_MODEL_bec03081ad154466a3a0abca5a8462f4",
      "placeholder": "​",
      "style": "IPY_MODEL_81feddb738c64cbc8b7dbc7aec2730de",
      "value": "Processing: 100%"
     }
    },
    "eb74dfbcca4a458eb81d87fbae5bf166": {
     "model_module": "@jupyter-widgets/base",
     "model_module_version": "1.2.0",
     "model_name": "LayoutModel",
     "state": {
      "_model_module": "@jupyter-widgets/base",
      "_model_module_version": "1.2.0",
      "_model_name": "LayoutModel",
      "_view_count": null,
      "_view_module": "@jupyter-widgets/base",
      "_view_module_version": "1.2.0",
      "_view_name": "LayoutView",
      "align_content": null,
      "align_items": null,
      "align_self": null,
      "border": null,
      "bottom": null,
      "display": null,
      "flex": null,
      "flex_flow": null,
      "grid_area": null,
      "grid_auto_columns": null,
      "grid_auto_flow": null,
      "grid_auto_rows": null,
      "grid_column": null,
      "grid_gap": null,
      "grid_row": null,
      "grid_template_areas": null,
      "grid_template_columns": null,
      "grid_template_rows": null,
      "height": null,
      "justify_content": null,
      "justify_items": null,
      "left": null,
      "margin": null,
      "max_height": null,
      "max_width": null,
      "min_height": null,
      "min_width": null,
      "object_fit": null,
      "object_position": null,
      "order": null,
      "overflow": null,
      "overflow_x": null,
      "overflow_y": null,
      "padding": null,
      "right": null,
      "top": null,
      "visibility": null,
      "width": null
     }
    },
    "f92582f04a594f87a669f3c1c4d4eabc": {
     "model_module": "@jupyter-widgets/controls",
     "model_module_version": "1.5.0",
     "model_name": "HTMLModel",
     "state": {
      "_dom_classes": [],
      "_model_module": "@jupyter-widgets/controls",
      "_model_module_version": "1.5.0",
      "_model_name": "HTMLModel",
      "_view_count": null,
      "_view_module": "@jupyter-widgets/controls",
      "_view_module_version": "1.5.0",
      "_view_name": "HTMLView",
      "description": "",
      "description_tooltip": null,
      "layout": "IPY_MODEL_1ac32fe9102d4f5a9d1511e64a1d5e5d",
      "placeholder": "​",
      "style": "IPY_MODEL_cfcd697393754f1d93106a2d6e07ea05",
      "value": " 4/4 [00:10&lt;00:00,  2.34s/it]"
     }
    }
   }
  }
 },
 "nbformat": 4,
 "nbformat_minor": 4
}
