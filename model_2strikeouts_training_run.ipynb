{
 "cells": [
  {
   "cell_type": "markdown",
   "metadata": {
    "id": "X1V_SUC4p-YQ"
   },
   "source": [
    "**Import Packages**"
   ]
  },
  {
   "cell_type": "code",
   "execution_count": 1,
   "metadata": {
    "colab": {
     "base_uri": "https://localhost:8080/"
    },
    "execution": {
     "iopub.execute_input": "2023-07-03T22:54:28.852535Z",
     "iopub.status.busy": "2023-07-03T22:54:28.852226Z",
     "iopub.status.idle": "2023-07-03T22:54:31.872448Z",
     "shell.execute_reply": "2023-07-03T22:54:31.870978Z",
     "shell.execute_reply.started": "2023-07-03T22:54:28.852510Z"
    },
    "id": "IGZCa25_p5QY",
    "outputId": "d9e7f9d8-21e8-49dd-d344-173324ba79a5",
    "tags": []
   },
   "outputs": [],
   "source": [
    "import pycaret\n",
    "import pandas as pd\n",
    "import numpy as np\n",
    "import sqlalchemy\n",
    "import mysql.connector\n",
    "\n",
    "from pycaret import classification\n",
    "from pycaret.classification import plot_model\n",
    "from datetime import datetime\n",
    "import importlib\n",
    "import model.common"
   ]
  },
  {
   "cell_type": "code",
   "execution_count": 2,
   "metadata": {
    "execution": {
     "iopub.execute_input": "2023-07-03T22:54:31.874534Z",
     "iopub.status.busy": "2023-07-03T22:54:31.874182Z",
     "iopub.status.idle": "2023-07-03T22:54:31.880681Z",
     "shell.execute_reply": "2023-07-03T22:54:31.879706Z",
     "shell.execute_reply.started": "2023-07-03T22:54:31.874494Z"
    }
   },
   "outputs": [],
   "source": [
    "from static_data.load_static_data import *"
   ]
  },
  {
   "cell_type": "markdown",
   "metadata": {
    "id": "jqde2RQfqchC"
   },
   "source": [
    "**Load Data**"
   ]
  },
  {
   "cell_type": "code",
   "execution_count": 3,
   "metadata": {
    "execution": {
     "iopub.execute_input": "2023-07-03T22:54:31.881434Z",
     "iopub.status.busy": "2023-07-03T22:54:31.881276Z",
     "iopub.status.idle": "2023-07-03T22:54:32.533893Z",
     "shell.execute_reply": "2023-07-03T22:54:32.533430Z",
     "shell.execute_reply.started": "2023-07-03T22:54:31.881420Z"
    }
   },
   "outputs": [
    {
     "name": "stdout",
     "output_type": "stream",
     "text": [
      "325647\n"
     ]
    }
   ],
   "source": [
    "collect_data_Base_dir = 'collect_data'\n",
    "df_game_matchup_total = pd.read_pickle(f'{collect_data_Base_dir}/df_game_matchup_total.pkl')\n",
    "print(len(df_game_matchup_total))"
   ]
  },
  {
   "cell_type": "markdown",
   "metadata": {
    "id": "VkSM5TOeule8"
   },
   "source": [
    "**Choose Columns**"
   ]
  },
  {
   "cell_type": "code",
   "execution_count": 4,
   "metadata": {
    "execution": {
     "iopub.execute_input": "2023-07-03T22:54:32.534571Z",
     "iopub.status.busy": "2023-07-03T22:54:32.534445Z",
     "iopub.status.idle": "2023-07-03T22:54:32.539645Z",
     "shell.execute_reply": "2023-07-03T22:54:32.538741Z",
     "shell.execute_reply.started": "2023-07-03T22:54:32.534560Z"
    }
   },
   "outputs": [
    {
     "data": {
      "text/plain": [
       "<module 'model.common' from '/home/junlim/projects/mlb-props/model/common.py'>"
      ]
     },
     "execution_count": 4,
     "metadata": {},
     "output_type": "execute_result"
    }
   ],
   "source": [
    "importlib.reload(model.common)"
   ]
  },
  {
   "cell_type": "code",
   "execution_count": 5,
   "metadata": {
    "execution": {
     "iopub.execute_input": "2023-07-03T22:54:32.542011Z",
     "iopub.status.busy": "2023-07-03T22:54:32.541571Z",
     "iopub.status.idle": "2023-07-03T22:54:32.554697Z",
     "shell.execute_reply": "2023-07-03T22:54:32.553939Z",
     "shell.execute_reply.started": "2023-07-03T22:54:32.541980Z"
    }
   },
   "outputs": [],
   "source": [
    "feature_columns, target_column, model_file_name = model.common.features_2hstrikeouts_recorded, model.common.target_2hstrikeouts_recorded, model.common.model_2hstrikeouts_file_name"
   ]
  },
  {
   "cell_type": "code",
   "execution_count": 6,
   "metadata": {
    "execution": {
     "iopub.execute_input": "2023-07-03T22:54:32.555868Z",
     "iopub.status.busy": "2023-07-03T22:54:32.555609Z",
     "iopub.status.idle": "2023-07-03T22:54:33.043133Z",
     "shell.execute_reply": "2023-07-03T22:54:33.041093Z",
     "shell.execute_reply.started": "2023-07-03T22:54:32.555847Z"
    }
   },
   "outputs": [],
   "source": [
    "train_data = df_game_matchup_total[(df_game_matchup_total.game_date > \"2012-04-01\") & (df_game_matchup_total.game_date < \"2022-12-01\")][feature_columns]\n",
    "test_data = df_game_matchup_total[(df_game_matchup_total.game_date > \"2022-12-01\")][feature_columns]"
   ]
  },
  {
   "cell_type": "markdown",
   "metadata": {
    "id": "Qxoqal-SvwXp"
   },
   "source": [
    "**Build/Train Model**"
   ]
  },
  {
   "cell_type": "code",
   "execution_count": 7,
   "metadata": {
    "execution": {
     "iopub.execute_input": "2023-07-03T22:54:33.045811Z",
     "iopub.status.busy": "2023-07-03T22:54:33.045280Z",
     "iopub.status.idle": "2023-07-03T23:03:52.695878Z",
     "shell.execute_reply": "2023-07-03T23:03:52.695161Z",
     "shell.execute_reply.started": "2023-07-03T22:54:33.045774Z"
    },
    "scrolled": true
   },
   "outputs": [
    {
     "data": {
      "text/html": [
       "<style type=\"text/css\">\n",
       "#T_8ea00_row11_col1 {\n",
       "  background-color: lightgreen;\n",
       "}\n",
       "</style>\n",
       "<table id=\"T_8ea00\">\n",
       "  <thead>\n",
       "    <tr>\n",
       "      <th class=\"blank level0\" >&nbsp;</th>\n",
       "      <th id=\"T_8ea00_level0_col0\" class=\"col_heading level0 col0\" >Description</th>\n",
       "      <th id=\"T_8ea00_level0_col1\" class=\"col_heading level0 col1\" >Value</th>\n",
       "    </tr>\n",
       "  </thead>\n",
       "  <tbody>\n",
       "    <tr>\n",
       "      <th id=\"T_8ea00_level0_row0\" class=\"row_heading level0 row0\" >0</th>\n",
       "      <td id=\"T_8ea00_row0_col0\" class=\"data row0 col0\" >Session id</td>\n",
       "      <td id=\"T_8ea00_row0_col1\" class=\"data row0 col1\" >190</td>\n",
       "    </tr>\n",
       "    <tr>\n",
       "      <th id=\"T_8ea00_level0_row1\" class=\"row_heading level0 row1\" >1</th>\n",
       "      <td id=\"T_8ea00_row1_col0\" class=\"data row1 col0\" >Target</td>\n",
       "      <td id=\"T_8ea00_row1_col1\" class=\"data row1 col1\" >batting_2strikeOuts_recorded</td>\n",
       "    </tr>\n",
       "    <tr>\n",
       "      <th id=\"T_8ea00_level0_row2\" class=\"row_heading level0 row2\" >2</th>\n",
       "      <td id=\"T_8ea00_row2_col0\" class=\"data row2 col0\" >Target type</td>\n",
       "      <td id=\"T_8ea00_row2_col1\" class=\"data row2 col1\" >Binary</td>\n",
       "    </tr>\n",
       "    <tr>\n",
       "      <th id=\"T_8ea00_level0_row3\" class=\"row_heading level0 row3\" >3</th>\n",
       "      <td id=\"T_8ea00_row3_col0\" class=\"data row3 col0\" >Original data shape</td>\n",
       "      <td id=\"T_8ea00_row3_col1\" class=\"data row3 col1\" >(285090, 21)</td>\n",
       "    </tr>\n",
       "    <tr>\n",
       "      <th id=\"T_8ea00_level0_row4\" class=\"row_heading level0 row4\" >4</th>\n",
       "      <td id=\"T_8ea00_row4_col0\" class=\"data row4 col0\" >Transformed data shape</td>\n",
       "      <td id=\"T_8ea00_row4_col1\" class=\"data row4 col1\" >(285090, 15)</td>\n",
       "    </tr>\n",
       "    <tr>\n",
       "      <th id=\"T_8ea00_level0_row5\" class=\"row_heading level0 row5\" >5</th>\n",
       "      <td id=\"T_8ea00_row5_col0\" class=\"data row5 col0\" >Transformed train set shape</td>\n",
       "      <td id=\"T_8ea00_row5_col1\" class=\"data row5 col1\" >(199563, 15)</td>\n",
       "    </tr>\n",
       "    <tr>\n",
       "      <th id=\"T_8ea00_level0_row6\" class=\"row_heading level0 row6\" >6</th>\n",
       "      <td id=\"T_8ea00_row6_col0\" class=\"data row6 col0\" >Transformed test set shape</td>\n",
       "      <td id=\"T_8ea00_row6_col1\" class=\"data row6 col1\" >(85527, 15)</td>\n",
       "    </tr>\n",
       "    <tr>\n",
       "      <th id=\"T_8ea00_level0_row7\" class=\"row_heading level0 row7\" >7</th>\n",
       "      <td id=\"T_8ea00_row7_col0\" class=\"data row7 col0\" >Ignore features</td>\n",
       "      <td id=\"T_8ea00_row7_col1\" class=\"data row7 col1\" >6</td>\n",
       "    </tr>\n",
       "    <tr>\n",
       "      <th id=\"T_8ea00_level0_row8\" class=\"row_heading level0 row8\" >8</th>\n",
       "      <td id=\"T_8ea00_row8_col0\" class=\"data row8 col0\" >Numeric features</td>\n",
       "      <td id=\"T_8ea00_row8_col1\" class=\"data row8 col1\" >13</td>\n",
       "    </tr>\n",
       "    <tr>\n",
       "      <th id=\"T_8ea00_level0_row9\" class=\"row_heading level0 row9\" >9</th>\n",
       "      <td id=\"T_8ea00_row9_col0\" class=\"data row9 col0\" >Categorical features</td>\n",
       "      <td id=\"T_8ea00_row9_col1\" class=\"data row9 col1\" >1</td>\n",
       "    </tr>\n",
       "    <tr>\n",
       "      <th id=\"T_8ea00_level0_row10\" class=\"row_heading level0 row10\" >10</th>\n",
       "      <td id=\"T_8ea00_row10_col0\" class=\"data row10 col0\" >Rows with missing values</td>\n",
       "      <td id=\"T_8ea00_row10_col1\" class=\"data row10 col1\" >0.0%</td>\n",
       "    </tr>\n",
       "    <tr>\n",
       "      <th id=\"T_8ea00_level0_row11\" class=\"row_heading level0 row11\" >11</th>\n",
       "      <td id=\"T_8ea00_row11_col0\" class=\"data row11 col0\" >Preprocess</td>\n",
       "      <td id=\"T_8ea00_row11_col1\" class=\"data row11 col1\" >True</td>\n",
       "    </tr>\n",
       "    <tr>\n",
       "      <th id=\"T_8ea00_level0_row12\" class=\"row_heading level0 row12\" >12</th>\n",
       "      <td id=\"T_8ea00_row12_col0\" class=\"data row12 col0\" >Imputation type</td>\n",
       "      <td id=\"T_8ea00_row12_col1\" class=\"data row12 col1\" >simple</td>\n",
       "    </tr>\n",
       "    <tr>\n",
       "      <th id=\"T_8ea00_level0_row13\" class=\"row_heading level0 row13\" >13</th>\n",
       "      <td id=\"T_8ea00_row13_col0\" class=\"data row13 col0\" >Numeric imputation</td>\n",
       "      <td id=\"T_8ea00_row13_col1\" class=\"data row13 col1\" >mean</td>\n",
       "    </tr>\n",
       "    <tr>\n",
       "      <th id=\"T_8ea00_level0_row14\" class=\"row_heading level0 row14\" >14</th>\n",
       "      <td id=\"T_8ea00_row14_col0\" class=\"data row14 col0\" >Categorical imputation</td>\n",
       "      <td id=\"T_8ea00_row14_col1\" class=\"data row14 col1\" >mode</td>\n",
       "    </tr>\n",
       "    <tr>\n",
       "      <th id=\"T_8ea00_level0_row15\" class=\"row_heading level0 row15\" >15</th>\n",
       "      <td id=\"T_8ea00_row15_col0\" class=\"data row15 col0\" >Maximum one-hot encoding</td>\n",
       "      <td id=\"T_8ea00_row15_col1\" class=\"data row15 col1\" >25</td>\n",
       "    </tr>\n",
       "    <tr>\n",
       "      <th id=\"T_8ea00_level0_row16\" class=\"row_heading level0 row16\" >16</th>\n",
       "      <td id=\"T_8ea00_row16_col0\" class=\"data row16 col0\" >Encoding method</td>\n",
       "      <td id=\"T_8ea00_row16_col1\" class=\"data row16 col1\" >None</td>\n",
       "    </tr>\n",
       "    <tr>\n",
       "      <th id=\"T_8ea00_level0_row17\" class=\"row_heading level0 row17\" >17</th>\n",
       "      <td id=\"T_8ea00_row17_col0\" class=\"data row17 col0\" >Fold Generator</td>\n",
       "      <td id=\"T_8ea00_row17_col1\" class=\"data row17 col1\" >StratifiedKFold</td>\n",
       "    </tr>\n",
       "    <tr>\n",
       "      <th id=\"T_8ea00_level0_row18\" class=\"row_heading level0 row18\" >18</th>\n",
       "      <td id=\"T_8ea00_row18_col0\" class=\"data row18 col0\" >Fold Number</td>\n",
       "      <td id=\"T_8ea00_row18_col1\" class=\"data row18 col1\" >10</td>\n",
       "    </tr>\n",
       "    <tr>\n",
       "      <th id=\"T_8ea00_level0_row19\" class=\"row_heading level0 row19\" >19</th>\n",
       "      <td id=\"T_8ea00_row19_col0\" class=\"data row19 col0\" >CPU Jobs</td>\n",
       "      <td id=\"T_8ea00_row19_col1\" class=\"data row19 col1\" >-1</td>\n",
       "    </tr>\n",
       "    <tr>\n",
       "      <th id=\"T_8ea00_level0_row20\" class=\"row_heading level0 row20\" >20</th>\n",
       "      <td id=\"T_8ea00_row20_col0\" class=\"data row20 col0\" >Use GPU</td>\n",
       "      <td id=\"T_8ea00_row20_col1\" class=\"data row20 col1\" >False</td>\n",
       "    </tr>\n",
       "    <tr>\n",
       "      <th id=\"T_8ea00_level0_row21\" class=\"row_heading level0 row21\" >21</th>\n",
       "      <td id=\"T_8ea00_row21_col0\" class=\"data row21 col0\" >Log Experiment</td>\n",
       "      <td id=\"T_8ea00_row21_col1\" class=\"data row21 col1\" >False</td>\n",
       "    </tr>\n",
       "    <tr>\n",
       "      <th id=\"T_8ea00_level0_row22\" class=\"row_heading level0 row22\" >22</th>\n",
       "      <td id=\"T_8ea00_row22_col0\" class=\"data row22 col0\" >Experiment Name</td>\n",
       "      <td id=\"T_8ea00_row22_col1\" class=\"data row22 col1\" >clf-default-name</td>\n",
       "    </tr>\n",
       "    <tr>\n",
       "      <th id=\"T_8ea00_level0_row23\" class=\"row_heading level0 row23\" >23</th>\n",
       "      <td id=\"T_8ea00_row23_col0\" class=\"data row23 col0\" >USI</td>\n",
       "      <td id=\"T_8ea00_row23_col1\" class=\"data row23 col1\" >c355</td>\n",
       "    </tr>\n",
       "  </tbody>\n",
       "</table>\n"
      ],
      "text/plain": [
       "<pandas.io.formats.style.Styler at 0x7f69c808f760>"
      ]
     },
     "metadata": {},
     "output_type": "display_data"
    },
    {
     "data": {
      "text/html": [],
      "text/plain": [
       "<IPython.core.display.HTML object>"
      ]
     },
     "metadata": {},
     "output_type": "display_data"
    },
    {
     "data": {
      "text/html": [
       "<style type=\"text/css\">\n",
       "#T_18fdd_row10_col0, #T_18fdd_row10_col1, #T_18fdd_row10_col2, #T_18fdd_row10_col3, #T_18fdd_row10_col4, #T_18fdd_row10_col5, #T_18fdd_row10_col6 {\n",
       "  background: yellow;\n",
       "}\n",
       "</style>\n",
       "<table id=\"T_18fdd\">\n",
       "  <thead>\n",
       "    <tr>\n",
       "      <th class=\"blank level0\" >&nbsp;</th>\n",
       "      <th id=\"T_18fdd_level0_col0\" class=\"col_heading level0 col0\" >Accuracy</th>\n",
       "      <th id=\"T_18fdd_level0_col1\" class=\"col_heading level0 col1\" >AUC</th>\n",
       "      <th id=\"T_18fdd_level0_col2\" class=\"col_heading level0 col2\" >Recall</th>\n",
       "      <th id=\"T_18fdd_level0_col3\" class=\"col_heading level0 col3\" >Prec.</th>\n",
       "      <th id=\"T_18fdd_level0_col4\" class=\"col_heading level0 col4\" >F1</th>\n",
       "      <th id=\"T_18fdd_level0_col5\" class=\"col_heading level0 col5\" >Kappa</th>\n",
       "      <th id=\"T_18fdd_level0_col6\" class=\"col_heading level0 col6\" >MCC</th>\n",
       "    </tr>\n",
       "    <tr>\n",
       "      <th class=\"index_name level0\" >Fold</th>\n",
       "      <th class=\"blank col0\" >&nbsp;</th>\n",
       "      <th class=\"blank col1\" >&nbsp;</th>\n",
       "      <th class=\"blank col2\" >&nbsp;</th>\n",
       "      <th class=\"blank col3\" >&nbsp;</th>\n",
       "      <th class=\"blank col4\" >&nbsp;</th>\n",
       "      <th class=\"blank col5\" >&nbsp;</th>\n",
       "      <th class=\"blank col6\" >&nbsp;</th>\n",
       "    </tr>\n",
       "  </thead>\n",
       "  <tbody>\n",
       "    <tr>\n",
       "      <th id=\"T_18fdd_level0_row0\" class=\"row_heading level0 row0\" >0</th>\n",
       "      <td id=\"T_18fdd_row0_col0\" class=\"data row0 col0\" >0.8147</td>\n",
       "      <td id=\"T_18fdd_row0_col1\" class=\"data row0 col1\" >0.6538</td>\n",
       "      <td id=\"T_18fdd_row0_col2\" class=\"data row0 col2\" >0.0095</td>\n",
       "      <td id=\"T_18fdd_row0_col3\" class=\"data row0 col3\" >0.4861</td>\n",
       "      <td id=\"T_18fdd_row0_col4\" class=\"data row0 col4\" >0.0186</td>\n",
       "      <td id=\"T_18fdd_row0_col5\" class=\"data row0 col5\" >0.0116</td>\n",
       "      <td id=\"T_18fdd_row0_col6\" class=\"data row0 col6\" >0.0466</td>\n",
       "    </tr>\n",
       "    <tr>\n",
       "      <th id=\"T_18fdd_level0_row1\" class=\"row_heading level0 row1\" >1</th>\n",
       "      <td id=\"T_18fdd_row1_col0\" class=\"data row1 col0\" >0.8139</td>\n",
       "      <td id=\"T_18fdd_row1_col1\" class=\"data row1 col1\" >0.6564</td>\n",
       "      <td id=\"T_18fdd_row1_col2\" class=\"data row1 col2\" >0.0095</td>\n",
       "      <td id=\"T_18fdd_row1_col3\" class=\"data row1 col3\" >0.4070</td>\n",
       "      <td id=\"T_18fdd_row1_col4\" class=\"data row1 col4\" >0.0185</td>\n",
       "      <td id=\"T_18fdd_row1_col5\" class=\"data row1 col5\" >0.0102</td>\n",
       "      <td id=\"T_18fdd_row1_col6\" class=\"data row1 col6\" >0.0375</td>\n",
       "    </tr>\n",
       "    <tr>\n",
       "      <th id=\"T_18fdd_level0_row2\" class=\"row_heading level0 row2\" >2</th>\n",
       "      <td id=\"T_18fdd_row2_col0\" class=\"data row2 col0\" >0.8148</td>\n",
       "      <td id=\"T_18fdd_row2_col1\" class=\"data row2 col1\" >0.6590</td>\n",
       "      <td id=\"T_18fdd_row2_col2\" class=\"data row2 col2\" >0.0105</td>\n",
       "      <td id=\"T_18fdd_row2_col3\" class=\"data row2 col3\" >0.5065</td>\n",
       "      <td id=\"T_18fdd_row2_col4\" class=\"data row2 col4\" >0.0207</td>\n",
       "      <td id=\"T_18fdd_row2_col5\" class=\"data row2 col5\" >0.0132</td>\n",
       "      <td id=\"T_18fdd_row2_col6\" class=\"data row2 col6\" >0.0515</td>\n",
       "    </tr>\n",
       "    <tr>\n",
       "      <th id=\"T_18fdd_level0_row3\" class=\"row_heading level0 row3\" >3</th>\n",
       "      <td id=\"T_18fdd_row3_col0\" class=\"data row3 col0\" >0.8143</td>\n",
       "      <td id=\"T_18fdd_row3_col1\" class=\"data row3 col1\" >0.6529</td>\n",
       "      <td id=\"T_18fdd_row3_col2\" class=\"data row3 col2\" >0.0097</td>\n",
       "      <td id=\"T_18fdd_row3_col3\" class=\"data row3 col3\" >0.4390</td>\n",
       "      <td id=\"T_18fdd_row3_col4\" class=\"data row3 col4\" >0.0191</td>\n",
       "      <td id=\"T_18fdd_row3_col5\" class=\"data row3 col5\" >0.0111</td>\n",
       "      <td id=\"T_18fdd_row3_col6\" class=\"data row3 col6\" >0.0420</td>\n",
       "    </tr>\n",
       "    <tr>\n",
       "      <th id=\"T_18fdd_level0_row4\" class=\"row_heading level0 row4\" >4</th>\n",
       "      <td id=\"T_18fdd_row4_col0\" class=\"data row4 col0\" >0.8143</td>\n",
       "      <td id=\"T_18fdd_row4_col1\" class=\"data row4 col1\" >0.6489</td>\n",
       "      <td id=\"T_18fdd_row4_col2\" class=\"data row4 col2\" >0.0097</td>\n",
       "      <td id=\"T_18fdd_row4_col3\" class=\"data row4 col3\" >0.4390</td>\n",
       "      <td id=\"T_18fdd_row4_col4\" class=\"data row4 col4\" >0.0191</td>\n",
       "      <td id=\"T_18fdd_row4_col5\" class=\"data row4 col5\" >0.0111</td>\n",
       "      <td id=\"T_18fdd_row4_col6\" class=\"data row4 col6\" >0.0420</td>\n",
       "    </tr>\n",
       "    <tr>\n",
       "      <th id=\"T_18fdd_level0_row5\" class=\"row_heading level0 row5\" >5</th>\n",
       "      <td id=\"T_18fdd_row5_col0\" class=\"data row5 col0\" >0.8141</td>\n",
       "      <td id=\"T_18fdd_row5_col1\" class=\"data row5 col1\" >0.6553</td>\n",
       "      <td id=\"T_18fdd_row5_col2\" class=\"data row5 col2\" >0.0089</td>\n",
       "      <td id=\"T_18fdd_row5_col3\" class=\"data row5 col3\" >0.4177</td>\n",
       "      <td id=\"T_18fdd_row5_col4\" class=\"data row5 col4\" >0.0175</td>\n",
       "      <td id=\"T_18fdd_row5_col5\" class=\"data row5 col5\" >0.0098</td>\n",
       "      <td id=\"T_18fdd_row5_col6\" class=\"data row5 col6\" >0.0377</td>\n",
       "    </tr>\n",
       "    <tr>\n",
       "      <th id=\"T_18fdd_level0_row6\" class=\"row_heading level0 row6\" >6</th>\n",
       "      <td id=\"T_18fdd_row6_col0\" class=\"data row6 col0\" >0.8139</td>\n",
       "      <td id=\"T_18fdd_row6_col1\" class=\"data row6 col1\" >0.6649</td>\n",
       "      <td id=\"T_18fdd_row6_col2\" class=\"data row6 col2\" >0.0106</td>\n",
       "      <td id=\"T_18fdd_row6_col3\" class=\"data row6 col3\" >0.4062</td>\n",
       "      <td id=\"T_18fdd_row6_col4\" class=\"data row6 col4\" >0.0206</td>\n",
       "      <td id=\"T_18fdd_row6_col5\" class=\"data row6 col5\" >0.0113</td>\n",
       "      <td id=\"T_18fdd_row6_col6\" class=\"data row6 col6\" >0.0396</td>\n",
       "    </tr>\n",
       "    <tr>\n",
       "      <th id=\"T_18fdd_level0_row7\" class=\"row_heading level0 row7\" >7</th>\n",
       "      <td id=\"T_18fdd_row7_col0\" class=\"data row7 col0\" >0.8137</td>\n",
       "      <td id=\"T_18fdd_row7_col1\" class=\"data row7 col1\" >0.6615</td>\n",
       "      <td id=\"T_18fdd_row7_col2\" class=\"data row7 col2\" >0.0081</td>\n",
       "      <td id=\"T_18fdd_row7_col3\" class=\"data row7 col3\" >0.3704</td>\n",
       "      <td id=\"T_18fdd_row7_col4\" class=\"data row7 col4\" >0.0159</td>\n",
       "      <td id=\"T_18fdd_row7_col5\" class=\"data row7 col5\" >0.0080</td>\n",
       "      <td id=\"T_18fdd_row7_col6\" class=\"data row7 col6\" >0.0304</td>\n",
       "    </tr>\n",
       "    <tr>\n",
       "      <th id=\"T_18fdd_level0_row8\" class=\"row_heading level0 row8\" >8</th>\n",
       "      <td id=\"T_18fdd_row8_col0\" class=\"data row8 col0\" >0.8145</td>\n",
       "      <td id=\"T_18fdd_row8_col1\" class=\"data row8 col1\" >0.6680</td>\n",
       "      <td id=\"T_18fdd_row8_col2\" class=\"data row8 col2\" >0.0124</td>\n",
       "      <td id=\"T_18fdd_row8_col3\" class=\"data row8 col3\" >0.4792</td>\n",
       "      <td id=\"T_18fdd_row8_col4\" class=\"data row8 col4\" >0.0243</td>\n",
       "      <td id=\"T_18fdd_row8_col5\" class=\"data row8 col5\" >0.0150</td>\n",
       "      <td id=\"T_18fdd_row8_col6\" class=\"data row8 col6\" >0.0526</td>\n",
       "    </tr>\n",
       "    <tr>\n",
       "      <th id=\"T_18fdd_level0_row9\" class=\"row_heading level0 row9\" >9</th>\n",
       "      <td id=\"T_18fdd_row9_col0\" class=\"data row9 col0\" >0.8133</td>\n",
       "      <td id=\"T_18fdd_row9_col1\" class=\"data row9 col1\" >0.6523</td>\n",
       "      <td id=\"T_18fdd_row9_col2\" class=\"data row9 col2\" >0.0070</td>\n",
       "      <td id=\"T_18fdd_row9_col3\" class=\"data row9 col3\" >0.3250</td>\n",
       "      <td id=\"T_18fdd_row9_col4\" class=\"data row9 col4\" >0.0138</td>\n",
       "      <td id=\"T_18fdd_row9_col5\" class=\"data row9 col5\" >0.0060</td>\n",
       "      <td id=\"T_18fdd_row9_col6\" class=\"data row9 col6\" >0.0228</td>\n",
       "    </tr>\n",
       "    <tr>\n",
       "      <th id=\"T_18fdd_level0_row10\" class=\"row_heading level0 row10\" >Mean</th>\n",
       "      <td id=\"T_18fdd_row10_col0\" class=\"data row10 col0\" >0.8142</td>\n",
       "      <td id=\"T_18fdd_row10_col1\" class=\"data row10 col1\" >0.6573</td>\n",
       "      <td id=\"T_18fdd_row10_col2\" class=\"data row10 col2\" >0.0096</td>\n",
       "      <td id=\"T_18fdd_row10_col3\" class=\"data row10 col3\" >0.4276</td>\n",
       "      <td id=\"T_18fdd_row10_col4\" class=\"data row10 col4\" >0.0188</td>\n",
       "      <td id=\"T_18fdd_row10_col5\" class=\"data row10 col5\" >0.0107</td>\n",
       "      <td id=\"T_18fdd_row10_col6\" class=\"data row10 col6\" >0.0403</td>\n",
       "    </tr>\n",
       "    <tr>\n",
       "      <th id=\"T_18fdd_level0_row11\" class=\"row_heading level0 row11\" >Std</th>\n",
       "      <td id=\"T_18fdd_row11_col0\" class=\"data row11 col0\" >0.0004</td>\n",
       "      <td id=\"T_18fdd_row11_col1\" class=\"data row11 col1\" >0.0057</td>\n",
       "      <td id=\"T_18fdd_row11_col2\" class=\"data row11 col2\" >0.0014</td>\n",
       "      <td id=\"T_18fdd_row11_col3\" class=\"data row11 col3\" >0.0523</td>\n",
       "      <td id=\"T_18fdd_row11_col4\" class=\"data row11 col4\" >0.0027</td>\n",
       "      <td id=\"T_18fdd_row11_col5\" class=\"data row11 col5\" >0.0024</td>\n",
       "      <td id=\"T_18fdd_row11_col6\" class=\"data row11 col6\" >0.0086</td>\n",
       "    </tr>\n",
       "  </tbody>\n",
       "</table>\n"
      ],
      "text/plain": [
       "<pandas.io.formats.style.Styler at 0x7f69b7da6a10>"
      ]
     },
     "metadata": {},
     "output_type": "display_data"
    },
    {
     "data": {
      "text/html": [],
      "text/plain": [
       "<IPython.core.display.HTML object>"
      ]
     },
     "metadata": {},
     "output_type": "display_data"
    },
    {
     "data": {
      "text/html": [],
      "text/plain": [
       "<IPython.core.display.HTML object>"
      ]
     },
     "metadata": {},
     "output_type": "display_data"
    },
    {
     "data": {
      "image/png": "[encoded data removed]",
      "text/plain": [
       "<Figure size 480x330 with 1 Axes>"
      ]
     },
     "metadata": {},
     "output_type": "display_data"
    },
    {
     "data": {
      "text/html": [],
      "text/plain": [
       "<IPython.core.display.HTML object>"
      ]
     },
     "metadata": {},
     "output_type": "display_data"
    },
    {
     "data": {
      "text/html": [
       "<style type=\"text/css\">\n",
       "#T_f1de6_row10_col0, #T_f1de6_row10_col1, #T_f1de6_row10_col2, #T_f1de6_row10_col3, #T_f1de6_row10_col4, #T_f1de6_row10_col5, #T_f1de6_row10_col6 {\n",
       "  background: yellow;\n",
       "}\n",
       "</style>\n",
       "<table id=\"T_f1de6\">\n",
       "  <thead>\n",
       "    <tr>\n",
       "      <th class=\"blank level0\" >&nbsp;</th>\n",
       "      <th id=\"T_f1de6_level0_col0\" class=\"col_heading level0 col0\" >Accuracy</th>\n",
       "      <th id=\"T_f1de6_level0_col1\" class=\"col_heading level0 col1\" >AUC</th>\n",
       "      <th id=\"T_f1de6_level0_col2\" class=\"col_heading level0 col2\" >Recall</th>\n",
       "      <th id=\"T_f1de6_level0_col3\" class=\"col_heading level0 col3\" >Prec.</th>\n",
       "      <th id=\"T_f1de6_level0_col4\" class=\"col_heading level0 col4\" >F1</th>\n",
       "      <th id=\"T_f1de6_level0_col5\" class=\"col_heading level0 col5\" >Kappa</th>\n",
       "      <th id=\"T_f1de6_level0_col6\" class=\"col_heading level0 col6\" >MCC</th>\n",
       "    </tr>\n",
       "    <tr>\n",
       "      <th class=\"index_name level0\" >Fold</th>\n",
       "      <th class=\"blank col0\" >&nbsp;</th>\n",
       "      <th class=\"blank col1\" >&nbsp;</th>\n",
       "      <th class=\"blank col2\" >&nbsp;</th>\n",
       "      <th class=\"blank col3\" >&nbsp;</th>\n",
       "      <th class=\"blank col4\" >&nbsp;</th>\n",
       "      <th class=\"blank col5\" >&nbsp;</th>\n",
       "      <th class=\"blank col6\" >&nbsp;</th>\n",
       "    </tr>\n",
       "  </thead>\n",
       "  <tbody>\n",
       "    <tr>\n",
       "      <th id=\"T_f1de6_level0_row0\" class=\"row_heading level0 row0\" >0</th>\n",
       "      <td id=\"T_f1de6_row0_col0\" class=\"data row0 col0\" >0.8157</td>\n",
       "      <td id=\"T_f1de6_row0_col1\" class=\"data row0 col1\" >0.6623</td>\n",
       "      <td id=\"T_f1de6_row0_col2\" class=\"data row0 col2\" >0.0095</td>\n",
       "      <td id=\"T_f1de6_row0_col3\" class=\"data row0 col3\" >0.6731</td>\n",
       "      <td id=\"T_f1de6_row0_col4\" class=\"data row0 col4\" >0.0187</td>\n",
       "      <td id=\"T_f1de6_row0_col5\" class=\"data row0 col5\" >0.0136</td>\n",
       "      <td id=\"T_f1de6_row0_col6\" class=\"data row0 col6\" >0.0642</td>\n",
       "    </tr>\n",
       "    <tr>\n",
       "      <th id=\"T_f1de6_level0_row1\" class=\"row_heading level0 row1\" >1</th>\n",
       "      <td id=\"T_f1de6_row1_col0\" class=\"data row1 col0\" >0.8143</td>\n",
       "      <td id=\"T_f1de6_row1_col1\" class=\"data row1 col1\" >0.6637</td>\n",
       "      <td id=\"T_f1de6_row1_col2\" class=\"data row1 col2\" >0.0089</td>\n",
       "      <td id=\"T_f1de6_row1_col3\" class=\"data row1 col3\" >0.4342</td>\n",
       "      <td id=\"T_f1de6_row1_col4\" class=\"data row1 col4\" >0.0175</td>\n",
       "      <td id=\"T_f1de6_row1_col5\" class=\"data row1 col5\" >0.0101</td>\n",
       "      <td id=\"T_f1de6_row1_col6\" class=\"data row1 col6\" >0.0396</td>\n",
       "    </tr>\n",
       "    <tr>\n",
       "      <th id=\"T_f1de6_level0_row2\" class=\"row_heading level0 row2\" >2</th>\n",
       "      <td id=\"T_f1de6_row2_col0\" class=\"data row2 col0\" >0.8143</td>\n",
       "      <td id=\"T_f1de6_row2_col1\" class=\"data row2 col1\" >0.6641</td>\n",
       "      <td id=\"T_f1de6_row2_col2\" class=\"data row2 col2\" >0.0073</td>\n",
       "      <td id=\"T_f1de6_row2_col3\" class=\"data row2 col3\" >0.4286</td>\n",
       "      <td id=\"T_f1de6_row2_col4\" class=\"data row2 col4\" >0.0144</td>\n",
       "      <td id=\"T_f1de6_row2_col5\" class=\"data row2 col5\" >0.0082</td>\n",
       "      <td id=\"T_f1de6_row2_col6\" class=\"data row2 col6\" >0.0352</td>\n",
       "    </tr>\n",
       "    <tr>\n",
       "      <th id=\"T_f1de6_level0_row3\" class=\"row_heading level0 row3\" >3</th>\n",
       "      <td id=\"T_f1de6_row3_col0\" class=\"data row3 col0\" >0.8149</td>\n",
       "      <td id=\"T_f1de6_row3_col1\" class=\"data row3 col1\" >0.6594</td>\n",
       "      <td id=\"T_f1de6_row3_col2\" class=\"data row3 col2\" >0.0081</td>\n",
       "      <td id=\"T_f1de6_row3_col3\" class=\"data row3 col3\" >0.5263</td>\n",
       "      <td id=\"T_f1de6_row3_col4\" class=\"data row3 col4\" >0.0160</td>\n",
       "      <td id=\"T_f1de6_row3_col5\" class=\"data row3 col5\" >0.0104</td>\n",
       "      <td id=\"T_f1de6_row3_col6\" class=\"data row3 col6\" >0.0470</td>\n",
       "    </tr>\n",
       "    <tr>\n",
       "      <th id=\"T_f1de6_level0_row4\" class=\"row_heading level0 row4\" >4</th>\n",
       "      <td id=\"T_f1de6_row4_col0\" class=\"data row4 col0\" >0.8147</td>\n",
       "      <td id=\"T_f1de6_row4_col1\" class=\"data row4 col1\" >0.6613</td>\n",
       "      <td id=\"T_f1de6_row4_col2\" class=\"data row4 col2\" >0.0068</td>\n",
       "      <td id=\"T_f1de6_row4_col3\" class=\"data row4 col3\" >0.4902</td>\n",
       "      <td id=\"T_f1de6_row4_col4\" class=\"data row4 col4\" >0.0133</td>\n",
       "      <td id=\"T_f1de6_row4_col5\" class=\"data row4 col5\" >0.0083</td>\n",
       "      <td id=\"T_f1de6_row4_col6\" class=\"data row4 col6\" >0.0397</td>\n",
       "    </tr>\n",
       "    <tr>\n",
       "      <th id=\"T_f1de6_level0_row5\" class=\"row_heading level0 row5\" >5</th>\n",
       "      <td id=\"T_f1de6_row5_col0\" class=\"data row5 col0\" >0.8146</td>\n",
       "      <td id=\"T_f1de6_row5_col1\" class=\"data row5 col1\" >0.6647</td>\n",
       "      <td id=\"T_f1de6_row5_col2\" class=\"data row5 col2\" >0.0084</td>\n",
       "      <td id=\"T_f1de6_row5_col3\" class=\"data row5 col3\" >0.4697</td>\n",
       "      <td id=\"T_f1de6_row5_col4\" class=\"data row5 col4\" >0.0165</td>\n",
       "      <td id=\"T_f1de6_row5_col5\" class=\"data row5 col5\" >0.0100</td>\n",
       "      <td id=\"T_f1de6_row5_col6\" class=\"data row5 col6\" >0.0422</td>\n",
       "    </tr>\n",
       "    <tr>\n",
       "      <th id=\"T_f1de6_level0_row6\" class=\"row_heading level0 row6\" >6</th>\n",
       "      <td id=\"T_f1de6_row6_col0\" class=\"data row6 col0\" >0.8148</td>\n",
       "      <td id=\"T_f1de6_row6_col1\" class=\"data row6 col1\" >0.6686</td>\n",
       "      <td id=\"T_f1de6_row6_col2\" class=\"data row6 col2\" >0.0097</td>\n",
       "      <td id=\"T_f1de6_row6_col3\" class=\"data row6 col3\" >0.5000</td>\n",
       "      <td id=\"T_f1de6_row6_col4\" class=\"data row6 col4\" >0.0191</td>\n",
       "      <td id=\"T_f1de6_row6_col5\" class=\"data row6 col5\" >0.0121</td>\n",
       "      <td id=\"T_f1de6_row6_col6\" class=\"data row6 col6\" >0.0488</td>\n",
       "    </tr>\n",
       "    <tr>\n",
       "      <th id=\"T_f1de6_level0_row7\" class=\"row_heading level0 row7\" >7</th>\n",
       "      <td id=\"T_f1de6_row7_col0\" class=\"data row7 col0\" >0.8138</td>\n",
       "      <td id=\"T_f1de6_row7_col1\" class=\"data row7 col1\" >0.6702</td>\n",
       "      <td id=\"T_f1de6_row7_col2\" class=\"data row7 col2\" >0.0081</td>\n",
       "      <td id=\"T_f1de6_row7_col3\" class=\"data row7 col3\" >0.3846</td>\n",
       "      <td id=\"T_f1de6_row7_col4\" class=\"data row7 col4\" >0.0159</td>\n",
       "      <td id=\"T_f1de6_row7_col5\" class=\"data row7 col5\" >0.0083</td>\n",
       "      <td id=\"T_f1de6_row7_col6\" class=\"data row7 col6\" >0.0321</td>\n",
       "    </tr>\n",
       "    <tr>\n",
       "      <th id=\"T_f1de6_level0_row8\" class=\"row_heading level0 row8\" >8</th>\n",
       "      <td id=\"T_f1de6_row8_col0\" class=\"data row8 col0\" >0.8155</td>\n",
       "      <td id=\"T_f1de6_row8_col1\" class=\"data row8 col1\" >0.6747</td>\n",
       "      <td id=\"T_f1de6_row8_col2\" class=\"data row8 col2\" >0.0095</td>\n",
       "      <td id=\"T_f1de6_row8_col3\" class=\"data row8 col3\" >0.6481</td>\n",
       "      <td id=\"T_f1de6_row8_col4\" class=\"data row8 col4\" >0.0187</td>\n",
       "      <td id=\"T_f1de6_row8_col5\" class=\"data row8 col5\" >0.0134</td>\n",
       "      <td id=\"T_f1de6_row8_col6\" class=\"data row8 col6\" >0.0621</td>\n",
       "    </tr>\n",
       "    <tr>\n",
       "      <th id=\"T_f1de6_level0_row9\" class=\"row_heading level0 row9\" >9</th>\n",
       "      <td id=\"T_f1de6_row9_col0\" class=\"data row9 col0\" >0.8141</td>\n",
       "      <td id=\"T_f1de6_row9_col1\" class=\"data row9 col1\" >0.6619</td>\n",
       "      <td id=\"T_f1de6_row9_col2\" class=\"data row9 col2\" >0.0087</td>\n",
       "      <td id=\"T_f1de6_row9_col3\" class=\"data row9 col3\" >0.4156</td>\n",
       "      <td id=\"T_f1de6_row9_col4\" class=\"data row9 col4\" >0.0170</td>\n",
       "      <td id=\"T_f1de6_row9_col5\" class=\"data row9 col5\" >0.0095</td>\n",
       "      <td id=\"T_f1de6_row9_col6\" class=\"data row9 col6\" >0.0369</td>\n",
       "    </tr>\n",
       "    <tr>\n",
       "      <th id=\"T_f1de6_level0_row10\" class=\"row_heading level0 row10\" >Mean</th>\n",
       "      <td id=\"T_f1de6_row10_col0\" class=\"data row10 col0\" >0.8147</td>\n",
       "      <td id=\"T_f1de6_row10_col1\" class=\"data row10 col1\" >0.6651</td>\n",
       "      <td id=\"T_f1de6_row10_col2\" class=\"data row10 col2\" >0.0085</td>\n",
       "      <td id=\"T_f1de6_row10_col3\" class=\"data row10 col3\" >0.4970</td>\n",
       "      <td id=\"T_f1de6_row10_col4\" class=\"data row10 col4\" >0.0167</td>\n",
       "      <td id=\"T_f1de6_row10_col5\" class=\"data row10 col5\" >0.0104</td>\n",
       "      <td id=\"T_f1de6_row10_col6\" class=\"data row10 col6\" >0.0448</td>\n",
       "    </tr>\n",
       "    <tr>\n",
       "      <th id=\"T_f1de6_level0_row11\" class=\"row_heading level0 row11\" >Std</th>\n",
       "      <td id=\"T_f1de6_row11_col0\" class=\"data row11 col0\" >0.0006</td>\n",
       "      <td id=\"T_f1de6_row11_col1\" class=\"data row11 col1\" >0.0044</td>\n",
       "      <td id=\"T_f1de6_row11_col2\" class=\"data row11 col2\" >0.0009</td>\n",
       "      <td id=\"T_f1de6_row11_col3\" class=\"data row11 col3\" >0.0913</td>\n",
       "      <td id=\"T_f1de6_row11_col4\" class=\"data row11 col4\" >0.0018</td>\n",
       "      <td id=\"T_f1de6_row11_col5\" class=\"data row11 col5\" >0.0019</td>\n",
       "      <td id=\"T_f1de6_row11_col6\" class=\"data row11 col6\" >0.0103</td>\n",
       "    </tr>\n",
       "  </tbody>\n",
       "</table>\n"
      ],
      "text/plain": [
       "<pandas.io.formats.style.Styler at 0x7f69c811e560>"
      ]
     },
     "metadata": {},
     "output_type": "display_data"
    },
    {
     "data": {
      "text/html": [],
      "text/plain": [
       "<IPython.core.display.HTML object>"
      ]
     },
     "metadata": {},
     "output_type": "display_data"
    },
    {
     "data": {
      "text/html": [],
      "text/plain": [
       "<IPython.core.display.HTML object>"
      ]
     },
     "metadata": {},
     "output_type": "display_data"
    },
    {
     "data": {
      "image/png": "[encoded data removed]",
      "text/plain": [
       "<Figure size 480x330 with 1 Axes>"
      ]
     },
     "metadata": {},
     "output_type": "display_data"
    },
    {
     "data": {
      "text/html": [],
      "text/plain": [
       "<IPython.core.display.HTML object>"
      ]
     },
     "metadata": {},
     "output_type": "display_data"
    },
    {
     "data": {
      "text/html": [
       "<style type=\"text/css\">\n",
       "#T_409c0_row10_col0, #T_409c0_row10_col1, #T_409c0_row10_col2, #T_409c0_row10_col3, #T_409c0_row10_col4, #T_409c0_row10_col5, #T_409c0_row10_col6 {\n",
       "  background: yellow;\n",
       "}\n",
       "</style>\n",
       "<table id=\"T_409c0\">\n",
       "  <thead>\n",
       "    <tr>\n",
       "      <th class=\"blank level0\" >&nbsp;</th>\n",
       "      <th id=\"T_409c0_level0_col0\" class=\"col_heading level0 col0\" >Accuracy</th>\n",
       "      <th id=\"T_409c0_level0_col1\" class=\"col_heading level0 col1\" >AUC</th>\n",
       "      <th id=\"T_409c0_level0_col2\" class=\"col_heading level0 col2\" >Recall</th>\n",
       "      <th id=\"T_409c0_level0_col3\" class=\"col_heading level0 col3\" >Prec.</th>\n",
       "      <th id=\"T_409c0_level0_col4\" class=\"col_heading level0 col4\" >F1</th>\n",
       "      <th id=\"T_409c0_level0_col5\" class=\"col_heading level0 col5\" >Kappa</th>\n",
       "      <th id=\"T_409c0_level0_col6\" class=\"col_heading level0 col6\" >MCC</th>\n",
       "    </tr>\n",
       "    <tr>\n",
       "      <th class=\"index_name level0\" >Fold</th>\n",
       "      <th class=\"blank col0\" >&nbsp;</th>\n",
       "      <th class=\"blank col1\" >&nbsp;</th>\n",
       "      <th class=\"blank col2\" >&nbsp;</th>\n",
       "      <th class=\"blank col3\" >&nbsp;</th>\n",
       "      <th class=\"blank col4\" >&nbsp;</th>\n",
       "      <th class=\"blank col5\" >&nbsp;</th>\n",
       "      <th class=\"blank col6\" >&nbsp;</th>\n",
       "    </tr>\n",
       "  </thead>\n",
       "  <tbody>\n",
       "    <tr>\n",
       "      <th id=\"T_409c0_level0_row0\" class=\"row_heading level0 row0\" >0</th>\n",
       "      <td id=\"T_409c0_row0_col0\" class=\"data row0 col0\" >0.8151</td>\n",
       "      <td id=\"T_409c0_row0_col1\" class=\"data row0 col1\" >0.6593</td>\n",
       "      <td id=\"T_409c0_row0_col2\" class=\"data row0 col2\" >0.0057</td>\n",
       "      <td id=\"T_409c0_row0_col3\" class=\"data row0 col3\" >0.5833</td>\n",
       "      <td id=\"T_409c0_row0_col4\" class=\"data row0 col4\" >0.0113</td>\n",
       "      <td id=\"T_409c0_row0_col5\" class=\"data row0 col5\" >0.0077</td>\n",
       "      <td id=\"T_409c0_row0_col6\" class=\"data row0 col6\" >0.0436</td>\n",
       "    </tr>\n",
       "    <tr>\n",
       "      <th id=\"T_409c0_level0_row1\" class=\"row_heading level0 row1\" >1</th>\n",
       "      <td id=\"T_409c0_row1_col0\" class=\"data row1 col0\" >0.8146</td>\n",
       "      <td id=\"T_409c0_row1_col1\" class=\"data row1 col1\" >0.6650</td>\n",
       "      <td id=\"T_409c0_row1_col2\" class=\"data row1 col2\" >0.0073</td>\n",
       "      <td id=\"T_409c0_row1_col3\" class=\"data row1 col3\" >0.4737</td>\n",
       "      <td id=\"T_409c0_row1_col4\" class=\"data row1 col4\" >0.0144</td>\n",
       "      <td id=\"T_409c0_row1_col5\" class=\"data row1 col5\" >0.0088</td>\n",
       "      <td id=\"T_409c0_row1_col6\" class=\"data row1 col6\" >0.0397</td>\n",
       "    </tr>\n",
       "    <tr>\n",
       "      <th id=\"T_409c0_level0_row2\" class=\"row_heading level0 row2\" >2</th>\n",
       "      <td id=\"T_409c0_row2_col0\" class=\"data row2 col0\" >0.8150</td>\n",
       "      <td id=\"T_409c0_row2_col1\" class=\"data row2 col1\" >0.6640</td>\n",
       "      <td id=\"T_409c0_row2_col2\" class=\"data row2 col2\" >0.0068</td>\n",
       "      <td id=\"T_409c0_row2_col3\" class=\"data row2 col3\" >0.5435</td>\n",
       "      <td id=\"T_409c0_row2_col4\" class=\"data row2 col4\" >0.0134</td>\n",
       "      <td id=\"T_409c0_row2_col5\" class=\"data row2 col5\" >0.0088</td>\n",
       "      <td id=\"T_409c0_row2_col6\" class=\"data row2 col6\" >0.0443</td>\n",
       "    </tr>\n",
       "    <tr>\n",
       "      <th id=\"T_409c0_level0_row3\" class=\"row_heading level0 row3\" >3</th>\n",
       "      <td id=\"T_409c0_row3_col0\" class=\"data row3 col0\" >0.8148</td>\n",
       "      <td id=\"T_409c0_row3_col1\" class=\"data row3 col1\" >0.6597</td>\n",
       "      <td id=\"T_409c0_row3_col2\" class=\"data row3 col2\" >0.0060</td>\n",
       "      <td id=\"T_409c0_row3_col3\" class=\"data row3 col3\" >0.5116</td>\n",
       "      <td id=\"T_409c0_row3_col4\" class=\"data row3 col4\" >0.0118</td>\n",
       "      <td id=\"T_409c0_row3_col5\" class=\"data row3 col5\" >0.0075</td>\n",
       "      <td id=\"T_409c0_row3_col6\" class=\"data row3 col6\" >0.0390</td>\n",
       "    </tr>\n",
       "    <tr>\n",
       "      <th id=\"T_409c0_level0_row4\" class=\"row_heading level0 row4\" >4</th>\n",
       "      <td id=\"T_409c0_row4_col0\" class=\"data row4 col0\" >0.8149</td>\n",
       "      <td id=\"T_409c0_row4_col1\" class=\"data row4 col1\" >0.6577</td>\n",
       "      <td id=\"T_409c0_row4_col2\" class=\"data row4 col2\" >0.0060</td>\n",
       "      <td id=\"T_409c0_row4_col3\" class=\"data row4 col3\" >0.5366</td>\n",
       "      <td id=\"T_409c0_row4_col4\" class=\"data row4 col4\" >0.0118</td>\n",
       "      <td id=\"T_409c0_row4_col5\" class=\"data row4 col5\" >0.0077</td>\n",
       "      <td id=\"T_409c0_row4_col6\" class=\"data row4 col6\" >0.0410</td>\n",
       "    </tr>\n",
       "    <tr>\n",
       "      <th id=\"T_409c0_level0_row5\" class=\"row_heading level0 row5\" >5</th>\n",
       "      <td id=\"T_409c0_row5_col0\" class=\"data row5 col0\" >0.8143</td>\n",
       "      <td id=\"T_409c0_row5_col1\" class=\"data row5 col1\" >0.6645</td>\n",
       "      <td id=\"T_409c0_row5_col2\" class=\"data row5 col2\" >0.0041</td>\n",
       "      <td id=\"T_409c0_row5_col3\" class=\"data row5 col3\" >0.3846</td>\n",
       "      <td id=\"T_409c0_row5_col4\" class=\"data row5 col4\" >0.0080</td>\n",
       "      <td id=\"T_409c0_row5_col5\" class=\"data row5 col5\" >0.0042</td>\n",
       "      <td id=\"T_409c0_row5_col6\" class=\"data row5 col6\" >0.0227</td>\n",
       "    </tr>\n",
       "    <tr>\n",
       "      <th id=\"T_409c0_level0_row6\" class=\"row_heading level0 row6\" >6</th>\n",
       "      <td id=\"T_409c0_row6_col0\" class=\"data row6 col0\" >0.8152</td>\n",
       "      <td id=\"T_409c0_row6_col1\" class=\"data row6 col1\" >0.6704</td>\n",
       "      <td id=\"T_409c0_row6_col2\" class=\"data row6 col2\" >0.0078</td>\n",
       "      <td id=\"T_409c0_row6_col3\" class=\"data row6 col3\" >0.5918</td>\n",
       "      <td id=\"T_409c0_row6_col4\" class=\"data row6 col4\" >0.0155</td>\n",
       "      <td id=\"T_409c0_row6_col5\" class=\"data row6 col5\" >0.0107</td>\n",
       "      <td id=\"T_409c0_row6_col6\" class=\"data row6 col6\" >0.0519</td>\n",
       "    </tr>\n",
       "    <tr>\n",
       "      <th id=\"T_409c0_level0_row7\" class=\"row_heading level0 row7\" >7</th>\n",
       "      <td id=\"T_409c0_row7_col0\" class=\"data row7 col0\" >0.8143</td>\n",
       "      <td id=\"T_409c0_row7_col1\" class=\"data row7 col1\" >0.6700</td>\n",
       "      <td id=\"T_409c0_row7_col2\" class=\"data row7 col2\" >0.0070</td>\n",
       "      <td id=\"T_409c0_row7_col3\" class=\"data row7 col3\" >0.4333</td>\n",
       "      <td id=\"T_409c0_row7_col4\" class=\"data row7 col4\" >0.0138</td>\n",
       "      <td id=\"T_409c0_row7_col5\" class=\"data row7 col5\" >0.0080</td>\n",
       "      <td id=\"T_409c0_row7_col6\" class=\"data row7 col6\" >0.0351</td>\n",
       "    </tr>\n",
       "    <tr>\n",
       "      <th id=\"T_409c0_level0_row8\" class=\"row_heading level0 row8\" >8</th>\n",
       "      <td id=\"T_409c0_row8_col0\" class=\"data row8 col0\" >0.8156</td>\n",
       "      <td id=\"T_409c0_row8_col1\" class=\"data row8 col1\" >0.6747</td>\n",
       "      <td id=\"T_409c0_row8_col2\" class=\"data row8 col2\" >0.0087</td>\n",
       "      <td id=\"T_409c0_row8_col3\" class=\"data row8 col3\" >0.6809</td>\n",
       "      <td id=\"T_409c0_row8_col4\" class=\"data row8 col4\" >0.0171</td>\n",
       "      <td id=\"T_409c0_row8_col5\" class=\"data row8 col5\" >0.0125</td>\n",
       "      <td id=\"T_409c0_row8_col6\" class=\"data row8 col6\" >0.0620</td>\n",
       "    </tr>\n",
       "    <tr>\n",
       "      <th id=\"T_409c0_level0_row9\" class=\"row_heading level0 row9\" >9</th>\n",
       "      <td id=\"T_409c0_row9_col0\" class=\"data row9 col0\" >0.8144</td>\n",
       "      <td id=\"T_409c0_row9_col1\" class=\"data row9 col1\" >0.6611</td>\n",
       "      <td id=\"T_409c0_row9_col2\" class=\"data row9 col2\" >0.0054</td>\n",
       "      <td id=\"T_409c0_row9_col3\" class=\"data row9 col3\" >0.4348</td>\n",
       "      <td id=\"T_409c0_row9_col4\" class=\"data row9 col4\" >0.0107</td>\n",
       "      <td id=\"T_409c0_row9_col5\" class=\"data row9 col5\" >0.0062</td>\n",
       "      <td id=\"T_409c0_row9_col6\" class=\"data row9 col6\" >0.0309</td>\n",
       "    </tr>\n",
       "    <tr>\n",
       "      <th id=\"T_409c0_level0_row10\" class=\"row_heading level0 row10\" >Mean</th>\n",
       "      <td id=\"T_409c0_row10_col0\" class=\"data row10 col0\" >0.8148</td>\n",
       "      <td id=\"T_409c0_row10_col1\" class=\"data row10 col1\" >0.6646</td>\n",
       "      <td id=\"T_409c0_row10_col2\" class=\"data row10 col2\" >0.0065</td>\n",
       "      <td id=\"T_409c0_row10_col3\" class=\"data row10 col3\" >0.5174</td>\n",
       "      <td id=\"T_409c0_row10_col4\" class=\"data row10 col4\" >0.0128</td>\n",
       "      <td id=\"T_409c0_row10_col5\" class=\"data row10 col5\" >0.0082</td>\n",
       "      <td id=\"T_409c0_row10_col6\" class=\"data row10 col6\" >0.0410</td>\n",
       "    </tr>\n",
       "    <tr>\n",
       "      <th id=\"T_409c0_level0_row11\" class=\"row_heading level0 row11\" >Std</th>\n",
       "      <td id=\"T_409c0_row11_col0\" class=\"data row11 col0\" >0.0004</td>\n",
       "      <td id=\"T_409c0_row11_col1\" class=\"data row11 col1\" >0.0053</td>\n",
       "      <td id=\"T_409c0_row11_col2\" class=\"data row11 col2\" >0.0013</td>\n",
       "      <td id=\"T_409c0_row11_col3\" class=\"data row11 col3\" >0.0843</td>\n",
       "      <td id=\"T_409c0_row11_col4\" class=\"data row11 col4\" >0.0025</td>\n",
       "      <td id=\"T_409c0_row11_col5\" class=\"data row11 col5\" >0.0022</td>\n",
       "      <td id=\"T_409c0_row11_col6\" class=\"data row11 col6\" >0.0103</td>\n",
       "    </tr>\n",
       "  </tbody>\n",
       "</table>\n"
      ],
      "text/plain": [
       "<pandas.io.formats.style.Styler at 0x7f69c81ebf40>"
      ]
     },
     "metadata": {},
     "output_type": "display_data"
    },
    {
     "data": {
      "text/html": [],
      "text/plain": [
       "<IPython.core.display.HTML object>"
      ]
     },
     "metadata": {},
     "output_type": "display_data"
    },
    {
     "data": {
      "text/html": [],
      "text/plain": [
       "<IPython.core.display.HTML object>"
      ]
     },
     "metadata": {},
     "output_type": "display_data"
    },
    {
     "data": {
      "image/png": "[encoded data removed]",
      "text/plain": [
       "<Figure size 480x330 with 1 Axes>"
      ]
     },
     "metadata": {},
     "output_type": "display_data"
    },
    {
     "data": {
      "text/html": [],
      "text/plain": [
       "<IPython.core.display.HTML object>"
      ]
     },
     "metadata": {},
     "output_type": "display_data"
    },
    {
     "data": {
      "text/html": [
       "<style type=\"text/css\">\n",
       "#T_328ef_row10_col0, #T_328ef_row10_col1, #T_328ef_row10_col2, #T_328ef_row10_col3, #T_328ef_row10_col4, #T_328ef_row10_col5, #T_328ef_row10_col6 {\n",
       "  background: yellow;\n",
       "}\n",
       "</style>\n",
       "<table id=\"T_328ef\">\n",
       "  <thead>\n",
       "    <tr>\n",
       "      <th class=\"blank level0\" >&nbsp;</th>\n",
       "      <th id=\"T_328ef_level0_col0\" class=\"col_heading level0 col0\" >Accuracy</th>\n",
       "      <th id=\"T_328ef_level0_col1\" class=\"col_heading level0 col1\" >AUC</th>\n",
       "      <th id=\"T_328ef_level0_col2\" class=\"col_heading level0 col2\" >Recall</th>\n",
       "      <th id=\"T_328ef_level0_col3\" class=\"col_heading level0 col3\" >Prec.</th>\n",
       "      <th id=\"T_328ef_level0_col4\" class=\"col_heading level0 col4\" >F1</th>\n",
       "      <th id=\"T_328ef_level0_col5\" class=\"col_heading level0 col5\" >Kappa</th>\n",
       "      <th id=\"T_328ef_level0_col6\" class=\"col_heading level0 col6\" >MCC</th>\n",
       "    </tr>\n",
       "    <tr>\n",
       "      <th class=\"index_name level0\" >Fold</th>\n",
       "      <th class=\"blank col0\" >&nbsp;</th>\n",
       "      <th class=\"blank col1\" >&nbsp;</th>\n",
       "      <th class=\"blank col2\" >&nbsp;</th>\n",
       "      <th class=\"blank col3\" >&nbsp;</th>\n",
       "      <th class=\"blank col4\" >&nbsp;</th>\n",
       "      <th class=\"blank col5\" >&nbsp;</th>\n",
       "      <th class=\"blank col6\" >&nbsp;</th>\n",
       "    </tr>\n",
       "  </thead>\n",
       "  <tbody>\n",
       "    <tr>\n",
       "      <th id=\"T_328ef_level0_row0\" class=\"row_heading level0 row0\" >0</th>\n",
       "      <td id=\"T_328ef_row0_col0\" class=\"data row0 col0\" >0.8139</td>\n",
       "      <td id=\"T_328ef_row0_col1\" class=\"data row0 col1\" >0.6410</td>\n",
       "      <td id=\"T_328ef_row0_col2\" class=\"data row0 col2\" >0.0379</td>\n",
       "      <td id=\"T_328ef_row0_col3\" class=\"data row0 col3\" >0.4714</td>\n",
       "      <td id=\"T_328ef_row0_col4\" class=\"data row0 col4\" >0.0701</td>\n",
       "      <td id=\"T_328ef_row0_col5\" class=\"data row0 col5\" >0.0438</td>\n",
       "      <td id=\"T_328ef_row0_col6\" class=\"data row0 col6\" >0.0905</td>\n",
       "    </tr>\n",
       "    <tr>\n",
       "      <th id=\"T_328ef_level0_row1\" class=\"row_heading level0 row1\" >1</th>\n",
       "      <td id=\"T_328ef_row1_col0\" class=\"data row1 col0\" >0.8108</td>\n",
       "      <td id=\"T_328ef_row1_col1\" class=\"data row1 col1\" >0.6340</td>\n",
       "      <td id=\"T_328ef_row1_col2\" class=\"data row1 col2\" >0.0311</td>\n",
       "      <td id=\"T_328ef_row1_col3\" class=\"data row1 col3\" >0.3722</td>\n",
       "      <td id=\"T_328ef_row1_col4\" class=\"data row1 col4\" >0.0574</td>\n",
       "      <td id=\"T_328ef_row1_col5\" class=\"data row1 col5\" >0.0297</td>\n",
       "      <td id=\"T_328ef_row1_col6\" class=\"data row1 col6\" >0.0603</td>\n",
       "    </tr>\n",
       "    <tr>\n",
       "      <th id=\"T_328ef_level0_row2\" class=\"row_heading level0 row2\" >2</th>\n",
       "      <td id=\"T_328ef_row2_col0\" class=\"data row2 col0\" >0.8124</td>\n",
       "      <td id=\"T_328ef_row2_col1\" class=\"data row2 col1\" >0.6432</td>\n",
       "      <td id=\"T_328ef_row2_col2\" class=\"data row2 col2\" >0.0316</td>\n",
       "      <td id=\"T_328ef_row2_col3\" class=\"data row2 col3\" >0.4164</td>\n",
       "      <td id=\"T_328ef_row2_col4\" class=\"data row2 col4\" >0.0588</td>\n",
       "      <td id=\"T_328ef_row2_col5\" class=\"data row2 col5\" >0.0335</td>\n",
       "      <td id=\"T_328ef_row2_col6\" class=\"data row2 col6\" >0.0711</td>\n",
       "    </tr>\n",
       "    <tr>\n",
       "      <th id=\"T_328ef_level0_row3\" class=\"row_heading level0 row3\" >3</th>\n",
       "      <td id=\"T_328ef_row3_col0\" class=\"data row3 col0\" >0.8111</td>\n",
       "      <td id=\"T_328ef_row3_col1\" class=\"data row3 col1\" >0.6377</td>\n",
       "      <td id=\"T_328ef_row3_col2\" class=\"data row3 col2\" >0.0311</td>\n",
       "      <td id=\"T_328ef_row3_col3\" class=\"data row3 col3\" >0.3795</td>\n",
       "      <td id=\"T_328ef_row3_col4\" class=\"data row3 col4\" >0.0575</td>\n",
       "      <td id=\"T_328ef_row3_col5\" class=\"data row3 col5\" >0.0303</td>\n",
       "      <td id=\"T_328ef_row3_col6\" class=\"data row3 col6\" >0.0621</td>\n",
       "    </tr>\n",
       "    <tr>\n",
       "      <th id=\"T_328ef_level0_row4\" class=\"row_heading level0 row4\" >4</th>\n",
       "      <td id=\"T_328ef_row4_col0\" class=\"data row4 col0\" >0.8124</td>\n",
       "      <td id=\"T_328ef_row4_col1\" class=\"data row4 col1\" >0.6392</td>\n",
       "      <td id=\"T_328ef_row4_col2\" class=\"data row4 col2\" >0.0306</td>\n",
       "      <td id=\"T_328ef_row4_col3\" class=\"data row4 col3\" >0.4139</td>\n",
       "      <td id=\"T_328ef_row4_col4\" class=\"data row4 col4\" >0.0569</td>\n",
       "      <td id=\"T_328ef_row4_col5\" class=\"data row4 col5\" >0.0323</td>\n",
       "      <td id=\"T_328ef_row4_col6\" class=\"data row4 col6\" >0.0693</td>\n",
       "    </tr>\n",
       "    <tr>\n",
       "      <th id=\"T_328ef_level0_row5\" class=\"row_heading level0 row5\" >5</th>\n",
       "      <td id=\"T_328ef_row5_col0\" class=\"data row5 col0\" >0.8114</td>\n",
       "      <td id=\"T_328ef_row5_col1\" class=\"data row5 col1\" >0.6326</td>\n",
       "      <td id=\"T_328ef_row5_col2\" class=\"data row5 col2\" >0.0306</td>\n",
       "      <td id=\"T_328ef_row5_col3\" class=\"data row5 col3\" >0.3844</td>\n",
       "      <td id=\"T_328ef_row5_col4\" class=\"data row5 col4\" >0.0566</td>\n",
       "      <td id=\"T_328ef_row5_col5\" class=\"data row5 col5\" >0.0302</td>\n",
       "      <td id=\"T_328ef_row5_col6\" class=\"data row5 col6\" >0.0627</td>\n",
       "    </tr>\n",
       "    <tr>\n",
       "      <th id=\"T_328ef_level0_row6\" class=\"row_heading level0 row6\" >6</th>\n",
       "      <td id=\"T_328ef_row6_col0\" class=\"data row6 col0\" >0.8136</td>\n",
       "      <td id=\"T_328ef_row6_col1\" class=\"data row6 col1\" >0.6505</td>\n",
       "      <td id=\"T_328ef_row6_col2\" class=\"data row6 col2\" >0.0376</td>\n",
       "      <td id=\"T_328ef_row6_col3\" class=\"data row6 col3\" >0.4618</td>\n",
       "      <td id=\"T_328ef_row6_col4\" class=\"data row6 col4\" >0.0696</td>\n",
       "      <td id=\"T_328ef_row6_col5\" class=\"data row6 col5\" >0.0429</td>\n",
       "      <td id=\"T_328ef_row6_col6\" class=\"data row6 col6\" >0.0881</td>\n",
       "    </tr>\n",
       "    <tr>\n",
       "      <th id=\"T_328ef_level0_row7\" class=\"row_heading level0 row7\" >7</th>\n",
       "      <td id=\"T_328ef_row7_col0\" class=\"data row7 col0\" >0.8100</td>\n",
       "      <td id=\"T_328ef_row7_col1\" class=\"data row7 col1\" >0.6418</td>\n",
       "      <td id=\"T_328ef_row7_col2\" class=\"data row7 col2\" >0.0298</td>\n",
       "      <td id=\"T_328ef_row7_col3\" class=\"data row7 col3\" >0.3503</td>\n",
       "      <td id=\"T_328ef_row7_col4\" class=\"data row7 col4\" >0.0548</td>\n",
       "      <td id=\"T_328ef_row7_col5\" class=\"data row7 col5\" >0.0266</td>\n",
       "      <td id=\"T_328ef_row7_col6\" class=\"data row7 col6\" >0.0537</td>\n",
       "    </tr>\n",
       "    <tr>\n",
       "      <th id=\"T_328ef_level0_row8\" class=\"row_heading level0 row8\" >8</th>\n",
       "      <td id=\"T_328ef_row8_col0\" class=\"data row8 col0\" >0.8136</td>\n",
       "      <td id=\"T_328ef_row8_col1\" class=\"data row8 col1\" >0.6538</td>\n",
       "      <td id=\"T_328ef_row8_col2\" class=\"data row8 col2\" >0.0357</td>\n",
       "      <td id=\"T_328ef_row8_col3\" class=\"data row8 col3\" >0.4599</td>\n",
       "      <td id=\"T_328ef_row8_col4\" class=\"data row8 col4\" >0.0663</td>\n",
       "      <td id=\"T_328ef_row8_col5\" class=\"data row8 col5\" >0.0407</td>\n",
       "      <td id=\"T_328ef_row8_col6\" class=\"data row8 col6\" >0.0854</td>\n",
       "    </tr>\n",
       "    <tr>\n",
       "      <th id=\"T_328ef_level0_row9\" class=\"row_heading level0 row9\" >9</th>\n",
       "      <td id=\"T_328ef_row9_col0\" class=\"data row9 col0\" >0.8098</td>\n",
       "      <td id=\"T_328ef_row9_col1\" class=\"data row9 col1\" >0.6362</td>\n",
       "      <td id=\"T_328ef_row9_col2\" class=\"data row9 col2\" >0.0289</td>\n",
       "      <td id=\"T_328ef_row9_col3\" class=\"data row9 col3\" >0.3429</td>\n",
       "      <td id=\"T_328ef_row9_col4\" class=\"data row9 col4\" >0.0534</td>\n",
       "      <td id=\"T_328ef_row9_col5\" class=\"data row9 col5\" >0.0253</td>\n",
       "      <td id=\"T_328ef_row9_col6\" class=\"data row9 col6\" >0.0512</td>\n",
       "    </tr>\n",
       "    <tr>\n",
       "      <th id=\"T_328ef_level0_row10\" class=\"row_heading level0 row10\" >Mean</th>\n",
       "      <td id=\"T_328ef_row10_col0\" class=\"data row10 col0\" >0.8119</td>\n",
       "      <td id=\"T_328ef_row10_col1\" class=\"data row10 col1\" >0.6410</td>\n",
       "      <td id=\"T_328ef_row10_col2\" class=\"data row10 col2\" >0.0325</td>\n",
       "      <td id=\"T_328ef_row10_col3\" class=\"data row10 col3\" >0.4053</td>\n",
       "      <td id=\"T_328ef_row10_col4\" class=\"data row10 col4\" >0.0601</td>\n",
       "      <td id=\"T_328ef_row10_col5\" class=\"data row10 col5\" >0.0335</td>\n",
       "      <td id=\"T_328ef_row10_col6\" class=\"data row10 col6\" >0.0694</td>\n",
       "    </tr>\n",
       "    <tr>\n",
       "      <th id=\"T_328ef_level0_row11\" class=\"row_heading level0 row11\" >Std</th>\n",
       "      <td id=\"T_328ef_row11_col0\" class=\"data row11 col0\" >0.0014</td>\n",
       "      <td id=\"T_328ef_row11_col1\" class=\"data row11 col1\" >0.0065</td>\n",
       "      <td id=\"T_328ef_row11_col2\" class=\"data row11 col2\" >0.0031</td>\n",
       "      <td id=\"T_328ef_row11_col3\" class=\"data row11 col3\" >0.0446</td>\n",
       "      <td id=\"T_328ef_row11_col4\" class=\"data row11 col4\" >0.0058</td>\n",
       "      <td id=\"T_328ef_row11_col5\" class=\"data row11 col5\" >0.0063</td>\n",
       "      <td id=\"T_328ef_row11_col6\" class=\"data row11 col6\" >0.0135</td>\n",
       "    </tr>\n",
       "  </tbody>\n",
       "</table>\n"
      ],
      "text/plain": [
       "<pandas.io.formats.style.Styler at 0x7f69d0592ce0>"
      ]
     },
     "metadata": {},
     "output_type": "display_data"
    },
    {
     "data": {
      "text/html": [],
      "text/plain": [
       "<IPython.core.display.HTML object>"
      ]
     },
     "metadata": {},
     "output_type": "display_data"
    },
    {
     "data": {
      "text/html": [],
      "text/plain": [
       "<IPython.core.display.HTML object>"
      ]
     },
     "metadata": {},
     "output_type": "display_data"
    },
    {
     "data": {
      "image/png": "[encoded data removed]",
      "text/plain": [
       "<Figure size 480x330 with 1 Axes>"
      ]
     },
     "metadata": {},
     "output_type": "display_data"
    }
   ],
   "source": [
    "regression_model_ada, regression_model_lightgbm, regression_model_gbc, regression_model_rf = model.common.create_models(train_data, target_column)"
   ]
  },
  {
   "cell_type": "markdown",
   "metadata": {
    "execution": {
     "iopub.execute_input": "2023-06-08T23:08:22.530994Z",
     "iopub.status.busy": "2023-06-08T23:08:22.529719Z",
     "iopub.status.idle": "2023-06-08T23:08:22.542651Z",
     "shell.execute_reply": "2023-06-08T23:08:22.540043Z",
     "shell.execute_reply.started": "2023-06-08T23:08:22.530922Z"
    }
   },
   "source": [
    "**evaluate model**"
   ]
  },
  {
   "cell_type": "markdown",
   "metadata": {},
   "source": [
    "`lightgbm` shows very good AUC of `0.97`, `rf` as well with `1.0` train AUC.\n",
    "\n",
    "`rf` seemed like too overfit with 1.0 train AUC but its test precision as well is the best among others.\n",
    "\n",
    "`ada` shows very low recall thus inpractical.\n"
   ]
  },
  {
   "cell_type": "code",
   "execution_count": 8,
   "metadata": {
    "execution": {
     "iopub.execute_input": "2023-07-03T23:03:52.696864Z",
     "iopub.status.busy": "2023-07-03T23:03:52.696690Z",
     "iopub.status.idle": "2023-07-03T23:04:13.917277Z",
     "shell.execute_reply": "2023-07-03T23:04:13.916379Z",
     "shell.execute_reply.started": "2023-07-03T23:03:52.696849Z"
    }
   },
   "outputs": [
    {
     "data": {
      "text/html": [
       "<style type=\"text/css\">\n",
       "</style>\n",
       "<table id=\"T_d9fea\">\n",
       "  <thead>\n",
       "    <tr>\n",
       "      <th class=\"blank level0\" >&nbsp;</th>\n",
       "      <th id=\"T_d9fea_level0_col0\" class=\"col_heading level0 col0\" >Model</th>\n",
       "      <th id=\"T_d9fea_level0_col1\" class=\"col_heading level0 col1\" >Accuracy</th>\n",
       "      <th id=\"T_d9fea_level0_col2\" class=\"col_heading level0 col2\" >AUC</th>\n",
       "      <th id=\"T_d9fea_level0_col3\" class=\"col_heading level0 col3\" >Recall</th>\n",
       "      <th id=\"T_d9fea_level0_col4\" class=\"col_heading level0 col4\" >Prec.</th>\n",
       "      <th id=\"T_d9fea_level0_col5\" class=\"col_heading level0 col5\" >F1</th>\n",
       "      <th id=\"T_d9fea_level0_col6\" class=\"col_heading level0 col6\" >Kappa</th>\n",
       "      <th id=\"T_d9fea_level0_col7\" class=\"col_heading level0 col7\" >MCC</th>\n",
       "    </tr>\n",
       "  </thead>\n",
       "  <tbody>\n",
       "    <tr>\n",
       "      <th id=\"T_d9fea_level0_row0\" class=\"row_heading level0 row0\" >0</th>\n",
       "      <td id=\"T_d9fea_row0_col0\" class=\"data row0 col0\" >Ada Boost Classifier</td>\n",
       "      <td id=\"T_d9fea_row0_col1\" class=\"data row0 col1\" >0.8145</td>\n",
       "      <td id=\"T_d9fea_row0_col2\" class=\"data row0 col2\" >0.6604</td>\n",
       "      <td id=\"T_d9fea_row0_col3\" class=\"data row0 col3\" >0.0103</td>\n",
       "      <td id=\"T_d9fea_row0_col4\" class=\"data row0 col4\" >0.4727</td>\n",
       "      <td id=\"T_d9fea_row0_col5\" class=\"data row0 col5\" >0.0202</td>\n",
       "      <td id=\"T_d9fea_row0_col6\" class=\"data row0 col6\" >0.0124</td>\n",
       "      <td id=\"T_d9fea_row0_col7\" class=\"data row0 col7\" >0.0472</td>\n",
       "    </tr>\n",
       "  </tbody>\n",
       "</table>\n"
      ],
      "text/plain": [
       "<pandas.io.formats.style.Styler at 0x7f69c811f700>"
      ]
     },
     "metadata": {},
     "output_type": "display_data"
    },
    {
     "data": {
      "text/html": [
       "<style type=\"text/css\">\n",
       "</style>\n",
       "<table id=\"T_ca646\">\n",
       "  <thead>\n",
       "    <tr>\n",
       "      <th class=\"blank level0\" >&nbsp;</th>\n",
       "      <th id=\"T_ca646_level0_col0\" class=\"col_heading level0 col0\" >Model</th>\n",
       "      <th id=\"T_ca646_level0_col1\" class=\"col_heading level0 col1\" >Accuracy</th>\n",
       "      <th id=\"T_ca646_level0_col2\" class=\"col_heading level0 col2\" >AUC</th>\n",
       "      <th id=\"T_ca646_level0_col3\" class=\"col_heading level0 col3\" >Recall</th>\n",
       "      <th id=\"T_ca646_level0_col4\" class=\"col_heading level0 col4\" >Prec.</th>\n",
       "      <th id=\"T_ca646_level0_col5\" class=\"col_heading level0 col5\" >F1</th>\n",
       "      <th id=\"T_ca646_level0_col6\" class=\"col_heading level0 col6\" >Kappa</th>\n",
       "      <th id=\"T_ca646_level0_col7\" class=\"col_heading level0 col7\" >MCC</th>\n",
       "    </tr>\n",
       "  </thead>\n",
       "  <tbody>\n",
       "    <tr>\n",
       "      <th id=\"T_ca646_level0_row0\" class=\"row_heading level0 row0\" >0</th>\n",
       "      <td id=\"T_ca646_row0_col0\" class=\"data row0 col0\" >Gradient Boosting Classifier</td>\n",
       "      <td id=\"T_ca646_row0_col1\" class=\"data row0 col1\" >0.8154</td>\n",
       "      <td id=\"T_ca646_row0_col2\" class=\"data row0 col2\" >0.6703</td>\n",
       "      <td id=\"T_ca646_row0_col3\" class=\"data row0 col3\" >0.0085</td>\n",
       "      <td id=\"T_ca646_row0_col4\" class=\"data row0 col4\" >0.6193</td>\n",
       "      <td id=\"T_ca646_row0_col5\" class=\"data row0 col5\" >0.0168</td>\n",
       "      <td id=\"T_ca646_row0_col6\" class=\"data row0 col6\" >0.0118</td>\n",
       "      <td id=\"T_ca646_row0_col7\" class=\"data row0 col7\" >0.0564</td>\n",
       "    </tr>\n",
       "  </tbody>\n",
       "</table>\n"
      ],
      "text/plain": [
       "<pandas.io.formats.style.Styler at 0x7f69c811c910>"
      ]
     },
     "metadata": {},
     "output_type": "display_data"
    },
    {
     "data": {
      "text/html": [
       "<style type=\"text/css\">\n",
       "</style>\n",
       "<table id=\"T_adfa2\">\n",
       "  <thead>\n",
       "    <tr>\n",
       "      <th class=\"blank level0\" >&nbsp;</th>\n",
       "      <th id=\"T_adfa2_level0_col0\" class=\"col_heading level0 col0\" >Model</th>\n",
       "      <th id=\"T_adfa2_level0_col1\" class=\"col_heading level0 col1\" >Accuracy</th>\n",
       "      <th id=\"T_adfa2_level0_col2\" class=\"col_heading level0 col2\" >AUC</th>\n",
       "      <th id=\"T_adfa2_level0_col3\" class=\"col_heading level0 col3\" >Recall</th>\n",
       "      <th id=\"T_adfa2_level0_col4\" class=\"col_heading level0 col4\" >Prec.</th>\n",
       "      <th id=\"T_adfa2_level0_col5\" class=\"col_heading level0 col5\" >F1</th>\n",
       "      <th id=\"T_adfa2_level0_col6\" class=\"col_heading level0 col6\" >Kappa</th>\n",
       "      <th id=\"T_adfa2_level0_col7\" class=\"col_heading level0 col7\" >MCC</th>\n",
       "    </tr>\n",
       "  </thead>\n",
       "  <tbody>\n",
       "    <tr>\n",
       "      <th id=\"T_adfa2_level0_row0\" class=\"row_heading level0 row0\" >0</th>\n",
       "      <td id=\"T_adfa2_row0_col0\" class=\"data row0 col0\" >Light Gradient Boosting Machine</td>\n",
       "      <td id=\"T_adfa2_row0_col1\" class=\"data row0 col1\" >0.8159</td>\n",
       "      <td id=\"T_adfa2_row0_col2\" class=\"data row0 col2\" >0.6895</td>\n",
       "      <td id=\"T_adfa2_row0_col3\" class=\"data row0 col3\" >0.0115</td>\n",
       "      <td id=\"T_adfa2_row0_col4\" class=\"data row0 col4\" >0.6824</td>\n",
       "      <td id=\"T_adfa2_row0_col5\" class=\"data row0 col5\" >0.0226</td>\n",
       "      <td id=\"T_adfa2_row0_col6\" class=\"data row0 col6\" >0.0165</td>\n",
       "      <td id=\"T_adfa2_row0_col7\" class=\"data row0 col7\" >0.0715</td>\n",
       "    </tr>\n",
       "  </tbody>\n",
       "</table>\n"
      ],
      "text/plain": [
       "<pandas.io.formats.style.Styler at 0x7f69c811f040>"
      ]
     },
     "metadata": {},
     "output_type": "display_data"
    },
    {
     "data": {
      "text/html": [
       "<style type=\"text/css\">\n",
       "</style>\n",
       "<table id=\"T_40e1e\">\n",
       "  <thead>\n",
       "    <tr>\n",
       "      <th class=\"blank level0\" >&nbsp;</th>\n",
       "      <th id=\"T_40e1e_level0_col0\" class=\"col_heading level0 col0\" >Model</th>\n",
       "      <th id=\"T_40e1e_level0_col1\" class=\"col_heading level0 col1\" >Accuracy</th>\n",
       "      <th id=\"T_40e1e_level0_col2\" class=\"col_heading level0 col2\" >AUC</th>\n",
       "      <th id=\"T_40e1e_level0_col3\" class=\"col_heading level0 col3\" >Recall</th>\n",
       "      <th id=\"T_40e1e_level0_col4\" class=\"col_heading level0 col4\" >Prec.</th>\n",
       "      <th id=\"T_40e1e_level0_col5\" class=\"col_heading level0 col5\" >F1</th>\n",
       "      <th id=\"T_40e1e_level0_col6\" class=\"col_heading level0 col6\" >Kappa</th>\n",
       "      <th id=\"T_40e1e_level0_col7\" class=\"col_heading level0 col7\" >MCC</th>\n",
       "    </tr>\n",
       "  </thead>\n",
       "  <tbody>\n",
       "    <tr>\n",
       "      <th id=\"T_40e1e_level0_row0\" class=\"row_heading level0 row0\" >0</th>\n",
       "      <td id=\"T_40e1e_row0_col0\" class=\"data row0 col0\" >Random Forest Classifier</td>\n",
       "      <td id=\"T_40e1e_row0_col1\" class=\"data row0 col1\" >0.9436</td>\n",
       "      <td id=\"T_40e1e_row0_col2\" class=\"data row0 col2\" >0.9547</td>\n",
       "      <td id=\"T_40e1e_row0_col3\" class=\"data row0 col3\" >0.7095</td>\n",
       "      <td id=\"T_40e1e_row0_col4\" class=\"data row0 col4\" >0.9805</td>\n",
       "      <td id=\"T_40e1e_row0_col5\" class=\"data row0 col5\" >0.8232</td>\n",
       "      <td id=\"T_40e1e_row0_col6\" class=\"data row0 col6\" >0.7907</td>\n",
       "      <td id=\"T_40e1e_row0_col7\" class=\"data row0 col7\" >0.8053</td>\n",
       "    </tr>\n",
       "  </tbody>\n",
       "</table>\n"
      ],
      "text/plain": [
       "<pandas.io.formats.style.Styler at 0x7f69c81eb2e0>"
      ]
     },
     "metadata": {},
     "output_type": "display_data"
    }
   ],
   "source": [
    "train_prediction_ada, train_prediction_gbc, train_prediction_lightgbm, train_prediction_rf = model.common.batch_predict_and_odds(train_data, [regression_model_ada, regression_model_gbc, regression_model_lightgbm, regression_model_rf])"
   ]
  },
  {
   "cell_type": "code",
   "execution_count": 9,
   "metadata": {
    "execution": {
     "iopub.execute_input": "2023-07-03T23:04:13.918520Z",
     "iopub.status.busy": "2023-07-03T23:04:13.918116Z",
     "iopub.status.idle": "2023-07-03T23:04:14.406985Z",
     "shell.execute_reply": "2023-07-03T23:04:14.405178Z",
     "shell.execute_reply.started": "2023-07-03T23:04:13.918498Z"
    }
   },
   "outputs": [
    {
     "data": {
      "text/html": [
       "<table>\n",
       "<tbody>\n",
       "<tr><td>model   </td><td>0.6       </td><td>0.7       </td><td>0.75     </td><td>0.8      </td></tr>\n",
       "<tr><td>ada     </td><td>(0, nan)  </td><td>(0, nan)  </td><td>(0, nan) </td><td>(0, nan) </td></tr>\n",
       "<tr><td>gbc     </td><td>(1, 1.0)  </td><td>(0, nan)  </td><td>(0, nan) </td><td>(0, nan) </td></tr>\n",
       "<tr><td>lightgbm</td><td>(0, nan)  </td><td>(0, nan)  </td><td>(0, nan) </td><td>(0, nan) </td></tr>\n",
       "<tr><td>rf      </td><td>(173, 1.0)</td><td>(119, 1.0)</td><td>(70, 1.0)</td><td>(21, 1.0)</td></tr>\n",
       "</tbody>\n",
       "</table>"
      ],
      "text/plain": [
       "'<table>\\n<tbody>\\n<tr><td>model   </td><td>0.6       </td><td>0.7       </td><td>0.75     </td><td>0.8      </td></tr>\\n<tr><td>ada     </td><td>(0, nan)  </td><td>(0, nan)  </td><td>(0, nan) </td><td>(0, nan) </td></tr>\\n<tr><td>gbc     </td><td>(1, 1.0)  </td><td>(0, nan)  </td><td>(0, nan) </td><td>(0, nan) </td></tr>\\n<tr><td>lightgbm</td><td>(0, nan)  </td><td>(0, nan)  </td><td>(0, nan) </td><td>(0, nan) </td></tr>\\n<tr><td>rf      </td><td>(173, 1.0)</td><td>(119, 1.0)</td><td>(70, 1.0)</td><td>(21, 1.0)</td></tr>\\n</tbody>\\n</table>'"
      ]
     },
     "execution_count": 9,
     "metadata": {},
     "output_type": "execute_result"
    }
   ],
   "source": [
    "model.common.evaluate_predictions([(train_prediction_ada, \"ada\"), (train_prediction_gbc, \"gbc\"), (train_prediction_lightgbm, \"lightgbm\"), (train_prediction_rf, \"rf\")], [0.6, 0.7, 0.75, 0.8], target_column)"
   ]
  },
  {
   "cell_type": "markdown",
   "metadata": {
    "execution": {
     "iopub.execute_input": "2023-06-07T00:40:23.948013Z",
     "iopub.status.busy": "2023-06-07T00:40:23.947407Z",
     "iopub.status.idle": "2023-06-07T00:40:23.953130Z",
     "shell.execute_reply": "2023-06-07T00:40:23.952520Z",
     "shell.execute_reply.started": "2023-06-07T00:40:23.947955Z"
    }
   },
   "source": [
    "**test prediction**"
   ]
  },
  {
   "cell_type": "code",
   "execution_count": 10,
   "metadata": {
    "execution": {
     "iopub.execute_input": "2023-07-03T23:04:14.410067Z",
     "iopub.status.busy": "2023-07-03T23:04:14.409329Z",
     "iopub.status.idle": "2023-07-03T23:04:16.758252Z",
     "shell.execute_reply": "2023-07-03T23:04:16.756582Z",
     "shell.execute_reply.started": "2023-07-03T23:04:14.410009Z"
    }
   },
   "outputs": [
    {
     "data": {
      "text/html": [
       "<style type=\"text/css\">\n",
       "</style>\n",
       "<table id=\"T_4cc97\">\n",
       "  <thead>\n",
       "    <tr>\n",
       "      <th class=\"blank level0\" >&nbsp;</th>\n",
       "      <th id=\"T_4cc97_level0_col0\" class=\"col_heading level0 col0\" >Model</th>\n",
       "      <th id=\"T_4cc97_level0_col1\" class=\"col_heading level0 col1\" >Accuracy</th>\n",
       "      <th id=\"T_4cc97_level0_col2\" class=\"col_heading level0 col2\" >AUC</th>\n",
       "      <th id=\"T_4cc97_level0_col3\" class=\"col_heading level0 col3\" >Recall</th>\n",
       "      <th id=\"T_4cc97_level0_col4\" class=\"col_heading level0 col4\" >Prec.</th>\n",
       "      <th id=\"T_4cc97_level0_col5\" class=\"col_heading level0 col5\" >F1</th>\n",
       "      <th id=\"T_4cc97_level0_col6\" class=\"col_heading level0 col6\" >Kappa</th>\n",
       "      <th id=\"T_4cc97_level0_col7\" class=\"col_heading level0 col7\" >MCC</th>\n",
       "    </tr>\n",
       "  </thead>\n",
       "  <tbody>\n",
       "    <tr>\n",
       "      <th id=\"T_4cc97_level0_row0\" class=\"row_heading level0 row0\" >0</th>\n",
       "      <td id=\"T_4cc97_row0_col0\" class=\"data row0 col0\" >Ada Boost Classifier</td>\n",
       "      <td id=\"T_4cc97_row0_col1\" class=\"data row0 col1\" >0.7895</td>\n",
       "      <td id=\"T_4cc97_row0_col2\" class=\"data row0 col2\" >0.6337</td>\n",
       "      <td id=\"T_4cc97_row0_col3\" class=\"data row0 col3\" >0.0087</td>\n",
       "      <td id=\"T_4cc97_row0_col4\" class=\"data row0 col4\" >0.3867</td>\n",
       "      <td id=\"T_4cc97_row0_col5\" class=\"data row0 col5\" >0.0169</td>\n",
       "      <td id=\"T_4cc97_row0_col6\" class=\"data row0 col6\" >0.0078</td>\n",
       "      <td id=\"T_4cc97_row0_col7\" class=\"data row0 col7\" >0.0299</td>\n",
       "    </tr>\n",
       "  </tbody>\n",
       "</table>\n"
      ],
      "text/plain": [
       "<pandas.io.formats.style.Styler at 0x7f69c8049c60>"
      ]
     },
     "metadata": {},
     "output_type": "display_data"
    },
    {
     "data": {
      "text/html": [
       "<style type=\"text/css\">\n",
       "</style>\n",
       "<table id=\"T_8a4a3\">\n",
       "  <thead>\n",
       "    <tr>\n",
       "      <th class=\"blank level0\" >&nbsp;</th>\n",
       "      <th id=\"T_8a4a3_level0_col0\" class=\"col_heading level0 col0\" >Model</th>\n",
       "      <th id=\"T_8a4a3_level0_col1\" class=\"col_heading level0 col1\" >Accuracy</th>\n",
       "      <th id=\"T_8a4a3_level0_col2\" class=\"col_heading level0 col2\" >AUC</th>\n",
       "      <th id=\"T_8a4a3_level0_col3\" class=\"col_heading level0 col3\" >Recall</th>\n",
       "      <th id=\"T_8a4a3_level0_col4\" class=\"col_heading level0 col4\" >Prec.</th>\n",
       "      <th id=\"T_8a4a3_level0_col5\" class=\"col_heading level0 col5\" >F1</th>\n",
       "      <th id=\"T_8a4a3_level0_col6\" class=\"col_heading level0 col6\" >Kappa</th>\n",
       "      <th id=\"T_8a4a3_level0_col7\" class=\"col_heading level0 col7\" >MCC</th>\n",
       "    </tr>\n",
       "  </thead>\n",
       "  <tbody>\n",
       "    <tr>\n",
       "      <th id=\"T_8a4a3_level0_row0\" class=\"row_heading level0 row0\" >0</th>\n",
       "      <td id=\"T_8a4a3_row0_col0\" class=\"data row0 col0\" >Gradient Boosting Classifier</td>\n",
       "      <td id=\"T_8a4a3_row0_col1\" class=\"data row0 col1\" >0.7908</td>\n",
       "      <td id=\"T_8a4a3_row0_col2\" class=\"data row0 col2\" >0.6425</td>\n",
       "      <td id=\"T_8a4a3_row0_col3\" class=\"data row0 col3\" >0.0075</td>\n",
       "      <td id=\"T_8a4a3_row0_col4\" class=\"data row0 col4\" >0.5556</td>\n",
       "      <td id=\"T_8a4a3_row0_col5\" class=\"data row0 col5\" >0.0147</td>\n",
       "      <td id=\"T_8a4a3_row0_col6\" class=\"data row0 col6\" >0.0092</td>\n",
       "      <td id=\"T_8a4a3_row0_col7\" class=\"data row0 col7\" >0.0452</td>\n",
       "    </tr>\n",
       "  </tbody>\n",
       "</table>\n"
      ],
      "text/plain": [
       "<pandas.io.formats.style.Styler at 0x7f69c8048a00>"
      ]
     },
     "metadata": {},
     "output_type": "display_data"
    },
    {
     "data": {
      "text/html": [
       "<style type=\"text/css\">\n",
       "</style>\n",
       "<table id=\"T_eceb3\">\n",
       "  <thead>\n",
       "    <tr>\n",
       "      <th class=\"blank level0\" >&nbsp;</th>\n",
       "      <th id=\"T_eceb3_level0_col0\" class=\"col_heading level0 col0\" >Model</th>\n",
       "      <th id=\"T_eceb3_level0_col1\" class=\"col_heading level0 col1\" >Accuracy</th>\n",
       "      <th id=\"T_eceb3_level0_col2\" class=\"col_heading level0 col2\" >AUC</th>\n",
       "      <th id=\"T_eceb3_level0_col3\" class=\"col_heading level0 col3\" >Recall</th>\n",
       "      <th id=\"T_eceb3_level0_col4\" class=\"col_heading level0 col4\" >Prec.</th>\n",
       "      <th id=\"T_eceb3_level0_col5\" class=\"col_heading level0 col5\" >F1</th>\n",
       "      <th id=\"T_eceb3_level0_col6\" class=\"col_heading level0 col6\" >Kappa</th>\n",
       "      <th id=\"T_eceb3_level0_col7\" class=\"col_heading level0 col7\" >MCC</th>\n",
       "    </tr>\n",
       "  </thead>\n",
       "  <tbody>\n",
       "    <tr>\n",
       "      <th id=\"T_eceb3_level0_row0\" class=\"row_heading level0 row0\" >0</th>\n",
       "      <td id=\"T_eceb3_row0_col0\" class=\"data row0 col0\" >Light Gradient Boosting Machine</td>\n",
       "      <td id=\"T_eceb3_row0_col1\" class=\"data row0 col1\" >0.7908</td>\n",
       "      <td id=\"T_eceb3_row0_col2\" class=\"data row0 col2\" >0.6389</td>\n",
       "      <td id=\"T_eceb3_row0_col3\" class=\"data row0 col3\" >0.0098</td>\n",
       "      <td id=\"T_eceb3_row0_col4\" class=\"data row0 col4\" >0.5410</td>\n",
       "      <td id=\"T_eceb3_row0_col5\" class=\"data row0 col5\" >0.0193</td>\n",
       "      <td id=\"T_eceb3_row0_col6\" class=\"data row0 col6\" >0.0119</td>\n",
       "      <td id=\"T_eceb3_row0_col7\" class=\"data row0 col7\" >0.0504</td>\n",
       "    </tr>\n",
       "  </tbody>\n",
       "</table>\n"
      ],
      "text/plain": [
       "<pandas.io.formats.style.Styler at 0x7f69c804a0e0>"
      ]
     },
     "metadata": {},
     "output_type": "display_data"
    },
    {
     "data": {
      "text/html": [
       "<style type=\"text/css\">\n",
       "</style>\n",
       "<table id=\"T_87599\">\n",
       "  <thead>\n",
       "    <tr>\n",
       "      <th class=\"blank level0\" >&nbsp;</th>\n",
       "      <th id=\"T_87599_level0_col0\" class=\"col_heading level0 col0\" >Model</th>\n",
       "      <th id=\"T_87599_level0_col1\" class=\"col_heading level0 col1\" >Accuracy</th>\n",
       "      <th id=\"T_87599_level0_col2\" class=\"col_heading level0 col2\" >AUC</th>\n",
       "      <th id=\"T_87599_level0_col3\" class=\"col_heading level0 col3\" >Recall</th>\n",
       "      <th id=\"T_87599_level0_col4\" class=\"col_heading level0 col4\" >Prec.</th>\n",
       "      <th id=\"T_87599_level0_col5\" class=\"col_heading level0 col5\" >F1</th>\n",
       "      <th id=\"T_87599_level0_col6\" class=\"col_heading level0 col6\" >Kappa</th>\n",
       "      <th id=\"T_87599_level0_col7\" class=\"col_heading level0 col7\" >MCC</th>\n",
       "    </tr>\n",
       "  </thead>\n",
       "  <tbody>\n",
       "    <tr>\n",
       "      <th id=\"T_87599_level0_row0\" class=\"row_heading level0 row0\" >0</th>\n",
       "      <td id=\"T_87599_row0_col0\" class=\"data row0 col0\" >Random Forest Classifier</td>\n",
       "      <td id=\"T_87599_row0_col1\" class=\"data row0 col1\" >0.7890</td>\n",
       "      <td id=\"T_87599_row0_col2\" class=\"data row0 col2\" >0.6130</td>\n",
       "      <td id=\"T_87599_row0_col3\" class=\"data row0 col3\" >0.0146</td>\n",
       "      <td id=\"T_87599_row0_col4\" class=\"data row0 col4\" >0.3984</td>\n",
       "      <td id=\"T_87599_row0_col5\" class=\"data row0 col5\" >0.0282</td>\n",
       "      <td id=\"T_87599_row0_col6\" class=\"data row0 col6\" >0.0136</td>\n",
       "      <td id=\"T_87599_row0_col7\" class=\"data row0 col7\" >0.0409</td>\n",
       "    </tr>\n",
       "  </tbody>\n",
       "</table>\n"
      ],
      "text/plain": [
       "<pandas.io.formats.style.Styler at 0x7f69d0592d70>"
      ]
     },
     "metadata": {},
     "output_type": "display_data"
    }
   ],
   "source": [
    "test_prediction_ada, test_prediction_gbc, test_prediction_lightgbm, test_prediction_rf = model.common.batch_predict_and_odds(test_data, [regression_model_ada, regression_model_gbc, regression_model_lightgbm, regression_model_rf])"
   ]
  },
  {
   "cell_type": "code",
   "execution_count": 11,
   "metadata": {
    "execution": {
     "iopub.execute_input": "2023-07-03T23:04:16.760538Z",
     "iopub.status.busy": "2023-07-03T23:04:16.760125Z",
     "iopub.status.idle": "2023-07-03T23:04:16.844189Z",
     "shell.execute_reply": "2023-07-03T23:04:16.843582Z",
     "shell.execute_reply.started": "2023-07-03T23:04:16.760502Z"
    }
   },
   "outputs": [
    {
     "data": {
      "text/html": [
       "<table>\n",
       "<tbody>\n",
       "<tr><td>model   </td><td>0.6     </td><td>0.7     </td><td>0.75    </td><td>0.8     </td><td>0.85    </td></tr>\n",
       "<tr><td>ada     </td><td>(0, nan)</td><td>(0, nan)</td><td>(0, nan)</td><td>(0, nan)</td><td>(0, nan)</td></tr>\n",
       "<tr><td>gbc     </td><td>(0, nan)</td><td>(0, nan)</td><td>(0, nan)</td><td>(0, nan)</td><td>(0, nan)</td></tr>\n",
       "<tr><td>lightgbm</td><td>(0, nan)</td><td>(0, nan)</td><td>(0, nan)</td><td>(0, nan)</td><td>(0, nan)</td></tr>\n",
       "<tr><td>rf      </td><td>(0, nan)</td><td>(0, nan)</td><td>(0, nan)</td><td>(0, nan)</td><td>(0, nan)</td></tr>\n",
       "</tbody>\n",
       "</table>"
      ],
      "text/plain": [
       "'<table>\\n<tbody>\\n<tr><td>model   </td><td>0.6     </td><td>0.7     </td><td>0.75    </td><td>0.8     </td><td>0.85    </td></tr>\\n<tr><td>ada     </td><td>(0, nan)</td><td>(0, nan)</td><td>(0, nan)</td><td>(0, nan)</td><td>(0, nan)</td></tr>\\n<tr><td>gbc     </td><td>(0, nan)</td><td>(0, nan)</td><td>(0, nan)</td><td>(0, nan)</td><td>(0, nan)</td></tr>\\n<tr><td>lightgbm</td><td>(0, nan)</td><td>(0, nan)</td><td>(0, nan)</td><td>(0, nan)</td><td>(0, nan)</td></tr>\\n<tr><td>rf      </td><td>(0, nan)</td><td>(0, nan)</td><td>(0, nan)</td><td>(0, nan)</td><td>(0, nan)</td></tr>\\n</tbody>\\n</table>'"
      ]
     },
     "execution_count": 11,
     "metadata": {},
     "output_type": "execute_result"
    }
   ],
   "source": [
    "model.common.evaluate_predictions([(test_prediction_ada, \"ada\"), (test_prediction_gbc, \"gbc\"), (test_prediction_lightgbm, \"lightgbm\"), (test_prediction_rf, \"rf\")], [0.6, 0.7, 0.75, 0.8, 0.85], target_column)"
   ]
  },
  {
   "cell_type": "markdown",
   "metadata": {
    "id": "sOfz0zBX994h"
   },
   "source": [
    "**Finalize Model**"
   ]
  },
  {
   "cell_type": "code",
   "execution_count": 12,
   "metadata": {
    "colab": {
     "base_uri": "https://localhost:8080/",
     "height": 34
    },
    "execution": {
     "iopub.execute_input": "2023-07-03T23:04:16.845480Z",
     "iopub.status.busy": "2023-07-03T23:04:16.845167Z",
     "iopub.status.idle": "2023-07-03T23:07:47.751477Z",
     "shell.execute_reply": "2023-07-03T23:07:47.750141Z",
     "shell.execute_reply.started": "2023-07-03T23:04:16.845454Z"
    },
    "id": "gutfxdh8-DKy",
    "outputId": "2e862724-33f5-45f0-ed52-aade46f98c7d"
   },
   "outputs": [],
   "source": [
    "# train over the whole dataset without validation split\n",
    "regression_model_finalized_ada = pycaret.classification.finalize_model(regression_model_ada)\n",
    "regression_model_finalized_gbc = pycaret.classification.finalize_model(regression_model_gbc)\n",
    "regression_model_finalized_lightgbm = pycaret.classification.finalize_model(regression_model_lightgbm)\n",
    "regression_model_finalized_rf = pycaret.classification.finalize_model(regression_model_rf)"
   ]
  },
  {
   "cell_type": "code",
   "execution_count": 13,
   "metadata": {
    "execution": {
     "iopub.execute_input": "2023-07-03T23:07:47.753867Z",
     "iopub.status.busy": "2023-07-03T23:07:47.753368Z",
     "iopub.status.idle": "2023-07-03T23:07:50.345564Z",
     "shell.execute_reply": "2023-07-03T23:07:50.344427Z",
     "shell.execute_reply.started": "2023-07-03T23:07:47.753825Z"
    }
   },
   "outputs": [
    {
     "data": {
      "text/html": [
       "<style type=\"text/css\">\n",
       "</style>\n",
       "<table id=\"T_882a5\">\n",
       "  <thead>\n",
       "    <tr>\n",
       "      <th class=\"blank level0\" >&nbsp;</th>\n",
       "      <th id=\"T_882a5_level0_col0\" class=\"col_heading level0 col0\" >Model</th>\n",
       "      <th id=\"T_882a5_level0_col1\" class=\"col_heading level0 col1\" >Accuracy</th>\n",
       "      <th id=\"T_882a5_level0_col2\" class=\"col_heading level0 col2\" >AUC</th>\n",
       "      <th id=\"T_882a5_level0_col3\" class=\"col_heading level0 col3\" >Recall</th>\n",
       "      <th id=\"T_882a5_level0_col4\" class=\"col_heading level0 col4\" >Prec.</th>\n",
       "      <th id=\"T_882a5_level0_col5\" class=\"col_heading level0 col5\" >F1</th>\n",
       "      <th id=\"T_882a5_level0_col6\" class=\"col_heading level0 col6\" >Kappa</th>\n",
       "      <th id=\"T_882a5_level0_col7\" class=\"col_heading level0 col7\" >MCC</th>\n",
       "    </tr>\n",
       "  </thead>\n",
       "  <tbody>\n",
       "    <tr>\n",
       "      <th id=\"T_882a5_level0_row0\" class=\"row_heading level0 row0\" >0</th>\n",
       "      <td id=\"T_882a5_row0_col0\" class=\"data row0 col0\" >Ada Boost Classifier</td>\n",
       "      <td id=\"T_882a5_row0_col1\" class=\"data row0 col1\" >0.7898</td>\n",
       "      <td id=\"T_882a5_row0_col2\" class=\"data row0 col2\" >0.6359</td>\n",
       "      <td id=\"T_882a5_row0_col3\" class=\"data row0 col3\" >0.0081</td>\n",
       "      <td id=\"T_882a5_row0_col4\" class=\"data row0 col4\" >0.4154</td>\n",
       "      <td id=\"T_882a5_row0_col5\" class=\"data row0 col5\" >0.0158</td>\n",
       "      <td id=\"T_882a5_row0_col6\" class=\"data row0 col6\" >0.0079</td>\n",
       "      <td id=\"T_882a5_row0_col7\" class=\"data row0 col7\" >0.0323</td>\n",
       "    </tr>\n",
       "  </tbody>\n",
       "</table>\n"
      ],
      "text/plain": [
       "<pandas.io.formats.style.Styler at 0x7f69c808d720>"
      ]
     },
     "metadata": {},
     "output_type": "display_data"
    },
    {
     "data": {
      "text/html": [
       "<style type=\"text/css\">\n",
       "</style>\n",
       "<table id=\"T_dd9f2\">\n",
       "  <thead>\n",
       "    <tr>\n",
       "      <th class=\"blank level0\" >&nbsp;</th>\n",
       "      <th id=\"T_dd9f2_level0_col0\" class=\"col_heading level0 col0\" >Model</th>\n",
       "      <th id=\"T_dd9f2_level0_col1\" class=\"col_heading level0 col1\" >Accuracy</th>\n",
       "      <th id=\"T_dd9f2_level0_col2\" class=\"col_heading level0 col2\" >AUC</th>\n",
       "      <th id=\"T_dd9f2_level0_col3\" class=\"col_heading level0 col3\" >Recall</th>\n",
       "      <th id=\"T_dd9f2_level0_col4\" class=\"col_heading level0 col4\" >Prec.</th>\n",
       "      <th id=\"T_dd9f2_level0_col5\" class=\"col_heading level0 col5\" >F1</th>\n",
       "      <th id=\"T_dd9f2_level0_col6\" class=\"col_heading level0 col6\" >Kappa</th>\n",
       "      <th id=\"T_dd9f2_level0_col7\" class=\"col_heading level0 col7\" >MCC</th>\n",
       "    </tr>\n",
       "  </thead>\n",
       "  <tbody>\n",
       "    <tr>\n",
       "      <th id=\"T_dd9f2_level0_row0\" class=\"row_heading level0 row0\" >0</th>\n",
       "      <td id=\"T_dd9f2_row0_col0\" class=\"data row0 col0\" >Gradient Boosting Classifier</td>\n",
       "      <td id=\"T_dd9f2_row0_col1\" class=\"data row0 col1\" >0.7913</td>\n",
       "      <td id=\"T_dd9f2_row0_col2\" class=\"data row0 col2\" >0.6425</td>\n",
       "      <td id=\"T_dd9f2_row0_col3\" class=\"data row0 col3\" >0.0078</td>\n",
       "      <td id=\"T_dd9f2_row0_col4\" class=\"data row0 col4\" >0.6500</td>\n",
       "      <td id=\"T_dd9f2_row0_col5\" class=\"data row0 col5\" >0.0153</td>\n",
       "      <td id=\"T_dd9f2_row0_col6\" class=\"data row0 col6\" >0.0104</td>\n",
       "      <td id=\"T_dd9f2_row0_col7\" class=\"data row0 col7\" >0.0542</td>\n",
       "    </tr>\n",
       "  </tbody>\n",
       "</table>\n"
      ],
      "text/plain": [
       "<pandas.io.formats.style.Styler at 0x7f69b7dc3cd0>"
      ]
     },
     "metadata": {},
     "output_type": "display_data"
    },
    {
     "data": {
      "text/html": [
       "<style type=\"text/css\">\n",
       "</style>\n",
       "<table id=\"T_2019a\">\n",
       "  <thead>\n",
       "    <tr>\n",
       "      <th class=\"blank level0\" >&nbsp;</th>\n",
       "      <th id=\"T_2019a_level0_col0\" class=\"col_heading level0 col0\" >Model</th>\n",
       "      <th id=\"T_2019a_level0_col1\" class=\"col_heading level0 col1\" >Accuracy</th>\n",
       "      <th id=\"T_2019a_level0_col2\" class=\"col_heading level0 col2\" >AUC</th>\n",
       "      <th id=\"T_2019a_level0_col3\" class=\"col_heading level0 col3\" >Recall</th>\n",
       "      <th id=\"T_2019a_level0_col4\" class=\"col_heading level0 col4\" >Prec.</th>\n",
       "      <th id=\"T_2019a_level0_col5\" class=\"col_heading level0 col5\" >F1</th>\n",
       "      <th id=\"T_2019a_level0_col6\" class=\"col_heading level0 col6\" >Kappa</th>\n",
       "      <th id=\"T_2019a_level0_col7\" class=\"col_heading level0 col7\" >MCC</th>\n",
       "    </tr>\n",
       "  </thead>\n",
       "  <tbody>\n",
       "    <tr>\n",
       "      <th id=\"T_2019a_level0_row0\" class=\"row_heading level0 row0\" >0</th>\n",
       "      <td id=\"T_2019a_row0_col0\" class=\"data row0 col0\" >Light Gradient Boosting Machine</td>\n",
       "      <td id=\"T_2019a_row0_col1\" class=\"data row0 col1\" >0.7903</td>\n",
       "      <td id=\"T_2019a_row0_col2\" class=\"data row0 col2\" >0.6420</td>\n",
       "      <td id=\"T_2019a_row0_col3\" class=\"data row0 col3\" >0.0095</td>\n",
       "      <td id=\"T_2019a_row0_col4\" class=\"data row0 col4\" >0.4706</td>\n",
       "      <td id=\"T_2019a_row0_col5\" class=\"data row0 col5\" >0.0187</td>\n",
       "      <td id=\"T_2019a_row0_col6\" class=\"data row0 col6\" >0.0105</td>\n",
       "      <td id=\"T_2019a_row0_col7\" class=\"data row0 col7\" >0.0419</td>\n",
       "    </tr>\n",
       "  </tbody>\n",
       "</table>\n"
      ],
      "text/plain": [
       "<pandas.io.formats.style.Styler at 0x7f69c8049180>"
      ]
     },
     "metadata": {},
     "output_type": "display_data"
    },
    {
     "data": {
      "text/html": [
       "<style type=\"text/css\">\n",
       "</style>\n",
       "<table id=\"T_16a76\">\n",
       "  <thead>\n",
       "    <tr>\n",
       "      <th class=\"blank level0\" >&nbsp;</th>\n",
       "      <th id=\"T_16a76_level0_col0\" class=\"col_heading level0 col0\" >Model</th>\n",
       "      <th id=\"T_16a76_level0_col1\" class=\"col_heading level0 col1\" >Accuracy</th>\n",
       "      <th id=\"T_16a76_level0_col2\" class=\"col_heading level0 col2\" >AUC</th>\n",
       "      <th id=\"T_16a76_level0_col3\" class=\"col_heading level0 col3\" >Recall</th>\n",
       "      <th id=\"T_16a76_level0_col4\" class=\"col_heading level0 col4\" >Prec.</th>\n",
       "      <th id=\"T_16a76_level0_col5\" class=\"col_heading level0 col5\" >F1</th>\n",
       "      <th id=\"T_16a76_level0_col6\" class=\"col_heading level0 col6\" >Kappa</th>\n",
       "      <th id=\"T_16a76_level0_col7\" class=\"col_heading level0 col7\" >MCC</th>\n",
       "    </tr>\n",
       "  </thead>\n",
       "  <tbody>\n",
       "    <tr>\n",
       "      <th id=\"T_16a76_level0_row0\" class=\"row_heading level0 row0\" >0</th>\n",
       "      <td id=\"T_16a76_row0_col0\" class=\"data row0 col0\" >Random Forest Classifier</td>\n",
       "      <td id=\"T_16a76_row0_col1\" class=\"data row0 col1\" >0.7897</td>\n",
       "      <td id=\"T_16a76_row0_col2\" class=\"data row0 col2\" >0.6185</td>\n",
       "      <td id=\"T_16a76_row0_col3\" class=\"data row0 col3\" >0.0182</td>\n",
       "      <td id=\"T_16a76_row0_col4\" class=\"data row0 col4\" >0.4519</td>\n",
       "      <td id=\"T_16a76_row0_col5\" class=\"data row0 col5\" >0.0350</td>\n",
       "      <td id=\"T_16a76_row0_col6\" class=\"data row0 col6\" >0.0191</td>\n",
       "      <td id=\"T_16a76_row0_col7\" class=\"data row0 col7\" >0.0549</td>\n",
       "    </tr>\n",
       "  </tbody>\n",
       "</table>\n"
      ],
      "text/plain": [
       "<pandas.io.formats.style.Styler at 0x7f69b7dc06d0>"
      ]
     },
     "metadata": {},
     "output_type": "display_data"
    }
   ],
   "source": [
    "test_finalized_prediction_ada, test_finalized_prediction_gbc, test_finalized_prediction_lightgbm, test_finalized_prediction_rf = model.common.batch_predict_and_odds(\n",
    "    test_data, \n",
    "    [regression_model_finalized_ada, regression_model_finalized_gbc, regression_model_finalized_lightgbm, regression_model_finalized_rf])"
   ]
  },
  {
   "cell_type": "code",
   "execution_count": 14,
   "metadata": {
    "execution": {
     "iopub.execute_input": "2023-07-03T23:07:50.351477Z",
     "iopub.status.busy": "2023-07-03T23:07:50.349049Z",
     "iopub.status.idle": "2023-07-03T23:07:50.435799Z",
     "shell.execute_reply": "2023-07-03T23:07:50.434213Z",
     "shell.execute_reply.started": "2023-07-03T23:07:50.351391Z"
    }
   },
   "outputs": [
    {
     "data": {
      "text/html": [
       "<table>\n",
       "<tbody>\n",
       "<tr><td>model   </td><td>0.6     </td><td>0.7     </td><td>0.75    </td><td>0.8     </td><td>0.85    </td></tr>\n",
       "<tr><td>ada     </td><td>(0, nan)</td><td>(0, nan)</td><td>(0, nan)</td><td>(0, nan)</td><td>(0, nan)</td></tr>\n",
       "<tr><td>gbc     </td><td>(0, nan)</td><td>(0, nan)</td><td>(0, nan)</td><td>(0, nan)</td><td>(0, nan)</td></tr>\n",
       "<tr><td>lightgbm</td><td>(0, nan)</td><td>(0, nan)</td><td>(0, nan)</td><td>(0, nan)</td><td>(0, nan)</td></tr>\n",
       "<tr><td>rf      </td><td>(0, nan)</td><td>(0, nan)</td><td>(0, nan)</td><td>(0, nan)</td><td>(0, nan)</td></tr>\n",
       "</tbody>\n",
       "</table>"
      ],
      "text/plain": [
       "'<table>\\n<tbody>\\n<tr><td>model   </td><td>0.6     </td><td>0.7     </td><td>0.75    </td><td>0.8     </td><td>0.85    </td></tr>\\n<tr><td>ada     </td><td>(0, nan)</td><td>(0, nan)</td><td>(0, nan)</td><td>(0, nan)</td><td>(0, nan)</td></tr>\\n<tr><td>gbc     </td><td>(0, nan)</td><td>(0, nan)</td><td>(0, nan)</td><td>(0, nan)</td><td>(0, nan)</td></tr>\\n<tr><td>lightgbm</td><td>(0, nan)</td><td>(0, nan)</td><td>(0, nan)</td><td>(0, nan)</td><td>(0, nan)</td></tr>\\n<tr><td>rf      </td><td>(0, nan)</td><td>(0, nan)</td><td>(0, nan)</td><td>(0, nan)</td><td>(0, nan)</td></tr>\\n</tbody>\\n</table>'"
      ]
     },
     "execution_count": 14,
     "metadata": {},
     "output_type": "execute_result"
    }
   ],
   "source": [
    "model.common.evaluate_predictions([(test_finalized_prediction_ada, \"ada\"), (test_finalized_prediction_gbc, \"gbc\"), (test_finalized_prediction_lightgbm, \"lightgbm\"), (test_finalized_prediction_rf, \"rf\")], [0.6, 0.7, 0.75, 0.8, 0.85], target_column)"
   ]
  },
  {
   "cell_type": "markdown",
   "metadata": {},
   "source": [
    "**Save Model**"
   ]
  },
  {
   "cell_type": "code",
   "execution_count": 15,
   "metadata": {
    "execution": {
     "iopub.execute_input": "2023-07-03T23:07:50.438393Z",
     "iopub.status.busy": "2023-07-03T23:07:50.437385Z",
     "iopub.status.idle": "2023-07-03T23:07:50.851936Z",
     "shell.execute_reply": "2023-07-03T23:07:50.849977Z",
     "shell.execute_reply.started": "2023-07-03T23:07:50.438336Z"
    }
   },
   "outputs": [
    {
     "name": "stdout",
     "output_type": "stream",
     "text": [
      "Transformation Pipeline and Model Successfully Saved\n"
     ]
    },
    {
     "data": {
      "text/plain": [
       "(Pipeline(memory=FastMemory(location=/tmp/joblib),\n",
       "          steps=[('numerical_imputer',\n",
       "                  TransformerWrapper(exclude=None,\n",
       "                                     include=['pitching_gamesPlayed',\n",
       "                                              'pitching_runs_per_game',\n",
       "                                              'pitching_strikeOuts_per_game',\n",
       "                                              'pitching_hits_per_game',\n",
       "                                              'batting_gamesPlayed',\n",
       "                                              'batting_runs_per_game',\n",
       "                                              'batting_strikeOuts_per_game',\n",
       "                                              'batting_hits_per_game',\n",
       "                                              'batting_rbi',\n",
       "                                              'pitching_cur_...\n",
       "                                                       colsample_bytree=1.0,\n",
       "                                                       importance_type='split',\n",
       "                                                       learning_rate=0.1,\n",
       "                                                       max_depth=-1,\n",
       "                                                       min_child_samples=20,\n",
       "                                                       min_child_weight=0.001,\n",
       "                                                       min_split_gain=0.0,\n",
       "                                                       n_estimators=100,\n",
       "                                                       n_jobs=-1, num_leaves=31,\n",
       "                                                       objective=None,\n",
       "                                                       probability_threshold=0.5,\n",
       "                                                       random_state=190,\n",
       "                                                       reg_alpha=0.0,\n",
       "                                                       reg_lambda=0.0,\n",
       "                                                       silent='warn',\n",
       "                                                       subsample=1.0,\n",
       "                                                       subsample_for_bin=200000,\n",
       "                                                       subsample_freq=0))],\n",
       "          verbose=False),\n",
       " 'model/batter_2hstrikeouts_regression_model.pkl')"
      ]
     },
     "execution_count": 15,
     "metadata": {},
     "output_type": "execute_result"
    }
   ],
   "source": [
    "pycaret.classification.save_model(regression_model_finalized_lightgbm, model_file_name)"
   ]
  }
 ],
 "metadata": {
  "colab": {
   "provenance": []
  },
  "kernelspec": {
   "display_name": "Python 3 (ipykernel)",
   "language": "python",
   "name": "python3"
  },
  "language_info": {
   "codemirror_mode": {
    "name": "ipython",
    "version": 3
   },
   "file_extension": ".py",
   "mimetype": "text/x-python",
   "name": "python",
   "nbconvert_exporter": "python",
   "pygments_lexer": "ipython3",
   "version": "3.10.6"
  },
  "widgets": {
   "application/vnd.jupyter.widget-state+json": {
    "1ac32fe9102d4f5a9d1511e64a1d5e5d": {
     "model_module": "@jupyter-widgets/base",
     "model_module_version": "1.2.0",
     "model_name": "LayoutModel",
     "state": {
      "_model_module": "@jupyter-widgets/base",
      "_model_module_version": "1.2.0",
      "_model_name": "LayoutModel",
      "_view_count": null,
      "_view_module": "@jupyter-widgets/base",
      "_view_module_version": "1.2.0",
      "_view_name": "LayoutView",
      "align_content": null,
      "align_items": null,
      "align_self": null,
      "border": null,
      "bottom": null,
      "display": null,
      "flex": null,
      "flex_flow": null,
      "grid_area": null,
      "grid_auto_columns": null,
      "grid_auto_flow": null,
      "grid_auto_rows": null,
      "grid_column": null,
      "grid_gap": null,
      "grid_row": null,
      "grid_template_areas": null,
      "grid_template_columns": null,
      "grid_template_rows": null,
      "height": null,
      "justify_content": null,
      "justify_items": null,
      "left": null,
      "margin": null,
      "max_height": null,
      "max_width": null,
      "min_height": null,
      "min_width": null,
      "object_fit": null,
      "object_position": null,
      "order": null,
      "overflow": null,
      "overflow_x": null,
      "overflow_y": null,
      "padding": null,
      "right": null,
      "top": null,
      "visibility": null,
      "width": null
     }
    },
    "40b50c57e470496cb6c94a0693636fd7": {
     "model_module": "@jupyter-widgets/base",
     "model_module_version": "1.2.0",
     "model_name": "LayoutModel",
     "state": {
      "_model_module": "@jupyter-widgets/base",
      "_model_module_version": "1.2.0",
      "_model_name": "LayoutModel",
      "_view_count": null,
      "_view_module": "@jupyter-widgets/base",
      "_view_module_version": "1.2.0",
      "_view_name": "LayoutView",
      "align_content": null,
      "align_items": null,
      "align_self": null,
      "border": null,
      "bottom": null,
      "display": null,
      "flex": null,
      "flex_flow": null,
      "grid_area": null,
      "grid_auto_columns": null,
      "grid_auto_flow": null,
      "grid_auto_rows": null,
      "grid_column": null,
      "grid_gap": null,
      "grid_row": null,
      "grid_template_areas": null,
      "grid_template_columns": null,
      "grid_template_rows": null,
      "height": null,
      "justify_content": null,
      "justify_items": null,
      "left": null,
      "margin": null,
      "max_height": null,
      "max_width": null,
      "min_height": null,
      "min_width": null,
      "object_fit": null,
      "object_position": null,
      "order": null,
      "overflow": null,
      "overflow_x": null,
      "overflow_y": null,
      "padding": null,
      "right": null,
      "top": null,
      "visibility": "hidden",
      "width": null
     }
    },
    "46b9d3b6cd6e4f76a42dd4f216dc1644": {
     "model_module": "@jupyter-widgets/controls",
     "model_module_version": "1.5.0",
     "model_name": "HBoxModel",
     "state": {
      "_dom_classes": [],
      "_model_module": "@jupyter-widgets/controls",
      "_model_module_version": "1.5.0",
      "_model_name": "HBoxModel",
      "_view_count": null,
      "_view_module": "@jupyter-widgets/controls",
      "_view_module_version": "1.5.0",
      "_view_name": "HBoxView",
      "box_style": "",
      "children": [
       "IPY_MODEL_cfce22755aa7471a87151793e633def1",
       "IPY_MODEL_94d7b3dc65544425b2463933c4108fa4",
       "IPY_MODEL_f92582f04a594f87a669f3c1c4d4eabc"
      ],
      "layout": "IPY_MODEL_40b50c57e470496cb6c94a0693636fd7"
     }
    },
    "4efa6d0ab419418ea9e4991c77b1ec42": {
     "model_module": "@jupyter-widgets/controls",
     "model_module_version": "1.5.0",
     "model_name": "ProgressStyleModel",
     "state": {
      "_model_module": "@jupyter-widgets/controls",
      "_model_module_version": "1.5.0",
      "_model_name": "ProgressStyleModel",
      "_view_count": null,
      "_view_module": "@jupyter-widgets/base",
      "_view_module_version": "1.2.0",
      "_view_name": "StyleView",
      "bar_color": null,
      "description_width": ""
     }
    },
    "81feddb738c64cbc8b7dbc7aec2730de": {
     "model_module": "@jupyter-widgets/controls",
     "model_module_version": "1.5.0",
     "model_name": "DescriptionStyleModel",
     "state": {
      "_model_module": "@jupyter-widgets/controls",
      "_model_module_version": "1.5.0",
      "_model_name": "DescriptionStyleModel",
      "_view_count": null,
      "_view_module": "@jupyter-widgets/base",
      "_view_module_version": "1.2.0",
      "_view_name": "StyleView",
      "description_width": ""
     }
    },
    "94d7b3dc65544425b2463933c4108fa4": {
     "model_module": "@jupyter-widgets/controls",
     "model_module_version": "1.5.0",
     "model_name": "FloatProgressModel",
     "state": {
      "_dom_classes": [],
      "_model_module": "@jupyter-widgets/controls",
      "_model_module_version": "1.5.0",
      "_model_name": "FloatProgressModel",
      "_view_count": null,
      "_view_module": "@jupyter-widgets/controls",
      "_view_module_version": "1.5.0",
      "_view_name": "ProgressView",
      "bar_style": "",
      "description": "",
      "description_tooltip": null,
      "layout": "IPY_MODEL_eb74dfbcca4a458eb81d87fbae5bf166",
      "max": 4,
      "min": 0,
      "orientation": "horizontal",
      "style": "IPY_MODEL_4efa6d0ab419418ea9e4991c77b1ec42",
      "value": 4
     }
    },
    "bec03081ad154466a3a0abca5a8462f4": {
     "model_module": "@jupyter-widgets/base",
     "model_module_version": "1.2.0",
     "model_name": "LayoutModel",
     "state": {
      "_model_module": "@jupyter-widgets/base",
      "_model_module_version": "1.2.0",
      "_model_name": "LayoutModel",
      "_view_count": null,
      "_view_module": "@jupyter-widgets/base",
      "_view_module_version": "1.2.0",
      "_view_name": "LayoutView",
      "align_content": null,
      "align_items": null,
      "align_self": null,
      "border": null,
      "bottom": null,
      "display": null,
      "flex": null,
      "flex_flow": null,
      "grid_area": null,
      "grid_auto_columns": null,
      "grid_auto_flow": null,
      "grid_auto_rows": null,
      "grid_column": null,
      "grid_gap": null,
      "grid_row": null,
      "grid_template_areas": null,
      "grid_template_columns": null,
      "grid_template_rows": null,
      "height": null,
      "justify_content": null,
      "justify_items": null,
      "left": null,
      "margin": null,
      "max_height": null,
      "max_width": null,
      "min_height": null,
      "min_width": null,
      "object_fit": null,
      "object_position": null,
      "order": null,
      "overflow": null,
      "overflow_x": null,
      "overflow_y": null,
      "padding": null,
      "right": null,
      "top": null,
      "visibility": null,
      "width": null
     }
    },
    "cfcd697393754f1d93106a2d6e07ea05": {
     "model_module": "@jupyter-widgets/controls",
     "model_module_version": "1.5.0",
     "model_name": "DescriptionStyleModel",
     "state": {
      "_model_module": "@jupyter-widgets/controls",
      "_model_module_version": "1.5.0",
      "_model_name": "DescriptionStyleModel",
      "_view_count": null,
      "_view_module": "@jupyter-widgets/base",
      "_view_module_version": "1.2.0",
      "_view_name": "StyleView",
      "description_width": ""
     }
    },
    "cfce22755aa7471a87151793e633def1": {
     "model_module": "@jupyter-widgets/controls",
     "model_module_version": "1.5.0",
     "model_name": "HTMLModel",
     "state": {
      "_dom_classes": [],
      "_model_module": "@jupyter-widgets/controls",
      "_model_module_version": "1.5.0",
      "_model_name": "HTMLModel",
      "_view_count": null,
      "_view_module": "@jupyter-widgets/controls",
      "_view_module_version": "1.5.0",
      "_view_name": "HTMLView",
      "description": "",
      "description_tooltip": null,
      "layout": "IPY_MODEL_bec03081ad154466a3a0abca5a8462f4",
      "placeholder": "​",
      "style": "IPY_MODEL_81feddb738c64cbc8b7dbc7aec2730de",
      "value": "Processing: 100%"
     }
    },
    "eb74dfbcca4a458eb81d87fbae5bf166": {
     "model_module": "@jupyter-widgets/base",
     "model_module_version": "1.2.0",
     "model_name": "LayoutModel",
     "state": {
      "_model_module": "@jupyter-widgets/base",
      "_model_module_version": "1.2.0",
      "_model_name": "LayoutModel",
      "_view_count": null,
      "_view_module": "@jupyter-widgets/base",
      "_view_module_version": "1.2.0",
      "_view_name": "LayoutView",
      "align_content": null,
      "align_items": null,
      "align_self": null,
      "border": null,
      "bottom": null,
      "display": null,
      "flex": null,
      "flex_flow": null,
      "grid_area": null,
      "grid_auto_columns": null,
      "grid_auto_flow": null,
      "grid_auto_rows": null,
      "grid_column": null,
      "grid_gap": null,
      "grid_row": null,
      "grid_template_areas": null,
      "grid_template_columns": null,
      "grid_template_rows": null,
      "height": null,
      "justify_content": null,
      "justify_items": null,
      "left": null,
      "margin": null,
      "max_height": null,
      "max_width": null,
      "min_height": null,
      "min_width": null,
      "object_fit": null,
      "object_position": null,
      "order": null,
      "overflow": null,
      "overflow_x": null,
      "overflow_y": null,
      "padding": null,
      "right": null,
      "top": null,
      "visibility": null,
      "width": null
     }
    },
    "f92582f04a594f87a669f3c1c4d4eabc": {
     "model_module": "@jupyter-widgets/controls",
     "model_module_version": "1.5.0",
     "model_name": "HTMLModel",
     "state": {
      "_dom_classes": [],
      "_model_module": "@jupyter-widgets/controls",
      "_model_module_version": "1.5.0",
      "_model_name": "HTMLModel",
      "_view_count": null,
      "_view_module": "@jupyter-widgets/controls",
      "_view_module_version": "1.5.0",
      "_view_name": "HTMLView",
      "description": "",
      "description_tooltip": null,
      "layout": "IPY_MODEL_1ac32fe9102d4f5a9d1511e64a1d5e5d",
      "placeholder": "​",
      "style": "IPY_MODEL_cfcd697393754f1d93106a2d6e07ea05",
      "value": " 4/4 [00:10&lt;00:00,  2.34s/it]"
     }
    }
   }
  }
 },
 "nbformat": 4,
 "nbformat_minor": 4
}
