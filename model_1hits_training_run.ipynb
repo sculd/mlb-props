{
 "cells": [
  {
   "cell_type": "markdown",
   "metadata": {
    "id": "X1V_SUC4p-YQ"
   },
   "source": [
    "**Import Packages**"
   ]
  },
  {
   "cell_type": "code",
   "execution_count": 8,
   "metadata": {
    "colab": {
     "base_uri": "https://localhost:8080/"
    },
    "execution": {
     "iopub.execute_input": "2023-07-07T21:51:24.890785Z",
     "iopub.status.busy": "2023-07-07T21:51:24.889300Z",
     "iopub.status.idle": "2023-07-07T21:51:24.902006Z",
     "shell.execute_reply": "2023-07-07T21:51:24.898919Z",
     "shell.execute_reply.started": "2023-07-07T21:51:24.890709Z"
    },
    "id": "IGZCa25_p5QY",
    "outputId": "d9e7f9d8-21e8-49dd-d344-173324ba79a5",
    "tags": []
   },
   "outputs": [],
   "source": [
    "import pycaret\n",
    "import pandas as pd\n",
    "import numpy as np\n",
    "import sqlalchemy\n",
    "import mysql.connector\n",
    "\n",
    "from pycaret import classification\n",
    "from pycaret.classification import plot_model\n",
    "from datetime import datetime\n",
    "import importlib\n",
    "import model.common"
   ]
  },
  {
   "cell_type": "code",
   "execution_count": 9,
   "metadata": {
    "execution": {
     "iopub.execute_input": "2023-07-07T21:51:25.084938Z",
     "iopub.status.busy": "2023-07-07T21:51:25.084040Z",
     "iopub.status.idle": "2023-07-07T21:51:25.087886Z",
     "shell.execute_reply": "2023-07-07T21:51:25.087440Z",
     "shell.execute_reply.started": "2023-07-07T21:51:25.084904Z"
    }
   },
   "outputs": [],
   "source": [
    "from static_data.load_static_data import *"
   ]
  },
  {
   "cell_type": "markdown",
   "metadata": {
    "id": "jqde2RQfqchC"
   },
   "source": [
    "**Load Data**"
   ]
  },
  {
   "cell_type": "code",
   "execution_count": 10,
   "metadata": {
    "execution": {
     "iopub.execute_input": "2023-07-07T21:51:25.438695Z",
     "iopub.status.busy": "2023-07-07T21:51:25.438458Z",
     "iopub.status.idle": "2023-07-07T21:51:25.764551Z",
     "shell.execute_reply": "2023-07-07T21:51:25.763692Z",
     "shell.execute_reply.started": "2023-07-07T21:51:25.438680Z"
    }
   },
   "outputs": [
    {
     "name": "stdout",
     "output_type": "stream",
     "text": [
      "325647\n"
     ]
    }
   ],
   "source": [
    "collect_data_Base_dir = 'collect_data'\n",
    "df_game_matchup_total = pd.read_pickle(f'{collect_data_Base_dir}/df_game_matchup_total.pkl')\n",
    "print(len(df_game_matchup_total))"
   ]
  },
  {
   "cell_type": "markdown",
   "metadata": {
    "id": "VkSM5TOeule8"
   },
   "source": [
    "**Choose Columns**"
   ]
  },
  {
   "cell_type": "code",
   "execution_count": 11,
   "metadata": {
    "execution": {
     "iopub.execute_input": "2023-07-07T21:51:26.323513Z",
     "iopub.status.busy": "2023-07-07T21:51:26.323277Z",
     "iopub.status.idle": "2023-07-07T21:51:26.332541Z",
     "shell.execute_reply": "2023-07-07T21:51:26.331406Z",
     "shell.execute_reply.started": "2023-07-07T21:51:26.323497Z"
    }
   },
   "outputs": [
    {
     "data": {
      "text/plain": [
       "<module 'model.common' from '/home/junlim/projects/mlb-props/model/common.py'>"
      ]
     },
     "execution_count": 11,
     "metadata": {},
     "output_type": "execute_result"
    }
   ],
   "source": [
    "importlib.reload(model.common)"
   ]
  },
  {
   "cell_type": "code",
   "execution_count": 15,
   "metadata": {
    "execution": {
     "iopub.execute_input": "2023-07-07T21:52:42.752143Z",
     "iopub.status.busy": "2023-07-07T21:52:42.751766Z",
     "iopub.status.idle": "2023-07-07T21:52:42.755165Z",
     "shell.execute_reply": "2023-07-07T21:52:42.754642Z",
     "shell.execute_reply.started": "2023-07-07T21:52:42.752124Z"
    }
   },
   "outputs": [],
   "source": [
    "feature_columns, target_column, model_file_name = model.common.features_1hits_recorded, model.common.target_1hits_recorded, model.common.model_1hits_file_name"
   ]
  },
  {
   "cell_type": "code",
   "execution_count": 13,
   "metadata": {
    "execution": {
     "iopub.execute_input": "2023-07-07T21:51:28.074443Z",
     "iopub.status.busy": "2023-07-07T21:51:28.074118Z",
     "iopub.status.idle": "2023-07-07T21:51:28.268140Z",
     "shell.execute_reply": "2023-07-07T21:51:28.267392Z",
     "shell.execute_reply.started": "2023-07-07T21:51:28.074417Z"
    }
   },
   "outputs": [],
   "source": [
    "train_data = df_game_matchup_total[(df_game_matchup_total.game_date > \"2012-04-01\") & (df_game_matchup_total.game_date < \"2022-12-01\")][feature_columns]\n",
    "test_data = df_game_matchup_total[(df_game_matchup_total.game_date > \"2022-12-01\")][feature_columns]"
   ]
  },
  {
   "cell_type": "code",
   "execution_count": null,
   "metadata": {},
   "outputs": [],
   "source": []
  },
  {
   "cell_type": "markdown",
   "metadata": {
    "id": "Qxoqal-SvwXp"
   },
   "source": [
    "**Build/Train Model**"
   ]
  },
  {
   "cell_type": "code",
   "execution_count": 7,
   "metadata": {
    "execution": {
     "iopub.execute_input": "2023-07-03T23:08:16.412820Z",
     "iopub.status.busy": "2023-07-03T23:08:16.412423Z",
     "iopub.status.idle": "2023-07-03T23:19:39.977144Z",
     "shell.execute_reply": "2023-07-03T23:19:39.975320Z",
     "shell.execute_reply.started": "2023-07-03T23:08:16.412785Z"
    },
    "scrolled": true
   },
   "outputs": [
    {
     "data": {
      "text/html": [
       "<style type=\"text/css\">\n",
       "#T_0ce8b_row11_col1 {\n",
       "  background-color: lightgreen;\n",
       "}\n",
       "</style>\n",
       "<table id=\"T_0ce8b\">\n",
       "  <thead>\n",
       "    <tr>\n",
       "      <th class=\"blank level0\" >&nbsp;</th>\n",
       "      <th id=\"T_0ce8b_level0_col0\" class=\"col_heading level0 col0\" >Description</th>\n",
       "      <th id=\"T_0ce8b_level0_col1\" class=\"col_heading level0 col1\" >Value</th>\n",
       "    </tr>\n",
       "  </thead>\n",
       "  <tbody>\n",
       "    <tr>\n",
       "      <th id=\"T_0ce8b_level0_row0\" class=\"row_heading level0 row0\" >0</th>\n",
       "      <td id=\"T_0ce8b_row0_col0\" class=\"data row0 col0\" >Session id</td>\n",
       "      <td id=\"T_0ce8b_row0_col1\" class=\"data row0 col1\" >3263</td>\n",
       "    </tr>\n",
       "    <tr>\n",
       "      <th id=\"T_0ce8b_level0_row1\" class=\"row_heading level0 row1\" >1</th>\n",
       "      <td id=\"T_0ce8b_row1_col0\" class=\"data row1 col0\" >Target</td>\n",
       "      <td id=\"T_0ce8b_row1_col1\" class=\"data row1 col1\" >batting_1hits_recorded</td>\n",
       "    </tr>\n",
       "    <tr>\n",
       "      <th id=\"T_0ce8b_level0_row2\" class=\"row_heading level0 row2\" >2</th>\n",
       "      <td id=\"T_0ce8b_row2_col0\" class=\"data row2 col0\" >Target type</td>\n",
       "      <td id=\"T_0ce8b_row2_col1\" class=\"data row2 col1\" >Binary</td>\n",
       "    </tr>\n",
       "    <tr>\n",
       "      <th id=\"T_0ce8b_level0_row3\" class=\"row_heading level0 row3\" >3</th>\n",
       "      <td id=\"T_0ce8b_row3_col0\" class=\"data row3 col0\" >Original data shape</td>\n",
       "      <td id=\"T_0ce8b_row3_col1\" class=\"data row3 col1\" >(285090, 21)</td>\n",
       "    </tr>\n",
       "    <tr>\n",
       "      <th id=\"T_0ce8b_level0_row4\" class=\"row_heading level0 row4\" >4</th>\n",
       "      <td id=\"T_0ce8b_row4_col0\" class=\"data row4 col0\" >Transformed data shape</td>\n",
       "      <td id=\"T_0ce8b_row4_col1\" class=\"data row4 col1\" >(285090, 15)</td>\n",
       "    </tr>\n",
       "    <tr>\n",
       "      <th id=\"T_0ce8b_level0_row5\" class=\"row_heading level0 row5\" >5</th>\n",
       "      <td id=\"T_0ce8b_row5_col0\" class=\"data row5 col0\" >Transformed train set shape</td>\n",
       "      <td id=\"T_0ce8b_row5_col1\" class=\"data row5 col1\" >(199563, 15)</td>\n",
       "    </tr>\n",
       "    <tr>\n",
       "      <th id=\"T_0ce8b_level0_row6\" class=\"row_heading level0 row6\" >6</th>\n",
       "      <td id=\"T_0ce8b_row6_col0\" class=\"data row6 col0\" >Transformed test set shape</td>\n",
       "      <td id=\"T_0ce8b_row6_col1\" class=\"data row6 col1\" >(85527, 15)</td>\n",
       "    </tr>\n",
       "    <tr>\n",
       "      <th id=\"T_0ce8b_level0_row7\" class=\"row_heading level0 row7\" >7</th>\n",
       "      <td id=\"T_0ce8b_row7_col0\" class=\"data row7 col0\" >Ignore features</td>\n",
       "      <td id=\"T_0ce8b_row7_col1\" class=\"data row7 col1\" >6</td>\n",
       "    </tr>\n",
       "    <tr>\n",
       "      <th id=\"T_0ce8b_level0_row8\" class=\"row_heading level0 row8\" >8</th>\n",
       "      <td id=\"T_0ce8b_row8_col0\" class=\"data row8 col0\" >Numeric features</td>\n",
       "      <td id=\"T_0ce8b_row8_col1\" class=\"data row8 col1\" >13</td>\n",
       "    </tr>\n",
       "    <tr>\n",
       "      <th id=\"T_0ce8b_level0_row9\" class=\"row_heading level0 row9\" >9</th>\n",
       "      <td id=\"T_0ce8b_row9_col0\" class=\"data row9 col0\" >Categorical features</td>\n",
       "      <td id=\"T_0ce8b_row9_col1\" class=\"data row9 col1\" >1</td>\n",
       "    </tr>\n",
       "    <tr>\n",
       "      <th id=\"T_0ce8b_level0_row10\" class=\"row_heading level0 row10\" >10</th>\n",
       "      <td id=\"T_0ce8b_row10_col0\" class=\"data row10 col0\" >Rows with missing values</td>\n",
       "      <td id=\"T_0ce8b_row10_col1\" class=\"data row10 col1\" >0.0%</td>\n",
       "    </tr>\n",
       "    <tr>\n",
       "      <th id=\"T_0ce8b_level0_row11\" class=\"row_heading level0 row11\" >11</th>\n",
       "      <td id=\"T_0ce8b_row11_col0\" class=\"data row11 col0\" >Preprocess</td>\n",
       "      <td id=\"T_0ce8b_row11_col1\" class=\"data row11 col1\" >True</td>\n",
       "    </tr>\n",
       "    <tr>\n",
       "      <th id=\"T_0ce8b_level0_row12\" class=\"row_heading level0 row12\" >12</th>\n",
       "      <td id=\"T_0ce8b_row12_col0\" class=\"data row12 col0\" >Imputation type</td>\n",
       "      <td id=\"T_0ce8b_row12_col1\" class=\"data row12 col1\" >simple</td>\n",
       "    </tr>\n",
       "    <tr>\n",
       "      <th id=\"T_0ce8b_level0_row13\" class=\"row_heading level0 row13\" >13</th>\n",
       "      <td id=\"T_0ce8b_row13_col0\" class=\"data row13 col0\" >Numeric imputation</td>\n",
       "      <td id=\"T_0ce8b_row13_col1\" class=\"data row13 col1\" >mean</td>\n",
       "    </tr>\n",
       "    <tr>\n",
       "      <th id=\"T_0ce8b_level0_row14\" class=\"row_heading level0 row14\" >14</th>\n",
       "      <td id=\"T_0ce8b_row14_col0\" class=\"data row14 col0\" >Categorical imputation</td>\n",
       "      <td id=\"T_0ce8b_row14_col1\" class=\"data row14 col1\" >mode</td>\n",
       "    </tr>\n",
       "    <tr>\n",
       "      <th id=\"T_0ce8b_level0_row15\" class=\"row_heading level0 row15\" >15</th>\n",
       "      <td id=\"T_0ce8b_row15_col0\" class=\"data row15 col0\" >Maximum one-hot encoding</td>\n",
       "      <td id=\"T_0ce8b_row15_col1\" class=\"data row15 col1\" >25</td>\n",
       "    </tr>\n",
       "    <tr>\n",
       "      <th id=\"T_0ce8b_level0_row16\" class=\"row_heading level0 row16\" >16</th>\n",
       "      <td id=\"T_0ce8b_row16_col0\" class=\"data row16 col0\" >Encoding method</td>\n",
       "      <td id=\"T_0ce8b_row16_col1\" class=\"data row16 col1\" >None</td>\n",
       "    </tr>\n",
       "    <tr>\n",
       "      <th id=\"T_0ce8b_level0_row17\" class=\"row_heading level0 row17\" >17</th>\n",
       "      <td id=\"T_0ce8b_row17_col0\" class=\"data row17 col0\" >Fold Generator</td>\n",
       "      <td id=\"T_0ce8b_row17_col1\" class=\"data row17 col1\" >StratifiedKFold</td>\n",
       "    </tr>\n",
       "    <tr>\n",
       "      <th id=\"T_0ce8b_level0_row18\" class=\"row_heading level0 row18\" >18</th>\n",
       "      <td id=\"T_0ce8b_row18_col0\" class=\"data row18 col0\" >Fold Number</td>\n",
       "      <td id=\"T_0ce8b_row18_col1\" class=\"data row18 col1\" >10</td>\n",
       "    </tr>\n",
       "    <tr>\n",
       "      <th id=\"T_0ce8b_level0_row19\" class=\"row_heading level0 row19\" >19</th>\n",
       "      <td id=\"T_0ce8b_row19_col0\" class=\"data row19 col0\" >CPU Jobs</td>\n",
       "      <td id=\"T_0ce8b_row19_col1\" class=\"data row19 col1\" >-1</td>\n",
       "    </tr>\n",
       "    <tr>\n",
       "      <th id=\"T_0ce8b_level0_row20\" class=\"row_heading level0 row20\" >20</th>\n",
       "      <td id=\"T_0ce8b_row20_col0\" class=\"data row20 col0\" >Use GPU</td>\n",
       "      <td id=\"T_0ce8b_row20_col1\" class=\"data row20 col1\" >False</td>\n",
       "    </tr>\n",
       "    <tr>\n",
       "      <th id=\"T_0ce8b_level0_row21\" class=\"row_heading level0 row21\" >21</th>\n",
       "      <td id=\"T_0ce8b_row21_col0\" class=\"data row21 col0\" >Log Experiment</td>\n",
       "      <td id=\"T_0ce8b_row21_col1\" class=\"data row21 col1\" >False</td>\n",
       "    </tr>\n",
       "    <tr>\n",
       "      <th id=\"T_0ce8b_level0_row22\" class=\"row_heading level0 row22\" >22</th>\n",
       "      <td id=\"T_0ce8b_row22_col0\" class=\"data row22 col0\" >Experiment Name</td>\n",
       "      <td id=\"T_0ce8b_row22_col1\" class=\"data row22 col1\" >clf-default-name</td>\n",
       "    </tr>\n",
       "    <tr>\n",
       "      <th id=\"T_0ce8b_level0_row23\" class=\"row_heading level0 row23\" >23</th>\n",
       "      <td id=\"T_0ce8b_row23_col0\" class=\"data row23 col0\" >USI</td>\n",
       "      <td id=\"T_0ce8b_row23_col1\" class=\"data row23 col1\" >6803</td>\n",
       "    </tr>\n",
       "  </tbody>\n",
       "</table>\n"
      ],
      "text/plain": [
       "<pandas.io.formats.style.Styler at 0x7f1fc4736d10>"
      ]
     },
     "metadata": {},
     "output_type": "display_data"
    },
    {
     "data": {
      "text/html": [],
      "text/plain": [
       "<IPython.core.display.HTML object>"
      ]
     },
     "metadata": {},
     "output_type": "display_data"
    },
    {
     "data": {
      "text/html": [
       "<style type=\"text/css\">\n",
       "#T_811e0_row10_col0, #T_811e0_row10_col1, #T_811e0_row10_col2, #T_811e0_row10_col3, #T_811e0_row10_col4, #T_811e0_row10_col5, #T_811e0_row10_col6 {\n",
       "  background: yellow;\n",
       "}\n",
       "</style>\n",
       "<table id=\"T_811e0\">\n",
       "  <thead>\n",
       "    <tr>\n",
       "      <th class=\"blank level0\" >&nbsp;</th>\n",
       "      <th id=\"T_811e0_level0_col0\" class=\"col_heading level0 col0\" >Accuracy</th>\n",
       "      <th id=\"T_811e0_level0_col1\" class=\"col_heading level0 col1\" >AUC</th>\n",
       "      <th id=\"T_811e0_level0_col2\" class=\"col_heading level0 col2\" >Recall</th>\n",
       "      <th id=\"T_811e0_level0_col3\" class=\"col_heading level0 col3\" >Prec.</th>\n",
       "      <th id=\"T_811e0_level0_col4\" class=\"col_heading level0 col4\" >F1</th>\n",
       "      <th id=\"T_811e0_level0_col5\" class=\"col_heading level0 col5\" >Kappa</th>\n",
       "      <th id=\"T_811e0_level0_col6\" class=\"col_heading level0 col6\" >MCC</th>\n",
       "    </tr>\n",
       "    <tr>\n",
       "      <th class=\"index_name level0\" >Fold</th>\n",
       "      <th class=\"blank col0\" >&nbsp;</th>\n",
       "      <th class=\"blank col1\" >&nbsp;</th>\n",
       "      <th class=\"blank col2\" >&nbsp;</th>\n",
       "      <th class=\"blank col3\" >&nbsp;</th>\n",
       "      <th class=\"blank col4\" >&nbsp;</th>\n",
       "      <th class=\"blank col5\" >&nbsp;</th>\n",
       "      <th class=\"blank col6\" >&nbsp;</th>\n",
       "    </tr>\n",
       "  </thead>\n",
       "  <tbody>\n",
       "    <tr>\n",
       "      <th id=\"T_811e0_level0_row0\" class=\"row_heading level0 row0\" >0</th>\n",
       "      <td id=\"T_811e0_row0_col0\" class=\"data row0 col0\" >0.6511</td>\n",
       "      <td id=\"T_811e0_row0_col1\" class=\"data row0 col1\" >0.6816</td>\n",
       "      <td id=\"T_811e0_row0_col2\" class=\"data row0 col2\" >0.8522</td>\n",
       "      <td id=\"T_811e0_row0_col3\" class=\"data row0 col3\" >0.6483</td>\n",
       "      <td id=\"T_811e0_row0_col4\" class=\"data row0 col4\" >0.7364</td>\n",
       "      <td id=\"T_811e0_row0_col5\" class=\"data row0 col5\" >0.2480</td>\n",
       "      <td id=\"T_811e0_row0_col6\" class=\"data row0 col6\" >0.2690</td>\n",
       "    </tr>\n",
       "    <tr>\n",
       "      <th id=\"T_811e0_level0_row1\" class=\"row_heading level0 row1\" >1</th>\n",
       "      <td id=\"T_811e0_row1_col0\" class=\"data row1 col0\" >0.6483</td>\n",
       "      <td id=\"T_811e0_row1_col1\" class=\"data row1 col1\" >0.6798</td>\n",
       "      <td id=\"T_811e0_row1_col2\" class=\"data row1 col2\" >0.8510</td>\n",
       "      <td id=\"T_811e0_row1_col3\" class=\"data row1 col3\" >0.6461</td>\n",
       "      <td id=\"T_811e0_row1_col4\" class=\"data row1 col4\" >0.7345</td>\n",
       "      <td id=\"T_811e0_row1_col5\" class=\"data row1 col5\" >0.2415</td>\n",
       "      <td id=\"T_811e0_row1_col6\" class=\"data row1 col6\" >0.2624</td>\n",
       "    </tr>\n",
       "    <tr>\n",
       "      <th id=\"T_811e0_level0_row2\" class=\"row_heading level0 row2\" >2</th>\n",
       "      <td id=\"T_811e0_row2_col0\" class=\"data row2 col0\" >0.6519</td>\n",
       "      <td id=\"T_811e0_row2_col1\" class=\"data row2 col1\" >0.6834</td>\n",
       "      <td id=\"T_811e0_row2_col2\" class=\"data row2 col2\" >0.8488</td>\n",
       "      <td id=\"T_811e0_row2_col3\" class=\"data row2 col3\" >0.6497</td>\n",
       "      <td id=\"T_811e0_row2_col4\" class=\"data row2 col4\" >0.7360</td>\n",
       "      <td id=\"T_811e0_row2_col5\" class=\"data row2 col5\" >0.2505</td>\n",
       "      <td id=\"T_811e0_row2_col6\" class=\"data row2 col6\" >0.2705</td>\n",
       "    </tr>\n",
       "    <tr>\n",
       "      <th id=\"T_811e0_level0_row3\" class=\"row_heading level0 row3\" >3</th>\n",
       "      <td id=\"T_811e0_row3_col0\" class=\"data row3 col0\" >0.6486</td>\n",
       "      <td id=\"T_811e0_row3_col1\" class=\"data row3 col1\" >0.6784</td>\n",
       "      <td id=\"T_811e0_row3_col2\" class=\"data row3 col2\" >0.8519</td>\n",
       "      <td id=\"T_811e0_row3_col3\" class=\"data row3 col3\" >0.6461</td>\n",
       "      <td id=\"T_811e0_row3_col4\" class=\"data row3 col4\" >0.7349</td>\n",
       "      <td id=\"T_811e0_row3_col5\" class=\"data row3 col5\" >0.2419</td>\n",
       "      <td id=\"T_811e0_row3_col6\" class=\"data row3 col6\" >0.2631</td>\n",
       "    </tr>\n",
       "    <tr>\n",
       "      <th id=\"T_811e0_level0_row4\" class=\"row_heading level0 row4\" >4</th>\n",
       "      <td id=\"T_811e0_row4_col0\" class=\"data row4 col0\" >0.6505</td>\n",
       "      <td id=\"T_811e0_row4_col1\" class=\"data row4 col1\" >0.6793</td>\n",
       "      <td id=\"T_811e0_row4_col2\" class=\"data row4 col2\" >0.8553</td>\n",
       "      <td id=\"T_811e0_row4_col3\" class=\"data row4 col3\" >0.6471</td>\n",
       "      <td id=\"T_811e0_row4_col4\" class=\"data row4 col4\" >0.7368</td>\n",
       "      <td id=\"T_811e0_row4_col5\" class=\"data row4 col5\" >0.2457</td>\n",
       "      <td id=\"T_811e0_row4_col6\" class=\"data row4 col6\" >0.2677</td>\n",
       "    </tr>\n",
       "    <tr>\n",
       "      <th id=\"T_811e0_level0_row5\" class=\"row_heading level0 row5\" >5</th>\n",
       "      <td id=\"T_811e0_row5_col0\" class=\"data row5 col0\" >0.6495</td>\n",
       "      <td id=\"T_811e0_row5_col1\" class=\"data row5 col1\" >0.6814</td>\n",
       "      <td id=\"T_811e0_row5_col2\" class=\"data row5 col2\" >0.8558</td>\n",
       "      <td id=\"T_811e0_row5_col3\" class=\"data row5 col3\" >0.6461</td>\n",
       "      <td id=\"T_811e0_row5_col4\" class=\"data row5 col4\" >0.7363</td>\n",
       "      <td id=\"T_811e0_row5_col5\" class=\"data row5 col5\" >0.2431</td>\n",
       "      <td id=\"T_811e0_row5_col6\" class=\"data row5 col6\" >0.2654</td>\n",
       "    </tr>\n",
       "    <tr>\n",
       "      <th id=\"T_811e0_level0_row6\" class=\"row_heading level0 row6\" >6</th>\n",
       "      <td id=\"T_811e0_row6_col0\" class=\"data row6 col0\" >0.6455</td>\n",
       "      <td id=\"T_811e0_row6_col1\" class=\"data row6 col1\" >0.6792</td>\n",
       "      <td id=\"T_811e0_row6_col2\" class=\"data row6 col2\" >0.8498</td>\n",
       "      <td id=\"T_811e0_row6_col3\" class=\"data row6 col3\" >0.6440</td>\n",
       "      <td id=\"T_811e0_row6_col4\" class=\"data row6 col4\" >0.7327</td>\n",
       "      <td id=\"T_811e0_row6_col5\" class=\"data row6 col5\" >0.2351</td>\n",
       "      <td id=\"T_811e0_row6_col6\" class=\"data row6 col6\" >0.2558</td>\n",
       "    </tr>\n",
       "    <tr>\n",
       "      <th id=\"T_811e0_level0_row7\" class=\"row_heading level0 row7\" >7</th>\n",
       "      <td id=\"T_811e0_row7_col0\" class=\"data row7 col0\" >0.6494</td>\n",
       "      <td id=\"T_811e0_row7_col1\" class=\"data row7 col1\" >0.6800</td>\n",
       "      <td id=\"T_811e0_row7_col2\" class=\"data row7 col2\" >0.8457</td>\n",
       "      <td id=\"T_811e0_row7_col3\" class=\"data row7 col3\" >0.6482</td>\n",
       "      <td id=\"T_811e0_row7_col4\" class=\"data row7 col4\" >0.7339</td>\n",
       "      <td id=\"T_811e0_row7_col5\" class=\"data row7 col5\" >0.2455</td>\n",
       "      <td id=\"T_811e0_row7_col6\" class=\"data row7 col6\" >0.2648</td>\n",
       "    </tr>\n",
       "    <tr>\n",
       "      <th id=\"T_811e0_level0_row8\" class=\"row_heading level0 row8\" >8</th>\n",
       "      <td id=\"T_811e0_row8_col0\" class=\"data row8 col0\" >0.6513</td>\n",
       "      <td id=\"T_811e0_row8_col1\" class=\"data row8 col1\" >0.6868</td>\n",
       "      <td id=\"T_811e0_row8_col2\" class=\"data row8 col2\" >0.8605</td>\n",
       "      <td id=\"T_811e0_row8_col3\" class=\"data row8 col3\" >0.6466</td>\n",
       "      <td id=\"T_811e0_row8_col4\" class=\"data row8 col4\" >0.7384</td>\n",
       "      <td id=\"T_811e0_row8_col5\" class=\"data row8 col5\" >0.2462</td>\n",
       "      <td id=\"T_811e0_row8_col6\" class=\"data row8 col6\" >0.2698</td>\n",
       "    </tr>\n",
       "    <tr>\n",
       "      <th id=\"T_811e0_level0_row9\" class=\"row_heading level0 row9\" >9</th>\n",
       "      <td id=\"T_811e0_row9_col0\" class=\"data row9 col0\" >0.6488</td>\n",
       "      <td id=\"T_811e0_row9_col1\" class=\"data row9 col1\" >0.6819</td>\n",
       "      <td id=\"T_811e0_row9_col2\" class=\"data row9 col2\" >0.8516</td>\n",
       "      <td id=\"T_811e0_row9_col3\" class=\"data row9 col3\" >0.6464</td>\n",
       "      <td id=\"T_811e0_row9_col4\" class=\"data row9 col4\" >0.7350</td>\n",
       "      <td id=\"T_811e0_row9_col5\" class=\"data row9 col5\" >0.2426</td>\n",
       "      <td id=\"T_811e0_row9_col6\" class=\"data row9 col6\" >0.2636</td>\n",
       "    </tr>\n",
       "    <tr>\n",
       "      <th id=\"T_811e0_level0_row10\" class=\"row_heading level0 row10\" >Mean</th>\n",
       "      <td id=\"T_811e0_row10_col0\" class=\"data row10 col0\" >0.6495</td>\n",
       "      <td id=\"T_811e0_row10_col1\" class=\"data row10 col1\" >0.6812</td>\n",
       "      <td id=\"T_811e0_row10_col2\" class=\"data row10 col2\" >0.8523</td>\n",
       "      <td id=\"T_811e0_row10_col3\" class=\"data row10 col3\" >0.6469</td>\n",
       "      <td id=\"T_811e0_row10_col4\" class=\"data row10 col4\" >0.7355</td>\n",
       "      <td id=\"T_811e0_row10_col5\" class=\"data row10 col5\" >0.2440</td>\n",
       "      <td id=\"T_811e0_row10_col6\" class=\"data row10 col6\" >0.2652</td>\n",
       "    </tr>\n",
       "    <tr>\n",
       "      <th id=\"T_811e0_level0_row11\" class=\"row_heading level0 row11\" >Std</th>\n",
       "      <td id=\"T_811e0_row11_col0\" class=\"data row11 col0\" >0.0018</td>\n",
       "      <td id=\"T_811e0_row11_col1\" class=\"data row11 col1\" >0.0023</td>\n",
       "      <td id=\"T_811e0_row11_col2\" class=\"data row11 col2\" >0.0039</td>\n",
       "      <td id=\"T_811e0_row11_col3\" class=\"data row11 col3\" >0.0015</td>\n",
       "      <td id=\"T_811e0_row11_col4\" class=\"data row11 col4\" >0.0015</td>\n",
       "      <td id=\"T_811e0_row11_col5\" class=\"data row11 col5\" >0.0040</td>\n",
       "      <td id=\"T_811e0_row11_col6\" class=\"data row11 col6\" >0.0042</td>\n",
       "    </tr>\n",
       "  </tbody>\n",
       "</table>\n"
      ],
      "text/plain": [
       "<pandas.io.formats.style.Styler at 0x7f1fc438e2c0>"
      ]
     },
     "metadata": {},
     "output_type": "display_data"
    },
    {
     "data": {
      "text/html": [],
      "text/plain": [
       "<IPython.core.display.HTML object>"
      ]
     },
     "metadata": {},
     "output_type": "display_data"
    },
    {
     "data": {
      "text/html": [],
      "text/plain": [
       "<IPython.core.display.HTML object>"
      ]
     },
     "metadata": {},
     "output_type": "display_data"
    },
    {
     "data": {
      "image/png": "[encoded data removed]",
      "text/plain": [
       "<Figure size 480x330 with 1 Axes>"
      ]
     },
     "metadata": {},
     "output_type": "display_data"
    },
    {
     "data": {
      "text/html": [],
      "text/plain": [
       "<IPython.core.display.HTML object>"
      ]
     },
     "metadata": {},
     "output_type": "display_data"
    },
    {
     "data": {
      "text/html": [
       "<style type=\"text/css\">\n",
       "#T_a5714_row10_col0, #T_a5714_row10_col1, #T_a5714_row10_col2, #T_a5714_row10_col3, #T_a5714_row10_col4, #T_a5714_row10_col5, #T_a5714_row10_col6 {\n",
       "  background: yellow;\n",
       "}\n",
       "</style>\n",
       "<table id=\"T_a5714\">\n",
       "  <thead>\n",
       "    <tr>\n",
       "      <th class=\"blank level0\" >&nbsp;</th>\n",
       "      <th id=\"T_a5714_level0_col0\" class=\"col_heading level0 col0\" >Accuracy</th>\n",
       "      <th id=\"T_a5714_level0_col1\" class=\"col_heading level0 col1\" >AUC</th>\n",
       "      <th id=\"T_a5714_level0_col2\" class=\"col_heading level0 col2\" >Recall</th>\n",
       "      <th id=\"T_a5714_level0_col3\" class=\"col_heading level0 col3\" >Prec.</th>\n",
       "      <th id=\"T_a5714_level0_col4\" class=\"col_heading level0 col4\" >F1</th>\n",
       "      <th id=\"T_a5714_level0_col5\" class=\"col_heading level0 col5\" >Kappa</th>\n",
       "      <th id=\"T_a5714_level0_col6\" class=\"col_heading level0 col6\" >MCC</th>\n",
       "    </tr>\n",
       "    <tr>\n",
       "      <th class=\"index_name level0\" >Fold</th>\n",
       "      <th class=\"blank col0\" >&nbsp;</th>\n",
       "      <th class=\"blank col1\" >&nbsp;</th>\n",
       "      <th class=\"blank col2\" >&nbsp;</th>\n",
       "      <th class=\"blank col3\" >&nbsp;</th>\n",
       "      <th class=\"blank col4\" >&nbsp;</th>\n",
       "      <th class=\"blank col5\" >&nbsp;</th>\n",
       "      <th class=\"blank col6\" >&nbsp;</th>\n",
       "    </tr>\n",
       "  </thead>\n",
       "  <tbody>\n",
       "    <tr>\n",
       "      <th id=\"T_a5714_level0_row0\" class=\"row_heading level0 row0\" >0</th>\n",
       "      <td id=\"T_a5714_row0_col0\" class=\"data row0 col0\" >0.6533</td>\n",
       "      <td id=\"T_a5714_row0_col1\" class=\"data row0 col1\" >0.6867</td>\n",
       "      <td id=\"T_a5714_row0_col2\" class=\"data row0 col2\" >0.8583</td>\n",
       "      <td id=\"T_a5714_row0_col3\" class=\"data row0 col3\" >0.6487</td>\n",
       "      <td id=\"T_a5714_row0_col4\" class=\"data row0 col4\" >0.7389</td>\n",
       "      <td id=\"T_a5714_row0_col5\" class=\"data row0 col5\" >0.2514</td>\n",
       "      <td id=\"T_a5714_row0_col6\" class=\"data row0 col6\" >0.2741</td>\n",
       "    </tr>\n",
       "    <tr>\n",
       "      <th id=\"T_a5714_level0_row1\" class=\"row_heading level0 row1\" >1</th>\n",
       "      <td id=\"T_a5714_row1_col0\" class=\"data row1 col0\" >0.6497</td>\n",
       "      <td id=\"T_a5714_row1_col1\" class=\"data row1 col1\" >0.6832</td>\n",
       "      <td id=\"T_a5714_row1_col2\" class=\"data row1 col2\" >0.8558</td>\n",
       "      <td id=\"T_a5714_row1_col3\" class=\"data row1 col3\" >0.6463</td>\n",
       "      <td id=\"T_a5714_row1_col4\" class=\"data row1 col4\" >0.7364</td>\n",
       "      <td id=\"T_a5714_row1_col5\" class=\"data row1 col5\" >0.2437</td>\n",
       "      <td id=\"T_a5714_row1_col6\" class=\"data row1 col6\" >0.2659</td>\n",
       "    </tr>\n",
       "    <tr>\n",
       "      <th id=\"T_a5714_level0_row2\" class=\"row_heading level0 row2\" >2</th>\n",
       "      <td id=\"T_a5714_row2_col0\" class=\"data row2 col0\" >0.6563</td>\n",
       "      <td id=\"T_a5714_row2_col1\" class=\"data row2 col1\" >0.6872</td>\n",
       "      <td id=\"T_a5714_row2_col2\" class=\"data row2 col2\" >0.8544</td>\n",
       "      <td id=\"T_a5714_row2_col3\" class=\"data row2 col3\" >0.6523</td>\n",
       "      <td id=\"T_a5714_row2_col4\" class=\"data row2 col4\" >0.7398</td>\n",
       "      <td id=\"T_a5714_row2_col5\" class=\"data row2 col5\" >0.2597</td>\n",
       "      <td id=\"T_a5714_row2_col6\" class=\"data row2 col6\" >0.2810</td>\n",
       "    </tr>\n",
       "    <tr>\n",
       "      <th id=\"T_a5714_level0_row3\" class=\"row_heading level0 row3\" >3</th>\n",
       "      <td id=\"T_a5714_row3_col0\" class=\"data row3 col0\" >0.6540</td>\n",
       "      <td id=\"T_a5714_row3_col1\" class=\"data row3 col1\" >0.6839</td>\n",
       "      <td id=\"T_a5714_row3_col2\" class=\"data row3 col2\" >0.8612</td>\n",
       "      <td id=\"T_a5714_row3_col3\" class=\"data row3 col3\" >0.6488</td>\n",
       "      <td id=\"T_a5714_row3_col4\" class=\"data row3 col4\" >0.7400</td>\n",
       "      <td id=\"T_a5714_row3_col5\" class=\"data row3 col5\" >0.2525</td>\n",
       "      <td id=\"T_a5714_row3_col6\" class=\"data row3 col6\" >0.2761</td>\n",
       "    </tr>\n",
       "    <tr>\n",
       "      <th id=\"T_a5714_level0_row4\" class=\"row_heading level0 row4\" >4</th>\n",
       "      <td id=\"T_a5714_row4_col0\" class=\"data row4 col0\" >0.6517</td>\n",
       "      <td id=\"T_a5714_row4_col1\" class=\"data row4 col1\" >0.6825</td>\n",
       "      <td id=\"T_a5714_row4_col2\" class=\"data row4 col2\" >0.8606</td>\n",
       "      <td id=\"T_a5714_row4_col3\" class=\"data row4 col3\" >0.6469</td>\n",
       "      <td id=\"T_a5714_row4_col4\" class=\"data row4 col4\" >0.7386</td>\n",
       "      <td id=\"T_a5714_row4_col5\" class=\"data row4 col5\" >0.2470</td>\n",
       "      <td id=\"T_a5714_row4_col6\" class=\"data row4 col6\" >0.2706</td>\n",
       "    </tr>\n",
       "    <tr>\n",
       "      <th id=\"T_a5714_level0_row5\" class=\"row_heading level0 row5\" >5</th>\n",
       "      <td id=\"T_a5714_row5_col0\" class=\"data row5 col0\" >0.6540</td>\n",
       "      <td id=\"T_a5714_row5_col1\" class=\"data row5 col1\" >0.6852</td>\n",
       "      <td id=\"T_a5714_row5_col2\" class=\"data row5 col2\" >0.8616</td>\n",
       "      <td id=\"T_a5714_row5_col3\" class=\"data row5 col3\" >0.6486</td>\n",
       "      <td id=\"T_a5714_row5_col4\" class=\"data row5 col4\" >0.7401</td>\n",
       "      <td id=\"T_a5714_row5_col5\" class=\"data row5 col5\" >0.2523</td>\n",
       "      <td id=\"T_a5714_row5_col6\" class=\"data row5 col6\" >0.2760</td>\n",
       "    </tr>\n",
       "    <tr>\n",
       "      <th id=\"T_a5714_level0_row6\" class=\"row_heading level0 row6\" >6</th>\n",
       "      <td id=\"T_a5714_row6_col0\" class=\"data row6 col0\" >0.6511</td>\n",
       "      <td id=\"T_a5714_row6_col1\" class=\"data row6 col1\" >0.6836</td>\n",
       "      <td id=\"T_a5714_row6_col2\" class=\"data row6 col2\" >0.8586</td>\n",
       "      <td id=\"T_a5714_row6_col3\" class=\"data row6 col3\" >0.6468</td>\n",
       "      <td id=\"T_a5714_row6_col4\" class=\"data row6 col4\" >0.7378</td>\n",
       "      <td id=\"T_a5714_row6_col5\" class=\"data row6 col5\" >0.2462</td>\n",
       "      <td id=\"T_a5714_row6_col6\" class=\"data row6 col6\" >0.2692</td>\n",
       "    </tr>\n",
       "    <tr>\n",
       "      <th id=\"T_a5714_level0_row7\" class=\"row_heading level0 row7\" >7</th>\n",
       "      <td id=\"T_a5714_row7_col0\" class=\"data row7 col0\" >0.6511</td>\n",
       "      <td id=\"T_a5714_row7_col1\" class=\"data row7 col1\" >0.6822</td>\n",
       "      <td id=\"T_a5714_row7_col2\" class=\"data row7 col2\" >0.8518</td>\n",
       "      <td id=\"T_a5714_row7_col3\" class=\"data row7 col3\" >0.6484</td>\n",
       "      <td id=\"T_a5714_row7_col4\" class=\"data row7 col4\" >0.7363</td>\n",
       "      <td id=\"T_a5714_row7_col5\" class=\"data row7 col5\" >0.2481</td>\n",
       "      <td id=\"T_a5714_row7_col6\" class=\"data row7 col6\" >0.2690</td>\n",
       "    </tr>\n",
       "    <tr>\n",
       "      <th id=\"T_a5714_level0_row8\" class=\"row_heading level0 row8\" >8</th>\n",
       "      <td id=\"T_a5714_row8_col0\" class=\"data row8 col0\" >0.6520</td>\n",
       "      <td id=\"T_a5714_row8_col1\" class=\"data row8 col1\" >0.6898</td>\n",
       "      <td id=\"T_a5714_row8_col2\" class=\"data row8 col2\" >0.8568</td>\n",
       "      <td id=\"T_a5714_row8_col3\" class=\"data row8 col3\" >0.6480</td>\n",
       "      <td id=\"T_a5714_row8_col4\" class=\"data row8 col4\" >0.7379</td>\n",
       "      <td id=\"T_a5714_row8_col5\" class=\"data row8 col5\" >0.2488</td>\n",
       "      <td id=\"T_a5714_row8_col6\" class=\"data row8 col6\" >0.2711</td>\n",
       "    </tr>\n",
       "    <tr>\n",
       "      <th id=\"T_a5714_level0_row9\" class=\"row_heading level0 row9\" >9</th>\n",
       "      <td id=\"T_a5714_row9_col0\" class=\"data row9 col0\" >0.6517</td>\n",
       "      <td id=\"T_a5714_row9_col1\" class=\"data row9 col1\" >0.6856</td>\n",
       "      <td id=\"T_a5714_row9_col2\" class=\"data row9 col2\" >0.8604</td>\n",
       "      <td id=\"T_a5714_row9_col3\" class=\"data row9 col3\" >0.6469</td>\n",
       "      <td id=\"T_a5714_row9_col4\" class=\"data row9 col4\" >0.7385</td>\n",
       "      <td id=\"T_a5714_row9_col5\" class=\"data row9 col5\" >0.2471</td>\n",
       "      <td id=\"T_a5714_row9_col6\" class=\"data row9 col6\" >0.2706</td>\n",
       "    </tr>\n",
       "    <tr>\n",
       "      <th id=\"T_a5714_level0_row10\" class=\"row_heading level0 row10\" >Mean</th>\n",
       "      <td id=\"T_a5714_row10_col0\" class=\"data row10 col0\" >0.6525</td>\n",
       "      <td id=\"T_a5714_row10_col1\" class=\"data row10 col1\" >0.6850</td>\n",
       "      <td id=\"T_a5714_row10_col2\" class=\"data row10 col2\" >0.8579</td>\n",
       "      <td id=\"T_a5714_row10_col3\" class=\"data row10 col3\" >0.6482</td>\n",
       "      <td id=\"T_a5714_row10_col4\" class=\"data row10 col4\" >0.7384</td>\n",
       "      <td id=\"T_a5714_row10_col5\" class=\"data row10 col5\" >0.2497</td>\n",
       "      <td id=\"T_a5714_row10_col6\" class=\"data row10 col6\" >0.2724</td>\n",
       "    </tr>\n",
       "    <tr>\n",
       "      <th id=\"T_a5714_level0_row11\" class=\"row_heading level0 row11\" >Std</th>\n",
       "      <td id=\"T_a5714_row11_col0\" class=\"data row11 col0\" >0.0018</td>\n",
       "      <td id=\"T_a5714_row11_col1\" class=\"data row11 col1\" >0.0023</td>\n",
       "      <td id=\"T_a5714_row11_col2\" class=\"data row11 col2\" >0.0031</td>\n",
       "      <td id=\"T_a5714_row11_col3\" class=\"data row11 col3\" >0.0016</td>\n",
       "      <td id=\"T_a5714_row11_col4\" class=\"data row11 col4\" >0.0013</td>\n",
       "      <td id=\"T_a5714_row11_col5\" class=\"data row11 col5\" >0.0043</td>\n",
       "      <td id=\"T_a5714_row11_col6\" class=\"data row11 col6\" >0.0042</td>\n",
       "    </tr>\n",
       "  </tbody>\n",
       "</table>\n"
      ],
      "text/plain": [
       "<pandas.io.formats.style.Styler at 0x7f1fc4645360>"
      ]
     },
     "metadata": {},
     "output_type": "display_data"
    },
    {
     "data": {
      "text/html": [],
      "text/plain": [
       "<IPython.core.display.HTML object>"
      ]
     },
     "metadata": {},
     "output_type": "display_data"
    },
    {
     "data": {
      "text/html": [],
      "text/plain": [
       "<IPython.core.display.HTML object>"
      ]
     },
     "metadata": {},
     "output_type": "display_data"
    },
    {
     "data": {
      "image/png": "[encoded data removed]",
      "text/plain": [
       "<Figure size 480x330 with 1 Axes>"
      ]
     },
     "metadata": {},
     "output_type": "display_data"
    },
    {
     "data": {
      "text/html": [],
      "text/plain": [
       "<IPython.core.display.HTML object>"
      ]
     },
     "metadata": {},
     "output_type": "display_data"
    },
    {
     "data": {
      "text/html": [
       "<style type=\"text/css\">\n",
       "#T_1b13f_row10_col0, #T_1b13f_row10_col1, #T_1b13f_row10_col2, #T_1b13f_row10_col3, #T_1b13f_row10_col4, #T_1b13f_row10_col5, #T_1b13f_row10_col6 {\n",
       "  background: yellow;\n",
       "}\n",
       "</style>\n",
       "<table id=\"T_1b13f\">\n",
       "  <thead>\n",
       "    <tr>\n",
       "      <th class=\"blank level0\" >&nbsp;</th>\n",
       "      <th id=\"T_1b13f_level0_col0\" class=\"col_heading level0 col0\" >Accuracy</th>\n",
       "      <th id=\"T_1b13f_level0_col1\" class=\"col_heading level0 col1\" >AUC</th>\n",
       "      <th id=\"T_1b13f_level0_col2\" class=\"col_heading level0 col2\" >Recall</th>\n",
       "      <th id=\"T_1b13f_level0_col3\" class=\"col_heading level0 col3\" >Prec.</th>\n",
       "      <th id=\"T_1b13f_level0_col4\" class=\"col_heading level0 col4\" >F1</th>\n",
       "      <th id=\"T_1b13f_level0_col5\" class=\"col_heading level0 col5\" >Kappa</th>\n",
       "      <th id=\"T_1b13f_level0_col6\" class=\"col_heading level0 col6\" >MCC</th>\n",
       "    </tr>\n",
       "    <tr>\n",
       "      <th class=\"index_name level0\" >Fold</th>\n",
       "      <th class=\"blank col0\" >&nbsp;</th>\n",
       "      <th class=\"blank col1\" >&nbsp;</th>\n",
       "      <th class=\"blank col2\" >&nbsp;</th>\n",
       "      <th class=\"blank col3\" >&nbsp;</th>\n",
       "      <th class=\"blank col4\" >&nbsp;</th>\n",
       "      <th class=\"blank col5\" >&nbsp;</th>\n",
       "      <th class=\"blank col6\" >&nbsp;</th>\n",
       "    </tr>\n",
       "  </thead>\n",
       "  <tbody>\n",
       "    <tr>\n",
       "      <th id=\"T_1b13f_level0_row0\" class=\"row_heading level0 row0\" >0</th>\n",
       "      <td id=\"T_1b13f_row0_col0\" class=\"data row0 col0\" >0.6549</td>\n",
       "      <td id=\"T_1b13f_row0_col1\" class=\"data row0 col1\" >0.6866</td>\n",
       "      <td id=\"T_1b13f_row0_col2\" class=\"data row0 col2\" >0.8644</td>\n",
       "      <td id=\"T_1b13f_row0_col3\" class=\"data row0 col3\" >0.6488</td>\n",
       "      <td id=\"T_1b13f_row0_col4\" class=\"data row0 col4\" >0.7412</td>\n",
       "      <td id=\"T_1b13f_row0_col5\" class=\"data row0 col5\" >0.2537</td>\n",
       "      <td id=\"T_1b13f_row0_col6\" class=\"data row0 col6\" >0.2783</td>\n",
       "    </tr>\n",
       "    <tr>\n",
       "      <th id=\"T_1b13f_level0_row1\" class=\"row_heading level0 row1\" >1</th>\n",
       "      <td id=\"T_1b13f_row1_col0\" class=\"data row1 col0\" >0.6509</td>\n",
       "      <td id=\"T_1b13f_row1_col1\" class=\"data row1 col1\" >0.6838</td>\n",
       "      <td id=\"T_1b13f_row1_col2\" class=\"data row1 col2\" >0.8585</td>\n",
       "      <td id=\"T_1b13f_row1_col3\" class=\"data row1 col3\" >0.6467</td>\n",
       "      <td id=\"T_1b13f_row1_col4\" class=\"data row1 col4\" >0.7377</td>\n",
       "      <td id=\"T_1b13f_row1_col5\" class=\"data row1 col5\" >0.2458</td>\n",
       "      <td id=\"T_1b13f_row1_col6\" class=\"data row1 col6\" >0.2688</td>\n",
       "    </tr>\n",
       "    <tr>\n",
       "      <th id=\"T_1b13f_level0_row2\" class=\"row_heading level0 row2\" >2</th>\n",
       "      <td id=\"T_1b13f_row2_col0\" class=\"data row2 col0\" >0.6552</td>\n",
       "      <td id=\"T_1b13f_row2_col1\" class=\"data row2 col1\" >0.6878</td>\n",
       "      <td id=\"T_1b13f_row2_col2\" class=\"data row2 col2\" >0.8569</td>\n",
       "      <td id=\"T_1b13f_row2_col3\" class=\"data row2 col3\" >0.6507</td>\n",
       "      <td id=\"T_1b13f_row2_col4\" class=\"data row2 col4\" >0.7397</td>\n",
       "      <td id=\"T_1b13f_row2_col5\" class=\"data row2 col5\" >0.2563</td>\n",
       "      <td id=\"T_1b13f_row2_col6\" class=\"data row2 col6\" >0.2784</td>\n",
       "    </tr>\n",
       "    <tr>\n",
       "      <th id=\"T_1b13f_level0_row3\" class=\"row_heading level0 row3\" >3</th>\n",
       "      <td id=\"T_1b13f_row3_col0\" class=\"data row3 col0\" >0.6524</td>\n",
       "      <td id=\"T_1b13f_row3_col1\" class=\"data row3 col1\" >0.6823</td>\n",
       "      <td id=\"T_1b13f_row3_col2\" class=\"data row3 col2\" >0.8616</td>\n",
       "      <td id=\"T_1b13f_row3_col3\" class=\"data row3 col3\" >0.6472</td>\n",
       "      <td id=\"T_1b13f_row3_col4\" class=\"data row3 col4\" >0.7392</td>\n",
       "      <td id=\"T_1b13f_row3_col5\" class=\"data row3 col5\" >0.2484</td>\n",
       "      <td id=\"T_1b13f_row3_col6\" class=\"data row3 col6\" >0.2723</td>\n",
       "    </tr>\n",
       "    <tr>\n",
       "      <th id=\"T_1b13f_level0_row4\" class=\"row_heading level0 row4\" >4</th>\n",
       "      <td id=\"T_1b13f_row4_col0\" class=\"data row4 col0\" >0.6526</td>\n",
       "      <td id=\"T_1b13f_row4_col1\" class=\"data row4 col1\" >0.6830</td>\n",
       "      <td id=\"T_1b13f_row4_col2\" class=\"data row4 col2\" >0.8637</td>\n",
       "      <td id=\"T_1b13f_row4_col3\" class=\"data row4 col3\" >0.6470</td>\n",
       "      <td id=\"T_1b13f_row4_col4\" class=\"data row4 col4\" >0.7398</td>\n",
       "      <td id=\"T_1b13f_row4_col5\" class=\"data row4 col5\" >0.2484</td>\n",
       "      <td id=\"T_1b13f_row4_col6\" class=\"data row4 col6\" >0.2729</td>\n",
       "    </tr>\n",
       "    <tr>\n",
       "      <th id=\"T_1b13f_level0_row5\" class=\"row_heading level0 row5\" >5</th>\n",
       "      <td id=\"T_1b13f_row5_col0\" class=\"data row5 col0\" >0.6543</td>\n",
       "      <td id=\"T_1b13f_row5_col1\" class=\"data row5 col1\" >0.6853</td>\n",
       "      <td id=\"T_1b13f_row5_col2\" class=\"data row5 col2\" >0.8630</td>\n",
       "      <td id=\"T_1b13f_row5_col3\" class=\"data row5 col3\" >0.6486</td>\n",
       "      <td id=\"T_1b13f_row5_col4\" class=\"data row5 col4\" >0.7406</td>\n",
       "      <td id=\"T_1b13f_row5_col5\" class=\"data row5 col5\" >0.2527</td>\n",
       "      <td id=\"T_1b13f_row5_col6\" class=\"data row5 col6\" >0.2769</td>\n",
       "    </tr>\n",
       "    <tr>\n",
       "      <th id=\"T_1b13f_level0_row6\" class=\"row_heading level0 row6\" >6</th>\n",
       "      <td id=\"T_1b13f_row6_col0\" class=\"data row6 col0\" >0.6513</td>\n",
       "      <td id=\"T_1b13f_row6_col1\" class=\"data row6 col1\" >0.6838</td>\n",
       "      <td id=\"T_1b13f_row6_col2\" class=\"data row6 col2\" >0.8613</td>\n",
       "      <td id=\"T_1b13f_row6_col3\" class=\"data row6 col3\" >0.6464</td>\n",
       "      <td id=\"T_1b13f_row6_col4\" class=\"data row6 col4\" >0.7386</td>\n",
       "      <td id=\"T_1b13f_row6_col5\" class=\"data row6 col5\" >0.2460</td>\n",
       "      <td id=\"T_1b13f_row6_col6\" class=\"data row6 col6\" >0.2699</td>\n",
       "    </tr>\n",
       "    <tr>\n",
       "      <th id=\"T_1b13f_level0_row7\" class=\"row_heading level0 row7\" >7</th>\n",
       "      <td id=\"T_1b13f_row7_col0\" class=\"data row7 col0\" >0.6493</td>\n",
       "      <td id=\"T_1b13f_row7_col1\" class=\"data row7 col1\" >0.6822</td>\n",
       "      <td id=\"T_1b13f_row7_col2\" class=\"data row7 col2\" >0.8520</td>\n",
       "      <td id=\"T_1b13f_row7_col3\" class=\"data row7 col3\" >0.6468</td>\n",
       "      <td id=\"T_1b13f_row7_col4\" class=\"data row7 col4\" >0.7353</td>\n",
       "      <td id=\"T_1b13f_row7_col5\" class=\"data row7 col5\" >0.2437</td>\n",
       "      <td id=\"T_1b13f_row7_col6\" class=\"data row7 col6\" >0.2648</td>\n",
       "    </tr>\n",
       "    <tr>\n",
       "      <th id=\"T_1b13f_level0_row8\" class=\"row_heading level0 row8\" >8</th>\n",
       "      <td id=\"T_1b13f_row8_col0\" class=\"data row8 col0\" >0.6523</td>\n",
       "      <td id=\"T_1b13f_row8_col1\" class=\"data row8 col1\" >0.6901</td>\n",
       "      <td id=\"T_1b13f_row8_col2\" class=\"data row8 col2\" >0.8633</td>\n",
       "      <td id=\"T_1b13f_row8_col3\" class=\"data row8 col3\" >0.6468</td>\n",
       "      <td id=\"T_1b13f_row8_col4\" class=\"data row8 col4\" >0.7395</td>\n",
       "      <td id=\"T_1b13f_row8_col5\" class=\"data row8 col5\" >0.2478</td>\n",
       "      <td id=\"T_1b13f_row8_col6\" class=\"data row8 col6\" >0.2722</td>\n",
       "    </tr>\n",
       "    <tr>\n",
       "      <th id=\"T_1b13f_level0_row9\" class=\"row_heading level0 row9\" >9</th>\n",
       "      <td id=\"T_1b13f_row9_col0\" class=\"data row9 col0\" >0.6534</td>\n",
       "      <td id=\"T_1b13f_row9_col1\" class=\"data row9 col1\" >0.6846</td>\n",
       "      <td id=\"T_1b13f_row9_col2\" class=\"data row9 col2\" >0.8627</td>\n",
       "      <td id=\"T_1b13f_row9_col3\" class=\"data row9 col3\" >0.6479</td>\n",
       "      <td id=\"T_1b13f_row9_col4\" class=\"data row9 col4\" >0.7400</td>\n",
       "      <td id=\"T_1b13f_row9_col5\" class=\"data row9 col5\" >0.2507</td>\n",
       "      <td id=\"T_1b13f_row9_col6\" class=\"data row9 col6\" >0.2748</td>\n",
       "    </tr>\n",
       "    <tr>\n",
       "      <th id=\"T_1b13f_level0_row10\" class=\"row_heading level0 row10\" >Mean</th>\n",
       "      <td id=\"T_1b13f_row10_col0\" class=\"data row10 col0\" >0.6527</td>\n",
       "      <td id=\"T_1b13f_row10_col1\" class=\"data row10 col1\" >0.6850</td>\n",
       "      <td id=\"T_1b13f_row10_col2\" class=\"data row10 col2\" >0.8607</td>\n",
       "      <td id=\"T_1b13f_row10_col3\" class=\"data row10 col3\" >0.6477</td>\n",
       "      <td id=\"T_1b13f_row10_col4\" class=\"data row10 col4\" >0.7392</td>\n",
       "      <td id=\"T_1b13f_row10_col5\" class=\"data row10 col5\" >0.2494</td>\n",
       "      <td id=\"T_1b13f_row10_col6\" class=\"data row10 col6\" >0.2729</td>\n",
       "    </tr>\n",
       "    <tr>\n",
       "      <th id=\"T_1b13f_level0_row11\" class=\"row_heading level0 row11\" >Std</th>\n",
       "      <td id=\"T_1b13f_row11_col0\" class=\"data row11 col0\" >0.0018</td>\n",
       "      <td id=\"T_1b13f_row11_col1\" class=\"data row11 col1\" >0.0024</td>\n",
       "      <td id=\"T_1b13f_row11_col2\" class=\"data row11 col2\" >0.0037</td>\n",
       "      <td id=\"T_1b13f_row11_col3\" class=\"data row11 col3\" >0.0013</td>\n",
       "      <td id=\"T_1b13f_row11_col4\" class=\"data row11 col4\" >0.0016</td>\n",
       "      <td id=\"T_1b13f_row11_col5\" class=\"data row11 col5\" >0.0038</td>\n",
       "      <td id=\"T_1b13f_row11_col6\" class=\"data row11 col6\" >0.0042</td>\n",
       "    </tr>\n",
       "  </tbody>\n",
       "</table>\n"
      ],
      "text/plain": [
       "<pandas.io.formats.style.Styler at 0x7f1fc523fbe0>"
      ]
     },
     "metadata": {},
     "output_type": "display_data"
    },
    {
     "data": {
      "text/html": [],
      "text/plain": [
       "<IPython.core.display.HTML object>"
      ]
     },
     "metadata": {},
     "output_type": "display_data"
    },
    {
     "data": {
      "text/html": [],
      "text/plain": [
       "<IPython.core.display.HTML object>"
      ]
     },
     "metadata": {},
     "output_type": "display_data"
    },
    {
     "data": {
      "image/png": "[encoded data removed]",
      "text/plain": [
       "<Figure size 480x330 with 1 Axes>"
      ]
     },
     "metadata": {},
     "output_type": "display_data"
    },
    {
     "data": {
      "text/html": [],
      "text/plain": [
       "<IPython.core.display.HTML object>"
      ]
     },
     "metadata": {},
     "output_type": "display_data"
    },
    {
     "data": {
      "text/html": [
       "<style type=\"text/css\">\n",
       "#T_bd559_row10_col0, #T_bd559_row10_col1, #T_bd559_row10_col2, #T_bd559_row10_col3, #T_bd559_row10_col4, #T_bd559_row10_col5, #T_bd559_row10_col6 {\n",
       "  background: yellow;\n",
       "}\n",
       "</style>\n",
       "<table id=\"T_bd559\">\n",
       "  <thead>\n",
       "    <tr>\n",
       "      <th class=\"blank level0\" >&nbsp;</th>\n",
       "      <th id=\"T_bd559_level0_col0\" class=\"col_heading level0 col0\" >Accuracy</th>\n",
       "      <th id=\"T_bd559_level0_col1\" class=\"col_heading level0 col1\" >AUC</th>\n",
       "      <th id=\"T_bd559_level0_col2\" class=\"col_heading level0 col2\" >Recall</th>\n",
       "      <th id=\"T_bd559_level0_col3\" class=\"col_heading level0 col3\" >Prec.</th>\n",
       "      <th id=\"T_bd559_level0_col4\" class=\"col_heading level0 col4\" >F1</th>\n",
       "      <th id=\"T_bd559_level0_col5\" class=\"col_heading level0 col5\" >Kappa</th>\n",
       "      <th id=\"T_bd559_level0_col6\" class=\"col_heading level0 col6\" >MCC</th>\n",
       "    </tr>\n",
       "    <tr>\n",
       "      <th class=\"index_name level0\" >Fold</th>\n",
       "      <th class=\"blank col0\" >&nbsp;</th>\n",
       "      <th class=\"blank col1\" >&nbsp;</th>\n",
       "      <th class=\"blank col2\" >&nbsp;</th>\n",
       "      <th class=\"blank col3\" >&nbsp;</th>\n",
       "      <th class=\"blank col4\" >&nbsp;</th>\n",
       "      <th class=\"blank col5\" >&nbsp;</th>\n",
       "      <th class=\"blank col6\" >&nbsp;</th>\n",
       "    </tr>\n",
       "  </thead>\n",
       "  <tbody>\n",
       "    <tr>\n",
       "      <th id=\"T_bd559_level0_row0\" class=\"row_heading level0 row0\" >0</th>\n",
       "      <td id=\"T_bd559_row0_col0\" class=\"data row0 col0\" >0.6435</td>\n",
       "      <td id=\"T_bd559_row0_col1\" class=\"data row0 col1\" >0.6679</td>\n",
       "      <td id=\"T_bd559_row0_col2\" class=\"data row0 col2\" >0.8250</td>\n",
       "      <td id=\"T_bd559_row0_col3\" class=\"data row0 col3\" >0.6478</td>\n",
       "      <td id=\"T_bd559_row0_col4\" class=\"data row0 col4\" >0.7257</td>\n",
       "      <td id=\"T_bd559_row0_col5\" class=\"data row0 col5\" >0.2370</td>\n",
       "      <td id=\"T_bd559_row0_col6\" class=\"data row0 col6\" >0.2515</td>\n",
       "    </tr>\n",
       "    <tr>\n",
       "      <th id=\"T_bd559_level0_row1\" class=\"row_heading level0 row1\" >1</th>\n",
       "      <td id=\"T_bd559_row1_col0\" class=\"data row1 col0\" >0.6418</td>\n",
       "      <td id=\"T_bd559_row1_col1\" class=\"data row1 col1\" >0.6671</td>\n",
       "      <td id=\"T_bd559_row1_col2\" class=\"data row1 col2\" >0.8204</td>\n",
       "      <td id=\"T_bd559_row1_col3\" class=\"data row1 col3\" >0.6474</td>\n",
       "      <td id=\"T_bd559_row1_col4\" class=\"data row1 col4\" >0.7237</td>\n",
       "      <td id=\"T_bd559_row1_col5\" class=\"data row1 col5\" >0.2343</td>\n",
       "      <td id=\"T_bd559_row1_col6\" class=\"data row1 col6\" >0.2479</td>\n",
       "    </tr>\n",
       "    <tr>\n",
       "      <th id=\"T_bd559_level0_row2\" class=\"row_heading level0 row2\" >2</th>\n",
       "      <td id=\"T_bd559_row2_col0\" class=\"data row2 col0\" >0.6456</td>\n",
       "      <td id=\"T_bd559_row2_col1\" class=\"data row2 col1\" >0.6712</td>\n",
       "      <td id=\"T_bd559_row2_col2\" class=\"data row2 col2\" >0.8212</td>\n",
       "      <td id=\"T_bd559_row2_col3\" class=\"data row2 col3\" >0.6506</td>\n",
       "      <td id=\"T_bd559_row2_col4\" class=\"data row2 col4\" >0.7260</td>\n",
       "      <td id=\"T_bd559_row2_col5\" class=\"data row2 col5\" >0.2431</td>\n",
       "      <td id=\"T_bd559_row2_col6\" class=\"data row2 col6\" >0.2566</td>\n",
       "    </tr>\n",
       "    <tr>\n",
       "      <th id=\"T_bd559_level0_row3\" class=\"row_heading level0 row3\" >3</th>\n",
       "      <td id=\"T_bd559_row3_col0\" class=\"data row3 col0\" >0.6416</td>\n",
       "      <td id=\"T_bd559_row3_col1\" class=\"data row3 col1\" >0.6686</td>\n",
       "      <td id=\"T_bd559_row3_col2\" class=\"data row3 col2\" >0.8221</td>\n",
       "      <td id=\"T_bd559_row3_col3\" class=\"data row3 col3\" >0.6468</td>\n",
       "      <td id=\"T_bd559_row3_col4\" class=\"data row3 col4\" >0.7240</td>\n",
       "      <td id=\"T_bd559_row3_col5\" class=\"data row3 col5\" >0.2332</td>\n",
       "      <td id=\"T_bd559_row3_col6\" class=\"data row3 col6\" >0.2472</td>\n",
       "    </tr>\n",
       "    <tr>\n",
       "      <th id=\"T_bd559_level0_row4\" class=\"row_heading level0 row4\" >4</th>\n",
       "      <td id=\"T_bd559_row4_col0\" class=\"data row4 col0\" >0.6444</td>\n",
       "      <td id=\"T_bd559_row4_col1\" class=\"data row4 col1\" >0.6679</td>\n",
       "      <td id=\"T_bd559_row4_col2\" class=\"data row4 col2\" >0.8265</td>\n",
       "      <td id=\"T_bd559_row4_col3\" class=\"data row4 col3\" >0.6483</td>\n",
       "      <td id=\"T_bd559_row4_col4\" class=\"data row4 col4\" >0.7266</td>\n",
       "      <td id=\"T_bd559_row4_col5\" class=\"data row4 col5\" >0.2388</td>\n",
       "      <td id=\"T_bd559_row4_col6\" class=\"data row4 col6\" >0.2536</td>\n",
       "    </tr>\n",
       "    <tr>\n",
       "      <th id=\"T_bd559_level0_row5\" class=\"row_heading level0 row5\" >5</th>\n",
       "      <td id=\"T_bd559_row5_col0\" class=\"data row5 col0\" >0.6455</td>\n",
       "      <td id=\"T_bd559_row5_col1\" class=\"data row5 col1\" >0.6660</td>\n",
       "      <td id=\"T_bd559_row5_col2\" class=\"data row5 col2\" >0.8282</td>\n",
       "      <td id=\"T_bd559_row5_col3\" class=\"data row5 col3\" >0.6489</td>\n",
       "      <td id=\"T_bd559_row5_col4\" class=\"data row5 col4\" >0.7277</td>\n",
       "      <td id=\"T_bd559_row5_col5\" class=\"data row5 col5\" >0.2410</td>\n",
       "      <td id=\"T_bd559_row5_col6\" class=\"data row5 col6\" >0.2561</td>\n",
       "    </tr>\n",
       "    <tr>\n",
       "      <th id=\"T_bd559_level0_row6\" class=\"row_heading level0 row6\" >6</th>\n",
       "      <td id=\"T_bd559_row6_col0\" class=\"data row6 col0\" >0.6390</td>\n",
       "      <td id=\"T_bd559_row6_col1\" class=\"data row6 col1\" >0.6651</td>\n",
       "      <td id=\"T_bd559_row6_col2\" class=\"data row6 col2\" >0.8248</td>\n",
       "      <td id=\"T_bd559_row6_col3\" class=\"data row6 col3\" >0.6439</td>\n",
       "      <td id=\"T_bd559_row6_col4\" class=\"data row6 col4\" >0.7232</td>\n",
       "      <td id=\"T_bd559_row6_col5\" class=\"data row6 col5\" >0.2264</td>\n",
       "      <td id=\"T_bd559_row6_col6\" class=\"data row6 col6\" >0.2411</td>\n",
       "    </tr>\n",
       "    <tr>\n",
       "      <th id=\"T_bd559_level0_row7\" class=\"row_heading level0 row7\" >7</th>\n",
       "      <td id=\"T_bd559_row7_col0\" class=\"data row7 col0\" >0.6436</td>\n",
       "      <td id=\"T_bd559_row7_col1\" class=\"data row7 col1\" >0.6691</td>\n",
       "      <td id=\"T_bd559_row7_col2\" class=\"data row7 col2\" >0.8209</td>\n",
       "      <td id=\"T_bd559_row7_col3\" class=\"data row7 col3\" >0.6489</td>\n",
       "      <td id=\"T_bd559_row7_col4\" class=\"data row7 col4\" >0.7248</td>\n",
       "      <td id=\"T_bd559_row7_col5\" class=\"data row7 col5\" >0.2384</td>\n",
       "      <td id=\"T_bd559_row7_col6\" class=\"data row7 col6\" >0.2520</td>\n",
       "    </tr>\n",
       "    <tr>\n",
       "      <th id=\"T_bd559_level0_row8\" class=\"row_heading level0 row8\" >8</th>\n",
       "      <td id=\"T_bd559_row8_col0\" class=\"data row8 col0\" >0.6425</td>\n",
       "      <td id=\"T_bd559_row8_col1\" class=\"data row8 col1\" >0.6718</td>\n",
       "      <td id=\"T_bd559_row8_col2\" class=\"data row8 col2\" >0.8263</td>\n",
       "      <td id=\"T_bd559_row8_col3\" class=\"data row8 col3\" >0.6466</td>\n",
       "      <td id=\"T_bd559_row8_col4\" class=\"data row8 col4\" >0.7255</td>\n",
       "      <td id=\"T_bd559_row8_col5\" class=\"data row8 col5\" >0.2342</td>\n",
       "      <td id=\"T_bd559_row8_col6\" class=\"data row8 col6\" >0.2491</td>\n",
       "    </tr>\n",
       "    <tr>\n",
       "      <th id=\"T_bd559_level0_row9\" class=\"row_heading level0 row9\" >9</th>\n",
       "      <td id=\"T_bd559_row9_col0\" class=\"data row9 col0\" >0.6410</td>\n",
       "      <td id=\"T_bd559_row9_col1\" class=\"data row9 col1\" >0.6691</td>\n",
       "      <td id=\"T_bd559_row9_col2\" class=\"data row9 col2\" >0.8219</td>\n",
       "      <td id=\"T_bd559_row9_col3\" class=\"data row9 col3\" >0.6463</td>\n",
       "      <td id=\"T_bd559_row9_col4\" class=\"data row9 col4\" >0.7236</td>\n",
       "      <td id=\"T_bd559_row9_col5\" class=\"data row9 col5\" >0.2318</td>\n",
       "      <td id=\"T_bd559_row9_col6\" class=\"data row9 col6\" >0.2458</td>\n",
       "    </tr>\n",
       "    <tr>\n",
       "      <th id=\"T_bd559_level0_row10\" class=\"row_heading level0 row10\" >Mean</th>\n",
       "      <td id=\"T_bd559_row10_col0\" class=\"data row10 col0\" >0.6428</td>\n",
       "      <td id=\"T_bd559_row10_col1\" class=\"data row10 col1\" >0.6684</td>\n",
       "      <td id=\"T_bd559_row10_col2\" class=\"data row10 col2\" >0.8237</td>\n",
       "      <td id=\"T_bd559_row10_col3\" class=\"data row10 col3\" >0.6475</td>\n",
       "      <td id=\"T_bd559_row10_col4\" class=\"data row10 col4\" >0.7251</td>\n",
       "      <td id=\"T_bd559_row10_col5\" class=\"data row10 col5\" >0.2358</td>\n",
       "      <td id=\"T_bd559_row10_col6\" class=\"data row10 col6\" >0.2501</td>\n",
       "    </tr>\n",
       "    <tr>\n",
       "      <th id=\"T_bd559_level0_row11\" class=\"row_heading level0 row11\" >Std</th>\n",
       "      <td id=\"T_bd559_row11_col0\" class=\"data row11 col0\" >0.0020</td>\n",
       "      <td id=\"T_bd559_row11_col1\" class=\"data row11 col1\" >0.0020</td>\n",
       "      <td id=\"T_bd559_row11_col2\" class=\"data row11 col2\" >0.0026</td>\n",
       "      <td id=\"T_bd559_row11_col3\" class=\"data row11 col3\" >0.0017</td>\n",
       "      <td id=\"T_bd559_row11_col4\" class=\"data row11 col4\" >0.0014</td>\n",
       "      <td id=\"T_bd559_row11_col5\" class=\"data row11 col5\" >0.0046</td>\n",
       "      <td id=\"T_bd559_row11_col6\" class=\"data row11 col6\" >0.0046</td>\n",
       "    </tr>\n",
       "  </tbody>\n",
       "</table>\n"
      ],
      "text/plain": [
       "<pandas.io.formats.style.Styler at 0x7f1fc523c790>"
      ]
     },
     "metadata": {},
     "output_type": "display_data"
    },
    {
     "data": {
      "text/html": [],
      "text/plain": [
       "<IPython.core.display.HTML object>"
      ]
     },
     "metadata": {},
     "output_type": "display_data"
    },
    {
     "data": {
      "text/html": [],
      "text/plain": [
       "<IPython.core.display.HTML object>"
      ]
     },
     "metadata": {},
     "output_type": "display_data"
    },
    {
     "data": {
      "image/png": "[encoded data removed]",
      "text/plain": [
       "<Figure size 480x330 with 1 Axes>"
      ]
     },
     "metadata": {},
     "output_type": "display_data"
    }
   ],
   "source": [
    "regression_model_ada, regression_model_lightgbm, regression_model_gbc, regression_model_rf = model.common.create_models(train_data, target_column)"
   ]
  },
  {
   "cell_type": "markdown",
   "metadata": {
    "execution": {
     "iopub.execute_input": "2023-06-08T23:08:22.530994Z",
     "iopub.status.busy": "2023-06-08T23:08:22.529719Z",
     "iopub.status.idle": "2023-06-08T23:08:22.542651Z",
     "shell.execute_reply": "2023-06-08T23:08:22.540043Z",
     "shell.execute_reply.started": "2023-06-08T23:08:22.530922Z"
    }
   },
   "source": [
    "**evaluate model**"
   ]
  },
  {
   "cell_type": "markdown",
   "metadata": {},
   "source": [
    "`lightgbm` shows very good AUC of `0.97`, `rf` as well with `1.0` train AUC.\n",
    "\n",
    "`rf` seemed like too overfit with 1.0 train AUC but its test precision as well is the best among others.\n",
    "\n",
    "`ada` shows very low recall thus inpractical.\n"
   ]
  },
  {
   "cell_type": "code",
   "execution_count": 8,
   "metadata": {
    "execution": {
     "iopub.execute_input": "2023-07-03T23:19:39.981156Z",
     "iopub.status.busy": "2023-07-03T23:19:39.980298Z",
     "iopub.status.idle": "2023-07-03T23:20:10.956464Z",
     "shell.execute_reply": "2023-07-03T23:20:10.954399Z",
     "shell.execute_reply.started": "2023-07-03T23:19:39.981099Z"
    }
   },
   "outputs": [
    {
     "data": {
      "text/html": [
       "<style type=\"text/css\">\n",
       "</style>\n",
       "<table id=\"T_b0788\">\n",
       "  <thead>\n",
       "    <tr>\n",
       "      <th class=\"blank level0\" >&nbsp;</th>\n",
       "      <th id=\"T_b0788_level0_col0\" class=\"col_heading level0 col0\" >Model</th>\n",
       "      <th id=\"T_b0788_level0_col1\" class=\"col_heading level0 col1\" >Accuracy</th>\n",
       "      <th id=\"T_b0788_level0_col2\" class=\"col_heading level0 col2\" >AUC</th>\n",
       "      <th id=\"T_b0788_level0_col3\" class=\"col_heading level0 col3\" >Recall</th>\n",
       "      <th id=\"T_b0788_level0_col4\" class=\"col_heading level0 col4\" >Prec.</th>\n",
       "      <th id=\"T_b0788_level0_col5\" class=\"col_heading level0 col5\" >F1</th>\n",
       "      <th id=\"T_b0788_level0_col6\" class=\"col_heading level0 col6\" >Kappa</th>\n",
       "      <th id=\"T_b0788_level0_col7\" class=\"col_heading level0 col7\" >MCC</th>\n",
       "    </tr>\n",
       "  </thead>\n",
       "  <tbody>\n",
       "    <tr>\n",
       "      <th id=\"T_b0788_level0_row0\" class=\"row_heading level0 row0\" >0</th>\n",
       "      <td id=\"T_b0788_row0_col0\" class=\"data row0 col0\" >Ada Boost Classifier</td>\n",
       "      <td id=\"T_b0788_row0_col1\" class=\"data row0 col1\" >0.6511</td>\n",
       "      <td id=\"T_b0788_row0_col2\" class=\"data row0 col2\" >0.6838</td>\n",
       "      <td id=\"T_b0788_row0_col3\" class=\"data row0 col3\" >0.8538</td>\n",
       "      <td id=\"T_b0788_row0_col4\" class=\"data row0 col4\" >0.6479</td>\n",
       "      <td id=\"T_b0788_row0_col5\" class=\"data row0 col5\" >0.7367</td>\n",
       "      <td id=\"T_b0788_row0_col6\" class=\"data row0 col6\" >0.2474</td>\n",
       "      <td id=\"T_b0788_row0_col7\" class=\"data row0 col7\" >0.2689</td>\n",
       "    </tr>\n",
       "  </tbody>\n",
       "</table>\n"
      ],
      "text/plain": [
       "<pandas.io.formats.style.Styler at 0x7f1fc43b3130>"
      ]
     },
     "metadata": {},
     "output_type": "display_data"
    },
    {
     "data": {
      "text/html": [
       "<style type=\"text/css\">\n",
       "</style>\n",
       "<table id=\"T_7e2de\">\n",
       "  <thead>\n",
       "    <tr>\n",
       "      <th class=\"blank level0\" >&nbsp;</th>\n",
       "      <th id=\"T_7e2de_level0_col0\" class=\"col_heading level0 col0\" >Model</th>\n",
       "      <th id=\"T_7e2de_level0_col1\" class=\"col_heading level0 col1\" >Accuracy</th>\n",
       "      <th id=\"T_7e2de_level0_col2\" class=\"col_heading level0 col2\" >AUC</th>\n",
       "      <th id=\"T_7e2de_level0_col3\" class=\"col_heading level0 col3\" >Recall</th>\n",
       "      <th id=\"T_7e2de_level0_col4\" class=\"col_heading level0 col4\" >Prec.</th>\n",
       "      <th id=\"T_7e2de_level0_col5\" class=\"col_heading level0 col5\" >F1</th>\n",
       "      <th id=\"T_7e2de_level0_col6\" class=\"col_heading level0 col6\" >Kappa</th>\n",
       "      <th id=\"T_7e2de_level0_col7\" class=\"col_heading level0 col7\" >MCC</th>\n",
       "    </tr>\n",
       "  </thead>\n",
       "  <tbody>\n",
       "    <tr>\n",
       "      <th id=\"T_7e2de_level0_row0\" class=\"row_heading level0 row0\" >0</th>\n",
       "      <td id=\"T_7e2de_row0_col0\" class=\"data row0 col0\" >Gradient Boosting Classifier</td>\n",
       "      <td id=\"T_7e2de_row0_col1\" class=\"data row0 col1\" >0.6537</td>\n",
       "      <td id=\"T_7e2de_row0_col2\" class=\"data row0 col2\" >0.6890</td>\n",
       "      <td id=\"T_7e2de_row0_col3\" class=\"data row0 col3\" >0.8620</td>\n",
       "      <td id=\"T_7e2de_row0_col4\" class=\"data row0 col4\" >0.6483</td>\n",
       "      <td id=\"T_7e2de_row0_col5\" class=\"data row0 col5\" >0.7401</td>\n",
       "      <td id=\"T_7e2de_row0_col6\" class=\"data row0 col6\" >0.2516</td>\n",
       "      <td id=\"T_7e2de_row0_col7\" class=\"data row0 col7\" >0.2755</td>\n",
       "    </tr>\n",
       "  </tbody>\n",
       "</table>\n"
      ],
      "text/plain": [
       "<pandas.io.formats.style.Styler at 0x7f1fc528a440>"
      ]
     },
     "metadata": {},
     "output_type": "display_data"
    },
    {
     "data": {
      "text/html": [
       "<style type=\"text/css\">\n",
       "</style>\n",
       "<table id=\"T_dde82\">\n",
       "  <thead>\n",
       "    <tr>\n",
       "      <th class=\"blank level0\" >&nbsp;</th>\n",
       "      <th id=\"T_dde82_level0_col0\" class=\"col_heading level0 col0\" >Model</th>\n",
       "      <th id=\"T_dde82_level0_col1\" class=\"col_heading level0 col1\" >Accuracy</th>\n",
       "      <th id=\"T_dde82_level0_col2\" class=\"col_heading level0 col2\" >AUC</th>\n",
       "      <th id=\"T_dde82_level0_col3\" class=\"col_heading level0 col3\" >Recall</th>\n",
       "      <th id=\"T_dde82_level0_col4\" class=\"col_heading level0 col4\" >Prec.</th>\n",
       "      <th id=\"T_dde82_level0_col5\" class=\"col_heading level0 col5\" >F1</th>\n",
       "      <th id=\"T_dde82_level0_col6\" class=\"col_heading level0 col6\" >Kappa</th>\n",
       "      <th id=\"T_dde82_level0_col7\" class=\"col_heading level0 col7\" >MCC</th>\n",
       "    </tr>\n",
       "  </thead>\n",
       "  <tbody>\n",
       "    <tr>\n",
       "      <th id=\"T_dde82_level0_row0\" class=\"row_heading level0 row0\" >0</th>\n",
       "      <td id=\"T_dde82_row0_col0\" class=\"data row0 col0\" >Light Gradient Boosting Machine</td>\n",
       "      <td id=\"T_dde82_row0_col1\" class=\"data row0 col1\" >0.6603</td>\n",
       "      <td id=\"T_dde82_row0_col2\" class=\"data row0 col2\" >0.6998</td>\n",
       "      <td id=\"T_dde82_row0_col3\" class=\"data row0 col3\" >0.8637</td>\n",
       "      <td id=\"T_dde82_row0_col4\" class=\"data row0 col4\" >0.6535</td>\n",
       "      <td id=\"T_dde82_row0_col5\" class=\"data row0 col5\" >0.7441</td>\n",
       "      <td id=\"T_dde82_row0_col6\" class=\"data row0 col6\" >0.2667</td>\n",
       "      <td id=\"T_dde82_row0_col7\" class=\"data row0 col7\" >0.2906</td>\n",
       "    </tr>\n",
       "  </tbody>\n",
       "</table>\n"
      ],
      "text/plain": [
       "<pandas.io.formats.style.Styler at 0x7f1fc4a67970>"
      ]
     },
     "metadata": {},
     "output_type": "display_data"
    },
    {
     "data": {
      "text/html": [
       "<style type=\"text/css\">\n",
       "</style>\n",
       "<table id=\"T_21021\">\n",
       "  <thead>\n",
       "    <tr>\n",
       "      <th class=\"blank level0\" >&nbsp;</th>\n",
       "      <th id=\"T_21021_level0_col0\" class=\"col_heading level0 col0\" >Model</th>\n",
       "      <th id=\"T_21021_level0_col1\" class=\"col_heading level0 col1\" >Accuracy</th>\n",
       "      <th id=\"T_21021_level0_col2\" class=\"col_heading level0 col2\" >AUC</th>\n",
       "      <th id=\"T_21021_level0_col3\" class=\"col_heading level0 col3\" >Recall</th>\n",
       "      <th id=\"T_21021_level0_col4\" class=\"col_heading level0 col4\" >Prec.</th>\n",
       "      <th id=\"T_21021_level0_col5\" class=\"col_heading level0 col5\" >F1</th>\n",
       "      <th id=\"T_21021_level0_col6\" class=\"col_heading level0 col6\" >Kappa</th>\n",
       "      <th id=\"T_21021_level0_col7\" class=\"col_heading level0 col7\" >MCC</th>\n",
       "    </tr>\n",
       "  </thead>\n",
       "  <tbody>\n",
       "    <tr>\n",
       "      <th id=\"T_21021_level0_row0\" class=\"row_heading level0 row0\" >0</th>\n",
       "      <td id=\"T_21021_row0_col0\" class=\"data row0 col0\" >Random Forest Classifier</td>\n",
       "      <td id=\"T_21021_row0_col1\" class=\"data row0 col1\" >0.8928</td>\n",
       "      <td id=\"T_21021_row0_col2\" class=\"data row0 col2\" >0.9663</td>\n",
       "      <td id=\"T_21021_row0_col3\" class=\"data row0 col3\" >0.9460</td>\n",
       "      <td id=\"T_21021_row0_col4\" class=\"data row0 col4\" >0.8763</td>\n",
       "      <td id=\"T_21021_row0_col5\" class=\"data row0 col5\" >0.9098</td>\n",
       "      <td id=\"T_21021_row0_col6\" class=\"data row0 col6\" >0.7781</td>\n",
       "      <td id=\"T_21021_row0_col7\" class=\"data row0 col7\" >0.7816</td>\n",
       "    </tr>\n",
       "  </tbody>\n",
       "</table>\n"
      ],
      "text/plain": [
       "<pandas.io.formats.style.Styler at 0x7f1fc47be7d0>"
      ]
     },
     "metadata": {},
     "output_type": "display_data"
    }
   ],
   "source": [
    "train_prediction_ada, train_prediction_gbc, train_prediction_lightgbm, train_prediction_rf = model.common.batch_predict_and_odds(train_data, [regression_model_ada, regression_model_gbc, regression_model_lightgbm, regression_model_rf])"
   ]
  },
  {
   "cell_type": "code",
   "execution_count": 9,
   "metadata": {
    "execution": {
     "iopub.execute_input": "2023-07-03T23:20:10.959480Z",
     "iopub.status.busy": "2023-07-03T23:20:10.958824Z",
     "iopub.status.idle": "2023-07-03T23:20:11.568200Z",
     "shell.execute_reply": "2023-07-03T23:20:11.566219Z",
     "shell.execute_reply.started": "2023-07-03T23:20:10.959431Z"
    }
   },
   "outputs": [
    {
     "data": {
      "text/html": [
       "<table>\n",
       "<tbody>\n",
       "<tr><td>model   </td><td>0.6        </td><td>0.7        </td><td>0.75       </td><td>0.8        </td></tr>\n",
       "<tr><td>ada     </td><td>(0, nan)   </td><td>(0, nan)   </td><td>(0, nan)   </td><td>(0, nan)   </td></tr>\n",
       "<tr><td>gbc     </td><td>(560, 0.77)</td><td>(332, 0.82)</td><td>(226, 0.88)</td><td>(122, 0.95)</td></tr>\n",
       "<tr><td>lightgbm</td><td>(549, 0.8) </td><td>(331, 0.86)</td><td>(236, 0.89)</td><td>(132, 0.95)</td></tr>\n",
       "<tr><td>rf      </td><td>(635, 0.94)</td><td>(543, 0.97)</td><td>(487, 0.98)</td><td>(418, 1.0) </td></tr>\n",
       "</tbody>\n",
       "</table>"
      ],
      "text/plain": [
       "'<table>\\n<tbody>\\n<tr><td>model   </td><td>0.6        </td><td>0.7        </td><td>0.75       </td><td>0.8        </td></tr>\\n<tr><td>ada     </td><td>(0, nan)   </td><td>(0, nan)   </td><td>(0, nan)   </td><td>(0, nan)   </td></tr>\\n<tr><td>gbc     </td><td>(560, 0.77)</td><td>(332, 0.82)</td><td>(226, 0.88)</td><td>(122, 0.95)</td></tr>\\n<tr><td>lightgbm</td><td>(549, 0.8) </td><td>(331, 0.86)</td><td>(236, 0.89)</td><td>(132, 0.95)</td></tr>\\n<tr><td>rf      </td><td>(635, 0.94)</td><td>(543, 0.97)</td><td>(487, 0.98)</td><td>(418, 1.0) </td></tr>\\n</tbody>\\n</table>'"
      ]
     },
     "execution_count": 9,
     "metadata": {},
     "output_type": "execute_result"
    }
   ],
   "source": [
    "model.common.evaluate_predictions([(train_prediction_ada, \"ada\"), (train_prediction_gbc, \"gbc\"), (train_prediction_lightgbm, \"lightgbm\"), (train_prediction_rf, \"rf\")], [0.6, 0.7, 0.75, 0.8], target_column)"
   ]
  },
  {
   "cell_type": "markdown",
   "metadata": {
    "execution": {
     "iopub.execute_input": "2023-06-07T00:40:23.948013Z",
     "iopub.status.busy": "2023-06-07T00:40:23.947407Z",
     "iopub.status.idle": "2023-06-07T00:40:23.953130Z",
     "shell.execute_reply": "2023-06-07T00:40:23.952520Z",
     "shell.execute_reply.started": "2023-06-07T00:40:23.947955Z"
    }
   },
   "source": [
    "**test prediction**"
   ]
  },
  {
   "cell_type": "code",
   "execution_count": 10,
   "metadata": {
    "execution": {
     "iopub.execute_input": "2023-07-03T23:20:11.571932Z",
     "iopub.status.busy": "2023-07-03T23:20:11.571168Z",
     "iopub.status.idle": "2023-07-03T23:20:14.851434Z",
     "shell.execute_reply": "2023-07-03T23:20:14.849399Z",
     "shell.execute_reply.started": "2023-07-03T23:20:11.571876Z"
    }
   },
   "outputs": [
    {
     "data": {
      "text/html": [
       "<style type=\"text/css\">\n",
       "</style>\n",
       "<table id=\"T_51fc9\">\n",
       "  <thead>\n",
       "    <tr>\n",
       "      <th class=\"blank level0\" >&nbsp;</th>\n",
       "      <th id=\"T_51fc9_level0_col0\" class=\"col_heading level0 col0\" >Model</th>\n",
       "      <th id=\"T_51fc9_level0_col1\" class=\"col_heading level0 col1\" >Accuracy</th>\n",
       "      <th id=\"T_51fc9_level0_col2\" class=\"col_heading level0 col2\" >AUC</th>\n",
       "      <th id=\"T_51fc9_level0_col3\" class=\"col_heading level0 col3\" >Recall</th>\n",
       "      <th id=\"T_51fc9_level0_col4\" class=\"col_heading level0 col4\" >Prec.</th>\n",
       "      <th id=\"T_51fc9_level0_col5\" class=\"col_heading level0 col5\" >F1</th>\n",
       "      <th id=\"T_51fc9_level0_col6\" class=\"col_heading level0 col6\" >Kappa</th>\n",
       "      <th id=\"T_51fc9_level0_col7\" class=\"col_heading level0 col7\" >MCC</th>\n",
       "    </tr>\n",
       "  </thead>\n",
       "  <tbody>\n",
       "    <tr>\n",
       "      <th id=\"T_51fc9_level0_row0\" class=\"row_heading level0 row0\" >0</th>\n",
       "      <td id=\"T_51fc9_row0_col0\" class=\"data row0 col0\" >Ada Boost Classifier</td>\n",
       "      <td id=\"T_51fc9_row0_col1\" class=\"data row0 col1\" >0.6356</td>\n",
       "      <td id=\"T_51fc9_row0_col2\" class=\"data row0 col2\" >0.6647</td>\n",
       "      <td id=\"T_51fc9_row0_col3\" class=\"data row0 col3\" >0.8418</td>\n",
       "      <td id=\"T_51fc9_row0_col4\" class=\"data row0 col4\" >0.6368</td>\n",
       "      <td id=\"T_51fc9_row0_col5\" class=\"data row0 col5\" >0.7251</td>\n",
       "      <td id=\"T_51fc9_row0_col6\" class=\"data row0 col6\" >0.2144</td>\n",
       "      <td id=\"T_51fc9_row0_col7\" class=\"data row0 col7\" >0.2336</td>\n",
       "    </tr>\n",
       "  </tbody>\n",
       "</table>\n"
      ],
      "text/plain": [
       "<pandas.io.formats.style.Styler at 0x7f1fc47bf0d0>"
      ]
     },
     "metadata": {},
     "output_type": "display_data"
    },
    {
     "data": {
      "text/html": [
       "<style type=\"text/css\">\n",
       "</style>\n",
       "<table id=\"T_226ce\">\n",
       "  <thead>\n",
       "    <tr>\n",
       "      <th class=\"blank level0\" >&nbsp;</th>\n",
       "      <th id=\"T_226ce_level0_col0\" class=\"col_heading level0 col0\" >Model</th>\n",
       "      <th id=\"T_226ce_level0_col1\" class=\"col_heading level0 col1\" >Accuracy</th>\n",
       "      <th id=\"T_226ce_level0_col2\" class=\"col_heading level0 col2\" >AUC</th>\n",
       "      <th id=\"T_226ce_level0_col3\" class=\"col_heading level0 col3\" >Recall</th>\n",
       "      <th id=\"T_226ce_level0_col4\" class=\"col_heading level0 col4\" >Prec.</th>\n",
       "      <th id=\"T_226ce_level0_col5\" class=\"col_heading level0 col5\" >F1</th>\n",
       "      <th id=\"T_226ce_level0_col6\" class=\"col_heading level0 col6\" >Kappa</th>\n",
       "      <th id=\"T_226ce_level0_col7\" class=\"col_heading level0 col7\" >MCC</th>\n",
       "    </tr>\n",
       "  </thead>\n",
       "  <tbody>\n",
       "    <tr>\n",
       "      <th id=\"T_226ce_level0_row0\" class=\"row_heading level0 row0\" >0</th>\n",
       "      <td id=\"T_226ce_row0_col0\" class=\"data row0 col0\" >Gradient Boosting Classifier</td>\n",
       "      <td id=\"T_226ce_row0_col1\" class=\"data row0 col1\" >0.6362</td>\n",
       "      <td id=\"T_226ce_row0_col2\" class=\"data row0 col2\" >0.6669</td>\n",
       "      <td id=\"T_226ce_row0_col3\" class=\"data row0 col3\" >0.8520</td>\n",
       "      <td id=\"T_226ce_row0_col4\" class=\"data row0 col4\" >0.6353</td>\n",
       "      <td id=\"T_226ce_row0_col5\" class=\"data row0 col5\" >0.7279</td>\n",
       "      <td id=\"T_226ce_row0_col6\" class=\"data row0 col6\" >0.2131</td>\n",
       "      <td id=\"T_226ce_row0_col7\" class=\"data row0 col7\" >0.2350</td>\n",
       "    </tr>\n",
       "  </tbody>\n",
       "</table>\n"
      ],
      "text/plain": [
       "<pandas.io.formats.style.Styler at 0x7f1fc46e2c20>"
      ]
     },
     "metadata": {},
     "output_type": "display_data"
    },
    {
     "data": {
      "text/html": [
       "<style type=\"text/css\">\n",
       "</style>\n",
       "<table id=\"T_1a164\">\n",
       "  <thead>\n",
       "    <tr>\n",
       "      <th class=\"blank level0\" >&nbsp;</th>\n",
       "      <th id=\"T_1a164_level0_col0\" class=\"col_heading level0 col0\" >Model</th>\n",
       "      <th id=\"T_1a164_level0_col1\" class=\"col_heading level0 col1\" >Accuracy</th>\n",
       "      <th id=\"T_1a164_level0_col2\" class=\"col_heading level0 col2\" >AUC</th>\n",
       "      <th id=\"T_1a164_level0_col3\" class=\"col_heading level0 col3\" >Recall</th>\n",
       "      <th id=\"T_1a164_level0_col4\" class=\"col_heading level0 col4\" >Prec.</th>\n",
       "      <th id=\"T_1a164_level0_col5\" class=\"col_heading level0 col5\" >F1</th>\n",
       "      <th id=\"T_1a164_level0_col6\" class=\"col_heading level0 col6\" >Kappa</th>\n",
       "      <th id=\"T_1a164_level0_col7\" class=\"col_heading level0 col7\" >MCC</th>\n",
       "    </tr>\n",
       "  </thead>\n",
       "  <tbody>\n",
       "    <tr>\n",
       "      <th id=\"T_1a164_level0_row0\" class=\"row_heading level0 row0\" >0</th>\n",
       "      <td id=\"T_1a164_row0_col0\" class=\"data row0 col0\" >Light Gradient Boosting Machine</td>\n",
       "      <td id=\"T_1a164_row0_col1\" class=\"data row0 col1\" >0.6344</td>\n",
       "      <td id=\"T_1a164_row0_col2\" class=\"data row0 col2\" >0.6644</td>\n",
       "      <td id=\"T_1a164_row0_col3\" class=\"data row0 col3\" >0.8453</td>\n",
       "      <td id=\"T_1a164_row0_col4\" class=\"data row0 col4\" >0.6351</td>\n",
       "      <td id=\"T_1a164_row0_col5\" class=\"data row0 col5\" >0.7253</td>\n",
       "      <td id=\"T_1a164_row0_col6\" class=\"data row0 col6\" >0.2106</td>\n",
       "      <td id=\"T_1a164_row0_col7\" class=\"data row0 col7\" >0.2307</td>\n",
       "    </tr>\n",
       "  </tbody>\n",
       "</table>\n"
      ],
      "text/plain": [
       "<pandas.io.formats.style.Styler at 0x7f1fc47bd150>"
      ]
     },
     "metadata": {},
     "output_type": "display_data"
    },
    {
     "data": {
      "text/html": [
       "<style type=\"text/css\">\n",
       "</style>\n",
       "<table id=\"T_bb7f1\">\n",
       "  <thead>\n",
       "    <tr>\n",
       "      <th class=\"blank level0\" >&nbsp;</th>\n",
       "      <th id=\"T_bb7f1_level0_col0\" class=\"col_heading level0 col0\" >Model</th>\n",
       "      <th id=\"T_bb7f1_level0_col1\" class=\"col_heading level0 col1\" >Accuracy</th>\n",
       "      <th id=\"T_bb7f1_level0_col2\" class=\"col_heading level0 col2\" >AUC</th>\n",
       "      <th id=\"T_bb7f1_level0_col3\" class=\"col_heading level0 col3\" >Recall</th>\n",
       "      <th id=\"T_bb7f1_level0_col4\" class=\"col_heading level0 col4\" >Prec.</th>\n",
       "      <th id=\"T_bb7f1_level0_col5\" class=\"col_heading level0 col5\" >F1</th>\n",
       "      <th id=\"T_bb7f1_level0_col6\" class=\"col_heading level0 col6\" >Kappa</th>\n",
       "      <th id=\"T_bb7f1_level0_col7\" class=\"col_heading level0 col7\" >MCC</th>\n",
       "    </tr>\n",
       "  </thead>\n",
       "  <tbody>\n",
       "    <tr>\n",
       "      <th id=\"T_bb7f1_level0_row0\" class=\"row_heading level0 row0\" >0</th>\n",
       "      <td id=\"T_bb7f1_row0_col0\" class=\"data row0 col0\" >Random Forest Classifier</td>\n",
       "      <td id=\"T_bb7f1_row0_col1\" class=\"data row0 col1\" >0.6277</td>\n",
       "      <td id=\"T_bb7f1_row0_col2\" class=\"data row0 col2\" >0.6499</td>\n",
       "      <td id=\"T_bb7f1_row0_col3\" class=\"data row0 col3\" >0.8298</td>\n",
       "      <td id=\"T_bb7f1_row0_col4\" class=\"data row0 col4\" >0.6326</td>\n",
       "      <td id=\"T_bb7f1_row0_col5\" class=\"data row0 col5\" >0.7179</td>\n",
       "      <td id=\"T_bb7f1_row0_col6\" class=\"data row0 col6\" >0.1989</td>\n",
       "      <td id=\"T_bb7f1_row0_col7\" class=\"data row0 col7\" >0.2153</td>\n",
       "    </tr>\n",
       "  </tbody>\n",
       "</table>\n"
      ],
      "text/plain": [
       "<pandas.io.formats.style.Styler at 0x7f1fc46e10c0>"
      ]
     },
     "metadata": {},
     "output_type": "display_data"
    }
   ],
   "source": [
    "test_prediction_ada, test_prediction_gbc, test_prediction_lightgbm, test_prediction_rf = model.common.batch_predict_and_odds(test_data, [regression_model_ada, regression_model_gbc, regression_model_lightgbm, regression_model_rf])"
   ]
  },
  {
   "cell_type": "code",
   "execution_count": 11,
   "metadata": {
    "execution": {
     "iopub.execute_input": "2023-07-03T23:20:14.853997Z",
     "iopub.status.busy": "2023-07-03T23:20:14.853534Z",
     "iopub.status.idle": "2023-07-03T23:20:14.987751Z",
     "shell.execute_reply": "2023-07-03T23:20:14.985931Z",
     "shell.execute_reply.started": "2023-07-03T23:20:14.853968Z"
    }
   },
   "outputs": [
    {
     "data": {
      "text/html": [
       "<table>\n",
       "<tbody>\n",
       "<tr><td>model   </td><td>0.6        </td><td>0.7        </td><td>0.75       </td><td>0.8       </td><td>0.85      </td></tr>\n",
       "<tr><td>ada     </td><td>(0, nan)   </td><td>(0, nan)   </td><td>(0, nan)   </td><td>(0, nan)  </td><td>(0, nan)  </td></tr>\n",
       "<tr><td>gbc     </td><td>(199, 0.81)</td><td>(143, 0.87)</td><td>(118, 0.89)</td><td>(85, 0.86)</td><td>(46, 0.85)</td></tr>\n",
       "<tr><td>lightgbm</td><td>(205, 0.8) </td><td>(146, 0.83)</td><td>(119, 0.87)</td><td>(89, 0.85)</td><td>(66, 0.86)</td></tr>\n",
       "<tr><td>rf      </td><td>(189, 0.84)</td><td>(122, 0.84)</td><td>(82, 0.88) </td><td>(50, 0.86)</td><td>(24, 0.75)</td></tr>\n",
       "</tbody>\n",
       "</table>"
      ],
      "text/plain": [
       "'<table>\\n<tbody>\\n<tr><td>model   </td><td>0.6        </td><td>0.7        </td><td>0.75       </td><td>0.8       </td><td>0.85      </td></tr>\\n<tr><td>ada     </td><td>(0, nan)   </td><td>(0, nan)   </td><td>(0, nan)   </td><td>(0, nan)  </td><td>(0, nan)  </td></tr>\\n<tr><td>gbc     </td><td>(199, 0.81)</td><td>(143, 0.87)</td><td>(118, 0.89)</td><td>(85, 0.86)</td><td>(46, 0.85)</td></tr>\\n<tr><td>lightgbm</td><td>(205, 0.8) </td><td>(146, 0.83)</td><td>(119, 0.87)</td><td>(89, 0.85)</td><td>(66, 0.86)</td></tr>\\n<tr><td>rf      </td><td>(189, 0.84)</td><td>(122, 0.84)</td><td>(82, 0.88) </td><td>(50, 0.86)</td><td>(24, 0.75)</td></tr>\\n</tbody>\\n</table>'"
      ]
     },
     "execution_count": 11,
     "metadata": {},
     "output_type": "execute_result"
    }
   ],
   "source": [
    "model.common.evaluate_predictions([(test_prediction_ada, \"ada\"), (test_prediction_gbc, \"gbc\"), (test_prediction_lightgbm, \"lightgbm\"), (test_prediction_rf, \"rf\")], [0.6, 0.7, 0.75, 0.8, 0.85], target_column)"
   ]
  },
  {
   "cell_type": "markdown",
   "metadata": {
    "id": "sOfz0zBX994h"
   },
   "source": [
    "**Finalize Model**"
   ]
  },
  {
   "cell_type": "code",
   "execution_count": 12,
   "metadata": {
    "colab": {
     "base_uri": "https://localhost:8080/",
     "height": 34
    },
    "execution": {
     "iopub.execute_input": "2023-07-03T23:20:14.990838Z",
     "iopub.status.busy": "2023-07-03T23:20:14.990169Z",
     "iopub.status.idle": "2023-07-03T23:24:37.603163Z",
     "shell.execute_reply": "2023-07-03T23:24:37.602182Z",
     "shell.execute_reply.started": "2023-07-03T23:20:14.990787Z"
    },
    "id": "gutfxdh8-DKy",
    "outputId": "2e862724-33f5-45f0-ed52-aade46f98c7d"
   },
   "outputs": [],
   "source": [
    "# train over the whole dataset without validation split\n",
    "regression_model_finalized_ada = pycaret.classification.finalize_model(regression_model_ada)\n",
    "regression_model_finalized_gbc = pycaret.classification.finalize_model(regression_model_gbc)\n",
    "regression_model_finalized_lightgbm = pycaret.classification.finalize_model(regression_model_lightgbm)\n",
    "regression_model_finalized_rf = pycaret.classification.finalize_model(regression_model_rf)"
   ]
  },
  {
   "cell_type": "code",
   "execution_count": 13,
   "metadata": {
    "execution": {
     "iopub.execute_input": "2023-07-03T23:24:37.604927Z",
     "iopub.status.busy": "2023-07-03T23:24:37.604677Z",
     "iopub.status.idle": "2023-07-03T23:24:41.085738Z",
     "shell.execute_reply": "2023-07-03T23:24:41.083609Z",
     "shell.execute_reply.started": "2023-07-03T23:24:37.604900Z"
    }
   },
   "outputs": [
    {
     "data": {
      "text/html": [
       "<style type=\"text/css\">\n",
       "</style>\n",
       "<table id=\"T_d8e60\">\n",
       "  <thead>\n",
       "    <tr>\n",
       "      <th class=\"blank level0\" >&nbsp;</th>\n",
       "      <th id=\"T_d8e60_level0_col0\" class=\"col_heading level0 col0\" >Model</th>\n",
       "      <th id=\"T_d8e60_level0_col1\" class=\"col_heading level0 col1\" >Accuracy</th>\n",
       "      <th id=\"T_d8e60_level0_col2\" class=\"col_heading level0 col2\" >AUC</th>\n",
       "      <th id=\"T_d8e60_level0_col3\" class=\"col_heading level0 col3\" >Recall</th>\n",
       "      <th id=\"T_d8e60_level0_col4\" class=\"col_heading level0 col4\" >Prec.</th>\n",
       "      <th id=\"T_d8e60_level0_col5\" class=\"col_heading level0 col5\" >F1</th>\n",
       "      <th id=\"T_d8e60_level0_col6\" class=\"col_heading level0 col6\" >Kappa</th>\n",
       "      <th id=\"T_d8e60_level0_col7\" class=\"col_heading level0 col7\" >MCC</th>\n",
       "    </tr>\n",
       "  </thead>\n",
       "  <tbody>\n",
       "    <tr>\n",
       "      <th id=\"T_d8e60_level0_row0\" class=\"row_heading level0 row0\" >0</th>\n",
       "      <td id=\"T_d8e60_row0_col0\" class=\"data row0 col0\" >Ada Boost Classifier</td>\n",
       "      <td id=\"T_d8e60_row0_col1\" class=\"data row0 col1\" >0.6325</td>\n",
       "      <td id=\"T_d8e60_row0_col2\" class=\"data row0 col2\" >0.6643</td>\n",
       "      <td id=\"T_d8e60_row0_col3\" class=\"data row0 col3\" >0.8411</td>\n",
       "      <td id=\"T_d8e60_row0_col4\" class=\"data row0 col4\" >0.6344</td>\n",
       "      <td id=\"T_d8e60_row0_col5\" class=\"data row0 col5\" >0.7232</td>\n",
       "      <td id=\"T_d8e60_row0_col6\" class=\"data row0 col6\" >0.2072</td>\n",
       "      <td id=\"T_d8e60_row0_col7\" class=\"data row0 col7\" >0.2262</td>\n",
       "    </tr>\n",
       "  </tbody>\n",
       "</table>\n"
      ],
      "text/plain": [
       "<pandas.io.formats.style.Styler at 0x7f1fc46e2830>"
      ]
     },
     "metadata": {},
     "output_type": "display_data"
    },
    {
     "data": {
      "text/html": [
       "<style type=\"text/css\">\n",
       "</style>\n",
       "<table id=\"T_a3c1f\">\n",
       "  <thead>\n",
       "    <tr>\n",
       "      <th class=\"blank level0\" >&nbsp;</th>\n",
       "      <th id=\"T_a3c1f_level0_col0\" class=\"col_heading level0 col0\" >Model</th>\n",
       "      <th id=\"T_a3c1f_level0_col1\" class=\"col_heading level0 col1\" >Accuracy</th>\n",
       "      <th id=\"T_a3c1f_level0_col2\" class=\"col_heading level0 col2\" >AUC</th>\n",
       "      <th id=\"T_a3c1f_level0_col3\" class=\"col_heading level0 col3\" >Recall</th>\n",
       "      <th id=\"T_a3c1f_level0_col4\" class=\"col_heading level0 col4\" >Prec.</th>\n",
       "      <th id=\"T_a3c1f_level0_col5\" class=\"col_heading level0 col5\" >F1</th>\n",
       "      <th id=\"T_a3c1f_level0_col6\" class=\"col_heading level0 col6\" >Kappa</th>\n",
       "      <th id=\"T_a3c1f_level0_col7\" class=\"col_heading level0 col7\" >MCC</th>\n",
       "    </tr>\n",
       "  </thead>\n",
       "  <tbody>\n",
       "    <tr>\n",
       "      <th id=\"T_a3c1f_level0_row0\" class=\"row_heading level0 row0\" >0</th>\n",
       "      <td id=\"T_a3c1f_row0_col0\" class=\"data row0 col0\" >Gradient Boosting Classifier</td>\n",
       "      <td id=\"T_a3c1f_row0_col1\" class=\"data row0 col1\" >0.6359</td>\n",
       "      <td id=\"T_a3c1f_row0_col2\" class=\"data row0 col2\" >0.6662</td>\n",
       "      <td id=\"T_a3c1f_row0_col3\" class=\"data row0 col3\" >0.8500</td>\n",
       "      <td id=\"T_a3c1f_row0_col4\" class=\"data row0 col4\" >0.6354</td>\n",
       "      <td id=\"T_a3c1f_row0_col5\" class=\"data row0 col5\" >0.7272</td>\n",
       "      <td id=\"T_a3c1f_row0_col6\" class=\"data row0 col6\" >0.2128</td>\n",
       "      <td id=\"T_a3c1f_row0_col7\" class=\"data row0 col7\" >0.2341</td>\n",
       "    </tr>\n",
       "  </tbody>\n",
       "</table>\n"
      ],
      "text/plain": [
       "<pandas.io.formats.style.Styler at 0x7f1fc523c8e0>"
      ]
     },
     "metadata": {},
     "output_type": "display_data"
    },
    {
     "data": {
      "text/html": [
       "<style type=\"text/css\">\n",
       "</style>\n",
       "<table id=\"T_ee7c2\">\n",
       "  <thead>\n",
       "    <tr>\n",
       "      <th class=\"blank level0\" >&nbsp;</th>\n",
       "      <th id=\"T_ee7c2_level0_col0\" class=\"col_heading level0 col0\" >Model</th>\n",
       "      <th id=\"T_ee7c2_level0_col1\" class=\"col_heading level0 col1\" >Accuracy</th>\n",
       "      <th id=\"T_ee7c2_level0_col2\" class=\"col_heading level0 col2\" >AUC</th>\n",
       "      <th id=\"T_ee7c2_level0_col3\" class=\"col_heading level0 col3\" >Recall</th>\n",
       "      <th id=\"T_ee7c2_level0_col4\" class=\"col_heading level0 col4\" >Prec.</th>\n",
       "      <th id=\"T_ee7c2_level0_col5\" class=\"col_heading level0 col5\" >F1</th>\n",
       "      <th id=\"T_ee7c2_level0_col6\" class=\"col_heading level0 col6\" >Kappa</th>\n",
       "      <th id=\"T_ee7c2_level0_col7\" class=\"col_heading level0 col7\" >MCC</th>\n",
       "    </tr>\n",
       "  </thead>\n",
       "  <tbody>\n",
       "    <tr>\n",
       "      <th id=\"T_ee7c2_level0_row0\" class=\"row_heading level0 row0\" >0</th>\n",
       "      <td id=\"T_ee7c2_row0_col0\" class=\"data row0 col0\" >Light Gradient Boosting Machine</td>\n",
       "      <td id=\"T_ee7c2_row0_col1\" class=\"data row0 col1\" >0.6341</td>\n",
       "      <td id=\"T_ee7c2_row0_col2\" class=\"data row0 col2\" >0.6641</td>\n",
       "      <td id=\"T_ee7c2_row0_col3\" class=\"data row0 col3\" >0.8465</td>\n",
       "      <td id=\"T_ee7c2_row0_col4\" class=\"data row0 col4\" >0.6346</td>\n",
       "      <td id=\"T_ee7c2_row0_col5\" class=\"data row0 col5\" >0.7254</td>\n",
       "      <td id=\"T_ee7c2_row0_col6\" class=\"data row0 col6\" >0.2096</td>\n",
       "      <td id=\"T_ee7c2_row0_col7\" class=\"data row0 col7\" >0.2300</td>\n",
       "    </tr>\n",
       "  </tbody>\n",
       "</table>\n"
      ],
      "text/plain": [
       "<pandas.io.formats.style.Styler at 0x7f1fc438cee0>"
      ]
     },
     "metadata": {},
     "output_type": "display_data"
    },
    {
     "data": {
      "text/html": [
       "<style type=\"text/css\">\n",
       "</style>\n",
       "<table id=\"T_d002e\">\n",
       "  <thead>\n",
       "    <tr>\n",
       "      <th class=\"blank level0\" >&nbsp;</th>\n",
       "      <th id=\"T_d002e_level0_col0\" class=\"col_heading level0 col0\" >Model</th>\n",
       "      <th id=\"T_d002e_level0_col1\" class=\"col_heading level0 col1\" >Accuracy</th>\n",
       "      <th id=\"T_d002e_level0_col2\" class=\"col_heading level0 col2\" >AUC</th>\n",
       "      <th id=\"T_d002e_level0_col3\" class=\"col_heading level0 col3\" >Recall</th>\n",
       "      <th id=\"T_d002e_level0_col4\" class=\"col_heading level0 col4\" >Prec.</th>\n",
       "      <th id=\"T_d002e_level0_col5\" class=\"col_heading level0 col5\" >F1</th>\n",
       "      <th id=\"T_d002e_level0_col6\" class=\"col_heading level0 col6\" >Kappa</th>\n",
       "      <th id=\"T_d002e_level0_col7\" class=\"col_heading level0 col7\" >MCC</th>\n",
       "    </tr>\n",
       "  </thead>\n",
       "  <tbody>\n",
       "    <tr>\n",
       "      <th id=\"T_d002e_level0_row0\" class=\"row_heading level0 row0\" >0</th>\n",
       "      <td id=\"T_d002e_row0_col0\" class=\"data row0 col0\" >Random Forest Classifier</td>\n",
       "      <td id=\"T_d002e_row0_col1\" class=\"data row0 col1\" >0.6259</td>\n",
       "      <td id=\"T_d002e_row0_col2\" class=\"data row0 col2\" >0.6493</td>\n",
       "      <td id=\"T_d002e_row0_col3\" class=\"data row0 col3\" >0.8246</td>\n",
       "      <td id=\"T_d002e_row0_col4\" class=\"data row0 col4\" >0.6322</td>\n",
       "      <td id=\"T_d002e_row0_col5\" class=\"data row0 col5\" >0.7157</td>\n",
       "      <td id=\"T_d002e_row0_col6\" class=\"data row0 col6\" >0.1960</td>\n",
       "      <td id=\"T_d002e_row0_col7\" class=\"data row0 col7\" >0.2113</td>\n",
       "    </tr>\n",
       "  </tbody>\n",
       "</table>\n"
      ],
      "text/plain": [
       "<pandas.io.formats.style.Styler at 0x7f1fc47bee90>"
      ]
     },
     "metadata": {},
     "output_type": "display_data"
    }
   ],
   "source": [
    "test_finalized_prediction_ada, test_finalized_prediction_gbc, test_finalized_prediction_lightgbm, test_finalized_prediction_rf = model.common.batch_predict_and_odds(\n",
    "    test_data, \n",
    "    [regression_model_finalized_ada, regression_model_finalized_gbc, regression_model_finalized_lightgbm, regression_model_finalized_rf])"
   ]
  },
  {
   "cell_type": "code",
   "execution_count": 14,
   "metadata": {
    "execution": {
     "iopub.execute_input": "2023-07-03T23:24:41.094799Z",
     "iopub.status.busy": "2023-07-03T23:24:41.092616Z",
     "iopub.status.idle": "2023-07-03T23:24:41.244375Z",
     "shell.execute_reply": "2023-07-03T23:24:41.242307Z",
     "shell.execute_reply.started": "2023-07-03T23:24:41.094695Z"
    }
   },
   "outputs": [
    {
     "data": {
      "text/html": [
       "<table>\n",
       "<tbody>\n",
       "<tr><td>model   </td><td>0.6        </td><td>0.7        </td><td>0.75       </td><td>0.8       </td><td>0.85      </td></tr>\n",
       "<tr><td>ada     </td><td>(0, nan)   </td><td>(0, nan)   </td><td>(0, nan)   </td><td>(0, nan)  </td><td>(0, nan)  </td></tr>\n",
       "<tr><td>gbc     </td><td>(202, 0.82)</td><td>(147, 0.84)</td><td>(121, 0.86)</td><td>(84, 0.86)</td><td>(51, 0.82)</td></tr>\n",
       "<tr><td>lightgbm</td><td>(201, 0.82)</td><td>(147, 0.85)</td><td>(121, 0.86)</td><td>(94, 0.87)</td><td>(62, 0.85)</td></tr>\n",
       "<tr><td>rf      </td><td>(195, 0.81)</td><td>(135, 0.83)</td><td>(97, 0.84) </td><td>(55, 0.85)</td><td>(33, 0.85)</td></tr>\n",
       "</tbody>\n",
       "</table>"
      ],
      "text/plain": [
       "'<table>\\n<tbody>\\n<tr><td>model   </td><td>0.6        </td><td>0.7        </td><td>0.75       </td><td>0.8       </td><td>0.85      </td></tr>\\n<tr><td>ada     </td><td>(0, nan)   </td><td>(0, nan)   </td><td>(0, nan)   </td><td>(0, nan)  </td><td>(0, nan)  </td></tr>\\n<tr><td>gbc     </td><td>(202, 0.82)</td><td>(147, 0.84)</td><td>(121, 0.86)</td><td>(84, 0.86)</td><td>(51, 0.82)</td></tr>\\n<tr><td>lightgbm</td><td>(201, 0.82)</td><td>(147, 0.85)</td><td>(121, 0.86)</td><td>(94, 0.87)</td><td>(62, 0.85)</td></tr>\\n<tr><td>rf      </td><td>(195, 0.81)</td><td>(135, 0.83)</td><td>(97, 0.84) </td><td>(55, 0.85)</td><td>(33, 0.85)</td></tr>\\n</tbody>\\n</table>'"
      ]
     },
     "execution_count": 14,
     "metadata": {},
     "output_type": "execute_result"
    }
   ],
   "source": [
    "model.common.evaluate_predictions([(test_finalized_prediction_ada, \"ada\"), (test_finalized_prediction_gbc, \"gbc\"), (test_finalized_prediction_lightgbm, \"lightgbm\"), (test_finalized_prediction_rf, \"rf\")], [0.6, 0.7, 0.75, 0.8, 0.85], target_column)"
   ]
  },
  {
   "cell_type": "markdown",
   "metadata": {},
   "source": [
    "**Save Model**"
   ]
  },
  {
   "cell_type": "code",
   "execution_count": 22,
   "metadata": {
    "execution": {
     "iopub.execute_input": "2023-07-07T21:55:12.712969Z",
     "iopub.status.busy": "2023-07-07T21:55:12.712706Z",
     "iopub.status.idle": "2023-07-07T21:55:12.867833Z",
     "shell.execute_reply": "2023-07-07T21:55:12.866814Z",
     "shell.execute_reply.started": "2023-07-07T21:55:12.712953Z"
    }
   },
   "outputs": [
    {
     "name": "stdout",
     "output_type": "stream",
     "text": [
      "Transformation Pipeline and Model Successfully Saved\n"
     ]
    },
    {
     "data": {
      "text/plain": [
       "(Pipeline(memory=FastMemory(location=/tmp/joblib),\n",
       "          steps=[('numerical_imputer',\n",
       "                  TransformerWrapper(exclude=None,\n",
       "                                     include=['pitching_gamesPlayed',\n",
       "                                              'pitching_runs_per_game',\n",
       "                                              'pitching_strikeOuts_per_game',\n",
       "                                              'pitching_hits_per_game',\n",
       "                                              'batting_gamesPlayed',\n",
       "                                              'batting_runs_per_game',\n",
       "                                              'batting_strikeOuts_per_game',\n",
       "                                              'batting_hits_per_game',\n",
       "                                              'batting_rbi',\n",
       "                                              'pitching_cur_...\n",
       "                                                       colsample_bytree=1.0,\n",
       "                                                       importance_type='split',\n",
       "                                                       learning_rate=0.1,\n",
       "                                                       max_depth=-1,\n",
       "                                                       min_child_samples=20,\n",
       "                                                       min_child_weight=0.001,\n",
       "                                                       min_split_gain=0.0,\n",
       "                                                       n_estimators=100,\n",
       "                                                       n_jobs=-1, num_leaves=31,\n",
       "                                                       objective=None,\n",
       "                                                       probability_threshold=0.5,\n",
       "                                                       random_state=7306,\n",
       "                                                       reg_alpha=0.0,\n",
       "                                                       reg_lambda=0.0,\n",
       "                                                       silent='warn',\n",
       "                                                       subsample=1.0,\n",
       "                                                       subsample_for_bin=200000,\n",
       "                                                       subsample_freq=0))],\n",
       "          verbose=False),\n",
       " 'model/batter_1hits_regression_model.pkl')"
      ]
     },
     "execution_count": 22,
     "metadata": {},
     "output_type": "execute_result"
    }
   ],
   "source": [
    "pycaret.classification.save_model(regression_model_finalized_lightgbm, model_file_name)"
   ]
  },
  {
   "cell_type": "code",
   "execution_count": null,
   "metadata": {},
   "outputs": [],
   "source": []
  }
 ],
 "metadata": {
  "colab": {
   "provenance": []
  },
  "kernelspec": {
   "display_name": "Python 3 (ipykernel)",
   "language": "python",
   "name": "python3"
  },
  "language_info": {
   "codemirror_mode": {
    "name": "ipython",
    "version": 3
   },
   "file_extension": ".py",
   "mimetype": "text/x-python",
   "name": "python",
   "nbconvert_exporter": "python",
   "pygments_lexer": "ipython3",
   "version": "3.10.6"
  },
  "widgets": {
   "application/vnd.jupyter.widget-state+json": {
    "1ac32fe9102d4f5a9d1511e64a1d5e5d": {
     "model_module": "@jupyter-widgets/base",
     "model_module_version": "1.2.0",
     "model_name": "LayoutModel",
     "state": {
      "_model_module": "@jupyter-widgets/base",
      "_model_module_version": "1.2.0",
      "_model_name": "LayoutModel",
      "_view_count": null,
      "_view_module": "@jupyter-widgets/base",
      "_view_module_version": "1.2.0",
      "_view_name": "LayoutView",
      "align_content": null,
      "align_items": null,
      "align_self": null,
      "border": null,
      "bottom": null,
      "display": null,
      "flex": null,
      "flex_flow": null,
      "grid_area": null,
      "grid_auto_columns": null,
      "grid_auto_flow": null,
      "grid_auto_rows": null,
      "grid_column": null,
      "grid_gap": null,
      "grid_row": null,
      "grid_template_areas": null,
      "grid_template_columns": null,
      "grid_template_rows": null,
      "height": null,
      "justify_content": null,
      "justify_items": null,
      "left": null,
      "margin": null,
      "max_height": null,
      "max_width": null,
      "min_height": null,
      "min_width": null,
      "object_fit": null,
      "object_position": null,
      "order": null,
      "overflow": null,
      "overflow_x": null,
      "overflow_y": null,
      "padding": null,
      "right": null,
      "top": null,
      "visibility": null,
      "width": null
     }
    },
    "40b50c57e470496cb6c94a0693636fd7": {
     "model_module": "@jupyter-widgets/base",
     "model_module_version": "1.2.0",
     "model_name": "LayoutModel",
     "state": {
      "_model_module": "@jupyter-widgets/base",
      "_model_module_version": "1.2.0",
      "_model_name": "LayoutModel",
      "_view_count": null,
      "_view_module": "@jupyter-widgets/base",
      "_view_module_version": "1.2.0",
      "_view_name": "LayoutView",
      "align_content": null,
      "align_items": null,
      "align_self": null,
      "border": null,
      "bottom": null,
      "display": null,
      "flex": null,
      "flex_flow": null,
      "grid_area": null,
      "grid_auto_columns": null,
      "grid_auto_flow": null,
      "grid_auto_rows": null,
      "grid_column": null,
      "grid_gap": null,
      "grid_row": null,
      "grid_template_areas": null,
      "grid_template_columns": null,
      "grid_template_rows": null,
      "height": null,
      "justify_content": null,
      "justify_items": null,
      "left": null,
      "margin": null,
      "max_height": null,
      "max_width": null,
      "min_height": null,
      "min_width": null,
      "object_fit": null,
      "object_position": null,
      "order": null,
      "overflow": null,
      "overflow_x": null,
      "overflow_y": null,
      "padding": null,
      "right": null,
      "top": null,
      "visibility": "hidden",
      "width": null
     }
    },
    "46b9d3b6cd6e4f76a42dd4f216dc1644": {
     "model_module": "@jupyter-widgets/controls",
     "model_module_version": "1.5.0",
     "model_name": "HBoxModel",
     "state": {
      "_dom_classes": [],
      "_model_module": "@jupyter-widgets/controls",
      "_model_module_version": "1.5.0",
      "_model_name": "HBoxModel",
      "_view_count": null,
      "_view_module": "@jupyter-widgets/controls",
      "_view_module_version": "1.5.0",
      "_view_name": "HBoxView",
      "box_style": "",
      "children": [
       "IPY_MODEL_cfce22755aa7471a87151793e633def1",
       "IPY_MODEL_94d7b3dc65544425b2463933c4108fa4",
       "IPY_MODEL_f92582f04a594f87a669f3c1c4d4eabc"
      ],
      "layout": "IPY_MODEL_40b50c57e470496cb6c94a0693636fd7"
     }
    },
    "4efa6d0ab419418ea9e4991c77b1ec42": {
     "model_module": "@jupyter-widgets/controls",
     "model_module_version": "1.5.0",
     "model_name": "ProgressStyleModel",
     "state": {
      "_model_module": "@jupyter-widgets/controls",
      "_model_module_version": "1.5.0",
      "_model_name": "ProgressStyleModel",
      "_view_count": null,
      "_view_module": "@jupyter-widgets/base",
      "_view_module_version": "1.2.0",
      "_view_name": "StyleView",
      "bar_color": null,
      "description_width": ""
     }
    },
    "81feddb738c64cbc8b7dbc7aec2730de": {
     "model_module": "@jupyter-widgets/controls",
     "model_module_version": "1.5.0",
     "model_name": "DescriptionStyleModel",
     "state": {
      "_model_module": "@jupyter-widgets/controls",
      "_model_module_version": "1.5.0",
      "_model_name": "DescriptionStyleModel",
      "_view_count": null,
      "_view_module": "@jupyter-widgets/base",
      "_view_module_version": "1.2.0",
      "_view_name": "StyleView",
      "description_width": ""
     }
    },
    "94d7b3dc65544425b2463933c4108fa4": {
     "model_module": "@jupyter-widgets/controls",
     "model_module_version": "1.5.0",
     "model_name": "FloatProgressModel",
     "state": {
      "_dom_classes": [],
      "_model_module": "@jupyter-widgets/controls",
      "_model_module_version": "1.5.0",
      "_model_name": "FloatProgressModel",
      "_view_count": null,
      "_view_module": "@jupyter-widgets/controls",
      "_view_module_version": "1.5.0",
      "_view_name": "ProgressView",
      "bar_style": "",
      "description": "",
      "description_tooltip": null,
      "layout": "IPY_MODEL_eb74dfbcca4a458eb81d87fbae5bf166",
      "max": 4,
      "min": 0,
      "orientation": "horizontal",
      "style": "IPY_MODEL_4efa6d0ab419418ea9e4991c77b1ec42",
      "value": 4
     }
    },
    "bec03081ad154466a3a0abca5a8462f4": {
     "model_module": "@jupyter-widgets/base",
     "model_module_version": "1.2.0",
     "model_name": "LayoutModel",
     "state": {
      "_model_module": "@jupyter-widgets/base",
      "_model_module_version": "1.2.0",
      "_model_name": "LayoutModel",
      "_view_count": null,
      "_view_module": "@jupyter-widgets/base",
      "_view_module_version": "1.2.0",
      "_view_name": "LayoutView",
      "align_content": null,
      "align_items": null,
      "align_self": null,
      "border": null,
      "bottom": null,
      "display": null,
      "flex": null,
      "flex_flow": null,
      "grid_area": null,
      "grid_auto_columns": null,
      "grid_auto_flow": null,
      "grid_auto_rows": null,
      "grid_column": null,
      "grid_gap": null,
      "grid_row": null,
      "grid_template_areas": null,
      "grid_template_columns": null,
      "grid_template_rows": null,
      "height": null,
      "justify_content": null,
      "justify_items": null,
      "left": null,
      "margin": null,
      "max_height": null,
      "max_width": null,
      "min_height": null,
      "min_width": null,
      "object_fit": null,
      "object_position": null,
      "order": null,
      "overflow": null,
      "overflow_x": null,
      "overflow_y": null,
      "padding": null,
      "right": null,
      "top": null,
      "visibility": null,
      "width": null
     }
    },
    "cfcd697393754f1d93106a2d6e07ea05": {
     "model_module": "@jupyter-widgets/controls",
     "model_module_version": "1.5.0",
     "model_name": "DescriptionStyleModel",
     "state": {
      "_model_module": "@jupyter-widgets/controls",
      "_model_module_version": "1.5.0",
      "_model_name": "DescriptionStyleModel",
      "_view_count": null,
      "_view_module": "@jupyter-widgets/base",
      "_view_module_version": "1.2.0",
      "_view_name": "StyleView",
      "description_width": ""
     }
    },
    "cfce22755aa7471a87151793e633def1": {
     "model_module": "@jupyter-widgets/controls",
     "model_module_version": "1.5.0",
     "model_name": "HTMLModel",
     "state": {
      "_dom_classes": [],
      "_model_module": "@jupyter-widgets/controls",
      "_model_module_version": "1.5.0",
      "_model_name": "HTMLModel",
      "_view_count": null,
      "_view_module": "@jupyter-widgets/controls",
      "_view_module_version": "1.5.0",
      "_view_name": "HTMLView",
      "description": "",
      "description_tooltip": null,
      "layout": "IPY_MODEL_bec03081ad154466a3a0abca5a8462f4",
      "placeholder": "​",
      "style": "IPY_MODEL_81feddb738c64cbc8b7dbc7aec2730de",
      "value": "Processing: 100%"
     }
    },
    "eb74dfbcca4a458eb81d87fbae5bf166": {
     "model_module": "@jupyter-widgets/base",
     "model_module_version": "1.2.0",
     "model_name": "LayoutModel",
     "state": {
      "_model_module": "@jupyter-widgets/base",
      "_model_module_version": "1.2.0",
      "_model_name": "LayoutModel",
      "_view_count": null,
      "_view_module": "@jupyter-widgets/base",
      "_view_module_version": "1.2.0",
      "_view_name": "LayoutView",
      "align_content": null,
      "align_items": null,
      "align_self": null,
      "border": null,
      "bottom": null,
      "display": null,
      "flex": null,
      "flex_flow": null,
      "grid_area": null,
      "grid_auto_columns": null,
      "grid_auto_flow": null,
      "grid_auto_rows": null,
      "grid_column": null,
      "grid_gap": null,
      "grid_row": null,
      "grid_template_areas": null,
      "grid_template_columns": null,
      "grid_template_rows": null,
      "height": null,
      "justify_content": null,
      "justify_items": null,
      "left": null,
      "margin": null,
      "max_height": null,
      "max_width": null,
      "min_height": null,
      "min_width": null,
      "object_fit": null,
      "object_position": null,
      "order": null,
      "overflow": null,
      "overflow_x": null,
      "overflow_y": null,
      "padding": null,
      "right": null,
      "top": null,
      "visibility": null,
      "width": null
     }
    },
    "f92582f04a594f87a669f3c1c4d4eabc": {
     "model_module": "@jupyter-widgets/controls",
     "model_module_version": "1.5.0",
     "model_name": "HTMLModel",
     "state": {
      "_dom_classes": [],
      "_model_module": "@jupyter-widgets/controls",
      "_model_module_version": "1.5.0",
      "_model_name": "HTMLModel",
      "_view_count": null,
      "_view_module": "@jupyter-widgets/controls",
      "_view_module_version": "1.5.0",
      "_view_name": "HTMLView",
      "description": "",
      "description_tooltip": null,
      "layout": "IPY_MODEL_1ac32fe9102d4f5a9d1511e64a1d5e5d",
      "placeholder": "​",
      "style": "IPY_MODEL_cfcd697393754f1d93106a2d6e07ea05",
      "value": " 4/4 [00:10&lt;00:00,  2.34s/it]"
     }
    }
   }
  }
 },
 "nbformat": 4,
 "nbformat_minor": 4
}
