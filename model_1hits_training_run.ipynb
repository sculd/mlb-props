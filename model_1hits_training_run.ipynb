{
 "cells": [
  {
   "cell_type": "markdown",
   "metadata": {
    "id": "X1V_SUC4p-YQ"
   },
   "source": [
    "**Import Packages**"
   ]
  },
  {
   "cell_type": "code",
   "execution_count": 1,
   "metadata": {
    "colab": {
     "base_uri": "https://localhost:8080/"
    },
    "execution": {
     "iopub.execute_input": "2023-08-14T22:13:24.698662Z",
     "iopub.status.busy": "2023-08-14T22:13:24.698241Z",
     "iopub.status.idle": "2023-08-14T22:13:26.722078Z",
     "shell.execute_reply": "2023-08-14T22:13:26.721279Z",
     "shell.execute_reply.started": "2023-08-14T22:13:24.698605Z"
    },
    "id": "IGZCa25_p5QY",
    "outputId": "d9e7f9d8-21e8-49dd-d344-173324ba79a5",
    "tags": []
   },
   "outputs": [],
   "source": [
    "import pycaret\n",
    "import pandas as pd\n",
    "import numpy as np\n",
    "import sqlalchemy\n",
    "import mysql.connector\n",
    "\n",
    "from pycaret import classification\n",
    "from pycaret.classification import plot_model\n",
    "from datetime import datetime\n",
    "import importlib\n",
    "import model.common"
   ]
  },
  {
   "cell_type": "code",
   "execution_count": 2,
   "metadata": {
    "execution": {
     "iopub.execute_input": "2023-08-14T22:13:26.722920Z",
     "iopub.status.busy": "2023-08-14T22:13:26.722800Z",
     "iopub.status.idle": "2023-08-14T22:13:26.725651Z",
     "shell.execute_reply": "2023-08-14T22:13:26.725167Z",
     "shell.execute_reply.started": "2023-08-14T22:13:26.722909Z"
    }
   },
   "outputs": [],
   "source": [
    "from static_data.load_static_data import *"
   ]
  },
  {
   "cell_type": "markdown",
   "metadata": {
    "id": "jqde2RQfqchC"
   },
   "source": [
    "**Load Data**"
   ]
  },
  {
   "cell_type": "code",
   "execution_count": 3,
   "metadata": {
    "execution": {
     "iopub.execute_input": "2023-08-14T22:13:26.726246Z",
     "iopub.status.busy": "2023-08-14T22:13:26.726132Z",
     "iopub.status.idle": "2023-08-14T22:13:27.214726Z",
     "shell.execute_reply": "2023-08-14T22:13:27.214007Z",
     "shell.execute_reply.started": "2023-08-14T22:13:26.726236Z"
    }
   },
   "outputs": [
    {
     "name": "stdout",
     "output_type": "stream",
     "text": [
      "326242\n"
     ]
    }
   ],
   "source": [
    "collect_data_Base_dir = 'collect_data'\n",
    "df_game_matchup_total = pd.read_pickle(f'{collect_data_Base_dir}/df_game_matchup_total.pkl')\n",
    "print(len(df_game_matchup_total))"
   ]
  },
  {
   "cell_type": "markdown",
   "metadata": {
    "id": "VkSM5TOeule8"
   },
   "source": [
    "**Choose Columns**"
   ]
  },
  {
   "cell_type": "code",
   "execution_count": 4,
   "metadata": {
    "execution": {
     "iopub.execute_input": "2023-08-14T22:13:28.059862Z",
     "iopub.status.busy": "2023-08-14T22:13:28.059594Z",
     "iopub.status.idle": "2023-08-14T22:13:28.065921Z",
     "shell.execute_reply": "2023-08-14T22:13:28.065364Z",
     "shell.execute_reply.started": "2023-08-14T22:13:28.059844Z"
    }
   },
   "outputs": [
    {
     "data": {
      "text/plain": [
       "<module 'model.common' from '/home/junlim/projects/mlb-props/model/common.py'>"
      ]
     },
     "execution_count": 4,
     "metadata": {},
     "output_type": "execute_result"
    }
   ],
   "source": [
    "importlib.reload(model.common)"
   ]
  },
  {
   "cell_type": "code",
   "execution_count": 5,
   "metadata": {
    "execution": {
     "iopub.execute_input": "2023-08-14T22:13:30.335785Z",
     "iopub.status.busy": "2023-08-14T22:13:30.335547Z",
     "iopub.status.idle": "2023-08-14T22:13:30.339461Z",
     "shell.execute_reply": "2023-08-14T22:13:30.338860Z",
     "shell.execute_reply.started": "2023-08-14T22:13:30.335770Z"
    }
   },
   "outputs": [],
   "source": [
    "feature_columns, target_column, model_file_name = model.common.features_1hits_recorded, model.common.target_1hits_recorded, model.common.model_1hits_file_name"
   ]
  },
  {
   "cell_type": "code",
   "execution_count": 6,
   "metadata": {
    "execution": {
     "iopub.execute_input": "2023-08-14T22:13:30.954477Z",
     "iopub.status.busy": "2023-08-14T22:13:30.953316Z",
     "iopub.status.idle": "2023-08-14T22:13:31.126535Z",
     "shell.execute_reply": "2023-08-14T22:13:31.125864Z",
     "shell.execute_reply.started": "2023-08-14T22:13:30.954453Z"
    }
   },
   "outputs": [],
   "source": [
    "train_data = df_game_matchup_total[(df_game_matchup_total.game_date > \"2012-04-01\") & (df_game_matchup_total.game_date < \"2022-12-01\")][feature_columns]\n",
    "test_data = df_game_matchup_total[(df_game_matchup_total.game_date > \"2022-12-01\")][feature_columns]"
   ]
  },
  {
   "cell_type": "markdown",
   "metadata": {
    "id": "Qxoqal-SvwXp"
   },
   "source": [
    "**Build/Train Model**"
   ]
  },
  {
   "cell_type": "code",
   "execution_count": 8,
   "metadata": {
    "execution": {
     "iopub.execute_input": "2023-08-14T22:13:54.337018Z",
     "iopub.status.busy": "2023-08-14T22:13:54.336591Z",
     "iopub.status.idle": "2023-08-14T22:20:09.198369Z",
     "shell.execute_reply": "2023-08-14T22:20:09.197521Z",
     "shell.execute_reply.started": "2023-08-14T22:13:54.336991Z"
    },
    "scrolled": true
   },
   "outputs": [
    {
     "data": {
      "text/html": [
       "<style type=\"text/css\">\n",
       "#T_38d5c_row11_col1 {\n",
       "  background-color: lightgreen;\n",
       "}\n",
       "</style>\n",
       "<table id=\"T_38d5c\">\n",
       "  <thead>\n",
       "    <tr>\n",
       "      <th class=\"blank level0\" >&nbsp;</th>\n",
       "      <th id=\"T_38d5c_level0_col0\" class=\"col_heading level0 col0\" >Description</th>\n",
       "      <th id=\"T_38d5c_level0_col1\" class=\"col_heading level0 col1\" >Value</th>\n",
       "    </tr>\n",
       "  </thead>\n",
       "  <tbody>\n",
       "    <tr>\n",
       "      <th id=\"T_38d5c_level0_row0\" class=\"row_heading level0 row0\" >0</th>\n",
       "      <td id=\"T_38d5c_row0_col0\" class=\"data row0 col0\" >Session id</td>\n",
       "      <td id=\"T_38d5c_row0_col1\" class=\"data row0 col1\" >532</td>\n",
       "    </tr>\n",
       "    <tr>\n",
       "      <th id=\"T_38d5c_level0_row1\" class=\"row_heading level0 row1\" >1</th>\n",
       "      <td id=\"T_38d5c_row1_col0\" class=\"data row1 col0\" >Target</td>\n",
       "      <td id=\"T_38d5c_row1_col1\" class=\"data row1 col1\" >batting_1hits_recorded</td>\n",
       "    </tr>\n",
       "    <tr>\n",
       "      <th id=\"T_38d5c_level0_row2\" class=\"row_heading level0 row2\" >2</th>\n",
       "      <td id=\"T_38d5c_row2_col0\" class=\"data row2 col0\" >Target type</td>\n",
       "      <td id=\"T_38d5c_row2_col1\" class=\"data row2 col1\" >Binary</td>\n",
       "    </tr>\n",
       "    <tr>\n",
       "      <th id=\"T_38d5c_level0_row3\" class=\"row_heading level0 row3\" >3</th>\n",
       "      <td id=\"T_38d5c_row3_col0\" class=\"data row3 col0\" >Original data shape</td>\n",
       "      <td id=\"T_38d5c_row3_col1\" class=\"data row3 col1\" >(285090, 20)</td>\n",
       "    </tr>\n",
       "    <tr>\n",
       "      <th id=\"T_38d5c_level0_row4\" class=\"row_heading level0 row4\" >4</th>\n",
       "      <td id=\"T_38d5c_row4_col0\" class=\"data row4 col0\" >Transformed data shape</td>\n",
       "      <td id=\"T_38d5c_row4_col1\" class=\"data row4 col1\" >(285090, 12)</td>\n",
       "    </tr>\n",
       "    <tr>\n",
       "      <th id=\"T_38d5c_level0_row5\" class=\"row_heading level0 row5\" >5</th>\n",
       "      <td id=\"T_38d5c_row5_col0\" class=\"data row5 col0\" >Transformed train set shape</td>\n",
       "      <td id=\"T_38d5c_row5_col1\" class=\"data row5 col1\" >(199563, 12)</td>\n",
       "    </tr>\n",
       "    <tr>\n",
       "      <th id=\"T_38d5c_level0_row6\" class=\"row_heading level0 row6\" >6</th>\n",
       "      <td id=\"T_38d5c_row6_col0\" class=\"data row6 col0\" >Transformed test set shape</td>\n",
       "      <td id=\"T_38d5c_row6_col1\" class=\"data row6 col1\" >(85527, 12)</td>\n",
       "    </tr>\n",
       "    <tr>\n",
       "      <th id=\"T_38d5c_level0_row7\" class=\"row_heading level0 row7\" >7</th>\n",
       "      <td id=\"T_38d5c_row7_col0\" class=\"data row7 col0\" >Ignore features</td>\n",
       "      <td id=\"T_38d5c_row7_col1\" class=\"data row7 col1\" >8</td>\n",
       "    </tr>\n",
       "    <tr>\n",
       "      <th id=\"T_38d5c_level0_row8\" class=\"row_heading level0 row8\" >8</th>\n",
       "      <td id=\"T_38d5c_row8_col0\" class=\"data row8 col0\" >Numeric features</td>\n",
       "      <td id=\"T_38d5c_row8_col1\" class=\"data row8 col1\" >10</td>\n",
       "    </tr>\n",
       "    <tr>\n",
       "      <th id=\"T_38d5c_level0_row9\" class=\"row_heading level0 row9\" >9</th>\n",
       "      <td id=\"T_38d5c_row9_col0\" class=\"data row9 col0\" >Categorical features</td>\n",
       "      <td id=\"T_38d5c_row9_col1\" class=\"data row9 col1\" >1</td>\n",
       "    </tr>\n",
       "    <tr>\n",
       "      <th id=\"T_38d5c_level0_row10\" class=\"row_heading level0 row10\" >10</th>\n",
       "      <td id=\"T_38d5c_row10_col0\" class=\"data row10 col0\" >Rows with missing values</td>\n",
       "      <td id=\"T_38d5c_row10_col1\" class=\"data row10 col1\" >0.0%</td>\n",
       "    </tr>\n",
       "    <tr>\n",
       "      <th id=\"T_38d5c_level0_row11\" class=\"row_heading level0 row11\" >11</th>\n",
       "      <td id=\"T_38d5c_row11_col0\" class=\"data row11 col0\" >Preprocess</td>\n",
       "      <td id=\"T_38d5c_row11_col1\" class=\"data row11 col1\" >True</td>\n",
       "    </tr>\n",
       "    <tr>\n",
       "      <th id=\"T_38d5c_level0_row12\" class=\"row_heading level0 row12\" >12</th>\n",
       "      <td id=\"T_38d5c_row12_col0\" class=\"data row12 col0\" >Imputation type</td>\n",
       "      <td id=\"T_38d5c_row12_col1\" class=\"data row12 col1\" >simple</td>\n",
       "    </tr>\n",
       "    <tr>\n",
       "      <th id=\"T_38d5c_level0_row13\" class=\"row_heading level0 row13\" >13</th>\n",
       "      <td id=\"T_38d5c_row13_col0\" class=\"data row13 col0\" >Numeric imputation</td>\n",
       "      <td id=\"T_38d5c_row13_col1\" class=\"data row13 col1\" >mean</td>\n",
       "    </tr>\n",
       "    <tr>\n",
       "      <th id=\"T_38d5c_level0_row14\" class=\"row_heading level0 row14\" >14</th>\n",
       "      <td id=\"T_38d5c_row14_col0\" class=\"data row14 col0\" >Categorical imputation</td>\n",
       "      <td id=\"T_38d5c_row14_col1\" class=\"data row14 col1\" >mode</td>\n",
       "    </tr>\n",
       "    <tr>\n",
       "      <th id=\"T_38d5c_level0_row15\" class=\"row_heading level0 row15\" >15</th>\n",
       "      <td id=\"T_38d5c_row15_col0\" class=\"data row15 col0\" >Maximum one-hot encoding</td>\n",
       "      <td id=\"T_38d5c_row15_col1\" class=\"data row15 col1\" >25</td>\n",
       "    </tr>\n",
       "    <tr>\n",
       "      <th id=\"T_38d5c_level0_row16\" class=\"row_heading level0 row16\" >16</th>\n",
       "      <td id=\"T_38d5c_row16_col0\" class=\"data row16 col0\" >Encoding method</td>\n",
       "      <td id=\"T_38d5c_row16_col1\" class=\"data row16 col1\" >None</td>\n",
       "    </tr>\n",
       "    <tr>\n",
       "      <th id=\"T_38d5c_level0_row17\" class=\"row_heading level0 row17\" >17</th>\n",
       "      <td id=\"T_38d5c_row17_col0\" class=\"data row17 col0\" >Fold Generator</td>\n",
       "      <td id=\"T_38d5c_row17_col1\" class=\"data row17 col1\" >StratifiedKFold</td>\n",
       "    </tr>\n",
       "    <tr>\n",
       "      <th id=\"T_38d5c_level0_row18\" class=\"row_heading level0 row18\" >18</th>\n",
       "      <td id=\"T_38d5c_row18_col0\" class=\"data row18 col0\" >Fold Number</td>\n",
       "      <td id=\"T_38d5c_row18_col1\" class=\"data row18 col1\" >10</td>\n",
       "    </tr>\n",
       "    <tr>\n",
       "      <th id=\"T_38d5c_level0_row19\" class=\"row_heading level0 row19\" >19</th>\n",
       "      <td id=\"T_38d5c_row19_col0\" class=\"data row19 col0\" >CPU Jobs</td>\n",
       "      <td id=\"T_38d5c_row19_col1\" class=\"data row19 col1\" >-1</td>\n",
       "    </tr>\n",
       "    <tr>\n",
       "      <th id=\"T_38d5c_level0_row20\" class=\"row_heading level0 row20\" >20</th>\n",
       "      <td id=\"T_38d5c_row20_col0\" class=\"data row20 col0\" >Use GPU</td>\n",
       "      <td id=\"T_38d5c_row20_col1\" class=\"data row20 col1\" >False</td>\n",
       "    </tr>\n",
       "    <tr>\n",
       "      <th id=\"T_38d5c_level0_row21\" class=\"row_heading level0 row21\" >21</th>\n",
       "      <td id=\"T_38d5c_row21_col0\" class=\"data row21 col0\" >Log Experiment</td>\n",
       "      <td id=\"T_38d5c_row21_col1\" class=\"data row21 col1\" >False</td>\n",
       "    </tr>\n",
       "    <tr>\n",
       "      <th id=\"T_38d5c_level0_row22\" class=\"row_heading level0 row22\" >22</th>\n",
       "      <td id=\"T_38d5c_row22_col0\" class=\"data row22 col0\" >Experiment Name</td>\n",
       "      <td id=\"T_38d5c_row22_col1\" class=\"data row22 col1\" >clf-default-name</td>\n",
       "    </tr>\n",
       "    <tr>\n",
       "      <th id=\"T_38d5c_level0_row23\" class=\"row_heading level0 row23\" >23</th>\n",
       "      <td id=\"T_38d5c_row23_col0\" class=\"data row23 col0\" >USI</td>\n",
       "      <td id=\"T_38d5c_row23_col1\" class=\"data row23 col1\" >14f9</td>\n",
       "    </tr>\n",
       "  </tbody>\n",
       "</table>\n"
      ],
      "text/plain": [
       "<pandas.io.formats.style.Styler at 0x7f98214b2680>"
      ]
     },
     "metadata": {},
     "output_type": "display_data"
    },
    {
     "data": {
      "text/html": [],
      "text/plain": [
       "<IPython.core.display.HTML object>"
      ]
     },
     "metadata": {},
     "output_type": "display_data"
    },
    {
     "data": {
      "text/html": [
       "<style type=\"text/css\">\n",
       "#T_8c0a8_row10_col0, #T_8c0a8_row10_col1, #T_8c0a8_row10_col2, #T_8c0a8_row10_col3, #T_8c0a8_row10_col4, #T_8c0a8_row10_col5, #T_8c0a8_row10_col6 {\n",
       "  background: yellow;\n",
       "}\n",
       "</style>\n",
       "<table id=\"T_8c0a8\">\n",
       "  <thead>\n",
       "    <tr>\n",
       "      <th class=\"blank level0\" >&nbsp;</th>\n",
       "      <th id=\"T_8c0a8_level0_col0\" class=\"col_heading level0 col0\" >Accuracy</th>\n",
       "      <th id=\"T_8c0a8_level0_col1\" class=\"col_heading level0 col1\" >AUC</th>\n",
       "      <th id=\"T_8c0a8_level0_col2\" class=\"col_heading level0 col2\" >Recall</th>\n",
       "      <th id=\"T_8c0a8_level0_col3\" class=\"col_heading level0 col3\" >Prec.</th>\n",
       "      <th id=\"T_8c0a8_level0_col4\" class=\"col_heading level0 col4\" >F1</th>\n",
       "      <th id=\"T_8c0a8_level0_col5\" class=\"col_heading level0 col5\" >Kappa</th>\n",
       "      <th id=\"T_8c0a8_level0_col6\" class=\"col_heading level0 col6\" >MCC</th>\n",
       "    </tr>\n",
       "    <tr>\n",
       "      <th class=\"index_name level0\" >Fold</th>\n",
       "      <th class=\"blank col0\" >&nbsp;</th>\n",
       "      <th class=\"blank col1\" >&nbsp;</th>\n",
       "      <th class=\"blank col2\" >&nbsp;</th>\n",
       "      <th class=\"blank col3\" >&nbsp;</th>\n",
       "      <th class=\"blank col4\" >&nbsp;</th>\n",
       "      <th class=\"blank col5\" >&nbsp;</th>\n",
       "      <th class=\"blank col6\" >&nbsp;</th>\n",
       "    </tr>\n",
       "  </thead>\n",
       "  <tbody>\n",
       "    <tr>\n",
       "      <th id=\"T_8c0a8_level0_row0\" class=\"row_heading level0 row0\" >0</th>\n",
       "      <td id=\"T_8c0a8_row0_col0\" class=\"data row0 col0\" >0.6052</td>\n",
       "      <td id=\"T_8c0a8_row0_col1\" class=\"data row0 col1\" >0.6076</td>\n",
       "      <td id=\"T_8c0a8_row0_col2\" class=\"data row0 col2\" >0.8693</td>\n",
       "      <td id=\"T_8c0a8_row0_col3\" class=\"data row0 col3\" >0.6083</td>\n",
       "      <td id=\"T_8c0a8_row0_col4\" class=\"data row0 col4\" >0.7157</td>\n",
       "      <td id=\"T_8c0a8_row0_col5\" class=\"data row0 col5\" >0.1312</td>\n",
       "      <td id=\"T_8c0a8_row0_col6\" class=\"data row0 col6\" >0.1559</td>\n",
       "    </tr>\n",
       "    <tr>\n",
       "      <th id=\"T_8c0a8_level0_row1\" class=\"row_heading level0 row1\" >1</th>\n",
       "      <td id=\"T_8c0a8_row1_col0\" class=\"data row1 col0\" >0.6096</td>\n",
       "      <td id=\"T_8c0a8_row1_col1\" class=\"data row1 col1\" >0.6140</td>\n",
       "      <td id=\"T_8c0a8_row1_col2\" class=\"data row1 col2\" >0.8722</td>\n",
       "      <td id=\"T_8c0a8_row1_col3\" class=\"data row1 col3\" >0.6111</td>\n",
       "      <td id=\"T_8c0a8_row1_col4\" class=\"data row1 col4\" >0.7187</td>\n",
       "      <td id=\"T_8c0a8_row1_col5\" class=\"data row1 col5\" >0.1412</td>\n",
       "      <td id=\"T_8c0a8_row1_col6\" class=\"data row1 col6\" >0.1674</td>\n",
       "    </tr>\n",
       "    <tr>\n",
       "      <th id=\"T_8c0a8_level0_row2\" class=\"row_heading level0 row2\" >2</th>\n",
       "      <td id=\"T_8c0a8_row2_col0\" class=\"data row2 col0\" >0.6077</td>\n",
       "      <td id=\"T_8c0a8_row2_col1\" class=\"data row2 col1\" >0.6125</td>\n",
       "      <td id=\"T_8c0a8_row2_col2\" class=\"data row2 col2\" >0.8782</td>\n",
       "      <td id=\"T_8c0a8_row2_col3\" class=\"data row2 col3\" >0.6088</td>\n",
       "      <td id=\"T_8c0a8_row2_col4\" class=\"data row2 col4\" >0.7191</td>\n",
       "      <td id=\"T_8c0a8_row2_col5\" class=\"data row2 col5\" >0.1346</td>\n",
       "      <td id=\"T_8c0a8_row2_col6\" class=\"data row2 col6\" >0.1622</td>\n",
       "    </tr>\n",
       "    <tr>\n",
       "      <th id=\"T_8c0a8_level0_row3\" class=\"row_heading level0 row3\" >3</th>\n",
       "      <td id=\"T_8c0a8_row3_col0\" class=\"data row3 col0\" >0.6088</td>\n",
       "      <td id=\"T_8c0a8_row3_col1\" class=\"data row3 col1\" >0.6142</td>\n",
       "      <td id=\"T_8c0a8_row3_col2\" class=\"data row3 col2\" >0.8788</td>\n",
       "      <td id=\"T_8c0a8_row3_col3\" class=\"data row3 col3\" >0.6095</td>\n",
       "      <td id=\"T_8c0a8_row3_col4\" class=\"data row3 col4\" >0.7198</td>\n",
       "      <td id=\"T_8c0a8_row3_col5\" class=\"data row3 col5\" >0.1373</td>\n",
       "      <td id=\"T_8c0a8_row3_col6\" class=\"data row3 col6\" >0.1653</td>\n",
       "    </tr>\n",
       "    <tr>\n",
       "      <th id=\"T_8c0a8_level0_row4\" class=\"row_heading level0 row4\" >4</th>\n",
       "      <td id=\"T_8c0a8_row4_col0\" class=\"data row4 col0\" >0.6094</td>\n",
       "      <td id=\"T_8c0a8_row4_col1\" class=\"data row4 col1\" >0.6151</td>\n",
       "      <td id=\"T_8c0a8_row4_col2\" class=\"data row4 col2\" >0.8738</td>\n",
       "      <td id=\"T_8c0a8_row4_col3\" class=\"data row4 col3\" >0.6108</td>\n",
       "      <td id=\"T_8c0a8_row4_col4\" class=\"data row4 col4\" >0.7190</td>\n",
       "      <td id=\"T_8c0a8_row4_col5\" class=\"data row4 col5\" >0.1404</td>\n",
       "      <td id=\"T_8c0a8_row4_col6\" class=\"data row4 col6\" >0.1671</td>\n",
       "    </tr>\n",
       "    <tr>\n",
       "      <th id=\"T_8c0a8_level0_row5\" class=\"row_heading level0 row5\" >5</th>\n",
       "      <td id=\"T_8c0a8_row5_col0\" class=\"data row5 col0\" >0.6104</td>\n",
       "      <td id=\"T_8c0a8_row5_col1\" class=\"data row5 col1\" >0.6139</td>\n",
       "      <td id=\"T_8c0a8_row5_col2\" class=\"data row5 col2\" >0.8718</td>\n",
       "      <td id=\"T_8c0a8_row5_col3\" class=\"data row5 col3\" >0.6118</td>\n",
       "      <td id=\"T_8c0a8_row5_col4\" class=\"data row5 col4\" >0.7190</td>\n",
       "      <td id=\"T_8c0a8_row5_col5\" class=\"data row5 col5\" >0.1434</td>\n",
       "      <td id=\"T_8c0a8_row5_col6\" class=\"data row5 col6\" >0.1696</td>\n",
       "    </tr>\n",
       "    <tr>\n",
       "      <th id=\"T_8c0a8_level0_row6\" class=\"row_heading level0 row6\" >6</th>\n",
       "      <td id=\"T_8c0a8_row6_col0\" class=\"data row6 col0\" >0.6066</td>\n",
       "      <td id=\"T_8c0a8_row6_col1\" class=\"data row6 col1\" >0.6102</td>\n",
       "      <td id=\"T_8c0a8_row6_col2\" class=\"data row6 col2\" >0.8739</td>\n",
       "      <td id=\"T_8c0a8_row6_col3\" class=\"data row6 col3\" >0.6087</td>\n",
       "      <td id=\"T_8c0a8_row6_col4\" class=\"data row6 col4\" >0.7175</td>\n",
       "      <td id=\"T_8c0a8_row6_col5\" class=\"data row6 col5\" >0.1335</td>\n",
       "      <td id=\"T_8c0a8_row6_col6\" class=\"data row6 col6\" >0.1596</td>\n",
       "    </tr>\n",
       "    <tr>\n",
       "      <th id=\"T_8c0a8_level0_row7\" class=\"row_heading level0 row7\" >7</th>\n",
       "      <td id=\"T_8c0a8_row7_col0\" class=\"data row7 col0\" >0.6052</td>\n",
       "      <td id=\"T_8c0a8_row7_col1\" class=\"data row7 col1\" >0.6113</td>\n",
       "      <td id=\"T_8c0a8_row7_col2\" class=\"data row7 col2\" >0.8739</td>\n",
       "      <td id=\"T_8c0a8_row7_col3\" class=\"data row7 col3\" >0.6076</td>\n",
       "      <td id=\"T_8c0a8_row7_col4\" class=\"data row7 col4\" >0.7168</td>\n",
       "      <td id=\"T_8c0a8_row7_col5\" class=\"data row7 col5\" >0.1300</td>\n",
       "      <td id=\"T_8c0a8_row7_col6\" class=\"data row7 col6\" >0.1559</td>\n",
       "    </tr>\n",
       "    <tr>\n",
       "      <th id=\"T_8c0a8_level0_row8\" class=\"row_heading level0 row8\" >8</th>\n",
       "      <td id=\"T_8c0a8_row8_col0\" class=\"data row8 col0\" >0.6106</td>\n",
       "      <td id=\"T_8c0a8_row8_col1\" class=\"data row8 col1\" >0.6199</td>\n",
       "      <td id=\"T_8c0a8_row8_col2\" class=\"data row8 col2\" >0.8859</td>\n",
       "      <td id=\"T_8c0a8_row8_col3\" class=\"data row8 col3\" >0.6098</td>\n",
       "      <td id=\"T_8c0a8_row8_col4\" class=\"data row8 col4\" >0.7224</td>\n",
       "      <td id=\"T_8c0a8_row8_col5\" class=\"data row8 col5\" >0.1396</td>\n",
       "      <td id=\"T_8c0a8_row8_col6\" class=\"data row8 col6\" >0.1702</td>\n",
       "    </tr>\n",
       "    <tr>\n",
       "      <th id=\"T_8c0a8_level0_row9\" class=\"row_heading level0 row9\" >9</th>\n",
       "      <td id=\"T_8c0a8_row9_col0\" class=\"data row9 col0\" >0.6078</td>\n",
       "      <td id=\"T_8c0a8_row9_col1\" class=\"data row9 col1\" >0.6112</td>\n",
       "      <td id=\"T_8c0a8_row9_col2\" class=\"data row9 col2\" >0.8726</td>\n",
       "      <td id=\"T_8c0a8_row9_col3\" class=\"data row9 col3\" >0.6098</td>\n",
       "      <td id=\"T_8c0a8_row9_col4\" class=\"data row9 col4\" >0.7179</td>\n",
       "      <td id=\"T_8c0a8_row9_col5\" class=\"data row9 col5\" >0.1368</td>\n",
       "      <td id=\"T_8c0a8_row9_col6\" class=\"data row9 col6\" >0.1629</td>\n",
       "    </tr>\n",
       "    <tr>\n",
       "      <th id=\"T_8c0a8_level0_row10\" class=\"row_heading level0 row10\" >Mean</th>\n",
       "      <td id=\"T_8c0a8_row10_col0\" class=\"data row10 col0\" >0.6081</td>\n",
       "      <td id=\"T_8c0a8_row10_col1\" class=\"data row10 col1\" >0.6130</td>\n",
       "      <td id=\"T_8c0a8_row10_col2\" class=\"data row10 col2\" >0.8750</td>\n",
       "      <td id=\"T_8c0a8_row10_col3\" class=\"data row10 col3\" >0.6096</td>\n",
       "      <td id=\"T_8c0a8_row10_col4\" class=\"data row10 col4\" >0.7186</td>\n",
       "      <td id=\"T_8c0a8_row10_col5\" class=\"data row10 col5\" >0.1368</td>\n",
       "      <td id=\"T_8c0a8_row10_col6\" class=\"data row10 col6\" >0.1636</td>\n",
       "    </tr>\n",
       "    <tr>\n",
       "      <th id=\"T_8c0a8_level0_row11\" class=\"row_heading level0 row11\" >Std</th>\n",
       "      <td id=\"T_8c0a8_row11_col0\" class=\"data row11 col0\" >0.0019</td>\n",
       "      <td id=\"T_8c0a8_row11_col1\" class=\"data row11 col1\" >0.0031</td>\n",
       "      <td id=\"T_8c0a8_row11_col2\" class=\"data row11 col2\" >0.0045</td>\n",
       "      <td id=\"T_8c0a8_row11_col3\" class=\"data row11 col3\" >0.0013</td>\n",
       "      <td id=\"T_8c0a8_row11_col4\" class=\"data row11 col4\" >0.0017</td>\n",
       "      <td id=\"T_8c0a8_row11_col5\" class=\"data row11 col5\" >0.0042</td>\n",
       "      <td id=\"T_8c0a8_row11_col6\" class=\"data row11 col6\" >0.0050</td>\n",
       "    </tr>\n",
       "  </tbody>\n",
       "</table>\n"
      ],
      "text/plain": [
       "<pandas.io.formats.style.Styler at 0x7f9820326890>"
      ]
     },
     "metadata": {},
     "output_type": "display_data"
    },
    {
     "data": {
      "text/html": [],
      "text/plain": [
       "<IPython.core.display.HTML object>"
      ]
     },
     "metadata": {},
     "output_type": "display_data"
    },
    {
     "data": {
      "text/html": [],
      "text/plain": [
       "<IPython.core.display.HTML object>"
      ]
     },
     "metadata": {},
     "output_type": "display_data"
    },
    {
     "data": {
      "image/png": "[encoded data removed]",
      "text/plain": [
       "<Figure size 480x330 with 1 Axes>"
      ]
     },
     "metadata": {},
     "output_type": "display_data"
    },
    {
     "data": {
      "text/html": [],
      "text/plain": [
       "<IPython.core.display.HTML object>"
      ]
     },
     "metadata": {},
     "output_type": "display_data"
    },
    {
     "data": {
      "text/html": [
       "<style type=\"text/css\">\n",
       "#T_58a6b_row10_col0, #T_58a6b_row10_col1, #T_58a6b_row10_col2, #T_58a6b_row10_col3, #T_58a6b_row10_col4, #T_58a6b_row10_col5, #T_58a6b_row10_col6 {\n",
       "  background: yellow;\n",
       "}\n",
       "</style>\n",
       "<table id=\"T_58a6b\">\n",
       "  <thead>\n",
       "    <tr>\n",
       "      <th class=\"blank level0\" >&nbsp;</th>\n",
       "      <th id=\"T_58a6b_level0_col0\" class=\"col_heading level0 col0\" >Accuracy</th>\n",
       "      <th id=\"T_58a6b_level0_col1\" class=\"col_heading level0 col1\" >AUC</th>\n",
       "      <th id=\"T_58a6b_level0_col2\" class=\"col_heading level0 col2\" >Recall</th>\n",
       "      <th id=\"T_58a6b_level0_col3\" class=\"col_heading level0 col3\" >Prec.</th>\n",
       "      <th id=\"T_58a6b_level0_col4\" class=\"col_heading level0 col4\" >F1</th>\n",
       "      <th id=\"T_58a6b_level0_col5\" class=\"col_heading level0 col5\" >Kappa</th>\n",
       "      <th id=\"T_58a6b_level0_col6\" class=\"col_heading level0 col6\" >MCC</th>\n",
       "    </tr>\n",
       "    <tr>\n",
       "      <th class=\"index_name level0\" >Fold</th>\n",
       "      <th class=\"blank col0\" >&nbsp;</th>\n",
       "      <th class=\"blank col1\" >&nbsp;</th>\n",
       "      <th class=\"blank col2\" >&nbsp;</th>\n",
       "      <th class=\"blank col3\" >&nbsp;</th>\n",
       "      <th class=\"blank col4\" >&nbsp;</th>\n",
       "      <th class=\"blank col5\" >&nbsp;</th>\n",
       "      <th class=\"blank col6\" >&nbsp;</th>\n",
       "    </tr>\n",
       "  </thead>\n",
       "  <tbody>\n",
       "    <tr>\n",
       "      <th id=\"T_58a6b_level0_row0\" class=\"row_heading level0 row0\" >0</th>\n",
       "      <td id=\"T_58a6b_row0_col0\" class=\"data row0 col0\" >0.6111</td>\n",
       "      <td id=\"T_58a6b_row0_col1\" class=\"data row0 col1\" >0.6155</td>\n",
       "      <td id=\"T_58a6b_row0_col2\" class=\"data row0 col2\" >0.8846</td>\n",
       "      <td id=\"T_58a6b_row0_col3\" class=\"data row0 col3\" >0.6104</td>\n",
       "      <td id=\"T_58a6b_row0_col4\" class=\"data row0 col4\" >0.7223</td>\n",
       "      <td id=\"T_58a6b_row0_col5\" class=\"data row0 col5\" >0.1412</td>\n",
       "      <td id=\"T_58a6b_row0_col6\" class=\"data row0 col6\" >0.1714</td>\n",
       "    </tr>\n",
       "    <tr>\n",
       "      <th id=\"T_58a6b_level0_row1\" class=\"row_heading level0 row1\" >1</th>\n",
       "      <td id=\"T_58a6b_row1_col0\" class=\"data row1 col0\" >0.6181</td>\n",
       "      <td id=\"T_58a6b_row1_col1\" class=\"data row1 col1\" >0.6243</td>\n",
       "      <td id=\"T_58a6b_row1_col2\" class=\"data row1 col2\" >0.8879</td>\n",
       "      <td id=\"T_58a6b_row1_col3\" class=\"data row1 col3\" >0.6150</td>\n",
       "      <td id=\"T_58a6b_row1_col4\" class=\"data row1 col4\" >0.7267</td>\n",
       "      <td id=\"T_58a6b_row1_col5\" class=\"data row1 col5\" >0.1574</td>\n",
       "      <td id=\"T_58a6b_row1_col6\" class=\"data row1 col6\" >0.1900</td>\n",
       "    </tr>\n",
       "    <tr>\n",
       "      <th id=\"T_58a6b_level0_row2\" class=\"row_heading level0 row2\" >2</th>\n",
       "      <td id=\"T_58a6b_row2_col0\" class=\"data row2 col0\" >0.6119</td>\n",
       "      <td id=\"T_58a6b_row2_col1\" class=\"data row2 col1\" >0.6226</td>\n",
       "      <td id=\"T_58a6b_row2_col2\" class=\"data row2 col2\" >0.8796</td>\n",
       "      <td id=\"T_58a6b_row2_col3\" class=\"data row2 col3\" >0.6117</td>\n",
       "      <td id=\"T_58a6b_row2_col4\" class=\"data row2 col4\" >0.7216</td>\n",
       "      <td id=\"T_58a6b_row2_col5\" class=\"data row2 col5\" >0.1447</td>\n",
       "      <td id=\"T_58a6b_row2_col6\" class=\"data row2 col6\" >0.1735</td>\n",
       "    </tr>\n",
       "    <tr>\n",
       "      <th id=\"T_58a6b_level0_row3\" class=\"row_heading level0 row3\" >3</th>\n",
       "      <td id=\"T_58a6b_row3_col0\" class=\"data row3 col0\" >0.6101</td>\n",
       "      <td id=\"T_58a6b_row3_col1\" class=\"data row3 col1\" >0.6210</td>\n",
       "      <td id=\"T_58a6b_row3_col2\" class=\"data row3 col2\" >0.8837</td>\n",
       "      <td id=\"T_58a6b_row3_col3\" class=\"data row3 col3\" >0.6097</td>\n",
       "      <td id=\"T_58a6b_row3_col4\" class=\"data row3 col4\" >0.7216</td>\n",
       "      <td id=\"T_58a6b_row3_col5\" class=\"data row3 col5\" >0.1390</td>\n",
       "      <td id=\"T_58a6b_row3_col6\" class=\"data row3 col6\" >0.1687</td>\n",
       "    </tr>\n",
       "    <tr>\n",
       "      <th id=\"T_58a6b_level0_row4\" class=\"row_heading level0 row4\" >4</th>\n",
       "      <td id=\"T_58a6b_row4_col0\" class=\"data row4 col0\" >0.6138</td>\n",
       "      <td id=\"T_58a6b_row4_col1\" class=\"data row4 col1\" >0.6197</td>\n",
       "      <td id=\"T_58a6b_row4_col2\" class=\"data row4 col2\" >0.8870</td>\n",
       "      <td id=\"T_58a6b_row4_col3\" class=\"data row4 col3\" >0.6119</td>\n",
       "      <td id=\"T_58a6b_row4_col4\" class=\"data row4 col4\" >0.7242</td>\n",
       "      <td id=\"T_58a6b_row4_col5\" class=\"data row4 col5\" >0.1470</td>\n",
       "      <td id=\"T_58a6b_row4_col6\" class=\"data row4 col6\" >0.1786</td>\n",
       "    </tr>\n",
       "    <tr>\n",
       "      <th id=\"T_58a6b_level0_row5\" class=\"row_heading level0 row5\" >5</th>\n",
       "      <td id=\"T_58a6b_row5_col0\" class=\"data row5 col0\" >0.6134</td>\n",
       "      <td id=\"T_58a6b_row5_col1\" class=\"data row5 col1\" >0.6215</td>\n",
       "      <td id=\"T_58a6b_row5_col2\" class=\"data row5 col2\" >0.8840</td>\n",
       "      <td id=\"T_58a6b_row5_col3\" class=\"data row5 col3\" >0.6122</td>\n",
       "      <td id=\"T_58a6b_row5_col4\" class=\"data row5 col4\" >0.7234</td>\n",
       "      <td id=\"T_58a6b_row5_col5\" class=\"data row5 col5\" >0.1472</td>\n",
       "      <td id=\"T_58a6b_row5_col6\" class=\"data row5 col6\" >0.1777</td>\n",
       "    </tr>\n",
       "    <tr>\n",
       "      <th id=\"T_58a6b_level0_row6\" class=\"row_heading level0 row6\" >6</th>\n",
       "      <td id=\"T_58a6b_row6_col0\" class=\"data row6 col0\" >0.6139</td>\n",
       "      <td id=\"T_58a6b_row6_col1\" class=\"data row6 col1\" >0.6202</td>\n",
       "      <td id=\"T_58a6b_row6_col2\" class=\"data row6 col2\" >0.8865</td>\n",
       "      <td id=\"T_58a6b_row6_col3\" class=\"data row6 col3\" >0.6121</td>\n",
       "      <td id=\"T_58a6b_row6_col4\" class=\"data row6 col4\" >0.7242</td>\n",
       "      <td id=\"T_58a6b_row6_col5\" class=\"data row6 col5\" >0.1475</td>\n",
       "      <td id=\"T_58a6b_row6_col6\" class=\"data row6 col6\" >0.1789</td>\n",
       "    </tr>\n",
       "    <tr>\n",
       "      <th id=\"T_58a6b_level0_row7\" class=\"row_heading level0 row7\" >7</th>\n",
       "      <td id=\"T_58a6b_row7_col0\" class=\"data row7 col0\" >0.6090</td>\n",
       "      <td id=\"T_58a6b_row7_col1\" class=\"data row7 col1\" >0.6179</td>\n",
       "      <td id=\"T_58a6b_row7_col2\" class=\"data row7 col2\" >0.8744</td>\n",
       "      <td id=\"T_58a6b_row7_col3\" class=\"data row7 col3\" >0.6103</td>\n",
       "      <td id=\"T_58a6b_row7_col4\" class=\"data row7 col4\" >0.7189</td>\n",
       "      <td id=\"T_58a6b_row7_col5\" class=\"data row7 col5\" >0.1391</td>\n",
       "      <td id=\"T_58a6b_row7_col6\" class=\"data row7 col6\" >0.1659</td>\n",
       "    </tr>\n",
       "    <tr>\n",
       "      <th id=\"T_58a6b_level0_row8\" class=\"row_heading level0 row8\" >8</th>\n",
       "      <td id=\"T_58a6b_row8_col0\" class=\"data row8 col0\" >0.6146</td>\n",
       "      <td id=\"T_58a6b_row8_col1\" class=\"data row8 col1\" >0.6270</td>\n",
       "      <td id=\"T_58a6b_row8_col2\" class=\"data row8 col2\" >0.8856</td>\n",
       "      <td id=\"T_58a6b_row8_col3\" class=\"data row8 col3\" >0.6128</td>\n",
       "      <td id=\"T_58a6b_row8_col4\" class=\"data row8 col4\" >0.7243</td>\n",
       "      <td id=\"T_58a6b_row8_col5\" class=\"data row8 col5\" >0.1495</td>\n",
       "      <td id=\"T_58a6b_row8_col6\" class=\"data row8 col6\" >0.1808</td>\n",
       "    </tr>\n",
       "    <tr>\n",
       "      <th id=\"T_58a6b_level0_row9\" class=\"row_heading level0 row9\" >9</th>\n",
       "      <td id=\"T_58a6b_row9_col0\" class=\"data row9 col0\" >0.6137</td>\n",
       "      <td id=\"T_58a6b_row9_col1\" class=\"data row9 col1\" >0.6202</td>\n",
       "      <td id=\"T_58a6b_row9_col2\" class=\"data row9 col2\" >0.8803</td>\n",
       "      <td id=\"T_58a6b_row9_col3\" class=\"data row9 col3\" >0.6129</td>\n",
       "      <td id=\"T_58a6b_row9_col4\" class=\"data row9 col4\" >0.7226</td>\n",
       "      <td id=\"T_58a6b_row9_col5\" class=\"data row9 col5\" >0.1488</td>\n",
       "      <td id=\"T_58a6b_row9_col6\" class=\"data row9 col6\" >0.1781</td>\n",
       "    </tr>\n",
       "    <tr>\n",
       "      <th id=\"T_58a6b_level0_row10\" class=\"row_heading level0 row10\" >Mean</th>\n",
       "      <td id=\"T_58a6b_row10_col0\" class=\"data row10 col0\" >0.6130</td>\n",
       "      <td id=\"T_58a6b_row10_col1\" class=\"data row10 col1\" >0.6210</td>\n",
       "      <td id=\"T_58a6b_row10_col2\" class=\"data row10 col2\" >0.8834</td>\n",
       "      <td id=\"T_58a6b_row10_col3\" class=\"data row10 col3\" >0.6119</td>\n",
       "      <td id=\"T_58a6b_row10_col4\" class=\"data row10 col4\" >0.7230</td>\n",
       "      <td id=\"T_58a6b_row10_col5\" class=\"data row10 col5\" >0.1461</td>\n",
       "      <td id=\"T_58a6b_row10_col6\" class=\"data row10 col6\" >0.1764</td>\n",
       "    </tr>\n",
       "    <tr>\n",
       "      <th id=\"T_58a6b_level0_row11\" class=\"row_heading level0 row11\" >Std</th>\n",
       "      <td id=\"T_58a6b_row11_col0\" class=\"data row11 col0\" >0.0024</td>\n",
       "      <td id=\"T_58a6b_row11_col1\" class=\"data row11 col1\" >0.0030</td>\n",
       "      <td id=\"T_58a6b_row11_col2\" class=\"data row11 col2\" >0.0039</td>\n",
       "      <td id=\"T_58a6b_row11_col3\" class=\"data row11 col3\" >0.0015</td>\n",
       "      <td id=\"T_58a6b_row11_col4\" class=\"data row11 col4\" >0.0020</td>\n",
       "      <td id=\"T_58a6b_row11_col5\" class=\"data row11 col5\" >0.0053</td>\n",
       "      <td id=\"T_58a6b_row11_col6\" class=\"data row11 col6\" >0.0065</td>\n",
       "    </tr>\n",
       "  </tbody>\n",
       "</table>\n"
      ],
      "text/plain": [
       "<pandas.io.formats.style.Styler at 0x7f98214b1db0>"
      ]
     },
     "metadata": {},
     "output_type": "display_data"
    },
    {
     "data": {
      "text/html": [],
      "text/plain": [
       "<IPython.core.display.HTML object>"
      ]
     },
     "metadata": {},
     "output_type": "display_data"
    },
    {
     "data": {
      "text/html": [],
      "text/plain": [
       "<IPython.core.display.HTML object>"
      ]
     },
     "metadata": {},
     "output_type": "display_data"
    },
    {
     "data": {
      "image/png": "[encoded data removed]",
      "text/plain": [
       "<Figure size 480x330 with 1 Axes>"
      ]
     },
     "metadata": {},
     "output_type": "display_data"
    },
    {
     "data": {
      "text/html": [],
      "text/plain": [
       "<IPython.core.display.HTML object>"
      ]
     },
     "metadata": {},
     "output_type": "display_data"
    },
    {
     "data": {
      "text/html": [
       "<style type=\"text/css\">\n",
       "#T_cb173_row10_col0, #T_cb173_row10_col1, #T_cb173_row10_col2, #T_cb173_row10_col3, #T_cb173_row10_col4, #T_cb173_row10_col5, #T_cb173_row10_col6 {\n",
       "  background: yellow;\n",
       "}\n",
       "</style>\n",
       "<table id=\"T_cb173\">\n",
       "  <thead>\n",
       "    <tr>\n",
       "      <th class=\"blank level0\" >&nbsp;</th>\n",
       "      <th id=\"T_cb173_level0_col0\" class=\"col_heading level0 col0\" >Accuracy</th>\n",
       "      <th id=\"T_cb173_level0_col1\" class=\"col_heading level0 col1\" >AUC</th>\n",
       "      <th id=\"T_cb173_level0_col2\" class=\"col_heading level0 col2\" >Recall</th>\n",
       "      <th id=\"T_cb173_level0_col3\" class=\"col_heading level0 col3\" >Prec.</th>\n",
       "      <th id=\"T_cb173_level0_col4\" class=\"col_heading level0 col4\" >F1</th>\n",
       "      <th id=\"T_cb173_level0_col5\" class=\"col_heading level0 col5\" >Kappa</th>\n",
       "      <th id=\"T_cb173_level0_col6\" class=\"col_heading level0 col6\" >MCC</th>\n",
       "    </tr>\n",
       "    <tr>\n",
       "      <th class=\"index_name level0\" >Fold</th>\n",
       "      <th class=\"blank col0\" >&nbsp;</th>\n",
       "      <th class=\"blank col1\" >&nbsp;</th>\n",
       "      <th class=\"blank col2\" >&nbsp;</th>\n",
       "      <th class=\"blank col3\" >&nbsp;</th>\n",
       "      <th class=\"blank col4\" >&nbsp;</th>\n",
       "      <th class=\"blank col5\" >&nbsp;</th>\n",
       "      <th class=\"blank col6\" >&nbsp;</th>\n",
       "    </tr>\n",
       "  </thead>\n",
       "  <tbody>\n",
       "    <tr>\n",
       "      <th id=\"T_cb173_level0_row0\" class=\"row_heading level0 row0\" >0</th>\n",
       "      <td id=\"T_cb173_row0_col0\" class=\"data row0 col0\" >0.6098</td>\n",
       "      <td id=\"T_cb173_row0_col1\" class=\"data row0 col1\" >0.6130</td>\n",
       "      <td id=\"T_cb173_row0_col2\" class=\"data row0 col2\" >0.8878</td>\n",
       "      <td id=\"T_cb173_row0_col3\" class=\"data row0 col3\" >0.6089</td>\n",
       "      <td id=\"T_cb173_row0_col4\" class=\"data row0 col4\" >0.7224</td>\n",
       "      <td id=\"T_cb173_row0_col5\" class=\"data row0 col5\" >0.1369</td>\n",
       "      <td id=\"T_cb173_row0_col6\" class=\"data row0 col6\" >0.1680</td>\n",
       "    </tr>\n",
       "    <tr>\n",
       "      <th id=\"T_cb173_level0_row1\" class=\"row_heading level0 row1\" >1</th>\n",
       "      <td id=\"T_cb173_row1_col0\" class=\"data row1 col0\" >0.6153</td>\n",
       "      <td id=\"T_cb173_row1_col1\" class=\"data row1 col1\" >0.6210</td>\n",
       "      <td id=\"T_cb173_row1_col2\" class=\"data row1 col2\" >0.8830</td>\n",
       "      <td id=\"T_cb173_row1_col3\" class=\"data row1 col3\" >0.6137</td>\n",
       "      <td id=\"T_cb173_row1_col4\" class=\"data row1 col4\" >0.7241</td>\n",
       "      <td id=\"T_cb173_row1_col5\" class=\"data row1 col5\" >0.1520</td>\n",
       "      <td id=\"T_cb173_row1_col6\" class=\"data row1 col6\" >0.1824</td>\n",
       "    </tr>\n",
       "    <tr>\n",
       "      <th id=\"T_cb173_level0_row2\" class=\"row_heading level0 row2\" >2</th>\n",
       "      <td id=\"T_cb173_row2_col0\" class=\"data row2 col0\" >0.6093</td>\n",
       "      <td id=\"T_cb173_row2_col1\" class=\"data row2 col1\" >0.6202</td>\n",
       "      <td id=\"T_cb173_row2_col2\" class=\"data row2 col2\" >0.8832</td>\n",
       "      <td id=\"T_cb173_row2_col3\" class=\"data row2 col3\" >0.6092</td>\n",
       "      <td id=\"T_cb173_row2_col4\" class=\"data row2 col4\" >0.7210</td>\n",
       "      <td id=\"T_cb173_row2_col5\" class=\"data row2 col5\" >0.1370</td>\n",
       "      <td id=\"T_cb173_row2_col6\" class=\"data row2 col6\" >0.1665</td>\n",
       "    </tr>\n",
       "    <tr>\n",
       "      <th id=\"T_cb173_level0_row3\" class=\"row_heading level0 row3\" >3</th>\n",
       "      <td id=\"T_cb173_row3_col0\" class=\"data row3 col0\" >0.6095</td>\n",
       "      <td id=\"T_cb173_row3_col1\" class=\"data row3 col1\" >0.6197</td>\n",
       "      <td id=\"T_cb173_row3_col2\" class=\"data row3 col2\" >0.8822</td>\n",
       "      <td id=\"T_cb173_row3_col3\" class=\"data row3 col3\" >0.6095</td>\n",
       "      <td id=\"T_cb173_row3_col4\" class=\"data row3 col4\" >0.7210</td>\n",
       "      <td id=\"T_cb173_row3_col5\" class=\"data row3 col5\" >0.1381</td>\n",
       "      <td id=\"T_cb173_row3_col6\" class=\"data row3 col6\" >0.1673</td>\n",
       "    </tr>\n",
       "    <tr>\n",
       "      <th id=\"T_cb173_level0_row4\" class=\"row_heading level0 row4\" >4</th>\n",
       "      <td id=\"T_cb173_row4_col0\" class=\"data row4 col0\" >0.6125</td>\n",
       "      <td id=\"T_cb173_row4_col1\" class=\"data row4 col1\" >0.6202</td>\n",
       "      <td id=\"T_cb173_row4_col2\" class=\"data row4 col2\" >0.8850</td>\n",
       "      <td id=\"T_cb173_row4_col3\" class=\"data row4 col3\" >0.6113</td>\n",
       "      <td id=\"T_cb173_row4_col4\" class=\"data row4 col4\" >0.7231</td>\n",
       "      <td id=\"T_cb173_row4_col5\" class=\"data row4 col5\" >0.1445</td>\n",
       "      <td id=\"T_cb173_row4_col6\" class=\"data row4 col6\" >0.1752</td>\n",
       "    </tr>\n",
       "    <tr>\n",
       "      <th id=\"T_cb173_level0_row5\" class=\"row_heading level0 row5\" >5</th>\n",
       "      <td id=\"T_cb173_row5_col0\" class=\"data row5 col0\" >0.6137</td>\n",
       "      <td id=\"T_cb173_row5_col1\" class=\"data row5 col1\" >0.6198</td>\n",
       "      <td id=\"T_cb173_row5_col2\" class=\"data row5 col2\" >0.8874</td>\n",
       "      <td id=\"T_cb173_row5_col3\" class=\"data row5 col3\" >0.6118</td>\n",
       "      <td id=\"T_cb173_row5_col4\" class=\"data row5 col4\" >0.7243</td>\n",
       "      <td id=\"T_cb173_row5_col5\" class=\"data row5 col5\" >0.1468</td>\n",
       "      <td id=\"T_cb173_row5_col6\" class=\"data row5 col6\" >0.1784</td>\n",
       "    </tr>\n",
       "    <tr>\n",
       "      <th id=\"T_cb173_level0_row6\" class=\"row_heading level0 row6\" >6</th>\n",
       "      <td id=\"T_cb173_row6_col0\" class=\"data row6 col0\" >0.6108</td>\n",
       "      <td id=\"T_cb173_row6_col1\" class=\"data row6 col1\" >0.6177</td>\n",
       "      <td id=\"T_cb173_row6_col2\" class=\"data row6 col2\" >0.8864</td>\n",
       "      <td id=\"T_cb173_row6_col3\" class=\"data row6 col3\" >0.6099</td>\n",
       "      <td id=\"T_cb173_row6_col4\" class=\"data row6 col4\" >0.7226</td>\n",
       "      <td id=\"T_cb173_row6_col5\" class=\"data row6 col5\" >0.1400</td>\n",
       "      <td id=\"T_cb173_row6_col6\" class=\"data row6 col6\" >0.1708</td>\n",
       "    </tr>\n",
       "    <tr>\n",
       "      <th id=\"T_cb173_level0_row7\" class=\"row_heading level0 row7\" >7</th>\n",
       "      <td id=\"T_cb173_row7_col0\" class=\"data row7 col0\" >0.6084</td>\n",
       "      <td id=\"T_cb173_row7_col1\" class=\"data row7 col1\" >0.6161</td>\n",
       "      <td id=\"T_cb173_row7_col2\" class=\"data row7 col2\" >0.8777</td>\n",
       "      <td id=\"T_cb173_row7_col3\" class=\"data row7 col3\" >0.6094</td>\n",
       "      <td id=\"T_cb173_row7_col4\" class=\"data row7 col4\" >0.7193</td>\n",
       "      <td id=\"T_cb173_row7_col5\" class=\"data row7 col5\" >0.1366</td>\n",
       "      <td id=\"T_cb173_row7_col6\" class=\"data row7 col6\" >0.1642</td>\n",
       "    </tr>\n",
       "    <tr>\n",
       "      <th id=\"T_cb173_level0_row8\" class=\"row_heading level0 row8\" >8</th>\n",
       "      <td id=\"T_cb173_row8_col0\" class=\"data row8 col0\" >0.6144</td>\n",
       "      <td id=\"T_cb173_row8_col1\" class=\"data row8 col1\" >0.6255</td>\n",
       "      <td id=\"T_cb173_row8_col2\" class=\"data row8 col2\" >0.8867</td>\n",
       "      <td id=\"T_cb173_row8_col3\" class=\"data row8 col3\" >0.6124</td>\n",
       "      <td id=\"T_cb173_row8_col4\" class=\"data row8 col4\" >0.7245</td>\n",
       "      <td id=\"T_cb173_row8_col5\" class=\"data row8 col5\" >0.1486</td>\n",
       "      <td id=\"T_cb173_row8_col6\" class=\"data row8 col6\" >0.1801</td>\n",
       "    </tr>\n",
       "    <tr>\n",
       "      <th id=\"T_cb173_level0_row9\" class=\"row_heading level0 row9\" >9</th>\n",
       "      <td id=\"T_cb173_row9_col0\" class=\"data row9 col0\" >0.6116</td>\n",
       "      <td id=\"T_cb173_row9_col1\" class=\"data row9 col1\" >0.6170</td>\n",
       "      <td id=\"T_cb173_row9_col2\" class=\"data row9 col2\" >0.8793</td>\n",
       "      <td id=\"T_cb173_row9_col3\" class=\"data row9 col3\" >0.6115</td>\n",
       "      <td id=\"T_cb173_row9_col4\" class=\"data row9 col4\" >0.7214</td>\n",
       "      <td id=\"T_cb173_row9_col5\" class=\"data row9 col5\" >0.1442</td>\n",
       "      <td id=\"T_cb173_row9_col6\" class=\"data row9 col6\" >0.1729</td>\n",
       "    </tr>\n",
       "    <tr>\n",
       "      <th id=\"T_cb173_level0_row10\" class=\"row_heading level0 row10\" >Mean</th>\n",
       "      <td id=\"T_cb173_row10_col0\" class=\"data row10 col0\" >0.6115</td>\n",
       "      <td id=\"T_cb173_row10_col1\" class=\"data row10 col1\" >0.6190</td>\n",
       "      <td id=\"T_cb173_row10_col2\" class=\"data row10 col2\" >0.8839</td>\n",
       "      <td id=\"T_cb173_row10_col3\" class=\"data row10 col3\" >0.6108</td>\n",
       "      <td id=\"T_cb173_row10_col4\" class=\"data row10 col4\" >0.7224</td>\n",
       "      <td id=\"T_cb173_row10_col5\" class=\"data row10 col5\" >0.1425</td>\n",
       "      <td id=\"T_cb173_row10_col6\" class=\"data row10 col6\" >0.1726</td>\n",
       "    </tr>\n",
       "    <tr>\n",
       "      <th id=\"T_cb173_level0_row11\" class=\"row_heading level0 row11\" >Std</th>\n",
       "      <td id=\"T_cb173_row11_col0\" class=\"data row11 col0\" >0.0022</td>\n",
       "      <td id=\"T_cb173_row11_col1\" class=\"data row11 col1\" >0.0032</td>\n",
       "      <td id=\"T_cb173_row11_col2\" class=\"data row11 col2\" >0.0033</td>\n",
       "      <td id=\"T_cb173_row11_col3\" class=\"data row11 col3\" >0.0015</td>\n",
       "      <td id=\"T_cb173_row11_col4\" class=\"data row11 col4\" >0.0016</td>\n",
       "      <td id=\"T_cb173_row11_col5\" class=\"data row11 col5\" >0.0052</td>\n",
       "      <td id=\"T_cb173_row11_col6\" class=\"data row11 col6\" >0.0060</td>\n",
       "    </tr>\n",
       "  </tbody>\n",
       "</table>\n"
      ],
      "text/plain": [
       "<pandas.io.formats.style.Styler at 0x7f98204e0a30>"
      ]
     },
     "metadata": {},
     "output_type": "display_data"
    },
    {
     "data": {
      "text/html": [],
      "text/plain": [
       "<IPython.core.display.HTML object>"
      ]
     },
     "metadata": {},
     "output_type": "display_data"
    },
    {
     "data": {
      "text/html": [],
      "text/plain": [
       "<IPython.core.display.HTML object>"
      ]
     },
     "metadata": {},
     "output_type": "display_data"
    },
    {
     "data": {
      "image/png": "[encoded data removed]",
      "text/plain": [
       "<Figure size 480x330 with 1 Axes>"
      ]
     },
     "metadata": {},
     "output_type": "display_data"
    },
    {
     "data": {
      "text/html": [],
      "text/plain": [
       "<IPython.core.display.HTML object>"
      ]
     },
     "metadata": {},
     "output_type": "display_data"
    },
    {
     "data": {
      "text/html": [
       "<style type=\"text/css\">\n",
       "#T_a4a2d_row10_col0, #T_a4a2d_row10_col1, #T_a4a2d_row10_col2, #T_a4a2d_row10_col3, #T_a4a2d_row10_col4, #T_a4a2d_row10_col5, #T_a4a2d_row10_col6 {\n",
       "  background: yellow;\n",
       "}\n",
       "</style>\n",
       "<table id=\"T_a4a2d\">\n",
       "  <thead>\n",
       "    <tr>\n",
       "      <th class=\"blank level0\" >&nbsp;</th>\n",
       "      <th id=\"T_a4a2d_level0_col0\" class=\"col_heading level0 col0\" >Accuracy</th>\n",
       "      <th id=\"T_a4a2d_level0_col1\" class=\"col_heading level0 col1\" >AUC</th>\n",
       "      <th id=\"T_a4a2d_level0_col2\" class=\"col_heading level0 col2\" >Recall</th>\n",
       "      <th id=\"T_a4a2d_level0_col3\" class=\"col_heading level0 col3\" >Prec.</th>\n",
       "      <th id=\"T_a4a2d_level0_col4\" class=\"col_heading level0 col4\" >F1</th>\n",
       "      <th id=\"T_a4a2d_level0_col5\" class=\"col_heading level0 col5\" >Kappa</th>\n",
       "      <th id=\"T_a4a2d_level0_col6\" class=\"col_heading level0 col6\" >MCC</th>\n",
       "    </tr>\n",
       "    <tr>\n",
       "      <th class=\"index_name level0\" >Fold</th>\n",
       "      <th class=\"blank col0\" >&nbsp;</th>\n",
       "      <th class=\"blank col1\" >&nbsp;</th>\n",
       "      <th class=\"blank col2\" >&nbsp;</th>\n",
       "      <th class=\"blank col3\" >&nbsp;</th>\n",
       "      <th class=\"blank col4\" >&nbsp;</th>\n",
       "      <th class=\"blank col5\" >&nbsp;</th>\n",
       "      <th class=\"blank col6\" >&nbsp;</th>\n",
       "    </tr>\n",
       "  </thead>\n",
       "  <tbody>\n",
       "    <tr>\n",
       "      <th id=\"T_a4a2d_level0_row0\" class=\"row_heading level0 row0\" >0</th>\n",
       "      <td id=\"T_a4a2d_row0_col0\" class=\"data row0 col0\" >0.5899</td>\n",
       "      <td id=\"T_a4a2d_row0_col1\" class=\"data row0 col1\" >0.5959</td>\n",
       "      <td id=\"T_a4a2d_row0_col2\" class=\"data row0 col2\" >0.7693</td>\n",
       "      <td id=\"T_a4a2d_row0_col3\" class=\"data row0 col3\" >0.6126</td>\n",
       "      <td id=\"T_a4a2d_row0_col4\" class=\"data row0 col4\" >0.6821</td>\n",
       "      <td id=\"T_a4a2d_row0_col5\" class=\"data row0 col5\" >0.1250</td>\n",
       "      <td id=\"T_a4a2d_row0_col6\" class=\"data row0 col6\" >0.1316</td>\n",
       "    </tr>\n",
       "    <tr>\n",
       "      <th id=\"T_a4a2d_level0_row1\" class=\"row_heading level0 row1\" >1</th>\n",
       "      <td id=\"T_a4a2d_row1_col0\" class=\"data row1 col0\" >0.5981</td>\n",
       "      <td id=\"T_a4a2d_row1_col1\" class=\"data row1 col1\" >0.5979</td>\n",
       "      <td id=\"T_a4a2d_row1_col2\" class=\"data row1 col2\" >0.7687</td>\n",
       "      <td id=\"T_a4a2d_row1_col3\" class=\"data row1 col3\" >0.6198</td>\n",
       "      <td id=\"T_a4a2d_row1_col4\" class=\"data row1 col4\" >0.6863</td>\n",
       "      <td id=\"T_a4a2d_row1_col5\" class=\"data row1 col5\" >0.1449</td>\n",
       "      <td id=\"T_a4a2d_row1_col6\" class=\"data row1 col6\" >0.1515</td>\n",
       "    </tr>\n",
       "    <tr>\n",
       "      <th id=\"T_a4a2d_level0_row2\" class=\"row_heading level0 row2\" >2</th>\n",
       "      <td id=\"T_a4a2d_row2_col0\" class=\"data row2 col0\" >0.5939</td>\n",
       "      <td id=\"T_a4a2d_row2_col1\" class=\"data row2 col1\" >0.5999</td>\n",
       "      <td id=\"T_a4a2d_row2_col2\" class=\"data row2 col2\" >0.7684</td>\n",
       "      <td id=\"T_a4a2d_row2_col3\" class=\"data row2 col3\" >0.6162</td>\n",
       "      <td id=\"T_a4a2d_row2_col4\" class=\"data row2 col4\" >0.6839</td>\n",
       "      <td id=\"T_a4a2d_row2_col5\" class=\"data row2 col5\" >0.1350</td>\n",
       "      <td id=\"T_a4a2d_row2_col6\" class=\"data row2 col6\" >0.1415</td>\n",
       "    </tr>\n",
       "    <tr>\n",
       "      <th id=\"T_a4a2d_level0_row3\" class=\"row_heading level0 row3\" >3</th>\n",
       "      <td id=\"T_a4a2d_row3_col0\" class=\"data row3 col0\" >0.5941</td>\n",
       "      <td id=\"T_a4a2d_row3_col1\" class=\"data row3 col1\" >0.5986</td>\n",
       "      <td id=\"T_a4a2d_row3_col2\" class=\"data row3 col2\" >0.7664</td>\n",
       "      <td id=\"T_a4a2d_row3_col3\" class=\"data row3 col3\" >0.6167</td>\n",
       "      <td id=\"T_a4a2d_row3_col4\" class=\"data row3 col4\" >0.6835</td>\n",
       "      <td id=\"T_a4a2d_row3_col5\" class=\"data row3 col5\" >0.1360</td>\n",
       "      <td id=\"T_a4a2d_row3_col6\" class=\"data row3 col6\" >0.1424</td>\n",
       "    </tr>\n",
       "    <tr>\n",
       "      <th id=\"T_a4a2d_level0_row4\" class=\"row_heading level0 row4\" >4</th>\n",
       "      <td id=\"T_a4a2d_row4_col0\" class=\"data row4 col0\" >0.5967</td>\n",
       "      <td id=\"T_a4a2d_row4_col1\" class=\"data row4 col1\" >0.5981</td>\n",
       "      <td id=\"T_a4a2d_row4_col2\" class=\"data row4 col2\" >0.7680</td>\n",
       "      <td id=\"T_a4a2d_row4_col3\" class=\"data row4 col3\" >0.6186</td>\n",
       "      <td id=\"T_a4a2d_row4_col4\" class=\"data row4 col4\" >0.6853</td>\n",
       "      <td id=\"T_a4a2d_row4_col5\" class=\"data row4 col5\" >0.1416</td>\n",
       "      <td id=\"T_a4a2d_row4_col6\" class=\"data row4 col6\" >0.1482</td>\n",
       "    </tr>\n",
       "    <tr>\n",
       "      <th id=\"T_a4a2d_level0_row5\" class=\"row_heading level0 row5\" >5</th>\n",
       "      <td id=\"T_a4a2d_row5_col0\" class=\"data row5 col0\" >0.5976</td>\n",
       "      <td id=\"T_a4a2d_row5_col1\" class=\"data row5 col1\" >0.5995</td>\n",
       "      <td id=\"T_a4a2d_row5_col2\" class=\"data row5 col2\" >0.7694</td>\n",
       "      <td id=\"T_a4a2d_row5_col3\" class=\"data row5 col3\" >0.6192</td>\n",
       "      <td id=\"T_a4a2d_row5_col4\" class=\"data row5 col4\" >0.6862</td>\n",
       "      <td id=\"T_a4a2d_row5_col5\" class=\"data row5 col5\" >0.1434</td>\n",
       "      <td id=\"T_a4a2d_row5_col6\" class=\"data row5 col6\" >0.1501</td>\n",
       "    </tr>\n",
       "    <tr>\n",
       "      <th id=\"T_a4a2d_level0_row6\" class=\"row_heading level0 row6\" >6</th>\n",
       "      <td id=\"T_a4a2d_row6_col0\" class=\"data row6 col0\" >0.5944</td>\n",
       "      <td id=\"T_a4a2d_row6_col1\" class=\"data row6 col1\" >0.5995</td>\n",
       "      <td id=\"T_a4a2d_row6_col2\" class=\"data row6 col2\" >0.7691</td>\n",
       "      <td id=\"T_a4a2d_row6_col3\" class=\"data row6 col3\" >0.6165</td>\n",
       "      <td id=\"T_a4a2d_row6_col4\" class=\"data row6 col4\" >0.6844</td>\n",
       "      <td id=\"T_a4a2d_row6_col5\" class=\"data row6 col5\" >0.1359</td>\n",
       "      <td id=\"T_a4a2d_row6_col6\" class=\"data row6 col6\" >0.1425</td>\n",
       "    </tr>\n",
       "    <tr>\n",
       "      <th id=\"T_a4a2d_level0_row7\" class=\"row_heading level0 row7\" >7</th>\n",
       "      <td id=\"T_a4a2d_row7_col0\" class=\"data row7 col0\" >0.5940</td>\n",
       "      <td id=\"T_a4a2d_row7_col1\" class=\"data row7 col1\" >0.5991</td>\n",
       "      <td id=\"T_a4a2d_row7_col2\" class=\"data row7 col2\" >0.7587</td>\n",
       "      <td id=\"T_a4a2d_row7_col3\" class=\"data row7 col3\" >0.6180</td>\n",
       "      <td id=\"T_a4a2d_row7_col4\" class=\"data row7 col4\" >0.6812</td>\n",
       "      <td id=\"T_a4a2d_row7_col5\" class=\"data row7 col5\" >0.1380</td>\n",
       "      <td id=\"T_a4a2d_row7_col6\" class=\"data row7 col6\" >0.1435</td>\n",
       "    </tr>\n",
       "    <tr>\n",
       "      <th id=\"T_a4a2d_level0_row8\" class=\"row_heading level0 row8\" >8</th>\n",
       "      <td id=\"T_a4a2d_row8_col0\" class=\"data row8 col0\" >0.5960</td>\n",
       "      <td id=\"T_a4a2d_row8_col1\" class=\"data row8 col1\" >0.6035</td>\n",
       "      <td id=\"T_a4a2d_row8_col2\" class=\"data row8 col2\" >0.7670</td>\n",
       "      <td id=\"T_a4a2d_row8_col3\" class=\"data row8 col3\" >0.6182</td>\n",
       "      <td id=\"T_a4a2d_row8_col4\" class=\"data row8 col4\" >0.6846</td>\n",
       "      <td id=\"T_a4a2d_row8_col5\" class=\"data row8 col5\" >0.1403</td>\n",
       "      <td id=\"T_a4a2d_row8_col6\" class=\"data row8 col6\" >0.1467</td>\n",
       "    </tr>\n",
       "    <tr>\n",
       "      <th id=\"T_a4a2d_level0_row9\" class=\"row_heading level0 row9\" >9</th>\n",
       "      <td id=\"T_a4a2d_row9_col0\" class=\"data row9 col0\" >0.5952</td>\n",
       "      <td id=\"T_a4a2d_row9_col1\" class=\"data row9 col1\" >0.5985</td>\n",
       "      <td id=\"T_a4a2d_row9_col2\" class=\"data row9 col2\" >0.7640</td>\n",
       "      <td id=\"T_a4a2d_row9_col3\" class=\"data row9 col3\" >0.6181</td>\n",
       "      <td id=\"T_a4a2d_row9_col4\" class=\"data row9 col4\" >0.6833</td>\n",
       "      <td id=\"T_a4a2d_row9_col5\" class=\"data row9 col5\" >0.1392</td>\n",
       "      <td id=\"T_a4a2d_row9_col6\" class=\"data row9 col6\" >0.1454</td>\n",
       "    </tr>\n",
       "    <tr>\n",
       "      <th id=\"T_a4a2d_level0_row10\" class=\"row_heading level0 row10\" >Mean</th>\n",
       "      <td id=\"T_a4a2d_row10_col0\" class=\"data row10 col0\" >0.5950</td>\n",
       "      <td id=\"T_a4a2d_row10_col1\" class=\"data row10 col1\" >0.5990</td>\n",
       "      <td id=\"T_a4a2d_row10_col2\" class=\"data row10 col2\" >0.7669</td>\n",
       "      <td id=\"T_a4a2d_row10_col3\" class=\"data row10 col3\" >0.6174</td>\n",
       "      <td id=\"T_a4a2d_row10_col4\" class=\"data row10 col4\" >0.6841</td>\n",
       "      <td id=\"T_a4a2d_row10_col5\" class=\"data row10 col5\" >0.1379</td>\n",
       "      <td id=\"T_a4a2d_row10_col6\" class=\"data row10 col6\" >0.1443</td>\n",
       "    </tr>\n",
       "    <tr>\n",
       "      <th id=\"T_a4a2d_level0_row11\" class=\"row_heading level0 row11\" >Std</th>\n",
       "      <td id=\"T_a4a2d_row11_col0\" class=\"data row11 col0\" >0.0022</td>\n",
       "      <td id=\"T_a4a2d_row11_col1\" class=\"data row11 col1\" >0.0018</td>\n",
       "      <td id=\"T_a4a2d_row11_col2\" class=\"data row11 col2\" >0.0032</td>\n",
       "      <td id=\"T_a4a2d_row11_col3\" class=\"data row11 col3\" >0.0019</td>\n",
       "      <td id=\"T_a4a2d_row11_col4\" class=\"data row11 col4\" >0.0016</td>\n",
       "      <td id=\"T_a4a2d_row11_col5\" class=\"data row11 col5\" >0.0053</td>\n",
       "      <td id=\"T_a4a2d_row11_col6\" class=\"data row11 col6\" >0.0053</td>\n",
       "    </tr>\n",
       "  </tbody>\n",
       "</table>\n"
      ],
      "text/plain": [
       "<pandas.io.formats.style.Styler at 0x7f98204e0910>"
      ]
     },
     "metadata": {},
     "output_type": "display_data"
    },
    {
     "data": {
      "text/html": [],
      "text/plain": [
       "<IPython.core.display.HTML object>"
      ]
     },
     "metadata": {},
     "output_type": "display_data"
    },
    {
     "data": {
      "text/html": [],
      "text/plain": [
       "<IPython.core.display.HTML object>"
      ]
     },
     "metadata": {},
     "output_type": "display_data"
    },
    {
     "data": {
      "image/png": "[encoded data removed]",
      "text/plain": [
       "<Figure size 480x330 with 1 Axes>"
      ]
     },
     "metadata": {},
     "output_type": "display_data"
    }
   ],
   "source": [
    "regression_model_ada, regression_model_lightgbm, regression_model_gbc, regression_model_rf = model.common.create_models(train_data, target_column)"
   ]
  },
  {
   "cell_type": "code",
   "execution_count": 7,
   "metadata": {
    "execution": {
     "iopub.execute_input": "2023-07-03T23:08:16.412820Z",
     "iopub.status.busy": "2023-07-03T23:08:16.412423Z",
     "iopub.status.idle": "2023-07-03T23:19:39.977144Z",
     "shell.execute_reply": "2023-07-03T23:19:39.975320Z",
     "shell.execute_reply.started": "2023-07-03T23:08:16.412785Z"
    },
    "scrolled": true
   },
   "outputs": [
    {
     "data": {
      "text/html": [
       "<style type=\"text/css\">\n",
       "#T_0ce8b_row11_col1 {\n",
       "  background-color: lightgreen;\n",
       "}\n",
       "</style>\n",
       "<table id=\"T_0ce8b\">\n",
       "  <thead>\n",
       "    <tr>\n",
       "      <th class=\"blank level0\" >&nbsp;</th>\n",
       "      <th id=\"T_0ce8b_level0_col0\" class=\"col_heading level0 col0\" >Description</th>\n",
       "      <th id=\"T_0ce8b_level0_col1\" class=\"col_heading level0 col1\" >Value</th>\n",
       "    </tr>\n",
       "  </thead>\n",
       "  <tbody>\n",
       "    <tr>\n",
       "      <th id=\"T_0ce8b_level0_row0\" class=\"row_heading level0 row0\" >0</th>\n",
       "      <td id=\"T_0ce8b_row0_col0\" class=\"data row0 col0\" >Session id</td>\n",
       "      <td id=\"T_0ce8b_row0_col1\" class=\"data row0 col1\" >3263</td>\n",
       "    </tr>\n",
       "    <tr>\n",
       "      <th id=\"T_0ce8b_level0_row1\" class=\"row_heading level0 row1\" >1</th>\n",
       "      <td id=\"T_0ce8b_row1_col0\" class=\"data row1 col0\" >Target</td>\n",
       "      <td id=\"T_0ce8b_row1_col1\" class=\"data row1 col1\" >batting_1hits_recorded</td>\n",
       "    </tr>\n",
       "    <tr>\n",
       "      <th id=\"T_0ce8b_level0_row2\" class=\"row_heading level0 row2\" >2</th>\n",
       "      <td id=\"T_0ce8b_row2_col0\" class=\"data row2 col0\" >Target type</td>\n",
       "      <td id=\"T_0ce8b_row2_col1\" class=\"data row2 col1\" >Binary</td>\n",
       "    </tr>\n",
       "    <tr>\n",
       "      <th id=\"T_0ce8b_level0_row3\" class=\"row_heading level0 row3\" >3</th>\n",
       "      <td id=\"T_0ce8b_row3_col0\" class=\"data row3 col0\" >Original data shape</td>\n",
       "      <td id=\"T_0ce8b_row3_col1\" class=\"data row3 col1\" >(285090, 21)</td>\n",
       "    </tr>\n",
       "    <tr>\n",
       "      <th id=\"T_0ce8b_level0_row4\" class=\"row_heading level0 row4\" >4</th>\n",
       "      <td id=\"T_0ce8b_row4_col0\" class=\"data row4 col0\" >Transformed data shape</td>\n",
       "      <td id=\"T_0ce8b_row4_col1\" class=\"data row4 col1\" >(285090, 15)</td>\n",
       "    </tr>\n",
       "    <tr>\n",
       "      <th id=\"T_0ce8b_level0_row5\" class=\"row_heading level0 row5\" >5</th>\n",
       "      <td id=\"T_0ce8b_row5_col0\" class=\"data row5 col0\" >Transformed train set shape</td>\n",
       "      <td id=\"T_0ce8b_row5_col1\" class=\"data row5 col1\" >(199563, 15)</td>\n",
       "    </tr>\n",
       "    <tr>\n",
       "      <th id=\"T_0ce8b_level0_row6\" class=\"row_heading level0 row6\" >6</th>\n",
       "      <td id=\"T_0ce8b_row6_col0\" class=\"data row6 col0\" >Transformed test set shape</td>\n",
       "      <td id=\"T_0ce8b_row6_col1\" class=\"data row6 col1\" >(85527, 15)</td>\n",
       "    </tr>\n",
       "    <tr>\n",
       "      <th id=\"T_0ce8b_level0_row7\" class=\"row_heading level0 row7\" >7</th>\n",
       "      <td id=\"T_0ce8b_row7_col0\" class=\"data row7 col0\" >Ignore features</td>\n",
       "      <td id=\"T_0ce8b_row7_col1\" class=\"data row7 col1\" >6</td>\n",
       "    </tr>\n",
       "    <tr>\n",
       "      <th id=\"T_0ce8b_level0_row8\" class=\"row_heading level0 row8\" >8</th>\n",
       "      <td id=\"T_0ce8b_row8_col0\" class=\"data row8 col0\" >Numeric features</td>\n",
       "      <td id=\"T_0ce8b_row8_col1\" class=\"data row8 col1\" >13</td>\n",
       "    </tr>\n",
       "    <tr>\n",
       "      <th id=\"T_0ce8b_level0_row9\" class=\"row_heading level0 row9\" >9</th>\n",
       "      <td id=\"T_0ce8b_row9_col0\" class=\"data row9 col0\" >Categorical features</td>\n",
       "      <td id=\"T_0ce8b_row9_col1\" class=\"data row9 col1\" >1</td>\n",
       "    </tr>\n",
       "    <tr>\n",
       "      <th id=\"T_0ce8b_level0_row10\" class=\"row_heading level0 row10\" >10</th>\n",
       "      <td id=\"T_0ce8b_row10_col0\" class=\"data row10 col0\" >Rows with missing values</td>\n",
       "      <td id=\"T_0ce8b_row10_col1\" class=\"data row10 col1\" >0.0%</td>\n",
       "    </tr>\n",
       "    <tr>\n",
       "      <th id=\"T_0ce8b_level0_row11\" class=\"row_heading level0 row11\" >11</th>\n",
       "      <td id=\"T_0ce8b_row11_col0\" class=\"data row11 col0\" >Preprocess</td>\n",
       "      <td id=\"T_0ce8b_row11_col1\" class=\"data row11 col1\" >True</td>\n",
       "    </tr>\n",
       "    <tr>\n",
       "      <th id=\"T_0ce8b_level0_row12\" class=\"row_heading level0 row12\" >12</th>\n",
       "      <td id=\"T_0ce8b_row12_col0\" class=\"data row12 col0\" >Imputation type</td>\n",
       "      <td id=\"T_0ce8b_row12_col1\" class=\"data row12 col1\" >simple</td>\n",
       "    </tr>\n",
       "    <tr>\n",
       "      <th id=\"T_0ce8b_level0_row13\" class=\"row_heading level0 row13\" >13</th>\n",
       "      <td id=\"T_0ce8b_row13_col0\" class=\"data row13 col0\" >Numeric imputation</td>\n",
       "      <td id=\"T_0ce8b_row13_col1\" class=\"data row13 col1\" >mean</td>\n",
       "    </tr>\n",
       "    <tr>\n",
       "      <th id=\"T_0ce8b_level0_row14\" class=\"row_heading level0 row14\" >14</th>\n",
       "      <td id=\"T_0ce8b_row14_col0\" class=\"data row14 col0\" >Categorical imputation</td>\n",
       "      <td id=\"T_0ce8b_row14_col1\" class=\"data row14 col1\" >mode</td>\n",
       "    </tr>\n",
       "    <tr>\n",
       "      <th id=\"T_0ce8b_level0_row15\" class=\"row_heading level0 row15\" >15</th>\n",
       "      <td id=\"T_0ce8b_row15_col0\" class=\"data row15 col0\" >Maximum one-hot encoding</td>\n",
       "      <td id=\"T_0ce8b_row15_col1\" class=\"data row15 col1\" >25</td>\n",
       "    </tr>\n",
       "    <tr>\n",
       "      <th id=\"T_0ce8b_level0_row16\" class=\"row_heading level0 row16\" >16</th>\n",
       "      <td id=\"T_0ce8b_row16_col0\" class=\"data row16 col0\" >Encoding method</td>\n",
       "      <td id=\"T_0ce8b_row16_col1\" class=\"data row16 col1\" >None</td>\n",
       "    </tr>\n",
       "    <tr>\n",
       "      <th id=\"T_0ce8b_level0_row17\" class=\"row_heading level0 row17\" >17</th>\n",
       "      <td id=\"T_0ce8b_row17_col0\" class=\"data row17 col0\" >Fold Generator</td>\n",
       "      <td id=\"T_0ce8b_row17_col1\" class=\"data row17 col1\" >StratifiedKFold</td>\n",
       "    </tr>\n",
       "    <tr>\n",
       "      <th id=\"T_0ce8b_level0_row18\" class=\"row_heading level0 row18\" >18</th>\n",
       "      <td id=\"T_0ce8b_row18_col0\" class=\"data row18 col0\" >Fold Number</td>\n",
       "      <td id=\"T_0ce8b_row18_col1\" class=\"data row18 col1\" >10</td>\n",
       "    </tr>\n",
       "    <tr>\n",
       "      <th id=\"T_0ce8b_level0_row19\" class=\"row_heading level0 row19\" >19</th>\n",
       "      <td id=\"T_0ce8b_row19_col0\" class=\"data row19 col0\" >CPU Jobs</td>\n",
       "      <td id=\"T_0ce8b_row19_col1\" class=\"data row19 col1\" >-1</td>\n",
       "    </tr>\n",
       "    <tr>\n",
       "      <th id=\"T_0ce8b_level0_row20\" class=\"row_heading level0 row20\" >20</th>\n",
       "      <td id=\"T_0ce8b_row20_col0\" class=\"data row20 col0\" >Use GPU</td>\n",
       "      <td id=\"T_0ce8b_row20_col1\" class=\"data row20 col1\" >False</td>\n",
       "    </tr>\n",
       "    <tr>\n",
       "      <th id=\"T_0ce8b_level0_row21\" class=\"row_heading level0 row21\" >21</th>\n",
       "      <td id=\"T_0ce8b_row21_col0\" class=\"data row21 col0\" >Log Experiment</td>\n",
       "      <td id=\"T_0ce8b_row21_col1\" class=\"data row21 col1\" >False</td>\n",
       "    </tr>\n",
       "    <tr>\n",
       "      <th id=\"T_0ce8b_level0_row22\" class=\"row_heading level0 row22\" >22</th>\n",
       "      <td id=\"T_0ce8b_row22_col0\" class=\"data row22 col0\" >Experiment Name</td>\n",
       "      <td id=\"T_0ce8b_row22_col1\" class=\"data row22 col1\" >clf-default-name</td>\n",
       "    </tr>\n",
       "    <tr>\n",
       "      <th id=\"T_0ce8b_level0_row23\" class=\"row_heading level0 row23\" >23</th>\n",
       "      <td id=\"T_0ce8b_row23_col0\" class=\"data row23 col0\" >USI</td>\n",
       "      <td id=\"T_0ce8b_row23_col1\" class=\"data row23 col1\" >6803</td>\n",
       "    </tr>\n",
       "  </tbody>\n",
       "</table>\n"
      ],
      "text/plain": [
       "<pandas.io.formats.style.Styler at 0x7f1fc4736d10>"
      ]
     },
     "metadata": {},
     "output_type": "display_data"
    },
    {
     "data": {
      "text/html": [],
      "text/plain": [
       "<IPython.core.display.HTML object>"
      ]
     },
     "metadata": {},
     "output_type": "display_data"
    },
    {
     "data": {
      "text/html": [
       "<style type=\"text/css\">\n",
       "#T_811e0_row10_col0, #T_811e0_row10_col1, #T_811e0_row10_col2, #T_811e0_row10_col3, #T_811e0_row10_col4, #T_811e0_row10_col5, #T_811e0_row10_col6 {\n",
       "  background: yellow;\n",
       "}\n",
       "</style>\n",
       "<table id=\"T_811e0\">\n",
       "  <thead>\n",
       "    <tr>\n",
       "      <th class=\"blank level0\" >&nbsp;</th>\n",
       "      <th id=\"T_811e0_level0_col0\" class=\"col_heading level0 col0\" >Accuracy</th>\n",
       "      <th id=\"T_811e0_level0_col1\" class=\"col_heading level0 col1\" >AUC</th>\n",
       "      <th id=\"T_811e0_level0_col2\" class=\"col_heading level0 col2\" >Recall</th>\n",
       "      <th id=\"T_811e0_level0_col3\" class=\"col_heading level0 col3\" >Prec.</th>\n",
       "      <th id=\"T_811e0_level0_col4\" class=\"col_heading level0 col4\" >F1</th>\n",
       "      <th id=\"T_811e0_level0_col5\" class=\"col_heading level0 col5\" >Kappa</th>\n",
       "      <th id=\"T_811e0_level0_col6\" class=\"col_heading level0 col6\" >MCC</th>\n",
       "    </tr>\n",
       "    <tr>\n",
       "      <th class=\"index_name level0\" >Fold</th>\n",
       "      <th class=\"blank col0\" >&nbsp;</th>\n",
       "      <th class=\"blank col1\" >&nbsp;</th>\n",
       "      <th class=\"blank col2\" >&nbsp;</th>\n",
       "      <th class=\"blank col3\" >&nbsp;</th>\n",
       "      <th class=\"blank col4\" >&nbsp;</th>\n",
       "      <th class=\"blank col5\" >&nbsp;</th>\n",
       "      <th class=\"blank col6\" >&nbsp;</th>\n",
       "    </tr>\n",
       "  </thead>\n",
       "  <tbody>\n",
       "    <tr>\n",
       "      <th id=\"T_811e0_level0_row0\" class=\"row_heading level0 row0\" >0</th>\n",
       "      <td id=\"T_811e0_row0_col0\" class=\"data row0 col0\" >0.6511</td>\n",
       "      <td id=\"T_811e0_row0_col1\" class=\"data row0 col1\" >0.6816</td>\n",
       "      <td id=\"T_811e0_row0_col2\" class=\"data row0 col2\" >0.8522</td>\n",
       "      <td id=\"T_811e0_row0_col3\" class=\"data row0 col3\" >0.6483</td>\n",
       "      <td id=\"T_811e0_row0_col4\" class=\"data row0 col4\" >0.7364</td>\n",
       "      <td id=\"T_811e0_row0_col5\" class=\"data row0 col5\" >0.2480</td>\n",
       "      <td id=\"T_811e0_row0_col6\" class=\"data row0 col6\" >0.2690</td>\n",
       "    </tr>\n",
       "    <tr>\n",
       "      <th id=\"T_811e0_level0_row1\" class=\"row_heading level0 row1\" >1</th>\n",
       "      <td id=\"T_811e0_row1_col0\" class=\"data row1 col0\" >0.6483</td>\n",
       "      <td id=\"T_811e0_row1_col1\" class=\"data row1 col1\" >0.6798</td>\n",
       "      <td id=\"T_811e0_row1_col2\" class=\"data row1 col2\" >0.8510</td>\n",
       "      <td id=\"T_811e0_row1_col3\" class=\"data row1 col3\" >0.6461</td>\n",
       "      <td id=\"T_811e0_row1_col4\" class=\"data row1 col4\" >0.7345</td>\n",
       "      <td id=\"T_811e0_row1_col5\" class=\"data row1 col5\" >0.2415</td>\n",
       "      <td id=\"T_811e0_row1_col6\" class=\"data row1 col6\" >0.2624</td>\n",
       "    </tr>\n",
       "    <tr>\n",
       "      <th id=\"T_811e0_level0_row2\" class=\"row_heading level0 row2\" >2</th>\n",
       "      <td id=\"T_811e0_row2_col0\" class=\"data row2 col0\" >0.6519</td>\n",
       "      <td id=\"T_811e0_row2_col1\" class=\"data row2 col1\" >0.6834</td>\n",
       "      <td id=\"T_811e0_row2_col2\" class=\"data row2 col2\" >0.8488</td>\n",
       "      <td id=\"T_811e0_row2_col3\" class=\"data row2 col3\" >0.6497</td>\n",
       "      <td id=\"T_811e0_row2_col4\" class=\"data row2 col4\" >0.7360</td>\n",
       "      <td id=\"T_811e0_row2_col5\" class=\"data row2 col5\" >0.2505</td>\n",
       "      <td id=\"T_811e0_row2_col6\" class=\"data row2 col6\" >0.2705</td>\n",
       "    </tr>\n",
       "    <tr>\n",
       "      <th id=\"T_811e0_level0_row3\" class=\"row_heading level0 row3\" >3</th>\n",
       "      <td id=\"T_811e0_row3_col0\" class=\"data row3 col0\" >0.6486</td>\n",
       "      <td id=\"T_811e0_row3_col1\" class=\"data row3 col1\" >0.6784</td>\n",
       "      <td id=\"T_811e0_row3_col2\" class=\"data row3 col2\" >0.8519</td>\n",
       "      <td id=\"T_811e0_row3_col3\" class=\"data row3 col3\" >0.6461</td>\n",
       "      <td id=\"T_811e0_row3_col4\" class=\"data row3 col4\" >0.7349</td>\n",
       "      <td id=\"T_811e0_row3_col5\" class=\"data row3 col5\" >0.2419</td>\n",
       "      <td id=\"T_811e0_row3_col6\" class=\"data row3 col6\" >0.2631</td>\n",
       "    </tr>\n",
       "    <tr>\n",
       "      <th id=\"T_811e0_level0_row4\" class=\"row_heading level0 row4\" >4</th>\n",
       "      <td id=\"T_811e0_row4_col0\" class=\"data row4 col0\" >0.6505</td>\n",
       "      <td id=\"T_811e0_row4_col1\" class=\"data row4 col1\" >0.6793</td>\n",
       "      <td id=\"T_811e0_row4_col2\" class=\"data row4 col2\" >0.8553</td>\n",
       "      <td id=\"T_811e0_row4_col3\" class=\"data row4 col3\" >0.6471</td>\n",
       "      <td id=\"T_811e0_row4_col4\" class=\"data row4 col4\" >0.7368</td>\n",
       "      <td id=\"T_811e0_row4_col5\" class=\"data row4 col5\" >0.2457</td>\n",
       "      <td id=\"T_811e0_row4_col6\" class=\"data row4 col6\" >0.2677</td>\n",
       "    </tr>\n",
       "    <tr>\n",
       "      <th id=\"T_811e0_level0_row5\" class=\"row_heading level0 row5\" >5</th>\n",
       "      <td id=\"T_811e0_row5_col0\" class=\"data row5 col0\" >0.6495</td>\n",
       "      <td id=\"T_811e0_row5_col1\" class=\"data row5 col1\" >0.6814</td>\n",
       "      <td id=\"T_811e0_row5_col2\" class=\"data row5 col2\" >0.8558</td>\n",
       "      <td id=\"T_811e0_row5_col3\" class=\"data row5 col3\" >0.6461</td>\n",
       "      <td id=\"T_811e0_row5_col4\" class=\"data row5 col4\" >0.7363</td>\n",
       "      <td id=\"T_811e0_row5_col5\" class=\"data row5 col5\" >0.2431</td>\n",
       "      <td id=\"T_811e0_row5_col6\" class=\"data row5 col6\" >0.2654</td>\n",
       "    </tr>\n",
       "    <tr>\n",
       "      <th id=\"T_811e0_level0_row6\" class=\"row_heading level0 row6\" >6</th>\n",
       "      <td id=\"T_811e0_row6_col0\" class=\"data row6 col0\" >0.6455</td>\n",
       "      <td id=\"T_811e0_row6_col1\" class=\"data row6 col1\" >0.6792</td>\n",
       "      <td id=\"T_811e0_row6_col2\" class=\"data row6 col2\" >0.8498</td>\n",
       "      <td id=\"T_811e0_row6_col3\" class=\"data row6 col3\" >0.6440</td>\n",
       "      <td id=\"T_811e0_row6_col4\" class=\"data row6 col4\" >0.7327</td>\n",
       "      <td id=\"T_811e0_row6_col5\" class=\"data row6 col5\" >0.2351</td>\n",
       "      <td id=\"T_811e0_row6_col6\" class=\"data row6 col6\" >0.2558</td>\n",
       "    </tr>\n",
       "    <tr>\n",
       "      <th id=\"T_811e0_level0_row7\" class=\"row_heading level0 row7\" >7</th>\n",
       "      <td id=\"T_811e0_row7_col0\" class=\"data row7 col0\" >0.6494</td>\n",
       "      <td id=\"T_811e0_row7_col1\" class=\"data row7 col1\" >0.6800</td>\n",
       "      <td id=\"T_811e0_row7_col2\" class=\"data row7 col2\" >0.8457</td>\n",
       "      <td id=\"T_811e0_row7_col3\" class=\"data row7 col3\" >0.6482</td>\n",
       "      <td id=\"T_811e0_row7_col4\" class=\"data row7 col4\" >0.7339</td>\n",
       "      <td id=\"T_811e0_row7_col5\" class=\"data row7 col5\" >0.2455</td>\n",
       "      <td id=\"T_811e0_row7_col6\" class=\"data row7 col6\" >0.2648</td>\n",
       "    </tr>\n",
       "    <tr>\n",
       "      <th id=\"T_811e0_level0_row8\" class=\"row_heading level0 row8\" >8</th>\n",
       "      <td id=\"T_811e0_row8_col0\" class=\"data row8 col0\" >0.6513</td>\n",
       "      <td id=\"T_811e0_row8_col1\" class=\"data row8 col1\" >0.6868</td>\n",
       "      <td id=\"T_811e0_row8_col2\" class=\"data row8 col2\" >0.8605</td>\n",
       "      <td id=\"T_811e0_row8_col3\" class=\"data row8 col3\" >0.6466</td>\n",
       "      <td id=\"T_811e0_row8_col4\" class=\"data row8 col4\" >0.7384</td>\n",
       "      <td id=\"T_811e0_row8_col5\" class=\"data row8 col5\" >0.2462</td>\n",
       "      <td id=\"T_811e0_row8_col6\" class=\"data row8 col6\" >0.2698</td>\n",
       "    </tr>\n",
       "    <tr>\n",
       "      <th id=\"T_811e0_level0_row9\" class=\"row_heading level0 row9\" >9</th>\n",
       "      <td id=\"T_811e0_row9_col0\" class=\"data row9 col0\" >0.6488</td>\n",
       "      <td id=\"T_811e0_row9_col1\" class=\"data row9 col1\" >0.6819</td>\n",
       "      <td id=\"T_811e0_row9_col2\" class=\"data row9 col2\" >0.8516</td>\n",
       "      <td id=\"T_811e0_row9_col3\" class=\"data row9 col3\" >0.6464</td>\n",
       "      <td id=\"T_811e0_row9_col4\" class=\"data row9 col4\" >0.7350</td>\n",
       "      <td id=\"T_811e0_row9_col5\" class=\"data row9 col5\" >0.2426</td>\n",
       "      <td id=\"T_811e0_row9_col6\" class=\"data row9 col6\" >0.2636</td>\n",
       "    </tr>\n",
       "    <tr>\n",
       "      <th id=\"T_811e0_level0_row10\" class=\"row_heading level0 row10\" >Mean</th>\n",
       "      <td id=\"T_811e0_row10_col0\" class=\"data row10 col0\" >0.6495</td>\n",
       "      <td id=\"T_811e0_row10_col1\" class=\"data row10 col1\" >0.6812</td>\n",
       "      <td id=\"T_811e0_row10_col2\" class=\"data row10 col2\" >0.8523</td>\n",
       "      <td id=\"T_811e0_row10_col3\" class=\"data row10 col3\" >0.6469</td>\n",
       "      <td id=\"T_811e0_row10_col4\" class=\"data row10 col4\" >0.7355</td>\n",
       "      <td id=\"T_811e0_row10_col5\" class=\"data row10 col5\" >0.2440</td>\n",
       "      <td id=\"T_811e0_row10_col6\" class=\"data row10 col6\" >0.2652</td>\n",
       "    </tr>\n",
       "    <tr>\n",
       "      <th id=\"T_811e0_level0_row11\" class=\"row_heading level0 row11\" >Std</th>\n",
       "      <td id=\"T_811e0_row11_col0\" class=\"data row11 col0\" >0.0018</td>\n",
       "      <td id=\"T_811e0_row11_col1\" class=\"data row11 col1\" >0.0023</td>\n",
       "      <td id=\"T_811e0_row11_col2\" class=\"data row11 col2\" >0.0039</td>\n",
       "      <td id=\"T_811e0_row11_col3\" class=\"data row11 col3\" >0.0015</td>\n",
       "      <td id=\"T_811e0_row11_col4\" class=\"data row11 col4\" >0.0015</td>\n",
       "      <td id=\"T_811e0_row11_col5\" class=\"data row11 col5\" >0.0040</td>\n",
       "      <td id=\"T_811e0_row11_col6\" class=\"data row11 col6\" >0.0042</td>\n",
       "    </tr>\n",
       "  </tbody>\n",
       "</table>\n"
      ],
      "text/plain": [
       "<pandas.io.formats.style.Styler at 0x7f1fc438e2c0>"
      ]
     },
     "metadata": {},
     "output_type": "display_data"
    },
    {
     "data": {
      "text/html": [],
      "text/plain": [
       "<IPython.core.display.HTML object>"
      ]
     },
     "metadata": {},
     "output_type": "display_data"
    },
    {
     "data": {
      "text/html": [],
      "text/plain": [
       "<IPython.core.display.HTML object>"
      ]
     },
     "metadata": {},
     "output_type": "display_data"
    },
    {
     "data": {
      "image/png": "[encoded data removed]",
      "text/plain": [
       "<Figure size 480x330 with 1 Axes>"
      ]
     },
     "metadata": {},
     "output_type": "display_data"
    },
    {
     "data": {
      "text/html": [],
      "text/plain": [
       "<IPython.core.display.HTML object>"
      ]
     },
     "metadata": {},
     "output_type": "display_data"
    },
    {
     "data": {
      "text/html": [
       "<style type=\"text/css\">\n",
       "#T_a5714_row10_col0, #T_a5714_row10_col1, #T_a5714_row10_col2, #T_a5714_row10_col3, #T_a5714_row10_col4, #T_a5714_row10_col5, #T_a5714_row10_col6 {\n",
       "  background: yellow;\n",
       "}\n",
       "</style>\n",
       "<table id=\"T_a5714\">\n",
       "  <thead>\n",
       "    <tr>\n",
       "      <th class=\"blank level0\" >&nbsp;</th>\n",
       "      <th id=\"T_a5714_level0_col0\" class=\"col_heading level0 col0\" >Accuracy</th>\n",
       "      <th id=\"T_a5714_level0_col1\" class=\"col_heading level0 col1\" >AUC</th>\n",
       "      <th id=\"T_a5714_level0_col2\" class=\"col_heading level0 col2\" >Recall</th>\n",
       "      <th id=\"T_a5714_level0_col3\" class=\"col_heading level0 col3\" >Prec.</th>\n",
       "      <th id=\"T_a5714_level0_col4\" class=\"col_heading level0 col4\" >F1</th>\n",
       "      <th id=\"T_a5714_level0_col5\" class=\"col_heading level0 col5\" >Kappa</th>\n",
       "      <th id=\"T_a5714_level0_col6\" class=\"col_heading level0 col6\" >MCC</th>\n",
       "    </tr>\n",
       "    <tr>\n",
       "      <th class=\"index_name level0\" >Fold</th>\n",
       "      <th class=\"blank col0\" >&nbsp;</th>\n",
       "      <th class=\"blank col1\" >&nbsp;</th>\n",
       "      <th class=\"blank col2\" >&nbsp;</th>\n",
       "      <th class=\"blank col3\" >&nbsp;</th>\n",
       "      <th class=\"blank col4\" >&nbsp;</th>\n",
       "      <th class=\"blank col5\" >&nbsp;</th>\n",
       "      <th class=\"blank col6\" >&nbsp;</th>\n",
       "    </tr>\n",
       "  </thead>\n",
       "  <tbody>\n",
       "    <tr>\n",
       "      <th id=\"T_a5714_level0_row0\" class=\"row_heading level0 row0\" >0</th>\n",
       "      <td id=\"T_a5714_row0_col0\" class=\"data row0 col0\" >0.6533</td>\n",
       "      <td id=\"T_a5714_row0_col1\" class=\"data row0 col1\" >0.6867</td>\n",
       "      <td id=\"T_a5714_row0_col2\" class=\"data row0 col2\" >0.8583</td>\n",
       "      <td id=\"T_a5714_row0_col3\" class=\"data row0 col3\" >0.6487</td>\n",
       "      <td id=\"T_a5714_row0_col4\" class=\"data row0 col4\" >0.7389</td>\n",
       "      <td id=\"T_a5714_row0_col5\" class=\"data row0 col5\" >0.2514</td>\n",
       "      <td id=\"T_a5714_row0_col6\" class=\"data row0 col6\" >0.2741</td>\n",
       "    </tr>\n",
       "    <tr>\n",
       "      <th id=\"T_a5714_level0_row1\" class=\"row_heading level0 row1\" >1</th>\n",
       "      <td id=\"T_a5714_row1_col0\" class=\"data row1 col0\" >0.6497</td>\n",
       "      <td id=\"T_a5714_row1_col1\" class=\"data row1 col1\" >0.6832</td>\n",
       "      <td id=\"T_a5714_row1_col2\" class=\"data row1 col2\" >0.8558</td>\n",
       "      <td id=\"T_a5714_row1_col3\" class=\"data row1 col3\" >0.6463</td>\n",
       "      <td id=\"T_a5714_row1_col4\" class=\"data row1 col4\" >0.7364</td>\n",
       "      <td id=\"T_a5714_row1_col5\" class=\"data row1 col5\" >0.2437</td>\n",
       "      <td id=\"T_a5714_row1_col6\" class=\"data row1 col6\" >0.2659</td>\n",
       "    </tr>\n",
       "    <tr>\n",
       "      <th id=\"T_a5714_level0_row2\" class=\"row_heading level0 row2\" >2</th>\n",
       "      <td id=\"T_a5714_row2_col0\" class=\"data row2 col0\" >0.6563</td>\n",
       "      <td id=\"T_a5714_row2_col1\" class=\"data row2 col1\" >0.6872</td>\n",
       "      <td id=\"T_a5714_row2_col2\" class=\"data row2 col2\" >0.8544</td>\n",
       "      <td id=\"T_a5714_row2_col3\" class=\"data row2 col3\" >0.6523</td>\n",
       "      <td id=\"T_a5714_row2_col4\" class=\"data row2 col4\" >0.7398</td>\n",
       "      <td id=\"T_a5714_row2_col5\" class=\"data row2 col5\" >0.2597</td>\n",
       "      <td id=\"T_a5714_row2_col6\" class=\"data row2 col6\" >0.2810</td>\n",
       "    </tr>\n",
       "    <tr>\n",
       "      <th id=\"T_a5714_level0_row3\" class=\"row_heading level0 row3\" >3</th>\n",
       "      <td id=\"T_a5714_row3_col0\" class=\"data row3 col0\" >0.6540</td>\n",
       "      <td id=\"T_a5714_row3_col1\" class=\"data row3 col1\" >0.6839</td>\n",
       "      <td id=\"T_a5714_row3_col2\" class=\"data row3 col2\" >0.8612</td>\n",
       "      <td id=\"T_a5714_row3_col3\" class=\"data row3 col3\" >0.6488</td>\n",
       "      <td id=\"T_a5714_row3_col4\" class=\"data row3 col4\" >0.7400</td>\n",
       "      <td id=\"T_a5714_row3_col5\" class=\"data row3 col5\" >0.2525</td>\n",
       "      <td id=\"T_a5714_row3_col6\" class=\"data row3 col6\" >0.2761</td>\n",
       "    </tr>\n",
       "    <tr>\n",
       "      <th id=\"T_a5714_level0_row4\" class=\"row_heading level0 row4\" >4</th>\n",
       "      <td id=\"T_a5714_row4_col0\" class=\"data row4 col0\" >0.6517</td>\n",
       "      <td id=\"T_a5714_row4_col1\" class=\"data row4 col1\" >0.6825</td>\n",
       "      <td id=\"T_a5714_row4_col2\" class=\"data row4 col2\" >0.8606</td>\n",
       "      <td id=\"T_a5714_row4_col3\" class=\"data row4 col3\" >0.6469</td>\n",
       "      <td id=\"T_a5714_row4_col4\" class=\"data row4 col4\" >0.7386</td>\n",
       "      <td id=\"T_a5714_row4_col5\" class=\"data row4 col5\" >0.2470</td>\n",
       "      <td id=\"T_a5714_row4_col6\" class=\"data row4 col6\" >0.2706</td>\n",
       "    </tr>\n",
       "    <tr>\n",
       "      <th id=\"T_a5714_level0_row5\" class=\"row_heading level0 row5\" >5</th>\n",
       "      <td id=\"T_a5714_row5_col0\" class=\"data row5 col0\" >0.6540</td>\n",
       "      <td id=\"T_a5714_row5_col1\" class=\"data row5 col1\" >0.6852</td>\n",
       "      <td id=\"T_a5714_row5_col2\" class=\"data row5 col2\" >0.8616</td>\n",
       "      <td id=\"T_a5714_row5_col3\" class=\"data row5 col3\" >0.6486</td>\n",
       "      <td id=\"T_a5714_row5_col4\" class=\"data row5 col4\" >0.7401</td>\n",
       "      <td id=\"T_a5714_row5_col5\" class=\"data row5 col5\" >0.2523</td>\n",
       "      <td id=\"T_a5714_row5_col6\" class=\"data row5 col6\" >0.2760</td>\n",
       "    </tr>\n",
       "    <tr>\n",
       "      <th id=\"T_a5714_level0_row6\" class=\"row_heading level0 row6\" >6</th>\n",
       "      <td id=\"T_a5714_row6_col0\" class=\"data row6 col0\" >0.6511</td>\n",
       "      <td id=\"T_a5714_row6_col1\" class=\"data row6 col1\" >0.6836</td>\n",
       "      <td id=\"T_a5714_row6_col2\" class=\"data row6 col2\" >0.8586</td>\n",
       "      <td id=\"T_a5714_row6_col3\" class=\"data row6 col3\" >0.6468</td>\n",
       "      <td id=\"T_a5714_row6_col4\" class=\"data row6 col4\" >0.7378</td>\n",
       "      <td id=\"T_a5714_row6_col5\" class=\"data row6 col5\" >0.2462</td>\n",
       "      <td id=\"T_a5714_row6_col6\" class=\"data row6 col6\" >0.2692</td>\n",
       "    </tr>\n",
       "    <tr>\n",
       "      <th id=\"T_a5714_level0_row7\" class=\"row_heading level0 row7\" >7</th>\n",
       "      <td id=\"T_a5714_row7_col0\" class=\"data row7 col0\" >0.6511</td>\n",
       "      <td id=\"T_a5714_row7_col1\" class=\"data row7 col1\" >0.6822</td>\n",
       "      <td id=\"T_a5714_row7_col2\" class=\"data row7 col2\" >0.8518</td>\n",
       "      <td id=\"T_a5714_row7_col3\" class=\"data row7 col3\" >0.6484</td>\n",
       "      <td id=\"T_a5714_row7_col4\" class=\"data row7 col4\" >0.7363</td>\n",
       "      <td id=\"T_a5714_row7_col5\" class=\"data row7 col5\" >0.2481</td>\n",
       "      <td id=\"T_a5714_row7_col6\" class=\"data row7 col6\" >0.2690</td>\n",
       "    </tr>\n",
       "    <tr>\n",
       "      <th id=\"T_a5714_level0_row8\" class=\"row_heading level0 row8\" >8</th>\n",
       "      <td id=\"T_a5714_row8_col0\" class=\"data row8 col0\" >0.6520</td>\n",
       "      <td id=\"T_a5714_row8_col1\" class=\"data row8 col1\" >0.6898</td>\n",
       "      <td id=\"T_a5714_row8_col2\" class=\"data row8 col2\" >0.8568</td>\n",
       "      <td id=\"T_a5714_row8_col3\" class=\"data row8 col3\" >0.6480</td>\n",
       "      <td id=\"T_a5714_row8_col4\" class=\"data row8 col4\" >0.7379</td>\n",
       "      <td id=\"T_a5714_row8_col5\" class=\"data row8 col5\" >0.2488</td>\n",
       "      <td id=\"T_a5714_row8_col6\" class=\"data row8 col6\" >0.2711</td>\n",
       "    </tr>\n",
       "    <tr>\n",
       "      <th id=\"T_a5714_level0_row9\" class=\"row_heading level0 row9\" >9</th>\n",
       "      <td id=\"T_a5714_row9_col0\" class=\"data row9 col0\" >0.6517</td>\n",
       "      <td id=\"T_a5714_row9_col1\" class=\"data row9 col1\" >0.6856</td>\n",
       "      <td id=\"T_a5714_row9_col2\" class=\"data row9 col2\" >0.8604</td>\n",
       "      <td id=\"T_a5714_row9_col3\" class=\"data row9 col3\" >0.6469</td>\n",
       "      <td id=\"T_a5714_row9_col4\" class=\"data row9 col4\" >0.7385</td>\n",
       "      <td id=\"T_a5714_row9_col5\" class=\"data row9 col5\" >0.2471</td>\n",
       "      <td id=\"T_a5714_row9_col6\" class=\"data row9 col6\" >0.2706</td>\n",
       "    </tr>\n",
       "    <tr>\n",
       "      <th id=\"T_a5714_level0_row10\" class=\"row_heading level0 row10\" >Mean</th>\n",
       "      <td id=\"T_a5714_row10_col0\" class=\"data row10 col0\" >0.6525</td>\n",
       "      <td id=\"T_a5714_row10_col1\" class=\"data row10 col1\" >0.6850</td>\n",
       "      <td id=\"T_a5714_row10_col2\" class=\"data row10 col2\" >0.8579</td>\n",
       "      <td id=\"T_a5714_row10_col3\" class=\"data row10 col3\" >0.6482</td>\n",
       "      <td id=\"T_a5714_row10_col4\" class=\"data row10 col4\" >0.7384</td>\n",
       "      <td id=\"T_a5714_row10_col5\" class=\"data row10 col5\" >0.2497</td>\n",
       "      <td id=\"T_a5714_row10_col6\" class=\"data row10 col6\" >0.2724</td>\n",
       "    </tr>\n",
       "    <tr>\n",
       "      <th id=\"T_a5714_level0_row11\" class=\"row_heading level0 row11\" >Std</th>\n",
       "      <td id=\"T_a5714_row11_col0\" class=\"data row11 col0\" >0.0018</td>\n",
       "      <td id=\"T_a5714_row11_col1\" class=\"data row11 col1\" >0.0023</td>\n",
       "      <td id=\"T_a5714_row11_col2\" class=\"data row11 col2\" >0.0031</td>\n",
       "      <td id=\"T_a5714_row11_col3\" class=\"data row11 col3\" >0.0016</td>\n",
       "      <td id=\"T_a5714_row11_col4\" class=\"data row11 col4\" >0.0013</td>\n",
       "      <td id=\"T_a5714_row11_col5\" class=\"data row11 col5\" >0.0043</td>\n",
       "      <td id=\"T_a5714_row11_col6\" class=\"data row11 col6\" >0.0042</td>\n",
       "    </tr>\n",
       "  </tbody>\n",
       "</table>\n"
      ],
      "text/plain": [
       "<pandas.io.formats.style.Styler at 0x7f1fc4645360>"
      ]
     },
     "metadata": {},
     "output_type": "display_data"
    },
    {
     "data": {
      "text/html": [],
      "text/plain": [
       "<IPython.core.display.HTML object>"
      ]
     },
     "metadata": {},
     "output_type": "display_data"
    },
    {
     "data": {
      "text/html": [],
      "text/plain": [
       "<IPython.core.display.HTML object>"
      ]
     },
     "metadata": {},
     "output_type": "display_data"
    },
    {
     "data": {
      "image/png": "[encoded data removed]",
      "text/plain": [
       "<Figure size 480x330 with 1 Axes>"
      ]
     },
     "metadata": {},
     "output_type": "display_data"
    },
    {
     "data": {
      "text/html": [],
      "text/plain": [
       "<IPython.core.display.HTML object>"
      ]
     },
     "metadata": {},
     "output_type": "display_data"
    },
    {
     "data": {
      "text/html": [
       "<style type=\"text/css\">\n",
       "#T_1b13f_row10_col0, #T_1b13f_row10_col1, #T_1b13f_row10_col2, #T_1b13f_row10_col3, #T_1b13f_row10_col4, #T_1b13f_row10_col5, #T_1b13f_row10_col6 {\n",
       "  background: yellow;\n",
       "}\n",
       "</style>\n",
       "<table id=\"T_1b13f\">\n",
       "  <thead>\n",
       "    <tr>\n",
       "      <th class=\"blank level0\" >&nbsp;</th>\n",
       "      <th id=\"T_1b13f_level0_col0\" class=\"col_heading level0 col0\" >Accuracy</th>\n",
       "      <th id=\"T_1b13f_level0_col1\" class=\"col_heading level0 col1\" >AUC</th>\n",
       "      <th id=\"T_1b13f_level0_col2\" class=\"col_heading level0 col2\" >Recall</th>\n",
       "      <th id=\"T_1b13f_level0_col3\" class=\"col_heading level0 col3\" >Prec.</th>\n",
       "      <th id=\"T_1b13f_level0_col4\" class=\"col_heading level0 col4\" >F1</th>\n",
       "      <th id=\"T_1b13f_level0_col5\" class=\"col_heading level0 col5\" >Kappa</th>\n",
       "      <th id=\"T_1b13f_level0_col6\" class=\"col_heading level0 col6\" >MCC</th>\n",
       "    </tr>\n",
       "    <tr>\n",
       "      <th class=\"index_name level0\" >Fold</th>\n",
       "      <th class=\"blank col0\" >&nbsp;</th>\n",
       "      <th class=\"blank col1\" >&nbsp;</th>\n",
       "      <th class=\"blank col2\" >&nbsp;</th>\n",
       "      <th class=\"blank col3\" >&nbsp;</th>\n",
       "      <th class=\"blank col4\" >&nbsp;</th>\n",
       "      <th class=\"blank col5\" >&nbsp;</th>\n",
       "      <th class=\"blank col6\" >&nbsp;</th>\n",
       "    </tr>\n",
       "  </thead>\n",
       "  <tbody>\n",
       "    <tr>\n",
       "      <th id=\"T_1b13f_level0_row0\" class=\"row_heading level0 row0\" >0</th>\n",
       "      <td id=\"T_1b13f_row0_col0\" class=\"data row0 col0\" >0.6549</td>\n",
       "      <td id=\"T_1b13f_row0_col1\" class=\"data row0 col1\" >0.6866</td>\n",
       "      <td id=\"T_1b13f_row0_col2\" class=\"data row0 col2\" >0.8644</td>\n",
       "      <td id=\"T_1b13f_row0_col3\" class=\"data row0 col3\" >0.6488</td>\n",
       "      <td id=\"T_1b13f_row0_col4\" class=\"data row0 col4\" >0.7412</td>\n",
       "      <td id=\"T_1b13f_row0_col5\" class=\"data row0 col5\" >0.2537</td>\n",
       "      <td id=\"T_1b13f_row0_col6\" class=\"data row0 col6\" >0.2783</td>\n",
       "    </tr>\n",
       "    <tr>\n",
       "      <th id=\"T_1b13f_level0_row1\" class=\"row_heading level0 row1\" >1</th>\n",
       "      <td id=\"T_1b13f_row1_col0\" class=\"data row1 col0\" >0.6509</td>\n",
       "      <td id=\"T_1b13f_row1_col1\" class=\"data row1 col1\" >0.6838</td>\n",
       "      <td id=\"T_1b13f_row1_col2\" class=\"data row1 col2\" >0.8585</td>\n",
       "      <td id=\"T_1b13f_row1_col3\" class=\"data row1 col3\" >0.6467</td>\n",
       "      <td id=\"T_1b13f_row1_col4\" class=\"data row1 col4\" >0.7377</td>\n",
       "      <td id=\"T_1b13f_row1_col5\" class=\"data row1 col5\" >0.2458</td>\n",
       "      <td id=\"T_1b13f_row1_col6\" class=\"data row1 col6\" >0.2688</td>\n",
       "    </tr>\n",
       "    <tr>\n",
       "      <th id=\"T_1b13f_level0_row2\" class=\"row_heading level0 row2\" >2</th>\n",
       "      <td id=\"T_1b13f_row2_col0\" class=\"data row2 col0\" >0.6552</td>\n",
       "      <td id=\"T_1b13f_row2_col1\" class=\"data row2 col1\" >0.6878</td>\n",
       "      <td id=\"T_1b13f_row2_col2\" class=\"data row2 col2\" >0.8569</td>\n",
       "      <td id=\"T_1b13f_row2_col3\" class=\"data row2 col3\" >0.6507</td>\n",
       "      <td id=\"T_1b13f_row2_col4\" class=\"data row2 col4\" >0.7397</td>\n",
       "      <td id=\"T_1b13f_row2_col5\" class=\"data row2 col5\" >0.2563</td>\n",
       "      <td id=\"T_1b13f_row2_col6\" class=\"data row2 col6\" >0.2784</td>\n",
       "    </tr>\n",
       "    <tr>\n",
       "      <th id=\"T_1b13f_level0_row3\" class=\"row_heading level0 row3\" >3</th>\n",
       "      <td id=\"T_1b13f_row3_col0\" class=\"data row3 col0\" >0.6524</td>\n",
       "      <td id=\"T_1b13f_row3_col1\" class=\"data row3 col1\" >0.6823</td>\n",
       "      <td id=\"T_1b13f_row3_col2\" class=\"data row3 col2\" >0.8616</td>\n",
       "      <td id=\"T_1b13f_row3_col3\" class=\"data row3 col3\" >0.6472</td>\n",
       "      <td id=\"T_1b13f_row3_col4\" class=\"data row3 col4\" >0.7392</td>\n",
       "      <td id=\"T_1b13f_row3_col5\" class=\"data row3 col5\" >0.2484</td>\n",
       "      <td id=\"T_1b13f_row3_col6\" class=\"data row3 col6\" >0.2723</td>\n",
       "    </tr>\n",
       "    <tr>\n",
       "      <th id=\"T_1b13f_level0_row4\" class=\"row_heading level0 row4\" >4</th>\n",
       "      <td id=\"T_1b13f_row4_col0\" class=\"data row4 col0\" >0.6526</td>\n",
       "      <td id=\"T_1b13f_row4_col1\" class=\"data row4 col1\" >0.6830</td>\n",
       "      <td id=\"T_1b13f_row4_col2\" class=\"data row4 col2\" >0.8637</td>\n",
       "      <td id=\"T_1b13f_row4_col3\" class=\"data row4 col3\" >0.6470</td>\n",
       "      <td id=\"T_1b13f_row4_col4\" class=\"data row4 col4\" >0.7398</td>\n",
       "      <td id=\"T_1b13f_row4_col5\" class=\"data row4 col5\" >0.2484</td>\n",
       "      <td id=\"T_1b13f_row4_col6\" class=\"data row4 col6\" >0.2729</td>\n",
       "    </tr>\n",
       "    <tr>\n",
       "      <th id=\"T_1b13f_level0_row5\" class=\"row_heading level0 row5\" >5</th>\n",
       "      <td id=\"T_1b13f_row5_col0\" class=\"data row5 col0\" >0.6543</td>\n",
       "      <td id=\"T_1b13f_row5_col1\" class=\"data row5 col1\" >0.6853</td>\n",
       "      <td id=\"T_1b13f_row5_col2\" class=\"data row5 col2\" >0.8630</td>\n",
       "      <td id=\"T_1b13f_row5_col3\" class=\"data row5 col3\" >0.6486</td>\n",
       "      <td id=\"T_1b13f_row5_col4\" class=\"data row5 col4\" >0.7406</td>\n",
       "      <td id=\"T_1b13f_row5_col5\" class=\"data row5 col5\" >0.2527</td>\n",
       "      <td id=\"T_1b13f_row5_col6\" class=\"data row5 col6\" >0.2769</td>\n",
       "    </tr>\n",
       "    <tr>\n",
       "      <th id=\"T_1b13f_level0_row6\" class=\"row_heading level0 row6\" >6</th>\n",
       "      <td id=\"T_1b13f_row6_col0\" class=\"data row6 col0\" >0.6513</td>\n",
       "      <td id=\"T_1b13f_row6_col1\" class=\"data row6 col1\" >0.6838</td>\n",
       "      <td id=\"T_1b13f_row6_col2\" class=\"data row6 col2\" >0.8613</td>\n",
       "      <td id=\"T_1b13f_row6_col3\" class=\"data row6 col3\" >0.6464</td>\n",
       "      <td id=\"T_1b13f_row6_col4\" class=\"data row6 col4\" >0.7386</td>\n",
       "      <td id=\"T_1b13f_row6_col5\" class=\"data row6 col5\" >0.2460</td>\n",
       "      <td id=\"T_1b13f_row6_col6\" class=\"data row6 col6\" >0.2699</td>\n",
       "    </tr>\n",
       "    <tr>\n",
       "      <th id=\"T_1b13f_level0_row7\" class=\"row_heading level0 row7\" >7</th>\n",
       "      <td id=\"T_1b13f_row7_col0\" class=\"data row7 col0\" >0.6493</td>\n",
       "      <td id=\"T_1b13f_row7_col1\" class=\"data row7 col1\" >0.6822</td>\n",
       "      <td id=\"T_1b13f_row7_col2\" class=\"data row7 col2\" >0.8520</td>\n",
       "      <td id=\"T_1b13f_row7_col3\" class=\"data row7 col3\" >0.6468</td>\n",
       "      <td id=\"T_1b13f_row7_col4\" class=\"data row7 col4\" >0.7353</td>\n",
       "      <td id=\"T_1b13f_row7_col5\" class=\"data row7 col5\" >0.2437</td>\n",
       "      <td id=\"T_1b13f_row7_col6\" class=\"data row7 col6\" >0.2648</td>\n",
       "    </tr>\n",
       "    <tr>\n",
       "      <th id=\"T_1b13f_level0_row8\" class=\"row_heading level0 row8\" >8</th>\n",
       "      <td id=\"T_1b13f_row8_col0\" class=\"data row8 col0\" >0.6523</td>\n",
       "      <td id=\"T_1b13f_row8_col1\" class=\"data row8 col1\" >0.6901</td>\n",
       "      <td id=\"T_1b13f_row8_col2\" class=\"data row8 col2\" >0.8633</td>\n",
       "      <td id=\"T_1b13f_row8_col3\" class=\"data row8 col3\" >0.6468</td>\n",
       "      <td id=\"T_1b13f_row8_col4\" class=\"data row8 col4\" >0.7395</td>\n",
       "      <td id=\"T_1b13f_row8_col5\" class=\"data row8 col5\" >0.2478</td>\n",
       "      <td id=\"T_1b13f_row8_col6\" class=\"data row8 col6\" >0.2722</td>\n",
       "    </tr>\n",
       "    <tr>\n",
       "      <th id=\"T_1b13f_level0_row9\" class=\"row_heading level0 row9\" >9</th>\n",
       "      <td id=\"T_1b13f_row9_col0\" class=\"data row9 col0\" >0.6534</td>\n",
       "      <td id=\"T_1b13f_row9_col1\" class=\"data row9 col1\" >0.6846</td>\n",
       "      <td id=\"T_1b13f_row9_col2\" class=\"data row9 col2\" >0.8627</td>\n",
       "      <td id=\"T_1b13f_row9_col3\" class=\"data row9 col3\" >0.6479</td>\n",
       "      <td id=\"T_1b13f_row9_col4\" class=\"data row9 col4\" >0.7400</td>\n",
       "      <td id=\"T_1b13f_row9_col5\" class=\"data row9 col5\" >0.2507</td>\n",
       "      <td id=\"T_1b13f_row9_col6\" class=\"data row9 col6\" >0.2748</td>\n",
       "    </tr>\n",
       "    <tr>\n",
       "      <th id=\"T_1b13f_level0_row10\" class=\"row_heading level0 row10\" >Mean</th>\n",
       "      <td id=\"T_1b13f_row10_col0\" class=\"data row10 col0\" >0.6527</td>\n",
       "      <td id=\"T_1b13f_row10_col1\" class=\"data row10 col1\" >0.6850</td>\n",
       "      <td id=\"T_1b13f_row10_col2\" class=\"data row10 col2\" >0.8607</td>\n",
       "      <td id=\"T_1b13f_row10_col3\" class=\"data row10 col3\" >0.6477</td>\n",
       "      <td id=\"T_1b13f_row10_col4\" class=\"data row10 col4\" >0.7392</td>\n",
       "      <td id=\"T_1b13f_row10_col5\" class=\"data row10 col5\" >0.2494</td>\n",
       "      <td id=\"T_1b13f_row10_col6\" class=\"data row10 col6\" >0.2729</td>\n",
       "    </tr>\n",
       "    <tr>\n",
       "      <th id=\"T_1b13f_level0_row11\" class=\"row_heading level0 row11\" >Std</th>\n",
       "      <td id=\"T_1b13f_row11_col0\" class=\"data row11 col0\" >0.0018</td>\n",
       "      <td id=\"T_1b13f_row11_col1\" class=\"data row11 col1\" >0.0024</td>\n",
       "      <td id=\"T_1b13f_row11_col2\" class=\"data row11 col2\" >0.0037</td>\n",
       "      <td id=\"T_1b13f_row11_col3\" class=\"data row11 col3\" >0.0013</td>\n",
       "      <td id=\"T_1b13f_row11_col4\" class=\"data row11 col4\" >0.0016</td>\n",
       "      <td id=\"T_1b13f_row11_col5\" class=\"data row11 col5\" >0.0038</td>\n",
       "      <td id=\"T_1b13f_row11_col6\" class=\"data row11 col6\" >0.0042</td>\n",
       "    </tr>\n",
       "  </tbody>\n",
       "</table>\n"
      ],
      "text/plain": [
       "<pandas.io.formats.style.Styler at 0x7f1fc523fbe0>"
      ]
     },
     "metadata": {},
     "output_type": "display_data"
    },
    {
     "data": {
      "text/html": [],
      "text/plain": [
       "<IPython.core.display.HTML object>"
      ]
     },
     "metadata": {},
     "output_type": "display_data"
    },
    {
     "data": {
      "text/html": [],
      "text/plain": [
       "<IPython.core.display.HTML object>"
      ]
     },
     "metadata": {},
     "output_type": "display_data"
    },
    {
     "data": {
      "image/png": "[encoded data removed]",
      "text/plain": [
       "<Figure size 480x330 with 1 Axes>"
      ]
     },
     "metadata": {},
     "output_type": "display_data"
    },
    {
     "data": {
      "text/html": [],
      "text/plain": [
       "<IPython.core.display.HTML object>"
      ]
     },
     "metadata": {},
     "output_type": "display_data"
    },
    {
     "data": {
      "text/html": [
       "<style type=\"text/css\">\n",
       "#T_bd559_row10_col0, #T_bd559_row10_col1, #T_bd559_row10_col2, #T_bd559_row10_col3, #T_bd559_row10_col4, #T_bd559_row10_col5, #T_bd559_row10_col6 {\n",
       "  background: yellow;\n",
       "}\n",
       "</style>\n",
       "<table id=\"T_bd559\">\n",
       "  <thead>\n",
       "    <tr>\n",
       "      <th class=\"blank level0\" >&nbsp;</th>\n",
       "      <th id=\"T_bd559_level0_col0\" class=\"col_heading level0 col0\" >Accuracy</th>\n",
       "      <th id=\"T_bd559_level0_col1\" class=\"col_heading level0 col1\" >AUC</th>\n",
       "      <th id=\"T_bd559_level0_col2\" class=\"col_heading level0 col2\" >Recall</th>\n",
       "      <th id=\"T_bd559_level0_col3\" class=\"col_heading level0 col3\" >Prec.</th>\n",
       "      <th id=\"T_bd559_level0_col4\" class=\"col_heading level0 col4\" >F1</th>\n",
       "      <th id=\"T_bd559_level0_col5\" class=\"col_heading level0 col5\" >Kappa</th>\n",
       "      <th id=\"T_bd559_level0_col6\" class=\"col_heading level0 col6\" >MCC</th>\n",
       "    </tr>\n",
       "    <tr>\n",
       "      <th class=\"index_name level0\" >Fold</th>\n",
       "      <th class=\"blank col0\" >&nbsp;</th>\n",
       "      <th class=\"blank col1\" >&nbsp;</th>\n",
       "      <th class=\"blank col2\" >&nbsp;</th>\n",
       "      <th class=\"blank col3\" >&nbsp;</th>\n",
       "      <th class=\"blank col4\" >&nbsp;</th>\n",
       "      <th class=\"blank col5\" >&nbsp;</th>\n",
       "      <th class=\"blank col6\" >&nbsp;</th>\n",
       "    </tr>\n",
       "  </thead>\n",
       "  <tbody>\n",
       "    <tr>\n",
       "      <th id=\"T_bd559_level0_row0\" class=\"row_heading level0 row0\" >0</th>\n",
       "      <td id=\"T_bd559_row0_col0\" class=\"data row0 col0\" >0.6435</td>\n",
       "      <td id=\"T_bd559_row0_col1\" class=\"data row0 col1\" >0.6679</td>\n",
       "      <td id=\"T_bd559_row0_col2\" class=\"data row0 col2\" >0.8250</td>\n",
       "      <td id=\"T_bd559_row0_col3\" class=\"data row0 col3\" >0.6478</td>\n",
       "      <td id=\"T_bd559_row0_col4\" class=\"data row0 col4\" >0.7257</td>\n",
       "      <td id=\"T_bd559_row0_col5\" class=\"data row0 col5\" >0.2370</td>\n",
       "      <td id=\"T_bd559_row0_col6\" class=\"data row0 col6\" >0.2515</td>\n",
       "    </tr>\n",
       "    <tr>\n",
       "      <th id=\"T_bd559_level0_row1\" class=\"row_heading level0 row1\" >1</th>\n",
       "      <td id=\"T_bd559_row1_col0\" class=\"data row1 col0\" >0.6418</td>\n",
       "      <td id=\"T_bd559_row1_col1\" class=\"data row1 col1\" >0.6671</td>\n",
       "      <td id=\"T_bd559_row1_col2\" class=\"data row1 col2\" >0.8204</td>\n",
       "      <td id=\"T_bd559_row1_col3\" class=\"data row1 col3\" >0.6474</td>\n",
       "      <td id=\"T_bd559_row1_col4\" class=\"data row1 col4\" >0.7237</td>\n",
       "      <td id=\"T_bd559_row1_col5\" class=\"data row1 col5\" >0.2343</td>\n",
       "      <td id=\"T_bd559_row1_col6\" class=\"data row1 col6\" >0.2479</td>\n",
       "    </tr>\n",
       "    <tr>\n",
       "      <th id=\"T_bd559_level0_row2\" class=\"row_heading level0 row2\" >2</th>\n",
       "      <td id=\"T_bd559_row2_col0\" class=\"data row2 col0\" >0.6456</td>\n",
       "      <td id=\"T_bd559_row2_col1\" class=\"data row2 col1\" >0.6712</td>\n",
       "      <td id=\"T_bd559_row2_col2\" class=\"data row2 col2\" >0.8212</td>\n",
       "      <td id=\"T_bd559_row2_col3\" class=\"data row2 col3\" >0.6506</td>\n",
       "      <td id=\"T_bd559_row2_col4\" class=\"data row2 col4\" >0.7260</td>\n",
       "      <td id=\"T_bd559_row2_col5\" class=\"data row2 col5\" >0.2431</td>\n",
       "      <td id=\"T_bd559_row2_col6\" class=\"data row2 col6\" >0.2566</td>\n",
       "    </tr>\n",
       "    <tr>\n",
       "      <th id=\"T_bd559_level0_row3\" class=\"row_heading level0 row3\" >3</th>\n",
       "      <td id=\"T_bd559_row3_col0\" class=\"data row3 col0\" >0.6416</td>\n",
       "      <td id=\"T_bd559_row3_col1\" class=\"data row3 col1\" >0.6686</td>\n",
       "      <td id=\"T_bd559_row3_col2\" class=\"data row3 col2\" >0.8221</td>\n",
       "      <td id=\"T_bd559_row3_col3\" class=\"data row3 col3\" >0.6468</td>\n",
       "      <td id=\"T_bd559_row3_col4\" class=\"data row3 col4\" >0.7240</td>\n",
       "      <td id=\"T_bd559_row3_col5\" class=\"data row3 col5\" >0.2332</td>\n",
       "      <td id=\"T_bd559_row3_col6\" class=\"data row3 col6\" >0.2472</td>\n",
       "    </tr>\n",
       "    <tr>\n",
       "      <th id=\"T_bd559_level0_row4\" class=\"row_heading level0 row4\" >4</th>\n",
       "      <td id=\"T_bd559_row4_col0\" class=\"data row4 col0\" >0.6444</td>\n",
       "      <td id=\"T_bd559_row4_col1\" class=\"data row4 col1\" >0.6679</td>\n",
       "      <td id=\"T_bd559_row4_col2\" class=\"data row4 col2\" >0.8265</td>\n",
       "      <td id=\"T_bd559_row4_col3\" class=\"data row4 col3\" >0.6483</td>\n",
       "      <td id=\"T_bd559_row4_col4\" class=\"data row4 col4\" >0.7266</td>\n",
       "      <td id=\"T_bd559_row4_col5\" class=\"data row4 col5\" >0.2388</td>\n",
       "      <td id=\"T_bd559_row4_col6\" class=\"data row4 col6\" >0.2536</td>\n",
       "    </tr>\n",
       "    <tr>\n",
       "      <th id=\"T_bd559_level0_row5\" class=\"row_heading level0 row5\" >5</th>\n",
       "      <td id=\"T_bd559_row5_col0\" class=\"data row5 col0\" >0.6455</td>\n",
       "      <td id=\"T_bd559_row5_col1\" class=\"data row5 col1\" >0.6660</td>\n",
       "      <td id=\"T_bd559_row5_col2\" class=\"data row5 col2\" >0.8282</td>\n",
       "      <td id=\"T_bd559_row5_col3\" class=\"data row5 col3\" >0.6489</td>\n",
       "      <td id=\"T_bd559_row5_col4\" class=\"data row5 col4\" >0.7277</td>\n",
       "      <td id=\"T_bd559_row5_col5\" class=\"data row5 col5\" >0.2410</td>\n",
       "      <td id=\"T_bd559_row5_col6\" class=\"data row5 col6\" >0.2561</td>\n",
       "    </tr>\n",
       "    <tr>\n",
       "      <th id=\"T_bd559_level0_row6\" class=\"row_heading level0 row6\" >6</th>\n",
       "      <td id=\"T_bd559_row6_col0\" class=\"data row6 col0\" >0.6390</td>\n",
       "      <td id=\"T_bd559_row6_col1\" class=\"data row6 col1\" >0.6651</td>\n",
       "      <td id=\"T_bd559_row6_col2\" class=\"data row6 col2\" >0.8248</td>\n",
       "      <td id=\"T_bd559_row6_col3\" class=\"data row6 col3\" >0.6439</td>\n",
       "      <td id=\"T_bd559_row6_col4\" class=\"data row6 col4\" >0.7232</td>\n",
       "      <td id=\"T_bd559_row6_col5\" class=\"data row6 col5\" >0.2264</td>\n",
       "      <td id=\"T_bd559_row6_col6\" class=\"data row6 col6\" >0.2411</td>\n",
       "    </tr>\n",
       "    <tr>\n",
       "      <th id=\"T_bd559_level0_row7\" class=\"row_heading level0 row7\" >7</th>\n",
       "      <td id=\"T_bd559_row7_col0\" class=\"data row7 col0\" >0.6436</td>\n",
       "      <td id=\"T_bd559_row7_col1\" class=\"data row7 col1\" >0.6691</td>\n",
       "      <td id=\"T_bd559_row7_col2\" class=\"data row7 col2\" >0.8209</td>\n",
       "      <td id=\"T_bd559_row7_col3\" class=\"data row7 col3\" >0.6489</td>\n",
       "      <td id=\"T_bd559_row7_col4\" class=\"data row7 col4\" >0.7248</td>\n",
       "      <td id=\"T_bd559_row7_col5\" class=\"data row7 col5\" >0.2384</td>\n",
       "      <td id=\"T_bd559_row7_col6\" class=\"data row7 col6\" >0.2520</td>\n",
       "    </tr>\n",
       "    <tr>\n",
       "      <th id=\"T_bd559_level0_row8\" class=\"row_heading level0 row8\" >8</th>\n",
       "      <td id=\"T_bd559_row8_col0\" class=\"data row8 col0\" >0.6425</td>\n",
       "      <td id=\"T_bd559_row8_col1\" class=\"data row8 col1\" >0.6718</td>\n",
       "      <td id=\"T_bd559_row8_col2\" class=\"data row8 col2\" >0.8263</td>\n",
       "      <td id=\"T_bd559_row8_col3\" class=\"data row8 col3\" >0.6466</td>\n",
       "      <td id=\"T_bd559_row8_col4\" class=\"data row8 col4\" >0.7255</td>\n",
       "      <td id=\"T_bd559_row8_col5\" class=\"data row8 col5\" >0.2342</td>\n",
       "      <td id=\"T_bd559_row8_col6\" class=\"data row8 col6\" >0.2491</td>\n",
       "    </tr>\n",
       "    <tr>\n",
       "      <th id=\"T_bd559_level0_row9\" class=\"row_heading level0 row9\" >9</th>\n",
       "      <td id=\"T_bd559_row9_col0\" class=\"data row9 col0\" >0.6410</td>\n",
       "      <td id=\"T_bd559_row9_col1\" class=\"data row9 col1\" >0.6691</td>\n",
       "      <td id=\"T_bd559_row9_col2\" class=\"data row9 col2\" >0.8219</td>\n",
       "      <td id=\"T_bd559_row9_col3\" class=\"data row9 col3\" >0.6463</td>\n",
       "      <td id=\"T_bd559_row9_col4\" class=\"data row9 col4\" >0.7236</td>\n",
       "      <td id=\"T_bd559_row9_col5\" class=\"data row9 col5\" >0.2318</td>\n",
       "      <td id=\"T_bd559_row9_col6\" class=\"data row9 col6\" >0.2458</td>\n",
       "    </tr>\n",
       "    <tr>\n",
       "      <th id=\"T_bd559_level0_row10\" class=\"row_heading level0 row10\" >Mean</th>\n",
       "      <td id=\"T_bd559_row10_col0\" class=\"data row10 col0\" >0.6428</td>\n",
       "      <td id=\"T_bd559_row10_col1\" class=\"data row10 col1\" >0.6684</td>\n",
       "      <td id=\"T_bd559_row10_col2\" class=\"data row10 col2\" >0.8237</td>\n",
       "      <td id=\"T_bd559_row10_col3\" class=\"data row10 col3\" >0.6475</td>\n",
       "      <td id=\"T_bd559_row10_col4\" class=\"data row10 col4\" >0.7251</td>\n",
       "      <td id=\"T_bd559_row10_col5\" class=\"data row10 col5\" >0.2358</td>\n",
       "      <td id=\"T_bd559_row10_col6\" class=\"data row10 col6\" >0.2501</td>\n",
       "    </tr>\n",
       "    <tr>\n",
       "      <th id=\"T_bd559_level0_row11\" class=\"row_heading level0 row11\" >Std</th>\n",
       "      <td id=\"T_bd559_row11_col0\" class=\"data row11 col0\" >0.0020</td>\n",
       "      <td id=\"T_bd559_row11_col1\" class=\"data row11 col1\" >0.0020</td>\n",
       "      <td id=\"T_bd559_row11_col2\" class=\"data row11 col2\" >0.0026</td>\n",
       "      <td id=\"T_bd559_row11_col3\" class=\"data row11 col3\" >0.0017</td>\n",
       "      <td id=\"T_bd559_row11_col4\" class=\"data row11 col4\" >0.0014</td>\n",
       "      <td id=\"T_bd559_row11_col5\" class=\"data row11 col5\" >0.0046</td>\n",
       "      <td id=\"T_bd559_row11_col6\" class=\"data row11 col6\" >0.0046</td>\n",
       "    </tr>\n",
       "  </tbody>\n",
       "</table>\n"
      ],
      "text/plain": [
       "<pandas.io.formats.style.Styler at 0x7f1fc523c790>"
      ]
     },
     "metadata": {},
     "output_type": "display_data"
    },
    {
     "data": {
      "text/html": [],
      "text/plain": [
       "<IPython.core.display.HTML object>"
      ]
     },
     "metadata": {},
     "output_type": "display_data"
    },
    {
     "data": {
      "text/html": [],
      "text/plain": [
       "<IPython.core.display.HTML object>"
      ]
     },
     "metadata": {},
     "output_type": "display_data"
    },
    {
     "data": {
      "image/png": "[encoded data removed]",
      "text/plain": [
       "<Figure size 480x330 with 1 Axes>"
      ]
     },
     "metadata": {},
     "output_type": "display_data"
    }
   ],
   "source": [
    "regression_model_ada, regression_model_lightgbm, regression_model_gbc, regression_model_rf = model.common.create_models(train_data, target_column)"
   ]
  },
  {
   "cell_type": "markdown",
   "metadata": {
    "execution": {
     "iopub.execute_input": "2023-06-08T23:08:22.530994Z",
     "iopub.status.busy": "2023-06-08T23:08:22.529719Z",
     "iopub.status.idle": "2023-06-08T23:08:22.542651Z",
     "shell.execute_reply": "2023-06-08T23:08:22.540043Z",
     "shell.execute_reply.started": "2023-06-08T23:08:22.530922Z"
    }
   },
   "source": [
    "**evaluate model**"
   ]
  },
  {
   "cell_type": "markdown",
   "metadata": {},
   "source": [
    "`lightgbm` shows very good AUC of `0.97`, `rf` as well with `1.0` train AUC.\n",
    "\n",
    "`rf` seemed like too overfit with 1.0 train AUC but its test precision as well is the best among others.\n",
    "\n",
    "`ada` shows very low recall thus inpractical.\n"
   ]
  },
  {
   "cell_type": "code",
   "execution_count": 8,
   "metadata": {
    "execution": {
     "iopub.execute_input": "2023-07-03T23:19:39.981156Z",
     "iopub.status.busy": "2023-07-03T23:19:39.980298Z",
     "iopub.status.idle": "2023-07-03T23:20:10.956464Z",
     "shell.execute_reply": "2023-07-03T23:20:10.954399Z",
     "shell.execute_reply.started": "2023-07-03T23:19:39.981099Z"
    }
   },
   "outputs": [
    {
     "data": {
      "text/html": [
       "<style type=\"text/css\">\n",
       "</style>\n",
       "<table id=\"T_b0788\">\n",
       "  <thead>\n",
       "    <tr>\n",
       "      <th class=\"blank level0\" >&nbsp;</th>\n",
       "      <th id=\"T_b0788_level0_col0\" class=\"col_heading level0 col0\" >Model</th>\n",
       "      <th id=\"T_b0788_level0_col1\" class=\"col_heading level0 col1\" >Accuracy</th>\n",
       "      <th id=\"T_b0788_level0_col2\" class=\"col_heading level0 col2\" >AUC</th>\n",
       "      <th id=\"T_b0788_level0_col3\" class=\"col_heading level0 col3\" >Recall</th>\n",
       "      <th id=\"T_b0788_level0_col4\" class=\"col_heading level0 col4\" >Prec.</th>\n",
       "      <th id=\"T_b0788_level0_col5\" class=\"col_heading level0 col5\" >F1</th>\n",
       "      <th id=\"T_b0788_level0_col6\" class=\"col_heading level0 col6\" >Kappa</th>\n",
       "      <th id=\"T_b0788_level0_col7\" class=\"col_heading level0 col7\" >MCC</th>\n",
       "    </tr>\n",
       "  </thead>\n",
       "  <tbody>\n",
       "    <tr>\n",
       "      <th id=\"T_b0788_level0_row0\" class=\"row_heading level0 row0\" >0</th>\n",
       "      <td id=\"T_b0788_row0_col0\" class=\"data row0 col0\" >Ada Boost Classifier</td>\n",
       "      <td id=\"T_b0788_row0_col1\" class=\"data row0 col1\" >0.6511</td>\n",
       "      <td id=\"T_b0788_row0_col2\" class=\"data row0 col2\" >0.6838</td>\n",
       "      <td id=\"T_b0788_row0_col3\" class=\"data row0 col3\" >0.8538</td>\n",
       "      <td id=\"T_b0788_row0_col4\" class=\"data row0 col4\" >0.6479</td>\n",
       "      <td id=\"T_b0788_row0_col5\" class=\"data row0 col5\" >0.7367</td>\n",
       "      <td id=\"T_b0788_row0_col6\" class=\"data row0 col6\" >0.2474</td>\n",
       "      <td id=\"T_b0788_row0_col7\" class=\"data row0 col7\" >0.2689</td>\n",
       "    </tr>\n",
       "  </tbody>\n",
       "</table>\n"
      ],
      "text/plain": [
       "<pandas.io.formats.style.Styler at 0x7f1fc43b3130>"
      ]
     },
     "metadata": {},
     "output_type": "display_data"
    },
    {
     "data": {
      "text/html": [
       "<style type=\"text/css\">\n",
       "</style>\n",
       "<table id=\"T_7e2de\">\n",
       "  <thead>\n",
       "    <tr>\n",
       "      <th class=\"blank level0\" >&nbsp;</th>\n",
       "      <th id=\"T_7e2de_level0_col0\" class=\"col_heading level0 col0\" >Model</th>\n",
       "      <th id=\"T_7e2de_level0_col1\" class=\"col_heading level0 col1\" >Accuracy</th>\n",
       "      <th id=\"T_7e2de_level0_col2\" class=\"col_heading level0 col2\" >AUC</th>\n",
       "      <th id=\"T_7e2de_level0_col3\" class=\"col_heading level0 col3\" >Recall</th>\n",
       "      <th id=\"T_7e2de_level0_col4\" class=\"col_heading level0 col4\" >Prec.</th>\n",
       "      <th id=\"T_7e2de_level0_col5\" class=\"col_heading level0 col5\" >F1</th>\n",
       "      <th id=\"T_7e2de_level0_col6\" class=\"col_heading level0 col6\" >Kappa</th>\n",
       "      <th id=\"T_7e2de_level0_col7\" class=\"col_heading level0 col7\" >MCC</th>\n",
       "    </tr>\n",
       "  </thead>\n",
       "  <tbody>\n",
       "    <tr>\n",
       "      <th id=\"T_7e2de_level0_row0\" class=\"row_heading level0 row0\" >0</th>\n",
       "      <td id=\"T_7e2de_row0_col0\" class=\"data row0 col0\" >Gradient Boosting Classifier</td>\n",
       "      <td id=\"T_7e2de_row0_col1\" class=\"data row0 col1\" >0.6537</td>\n",
       "      <td id=\"T_7e2de_row0_col2\" class=\"data row0 col2\" >0.6890</td>\n",
       "      <td id=\"T_7e2de_row0_col3\" class=\"data row0 col3\" >0.8620</td>\n",
       "      <td id=\"T_7e2de_row0_col4\" class=\"data row0 col4\" >0.6483</td>\n",
       "      <td id=\"T_7e2de_row0_col5\" class=\"data row0 col5\" >0.7401</td>\n",
       "      <td id=\"T_7e2de_row0_col6\" class=\"data row0 col6\" >0.2516</td>\n",
       "      <td id=\"T_7e2de_row0_col7\" class=\"data row0 col7\" >0.2755</td>\n",
       "    </tr>\n",
       "  </tbody>\n",
       "</table>\n"
      ],
      "text/plain": [
       "<pandas.io.formats.style.Styler at 0x7f1fc528a440>"
      ]
     },
     "metadata": {},
     "output_type": "display_data"
    },
    {
     "data": {
      "text/html": [
       "<style type=\"text/css\">\n",
       "</style>\n",
       "<table id=\"T_dde82\">\n",
       "  <thead>\n",
       "    <tr>\n",
       "      <th class=\"blank level0\" >&nbsp;</th>\n",
       "      <th id=\"T_dde82_level0_col0\" class=\"col_heading level0 col0\" >Model</th>\n",
       "      <th id=\"T_dde82_level0_col1\" class=\"col_heading level0 col1\" >Accuracy</th>\n",
       "      <th id=\"T_dde82_level0_col2\" class=\"col_heading level0 col2\" >AUC</th>\n",
       "      <th id=\"T_dde82_level0_col3\" class=\"col_heading level0 col3\" >Recall</th>\n",
       "      <th id=\"T_dde82_level0_col4\" class=\"col_heading level0 col4\" >Prec.</th>\n",
       "      <th id=\"T_dde82_level0_col5\" class=\"col_heading level0 col5\" >F1</th>\n",
       "      <th id=\"T_dde82_level0_col6\" class=\"col_heading level0 col6\" >Kappa</th>\n",
       "      <th id=\"T_dde82_level0_col7\" class=\"col_heading level0 col7\" >MCC</th>\n",
       "    </tr>\n",
       "  </thead>\n",
       "  <tbody>\n",
       "    <tr>\n",
       "      <th id=\"T_dde82_level0_row0\" class=\"row_heading level0 row0\" >0</th>\n",
       "      <td id=\"T_dde82_row0_col0\" class=\"data row0 col0\" >Light Gradient Boosting Machine</td>\n",
       "      <td id=\"T_dde82_row0_col1\" class=\"data row0 col1\" >0.6603</td>\n",
       "      <td id=\"T_dde82_row0_col2\" class=\"data row0 col2\" >0.6998</td>\n",
       "      <td id=\"T_dde82_row0_col3\" class=\"data row0 col3\" >0.8637</td>\n",
       "      <td id=\"T_dde82_row0_col4\" class=\"data row0 col4\" >0.6535</td>\n",
       "      <td id=\"T_dde82_row0_col5\" class=\"data row0 col5\" >0.7441</td>\n",
       "      <td id=\"T_dde82_row0_col6\" class=\"data row0 col6\" >0.2667</td>\n",
       "      <td id=\"T_dde82_row0_col7\" class=\"data row0 col7\" >0.2906</td>\n",
       "    </tr>\n",
       "  </tbody>\n",
       "</table>\n"
      ],
      "text/plain": [
       "<pandas.io.formats.style.Styler at 0x7f1fc4a67970>"
      ]
     },
     "metadata": {},
     "output_type": "display_data"
    },
    {
     "data": {
      "text/html": [
       "<style type=\"text/css\">\n",
       "</style>\n",
       "<table id=\"T_21021\">\n",
       "  <thead>\n",
       "    <tr>\n",
       "      <th class=\"blank level0\" >&nbsp;</th>\n",
       "      <th id=\"T_21021_level0_col0\" class=\"col_heading level0 col0\" >Model</th>\n",
       "      <th id=\"T_21021_level0_col1\" class=\"col_heading level0 col1\" >Accuracy</th>\n",
       "      <th id=\"T_21021_level0_col2\" class=\"col_heading level0 col2\" >AUC</th>\n",
       "      <th id=\"T_21021_level0_col3\" class=\"col_heading level0 col3\" >Recall</th>\n",
       "      <th id=\"T_21021_level0_col4\" class=\"col_heading level0 col4\" >Prec.</th>\n",
       "      <th id=\"T_21021_level0_col5\" class=\"col_heading level0 col5\" >F1</th>\n",
       "      <th id=\"T_21021_level0_col6\" class=\"col_heading level0 col6\" >Kappa</th>\n",
       "      <th id=\"T_21021_level0_col7\" class=\"col_heading level0 col7\" >MCC</th>\n",
       "    </tr>\n",
       "  </thead>\n",
       "  <tbody>\n",
       "    <tr>\n",
       "      <th id=\"T_21021_level0_row0\" class=\"row_heading level0 row0\" >0</th>\n",
       "      <td id=\"T_21021_row0_col0\" class=\"data row0 col0\" >Random Forest Classifier</td>\n",
       "      <td id=\"T_21021_row0_col1\" class=\"data row0 col1\" >0.8928</td>\n",
       "      <td id=\"T_21021_row0_col2\" class=\"data row0 col2\" >0.9663</td>\n",
       "      <td id=\"T_21021_row0_col3\" class=\"data row0 col3\" >0.9460</td>\n",
       "      <td id=\"T_21021_row0_col4\" class=\"data row0 col4\" >0.8763</td>\n",
       "      <td id=\"T_21021_row0_col5\" class=\"data row0 col5\" >0.9098</td>\n",
       "      <td id=\"T_21021_row0_col6\" class=\"data row0 col6\" >0.7781</td>\n",
       "      <td id=\"T_21021_row0_col7\" class=\"data row0 col7\" >0.7816</td>\n",
       "    </tr>\n",
       "  </tbody>\n",
       "</table>\n"
      ],
      "text/plain": [
       "<pandas.io.formats.style.Styler at 0x7f1fc47be7d0>"
      ]
     },
     "metadata": {},
     "output_type": "display_data"
    }
   ],
   "source": [
    "train_prediction_ada, train_prediction_gbc, train_prediction_lightgbm, train_prediction_rf = model.common.batch_predict_and_odds(train_data, [regression_model_ada, regression_model_gbc, regression_model_lightgbm, regression_model_rf])"
   ]
  },
  {
   "cell_type": "code",
   "execution_count": 9,
   "metadata": {
    "execution": {
     "iopub.execute_input": "2023-08-14T22:32:37.804025Z",
     "iopub.status.busy": "2023-08-14T22:32:37.802896Z",
     "iopub.status.idle": "2023-08-14T22:32:46.879495Z",
     "shell.execute_reply": "2023-08-14T22:32:46.878873Z",
     "shell.execute_reply.started": "2023-08-14T22:32:37.803997Z"
    }
   },
   "outputs": [
    {
     "data": {
      "text/html": [
       "<style type=\"text/css\">\n",
       "</style>\n",
       "<table id=\"T_be543\">\n",
       "  <thead>\n",
       "    <tr>\n",
       "      <th class=\"blank level0\" >&nbsp;</th>\n",
       "      <th id=\"T_be543_level0_col0\" class=\"col_heading level0 col0\" >Model</th>\n",
       "      <th id=\"T_be543_level0_col1\" class=\"col_heading level0 col1\" >Accuracy</th>\n",
       "      <th id=\"T_be543_level0_col2\" class=\"col_heading level0 col2\" >AUC</th>\n",
       "      <th id=\"T_be543_level0_col3\" class=\"col_heading level0 col3\" >Recall</th>\n",
       "      <th id=\"T_be543_level0_col4\" class=\"col_heading level0 col4\" >Prec.</th>\n",
       "      <th id=\"T_be543_level0_col5\" class=\"col_heading level0 col5\" >F1</th>\n",
       "      <th id=\"T_be543_level0_col6\" class=\"col_heading level0 col6\" >Kappa</th>\n",
       "      <th id=\"T_be543_level0_col7\" class=\"col_heading level0 col7\" >MCC</th>\n",
       "    </tr>\n",
       "  </thead>\n",
       "  <tbody>\n",
       "    <tr>\n",
       "      <th id=\"T_be543_level0_row0\" class=\"row_heading level0 row0\" >0</th>\n",
       "      <td id=\"T_be543_row0_col0\" class=\"data row0 col0\" >Ada Boost Classifier</td>\n",
       "      <td id=\"T_be543_row0_col1\" class=\"data row0 col1\" >0.6105</td>\n",
       "      <td id=\"T_be543_row0_col2\" class=\"data row0 col2\" >0.6168</td>\n",
       "      <td id=\"T_be543_row0_col3\" class=\"data row0 col3\" >0.8689</td>\n",
       "      <td id=\"T_be543_row0_col4\" class=\"data row0 col4\" >0.6123</td>\n",
       "      <td id=\"T_be543_row0_col5\" class=\"data row0 col5\" >0.7184</td>\n",
       "      <td id=\"T_be543_row0_col6\" class=\"data row0 col6\" >0.1445</td>\n",
       "      <td id=\"T_be543_row0_col7\" class=\"data row0 col7\" >0.1699</td>\n",
       "    </tr>\n",
       "  </tbody>\n",
       "</table>\n"
      ],
      "text/plain": [
       "<pandas.io.formats.style.Styler at 0x7f9822a4fe20>"
      ]
     },
     "metadata": {},
     "output_type": "display_data"
    },
    {
     "data": {
      "text/html": [
       "<style type=\"text/css\">\n",
       "</style>\n",
       "<table id=\"T_e260b\">\n",
       "  <thead>\n",
       "    <tr>\n",
       "      <th class=\"blank level0\" >&nbsp;</th>\n",
       "      <th id=\"T_e260b_level0_col0\" class=\"col_heading level0 col0\" >Model</th>\n",
       "      <th id=\"T_e260b_level0_col1\" class=\"col_heading level0 col1\" >Accuracy</th>\n",
       "      <th id=\"T_e260b_level0_col2\" class=\"col_heading level0 col2\" >AUC</th>\n",
       "      <th id=\"T_e260b_level0_col3\" class=\"col_heading level0 col3\" >Recall</th>\n",
       "      <th id=\"T_e260b_level0_col4\" class=\"col_heading level0 col4\" >Prec.</th>\n",
       "      <th id=\"T_e260b_level0_col5\" class=\"col_heading level0 col5\" >F1</th>\n",
       "      <th id=\"T_e260b_level0_col6\" class=\"col_heading level0 col6\" >Kappa</th>\n",
       "      <th id=\"T_e260b_level0_col7\" class=\"col_heading level0 col7\" >MCC</th>\n",
       "    </tr>\n",
       "  </thead>\n",
       "  <tbody>\n",
       "    <tr>\n",
       "      <th id=\"T_e260b_level0_row0\" class=\"row_heading level0 row0\" >0</th>\n",
       "      <td id=\"T_e260b_row0_col0\" class=\"data row0 col0\" >Gradient Boosting Classifier</td>\n",
       "      <td id=\"T_e260b_row0_col1\" class=\"data row0 col1\" >0.6147</td>\n",
       "      <td id=\"T_e260b_row0_col2\" class=\"data row0 col2\" >0.6252</td>\n",
       "      <td id=\"T_e260b_row0_col3\" class=\"data row0 col3\" >0.8848</td>\n",
       "      <td id=\"T_e260b_row0_col4\" class=\"data row0 col4\" >0.6130</td>\n",
       "      <td id=\"T_e260b_row0_col5\" class=\"data row0 col5\" >0.7242</td>\n",
       "      <td id=\"T_e260b_row0_col6\" class=\"data row0 col6\" >0.1500</td>\n",
       "      <td id=\"T_e260b_row0_col7\" class=\"data row0 col7\" >0.1810</td>\n",
       "    </tr>\n",
       "  </tbody>\n",
       "</table>\n"
      ],
      "text/plain": [
       "<pandas.io.formats.style.Styler at 0x7f98a1aa9030>"
      ]
     },
     "metadata": {},
     "output_type": "display_data"
    },
    {
     "data": {
      "text/html": [
       "<style type=\"text/css\">\n",
       "</style>\n",
       "<table id=\"T_d604d\">\n",
       "  <thead>\n",
       "    <tr>\n",
       "      <th class=\"blank level0\" >&nbsp;</th>\n",
       "      <th id=\"T_d604d_level0_col0\" class=\"col_heading level0 col0\" >Model</th>\n",
       "      <th id=\"T_d604d_level0_col1\" class=\"col_heading level0 col1\" >Accuracy</th>\n",
       "      <th id=\"T_d604d_level0_col2\" class=\"col_heading level0 col2\" >AUC</th>\n",
       "      <th id=\"T_d604d_level0_col3\" class=\"col_heading level0 col3\" >Recall</th>\n",
       "      <th id=\"T_d604d_level0_col4\" class=\"col_heading level0 col4\" >Prec.</th>\n",
       "      <th id=\"T_d604d_level0_col5\" class=\"col_heading level0 col5\" >F1</th>\n",
       "      <th id=\"T_d604d_level0_col6\" class=\"col_heading level0 col6\" >Kappa</th>\n",
       "      <th id=\"T_d604d_level0_col7\" class=\"col_heading level0 col7\" >MCC</th>\n",
       "    </tr>\n",
       "  </thead>\n",
       "  <tbody>\n",
       "    <tr>\n",
       "      <th id=\"T_d604d_level0_row0\" class=\"row_heading level0 row0\" >0</th>\n",
       "      <td id=\"T_d604d_row0_col0\" class=\"data row0 col0\" >Light Gradient Boosting Machine</td>\n",
       "      <td id=\"T_d604d_row0_col1\" class=\"data row0 col1\" >0.6261</td>\n",
       "      <td id=\"T_d604d_row0_col2\" class=\"data row0 col2\" >0.6443</td>\n",
       "      <td id=\"T_d604d_row0_col3\" class=\"data row0 col3\" >0.8941</td>\n",
       "      <td id=\"T_d604d_row0_col4\" class=\"data row0 col4\" >0.6199</td>\n",
       "      <td id=\"T_d604d_row0_col5\" class=\"data row0 col5\" >0.7322</td>\n",
       "      <td id=\"T_d604d_row0_col6\" class=\"data row0 col6\" >0.1752</td>\n",
       "      <td id=\"T_d604d_row0_col7\" class=\"data row0 col7\" >0.2111</td>\n",
       "    </tr>\n",
       "  </tbody>\n",
       "</table>\n"
      ],
      "text/plain": [
       "<pandas.io.formats.style.Styler at 0x7f98215d3e50>"
      ]
     },
     "metadata": {},
     "output_type": "display_data"
    },
    {
     "data": {
      "text/html": [
       "<style type=\"text/css\">\n",
       "</style>\n",
       "<table id=\"T_0b9b4\">\n",
       "  <thead>\n",
       "    <tr>\n",
       "      <th class=\"blank level0\" >&nbsp;</th>\n",
       "      <th id=\"T_0b9b4_level0_col0\" class=\"col_heading level0 col0\" >Model</th>\n",
       "      <th id=\"T_0b9b4_level0_col1\" class=\"col_heading level0 col1\" >Accuracy</th>\n",
       "      <th id=\"T_0b9b4_level0_col2\" class=\"col_heading level0 col2\" >AUC</th>\n",
       "      <th id=\"T_0b9b4_level0_col3\" class=\"col_heading level0 col3\" >Recall</th>\n",
       "      <th id=\"T_0b9b4_level0_col4\" class=\"col_heading level0 col4\" >Prec.</th>\n",
       "      <th id=\"T_0b9b4_level0_col5\" class=\"col_heading level0 col5\" >F1</th>\n",
       "      <th id=\"T_0b9b4_level0_col6\" class=\"col_heading level0 col6\" >Kappa</th>\n",
       "      <th id=\"T_0b9b4_level0_col7\" class=\"col_heading level0 col7\" >MCC</th>\n",
       "    </tr>\n",
       "  </thead>\n",
       "  <tbody>\n",
       "    <tr>\n",
       "      <th id=\"T_0b9b4_level0_row0\" class=\"row_heading level0 row0\" >0</th>\n",
       "      <td id=\"T_0b9b4_row0_col0\" class=\"data row0 col0\" >Random Forest Classifier</td>\n",
       "      <td id=\"T_0b9b4_row0_col1\" class=\"data row0 col1\" >0.8786</td>\n",
       "      <td id=\"T_0b9b4_row0_col2\" class=\"data row0 col2\" >0.9550</td>\n",
       "      <td id=\"T_0b9b4_row0_col3\" class=\"data row0 col3\" >0.9286</td>\n",
       "      <td id=\"T_0b9b4_row0_col4\" class=\"data row0 col4\" >0.8682</td>\n",
       "      <td id=\"T_0b9b4_row0_col5\" class=\"data row0 col5\" >0.8974</td>\n",
       "      <td id=\"T_0b9b4_row0_col6\" class=\"data row0 col6\" >0.7491</td>\n",
       "      <td id=\"T_0b9b4_row0_col7\" class=\"data row0 col7\" >0.7516</td>\n",
       "    </tr>\n",
       "  </tbody>\n",
       "</table>\n"
      ],
      "text/plain": [
       "<pandas.io.formats.style.Styler at 0x7f9823104d90>"
      ]
     },
     "metadata": {},
     "output_type": "display_data"
    }
   ],
   "source": [
    "train_prediction_ada, train_prediction_gbc, train_prediction_lightgbm, train_prediction_rf = model.common.batch_predict_and_odds(train_data, [regression_model_ada, regression_model_gbc, regression_model_lightgbm, regression_model_rf])"
   ]
  },
  {
   "cell_type": "code",
   "execution_count": 9,
   "metadata": {
    "execution": {
     "iopub.execute_input": "2023-07-03T23:20:10.959480Z",
     "iopub.status.busy": "2023-07-03T23:20:10.958824Z",
     "iopub.status.idle": "2023-07-03T23:20:11.568200Z",
     "shell.execute_reply": "2023-07-03T23:20:11.566219Z",
     "shell.execute_reply.started": "2023-07-03T23:20:10.959431Z"
    }
   },
   "outputs": [
    {
     "data": {
      "text/html": [
       "<table>\n",
       "<tbody>\n",
       "<tr><td>model   </td><td>0.6        </td><td>0.7        </td><td>0.75       </td><td>0.8        </td></tr>\n",
       "<tr><td>ada     </td><td>(0, nan)   </td><td>(0, nan)   </td><td>(0, nan)   </td><td>(0, nan)   </td></tr>\n",
       "<tr><td>gbc     </td><td>(560, 0.77)</td><td>(332, 0.82)</td><td>(226, 0.88)</td><td>(122, 0.95)</td></tr>\n",
       "<tr><td>lightgbm</td><td>(549, 0.8) </td><td>(331, 0.86)</td><td>(236, 0.89)</td><td>(132, 0.95)</td></tr>\n",
       "<tr><td>rf      </td><td>(635, 0.94)</td><td>(543, 0.97)</td><td>(487, 0.98)</td><td>(418, 1.0) </td></tr>\n",
       "</tbody>\n",
       "</table>"
      ],
      "text/plain": [
       "'<table>\\n<tbody>\\n<tr><td>model   </td><td>0.6        </td><td>0.7        </td><td>0.75       </td><td>0.8        </td></tr>\\n<tr><td>ada     </td><td>(0, nan)   </td><td>(0, nan)   </td><td>(0, nan)   </td><td>(0, nan)   </td></tr>\\n<tr><td>gbc     </td><td>(560, 0.77)</td><td>(332, 0.82)</td><td>(226, 0.88)</td><td>(122, 0.95)</td></tr>\\n<tr><td>lightgbm</td><td>(549, 0.8) </td><td>(331, 0.86)</td><td>(236, 0.89)</td><td>(132, 0.95)</td></tr>\\n<tr><td>rf      </td><td>(635, 0.94)</td><td>(543, 0.97)</td><td>(487, 0.98)</td><td>(418, 1.0) </td></tr>\\n</tbody>\\n</table>'"
      ]
     },
     "execution_count": 9,
     "metadata": {},
     "output_type": "execute_result"
    }
   ],
   "source": [
    "model.common.evaluate_predictions([(train_prediction_ada, \"ada\"), (train_prediction_gbc, \"gbc\"), (train_prediction_lightgbm, \"lightgbm\"), (train_prediction_rf, \"rf\")], [0.6, 0.7, 0.75, 0.8], target_column)"
   ]
  },
  {
   "cell_type": "code",
   "execution_count": 10,
   "metadata": {
    "execution": {
     "iopub.execute_input": "2023-08-14T22:33:07.682453Z",
     "iopub.status.busy": "2023-08-14T22:33:07.682126Z",
     "iopub.status.idle": "2023-08-14T22:33:07.863670Z",
     "shell.execute_reply": "2023-08-14T22:33:07.863081Z",
     "shell.execute_reply.started": "2023-08-14T22:33:07.682430Z"
    }
   },
   "outputs": [
    {
     "data": {
      "text/html": [
       "<table>\n",
       "<tbody>\n",
       "<tr><td>model   </td><td>0.6        </td><td>0.7        </td><td>0.75       </td><td>0.8        </td></tr>\n",
       "<tr><td>ada     </td><td>(0, nan)   </td><td>(0, nan)   </td><td>(0, nan)   </td><td>(0, nan)   </td></tr>\n",
       "<tr><td>gbc     </td><td>(313, 0.64)</td><td>(10, 0.7)  </td><td>(0, nan)   </td><td>(0, nan)   </td></tr>\n",
       "<tr><td>lightgbm</td><td>(281, 0.68)</td><td>(21, 0.76) </td><td>(1, 0.0)   </td><td>(0, nan)   </td></tr>\n",
       "<tr><td>rf      </td><td>(596, 0.93)</td><td>(501, 0.98)</td><td>(449, 0.99)</td><td>(342, 0.99)</td></tr>\n",
       "</tbody>\n",
       "</table>"
      ],
      "text/plain": [
       "'<table>\\n<tbody>\\n<tr><td>model   </td><td>0.6        </td><td>0.7        </td><td>0.75       </td><td>0.8        </td></tr>\\n<tr><td>ada     </td><td>(0, nan)   </td><td>(0, nan)   </td><td>(0, nan)   </td><td>(0, nan)   </td></tr>\\n<tr><td>gbc     </td><td>(313, 0.64)</td><td>(10, 0.7)  </td><td>(0, nan)   </td><td>(0, nan)   </td></tr>\\n<tr><td>lightgbm</td><td>(281, 0.68)</td><td>(21, 0.76) </td><td>(1, 0.0)   </td><td>(0, nan)   </td></tr>\\n<tr><td>rf      </td><td>(596, 0.93)</td><td>(501, 0.98)</td><td>(449, 0.99)</td><td>(342, 0.99)</td></tr>\\n</tbody>\\n</table>'"
      ]
     },
     "execution_count": 10,
     "metadata": {},
     "output_type": "execute_result"
    }
   ],
   "source": [
    "model.common.evaluate_predictions([(train_prediction_ada, \"ada\"), (train_prediction_gbc, \"gbc\"), (train_prediction_lightgbm, \"lightgbm\"), (train_prediction_rf, \"rf\")], [0.6, 0.7, 0.75, 0.8], target_column)"
   ]
  },
  {
   "cell_type": "markdown",
   "metadata": {
    "execution": {
     "iopub.execute_input": "2023-06-07T00:40:23.948013Z",
     "iopub.status.busy": "2023-06-07T00:40:23.947407Z",
     "iopub.status.idle": "2023-06-07T00:40:23.953130Z",
     "shell.execute_reply": "2023-06-07T00:40:23.952520Z",
     "shell.execute_reply.started": "2023-06-07T00:40:23.947955Z"
    }
   },
   "source": [
    "**test prediction**"
   ]
  },
  {
   "cell_type": "code",
   "execution_count": 10,
   "metadata": {
    "execution": {
     "iopub.execute_input": "2023-07-03T23:20:11.571932Z",
     "iopub.status.busy": "2023-07-03T23:20:11.571168Z",
     "iopub.status.idle": "2023-07-03T23:20:14.851434Z",
     "shell.execute_reply": "2023-07-03T23:20:14.849399Z",
     "shell.execute_reply.started": "2023-07-03T23:20:11.571876Z"
    }
   },
   "outputs": [
    {
     "data": {
      "text/html": [
       "<style type=\"text/css\">\n",
       "</style>\n",
       "<table id=\"T_51fc9\">\n",
       "  <thead>\n",
       "    <tr>\n",
       "      <th class=\"blank level0\" >&nbsp;</th>\n",
       "      <th id=\"T_51fc9_level0_col0\" class=\"col_heading level0 col0\" >Model</th>\n",
       "      <th id=\"T_51fc9_level0_col1\" class=\"col_heading level0 col1\" >Accuracy</th>\n",
       "      <th id=\"T_51fc9_level0_col2\" class=\"col_heading level0 col2\" >AUC</th>\n",
       "      <th id=\"T_51fc9_level0_col3\" class=\"col_heading level0 col3\" >Recall</th>\n",
       "      <th id=\"T_51fc9_level0_col4\" class=\"col_heading level0 col4\" >Prec.</th>\n",
       "      <th id=\"T_51fc9_level0_col5\" class=\"col_heading level0 col5\" >F1</th>\n",
       "      <th id=\"T_51fc9_level0_col6\" class=\"col_heading level0 col6\" >Kappa</th>\n",
       "      <th id=\"T_51fc9_level0_col7\" class=\"col_heading level0 col7\" >MCC</th>\n",
       "    </tr>\n",
       "  </thead>\n",
       "  <tbody>\n",
       "    <tr>\n",
       "      <th id=\"T_51fc9_level0_row0\" class=\"row_heading level0 row0\" >0</th>\n",
       "      <td id=\"T_51fc9_row0_col0\" class=\"data row0 col0\" >Ada Boost Classifier</td>\n",
       "      <td id=\"T_51fc9_row0_col1\" class=\"data row0 col1\" >0.6356</td>\n",
       "      <td id=\"T_51fc9_row0_col2\" class=\"data row0 col2\" >0.6647</td>\n",
       "      <td id=\"T_51fc9_row0_col3\" class=\"data row0 col3\" >0.8418</td>\n",
       "      <td id=\"T_51fc9_row0_col4\" class=\"data row0 col4\" >0.6368</td>\n",
       "      <td id=\"T_51fc9_row0_col5\" class=\"data row0 col5\" >0.7251</td>\n",
       "      <td id=\"T_51fc9_row0_col6\" class=\"data row0 col6\" >0.2144</td>\n",
       "      <td id=\"T_51fc9_row0_col7\" class=\"data row0 col7\" >0.2336</td>\n",
       "    </tr>\n",
       "  </tbody>\n",
       "</table>\n"
      ],
      "text/plain": [
       "<pandas.io.formats.style.Styler at 0x7f1fc47bf0d0>"
      ]
     },
     "metadata": {},
     "output_type": "display_data"
    },
    {
     "data": {
      "text/html": [
       "<style type=\"text/css\">\n",
       "</style>\n",
       "<table id=\"T_226ce\">\n",
       "  <thead>\n",
       "    <tr>\n",
       "      <th class=\"blank level0\" >&nbsp;</th>\n",
       "      <th id=\"T_226ce_level0_col0\" class=\"col_heading level0 col0\" >Model</th>\n",
       "      <th id=\"T_226ce_level0_col1\" class=\"col_heading level0 col1\" >Accuracy</th>\n",
       "      <th id=\"T_226ce_level0_col2\" class=\"col_heading level0 col2\" >AUC</th>\n",
       "      <th id=\"T_226ce_level0_col3\" class=\"col_heading level0 col3\" >Recall</th>\n",
       "      <th id=\"T_226ce_level0_col4\" class=\"col_heading level0 col4\" >Prec.</th>\n",
       "      <th id=\"T_226ce_level0_col5\" class=\"col_heading level0 col5\" >F1</th>\n",
       "      <th id=\"T_226ce_level0_col6\" class=\"col_heading level0 col6\" >Kappa</th>\n",
       "      <th id=\"T_226ce_level0_col7\" class=\"col_heading level0 col7\" >MCC</th>\n",
       "    </tr>\n",
       "  </thead>\n",
       "  <tbody>\n",
       "    <tr>\n",
       "      <th id=\"T_226ce_level0_row0\" class=\"row_heading level0 row0\" >0</th>\n",
       "      <td id=\"T_226ce_row0_col0\" class=\"data row0 col0\" >Gradient Boosting Classifier</td>\n",
       "      <td id=\"T_226ce_row0_col1\" class=\"data row0 col1\" >0.6362</td>\n",
       "      <td id=\"T_226ce_row0_col2\" class=\"data row0 col2\" >0.6669</td>\n",
       "      <td id=\"T_226ce_row0_col3\" class=\"data row0 col3\" >0.8520</td>\n",
       "      <td id=\"T_226ce_row0_col4\" class=\"data row0 col4\" >0.6353</td>\n",
       "      <td id=\"T_226ce_row0_col5\" class=\"data row0 col5\" >0.7279</td>\n",
       "      <td id=\"T_226ce_row0_col6\" class=\"data row0 col6\" >0.2131</td>\n",
       "      <td id=\"T_226ce_row0_col7\" class=\"data row0 col7\" >0.2350</td>\n",
       "    </tr>\n",
       "  </tbody>\n",
       "</table>\n"
      ],
      "text/plain": [
       "<pandas.io.formats.style.Styler at 0x7f1fc46e2c20>"
      ]
     },
     "metadata": {},
     "output_type": "display_data"
    },
    {
     "data": {
      "text/html": [
       "<style type=\"text/css\">\n",
       "</style>\n",
       "<table id=\"T_1a164\">\n",
       "  <thead>\n",
       "    <tr>\n",
       "      <th class=\"blank level0\" >&nbsp;</th>\n",
       "      <th id=\"T_1a164_level0_col0\" class=\"col_heading level0 col0\" >Model</th>\n",
       "      <th id=\"T_1a164_level0_col1\" class=\"col_heading level0 col1\" >Accuracy</th>\n",
       "      <th id=\"T_1a164_level0_col2\" class=\"col_heading level0 col2\" >AUC</th>\n",
       "      <th id=\"T_1a164_level0_col3\" class=\"col_heading level0 col3\" >Recall</th>\n",
       "      <th id=\"T_1a164_level0_col4\" class=\"col_heading level0 col4\" >Prec.</th>\n",
       "      <th id=\"T_1a164_level0_col5\" class=\"col_heading level0 col5\" >F1</th>\n",
       "      <th id=\"T_1a164_level0_col6\" class=\"col_heading level0 col6\" >Kappa</th>\n",
       "      <th id=\"T_1a164_level0_col7\" class=\"col_heading level0 col7\" >MCC</th>\n",
       "    </tr>\n",
       "  </thead>\n",
       "  <tbody>\n",
       "    <tr>\n",
       "      <th id=\"T_1a164_level0_row0\" class=\"row_heading level0 row0\" >0</th>\n",
       "      <td id=\"T_1a164_row0_col0\" class=\"data row0 col0\" >Light Gradient Boosting Machine</td>\n",
       "      <td id=\"T_1a164_row0_col1\" class=\"data row0 col1\" >0.6344</td>\n",
       "      <td id=\"T_1a164_row0_col2\" class=\"data row0 col2\" >0.6644</td>\n",
       "      <td id=\"T_1a164_row0_col3\" class=\"data row0 col3\" >0.8453</td>\n",
       "      <td id=\"T_1a164_row0_col4\" class=\"data row0 col4\" >0.6351</td>\n",
       "      <td id=\"T_1a164_row0_col5\" class=\"data row0 col5\" >0.7253</td>\n",
       "      <td id=\"T_1a164_row0_col6\" class=\"data row0 col6\" >0.2106</td>\n",
       "      <td id=\"T_1a164_row0_col7\" class=\"data row0 col7\" >0.2307</td>\n",
       "    </tr>\n",
       "  </tbody>\n",
       "</table>\n"
      ],
      "text/plain": [
       "<pandas.io.formats.style.Styler at 0x7f1fc47bd150>"
      ]
     },
     "metadata": {},
     "output_type": "display_data"
    },
    {
     "data": {
      "text/html": [
       "<style type=\"text/css\">\n",
       "</style>\n",
       "<table id=\"T_bb7f1\">\n",
       "  <thead>\n",
       "    <tr>\n",
       "      <th class=\"blank level0\" >&nbsp;</th>\n",
       "      <th id=\"T_bb7f1_level0_col0\" class=\"col_heading level0 col0\" >Model</th>\n",
       "      <th id=\"T_bb7f1_level0_col1\" class=\"col_heading level0 col1\" >Accuracy</th>\n",
       "      <th id=\"T_bb7f1_level0_col2\" class=\"col_heading level0 col2\" >AUC</th>\n",
       "      <th id=\"T_bb7f1_level0_col3\" class=\"col_heading level0 col3\" >Recall</th>\n",
       "      <th id=\"T_bb7f1_level0_col4\" class=\"col_heading level0 col4\" >Prec.</th>\n",
       "      <th id=\"T_bb7f1_level0_col5\" class=\"col_heading level0 col5\" >F1</th>\n",
       "      <th id=\"T_bb7f1_level0_col6\" class=\"col_heading level0 col6\" >Kappa</th>\n",
       "      <th id=\"T_bb7f1_level0_col7\" class=\"col_heading level0 col7\" >MCC</th>\n",
       "    </tr>\n",
       "  </thead>\n",
       "  <tbody>\n",
       "    <tr>\n",
       "      <th id=\"T_bb7f1_level0_row0\" class=\"row_heading level0 row0\" >0</th>\n",
       "      <td id=\"T_bb7f1_row0_col0\" class=\"data row0 col0\" >Random Forest Classifier</td>\n",
       "      <td id=\"T_bb7f1_row0_col1\" class=\"data row0 col1\" >0.6277</td>\n",
       "      <td id=\"T_bb7f1_row0_col2\" class=\"data row0 col2\" >0.6499</td>\n",
       "      <td id=\"T_bb7f1_row0_col3\" class=\"data row0 col3\" >0.8298</td>\n",
       "      <td id=\"T_bb7f1_row0_col4\" class=\"data row0 col4\" >0.6326</td>\n",
       "      <td id=\"T_bb7f1_row0_col5\" class=\"data row0 col5\" >0.7179</td>\n",
       "      <td id=\"T_bb7f1_row0_col6\" class=\"data row0 col6\" >0.1989</td>\n",
       "      <td id=\"T_bb7f1_row0_col7\" class=\"data row0 col7\" >0.2153</td>\n",
       "    </tr>\n",
       "  </tbody>\n",
       "</table>\n"
      ],
      "text/plain": [
       "<pandas.io.formats.style.Styler at 0x7f1fc46e10c0>"
      ]
     },
     "metadata": {},
     "output_type": "display_data"
    }
   ],
   "source": [
    "test_prediction_ada, test_prediction_gbc, test_prediction_lightgbm, test_prediction_rf = model.common.batch_predict_and_odds(test_data, [regression_model_ada, regression_model_gbc, regression_model_lightgbm, regression_model_rf])"
   ]
  },
  {
   "cell_type": "code",
   "execution_count": 11,
   "metadata": {
    "execution": {
     "iopub.execute_input": "2023-08-14T22:33:46.363035Z",
     "iopub.status.busy": "2023-08-14T22:33:46.362306Z",
     "iopub.status.idle": "2023-08-14T22:33:47.383080Z",
     "shell.execute_reply": "2023-08-14T22:33:47.382467Z",
     "shell.execute_reply.started": "2023-08-14T22:33:46.362974Z"
    }
   },
   "outputs": [
    {
     "data": {
      "text/html": [
       "<style type=\"text/css\">\n",
       "</style>\n",
       "<table id=\"T_2ec09\">\n",
       "  <thead>\n",
       "    <tr>\n",
       "      <th class=\"blank level0\" >&nbsp;</th>\n",
       "      <th id=\"T_2ec09_level0_col0\" class=\"col_heading level0 col0\" >Model</th>\n",
       "      <th id=\"T_2ec09_level0_col1\" class=\"col_heading level0 col1\" >Accuracy</th>\n",
       "      <th id=\"T_2ec09_level0_col2\" class=\"col_heading level0 col2\" >AUC</th>\n",
       "      <th id=\"T_2ec09_level0_col3\" class=\"col_heading level0 col3\" >Recall</th>\n",
       "      <th id=\"T_2ec09_level0_col4\" class=\"col_heading level0 col4\" >Prec.</th>\n",
       "      <th id=\"T_2ec09_level0_col5\" class=\"col_heading level0 col5\" >F1</th>\n",
       "      <th id=\"T_2ec09_level0_col6\" class=\"col_heading level0 col6\" >Kappa</th>\n",
       "      <th id=\"T_2ec09_level0_col7\" class=\"col_heading level0 col7\" >MCC</th>\n",
       "    </tr>\n",
       "  </thead>\n",
       "  <tbody>\n",
       "    <tr>\n",
       "      <th id=\"T_2ec09_level0_row0\" class=\"row_heading level0 row0\" >0</th>\n",
       "      <td id=\"T_2ec09_row0_col0\" class=\"data row0 col0\" >Ada Boost Classifier</td>\n",
       "      <td id=\"T_2ec09_row0_col1\" class=\"data row0 col1\" >0.5805</td>\n",
       "      <td id=\"T_2ec09_row0_col2\" class=\"data row0 col2\" >0.5785</td>\n",
       "      <td id=\"T_2ec09_row0_col3\" class=\"data row0 col3\" >0.8242</td>\n",
       "      <td id=\"T_2ec09_row0_col4\" class=\"data row0 col4\" >0.5959</td>\n",
       "      <td id=\"T_2ec09_row0_col5\" class=\"data row0 col5\" >0.6917</td>\n",
       "      <td id=\"T_2ec09_row0_col6\" class=\"data row0 col6\" >0.0858</td>\n",
       "      <td id=\"T_2ec09_row0_col7\" class=\"data row0 col7\" >0.0976</td>\n",
       "    </tr>\n",
       "  </tbody>\n",
       "</table>\n"
      ],
      "text/plain": [
       "<pandas.io.formats.style.Styler at 0x7f98215d2a70>"
      ]
     },
     "metadata": {},
     "output_type": "display_data"
    },
    {
     "data": {
      "text/html": [
       "<style type=\"text/css\">\n",
       "</style>\n",
       "<table id=\"T_9d456\">\n",
       "  <thead>\n",
       "    <tr>\n",
       "      <th class=\"blank level0\" >&nbsp;</th>\n",
       "      <th id=\"T_9d456_level0_col0\" class=\"col_heading level0 col0\" >Model</th>\n",
       "      <th id=\"T_9d456_level0_col1\" class=\"col_heading level0 col1\" >Accuracy</th>\n",
       "      <th id=\"T_9d456_level0_col2\" class=\"col_heading level0 col2\" >AUC</th>\n",
       "      <th id=\"T_9d456_level0_col3\" class=\"col_heading level0 col3\" >Recall</th>\n",
       "      <th id=\"T_9d456_level0_col4\" class=\"col_heading level0 col4\" >Prec.</th>\n",
       "      <th id=\"T_9d456_level0_col5\" class=\"col_heading level0 col5\" >F1</th>\n",
       "      <th id=\"T_9d456_level0_col6\" class=\"col_heading level0 col6\" >Kappa</th>\n",
       "      <th id=\"T_9d456_level0_col7\" class=\"col_heading level0 col7\" >MCC</th>\n",
       "    </tr>\n",
       "  </thead>\n",
       "  <tbody>\n",
       "    <tr>\n",
       "      <th id=\"T_9d456_level0_row0\" class=\"row_heading level0 row0\" >0</th>\n",
       "      <td id=\"T_9d456_row0_col0\" class=\"data row0 col0\" >Gradient Boosting Classifier</td>\n",
       "      <td id=\"T_9d456_row0_col1\" class=\"data row0 col1\" >0.5837</td>\n",
       "      <td id=\"T_9d456_row0_col2\" class=\"data row0 col2\" >0.5860</td>\n",
       "      <td id=\"T_9d456_row0_col3\" class=\"data row0 col3\" >0.8604</td>\n",
       "      <td id=\"T_9d456_row0_col4\" class=\"data row0 col4\" >0.5934</td>\n",
       "      <td id=\"T_9d456_row0_col5\" class=\"data row0 col5\" >0.7024</td>\n",
       "      <td id=\"T_9d456_row0_col6\" class=\"data row0 col6\" >0.0819</td>\n",
       "      <td id=\"T_9d456_row0_col7\" class=\"data row0 col7\" >0.0994</td>\n",
       "    </tr>\n",
       "  </tbody>\n",
       "</table>\n"
      ],
      "text/plain": [
       "<pandas.io.formats.style.Styler at 0x7f98a1aaaaa0>"
      ]
     },
     "metadata": {},
     "output_type": "display_data"
    },
    {
     "data": {
      "text/html": [
       "<style type=\"text/css\">\n",
       "</style>\n",
       "<table id=\"T_15da1\">\n",
       "  <thead>\n",
       "    <tr>\n",
       "      <th class=\"blank level0\" >&nbsp;</th>\n",
       "      <th id=\"T_15da1_level0_col0\" class=\"col_heading level0 col0\" >Model</th>\n",
       "      <th id=\"T_15da1_level0_col1\" class=\"col_heading level0 col1\" >Accuracy</th>\n",
       "      <th id=\"T_15da1_level0_col2\" class=\"col_heading level0 col2\" >AUC</th>\n",
       "      <th id=\"T_15da1_level0_col3\" class=\"col_heading level0 col3\" >Recall</th>\n",
       "      <th id=\"T_15da1_level0_col4\" class=\"col_heading level0 col4\" >Prec.</th>\n",
       "      <th id=\"T_15da1_level0_col5\" class=\"col_heading level0 col5\" >F1</th>\n",
       "      <th id=\"T_15da1_level0_col6\" class=\"col_heading level0 col6\" >Kappa</th>\n",
       "      <th id=\"T_15da1_level0_col7\" class=\"col_heading level0 col7\" >MCC</th>\n",
       "    </tr>\n",
       "  </thead>\n",
       "  <tbody>\n",
       "    <tr>\n",
       "      <th id=\"T_15da1_level0_row0\" class=\"row_heading level0 row0\" >0</th>\n",
       "      <td id=\"T_15da1_row0_col0\" class=\"data row0 col0\" >Light Gradient Boosting Machine</td>\n",
       "      <td id=\"T_15da1_row0_col1\" class=\"data row0 col1\" >0.5823</td>\n",
       "      <td id=\"T_15da1_row0_col2\" class=\"data row0 col2\" >0.5832</td>\n",
       "      <td id=\"T_15da1_row0_col3\" class=\"data row0 col3\" >0.8418</td>\n",
       "      <td id=\"T_15da1_row0_col4\" class=\"data row0 col4\" >0.5948</td>\n",
       "      <td id=\"T_15da1_row0_col5\" class=\"data row0 col5\" >0.6971</td>\n",
       "      <td id=\"T_15da1_row0_col6\" class=\"data row0 col6\" >0.0844</td>\n",
       "      <td id=\"T_15da1_row0_col7\" class=\"data row0 col7\" >0.0988</td>\n",
       "    </tr>\n",
       "  </tbody>\n",
       "</table>\n"
      ],
      "text/plain": [
       "<pandas.io.formats.style.Styler at 0x7f98214b1120>"
      ]
     },
     "metadata": {},
     "output_type": "display_data"
    },
    {
     "data": {
      "text/html": [
       "<style type=\"text/css\">\n",
       "</style>\n",
       "<table id=\"T_346c6\">\n",
       "  <thead>\n",
       "    <tr>\n",
       "      <th class=\"blank level0\" >&nbsp;</th>\n",
       "      <th id=\"T_346c6_level0_col0\" class=\"col_heading level0 col0\" >Model</th>\n",
       "      <th id=\"T_346c6_level0_col1\" class=\"col_heading level0 col1\" >Accuracy</th>\n",
       "      <th id=\"T_346c6_level0_col2\" class=\"col_heading level0 col2\" >AUC</th>\n",
       "      <th id=\"T_346c6_level0_col3\" class=\"col_heading level0 col3\" >Recall</th>\n",
       "      <th id=\"T_346c6_level0_col4\" class=\"col_heading level0 col4\" >Prec.</th>\n",
       "      <th id=\"T_346c6_level0_col5\" class=\"col_heading level0 col5\" >F1</th>\n",
       "      <th id=\"T_346c6_level0_col6\" class=\"col_heading level0 col6\" >Kappa</th>\n",
       "      <th id=\"T_346c6_level0_col7\" class=\"col_heading level0 col7\" >MCC</th>\n",
       "    </tr>\n",
       "  </thead>\n",
       "  <tbody>\n",
       "    <tr>\n",
       "      <th id=\"T_346c6_level0_row0\" class=\"row_heading level0 row0\" >0</th>\n",
       "      <td id=\"T_346c6_row0_col0\" class=\"data row0 col0\" >Random Forest Classifier</td>\n",
       "      <td id=\"T_346c6_row0_col1\" class=\"data row0 col1\" >0.5656</td>\n",
       "      <td id=\"T_346c6_row0_col2\" class=\"data row0 col2\" >0.5550</td>\n",
       "      <td id=\"T_346c6_row0_col3\" class=\"data row0 col3\" >0.7685</td>\n",
       "      <td id=\"T_346c6_row0_col4\" class=\"data row0 col4\" >0.5922</td>\n",
       "      <td id=\"T_346c6_row0_col5\" class=\"data row0 col5\" >0.6689</td>\n",
       "      <td id=\"T_346c6_row0_col6\" class=\"data row0 col6\" >0.0675</td>\n",
       "      <td id=\"T_346c6_row0_col7\" class=\"data row0 col7\" >0.0725</td>\n",
       "    </tr>\n",
       "  </tbody>\n",
       "</table>\n"
      ],
      "text/plain": [
       "<pandas.io.formats.style.Styler at 0x7f98a1aab550>"
      ]
     },
     "metadata": {},
     "output_type": "display_data"
    }
   ],
   "source": [
    "test_prediction_ada, test_prediction_gbc, test_prediction_lightgbm, test_prediction_rf = model.common.batch_predict_and_odds(test_data, [regression_model_ada, regression_model_gbc, regression_model_lightgbm, regression_model_rf])"
   ]
  },
  {
   "cell_type": "code",
   "execution_count": 11,
   "metadata": {
    "execution": {
     "iopub.execute_input": "2023-07-03T23:20:14.853997Z",
     "iopub.status.busy": "2023-07-03T23:20:14.853534Z",
     "iopub.status.idle": "2023-07-03T23:20:14.987751Z",
     "shell.execute_reply": "2023-07-03T23:20:14.985931Z",
     "shell.execute_reply.started": "2023-07-03T23:20:14.853968Z"
    }
   },
   "outputs": [
    {
     "data": {
      "text/html": [
       "<table>\n",
       "<tbody>\n",
       "<tr><td>model   </td><td>0.6        </td><td>0.7        </td><td>0.75       </td><td>0.8       </td><td>0.85      </td></tr>\n",
       "<tr><td>ada     </td><td>(0, nan)   </td><td>(0, nan)   </td><td>(0, nan)   </td><td>(0, nan)  </td><td>(0, nan)  </td></tr>\n",
       "<tr><td>gbc     </td><td>(199, 0.81)</td><td>(143, 0.87)</td><td>(118, 0.89)</td><td>(85, 0.86)</td><td>(46, 0.85)</td></tr>\n",
       "<tr><td>lightgbm</td><td>(205, 0.8) </td><td>(146, 0.83)</td><td>(119, 0.87)</td><td>(89, 0.85)</td><td>(66, 0.86)</td></tr>\n",
       "<tr><td>rf      </td><td>(189, 0.84)</td><td>(122, 0.84)</td><td>(82, 0.88) </td><td>(50, 0.86)</td><td>(24, 0.75)</td></tr>\n",
       "</tbody>\n",
       "</table>"
      ],
      "text/plain": [
       "'<table>\\n<tbody>\\n<tr><td>model   </td><td>0.6        </td><td>0.7        </td><td>0.75       </td><td>0.8       </td><td>0.85      </td></tr>\\n<tr><td>ada     </td><td>(0, nan)   </td><td>(0, nan)   </td><td>(0, nan)   </td><td>(0, nan)  </td><td>(0, nan)  </td></tr>\\n<tr><td>gbc     </td><td>(199, 0.81)</td><td>(143, 0.87)</td><td>(118, 0.89)</td><td>(85, 0.86)</td><td>(46, 0.85)</td></tr>\\n<tr><td>lightgbm</td><td>(205, 0.8) </td><td>(146, 0.83)</td><td>(119, 0.87)</td><td>(89, 0.85)</td><td>(66, 0.86)</td></tr>\\n<tr><td>rf      </td><td>(189, 0.84)</td><td>(122, 0.84)</td><td>(82, 0.88) </td><td>(50, 0.86)</td><td>(24, 0.75)</td></tr>\\n</tbody>\\n</table>'"
      ]
     },
     "execution_count": 11,
     "metadata": {},
     "output_type": "execute_result"
    }
   ],
   "source": [
    "model.common.evaluate_predictions([(test_prediction_ada, \"ada\"), (test_prediction_gbc, \"gbc\"), (test_prediction_lightgbm, \"lightgbm\"), (test_prediction_rf, \"rf\")], [0.6, 0.7, 0.75, 0.8, 0.85], target_column)"
   ]
  },
  {
   "cell_type": "markdown",
   "metadata": {
    "id": "sOfz0zBX994h"
   },
   "source": [
    "**Finalize Model**"
   ]
  },
  {
   "cell_type": "code",
   "execution_count": 12,
   "metadata": {
    "colab": {
     "base_uri": "https://localhost:8080/",
     "height": 34
    },
    "execution": {
     "iopub.execute_input": "2023-08-14T22:34:01.318798Z",
     "iopub.status.busy": "2023-08-14T22:34:01.318387Z",
     "iopub.status.idle": "2023-08-14T22:35:01.248647Z",
     "shell.execute_reply": "2023-08-14T22:35:01.247996Z",
     "shell.execute_reply.started": "2023-08-14T22:34:01.318773Z"
    },
    "id": "gutfxdh8-DKy",
    "outputId": "2e862724-33f5-45f0-ed52-aade46f98c7d"
   },
   "outputs": [],
   "source": [
    "# train over the whole dataset without validation split\n",
    "regression_model_finalized_ada = pycaret.classification.finalize_model(regression_model_ada)\n",
    "regression_model_finalized_gbc = pycaret.classification.finalize_model(regression_model_gbc)\n",
    "regression_model_finalized_lightgbm = pycaret.classification.finalize_model(regression_model_lightgbm)\n",
    "regression_model_finalized_rf = pycaret.classification.finalize_model(regression_model_rf)"
   ]
  },
  {
   "cell_type": "code",
   "execution_count": 14,
   "metadata": {
    "execution": {
     "iopub.execute_input": "2023-08-14T22:36:24.025801Z",
     "iopub.status.busy": "2023-08-14T22:36:24.025319Z",
     "iopub.status.idle": "2023-08-14T22:36:25.153207Z",
     "shell.execute_reply": "2023-08-14T22:36:25.152502Z",
     "shell.execute_reply.started": "2023-08-14T22:36:24.025786Z"
    }
   },
   "outputs": [
    {
     "data": {
      "text/html": [
       "<style type=\"text/css\">\n",
       "</style>\n",
       "<table id=\"T_f7b3a\">\n",
       "  <thead>\n",
       "    <tr>\n",
       "      <th class=\"blank level0\" >&nbsp;</th>\n",
       "      <th id=\"T_f7b3a_level0_col0\" class=\"col_heading level0 col0\" >Model</th>\n",
       "      <th id=\"T_f7b3a_level0_col1\" class=\"col_heading level0 col1\" >Accuracy</th>\n",
       "      <th id=\"T_f7b3a_level0_col2\" class=\"col_heading level0 col2\" >AUC</th>\n",
       "      <th id=\"T_f7b3a_level0_col3\" class=\"col_heading level0 col3\" >Recall</th>\n",
       "      <th id=\"T_f7b3a_level0_col4\" class=\"col_heading level0 col4\" >Prec.</th>\n",
       "      <th id=\"T_f7b3a_level0_col5\" class=\"col_heading level0 col5\" >F1</th>\n",
       "      <th id=\"T_f7b3a_level0_col6\" class=\"col_heading level0 col6\" >Kappa</th>\n",
       "      <th id=\"T_f7b3a_level0_col7\" class=\"col_heading level0 col7\" >MCC</th>\n",
       "    </tr>\n",
       "  </thead>\n",
       "  <tbody>\n",
       "    <tr>\n",
       "      <th id=\"T_f7b3a_level0_row0\" class=\"row_heading level0 row0\" >0</th>\n",
       "      <td id=\"T_f7b3a_row0_col0\" class=\"data row0 col0\" >Ada Boost Classifier</td>\n",
       "      <td id=\"T_f7b3a_row0_col1\" class=\"data row0 col1\" >0.5802</td>\n",
       "      <td id=\"T_f7b3a_row0_col2\" class=\"data row0 col2\" >0.5785</td>\n",
       "      <td id=\"T_f7b3a_row0_col3\" class=\"data row0 col3\" >0.8544</td>\n",
       "      <td id=\"T_f7b3a_row0_col4\" class=\"data row0 col4\" >0.5917</td>\n",
       "      <td id=\"T_f7b3a_row0_col5\" class=\"data row0 col5\" >0.6992</td>\n",
       "      <td id=\"T_f7b3a_row0_col6\" class=\"data row0 col6\" >0.0750</td>\n",
       "      <td id=\"T_f7b3a_row0_col7\" class=\"data row0 col7\" >0.0905</td>\n",
       "    </tr>\n",
       "  </tbody>\n",
       "</table>\n"
      ],
      "text/plain": [
       "<pandas.io.formats.style.Styler at 0x7f9820571cc0>"
      ]
     },
     "metadata": {},
     "output_type": "display_data"
    },
    {
     "data": {
      "text/html": [
       "<style type=\"text/css\">\n",
       "</style>\n",
       "<table id=\"T_38eaf\">\n",
       "  <thead>\n",
       "    <tr>\n",
       "      <th class=\"blank level0\" >&nbsp;</th>\n",
       "      <th id=\"T_38eaf_level0_col0\" class=\"col_heading level0 col0\" >Model</th>\n",
       "      <th id=\"T_38eaf_level0_col1\" class=\"col_heading level0 col1\" >Accuracy</th>\n",
       "      <th id=\"T_38eaf_level0_col2\" class=\"col_heading level0 col2\" >AUC</th>\n",
       "      <th id=\"T_38eaf_level0_col3\" class=\"col_heading level0 col3\" >Recall</th>\n",
       "      <th id=\"T_38eaf_level0_col4\" class=\"col_heading level0 col4\" >Prec.</th>\n",
       "      <th id=\"T_38eaf_level0_col5\" class=\"col_heading level0 col5\" >F1</th>\n",
       "      <th id=\"T_38eaf_level0_col6\" class=\"col_heading level0 col6\" >Kappa</th>\n",
       "      <th id=\"T_38eaf_level0_col7\" class=\"col_heading level0 col7\" >MCC</th>\n",
       "    </tr>\n",
       "  </thead>\n",
       "  <tbody>\n",
       "    <tr>\n",
       "      <th id=\"T_38eaf_level0_row0\" class=\"row_heading level0 row0\" >0</th>\n",
       "      <td id=\"T_38eaf_row0_col0\" class=\"data row0 col0\" >Gradient Boosting Classifier</td>\n",
       "      <td id=\"T_38eaf_row0_col1\" class=\"data row0 col1\" >0.5830</td>\n",
       "      <td id=\"T_38eaf_row0_col2\" class=\"data row0 col2\" >0.5863</td>\n",
       "      <td id=\"T_38eaf_row0_col3\" class=\"data row0 col3\" >0.8584</td>\n",
       "      <td id=\"T_38eaf_row0_col4\" class=\"data row0 col4\" >0.5932</td>\n",
       "      <td id=\"T_38eaf_row0_col5\" class=\"data row0 col5\" >0.7016</td>\n",
       "      <td id=\"T_38eaf_row0_col6\" class=\"data row0 col6\" >0.0808</td>\n",
       "      <td id=\"T_38eaf_row0_col7\" class=\"data row0 col7\" >0.0977</td>\n",
       "    </tr>\n",
       "  </tbody>\n",
       "</table>\n"
      ],
      "text/plain": [
       "<pandas.io.formats.style.Styler at 0x7f9806cfdff0>"
      ]
     },
     "metadata": {},
     "output_type": "display_data"
    },
    {
     "data": {
      "text/html": [
       "<style type=\"text/css\">\n",
       "</style>\n",
       "<table id=\"T_20d01\">\n",
       "  <thead>\n",
       "    <tr>\n",
       "      <th class=\"blank level0\" >&nbsp;</th>\n",
       "      <th id=\"T_20d01_level0_col0\" class=\"col_heading level0 col0\" >Model</th>\n",
       "      <th id=\"T_20d01_level0_col1\" class=\"col_heading level0 col1\" >Accuracy</th>\n",
       "      <th id=\"T_20d01_level0_col2\" class=\"col_heading level0 col2\" >AUC</th>\n",
       "      <th id=\"T_20d01_level0_col3\" class=\"col_heading level0 col3\" >Recall</th>\n",
       "      <th id=\"T_20d01_level0_col4\" class=\"col_heading level0 col4\" >Prec.</th>\n",
       "      <th id=\"T_20d01_level0_col5\" class=\"col_heading level0 col5\" >F1</th>\n",
       "      <th id=\"T_20d01_level0_col6\" class=\"col_heading level0 col6\" >Kappa</th>\n",
       "      <th id=\"T_20d01_level0_col7\" class=\"col_heading level0 col7\" >MCC</th>\n",
       "    </tr>\n",
       "  </thead>\n",
       "  <tbody>\n",
       "    <tr>\n",
       "      <th id=\"T_20d01_level0_row0\" class=\"row_heading level0 row0\" >0</th>\n",
       "      <td id=\"T_20d01_row0_col0\" class=\"data row0 col0\" >Light Gradient Boosting Machine</td>\n",
       "      <td id=\"T_20d01_row0_col1\" class=\"data row0 col1\" >0.5813</td>\n",
       "      <td id=\"T_20d01_row0_col2\" class=\"data row0 col2\" >0.5810</td>\n",
       "      <td id=\"T_20d01_row0_col3\" class=\"data row0 col3\" >0.8416</td>\n",
       "      <td id=\"T_20d01_row0_col4\" class=\"data row0 col4\" >0.5942</td>\n",
       "      <td id=\"T_20d01_row0_col5\" class=\"data row0 col5\" >0.6966</td>\n",
       "      <td id=\"T_20d01_row0_col6\" class=\"data row0 col6\" >0.0821</td>\n",
       "      <td id=\"T_20d01_row0_col7\" class=\"data row0 col7\" >0.0962</td>\n",
       "    </tr>\n",
       "  </tbody>\n",
       "</table>\n"
      ],
      "text/plain": [
       "<pandas.io.formats.style.Styler at 0x7f987ca4ce50>"
      ]
     },
     "metadata": {},
     "output_type": "display_data"
    },
    {
     "data": {
      "text/html": [
       "<style type=\"text/css\">\n",
       "</style>\n",
       "<table id=\"T_593f4\">\n",
       "  <thead>\n",
       "    <tr>\n",
       "      <th class=\"blank level0\" >&nbsp;</th>\n",
       "      <th id=\"T_593f4_level0_col0\" class=\"col_heading level0 col0\" >Model</th>\n",
       "      <th id=\"T_593f4_level0_col1\" class=\"col_heading level0 col1\" >Accuracy</th>\n",
       "      <th id=\"T_593f4_level0_col2\" class=\"col_heading level0 col2\" >AUC</th>\n",
       "      <th id=\"T_593f4_level0_col3\" class=\"col_heading level0 col3\" >Recall</th>\n",
       "      <th id=\"T_593f4_level0_col4\" class=\"col_heading level0 col4\" >Prec.</th>\n",
       "      <th id=\"T_593f4_level0_col5\" class=\"col_heading level0 col5\" >F1</th>\n",
       "      <th id=\"T_593f4_level0_col6\" class=\"col_heading level0 col6\" >Kappa</th>\n",
       "      <th id=\"T_593f4_level0_col7\" class=\"col_heading level0 col7\" >MCC</th>\n",
       "    </tr>\n",
       "  </thead>\n",
       "  <tbody>\n",
       "    <tr>\n",
       "      <th id=\"T_593f4_level0_row0\" class=\"row_heading level0 row0\" >0</th>\n",
       "      <td id=\"T_593f4_row0_col0\" class=\"data row0 col0\" >Random Forest Classifier</td>\n",
       "      <td id=\"T_593f4_row0_col1\" class=\"data row0 col1\" >0.5651</td>\n",
       "      <td id=\"T_593f4_row0_col2\" class=\"data row0 col2\" >0.5581</td>\n",
       "      <td id=\"T_593f4_row0_col3\" class=\"data row0 col3\" >0.7667</td>\n",
       "      <td id=\"T_593f4_row0_col4\" class=\"data row0 col4\" >0.5920</td>\n",
       "      <td id=\"T_593f4_row0_col5\" class=\"data row0 col5\" >0.6681</td>\n",
       "      <td id=\"T_593f4_row0_col6\" class=\"data row0 col6\" >0.0667</td>\n",
       "      <td id=\"T_593f4_row0_col7\" class=\"data row0 col7\" >0.0716</td>\n",
       "    </tr>\n",
       "  </tbody>\n",
       "</table>\n"
      ],
      "text/plain": [
       "<pandas.io.formats.style.Styler at 0x7f9806d2cb20>"
      ]
     },
     "metadata": {},
     "output_type": "display_data"
    }
   ],
   "source": [
    "test_finalized_prediction_ada, test_finalized_prediction_gbc, test_finalized_prediction_lightgbm, test_finalized_prediction_rf = model.common.batch_predict_and_odds(\n",
    "    test_data, \n",
    "    [regression_model_finalized_ada, regression_model_finalized_gbc, regression_model_finalized_lightgbm, regression_model_finalized_rf])"
   ]
  },
  {
   "cell_type": "code",
   "execution_count": 15,
   "metadata": {
    "execution": {
     "iopub.execute_input": "2023-08-14T22:36:25.154853Z",
     "iopub.status.busy": "2023-08-14T22:36:25.154507Z",
     "iopub.status.idle": "2023-08-14T22:36:25.235816Z",
     "shell.execute_reply": "2023-08-14T22:36:25.234957Z",
     "shell.execute_reply.started": "2023-08-14T22:36:25.154827Z"
    }
   },
   "outputs": [
    {
     "data": {
      "text/html": [
       "<table>\n",
       "<tbody>\n",
       "<tr><td>model   </td><td>0.6        </td><td>0.7       </td><td>0.75    </td><td>0.8     </td><td>0.85    </td></tr>\n",
       "<tr><td>ada     </td><td>(0, nan)   </td><td>(0, nan)  </td><td>(0, nan)</td><td>(0, nan)</td><td>(0, nan)</td></tr>\n",
       "<tr><td>gbc     </td><td>(127, 0.68)</td><td>(5, 1.0)  </td><td>(0, nan)</td><td>(0, nan)</td><td>(0, nan)</td></tr>\n",
       "<tr><td>lightgbm</td><td>(124, 0.67)</td><td>(7, 0.86) </td><td>(0, nan)</td><td>(0, nan)</td><td>(0, nan)</td></tr>\n",
       "<tr><td>rf      </td><td>(120, 0.61)</td><td>(22, 0.91)</td><td>(6, 1.0)</td><td>(2, 1.0)</td><td>(1, 1.0)</td></tr>\n",
       "</tbody>\n",
       "</table>"
      ],
      "text/plain": [
       "'<table>\\n<tbody>\\n<tr><td>model   </td><td>0.6        </td><td>0.7       </td><td>0.75    </td><td>0.8     </td><td>0.85    </td></tr>\\n<tr><td>ada     </td><td>(0, nan)   </td><td>(0, nan)  </td><td>(0, nan)</td><td>(0, nan)</td><td>(0, nan)</td></tr>\\n<tr><td>gbc     </td><td>(127, 0.68)</td><td>(5, 1.0)  </td><td>(0, nan)</td><td>(0, nan)</td><td>(0, nan)</td></tr>\\n<tr><td>lightgbm</td><td>(124, 0.67)</td><td>(7, 0.86) </td><td>(0, nan)</td><td>(0, nan)</td><td>(0, nan)</td></tr>\\n<tr><td>rf      </td><td>(120, 0.61)</td><td>(22, 0.91)</td><td>(6, 1.0)</td><td>(2, 1.0)</td><td>(1, 1.0)</td></tr>\\n</tbody>\\n</table>'"
      ]
     },
     "execution_count": 15,
     "metadata": {},
     "output_type": "execute_result"
    }
   ],
   "source": [
    "model.common.evaluate_predictions([(test_finalized_prediction_ada, \"ada\"), (test_finalized_prediction_gbc, \"gbc\"), (test_finalized_prediction_lightgbm, \"lightgbm\"), (test_finalized_prediction_rf, \"rf\")], [0.6, 0.7, 0.75, 0.8, 0.85], target_column)"
   ]
  },
  {
   "cell_type": "markdown",
   "metadata": {},
   "source": [
    "**Save Model**"
   ]
  },
  {
   "cell_type": "code",
   "execution_count": 16,
   "metadata": {
    "execution": {
     "iopub.execute_input": "2023-08-14T22:37:00.965179Z",
     "iopub.status.busy": "2023-08-14T22:37:00.964854Z",
     "iopub.status.idle": "2023-08-14T22:37:01.986699Z",
     "shell.execute_reply": "2023-08-14T22:37:01.986125Z",
     "shell.execute_reply.started": "2023-08-14T22:37:00.965156Z"
    }
   },
   "outputs": [
    {
     "name": "stdout",
     "output_type": "stream",
     "text": [
      "Transformation Pipeline and Model Successfully Saved\n"
     ]
    },
    {
     "data": {
      "text/plain": [
       "(Pipeline(memory=FastMemory(location=/tmp/joblib),\n",
       "          steps=[('numerical_imputer',\n",
       "                  TransformerWrapper(exclude=None,\n",
       "                                     include=['pitching_gamesPlayed',\n",
       "                                              'pitching_runs_per_game',\n",
       "                                              'pitching_strikeOuts_per_game',\n",
       "                                              'pitching_hits_per_game',\n",
       "                                              'batting_gamesPlayed',\n",
       "                                              'batting_runs_per_game',\n",
       "                                              'batting_strikeOuts_per_game',\n",
       "                                              'batting_hits_per_game',\n",
       "                                              'batting_rbi', 'temp'],\n",
       "                                     transf...\n",
       "                                                                                         random_state=532,\n",
       "                                                                                         verbose=0,\n",
       "                                                                                         warm_start=False),\n",
       "                                                       criterion='gini',\n",
       "                                                       max_depth=None,\n",
       "                                                       max_features='sqrt',\n",
       "                                                       max_leaf_nodes=None,\n",
       "                                                       max_samples=None,\n",
       "                                                       min_impurity_decrease=0.0,\n",
       "                                                       min_samples_leaf=1,\n",
       "                                                       min_samples_split=2,\n",
       "                                                       min_weight_fraction_leaf=0.0,\n",
       "                                                       n_estimators=100,\n",
       "                                                       n_jobs=-1,\n",
       "                                                       oob_score=False,\n",
       "                                                       probability_threshold=0.5,\n",
       "                                                       random_state=532,\n",
       "                                                       verbose=0,\n",
       "                                                       warm_start=False))],\n",
       "          verbose=False),\n",
       " 'model/batter_1hits_regression_model.pkl')"
      ]
     },
     "execution_count": 16,
     "metadata": {},
     "output_type": "execute_result"
    }
   ],
   "source": [
    "pycaret.classification.save_model(regression_model_finalized_rf, model_file_name)"
   ]
  },
  {
   "cell_type": "code",
   "execution_count": null,
   "metadata": {},
   "outputs": [],
   "source": []
  }
 ],
 "metadata": {
  "colab": {
   "provenance": []
  },
  "kernelspec": {
   "display_name": "Python 3 (ipykernel)",
   "language": "python",
   "name": "python3"
  },
  "language_info": {
   "codemirror_mode": {
    "name": "ipython",
    "version": 3
   },
   "file_extension": ".py",
   "mimetype": "text/x-python",
   "name": "python",
   "nbconvert_exporter": "python",
   "pygments_lexer": "ipython3",
   "version": "3.10.6"
  },
  "widgets": {
   "application/vnd.jupyter.widget-state+json": {
    "1ac32fe9102d4f5a9d1511e64a1d5e5d": {
     "model_module": "@jupyter-widgets/base",
     "model_module_version": "1.2.0",
     "model_name": "LayoutModel",
     "state": {
      "_model_module": "@jupyter-widgets/base",
      "_model_module_version": "1.2.0",
      "_model_name": "LayoutModel",
      "_view_count": null,
      "_view_module": "@jupyter-widgets/base",
      "_view_module_version": "1.2.0",
      "_view_name": "LayoutView",
      "align_content": null,
      "align_items": null,
      "align_self": null,
      "border": null,
      "bottom": null,
      "display": null,
      "flex": null,
      "flex_flow": null,
      "grid_area": null,
      "grid_auto_columns": null,
      "grid_auto_flow": null,
      "grid_auto_rows": null,
      "grid_column": null,
      "grid_gap": null,
      "grid_row": null,
      "grid_template_areas": null,
      "grid_template_columns": null,
      "grid_template_rows": null,
      "height": null,
      "justify_content": null,
      "justify_items": null,
      "left": null,
      "margin": null,
      "max_height": null,
      "max_width": null,
      "min_height": null,
      "min_width": null,
      "object_fit": null,
      "object_position": null,
      "order": null,
      "overflow": null,
      "overflow_x": null,
      "overflow_y": null,
      "padding": null,
      "right": null,
      "top": null,
      "visibility": null,
      "width": null
     }
    },
    "40b50c57e470496cb6c94a0693636fd7": {
     "model_module": "@jupyter-widgets/base",
     "model_module_version": "1.2.0",
     "model_name": "LayoutModel",
     "state": {
      "_model_module": "@jupyter-widgets/base",
      "_model_module_version": "1.2.0",
      "_model_name": "LayoutModel",
      "_view_count": null,
      "_view_module": "@jupyter-widgets/base",
      "_view_module_version": "1.2.0",
      "_view_name": "LayoutView",
      "align_content": null,
      "align_items": null,
      "align_self": null,
      "border": null,
      "bottom": null,
      "display": null,
      "flex": null,
      "flex_flow": null,
      "grid_area": null,
      "grid_auto_columns": null,
      "grid_auto_flow": null,
      "grid_auto_rows": null,
      "grid_column": null,
      "grid_gap": null,
      "grid_row": null,
      "grid_template_areas": null,
      "grid_template_columns": null,
      "grid_template_rows": null,
      "height": null,
      "justify_content": null,
      "justify_items": null,
      "left": null,
      "margin": null,
      "max_height": null,
      "max_width": null,
      "min_height": null,
      "min_width": null,
      "object_fit": null,
      "object_position": null,
      "order": null,
      "overflow": null,
      "overflow_x": null,
      "overflow_y": null,
      "padding": null,
      "right": null,
      "top": null,
      "visibility": "hidden",
      "width": null
     }
    },
    "46b9d3b6cd6e4f76a42dd4f216dc1644": {
     "model_module": "@jupyter-widgets/controls",
     "model_module_version": "1.5.0",
     "model_name": "HBoxModel",
     "state": {
      "_dom_classes": [],
      "_model_module": "@jupyter-widgets/controls",
      "_model_module_version": "1.5.0",
      "_model_name": "HBoxModel",
      "_view_count": null,
      "_view_module": "@jupyter-widgets/controls",
      "_view_module_version": "1.5.0",
      "_view_name": "HBoxView",
      "box_style": "",
      "children": [
       "IPY_MODEL_cfce22755aa7471a87151793e633def1",
       "IPY_MODEL_94d7b3dc65544425b2463933c4108fa4",
       "IPY_MODEL_f92582f04a594f87a669f3c1c4d4eabc"
      ],
      "layout": "IPY_MODEL_40b50c57e470496cb6c94a0693636fd7"
     }
    },
    "4efa6d0ab419418ea9e4991c77b1ec42": {
     "model_module": "@jupyter-widgets/controls",
     "model_module_version": "1.5.0",
     "model_name": "ProgressStyleModel",
     "state": {
      "_model_module": "@jupyter-widgets/controls",
      "_model_module_version": "1.5.0",
      "_model_name": "ProgressStyleModel",
      "_view_count": null,
      "_view_module": "@jupyter-widgets/base",
      "_view_module_version": "1.2.0",
      "_view_name": "StyleView",
      "bar_color": null,
      "description_width": ""
     }
    },
    "81feddb738c64cbc8b7dbc7aec2730de": {
     "model_module": "@jupyter-widgets/controls",
     "model_module_version": "1.5.0",
     "model_name": "DescriptionStyleModel",
     "state": {
      "_model_module": "@jupyter-widgets/controls",
      "_model_module_version": "1.5.0",
      "_model_name": "DescriptionStyleModel",
      "_view_count": null,
      "_view_module": "@jupyter-widgets/base",
      "_view_module_version": "1.2.0",
      "_view_name": "StyleView",
      "description_width": ""
     }
    },
    "94d7b3dc65544425b2463933c4108fa4": {
     "model_module": "@jupyter-widgets/controls",
     "model_module_version": "1.5.0",
     "model_name": "FloatProgressModel",
     "state": {
      "_dom_classes": [],
      "_model_module": "@jupyter-widgets/controls",
      "_model_module_version": "1.5.0",
      "_model_name": "FloatProgressModel",
      "_view_count": null,
      "_view_module": "@jupyter-widgets/controls",
      "_view_module_version": "1.5.0",
      "_view_name": "ProgressView",
      "bar_style": "",
      "description": "",
      "description_tooltip": null,
      "layout": "IPY_MODEL_eb74dfbcca4a458eb81d87fbae5bf166",
      "max": 4,
      "min": 0,
      "orientation": "horizontal",
      "style": "IPY_MODEL_4efa6d0ab419418ea9e4991c77b1ec42",
      "value": 4
     }
    },
    "bec03081ad154466a3a0abca5a8462f4": {
     "model_module": "@jupyter-widgets/base",
     "model_module_version": "1.2.0",
     "model_name": "LayoutModel",
     "state": {
      "_model_module": "@jupyter-widgets/base",
      "_model_module_version": "1.2.0",
      "_model_name": "LayoutModel",
      "_view_count": null,
      "_view_module": "@jupyter-widgets/base",
      "_view_module_version": "1.2.0",
      "_view_name": "LayoutView",
      "align_content": null,
      "align_items": null,
      "align_self": null,
      "border": null,
      "bottom": null,
      "display": null,
      "flex": null,
      "flex_flow": null,
      "grid_area": null,
      "grid_auto_columns": null,
      "grid_auto_flow": null,
      "grid_auto_rows": null,
      "grid_column": null,
      "grid_gap": null,
      "grid_row": null,
      "grid_template_areas": null,
      "grid_template_columns": null,
      "grid_template_rows": null,
      "height": null,
      "justify_content": null,
      "justify_items": null,
      "left": null,
      "margin": null,
      "max_height": null,
      "max_width": null,
      "min_height": null,
      "min_width": null,
      "object_fit": null,
      "object_position": null,
      "order": null,
      "overflow": null,
      "overflow_x": null,
      "overflow_y": null,
      "padding": null,
      "right": null,
      "top": null,
      "visibility": null,
      "width": null
     }
    },
    "cfcd697393754f1d93106a2d6e07ea05": {
     "model_module": "@jupyter-widgets/controls",
     "model_module_version": "1.5.0",
     "model_name": "DescriptionStyleModel",
     "state": {
      "_model_module": "@jupyter-widgets/controls",
      "_model_module_version": "1.5.0",
      "_model_name": "DescriptionStyleModel",
      "_view_count": null,
      "_view_module": "@jupyter-widgets/base",
      "_view_module_version": "1.2.0",
      "_view_name": "StyleView",
      "description_width": ""
     }
    },
    "cfce22755aa7471a87151793e633def1": {
     "model_module": "@jupyter-widgets/controls",
     "model_module_version": "1.5.0",
     "model_name": "HTMLModel",
     "state": {
      "_dom_classes": [],
      "_model_module": "@jupyter-widgets/controls",
      "_model_module_version": "1.5.0",
      "_model_name": "HTMLModel",
      "_view_count": null,
      "_view_module": "@jupyter-widgets/controls",
      "_view_module_version": "1.5.0",
      "_view_name": "HTMLView",
      "description": "",
      "description_tooltip": null,
      "layout": "IPY_MODEL_bec03081ad154466a3a0abca5a8462f4",
      "placeholder": "​",
      "style": "IPY_MODEL_81feddb738c64cbc8b7dbc7aec2730de",
      "value": "Processing: 100%"
     }
    },
    "eb74dfbcca4a458eb81d87fbae5bf166": {
     "model_module": "@jupyter-widgets/base",
     "model_module_version": "1.2.0",
     "model_name": "LayoutModel",
     "state": {
      "_model_module": "@jupyter-widgets/base",
      "_model_module_version": "1.2.0",
      "_model_name": "LayoutModel",
      "_view_count": null,
      "_view_module": "@jupyter-widgets/base",
      "_view_module_version": "1.2.0",
      "_view_name": "LayoutView",
      "align_content": null,
      "align_items": null,
      "align_self": null,
      "border": null,
      "bottom": null,
      "display": null,
      "flex": null,
      "flex_flow": null,
      "grid_area": null,
      "grid_auto_columns": null,
      "grid_auto_flow": null,
      "grid_auto_rows": null,
      "grid_column": null,
      "grid_gap": null,
      "grid_row": null,
      "grid_template_areas": null,
      "grid_template_columns": null,
      "grid_template_rows": null,
      "height": null,
      "justify_content": null,
      "justify_items": null,
      "left": null,
      "margin": null,
      "max_height": null,
      "max_width": null,
      "min_height": null,
      "min_width": null,
      "object_fit": null,
      "object_position": null,
      "order": null,
      "overflow": null,
      "overflow_x": null,
      "overflow_y": null,
      "padding": null,
      "right": null,
      "top": null,
      "visibility": null,
      "width": null
     }
    },
    "f92582f04a594f87a669f3c1c4d4eabc": {
     "model_module": "@jupyter-widgets/controls",
     "model_module_version": "1.5.0",
     "model_name": "HTMLModel",
     "state": {
      "_dom_classes": [],
      "_model_module": "@jupyter-widgets/controls",
      "_model_module_version": "1.5.0",
      "_model_name": "HTMLModel",
      "_view_count": null,
      "_view_module": "@jupyter-widgets/controls",
      "_view_module_version": "1.5.0",
      "_view_name": "HTMLView",
      "description": "",
      "description_tooltip": null,
      "layout": "IPY_MODEL_1ac32fe9102d4f5a9d1511e64a1d5e5d",
      "placeholder": "​",
      "style": "IPY_MODEL_cfcd697393754f1d93106a2d6e07ea05",
      "value": " 4/4 [00:10&lt;00:00,  2.34s/it]"
     }
    }
   }
  }
 },
 "nbformat": 4,
 "nbformat_minor": 4
}
